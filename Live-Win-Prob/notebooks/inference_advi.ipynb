{
 "cells": [
  {
   "cell_type": "code",
   "execution_count": null,
   "metadata": {},
   "outputs": [],
   "source": [
    "import pymc3 as pm\n",
    "import math\n",
    "import numpy as np\n",
    "import theano\n",
    "import arviz as az\n",
    "import pandas as pd\n",
    "\n",
    "np.random.seed(42)\n",
    "pm.set_tt_rng(42)"
   ]
  },
  {
   "cell_type": "markdown",
   "metadata": {},
   "source": [
    "## Away Model and Data"
   ]
  },
  {
   "cell_type": "code",
   "execution_count": null,
   "metadata": {},
   "outputs": [],
   "source": [
    "away_data = pd.read_csv(\"/home/morten/Develop/Live-Win-Prob/data/all_games_away.csv\")\n",
    "print(away_data.head())\n",
    "print(away_data.shape)"
   ]
  },
  {
   "cell_type": "code",
   "execution_count": null,
   "metadata": {},
   "outputs": [],
   "source": [
    "T_away = np.arange(100)\n",
    "N_away = np.arange(950)\n",
    "TN_away = np.empty((100, 950))\n",
    "R_away = np.empty((100, 950))\n",
    "X_away = np.empty((100, 9, 950))\n",
    "t_away = TN_away.copy()"
   ]
  },
  {
   "cell_type": "code",
   "execution_count": null,
   "metadata": {},
   "outputs": [],
   "source": [
    "## create X\n",
    "for i, row in away_data.iterrows():\n",
    "    if int(i / 100) < 950:\n",
    "        for x in range(len(row)):\n",
    "            if x == 9:\n",
    "                continue\n",
    "            X_away[int(row[0])][x][int(i / 100)] = row[x]\n",
    "\n",
    "# X = X.reshape(X.shape[0]*X.shape[1], X.shape[2])\n",
    "X_away.shape"
   ]
  },
  {
   "cell_type": "code",
   "execution_count": null,
   "metadata": {},
   "outputs": [],
   "source": [
    "## create t\n",
    "for x in T_away:\n",
    "    for y in N_away:\n",
    "        t_away[x][y] = x\n",
    "\n",
    "t_away.shape"
   ]
  },
  {
   "cell_type": "code",
   "execution_count": null,
   "metadata": {},
   "outputs": [],
   "source": [
    "## create R\n",
    "for i, row in away_data.iterrows():\n",
    "    if int(i / 100) < 950:\n",
    "        R_away[int(row[0])][int(i / 100)] = int(row[9])\n",
    "\n",
    "R_away.shape"
   ]
  },
  {
   "cell_type": "code",
   "execution_count": null,
   "metadata": {},
   "outputs": [],
   "source": [
    "with pm.Model() as away_model:\n",
    "    at = pm.Normal(\"at\", mu=0, sigma=math.sqrt(2), shape=(100, 9))\n",
    "    # at = pm.GaussianRandomWalk(\"at\", mu=0, sigma=math.sqrt(2), shape=(100,9))\n",
    "    beta = pm.Normal(\"beta\", mu=0, sigma=math.sqrt(2), shape=(100))\n",
    "\n",
    "    data = pm.Data(\"data\", X_away)\n",
    "    theta = pm.invlogit((at[:, :, None] * data).sum(axis=1) + beta)\n",
    "    # theta = pm.invlogit(pm.math.dot(at, xt_theano) + beta)\n",
    "\n",
    "    like = pm.Poisson(\"like\", (100 - t_away) * theta, observed=R_away)\n",
    "\n",
    "pm.model_to_graphviz(away_model)"
   ]
  },
  {
   "cell_type": "code",
   "execution_count": null,
   "metadata": {},
   "outputs": [],
   "source": [
    "with away_model:\n",
    "    approx = pm.fit(\n",
    "        100000, callbacks=[pm.callbacks.CheckParametersConvergence(tolerance=1e-4)]\n",
    "    )\n",
    "    idata_advi = az.from_pymc3(approx.sample(500))"
   ]
  },
  {
   "cell_type": "code",
   "execution_count": null,
   "metadata": {},
   "outputs": [],
   "source": [
    "with away_model:\n",
    "    az.plot_trace(idata_advi)"
   ]
  },
  {
   "cell_type": "code",
   "execution_count": null,
   "metadata": {},
   "outputs": [],
   "source": [
    "# save away trace\n",
    "with away_model:\n",
    "    idata_advi.to_netcdf(\n",
    "        \"/home/morten/Develop/Live-Win-Prob/models/random_walk_only_theta.nc\"\n",
    "    )"
   ]
  },
  {
   "cell_type": "markdown",
   "metadata": {},
   "source": [
    "## Home and Data"
   ]
  },
  {
   "cell_type": "code",
   "execution_count": null,
   "metadata": {},
   "outputs": [],
   "source": [
    "home_data = pd.read_csv(\"/home/morten/Develop/Live-Win-Prob/data/all_games_home.csv\")\n",
    "print(home_data.head())\n",
    "print(home_data.shape)"
   ]
  },
  {
   "cell_type": "code",
   "execution_count": null,
   "metadata": {},
   "outputs": [],
   "source": [
    "T_home = np.arange(100)\n",
    "N_home = np.arange(950)\n",
    "TN_home = np.empty((100, 950))\n",
    "R_home = np.empty((100, 950))\n",
    "X_home = np.empty((100, 9, 950))\n",
    "t_home = TN_home.copy()"
   ]
  },
  {
   "cell_type": "code",
   "execution_count": null,
   "metadata": {},
   "outputs": [],
   "source": [
    "## create X\n",
    "for i, row in home_data.iterrows():\n",
    "    if int(i / 100) < 950:\n",
    "        for x in range(len(row)):\n",
    "            if x == 9:\n",
    "                continue\n",
    "            X_home[int(row[0])][x][int(i / 100)] = row[x]\n",
    "\n",
    "# X = X.reshape(X.shape[0]*X.shape[1], X.shape[2])\n",
    "X_home.shape"
   ]
  },
  {
   "cell_type": "code",
   "execution_count": null,
   "metadata": {},
   "outputs": [],
   "source": [
    "## create t\n",
    "for x in T_home:\n",
    "    for y in N_home:\n",
    "        t_home[x][y] = x\n",
    "\n",
    "t_home.shape"
   ]
  },
  {
   "cell_type": "code",
   "execution_count": null,
   "metadata": {},
   "outputs": [],
   "source": [
    "## create R\n",
    "for i, row in home_data.iterrows():\n",
    "    if int(i / 100) < 950:\n",
    "        R_home[int(row[0])][int(i / 100)] = int(row[9])\n",
    "\n",
    "R_home.shape"
   ]
  },
  {
   "cell_type": "code",
   "execution_count": null,
   "metadata": {},
   "outputs": [],
   "source": [
    "with pm.Model() as home_model:\n",
    "    ha = pm.Normal(\"ha\", mu=0, sigma=math.sqrt(2))\n",
    "    # at = pm.Normal(\"at\", mu=0, sigma=math.sqrt(2), shape=(100,8))\n",
    "    at = pm.GaussianRandomWalk(\"at\", mu=0, sigma=math.sqrt(2), shape=(100, 9))\n",
    "    beta = pm.Normal(\"beta\", mu=0, sigma=math.sqrt(2))\n",
    "\n",
    "    data = pm.Data(\"data\", X_home)\n",
    "    theta = pm.invlogit((at[:, :, None] * data).sum(axis=1) + beta + ha)\n",
    "    # theta = pm.invlogit(pm.math.dot(at, xt_theano) + beta)\n",
    "\n",
    "    like = pm.Poisson(\"like\", (100 - t_home) * theta, observed=R_home)\n",
    "\n",
    "pm.model_to_graphviz(home_model)"
   ]
  },
  {
   "cell_type": "code",
   "execution_count": null,
   "metadata": {},
   "outputs": [],
   "source": [
    "with home_model:\n",
    "    approx_home = pm.fit(\n",
    "        100000,\n",
    "        model=home_model,\n",
    "        callbacks=[pm.callbacks.CheckParametersConvergence(tolerance=1e-4)],\n",
    "    )\n",
    "    idata_advi_home = az.from_pymc3(approx_home.sample(500))"
   ]
  },
  {
   "cell_type": "code",
   "execution_count": null,
   "metadata": {},
   "outputs": [],
   "source": [
    "with home_model:\n",
    "    az.plot_trace(idata_advi_home)"
   ]
  },
  {
   "cell_type": "code",
   "execution_count": null,
   "metadata": {},
   "outputs": [],
   "source": [
    "# save away trace\n",
    "with home_model:\n",
    "    idata_advi_home.to_netcdf(\n",
    "        \"/home/morten/Develop/Live-Win-Prob/models/random_walk_home_only_theta.nc\"\n",
    "    )"
   ]
  },
  {
   "cell_type": "code",
   "execution_count": null,
   "metadata": {},
   "outputs": [],
   "source": []
  }
 ],
 "metadata": {
  "kernelspec": {
   "display_name": "packing-report",
   "language": "python",
   "name": "python3"
  },
  "language_info": {
   "codemirror_mode": {
    "name": "ipython",
    "version": 3
   },
   "file_extension": ".py",
   "mimetype": "text/x-python",
   "name": "python",
   "nbconvert_exporter": "python",
   "pygments_lexer": "ipython3",
   "version": "3.10.4 (main, Mar 31 2022, 08:41:55) [GCC 7.5.0]"
  },
  "orig_nbformat": 4,
  "vscode": {
   "interpreter": {
    "hash": "712082fa5832080cfbc451c8f4e95f25cd39c626d7d8aebf8310513402cfb031"
   }
  }
 },
 "nbformat": 4,
 "nbformat_minor": 2
}
