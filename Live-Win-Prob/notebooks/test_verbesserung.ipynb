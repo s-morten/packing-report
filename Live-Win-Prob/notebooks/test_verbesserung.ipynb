{
 "cells": [
  {
   "cell_type": "code",
   "execution_count": null,
   "metadata": {},
   "outputs": [],
   "source": [
    "import numpy as np\n",
    "import matplotlib.pyplot as plt\n",
    "import pymc3 as pm\n",
    "import math\n",
    "import pandas as pd\n",
    "import arviz as az\n",
    "import pickle"
   ]
  },
  {
   "cell_type": "code",
   "execution_count": null,
   "metadata": {},
   "outputs": [],
   "source": [
    "def predict_goals_home(trace, timeframe):\n",
    "    home_data = pd.read_csv(\n",
    "        \"/home/morten/Develop/Live-Win-Prob/data/all_games_home.csv\"\n",
    "    )\n",
    "    R_home = np.zeros((950))\n",
    "    X_home = np.zeros((9, 950))\n",
    "    with pm.Model() as home_model:\n",
    "        at1 = pm.Normal(\"at1\", mu=0, sigma=math.sqrt(2))\n",
    "        at2 = pm.Normal(\"at2\", mu=0, sigma=math.sqrt(2))\n",
    "        at3 = pm.Normal(\"at3\", mu=0, sigma=math.sqrt(2))\n",
    "        at4 = pm.Normal(\"at4\", mu=0, sigma=math.sqrt(2))\n",
    "        at5 = pm.Normal(\"at5\", mu=0, sigma=math.sqrt(2))\n",
    "        at6 = pm.Normal(\"at6\", mu=0, sigma=math.sqrt(2))\n",
    "        at7 = pm.Normal(\"at7\", mu=0, sigma=math.sqrt(2))\n",
    "        at8 = pm.Normal(\"at8\", mu=0, sigma=math.sqrt(2))\n",
    "        # at9 = pm.Normal(\"at9\", mu=last_mu9, sigma=math.sqrt(2))\n",
    "        # at = pm.GaussianRandomWalk(\"at\", mu=0, sigma=math.sqrt(2), shape=(100,9))\n",
    "        ha = pm.Normal(\"ha\", mu=0, sigma=math.sqrt(2))\n",
    "        beta = pm.Normal(\"beta\", mu=0, sigma=math.sqrt(2))\n",
    "\n",
    "        data = pm.Data(\"data\", X_home)\n",
    "        # theta = pm.invlogit((at[:, :, None] * data).sum(axis=1) + beta)\n",
    "        theta = pm.invlogit(\n",
    "            (\n",
    "                at1 * data[1]\n",
    "                + at2 * data[2]\n",
    "                + at3 * data[3]\n",
    "                + at4 * data[4]\n",
    "                + at5 * data[5]\n",
    "                + at6 * data[6]\n",
    "                + at7 * data[7]\n",
    "                + at8 * data[8]\n",
    "            )\n",
    "            + beta\n",
    "            + ha\n",
    "        )\n",
    "        # theta = pm.invlogit(pm.math.dot(at, xt_theano) + beta)\n",
    "        t = pm.Normal(\"t\", mu=0, sigma=math.sqrt(2))\n",
    "        like = pm.Poisson(\"like\", t * theta, observed=R_home)\n",
    "\n",
    "    X_test = np.zeros((9, 950))\n",
    "    for i, row in home_data.iterrows():\n",
    "        if int(i / 100) >= 950:\n",
    "            for x in range(len(row)):\n",
    "                if int(row[0]) == timeframe:\n",
    "                    if x == 9:\n",
    "                        continue\n",
    "                    X_test[x][int(i / 100 - 950)] = row[x]\n",
    "\n",
    "    with home_model:\n",
    "        pm.set_data({\"data\": X_test}, model=home_model)\n",
    "        ppc_test = pm.sample_posterior_predictive(trace, model=home_model, samples=1000)\n",
    "\n",
    "    return ppc_test"
   ]
  },
  {
   "cell_type": "code",
   "execution_count": null,
   "metadata": {},
   "outputs": [],
   "source": [
    "with open(\n",
    "    \"/home/morten/Develop/Live-Win-Prob/dumps/home_traces_100_models_verbesserung_mit_t.pkl\",\n",
    "    \"rb\",\n",
    ") as f:\n",
    "    home_traces = pickle.load(f)"
   ]
  },
  {
   "cell_type": "code",
   "execution_count": null,
   "metadata": {},
   "outputs": [],
   "source": [
    "ppcs_home = []\n",
    "for i in range(99):\n",
    "    tmp = predict_goals_home(home_traces[i], i)\n",
    "    ppcs_home.append(tmp)"
   ]
  },
  {
   "cell_type": "code",
   "execution_count": null,
   "metadata": {},
   "outputs": [],
   "source": [
    "def predict_goals_away(trace, timeframe):\n",
    "    away_data = pd.read_csv(\n",
    "        \"/home/morten/Develop/Live-Win-Prob/data/all_games_away.csv\"\n",
    "    )\n",
    "    R_away = np.zeros((950))\n",
    "    X_away = np.zeros((9, 950))\n",
    "    with pm.Model() as away_model:\n",
    "        at1 = pm.Normal(\"at1\", mu=0, sigma=math.sqrt(2))\n",
    "        at2 = pm.Normal(\"at2\", mu=0, sigma=math.sqrt(2))\n",
    "        at3 = pm.Normal(\"at3\", mu=0, sigma=math.sqrt(2))\n",
    "        at4 = pm.Normal(\"at4\", mu=0, sigma=math.sqrt(2))\n",
    "        at5 = pm.Normal(\"at5\", mu=0, sigma=math.sqrt(2))\n",
    "        at6 = pm.Normal(\"at6\", mu=0, sigma=math.sqrt(2))\n",
    "        at7 = pm.Normal(\"at7\", mu=0, sigma=math.sqrt(2))\n",
    "        at8 = pm.Normal(\"at8\", mu=0, sigma=math.sqrt(2))\n",
    "        # at9 = pm.Normal(\"at9\", mu=last_mu9, sigma=math.sqrt(2))\n",
    "        # at = pm.GaussianRandomWalk(\"at\", mu=0, sigma=math.sqrt(2), shape=(100,9))\n",
    "        beta = pm.Normal(\"beta\", mu=0, sigma=math.sqrt(2))\n",
    "\n",
    "        data = pm.Data(\"data\", X_away)\n",
    "        # theta = pm.invlogit((at[:, :, None] * data).sum(axis=1) + beta)\n",
    "        theta = pm.invlogit(\n",
    "            (\n",
    "                at1 * data[1]\n",
    "                + at2 * data[2]\n",
    "                + at3 * data[3]\n",
    "                + at4 * data[4]\n",
    "                + at5 * data[5]\n",
    "                + at6 * data[6]\n",
    "                + at7 * data[7]\n",
    "                + at8 * data[8]\n",
    "            )\n",
    "            + beta\n",
    "        )\n",
    "        # theta = pm.invlogit(pm.math.dot(at, xt_theano) + beta)\n",
    "        t = pm.Normal(\"t\", mu=0, sigma=math.sqrt(2))\n",
    "\n",
    "        like = pm.Poisson(\"like\", t * theta, observed=R_away)\n",
    "\n",
    "    X_test = np.zeros((9, 950))\n",
    "    for i, row in away_data.iterrows():\n",
    "        if int(i / 100) >= 950:\n",
    "            for x in range(len(row)):\n",
    "                if int(row[0]) == timeframe:\n",
    "                    if x == 9:\n",
    "                        continue\n",
    "                    X_test[x][int(i / 100 - 950)] = row[x]\n",
    "\n",
    "    with away_model:\n",
    "        pm.set_data({\"data\": X_test}, model=away_model)\n",
    "        ppc_test = pm.sample_posterior_predictive(trace, model=away_model, samples=1000)\n",
    "\n",
    "    return ppc_test"
   ]
  },
  {
   "cell_type": "code",
   "execution_count": null,
   "metadata": {},
   "outputs": [],
   "source": [
    "with open(\n",
    "    \"/home/morten/Develop/Live-Win-Prob/dumps/away_traces_100_models_verbesserung_mit_t.pkl\",\n",
    "    \"rb\",\n",
    ") as f:\n",
    "    away_traces = pickle.load(f)"
   ]
  },
  {
   "cell_type": "code",
   "execution_count": null,
   "metadata": {},
   "outputs": [],
   "source": [
    "ppcs_away = []\n",
    "for i in range(100):\n",
    "    tmp = predict_goals_away(away_traces[i], i)\n",
    "    ppcs_away.append(tmp)"
   ]
  },
  {
   "cell_type": "code",
   "execution_count": null,
   "metadata": {},
   "outputs": [],
   "source": [
    "away_data = pd.read_csv(\"/home/morten/Develop/Live-Win-Prob/data/all_games_away.csv\")\n",
    "home_data = pd.read_csv(\"/home/morten/Develop/Live-Win-Prob/data/all_games_home.csv\")"
   ]
  },
  {
   "cell_type": "code",
   "execution_count": null,
   "metadata": {},
   "outputs": [],
   "source": [
    "R_test_home = np.zeros((100, 950))\n",
    "## create R\n",
    "for i, row in home_data.iterrows():\n",
    "    if int(i / 100) >= 950:\n",
    "        R_test_home[int(row[0])][int(i / 100 - 950)] = int(row[9])\n",
    "R_test_away = np.zeros((100, 950))\n",
    "## create R\n",
    "for i, row in away_data.iterrows():\n",
    "    if int(i / 100) >= 950:\n",
    "        R_test_away[int(row[0])][int(i / 100 - 950)] = int(row[9])"
   ]
  },
  {
   "cell_type": "code",
   "execution_count": null,
   "metadata": {},
   "outputs": [],
   "source": [
    "# B_game_probs = np.zeros((53, 100, 3))\n",
    "game_pred = np.zeros((100, 53))\n",
    "acc_pred = np.zeros((100, 53))"
   ]
  },
  {
   "cell_type": "code",
   "execution_count": null,
   "metadata": {},
   "outputs": [],
   "source": [
    "for g in range(53):\n",
    "    game_num = g\n",
    "    game_probs = np.zeros((100, 3))\n",
    "    goal_home_idx = []\n",
    "    goal_away_idx = []\n",
    "    for i in range(100):\n",
    "        hist_home = np.histogram(\n",
    "            ppcs_home[i][\"like\"][:, game_num],\n",
    "            bins=[0, 1, 2, 3, 4, 5, 6, 7, 8, 9],\n",
    "            density=True,\n",
    "        )\n",
    "        hist_away = np.histogram(\n",
    "            ppcs_away[i][\"like\"][:, game_num],\n",
    "            bins=[0, 1, 2, 3, 4, 5, 6, 7, 8, 9],\n",
    "            density=True,\n",
    "        )\n",
    "        goals_home = R_test_home[0][game_num] - R_test_home[i][game_num]\n",
    "        goals_away = R_test_away[0][game_num] - R_test_away[i][game_num]\n",
    "        if i > 0:\n",
    "            if R_test_home[i][game_num] != R_test_home[i - 1][game_num]:\n",
    "                goal_home_idx.append(i)\n",
    "            if R_test_away[i][game_num] != R_test_away[i - 1][game_num]:\n",
    "                goal_away_idx.append(i)\n",
    "        goal_matrix = np.zeros((9, 9))\n",
    "        home_prob = 0\n",
    "        away_prob = 0\n",
    "        draw_prob = 0\n",
    "        for h in range(9):\n",
    "            for a in range(9):\n",
    "                goal_matrix[h][a] = hist_home[0][h] * hist_away[0][a]\n",
    "                home = goals_home + h\n",
    "                away = goals_away + a\n",
    "                if home > away:\n",
    "                    home_prob += hist_home[0][h] * hist_away[0][a]\n",
    "                elif away > home:\n",
    "                    away_prob += hist_home[0][h] * hist_away[0][a]\n",
    "                elif home == away:\n",
    "                    draw_prob += hist_home[0][h] * hist_away[0][a]\n",
    "\n",
    "        if home_prob >= draw_prob and home_prob >= away_prob:\n",
    "            game_pred[i][g] = 0\n",
    "            acc_pred[i][g] = home_prob\n",
    "        elif away_prob >= draw_prob and away_prob >= home_prob:\n",
    "            game_pred[i][g] = 2\n",
    "            acc_pred[i][g] = away_prob\n",
    "        elif draw_prob >= away_prob and draw_prob >= home_prob:\n",
    "            game_pred[i][g] = 1\n",
    "            acc_pred[i][g] = draw_prob"
   ]
  },
  {
   "cell_type": "code",
   "execution_count": null,
   "metadata": {},
   "outputs": [],
   "source": [
    "act_res = np.zeros((53))\n",
    "for g in range(53):\n",
    "    goals_diff = R_test_home[0][g] - R_test_away[0][g]\n",
    "    if goals_diff < 0:\n",
    "        act_res[g] = 2\n",
    "    elif goals_diff == 0:\n",
    "        act_res[g] = 1"
   ]
  },
  {
   "cell_type": "code",
   "execution_count": null,
   "metadata": {},
   "outputs": [],
   "source": [
    "def acc_ece(pred, label):\n",
    "    pred = np.array(pred)\n",
    "    mul = 1 / pred.size\n",
    "    sum_ece = 0\n",
    "    for min in range(len(pred)):\n",
    "        for game in range(len(pred[min])):\n",
    "            if pred[min][game] == label[game]:\n",
    "                sum_ece += 1\n",
    "    return mul * sum_ece"
   ]
  },
  {
   "cell_type": "code",
   "execution_count": null,
   "metadata": {},
   "outputs": [],
   "source": [
    "def conf_ece(prob):\n",
    "    prob = np.array(prob)\n",
    "    mul = 1 / prob.size\n",
    "    mul2 = np.sum(prob)\n",
    "    return mul * mul2"
   ]
  },
  {
   "cell_type": "code",
   "execution_count": null,
   "metadata": {},
   "outputs": [],
   "source": [
    "def calc_ece(score_bins, prob_bins, labels):\n",
    "    M = len(score_bins)\n",
    "    N = 0\n",
    "    ece = 0\n",
    "    for m in range(M):\n",
    "        N += len(score_bins[m])\n",
    "    for m in range(M):\n",
    "        ece += (len(score_bins[m]) / N) * np.abs(\n",
    "            acc_ece(score_bins[m], labels) - conf_ece(prob_bins[m])\n",
    "        )\n",
    "\n",
    "    return ece"
   ]
  },
  {
   "cell_type": "code",
   "execution_count": null,
   "metadata": {},
   "outputs": [],
   "source": [
    "prob_pred_bins, score_pred_bins = [], []\n",
    "prob_pred_bins.append(acc_pred[0:10])\n",
    "prob_pred_bins.append(acc_pred[10:20])\n",
    "prob_pred_bins.append(acc_pred[20:30])\n",
    "prob_pred_bins.append(acc_pred[30:40])\n",
    "prob_pred_bins.append(acc_pred[40:50])\n",
    "score_pred_bins.append(game_pred[0:10])\n",
    "score_pred_bins.append(game_pred[10:20])\n",
    "score_pred_bins.append(game_pred[20:30])\n",
    "score_pred_bins.append(game_pred[30:40])\n",
    "score_pred_bins.append(game_pred[40:50])\n",
    "\n",
    "ece = calc_ece(score_pred_bins, prob_pred_bins, act_res)\n",
    "print(ece)"
   ]
  },
  {
   "cell_type": "code",
   "execution_count": null,
   "metadata": {},
   "outputs": [],
   "source": [
    "prob_pred_bins, score_pred_bins = [], []\n",
    "prob_pred_bins.append(acc_pred[50:60])\n",
    "prob_pred_bins.append(acc_pred[60:70])\n",
    "prob_pred_bins.append(acc_pred[70:80])\n",
    "prob_pred_bins.append(acc_pred[80:90])\n",
    "prob_pred_bins.append(acc_pred[90:100])\n",
    "score_pred_bins.append(game_pred[50:60])\n",
    "score_pred_bins.append(game_pred[60:70])\n",
    "score_pred_bins.append(game_pred[70:80])\n",
    "score_pred_bins.append(game_pred[80:90])\n",
    "score_pred_bins.append(game_pred[90:100])\n",
    "\n",
    "ece = calc_ece(score_pred_bins, prob_pred_bins, act_res)\n",
    "print(ece)"
   ]
  },
  {
   "cell_type": "code",
   "execution_count": null,
   "metadata": {},
   "outputs": [],
   "source": [
    "prob_pred_bins, score_pred_bins = [], []\n",
    "prob_pred_bins.append(acc_pred[90:92])\n",
    "prob_pred_bins.append(acc_pred[92:94])\n",
    "prob_pred_bins.append(acc_pred[94:96])\n",
    "prob_pred_bins.append(acc_pred[96:98])\n",
    "prob_pred_bins.append(acc_pred[98:100])\n",
    "score_pred_bins.append(game_pred[90:92])\n",
    "score_pred_bins.append(game_pred[92:94])\n",
    "score_pred_bins.append(game_pred[94:96])\n",
    "score_pred_bins.append(game_pred[96:98])\n",
    "score_pred_bins.append(game_pred[98:100])\n",
    "\n",
    "ece = calc_ece(score_pred_bins, prob_pred_bins, act_res)\n",
    "print(ece)"
   ]
  },
  {
   "cell_type": "code",
   "execution_count": null,
   "metadata": {},
   "outputs": [],
   "source": [
    "prob_pred_bins, score_pred_bins = [], []\n",
    "prob_pred_bins.append(acc_pred[0:20])\n",
    "prob_pred_bins.append(acc_pred[20:40])\n",
    "prob_pred_bins.append(acc_pred[40:60])\n",
    "prob_pred_bins.append(acc_pred[60:80])\n",
    "prob_pred_bins.append(acc_pred[80:100])\n",
    "score_pred_bins.append(game_pred[0:20])\n",
    "score_pred_bins.append(game_pred[20:40])\n",
    "score_pred_bins.append(game_pred[40:60])\n",
    "score_pred_bins.append(game_pred[60:80])\n",
    "score_pred_bins.append(game_pred[80:100])\n",
    "\n",
    "ece = calc_ece(score_pred_bins, prob_pred_bins, act_res)\n",
    "print(ece)"
   ]
  },
  {
   "cell_type": "code",
   "execution_count": null,
   "metadata": {},
   "outputs": [],
   "source": [
    "game_num = 17\n",
    "\n",
    "hist_home, bins_h = np.histogram(\n",
    "    ppcs_home[28][\"like\"][:, game_num],\n",
    "    bins=[0, 1, 2, 3, 4, 5, 6, 7, 8, 9],\n",
    "    density=True,\n",
    ")\n",
    "hist_away, bins_a = np.histogram(\n",
    "    ppcs_away[28][\"like\"][:, game_num],\n",
    "    bins=[0, 1, 2, 3, 4, 5, 6, 7, 8, 9],\n",
    "    density=True,\n",
    ")\n",
    "\n",
    "width = 0.7 * (bins_h[1] - bins_h[0])\n",
    "center = (bins_h[:-1] + bins_h[1:]) / 2\n",
    "plt.bar(center, hist_home, align=\"center\", width=width)\n",
    "plt.show()"
   ]
  },
  {
   "cell_type": "code",
   "execution_count": null,
   "metadata": {},
   "outputs": [],
   "source": [
    "game_num = 17\n",
    "\n",
    "hist_home, bins_h = np.histogram(\n",
    "    ppcs_home[28][\"like\"][:, game_num],\n",
    "    bins=[0, 1, 2, 3, 4, 5, 6, 7, 8, 9],\n",
    "    density=True,\n",
    ")\n",
    "hist_away, bins_a = np.histogram(\n",
    "    ppcs_away[28][\"like\"][:, game_num],\n",
    "    bins=[0, 1, 2, 3, 4, 5, 6, 7, 8, 9],\n",
    "    density=True,\n",
    ")\n",
    "\n",
    "width = 0.7 * (bins_h[1] - bins_a[0])\n",
    "center = (bins_a[:-1] + bins_a[1:]) / 2\n",
    "plt.bar(center, hist_away, align=\"center\", width=width)\n",
    "plt.show()"
   ]
  },
  {
   "cell_type": "code",
   "execution_count": null,
   "metadata": {},
   "outputs": [],
   "source": [
    "score_matrix = np.zeros((6, 6))\n",
    "for h in range(6):\n",
    "    for a in range(6):\n",
    "        score_matrix[a][h] = (hist_home[h] * hist_away[a]) * 100"
   ]
  },
  {
   "cell_type": "code",
   "execution_count": null,
   "metadata": {},
   "outputs": [],
   "source": [
    "import seaborn as sns"
   ]
  },
  {
   "cell_type": "code",
   "execution_count": null,
   "metadata": {},
   "outputs": [],
   "source": [
    "ax = sns.heatmap(score_matrix, annot=True, fmt=\".0f\", cbar=False, cmap=\"rocket_r\")\n",
    "ax.xaxis.tick_top()\n",
    "ax.set_xlabel(\"Home\")\n",
    "ax.xaxis.set_label_position(\"top\")\n",
    "ax.set_ylabel(\"Away\")\n",
    "ax.margins(x=0, y=0)\n",
    "\n",
    "\n",
    "fig.show()"
   ]
  }
 ],
 "metadata": {
  "kernelspec": {
   "display_name": "Python 3.10.4 ('packing-report')",
   "language": "python",
   "name": "python3"
  },
  "language_info": {
   "codemirror_mode": {
    "name": "ipython",
    "version": 3
   },
   "file_extension": ".py",
   "mimetype": "text/x-python",
   "name": "python",
   "nbconvert_exporter": "python",
   "pygments_lexer": "ipython3",
   "version": "3.10.4 (main, Mar 31 2022, 08:41:55) [GCC 7.5.0]"
  },
  "orig_nbformat": 4,
  "vscode": {
   "interpreter": {
    "hash": "712082fa5832080cfbc451c8f4e95f25cd39c626d7d8aebf8310513402cfb031"
   }
  }
 },
 "nbformat": 4,
 "nbformat_minor": 2
}
