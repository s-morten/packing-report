{
 "cells": [
  {
   "cell_type": "code",
   "execution_count": null,
   "metadata": {},
   "outputs": [],
   "source": [
    "import numpy as np\n",
    "import matplotlib.pyplot as plt\n",
    "import pymc3 as pm\n",
    "import math\n",
    "import pandas as pd\n",
    "import arviz as az"
   ]
  },
  {
   "cell_type": "code",
   "execution_count": null,
   "metadata": {},
   "outputs": [],
   "source": [
    "T_home = np.arange(100)\n",
    "N_home = np.arange(300)\n",
    "TN_home = np.empty((100, 300))\n",
    "R_home = np.empty((100, 300))\n",
    "X_home = np.empty((100, 8, 300))\n",
    "t_home = TN_home.copy()"
   ]
  },
  {
   "cell_type": "code",
   "execution_count": null,
   "metadata": {},
   "outputs": [],
   "source": [
    "with pm.Model() as home_model:\n",
    "    ha = pm.Normal(\"ha\", mu=0, sigma=math.sqrt(2))\n",
    "    at = pm.Normal(\"at\", mu=0, sigma=math.sqrt(2), shape=(100, 8))\n",
    "    beta = pm.Normal(\"beta\", mu=0, sigma=math.sqrt(2))\n",
    "\n",
    "    data = pm.Data(\"data\", X_home)\n",
    "    theta = pm.invlogit((at[:, :, None] * data).sum(axis=1) + beta + ha)\n",
    "    # theta = pm.invlogit(pm.math.dot(at, xt_theano) + beta)\n",
    "\n",
    "    like = pm.Poisson(\"like\", (100 - t_home) * theta, observed=R_home)\n",
    "\n",
    "pm.model_to_graphviz(home_model)"
   ]
  },
  {
   "cell_type": "code",
   "execution_count": null,
   "metadata": {},
   "outputs": [],
   "source": [
    "home_data = pd.read_csv(\"/home/morten/Develop/Live-Win-Prob/data/home.csv\")"
   ]
  },
  {
   "cell_type": "code",
   "execution_count": null,
   "metadata": {},
   "outputs": [],
   "source": [
    "# create test data\n",
    "X_test = np.zeros((100, 8, 300))\n",
    "## create X\n",
    "for i, row in home_data.iterrows():\n",
    "    if int(i / 100) >= 300:\n",
    "        for x in range(len(row)):\n",
    "            if x == 0 or x == 9:\n",
    "                continue\n",
    "            X_test[int(row[0])][x - 1][int(i / 100 - 300)] = row[x]\n",
    "\n",
    "# X = X.reshape(X.shape[0]*X.shape[1], X.shape[2])\n",
    "X_test.shape"
   ]
  },
  {
   "cell_type": "code",
   "execution_count": null,
   "metadata": {},
   "outputs": [],
   "source": [
    "trace = az.from_netcdf(\"/home/morten/Develop/Live-Win-Prob/models/home_trace.nc\")"
   ]
  },
  {
   "cell_type": "code",
   "execution_count": null,
   "metadata": {},
   "outputs": [],
   "source": [
    "pm.set_data({\"data\": X_test}, model=home_model)\n",
    "ppc_test = pm.sample_posterior_predictive(trace, model=home_model, samples=1000)"
   ]
  },
  {
   "cell_type": "code",
   "execution_count": null,
   "metadata": {},
   "outputs": [],
   "source": [
    "ppc_test[\"like\"].shape"
   ]
  },
  {
   "cell_type": "code",
   "execution_count": null,
   "metadata": {},
   "outputs": [],
   "source": [
    "ppc_only_actual_params = ppc_test[\"like\"][:, :, :4]"
   ]
  },
  {
   "cell_type": "code",
   "execution_count": null,
   "metadata": {},
   "outputs": [],
   "source": [
    "ppc_only_actual_params.shape"
   ]
  },
  {
   "cell_type": "code",
   "execution_count": null,
   "metadata": {},
   "outputs": [],
   "source": [
    "ppc_only_params_game_one_home = ppc_only_actual_params[:, :, 0]\n",
    "ppc_only_params_game_one_home.shape"
   ]
  },
  {
   "cell_type": "code",
   "execution_count": null,
   "metadata": {},
   "outputs": [],
   "source": [
    "ppc_only_params_game_one_home[:, 0].shape"
   ]
  },
  {
   "cell_type": "code",
   "execution_count": null,
   "metadata": {},
   "outputs": [],
   "source": [
    "# create plot"
   ]
  },
  {
   "cell_type": "code",
   "execution_count": null,
   "metadata": {},
   "outputs": [],
   "source": [
    "T_away = np.arange(100)\n",
    "N_away = np.arange(300)\n",
    "TN_away = np.empty((100, 300))\n",
    "R_away = np.empty((100, 300))\n",
    "X_away = np.empty((100, 8, 300))\n",
    "t_away = TN_home.copy()"
   ]
  },
  {
   "cell_type": "code",
   "execution_count": null,
   "metadata": {},
   "outputs": [],
   "source": [
    "with pm.Model() as away_model:\n",
    "    at = pm.Normal(\"at\", mu=0, sigma=math.sqrt(2), shape=(100, 8))\n",
    "    beta = pm.Normal(\"beta\", mu=0, sigma=math.sqrt(2))\n",
    "\n",
    "    data = pm.Data(\"data\", X_away)\n",
    "    theta = pm.invlogit((at[:, :, None] * data).sum(axis=1) + beta)\n",
    "    # theta = pm.invlogit(pm.math.dot(at, xt_theano) + beta)\n",
    "\n",
    "    like = pm.Poisson(\"like\", (100 - t_away) * theta, observed=R_away)\n",
    "\n",
    "pm.model_to_graphviz(away_model)"
   ]
  },
  {
   "cell_type": "code",
   "execution_count": null,
   "metadata": {},
   "outputs": [],
   "source": [
    "away_data = pd.read_csv(\"/home/morten/Develop/Live-Win-Prob/data/away.csv\")"
   ]
  },
  {
   "cell_type": "code",
   "execution_count": null,
   "metadata": {},
   "outputs": [],
   "source": [
    "# create test data\n",
    "X_test_away = np.zeros((100, 8, 300))\n",
    "## create X\n",
    "for i, row in away_data.iterrows():\n",
    "    if int(i / 100) >= 300:\n",
    "        for x in range(len(row)):\n",
    "            if x == 0 or x == 9:\n",
    "                continue\n",
    "            X_test_away[int(row[0])][x - 1][int(i / 100 - 300)] = row[x]\n",
    "\n",
    "# X = X.reshape(X.shape[0]*X.shape[1], X.shape[2])\n",
    "X_test_away.shape"
   ]
  },
  {
   "cell_type": "code",
   "execution_count": null,
   "metadata": {},
   "outputs": [],
   "source": [
    "trace_away = az.from_netcdf(\"/home/morten/Develop/Live-Win-Prob/models/away_trace.nc\")"
   ]
  },
  {
   "cell_type": "code",
   "execution_count": null,
   "metadata": {},
   "outputs": [],
   "source": [
    "pm.set_data({\"data\": X_test_away}, model=away_model)\n",
    "ppc_test_away = pm.sample_posterior_predictive(\n",
    "    trace_away, model=away_model, samples=1000\n",
    ")"
   ]
  },
  {
   "cell_type": "code",
   "execution_count": null,
   "metadata": {},
   "outputs": [],
   "source": [
    "ppc_only_actual_params_away = ppc_test_away[\"like\"][:, :, :4]"
   ]
  },
  {
   "cell_type": "code",
   "execution_count": null,
   "metadata": {},
   "outputs": [],
   "source": [
    "plt.hist(ppc_only_actual_params_away[:, 20, 0])"
   ]
  },
  {
   "cell_type": "code",
   "execution_count": null,
   "metadata": {},
   "outputs": [],
   "source": [
    "game_num = 1"
   ]
  },
  {
   "cell_type": "code",
   "execution_count": null,
   "metadata": {},
   "outputs": [],
   "source": [
    "ppc_only_actual_params_away_game = ppc_only_actual_params_away[:, :, game_num]\n",
    "ppc_only_actual_params_away_game.shape\n",
    "ppc_only_actual_params_home_game = ppc_only_actual_params[:, :, game_num]\n",
    "ppc_only_actual_params_home_game.shape"
   ]
  },
  {
   "cell_type": "code",
   "execution_count": null,
   "metadata": {},
   "outputs": [],
   "source": [
    "R_test_home = np.zeros((100, 300))\n",
    "## create R\n",
    "for i, row in home_data.iterrows():\n",
    "    if int(i / 100) >= 300:\n",
    "        R_test_home[int(row[0])][int(i / 100 - 300)] = int(row[9])\n",
    "R_test_away = np.zeros((100, 300))\n",
    "## create R\n",
    "for i, row in away_data.iterrows():\n",
    "    if int(i / 100) >= 300:\n",
    "        R_test_away[int(row[0])][int(i / 100 - 300)] = int(row[9])"
   ]
  },
  {
   "cell_type": "code",
   "execution_count": null,
   "metadata": {},
   "outputs": [],
   "source": [
    "game_probs = np.zeros((100, 3))\n",
    "goal_home_idx = []\n",
    "goal_away_idx = []\n",
    "for i in range(100):\n",
    "    hist_home = np.histogram(\n",
    "        ppc_only_actual_params_home_game[:, i],\n",
    "        bins=[0, 1, 2, 3, 4, 5, 6, 7, 8, 9],\n",
    "        density=True,\n",
    "    )\n",
    "    hist_away = np.histogram(\n",
    "        ppc_only_actual_params_away_game[:, i],\n",
    "        bins=[0, 1, 2, 3, 4, 5, 6, 7, 8, 9],\n",
    "        density=True,\n",
    "    )\n",
    "    goals_home = R_test_home[0][game_num] - R_test_home[i][game_num]\n",
    "    goals_away = R_test_away[0][game_num] - R_test_away[i][game_num]\n",
    "    if i > 0:\n",
    "        if R_test_home[i][game_num] != R_test_home[i - 1][game_num]:\n",
    "            goal_home_idx.append(i)\n",
    "        if R_test_away[i][game_num] != R_test_away[i - 1][game_num]:\n",
    "            goal_away_idx.append(i)\n",
    "    goal_matrix = np.zeros((9, 9))\n",
    "    home_prob = 0\n",
    "    away_prob = 0\n",
    "    draw_prob = 0\n",
    "    for h in range(9):\n",
    "        for a in range(9):\n",
    "            goal_matrix[h][a] = hist_home[0][h] * hist_away[0][a]\n",
    "            home = goals_home + h\n",
    "            away = goals_away + a\n",
    "            if home > away:\n",
    "                home_prob += hist_home[0][h] * hist_away[0][a]\n",
    "            elif away > home:\n",
    "                away_prob += hist_home[0][h] * hist_away[0][a]\n",
    "            elif home == away:\n",
    "                draw_prob += hist_home[0][h] * hist_away[0][a]\n",
    "\n",
    "    game_probs[i][0] = home_prob\n",
    "    game_probs[i][1] = draw_prob\n",
    "    game_probs[i][2] = away_prob"
   ]
  },
  {
   "cell_type": "code",
   "execution_count": null,
   "metadata": {},
   "outputs": [],
   "source": [
    "plt.plot(game_probs[:, 0], color=\"green\")\n",
    "plt.plot(game_probs[:, 1], color=\"black\")\n",
    "plt.plot(game_probs[:, 2], color=\"red\")\n",
    "for goal in goal_away_idx:\n",
    "    plt.axvline(goal, color=\"red\", linestyle=\"--\")\n",
    "for goal in goal_home_idx:\n",
    "    plt.axvline(goal, color=\"green\", linestyle=\"--\")"
   ]
  },
  {
   "cell_type": "code",
   "execution_count": null,
   "metadata": {},
   "outputs": [],
   "source": [
    "X_test_2 = np.zeros((100, 8, 300))\n",
    "for idx in range(len(X_test)):\n",
    "    X_test_2[idx] = X_test[0]"
   ]
  },
  {
   "cell_type": "code",
   "execution_count": null,
   "metadata": {},
   "outputs": [],
   "source": [
    "R_test = np.zeros((100, 300))\n",
    "## create R\n",
    "for i, row in home_data.iterrows():\n",
    "    if int(i / 100) >= 300:\n",
    "        R_test[int(row[0])][int(i / 100 - 300)] = int(row[9])"
   ]
  },
  {
   "cell_type": "code",
   "execution_count": null,
   "metadata": {},
   "outputs": [],
   "source": [
    "pm.set_data({\"data\": X_test_2}, model=home_model)\n",
    "ppc_test = pm.sample_posterior_predictive(trace, model=home_model, samples=1000)"
   ]
  },
  {
   "cell_type": "code",
   "execution_count": null,
   "metadata": {},
   "outputs": [],
   "source": [
    "ppc_only_actual_params = ppc_test[\"like\"][:, :, :]"
   ]
  },
  {
   "cell_type": "code",
   "execution_count": null,
   "metadata": {},
   "outputs": [],
   "source": [
    "plt.hist(ppc_only_actual_params[:, 20, 0])"
   ]
  },
  {
   "cell_type": "code",
   "execution_count": null,
   "metadata": {},
   "outputs": [],
   "source": [
    "plt.hist(ppc_only_actual_params[:, 20, 1])"
   ]
  },
  {
   "cell_type": "code",
   "execution_count": null,
   "metadata": {},
   "outputs": [],
   "source": [
    "plt.hist(ppc_only_actual_params[:, 20, 0])"
   ]
  },
  {
   "cell_type": "code",
   "execution_count": null,
   "metadata": {},
   "outputs": [],
   "source": [
    "plt.hist(ppc_only_actual_params[:, 20, 250])"
   ]
  },
  {
   "cell_type": "code",
   "execution_count": null,
   "metadata": {},
   "outputs": [],
   "source": [
    "R_test = R_test[:, :4]"
   ]
  },
  {
   "cell_type": "code",
   "execution_count": null,
   "metadata": {},
   "outputs": [],
   "source": [
    "game0 = ppc_only_actual_params[:, 0]\n",
    "game1 = ppc_only_actual_params[:, 1]\n",
    "game2 = ppc_only_actual_params[:, 2]\n",
    "game3 = ppc_only_actual_params[:, 3]"
   ]
  },
  {
   "cell_type": "code",
   "execution_count": null,
   "metadata": {},
   "outputs": [],
   "source": [
    "fig = plt.figure()\n",
    "ax = fig.subplots()\n",
    "\n",
    "ax.plot(game0)\n",
    "ax.plot(R_test[:, 0])"
   ]
  },
  {
   "cell_type": "code",
   "execution_count": null,
   "metadata": {},
   "outputs": [],
   "source": [
    "fig = plt.figure()\n",
    "ax = fig.subplots()\n",
    "\n",
    "ax.plot(game1)\n",
    "ax.plot(R_test[:, 1])"
   ]
  },
  {
   "cell_type": "code",
   "execution_count": null,
   "metadata": {},
   "outputs": [],
   "source": [
    "fig = plt.figure()\n",
    "ax = fig.subplots()\n",
    "\n",
    "ax.plot(game2)\n",
    "ax.plot(R_test[:, 2])"
   ]
  },
  {
   "cell_type": "code",
   "execution_count": null,
   "metadata": {},
   "outputs": [],
   "source": [
    "fig = plt.figure()\n",
    "ax = fig.subplots()\n",
    "\n",
    "ax.plot(game3)\n",
    "ax.plot(R_test[:, 3])"
   ]
  },
  {
   "cell_type": "code",
   "execution_count": null,
   "metadata": {},
   "outputs": [],
   "source": []
  }
 ],
 "metadata": {
  "interpreter": {
   "hash": "b24b17624f07a4f40428463937d94a2405f516ba067ac86a02749668f38ea206"
  },
  "kernelspec": {
   "display_name": "Python 3.9.7 ('LWP')",
   "language": "python",
   "name": "python3"
  },
  "language_info": {
   "codemirror_mode": {
    "name": "ipython",
    "version": 3
   },
   "file_extension": ".py",
   "mimetype": "text/x-python",
   "name": "python",
   "nbconvert_exporter": "python",
   "pygments_lexer": "ipython3",
   "version": "3.9.7"
  },
  "orig_nbformat": 4
 },
 "nbformat": 4,
 "nbformat_minor": 2
}
