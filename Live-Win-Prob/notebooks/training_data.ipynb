{
 "cells": [
  {
   "cell_type": "code",
   "execution_count": null,
   "metadata": {},
   "outputs": [],
   "source": [
    "from kloppy import statsbomb\n",
    "import pandas as pd\n",
    "import csv\n",
    "import json"
   ]
  },
  {
   "cell_type": "code",
   "execution_count": null,
   "metadata": {},
   "outputs": [],
   "source": [
    "import sys\n",
    "\n",
    "sys.path.append(\"/home/morten/Develop/Live-Win-Prob\")\n",
    "from utils.lwp_training_data import (\n",
    "    get_model_training_data,\n",
    "    get_model_training_data_per_game,\n",
    ")"
   ]
  },
  {
   "cell_type": "code",
   "execution_count": null,
   "metadata": {},
   "outputs": [],
   "source": [
    "with open(\n",
    "    \"/home/morten/Develop/Open-Data/statsbomb/open-data/data/competitions.json\", \"r\"\n",
    ") as f:\n",
    "    comp = json.load(f)\n",
    "\n",
    "all_comps = []\n",
    "for x in comp:\n",
    "    all_comps.append(\n",
    "        pd.read_json(\n",
    "            f\"/home/morten/Develop/Open-Data/statsbomb/open-data/data/matches/{x['competition_id']}/{x['season_id']}.json\"\n",
    "        )\n",
    "    )\n",
    "all_games = pd.concat(all_comps)\n",
    "all_games.reset_index()\n",
    "\n",
    "all_games.head()\n",
    "\n",
    "all_games = all_games[all_games[\"match_id\"] == 22964]\n",
    "\n",
    "all_games"
   ]
  },
  {
   "cell_type": "code",
   "execution_count": null,
   "metadata": {},
   "outputs": [],
   "source": [
    "header = [\"t\", \"sd\", \"tg\", \"rc\", \"yc\", \"gso\", \"fwp\", \"xT\", \"ds\", \"label\"]\n",
    "row = []\n",
    "ind = 0\n",
    "for match in all_games[\"match_id\"]:\n",
    "    try:\n",
    "        sd, tg, rc, yc, gso, fwp, xT, ds = get_model_training_data_per_game(match)\n",
    "        for i in range(100):\n",
    "            data = [\n",
    "                i,\n",
    "                sd[0][i],\n",
    "                tg[0][i],\n",
    "                rc[0][i],\n",
    "                yc[0][i],\n",
    "                gso[0][i],\n",
    "                fwp[0][i],\n",
    "                xT[0][i],\n",
    "                ds[0][i],\n",
    "                tg[0][99] - tg[0][i],\n",
    "            ]\n",
    "            row.append(data)\n",
    "        print(str(ind) + \" = \" + str(match))\n",
    "        ind += 1\n",
    "    except (KeyError, ValueError):\n",
    "        pass"
   ]
  },
  {
   "cell_type": "code",
   "execution_count": null,
   "metadata": {},
   "outputs": [],
   "source": [
    "with open(\n",
    "    \"/home/morten/Develop/Live-Win-Prob/data/all_games_home.csv\",\n",
    "    \"w\",\n",
    "    encoding=\"UTF8\",\n",
    "    newline=\"\",\n",
    ") as f:\n",
    "    writer = csv.writer(f)\n",
    "\n",
    "    # write the header\n",
    "    writer.writerow(header)\n",
    "\n",
    "    # write multiple rows\n",
    "    writer.writerows(row)"
   ]
  },
  {
   "cell_type": "code",
   "execution_count": null,
   "metadata": {},
   "outputs": [],
   "source": [
    "home = pd.read_csv(\"/home/morten/Develop/Live-Win-Prob/data/all_games_home.csv\")"
   ]
  },
  {
   "cell_type": "code",
   "execution_count": null,
   "metadata": {},
   "outputs": [],
   "source": [
    "home.head()"
   ]
  },
  {
   "cell_type": "code",
   "execution_count": null,
   "metadata": {},
   "outputs": [],
   "source": [
    "header = [\"t\", \"sd\", \"tg\", \"rc\", \"yc\", \"gso\", \"fwp\", \"xT\", \"ds\", \"label\"]\n",
    "row = []\n",
    "for match in all_games[\"match_id\"]:\n",
    "    try:\n",
    "        sd, tg, rc, yc, gso, fwp, xT, ds = get_model_training_data_per_game(match)\n",
    "        for i in range(100):\n",
    "            data = [\n",
    "                i,\n",
    "                sd[1][i],\n",
    "                tg[1][i],\n",
    "                rc[1][i],\n",
    "                yc[1][i],\n",
    "                gso[1][i],\n",
    "                fwp[1][i],\n",
    "                xT[1][i],\n",
    "                ds[1][i],\n",
    "                tg[1][99] - tg[1][i],\n",
    "            ]\n",
    "            row.append(data)\n",
    "    except (KeyError, ValueError):\n",
    "        pass"
   ]
  },
  {
   "cell_type": "code",
   "execution_count": null,
   "metadata": {},
   "outputs": [],
   "source": [
    "with open(\n",
    "    \"/home/morten/Develop/Live-Win-Prob/data/all_games_away.csv\",\n",
    "    \"w\",\n",
    "    encoding=\"UTF8\",\n",
    "    newline=\"\",\n",
    ") as f:\n",
    "    writer = csv.writer(f)\n",
    "\n",
    "    # write the header\n",
    "    writer.writerow(header)\n",
    "\n",
    "    # write multiple rows\n",
    "    writer.writerows(row)"
   ]
  },
  {
   "cell_type": "code",
   "execution_count": null,
   "metadata": {},
   "outputs": [],
   "source": [
    "away = pd.read_csv(\"/home/morten/Develop/Live-Win-Prob/data/all_games_away.csv\")"
   ]
  },
  {
   "cell_type": "code",
   "execution_count": null,
   "metadata": {},
   "outputs": [],
   "source": [
    "away.head()"
   ]
  },
  {
   "cell_type": "code",
   "execution_count": null,
   "metadata": {},
   "outputs": [],
   "source": []
  }
 ],
 "metadata": {
  "kernelspec": {
   "display_name": "Python 3.10.4 ('packing-report')",
   "language": "python",
   "name": "python3"
  },
  "language_info": {
   "codemirror_mode": {
    "name": "ipython",
    "version": 3
   },
   "file_extension": ".py",
   "mimetype": "text/x-python",
   "name": "python",
   "nbconvert_exporter": "python",
   "pygments_lexer": "ipython3",
   "version": "3.10.4 (main, Mar 31 2022, 08:41:55) [GCC 7.5.0]"
  },
  "orig_nbformat": 4,
  "vscode": {
   "interpreter": {
    "hash": "712082fa5832080cfbc451c8f4e95f25cd39c626d7d8aebf8310513402cfb031"
   }
  }
 },
 "nbformat": 4,
 "nbformat_minor": 2
}
