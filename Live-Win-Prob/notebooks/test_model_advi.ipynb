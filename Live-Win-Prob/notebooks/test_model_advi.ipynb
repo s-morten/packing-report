{
 "cells": [
  {
   "cell_type": "code",
   "execution_count": null,
   "metadata": {},
   "outputs": [],
   "source": [
    "import numpy as np\n",
    "import matplotlib.pyplot as plt\n",
    "\n",
    "# import pymc3 as pm\n",
    "import math\n",
    "import pandas as pd\n",
    "import arviz as az\n",
    "import pickle"
   ]
  },
  {
   "cell_type": "code",
   "execution_count": null,
   "metadata": {},
   "outputs": [],
   "source": [
    "import pickle"
   ]
  },
  {
   "cell_type": "code",
   "execution_count": null,
   "metadata": {},
   "outputs": [],
   "source": [
    "T_home = np.arange(100)\n",
    "N_home = np.arange(950)\n",
    "TN_home = np.empty((100, 950))\n",
    "R_home = np.empty((100, 950))\n",
    "X_home = np.empty((100, 9, 950))\n",
    "t_home = TN_home.copy()"
   ]
  },
  {
   "cell_type": "code",
   "execution_count": null,
   "metadata": {},
   "outputs": [],
   "source": [
    "with pm.Model() as home_model:\n",
    "    ha = pm.Normal(\"ha\", mu=0, sigma=math.sqrt(2))\n",
    "    # at = pm.Normal(\"at\", mu=0, sigma=math.sqrt(2), shape=(100,8))\n",
    "    at = pm.GaussianRandomWalk(\"at\", mu=0, sigma=math.sqrt(2), shape=(100, 9))\n",
    "    beta = pm.Normal(\"beta\", mu=0, sigma=math.sqrt(2))\n",
    "\n",
    "    data = pm.Data(\"data\", X_home)\n",
    "    theta = pm.invlogit((at[:, :, None] * data).sum(axis=1) + beta + ha)\n",
    "    # theta = pm.invlogit(pm.math.dot(at, xt_theano) + beta)\n",
    "\n",
    "    like = pm.Poisson(\"like\", (100 - t_home) * theta, observed=R_home)\n",
    "\n",
    "pm.model_to_graphviz(home_model)"
   ]
  },
  {
   "cell_type": "code",
   "execution_count": null,
   "metadata": {},
   "outputs": [],
   "source": [
    "home_data = pd.read_csv(\"/home/morten/Develop/Live-Win-Prob/data/all_games_home.csv\")"
   ]
  },
  {
   "cell_type": "code",
   "execution_count": null,
   "metadata": {},
   "outputs": [],
   "source": [
    "# create test data\n",
    "X_test = np.zeros((100, 9, 950))\n",
    "## create X\n",
    "for i, row in home_data.iterrows():\n",
    "    if int(i / 100) >= 950:\n",
    "        for x in range(len(row)):\n",
    "            if x == 9:\n",
    "                continue\n",
    "            X_test[int(row[0])][x][int(i / 100 - 950)] = row[x]\n",
    "\n",
    "# X = X.reshape(X.shape[0]*X.shape[1], X.shape[2])\n",
    "X_test.shape"
   ]
  },
  {
   "cell_type": "code",
   "execution_count": null,
   "metadata": {},
   "outputs": [],
   "source": [
    "trace = az.from_netcdf(\n",
    "    \"/home/morten/Develop/Live-Win-Prob/models/random_walk_home_only_theta.nc\"\n",
    ")"
   ]
  },
  {
   "cell_type": "code",
   "execution_count": null,
   "metadata": {},
   "outputs": [],
   "source": [
    "with home_model:\n",
    "    pm.set_data({\"data\": X_test}, model=home_model)\n",
    "    ppc_test = pm.sample_posterior_predictive(trace, model=home_model, samples=1000)"
   ]
  },
  {
   "cell_type": "code",
   "execution_count": null,
   "metadata": {},
   "outputs": [],
   "source": [
    "ppc_test"
   ]
  },
  {
   "cell_type": "code",
   "execution_count": null,
   "metadata": {},
   "outputs": [],
   "source": [
    "with open(\"home_random_walk.pkl\", \"wb\") as f:\n",
    "    pickle.dump(ppc_test, f)\n",
    "f.close()"
   ]
  },
  {
   "cell_type": "code",
   "execution_count": null,
   "metadata": {},
   "outputs": [],
   "source": [
    "ppc_test[\"like\"].shape"
   ]
  },
  {
   "cell_type": "code",
   "execution_count": null,
   "metadata": {},
   "outputs": [],
   "source": [
    "ppc_only_actual_params = ppc_test[\"like\"][:, :, :53]"
   ]
  },
  {
   "cell_type": "code",
   "execution_count": null,
   "metadata": {},
   "outputs": [],
   "source": [
    "ppc_only_actual_params.shape"
   ]
  },
  {
   "cell_type": "code",
   "execution_count": null,
   "metadata": {},
   "outputs": [],
   "source": [
    "ppc_only_params_game_one_home = ppc_only_actual_params[:, :, 0]\n",
    "ppc_only_params_game_one_home.shape"
   ]
  },
  {
   "cell_type": "code",
   "execution_count": null,
   "metadata": {},
   "outputs": [],
   "source": [
    "ppc_only_params_game_one_home[:, 0].shape"
   ]
  },
  {
   "cell_type": "code",
   "execution_count": null,
   "metadata": {},
   "outputs": [],
   "source": [
    "# create plot"
   ]
  },
  {
   "cell_type": "code",
   "execution_count": null,
   "metadata": {},
   "outputs": [],
   "source": [
    "T_away = np.arange(100)\n",
    "N_away = np.arange(950)\n",
    "TN_away = np.empty((100, 950))\n",
    "R_away = np.empty((100, 950))\n",
    "X_away = np.empty((100, 9, 950))\n",
    "t_away = TN_away.copy()"
   ]
  },
  {
   "cell_type": "code",
   "execution_count": null,
   "metadata": {},
   "outputs": [],
   "source": [
    "with pm.Model() as away_model:\n",
    "    # at = pm.Normal(\"at\", mu=0, sigma=math.sqrt(2), shape=(100,9))\n",
    "    at = pm.GaussianRandomWalk(\"at\", mu=0, sigma=math.sqrt(2), shape=(100, 9))\n",
    "    beta = pm.Normal(\"beta\", mu=0, sigma=math.sqrt(2))\n",
    "\n",
    "    data = pm.Data(\"data\", X_away)\n",
    "    theta = pm.invlogit((at[:, :, None] * data).sum(axis=1) + beta)\n",
    "    # theta = pm.invlogit(pm.math.dot(at, xt_theano) + beta)\n",
    "\n",
    "    like = pm.Poisson(\"like\", (100 - t_away) * theta, observed=R_away)\n",
    "\n",
    "pm.model_to_graphviz(away_model)"
   ]
  },
  {
   "cell_type": "code",
   "execution_count": null,
   "metadata": {},
   "outputs": [],
   "source": [
    "away_data = pd.read_csv(\"/home/morten/Develop/Live-Win-Prob/data/all_games_away.csv\")"
   ]
  },
  {
   "cell_type": "code",
   "execution_count": null,
   "metadata": {},
   "outputs": [],
   "source": [
    "# create test data\n",
    "X_test_away = np.zeros((100, 9, 950))\n",
    "## create X\n",
    "for i, row in away_data.iterrows():\n",
    "    if int(i / 100) >= 950:\n",
    "        for x in range(len(row)):\n",
    "            if x == 9:\n",
    "                continue\n",
    "            X_test_away[int(row[0])][x][int(i / 100 - 950)] = row[x]\n",
    "\n",
    "# X = X.reshape(X.shape[0]*X.shape[1], X.shape[2])\n",
    "X_test_away.shape"
   ]
  },
  {
   "cell_type": "code",
   "execution_count": null,
   "metadata": {},
   "outputs": [],
   "source": [
    "trace_away = az.from_netcdf(\n",
    "    \"/home/morten/Develop/Live-Win-Prob/models/random_walk_only_theta.nc\"\n",
    ")"
   ]
  },
  {
   "cell_type": "code",
   "execution_count": null,
   "metadata": {},
   "outputs": [],
   "source": [
    "with away_model:\n",
    "    pm.set_data({\"data\": X_test_away}, model=away_model)\n",
    "    ppc_test_away = pm.sample_posterior_predictive(\n",
    "        trace_away, model=away_model, samples=1000\n",
    "    )"
   ]
  },
  {
   "cell_type": "code",
   "execution_count": null,
   "metadata": {},
   "outputs": [],
   "source": [
    "ppc_test_away"
   ]
  },
  {
   "cell_type": "code",
   "execution_count": null,
   "metadata": {},
   "outputs": [],
   "source": [
    "with open(\"away_random_walk.pkl\", \"wb\") as f:\n",
    "    pickle.dump(ppc_test_away, f)\n",
    "f.close()"
   ]
  },
  {
   "cell_type": "code",
   "execution_count": null,
   "metadata": {},
   "outputs": [],
   "source": [
    "ppc_only_actual_params_away = ppc_test_away[\"like\"][:, :, :53]"
   ]
  },
  {
   "cell_type": "code",
   "execution_count": null,
   "metadata": {},
   "outputs": [],
   "source": [
    "plt.hist(ppc_only_actual_params_away[:, 20, 0])"
   ]
  },
  {
   "cell_type": "code",
   "execution_count": null,
   "metadata": {},
   "outputs": [],
   "source": [
    "## create plots"
   ]
  },
  {
   "cell_type": "code",
   "execution_count": null,
   "metadata": {},
   "outputs": [],
   "source": [
    "with open(\"/home/morten/Develop/Live-Win-Prob/dumps/home_ppc.pkl\", \"rb\") as f:\n",
    "    home_ppc = pickle.load(f)\n",
    "with open(\"/home/morten/Develop/Live-Win-Prob/dumps/away_ppc.pkl\", \"rb\") as f:\n",
    "    away_ppc = pickle.load(f)"
   ]
  },
  {
   "cell_type": "code",
   "execution_count": null,
   "metadata": {},
   "outputs": [],
   "source": [
    "R_test_home = np.zeros((100, 950))\n",
    "## create R\n",
    "for i, row in home_data.iterrows():\n",
    "    if int(i / 100) >= 950:\n",
    "        R_test_home[int(row[0])][int(i / 100 - 950)] = int(row[9])\n",
    "R_test_away = np.zeros((100, 950))\n",
    "## create R\n",
    "for i, row in away_data.iterrows():\n",
    "    if int(i / 100) >= 950:\n",
    "        R_test_away[int(row[0])][int(i / 100 - 950)] = int(row[9])"
   ]
  },
  {
   "cell_type": "code",
   "execution_count": null,
   "metadata": {},
   "outputs": [],
   "source": [
    "ppc_only_actual_params_away = away_ppc[\"like\"][:, :, :53]\n",
    "ppc_only_actual_params = home_ppc[\"like\"][:, :, :53]"
   ]
  },
  {
   "cell_type": "code",
   "execution_count": null,
   "metadata": {},
   "outputs": [],
   "source": [
    "game_num = 0"
   ]
  },
  {
   "cell_type": "code",
   "execution_count": null,
   "metadata": {},
   "outputs": [],
   "source": [
    "ppc_only_actual_params_away_game = ppc_only_actual_params_away[:, :, game_num]\n",
    "ppc_only_actual_params_away_game.shape\n",
    "ppc_only_actual_params_home_game = ppc_only_actual_params[:, :, game_num]\n",
    "ppc_only_actual_params_home_game.shape"
   ]
  },
  {
   "cell_type": "code",
   "execution_count": null,
   "metadata": {},
   "outputs": [],
   "source": [
    "game_probs = np.zeros((100, 3))\n",
    "goal_home_idx = []\n",
    "goal_away_idx = []\n",
    "for i in range(100):\n",
    "    hist_home = np.histogram(\n",
    "        ppc_only_actual_params_home_game[:, i],\n",
    "        bins=[0, 1, 2, 3, 4, 5, 6, 7, 8, 9],\n",
    "        density=True,\n",
    "    )\n",
    "    hist_away = np.histogram(\n",
    "        ppc_only_actual_params_away_game[:, i],\n",
    "        bins=[0, 1, 2, 3, 4, 5, 6, 7, 8, 9],\n",
    "        density=True,\n",
    "    )\n",
    "    goals_home = R_test_home[0][game_num] - R_test_home[i][game_num]\n",
    "    goals_away = R_test_away[0][game_num] - R_test_away[i][game_num]\n",
    "    if i > 0:\n",
    "        if R_test_home[i][game_num] != R_test_home[i - 1][game_num]:\n",
    "            goal_home_idx.append(i)\n",
    "        if R_test_away[i][game_num] != R_test_away[i - 1][game_num]:\n",
    "            goal_away_idx.append(i)\n",
    "    goal_matrix = np.zeros((9, 9))\n",
    "    home_prob = 0\n",
    "    away_prob = 0\n",
    "    draw_prob = 0\n",
    "    for h in range(9):\n",
    "        for a in range(9):\n",
    "            goal_matrix[h][a] = hist_home[0][h] * hist_away[0][a]\n",
    "            home = goals_home + h\n",
    "            away = goals_away + a\n",
    "            if home > away:\n",
    "                home_prob += hist_home[0][h] * hist_away[0][a]\n",
    "            elif away > home:\n",
    "                away_prob += hist_home[0][h] * hist_away[0][a]\n",
    "            elif home == away:\n",
    "                draw_prob += hist_home[0][h] * hist_away[0][a]\n",
    "\n",
    "    game_probs[i][0] = home_prob\n",
    "    game_probs[i][1] = draw_prob\n",
    "    game_probs[i][2] = away_prob"
   ]
  },
  {
   "cell_type": "code",
   "execution_count": null,
   "metadata": {},
   "outputs": [],
   "source": [
    "xx = np.arange(100)\n",
    "fig = plt.figure()\n",
    "ax = fig.add_subplot(111)\n",
    "ax.plot(game_probs[:, 0], color=\"green\")\n",
    "ax.plot(game_probs[:, 1], color=\"black\")\n",
    "ax.plot(game_probs[:, 2], color=\"red\")\n",
    "for goal in goal_away_idx:\n",
    "    ax.axvline(goal, color=\"red\", linestyle=\"--\")\n",
    "for goal in goal_home_idx:\n",
    "    ax.axvline(goal, color=\"green\", linestyle=\"--\")\n",
    "\n",
    "ax.fill_between(\n",
    "    xx, y1=game_probs[:, 0], y2=0, alpha=0.5, color=\"green\", linewidth=2, label=\"Home\"\n",
    ")\n",
    "ax.fill_between(\n",
    "    xx, y1=game_probs[:, 1], y2=0, alpha=0.5, color=\"grey\", linewidth=2, label=\"Draw\"\n",
    ")\n",
    "ax.fill_between(\n",
    "    xx, y1=game_probs[:, 2], y2=0, alpha=0.5, color=\"red\", linewidth=2, label=\"Away\"\n",
    ")\n",
    "\n",
    "y_ticks = [0.25, 0.5, 0.75, 1]\n",
    "y_labels = [\"25%\", \"50%\", \"75%\", \"100%\"]\n",
    "x_ticks = [0, 16, 33, 50, 66, 83, 100]\n",
    "x_labels = [\"0\", \"15\", \"30\", \"45\", \"60\", \"75\", \"90\"]\n",
    "ax.set_yticks(y_ticks)\n",
    "ax.set_yticklabels(y_labels)\n",
    "ax.set_xticks(x_ticks)\n",
    "ax.set_xticklabels(x_labels)\n",
    "ax.set_ylabel(\"Win Percentage\")\n",
    "ax.set_xlabel(\"Minutes\")\n",
    "ax.grid(axis=\"y\", color=\"black\")\n",
    "\n",
    "# ax.legend(loc='upper center', bbox_to_anchor=(0.5, 1.05),\n",
    "#           ncol=3, fancybox=True, shadow=False)\n",
    "ax.legend(loc=\"best\", fontsize=8)\n",
    "\n",
    "fig.show()"
   ]
  },
  {
   "cell_type": "code",
   "execution_count": null,
   "metadata": {},
   "outputs": [],
   "source": [
    "len(home_ppc[\"like\"][pred][time][game])"
   ]
  },
  {
   "cell_type": "code",
   "execution_count": null,
   "metadata": {},
   "outputs": [],
   "source": [
    "for i in range(53):\n",
    "    game_num = i\n",
    "\n",
    "    game_probs = np.zeros((100, 3))\n",
    "    goal_home_idx = []\n",
    "    goal_away_idx = []\n",
    "    for i in range(100):\n",
    "        hist_home = np.histogram(\n",
    "            home_ppc[\"like\"][:, i, game_num],\n",
    "            bins=[0, 1, 2, 3, 4, 5, 6, 7, 8, 9],\n",
    "            density=True,\n",
    "        )\n",
    "        hist_away = np.histogram(\n",
    "            away_ppc[\"like\"][:, i, game_num],\n",
    "            bins=[0, 1, 2, 3, 4, 5, 6, 7, 8, 9],\n",
    "            density=True,\n",
    "        )\n",
    "        goals_home = R_test_home[0][game_num] - R_test_home[i][game_num]\n",
    "        goals_away = R_test_away[0][game_num] - R_test_away[i][game_num]\n",
    "        if i > 0:\n",
    "            if R_test_home[i][game_num] != R_test_home[i - 1][game_num]:\n",
    "                goal_home_idx.append(i)\n",
    "            if R_test_away[i][game_num] != R_test_away[i - 1][game_num]:\n",
    "                goal_away_idx.append(i)\n",
    "        goal_matrix = np.zeros((9, 9))\n",
    "        home_prob = 0\n",
    "        away_prob = 0\n",
    "        draw_prob = 0\n",
    "        for h in range(9):\n",
    "            for a in range(9):\n",
    "                goal_matrix[h][a] = hist_home[0][h] * hist_away[0][a]\n",
    "                home = goals_home + h\n",
    "                away = goals_away + a\n",
    "                if home > away:\n",
    "                    home_prob += hist_home[0][h] * hist_away[0][a]\n",
    "                elif away > home:\n",
    "                    away_prob += hist_home[0][h] * hist_away[0][a]\n",
    "                elif home == away:\n",
    "                    draw_prob += hist_home[0][h] * hist_away[0][a]\n",
    "\n",
    "        game_probs[i][0] = home_prob\n",
    "        game_probs[i][1] = draw_prob\n",
    "        game_probs[i][2] = away_prob\n",
    "\n",
    "    fig = plt.figure(figsize=[8.2, 4.8])\n",
    "    ax = fig.add_subplot(111)\n",
    "    x = np.arange(100)\n",
    "    ax.bar(x, height=game_probs[:, 0], width=1, color=\"springgreen\", label=\"Home\")\n",
    "    ax.bar(\n",
    "        x,\n",
    "        height=game_probs[:, 1],\n",
    "        width=1,\n",
    "        color=\"lightsteelblue\",\n",
    "        bottom=game_probs[:, 0],\n",
    "        label=\"Draw\",\n",
    "    )\n",
    "    ax.bar(\n",
    "        x,\n",
    "        height=game_probs[:, 2],\n",
    "        width=1,\n",
    "        color=\"lightcoral\",\n",
    "        bottom=(game_probs[:, 0] + game_probs[:, 1]),\n",
    "        label=\"Away\",\n",
    "    )\n",
    "\n",
    "    goal_pos = []\n",
    "    # minute, team, goal_number\n",
    "    for idx, goal in enumerate(goal_away_idx):\n",
    "        ax.axvline(goal, ymax=1, color=\"black\", linestyle=\"--\")\n",
    "        goal_pos.append((goal, 1, idx + 1))\n",
    "    for idx, goal in enumerate(goal_home_idx):\n",
    "        ax.axvline(goal, ymax=1, color=\"black\", linestyle=\"--\")\n",
    "        goal_pos.append((goal, 0, idx + 1))\n",
    "\n",
    "    goal_pos.sort(key=lambda tup: tup[0])  # sorts in place\n",
    "    home_goals_so_far = 0\n",
    "    away_goals_so_far = 0\n",
    "    for x in goal_pos:\n",
    "        if x[1] == 0:\n",
    "            home_goals_so_far += 1\n",
    "        else:\n",
    "            away_goals_so_far += 1\n",
    "\n",
    "        ax.text(\n",
    "            x[0],\n",
    "            1.02,\n",
    "            str(home_goals_so_far) + \":\" + str(away_goals_so_far),\n",
    "            ha=\"center\",\n",
    "        )\n",
    "\n",
    "    y_ticks = [0.25, 0.5, 0.75, 1]\n",
    "    y_labels = [\"25%\", \"50%\", \"75%\", \"100%\"]\n",
    "    x_ticks = [0, 16, 33, 50, 66, 83, 99]\n",
    "    x_labels = [\"0\", \"15\", \"30\", \"45\", \"60\", \"75\", \"90\"]\n",
    "    ax.set_yticks(y_ticks)\n",
    "    ax.set_yticklabels(y_labels)\n",
    "    ax.set_xticks(x_ticks)\n",
    "    ax.set_xticklabels(x_labels)\n",
    "    ax.set_ylabel(\"Win Percentage\")\n",
    "    ax.set_xlabel(\"Minutes\", loc=\"left\")\n",
    "    ax.grid(axis=\"y\", color=\"black\")\n",
    "    ax.legend(\n",
    "        loc=\"upper center\",\n",
    "        bbox_to_anchor=(0.5, -0.05),\n",
    "        fancybox=True,\n",
    "        shadow=True,\n",
    "        ncol=5,\n",
    "    )\n",
    "    # ax.legend(loc=\"best\", fontsize=8)\n",
    "    ax.margins(x=0, y=0)\n",
    "\n",
    "    fig.savefig(f\"/home/morten/Develop/Live-Win-Prob/media/out/Oldgame{game_num}.jpg\")\n",
    "\n",
    "    fig.clf()"
   ]
  },
  {
   "cell_type": "code",
   "execution_count": null,
   "metadata": {},
   "outputs": [],
   "source": [
    "B_game_probs = np.zeros((53, 100, 3))\n",
    "game_pred = np.zeros((53, 100))\n",
    "acc_pred = np.zeros((53, 100))"
   ]
  },
  {
   "cell_type": "code",
   "execution_count": null,
   "metadata": {},
   "outputs": [],
   "source": [
    "for g in range(53):\n",
    "    game_num = g\n",
    "    ppc_only_actual_params_away_game = ppc_only_actual_params_away[:, :, game_num]\n",
    "    ppc_only_actual_params_away_game.shape\n",
    "    ppc_only_actual_params_home_game = ppc_only_actual_params[:, :, game_num]\n",
    "    ppc_only_actual_params_home_game.shape\n",
    "\n",
    "    game_probs = np.zeros((100, 3))\n",
    "    goal_home_idx = []\n",
    "    goal_away_idx = []\n",
    "    for i in range(100):\n",
    "        hist_home = np.histogram(\n",
    "            ppc_only_actual_params_home_game[:, i],\n",
    "            bins=[0, 1, 2, 3, 4, 5, 6, 7, 8, 9],\n",
    "            density=True,\n",
    "        )\n",
    "        hist_away = np.histogram(\n",
    "            ppc_only_actual_params_away_game[:, i],\n",
    "            bins=[0, 1, 2, 3, 4, 5, 6, 7, 8, 9],\n",
    "            density=True,\n",
    "        )\n",
    "        goals_home = R_test_home[0][game_num] - R_test_home[i][game_num]\n",
    "        goals_away = R_test_away[0][game_num] - R_test_away[i][game_num]\n",
    "        if i > 0:\n",
    "            if R_test_home[i][game_num] != R_test_home[i - 1][game_num]:\n",
    "                goal_home_idx.append(i)\n",
    "            if R_test_away[i][game_num] != R_test_away[i - 1][game_num]:\n",
    "                goal_away_idx.append(i)\n",
    "        goal_matrix = np.zeros((9, 9))\n",
    "        home_prob = 0\n",
    "        away_prob = 0\n",
    "        draw_prob = 0\n",
    "        for h in range(9):\n",
    "            for a in range(9):\n",
    "                goal_matrix[h][a] = hist_home[0][h] * hist_away[0][a]\n",
    "                home = goals_home + h\n",
    "                away = goals_away + a\n",
    "                if home > away:\n",
    "                    home_prob += hist_home[0][h] * hist_away[0][a]\n",
    "                elif away > home:\n",
    "                    away_prob += hist_home[0][h] * hist_away[0][a]\n",
    "                elif home == away:\n",
    "                    draw_prob += hist_home[0][h] * hist_away[0][a]\n",
    "\n",
    "        B_game_probs[g][i][0] = home_prob\n",
    "        B_game_probs[g][i][1] = draw_prob\n",
    "        B_game_probs[g][i][2] = away_prob\n",
    "        if home_prob >= draw_prob and home_prob >= away_prob:\n",
    "            game_pred[g][i] = 0\n",
    "            acc_pred[g][i] = home_prob\n",
    "        elif away_prob >= draw_prob and away_prob >= home_prob:\n",
    "            game_pred[g][i] = 2\n",
    "            acc_pred[g][i] = away_prob\n",
    "        elif draw_prob >= away_prob and draw_prob >= home_prob:\n",
    "            game_pred[g][i] = 1\n",
    "            acc_pred[g][i] = away_prob"
   ]
  },
  {
   "cell_type": "code",
   "execution_count": null,
   "metadata": {},
   "outputs": [],
   "source": [
    "act_res = np.zeros((53))\n",
    "for g in range(53):\n",
    "    goals_diff = R_test_home[0][g] - R_test_away[0][g]\n",
    "    if goals_diff < 0:\n",
    "        act_res[g] = 2\n",
    "    elif goals_diff == 0:\n",
    "        act_res[g] = 1"
   ]
  },
  {
   "cell_type": "code",
   "execution_count": null,
   "metadata": {},
   "outputs": [],
   "source": [
    "act_res"
   ]
  },
  {
   "cell_type": "code",
   "execution_count": null,
   "metadata": {},
   "outputs": [],
   "source": [
    "trace = az.from_netcdf(\n",
    "    \"/home/morten/Develop/Live-Win-Prob/models/away_trace_advi_with_t.nc\"\n",
    ")"
   ]
  },
  {
   "cell_type": "code",
   "execution_count": null,
   "metadata": {},
   "outputs": [],
   "source": [
    "trace_df = trace.to_dict()"
   ]
  },
  {
   "cell_type": "code",
   "execution_count": null,
   "metadata": {},
   "outputs": [],
   "source": [
    "trace_df[\"posterior\"][\"at\"][0][0][:, 0].shape"
   ]
  },
  {
   "cell_type": "code",
   "execution_count": null,
   "metadata": {},
   "outputs": [],
   "source": [
    "trace_df[\"posterior\"][\"at\"][0].shape"
   ]
  },
  {
   "cell_type": "code",
   "execution_count": null,
   "metadata": {},
   "outputs": [],
   "source": [
    "trace_df[\"posterior\"][\"at\"][0][:, 97, 3].shape"
   ]
  },
  {
   "cell_type": "code",
   "execution_count": null,
   "metadata": {},
   "outputs": [],
   "source": [
    "trace_viz = trace_df[\"posterior\"][\"at\"][0]"
   ]
  },
  {
   "cell_type": "code",
   "execution_count": null,
   "metadata": {},
   "outputs": [],
   "source": [
    "trace_viz = np.mean(trace_viz, axis=0)\n",
    "trace_viz.shape"
   ]
  },
  {
   "cell_type": "code",
   "execution_count": null,
   "metadata": {},
   "outputs": [],
   "source": [
    "name = 0\n",
    "tmp = []\n",
    "fig = plt.figure()\n",
    "ax = fig.subplots()\n",
    "for i in range(100):\n",
    "    vals = trace_df[\"posterior\"][\"at\"][0][:, i, name]\n",
    "    ax.vlines([i], np.min(vals), np.max(vals), color=\"grey\")\n",
    "    tmp.append(np.mean(vals))\n",
    "ax.plot(tmp, color=\"black\")"
   ]
  },
  {
   "cell_type": "code",
   "execution_count": null,
   "metadata": {},
   "outputs": [],
   "source": [
    "name = 1\n",
    "tmp = []\n",
    "fig = plt.figure()\n",
    "ax = fig.subplots()\n",
    "for i in range(100):\n",
    "    vals = trace_df[\"posterior\"][\"at\"][0][:, i, name]\n",
    "    ax.vlines([i], np.min(vals), np.max(vals), color=\"grey\")\n",
    "    tmp.append(np.mean(vals))\n",
    "ax.plot(tmp, color=\"black\")"
   ]
  },
  {
   "cell_type": "code",
   "execution_count": null,
   "metadata": {},
   "outputs": [],
   "source": [
    "name = 2\n",
    "tmp = []\n",
    "fig = plt.figure()\n",
    "ax = fig.subplots()\n",
    "for i in range(100):\n",
    "    vals = trace_df[\"posterior\"][\"at\"][0][:, i, name]\n",
    "    ax.vlines([i], np.min(vals), np.max(vals), color=\"grey\")\n",
    "    tmp.append(np.mean(vals))\n",
    "ax.plot(tmp, color=\"black\")"
   ]
  },
  {
   "cell_type": "code",
   "execution_count": null,
   "metadata": {},
   "outputs": [],
   "source": [
    "name = 3\n",
    "tmp = []\n",
    "fig = plt.figure()\n",
    "ax = fig.subplots()\n",
    "for i in range(100):\n",
    "    vals = trace_df[\"posterior\"][\"at\"][0][:, i, name]\n",
    "    ax.vlines([i], np.min(vals), np.max(vals), color=\"grey\")\n",
    "    tmp.append(np.mean(vals))\n",
    "ax.plot(tmp, color=\"black\")"
   ]
  },
  {
   "cell_type": "code",
   "execution_count": null,
   "metadata": {},
   "outputs": [],
   "source": [
    "name = 4\n",
    "tmp = []\n",
    "fig = plt.figure()\n",
    "ax = fig.subplots()\n",
    "for i in range(100):\n",
    "    vals = trace_df[\"posterior\"][\"at\"][0][:, i, name]\n",
    "    ax.vlines([i], np.min(vals), np.max(vals), color=\"grey\")\n",
    "    tmp.append(np.mean(vals))\n",
    "ax.plot(tmp, color=\"black\")"
   ]
  },
  {
   "cell_type": "code",
   "execution_count": null,
   "metadata": {},
   "outputs": [],
   "source": [
    "name = 5\n",
    "tmp = []\n",
    "fig = plt.figure()\n",
    "ax = fig.subplots()\n",
    "for i in range(100):\n",
    "    vals = trace_df[\"posterior\"][\"at\"][0][:, i, name]\n",
    "    ax.vlines([i], np.min(vals), np.max(vals), color=\"grey\")\n",
    "    tmp.append(np.mean(vals))\n",
    "ax.plot(tmp, color=\"black\")"
   ]
  },
  {
   "cell_type": "code",
   "execution_count": null,
   "metadata": {},
   "outputs": [],
   "source": [
    "name = 6\n",
    "tmp = []\n",
    "fig = plt.figure()\n",
    "ax = fig.subplots()\n",
    "for i in range(100):\n",
    "    vals = trace_df[\"posterior\"][\"at\"][0][:, i, name]\n",
    "    ax.vlines([i], np.min(vals), np.max(vals), color=\"grey\")\n",
    "    tmp.append(np.mean(vals))\n",
    "ax.plot(tmp, color=\"black\")"
   ]
  },
  {
   "cell_type": "code",
   "execution_count": null,
   "metadata": {},
   "outputs": [],
   "source": [
    "name = 7\n",
    "tmp = []\n",
    "fig = plt.figure()\n",
    "ax = fig.subplots()\n",
    "for i in range(100):\n",
    "    vals = trace_df[\"posterior\"][\"at\"][0][:, i, name]\n",
    "    ax.vlines([i], np.min(vals), np.max(vals), color=\"grey\")\n",
    "    tmp.append(np.mean(vals))\n",
    "ax.plot(tmp, color=\"black\")"
   ]
  },
  {
   "cell_type": "code",
   "execution_count": null,
   "metadata": {},
   "outputs": [],
   "source": [
    "name = 8\n",
    "tmp = []\n",
    "fig = plt.figure()\n",
    "ax = fig.subplots()\n",
    "for i in range(100):\n",
    "    vals = trace_df[\"posterior\"][\"at\"][0][:, i, name]\n",
    "    ax.vlines([i], np.min(vals), np.max(vals), color=\"grey\")\n",
    "    tmp.append(np.mean(vals))\n",
    "ax.plot(tmp, color=\"black\")"
   ]
  },
  {
   "cell_type": "code",
   "execution_count": null,
   "metadata": {},
   "outputs": [],
   "source": [
    "plt.plot(trace_viz[:, 0])"
   ]
  },
  {
   "cell_type": "code",
   "execution_count": null,
   "metadata": {},
   "outputs": [],
   "source": [
    "plt.plot(trace_viz[:, 1])"
   ]
  },
  {
   "cell_type": "code",
   "execution_count": null,
   "metadata": {},
   "outputs": [],
   "source": [
    "plt.plot(trace_viz[:, 2])"
   ]
  },
  {
   "cell_type": "code",
   "execution_count": null,
   "metadata": {},
   "outputs": [],
   "source": [
    "plt.plot(trace_viz[:, 3])"
   ]
  },
  {
   "cell_type": "code",
   "execution_count": null,
   "metadata": {},
   "outputs": [],
   "source": [
    "plt.plot(trace_viz[:, 4])"
   ]
  },
  {
   "cell_type": "code",
   "execution_count": null,
   "metadata": {},
   "outputs": [],
   "source": [
    "plt.plot(trace_viz[:, 5])"
   ]
  },
  {
   "cell_type": "code",
   "execution_count": null,
   "metadata": {},
   "outputs": [],
   "source": [
    "plt.plot(trace_viz[:, 6])"
   ]
  },
  {
   "cell_type": "code",
   "execution_count": null,
   "metadata": {},
   "outputs": [],
   "source": [
    "plt.plot(trace_viz[:, 7])"
   ]
  },
  {
   "cell_type": "code",
   "execution_count": null,
   "metadata": {},
   "outputs": [],
   "source": [
    "plt.plot(trace_viz[:, 8])"
   ]
  },
  {
   "cell_type": "code",
   "execution_count": null,
   "metadata": {},
   "outputs": [],
   "source": []
  },
  {
   "cell_type": "code",
   "execution_count": null,
   "metadata": {},
   "outputs": [],
   "source": [
    "## ece\n",
    "## first half"
   ]
  },
  {
   "cell_type": "code",
   "execution_count": null,
   "metadata": {},
   "outputs": [],
   "source": [
    "# create B:\n",
    "B_fh = B_game_probs[:, :50, :]"
   ]
  },
  {
   "cell_type": "code",
   "execution_count": null,
   "metadata": {},
   "outputs": [],
   "source": [
    "def acc_ece(Bm, pred, label):\n",
    "    pred = np.array(pred)\n",
    "    mul = 1 / pred.size\n",
    "    sum_ece = 0\n",
    "    for x in range(len(label)):\n",
    "        for i in range(len(pred[x])):\n",
    "            if pred[x][i] == label[x]:\n",
    "                sum_ece += 1\n",
    "    return mul * sum_ece"
   ]
  },
  {
   "cell_type": "code",
   "execution_count": null,
   "metadata": {},
   "outputs": [],
   "source": [
    "def conf_ece(Bm, prob):\n",
    "    prob = np.array(prob)\n",
    "    mul = mul = 1 / prob.size\n",
    "    mul2 = np.sum(prob)\n",
    "    return mul * mul2"
   ]
  },
  {
   "cell_type": "code",
   "execution_count": null,
   "metadata": {},
   "outputs": [],
   "source": [
    "M = 5\n",
    "Bm = []\n",
    "game_pred_Bm = []\n",
    "acc_pred_Bm = []\n",
    "# label_Bm = []\n",
    "step_size = len(B_fh[0]) / M\n",
    "for i in range(M):\n",
    "    Bm.append(B_fh[:, int((i * step_size)) : int(((i + 1) * step_size)), :])\n",
    "    game_pred_Bm.append(game_pred[:, int((i * step_size)) : int(((i + 1) * step_size))])\n",
    "    acc_pred_Bm.append(acc_pred[:, int((i * step_size)) : int(((i + 1) * step_size))])\n",
    "#    label_Bm.append(act_res[int((i*step_size)):int(((i+1)*step_size))])"
   ]
  },
  {
   "cell_type": "code",
   "execution_count": null,
   "metadata": {},
   "outputs": [],
   "source": [
    "N = 53\n",
    "m = 1\n",
    "ece = 0\n",
    "while m - 1 <= M - 1:\n",
    "    mul = len(Bm[m - 1]) / N\n",
    "    acc = acc_ece(Bm[m - 1], game_pred_Bm[m - 1], act_res)\n",
    "\n",
    "    conf = conf_ece(Bm[m - 1], acc_pred_Bm[m - 1])\n",
    "    ece += (1 / 5) * mul * np.abs(acc - conf)\n",
    "    m += 1\n",
    "\n",
    "print(ece)"
   ]
  }
 ],
 "metadata": {
  "kernelspec": {
   "display_name": "Python 3.10.4 ('packing-report')",
   "language": "python",
   "name": "python3"
  },
  "language_info": {
   "codemirror_mode": {
    "name": "ipython",
    "version": 3
   },
   "file_extension": ".py",
   "mimetype": "text/x-python",
   "name": "python",
   "nbconvert_exporter": "python",
   "pygments_lexer": "ipython3",
   "version": "3.10.4 (main, Mar 31 2022, 08:41:55) [GCC 7.5.0]"
  },
  "orig_nbformat": 4,
  "vscode": {
   "interpreter": {
    "hash": "712082fa5832080cfbc451c8f4e95f25cd39c626d7d8aebf8310513402cfb031"
   }
  }
 },
 "nbformat": 4,
 "nbformat_minor": 2
}
