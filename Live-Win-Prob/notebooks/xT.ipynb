{
 "cells": [
  {
   "cell_type": "code",
   "execution_count": null,
   "metadata": {},
   "outputs": [],
   "source": [
    "from kloppy import statsbomb\n",
    "import pandas as pd\n",
    "import numpy as np\n",
    "import matplotlib.pyplot as plt\n",
    "from matplotlib.patches import Arc\n",
    "import json"
   ]
  },
  {
   "cell_type": "code",
   "execution_count": null,
   "metadata": {},
   "outputs": [],
   "source": [
    "import sys\n",
    "\n",
    "sys.path.append(\"/home/morten/Develop/Live-Win-Prob/utils\")\n",
    "from lwp_utils import get_mat_pos\n",
    "from lwp_drawing_utils import draw_field"
   ]
  },
  {
   "cell_type": "code",
   "execution_count": null,
   "metadata": {},
   "outputs": [],
   "source": [
    "with open(\n",
    "    \"/home/morten/Develop/Open-Data/statsbomb/open-data/data/competitions.json\", \"r\"\n",
    ") as f:\n",
    "    comp = json.load(f)"
   ]
  },
  {
   "cell_type": "code",
   "execution_count": null,
   "metadata": {},
   "outputs": [],
   "source": [
    "all_comps = []\n",
    "for x in comp:\n",
    "    all_comps.append(\n",
    "        pd.read_json(\n",
    "            f\"/home/morten/Develop/Open-Data/statsbomb/open-data/data/matches/{x['competition_id']}/{x['season_id']}.json\"\n",
    "        )\n",
    "    )\n",
    "all_games = pd.concat(all_comps)\n",
    "all_games.reset_index()"
   ]
  },
  {
   "cell_type": "markdown",
   "metadata": {},
   "source": [
    "## Helper Functions"
   ]
  },
  {
   "cell_type": "code",
   "execution_count": null,
   "metadata": {},
   "outputs": [],
   "source": [
    "def calc_xG(match_id):\n",
    "    try:\n",
    "        dataset = statsbomb.load(\n",
    "            event_data=f\"/home/morten/Develop/Open-Data/statsbomb/open-data/data/events/{match_id}.json\",\n",
    "            lineup_data=f\"/home/morten/Develop/Open-Data/statsbomb/open-data/data/lineups/{match_id}.json\",\n",
    "            # Optional arguments\n",
    "            coordinates=\"statsbomb\",\n",
    "            event_types=[\"shot\"],\n",
    "        )\n",
    "\n",
    "        for event in dataset.events:\n",
    "            width_mat, height_mat = get_mat_pos(\n",
    "                event.raw_event[\"location\"][0], event.raw_event[\"location\"][1]\n",
    "            )\n",
    "            total_shots[height_mat][width_mat] += 1\n",
    "            if event.raw_event[\"shot\"][\"outcome\"][\"name\"] == \"Goal\":\n",
    "                goals[height_mat][width_mat] += 1\n",
    "    except (KeyError, ValueError):\n",
    "        print(\"match error\")"
   ]
  },
  {
   "cell_type": "markdown",
   "metadata": {},
   "source": [
    "# Simple xG"
   ]
  },
  {
   "cell_type": "code",
   "execution_count": null,
   "metadata": {},
   "outputs": [],
   "source": [
    "total_shots = np.zeros((16, 24))\n",
    "goals = np.zeros((16, 24))"
   ]
  },
  {
   "cell_type": "code",
   "execution_count": null,
   "metadata": {},
   "outputs": [],
   "source": [
    "# match_id.apply(lambda id: calc_xG(id[0]), axis=1)\n",
    "# match_id1.apply(lambda id: calc_xG(id[0]), axis=1)\n",
    "# match_id2.apply(lambda id: calc_xG(id[0]), axis=1)\n",
    "\n",
    "all_games.apply(lambda id: calc_xG(id[0]), axis=1)"
   ]
  },
  {
   "cell_type": "code",
   "execution_count": null,
   "metadata": {},
   "outputs": [],
   "source": [
    "# xG = np.zeros((16,24))\n",
    "# for y in range(16):\n",
    "#     for x in range(24):\n",
    "#         if total_shots[y][x] != 0:\n",
    "#             xG[y][x]=goals[y][x]/total_shots[y][x]\n",
    "#         else:\n",
    "#             xG[y][x] = 0\n",
    "####\n",
    "# only calculate xG if more than 10 shots were taken\n",
    "xG = np.zeros((16, 24))\n",
    "for y in range(16):\n",
    "    for x in range(24):\n",
    "        if total_shots[y][x] >= 10:\n",
    "            xG[y][x] = goals[y][x] / total_shots[y][x]\n",
    "        else:\n",
    "            xG[y][x] = 0"
   ]
  },
  {
   "cell_type": "code",
   "execution_count": null,
   "metadata": {},
   "outputs": [],
   "source": [
    "fig = plt.figure()\n",
    "ax = fig.subplots()\n",
    "draw_field(ax, xG, \"white\")\n",
    "ax.set_title(\"simple xG\")\n",
    "plt.show()"
   ]
  },
  {
   "cell_type": "code",
   "execution_count": null,
   "metadata": {},
   "outputs": [],
   "source": [
    "import pickle\n",
    "\n",
    "with open(\"/home/morten/Develop/Live-Win-Prob/models/simple_xG\", \"wb\") as fp:\n",
    "    pickle.dump(xG, fp)"
   ]
  },
  {
   "cell_type": "code",
   "execution_count": null,
   "metadata": {},
   "outputs": [],
   "source": [
    "for x in xG:\n",
    "    for y in x:\n",
    "        if y >= 0.15:\n",
    "            print(y)"
   ]
  },
  {
   "cell_type": "code",
   "execution_count": null,
   "metadata": {},
   "outputs": [],
   "source": [
    "fig = plt.figure()\n",
    "ax = fig.subplots()\n",
    "draw_field(ax, total_shots, \"white\")\n",
    "ax.set_title(\"shot locations\")"
   ]
  },
  {
   "cell_type": "markdown",
   "metadata": {},
   "source": [
    "## Statsbomb xG"
   ]
  },
  {
   "cell_type": "code",
   "execution_count": null,
   "metadata": {},
   "outputs": [],
   "source": [
    "statsbombXG = [[[] for y in range(24)] for x in range(16)]\n",
    "\n",
    "\n",
    "def calc_statsbomb_xG(match_id):\n",
    "    try:\n",
    "        dataset = statsbomb.load(\n",
    "            event_data=f\"/home/morten/Develop/Open-Data/statsbomb/open-data/data/events/{match_id}.json\",\n",
    "            lineup_data=f\"/home/morten/Develop/Open-Data/statsbomb/open-data/data/lineups/{match_id}.json\",\n",
    "            # Optional arguments\n",
    "            coordinates=\"statsbomb\",\n",
    "            event_types=[\"shot\"],\n",
    "        )\n",
    "\n",
    "        for event in dataset.events:\n",
    "            width_mat, height_mat = get_mat_pos(\n",
    "                event.raw_event[\"location\"][0], event.raw_event[\"location\"][1]\n",
    "            )\n",
    "            statsbombXG[height_mat][width_mat].append(\n",
    "                event.raw_event[\"shot\"][\"statsbomb_xg\"]\n",
    "            )\n",
    "    except (KeyError, ValueError):\n",
    "        print(\"match error\")"
   ]
  },
  {
   "cell_type": "code",
   "execution_count": null,
   "metadata": {},
   "outputs": [],
   "source": [
    "# match_id.apply(lambda id: calc_statsbomb_xG(id[0]), axis=1)\n",
    "# match_id1.apply(lambda id: calc_statsbomb_xG(id[0]), axis=1)\n",
    "# match_id2.apply(lambda id: calc_statsbomb_xG(id[0]), axis=1)\n",
    "\n",
    "all_games.apply(lambda id: calc_statsbomb_xG(id[0]), axis=1)"
   ]
  },
  {
   "cell_type": "code",
   "execution_count": null,
   "metadata": {},
   "outputs": [],
   "source": [
    "total_shots_statsbomb = np.zeros((16, 24))\n",
    "for x in range(len(statsbombXG)):\n",
    "    for y in range(len(statsbombXG[x])):\n",
    "        total_shots_statsbomb = len(statsbombXG[x][y])\n",
    "        statsbombXG[x][y] = (\n",
    "            np.sum(statsbombXG[x][y]) / len(statsbombXG[x][y])\n",
    "            if len(statsbombXG[x][y]) != 0\n",
    "            else 0\n",
    "        )"
   ]
  },
  {
   "cell_type": "code",
   "execution_count": null,
   "metadata": {},
   "outputs": [],
   "source": [
    "fig = plt.figure()\n",
    "ax = fig.subplots()\n",
    "ax = draw_field(ax, statsbombXG, \"white\")\n",
    "ax.set_title(\"statsbomb xG\")"
   ]
  },
  {
   "cell_type": "code",
   "execution_count": null,
   "metadata": {},
   "outputs": [],
   "source": [
    "import pickle\n",
    "\n",
    "with open(\"/home/morten/Develop/Live-Win-Prob/models/statsbomb_xG\", \"wb\") as fp:\n",
    "    pickle.dump(statsbombXG, fp)"
   ]
  },
  {
   "cell_type": "markdown",
   "metadata": {},
   "source": [
    "# xT - expected Thread"
   ]
  },
  {
   "cell_type": "markdown",
   "metadata": {},
   "source": [
    "### create transition Matrix T"
   ]
  },
  {
   "cell_type": "code",
   "execution_count": null,
   "metadata": {},
   "outputs": [],
   "source": [
    "pass_carry_loc = [[[] for y in range(24)] for x in range(16)]\n",
    "print(len(pass_carry_loc))\n",
    "print(len(pass_carry_loc[0]))"
   ]
  },
  {
   "cell_type": "code",
   "execution_count": null,
   "metadata": {},
   "outputs": [],
   "source": [
    "def pass_t(match_id):\n",
    "    try:\n",
    "        dataset = statsbomb.load(\n",
    "            event_data=f\"/home/morten/Develop/Open-Data/statsbomb/open-data/data/events/{match_id}.json\",\n",
    "            lineup_data=f\"/home/morten/Develop/Open-Data/statsbomb/open-data/data/lineups/{match_id}.json\",\n",
    "            # Optional arguments\n",
    "            coordinates=\"statsbomb\",\n",
    "            event_types=[\"pass\"],\n",
    "        )\n",
    "\n",
    "        for event in dataset.events:\n",
    "            # pass is completed\n",
    "            if \"outcome\" not in event.raw_event[\"pass\"]:\n",
    "                width, height = get_mat_pos(\n",
    "                    event.raw_event[\"location\"][0], event.raw_event[\"location\"][1]\n",
    "                )\n",
    "                end_width, end_height = get_mat_pos(\n",
    "                    event.raw_event[\"pass\"][\"end_location\"][0],\n",
    "                    event.raw_event[\"pass\"][\"end_location\"][1],\n",
    "                )\n",
    "                pass_carry_loc[height][width].append([end_height, end_width])\n",
    "    except (KeyError, ValueError):\n",
    "        print(\"match error\")"
   ]
  },
  {
   "cell_type": "code",
   "execution_count": null,
   "metadata": {},
   "outputs": [],
   "source": [
    "# match_id.apply(lambda id: pass_t(id[0]), axis=1)\n",
    "# match_id1.apply(lambda id: pass_t(id[0]), axis=1)\n",
    "# match_id2.apply(lambda id: pass_t(id[0]), axis=1)\n",
    "\n",
    "all_games.apply(lambda id: pass_t(id[0]), axis=1)"
   ]
  },
  {
   "cell_type": "code",
   "execution_count": null,
   "metadata": {},
   "outputs": [],
   "source": [
    "def get_t_for_pos(x, y):\n",
    "    Txy = np.zeros((16, 24))\n",
    "    for moves in pass_carry_loc[x][y]:\n",
    "        Txy[moves[0]][moves[1]] += 1\n",
    "\n",
    "    return Txy"
   ]
  },
  {
   "cell_type": "code",
   "execution_count": null,
   "metadata": {},
   "outputs": [],
   "source": [
    "txy = get_t_for_pos(15, 5)\n",
    "fig = plt.figure()\n",
    "ax = fig.subplots()\n",
    "ax = draw_field(ax, txy, \"white\")\n",
    "ax.set_title(\"passes from, to location\")"
   ]
  },
  {
   "cell_type": "code",
   "execution_count": null,
   "metadata": {},
   "outputs": [],
   "source": [
    "def carry_t(match_id):\n",
    "    try:\n",
    "        dataset = statsbomb.load(\n",
    "            event_data=f\"/home/morten/Develop/Open-Data/statsbomb/open-data/data/events/{match_id}.json\",\n",
    "            lineup_data=f\"/home/morten/Develop/Open-Data/statsbomb/open-data/data/lineups/{match_id}.json\",\n",
    "            # Optional arguments\n",
    "            coordinates=\"statsbomb\",\n",
    "            event_types=[\"carry\"],\n",
    "        )\n",
    "\n",
    "        for event in dataset.events:\n",
    "            # only use carry if longer than 1 second\n",
    "            if event.raw_event[\"duration\"] > 1.5:\n",
    "                width, height = get_mat_pos(\n",
    "                    event.raw_event[\"location\"][0], event.raw_event[\"location\"][1]\n",
    "                )\n",
    "                end_width, end_height = get_mat_pos(\n",
    "                    event.raw_event[\"carry\"][\"end_location\"][0],\n",
    "                    event.raw_event[\"carry\"][\"end_location\"][1],\n",
    "                )\n",
    "                pass_carry_loc[height][width].append([end_height, end_width])\n",
    "    except (KeyError, ValueError):\n",
    "        print(\"match error\")"
   ]
  },
  {
   "cell_type": "code",
   "execution_count": null,
   "metadata": {},
   "outputs": [],
   "source": [
    "# match_id.apply(lambda id: carry_t(id[0]), axis=1)\n",
    "# match_id1.apply(lambda id: carry_t(id[0]), axis=1)\n",
    "# match_id2.apply(lambda id: carry_t(id[0]), axis=1)\n",
    "\n",
    "all_games.apply(lambda id: carry_t(id[0]), axis=1)"
   ]
  },
  {
   "cell_type": "code",
   "execution_count": null,
   "metadata": {},
   "outputs": [],
   "source": [
    "txy = get_t_for_pos(15, 5)\n",
    "fig = plt.figure()\n",
    "ax = fig.subplots()\n",
    "ax = draw_field(ax, txy, \"white\")\n",
    "ax.set_title(\"passes and carry from, to location\")"
   ]
  },
  {
   "cell_type": "code",
   "execution_count": null,
   "metadata": {},
   "outputs": [],
   "source": [
    "S = np.zeros((16, 24))\n",
    "for y in range(16):\n",
    "    for x in range(24):\n",
    "        total = total_shots[y][x] + len(pass_carry_loc[y][x])\n",
    "        s = total_shots[y][x] / total\n",
    "        m = len(pass_carry_loc[y][x]) / total\n",
    "        S[y][x] = s"
   ]
  },
  {
   "cell_type": "code",
   "execution_count": null,
   "metadata": {},
   "outputs": [],
   "source": [
    "C = np.zeros((16, 24))\n",
    "for y in range(16):\n",
    "    for x in range(24):\n",
    "        total = total_shots[y][x] + len(pass_carry_loc[y][x])\n",
    "        s = total_shots[y][x] / total\n",
    "        m = len(pass_carry_loc[y][x]) / total\n",
    "        C[y][x] = m"
   ]
  },
  {
   "cell_type": "code",
   "execution_count": null,
   "metadata": {},
   "outputs": [],
   "source": [
    "fig = plt.figure()\n",
    "ax = fig.subplots()\n",
    "ax = draw_field(ax, S, \"white\")\n",
    "ax.set_title(\"passes and carry from, to location\")"
   ]
  },
  {
   "cell_type": "code",
   "execution_count": null,
   "metadata": {},
   "outputs": [],
   "source": [
    "fig = plt.figure()\n",
    "ax = fig.subplots()\n",
    "ax = draw_field(ax, C, \"black\")\n",
    "ax.set_title(\"passes and carry from, to location\")"
   ]
  },
  {
   "cell_type": "code",
   "execution_count": null,
   "metadata": {},
   "outputs": [],
   "source": [
    "def get_t_for_pos_prob(x, y):\n",
    "    Txy = np.zeros((16, 24))\n",
    "    move_cnt = len(pass_carry_loc[x][y])\n",
    "    for moves in pass_carry_loc[x][y]:\n",
    "        Txy[moves[0]][moves[1]] += 1\n",
    "\n",
    "    for y in range(16):\n",
    "        for x in range(24):\n",
    "            Txy[y][x] = Txy[y][x] / move_cnt\n",
    "\n",
    "    return Txy"
   ]
  },
  {
   "cell_type": "code",
   "execution_count": null,
   "metadata": {},
   "outputs": [],
   "source": [
    "txy = get_t_for_pos_prob(15, 5)\n",
    "fig = plt.figure()\n",
    "ax = fig.subplots()\n",
    "ax = draw_field(ax, txy, \"white\")\n",
    "ax.set_title(\"passes and carry from, to location\")"
   ]
  },
  {
   "cell_type": "code",
   "execution_count": null,
   "metadata": {},
   "outputs": [],
   "source": [
    "corner_move_prob = get_t_for_pos_prob(0, 23)\n",
    "fig = plt.figure()\n",
    "ax = fig.subplots()\n",
    "ax = draw_field(ax, corner_move_prob, \"white\")\n",
    "ax.set_title(\"corner_move_prob\")"
   ]
  },
  {
   "cell_type": "code",
   "execution_count": null,
   "metadata": {},
   "outputs": [],
   "source": [
    "XT0 = np.zeros((16, 24))\n",
    "XT1 = np.zeros((16, 24))\n",
    "XT2 = np.zeros((16, 24))\n",
    "XT3 = np.zeros((16, 24))\n",
    "XT4 = np.zeros((16, 24))"
   ]
  },
  {
   "cell_type": "code",
   "execution_count": null,
   "metadata": {},
   "outputs": [],
   "source": [
    "XT5 = np.zeros((16, 24))"
   ]
  },
  {
   "cell_type": "code",
   "execution_count": null,
   "metadata": {},
   "outputs": [],
   "source": [
    "def get_move_reward(t):\n",
    "    total_move = 0\n",
    "    for y in range(16):\n",
    "        for x in range(24):\n",
    "            total_move += t[y][x] * XT4[y][x]\n",
    "    return total_move"
   ]
  },
  {
   "cell_type": "code",
   "execution_count": null,
   "metadata": {},
   "outputs": [],
   "source": [
    "for y in range(16):\n",
    "    for x in range(24):\n",
    "        # xT formula\n",
    "        XT5[y][x] = (S[y][x] * statsbombXG[y][x]) + (\n",
    "            C[y][x] * get_move_reward(get_t_for_pos_prob(y, x))\n",
    "        )"
   ]
  },
  {
   "cell_type": "code",
   "execution_count": null,
   "metadata": {},
   "outputs": [],
   "source": [
    "fig = plt.figure()\n",
    "ax = fig.add_subplot(111)\n",
    "ax.set_title(\"xT\")\n",
    "cax = ax.matshow(XT5, interpolation=\"nearest\")\n",
    "fig.colorbar(cax)"
   ]
  },
  {
   "cell_type": "code",
   "execution_count": null,
   "metadata": {},
   "outputs": [],
   "source": [
    "import pickle\n",
    "\n",
    "with open(\"/home/morten/Develop/Live-Win-Prob/models/statsbomb_xT\", \"wb\") as fp:\n",
    "    pickle.dump(XT5, fp)"
   ]
  },
  {
   "cell_type": "code",
   "execution_count": null,
   "metadata": {},
   "outputs": [],
   "source": [
    "fig = plt.figure()\n",
    "ax = fig.add_subplot(1, 1, 1)\n",
    "ax.matshow(xG, extent=[0, 24, 0, 16], interpolation=\"nearest\")\n",
    "\n",
    "## sizes\n",
    "STATSBOMB_WIDTH = 24\n",
    "STATSBOMB_HEIGHT = 16\n",
    "STANDARD_PITCH_SIZE_WIDTH = 120\n",
    "STANDARD_PITCH_SIZE_WIDTH = 80\n",
    "\n",
    "# outline and middle line\n",
    "ax.plot([0, 0], [0, STATSBOMB_HEIGHT], color=\"black\")\n",
    "ax.plot([0, STATSBOMB_WIDTH], [STATSBOMB_HEIGHT, STATSBOMB_HEIGHT], color=\"black\")\n",
    "ax.plot([STATSBOMB_WIDTH, STATSBOMB_WIDTH], [STATSBOMB_HEIGHT, 0], color=\"black\")\n",
    "ax.plot([STATSBOMB_WIDTH, 0], [0, 0], color=\"black\")\n",
    "ax.plot(\n",
    "    [STATSBOMB_WIDTH / 2, STATSBOMB_WIDTH / 2], [0, STATSBOMB_HEIGHT], color=\"black\"\n",
    ")\n",
    "\n",
    "# middle circle\n",
    "centreCircle = plt.Circle(\n",
    "    (STATSBOMB_WIDTH / 2, STATSBOMB_HEIGHT / 2), 1.85, color=\"black\", fill=False\n",
    ")\n",
    "centreSpot = plt.Circle((STATSBOMB_WIDTH / 2, STATSBOMB_HEIGHT / 2), 0.1, color=\"black\")\n",
    "\n",
    "ax.add_patch(centreCircle)\n",
    "ax.add_patch(centreSpot)\n",
    "\n",
    "# left penalty area\n",
    "ax.plot([3.3, 3.3], [12, 4], color=\"black\")\n",
    "ax.plot([0, 3.3], [12, 12], color=\"black\")\n",
    "ax.plot([3.3, 0], [4, 4], color=\"black\")\n",
    "\n",
    "# Create Arc and add it to our plot\n",
    "leftArc = Arc(\n",
    "    (2.2, STATSBOMB_HEIGHT / 2),\n",
    "    height=3.66,\n",
    "    width=3.66,\n",
    "    angle=0,\n",
    "    theta1=310,\n",
    "    theta2=50,\n",
    "    color=\"black\",\n",
    ")\n",
    "leftPenSpot = plt.Circle((2.2, STATSBOMB_HEIGHT / 2), 0.1, color=\"black\")\n",
    "\n",
    "ax.add_patch(leftArc)\n",
    "ax.add_patch(leftPenSpot)\n",
    "\n",
    "# left 6 yard box\n",
    "ax.plot([1.1, 1.1], [9.8, 6.2], color=\"black\")\n",
    "ax.plot([0, 1.1], [9.8, 9.8], color=\"black\")\n",
    "ax.plot([1.1, 0], [6.2, 6.2], color=\"black\")\n",
    "\n",
    "# right penalty box\n",
    "ax.plot([24 - 3.3, 24 - 3.3], [16 - 12, 16 - 4], color=\"black\")\n",
    "ax.plot([24 - 0, 24 - 3.3], [16 - 12, 16 - 12], color=\"black\")\n",
    "ax.plot([24 - 3.3, 24 - 0], [16 - 4, 16 - 4], color=\"black\")\n",
    "\n",
    "# left 6 yard box\n",
    "ax.plot([24 - 1.1, 24 - 1.1], [16 - 9.8, 16 - 6.2], color=\"black\")\n",
    "ax.plot([24 - 0, 24 - 1.1], [16 - 9.8, 16 - 9.8], color=\"black\")\n",
    "ax.plot([24 - 1.1, 24 - 0], [16 - 6.2, 16 - 6.2], color=\"black\")\n",
    "\n",
    "# right spots\n",
    "leftArc = Arc(\n",
    "    (24 - 2.2, STATSBOMB_HEIGHT / 2),\n",
    "    height=3.66,\n",
    "    width=3.66,\n",
    "    angle=0,\n",
    "    theta1=130,\n",
    "    theta2=230,\n",
    "    color=\"black\",\n",
    ")\n",
    "leftPenSpot = plt.Circle((24 - 2.2, STATSBOMB_HEIGHT / 2), 0.1, color=\"black\")\n",
    "\n",
    "ax.add_patch(leftArc)\n",
    "ax.add_patch(leftPenSpot)\n",
    "\n",
    "\n",
    "ax.show()"
   ]
  },
  {
   "cell_type": "code",
   "execution_count": null,
   "metadata": {},
   "outputs": [],
   "source": []
  }
 ],
 "metadata": {
  "interpreter": {
   "hash": "b24b17624f07a4f40428463937d94a2405f516ba067ac86a02749668f38ea206"
  },
  "kernelspec": {
   "display_name": "Python 3.9.7 ('LWP')",
   "language": "python",
   "name": "python3"
  },
  "language_info": {
   "codemirror_mode": {
    "name": "ipython",
    "version": 3
   },
   "file_extension": ".py",
   "mimetype": "text/x-python",
   "name": "python",
   "nbconvert_exporter": "python",
   "pygments_lexer": "ipython3",
   "version": "3.9.7"
  },
  "orig_nbformat": 4
 },
 "nbformat": 4,
 "nbformat_minor": 2
}
