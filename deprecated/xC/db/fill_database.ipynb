{
 "cells": [
  {
   "cell_type": "code",
   "execution_count": null,
   "metadata": {},
   "outputs": [],
   "source": [
    "import requests\n",
    "import json\n",
    "import sqlite3\n",
    "\n",
    "# Danish Superliga id: 271\n",
    "# Scottish Prem id: 501\n",
    "\n",
    "API_TOKEN = json.load(open('/home/morten/Develop/secrets.json', 'r'))['sportmonks']['API_TOKEN']\n",
    "Danish_SL = 271\n",
    "Scottish_Prem = 501"
   ]
  },
  {
   "cell_type": "code",
   "execution_count": null,
   "metadata": {},
   "outputs": [],
   "source": [
    "request = f\"https://soccer.sportmonks.com/api/v2.0/seasons?api_token={API_TOKEN}&league={Danish_SL}\"\n",
    "# request = f\"https://soccer.sportmonks.com/api/v2.0/fixtures/date/2020-08-02?api_token={API_TOKEN}&leagues=271\"\n",
    "r = requests.get(request)\n",
    "print(r)\n",
    "data = r.json()\n",
    "league_list = []\n",
    "for x in data[\"data\"]:\n",
    "    league_list.append(x[\"id\"])\n",
    "\n",
    "print(len(league_list))"
   ]
  },
  {
   "cell_type": "code",
   "execution_count": null,
   "metadata": {},
   "outputs": [],
   "source": [
    "game_list = []\n",
    "for season in league_list:\n",
    "    request = f\"https://soccer.sportmonks.com/api/v2.0/rounds/season/{season}?api_token={API_TOKEN}&include=fixtures\"\n",
    "\n",
    "    r = requests.get(request)\n",
    "    data = r.json()\n",
    "    for gameday in data[\"data\"]:\n",
    "        for game in gameday[\"fixtures\"][\"data\"]:\n",
    "            # print(f\"{gameday['name']}, {game['id']}, {game['localteam_id']}, {game['visitorteam_id']}\" )\n",
    "            game_list.append(game[\"id\"])\n",
    "\n",
    "print(len(game_list))"
   ]
  },
  {
   "cell_type": "code",
   "execution_count": null,
   "metadata": {},
   "outputs": [],
   "source": [
    "num_requests = 170\n",
    "game_sub_list = game_list[:num_requests]\n",
    "game_list = game_list[num_requests:]\n",
    "\n",
    "print(len(game_sub_list))\n",
    "print(len(game_list))"
   ]
  },
  {
   "cell_type": "code",
   "execution_count": null,
   "metadata": {},
   "outputs": [],
   "source": [
    "for game in game_sub_list:\n",
    "    request = f\"https://soccer.sportmonks.com/api/v2.0/fixtures/{game}?api_token={API_TOKEN}&include=lineup,substitutions,events,corners\"\n",
    "\n",
    "    r = requests.get(request)\n",
    "\n",
    "    data = r.json()\n",
    "\n",
    "    # print(json.dumps(data, indent=2))\n",
    "\n",
    "    if data[\"data\"][\"corners\"][\"data\"]:\n",
    "        print(\"corners is empty: skip\")\n",
    "        continue\n",
    "    if data[\"data\"][\"lineup\"][\"data\"]:\n",
    "        print(\"lineup is empty: skip\")\n",
    "        continue\n",
    "\n",
    "    con = sqlite3.connect(\"cI.db\")\n",
    "\n",
    "    cur = con.cursor()\n",
    "\n",
    "    # for each match\n",
    "    localTeam = data[\"data\"][\"localteam_id\"]\n",
    "    visitorTeam = data[\"data\"][\"visitorteam_id\"]\n",
    "    # date to string\n",
    "    date = data[\"data\"][\"time\"][\"starting_at\"][\"date\"]\n",
    "    date = date.split(\"-\")\n",
    "    date = date[0] + date[1] + date[2]\n",
    "    # add corners!\n",
    "    for x in data[\"data\"][\"corners\"][\"data\"]:\n",
    "        if x[\"comment\"][0] == \"R\":\n",
    "            continue  # skip \"Race to Nth Corner events\"\n",
    "        team_id = x[\"team_id\"]\n",
    "        corner_min = x[\"minute\"]\n",
    "        cur.execute(\n",
    "            f\"INSERT INTO game (game_id, corner_min, team_id, date) VALUES ({game},{corner_min},{team_id},{date})\"\n",
    "        )\n",
    "\n",
    "    for x in data[\"data\"][\"lineup\"][\"data\"]:\n",
    "        player_id = x[\"player_id\"]\n",
    "        home = 0 if x[\"team_id\"] == str(localTeam) else 1\n",
    "        min_on = 0\n",
    "        min_off = x[\"stats\"][\"other\"][\"minutes_played\"]\n",
    "        cur.execute(\n",
    "            f\"INSERT INTO lineup (game_id, player_id, home, min_on, min_off, team_id) VALUES ({game},{player_id},{home},{min_on},{min_off},{x['team_id']})\"\n",
    "        )\n",
    "\n",
    "    for x in data[\"data\"][\"substitutions\"][\"data\"]:\n",
    "        player_id = x[\"player_in_id\"]\n",
    "        home = 0 if x[\"team_id\"] == localTeam else 1\n",
    "        min_on = x[\"minute\"]\n",
    "        min_off = 90\n",
    "        cur.execute(\n",
    "            f\"INSERT INTO lineup (game_id, player_id, home, min_on, min_off, team_id) VALUES ({game},{player_id},{home},{min_on},{min_off},{x['team_id']})\"\n",
    "        )\n",
    "\n",
    "    con.commit()"
   ]
  }
 ],
 "metadata": {
  "kernelspec": {
   "display_name": "Python 3.9.7 ('vas')",
   "language": "python",
   "name": "python3"
  },
  "language_info": {
   "codemirror_mode": {
    "name": "ipython",
    "version": 3
   },
   "file_extension": ".py",
   "mimetype": "text/x-python",
   "name": "python",
   "nbconvert_exporter": "python",
   "pygments_lexer": "ipython3",
   "version": "3.9.7"
  },
  "orig_nbformat": 4,
  "vscode": {
   "interpreter": {
    "hash": "015ff9de5f74e41163d3deb35fff83dbe25671a72135d7d9682771e5b91602c4"
   }
  }
 },
 "nbformat": 4,
 "nbformat_minor": 2
}
