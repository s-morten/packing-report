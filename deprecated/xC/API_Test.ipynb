{
 "cells": [
  {
   "cell_type": "code",
   "execution_count": null,
   "id": "c652f286",
   "metadata": {},
   "outputs": [],
   "source": [
    "import requests\n",
    "import json\n",
    "\n",
    "# Danish Superliga id: 271\n",
    "# Scottish Prem id: 501\n",
    "\n",
    "API_TOKEN = json.load(open('/home/morten/Develop/secrets.json', 'r'))['sportmonks']['API_TOKEN']\n",
    "Danish_SL = 271\n",
    "Scottish_Prem = 501"
   ]
  },
  {
   "cell_type": "markdown",
   "id": "1602e2bf",
   "metadata": {},
   "source": [
    "Get all available Seasons"
   ]
  },
  {
   "cell_type": "code",
   "execution_count": null,
   "id": "54640dec",
   "metadata": {},
   "outputs": [],
   "source": [
    "request = f\"https://soccer.sportmonks.com/api/v2.0/seasons?api_token={API_TOKEN}&league={Danish_SL}\"\n",
    "# request = f\"https://soccer.sportmonks.com/api/v2.0/fixtures/date/2020-08-02?api_token={API_TOKEN}&leagues=271\"\n",
    "r = requests.get(request)\n",
    "print(r)\n",
    "data = r.json()\n",
    "# print(data)\n",
    "for x in data[\"data\"]:\n",
    "    print(x)"
   ]
  },
  {
   "cell_type": "code",
   "execution_count": null,
   "id": "f3ad0b35",
   "metadata": {},
   "outputs": [],
   "source": [
    "D_first_season = 17328\n",
    "request = f\"https://soccer.sportmonks.com/api/v2.0/rounds/season/{D_first_season}?api_token={API_TOKEN}&include=fixtures\"\n",
    "\n",
    "r = requests.get(request)\n",
    "print(r)\n",
    "data = r.json()\n",
    "game_list = []\n",
    "for gameday in data[\"data\"]:\n",
    "    for game in gameday[\"fixtures\"][\"data\"]:\n",
    "        print(\n",
    "            f\"{gameday['name']}, {game['id']}, {game['localteam_id']}, {game['visitorteam_id']}\"\n",
    "        )\n",
    "        game_list.append(game[\"id\"])"
   ]
  },
  {
   "cell_type": "code",
   "execution_count": null,
   "id": "a6b8ceaa",
   "metadata": {
    "tags": [
     "outputPrepend"
    ]
   },
   "outputs": [],
   "source": [
    "D_first_match = 16773975\n",
    "\n",
    "request = f\"https://soccer.sportmonks.com/api/v2.0/fixtures/{D_first_match}?api_token={API_TOKEN}&include=lineup,substitutions,events\"\n",
    "\n",
    "r = requests.get(request)\n",
    "\n",
    "print(r)\n",
    "\n",
    "data = r.json()\n",
    "\n",
    "print(data)"
   ]
  },
  {
   "cell_type": "code",
   "execution_count": null,
   "id": "7e6e2895",
   "metadata": {},
   "outputs": [],
   "source": [
    "for x in data[\"data\"][\"lineup\"][\"data\"]:\n",
    "    print(str(x[\"team_id\"]) + \" \" + str(x[\"player_id\"]) + \" \" + x[\"player_name\"])\n",
    "\n",
    "print(\"------------------------------------------\")\n",
    "\n",
    "for x in data[\"data\"][\"substitutions\"][\"data\"]:\n",
    "    print(\n",
    "        \"In : \"\n",
    "        + str(x[\"team_id\"])\n",
    "        + \" \"\n",
    "        + str(x[\"player_in_id\"])\n",
    "        + \" \"\n",
    "        + x[\"player_in_name\"]\n",
    "        + \" \"\n",
    "        + str(x[\"minute\"])\n",
    "    )\n",
    "    print(\n",
    "        \"Out: \"\n",
    "        + str(x[\"team_id\"])\n",
    "        + \" \"\n",
    "        + str(x[\"player_out_id\"])\n",
    "        + \" \"\n",
    "        + x[\"player_out_name\"]\n",
    "        + \" \"\n",
    "        + str(x[\"minute\"])\n",
    "    )\n",
    "\n",
    "print(\"------------------------------------------\")\n",
    "\n",
    "for x in data[\"data\"][\"events\"][\"data\"]:\n",
    "    if x[\"type\"] == \"yellowcard\":\n",
    "        print(\n",
    "            \"Yellow: \"\n",
    "            + str(x[\"player_id\"])\n",
    "            + \" \"\n",
    "            + x[\"player_name\"]\n",
    "            + \" \"\n",
    "            + str(x[\"minute\"])\n",
    "        )"
   ]
  },
  {
   "cell_type": "code",
   "execution_count": null,
   "id": "f7124bb9",
   "metadata": {},
   "outputs": [],
   "source": [
    "request = f\"https://soccer.sportmonks.com/api/v2.0/fixtures/{D_first_match}?api_token={API_TOKEN}&include=corners\"\n",
    "\n",
    "r = requests.get(request)\n",
    "\n",
    "print(r)\n",
    "\n",
    "data = r.json()\n",
    "\n",
    "print(data)"
   ]
  },
  {
   "cell_type": "code",
   "execution_count": null,
   "id": "9cfff683",
   "metadata": {},
   "outputs": [],
   "source": [
    "for idx, x in enumerate(data[\"data\"][\"corners\"][\"data\"]):\n",
    "    print(\n",
    "        \"minute: \"\n",
    "        + str(x[\"minute\"])\n",
    "        + \", corner number: \"\n",
    "        + str(idx + 1)\n",
    "        + \", team: \"\n",
    "        + str(x[\"team_id\"])\n",
    "    )"
   ]
  },
  {
   "cell_type": "code",
   "execution_count": null,
   "id": "1c429ba7",
   "metadata": {
    "tags": [
     "outputPrepend"
    ]
   },
   "outputs": [],
   "source": [
    "request = f\"https://soccer.sportmonks.com/api/v2.0/fixtures/{D_first_match}?api_token={API_TOKEN}&include=lineup,substitutions,events,corners\"\n",
    "\n",
    "r = requests.get(request)\n",
    "\n",
    "print(r)\n",
    "\n",
    "data = r.json()\n",
    "\n",
    "# print(data)\n",
    "print(json.dumps(data, indent=2))\n",
    "\n",
    "if data[\"data\"][\"corners\"][\"data\"]:\n",
    "    print(\"corners is empty: skip\")\n",
    "if data[\"data\"][\"lineup\"][\"data\"]:\n",
    "    print(\"lineup is empty: skip\")"
   ]
  },
  {
   "cell_type": "code",
   "execution_count": null,
   "id": "820bcbd1",
   "metadata": {
    "tags": []
   },
   "outputs": [],
   "source": [
    "localTeam = data[\"data\"][\"localteam_id\"]\n",
    "visitorTeam = data[\"data\"][\"visitorteam_id\"]\n",
    "local_corners = []\n",
    "visitor_corners = []\n",
    "players_local = []\n",
    "players_away = []\n",
    "\n",
    "for x in data[\"data\"][\"corners\"][\"data\"]:\n",
    "    if x[\"comment\"][0] == \"R\":\n",
    "        continue  # skip \"Race to Nth Corner events\"\n",
    "    if x[\"team_id\"] == localTeam:\n",
    "        local_corners.append(x[\"minute\"])  # add minute of corner to list of corners\n",
    "    if x[\"team_id\"] == visitorTeam:\n",
    "        visitor_corners.append(x[\"minute\"])\n",
    "\n",
    "for x in data[\"data\"][\"lineup\"][\"data\"]:\n",
    "    if x[\"team_id\"] == localTeam:\n",
    "        players_local.append(\n",
    "            [x[\"player_id\"], 0, x[\"stats\"][\"other\"][\"minutes_played\"], False]\n",
    "        )\n",
    "    if x[\"team_id\"] == visitorTeam:\n",
    "        players_away.append(\n",
    "            [x[\"player_id\"], 0, x[\"stats\"][\"other\"][\"minutes_played\"], False]\n",
    "        )\n",
    "\n",
    "for x in data[\"data\"][\"substitutions\"][\"data\"]:\n",
    "    if x[\"team_id\"] == str(localTeam):\n",
    "        players_local.append([x[\"player_in_id\"], x[\"minute\"], 90, True])\n",
    "    if x[\"team_id\"] == str(visitorTeam):\n",
    "        players_away.append([x[\"player_in_id\"], x[\"minute\"], 90, True])"
   ]
  },
  {
   "cell_type": "code",
   "execution_count": null,
   "id": "f58fa4c2",
   "metadata": {},
   "outputs": [],
   "source": [
    "import sqlite3"
   ]
  },
  {
   "cell_type": "code",
   "execution_count": null,
   "id": "cc8ec383",
   "metadata": {},
   "outputs": [],
   "source": [
    "con = sqlite3.connect(\"cI.db\")\n",
    "\n",
    "cur = con.cursor()\n",
    "\n",
    "# for each match\n",
    "localTeam = data[\"data\"][\"localteam_id\"]\n",
    "visitorTeam = data[\"data\"][\"visitorteam_id\"]\n",
    "# date to string\n",
    "date = data[\"data\"][\"time\"][\"starting_at\"][\"date\"]\n",
    "date = date.split(\"-\")\n",
    "date = date[0] + date[1] + date[2]\n",
    "print(date)\n",
    "# add corners!\n",
    "for x in data[\"data\"][\"corners\"][\"data\"]:\n",
    "    if x[\"comment\"][0] == \"R\":\n",
    "        continue  # skip \"Race to Nth Corner events\"\n",
    "    team_id = x[\"team_id\"]\n",
    "    corner_min = x[\"minute\"]\n",
    "    cur.execute(\n",
    "        f\"INSERT INTO game (game_id, corner_min, team_id, date) VALUES ({D_first_match},{corner_min},{team_id},{date})\"\n",
    "    )\n",
    "\n",
    "\n",
    "for x in data[\"data\"][\"lineup\"][\"data\"]:\n",
    "    player_id = x[\"player_id\"]\n",
    "    home = 0 if x[\"team_id\"] == str(localTeam) else 1\n",
    "    min_on = 0\n",
    "    min_off = x[\"stats\"][\"other\"][\"minutes_played\"]\n",
    "    cur.execute(\n",
    "        f\"INSERT INTO lineup (game_id, player_id, home, min_on, min_off, team_id) VALUES ({D_first_match},{player_id},{home},{min_on},{min_off},{x['team_id']})\"\n",
    "    )\n",
    "\n",
    "for x in data[\"data\"][\"substitutions\"][\"data\"]:\n",
    "    player_id = x[\"player_in_id\"]\n",
    "    home = 0 if x[\"team_id\"] == localTeam else 1\n",
    "    min_on = x[\"minute\"]\n",
    "    min_off = 90\n",
    "    cur.execute(\n",
    "        f\"INSERT INTO lineup (game_id, player_id, home, min_on, min_off, team_id) VALUES ({D_first_match},{player_id},{home},{min_on},{min_off},{x['team_id']})\"\n",
    "    )\n",
    "\n",
    "con.commit()"
   ]
  }
 ],
 "metadata": {
  "interpreter": {
   "hash": "712082fa5832080cfbc451c8f4e95f25cd39c626d7d8aebf8310513402cfb031"
  },
  "kernelspec": {
   "display_name": "Python 3.9.7 64-bit ('packing-report': conda)",
   "name": "python3"
  },
  "language_info": {
   "codemirror_mode": {
    "name": "ipython",
    "version": 3
   },
   "file_extension": ".py",
   "mimetype": "text/x-python",
   "name": "python",
   "nbconvert_exporter": "python",
   "pygments_lexer": "ipython3",
   "version": "3.9.7"
  }
 },
 "nbformat": 4,
 "nbformat_minor": 5
}
