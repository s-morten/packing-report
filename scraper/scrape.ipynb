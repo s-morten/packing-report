{
 "cells": [
  {
   "cell_type": "code",
   "execution_count": null,
   "metadata": {},
   "outputs": [],
   "source": [
    "import soccerdata as sd"
   ]
  },
  {
   "cell_type": "code",
   "execution_count": null,
   "metadata": {},
   "outputs": [],
   "source": [
    "liga = [\"GER-Bundesliga2\", \"GER-Bundesliga\"]\n",
    "saisons = [23, 24]"
   ]
  },
  {
   "cell_type": "code",
   "execution_count": null,
   "metadata": {},
   "outputs": [],
   "source": [
    "from pathlib import PosixPath\n",
    "\n",
    "\n",
    "ws = sd.WhoScored(\n",
    "    leagues=liga, # \"GER-Bundesliga2\", \"GER-Bundesliga\", \"ENG-Premier League\", \"ESP-La Liga\", \"FRA-Ligue 1\"\n",
    "    #seasons=[15, 16, 17, 18, 19, 20, 21, 22, 23],\n",
    "    seasons=saisons,\n",
    "    no_cache=True,\n",
    "    no_store=False,\n",
    "    data_dir=PosixPath(\"/home/morten/Develop/Open-Data/soccerdata\"),\n",
    "    path_to_browser=\"/usr/bin/chromium\",\n",
    "    headless=False,\n",
    ")"
   ]
  },
  {
   "cell_type": "code",
   "execution_count": null,
   "metadata": {},
   "outputs": [],
   "source": [
    "import numpy as np"
   ]
  },
  {
   "cell_type": "code",
   "execution_count": null,
   "metadata": {},
   "outputs": [],
   "source": [
    "ws.available_leagues()"
   ]
  },
  {
   "cell_type": "code",
   "execution_count": null,
   "metadata": {},
   "outputs": [],
   "source": [
    "buli_schedule = ws.read_schedule()\n",
    "buli_schedule.tail()"
   ]
  },
  {
   "cell_type": "code",
   "execution_count": null,
   "metadata": {},
   "outputs": [],
   "source": [
    "del(ws)"
   ]
  },
  {
   "cell_type": "code",
   "execution_count": null,
   "metadata": {},
   "outputs": [],
   "source": [
    "ws = sd.WhoScored(\n",
    "    leagues=liga, # \"GER-Bundesliga2\", \"GER-Bundesliga\", \"ENG-Premier League\", \"ESP-La Liga\", \"FRA-Ligue 1\"\n",
    "    #seasons=[15, 16, 17, 18, 19, 20, 21, 22, 23],\n",
    "    seasons=saisons,\n",
    "    no_cache=False,\n",
    "    no_store=False,\n",
    "    data_dir=PosixPath(\"/home/morten/Develop/Open-Data/soccerdata\"),\n",
    "    path_to_browser=\"/usr/bin/chromium\",\n",
    "    headless=False,\n",
    ")"
   ]
  },
  {
   "cell_type": "code",
   "execution_count": null,
   "metadata": {},
   "outputs": [],
   "source": [
    "buli_schedule = ws.read_schedule()"
   ]
  },
  {
   "cell_type": "code",
   "execution_count": null,
   "metadata": {},
   "outputs": [],
   "source": [
    "events = ws.read_events(retry_missing=False, on_error=\"skip\")\n",
    "events.head()"
   ]
  },
  {
   "cell_type": "code",
   "execution_count": null,
   "metadata": {},
   "outputs": [],
   "source": [
    "# seasons downloaded:\n",
    "# italy_1   17, 18, 19, 20, 21,\n",
    "# germany_1 15, 16, 17, 18, 19, 20, 21, 22, 23\n",
    "# germany_2 15, 16, 17, 18, 19, 20, 21, 22, 23\n",
    "# england_1 15, 16, 17, 18, 19, 20, 21, 22, 23\n",
    "# spain_1   15, 16, 17, 18, 19, 20, 21, 22, 23\n",
    "# france_1  15, 16, 17, 18, 19, 20, 21,"
   ]
  },
  {
   "cell_type": "code",
   "execution_count": null,
   "metadata": {},
   "outputs": [],
   "source": []
  }
 ],
 "metadata": {
  "kernelspec": {
   "display_name": "packing-report",
   "language": "python",
   "name": "python3"
  },
  "language_info": {
   "codemirror_mode": {
    "name": "ipython",
    "version": 3
   },
   "file_extension": ".py",
   "mimetype": "text/x-python",
   "name": "python",
   "nbconvert_exporter": "python",
   "pygments_lexer": "ipython3",
   "version": "3.10.4"
  }
 },
 "nbformat": 4,
 "nbformat_minor": 2
}
