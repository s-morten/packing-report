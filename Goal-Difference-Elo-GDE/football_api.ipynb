{
 "cells": [
  {
   "cell_type": "code",
   "execution_count": 1,
   "metadata": {},
   "outputs": [],
   "source": [
    "# GER-Bundesliga / 78 | 2015, 2016, 2018, 2019, 2020, 2021\n",
    "# GER-Bundesliga2 / 79 | 2018, 2019, 2020, 2021"
   ]
  },
  {
   "cell_type": "code",
   "execution_count": 2,
   "metadata": {},
   "outputs": [
    {
     "data": {
      "text/html": [
       "<pre style=\"white-space:pre;overflow-x:auto;line-height:normal;font-family:Menlo,'DejaVu Sans Mono',consolas,'Courier New',monospace\"><span style=\"color: #7fbfbf; text-decoration-color: #7fbfbf\">[08/10/23 08:57:59] </span><span style=\"color: #000080; text-decoration-color: #000080\">INFO    </span> Custom team name replacements loaded from                                <a href=\"file:///home/morten/.conda/envs/packing-report/lib/python3.10/site-packages/soccerdata/_config.py\" target=\"_blank\"><span style=\"color: #7f7f7f; text-decoration-color: #7f7f7f\">_config.py</span></a><span style=\"color: #7f7f7f; text-decoration-color: #7f7f7f\">:</span><a href=\"file:///home/morten/.conda/envs/packing-report/lib/python3.10/site-packages/soccerdata/_config.py#82\" target=\"_blank\"><span style=\"color: #7f7f7f; text-decoration-color: #7f7f7f\">82</span></a>\n",
       "<span style=\"color: #7fbfbf; text-decoration-color: #7fbfbf\">                    </span>         <span style=\"color: #800080; text-decoration-color: #800080\">/home/morten/soccerdata/config/</span><span style=\"color: #ff00ff; text-decoration-color: #ff00ff\">teamname_replacements.json.</span>               <span style=\"color: #7f7f7f; text-decoration-color: #7f7f7f\">             </span>\n",
       "</pre>\n"
      ],
      "text/plain": [
       "\u001b[2;36m[08/10/23 08:57:59]\u001b[0m\u001b[2;36m \u001b[0m\u001b[34mINFO    \u001b[0m Custom team name replacements loaded from                                \u001b]8;id=490096;file:///home/morten/.conda/envs/packing-report/lib/python3.10/site-packages/soccerdata/_config.py\u001b\\\u001b[2m_config.py\u001b[0m\u001b]8;;\u001b\\\u001b[2m:\u001b[0m\u001b]8;id=522913;file:///home/morten/.conda/envs/packing-report/lib/python3.10/site-packages/soccerdata/_config.py#82\u001b\\\u001b[2m82\u001b[0m\u001b]8;;\u001b\\\n",
       "\u001b[2;36m                    \u001b[0m         \u001b[35m/home/morten/soccerdata/config/\u001b[0m\u001b[95mteamname_replacements.json.\u001b[0m               \u001b[2m             \u001b[0m\n"
      ]
     },
     "metadata": {},
     "output_type": "display_data"
    },
    {
     "data": {
      "text/html": [
       "<pre style=\"white-space:pre;overflow-x:auto;line-height:normal;font-family:Menlo,'DejaVu Sans Mono',consolas,'Courier New',monospace\"><span style=\"color: #7fbfbf; text-decoration-color: #7fbfbf\">                    </span><span style=\"color: #000080; text-decoration-color: #000080\">INFO    </span> Custom league dict loaded from                                          <a href=\"file:///home/morten/.conda/envs/packing-report/lib/python3.10/site-packages/soccerdata/_config.py\" target=\"_blank\"><span style=\"color: #7f7f7f; text-decoration-color: #7f7f7f\">_config.py</span></a><span style=\"color: #7f7f7f; text-decoration-color: #7f7f7f\">:</span><a href=\"file:///home/morten/.conda/envs/packing-report/lib/python3.10/site-packages/soccerdata/_config.py#160\" target=\"_blank\"><span style=\"color: #7f7f7f; text-decoration-color: #7f7f7f\">160</span></a>\n",
       "<span style=\"color: #7fbfbf; text-decoration-color: #7fbfbf\">                    </span>         <span style=\"color: #800080; text-decoration-color: #800080\">/home/morten/soccerdata/config/</span><span style=\"color: #ff00ff; text-decoration-color: #ff00ff\">league_dict.json.</span>                        <span style=\"color: #7f7f7f; text-decoration-color: #7f7f7f\">              </span>\n",
       "</pre>\n"
      ],
      "text/plain": [
       "\u001b[2;36m                   \u001b[0m\u001b[2;36m \u001b[0m\u001b[34mINFO    \u001b[0m Custom league dict loaded from                                          \u001b]8;id=577672;file:///home/morten/.conda/envs/packing-report/lib/python3.10/site-packages/soccerdata/_config.py\u001b\\\u001b[2m_config.py\u001b[0m\u001b]8;;\u001b\\\u001b[2m:\u001b[0m\u001b]8;id=648607;file:///home/morten/.conda/envs/packing-report/lib/python3.10/site-packages/soccerdata/_config.py#160\u001b\\\u001b[2m160\u001b[0m\u001b]8;;\u001b\\\n",
       "\u001b[2;36m                    \u001b[0m         \u001b[35m/home/morten/soccerdata/config/\u001b[0m\u001b[95mleague_dict.json.\u001b[0m                        \u001b[2m              \u001b[0m\n"
      ]
     },
     "metadata": {},
     "output_type": "display_data"
    }
   ],
   "source": [
    "from elo import update_elo"
   ]
  },
  {
   "cell_type": "code",
   "execution_count": 3,
   "metadata": {},
   "outputs": [],
   "source": [
    "import itertools\n",
    "import numpy as np\n",
    "import matplotlib.pyplot as plt\n",
    "import pandas as pd\n",
    "import json\n",
    "import http.client\n",
    "from time import sleep"
   ]
  },
  {
   "cell_type": "code",
   "execution_count": 4,
   "metadata": {},
   "outputs": [],
   "source": [
    "api_key = json.load(open(\"../../.secrets.json\"))[\"soccerapi\"]"
   ]
  },
  {
   "cell_type": "code",
   "execution_count": 5,
   "metadata": {},
   "outputs": [],
   "source": [
    "def call_api(league, season, page):\n",
    "    \n",
    "    conn = http.client.HTTPSConnection(\"v3.football.api-sports.io\")\n",
    "\n",
    "    headers = {\n",
    "        'x-rapidapi-host': \"v3.football.api-sports.io\",\n",
    "        'x-rapidapi-key': api_key\n",
    "        }\n",
    "\n",
    "    conn.request(\"GET\", f\"/players?league={league}&season={season}&page={page}\", headers=headers)\n",
    "\n",
    "    res = conn.getresponse()\n",
    "    data = res.read()\n",
    "\n",
    "    return json.loads(data.decode(\"utf-8\"))\n",
    "\n",
    "def get_player_data(league, season, page = 1, players_data = []):\n",
    "    players = call_api(league, season, page)\n",
    "    players_data.append(players)\n",
    "\n",
    "    if players[\"paging\"][\"current\"] < players[\"paging\"][\"total\"]:\n",
    "        page = players[\"paging\"][\"current\"] + 1\n",
    "        if (page % 9) == 0:\n",
    "            sleep(60)\n",
    "\n",
    "        players_data = get_player_data(league, season, page, players_data)\n",
    "    return players_data\n"
   ]
  },
  {
   "cell_type": "code",
   "execution_count": 24,
   "metadata": {},
   "outputs": [],
   "source": [
    "year = 2017\n",
    "league = \"GER-Bundesliga\"\n",
    "league_id = 78\n",
    "player_data = get_player_data(league_id, year)"
   ]
  },
  {
   "cell_type": "code",
   "execution_count": 25,
   "metadata": {},
   "outputs": [],
   "source": [
    "player_names = []\n",
    "birthdates = []\n",
    "club1 = []\n",
    "club2 = []\n",
    "club3 = []\n",
    "for resp in player_data:\n",
    "    for pl in resp[\"response\"]:\n",
    "        player_names.append(f'{pl[\"player\"][\"firstname\"]} {pl[\"player\"][\"lastname\"]}')\n",
    "        birthdates.append(pl[\"player\"][\"birth\"][\"date\"])\n",
    "        club1.append(pl[\"statistics\"][0][\"team\"][\"name\"])\n",
    "        if len(pl[\"statistics\"]) > 1:\n",
    "            club2.append(pl[\"statistics\"][1][\"team\"][\"name\"])\n",
    "        else:\n",
    "            club2.append(None)\n",
    "        if len(pl[\"statistics\"]) > 2:\n",
    "            club3.append(pl[\"statistics\"][2][\"team\"][\"name\"])\n",
    "        else:\n",
    "            club3.append(None)"
   ]
  },
  {
   "cell_type": "code",
   "execution_count": 26,
   "metadata": {},
   "outputs": [],
   "source": [
    "player_df = pd.DataFrame({\"Name\": player_names, \"Birthday\": birthdates, \"Club\": club1, \"Club2\": club2, \"Club3\": club3})\n",
    "player_df[\"Year\"] = year\n",
    "player_df[\"League\"] = league"
   ]
  },
  {
   "cell_type": "code",
   "execution_count": 27,
   "metadata": {},
   "outputs": [],
   "source": [
    "name_substitutes = json.load(\n",
    "    open(\"/home/morten/soccerdata/config/teamname_replacements.json\")\n",
    ")\n",
    "for replace in name_substitutes:\n",
    "    for name in name_substitutes[replace]:\n",
    "        player_df.replace(name, replace, inplace=True)"
   ]
  },
  {
   "cell_type": "code",
   "execution_count": 28,
   "metadata": {},
   "outputs": [
    {
     "data": {
      "text/plain": [
       "array(['Schalke', 'Borussia M.Gladbach', 'Mainz', 'Borussia Dortmund',\n",
       "       'Leverkusen', 'Stuttgart', 'Darmstadt', 'Bayern', 'FC Koln',\n",
       "       'Hertha Berlin', 'Hannover', 'Ingolstadt', 'Augsburg', 'Hamburg',\n",
       "       'Hoffenheim', 'Wolfsburg', 'Eintracht Frankfurt', 'Werder Bremen',\n",
       "       'Freiburg', 'RBL'], dtype=object)"
      ]
     },
     "execution_count": 28,
     "metadata": {},
     "output_type": "execute_result"
    }
   ],
   "source": [
    "player_df[\"Club\"].unique()"
   ]
  },
  {
   "cell_type": "code",
   "execution_count": 29,
   "metadata": {},
   "outputs": [],
   "source": [
    "player_birthday_db = pd.read_csv(f\"player_birthday_db.csv\", sep=\";\")\n",
    "player_birthday_db = pd.concat([player_df, player_birthday_db], ignore_index=True)\n",
    "player_birthday_db.to_csv(\"player_birthday_db.csv\", index=False, sep=\";\")"
   ]
  },
  {
   "cell_type": "code",
   "execution_count": 30,
   "metadata": {},
   "outputs": [
    {
     "name": "stdout",
     "output_type": "stream",
     "text": [
      "(10526, 7)\n",
      "(7837, 7)\n"
     ]
    }
   ],
   "source": [
    "player_birthday_db = pd.read_csv(f\"player_birthday_db.csv\", sep=\";\")\n",
    "print(player_birthday_db.shape)\n",
    "player_birthday_db = player_birthday_db.drop_duplicates()\n",
    "print(player_birthday_db.shape)\n",
    "player_birthday_db.to_csv(\"player_birthday_db.csv\", index=False, sep=\";\")"
   ]
  },
  {
   "cell_type": "code",
   "execution_count": 37,
   "metadata": {},
   "outputs": [
    {
     "data": {
      "text/plain": [
       "array(['Nuernberg', 'Karlsruher SC', 'FC Heidenheim', 'Arminia Bielefeld',\n",
       "       'Erzgebirge Aue', 'Dynamo Dresden', 'Greuther Fuerth',\n",
       "       'Wehen Wiesbaden', 'Stuttgart', 'Osnabrueck', 'St. Pauli',\n",
       "       'Hannover', 'Jahn Regensburg', 'Bochum', 'Sandhausen', 'Hamburg',\n",
       "       'Darmstadt', 'Holstein Kiel', 'Eintracht Braunschweig',\n",
       "       'Wuerzburger Kickers', 'Fortuna Duesseldorf', 'Paderborn',\n",
       "       'Kaiserslautern', 'FC Koln', 'Union Berlin', 'Ingolstadt',\n",
       "       'Magdeburg', 'MSV Duisburg'], dtype=object)"
      ]
     },
     "execution_count": 37,
     "metadata": {},
     "output_type": "execute_result"
    }
   ],
   "source": [
    "### \n",
    "# teamname replacement\n",
    "player_birthday_db = pd.read_csv(f\"player_birthday_db.csv\", sep=\";\")\n",
    "player_birthday_db[player_birthday_db[\"League\"] == \"GER-Bundesliga2\"][\"Club\"].unique()"
   ]
  },
  {
   "cell_type": "code",
   "execution_count": 36,
   "metadata": {},
   "outputs": [],
   "source": [
    "name_substitutes = json.load(\n",
    "    open(\"/home/morten/soccerdata/config/teamname_replacements.json\")\n",
    ")\n",
    "for replace in name_substitutes:\n",
    "    for name in name_substitutes[replace]:\n",
    "        player_birthday_db.replace(name, replace, inplace=True)\n",
    "player_birthday_db.to_csv(\"player_birthday_db.csv\", index=False, sep=\";\")"
   ]
  },
  {
   "cell_type": "code",
   "execution_count": null,
   "metadata": {},
   "outputs": [],
   "source": []
  }
 ],
 "metadata": {
  "kernelspec": {
   "display_name": "packing-report",
   "language": "python",
   "name": "python3"
  },
  "language_info": {
   "codemirror_mode": {
    "name": "ipython",
    "version": 3
   },
   "file_extension": ".py",
   "mimetype": "text/x-python",
   "name": "python",
   "nbconvert_exporter": "python",
   "pygments_lexer": "ipython3",
   "version": "3.10.4"
  },
  "orig_nbformat": 4
 },
 "nbformat": 4,
 "nbformat_minor": 2
}
