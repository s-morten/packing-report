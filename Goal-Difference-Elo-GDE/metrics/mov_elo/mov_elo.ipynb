{
 "cells": [
  {
   "cell_type": "code",
   "execution_count": null,
   "metadata": {},
   "outputs": [],
   "source": [
    "import soccerdata as sd\n",
    "from pathlib import PosixPath\n",
    "from gde_utils.date_utils import to_datetime\n",
    "from datetime import datetime, timedelta\n",
    "import pandas as pd\n",
    "import numpy as np"
   ]
  },
  {
   "cell_type": "code",
   "execution_count": null,
   "metadata": {},
   "outputs": [],
   "source": [
    "# load all data\n",
    "ws = sd.WhoScored(\n",
    "    leagues=\"GER-Bundesliga2\",\n",
    "    seasons=[15, 16, 17, 18, 19, 20],\n",
    "    no_cache=False,\n",
    "    no_store=False,\n",
    "    data_dir=PosixPath(\"/home/morten/Develop/Open-Data/soccerdata\"),\n",
    "    path_to_browser=\"/usr/bin/chromium\",\n",
    "    headless=False,\n",
    ")"
   ]
  },
  {
   "cell_type": "code",
   "execution_count": null,
   "metadata": {},
   "outputs": [],
   "source": [
    "buli_schedule = ws.read_schedule()\n",
    "elo = sd.ClubElo()\n",
    "buli_schedule.reset_index(inplace=True)"
   ]
  },
  {
   "cell_type": "code",
   "execution_count": null,
   "metadata": {},
   "outputs": [],
   "source": [
    "def is_own_goal(qualifiers):\n",
    "    return [max([(True if x[\"type\"][\"displayName\"] == \"OwnGoal\" else False) for x in events], default=False) for events in qualifiers]\n",
    "\n",
    "def get_opposition_team(df_goals: pd.DataFrame, df_teams: pd.DataFrame):\n",
    "    switched_teams = df_goals.copy()\n",
    "    team_id_one = df_teams[\"team_id\"].unique()[0]\n",
    "    team_id_two = df_teams[\"team_id\"].unique()[1]\n",
    "    switched_teams.replace({team_id_one : team_id_two,\n",
    "                            team_id_two : team_id_one}, inplace = True)\n",
    "    return switched_teams\n",
    "\n",
    "def get_score(events_df: pd.DataFrame, df_teams: pd.DataFrame):\n",
    "    goals = events_df.loc[(events_df[\"is_goal\"] == True)].copy()\n",
    "    goals[\"own_goal\"] = is_own_goal(goals[\"qualifiers\"])\n",
    "    goals.loc[~goals[\"own_goal\"], \"goal_team_id\"] = goals.loc[~goals[\"own_goal\"],\"team_id\"]\n",
    "    goals.loc[goals[\"own_goal\"], \"goal_team_id\"] = get_opposition_team(goals[\"team_id\"], df_teams)[goals[\"own_goal\"]]\n",
    "    goals.reset_index(inplace=True)\n",
    "    return goals[[\"expanded_minute\", \"goal_team_id\"]]"
   ]
  },
  {
   "cell_type": "code",
   "execution_count": null,
   "metadata": {},
   "outputs": [],
   "source": [
    "data = []\n",
    "failed_count = 0\n",
    "# create dataset:\n",
    "for game_id in buli_schedule.game_id.values:\n",
    "    try:\n",
    "        # pre match information:\n",
    "        pre_game_date = to_datetime(buli_schedule[buli_schedule[\"game_id\"] == game_id][\"date\"].values[0]) - timedelta(days=1)\n",
    "        game_elo = elo.read_by_date(pre_game_date)\n",
    "        game_elo.reset_index(inplace=True)\n",
    "        home_team = buli_schedule[buli_schedule[\"game_id\"] == game_id].home_team.values[0]\n",
    "        away_team = buli_schedule[buli_schedule[\"game_id\"] == game_id].away_team.values[0]\n",
    "        home_elo = game_elo[game_elo[\"team\"] == home_team].elo.values[0]\n",
    "        away_elo = game_elo[game_elo[\"team\"] == away_team].elo.values[0]\n",
    "        df_events = ws.read_events([game_id])\n",
    "        loader = ws.read_events(match_id=[game_id], output_fmt='loader')\n",
    "        df_teams = loader.teams(game_id)\n",
    "        df_events.reset_index(inplace=True)\n",
    "        game_score = get_score(df_events, df_teams)\n",
    "        score_readable = game_score.groupby(\"goal_team_id\").count().reset_index().rename(columns={\"expanded_minute\": \"score\"})\n",
    "        score_value_home = score_readable[score_readable[\"goal_team_id\"] == (home_id := df_teams[df_teams[\"team_name\"] == home_team].team_id.values[0])].score.values\n",
    "        score_value_away = score_readable[score_readable[\"goal_team_id\"] == (away_id := df_teams[df_teams[\"team_name\"] == away_team].team_id.values[0])].score.values\n",
    "        home_score = score_value_home[0] if len(score_value_home) > 0 else 0\n",
    "        away_score = score_value_away[0] if len(score_value_away) > 0 else 0\n",
    "        data.append([home_id, home_score, home_elo, away_id, away_score, away_elo])\n",
    "    except:\n",
    "        failed_count +=1\n",
    "print(\"Failed: \", failed_count)"
   ]
  },
  {
   "cell_type": "code",
   "execution_count": null,
   "metadata": {},
   "outputs": [],
   "source": [
    "print(failed_count)"
   ]
  },
  {
   "cell_type": "code",
   "execution_count": null,
   "metadata": {},
   "outputs": [],
   "source": [
    "elo_dif = pd.DataFrame(data, columns=[\"home_id\", \"home_score\", \"home_elo\", \"away_id\", \"away_score\", \"away_elo\"])"
   ]
  },
  {
   "cell_type": "code",
   "execution_count": null,
   "metadata": {},
   "outputs": [],
   "source": [
    "elo_dif"
   ]
  },
  {
   "cell_type": "code",
   "execution_count": null,
   "metadata": {},
   "outputs": [],
   "source": [
    "# get elo and margin of victory\n",
    "elo_dif[\"elo_dif\"] = elo_dif[\"home_elo\"] - elo_dif[\"away_elo\"]\n",
    "elo_dif[\"goal_dif\"] = elo_dif[\"home_score\"] - elo_dif[\"away_score\"]"
   ]
  },
  {
   "cell_type": "code",
   "execution_count": null,
   "metadata": {},
   "outputs": [],
   "source": [
    "elo_dif.corr()"
   ]
  },
  {
   "cell_type": "code",
   "execution_count": null,
   "metadata": {},
   "outputs": [],
   "source": [
    "# create regression model\n",
    "from sklearn.linear_model import LinearRegression\n",
    "\n",
    "lr = LinearRegression()\n",
    "lr.fit(elo_dif[\"elo_dif\"].values.reshape(-1, 1), elo_dif[\"goal_dif\"].values.reshape(-1, 1))"
   ]
  },
  {
   "cell_type": "code",
   "execution_count": null,
   "metadata": {},
   "outputs": [],
   "source": [
    "lr.predict([[0]])"
   ]
  },
  {
   "cell_type": "code",
   "execution_count": null,
   "metadata": {},
   "outputs": [],
   "source": [
    "lr.intercept_"
   ]
  },
  {
   "cell_type": "code",
   "execution_count": null,
   "metadata": {},
   "outputs": [],
   "source": [
    "lr.coef_"
   ]
  },
  {
   "cell_type": "code",
   "execution_count": null,
   "metadata": {},
   "outputs": [],
   "source": []
  }
 ],
 "metadata": {
  "kernelspec": {
   "display_name": "packing-report",
   "language": "python",
   "name": "python3"
  },
  "language_info": {
   "codemirror_mode": {
    "name": "ipython",
    "version": 3
   },
   "file_extension": ".py",
   "mimetype": "text/x-python",
   "name": "python",
   "nbconvert_exporter": "python",
   "pygments_lexer": "ipython3",
   "version": "3.10.4"
  }
 },
 "nbformat": 4,
 "nbformat_minor": 2
}
