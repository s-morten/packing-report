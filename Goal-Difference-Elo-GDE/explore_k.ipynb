{
 "cells": [
  {
   "cell_type": "code",
   "execution_count": 29,
   "metadata": {},
   "outputs": [],
   "source": [
    "def update_elo(elo_player, elo_team, winner, k):\n",
    "    R_a = pow(10, (elo_player / 200))\n",
    "    R_b = pow(10, (elo_team / 200))\n",
    "    E_a = R_a / (R_a + R_b)\n",
    "    E_b = R_b / (R_a + R_b)\n",
    "    S_a = winner\n",
    "    S_b = 1 - S_a\n",
    "    r_strich_player = elo_player + k * (S_a - E_a)\n",
    "    r_strich_team = elo_team + k * (S_b - E_b)\n",
    "    return r_strich_player"
   ]
  },
  {
   "cell_type": "code",
   "execution_count": 68,
   "metadata": {},
   "outputs": [],
   "source": [
    "player_a = 305\n",
    "player_b = 227\n",
    "winner = 0\n",
    "k = 50"
   ]
  },
  {
   "cell_type": "code",
   "execution_count": 69,
   "metadata": {},
   "outputs": [
    {
     "data": {
      "text/plain": [
       "269.4729993815081"
      ]
     },
     "execution_count": 69,
     "metadata": {},
     "output_type": "execute_result"
    }
   ],
   "source": [
    "update_elo(player_a, player_b, winner, k)"
   ]
  },
  {
   "cell_type": "code",
   "execution_count": null,
   "metadata": {},
   "outputs": [],
   "source": []
  }
 ],
 "metadata": {
  "kernelspec": {
   "display_name": "packing-report",
   "language": "python",
   "name": "python3"
  },
  "language_info": {
   "codemirror_mode": {
    "name": "ipython",
    "version": 3
   },
   "file_extension": ".py",
   "mimetype": "text/x-python",
   "name": "python",
   "nbconvert_exporter": "python",
   "pygments_lexer": "ipython3",
   "version": "3.10.4"
  },
  "orig_nbformat": 4
 },
 "nbformat": 4,
 "nbformat_minor": 2
}
