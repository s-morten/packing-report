{
 "cells": [
  {
   "cell_type": "code",
   "execution_count": 1,
   "metadata": {},
   "outputs": [],
   "source": [
    "%reload_ext autoreload\n",
    "%autoreload 2"
   ]
  },
  {
   "cell_type": "code",
   "execution_count": 2,
   "metadata": {},
   "outputs": [
    {
     "data": {
      "text/html": [
       "<pre style=\"white-space:pre;overflow-x:auto;line-height:normal;font-family:Menlo,'DejaVu Sans Mono',consolas,'Courier New',monospace\"><span style=\"color: #7fbfbf; text-decoration-color: #7fbfbf\">[09/20/23 19:21:32] </span><span style=\"color: #000080; text-decoration-color: #000080\">INFO    </span> Custom team name replacements loaded from                                <a href=\"file:///home/morten/.conda/envs/packing-report/lib/python3.10/site-packages/soccerdata/_config.py\" target=\"_blank\"><span style=\"color: #7f7f7f; text-decoration-color: #7f7f7f\">_config.py</span></a><span style=\"color: #7f7f7f; text-decoration-color: #7f7f7f\">:</span><a href=\"file:///home/morten/.conda/envs/packing-report/lib/python3.10/site-packages/soccerdata/_config.py#82\" target=\"_blank\"><span style=\"color: #7f7f7f; text-decoration-color: #7f7f7f\">82</span></a>\n",
       "<span style=\"color: #7fbfbf; text-decoration-color: #7fbfbf\">                    </span>         <span style=\"color: #800080; text-decoration-color: #800080\">/home/morten/soccerdata/config/</span><span style=\"color: #ff00ff; text-decoration-color: #ff00ff\">teamname_replacements.json.</span>               <span style=\"color: #7f7f7f; text-decoration-color: #7f7f7f\">             </span>\n",
       "</pre>\n"
      ],
      "text/plain": [
       "\u001b[2;36m[09/20/23 19:21:32]\u001b[0m\u001b[2;36m \u001b[0m\u001b[34mINFO    \u001b[0m Custom team name replacements loaded from                                \u001b]8;id=117295;file:///home/morten/.conda/envs/packing-report/lib/python3.10/site-packages/soccerdata/_config.py\u001b\\\u001b[2m_config.py\u001b[0m\u001b]8;;\u001b\\\u001b[2m:\u001b[0m\u001b]8;id=811314;file:///home/morten/.conda/envs/packing-report/lib/python3.10/site-packages/soccerdata/_config.py#82\u001b\\\u001b[2m82\u001b[0m\u001b]8;;\u001b\\\n",
       "\u001b[2;36m                    \u001b[0m         \u001b[35m/home/morten/soccerdata/config/\u001b[0m\u001b[95mteamname_replacements.json.\u001b[0m               \u001b[2m             \u001b[0m\n"
      ]
     },
     "metadata": {},
     "output_type": "display_data"
    },
    {
     "data": {
      "text/html": [
       "<pre style=\"white-space:pre;overflow-x:auto;line-height:normal;font-family:Menlo,'DejaVu Sans Mono',consolas,'Courier New',monospace\"><span style=\"color: #7fbfbf; text-decoration-color: #7fbfbf\">                    </span><span style=\"color: #000080; text-decoration-color: #000080\">INFO    </span> Custom league dict loaded from                                          <a href=\"file:///home/morten/.conda/envs/packing-report/lib/python3.10/site-packages/soccerdata/_config.py\" target=\"_blank\"><span style=\"color: #7f7f7f; text-decoration-color: #7f7f7f\">_config.py</span></a><span style=\"color: #7f7f7f; text-decoration-color: #7f7f7f\">:</span><a href=\"file:///home/morten/.conda/envs/packing-report/lib/python3.10/site-packages/soccerdata/_config.py#160\" target=\"_blank\"><span style=\"color: #7f7f7f; text-decoration-color: #7f7f7f\">160</span></a>\n",
       "<span style=\"color: #7fbfbf; text-decoration-color: #7fbfbf\">                    </span>         <span style=\"color: #800080; text-decoration-color: #800080\">/home/morten/soccerdata/config/</span><span style=\"color: #ff00ff; text-decoration-color: #ff00ff\">league_dict.json.</span>                        <span style=\"color: #7f7f7f; text-decoration-color: #7f7f7f\">              </span>\n",
       "</pre>\n"
      ],
      "text/plain": [
       "\u001b[2;36m                   \u001b[0m\u001b[2;36m \u001b[0m\u001b[34mINFO    \u001b[0m Custom league dict loaded from                                          \u001b]8;id=758193;file:///home/morten/.conda/envs/packing-report/lib/python3.10/site-packages/soccerdata/_config.py\u001b\\\u001b[2m_config.py\u001b[0m\u001b]8;;\u001b\\\u001b[2m:\u001b[0m\u001b]8;id=681712;file:///home/morten/.conda/envs/packing-report/lib/python3.10/site-packages/soccerdata/_config.py#160\u001b\\\u001b[2m160\u001b[0m\u001b]8;;\u001b\\\n",
       "\u001b[2;36m                    \u001b[0m         \u001b[35m/home/morten/soccerdata/config/\u001b[0m\u001b[95mleague_dict.json.\u001b[0m                        \u001b[2m              \u001b[0m\n"
      ]
     },
     "metadata": {},
     "output_type": "display_data"
    }
   ],
   "source": [
    "import soccerdata as sd\n",
    "from pathlib import PosixPath\n",
    "import pandas as pd\n",
    "import numpy as np\n",
    "from datetime import datetime, timezone\n",
    "import os\n",
    "import cProfile"
   ]
  },
  {
   "cell_type": "code",
   "execution_count": 3,
   "metadata": {},
   "outputs": [],
   "source": [
    "from game_timeline import GameTimeline\n",
    "import player\n",
    "import elo"
   ]
  },
  {
   "cell_type": "code",
   "execution_count": 4,
   "metadata": {},
   "outputs": [
    {
     "data": {
      "text/html": [
       "<pre style=\"white-space:pre;overflow-x:auto;line-height:normal;font-family:Menlo,'DejaVu Sans Mono',consolas,'Courier New',monospace\"><span style=\"color: #7fbfbf; text-decoration-color: #7fbfbf\">[09/20/23 19:21:34] </span><span style=\"color: #000080; text-decoration-color: #000080\">INFO    </span> Saving cached data to <span style=\"color: #800080; text-decoration-color: #800080\">/home/morten/Develop/Open-Data/</span><span style=\"color: #ff00ff; text-decoration-color: #ff00ff\">soccerdata</span>          <a href=\"file:///home/morten/.conda/envs/packing-report/lib/python3.10/site-packages/soccerdata/_common.py\" target=\"_blank\"><span style=\"color: #7f7f7f; text-decoration-color: #7f7f7f\">_common.py</span></a><span style=\"color: #7f7f7f; text-decoration-color: #7f7f7f\">:</span><a href=\"file:///home/morten/.conda/envs/packing-report/lib/python3.10/site-packages/soccerdata/_common.py#89\" target=\"_blank\"><span style=\"color: #7f7f7f; text-decoration-color: #7f7f7f\">89</span></a>\n",
       "</pre>\n"
      ],
      "text/plain": [
       "\u001b[2;36m[09/20/23 19:21:34]\u001b[0m\u001b[2;36m \u001b[0m\u001b[34mINFO    \u001b[0m Saving cached data to \u001b[35m/home/morten/Develop/Open-Data/\u001b[0m\u001b[95msoccerdata\u001b[0m          \u001b]8;id=694258;file:///home/morten/.conda/envs/packing-report/lib/python3.10/site-packages/soccerdata/_common.py\u001b\\\u001b[2m_common.py\u001b[0m\u001b]8;;\u001b\\\u001b[2m:\u001b[0m\u001b]8;id=956593;file:///home/morten/.conda/envs/packing-report/lib/python3.10/site-packages/soccerdata/_common.py#89\u001b\\\u001b[2m89\u001b[0m\u001b]8;;\u001b\\\n"
      ]
     },
     "metadata": {},
     "output_type": "display_data"
    },
    {
     "data": {
      "text/html": [
       "<pre style=\"white-space:pre;overflow-x:auto;line-height:normal;font-family:Menlo,'DejaVu Sans Mono',consolas,'Courier New',monospace\"><span style=\"color: #7fbfbf; text-decoration-color: #7fbfbf\">[09/20/23 19:21:35] </span><span style=\"color: #000080; text-decoration-color: #000080\">INFO    </span> patching driver executable                                              <a href=\"file:///home/morten/.conda/envs/packing-report/lib/python3.10/site-packages/undetected_chromedriver/patcher.py\" target=\"_blank\"><span style=\"color: #7f7f7f; text-decoration-color: #7f7f7f\">patcher.py</span></a><span style=\"color: #7f7f7f; text-decoration-color: #7f7f7f\">:</span><a href=\"file:///home/morten/.conda/envs/packing-report/lib/python3.10/site-packages/undetected_chromedriver/patcher.py#298\" target=\"_blank\"><span style=\"color: #7f7f7f; text-decoration-color: #7f7f7f\">298</span></a>\n",
       "<span style=\"color: #7fbfbf; text-decoration-color: #7fbfbf\">                    </span>         <span style=\"color: #800080; text-decoration-color: #800080\">/home/morten/.local/share/undetected_chromedriver/</span><span style=\"color: #ff00ff; text-decoration-color: #ff00ff\">undetected_chromedriv</span> <span style=\"color: #7f7f7f; text-decoration-color: #7f7f7f\">              </span>\n",
       "<span style=\"color: #7fbfbf; text-decoration-color: #7fbfbf\">                    </span>         <span style=\"color: #ff00ff; text-decoration-color: #ff00ff\">er</span>                                                                      <span style=\"color: #7f7f7f; text-decoration-color: #7f7f7f\">              </span>\n",
       "</pre>\n"
      ],
      "text/plain": [
       "\u001b[2;36m[09/20/23 19:21:35]\u001b[0m\u001b[2;36m \u001b[0m\u001b[34mINFO    \u001b[0m patching driver executable                                              \u001b]8;id=23744;file:///home/morten/.conda/envs/packing-report/lib/python3.10/site-packages/undetected_chromedriver/patcher.py\u001b\\\u001b[2mpatcher.py\u001b[0m\u001b]8;;\u001b\\\u001b[2m:\u001b[0m\u001b]8;id=595948;file:///home/morten/.conda/envs/packing-report/lib/python3.10/site-packages/undetected_chromedriver/patcher.py#298\u001b\\\u001b[2m298\u001b[0m\u001b]8;;\u001b\\\n",
       "\u001b[2;36m                    \u001b[0m         \u001b[35m/home/morten/.local/share/undetected_chromedriver/\u001b[0m\u001b[95mundetected_chromedriv\u001b[0m \u001b[2m              \u001b[0m\n",
       "\u001b[2;36m                    \u001b[0m         \u001b[95mer\u001b[0m                                                                      \u001b[2m              \u001b[0m\n"
      ]
     },
     "metadata": {},
     "output_type": "display_data"
    },
    {
     "data": {
      "text/html": [
       "<pre style=\"white-space:pre;overflow-x:auto;line-height:normal;font-family:Menlo,'DejaVu Sans Mono',consolas,'Courier New',monospace\"><span style=\"color: #7fbfbf; text-decoration-color: #7fbfbf\">[09/20/23 19:21:36] </span><span style=\"color: #800000; text-decoration-color: #800000; font-weight: bold\">ERROR   </span>                                                                         <a href=\"file:///home/morten/.conda/envs/packing-report/lib/python3.10/site-packages/soccerdata/_common.py\" target=\"_blank\"><span style=\"color: #7f7f7f; text-decoration-color: #7f7f7f\">_common.py</span></a><span style=\"color: #7f7f7f; text-decoration-color: #7f7f7f\">:</span><a href=\"file:///home/morten/.conda/envs/packing-report/lib/python3.10/site-packages/soccerdata/_common.py#389\" target=\"_blank\"><span style=\"color: #7f7f7f; text-decoration-color: #7f7f7f\">389</span></a>\n",
       "<span style=\"color: #7fbfbf; text-decoration-color: #7fbfbf\">                    </span>                         The ChromeDriver was unable to initiate/spawn a new     <span style=\"color: #7f7f7f; text-decoration-color: #7f7f7f\">              </span>\n",
       "<span style=\"color: #7fbfbf; text-decoration-color: #7fbfbf\">                    </span>                         WebBrowser. You will not be able to scrape new data.    <span style=\"color: #7f7f7f; text-decoration-color: #7f7f7f\">              </span>\n",
       "<span style=\"color: #7fbfbf; text-decoration-color: #7fbfbf\">                    </span>                         Message: unknown error: cannot connect to chrome at     <span style=\"color: #7f7f7f; text-decoration-color: #7f7f7f\">              </span>\n",
       "<span style=\"color: #7fbfbf; text-decoration-color: #7fbfbf\">                    </span>         <span style=\"color: #00ff00; text-decoration-color: #00ff00; font-weight: bold\">127.0.0.1</span>:<span style=\"color: #008080; text-decoration-color: #008080; font-weight: bold\">59271</span>                                                         <span style=\"color: #7f7f7f; text-decoration-color: #7f7f7f\">              </span>\n",
       "<span style=\"color: #7fbfbf; text-decoration-color: #7fbfbf\">                    </span>         from session not created: This version of ChromeDriver only supports    <span style=\"color: #7f7f7f; text-decoration-color: #7f7f7f\">              </span>\n",
       "<span style=\"color: #7fbfbf; text-decoration-color: #7fbfbf\">                    </span>         Chrome version <span style=\"color: #008080; text-decoration-color: #008080; font-weight: bold\">114</span>                                                      <span style=\"color: #7f7f7f; text-decoration-color: #7f7f7f\">              </span>\n",
       "<span style=\"color: #7fbfbf; text-decoration-color: #7fbfbf\">                    </span>         Current browser version is <span style=\"color: #008080; text-decoration-color: #008080; font-weight: bold\">117.0</span>.<span style=\"color: #008080; text-decoration-color: #008080; font-weight: bold\">5938.88</span>                                <span style=\"color: #7f7f7f; text-decoration-color: #7f7f7f\">              </span>\n",
       "<span style=\"color: #7fbfbf; text-decoration-color: #7fbfbf\">                    </span>         Stacktrace:                                                             <span style=\"color: #7f7f7f; text-decoration-color: #7f7f7f\">              </span>\n",
       "<span style=\"color: #7fbfbf; text-decoration-color: #7fbfbf\">                    </span>         #<span style=\"color: #008080; text-decoration-color: #008080; font-weight: bold\">0</span> <span style=\"color: #008080; text-decoration-color: #008080; font-weight: bold\">0x55e2b68dd4e3</span> <span style=\"font-weight: bold\">&lt;</span><span style=\"color: #ff00ff; text-decoration-color: #ff00ff; font-weight: bold\">unknown</span><span style=\"color: #000000; text-decoration-color: #000000\">&gt;</span>                                             <span style=\"color: #7f7f7f; text-decoration-color: #7f7f7f\">              </span>\n",
       "<span style=\"color: #7fbfbf; text-decoration-color: #7fbfbf\">                    </span>         <span style=\"color: #000000; text-decoration-color: #000000\">#</span><span style=\"color: #008080; text-decoration-color: #008080; font-weight: bold\">1</span><span style=\"color: #000000; text-decoration-color: #000000\"> </span><span style=\"color: #008080; text-decoration-color: #008080; font-weight: bold\">0x55e2b660cc76</span><span style=\"color: #000000; text-decoration-color: #000000\"> &lt;unknown&gt;</span>                                             <span style=\"color: #7f7f7f; text-decoration-color: #7f7f7f\">              </span>\n",
       "<span style=\"color: #7fbfbf; text-decoration-color: #7fbfbf\">                    </span>         <span style=\"color: #000000; text-decoration-color: #000000\">#</span><span style=\"color: #008080; text-decoration-color: #008080; font-weight: bold\">2</span><span style=\"color: #000000; text-decoration-color: #000000\"> </span><span style=\"color: #008080; text-decoration-color: #008080; font-weight: bold\">0x55e2b663a04a</span><span style=\"color: #000000; text-decoration-color: #000000\"> &lt;unknown&gt;</span>                                             <span style=\"color: #7f7f7f; text-decoration-color: #7f7f7f\">              </span>\n",
       "<span style=\"color: #7fbfbf; text-decoration-color: #7fbfbf\">                    </span>         <span style=\"color: #000000; text-decoration-color: #000000\">#</span><span style=\"color: #008080; text-decoration-color: #008080; font-weight: bold\">3</span><span style=\"color: #000000; text-decoration-color: #000000\"> </span><span style=\"color: #008080; text-decoration-color: #008080; font-weight: bold\">0x55e2b6631884</span><span style=\"color: #000000; text-decoration-color: #000000\"> &lt;unknown&gt;</span>                                             <span style=\"color: #7f7f7f; text-decoration-color: #7f7f7f\">              </span>\n",
       "<span style=\"color: #7fbfbf; text-decoration-color: #7fbfbf\">                    </span>         <span style=\"color: #000000; text-decoration-color: #000000\">#</span><span style=\"color: #008080; text-decoration-color: #008080; font-weight: bold\">4</span><span style=\"color: #000000; text-decoration-color: #000000\"> </span><span style=\"color: #008080; text-decoration-color: #008080; font-weight: bold\">0x55e2b6670ccc</span><span style=\"color: #000000; text-decoration-color: #000000\"> &lt;unknown&gt;</span>                                             <span style=\"color: #7f7f7f; text-decoration-color: #7f7f7f\">              </span>\n",
       "<span style=\"color: #7fbfbf; text-decoration-color: #7fbfbf\">                    </span>         <span style=\"color: #000000; text-decoration-color: #000000\">#</span><span style=\"color: #008080; text-decoration-color: #008080; font-weight: bold\">5</span><span style=\"color: #000000; text-decoration-color: #000000\"> </span><span style=\"color: #008080; text-decoration-color: #008080; font-weight: bold\">0x55e2b667047f</span><span style=\"color: #000000; text-decoration-color: #000000\"> &lt;unknown&gt;</span>                                             <span style=\"color: #7f7f7f; text-decoration-color: #7f7f7f\">              </span>\n",
       "<span style=\"color: #7fbfbf; text-decoration-color: #7fbfbf\">                    </span>         <span style=\"color: #000000; text-decoration-color: #000000\">#</span><span style=\"color: #008080; text-decoration-color: #008080; font-weight: bold\">6</span><span style=\"color: #000000; text-decoration-color: #000000\"> </span><span style=\"color: #008080; text-decoration-color: #008080; font-weight: bold\">0x55e2b6667de3</span><span style=\"color: #000000; text-decoration-color: #000000\"> &lt;unknown&gt;</span>                                             <span style=\"color: #7f7f7f; text-decoration-color: #7f7f7f\">              </span>\n",
       "<span style=\"color: #7fbfbf; text-decoration-color: #7fbfbf\">                    </span>         <span style=\"color: #000000; text-decoration-color: #000000\">#</span><span style=\"color: #008080; text-decoration-color: #008080; font-weight: bold\">7</span><span style=\"color: #000000; text-decoration-color: #000000\"> </span><span style=\"color: #008080; text-decoration-color: #008080; font-weight: bold\">0x55e2b663d2dd</span><span style=\"color: #000000; text-decoration-color: #000000\"> &lt;unknown&gt;</span>                                             <span style=\"color: #7f7f7f; text-decoration-color: #7f7f7f\">              </span>\n",
       "<span style=\"color: #7fbfbf; text-decoration-color: #7fbfbf\">                    </span>         <span style=\"color: #000000; text-decoration-color: #000000\">#</span><span style=\"color: #008080; text-decoration-color: #008080; font-weight: bold\">8</span><span style=\"color: #000000; text-decoration-color: #000000\"> </span><span style=\"color: #008080; text-decoration-color: #008080; font-weight: bold\">0x55e2b663e34e</span><span style=\"color: #000000; text-decoration-color: #000000\"> &lt;unknown&gt;</span>                                             <span style=\"color: #7f7f7f; text-decoration-color: #7f7f7f\">              </span>\n",
       "<span style=\"color: #7fbfbf; text-decoration-color: #7fbfbf\">                    </span>         <span style=\"color: #000000; text-decoration-color: #000000\">#</span><span style=\"color: #008080; text-decoration-color: #008080; font-weight: bold\">9</span><span style=\"color: #000000; text-decoration-color: #000000\"> </span><span style=\"color: #008080; text-decoration-color: #008080; font-weight: bold\">0x55e2b689d3e4</span><span style=\"color: #000000; text-decoration-color: #000000\"> &lt;unknown&gt;</span>                                             <span style=\"color: #7f7f7f; text-decoration-color: #7f7f7f\">              </span>\n",
       "<span style=\"color: #7fbfbf; text-decoration-color: #7fbfbf\">                    </span>         <span style=\"color: #000000; text-decoration-color: #000000\">#</span><span style=\"color: #008080; text-decoration-color: #008080; font-weight: bold\">10</span><span style=\"color: #000000; text-decoration-color: #000000\"> </span><span style=\"color: #008080; text-decoration-color: #008080; font-weight: bold\">0x55e2b68a13d7</span><span style=\"color: #000000; text-decoration-color: #000000\"> &lt;unknown&gt;</span>                                            <span style=\"color: #7f7f7f; text-decoration-color: #7f7f7f\">              </span>\n",
       "<span style=\"color: #7fbfbf; text-decoration-color: #7fbfbf\">                    </span>         <span style=\"color: #000000; text-decoration-color: #000000\">#</span><span style=\"color: #008080; text-decoration-color: #008080; font-weight: bold\">11</span><span style=\"color: #000000; text-decoration-color: #000000\"> </span><span style=\"color: #008080; text-decoration-color: #008080; font-weight: bold\">0x55e2b68abb20</span><span style=\"color: #000000; text-decoration-color: #000000\"> &lt;unknown&gt;</span>                                            <span style=\"color: #7f7f7f; text-decoration-color: #7f7f7f\">              </span>\n",
       "<span style=\"color: #7fbfbf; text-decoration-color: #7fbfbf\">                    </span>         <span style=\"color: #000000; text-decoration-color: #000000\">#</span><span style=\"color: #008080; text-decoration-color: #008080; font-weight: bold\">12</span><span style=\"color: #000000; text-decoration-color: #000000\"> </span><span style=\"color: #008080; text-decoration-color: #008080; font-weight: bold\">0x55e2b68a2023</span><span style=\"color: #000000; text-decoration-color: #000000\"> &lt;unknown&gt;</span>                                            <span style=\"color: #7f7f7f; text-decoration-color: #7f7f7f\">              </span>\n",
       "<span style=\"color: #7fbfbf; text-decoration-color: #7fbfbf\">                    </span>         <span style=\"color: #000000; text-decoration-color: #000000\">#</span><span style=\"color: #008080; text-decoration-color: #008080; font-weight: bold\">13</span><span style=\"color: #000000; text-decoration-color: #000000\"> </span><span style=\"color: #008080; text-decoration-color: #008080; font-weight: bold\">0x55e2b68701aa</span><span style=\"color: #000000; text-decoration-color: #000000\"> &lt;unknown&gt;</span>                                            <span style=\"color: #7f7f7f; text-decoration-color: #7f7f7f\">              </span>\n",
       "<span style=\"color: #7fbfbf; text-decoration-color: #7fbfbf\">                    </span>         <span style=\"color: #000000; text-decoration-color: #000000\">#</span><span style=\"color: #008080; text-decoration-color: #008080; font-weight: bold\">14</span><span style=\"color: #000000; text-decoration-color: #000000\"> </span><span style=\"color: #008080; text-decoration-color: #008080; font-weight: bold\">0x55e2b68c66b8</span><span style=\"color: #000000; text-decoration-color: #000000\"> &lt;unknown&gt;</span>                                            <span style=\"color: #7f7f7f; text-decoration-color: #7f7f7f\">              </span>\n",
       "<span style=\"color: #7fbfbf; text-decoration-color: #7fbfbf\">                    </span>         <span style=\"color: #000000; text-decoration-color: #000000\">#</span><span style=\"color: #008080; text-decoration-color: #008080; font-weight: bold\">15</span><span style=\"color: #000000; text-decoration-color: #000000\"> </span><span style=\"color: #008080; text-decoration-color: #008080; font-weight: bold\">0x55e2b68c6847</span><span style=\"color: #000000; text-decoration-color: #000000\"> &lt;unknown&gt;</span>                                            <span style=\"color: #7f7f7f; text-decoration-color: #7f7f7f\">              </span>\n",
       "<span style=\"color: #7fbfbf; text-decoration-color: #7fbfbf\">                    </span>         <span style=\"color: #000000; text-decoration-color: #000000\">#</span><span style=\"color: #008080; text-decoration-color: #008080; font-weight: bold\">16</span><span style=\"color: #000000; text-decoration-color: #000000\"> </span><span style=\"color: #008080; text-decoration-color: #008080; font-weight: bold\">0x55e2b68d6243</span><span style=\"color: #000000; text-decoration-color: #000000\"> &lt;unknown&gt;</span>                                            <span style=\"color: #7f7f7f; text-decoration-color: #7f7f7f\">              </span>\n",
       "<span style=\"color: #7fbfbf; text-decoration-color: #7fbfbf\">                    </span>         <span style=\"color: #000000; text-decoration-color: #000000\">#</span><span style=\"color: #008080; text-decoration-color: #008080; font-weight: bold\">17</span><span style=\"color: #000000; text-decoration-color: #000000\"> </span><span style=\"color: #008080; text-decoration-color: #008080; font-weight: bold\">0x7fdffc2f29eb</span><span style=\"color: #000000; text-decoration-color: #000000\"> &lt;unknown</span><span style=\"font-weight: bold\">&gt;</span>                                            <span style=\"color: #7f7f7f; text-decoration-color: #7f7f7f\">              </span>\n",
       "<span style=\"color: #7fbfbf; text-decoration-color: #7fbfbf\">                    </span>                                                                                 <span style=\"color: #7f7f7f; text-decoration-color: #7f7f7f\">              </span>\n",
       "<span style=\"color: #7fbfbf; text-decoration-color: #7fbfbf\">                    </span>                                                                                 <span style=\"color: #7f7f7f; text-decoration-color: #7f7f7f\">              </span>\n",
       "</pre>\n"
      ],
      "text/plain": [
       "\u001b[2;36m[09/20/23 19:21:36]\u001b[0m\u001b[2;36m \u001b[0m\u001b[1;31mERROR   \u001b[0m                                                                         \u001b]8;id=795802;file:///home/morten/.conda/envs/packing-report/lib/python3.10/site-packages/soccerdata/_common.py\u001b\\\u001b[2m_common.py\u001b[0m\u001b]8;;\u001b\\\u001b[2m:\u001b[0m\u001b]8;id=517629;file:///home/morten/.conda/envs/packing-report/lib/python3.10/site-packages/soccerdata/_common.py#389\u001b\\\u001b[2m389\u001b[0m\u001b]8;;\u001b\\\n",
       "\u001b[2;36m                    \u001b[0m                         The ChromeDriver was unable to initiate/spawn a new     \u001b[2m              \u001b[0m\n",
       "\u001b[2;36m                    \u001b[0m                         WebBrowser. You will not be able to scrape new data.    \u001b[2m              \u001b[0m\n",
       "\u001b[2;36m                    \u001b[0m                         Message: unknown error: cannot connect to chrome at     \u001b[2m              \u001b[0m\n",
       "\u001b[2;36m                    \u001b[0m         \u001b[1;92m127.0.0.1\u001b[0m:\u001b[1;36m59271\u001b[0m                                                         \u001b[2m              \u001b[0m\n",
       "\u001b[2;36m                    \u001b[0m         from session not created: This version of ChromeDriver only supports    \u001b[2m              \u001b[0m\n",
       "\u001b[2;36m                    \u001b[0m         Chrome version \u001b[1;36m114\u001b[0m                                                      \u001b[2m              \u001b[0m\n",
       "\u001b[2;36m                    \u001b[0m         Current browser version is \u001b[1;36m117.0\u001b[0m.\u001b[1;36m5938.88\u001b[0m                                \u001b[2m              \u001b[0m\n",
       "\u001b[2;36m                    \u001b[0m         Stacktrace:                                                             \u001b[2m              \u001b[0m\n",
       "\u001b[2;36m                    \u001b[0m         #\u001b[1;36m0\u001b[0m \u001b[1;36m0x55e2b68dd4e3\u001b[0m \u001b[1m<\u001b[0m\u001b[1;95munknown\u001b[0m\u001b[39m>\u001b[0m                                             \u001b[2m              \u001b[0m\n",
       "\u001b[2;36m                    \u001b[0m         \u001b[39m#\u001b[0m\u001b[1;36m1\u001b[0m\u001b[39m \u001b[0m\u001b[1;36m0x55e2b660cc76\u001b[0m\u001b[39m <unknown>\u001b[0m                                             \u001b[2m              \u001b[0m\n",
       "\u001b[2;36m                    \u001b[0m         \u001b[39m#\u001b[0m\u001b[1;36m2\u001b[0m\u001b[39m \u001b[0m\u001b[1;36m0x55e2b663a04a\u001b[0m\u001b[39m <unknown>\u001b[0m                                             \u001b[2m              \u001b[0m\n",
       "\u001b[2;36m                    \u001b[0m         \u001b[39m#\u001b[0m\u001b[1;36m3\u001b[0m\u001b[39m \u001b[0m\u001b[1;36m0x55e2b6631884\u001b[0m\u001b[39m <unknown>\u001b[0m                                             \u001b[2m              \u001b[0m\n",
       "\u001b[2;36m                    \u001b[0m         \u001b[39m#\u001b[0m\u001b[1;36m4\u001b[0m\u001b[39m \u001b[0m\u001b[1;36m0x55e2b6670ccc\u001b[0m\u001b[39m <unknown>\u001b[0m                                             \u001b[2m              \u001b[0m\n",
       "\u001b[2;36m                    \u001b[0m         \u001b[39m#\u001b[0m\u001b[1;36m5\u001b[0m\u001b[39m \u001b[0m\u001b[1;36m0x55e2b667047f\u001b[0m\u001b[39m <unknown>\u001b[0m                                             \u001b[2m              \u001b[0m\n",
       "\u001b[2;36m                    \u001b[0m         \u001b[39m#\u001b[0m\u001b[1;36m6\u001b[0m\u001b[39m \u001b[0m\u001b[1;36m0x55e2b6667de3\u001b[0m\u001b[39m <unknown>\u001b[0m                                             \u001b[2m              \u001b[0m\n",
       "\u001b[2;36m                    \u001b[0m         \u001b[39m#\u001b[0m\u001b[1;36m7\u001b[0m\u001b[39m \u001b[0m\u001b[1;36m0x55e2b663d2dd\u001b[0m\u001b[39m <unknown>\u001b[0m                                             \u001b[2m              \u001b[0m\n",
       "\u001b[2;36m                    \u001b[0m         \u001b[39m#\u001b[0m\u001b[1;36m8\u001b[0m\u001b[39m \u001b[0m\u001b[1;36m0x55e2b663e34e\u001b[0m\u001b[39m <unknown>\u001b[0m                                             \u001b[2m              \u001b[0m\n",
       "\u001b[2;36m                    \u001b[0m         \u001b[39m#\u001b[0m\u001b[1;36m9\u001b[0m\u001b[39m \u001b[0m\u001b[1;36m0x55e2b689d3e4\u001b[0m\u001b[39m <unknown>\u001b[0m                                             \u001b[2m              \u001b[0m\n",
       "\u001b[2;36m                    \u001b[0m         \u001b[39m#\u001b[0m\u001b[1;36m10\u001b[0m\u001b[39m \u001b[0m\u001b[1;36m0x55e2b68a13d7\u001b[0m\u001b[39m <unknown>\u001b[0m                                            \u001b[2m              \u001b[0m\n",
       "\u001b[2;36m                    \u001b[0m         \u001b[39m#\u001b[0m\u001b[1;36m11\u001b[0m\u001b[39m \u001b[0m\u001b[1;36m0x55e2b68abb20\u001b[0m\u001b[39m <unknown>\u001b[0m                                            \u001b[2m              \u001b[0m\n",
       "\u001b[2;36m                    \u001b[0m         \u001b[39m#\u001b[0m\u001b[1;36m12\u001b[0m\u001b[39m \u001b[0m\u001b[1;36m0x55e2b68a2023\u001b[0m\u001b[39m <unknown>\u001b[0m                                            \u001b[2m              \u001b[0m\n",
       "\u001b[2;36m                    \u001b[0m         \u001b[39m#\u001b[0m\u001b[1;36m13\u001b[0m\u001b[39m \u001b[0m\u001b[1;36m0x55e2b68701aa\u001b[0m\u001b[39m <unknown>\u001b[0m                                            \u001b[2m              \u001b[0m\n",
       "\u001b[2;36m                    \u001b[0m         \u001b[39m#\u001b[0m\u001b[1;36m14\u001b[0m\u001b[39m \u001b[0m\u001b[1;36m0x55e2b68c66b8\u001b[0m\u001b[39m <unknown>\u001b[0m                                            \u001b[2m              \u001b[0m\n",
       "\u001b[2;36m                    \u001b[0m         \u001b[39m#\u001b[0m\u001b[1;36m15\u001b[0m\u001b[39m \u001b[0m\u001b[1;36m0x55e2b68c6847\u001b[0m\u001b[39m <unknown>\u001b[0m                                            \u001b[2m              \u001b[0m\n",
       "\u001b[2;36m                    \u001b[0m         \u001b[39m#\u001b[0m\u001b[1;36m16\u001b[0m\u001b[39m \u001b[0m\u001b[1;36m0x55e2b68d6243\u001b[0m\u001b[39m <unknown>\u001b[0m                                            \u001b[2m              \u001b[0m\n",
       "\u001b[2;36m                    \u001b[0m         \u001b[39m#\u001b[0m\u001b[1;36m17\u001b[0m\u001b[39m \u001b[0m\u001b[1;36m0x7fdffc2f29eb\u001b[0m\u001b[39m <unknown\u001b[0m\u001b[1m>\u001b[0m                                            \u001b[2m              \u001b[0m\n",
       "\u001b[2;36m                    \u001b[0m                                                                                 \u001b[2m              \u001b[0m\n",
       "\u001b[2;36m                    \u001b[0m                                                                                 \u001b[2m              \u001b[0m\n"
      ]
     },
     "metadata": {},
     "output_type": "display_data"
    }
   ],
   "source": [
    "ws = sd.WhoScored(\n",
    "    #  \"GER-Bundesliga\", \"GER-Bundesliga2\", \"ENG-Premier League\", \"ESP-La Liga\", \"FRA-Ligue 1\", \"ITA-Serie A\"\n",
    "    leagues=[\"GER-Bundesliga\"],\n",
    "    seasons=[21],\n",
    "    no_cache=False,\n",
    "    no_store=False,\n",
    "    data_dir=PosixPath(\"/home/morten/Develop/Open-Data/soccerdata\"),\n",
    "    path_to_browser=\"/usr/bin/chromium\",\n",
    "    headless=False,\n",
    ")"
   ]
  },
  {
   "cell_type": "code",
   "execution_count": 5,
   "metadata": {},
   "outputs": [
    {
     "data": {
      "text/html": [
       "<pre style=\"white-space:pre;overflow-x:auto;line-height:normal;font-family:Menlo,'DejaVu Sans Mono',consolas,'Courier New',monospace\"><span style=\"color: #7fbfbf; text-decoration-color: #7fbfbf\">[09/20/23 19:21:50] </span><span style=\"color: #000080; text-decoration-color: #000080\">INFO    </span> Retrieving game schedule of GER-Bundesliga - <span style=\"color: #008080; text-decoration-color: #008080; font-weight: bold\">2122</span> from the cache      <a href=\"file:///home/morten/.conda/envs/packing-report/lib/python3.10/site-packages/soccerdata/whoscored.py\" target=\"_blank\"><span style=\"color: #7f7f7f; text-decoration-color: #7f7f7f\">whoscored.py</span></a><span style=\"color: #7f7f7f; text-decoration-color: #7f7f7f\">:</span><a href=\"file:///home/morten/.conda/envs/packing-report/lib/python3.10/site-packages/soccerdata/whoscored.py#437\" target=\"_blank\"><span style=\"color: #7f7f7f; text-decoration-color: #7f7f7f\">437</span></a>\n",
       "</pre>\n"
      ],
      "text/plain": [
       "\u001b[2;36m[09/20/23 19:21:50]\u001b[0m\u001b[2;36m \u001b[0m\u001b[34mINFO    \u001b[0m Retrieving game schedule of GER-Bundesliga - \u001b[1;36m2122\u001b[0m from the cache      \u001b]8;id=248748;file:///home/morten/.conda/envs/packing-report/lib/python3.10/site-packages/soccerdata/whoscored.py\u001b\\\u001b[2mwhoscored.py\u001b[0m\u001b]8;;\u001b\\\u001b[2m:\u001b[0m\u001b]8;id=244392;file:///home/morten/.conda/envs/packing-report/lib/python3.10/site-packages/soccerdata/whoscored.py#437\u001b\\\u001b[2m437\u001b[0m\u001b]8;;\u001b\\\n"
      ]
     },
     "metadata": {},
     "output_type": "display_data"
    },
    {
     "data": {
      "text/html": [
       "<div>\n",
       "<style scoped>\n",
       "    .dataframe tbody tr th:only-of-type {\n",
       "        vertical-align: middle;\n",
       "    }\n",
       "\n",
       "    .dataframe tbody tr th {\n",
       "        vertical-align: top;\n",
       "    }\n",
       "\n",
       "    .dataframe thead th {\n",
       "        text-align: right;\n",
       "    }\n",
       "</style>\n",
       "<table border=\"1\" class=\"dataframe\">\n",
       "  <thead>\n",
       "    <tr style=\"text-align: right;\">\n",
       "      <th></th>\n",
       "      <th></th>\n",
       "      <th></th>\n",
       "      <th>date</th>\n",
       "      <th>home_team</th>\n",
       "      <th>away_team</th>\n",
       "      <th>game_id</th>\n",
       "      <th>url</th>\n",
       "      <th>stage</th>\n",
       "    </tr>\n",
       "    <tr>\n",
       "      <th>league</th>\n",
       "      <th>season</th>\n",
       "      <th>game</th>\n",
       "      <th></th>\n",
       "      <th></th>\n",
       "      <th></th>\n",
       "      <th></th>\n",
       "      <th></th>\n",
       "      <th></th>\n",
       "    </tr>\n",
       "  </thead>\n",
       "  <tbody>\n",
       "    <tr>\n",
       "      <th rowspan=\"5\" valign=\"top\">GER-Bundesliga</th>\n",
       "      <th rowspan=\"5\" valign=\"top\">2122</th>\n",
       "      <th>2021-08-13 Borussia M.Gladbach-Bayern</th>\n",
       "      <td>2021-08-13 19:30:00</td>\n",
       "      <td>Borussia M.Gladbach</td>\n",
       "      <td>Bayern</td>\n",
       "      <td>1557324</td>\n",
       "      <td>https://www.whoscored.com/Matches/1557324/Live...</td>\n",
       "      <td>NaN</td>\n",
       "    </tr>\n",
       "    <tr>\n",
       "      <th>2021-08-14 Arminia Bielefeld-Freiburg</th>\n",
       "      <td>2021-08-14 14:30:00</td>\n",
       "      <td>Arminia Bielefeld</td>\n",
       "      <td>Freiburg</td>\n",
       "      <td>1557326</td>\n",
       "      <td>https://www.whoscored.com/Matches/1557326/Live...</td>\n",
       "      <td>NaN</td>\n",
       "    </tr>\n",
       "    <tr>\n",
       "      <th>2021-08-14 Augsburg-Hoffenheim</th>\n",
       "      <td>2021-08-14 14:30:00</td>\n",
       "      <td>Augsburg</td>\n",
       "      <td>Hoffenheim</td>\n",
       "      <td>1557327</td>\n",
       "      <td>https://www.whoscored.com/Matches/1557327/Live...</td>\n",
       "      <td>NaN</td>\n",
       "    </tr>\n",
       "    <tr>\n",
       "      <th>2021-08-14 Borussia Dortmund-Eintracht Frankfurt</th>\n",
       "      <td>2021-08-14 17:30:00</td>\n",
       "      <td>Borussia Dortmund</td>\n",
       "      <td>Eintracht Frankfurt</td>\n",
       "      <td>1557332</td>\n",
       "      <td>https://www.whoscored.com/Matches/1557332/Live...</td>\n",
       "      <td>NaN</td>\n",
       "    </tr>\n",
       "    <tr>\n",
       "      <th>2021-08-14 Stuttgart-Greuther Fuerth</th>\n",
       "      <td>2021-08-14 14:30:00</td>\n",
       "      <td>Stuttgart</td>\n",
       "      <td>Greuther Fuerth</td>\n",
       "      <td>1557329</td>\n",
       "      <td>https://www.whoscored.com/Matches/1557329/Live...</td>\n",
       "      <td>NaN</td>\n",
       "    </tr>\n",
       "  </tbody>\n",
       "</table>\n",
       "</div>"
      ],
      "text/plain": [
       "                                                                                      date  \\\n",
       "league         season game                                                                   \n",
       "GER-Bundesliga 2122   2021-08-13 Borussia M.Gladbach-Bayern            2021-08-13 19:30:00   \n",
       "                      2021-08-14 Arminia Bielefeld-Freiburg            2021-08-14 14:30:00   \n",
       "                      2021-08-14 Augsburg-Hoffenheim                   2021-08-14 14:30:00   \n",
       "                      2021-08-14 Borussia Dortmund-Eintracht Frankfurt 2021-08-14 17:30:00   \n",
       "                      2021-08-14 Stuttgart-Greuther Fuerth             2021-08-14 14:30:00   \n",
       "\n",
       "                                                                                  home_team  \\\n",
       "league         season game                                                                    \n",
       "GER-Bundesliga 2122   2021-08-13 Borussia M.Gladbach-Bayern             Borussia M.Gladbach   \n",
       "                      2021-08-14 Arminia Bielefeld-Freiburg               Arminia Bielefeld   \n",
       "                      2021-08-14 Augsburg-Hoffenheim                               Augsburg   \n",
       "                      2021-08-14 Borussia Dortmund-Eintracht Frankfurt    Borussia Dortmund   \n",
       "                      2021-08-14 Stuttgart-Greuther Fuerth                        Stuttgart   \n",
       "\n",
       "                                                                                  away_team  \\\n",
       "league         season game                                                                    \n",
       "GER-Bundesliga 2122   2021-08-13 Borussia M.Gladbach-Bayern                          Bayern   \n",
       "                      2021-08-14 Arminia Bielefeld-Freiburg                        Freiburg   \n",
       "                      2021-08-14 Augsburg-Hoffenheim                             Hoffenheim   \n",
       "                      2021-08-14 Borussia Dortmund-Eintracht Frankfurt  Eintracht Frankfurt   \n",
       "                      2021-08-14 Stuttgart-Greuther Fuerth                  Greuther Fuerth   \n",
       "\n",
       "                                                                        game_id  \\\n",
       "league         season game                                                        \n",
       "GER-Bundesliga 2122   2021-08-13 Borussia M.Gladbach-Bayern             1557324   \n",
       "                      2021-08-14 Arminia Bielefeld-Freiburg             1557326   \n",
       "                      2021-08-14 Augsburg-Hoffenheim                    1557327   \n",
       "                      2021-08-14 Borussia Dortmund-Eintracht Frankfurt  1557332   \n",
       "                      2021-08-14 Stuttgart-Greuther Fuerth              1557329   \n",
       "\n",
       "                                                                                                                      url  \\\n",
       "league         season game                                                                                                  \n",
       "GER-Bundesliga 2122   2021-08-13 Borussia M.Gladbach-Bayern             https://www.whoscored.com/Matches/1557324/Live...   \n",
       "                      2021-08-14 Arminia Bielefeld-Freiburg             https://www.whoscored.com/Matches/1557326/Live...   \n",
       "                      2021-08-14 Augsburg-Hoffenheim                    https://www.whoscored.com/Matches/1557327/Live...   \n",
       "                      2021-08-14 Borussia Dortmund-Eintracht Frankfurt  https://www.whoscored.com/Matches/1557332/Live...   \n",
       "                      2021-08-14 Stuttgart-Greuther Fuerth              https://www.whoscored.com/Matches/1557329/Live...   \n",
       "\n",
       "                                                                        stage  \n",
       "league         season game                                                     \n",
       "GER-Bundesliga 2122   2021-08-13 Borussia M.Gladbach-Bayern               NaN  \n",
       "                      2021-08-14 Arminia Bielefeld-Freiburg               NaN  \n",
       "                      2021-08-14 Augsburg-Hoffenheim                      NaN  \n",
       "                      2021-08-14 Borussia Dortmund-Eintracht Frankfurt    NaN  \n",
       "                      2021-08-14 Stuttgart-Greuther Fuerth                NaN  "
      ]
     },
     "execution_count": 5,
     "metadata": {},
     "output_type": "execute_result"
    }
   ],
   "source": [
    "schedule = ws.read_schedule()\n",
    "schedule.head()"
   ]
  },
  {
   "cell_type": "code",
   "execution_count": 6,
   "metadata": {},
   "outputs": [],
   "source": [
    "def to_datetime(date):\n",
    "    \"\"\"\n",
    "    Converts a numpy datetime64 object to a python datetime object \n",
    "    Input:\n",
    "      date - a np.datetime64 object\n",
    "    Output:\n",
    "      DATE - a python datetime object\n",
    "    \"\"\"\n",
    "    timestamp = ((date - np.datetime64('1970-01-01T00:00:00'))\n",
    "                 / np.timedelta64(1, 's'))\n",
    "    return datetime.utcfromtimestamp(timestamp).replace(tzinfo=timezone.utc)"
   ]
  },
  {
   "cell_type": "code",
   "execution_count": 8,
   "metadata": {},
   "outputs": [],
   "source": [
    "from db_handler import DB_handler"
   ]
  },
  {
   "cell_type": "code",
   "execution_count": 9,
   "metadata": {},
   "outputs": [],
   "source": [
    "from tqdm import tqdm\n",
    "def exec(schedule):\n",
    "    schedule = schedule.sort_values(\"date\")\n",
    "    for game_id, date in (pbar := tqdm(zip(schedule.game_id, schedule.date), total=len(schedule.game_id))):\n",
    "        pbar.set_description(f\"processing game_id:{game_id}\")\n",
    "        date = to_datetime(date)\n",
    "        dbh = DB_handler(\"/home/morten/Develop/packing-report/Goal-Difference-Elo-GDE/GDE.db\")\n",
    "        game_timeline = GameTimeline(ws, game_id, date, dbh)\n",
    "        for player_id in game_timeline.general_info_dict:\n",
    "            player_name = game_timeline.general_info_dict[player_id][\"player_name\"]\n",
    "            team_id = game_timeline.general_info_dict[player_id][\"team_id\"]\n",
    "            team_name = game_timeline.general_info_dict[player_id][\"team_name\"]\n",
    "            proto_player = player.Player(int(player_id), player_name, team_id, team_name, game_timeline.game_date)\n",
    "            proto_player.add_game(game_timeline) \n"
   ]
  },
  {
   "cell_type": "code",
   "execution_count": 11,
   "metadata": {},
   "outputs": [
    {
     "name": "stderr",
     "output_type": "stream",
     "text": [
      "processing game_id:1557324:   0%|          | 0/306 [00:00<?, ?it/s]"
     ]
    },
    {
     "name": "stderr",
     "output_type": "stream",
     "text": [
      "processing game_id:1557324:   0%|          | 0/306 [00:00<?, ?it/s]"
     ]
    },
    {
     "name": "stdout",
     "output_type": "stream",
     "text": [
      "2021/2022\n",
      "1\n",
      "[('17-12-88',)]\n",
      "Borussia M.Gladbach 1 2021/2022\n",
      "2021/2022\n",
      "1\n",
      "[('27-08-92',)]\n",
      "Borussia M.Gladbach 18 2021/2022\n",
      "2021/2022\n",
      "1\n",
      "[('19-01-94',)]\n",
      "Borussia M.Gladbach 28 2021/2022\n",
      "2021/2022\n",
      "1\n",
      "[('30-09-96',)]\n",
      "Borussia M.Gladbach 30 2021/2022\n",
      "2021/2022\n",
      "1\n",
      "[('31-12-02',)]\n",
      "Borussia M.Gladbach 29 2021/2022\n",
      "2021/2022\n",
      "1\n",
      "[('16-03-97',)]\n",
      "Borussia M.Gladbach 32 2021/2022\n",
      "2021/2022\n",
      "1\n",
      "[('19-02-91',)]\n",
      "Borussia M.Gladbach 6 2021/2022\n",
      "2021/2022\n",
      "1\n",
      "[('12-02-91',)]\n",
      "Borussia M.Gladbach 7 2021/2022\n",
      "2021/2022\n",
      "1\n",
      "[('26-08-88',)]\n",
      "Borussia M.Gladbach 13 2021/2022\n",
      "2021/2022\n",
      "1\n",
      "[('16-04-99',)]\n",
      "Borussia M.Gladbach 11 2021/2022\n",
      "2021/2022\n",
      "1\n",
      "[('10-03-93',)]\n",
      "Borussia M.Gladbach 14 2021/2022\n",
      "2021/2022\n",
      "1\n",
      "[('27-03-86',)]\n",
      "Bayern 1 2021/2022\n",
      "2021/2022\n",
      "1\n",
      "[('02-04-00',)]\n",
      "Bayern 44 2021/2022\n",
      "2021/2022\n",
      "1\n",
      "[('27-10-98',)]\n",
      "Bayern 2 2021/2022\n",
      "2021/2022\n",
      "1\n",
      "[('03-09-95',)]\n",
      "Bayern 4 2021/2022\n",
      "2021/2022\n",
      "1\n",
      "[('02-11-00',)]\n",
      "Bayern 19 2021/2022\n",
      "2021/2022\n",
      "1\n",
      "[('08-02-95',)]\n",
      "Bayern 6 2021/2022\n",
      "2021/2022\n",
      "1\n",
      "[('06-02-95',)]\n",
      "Bayern 8 2021/2022\n",
      "2021/2022\n",
      "1\n",
      "[('11-01-96',)]\n",
      "Bayern 10 2021/2022\n",
      "2021/2022\n",
      "1\n",
      "[('13-09-89',)]\n",
      "Bayern 25 2021/2022\n",
      "2021/2022\n",
      "1\n",
      "[('14-07-95',)]\n",
      "Bayern 7 2021/2022\n",
      "2021/2022\n",
      "1\n",
      "[('21-08-88',)]\n",
      "Bayern 9 2021/2022\n",
      "2021/2022\n",
      "1\n",
      "[('06-08-97',)]\n",
      "Borussia M.Gladbach 10 2021/2022\n",
      "2021/2022\n",
      "1\n",
      "[('14-07-92',)]\n",
      "Borussia M.Gladbach 23 2021/2022\n",
      "2021/2022\n",
      "1\n",
      "[('09-03-99',)]\n",
      "Borussia M.Gladbach 37 2021/2022\n",
      "2021/2022\n",
      "1\n",
      "[('13-06-96',)]\n",
      "Bayern 11 2021/2022\n",
      "2021/2022\n",
      "1\n",
      "[('26-02-03',)]\n",
      "Bayern 42 2021/2022\n",
      "2021/2022\n",
      "1\n",
      "[('23-03-89',)]\n",
      "Bayern 13 2021/2022\n",
      "2021/2022\n",
      "1\n",
      "[('31-01-92',)]\n",
      "Bayern 20 2021/2022\n",
      "2021/2022\n",
      "1\n",
      "[('09-09-97',)]\n",
      "Borussia M.Gladbach 22 2021/2022\n"
     ]
    },
    {
     "name": "stderr",
     "output_type": "stream",
     "text": [
      "\n"
     ]
    },
    {
     "ename": "TypeError",
     "evalue": "Player.__init__() missing 2 required positional arguments: 'kit_number' and 'game_date'",
     "output_type": "error",
     "traceback": [
      "\u001b[0;31m---------------------------------------------------------------------------\u001b[0m",
      "\u001b[0;31mTypeError\u001b[0m                                 Traceback (most recent call last)",
      "\u001b[1;32m/home/morten/Develop/packing-report/Goal-Difference-Elo-GDE/goal-impact.ipynb Cell 9\u001b[0m line \u001b[0;36m<cell line: 5>\u001b[0;34m()\u001b[0m\n\u001b[1;32m      <a href='vscode-notebook-cell:/home/morten/Develop/packing-report/Goal-Difference-Elo-GDE/goal-impact.ipynb#X11sZmlsZQ%3D%3D?line=2'>3</a>\u001b[0m logger\u001b[39m.\u001b[39msetLevel(logging\u001b[39m.\u001b[39mCRITICAL)\n\u001b[1;32m      <a href='vscode-notebook-cell:/home/morten/Develop/packing-report/Goal-Difference-Elo-GDE/goal-impact.ipynb#X11sZmlsZQ%3D%3D?line=3'>4</a>\u001b[0m \u001b[39m# cProfile.run(\"exec(schedule)\", 'restats')\u001b[39;00m\n\u001b[0;32m----> <a href='vscode-notebook-cell:/home/morten/Develop/packing-report/Goal-Difference-Elo-GDE/goal-impact.ipynb#X11sZmlsZQ%3D%3D?line=4'>5</a>\u001b[0m exec(schedule)\n",
      "\u001b[1;32m/home/morten/Develop/packing-report/Goal-Difference-Elo-GDE/goal-impact.ipynb Cell 9\u001b[0m line \u001b[0;36mexec\u001b[0;34m(schedule)\u001b[0m\n\u001b[1;32m     <a href='vscode-notebook-cell:/home/morten/Develop/packing-report/Goal-Difference-Elo-GDE/goal-impact.ipynb#X11sZmlsZQ%3D%3D?line=10'>11</a>\u001b[0m team_id \u001b[39m=\u001b[39m game_timeline\u001b[39m.\u001b[39mgeneral_info_dict[player_id][\u001b[39m\"\u001b[39m\u001b[39mteam_id\u001b[39m\u001b[39m\"\u001b[39m]\n\u001b[1;32m     <a href='vscode-notebook-cell:/home/morten/Develop/packing-report/Goal-Difference-Elo-GDE/goal-impact.ipynb#X11sZmlsZQ%3D%3D?line=11'>12</a>\u001b[0m team_name \u001b[39m=\u001b[39m game_timeline\u001b[39m.\u001b[39mgeneral_info_dict[player_id][\u001b[39m\"\u001b[39m\u001b[39mteam_name\u001b[39m\u001b[39m\"\u001b[39m]\n\u001b[0;32m---> <a href='vscode-notebook-cell:/home/morten/Develop/packing-report/Goal-Difference-Elo-GDE/goal-impact.ipynb#X11sZmlsZQ%3D%3D?line=12'>13</a>\u001b[0m proto_player \u001b[39m=\u001b[39m player\u001b[39m.\u001b[39;49mPlayer(\u001b[39mint\u001b[39;49m(player_id), player_name, team_id, team_name, game_timeline\u001b[39m.\u001b[39;49mgame_date)\n\u001b[1;32m     <a href='vscode-notebook-cell:/home/morten/Develop/packing-report/Goal-Difference-Elo-GDE/goal-impact.ipynb#X11sZmlsZQ%3D%3D?line=13'>14</a>\u001b[0m proto_player\u001b[39m.\u001b[39madd_game(game_timeline)\n",
      "\u001b[0;31mTypeError\u001b[0m: Player.__init__() missing 2 required positional arguments: 'kit_number' and 'game_date'"
     ]
    }
   ],
   "source": [
    "import logging\n",
    "logger = logging.getLogger()\n",
    "logger.setLevel(logging.CRITICAL)\n",
    "# cProfile.run(\"exec(schedule)\", 'restats')\n",
    "exec(schedule)"
   ]
  },
  {
   "cell_type": "code",
   "execution_count": null,
   "metadata": {},
   "outputs": [],
   "source": [
    "# load all players\n",
    "ids, elos, names, unc, elo_be = [], [], [], [], []\n",
    "for f in os.listdir(\"/home/morten/Develop/packing-report/Goal-Difference-Elo-GDE/proto_db\"):\n",
    "    p = player.PlayerProto().parse(open(f\"/home/morten/Develop/packing-report/Goal-Difference-Elo-GDE/proto_db/{f}\", \"rb\").read())\n",
    "    appended = False\n",
    "    try:\n",
    "        if p.game[-1].uncertainty < 50:\n",
    "            elos.append(p.game[-1].elo)\n",
    "            unc.append(p.game[-1].uncertainty)\n",
    "            elo_be.append(p.game[-1].elo - p.game[-1].uncertainty)\n",
    "            appended = True\n",
    "    except:\n",
    "        pass\n",
    "    if appended:\n",
    "        ids.append(f)\n",
    "        names.append(p.player_name)\n",
    "\n",
    "elo_frame = pd.DataFrame({\"id\": ids, \"elo\":elos, \"uncertainty\": unc, \"name\":names, \"elo_be\": elo_be})"
   ]
  },
  {
   "cell_type": "code",
   "execution_count": null,
   "metadata": {},
   "outputs": [
    {
     "data": {
      "text/html": [
       "<div>\n",
       "<style scoped>\n",
       "    .dataframe tbody tr th:only-of-type {\n",
       "        vertical-align: middle;\n",
       "    }\n",
       "\n",
       "    .dataframe tbody tr th {\n",
       "        vertical-align: top;\n",
       "    }\n",
       "\n",
       "    .dataframe thead th {\n",
       "        text-align: right;\n",
       "    }\n",
       "</style>\n",
       "<table border=\"1\" class=\"dataframe\">\n",
       "  <thead>\n",
       "    <tr style=\"text-align: right;\">\n",
       "      <th></th>\n",
       "      <th>id</th>\n",
       "      <th>elo</th>\n",
       "      <th>uncertainty</th>\n",
       "      <th>name</th>\n",
       "      <th>elo_be</th>\n",
       "    </tr>\n",
       "  </thead>\n",
       "  <tbody>\n",
       "    <tr>\n",
       "      <th>1441</th>\n",
       "      <td>300705.pdata</td>\n",
       "      <td>209.962646</td>\n",
       "      <td>10.888453</td>\n",
       "      <td>Lucas Tousart</td>\n",
       "      <td>199.074193</td>\n",
       "    </tr>\n",
       "    <tr>\n",
       "      <th>403</th>\n",
       "      <td>324951.pdata</td>\n",
       "      <td>209.923553</td>\n",
       "      <td>8.905194</td>\n",
       "      <td>Dirk Carlson</td>\n",
       "      <td>201.018359</td>\n",
       "    </tr>\n",
       "    <tr>\n",
       "      <th>284</th>\n",
       "      <td>391446.pdata</td>\n",
       "      <td>209.898300</td>\n",
       "      <td>11.041724</td>\n",
       "      <td>Maurice Trapp</td>\n",
       "      <td>198.856576</td>\n",
       "    </tr>\n",
       "    <tr>\n",
       "      <th>116</th>\n",
       "      <td>419942.pdata</td>\n",
       "      <td>209.751709</td>\n",
       "      <td>15.547083</td>\n",
       "      <td>Thomas Keller</td>\n",
       "      <td>194.204626</td>\n",
       "    </tr>\n",
       "    <tr>\n",
       "      <th>471</th>\n",
       "      <td>106049.pdata</td>\n",
       "      <td>209.265839</td>\n",
       "      <td>10.304904</td>\n",
       "      <td>Ewerton</td>\n",
       "      <td>198.960935</td>\n",
       "    </tr>\n",
       "    <tr>\n",
       "      <th>38</th>\n",
       "      <td>115996.pdata</td>\n",
       "      <td>208.881226</td>\n",
       "      <td>10.556483</td>\n",
       "      <td>Omar Mascarell</td>\n",
       "      <td>198.324742</td>\n",
       "    </tr>\n",
       "    <tr>\n",
       "      <th>922</th>\n",
       "      <td>330537.pdata</td>\n",
       "      <td>208.811386</td>\n",
       "      <td>7.465506</td>\n",
       "      <td>Nicklas Shipnoski</td>\n",
       "      <td>201.345881</td>\n",
       "    </tr>\n",
       "    <tr>\n",
       "      <th>1537</th>\n",
       "      <td>108770.pdata</td>\n",
       "      <td>208.593216</td>\n",
       "      <td>6.149417</td>\n",
       "      <td>Simon Falette</td>\n",
       "      <td>202.443799</td>\n",
       "    </tr>\n",
       "    <tr>\n",
       "      <th>1085</th>\n",
       "      <td>101550.pdata</td>\n",
       "      <td>208.543350</td>\n",
       "      <td>10.414198</td>\n",
       "      <td>Kevin Wimmer</td>\n",
       "      <td>198.129152</td>\n",
       "    </tr>\n",
       "    <tr>\n",
       "      <th>483</th>\n",
       "      <td>109476.pdata</td>\n",
       "      <td>208.537445</td>\n",
       "      <td>10.475444</td>\n",
       "      <td>Andreas Wiegel</td>\n",
       "      <td>198.062001</td>\n",
       "    </tr>\n",
       "    <tr>\n",
       "      <th>835</th>\n",
       "      <td>401083.pdata</td>\n",
       "      <td>208.367111</td>\n",
       "      <td>10.294256</td>\n",
       "      <td>Yassin Ben Balla</td>\n",
       "      <td>198.072855</td>\n",
       "    </tr>\n",
       "    <tr>\n",
       "      <th>876</th>\n",
       "      <td>419944.pdata</td>\n",
       "      <td>207.593292</td>\n",
       "      <td>8.027147</td>\n",
       "      <td>Maximilian Neuberger</td>\n",
       "      <td>199.566145</td>\n",
       "    </tr>\n",
       "    <tr>\n",
       "      <th>361</th>\n",
       "      <td>372378.pdata</td>\n",
       "      <td>207.560013</td>\n",
       "      <td>6.301709</td>\n",
       "      <td>Nassim Boujellab</td>\n",
       "      <td>201.258304</td>\n",
       "    </tr>\n",
       "    <tr>\n",
       "      <th>594</th>\n",
       "      <td>228627.pdata</td>\n",
       "      <td>207.478302</td>\n",
       "      <td>6.350006</td>\n",
       "      <td>Dominic Baumann</td>\n",
       "      <td>201.128296</td>\n",
       "    </tr>\n",
       "    <tr>\n",
       "      <th>1412</th>\n",
       "      <td>400939.pdata</td>\n",
       "      <td>207.466583</td>\n",
       "      <td>3.461038</td>\n",
       "      <td>Christian Gebauer</td>\n",
       "      <td>204.005546</td>\n",
       "    </tr>\n",
       "    <tr>\n",
       "      <th>547</th>\n",
       "      <td>107552.pdata</td>\n",
       "      <td>206.941055</td>\n",
       "      <td>2.898005</td>\n",
       "      <td>Benito Raman</td>\n",
       "      <td>204.043050</td>\n",
       "    </tr>\n",
       "    <tr>\n",
       "      <th>1162</th>\n",
       "      <td>294867.pdata</td>\n",
       "      <td>206.685440</td>\n",
       "      <td>9.012610</td>\n",
       "      <td>Patrick Erras</td>\n",
       "      <td>197.672830</td>\n",
       "    </tr>\n",
       "    <tr>\n",
       "      <th>240</th>\n",
       "      <td>144769.pdata</td>\n",
       "      <td>206.628113</td>\n",
       "      <td>5.525529</td>\n",
       "      <td>Max Christiansen</td>\n",
       "      <td>201.102584</td>\n",
       "    </tr>\n",
       "    <tr>\n",
       "      <th>698</th>\n",
       "      <td>333721.pdata</td>\n",
       "      <td>205.855103</td>\n",
       "      <td>15.298682</td>\n",
       "      <td>Kevin Lankford</td>\n",
       "      <td>190.556420</td>\n",
       "    </tr>\n",
       "    <tr>\n",
       "      <th>684</th>\n",
       "      <td>83303.pdata</td>\n",
       "      <td>205.539902</td>\n",
       "      <td>10.492243</td>\n",
       "      <td>Benjamin Stambouli</td>\n",
       "      <td>195.047659</td>\n",
       "    </tr>\n",
       "    <tr>\n",
       "      <th>1326</th>\n",
       "      <td>36383.pdata</td>\n",
       "      <td>205.532761</td>\n",
       "      <td>11.064328</td>\n",
       "      <td>Fabian Giefer</td>\n",
       "      <td>194.468432</td>\n",
       "    </tr>\n",
       "    <tr>\n",
       "      <th>181</th>\n",
       "      <td>349125.pdata</td>\n",
       "      <td>205.033264</td>\n",
       "      <td>15.907273</td>\n",
       "      <td>Nikolas Nartey</td>\n",
       "      <td>189.125991</td>\n",
       "    </tr>\n",
       "    <tr>\n",
       "      <th>435</th>\n",
       "      <td>70906.pdata</td>\n",
       "      <td>204.552368</td>\n",
       "      <td>12.701743</td>\n",
       "      <td>Nick Viergever</td>\n",
       "      <td>191.850625</td>\n",
       "    </tr>\n",
       "    <tr>\n",
       "      <th>1259</th>\n",
       "      <td>14182.pdata</td>\n",
       "      <td>204.508240</td>\n",
       "      <td>13.004284</td>\n",
       "      <td>Pirmin Schwegler</td>\n",
       "      <td>191.503956</td>\n",
       "    </tr>\n",
       "    <tr>\n",
       "      <th>1674</th>\n",
       "      <td>361416.pdata</td>\n",
       "      <td>204.223572</td>\n",
       "      <td>10.204675</td>\n",
       "      <td>Rico Preißinger</td>\n",
       "      <td>194.018897</td>\n",
       "    </tr>\n",
       "    <tr>\n",
       "      <th>823</th>\n",
       "      <td>43363.pdata</td>\n",
       "      <td>202.985153</td>\n",
       "      <td>12.786713</td>\n",
       "      <td>Kevin Wolze</td>\n",
       "      <td>190.198441</td>\n",
       "    </tr>\n",
       "    <tr>\n",
       "      <th>990</th>\n",
       "      <td>419950.pdata</td>\n",
       "      <td>202.766037</td>\n",
       "      <td>10.566521</td>\n",
       "      <td>Nico Antonitsch</td>\n",
       "      <td>192.199516</td>\n",
       "    </tr>\n",
       "    <tr>\n",
       "      <th>635</th>\n",
       "      <td>132925.pdata</td>\n",
       "      <td>202.728241</td>\n",
       "      <td>12.741040</td>\n",
       "      <td>Sebastian Griesbeck</td>\n",
       "      <td>189.987201</td>\n",
       "    </tr>\n",
       "    <tr>\n",
       "      <th>507</th>\n",
       "      <td>25041.pdata</td>\n",
       "      <td>202.582489</td>\n",
       "      <td>13.494479</td>\n",
       "      <td>Niklas Moisander</td>\n",
       "      <td>189.088010</td>\n",
       "    </tr>\n",
       "    <tr>\n",
       "      <th>254</th>\n",
       "      <td>91200.pdata</td>\n",
       "      <td>202.421616</td>\n",
       "      <td>10.100029</td>\n",
       "      <td>Matija Nastasic</td>\n",
       "      <td>192.321587</td>\n",
       "    </tr>\n",
       "    <tr>\n",
       "      <th>400</th>\n",
       "      <td>291935.pdata</td>\n",
       "      <td>202.262955</td>\n",
       "      <td>9.799343</td>\n",
       "      <td>Robert Bauer</td>\n",
       "      <td>192.463612</td>\n",
       "    </tr>\n",
       "    <tr>\n",
       "      <th>1074</th>\n",
       "      <td>425129.pdata</td>\n",
       "      <td>202.051712</td>\n",
       "      <td>14.283934</td>\n",
       "      <td>Linus Gechter</td>\n",
       "      <td>187.767778</td>\n",
       "    </tr>\n",
       "    <tr>\n",
       "      <th>930</th>\n",
       "      <td>133788.pdata</td>\n",
       "      <td>201.389923</td>\n",
       "      <td>7.227134</td>\n",
       "      <td>Denis Linsmayer</td>\n",
       "      <td>194.162789</td>\n",
       "    </tr>\n",
       "    <tr>\n",
       "      <th>701</th>\n",
       "      <td>132355.pdata</td>\n",
       "      <td>200.467758</td>\n",
       "      <td>12.324596</td>\n",
       "      <td>Arne Feick</td>\n",
       "      <td>188.143162</td>\n",
       "    </tr>\n",
       "    <tr>\n",
       "      <th>1043</th>\n",
       "      <td>365098.pdata</td>\n",
       "      <td>200.445770</td>\n",
       "      <td>13.609379</td>\n",
       "      <td>David Kopacz</td>\n",
       "      <td>186.836391</td>\n",
       "    </tr>\n",
       "    <tr>\n",
       "      <th>221</th>\n",
       "      <td>407281.pdata</td>\n",
       "      <td>200.245987</td>\n",
       "      <td>7.900142</td>\n",
       "      <td>Matthew Hoppe</td>\n",
       "      <td>192.345845</td>\n",
       "    </tr>\n",
       "    <tr>\n",
       "      <th>1282</th>\n",
       "      <td>317913.pdata</td>\n",
       "      <td>200.146088</td>\n",
       "      <td>1.999267</td>\n",
       "      <td>Lukas Mühl</td>\n",
       "      <td>198.146821</td>\n",
       "    </tr>\n",
       "    <tr>\n",
       "      <th>1619</th>\n",
       "      <td>330570.pdata</td>\n",
       "      <td>199.837509</td>\n",
       "      <td>11.412372</td>\n",
       "      <td>Dominik Franke</td>\n",
       "      <td>188.425138</td>\n",
       "    </tr>\n",
       "    <tr>\n",
       "      <th>654</th>\n",
       "      <td>338275.pdata</td>\n",
       "      <td>199.128555</td>\n",
       "      <td>16.227951</td>\n",
       "      <td>Weston McKennie</td>\n",
       "      <td>182.900604</td>\n",
       "    </tr>\n",
       "    <tr>\n",
       "      <th>859</th>\n",
       "      <td>342058.pdata</td>\n",
       "      <td>199.018005</td>\n",
       "      <td>3.069719</td>\n",
       "      <td>Cauly</td>\n",
       "      <td>195.948287</td>\n",
       "    </tr>\n",
       "    <tr>\n",
       "      <th>447</th>\n",
       "      <td>370299.pdata</td>\n",
       "      <td>198.854340</td>\n",
       "      <td>16.253252</td>\n",
       "      <td>Kevin Ehlers</td>\n",
       "      <td>182.601088</td>\n",
       "    </tr>\n",
       "    <tr>\n",
       "      <th>982</th>\n",
       "      <td>322668.pdata</td>\n",
       "      <td>198.111465</td>\n",
       "      <td>10.458559</td>\n",
       "      <td>Amine Harit</td>\n",
       "      <td>187.652906</td>\n",
       "    </tr>\n",
       "    <tr>\n",
       "      <th>931</th>\n",
       "      <td>96638.pdata</td>\n",
       "      <td>196.026489</td>\n",
       "      <td>2.533207</td>\n",
       "      <td>Nils Röseler</td>\n",
       "      <td>193.493282</td>\n",
       "    </tr>\n",
       "    <tr>\n",
       "      <th>891</th>\n",
       "      <td>132917.pdata</td>\n",
       "      <td>195.760895</td>\n",
       "      <td>12.855455</td>\n",
       "      <td>Martin Männel</td>\n",
       "      <td>182.905439</td>\n",
       "    </tr>\n",
       "    <tr>\n",
       "      <th>1029</th>\n",
       "      <td>333218.pdata</td>\n",
       "      <td>193.220901</td>\n",
       "      <td>15.646541</td>\n",
       "      <td>Patrick Sontheimer</td>\n",
       "      <td>177.574361</td>\n",
       "    </tr>\n",
       "    <tr>\n",
       "      <th>1425</th>\n",
       "      <td>133431.pdata</td>\n",
       "      <td>191.001038</td>\n",
       "      <td>12.669491</td>\n",
       "      <td>Stefan Kutschke</td>\n",
       "      <td>178.331547</td>\n",
       "    </tr>\n",
       "    <tr>\n",
       "      <th>1378</th>\n",
       "      <td>326410.pdata</td>\n",
       "      <td>188.635895</td>\n",
       "      <td>2.554293</td>\n",
       "      <td>Fabijan Buntic</td>\n",
       "      <td>186.081602</td>\n",
       "    </tr>\n",
       "    <tr>\n",
       "      <th>215</th>\n",
       "      <td>369521.pdata</td>\n",
       "      <td>188.475082</td>\n",
       "      <td>16.428366</td>\n",
       "      <td>Rabbi Matondo</td>\n",
       "      <td>172.046717</td>\n",
       "    </tr>\n",
       "    <tr>\n",
       "      <th>1690</th>\n",
       "      <td>419945.pdata</td>\n",
       "      <td>186.940506</td>\n",
       "      <td>21.125246</td>\n",
       "      <td>Merlin Röhl</td>\n",
       "      <td>165.815260</td>\n",
       "    </tr>\n",
       "    <tr>\n",
       "      <th>55</th>\n",
       "      <td>356743.pdata</td>\n",
       "      <td>180.925964</td>\n",
       "      <td>15.783522</td>\n",
       "      <td>Ozan Kabak</td>\n",
       "      <td>165.142443</td>\n",
       "    </tr>\n",
       "  </tbody>\n",
       "</table>\n",
       "</div>"
      ],
      "text/plain": [
       "                id         elo  uncertainty                  name      elo_be\n",
       "1441  300705.pdata  209.962646    10.888453         Lucas Tousart  199.074193\n",
       "403   324951.pdata  209.923553     8.905194          Dirk Carlson  201.018359\n",
       "284   391446.pdata  209.898300    11.041724         Maurice Trapp  198.856576\n",
       "116   419942.pdata  209.751709    15.547083         Thomas Keller  194.204626\n",
       "471   106049.pdata  209.265839    10.304904               Ewerton  198.960935\n",
       "38    115996.pdata  208.881226    10.556483        Omar Mascarell  198.324742\n",
       "922   330537.pdata  208.811386     7.465506     Nicklas Shipnoski  201.345881\n",
       "1537  108770.pdata  208.593216     6.149417         Simon Falette  202.443799\n",
       "1085  101550.pdata  208.543350    10.414198          Kevin Wimmer  198.129152\n",
       "483   109476.pdata  208.537445    10.475444        Andreas Wiegel  198.062001\n",
       "835   401083.pdata  208.367111    10.294256      Yassin Ben Balla  198.072855\n",
       "876   419944.pdata  207.593292     8.027147  Maximilian Neuberger  199.566145\n",
       "361   372378.pdata  207.560013     6.301709      Nassim Boujellab  201.258304\n",
       "594   228627.pdata  207.478302     6.350006       Dominic Baumann  201.128296\n",
       "1412  400939.pdata  207.466583     3.461038     Christian Gebauer  204.005546\n",
       "547   107552.pdata  206.941055     2.898005          Benito Raman  204.043050\n",
       "1162  294867.pdata  206.685440     9.012610         Patrick Erras  197.672830\n",
       "240   144769.pdata  206.628113     5.525529      Max Christiansen  201.102584\n",
       "698   333721.pdata  205.855103    15.298682        Kevin Lankford  190.556420\n",
       "684    83303.pdata  205.539902    10.492243    Benjamin Stambouli  195.047659\n",
       "1326   36383.pdata  205.532761    11.064328         Fabian Giefer  194.468432\n",
       "181   349125.pdata  205.033264    15.907273        Nikolas Nartey  189.125991\n",
       "435    70906.pdata  204.552368    12.701743        Nick Viergever  191.850625\n",
       "1259   14182.pdata  204.508240    13.004284      Pirmin Schwegler  191.503956\n",
       "1674  361416.pdata  204.223572    10.204675       Rico Preißinger  194.018897\n",
       "823    43363.pdata  202.985153    12.786713           Kevin Wolze  190.198441\n",
       "990   419950.pdata  202.766037    10.566521       Nico Antonitsch  192.199516\n",
       "635   132925.pdata  202.728241    12.741040   Sebastian Griesbeck  189.987201\n",
       "507    25041.pdata  202.582489    13.494479      Niklas Moisander  189.088010\n",
       "254    91200.pdata  202.421616    10.100029       Matija Nastasic  192.321587\n",
       "400   291935.pdata  202.262955     9.799343          Robert Bauer  192.463612\n",
       "1074  425129.pdata  202.051712    14.283934         Linus Gechter  187.767778\n",
       "930   133788.pdata  201.389923     7.227134       Denis Linsmayer  194.162789\n",
       "701   132355.pdata  200.467758    12.324596            Arne Feick  188.143162\n",
       "1043  365098.pdata  200.445770    13.609379          David Kopacz  186.836391\n",
       "221   407281.pdata  200.245987     7.900142         Matthew Hoppe  192.345845\n",
       "1282  317913.pdata  200.146088     1.999267            Lukas Mühl  198.146821\n",
       "1619  330570.pdata  199.837509    11.412372        Dominik Franke  188.425138\n",
       "654   338275.pdata  199.128555    16.227951       Weston McKennie  182.900604\n",
       "859   342058.pdata  199.018005     3.069719                 Cauly  195.948287\n",
       "447   370299.pdata  198.854340    16.253252          Kevin Ehlers  182.601088\n",
       "982   322668.pdata  198.111465    10.458559           Amine Harit  187.652906\n",
       "931    96638.pdata  196.026489     2.533207          Nils Röseler  193.493282\n",
       "891   132917.pdata  195.760895    12.855455         Martin Männel  182.905439\n",
       "1029  333218.pdata  193.220901    15.646541    Patrick Sontheimer  177.574361\n",
       "1425  133431.pdata  191.001038    12.669491       Stefan Kutschke  178.331547\n",
       "1378  326410.pdata  188.635895     2.554293        Fabijan Buntic  186.081602\n",
       "215   369521.pdata  188.475082    16.428366         Rabbi Matondo  172.046717\n",
       "1690  419945.pdata  186.940506    21.125246           Merlin Röhl  165.815260\n",
       "55    356743.pdata  180.925964    15.783522            Ozan Kabak  165.142443"
      ]
     },
     "execution_count": 28,
     "metadata": {},
     "output_type": "execute_result"
    }
   ],
   "source": [
    "elo_frame.sort_values(\"elo\", ascending=False).tail(50)"
   ]
  },
  {
   "cell_type": "code",
   "execution_count": null,
   "metadata": {},
   "outputs": [],
   "source": [
    "p = player.PlayerProto().parse(open(f\"/home/morten/Develop/packing-report/Goal-Difference-Elo-GDE/proto_db/13754.pdata\", \"rb\").read())"
   ]
  },
  {
   "cell_type": "code",
   "execution_count": null,
   "metadata": {},
   "outputs": [
    {
     "data": {
      "text/html": [
       "<div>\n",
       "<style scoped>\n",
       "    .dataframe tbody tr th:only-of-type {\n",
       "        vertical-align: middle;\n",
       "    }\n",
       "\n",
       "    .dataframe tbody tr th {\n",
       "        vertical-align: top;\n",
       "    }\n",
       "\n",
       "    .dataframe thead th {\n",
       "        text-align: right;\n",
       "    }\n",
       "</style>\n",
       "<table border=\"1\" class=\"dataframe\">\n",
       "  <thead>\n",
       "    <tr style=\"text-align: right;\">\n",
       "      <th></th>\n",
       "      <th>Game_id</th>\n",
       "      <th>Elo</th>\n",
       "      <th>elo_diff</th>\n",
       "      <th>k</th>\n",
       "      <th>date</th>\n",
       "      <th>goal_diff</th>\n",
       "      <th>opp_elo</th>\n",
       "    </tr>\n",
       "  </thead>\n",
       "  <tbody>\n",
       "    <tr>\n",
       "      <th>0</th>\n",
       "      <td>1294545.0</td>\n",
       "      <td>261.000000</td>\n",
       "      <td>261.000000</td>\n",
       "      <td>22.000000</td>\n",
       "      <td>2018-08-24 19:30:00+00:00</td>\n",
       "      <td>2</td>\n",
       "      <td>250.000000</td>\n",
       "    </tr>\n",
       "    <tr>\n",
       "      <th>1</th>\n",
       "      <td>1294558.0</td>\n",
       "      <td>265.987183</td>\n",
       "      <td>4.987183</td>\n",
       "      <td>11.200000</td>\n",
       "      <td>2018-09-01 17:30:00+00:00</td>\n",
       "      <td>3</td>\n",
       "      <td>241.913528</td>\n",
       "    </tr>\n",
       "    <tr>\n",
       "      <th>2</th>\n",
       "      <td>1294563.0</td>\n",
       "      <td>271.413055</td>\n",
       "      <td>5.425873</td>\n",
       "      <td>12.498718</td>\n",
       "      <td>2018-09-15 14:30:00+00:00</td>\n",
       "      <td>2</td>\n",
       "      <td>242.962006</td>\n",
       "    </tr>\n",
       "    <tr>\n",
       "      <th>3</th>\n",
       "      <td>1294572.0</td>\n",
       "      <td>276.364075</td>\n",
       "      <td>4.951019</td>\n",
       "      <td>12.350473</td>\n",
       "      <td>2018-09-22 17:30:00+00:00</td>\n",
       "      <td>2</td>\n",
       "      <td>236.511658</td>\n",
       "    </tr>\n",
       "    <tr>\n",
       "      <th>4</th>\n",
       "      <td>1294581.0</td>\n",
       "      <td>275.371307</td>\n",
       "      <td>-0.992767</td>\n",
       "      <td>12.652163</td>\n",
       "      <td>2018-09-25 19:30:00+00:00</td>\n",
       "      <td>0</td>\n",
       "      <td>248.875031</td>\n",
       "    </tr>\n",
       "    <tr>\n",
       "      <th>...</th>\n",
       "      <td>...</td>\n",
       "      <td>...</td>\n",
       "      <td>...</td>\n",
       "      <td>...</td>\n",
       "      <td>...</td>\n",
       "      <td>...</td>\n",
       "      <td>...</td>\n",
       "    </tr>\n",
       "    <tr>\n",
       "      <th>115</th>\n",
       "      <td>1557533.0</td>\n",
       "      <td>386.068542</td>\n",
       "      <td>2.103271</td>\n",
       "      <td>12.491876</td>\n",
       "      <td>2022-04-09 14:30:00+00:00</td>\n",
       "      <td>1</td>\n",
       "      <td>245.232910</td>\n",
       "    </tr>\n",
       "    <tr>\n",
       "      <th>116</th>\n",
       "      <td>1557535.0</td>\n",
       "      <td>387.924805</td>\n",
       "      <td>1.856262</td>\n",
       "      <td>12.755162</td>\n",
       "      <td>2022-04-17 14:30:00+00:00</td>\n",
       "      <td>1</td>\n",
       "      <td>232.320618</td>\n",
       "    </tr>\n",
       "    <tr>\n",
       "      <th>117</th>\n",
       "      <td>1557569.0</td>\n",
       "      <td>391.499756</td>\n",
       "      <td>3.574951</td>\n",
       "      <td>12.464788</td>\n",
       "      <td>2022-04-23 17:30:00+00:00</td>\n",
       "      <td>2</td>\n",
       "      <td>308.799896</td>\n",
       "    </tr>\n",
       "    <tr>\n",
       "      <th>118</th>\n",
       "      <td>1557605.0</td>\n",
       "      <td>386.845856</td>\n",
       "      <td>-4.653900</td>\n",
       "      <td>12.848088</td>\n",
       "      <td>2022-05-08 16:30:00+00:00</td>\n",
       "      <td>0</td>\n",
       "      <td>232.209381</td>\n",
       "    </tr>\n",
       "    <tr>\n",
       "      <th>119</th>\n",
       "      <td>1557621.0</td>\n",
       "      <td>383.431030</td>\n",
       "      <td>-3.414825</td>\n",
       "      <td>11.044024</td>\n",
       "      <td>2022-05-14 14:30:00+00:00</td>\n",
       "      <td>0</td>\n",
       "      <td>261.349854</td>\n",
       "    </tr>\n",
       "  </tbody>\n",
       "</table>\n",
       "<p>120 rows × 7 columns</p>\n",
       "</div>"
      ],
      "text/plain": [
       "       Game_id         Elo    elo_diff          k                      date  \\\n",
       "0    1294545.0  261.000000  261.000000  22.000000 2018-08-24 19:30:00+00:00   \n",
       "1    1294558.0  265.987183    4.987183  11.200000 2018-09-01 17:30:00+00:00   \n",
       "2    1294563.0  271.413055    5.425873  12.498718 2018-09-15 14:30:00+00:00   \n",
       "3    1294572.0  276.364075    4.951019  12.350473 2018-09-22 17:30:00+00:00   \n",
       "4    1294581.0  275.371307   -0.992767  12.652163 2018-09-25 19:30:00+00:00   \n",
       "..         ...         ...         ...        ...                       ...   \n",
       "115  1557533.0  386.068542    2.103271  12.491876 2022-04-09 14:30:00+00:00   \n",
       "116  1557535.0  387.924805    1.856262  12.755162 2022-04-17 14:30:00+00:00   \n",
       "117  1557569.0  391.499756    3.574951  12.464788 2022-04-23 17:30:00+00:00   \n",
       "118  1557605.0  386.845856   -4.653900  12.848088 2022-05-08 16:30:00+00:00   \n",
       "119  1557621.0  383.431030   -3.414825  11.044024 2022-05-14 14:30:00+00:00   \n",
       "\n",
       "     goal_diff     opp_elo  \n",
       "0            2  250.000000  \n",
       "1            3  241.913528  \n",
       "2            2  242.962006  \n",
       "3            2  236.511658  \n",
       "4            0  248.875031  \n",
       "..         ...         ...  \n",
       "115          1  245.232910  \n",
       "116          1  232.320618  \n",
       "117          2  308.799896  \n",
       "118          0  232.209381  \n",
       "119          0  261.349854  \n",
       "\n",
       "[120 rows x 7 columns]"
      ]
     },
     "execution_count": 26,
     "metadata": {},
     "output_type": "execute_result"
    }
   ],
   "source": [
    "val = []\n",
    "k = []\n",
    "date = []\n",
    "gd = []\n",
    "opp_elo = []\n",
    "game_ids = []\n",
    "\n",
    "for g in p.game:\n",
    "    val.append(g.elo)\n",
    "    k.append(g.uncertainty)\n",
    "    date.append(g.game_date)\n",
    "    gd.append(g.goaldifference)\n",
    "    opp_elo.append(g.oppaverageelo)\n",
    "    game_ids.append(g.game_id)\n",
    "\n",
    "elo_diff = []\n",
    "elo_diff.append(val[0])\n",
    "for x in range(1, len(val)):\n",
    "   elo_diff.append(val[x] - val[x-1]) \n",
    "\n",
    "plot_df = pd.DataFrame({\"Game_id\": game_ids, \"Elo\": val, \"elo_diff\": elo_diff, \"k\": k, \"date\":date, \"goal_diff\": gd, \"opp_elo\": opp_elo})\n",
    "plot_df"
   ]
  },
  {
   "cell_type": "code",
   "execution_count": null,
   "metadata": {},
   "outputs": [
    {
     "data": {
      "application/vnd.plotly.v1+json": {
       "config": {
        "plotlyServerURL": "https://plot.ly"
       },
       "data": [
        {
         "customdata": [
          [
           1294545,
           22,
           2,
           250
          ],
          [
           1294558,
           11.199999809265137,
           3,
           241.9135284423828
          ],
          [
           1294563,
           12.49871826171875,
           2,
           242.96200561523438
          ],
          [
           1294572,
           12.350473403930664,
           2,
           236.51165771484375
          ],
          [
           1294581,
           12.652162551879883,
           0,
           248.87503051757812
          ],
          [
           1294598,
           12.960855484008789,
           -2,
           260.53216552734375
          ],
          [
           1294606,
           12.767157554626465,
           -3,
           258.8022766113281
          ],
          [
           1294638,
           12.740496635437012,
           2,
           249.54296875
          ],
          [
           1294654,
           12.76909065246582,
           1,
           243.74105834960938
          ],
          [
           1294660,
           12.748554229736328,
           0,
           246.1558380126953
          ],
          [
           1294603,
           12.912071228027344,
           -1,
           276.29412841796875
          ],
          [
           1294619,
           12.389077186584473,
           0,
           238.9980010986328
          ],
          [
           1294647,
           12.511236190795898,
           1,
           250.2742919921875
          ],
          [
           1294655,
           12.105982780456543,
           3,
           234.4520721435547
          ],
          [
           1294673,
           12.17757511138916,
           4,
           238.1824188232422
          ],
          [
           1294676,
           12.63959789276123,
           1,
           263.7276916503906
          ],
          [
           1294710,
           13.20259952545166,
           3,
           259.6623229980469
          ],
          [
           1294727,
           13.26588249206543,
           2,
           254.88357543945312
          ],
          [
           1294697,
           13.344754219055176,
           1,
           241.0725860595703
          ],
          [
           1294812,
           14.257107734680176,
           3,
           240.36769104003906
          ],
          [
           1294821,
           14.415803909301758,
           1,
           258.7337341308594
          ],
          [
           1294750,
           14.471115112304688,
           4,
           269.5804443359375
          ],
          [
           1294770,
           14.3618745803833,
           6,
           261.7694396972656
          ],
          [
           1294748,
           14.165467262268066,
           6,
           229.762939453125
          ],
          [
           1294753,
           14.311226844787598,
           5,
           300.28936767578125
          ],
          [
           1294743,
           10.281940460205078,
           2,
           243.80172729492188
          ],
          [
           1388146,
           14.601539611816406,
           0,
           246.2615509033203
          ],
          [
           1388152,
           13.936680793762207,
           3,
           236.78968811035156
          ],
          [
           1388156,
           13.789623260498047,
           5,
           233.5466766357422
          ],
          [
           1388166,
           13.73978328704834,
           0,
           304.9019470214844
          ],
          [
           1388174,
           13.092025756835938,
           4,
           261.14190673828125
          ],
          [
           1388223,
           12.913997650146484,
           1,
           241.1111297607422
          ],
          [
           1388231,
           13.039484024047852,
           -1,
           246.70753479003906
          ],
          [
           1388201,
           12.759942054748535,
           1,
           232.11875915527344
          ],
          [
           1388234,
           12.330947875976562,
           1,
           246.1484375
          ],
          [
           1388206,
           12.101641654968262,
           -4,
           258.65289306640625
          ],
          [
           1388229,
           12.168309211730957,
           2,
           304.79510498046875
          ],
          [
           1388216,
           11.975301742553711,
           4,
           240.07310485839844
          ],
          [
           1388228,
           12.464594841003418,
           -1,
           266.6424865722656
          ],
          [
           1388246,
           12.581348419189453,
           -1,
           274.7750549316406
          ],
          [
           1388264,
           12.767009735107422,
           5,
           259.765380859375
          ],
          [
           1388309,
           12.924660682678223,
           2,
           243.5457763671875
          ],
          [
           1388318,
           12.763587951660156,
           2,
           261.76776123046875
          ],
          [
           1388354,
           12.265789031982422,
           4,
           252.14834594726562
          ],
          [
           1388372,
           12.480436325073242,
           5,
           255.53912353515625
          ],
          [
           1388414,
           12.813220977783203,
           2,
           234.376708984375
          ],
          [
           1388430,
           12.783926010131836,
           0,
           299.61480712890625
          ],
          [
           1388284,
           12.971721649169922,
           3,
           258.5991516113281
          ],
          [
           1388293,
           13.209424018859863,
           1,
           248.67628479003906
          ],
          [
           1388329,
           12.873113632202148,
           6,
           257.9176025390625
          ],
          [
           1388347,
           13.270074844360352,
           2,
           235.84793090820312
          ],
          [
           1388398,
           13.405230522155762,
           2,
           245.22813415527344
          ],
          [
           1388404,
           12.871988296508789,
           1,
           248.017578125
          ],
          [
           1388424,
           12.987825393676758,
           1,
           321.1099548339844
          ],
          [
           1388268,
           12.811245918273926,
           3,
           248.11488342285156
          ],
          [
           1388301,
           13.53846263885498,
           2,
           281.9400939941406
          ],
          [
           1388322,
           13.588674545288086,
           3,
           268.89080810546875
          ],
          [
           1388364,
           13.596363067626953,
           1,
           231.23565673828125
          ],
          [
           1388412,
           13.278985023498535,
           4,
           264.85333251953125
          ],
          [
           1480995,
           13.154601097106934,
           8,
           234.86949157714844
          ],
          [
           1481006,
           13.706687927246094,
           -3,
           266.2917785644531
          ],
          [
           1481013,
           13.32579517364502,
           1,
           244.38485717773438
          ],
          [
           1481030,
           12.648248672485352,
           3,
           271.6267395019531
          ],
          [
           1481031,
           12.473528861999512,
           5,
           261.08123779296875
          ],
          [
           1481073,
           12.526752471923828,
           1,
           244.16505432128906
          ],
          [
           1481076,
           12.734173774719238,
           1,
           318.2228698730469
          ],
          [
           1481085,
           12.417428970336914,
           0,
           248.9208221435547
          ],
          [
           1481102,
           12.40784740447998,
           2,
           258.15032958984375
          ],
          [
           1481220,
           12.550896644592285,
           0,
           302.9728088378906
          ],
          [
           1481235,
           12.756166458129883,
           0,
           249.3983612060547
          ],
          [
           1481615,
           12.552314758300781,
           1,
           276.09405517578125
          ],
          [
           1481105,
           12.668251991271973,
           1,
           304.155517578125
          ],
          [
           1481112,
           12.049322128295898,
           3,
           230.0499725341797
          ],
          [
           1481122,
           12.42377758026123,
           -1,
           277.5813293457031
          ],
          [
           1481130,
           12.424164772033691,
           1,
           251.8411407470703
          ],
          [
           1481146,
           12.355814933776855,
           1,
           230.04359436035156
          ],
          [
           1481153,
           11.790225982666016,
           4,
           210.97056579589844
          ],
          [
           1481157,
           11.790730476379395,
           3,
           262.59295654296875
          ],
          [
           1481170,
           12.392123222351074,
           1,
           228.85946655273438
          ],
          [
           1481178,
           12.664714813232422,
           0,
           250.5035400390625
          ],
          [
           1481200,
           12.60524845123291,
           -1,
           268.86175537109375
          ],
          [
           1481206,
           12.151236534118652,
           4,
           246.476806640625
          ],
          [
           1481215,
           12.614891052246094,
           2,
           286.87567138671875
          ],
          [
           1481195,
           12.440322875976562,
           2,
           247.27943420410156
          ],
          [
           1481040,
           12.213476181030273,
           4,
           257.97869873046875
          ],
          [
           1481050,
           12.423707962036133,
           1,
           319.0999755859375
          ],
          [
           1481058,
           12.506922721862793,
           0,
           259.4075012207031
          ],
          [
           1481252,
           12.910679817199707,
           1,
           276.7124328613281
          ],
          [
           1481257,
           12.330782890319824,
           2,
           283.7457275390625
          ],
          [
           1481273,
           12.89002513885498,
           -1,
           242.5804443359375
          ],
          [
           1481275,
           12.310779571533203,
           6,
           277.7760314941406
          ],
          [
           1481293,
           12.033591270446777,
           1,
           228.54141235351562
          ],
          [
           1557324,
           12.382978439331055,
           0,
           268.6865539550781
          ],
          [
           1557341,
           12.258993148803711,
           1,
           240.14297485351562
          ],
          [
           1557350,
           12.24920654296875,
           5,
           227.99163818359375
          ],
          [
           1557359,
           12.34918212890625,
           3,
           290.8139953613281
          ],
          [
           1557368,
           11.833588600158691,
           5,
           260.9664001464844
          ],
          [
           1557369,
           12.316595077514648,
           0,
           254.05010986328125
          ],
          [
           1557386,
           12.50161361694336,
           -1,
           256.7272033691406
          ],
          [
           1557393,
           11.979663848876953,
           4,
           281.3955993652344
          ],
          [
           1557413,
           12.292121887207031,
           4,
           262.1924133300781
          ],
          [
           1557425,
           11.99837875366211,
           3,
           268.70379638671875
          ],
          [
           1557449,
           12.497747421264648,
           1,
           270.6766357421875
          ],
          [
           1557453,
           12.505047798156738,
           -1,
           232.2858428955078
          ],
          [
           1557485,
           12.328024864196777,
           1,
           235.69451904296875
          ],
          [
           1557503,
           12.966876983642578,
           1,
           311.8937072753906
          ],
          [
           1557400,
           12.803099632263184,
           1,
           258.8340759277344
          ],
          [
           1557408,
           12.164292335510254,
           5,
           252.27310180664062
          ],
          [
           1557436,
           11.993794441223145,
           4,
           256.123291015625
          ],
          [
           1557456,
           12.215184211730957,
           4,
           257.7393493652344
          ],
          [
           1557478,
           12.212757110595703,
           3,
           233.76473999023438
          ],
          [
           1557508,
           12.838780403137207,
           -1,
           295.1575012207031
          ],
          [
           1557586,
           12.741268157958984,
           0,
           283.4778137207031
          ],
          [
           1557616,
           12.375892639160156,
           4,
           265.0944519042969
          ],
          [
           1557624,
           12.925100326538086,
           3,
           266.7206726074219
          ],
          [
           1557533,
           12.491875648498535,
           1,
           245.23291015625
          ],
          [
           1557535,
           12.755162239074707,
           1,
           232.32061767578125
          ],
          [
           1557569,
           12.464788436889648,
           2,
           308.7998962402344
          ],
          [
           1557605,
           12.848088264465332,
           0,
           232.20938110351562
          ],
          [
           1557621,
           11.044023513793945,
           0,
           261.349853515625
          ]
         ],
         "hovertemplate": "<b>Elo diff:%{y}<br><b>Game Id:%{customdata[0]}<br><b>K: %{customdata[1]:.2f}<br><b>Goal diff:%{customdata[2]}<br><b>Opp elo:%{customdata[3]:.2f}<br>",
         "orientation": "v",
         "type": "waterfall",
         "x": [
          "2018-08-24T19:30:00+00:00",
          "2018-09-01T17:30:00+00:00",
          "2018-09-15T14:30:00+00:00",
          "2018-09-22T17:30:00+00:00",
          "2018-09-25T19:30:00+00:00",
          "2018-09-28T19:30:00+00:00",
          "2018-10-06T17:30:00+00:00",
          "2018-10-20T14:30:00+00:00",
          "2018-10-27T14:30:00+00:00",
          "2018-11-03T14:30:00+00:00",
          "2018-11-10T17:30:00+00:00",
          "2018-11-24T14:30:00+00:00",
          "2018-12-01T14:30:00+00:00",
          "2018-12-08T14:30:00+00:00",
          "2018-12-15T14:30:00+00:00",
          "2018-12-19T19:30:00+00:00",
          "2018-12-22T17:30:00+00:00",
          "2019-01-18T19:30:00+00:00",
          "2019-01-27T14:30:00+00:00",
          "2019-02-15T19:30:00+00:00",
          "2019-02-23T14:30:00+00:00",
          "2019-03-02T17:30:00+00:00",
          "2019-03-09T14:30:00+00:00",
          "2019-03-17T17:00:00+00:00",
          "2019-04-06T17:30:00+00:00",
          "2019-04-14T14:30:00+00:00",
          "2019-08-16T19:30:00+00:00",
          "2019-08-24T17:30:00+00:00",
          "2019-08-31T14:30:00+00:00",
          "2019-09-14T17:30:00+00:00",
          "2019-09-21T14:30:00+00:00",
          "2019-09-28T14:30:00+00:00",
          "2019-10-05T14:30:00+00:00",
          "2019-10-19T14:30:00+00:00",
          "2019-10-26T14:30:00+00:00",
          "2019-11-02T14:30:00+00:00",
          "2019-11-09T17:30:00+00:00",
          "2019-11-23T14:30:00+00:00",
          "2019-11-30T17:30:00+00:00",
          "2019-12-07T14:30:00+00:00",
          "2019-12-14T14:30:00+00:00",
          "2019-12-18T19:30:00+00:00",
          "2019-12-21T14:30:00+00:00",
          "2020-01-19T14:30:00+00:00",
          "2020-01-25T17:30:00+00:00",
          "2020-02-01T14:30:00+00:00",
          "2020-02-09T17:00:00+00:00",
          "2020-02-16T14:30:00+00:00",
          "2020-02-21T19:30:00+00:00",
          "2020-02-29T14:30:00+00:00",
          "2020-03-08T14:30:00+00:00",
          "2020-05-17T17:00:00+00:00",
          "2020-05-23T17:30:00+00:00",
          "2020-05-26T17:30:00+00:00",
          "2020-05-30T17:30:00+00:00",
          "2020-06-06T14:30:00+00:00",
          "2020-06-13T17:30:00+00:00",
          "2020-06-16T19:30:00+00:00",
          "2020-06-27T14:30:00+00:00",
          "2020-09-18T19:30:00+00:00",
          "2020-09-27T14:30:00+00:00",
          "2020-10-04T17:00:00+00:00",
          "2020-10-17T17:30:00+00:00",
          "2020-10-24T14:30:00+00:00",
          "2020-10-31T14:30:00+00:00",
          "2020-11-07T17:30:00+00:00",
          "2020-11-21T14:30:00+00:00",
          "2020-11-28T14:30:00+00:00",
          "2020-12-05T17:30:00+00:00",
          "2020-12-12T17:30:00+00:00",
          "2020-12-16T19:30:00+00:00",
          "2020-12-19T17:30:00+00:00",
          "2021-01-03T17:00:00+00:00",
          "2021-01-08T19:30:00+00:00",
          "2021-01-17T14:30:00+00:00",
          "2021-01-20T19:30:00+00:00",
          "2021-01-24T14:30:00+00:00",
          "2021-01-30T14:30:00+00:00",
          "2021-02-05T19:00:00+00:00",
          "2021-02-15T19:30:00+00:00",
          "2021-02-20T14:30:00+00:00",
          "2021-02-27T14:30:00+00:00",
          "2021-03-06T17:30:00+00:00",
          "2021-03-13T14:30:00+00:00",
          "2021-03-20T14:30:00+00:00",
          "2021-04-03T17:30:00+00:00",
          "2021-04-10T14:30:00+00:00",
          "2021-04-17T14:30:00+00:00",
          "2021-04-20T19:30:00+00:00",
          "2021-04-24T14:30:00+00:00",
          "2021-05-08T17:30:00+00:00",
          "2021-05-22T14:30:00+00:00",
          "2021-08-13T19:30:00+00:00",
          "2021-08-22T16:30:00+00:00",
          "2021-08-28T17:30:00+00:00",
          "2021-09-11T17:30:00+00:00",
          "2021-09-18T14:30:00+00:00",
          "2021-09-24T19:30:00+00:00",
          "2021-10-03T16:30:00+00:00",
          "2021-10-17T14:30:00+00:00",
          "2021-10-23T14:30:00+00:00",
          "2021-10-30T14:30:00+00:00",
          "2021-11-06T14:30:00+00:00",
          "2021-11-19T19:30:00+00:00",
          "2021-11-27T17:30:00+00:00",
          "2021-12-04T17:30:00+00:00",
          "2021-12-11T14:30:00+00:00",
          "2021-12-14T17:30:00+00:00",
          "2021-12-17T19:30:00+00:00",
          "2022-01-15T14:30:00+00:00",
          "2022-01-23T16:30:00+00:00",
          "2022-02-05T17:30:00+00:00",
          "2022-03-12T14:30:00+00:00",
          "2022-03-19T17:30:00+00:00",
          "2022-04-02T14:30:00+00:00",
          "2022-04-09T14:30:00+00:00",
          "2022-04-17T14:30:00+00:00",
          "2022-04-23T17:30:00+00:00",
          "2022-05-08T16:30:00+00:00",
          "2022-05-14T14:30:00+00:00"
         ],
         "y": [
          261,
          4.9871826171875,
          5.425872802734375,
          4.951019287109375,
          -0.992767333984375,
          -7.03265380859375,
          -6.733673095703125,
          5.92864990234375,
          5.515533447265625,
          -0.97900390625,
          -6.299072265625,
          -0.94720458984375,
          5.73291015625,
          4.812774658203125,
          4.804931640625,
          5.723236083984375,
          5.611846923828125,
          5.25482177734375,
          4.60369873046875,
          4.72344970703125,
          5.290191650390625,
          5.527313232421875,
          4.9752197265625,
          3.643310546875,
          6.123291015625,
          2.74224853515625,
          -3.415740966796875,
          3.521514892578125,
          3.285491943359375,
          -1.285064697265625,
          3.8720703125,
          3.12274169921875,
          -9.81781005859375,
          3.0240478515625,
          3.2142333984375,
          -8.691436767578125,
          5.1656494140625,
          2.9708251953125,
          -8.698699951171875,
          -8.24737548828125,
          4.17626953125,
          3.588714599609375,
          3.990936279296875,
          3.434814453125,
          3.49365234375,
          2.901092529296875,
          -1.598480224609375,
          3.579132080078125,
          3.249053955078125,
          3.33392333984375,
          2.74554443359375,
          2.945281982421875,
          2.824188232421875,
          5.025665283203125,
          2.61993408203125,
          3.64337158203125,
          3.16650390625,
          2.169830322265625,
          2.845611572265625,
          2.0714111328125,
          -10.86077880859375,
          2.49835205078125,
          2.969390869140625,
          2.59417724609375,
          2.1719970703125,
          4.12939453125,
          -4.087158203125,
          2.40313720703125,
          -2.744598388671875,
          -4.09466552734375,
          2.9761962890625,
          3.71453857421875,
          1.745086669921875,
          -9.654022216796875,
          2.391693115234375,
          1.888763427734375,
          1.463836669921875,
          2.3773193359375,
          1.77008056640625,
          -4.1387939453125,
          -9.914306640625,
          2.3131103515625,
          3.36993408203125,
          2.262298583984375,
          2.40301513671875,
          4.0382080078125,
          -3.90478515625,
          2.9422607421875,
          2.913604736328125,
          -10.866119384765625,
          2.95989990234375,
          1.7796630859375,
          -3.559295654296875,
          2.06414794921875,
          1.796783447265625,
          3.18170166015625,
          2.2694091796875,
          -3.991607666015625,
          -10.159759521484375,
          3.067596435546875,
          2.58544921875,
          2.614898681640625,
          2.708038330078125,
          -10.666717529296875,
          2.077392578125,
          4.180206298828125,
          2.52886962890625,
          2.207275390625,
          2.210235595703125,
          2.238494873046875,
          1.738006591796875,
          -9.655059814453125,
          -3.26617431640625,
          2.636383056640625,
          2.728240966796875,
          2.103271484375,
          1.85626220703125,
          3.574951171875,
          -4.653900146484375,
          -3.414825439453125
         ]
        }
       ],
       "layout": {
        "template": {
         "data": {
          "bar": [
           {
            "error_x": {
             "color": "#2a3f5f"
            },
            "error_y": {
             "color": "#2a3f5f"
            },
            "marker": {
             "line": {
              "color": "#E5ECF6",
              "width": 0.5
             },
             "pattern": {
              "fillmode": "overlay",
              "size": 10,
              "solidity": 0.2
             }
            },
            "type": "bar"
           }
          ],
          "barpolar": [
           {
            "marker": {
             "line": {
              "color": "#E5ECF6",
              "width": 0.5
             },
             "pattern": {
              "fillmode": "overlay",
              "size": 10,
              "solidity": 0.2
             }
            },
            "type": "barpolar"
           }
          ],
          "carpet": [
           {
            "aaxis": {
             "endlinecolor": "#2a3f5f",
             "gridcolor": "white",
             "linecolor": "white",
             "minorgridcolor": "white",
             "startlinecolor": "#2a3f5f"
            },
            "baxis": {
             "endlinecolor": "#2a3f5f",
             "gridcolor": "white",
             "linecolor": "white",
             "minorgridcolor": "white",
             "startlinecolor": "#2a3f5f"
            },
            "type": "carpet"
           }
          ],
          "choropleth": [
           {
            "colorbar": {
             "outlinewidth": 0,
             "ticks": ""
            },
            "type": "choropleth"
           }
          ],
          "contour": [
           {
            "colorbar": {
             "outlinewidth": 0,
             "ticks": ""
            },
            "colorscale": [
             [
              0,
              "#0d0887"
             ],
             [
              0.1111111111111111,
              "#46039f"
             ],
             [
              0.2222222222222222,
              "#7201a8"
             ],
             [
              0.3333333333333333,
              "#9c179e"
             ],
             [
              0.4444444444444444,
              "#bd3786"
             ],
             [
              0.5555555555555556,
              "#d8576b"
             ],
             [
              0.6666666666666666,
              "#ed7953"
             ],
             [
              0.7777777777777778,
              "#fb9f3a"
             ],
             [
              0.8888888888888888,
              "#fdca26"
             ],
             [
              1,
              "#f0f921"
             ]
            ],
            "type": "contour"
           }
          ],
          "contourcarpet": [
           {
            "colorbar": {
             "outlinewidth": 0,
             "ticks": ""
            },
            "type": "contourcarpet"
           }
          ],
          "heatmap": [
           {
            "colorbar": {
             "outlinewidth": 0,
             "ticks": ""
            },
            "colorscale": [
             [
              0,
              "#0d0887"
             ],
             [
              0.1111111111111111,
              "#46039f"
             ],
             [
              0.2222222222222222,
              "#7201a8"
             ],
             [
              0.3333333333333333,
              "#9c179e"
             ],
             [
              0.4444444444444444,
              "#bd3786"
             ],
             [
              0.5555555555555556,
              "#d8576b"
             ],
             [
              0.6666666666666666,
              "#ed7953"
             ],
             [
              0.7777777777777778,
              "#fb9f3a"
             ],
             [
              0.8888888888888888,
              "#fdca26"
             ],
             [
              1,
              "#f0f921"
             ]
            ],
            "type": "heatmap"
           }
          ],
          "heatmapgl": [
           {
            "colorbar": {
             "outlinewidth": 0,
             "ticks": ""
            },
            "colorscale": [
             [
              0,
              "#0d0887"
             ],
             [
              0.1111111111111111,
              "#46039f"
             ],
             [
              0.2222222222222222,
              "#7201a8"
             ],
             [
              0.3333333333333333,
              "#9c179e"
             ],
             [
              0.4444444444444444,
              "#bd3786"
             ],
             [
              0.5555555555555556,
              "#d8576b"
             ],
             [
              0.6666666666666666,
              "#ed7953"
             ],
             [
              0.7777777777777778,
              "#fb9f3a"
             ],
             [
              0.8888888888888888,
              "#fdca26"
             ],
             [
              1,
              "#f0f921"
             ]
            ],
            "type": "heatmapgl"
           }
          ],
          "histogram": [
           {
            "marker": {
             "pattern": {
              "fillmode": "overlay",
              "size": 10,
              "solidity": 0.2
             }
            },
            "type": "histogram"
           }
          ],
          "histogram2d": [
           {
            "colorbar": {
             "outlinewidth": 0,
             "ticks": ""
            },
            "colorscale": [
             [
              0,
              "#0d0887"
             ],
             [
              0.1111111111111111,
              "#46039f"
             ],
             [
              0.2222222222222222,
              "#7201a8"
             ],
             [
              0.3333333333333333,
              "#9c179e"
             ],
             [
              0.4444444444444444,
              "#bd3786"
             ],
             [
              0.5555555555555556,
              "#d8576b"
             ],
             [
              0.6666666666666666,
              "#ed7953"
             ],
             [
              0.7777777777777778,
              "#fb9f3a"
             ],
             [
              0.8888888888888888,
              "#fdca26"
             ],
             [
              1,
              "#f0f921"
             ]
            ],
            "type": "histogram2d"
           }
          ],
          "histogram2dcontour": [
           {
            "colorbar": {
             "outlinewidth": 0,
             "ticks": ""
            },
            "colorscale": [
             [
              0,
              "#0d0887"
             ],
             [
              0.1111111111111111,
              "#46039f"
             ],
             [
              0.2222222222222222,
              "#7201a8"
             ],
             [
              0.3333333333333333,
              "#9c179e"
             ],
             [
              0.4444444444444444,
              "#bd3786"
             ],
             [
              0.5555555555555556,
              "#d8576b"
             ],
             [
              0.6666666666666666,
              "#ed7953"
             ],
             [
              0.7777777777777778,
              "#fb9f3a"
             ],
             [
              0.8888888888888888,
              "#fdca26"
             ],
             [
              1,
              "#f0f921"
             ]
            ],
            "type": "histogram2dcontour"
           }
          ],
          "mesh3d": [
           {
            "colorbar": {
             "outlinewidth": 0,
             "ticks": ""
            },
            "type": "mesh3d"
           }
          ],
          "parcoords": [
           {
            "line": {
             "colorbar": {
              "outlinewidth": 0,
              "ticks": ""
             }
            },
            "type": "parcoords"
           }
          ],
          "pie": [
           {
            "automargin": true,
            "type": "pie"
           }
          ],
          "scatter": [
           {
            "fillpattern": {
             "fillmode": "overlay",
             "size": 10,
             "solidity": 0.2
            },
            "type": "scatter"
           }
          ],
          "scatter3d": [
           {
            "line": {
             "colorbar": {
              "outlinewidth": 0,
              "ticks": ""
             }
            },
            "marker": {
             "colorbar": {
              "outlinewidth": 0,
              "ticks": ""
             }
            },
            "type": "scatter3d"
           }
          ],
          "scattercarpet": [
           {
            "marker": {
             "colorbar": {
              "outlinewidth": 0,
              "ticks": ""
             }
            },
            "type": "scattercarpet"
           }
          ],
          "scattergeo": [
           {
            "marker": {
             "colorbar": {
              "outlinewidth": 0,
              "ticks": ""
             }
            },
            "type": "scattergeo"
           }
          ],
          "scattergl": [
           {
            "marker": {
             "colorbar": {
              "outlinewidth": 0,
              "ticks": ""
             }
            },
            "type": "scattergl"
           }
          ],
          "scattermapbox": [
           {
            "marker": {
             "colorbar": {
              "outlinewidth": 0,
              "ticks": ""
             }
            },
            "type": "scattermapbox"
           }
          ],
          "scatterpolar": [
           {
            "marker": {
             "colorbar": {
              "outlinewidth": 0,
              "ticks": ""
             }
            },
            "type": "scatterpolar"
           }
          ],
          "scatterpolargl": [
           {
            "marker": {
             "colorbar": {
              "outlinewidth": 0,
              "ticks": ""
             }
            },
            "type": "scatterpolargl"
           }
          ],
          "scatterternary": [
           {
            "marker": {
             "colorbar": {
              "outlinewidth": 0,
              "ticks": ""
             }
            },
            "type": "scatterternary"
           }
          ],
          "surface": [
           {
            "colorbar": {
             "outlinewidth": 0,
             "ticks": ""
            },
            "colorscale": [
             [
              0,
              "#0d0887"
             ],
             [
              0.1111111111111111,
              "#46039f"
             ],
             [
              0.2222222222222222,
              "#7201a8"
             ],
             [
              0.3333333333333333,
              "#9c179e"
             ],
             [
              0.4444444444444444,
              "#bd3786"
             ],
             [
              0.5555555555555556,
              "#d8576b"
             ],
             [
              0.6666666666666666,
              "#ed7953"
             ],
             [
              0.7777777777777778,
              "#fb9f3a"
             ],
             [
              0.8888888888888888,
              "#fdca26"
             ],
             [
              1,
              "#f0f921"
             ]
            ],
            "type": "surface"
           }
          ],
          "table": [
           {
            "cells": {
             "fill": {
              "color": "#EBF0F8"
             },
             "line": {
              "color": "white"
             }
            },
            "header": {
             "fill": {
              "color": "#C8D4E3"
             },
             "line": {
              "color": "white"
             }
            },
            "type": "table"
           }
          ]
         },
         "layout": {
          "annotationdefaults": {
           "arrowcolor": "#2a3f5f",
           "arrowhead": 0,
           "arrowwidth": 1
          },
          "autotypenumbers": "strict",
          "coloraxis": {
           "colorbar": {
            "outlinewidth": 0,
            "ticks": ""
           }
          },
          "colorscale": {
           "diverging": [
            [
             0,
             "#8e0152"
            ],
            [
             0.1,
             "#c51b7d"
            ],
            [
             0.2,
             "#de77ae"
            ],
            [
             0.3,
             "#f1b6da"
            ],
            [
             0.4,
             "#fde0ef"
            ],
            [
             0.5,
             "#f7f7f7"
            ],
            [
             0.6,
             "#e6f5d0"
            ],
            [
             0.7,
             "#b8e186"
            ],
            [
             0.8,
             "#7fbc41"
            ],
            [
             0.9,
             "#4d9221"
            ],
            [
             1,
             "#276419"
            ]
           ],
           "sequential": [
            [
             0,
             "#0d0887"
            ],
            [
             0.1111111111111111,
             "#46039f"
            ],
            [
             0.2222222222222222,
             "#7201a8"
            ],
            [
             0.3333333333333333,
             "#9c179e"
            ],
            [
             0.4444444444444444,
             "#bd3786"
            ],
            [
             0.5555555555555556,
             "#d8576b"
            ],
            [
             0.6666666666666666,
             "#ed7953"
            ],
            [
             0.7777777777777778,
             "#fb9f3a"
            ],
            [
             0.8888888888888888,
             "#fdca26"
            ],
            [
             1,
             "#f0f921"
            ]
           ],
           "sequentialminus": [
            [
             0,
             "#0d0887"
            ],
            [
             0.1111111111111111,
             "#46039f"
            ],
            [
             0.2222222222222222,
             "#7201a8"
            ],
            [
             0.3333333333333333,
             "#9c179e"
            ],
            [
             0.4444444444444444,
             "#bd3786"
            ],
            [
             0.5555555555555556,
             "#d8576b"
            ],
            [
             0.6666666666666666,
             "#ed7953"
            ],
            [
             0.7777777777777778,
             "#fb9f3a"
            ],
            [
             0.8888888888888888,
             "#fdca26"
            ],
            [
             1,
             "#f0f921"
            ]
           ]
          },
          "colorway": [
           "#636efa",
           "#EF553B",
           "#00cc96",
           "#ab63fa",
           "#FFA15A",
           "#19d3f3",
           "#FF6692",
           "#B6E880",
           "#FF97FF",
           "#FECB52"
          ],
          "font": {
           "color": "#2a3f5f"
          },
          "geo": {
           "bgcolor": "white",
           "lakecolor": "white",
           "landcolor": "#E5ECF6",
           "showlakes": true,
           "showland": true,
           "subunitcolor": "white"
          },
          "hoverlabel": {
           "align": "left"
          },
          "hovermode": "closest",
          "mapbox": {
           "style": "light"
          },
          "paper_bgcolor": "white",
          "plot_bgcolor": "#E5ECF6",
          "polar": {
           "angularaxis": {
            "gridcolor": "white",
            "linecolor": "white",
            "ticks": ""
           },
           "bgcolor": "#E5ECF6",
           "radialaxis": {
            "gridcolor": "white",
            "linecolor": "white",
            "ticks": ""
           }
          },
          "scene": {
           "xaxis": {
            "backgroundcolor": "#E5ECF6",
            "gridcolor": "white",
            "gridwidth": 2,
            "linecolor": "white",
            "showbackground": true,
            "ticks": "",
            "zerolinecolor": "white"
           },
           "yaxis": {
            "backgroundcolor": "#E5ECF6",
            "gridcolor": "white",
            "gridwidth": 2,
            "linecolor": "white",
            "showbackground": true,
            "ticks": "",
            "zerolinecolor": "white"
           },
           "zaxis": {
            "backgroundcolor": "#E5ECF6",
            "gridcolor": "white",
            "gridwidth": 2,
            "linecolor": "white",
            "showbackground": true,
            "ticks": "",
            "zerolinecolor": "white"
           }
          },
          "shapedefaults": {
           "line": {
            "color": "#2a3f5f"
           }
          },
          "ternary": {
           "aaxis": {
            "gridcolor": "white",
            "linecolor": "white",
            "ticks": ""
           },
           "baxis": {
            "gridcolor": "white",
            "linecolor": "white",
            "ticks": ""
           },
           "bgcolor": "#E5ECF6",
           "caxis": {
            "gridcolor": "white",
            "linecolor": "white",
            "ticks": ""
           }
          },
          "title": {
           "x": 0.05
          },
          "xaxis": {
           "automargin": true,
           "gridcolor": "white",
           "linecolor": "white",
           "ticks": "",
           "title": {
            "standoff": 15
           },
           "zerolinecolor": "white",
           "zerolinewidth": 2
          },
          "yaxis": {
           "automargin": true,
           "gridcolor": "white",
           "linecolor": "white",
           "ticks": "",
           "title": {
            "standoff": 15
           },
           "zerolinecolor": "white",
           "zerolinewidth": 2
          }
         }
        }
       }
      }
     },
     "metadata": {},
     "output_type": "display_data"
    }
   ],
   "source": [
    "import plotly.graph_objects as go\n",
    "\n",
    "fig = go.Figure()\n",
    "\n",
    "fig.add_trace(go.Waterfall(orientation = \"v\", y=plot_df[\"elo_diff\"], x=plot_df[\"date\"], customdata=np.stack((plot_df[\"Game_id\"], plot_df[\"k\"], plot_df[\"goal_diff\"], plot_df[\"opp_elo\"]), axis=-1),\n",
    "                           hovertemplate ='<b>Elo diff:%{y}<br>'+\n",
    "                                        '<b>Game Id:%{customdata[0]}<br>'+\n",
    "                                        '<b>K: %{customdata[1]:.2f}<br>'+\n",
    "                                        '<b>Goal diff:%{customdata[2]}<br>' + \n",
    "                                        '<b>Opp elo:%{customdata[3]:.2f}<br>'))\n"
   ]
  },
  {
   "cell_type": "code",
   "execution_count": null,
   "metadata": {},
   "outputs": [],
   "source": []
  }
 ],
 "metadata": {
  "kernelspec": {
   "display_name": "packing-report",
   "language": "python",
   "name": "python3"
  },
  "language_info": {
   "codemirror_mode": {
    "name": "ipython",
    "version": 3
   },
   "file_extension": ".py",
   "mimetype": "text/x-python",
   "name": "python",
   "nbconvert_exporter": "python",
   "pygments_lexer": "ipython3",
   "version": "3.10.4"
  },
  "orig_nbformat": 4
 },
 "nbformat": 4,
 "nbformat_minor": 2
}
