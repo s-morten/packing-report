{
 "cells": [
  {
   "cell_type": "markdown",
   "metadata": {},
   "source": [
    "Example / Test Main"
   ]
  },
  {
   "cell_type": "code",
   "execution_count": 13,
   "metadata": {},
   "outputs": [],
   "source": [
    "%reload_ext autoreload\n",
    "%autoreload 2"
   ]
  },
  {
   "cell_type": "code",
   "execution_count": 14,
   "metadata": {},
   "outputs": [],
   "source": [
    "import soccerdata as sd\n",
    "from pathlib import PosixPath\n",
    "import pandas as pd\n",
    "import numpy as np\n",
    "\n",
    "import os\n",
    "import cProfile\n",
    "from tqdm import tqdm"
   ]
  },
  {
   "cell_type": "code",
   "execution_count": 15,
   "metadata": {},
   "outputs": [],
   "source": [
    "from gde_utils.date_utils import to_datetime\n",
    "from database_io import DB_player, DB_player_age\n",
    "from game.game_timeline import GameTimeline"
   ]
  },
  {
   "cell_type": "code",
   "execution_count": 16,
   "metadata": {},
   "outputs": [
    {
     "name": "stdout",
     "output_type": "stream",
     "text": [
      "Starting ChromeDriver in headless mode. 4.11.2\n"
     ]
    },
    {
     "data": {
      "text/html": [
       "<pre style=\"white-space:pre;overflow-x:auto;line-height:normal;font-family:Menlo,'DejaVu Sans Mono',consolas,'Courier New',monospace\"><span style=\"color: #7fbfbf; text-decoration-color: #7fbfbf\">[03/04/24 18:14:43] </span><span style=\"color: #000080; text-decoration-color: #000080\">INFO    </span> patching driver executable                                              <a href=\"file:///home/morten/.conda/envs/packing-report/lib/python3.10/site-packages/undetected_chromedriver/patcher.py\" target=\"_blank\"><span style=\"color: #7f7f7f; text-decoration-color: #7f7f7f\">patcher.py</span></a><span style=\"color: #7f7f7f; text-decoration-color: #7f7f7f\">:</span><a href=\"file:///home/morten/.conda/envs/packing-report/lib/python3.10/site-packages/undetected_chromedriver/patcher.py#346\" target=\"_blank\"><span style=\"color: #7f7f7f; text-decoration-color: #7f7f7f\">346</span></a>\n",
       "<span style=\"color: #7fbfbf; text-decoration-color: #7fbfbf\">                    </span>         <span style=\"color: #800080; text-decoration-color: #800080\">/home/morten/.local/share/undetected_chromedriver/</span><span style=\"color: #ff00ff; text-decoration-color: #ff00ff\">undetected_chromedriv</span> <span style=\"color: #7f7f7f; text-decoration-color: #7f7f7f\">              </span>\n",
       "<span style=\"color: #7fbfbf; text-decoration-color: #7fbfbf\">                    </span>         <span style=\"color: #ff00ff; text-decoration-color: #ff00ff\">er</span>                                                                      <span style=\"color: #7f7f7f; text-decoration-color: #7f7f7f\">              </span>\n",
       "</pre>\n"
      ],
      "text/plain": [
       "\u001b[2;36m[03/04/24 18:14:43]\u001b[0m\u001b[2;36m \u001b[0m\u001b[34mINFO    \u001b[0m patching driver executable                                              \u001b]8;id=367445;file:///home/morten/.conda/envs/packing-report/lib/python3.10/site-packages/undetected_chromedriver/patcher.py\u001b\\\u001b[2mpatcher.py\u001b[0m\u001b]8;;\u001b\\\u001b[2m:\u001b[0m\u001b]8;id=273087;file:///home/morten/.conda/envs/packing-report/lib/python3.10/site-packages/undetected_chromedriver/patcher.py#346\u001b\\\u001b[2m346\u001b[0m\u001b]8;;\u001b\\\n",
       "\u001b[2;36m                    \u001b[0m         \u001b[35m/home/morten/.local/share/undetected_chromedriver/\u001b[0m\u001b[95mundetected_chromedriv\u001b[0m \u001b[2m              \u001b[0m\n",
       "\u001b[2;36m                    \u001b[0m         \u001b[95mer\u001b[0m                                                                      \u001b[2m              \u001b[0m\n"
      ]
     },
     "metadata": {},
     "output_type": "display_data"
    }
   ],
   "source": [
    "ws = sd.WhoScored(\n",
    "    #  \"GER-Bundesliga\", \"GER-Bundesliga2\", \"ENG-Premier League\", \"ESP-La Liga\", \"FRA-Ligue 1\", \"ITA-Serie A\"\n",
    "    leagues=[\"GER-Bundesliga2\", \"GER-Bundesliga\"],\n",
    "    seasons=[17, 18, 19, 20, 21],\n",
    "    # leagues=[\"GER-Bundesliga\"],\n",
    "    # seasons=[21],\n",
    "    no_cache=False,\n",
    "    no_store=False,\n",
    "    data_dir=PosixPath(\"/home/morten/Develop/Open-Data/soccerdata\"),\n",
    "    path_to_browser=\"/usr/bin/chromium\",\n",
    "    headless=True,\n",
    ")"
   ]
  },
  {
   "cell_type": "code",
   "execution_count": 17,
   "metadata": {},
   "outputs": [],
   "source": [
    "schedule = ws.read_schedule().reset_index()\n",
    "test_game = schedule[\"game_id\"].values[0]\n",
    "test_date = schedule[schedule[\"game_id\"] == test_game][\"date\"].values[0]"
   ]
  },
  {
   "cell_type": "code",
   "execution_count": 18,
   "metadata": {},
   "outputs": [],
   "source": [
    "schedule = schedule.sort_values(\"date\")"
   ]
  },
  {
   "cell_type": "code",
   "execution_count": 19,
   "metadata": {},
   "outputs": [
    {
     "data": {
      "text/html": [
       "<div>\n",
       "<style scoped>\n",
       "    .dataframe tbody tr th:only-of-type {\n",
       "        vertical-align: middle;\n",
       "    }\n",
       "\n",
       "    .dataframe tbody tr th {\n",
       "        vertical-align: top;\n",
       "    }\n",
       "\n",
       "    .dataframe thead th {\n",
       "        text-align: right;\n",
       "    }\n",
       "</style>\n",
       "<table border=\"1\" class=\"dataframe\">\n",
       "  <thead>\n",
       "    <tr style=\"text-align: right;\">\n",
       "      <th></th>\n",
       "      <th>league</th>\n",
       "      <th>season</th>\n",
       "      <th>game</th>\n",
       "      <th>date</th>\n",
       "      <th>home_team</th>\n",
       "      <th>away_team</th>\n",
       "      <th>game_id</th>\n",
       "      <th>url</th>\n",
       "      <th>stage</th>\n",
       "    </tr>\n",
       "  </thead>\n",
       "  <tbody>\n",
       "    <tr>\n",
       "      <th>1530</th>\n",
       "      <td>GER-Bundesliga2</td>\n",
       "      <td>1718</td>\n",
       "      <td>2017-07-28 Bochum-St. Pauli</td>\n",
       "      <td>2017-07-28 19:30:00</td>\n",
       "      <td>Bochum</td>\n",
       "      <td>St. Pauli</td>\n",
       "      <td>1202134</td>\n",
       "      <td>https://www.whoscored.com/Matches/1202134/Live...</td>\n",
       "      <td>NaN</td>\n",
       "    </tr>\n",
       "    <tr>\n",
       "      <th>1533</th>\n",
       "      <td>GER-Bundesliga2</td>\n",
       "      <td>1718</td>\n",
       "      <td>2017-07-29 Ingolstadt-Union Berlin</td>\n",
       "      <td>2017-07-29 12:00:00</td>\n",
       "      <td>Ingolstadt</td>\n",
       "      <td>Union Berlin</td>\n",
       "      <td>1202139</td>\n",
       "      <td>https://www.whoscored.com/Matches/1202139/Live...</td>\n",
       "      <td>NaN</td>\n",
       "    </tr>\n",
       "    <tr>\n",
       "      <th>1531</th>\n",
       "      <td>GER-Bundesliga2</td>\n",
       "      <td>1718</td>\n",
       "      <td>2017-07-29 Arminia Bielefeld-Jahn Regensburg</td>\n",
       "      <td>2017-07-29 14:30:00</td>\n",
       "      <td>Arminia Bielefeld</td>\n",
       "      <td>Jahn Regensburg</td>\n",
       "      <td>1202136</td>\n",
       "      <td>https://www.whoscored.com/Matches/1202136/Live...</td>\n",
       "      <td>NaN</td>\n",
       "    </tr>\n",
       "    <tr>\n",
       "      <th>1532</th>\n",
       "      <td>GER-Bundesliga2</td>\n",
       "      <td>1718</td>\n",
       "      <td>2017-07-29 Darmstadt-Greuther Fuerth</td>\n",
       "      <td>2017-07-29 14:30:00</td>\n",
       "      <td>Darmstadt</td>\n",
       "      <td>Greuther Fuerth</td>\n",
       "      <td>1202135</td>\n",
       "      <td>https://www.whoscored.com/Matches/1202135/Live...</td>\n",
       "      <td>NaN</td>\n",
       "    </tr>\n",
       "    <tr>\n",
       "      <th>1536</th>\n",
       "      <td>GER-Bundesliga2</td>\n",
       "      <td>1718</td>\n",
       "      <td>2017-07-30 Nuernberg-Kaiserslautern</td>\n",
       "      <td>2017-07-30 12:30:00</td>\n",
       "      <td>Nuernberg</td>\n",
       "      <td>Kaiserslautern</td>\n",
       "      <td>1202138</td>\n",
       "      <td>https://www.whoscored.com/Matches/1202138/Live...</td>\n",
       "      <td>NaN</td>\n",
       "    </tr>\n",
       "    <tr>\n",
       "      <th>...</th>\n",
       "      <td>...</td>\n",
       "      <td>...</td>\n",
       "      <td>...</td>\n",
       "      <td>...</td>\n",
       "      <td>...</td>\n",
       "      <td>...</td>\n",
       "      <td>...</td>\n",
       "      <td>...</td>\n",
       "      <td>...</td>\n",
       "    </tr>\n",
       "    <tr>\n",
       "      <th>3053</th>\n",
       "      <td>GER-Bundesliga2</td>\n",
       "      <td>2122</td>\n",
       "      <td>2022-05-15 FC Heidenheim-Karlsruher SC</td>\n",
       "      <td>2022-05-15 14:30:00</td>\n",
       "      <td>FC Heidenheim</td>\n",
       "      <td>Karlsruher SC</td>\n",
       "      <td>1557925</td>\n",
       "      <td>https://www.whoscored.com/Matches/1557925/Live...</td>\n",
       "      <td>NaN</td>\n",
       "    </tr>\n",
       "    <tr>\n",
       "      <th>3052</th>\n",
       "      <td>GER-Bundesliga2</td>\n",
       "      <td>2122</td>\n",
       "      <td>2022-05-15 Dynamo Dresden-Erzgebirge Aue</td>\n",
       "      <td>2022-05-15 14:30:00</td>\n",
       "      <td>Dynamo Dresden</td>\n",
       "      <td>Erzgebirge Aue</td>\n",
       "      <td>1557934</td>\n",
       "      <td>https://www.whoscored.com/Matches/1557934/Live...</td>\n",
       "      <td>NaN</td>\n",
       "    </tr>\n",
       "    <tr>\n",
       "      <th>3058</th>\n",
       "      <td>GER-Bundesliga2</td>\n",
       "      <td>2122</td>\n",
       "      <td>2022-05-15 St. Pauli-Fortuna Duesseldorf</td>\n",
       "      <td>2022-05-15 14:30:00</td>\n",
       "      <td>St. Pauli</td>\n",
       "      <td>Fortuna Duesseldorf</td>\n",
       "      <td>1557926</td>\n",
       "      <td>https://www.whoscored.com/Matches/1557926/Live...</td>\n",
       "      <td>NaN</td>\n",
       "    </tr>\n",
       "    <tr>\n",
       "      <th>3054</th>\n",
       "      <td>GER-Bundesliga2</td>\n",
       "      <td>2122</td>\n",
       "      <td>2022-05-15 Hannover-Ingolstadt</td>\n",
       "      <td>2022-05-15 14:30:00</td>\n",
       "      <td>Hannover</td>\n",
       "      <td>Ingolstadt</td>\n",
       "      <td>1557928</td>\n",
       "      <td>https://www.whoscored.com/Matches/1557928/Live...</td>\n",
       "      <td>NaN</td>\n",
       "    </tr>\n",
       "    <tr>\n",
       "      <th>3059</th>\n",
       "      <td>GER-Bundesliga2</td>\n",
       "      <td>2122</td>\n",
       "      <td>2022-05-15 Werder Bremen-Jahn Regensburg</td>\n",
       "      <td>2022-05-15 14:30:00</td>\n",
       "      <td>Werder Bremen</td>\n",
       "      <td>Jahn Regensburg</td>\n",
       "      <td>1557933</td>\n",
       "      <td>https://www.whoscored.com/Matches/1557933/Live...</td>\n",
       "      <td>NaN</td>\n",
       "    </tr>\n",
       "  </tbody>\n",
       "</table>\n",
       "<p>3060 rows × 9 columns</p>\n",
       "</div>"
      ],
      "text/plain": [
       "               league  season                                          game  \\\n",
       "1530  GER-Bundesliga2    1718                   2017-07-28 Bochum-St. Pauli   \n",
       "1533  GER-Bundesliga2    1718            2017-07-29 Ingolstadt-Union Berlin   \n",
       "1531  GER-Bundesliga2    1718  2017-07-29 Arminia Bielefeld-Jahn Regensburg   \n",
       "1532  GER-Bundesliga2    1718          2017-07-29 Darmstadt-Greuther Fuerth   \n",
       "1536  GER-Bundesliga2    1718           2017-07-30 Nuernberg-Kaiserslautern   \n",
       "...               ...     ...                                           ...   \n",
       "3053  GER-Bundesliga2    2122        2022-05-15 FC Heidenheim-Karlsruher SC   \n",
       "3052  GER-Bundesliga2    2122      2022-05-15 Dynamo Dresden-Erzgebirge Aue   \n",
       "3058  GER-Bundesliga2    2122      2022-05-15 St. Pauli-Fortuna Duesseldorf   \n",
       "3054  GER-Bundesliga2    2122                2022-05-15 Hannover-Ingolstadt   \n",
       "3059  GER-Bundesliga2    2122      2022-05-15 Werder Bremen-Jahn Regensburg   \n",
       "\n",
       "                    date          home_team            away_team  game_id  \\\n",
       "1530 2017-07-28 19:30:00             Bochum            St. Pauli  1202134   \n",
       "1533 2017-07-29 12:00:00         Ingolstadt         Union Berlin  1202139   \n",
       "1531 2017-07-29 14:30:00  Arminia Bielefeld      Jahn Regensburg  1202136   \n",
       "1532 2017-07-29 14:30:00          Darmstadt      Greuther Fuerth  1202135   \n",
       "1536 2017-07-30 12:30:00          Nuernberg       Kaiserslautern  1202138   \n",
       "...                  ...                ...                  ...      ...   \n",
       "3053 2022-05-15 14:30:00      FC Heidenheim        Karlsruher SC  1557925   \n",
       "3052 2022-05-15 14:30:00     Dynamo Dresden       Erzgebirge Aue  1557934   \n",
       "3058 2022-05-15 14:30:00          St. Pauli  Fortuna Duesseldorf  1557926   \n",
       "3054 2022-05-15 14:30:00           Hannover           Ingolstadt  1557928   \n",
       "3059 2022-05-15 14:30:00      Werder Bremen      Jahn Regensburg  1557933   \n",
       "\n",
       "                                                    url  stage  \n",
       "1530  https://www.whoscored.com/Matches/1202134/Live...    NaN  \n",
       "1533  https://www.whoscored.com/Matches/1202139/Live...    NaN  \n",
       "1531  https://www.whoscored.com/Matches/1202136/Live...    NaN  \n",
       "1532  https://www.whoscored.com/Matches/1202135/Live...    NaN  \n",
       "1536  https://www.whoscored.com/Matches/1202138/Live...    NaN  \n",
       "...                                                 ...    ...  \n",
       "3053  https://www.whoscored.com/Matches/1557925/Live...    NaN  \n",
       "3052  https://www.whoscored.com/Matches/1557934/Live...    NaN  \n",
       "3058  https://www.whoscored.com/Matches/1557926/Live...    NaN  \n",
       "3054  https://www.whoscored.com/Matches/1557928/Live...    NaN  \n",
       "3059  https://www.whoscored.com/Matches/1557933/Live...    NaN  \n",
       "\n",
       "[3060 rows x 9 columns]"
      ]
     },
     "execution_count": 19,
     "metadata": {},
     "output_type": "execute_result"
    }
   ],
   "source": [
    "schedule"
   ]
  },
  {
   "cell_type": "code",
   "execution_count": 20,
   "metadata": {},
   "outputs": [
    {
     "name": "stdout",
     "output_type": "stream",
     "text": [
      "Updated regressor parameters:  {'intercept': -0.00013126078358937352, 'coefficient_elo_diff': 0.001309072212851775, 'coefficient_min': 0.000629194267244951, 'version': 1}\n",
      "Updated regressor parameters:  {'intercept': 0.0038053582457488445, 'coefficient_elo_diff': 0.002942313321824237, 'coefficient_min': -0.00010798307072609283, 'version': 2}\n",
      "Updated regressor parameters:  {'intercept': 0.003411705614614501, 'coefficient_elo_diff': 0.0028841534180172363, 'coefficient_min': 0.0005597347877457757, 'version': 3}\n",
      "Updated regressor parameters:  {'intercept': 0.004437276928824813, 'coefficient_elo_diff': 0.0029281409387711278, 'coefficient_min': 0.0008043945391735045, 'version': 4}\n",
      "Updated regressor parameters:  {'intercept': 0.004930376462196086, 'coefficient_elo_diff': 0.003135819878844899, 'coefficient_min': 0.0006666196506589419, 'version': 5}\n",
      "Updated regressor parameters:  {'intercept': 0.006210899749118796, 'coefficient_elo_diff': 0.0035599453182648465, 'coefficient_min': 0.0005542489680635089, 'version': 6}\n",
      "Updated regressor parameters:  {'intercept': 0.006469724930384572, 'coefficient_elo_diff': 0.0034455089822288017, 'coefficient_min': 0.000690958175452387, 'version': 7}\n",
      "Updated regressor parameters:  {'intercept': 0.007339498646380419, 'coefficient_elo_diff': 0.0033730117229393555, 'coefficient_min': 0.0008229622510458447, 'version': 8}\n",
      "Updated regressor parameters:  {'intercept': 0.007673842352280961, 'coefficient_elo_diff': 0.003441156909182311, 'coefficient_min': 0.0008607284135630092, 'version': 9}\n",
      "Updated regressor parameters:  {'intercept': 0.008015603899079063, 'coefficient_elo_diff': 0.003462305048629141, 'coefficient_min': 0.0008508027780034638, 'version': 10}\n"
     ]
    }
   ],
   "source": [
    "import logging\n",
    "logger = logging.getLogger()\n",
    "logger.disabled = True\n",
    "dbh_player = DB_player(\"/home/morten/Develop/packing-report/Goal-Difference-Elo-GDE/GDE.db\")\n",
    "dbh_player_age = DB_player_age(\"/home/morten/Develop/packing-report/Goal-Difference-Elo-GDE/GDE.db\")\n",
    "schedule = ws.read_schedule().reset_index()\n",
    "schedule = schedule.sort_values(\"date\")\n",
    "for league, game, date in zip(schedule[\"league\"].values, schedule[\"game_id\"].values, schedule[\"date\"].values):\n",
    "    date = to_datetime(date)\n",
    "    game_timeline = GameTimeline(ws, game, date, league, dbh_player, dbh_player_age)\n",
    "    game_timeline.handle()"
   ]
  },
  {
   "cell_type": "markdown",
   "metadata": {},
   "source": [
    "Problem: make mins same vorzeichen as diff?"
   ]
  },
  {
   "cell_type": "markdown",
   "metadata": {},
   "source": [
    "___"
   ]
  }
 ],
 "metadata": {
  "kernelspec": {
   "display_name": "packing-report",
   "language": "python",
   "name": "python3"
  },
  "language_info": {
   "codemirror_mode": {
    "name": "ipython",
    "version": 3
   },
   "file_extension": ".py",
   "mimetype": "text/x-python",
   "name": "python",
   "nbconvert_exporter": "python",
   "pygments_lexer": "ipython3",
   "version": "3.10.4"
  },
  "orig_nbformat": 4
 },
 "nbformat": 4,
 "nbformat_minor": 2
}
