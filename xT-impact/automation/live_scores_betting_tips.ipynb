{
 "cells": [
  {
   "cell_type": "code",
   "execution_count": null,
   "metadata": {},
   "outputs": [],
   "source": [
    "# TODO Get dates of next games and save them\n",
    "# TODO get lineup of next game (not as important right now because of underusage of player information)\n",
    "# TODO get betting data\n",
    "# TODO combine betting data with game data\n",
    "# TODO predict\n",
    "# TODO Telegram bot"
   ]
  },
  {
   "cell_type": "code",
   "execution_count": null,
   "metadata": {},
   "outputs": [],
   "source": [
    "import numpy as np"
   ]
  },
  {
   "cell_type": "code",
   "execution_count": null,
   "metadata": {},
   "outputs": [],
   "source": [
    "from calc_odds import calc_odds\n",
    "\n",
    "from proto_files.python.games import Schedule\n",
    "from proto_files.python.table import TableList\n",
    "from proto_files.python.lineups import LineupList"
   ]
  },
  {
   "cell_type": "code",
   "execution_count": null,
   "metadata": {},
   "outputs": [],
   "source": [
    "import sys\n",
    "\n",
    "sys.path.append(\"..\")\n",
    "from proto_files.python.eval import Eval"
   ]
  },
  {
   "cell_type": "code",
   "execution_count": null,
   "metadata": {},
   "outputs": [],
   "source": [
    "gl = Schedule().parse(open(\"database/past_games.pb\", \"rb\").read())\n",
    "gl1 = Schedule()\n",
    "gl2 = Schedule()\n",
    "gl3 = Schedule()\n",
    "\n",
    "gl1.games = gl.games[:400]\n",
    "gl2.games = gl.games[400:800]\n",
    "gl3.games = gl.games[800:]\n",
    "gll = [gl1, gl2, gl3]\n",
    "\n",
    "for idx, x in enumerate(gll):\n",
    "    with open(f\"database/past_games{idx}.pb\", \"wb\") as f:\n",
    "        f.write(bytes(x))"
   ]
  },
  {
   "cell_type": "code",
   "execution_count": null,
   "metadata": {},
   "outputs": [],
   "source": [
    "tl = TableList().parse(open(\"database/tables.pb\", \"rb\").read())"
   ]
  },
  {
   "cell_type": "code",
   "execution_count": null,
   "metadata": {},
   "outputs": [],
   "source": [
    "for t in tl.tables:\n",
    "    print(t.competition)"
   ]
  },
  {
   "cell_type": "code",
   "execution_count": null,
   "metadata": {},
   "outputs": [],
   "source": [
    "ll = LineupList().parse(open(\"database/lineups.pb\", \"rb\").read())"
   ]
  },
  {
   "cell_type": "code",
   "execution_count": null,
   "metadata": {},
   "outputs": [],
   "source": [
    "ll.teams"
   ]
  }
 ],
 "metadata": {
  "kernelspec": {
   "display_name": "packing-report",
   "language": "python",
   "name": "python3"
  },
  "language_info": {
   "codemirror_mode": {
    "name": "ipython",
    "version": 3
   },
   "file_extension": ".py",
   "mimetype": "text/x-python",
   "name": "python",
   "nbconvert_exporter": "python",
   "pygments_lexer": "ipython3",
   "version": "3.10.4"
  },
  "orig_nbformat": 4,
  "vscode": {
   "interpreter": {
    "hash": "712082fa5832080cfbc451c8f4e95f25cd39c626d7d8aebf8310513402cfb031"
   }
  }
 },
 "nbformat": 4,
 "nbformat_minor": 2
}
