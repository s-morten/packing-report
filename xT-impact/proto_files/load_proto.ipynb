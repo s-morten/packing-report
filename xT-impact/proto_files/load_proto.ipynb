{
 "cells": [
  {
   "cell_type": "code",
   "execution_count": null,
   "metadata": {},
   "outputs": [],
   "source": [
    "from player import Player"
   ]
  },
  {
   "cell_type": "code",
   "execution_count": null,
   "metadata": {},
   "outputs": [],
   "source": [
    "import socceraction.spadl as spadl\n",
    "import socceraction.xthreat as xthreat\n",
    "import soccerdata as sd\n",
    "from pathlib import PosixPath\n",
    "import pandas as pd\n",
    "from tqdm import tqdm\n",
    "from datetime import datetime\n",
    "import numpy as np\n",
    "import matplotlib.pyplot as plt\n",
    "\n",
    "import socceraction.spadl.config as spadlconfig\n",
    "from socceraction.spadl.schema import SPADLSchema\n",
    "from pandera.typing import DataFrame, Series\n",
    "import numpy.typing as npt\n",
    "from sklearn.exceptions import NotFittedError\n",
    "from typing import Callable, List, Optional, Tuple\n",
    "import os\n",
    "from datetime import date, timedelta\n",
    "from ipywidgets import interact"
   ]
  },
  {
   "cell_type": "code",
   "execution_count": null,
   "metadata": {},
   "outputs": [],
   "source": [
    "def string_to_date(input):\n",
    "    input_parts = input.split('-')\n",
    "    return date(int(input_parts[0]), int(input_parts[1]), int(input_parts[2]))\t\n",
    "\n",
    "def get_time_list(start):\n",
    "    date_list = []\n",
    "    start_date = string_to_date(start)\n",
    "    end_date = date.today()\n",
    "    delta = timedelta(days=1)\n",
    "    while start_date <= end_date:\n",
    "        date_list.append(start_date.strftime(\"%Y-%m-%d\"))\n",
    "        start_date += delta\n",
    "    return date_list"
   ]
  },
  {
   "cell_type": "code",
   "execution_count": null,
   "metadata": {},
   "outputs": [],
   "source": [
    "def get_df():\n",
    "    return pd.read_csv(\"../data/player_db.csv\", sep=\";\")\n",
    "\n",
    "def mov_avg(arr, win):\n",
    "    avg_arr = []\n",
    "    for x in range(len(arr)):\n",
    "        if x == 0:\n",
    "            continue\n",
    "        if x < win:\n",
    "            # print(x, \" mean \", np.mean(arr[0:x]), \" len \", len(arr[0:x]))\n",
    "            avg_arr.append(np.mean(arr[0:x]))\n",
    "        else:\n",
    "            avg_arr.append(np.mean(arr[x-win:x]))\n",
    "            # print(x, \" mean \", np.mean(arr[x-win:x]), \" len \", len(arr[x-win:x]))\n",
    "\n",
    "    return avg_arr\n",
    "\n",
    "def draw_plot(id):\n",
    "    # id to id\n",
    "    df = get_df()\n",
    "    id = df[df[\"player_name\"] == id]['id'].values[0]\n",
    "    proto_player = Player().parse(open(f\"./../data/{str(id)}.pb\", \"rb\").read())\n",
    "    df = pd.DataFrame(proto_player.starter.x_i)\n",
    "    attack, defense, shots = [], [], []\n",
    "    df.sort_values('game_date', inplace=True)\n",
    "    date_list = get_time_list(df.loc[0]['game_date'])\n",
    "    for x in range(len(df)):\n",
    "        if x == 0:\n",
    "            continue\n",
    "        long_term = x - 50 if x - 50 >= 0 else 0\n",
    "        medium_term = x - 25 if x - 25 >= 0 else 0\n",
    "        short_term = x - 10 if x - 10 >= 0 else 0\n",
    "        form = x - 3 if x - 3 >= 0 else 0\n",
    "        attack.append(df.iloc[long_term:x][\"x_t_pm\"].mean() * 0.5 + \n",
    "                    df.iloc[medium_term:x][\"x_t_pm\"].mean() * 0.15 +\n",
    "                    df.iloc[short_term:x][\"x_t_pm\"].mean() * 0.15 +\n",
    "                    df.iloc[form:x][\"x_t_pm\"].mean() * 0.2)\n",
    "    for x in range(len(df)):\n",
    "        if x == 0:\n",
    "            continue\n",
    "        long_term = x - 50 if x - 50 >= 0 else 0\n",
    "        medium_term = x - 25 if x - 25 >= 0 else 0\n",
    "        short_term = x - 10 if x - 10 >= 0 else 0\n",
    "        form = x - 3 if x - 3 >= 0 else 0\n",
    "        defense.append(df.iloc[long_term:x][\"x_d_pm\"].mean() * 0.5 + \n",
    "                    df.iloc[medium_term:x][\"x_d_pm\"].mean() * 0.15 +\n",
    "                    df.iloc[short_term:x][\"x_d_pm\"].mean() * 0.15 +\n",
    "                    df.iloc[form:x][\"x_d_pm\"].mean() * 0.2)\n",
    "\n",
    "    for x in range(len(df)):\n",
    "        if x == 0:\n",
    "            continue\n",
    "        long_term = x - 50 if x - 50 >= 0 else 0\n",
    "        medium_term = x - 25 if x - 25 >= 0 else 0\n",
    "        short_term = x - 10 if x - 10 >= 0 else 0\n",
    "        form = x - 3 if x - 3 >= 0 else 0\n",
    "        shots.append(df.iloc[long_term:x][\"x_g_pm\"].mean() * 0.5 + \n",
    "                    df.iloc[medium_term:x][\"x_g_pm\"].mean() * 0.15 +\n",
    "                    df.iloc[short_term:x][\"x_g_pm\"].mean() * 0.15 +\n",
    "                    df.iloc[form:x][\"x_g_pm\"].mean() * 0.2)\n",
    "\n",
    "    N = 10\n",
    "    shots = mov_avg(shots, 10)\n",
    "    attack = mov_avg(attack, 10)\n",
    "    defense = mov_avg(defense, 10)\n",
    "    plt.plot(np.arange(len(attack[0:10])), attack[0:10], '.g')\n",
    "    plt.plot(np.arange(len(attack[0:10]), len(attack[0:10])+len(attack[10:])), attack[10:], 'g')\n",
    "    plt.plot(np.arange(len(defense[0:10])), defense[0:10], '.r')\n",
    "    plt.plot(np.arange(len(defense[0:10]), len(defense[0:10])+len(defense[10:])), defense[10:], 'r')\n",
    "    plt.plot(np.arange(len(shots[0:10])), shots[0:10], '.b')\n",
    "    plt.plot(np.arange(len(shots[0:10]), len(shots[0:10])+len(shots[10:])), shots[10:], 'b')\n",
    "    # plt.plot(np.arange(len(attack)), np.convolve(attack, np.ones(N)/N, mode='same'), 'g')\n",
    "    # plt.plot(np.arange(len(defense)), np.convolve(defense, np.ones(N)/N, mode='same'), 'r')\n",
    "    # plt.plot(np.arange(len(shots)), np.convolve(shots, np.ones(N)/N, mode='same'), 'b')\n",
    "\n",
    "df = get_df()\n",
    "interact(draw_plot, id=df['player_name'].sort_values())"
   ]
  },
  {
   "cell_type": "code",
   "execution_count": null,
   "metadata": {},
   "outputs": [],
   "source": [
    "# top players xT\n",
    "names, value = [], []\n",
    "for file in os.listdir(\"../data/\"):\n",
    "    if file == \"player_db.csv\":\n",
    "        continue\n",
    "    proto_player = Player().parse(open(f\"./../data/{file}\", \"rb\").read())\n",
    "    df = pd.DataFrame(proto_player.starter.x_i)\n",
    "    if df.shape[0] < 50:\n",
    "        continue\n",
    "    df.sort_values('game_date', inplace=True)\n",
    "    \n",
    "    val = ((df.iloc[-50:][\"x_t_pm\"] * df.iloc[-50:][\"league_elo\"]).mean() * 0.5 + \n",
    "           (df.iloc[-25:][\"x_t_pm\"] * df.iloc[-25:][\"league_elo\"]).mean() * 0.15 +\n",
    "           (df.iloc[-10:][\"x_t_pm\"] * df.iloc[-10:][\"league_elo\"]).mean() * 0.15 +\n",
    "           (df.iloc[-3:][\"x_t_pm\"] * df.iloc[-3:][\"league_elo\"]).mean() * 0.2)\n",
    "    pid = proto_player.player_id\n",
    "    name_db = pd.read_csv(\"../data/player_db.csv\", sep=\";\")\n",
    "    names.append(name_db[name_db['id'] == pid]['player_name'].values[0])\n",
    "    value.append(val)\n",
    "\n",
    "top_xT = pd.DataFrame({\"name\": names, \"impact\": value})"
   ]
  },
  {
   "cell_type": "code",
   "execution_count": null,
   "metadata": {},
   "outputs": [],
   "source": [
    "top_xT.sort_values('impact', ascending=False, inplace=True)\n",
    "top_xT.head(20)"
   ]
  },
  {
   "cell_type": "code",
   "execution_count": null,
   "metadata": {},
   "outputs": [],
   "source": [
    "# top players shooting\n",
    "names, value = [], []\n",
    "for file in os.listdir(\"../data/\"):\n",
    "    if file == \"player_db.csv\":\n",
    "        continue\n",
    "    proto_player = Player().parse(open(f\"./../data/{file}\", \"rb\").read())\n",
    "    df = pd.DataFrame(proto_player.starter.x_i)\n",
    "    if df.shape[0] < 50:\n",
    "        continue\n",
    "    df.sort_values('game_date', inplace=True)\n",
    "    \n",
    "    val = ((df.iloc[-50:][\"x_g_pm\"] * df.iloc[-50:][\"league_elo\"]).mean() * 0.5 + \n",
    "           (df.iloc[-25:][\"x_g_pm\"] * df.iloc[-25:][\"league_elo\"]).mean() * 0.15 +\n",
    "           (df.iloc[-10:][\"x_g_pm\"] * df.iloc[-10:][\"league_elo\"]).mean() * 0.15 +\n",
    "           (df.iloc[-3:][\"x_g_pm\"] * df.iloc[-3:][\"league_elo\"]).mean() * 0.2)\n",
    "    pid = proto_player.player_id\n",
    "    name_db = pd.read_csv(\"../data/player_db.csv\", sep=\";\")\n",
    "    names.append(name_db[name_db['id'] == pid]['player_name'].values[0])\n",
    "    value.append(val)\n",
    "\n",
    "top_xG = pd.DataFrame({\"name\": names, \"impact\": value})"
   ]
  },
  {
   "cell_type": "code",
   "execution_count": null,
   "metadata": {},
   "outputs": [],
   "source": [
    "top_xG.sort_values('impact', ascending=False, inplace=True)\n",
    "top_xG.head(20)"
   ]
  },
  {
   "cell_type": "code",
   "execution_count": null,
   "metadata": {},
   "outputs": [],
   "source": [
    "# top players shooting\n",
    "names, value = [], []\n",
    "for file in os.listdir(\"../data/\"):\n",
    "    if file == \"player_db.csv\":\n",
    "        continue\n",
    "    proto_player = Player().parse(open(f\"./../data/{file}\", \"rb\").read())\n",
    "    df = pd.DataFrame(proto_player.starter.x_i)\n",
    "    if df.shape[0] < 50:\n",
    "        continue\n",
    "    df.sort_values('game_date', inplace=True)\n",
    "    \n",
    "    val = ((df.iloc[-50:][\"x_d_pm\"] * df.iloc[-50:][\"league_elo\"]).mean() * 0.5 + \n",
    "           (df.iloc[-25:][\"x_d_pm\"] * df.iloc[-25:][\"league_elo\"]).mean() * 0.15 +\n",
    "           (df.iloc[-10:][\"x_d_pm\"] * df.iloc[-10:][\"league_elo\"]).mean() * 0.15 +\n",
    "           (df.iloc[-3:][\"x_d_pm\"] * df.iloc[-3:][\"league_elo\"]).mean() * 0.2)\n",
    "    pid = proto_player.player_id\n",
    "    name_db = pd.read_csv(\"../data/player_db.csv\", sep=\";\")\n",
    "    names.append(name_db[name_db['id'] == pid]['player_name'].values[0])\n",
    "    value.append(val)\n",
    "\n",
    "top_xD = pd.DataFrame({\"name\": names, \"impact\": value})"
   ]
  },
  {
   "cell_type": "code",
   "execution_count": null,
   "metadata": {},
   "outputs": [],
   "source": [
    "top_xD.sort_values('impact', ascending=False, inplace=True)\n",
    "top_xD.head(20)"
   ]
  },
  {
   "cell_type": "code",
   "execution_count": null,
   "metadata": {},
   "outputs": [],
   "source": [
    "# top players shooting\n",
    "names, value = [], []\n",
    "for file in os.listdir(\"../data/\"):\n",
    "    if file == \"player_db.csv\":\n",
    "        continue\n",
    "    proto_player = Player().parse(open(f\"./../data/{file}\", \"rb\").read())\n",
    "    df = pd.DataFrame(proto_player.starter.x_i)\n",
    "    if df.shape[0] < 50:\n",
    "        continue\n",
    "    df.sort_values('game_date', inplace=True)\n",
    "    \n",
    "    val = ((df.iloc[-50:][\"x_k_pm\"] * df.iloc[-50:][\"league_elo\"]).mean() * 0.5 + \n",
    "           (df.iloc[-25:][\"x_k_pm\"] * df.iloc[-25:][\"league_elo\"]).mean() * 0.15 +\n",
    "           (df.iloc[-10:][\"x_k_pm\"] * df.iloc[-10:][\"league_elo\"]).mean() * 0.15 +\n",
    "           (df.iloc[-3:][\"x_k_pm\"] * df.iloc[-3:][\"league_elo\"]).mean() * 0.2)\n",
    "    pid = proto_player.player_id\n",
    "    name_db = pd.read_csv(\"../data/player_db.csv\", sep=\";\")\n",
    "    names.append(name_db[name_db['id'] == pid]['player_name'].values[0])\n",
    "    value.append(val)\n",
    "\n",
    "top_xK = pd.DataFrame({\"name\": names, \"impact\": value})"
   ]
  },
  {
   "cell_type": "code",
   "execution_count": null,
   "metadata": {},
   "outputs": [],
   "source": [
    "top_xK.sort_values('impact', ascending=False, inplace=True)\n",
    "top_xK.head(20)"
   ]
  },
  {
   "cell_type": "code",
   "execution_count": null,
   "metadata": {},
   "outputs": [],
   "source": [
    "df = get_df()\n",
    "id = 73084\n",
    "proto_player = Player().parse(open(f\"./../data/{str(id)}.pb\", \"rb\").read())\n",
    "df = pd.DataFrame(proto_player.starter.x_i)\n",
    "plt.scatter(np.arange(df[\"x_t_pm\"].shape[0]),df[\"x_t_pm\"])\n",
    "from scipy import stats\n",
    "z = np.abs(stats.zscore(df[\"x_t_pm\"]))"
   ]
  },
  {
   "cell_type": "code",
   "execution_count": null,
   "metadata": {},
   "outputs": [],
   "source": [
    "df_o = df[(z < 1.5)]\n",
    "df_m = df[(z >= 1.5)]\n",
    "df_o.shape\n",
    "df_m.head()\n",
    "\n",
    "plt.scatter(df_o.index, df_o['x_t_pm'])\n",
    "plt.scatter(df_m.index, df_m['x_t_pm'], color=\"r\")\n",
    "m, b = np.polyfit(df_o.index.values, df_o['x_t_pm'], 1)\n",
    "plt.plot(df_o.index.values, m*df_o.index.values+b)"
   ]
  },
  {
   "cell_type": "code",
   "execution_count": null,
   "metadata": {},
   "outputs": [],
   "source": [
    "df = get_df()\n",
    "id = 11119\n",
    "proto_player = Player().parse(open(f\"./../data/{str(id)}.pb\", \"rb\").read())\n",
    "df = pd.DataFrame(proto_player.starter.x_i)\n",
    "plt.scatter(df.index, df[\"x_g_pm\"])\n",
    "from scipy import stats\n",
    "z = np.abs(stats.zscore(df[\"x_g_pm\"]))\n",
    "m, b = np.polyfit(df.index.values[-10:], df['x_g_pm'].iloc[-10:], 1)\n",
    "plt.plot(df.index.values[-10:], m*df.index.values[-10:]+b)"
   ]
  },
  {
   "cell_type": "code",
   "execution_count": null,
   "metadata": {},
   "outputs": [],
   "source": [
    "df_o = df[(z < 1.5)]\n",
    "df_m = df[(z >= 1.5)]\n",
    "df_o.shape\n",
    "df_m.head()\n",
    "\n",
    "plt.scatter(df_o.index, df_o['x_g_pm'])\n",
    "plt.scatter(df_m.index, df_m['x_g_pm'], color=\"r\")\n",
    "m, b = np.polyfit(df_o.index.values, df_o['x_g_pm'], 1)\n",
    "plt.plot(df_o.index.values, m*df_o.index.values+b)"
   ]
  },
  {
   "cell_type": "code",
   "execution_count": null,
   "metadata": {},
   "outputs": [],
   "source": [
    "df"
   ]
  },
  {
   "cell_type": "code",
   "execution_count": null,
   "metadata": {},
   "outputs": [],
   "source": [
    "plt.scatter(np.arange(df[\"g_i\"].shape[0]), df[\"g_i\"])\n",
    "m, b = np.polyfit(df.index.values, df['g_i'], 1)\n",
    "plt.plot(df.index.values, m*df['g_i'].index.values+b)"
   ]
  },
  {
   "cell_type": "code",
   "execution_count": null,
   "metadata": {},
   "outputs": [],
   "source": [
    "df['g_i'].mean()"
   ]
  },
  {
   "cell_type": "code",
   "execution_count": null,
   "metadata": {},
   "outputs": [],
   "source": [
    "m*(df['g_i'].index.values[-1])+b"
   ]
  },
  {
   "cell_type": "code",
   "execution_count": null,
   "metadata": {},
   "outputs": [],
   "source": []
  }
 ],
 "metadata": {
  "kernelspec": {
   "display_name": "Python 3.10.4 ('packing-report')",
   "language": "python",
   "name": "python3"
  },
  "language_info": {
   "codemirror_mode": {
    "name": "ipython",
    "version": 3
   },
   "file_extension": ".py",
   "mimetype": "text/x-python",
   "name": "python",
   "nbconvert_exporter": "python",
   "pygments_lexer": "ipython3",
   "version": "3.10.4"
  },
  "orig_nbformat": 4,
  "vscode": {
   "interpreter": {
    "hash": "712082fa5832080cfbc451c8f4e95f25cd39c626d7d8aebf8310513402cfb031"
   }
  }
 },
 "nbformat": 4,
 "nbformat_minor": 2
}
