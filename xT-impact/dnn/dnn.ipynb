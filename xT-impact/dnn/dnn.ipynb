{
 "cells": [
  {
   "cell_type": "code",
   "execution_count": null,
   "metadata": {},
   "outputs": [],
   "source": [
    "import pandas as pd\n",
    "import numpy as np"
   ]
  },
  {
   "cell_type": "code",
   "execution_count": null,
   "metadata": {},
   "outputs": [],
   "source": [
    "from keras.models import Sequential\n",
    "from keras.layers import Dense"
   ]
  },
  {
   "cell_type": "code",
   "execution_count": null,
   "metadata": {},
   "outputs": [],
   "source": [
    "train_data = pd.read_csv(\"../data_acquisition/data_0.3/data_game_values_train.csv\", sep=\";\")"
   ]
  },
  {
   "cell_type": "code",
   "execution_count": null,
   "metadata": {},
   "outputs": [],
   "source": [
    "xg_mean = np.mean(np.mean(train_data[\"home_xG\"]) + np.mean(train_data[\"away_xG\"]))\n",
    "xg_against_mean = np.mean(np.mean(train_data[\"home_xg_against\"]) + np.mean(train_data[\"away_xg_against\"]))\n",
    "\n",
    "xt_mean = np.mean(np.mean(train_data[\"home_xT_all\"]) + np.mean(train_data[\"away_xT_all\"]))\n",
    "xt_against_mean = np.mean(np.mean(train_data[\"home_xt_all_against\"]) + np.mean(train_data[\"away_xt_all_against\"]))\n",
    "\n",
    "form_for_mean = np.mean(np.mean(train_data[\"ha_form_home_for\"] / 5) + np.mean(train_data[\"ha_form_away_for\"] / 5))\n",
    "form_against_mean = np.mean(np.mean(train_data[\"ha_form_home_against\"] / 5) + np.mean(train_data[\"ha_form_away_against\"] / 5))"
   ]
  },
  {
   "cell_type": "code",
   "execution_count": null,
   "metadata": {},
   "outputs": [],
   "source": [
    "features = np.swapaxes(np.array([train_data[\"home_xG\"] - xg_mean, train_data[\"away_xg_against\"] - xg_against_mean,\n",
    "                                train_data[\"away_xG\"] - xg_mean, train_data[\"home_xg_against\"] - xg_against_mean,\n",
    "                                train_data[\"home_xT_all\"] - xt_mean, train_data[\"away_xt_all_against\"] - xt_against_mean,\n",
    "                                train_data[\"away_xT_all\"] - xt_mean, train_data[\"home_xt_all_against\"] - xt_against_mean]), 0, 1)\n",
    "\n",
    "# gi = np.swapaxes(np.array([train_data[\"home_gi\"], train_data[\"away_gi\"]]), 0, 1)\n",
    "\n",
    "form = np.swapaxes(np.array([(train_data[\"ha_form_home_for\"] / 5) - form_for_mean, (train_data[\"ha_form_home_against\"] / 5) - form_against_mean,\n",
    "                            (train_data[\"ha_form_away_for\"] / 5) - form_for_mean, (train_data[\"ha_form_away_against\"] / 5) - form_against_mean]), 0, 1)\n",
    "\n",
    "goals = np.swapaxes(np.array([train_data[\"home_score\"], train_data[\"away_score\"]]), 0, 1)\n",
    "\n",
    "elo_diff = np.swapaxes(np.array([(train_data[\"elo_home\"] / 1000) - (train_data[\"elo_away\"] / 1000)]), 0, 1)\n",
    "       "
   ]
  },
  {
   "cell_type": "code",
   "execution_count": null,
   "metadata": {},
   "outputs": [],
   "source": [
    "goals_clas = [np.array([1, 0, 0]) if x[0] > x[1] else np.array([0, 1, 0]) if x[0] == x[1] else np.array([0, 0, 1]) for x in goals]"
   ]
  },
  {
   "cell_type": "code",
   "execution_count": null,
   "metadata": {},
   "outputs": [],
   "source": [
    "X = np.concatenate([features, form, elo_diff], axis=1)\n",
    "y = np.array(goals_clas)"
   ]
  },
  {
   "cell_type": "code",
   "execution_count": null,
   "metadata": {},
   "outputs": [],
   "source": [
    "model = Sequential()\n",
    "model.add(Dense(26, input_shape=(13,), activation='relu'))\n",
    "model.add(Dense(52, activation='relu'))\n",
    "model.add(Dense(12, activation='relu'))\n",
    "model.add(Dense(3, activation=\"sigmoid\"))"
   ]
  },
  {
   "cell_type": "code",
   "execution_count": null,
   "metadata": {},
   "outputs": [],
   "source": [
    "# compile the keras model\n",
    "model.compile(loss='binary_crossentropy', optimizer='adam', metrics=['mean_squared_error'])\n",
    "# model.compile(loss='mean_squared_error', optimizer='adam', metrics=['mean_squared_error'])"
   ]
  },
  {
   "cell_type": "code",
   "execution_count": null,
   "metadata": {},
   "outputs": [],
   "source": [
    "# fit the keras model on the dataset\n",
    "model.fit(X, y, epochs=150, batch_size=10)"
   ]
  },
  {
   "cell_type": "code",
   "execution_count": null,
   "metadata": {},
   "outputs": [],
   "source": [
    "# evaluate the keras model\n",
    "_, accuracy = model.evaluate(X, y)\n",
    "print('Accuracy: %.2f' % (accuracy*100))"
   ]
  },
  {
   "cell_type": "code",
   "execution_count": null,
   "metadata": {},
   "outputs": [],
   "source": [
    "test_data = pd.read_csv(\"../data_acquisition/data_0.3/data_game_values_test_odds.csv\", sep=\";\").dropna()\n",
    "\n",
    "features = np.swapaxes(np.array([test_data[\"home_xG\"] - xg_mean, test_data[\"away_xg_against\"] - xg_against_mean,\n",
    "                                test_data[\"away_xG\"] - xg_mean, test_data[\"home_xg_against\"] - xg_against_mean,\n",
    "                                test_data[\"home_xT_all\"] - xt_mean, test_data[\"away_xT_all\"] - xt_mean,\n",
    "                                test_data[\"home_xt_all_against\"] - xt_against_mean, test_data[\"away_xt_all_against\"] - xt_against_mean]), 0, 1)\n",
    "# features_a = np.swapaxes(np.array([train_data[\"away_xG\"], train_data[\"away_xT_only_pos\"], train_data[\"home_xg_against\"], train_data[\"home_xt_only_pos_against\"]]), 0, 1)\n",
    "\n",
    "gi = np.swapaxes(np.array([test_data[\"home_gi\"], test_data[\"away_gi\"]]), 0, 1)\n",
    "# gi_a = np.swapaxes(np.array([train_data[\"away_gi\"]]), 0, 1)\n",
    "\n",
    "form = np.swapaxes(np.array([(test_data[\"ha_form_home_for\"] / 5) - form_for_mean, (test_data[\"ha_form_home_against\"] / 5) - form_against_mean,\n",
    "                            (test_data[\"ha_form_away_for\"] / 5) - form_for_mean, (test_data[\"ha_form_away_against\"] / 5) - form_against_mean]), 0, 1)\n",
    "\n",
    "goals = np.swapaxes(np.array([test_data[\"home_score\"], test_data[\"away_score\"]]), 0, 1)\n",
    "\n",
    "elo = np.swapaxes(np.array([(test_data[\"elo_home\"] / 1000) - (test_data[\"elo_away\"] / 1000)]), 0, 1)\n"
   ]
  },
  {
   "cell_type": "code",
   "execution_count": null,
   "metadata": {},
   "outputs": [],
   "source": [
    "goals_clas = [np.array([1, 0, 0]) if x[0] > x[1] else np.array([0, 1, 0]) if x[0] == x[1] else np.array([0, 0, 1]) for x in goals]"
   ]
  },
  {
   "cell_type": "code",
   "execution_count": null,
   "metadata": {},
   "outputs": [],
   "source": [
    "X_test = np.concatenate([features, form, elo], axis=1)\n",
    "y_test = np.array(goals_clas)"
   ]
  },
  {
   "cell_type": "code",
   "execution_count": null,
   "metadata": {},
   "outputs": [],
   "source": [
    "predictions = model.predict(X_test)"
   ]
  },
  {
   "cell_type": "code",
   "execution_count": null,
   "metadata": {},
   "outputs": [],
   "source": [
    "# pred, act = [], []\n",
    "# for idx, i in enumerate(np.round(predictions)):\n",
    "#     if i[0] > i[1]:\n",
    "#         pred.append(0)\n",
    "#     if i[0] == i[1]:\n",
    "#         pred.append(1)\n",
    "#     if i[0] < i[1]:\n",
    "#         pred.append(2)\n",
    "#     if y_test[idx][0] > y_test[idx][1]:\n",
    "#         act.append(0)\n",
    "#     if y_test[idx][0] == y_test[idx][1]:\n",
    "#         act.append(1)\n",
    "#     if y_test[idx][0] < y_test[idx][1]:\n",
    "#         act.append(2)\n",
    "    \n",
    "# df = pd.DataFrame({\"act\": act, \"pred\": pred})"
   ]
  },
  {
   "cell_type": "code",
   "execution_count": null,
   "metadata": {},
   "outputs": [],
   "source": [
    "pred, act = [], []\n",
    "for idx, i in enumerate(np.round(predictions)):\n",
    "    pred.append(np.argmax(i))\n",
    "    if y_test[idx][0] > y_test[idx][1]:\n",
    "        act.append(0)\n",
    "    if y_test[idx][0] == y_test[idx][1]:\n",
    "        act.append(1)\n",
    "    if y_test[idx][0] < y_test[idx][1]:\n",
    "        act.append(2)\n",
    "    \n",
    "df = pd.DataFrame({\"act\": act, \"pred\": pred})"
   ]
  },
  {
   "cell_type": "code",
   "execution_count": null,
   "metadata": {},
   "outputs": [],
   "source": [
    "np.sum(df[df[\"act\"] == df[\"pred\"]]) / df.shape[0]"
   ]
  },
  {
   "cell_type": "code",
   "execution_count": null,
   "metadata": {},
   "outputs": [],
   "source": [
    "df"
   ]
  },
  {
   "cell_type": "code",
   "execution_count": null,
   "metadata": {},
   "outputs": [],
   "source": []
  }
 ],
 "metadata": {
  "kernelspec": {
   "display_name": "packing-report",
   "language": "python",
   "name": "python3"
  },
  "language_info": {
   "codemirror_mode": {
    "name": "ipython",
    "version": 3
   },
   "file_extension": ".py",
   "mimetype": "text/x-python",
   "name": "python",
   "nbconvert_exporter": "python",
   "pygments_lexer": "ipython3",
   "version": "3.10.4"
  },
  "orig_nbformat": 4,
  "vscode": {
   "interpreter": {
    "hash": "712082fa5832080cfbc451c8f4e95f25cd39c626d7d8aebf8310513402cfb031"
   }
  }
 },
 "nbformat": 4,
 "nbformat_minor": 2
}
