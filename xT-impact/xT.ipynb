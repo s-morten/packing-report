{
 "cells": [
  {
   "cell_type": "code",
   "execution_count": 13,
   "metadata": {},
   "outputs": [],
   "source": [
    "import os\n",
    "import numpy as np"
   ]
  },
  {
   "cell_type": "code",
   "execution_count": 2,
   "metadata": {},
   "outputs": [
    {
     "data": {
      "text/html": [
       "<pre style=\"white-space:pre;overflow-x:auto;line-height:normal;font-family:Menlo,'DejaVu Sans Mono',consolas,'Courier New',monospace\"><span style=\"color: #7fbfbf; text-decoration-color: #7fbfbf\">[10/02/22 17:51:39] </span><span style=\"color: #000080; text-decoration-color: #000080\">INFO    </span> No custom team name replacements found. You can configure these in       <a href=\"file:///home/morten/.conda/envs/packing-report/lib/python3.10/site-packages/soccerdata/_config.py\" target=\"_blank\"><span style=\"color: #7f7f7f; text-decoration-color: #7f7f7f\">_config.py</span></a><span style=\"color: #7f7f7f; text-decoration-color: #7f7f7f\">:</span><a href=\"file:///home/morten/.conda/envs/packing-report/lib/python3.10/site-packages/soccerdata/_config.py#85\" target=\"_blank\"><span style=\"color: #7f7f7f; text-decoration-color: #7f7f7f\">85</span></a>\n",
       "<span style=\"color: #7fbfbf; text-decoration-color: #7fbfbf\">                    </span>         <span style=\"color: #800080; text-decoration-color: #800080\">/home/morten/soccerdata/config/</span><span style=\"color: #ff00ff; text-decoration-color: #ff00ff\">teamname_replacements.json.</span>               <span style=\"color: #7f7f7f; text-decoration-color: #7f7f7f\">             </span>\n",
       "</pre>\n"
      ],
      "text/plain": [
       "\u001b[2;36m[10/02/22 17:51:39]\u001b[0m\u001b[2;36m \u001b[0m\u001b[34mINFO    \u001b[0m No custom team name replacements found. You can configure these in       \u001b]8;id=423882;file:///home/morten/.conda/envs/packing-report/lib/python3.10/site-packages/soccerdata/_config.py\u001b\\\u001b[2m_config.py\u001b[0m\u001b]8;;\u001b\\\u001b[2m:\u001b[0m\u001b]8;id=655394;file:///home/morten/.conda/envs/packing-report/lib/python3.10/site-packages/soccerdata/_config.py#85\u001b\\\u001b[2m85\u001b[0m\u001b]8;;\u001b\\\n",
       "\u001b[2;36m                    \u001b[0m         \u001b[35m/home/morten/soccerdata/config/\u001b[0m\u001b[95mteamname_replacements.json.\u001b[0m               \u001b[2m             \u001b[0m\n"
      ]
     },
     "metadata": {},
     "output_type": "display_data"
    },
    {
     "data": {
      "text/html": [
       "<pre style=\"white-space:pre;overflow-x:auto;line-height:normal;font-family:Menlo,'DejaVu Sans Mono',consolas,'Courier New',monospace\"><span style=\"color: #7fbfbf; text-decoration-color: #7fbfbf\">                    </span><span style=\"color: #000080; text-decoration-color: #000080\">INFO    </span> Custom league dict loaded from                                          <a href=\"file:///home/morten/.conda/envs/packing-report/lib/python3.10/site-packages/soccerdata/_config.py\" target=\"_blank\"><span style=\"color: #7f7f7f; text-decoration-color: #7f7f7f\">_config.py</span></a><span style=\"color: #7f7f7f; text-decoration-color: #7f7f7f\">:</span><a href=\"file:///home/morten/.conda/envs/packing-report/lib/python3.10/site-packages/soccerdata/_config.py#153\" target=\"_blank\"><span style=\"color: #7f7f7f; text-decoration-color: #7f7f7f\">153</span></a>\n",
       "<span style=\"color: #7fbfbf; text-decoration-color: #7fbfbf\">                    </span>         <span style=\"color: #800080; text-decoration-color: #800080\">/home/morten/soccerdata/config/</span><span style=\"color: #ff00ff; text-decoration-color: #ff00ff\">league_dict.json.</span>                        <span style=\"color: #7f7f7f; text-decoration-color: #7f7f7f\">              </span>\n",
       "</pre>\n"
      ],
      "text/plain": [
       "\u001b[2;36m                   \u001b[0m\u001b[2;36m \u001b[0m\u001b[34mINFO    \u001b[0m Custom league dict loaded from                                          \u001b]8;id=430055;file:///home/morten/.conda/envs/packing-report/lib/python3.10/site-packages/soccerdata/_config.py\u001b\\\u001b[2m_config.py\u001b[0m\u001b]8;;\u001b\\\u001b[2m:\u001b[0m\u001b]8;id=940151;file:///home/morten/.conda/envs/packing-report/lib/python3.10/site-packages/soccerdata/_config.py#153\u001b\\\u001b[2m153\u001b[0m\u001b]8;;\u001b\\\n",
       "\u001b[2;36m                    \u001b[0m         \u001b[35m/home/morten/soccerdata/config/\u001b[0m\u001b[95mleague_dict.json.\u001b[0m                        \u001b[2m              \u001b[0m\n"
      ]
     },
     "metadata": {},
     "output_type": "display_data"
    }
   ],
   "source": [
    "import soccerdata as sd"
   ]
  },
  {
   "cell_type": "code",
   "execution_count": 3,
   "metadata": {},
   "outputs": [],
   "source": [
    "from socceraction.data.opta import OptaLoader\n",
    "from socceraction.data.statsbomb import StatsBombLoader"
   ]
  },
  {
   "cell_type": "code",
   "execution_count": 4,
   "metadata": {},
   "outputs": [
    {
     "data": {
      "text/html": [
       "<pre style=\"white-space:pre;overflow-x:auto;line-height:normal;font-family:Menlo,'DejaVu Sans Mono',consolas,'Courier New',monospace\"><span style=\"color: #7fbfbf; text-decoration-color: #7fbfbf\">[10/02/22 17:51:51] </span><span style=\"color: #000080; text-decoration-color: #000080\">INFO    </span> Saving cached data to <span style=\"color: #800080; text-decoration-color: #800080\">/home/morten/Develop/Open-Data/</span><span style=\"color: #ff00ff; text-decoration-color: #ff00ff\">soccerdata</span>          <a href=\"file:///home/morten/.conda/envs/packing-report/lib/python3.10/site-packages/soccerdata/_common.py\" target=\"_blank\"><span style=\"color: #7f7f7f; text-decoration-color: #7f7f7f\">_common.py</span></a><span style=\"color: #7f7f7f; text-decoration-color: #7f7f7f\">:</span><a href=\"file:///home/morten/.conda/envs/packing-report/lib/python3.10/site-packages/soccerdata/_common.py#89\" target=\"_blank\"><span style=\"color: #7f7f7f; text-decoration-color: #7f7f7f\">89</span></a>\n",
       "</pre>\n"
      ],
      "text/plain": [
       "\u001b[2;36m[10/02/22 17:51:51]\u001b[0m\u001b[2;36m \u001b[0m\u001b[34mINFO    \u001b[0m Saving cached data to \u001b[35m/home/morten/Develop/Open-Data/\u001b[0m\u001b[95msoccerdata\u001b[0m          \u001b]8;id=914274;file:///home/morten/.conda/envs/packing-report/lib/python3.10/site-packages/soccerdata/_common.py\u001b\\\u001b[2m_common.py\u001b[0m\u001b]8;;\u001b\\\u001b[2m:\u001b[0m\u001b]8;id=100151;file:///home/morten/.conda/envs/packing-report/lib/python3.10/site-packages/soccerdata/_common.py#89\u001b\\\u001b[2m89\u001b[0m\u001b]8;;\u001b\\\n"
      ]
     },
     "metadata": {},
     "output_type": "display_data"
    },
    {
     "data": {
      "text/html": [
       "<pre style=\"white-space:pre;overflow-x:auto;line-height:normal;font-family:Menlo,'DejaVu Sans Mono',consolas,'Courier New',monospace\"><span style=\"color: #7fbfbf; text-decoration-color: #7fbfbf\">[10/02/22 17:51:52] </span><span style=\"color: #000080; text-decoration-color: #000080\">INFO    </span> patching driver executable                                              <a href=\"file:///home/morten/.conda/envs/packing-report/lib/python3.10/site-packages/undetected_chromedriver/patcher.py\" target=\"_blank\"><span style=\"color: #7f7f7f; text-decoration-color: #7f7f7f\">patcher.py</span></a><span style=\"color: #7f7f7f; text-decoration-color: #7f7f7f\">:</span><a href=\"file:///home/morten/.conda/envs/packing-report/lib/python3.10/site-packages/undetected_chromedriver/patcher.py#231\" target=\"_blank\"><span style=\"color: #7f7f7f; text-decoration-color: #7f7f7f\">231</span></a>\n",
       "<span style=\"color: #7fbfbf; text-decoration-color: #7fbfbf\">                    </span>         <span style=\"color: #800080; text-decoration-color: #800080\">/home/morten/.local/share/undetected_chromedriver/</span><span style=\"color: #ff00ff; text-decoration-color: #ff00ff\">ad010a4a89333bdf_chro</span> <span style=\"color: #7f7f7f; text-decoration-color: #7f7f7f\">              </span>\n",
       "<span style=\"color: #7fbfbf; text-decoration-color: #7fbfbf\">                    </span>         <span style=\"color: #ff00ff; text-decoration-color: #ff00ff\">medriver</span>                                                                <span style=\"color: #7f7f7f; text-decoration-color: #7f7f7f\">              </span>\n",
       "</pre>\n"
      ],
      "text/plain": [
       "\u001b[2;36m[10/02/22 17:51:52]\u001b[0m\u001b[2;36m \u001b[0m\u001b[34mINFO    \u001b[0m patching driver executable                                              \u001b]8;id=200407;file:///home/morten/.conda/envs/packing-report/lib/python3.10/site-packages/undetected_chromedriver/patcher.py\u001b\\\u001b[2mpatcher.py\u001b[0m\u001b]8;;\u001b\\\u001b[2m:\u001b[0m\u001b]8;id=244277;file:///home/morten/.conda/envs/packing-report/lib/python3.10/site-packages/undetected_chromedriver/patcher.py#231\u001b\\\u001b[2m231\u001b[0m\u001b]8;;\u001b\\\n",
       "\u001b[2;36m                    \u001b[0m         \u001b[35m/home/morten/.local/share/undetected_chromedriver/\u001b[0m\u001b[95mad010a4a89333bdf_chro\u001b[0m \u001b[2m              \u001b[0m\n",
       "\u001b[2;36m                    \u001b[0m         \u001b[95mmedriver\u001b[0m                                                                \u001b[2m              \u001b[0m\n"
      ]
     },
     "metadata": {},
     "output_type": "display_data"
    }
   ],
   "source": [
    "from pathlib import PosixPath\n",
    "\n",
    "\n",
    "ws = sd.WhoScored(\n",
    "    leagues=\"ENG-Premier League\",\n",
    "    seasons=[21],\n",
    "    no_cache=False,\n",
    "    no_store=False,\n",
    "    data_dir=PosixPath(\"/home/morten/Develop/Open-Data/soccerdata\"),\n",
    "    path_to_browser=\"/usr/bin/chromium\",\n",
    "    headless=False,\n",
    ")"
   ]
  },
  {
   "cell_type": "code",
   "execution_count": 5,
   "metadata": {},
   "outputs": [
    {
     "data": {
      "text/html": [
       "<pre style=\"white-space:pre;overflow-x:auto;line-height:normal;font-family:Menlo,'DejaVu Sans Mono',consolas,'Courier New',monospace\"><span style=\"color: #7fbfbf; text-decoration-color: #7fbfbf\">[10/02/22 17:51:53] </span><span style=\"color: #000080; text-decoration-color: #000080\">INFO    </span> Retrieving game schedule of ENG-Premier League - <span style=\"color: #008080; text-decoration-color: #008080; font-weight: bold\">2122</span> from the cache  <a href=\"file:///home/morten/.conda/envs/packing-report/lib/python3.10/site-packages/soccerdata/whoscored.py\" target=\"_blank\"><span style=\"color: #7f7f7f; text-decoration-color: #7f7f7f\">whoscored.py</span></a><span style=\"color: #7f7f7f; text-decoration-color: #7f7f7f\">:</span><a href=\"file:///home/morten/.conda/envs/packing-report/lib/python3.10/site-packages/soccerdata/whoscored.py#335\" target=\"_blank\"><span style=\"color: #7f7f7f; text-decoration-color: #7f7f7f\">335</span></a>\n",
       "</pre>\n"
      ],
      "text/plain": [
       "\u001b[2;36m[10/02/22 17:51:53]\u001b[0m\u001b[2;36m \u001b[0m\u001b[34mINFO    \u001b[0m Retrieving game schedule of ENG-Premier League - \u001b[1;36m2122\u001b[0m from the cache  \u001b]8;id=821023;file:///home/morten/.conda/envs/packing-report/lib/python3.10/site-packages/soccerdata/whoscored.py\u001b\\\u001b[2mwhoscored.py\u001b[0m\u001b]8;;\u001b\\\u001b[2m:\u001b[0m\u001b]8;id=517015;file:///home/morten/.conda/envs/packing-report/lib/python3.10/site-packages/soccerdata/whoscored.py#335\u001b\\\u001b[2m335\u001b[0m\u001b]8;;\u001b\\\n"
      ]
     },
     "metadata": {},
     "output_type": "display_data"
    },
    {
     "data": {
      "text/html": [
       "<pre style=\"white-space:pre;overflow-x:auto;line-height:normal;font-family:Menlo,'DejaVu Sans Mono',consolas,'Courier New',monospace\"><span style=\"color: #7fbfbf; text-decoration-color: #7fbfbf\">                    </span><span style=\"color: #000080; text-decoration-color: #000080\">INFO    </span> <span style=\"font-weight: bold\">[</span><span style=\"color: #008080; text-decoration-color: #008080; font-weight: bold\">1</span>/<span style=\"color: #008080; text-decoration-color: #008080; font-weight: bold\">380</span><span style=\"font-weight: bold\">]</span> Retrieving game with <span style=\"color: #808000; text-decoration-color: #808000\">id</span>=<span style=\"color: #008080; text-decoration-color: #008080; font-weight: bold\">1549677</span>                               <a href=\"file:///home/morten/.conda/envs/packing-report/lib/python3.10/site-packages/soccerdata/whoscored.py\" target=\"_blank\"><span style=\"color: #7f7f7f; text-decoration-color: #7f7f7f\">whoscored.py</span></a><span style=\"color: #7f7f7f; text-decoration-color: #7f7f7f\">:</span><a href=\"file:///home/morten/.conda/envs/packing-report/lib/python3.10/site-packages/soccerdata/whoscored.py#584\" target=\"_blank\"><span style=\"color: #7f7f7f; text-decoration-color: #7f7f7f\">584</span></a>\n",
       "</pre>\n"
      ],
      "text/plain": [
       "\u001b[2;36m                   \u001b[0m\u001b[2;36m \u001b[0m\u001b[34mINFO    \u001b[0m \u001b[1m[\u001b[0m\u001b[1;36m1\u001b[0m/\u001b[1;36m380\u001b[0m\u001b[1m]\u001b[0m Retrieving game with \u001b[33mid\u001b[0m=\u001b[1;36m1549677\u001b[0m                               \u001b]8;id=354750;file:///home/morten/.conda/envs/packing-report/lib/python3.10/site-packages/soccerdata/whoscored.py\u001b\\\u001b[2mwhoscored.py\u001b[0m\u001b]8;;\u001b\\\u001b[2m:\u001b[0m\u001b]8;id=385336;file:///home/morten/.conda/envs/packing-report/lib/python3.10/site-packages/soccerdata/whoscored.py#584\u001b\\\u001b[2m584\u001b[0m\u001b]8;;\u001b\\\n"
      ]
     },
     "metadata": {},
     "output_type": "display_data"
    },
    {
     "data": {
      "text/html": [
       "<pre style=\"white-space:pre;overflow-x:auto;line-height:normal;font-family:Menlo,'DejaVu Sans Mono',consolas,'Courier New',monospace\"><span style=\"color: #7fbfbf; text-decoration-color: #7fbfbf\">                    </span><span style=\"color: #000080; text-decoration-color: #000080\">INFO    </span> <span style=\"font-weight: bold\">[</span><span style=\"color: #008080; text-decoration-color: #008080; font-weight: bold\">2</span>/<span style=\"color: #008080; text-decoration-color: #008080; font-weight: bold\">380</span><span style=\"font-weight: bold\">]</span> Retrieving game with <span style=\"color: #808000; text-decoration-color: #808000\">id</span>=<span style=\"color: #008080; text-decoration-color: #008080; font-weight: bold\">1549550</span>                               <a href=\"file:///home/morten/.conda/envs/packing-report/lib/python3.10/site-packages/soccerdata/whoscored.py\" target=\"_blank\"><span style=\"color: #7f7f7f; text-decoration-color: #7f7f7f\">whoscored.py</span></a><span style=\"color: #7f7f7f; text-decoration-color: #7f7f7f\">:</span><a href=\"file:///home/morten/.conda/envs/packing-report/lib/python3.10/site-packages/soccerdata/whoscored.py#584\" target=\"_blank\"><span style=\"color: #7f7f7f; text-decoration-color: #7f7f7f\">584</span></a>\n",
       "</pre>\n"
      ],
      "text/plain": [
       "\u001b[2;36m                   \u001b[0m\u001b[2;36m \u001b[0m\u001b[34mINFO    \u001b[0m \u001b[1m[\u001b[0m\u001b[1;36m2\u001b[0m/\u001b[1;36m380\u001b[0m\u001b[1m]\u001b[0m Retrieving game with \u001b[33mid\u001b[0m=\u001b[1;36m1549550\u001b[0m                               \u001b]8;id=360283;file:///home/morten/.conda/envs/packing-report/lib/python3.10/site-packages/soccerdata/whoscored.py\u001b\\\u001b[2mwhoscored.py\u001b[0m\u001b]8;;\u001b\\\u001b[2m:\u001b[0m\u001b]8;id=492178;file:///home/morten/.conda/envs/packing-report/lib/python3.10/site-packages/soccerdata/whoscored.py#584\u001b\\\u001b[2m584\u001b[0m\u001b]8;;\u001b\\\n"
      ]
     },
     "metadata": {},
     "output_type": "display_data"
    },
    {
     "data": {
      "text/html": [
       "<pre style=\"white-space:pre;overflow-x:auto;line-height:normal;font-family:Menlo,'DejaVu Sans Mono',consolas,'Courier New',monospace\"><span style=\"color: #7fbfbf; text-decoration-color: #7fbfbf\">                    </span><span style=\"color: #000080; text-decoration-color: #000080\">INFO    </span> <span style=\"font-weight: bold\">[</span><span style=\"color: #008080; text-decoration-color: #008080; font-weight: bold\">3</span>/<span style=\"color: #008080; text-decoration-color: #008080; font-weight: bold\">380</span><span style=\"font-weight: bold\">]</span> Retrieving game with <span style=\"color: #808000; text-decoration-color: #808000\">id</span>=<span style=\"color: #008080; text-decoration-color: #008080; font-weight: bold\">1549656</span>                               <a href=\"file:///home/morten/.conda/envs/packing-report/lib/python3.10/site-packages/soccerdata/whoscored.py\" target=\"_blank\"><span style=\"color: #7f7f7f; text-decoration-color: #7f7f7f\">whoscored.py</span></a><span style=\"color: #7f7f7f; text-decoration-color: #7f7f7f\">:</span><a href=\"file:///home/morten/.conda/envs/packing-report/lib/python3.10/site-packages/soccerdata/whoscored.py#584\" target=\"_blank\"><span style=\"color: #7f7f7f; text-decoration-color: #7f7f7f\">584</span></a>\n",
       "</pre>\n"
      ],
      "text/plain": [
       "\u001b[2;36m                   \u001b[0m\u001b[2;36m \u001b[0m\u001b[34mINFO    \u001b[0m \u001b[1m[\u001b[0m\u001b[1;36m3\u001b[0m/\u001b[1;36m380\u001b[0m\u001b[1m]\u001b[0m Retrieving game with \u001b[33mid\u001b[0m=\u001b[1;36m1549656\u001b[0m                               \u001b]8;id=514800;file:///home/morten/.conda/envs/packing-report/lib/python3.10/site-packages/soccerdata/whoscored.py\u001b\\\u001b[2mwhoscored.py\u001b[0m\u001b]8;;\u001b\\\u001b[2m:\u001b[0m\u001b]8;id=592282;file:///home/morten/.conda/envs/packing-report/lib/python3.10/site-packages/soccerdata/whoscored.py#584\u001b\\\u001b[2m584\u001b[0m\u001b]8;;\u001b\\\n"
      ]
     },
     "metadata": {},
     "output_type": "display_data"
    },
    {
     "data": {
      "text/html": [
       "<pre style=\"white-space:pre;overflow-x:auto;line-height:normal;font-family:Menlo,'DejaVu Sans Mono',consolas,'Courier New',monospace\"><span style=\"color: #7fbfbf; text-decoration-color: #7fbfbf\">                    </span><span style=\"color: #000080; text-decoration-color: #000080\">INFO    </span> <span style=\"font-weight: bold\">[</span><span style=\"color: #008080; text-decoration-color: #008080; font-weight: bold\">4</span>/<span style=\"color: #008080; text-decoration-color: #008080; font-weight: bold\">380</span><span style=\"font-weight: bold\">]</span> Retrieving game with <span style=\"color: #808000; text-decoration-color: #808000\">id</span>=<span style=\"color: #008080; text-decoration-color: #008080; font-weight: bold\">1549793</span>                               <a href=\"file:///home/morten/.conda/envs/packing-report/lib/python3.10/site-packages/soccerdata/whoscored.py\" target=\"_blank\"><span style=\"color: #7f7f7f; text-decoration-color: #7f7f7f\">whoscored.py</span></a><span style=\"color: #7f7f7f; text-decoration-color: #7f7f7f\">:</span><a href=\"file:///home/morten/.conda/envs/packing-report/lib/python3.10/site-packages/soccerdata/whoscored.py#584\" target=\"_blank\"><span style=\"color: #7f7f7f; text-decoration-color: #7f7f7f\">584</span></a>\n",
       "</pre>\n"
      ],
      "text/plain": [
       "\u001b[2;36m                   \u001b[0m\u001b[2;36m \u001b[0m\u001b[34mINFO    \u001b[0m \u001b[1m[\u001b[0m\u001b[1;36m4\u001b[0m/\u001b[1;36m380\u001b[0m\u001b[1m]\u001b[0m Retrieving game with \u001b[33mid\u001b[0m=\u001b[1;36m1549793\u001b[0m                               \u001b]8;id=971668;file:///home/morten/.conda/envs/packing-report/lib/python3.10/site-packages/soccerdata/whoscored.py\u001b\\\u001b[2mwhoscored.py\u001b[0m\u001b]8;;\u001b\\\u001b[2m:\u001b[0m\u001b]8;id=3484;file:///home/morten/.conda/envs/packing-report/lib/python3.10/site-packages/soccerdata/whoscored.py#584\u001b\\\u001b[2m584\u001b[0m\u001b]8;;\u001b\\\n"
      ]
     },
     "metadata": {},
     "output_type": "display_data"
    },
    {
     "data": {
      "text/html": [
       "<pre style=\"white-space:pre;overflow-x:auto;line-height:normal;font-family:Menlo,'DejaVu Sans Mono',consolas,'Courier New',monospace\"><span style=\"color: #7fbfbf; text-decoration-color: #7fbfbf\">                    </span><span style=\"color: #000080; text-decoration-color: #000080\">INFO    </span> <span style=\"font-weight: bold\">[</span><span style=\"color: #008080; text-decoration-color: #008080; font-weight: bold\">5</span>/<span style=\"color: #008080; text-decoration-color: #008080; font-weight: bold\">380</span><span style=\"font-weight: bold\">]</span> Retrieving game with <span style=\"color: #808000; text-decoration-color: #808000\">id</span>=<span style=\"color: #008080; text-decoration-color: #008080; font-weight: bold\">1549560</span>                               <a href=\"file:///home/morten/.conda/envs/packing-report/lib/python3.10/site-packages/soccerdata/whoscored.py\" target=\"_blank\"><span style=\"color: #7f7f7f; text-decoration-color: #7f7f7f\">whoscored.py</span></a><span style=\"color: #7f7f7f; text-decoration-color: #7f7f7f\">:</span><a href=\"file:///home/morten/.conda/envs/packing-report/lib/python3.10/site-packages/soccerdata/whoscored.py#584\" target=\"_blank\"><span style=\"color: #7f7f7f; text-decoration-color: #7f7f7f\">584</span></a>\n",
       "</pre>\n"
      ],
      "text/plain": [
       "\u001b[2;36m                   \u001b[0m\u001b[2;36m \u001b[0m\u001b[34mINFO    \u001b[0m \u001b[1m[\u001b[0m\u001b[1;36m5\u001b[0m/\u001b[1;36m380\u001b[0m\u001b[1m]\u001b[0m Retrieving game with \u001b[33mid\u001b[0m=\u001b[1;36m1549560\u001b[0m                               \u001b]8;id=376574;file:///home/morten/.conda/envs/packing-report/lib/python3.10/site-packages/soccerdata/whoscored.py\u001b\\\u001b[2mwhoscored.py\u001b[0m\u001b]8;;\u001b\\\u001b[2m:\u001b[0m\u001b]8;id=980478;file:///home/morten/.conda/envs/packing-report/lib/python3.10/site-packages/soccerdata/whoscored.py#584\u001b\\\u001b[2m584\u001b[0m\u001b]8;;\u001b\\\n"
      ]
     },
     "metadata": {},
     "output_type": "display_data"
    },
    {
     "data": {
      "text/html": [
       "<pre style=\"white-space:pre;overflow-x:auto;line-height:normal;font-family:Menlo,'DejaVu Sans Mono',consolas,'Courier New',monospace\"><span style=\"color: #7fbfbf; text-decoration-color: #7fbfbf\">[10/02/22 17:51:54] </span><span style=\"color: #000080; text-decoration-color: #000080\">INFO    </span> <span style=\"font-weight: bold\">[</span><span style=\"color: #008080; text-decoration-color: #008080; font-weight: bold\">6</span>/<span style=\"color: #008080; text-decoration-color: #008080; font-weight: bold\">380</span><span style=\"font-weight: bold\">]</span> Retrieving game with <span style=\"color: #808000; text-decoration-color: #808000\">id</span>=<span style=\"color: #008080; text-decoration-color: #008080; font-weight: bold\">1549884</span>                               <a href=\"file:///home/morten/.conda/envs/packing-report/lib/python3.10/site-packages/soccerdata/whoscored.py\" target=\"_blank\"><span style=\"color: #7f7f7f; text-decoration-color: #7f7f7f\">whoscored.py</span></a><span style=\"color: #7f7f7f; text-decoration-color: #7f7f7f\">:</span><a href=\"file:///home/morten/.conda/envs/packing-report/lib/python3.10/site-packages/soccerdata/whoscored.py#584\" target=\"_blank\"><span style=\"color: #7f7f7f; text-decoration-color: #7f7f7f\">584</span></a>\n",
       "</pre>\n"
      ],
      "text/plain": [
       "\u001b[2;36m[10/02/22 17:51:54]\u001b[0m\u001b[2;36m \u001b[0m\u001b[34mINFO    \u001b[0m \u001b[1m[\u001b[0m\u001b[1;36m6\u001b[0m/\u001b[1;36m380\u001b[0m\u001b[1m]\u001b[0m Retrieving game with \u001b[33mid\u001b[0m=\u001b[1;36m1549884\u001b[0m                               \u001b]8;id=431247;file:///home/morten/.conda/envs/packing-report/lib/python3.10/site-packages/soccerdata/whoscored.py\u001b\\\u001b[2mwhoscored.py\u001b[0m\u001b]8;;\u001b\\\u001b[2m:\u001b[0m\u001b]8;id=436656;file:///home/morten/.conda/envs/packing-report/lib/python3.10/site-packages/soccerdata/whoscored.py#584\u001b\\\u001b[2m584\u001b[0m\u001b]8;;\u001b\\\n"
      ]
     },
     "metadata": {},
     "output_type": "display_data"
    },
    {
     "data": {
      "text/html": [
       "<pre style=\"white-space:pre;overflow-x:auto;line-height:normal;font-family:Menlo,'DejaVu Sans Mono',consolas,'Courier New',monospace\"><span style=\"color: #7fbfbf; text-decoration-color: #7fbfbf\">                    </span><span style=\"color: #000080; text-decoration-color: #000080\">INFO    </span> <span style=\"font-weight: bold\">[</span><span style=\"color: #008080; text-decoration-color: #008080; font-weight: bold\">7</span>/<span style=\"color: #008080; text-decoration-color: #008080; font-weight: bold\">380</span><span style=\"font-weight: bold\">]</span> Retrieving game with <span style=\"color: #808000; text-decoration-color: #808000\">id</span>=<span style=\"color: #008080; text-decoration-color: #008080; font-weight: bold\">1549830</span>                               <a href=\"file:///home/morten/.conda/envs/packing-report/lib/python3.10/site-packages/soccerdata/whoscored.py\" target=\"_blank\"><span style=\"color: #7f7f7f; text-decoration-color: #7f7f7f\">whoscored.py</span></a><span style=\"color: #7f7f7f; text-decoration-color: #7f7f7f\">:</span><a href=\"file:///home/morten/.conda/envs/packing-report/lib/python3.10/site-packages/soccerdata/whoscored.py#584\" target=\"_blank\"><span style=\"color: #7f7f7f; text-decoration-color: #7f7f7f\">584</span></a>\n",
       "</pre>\n"
      ],
      "text/plain": [
       "\u001b[2;36m                   \u001b[0m\u001b[2;36m \u001b[0m\u001b[34mINFO    \u001b[0m \u001b[1m[\u001b[0m\u001b[1;36m7\u001b[0m/\u001b[1;36m380\u001b[0m\u001b[1m]\u001b[0m Retrieving game with \u001b[33mid\u001b[0m=\u001b[1;36m1549830\u001b[0m                               \u001b]8;id=202407;file:///home/morten/.conda/envs/packing-report/lib/python3.10/site-packages/soccerdata/whoscored.py\u001b\\\u001b[2mwhoscored.py\u001b[0m\u001b]8;;\u001b\\\u001b[2m:\u001b[0m\u001b]8;id=725555;file:///home/morten/.conda/envs/packing-report/lib/python3.10/site-packages/soccerdata/whoscored.py#584\u001b\\\u001b[2m584\u001b[0m\u001b]8;;\u001b\\\n"
      ]
     },
     "metadata": {},
     "output_type": "display_data"
    },
    {
     "data": {
      "text/html": [
       "<pre style=\"white-space:pre;overflow-x:auto;line-height:normal;font-family:Menlo,'DejaVu Sans Mono',consolas,'Courier New',monospace\"><span style=\"color: #7fbfbf; text-decoration-color: #7fbfbf\">                    </span><span style=\"color: #000080; text-decoration-color: #000080\">INFO    </span> <span style=\"font-weight: bold\">[</span><span style=\"color: #008080; text-decoration-color: #008080; font-weight: bold\">8</span>/<span style=\"color: #008080; text-decoration-color: #008080; font-weight: bold\">380</span><span style=\"font-weight: bold\">]</span> Retrieving game with <span style=\"color: #808000; text-decoration-color: #808000\">id</span>=<span style=\"color: #008080; text-decoration-color: #008080; font-weight: bold\">1549839</span>                               <a href=\"file:///home/morten/.conda/envs/packing-report/lib/python3.10/site-packages/soccerdata/whoscored.py\" target=\"_blank\"><span style=\"color: #7f7f7f; text-decoration-color: #7f7f7f\">whoscored.py</span></a><span style=\"color: #7f7f7f; text-decoration-color: #7f7f7f\">:</span><a href=\"file:///home/morten/.conda/envs/packing-report/lib/python3.10/site-packages/soccerdata/whoscored.py#584\" target=\"_blank\"><span style=\"color: #7f7f7f; text-decoration-color: #7f7f7f\">584</span></a>\n",
       "</pre>\n"
      ],
      "text/plain": [
       "\u001b[2;36m                   \u001b[0m\u001b[2;36m \u001b[0m\u001b[34mINFO    \u001b[0m \u001b[1m[\u001b[0m\u001b[1;36m8\u001b[0m/\u001b[1;36m380\u001b[0m\u001b[1m]\u001b[0m Retrieving game with \u001b[33mid\u001b[0m=\u001b[1;36m1549839\u001b[0m                               \u001b]8;id=423043;file:///home/morten/.conda/envs/packing-report/lib/python3.10/site-packages/soccerdata/whoscored.py\u001b\\\u001b[2mwhoscored.py\u001b[0m\u001b]8;;\u001b\\\u001b[2m:\u001b[0m\u001b]8;id=179042;file:///home/morten/.conda/envs/packing-report/lib/python3.10/site-packages/soccerdata/whoscored.py#584\u001b\\\u001b[2m584\u001b[0m\u001b]8;;\u001b\\\n"
      ]
     },
     "metadata": {},
     "output_type": "display_data"
    },
    {
     "data": {
      "text/html": [
       "<pre style=\"white-space:pre;overflow-x:auto;line-height:normal;font-family:Menlo,'DejaVu Sans Mono',consolas,'Courier New',monospace\"><span style=\"color: #7fbfbf; text-decoration-color: #7fbfbf\">                    </span><span style=\"color: #000080; text-decoration-color: #000080\">INFO    </span> <span style=\"font-weight: bold\">[</span><span style=\"color: #008080; text-decoration-color: #008080; font-weight: bold\">9</span>/<span style=\"color: #008080; text-decoration-color: #008080; font-weight: bold\">380</span><span style=\"font-weight: bold\">]</span> Retrieving game with <span style=\"color: #808000; text-decoration-color: #808000\">id</span>=<span style=\"color: #008080; text-decoration-color: #008080; font-weight: bold\">1549777</span>                               <a href=\"file:///home/morten/.conda/envs/packing-report/lib/python3.10/site-packages/soccerdata/whoscored.py\" target=\"_blank\"><span style=\"color: #7f7f7f; text-decoration-color: #7f7f7f\">whoscored.py</span></a><span style=\"color: #7f7f7f; text-decoration-color: #7f7f7f\">:</span><a href=\"file:///home/morten/.conda/envs/packing-report/lib/python3.10/site-packages/soccerdata/whoscored.py#584\" target=\"_blank\"><span style=\"color: #7f7f7f; text-decoration-color: #7f7f7f\">584</span></a>\n",
       "</pre>\n"
      ],
      "text/plain": [
       "\u001b[2;36m                   \u001b[0m\u001b[2;36m \u001b[0m\u001b[34mINFO    \u001b[0m \u001b[1m[\u001b[0m\u001b[1;36m9\u001b[0m/\u001b[1;36m380\u001b[0m\u001b[1m]\u001b[0m Retrieving game with \u001b[33mid\u001b[0m=\u001b[1;36m1549777\u001b[0m                               \u001b]8;id=124505;file:///home/morten/.conda/envs/packing-report/lib/python3.10/site-packages/soccerdata/whoscored.py\u001b\\\u001b[2mwhoscored.py\u001b[0m\u001b]8;;\u001b\\\u001b[2m:\u001b[0m\u001b]8;id=244451;file:///home/morten/.conda/envs/packing-report/lib/python3.10/site-packages/soccerdata/whoscored.py#584\u001b\\\u001b[2m584\u001b[0m\u001b]8;;\u001b\\\n"
      ]
     },
     "metadata": {},
     "output_type": "display_data"
    },
    {
     "data": {
      "text/html": [
       "<pre style=\"white-space:pre;overflow-x:auto;line-height:normal;font-family:Menlo,'DejaVu Sans Mono',consolas,'Courier New',monospace\"><span style=\"color: #7fbfbf; text-decoration-color: #7fbfbf\">                    </span><span style=\"color: #000080; text-decoration-color: #000080\">INFO    </span> <span style=\"font-weight: bold\">[</span><span style=\"color: #008080; text-decoration-color: #008080; font-weight: bold\">10</span>/<span style=\"color: #008080; text-decoration-color: #008080; font-weight: bold\">380</span><span style=\"font-weight: bold\">]</span> Retrieving game with <span style=\"color: #808000; text-decoration-color: #808000\">id</span>=<span style=\"color: #008080; text-decoration-color: #008080; font-weight: bold\">1549610</span>                              <a href=\"file:///home/morten/.conda/envs/packing-report/lib/python3.10/site-packages/soccerdata/whoscored.py\" target=\"_blank\"><span style=\"color: #7f7f7f; text-decoration-color: #7f7f7f\">whoscored.py</span></a><span style=\"color: #7f7f7f; text-decoration-color: #7f7f7f\">:</span><a href=\"file:///home/morten/.conda/envs/packing-report/lib/python3.10/site-packages/soccerdata/whoscored.py#584\" target=\"_blank\"><span style=\"color: #7f7f7f; text-decoration-color: #7f7f7f\">584</span></a>\n",
       "</pre>\n"
      ],
      "text/plain": [
       "\u001b[2;36m                   \u001b[0m\u001b[2;36m \u001b[0m\u001b[34mINFO    \u001b[0m \u001b[1m[\u001b[0m\u001b[1;36m10\u001b[0m/\u001b[1;36m380\u001b[0m\u001b[1m]\u001b[0m Retrieving game with \u001b[33mid\u001b[0m=\u001b[1;36m1549610\u001b[0m                              \u001b]8;id=6895;file:///home/morten/.conda/envs/packing-report/lib/python3.10/site-packages/soccerdata/whoscored.py\u001b\\\u001b[2mwhoscored.py\u001b[0m\u001b]8;;\u001b\\\u001b[2m:\u001b[0m\u001b]8;id=889971;file:///home/morten/.conda/envs/packing-report/lib/python3.10/site-packages/soccerdata/whoscored.py#584\u001b\\\u001b[2m584\u001b[0m\u001b]8;;\u001b\\\n"
      ]
     },
     "metadata": {},
     "output_type": "display_data"
    },
    {
     "data": {
      "text/html": [
       "<pre style=\"white-space:pre;overflow-x:auto;line-height:normal;font-family:Menlo,'DejaVu Sans Mono',consolas,'Courier New',monospace\"><span style=\"color: #7fbfbf; text-decoration-color: #7fbfbf\">                    </span><span style=\"color: #000080; text-decoration-color: #000080\">INFO    </span> <span style=\"font-weight: bold\">[</span><span style=\"color: #008080; text-decoration-color: #008080; font-weight: bold\">11</span>/<span style=\"color: #008080; text-decoration-color: #008080; font-weight: bold\">380</span><span style=\"font-weight: bold\">]</span> Retrieving game with <span style=\"color: #808000; text-decoration-color: #808000\">id</span>=<span style=\"color: #008080; text-decoration-color: #008080; font-weight: bold\">1549874</span>                              <a href=\"file:///home/morten/.conda/envs/packing-report/lib/python3.10/site-packages/soccerdata/whoscored.py\" target=\"_blank\"><span style=\"color: #7f7f7f; text-decoration-color: #7f7f7f\">whoscored.py</span></a><span style=\"color: #7f7f7f; text-decoration-color: #7f7f7f\">:</span><a href=\"file:///home/morten/.conda/envs/packing-report/lib/python3.10/site-packages/soccerdata/whoscored.py#584\" target=\"_blank\"><span style=\"color: #7f7f7f; text-decoration-color: #7f7f7f\">584</span></a>\n",
       "</pre>\n"
      ],
      "text/plain": [
       "\u001b[2;36m                   \u001b[0m\u001b[2;36m \u001b[0m\u001b[34mINFO    \u001b[0m \u001b[1m[\u001b[0m\u001b[1;36m11\u001b[0m/\u001b[1;36m380\u001b[0m\u001b[1m]\u001b[0m Retrieving game with \u001b[33mid\u001b[0m=\u001b[1;36m1549874\u001b[0m                              \u001b]8;id=493937;file:///home/morten/.conda/envs/packing-report/lib/python3.10/site-packages/soccerdata/whoscored.py\u001b\\\u001b[2mwhoscored.py\u001b[0m\u001b]8;;\u001b\\\u001b[2m:\u001b[0m\u001b]8;id=360051;file:///home/morten/.conda/envs/packing-report/lib/python3.10/site-packages/soccerdata/whoscored.py#584\u001b\\\u001b[2m584\u001b[0m\u001b]8;;\u001b\\\n"
      ]
     },
     "metadata": {},
     "output_type": "display_data"
    },
    {
     "data": {
      "text/html": [
       "<pre style=\"white-space:pre;overflow-x:auto;line-height:normal;font-family:Menlo,'DejaVu Sans Mono',consolas,'Courier New',monospace\"><span style=\"color: #7fbfbf; text-decoration-color: #7fbfbf\">                    </span><span style=\"color: #000080; text-decoration-color: #000080\">INFO    </span> <span style=\"font-weight: bold\">[</span><span style=\"color: #008080; text-decoration-color: #008080; font-weight: bold\">12</span>/<span style=\"color: #008080; text-decoration-color: #008080; font-weight: bold\">380</span><span style=\"font-weight: bold\">]</span> Retrieving game with <span style=\"color: #808000; text-decoration-color: #808000\">id</span>=<span style=\"color: #008080; text-decoration-color: #008080; font-weight: bold\">1549741</span>                              <a href=\"file:///home/morten/.conda/envs/packing-report/lib/python3.10/site-packages/soccerdata/whoscored.py\" target=\"_blank\"><span style=\"color: #7f7f7f; text-decoration-color: #7f7f7f\">whoscored.py</span></a><span style=\"color: #7f7f7f; text-decoration-color: #7f7f7f\">:</span><a href=\"file:///home/morten/.conda/envs/packing-report/lib/python3.10/site-packages/soccerdata/whoscored.py#584\" target=\"_blank\"><span style=\"color: #7f7f7f; text-decoration-color: #7f7f7f\">584</span></a>\n",
       "</pre>\n"
      ],
      "text/plain": [
       "\u001b[2;36m                   \u001b[0m\u001b[2;36m \u001b[0m\u001b[34mINFO    \u001b[0m \u001b[1m[\u001b[0m\u001b[1;36m12\u001b[0m/\u001b[1;36m380\u001b[0m\u001b[1m]\u001b[0m Retrieving game with \u001b[33mid\u001b[0m=\u001b[1;36m1549741\u001b[0m                              \u001b]8;id=358747;file:///home/morten/.conda/envs/packing-report/lib/python3.10/site-packages/soccerdata/whoscored.py\u001b\\\u001b[2mwhoscored.py\u001b[0m\u001b]8;;\u001b\\\u001b[2m:\u001b[0m\u001b]8;id=609603;file:///home/morten/.conda/envs/packing-report/lib/python3.10/site-packages/soccerdata/whoscored.py#584\u001b\\\u001b[2m584\u001b[0m\u001b]8;;\u001b\\\n"
      ]
     },
     "metadata": {},
     "output_type": "display_data"
    },
    {
     "data": {
      "text/html": [
       "<pre style=\"white-space:pre;overflow-x:auto;line-height:normal;font-family:Menlo,'DejaVu Sans Mono',consolas,'Courier New',monospace\"><span style=\"color: #7fbfbf; text-decoration-color: #7fbfbf\">                    </span><span style=\"color: #000080; text-decoration-color: #000080\">INFO    </span> <span style=\"font-weight: bold\">[</span><span style=\"color: #008080; text-decoration-color: #008080; font-weight: bold\">13</span>/<span style=\"color: #008080; text-decoration-color: #008080; font-weight: bold\">380</span><span style=\"font-weight: bold\">]</span> Retrieving game with <span style=\"color: #808000; text-decoration-color: #808000\">id</span>=<span style=\"color: #008080; text-decoration-color: #008080; font-weight: bold\">1549664</span>                              <a href=\"file:///home/morten/.conda/envs/packing-report/lib/python3.10/site-packages/soccerdata/whoscored.py\" target=\"_blank\"><span style=\"color: #7f7f7f; text-decoration-color: #7f7f7f\">whoscored.py</span></a><span style=\"color: #7f7f7f; text-decoration-color: #7f7f7f\">:</span><a href=\"file:///home/morten/.conda/envs/packing-report/lib/python3.10/site-packages/soccerdata/whoscored.py#584\" target=\"_blank\"><span style=\"color: #7f7f7f; text-decoration-color: #7f7f7f\">584</span></a>\n",
       "</pre>\n"
      ],
      "text/plain": [
       "\u001b[2;36m                   \u001b[0m\u001b[2;36m \u001b[0m\u001b[34mINFO    \u001b[0m \u001b[1m[\u001b[0m\u001b[1;36m13\u001b[0m/\u001b[1;36m380\u001b[0m\u001b[1m]\u001b[0m Retrieving game with \u001b[33mid\u001b[0m=\u001b[1;36m1549664\u001b[0m                              \u001b]8;id=375600;file:///home/morten/.conda/envs/packing-report/lib/python3.10/site-packages/soccerdata/whoscored.py\u001b\\\u001b[2mwhoscored.py\u001b[0m\u001b]8;;\u001b\\\u001b[2m:\u001b[0m\u001b]8;id=924563;file:///home/morten/.conda/envs/packing-report/lib/python3.10/site-packages/soccerdata/whoscored.py#584\u001b\\\u001b[2m584\u001b[0m\u001b]8;;\u001b\\\n"
      ]
     },
     "metadata": {},
     "output_type": "display_data"
    },
    {
     "data": {
      "text/html": [
       "<pre style=\"white-space:pre;overflow-x:auto;line-height:normal;font-family:Menlo,'DejaVu Sans Mono',consolas,'Courier New',monospace\"><span style=\"color: #7fbfbf; text-decoration-color: #7fbfbf\">                    </span><span style=\"color: #000080; text-decoration-color: #000080\">INFO    </span> <span style=\"font-weight: bold\">[</span><span style=\"color: #008080; text-decoration-color: #008080; font-weight: bold\">14</span>/<span style=\"color: #008080; text-decoration-color: #008080; font-weight: bold\">380</span><span style=\"font-weight: bold\">]</span> Retrieving game with <span style=\"color: #808000; text-decoration-color: #808000\">id</span>=<span style=\"color: #008080; text-decoration-color: #008080; font-weight: bold\">1549907</span>                              <a href=\"file:///home/morten/.conda/envs/packing-report/lib/python3.10/site-packages/soccerdata/whoscored.py\" target=\"_blank\"><span style=\"color: #7f7f7f; text-decoration-color: #7f7f7f\">whoscored.py</span></a><span style=\"color: #7f7f7f; text-decoration-color: #7f7f7f\">:</span><a href=\"file:///home/morten/.conda/envs/packing-report/lib/python3.10/site-packages/soccerdata/whoscored.py#584\" target=\"_blank\"><span style=\"color: #7f7f7f; text-decoration-color: #7f7f7f\">584</span></a>\n",
       "</pre>\n"
      ],
      "text/plain": [
       "\u001b[2;36m                   \u001b[0m\u001b[2;36m \u001b[0m\u001b[34mINFO    \u001b[0m \u001b[1m[\u001b[0m\u001b[1;36m14\u001b[0m/\u001b[1;36m380\u001b[0m\u001b[1m]\u001b[0m Retrieving game with \u001b[33mid\u001b[0m=\u001b[1;36m1549907\u001b[0m                              \u001b]8;id=967481;file:///home/morten/.conda/envs/packing-report/lib/python3.10/site-packages/soccerdata/whoscored.py\u001b\\\u001b[2mwhoscored.py\u001b[0m\u001b]8;;\u001b\\\u001b[2m:\u001b[0m\u001b]8;id=446741;file:///home/morten/.conda/envs/packing-report/lib/python3.10/site-packages/soccerdata/whoscored.py#584\u001b\\\u001b[2m584\u001b[0m\u001b]8;;\u001b\\\n"
      ]
     },
     "metadata": {},
     "output_type": "display_data"
    },
    {
     "data": {
      "text/html": [
       "<pre style=\"white-space:pre;overflow-x:auto;line-height:normal;font-family:Menlo,'DejaVu Sans Mono',consolas,'Courier New',monospace\"><span style=\"color: #7fbfbf; text-decoration-color: #7fbfbf\">                    </span><span style=\"color: #000080; text-decoration-color: #000080\">INFO    </span> <span style=\"font-weight: bold\">[</span><span style=\"color: #008080; text-decoration-color: #008080; font-weight: bold\">15</span>/<span style=\"color: #008080; text-decoration-color: #008080; font-weight: bold\">380</span><span style=\"font-weight: bold\">]</span> Retrieving game with <span style=\"color: #808000; text-decoration-color: #808000\">id</span>=<span style=\"color: #008080; text-decoration-color: #008080; font-weight: bold\">1549542</span>                              <a href=\"file:///home/morten/.conda/envs/packing-report/lib/python3.10/site-packages/soccerdata/whoscored.py\" target=\"_blank\"><span style=\"color: #7f7f7f; text-decoration-color: #7f7f7f\">whoscored.py</span></a><span style=\"color: #7f7f7f; text-decoration-color: #7f7f7f\">:</span><a href=\"file:///home/morten/.conda/envs/packing-report/lib/python3.10/site-packages/soccerdata/whoscored.py#584\" target=\"_blank\"><span style=\"color: #7f7f7f; text-decoration-color: #7f7f7f\">584</span></a>\n",
       "</pre>\n"
      ],
      "text/plain": [
       "\u001b[2;36m                   \u001b[0m\u001b[2;36m \u001b[0m\u001b[34mINFO    \u001b[0m \u001b[1m[\u001b[0m\u001b[1;36m15\u001b[0m/\u001b[1;36m380\u001b[0m\u001b[1m]\u001b[0m Retrieving game with \u001b[33mid\u001b[0m=\u001b[1;36m1549542\u001b[0m                              \u001b]8;id=635994;file:///home/morten/.conda/envs/packing-report/lib/python3.10/site-packages/soccerdata/whoscored.py\u001b\\\u001b[2mwhoscored.py\u001b[0m\u001b]8;;\u001b\\\u001b[2m:\u001b[0m\u001b]8;id=990878;file:///home/morten/.conda/envs/packing-report/lib/python3.10/site-packages/soccerdata/whoscored.py#584\u001b\\\u001b[2m584\u001b[0m\u001b]8;;\u001b\\\n"
      ]
     },
     "metadata": {},
     "output_type": "display_data"
    },
    {
     "data": {
      "text/html": [
       "<pre style=\"white-space:pre;overflow-x:auto;line-height:normal;font-family:Menlo,'DejaVu Sans Mono',consolas,'Courier New',monospace\"><span style=\"color: #7fbfbf; text-decoration-color: #7fbfbf\">                    </span><span style=\"color: #000080; text-decoration-color: #000080\">INFO    </span> <span style=\"font-weight: bold\">[</span><span style=\"color: #008080; text-decoration-color: #008080; font-weight: bold\">16</span>/<span style=\"color: #008080; text-decoration-color: #008080; font-weight: bold\">380</span><span style=\"font-weight: bold\">]</span> Retrieving game with <span style=\"color: #808000; text-decoration-color: #808000\">id</span>=<span style=\"color: #008080; text-decoration-color: #008080; font-weight: bold\">1549654</span>                              <a href=\"file:///home/morten/.conda/envs/packing-report/lib/python3.10/site-packages/soccerdata/whoscored.py\" target=\"_blank\"><span style=\"color: #7f7f7f; text-decoration-color: #7f7f7f\">whoscored.py</span></a><span style=\"color: #7f7f7f; text-decoration-color: #7f7f7f\">:</span><a href=\"file:///home/morten/.conda/envs/packing-report/lib/python3.10/site-packages/soccerdata/whoscored.py#584\" target=\"_blank\"><span style=\"color: #7f7f7f; text-decoration-color: #7f7f7f\">584</span></a>\n",
       "</pre>\n"
      ],
      "text/plain": [
       "\u001b[2;36m                   \u001b[0m\u001b[2;36m \u001b[0m\u001b[34mINFO    \u001b[0m \u001b[1m[\u001b[0m\u001b[1;36m16\u001b[0m/\u001b[1;36m380\u001b[0m\u001b[1m]\u001b[0m Retrieving game with \u001b[33mid\u001b[0m=\u001b[1;36m1549654\u001b[0m                              \u001b]8;id=967237;file:///home/morten/.conda/envs/packing-report/lib/python3.10/site-packages/soccerdata/whoscored.py\u001b\\\u001b[2mwhoscored.py\u001b[0m\u001b]8;;\u001b\\\u001b[2m:\u001b[0m\u001b]8;id=564621;file:///home/morten/.conda/envs/packing-report/lib/python3.10/site-packages/soccerdata/whoscored.py#584\u001b\\\u001b[2m584\u001b[0m\u001b]8;;\u001b\\\n"
      ]
     },
     "metadata": {},
     "output_type": "display_data"
    },
    {
     "data": {
      "text/html": [
       "<pre style=\"white-space:pre;overflow-x:auto;line-height:normal;font-family:Menlo,'DejaVu Sans Mono',consolas,'Courier New',monospace\"><span style=\"color: #7fbfbf; text-decoration-color: #7fbfbf\">                    </span><span style=\"color: #000080; text-decoration-color: #000080\">INFO    </span> <span style=\"font-weight: bold\">[</span><span style=\"color: #008080; text-decoration-color: #008080; font-weight: bold\">17</span>/<span style=\"color: #008080; text-decoration-color: #008080; font-weight: bold\">380</span><span style=\"font-weight: bold\">]</span> Retrieving game with <span style=\"color: #808000; text-decoration-color: #808000\">id</span>=<span style=\"color: #008080; text-decoration-color: #008080; font-weight: bold\">1549751</span>                              <a href=\"file:///home/morten/.conda/envs/packing-report/lib/python3.10/site-packages/soccerdata/whoscored.py\" target=\"_blank\"><span style=\"color: #7f7f7f; text-decoration-color: #7f7f7f\">whoscored.py</span></a><span style=\"color: #7f7f7f; text-decoration-color: #7f7f7f\">:</span><a href=\"file:///home/morten/.conda/envs/packing-report/lib/python3.10/site-packages/soccerdata/whoscored.py#584\" target=\"_blank\"><span style=\"color: #7f7f7f; text-decoration-color: #7f7f7f\">584</span></a>\n",
       "</pre>\n"
      ],
      "text/plain": [
       "\u001b[2;36m                   \u001b[0m\u001b[2;36m \u001b[0m\u001b[34mINFO    \u001b[0m \u001b[1m[\u001b[0m\u001b[1;36m17\u001b[0m/\u001b[1;36m380\u001b[0m\u001b[1m]\u001b[0m Retrieving game with \u001b[33mid\u001b[0m=\u001b[1;36m1549751\u001b[0m                              \u001b]8;id=310027;file:///home/morten/.conda/envs/packing-report/lib/python3.10/site-packages/soccerdata/whoscored.py\u001b\\\u001b[2mwhoscored.py\u001b[0m\u001b]8;;\u001b\\\u001b[2m:\u001b[0m\u001b]8;id=133562;file:///home/morten/.conda/envs/packing-report/lib/python3.10/site-packages/soccerdata/whoscored.py#584\u001b\\\u001b[2m584\u001b[0m\u001b]8;;\u001b\\\n"
      ]
     },
     "metadata": {},
     "output_type": "display_data"
    },
    {
     "data": {
      "text/html": [
       "<pre style=\"white-space:pre;overflow-x:auto;line-height:normal;font-family:Menlo,'DejaVu Sans Mono',consolas,'Courier New',monospace\"><span style=\"color: #7fbfbf; text-decoration-color: #7fbfbf\">                    </span><span style=\"color: #000080; text-decoration-color: #000080\">INFO    </span> <span style=\"font-weight: bold\">[</span><span style=\"color: #008080; text-decoration-color: #008080; font-weight: bold\">18</span>/<span style=\"color: #008080; text-decoration-color: #008080; font-weight: bold\">380</span><span style=\"font-weight: bold\">]</span> Retrieving game with <span style=\"color: #808000; text-decoration-color: #808000\">id</span>=<span style=\"color: #008080; text-decoration-color: #008080; font-weight: bold\">1549828</span>                              <a href=\"file:///home/morten/.conda/envs/packing-report/lib/python3.10/site-packages/soccerdata/whoscored.py\" target=\"_blank\"><span style=\"color: #7f7f7f; text-decoration-color: #7f7f7f\">whoscored.py</span></a><span style=\"color: #7f7f7f; text-decoration-color: #7f7f7f\">:</span><a href=\"file:///home/morten/.conda/envs/packing-report/lib/python3.10/site-packages/soccerdata/whoscored.py#584\" target=\"_blank\"><span style=\"color: #7f7f7f; text-decoration-color: #7f7f7f\">584</span></a>\n",
       "</pre>\n"
      ],
      "text/plain": [
       "\u001b[2;36m                   \u001b[0m\u001b[2;36m \u001b[0m\u001b[34mINFO    \u001b[0m \u001b[1m[\u001b[0m\u001b[1;36m18\u001b[0m/\u001b[1;36m380\u001b[0m\u001b[1m]\u001b[0m Retrieving game with \u001b[33mid\u001b[0m=\u001b[1;36m1549828\u001b[0m                              \u001b]8;id=531790;file:///home/morten/.conda/envs/packing-report/lib/python3.10/site-packages/soccerdata/whoscored.py\u001b\\\u001b[2mwhoscored.py\u001b[0m\u001b]8;;\u001b\\\u001b[2m:\u001b[0m\u001b]8;id=406534;file:///home/morten/.conda/envs/packing-report/lib/python3.10/site-packages/soccerdata/whoscored.py#584\u001b\\\u001b[2m584\u001b[0m\u001b]8;;\u001b\\\n"
      ]
     },
     "metadata": {},
     "output_type": "display_data"
    },
    {
     "data": {
      "text/html": [
       "<pre style=\"white-space:pre;overflow-x:auto;line-height:normal;font-family:Menlo,'DejaVu Sans Mono',consolas,'Courier New',monospace\"><span style=\"color: #7fbfbf; text-decoration-color: #7fbfbf\">                    </span><span style=\"color: #000080; text-decoration-color: #000080\">INFO    </span> <span style=\"font-weight: bold\">[</span><span style=\"color: #008080; text-decoration-color: #008080; font-weight: bold\">19</span>/<span style=\"color: #008080; text-decoration-color: #008080; font-weight: bold\">380</span><span style=\"font-weight: bold\">]</span> Retrieving game with <span style=\"color: #808000; text-decoration-color: #808000\">id</span>=<span style=\"color: #008080; text-decoration-color: #008080; font-weight: bold\">1549861</span>                              <a href=\"file:///home/morten/.conda/envs/packing-report/lib/python3.10/site-packages/soccerdata/whoscored.py\" target=\"_blank\"><span style=\"color: #7f7f7f; text-decoration-color: #7f7f7f\">whoscored.py</span></a><span style=\"color: #7f7f7f; text-decoration-color: #7f7f7f\">:</span><a href=\"file:///home/morten/.conda/envs/packing-report/lib/python3.10/site-packages/soccerdata/whoscored.py#584\" target=\"_blank\"><span style=\"color: #7f7f7f; text-decoration-color: #7f7f7f\">584</span></a>\n",
       "</pre>\n"
      ],
      "text/plain": [
       "\u001b[2;36m                   \u001b[0m\u001b[2;36m \u001b[0m\u001b[34mINFO    \u001b[0m \u001b[1m[\u001b[0m\u001b[1;36m19\u001b[0m/\u001b[1;36m380\u001b[0m\u001b[1m]\u001b[0m Retrieving game with \u001b[33mid\u001b[0m=\u001b[1;36m1549861\u001b[0m                              \u001b]8;id=43914;file:///home/morten/.conda/envs/packing-report/lib/python3.10/site-packages/soccerdata/whoscored.py\u001b\\\u001b[2mwhoscored.py\u001b[0m\u001b]8;;\u001b\\\u001b[2m:\u001b[0m\u001b]8;id=273962;file:///home/morten/.conda/envs/packing-report/lib/python3.10/site-packages/soccerdata/whoscored.py#584\u001b\\\u001b[2m584\u001b[0m\u001b]8;;\u001b\\\n"
      ]
     },
     "metadata": {},
     "output_type": "display_data"
    },
    {
     "data": {
      "text/html": [
       "<pre style=\"white-space:pre;overflow-x:auto;line-height:normal;font-family:Menlo,'DejaVu Sans Mono',consolas,'Courier New',monospace\"><span style=\"color: #7fbfbf; text-decoration-color: #7fbfbf\">                    </span><span style=\"color: #000080; text-decoration-color: #000080\">INFO    </span> <span style=\"font-weight: bold\">[</span><span style=\"color: #008080; text-decoration-color: #008080; font-weight: bold\">20</span>/<span style=\"color: #008080; text-decoration-color: #008080; font-weight: bold\">380</span><span style=\"font-weight: bold\">]</span> Retrieving game with <span style=\"color: #808000; text-decoration-color: #808000\">id</span>=<span style=\"color: #008080; text-decoration-color: #008080; font-weight: bold\">1549573</span>                              <a href=\"file:///home/morten/.conda/envs/packing-report/lib/python3.10/site-packages/soccerdata/whoscored.py\" target=\"_blank\"><span style=\"color: #7f7f7f; text-decoration-color: #7f7f7f\">whoscored.py</span></a><span style=\"color: #7f7f7f; text-decoration-color: #7f7f7f\">:</span><a href=\"file:///home/morten/.conda/envs/packing-report/lib/python3.10/site-packages/soccerdata/whoscored.py#584\" target=\"_blank\"><span style=\"color: #7f7f7f; text-decoration-color: #7f7f7f\">584</span></a>\n",
       "</pre>\n"
      ],
      "text/plain": [
       "\u001b[2;36m                   \u001b[0m\u001b[2;36m \u001b[0m\u001b[34mINFO    \u001b[0m \u001b[1m[\u001b[0m\u001b[1;36m20\u001b[0m/\u001b[1;36m380\u001b[0m\u001b[1m]\u001b[0m Retrieving game with \u001b[33mid\u001b[0m=\u001b[1;36m1549573\u001b[0m                              \u001b]8;id=460944;file:///home/morten/.conda/envs/packing-report/lib/python3.10/site-packages/soccerdata/whoscored.py\u001b\\\u001b[2mwhoscored.py\u001b[0m\u001b]8;;\u001b\\\u001b[2m:\u001b[0m\u001b]8;id=956079;file:///home/morten/.conda/envs/packing-report/lib/python3.10/site-packages/soccerdata/whoscored.py#584\u001b\\\u001b[2m584\u001b[0m\u001b]8;;\u001b\\\n"
      ]
     },
     "metadata": {},
     "output_type": "display_data"
    },
    {
     "data": {
      "text/html": [
       "<pre style=\"white-space:pre;overflow-x:auto;line-height:normal;font-family:Menlo,'DejaVu Sans Mono',consolas,'Courier New',monospace\"><span style=\"color: #7fbfbf; text-decoration-color: #7fbfbf\">                    </span><span style=\"color: #000080; text-decoration-color: #000080\">INFO    </span> <span style=\"font-weight: bold\">[</span><span style=\"color: #008080; text-decoration-color: #008080; font-weight: bold\">21</span>/<span style=\"color: #008080; text-decoration-color: #008080; font-weight: bold\">380</span><span style=\"font-weight: bold\">]</span> Retrieving game with <span style=\"color: #808000; text-decoration-color: #808000\">id</span>=<span style=\"color: #008080; text-decoration-color: #008080; font-weight: bold\">1549847</span>                              <a href=\"file:///home/morten/.conda/envs/packing-report/lib/python3.10/site-packages/soccerdata/whoscored.py\" target=\"_blank\"><span style=\"color: #7f7f7f; text-decoration-color: #7f7f7f\">whoscored.py</span></a><span style=\"color: #7f7f7f; text-decoration-color: #7f7f7f\">:</span><a href=\"file:///home/morten/.conda/envs/packing-report/lib/python3.10/site-packages/soccerdata/whoscored.py#584\" target=\"_blank\"><span style=\"color: #7f7f7f; text-decoration-color: #7f7f7f\">584</span></a>\n",
       "</pre>\n"
      ],
      "text/plain": [
       "\u001b[2;36m                   \u001b[0m\u001b[2;36m \u001b[0m\u001b[34mINFO    \u001b[0m \u001b[1m[\u001b[0m\u001b[1;36m21\u001b[0m/\u001b[1;36m380\u001b[0m\u001b[1m]\u001b[0m Retrieving game with \u001b[33mid\u001b[0m=\u001b[1;36m1549847\u001b[0m                              \u001b]8;id=788617;file:///home/morten/.conda/envs/packing-report/lib/python3.10/site-packages/soccerdata/whoscored.py\u001b\\\u001b[2mwhoscored.py\u001b[0m\u001b]8;;\u001b\\\u001b[2m:\u001b[0m\u001b]8;id=558604;file:///home/morten/.conda/envs/packing-report/lib/python3.10/site-packages/soccerdata/whoscored.py#584\u001b\\\u001b[2m584\u001b[0m\u001b]8;;\u001b\\\n"
      ]
     },
     "metadata": {},
     "output_type": "display_data"
    },
    {
     "data": {
      "text/html": [
       "<pre style=\"white-space:pre;overflow-x:auto;line-height:normal;font-family:Menlo,'DejaVu Sans Mono',consolas,'Courier New',monospace\"><span style=\"color: #7fbfbf; text-decoration-color: #7fbfbf\">                    </span><span style=\"color: #000080; text-decoration-color: #000080\">INFO    </span> <span style=\"font-weight: bold\">[</span><span style=\"color: #008080; text-decoration-color: #008080; font-weight: bold\">22</span>/<span style=\"color: #008080; text-decoration-color: #008080; font-weight: bold\">380</span><span style=\"font-weight: bold\">]</span> Retrieving game with <span style=\"color: #808000; text-decoration-color: #808000\">id</span>=<span style=\"color: #008080; text-decoration-color: #008080; font-weight: bold\">1549586</span>                              <a href=\"file:///home/morten/.conda/envs/packing-report/lib/python3.10/site-packages/soccerdata/whoscored.py\" target=\"_blank\"><span style=\"color: #7f7f7f; text-decoration-color: #7f7f7f\">whoscored.py</span></a><span style=\"color: #7f7f7f; text-decoration-color: #7f7f7f\">:</span><a href=\"file:///home/morten/.conda/envs/packing-report/lib/python3.10/site-packages/soccerdata/whoscored.py#584\" target=\"_blank\"><span style=\"color: #7f7f7f; text-decoration-color: #7f7f7f\">584</span></a>\n",
       "</pre>\n"
      ],
      "text/plain": [
       "\u001b[2;36m                   \u001b[0m\u001b[2;36m \u001b[0m\u001b[34mINFO    \u001b[0m \u001b[1m[\u001b[0m\u001b[1;36m22\u001b[0m/\u001b[1;36m380\u001b[0m\u001b[1m]\u001b[0m Retrieving game with \u001b[33mid\u001b[0m=\u001b[1;36m1549586\u001b[0m                              \u001b]8;id=103487;file:///home/morten/.conda/envs/packing-report/lib/python3.10/site-packages/soccerdata/whoscored.py\u001b\\\u001b[2mwhoscored.py\u001b[0m\u001b]8;;\u001b\\\u001b[2m:\u001b[0m\u001b]8;id=321880;file:///home/morten/.conda/envs/packing-report/lib/python3.10/site-packages/soccerdata/whoscored.py#584\u001b\\\u001b[2m584\u001b[0m\u001b]8;;\u001b\\\n"
      ]
     },
     "metadata": {},
     "output_type": "display_data"
    },
    {
     "data": {
      "text/html": [
       "<pre style=\"white-space:pre;overflow-x:auto;line-height:normal;font-family:Menlo,'DejaVu Sans Mono',consolas,'Courier New',monospace\"><span style=\"color: #7fbfbf; text-decoration-color: #7fbfbf\">                    </span><span style=\"color: #000080; text-decoration-color: #000080\">INFO    </span> <span style=\"font-weight: bold\">[</span><span style=\"color: #008080; text-decoration-color: #008080; font-weight: bold\">23</span>/<span style=\"color: #008080; text-decoration-color: #008080; font-weight: bold\">380</span><span style=\"font-weight: bold\">]</span> Retrieving game with <span style=\"color: #808000; text-decoration-color: #808000\">id</span>=<span style=\"color: #008080; text-decoration-color: #008080; font-weight: bold\">1549786</span>                              <a href=\"file:///home/morten/.conda/envs/packing-report/lib/python3.10/site-packages/soccerdata/whoscored.py\" target=\"_blank\"><span style=\"color: #7f7f7f; text-decoration-color: #7f7f7f\">whoscored.py</span></a><span style=\"color: #7f7f7f; text-decoration-color: #7f7f7f\">:</span><a href=\"file:///home/morten/.conda/envs/packing-report/lib/python3.10/site-packages/soccerdata/whoscored.py#584\" target=\"_blank\"><span style=\"color: #7f7f7f; text-decoration-color: #7f7f7f\">584</span></a>\n",
       "</pre>\n"
      ],
      "text/plain": [
       "\u001b[2;36m                   \u001b[0m\u001b[2;36m \u001b[0m\u001b[34mINFO    \u001b[0m \u001b[1m[\u001b[0m\u001b[1;36m23\u001b[0m/\u001b[1;36m380\u001b[0m\u001b[1m]\u001b[0m Retrieving game with \u001b[33mid\u001b[0m=\u001b[1;36m1549786\u001b[0m                              \u001b]8;id=191088;file:///home/morten/.conda/envs/packing-report/lib/python3.10/site-packages/soccerdata/whoscored.py\u001b\\\u001b[2mwhoscored.py\u001b[0m\u001b]8;;\u001b\\\u001b[2m:\u001b[0m\u001b]8;id=141920;file:///home/morten/.conda/envs/packing-report/lib/python3.10/site-packages/soccerdata/whoscored.py#584\u001b\\\u001b[2m584\u001b[0m\u001b]8;;\u001b\\\n"
      ]
     },
     "metadata": {},
     "output_type": "display_data"
    },
    {
     "data": {
      "text/html": [
       "<pre style=\"white-space:pre;overflow-x:auto;line-height:normal;font-family:Menlo,'DejaVu Sans Mono',consolas,'Courier New',monospace\"><span style=\"color: #7fbfbf; text-decoration-color: #7fbfbf\">                    </span><span style=\"color: #000080; text-decoration-color: #000080\">INFO    </span> <span style=\"font-weight: bold\">[</span><span style=\"color: #008080; text-decoration-color: #008080; font-weight: bold\">24</span>/<span style=\"color: #008080; text-decoration-color: #008080; font-weight: bold\">380</span><span style=\"font-weight: bold\">]</span> Retrieving game with <span style=\"color: #808000; text-decoration-color: #808000\">id</span>=<span style=\"color: #008080; text-decoration-color: #008080; font-weight: bold\">1549640</span>                              <a href=\"file:///home/morten/.conda/envs/packing-report/lib/python3.10/site-packages/soccerdata/whoscored.py\" target=\"_blank\"><span style=\"color: #7f7f7f; text-decoration-color: #7f7f7f\">whoscored.py</span></a><span style=\"color: #7f7f7f; text-decoration-color: #7f7f7f\">:</span><a href=\"file:///home/morten/.conda/envs/packing-report/lib/python3.10/site-packages/soccerdata/whoscored.py#584\" target=\"_blank\"><span style=\"color: #7f7f7f; text-decoration-color: #7f7f7f\">584</span></a>\n",
       "</pre>\n"
      ],
      "text/plain": [
       "\u001b[2;36m                   \u001b[0m\u001b[2;36m \u001b[0m\u001b[34mINFO    \u001b[0m \u001b[1m[\u001b[0m\u001b[1;36m24\u001b[0m/\u001b[1;36m380\u001b[0m\u001b[1m]\u001b[0m Retrieving game with \u001b[33mid\u001b[0m=\u001b[1;36m1549640\u001b[0m                              \u001b]8;id=278121;file:///home/morten/.conda/envs/packing-report/lib/python3.10/site-packages/soccerdata/whoscored.py\u001b\\\u001b[2mwhoscored.py\u001b[0m\u001b]8;;\u001b\\\u001b[2m:\u001b[0m\u001b]8;id=21612;file:///home/morten/.conda/envs/packing-report/lib/python3.10/site-packages/soccerdata/whoscored.py#584\u001b\\\u001b[2m584\u001b[0m\u001b]8;;\u001b\\\n"
      ]
     },
     "metadata": {},
     "output_type": "display_data"
    },
    {
     "data": {
      "text/html": [
       "<pre style=\"white-space:pre;overflow-x:auto;line-height:normal;font-family:Menlo,'DejaVu Sans Mono',consolas,'Courier New',monospace\"><span style=\"color: #7fbfbf; text-decoration-color: #7fbfbf\">                    </span><span style=\"color: #000080; text-decoration-color: #000080\">INFO    </span> <span style=\"font-weight: bold\">[</span><span style=\"color: #008080; text-decoration-color: #008080; font-weight: bold\">25</span>/<span style=\"color: #008080; text-decoration-color: #008080; font-weight: bold\">380</span><span style=\"font-weight: bold\">]</span> Retrieving game with <span style=\"color: #808000; text-decoration-color: #808000\">id</span>=<span style=\"color: #008080; text-decoration-color: #008080; font-weight: bold\">1549883</span>                              <a href=\"file:///home/morten/.conda/envs/packing-report/lib/python3.10/site-packages/soccerdata/whoscored.py\" target=\"_blank\"><span style=\"color: #7f7f7f; text-decoration-color: #7f7f7f\">whoscored.py</span></a><span style=\"color: #7f7f7f; text-decoration-color: #7f7f7f\">:</span><a href=\"file:///home/morten/.conda/envs/packing-report/lib/python3.10/site-packages/soccerdata/whoscored.py#584\" target=\"_blank\"><span style=\"color: #7f7f7f; text-decoration-color: #7f7f7f\">584</span></a>\n",
       "</pre>\n"
      ],
      "text/plain": [
       "\u001b[2;36m                   \u001b[0m\u001b[2;36m \u001b[0m\u001b[34mINFO    \u001b[0m \u001b[1m[\u001b[0m\u001b[1;36m25\u001b[0m/\u001b[1;36m380\u001b[0m\u001b[1m]\u001b[0m Retrieving game with \u001b[33mid\u001b[0m=\u001b[1;36m1549883\u001b[0m                              \u001b]8;id=718236;file:///home/morten/.conda/envs/packing-report/lib/python3.10/site-packages/soccerdata/whoscored.py\u001b\\\u001b[2mwhoscored.py\u001b[0m\u001b]8;;\u001b\\\u001b[2m:\u001b[0m\u001b]8;id=519652;file:///home/morten/.conda/envs/packing-report/lib/python3.10/site-packages/soccerdata/whoscored.py#584\u001b\\\u001b[2m584\u001b[0m\u001b]8;;\u001b\\\n"
      ]
     },
     "metadata": {},
     "output_type": "display_data"
    },
    {
     "data": {
      "text/html": [
       "<pre style=\"white-space:pre;overflow-x:auto;line-height:normal;font-family:Menlo,'DejaVu Sans Mono',consolas,'Courier New',monospace\"><span style=\"color: #7fbfbf; text-decoration-color: #7fbfbf\">[10/02/22 17:51:55] </span><span style=\"color: #000080; text-decoration-color: #000080\">INFO    </span> <span style=\"font-weight: bold\">[</span><span style=\"color: #008080; text-decoration-color: #008080; font-weight: bold\">26</span>/<span style=\"color: #008080; text-decoration-color: #008080; font-weight: bold\">380</span><span style=\"font-weight: bold\">]</span> Retrieving game with <span style=\"color: #808000; text-decoration-color: #808000\">id</span>=<span style=\"color: #008080; text-decoration-color: #008080; font-weight: bold\">1549547</span>                              <a href=\"file:///home/morten/.conda/envs/packing-report/lib/python3.10/site-packages/soccerdata/whoscored.py\" target=\"_blank\"><span style=\"color: #7f7f7f; text-decoration-color: #7f7f7f\">whoscored.py</span></a><span style=\"color: #7f7f7f; text-decoration-color: #7f7f7f\">:</span><a href=\"file:///home/morten/.conda/envs/packing-report/lib/python3.10/site-packages/soccerdata/whoscored.py#584\" target=\"_blank\"><span style=\"color: #7f7f7f; text-decoration-color: #7f7f7f\">584</span></a>\n",
       "</pre>\n"
      ],
      "text/plain": [
       "\u001b[2;36m[10/02/22 17:51:55]\u001b[0m\u001b[2;36m \u001b[0m\u001b[34mINFO    \u001b[0m \u001b[1m[\u001b[0m\u001b[1;36m26\u001b[0m/\u001b[1;36m380\u001b[0m\u001b[1m]\u001b[0m Retrieving game with \u001b[33mid\u001b[0m=\u001b[1;36m1549547\u001b[0m                              \u001b]8;id=888301;file:///home/morten/.conda/envs/packing-report/lib/python3.10/site-packages/soccerdata/whoscored.py\u001b\\\u001b[2mwhoscored.py\u001b[0m\u001b]8;;\u001b\\\u001b[2m:\u001b[0m\u001b]8;id=507975;file:///home/morten/.conda/envs/packing-report/lib/python3.10/site-packages/soccerdata/whoscored.py#584\u001b\\\u001b[2m584\u001b[0m\u001b]8;;\u001b\\\n"
      ]
     },
     "metadata": {},
     "output_type": "display_data"
    },
    {
     "data": {
      "text/html": [
       "<pre style=\"white-space:pre;overflow-x:auto;line-height:normal;font-family:Menlo,'DejaVu Sans Mono',consolas,'Courier New',monospace\"><span style=\"color: #7fbfbf; text-decoration-color: #7fbfbf\">                    </span><span style=\"color: #000080; text-decoration-color: #000080\">INFO    </span> <span style=\"font-weight: bold\">[</span><span style=\"color: #008080; text-decoration-color: #008080; font-weight: bold\">27</span>/<span style=\"color: #008080; text-decoration-color: #008080; font-weight: bold\">380</span><span style=\"font-weight: bold\">]</span> Retrieving game with <span style=\"color: #808000; text-decoration-color: #808000\">id</span>=<span style=\"color: #008080; text-decoration-color: #008080; font-weight: bold\">1549655</span>                              <a href=\"file:///home/morten/.conda/envs/packing-report/lib/python3.10/site-packages/soccerdata/whoscored.py\" target=\"_blank\"><span style=\"color: #7f7f7f; text-decoration-color: #7f7f7f\">whoscored.py</span></a><span style=\"color: #7f7f7f; text-decoration-color: #7f7f7f\">:</span><a href=\"file:///home/morten/.conda/envs/packing-report/lib/python3.10/site-packages/soccerdata/whoscored.py#584\" target=\"_blank\"><span style=\"color: #7f7f7f; text-decoration-color: #7f7f7f\">584</span></a>\n",
       "</pre>\n"
      ],
      "text/plain": [
       "\u001b[2;36m                   \u001b[0m\u001b[2;36m \u001b[0m\u001b[34mINFO    \u001b[0m \u001b[1m[\u001b[0m\u001b[1;36m27\u001b[0m/\u001b[1;36m380\u001b[0m\u001b[1m]\u001b[0m Retrieving game with \u001b[33mid\u001b[0m=\u001b[1;36m1549655\u001b[0m                              \u001b]8;id=183136;file:///home/morten/.conda/envs/packing-report/lib/python3.10/site-packages/soccerdata/whoscored.py\u001b\\\u001b[2mwhoscored.py\u001b[0m\u001b]8;;\u001b\\\u001b[2m:\u001b[0m\u001b]8;id=931368;file:///home/morten/.conda/envs/packing-report/lib/python3.10/site-packages/soccerdata/whoscored.py#584\u001b\\\u001b[2m584\u001b[0m\u001b]8;;\u001b\\\n"
      ]
     },
     "metadata": {},
     "output_type": "display_data"
    },
    {
     "data": {
      "text/html": [
       "<pre style=\"white-space:pre;overflow-x:auto;line-height:normal;font-family:Menlo,'DejaVu Sans Mono',consolas,'Courier New',monospace\"><span style=\"color: #7fbfbf; text-decoration-color: #7fbfbf\">                    </span><span style=\"color: #000080; text-decoration-color: #000080\">INFO    </span> <span style=\"font-weight: bold\">[</span><span style=\"color: #008080; text-decoration-color: #008080; font-weight: bold\">28</span>/<span style=\"color: #008080; text-decoration-color: #008080; font-weight: bold\">380</span><span style=\"font-weight: bold\">]</span> Retrieving game with <span style=\"color: #808000; text-decoration-color: #808000\">id</span>=<span style=\"color: #008080; text-decoration-color: #008080; font-weight: bold\">1549620</span>                              <a href=\"file:///home/morten/.conda/envs/packing-report/lib/python3.10/site-packages/soccerdata/whoscored.py\" target=\"_blank\"><span style=\"color: #7f7f7f; text-decoration-color: #7f7f7f\">whoscored.py</span></a><span style=\"color: #7f7f7f; text-decoration-color: #7f7f7f\">:</span><a href=\"file:///home/morten/.conda/envs/packing-report/lib/python3.10/site-packages/soccerdata/whoscored.py#584\" target=\"_blank\"><span style=\"color: #7f7f7f; text-decoration-color: #7f7f7f\">584</span></a>\n",
       "</pre>\n"
      ],
      "text/plain": [
       "\u001b[2;36m                   \u001b[0m\u001b[2;36m \u001b[0m\u001b[34mINFO    \u001b[0m \u001b[1m[\u001b[0m\u001b[1;36m28\u001b[0m/\u001b[1;36m380\u001b[0m\u001b[1m]\u001b[0m Retrieving game with \u001b[33mid\u001b[0m=\u001b[1;36m1549620\u001b[0m                              \u001b]8;id=400642;file:///home/morten/.conda/envs/packing-report/lib/python3.10/site-packages/soccerdata/whoscored.py\u001b\\\u001b[2mwhoscored.py\u001b[0m\u001b]8;;\u001b\\\u001b[2m:\u001b[0m\u001b]8;id=309398;file:///home/morten/.conda/envs/packing-report/lib/python3.10/site-packages/soccerdata/whoscored.py#584\u001b\\\u001b[2m584\u001b[0m\u001b]8;;\u001b\\\n"
      ]
     },
     "metadata": {},
     "output_type": "display_data"
    },
    {
     "data": {
      "text/html": [
       "<pre style=\"white-space:pre;overflow-x:auto;line-height:normal;font-family:Menlo,'DejaVu Sans Mono',consolas,'Courier New',monospace\"><span style=\"color: #7fbfbf; text-decoration-color: #7fbfbf\">                    </span><span style=\"color: #000080; text-decoration-color: #000080\">INFO    </span> <span style=\"font-weight: bold\">[</span><span style=\"color: #008080; text-decoration-color: #008080; font-weight: bold\">29</span>/<span style=\"color: #008080; text-decoration-color: #008080; font-weight: bold\">380</span><span style=\"font-weight: bold\">]</span> Retrieving game with <span style=\"color: #808000; text-decoration-color: #808000\">id</span>=<span style=\"color: #008080; text-decoration-color: #008080; font-weight: bold\">1549894</span>                              <a href=\"file:///home/morten/.conda/envs/packing-report/lib/python3.10/site-packages/soccerdata/whoscored.py\" target=\"_blank\"><span style=\"color: #7f7f7f; text-decoration-color: #7f7f7f\">whoscored.py</span></a><span style=\"color: #7f7f7f; text-decoration-color: #7f7f7f\">:</span><a href=\"file:///home/morten/.conda/envs/packing-report/lib/python3.10/site-packages/soccerdata/whoscored.py#584\" target=\"_blank\"><span style=\"color: #7f7f7f; text-decoration-color: #7f7f7f\">584</span></a>\n",
       "</pre>\n"
      ],
      "text/plain": [
       "\u001b[2;36m                   \u001b[0m\u001b[2;36m \u001b[0m\u001b[34mINFO    \u001b[0m \u001b[1m[\u001b[0m\u001b[1;36m29\u001b[0m/\u001b[1;36m380\u001b[0m\u001b[1m]\u001b[0m Retrieving game with \u001b[33mid\u001b[0m=\u001b[1;36m1549894\u001b[0m                              \u001b]8;id=573593;file:///home/morten/.conda/envs/packing-report/lib/python3.10/site-packages/soccerdata/whoscored.py\u001b\\\u001b[2mwhoscored.py\u001b[0m\u001b]8;;\u001b\\\u001b[2m:\u001b[0m\u001b]8;id=546757;file:///home/morten/.conda/envs/packing-report/lib/python3.10/site-packages/soccerdata/whoscored.py#584\u001b\\\u001b[2m584\u001b[0m\u001b]8;;\u001b\\\n"
      ]
     },
     "metadata": {},
     "output_type": "display_data"
    },
    {
     "data": {
      "text/html": [
       "<pre style=\"white-space:pre;overflow-x:auto;line-height:normal;font-family:Menlo,'DejaVu Sans Mono',consolas,'Courier New',monospace\"><span style=\"color: #7fbfbf; text-decoration-color: #7fbfbf\">                    </span><span style=\"color: #000080; text-decoration-color: #000080\">INFO    </span> <span style=\"font-weight: bold\">[</span><span style=\"color: #008080; text-decoration-color: #008080; font-weight: bold\">30</span>/<span style=\"color: #008080; text-decoration-color: #008080; font-weight: bold\">380</span><span style=\"font-weight: bold\">]</span> Retrieving game with <span style=\"color: #808000; text-decoration-color: #808000\">id</span>=<span style=\"color: #008080; text-decoration-color: #008080; font-weight: bold\">1549700</span>                              <a href=\"file:///home/morten/.conda/envs/packing-report/lib/python3.10/site-packages/soccerdata/whoscored.py\" target=\"_blank\"><span style=\"color: #7f7f7f; text-decoration-color: #7f7f7f\">whoscored.py</span></a><span style=\"color: #7f7f7f; text-decoration-color: #7f7f7f\">:</span><a href=\"file:///home/morten/.conda/envs/packing-report/lib/python3.10/site-packages/soccerdata/whoscored.py#584\" target=\"_blank\"><span style=\"color: #7f7f7f; text-decoration-color: #7f7f7f\">584</span></a>\n",
       "</pre>\n"
      ],
      "text/plain": [
       "\u001b[2;36m                   \u001b[0m\u001b[2;36m \u001b[0m\u001b[34mINFO    \u001b[0m \u001b[1m[\u001b[0m\u001b[1;36m30\u001b[0m/\u001b[1;36m380\u001b[0m\u001b[1m]\u001b[0m Retrieving game with \u001b[33mid\u001b[0m=\u001b[1;36m1549700\u001b[0m                              \u001b]8;id=778758;file:///home/morten/.conda/envs/packing-report/lib/python3.10/site-packages/soccerdata/whoscored.py\u001b\\\u001b[2mwhoscored.py\u001b[0m\u001b]8;;\u001b\\\u001b[2m:\u001b[0m\u001b]8;id=13143;file:///home/morten/.conda/envs/packing-report/lib/python3.10/site-packages/soccerdata/whoscored.py#584\u001b\\\u001b[2m584\u001b[0m\u001b]8;;\u001b\\\n"
      ]
     },
     "metadata": {},
     "output_type": "display_data"
    },
    {
     "data": {
      "text/html": [
       "<pre style=\"white-space:pre;overflow-x:auto;line-height:normal;font-family:Menlo,'DejaVu Sans Mono',consolas,'Courier New',monospace\"><span style=\"color: #7fbfbf; text-decoration-color: #7fbfbf\">                    </span><span style=\"color: #000080; text-decoration-color: #000080\">INFO    </span> <span style=\"font-weight: bold\">[</span><span style=\"color: #008080; text-decoration-color: #008080; font-weight: bold\">31</span>/<span style=\"color: #008080; text-decoration-color: #008080; font-weight: bold\">380</span><span style=\"font-weight: bold\">]</span> Retrieving game with <span style=\"color: #808000; text-decoration-color: #808000\">id</span>=<span style=\"color: #008080; text-decoration-color: #008080; font-weight: bold\">1549604</span>                              <a href=\"file:///home/morten/.conda/envs/packing-report/lib/python3.10/site-packages/soccerdata/whoscored.py\" target=\"_blank\"><span style=\"color: #7f7f7f; text-decoration-color: #7f7f7f\">whoscored.py</span></a><span style=\"color: #7f7f7f; text-decoration-color: #7f7f7f\">:</span><a href=\"file:///home/morten/.conda/envs/packing-report/lib/python3.10/site-packages/soccerdata/whoscored.py#584\" target=\"_blank\"><span style=\"color: #7f7f7f; text-decoration-color: #7f7f7f\">584</span></a>\n",
       "</pre>\n"
      ],
      "text/plain": [
       "\u001b[2;36m                   \u001b[0m\u001b[2;36m \u001b[0m\u001b[34mINFO    \u001b[0m \u001b[1m[\u001b[0m\u001b[1;36m31\u001b[0m/\u001b[1;36m380\u001b[0m\u001b[1m]\u001b[0m Retrieving game with \u001b[33mid\u001b[0m=\u001b[1;36m1549604\u001b[0m                              \u001b]8;id=875914;file:///home/morten/.conda/envs/packing-report/lib/python3.10/site-packages/soccerdata/whoscored.py\u001b\\\u001b[2mwhoscored.py\u001b[0m\u001b]8;;\u001b\\\u001b[2m:\u001b[0m\u001b]8;id=29187;file:///home/morten/.conda/envs/packing-report/lib/python3.10/site-packages/soccerdata/whoscored.py#584\u001b\\\u001b[2m584\u001b[0m\u001b]8;;\u001b\\\n"
      ]
     },
     "metadata": {},
     "output_type": "display_data"
    },
    {
     "data": {
      "text/html": [
       "<pre style=\"white-space:pre;overflow-x:auto;line-height:normal;font-family:Menlo,'DejaVu Sans Mono',consolas,'Courier New',monospace\"><span style=\"color: #7fbfbf; text-decoration-color: #7fbfbf\">                    </span><span style=\"color: #000080; text-decoration-color: #000080\">INFO    </span> <span style=\"font-weight: bold\">[</span><span style=\"color: #008080; text-decoration-color: #008080; font-weight: bold\">32</span>/<span style=\"color: #008080; text-decoration-color: #008080; font-weight: bold\">380</span><span style=\"font-weight: bold\">]</span> Retrieving game with <span style=\"color: #808000; text-decoration-color: #808000\">id</span>=<span style=\"color: #008080; text-decoration-color: #008080; font-weight: bold\">1549549</span>                              <a href=\"file:///home/morten/.conda/envs/packing-report/lib/python3.10/site-packages/soccerdata/whoscored.py\" target=\"_blank\"><span style=\"color: #7f7f7f; text-decoration-color: #7f7f7f\">whoscored.py</span></a><span style=\"color: #7f7f7f; text-decoration-color: #7f7f7f\">:</span><a href=\"file:///home/morten/.conda/envs/packing-report/lib/python3.10/site-packages/soccerdata/whoscored.py#584\" target=\"_blank\"><span style=\"color: #7f7f7f; text-decoration-color: #7f7f7f\">584</span></a>\n",
       "</pre>\n"
      ],
      "text/plain": [
       "\u001b[2;36m                   \u001b[0m\u001b[2;36m \u001b[0m\u001b[34mINFO    \u001b[0m \u001b[1m[\u001b[0m\u001b[1;36m32\u001b[0m/\u001b[1;36m380\u001b[0m\u001b[1m]\u001b[0m Retrieving game with \u001b[33mid\u001b[0m=\u001b[1;36m1549549\u001b[0m                              \u001b]8;id=294027;file:///home/morten/.conda/envs/packing-report/lib/python3.10/site-packages/soccerdata/whoscored.py\u001b\\\u001b[2mwhoscored.py\u001b[0m\u001b]8;;\u001b\\\u001b[2m:\u001b[0m\u001b]8;id=426805;file:///home/morten/.conda/envs/packing-report/lib/python3.10/site-packages/soccerdata/whoscored.py#584\u001b\\\u001b[2m584\u001b[0m\u001b]8;;\u001b\\\n"
      ]
     },
     "metadata": {},
     "output_type": "display_data"
    },
    {
     "data": {
      "text/html": [
       "<pre style=\"white-space:pre;overflow-x:auto;line-height:normal;font-family:Menlo,'DejaVu Sans Mono',consolas,'Courier New',monospace\"><span style=\"color: #7fbfbf; text-decoration-color: #7fbfbf\">                    </span><span style=\"color: #000080; text-decoration-color: #000080\">INFO    </span> <span style=\"font-weight: bold\">[</span><span style=\"color: #008080; text-decoration-color: #008080; font-weight: bold\">33</span>/<span style=\"color: #008080; text-decoration-color: #008080; font-weight: bold\">380</span><span style=\"font-weight: bold\">]</span> Retrieving game with <span style=\"color: #808000; text-decoration-color: #808000\">id</span>=<span style=\"color: #008080; text-decoration-color: #008080; font-weight: bold\">1549773</span>                              <a href=\"file:///home/morten/.conda/envs/packing-report/lib/python3.10/site-packages/soccerdata/whoscored.py\" target=\"_blank\"><span style=\"color: #7f7f7f; text-decoration-color: #7f7f7f\">whoscored.py</span></a><span style=\"color: #7f7f7f; text-decoration-color: #7f7f7f\">:</span><a href=\"file:///home/morten/.conda/envs/packing-report/lib/python3.10/site-packages/soccerdata/whoscored.py#584\" target=\"_blank\"><span style=\"color: #7f7f7f; text-decoration-color: #7f7f7f\">584</span></a>\n",
       "</pre>\n"
      ],
      "text/plain": [
       "\u001b[2;36m                   \u001b[0m\u001b[2;36m \u001b[0m\u001b[34mINFO    \u001b[0m \u001b[1m[\u001b[0m\u001b[1;36m33\u001b[0m/\u001b[1;36m380\u001b[0m\u001b[1m]\u001b[0m Retrieving game with \u001b[33mid\u001b[0m=\u001b[1;36m1549773\u001b[0m                              \u001b]8;id=95226;file:///home/morten/.conda/envs/packing-report/lib/python3.10/site-packages/soccerdata/whoscored.py\u001b\\\u001b[2mwhoscored.py\u001b[0m\u001b]8;;\u001b\\\u001b[2m:\u001b[0m\u001b]8;id=298445;file:///home/morten/.conda/envs/packing-report/lib/python3.10/site-packages/soccerdata/whoscored.py#584\u001b\\\u001b[2m584\u001b[0m\u001b]8;;\u001b\\\n"
      ]
     },
     "metadata": {},
     "output_type": "display_data"
    },
    {
     "data": {
      "text/html": [
       "<pre style=\"white-space:pre;overflow-x:auto;line-height:normal;font-family:Menlo,'DejaVu Sans Mono',consolas,'Courier New',monospace\"><span style=\"color: #7fbfbf; text-decoration-color: #7fbfbf\">                    </span><span style=\"color: #000080; text-decoration-color: #000080\">INFO    </span> <span style=\"font-weight: bold\">[</span><span style=\"color: #008080; text-decoration-color: #008080; font-weight: bold\">34</span>/<span style=\"color: #008080; text-decoration-color: #008080; font-weight: bold\">380</span><span style=\"font-weight: bold\">]</span> Retrieving game with <span style=\"color: #808000; text-decoration-color: #808000\">id</span>=<span style=\"color: #008080; text-decoration-color: #008080; font-weight: bold\">1549711</span>                              <a href=\"file:///home/morten/.conda/envs/packing-report/lib/python3.10/site-packages/soccerdata/whoscored.py\" target=\"_blank\"><span style=\"color: #7f7f7f; text-decoration-color: #7f7f7f\">whoscored.py</span></a><span style=\"color: #7f7f7f; text-decoration-color: #7f7f7f\">:</span><a href=\"file:///home/morten/.conda/envs/packing-report/lib/python3.10/site-packages/soccerdata/whoscored.py#584\" target=\"_blank\"><span style=\"color: #7f7f7f; text-decoration-color: #7f7f7f\">584</span></a>\n",
       "</pre>\n"
      ],
      "text/plain": [
       "\u001b[2;36m                   \u001b[0m\u001b[2;36m \u001b[0m\u001b[34mINFO    \u001b[0m \u001b[1m[\u001b[0m\u001b[1;36m34\u001b[0m/\u001b[1;36m380\u001b[0m\u001b[1m]\u001b[0m Retrieving game with \u001b[33mid\u001b[0m=\u001b[1;36m1549711\u001b[0m                              \u001b]8;id=768503;file:///home/morten/.conda/envs/packing-report/lib/python3.10/site-packages/soccerdata/whoscored.py\u001b\\\u001b[2mwhoscored.py\u001b[0m\u001b]8;;\u001b\\\u001b[2m:\u001b[0m\u001b]8;id=628949;file:///home/morten/.conda/envs/packing-report/lib/python3.10/site-packages/soccerdata/whoscored.py#584\u001b\\\u001b[2m584\u001b[0m\u001b]8;;\u001b\\\n"
      ]
     },
     "metadata": {},
     "output_type": "display_data"
    },
    {
     "data": {
      "text/html": [
       "<pre style=\"white-space:pre;overflow-x:auto;line-height:normal;font-family:Menlo,'DejaVu Sans Mono',consolas,'Courier New',monospace\"><span style=\"color: #7fbfbf; text-decoration-color: #7fbfbf\">                    </span><span style=\"color: #000080; text-decoration-color: #000080\">INFO    </span> <span style=\"font-weight: bold\">[</span><span style=\"color: #008080; text-decoration-color: #008080; font-weight: bold\">35</span>/<span style=\"color: #008080; text-decoration-color: #008080; font-weight: bold\">380</span><span style=\"font-weight: bold\">]</span> Retrieving game with <span style=\"color: #808000; text-decoration-color: #808000\">id</span>=<span style=\"color: #008080; text-decoration-color: #008080; font-weight: bold\">1549796</span>                              <a href=\"file:///home/morten/.conda/envs/packing-report/lib/python3.10/site-packages/soccerdata/whoscored.py\" target=\"_blank\"><span style=\"color: #7f7f7f; text-decoration-color: #7f7f7f\">whoscored.py</span></a><span style=\"color: #7f7f7f; text-decoration-color: #7f7f7f\">:</span><a href=\"file:///home/morten/.conda/envs/packing-report/lib/python3.10/site-packages/soccerdata/whoscored.py#584\" target=\"_blank\"><span style=\"color: #7f7f7f; text-decoration-color: #7f7f7f\">584</span></a>\n",
       "</pre>\n"
      ],
      "text/plain": [
       "\u001b[2;36m                   \u001b[0m\u001b[2;36m \u001b[0m\u001b[34mINFO    \u001b[0m \u001b[1m[\u001b[0m\u001b[1;36m35\u001b[0m/\u001b[1;36m380\u001b[0m\u001b[1m]\u001b[0m Retrieving game with \u001b[33mid\u001b[0m=\u001b[1;36m1549796\u001b[0m                              \u001b]8;id=346605;file:///home/morten/.conda/envs/packing-report/lib/python3.10/site-packages/soccerdata/whoscored.py\u001b\\\u001b[2mwhoscored.py\u001b[0m\u001b]8;;\u001b\\\u001b[2m:\u001b[0m\u001b]8;id=376965;file:///home/morten/.conda/envs/packing-report/lib/python3.10/site-packages/soccerdata/whoscored.py#584\u001b\\\u001b[2m584\u001b[0m\u001b]8;;\u001b\\\n"
      ]
     },
     "metadata": {},
     "output_type": "display_data"
    },
    {
     "data": {
      "text/html": [
       "<pre style=\"white-space:pre;overflow-x:auto;line-height:normal;font-family:Menlo,'DejaVu Sans Mono',consolas,'Courier New',monospace\"><span style=\"color: #7fbfbf; text-decoration-color: #7fbfbf\">                    </span><span style=\"color: #000080; text-decoration-color: #000080\">INFO    </span> <span style=\"font-weight: bold\">[</span><span style=\"color: #008080; text-decoration-color: #008080; font-weight: bold\">36</span>/<span style=\"color: #008080; text-decoration-color: #008080; font-weight: bold\">380</span><span style=\"font-weight: bold\">]</span> Retrieving game with <span style=\"color: #808000; text-decoration-color: #808000\">id</span>=<span style=\"color: #008080; text-decoration-color: #008080; font-weight: bold\">1549571</span>                              <a href=\"file:///home/morten/.conda/envs/packing-report/lib/python3.10/site-packages/soccerdata/whoscored.py\" target=\"_blank\"><span style=\"color: #7f7f7f; text-decoration-color: #7f7f7f\">whoscored.py</span></a><span style=\"color: #7f7f7f; text-decoration-color: #7f7f7f\">:</span><a href=\"file:///home/morten/.conda/envs/packing-report/lib/python3.10/site-packages/soccerdata/whoscored.py#584\" target=\"_blank\"><span style=\"color: #7f7f7f; text-decoration-color: #7f7f7f\">584</span></a>\n",
       "</pre>\n"
      ],
      "text/plain": [
       "\u001b[2;36m                   \u001b[0m\u001b[2;36m \u001b[0m\u001b[34mINFO    \u001b[0m \u001b[1m[\u001b[0m\u001b[1;36m36\u001b[0m/\u001b[1;36m380\u001b[0m\u001b[1m]\u001b[0m Retrieving game with \u001b[33mid\u001b[0m=\u001b[1;36m1549571\u001b[0m                              \u001b]8;id=28216;file:///home/morten/.conda/envs/packing-report/lib/python3.10/site-packages/soccerdata/whoscored.py\u001b\\\u001b[2mwhoscored.py\u001b[0m\u001b]8;;\u001b\\\u001b[2m:\u001b[0m\u001b]8;id=550245;file:///home/morten/.conda/envs/packing-report/lib/python3.10/site-packages/soccerdata/whoscored.py#584\u001b\\\u001b[2m584\u001b[0m\u001b]8;;\u001b\\\n"
      ]
     },
     "metadata": {},
     "output_type": "display_data"
    },
    {
     "data": {
      "text/html": [
       "<pre style=\"white-space:pre;overflow-x:auto;line-height:normal;font-family:Menlo,'DejaVu Sans Mono',consolas,'Courier New',monospace\"><span style=\"color: #7fbfbf; text-decoration-color: #7fbfbf\">                    </span><span style=\"color: #000080; text-decoration-color: #000080\">INFO    </span> <span style=\"font-weight: bold\">[</span><span style=\"color: #008080; text-decoration-color: #008080; font-weight: bold\">37</span>/<span style=\"color: #008080; text-decoration-color: #008080; font-weight: bold\">380</span><span style=\"font-weight: bold\">]</span> Retrieving game with <span style=\"color: #808000; text-decoration-color: #808000\">id</span>=<span style=\"color: #008080; text-decoration-color: #008080; font-weight: bold\">1549911</span>                              <a href=\"file:///home/morten/.conda/envs/packing-report/lib/python3.10/site-packages/soccerdata/whoscored.py\" target=\"_blank\"><span style=\"color: #7f7f7f; text-decoration-color: #7f7f7f\">whoscored.py</span></a><span style=\"color: #7f7f7f; text-decoration-color: #7f7f7f\">:</span><a href=\"file:///home/morten/.conda/envs/packing-report/lib/python3.10/site-packages/soccerdata/whoscored.py#584\" target=\"_blank\"><span style=\"color: #7f7f7f; text-decoration-color: #7f7f7f\">584</span></a>\n",
       "</pre>\n"
      ],
      "text/plain": [
       "\u001b[2;36m                   \u001b[0m\u001b[2;36m \u001b[0m\u001b[34mINFO    \u001b[0m \u001b[1m[\u001b[0m\u001b[1;36m37\u001b[0m/\u001b[1;36m380\u001b[0m\u001b[1m]\u001b[0m Retrieving game with \u001b[33mid\u001b[0m=\u001b[1;36m1549911\u001b[0m                              \u001b]8;id=985403;file:///home/morten/.conda/envs/packing-report/lib/python3.10/site-packages/soccerdata/whoscored.py\u001b\\\u001b[2mwhoscored.py\u001b[0m\u001b]8;;\u001b\\\u001b[2m:\u001b[0m\u001b]8;id=719807;file:///home/morten/.conda/envs/packing-report/lib/python3.10/site-packages/soccerdata/whoscored.py#584\u001b\\\u001b[2m584\u001b[0m\u001b]8;;\u001b\\\n"
      ]
     },
     "metadata": {},
     "output_type": "display_data"
    },
    {
     "data": {
      "text/html": [
       "<pre style=\"white-space:pre;overflow-x:auto;line-height:normal;font-family:Menlo,'DejaVu Sans Mono',consolas,'Courier New',monospace\"><span style=\"color: #7fbfbf; text-decoration-color: #7fbfbf\">                    </span><span style=\"color: #000080; text-decoration-color: #000080\">INFO    </span> <span style=\"font-weight: bold\">[</span><span style=\"color: #008080; text-decoration-color: #008080; font-weight: bold\">38</span>/<span style=\"color: #008080; text-decoration-color: #008080; font-weight: bold\">380</span><span style=\"font-weight: bold\">]</span> Retrieving game with <span style=\"color: #808000; text-decoration-color: #808000\">id</span>=<span style=\"color: #008080; text-decoration-color: #008080; font-weight: bold\">1549785</span>                              <a href=\"file:///home/morten/.conda/envs/packing-report/lib/python3.10/site-packages/soccerdata/whoscored.py\" target=\"_blank\"><span style=\"color: #7f7f7f; text-decoration-color: #7f7f7f\">whoscored.py</span></a><span style=\"color: #7f7f7f; text-decoration-color: #7f7f7f\">:</span><a href=\"file:///home/morten/.conda/envs/packing-report/lib/python3.10/site-packages/soccerdata/whoscored.py#584\" target=\"_blank\"><span style=\"color: #7f7f7f; text-decoration-color: #7f7f7f\">584</span></a>\n",
       "</pre>\n"
      ],
      "text/plain": [
       "\u001b[2;36m                   \u001b[0m\u001b[2;36m \u001b[0m\u001b[34mINFO    \u001b[0m \u001b[1m[\u001b[0m\u001b[1;36m38\u001b[0m/\u001b[1;36m380\u001b[0m\u001b[1m]\u001b[0m Retrieving game with \u001b[33mid\u001b[0m=\u001b[1;36m1549785\u001b[0m                              \u001b]8;id=134692;file:///home/morten/.conda/envs/packing-report/lib/python3.10/site-packages/soccerdata/whoscored.py\u001b\\\u001b[2mwhoscored.py\u001b[0m\u001b]8;;\u001b\\\u001b[2m:\u001b[0m\u001b]8;id=450540;file:///home/morten/.conda/envs/packing-report/lib/python3.10/site-packages/soccerdata/whoscored.py#584\u001b\\\u001b[2m584\u001b[0m\u001b]8;;\u001b\\\n"
      ]
     },
     "metadata": {},
     "output_type": "display_data"
    },
    {
     "data": {
      "text/html": [
       "<pre style=\"white-space:pre;overflow-x:auto;line-height:normal;font-family:Menlo,'DejaVu Sans Mono',consolas,'Courier New',monospace\"><span style=\"color: #7fbfbf; text-decoration-color: #7fbfbf\">                    </span><span style=\"color: #000080; text-decoration-color: #000080\">INFO    </span> <span style=\"font-weight: bold\">[</span><span style=\"color: #008080; text-decoration-color: #008080; font-weight: bold\">39</span>/<span style=\"color: #008080; text-decoration-color: #008080; font-weight: bold\">380</span><span style=\"font-weight: bold\">]</span> Retrieving game with <span style=\"color: #808000; text-decoration-color: #808000\">id</span>=<span style=\"color: #008080; text-decoration-color: #008080; font-weight: bold\">1549652</span>                              <a href=\"file:///home/morten/.conda/envs/packing-report/lib/python3.10/site-packages/soccerdata/whoscored.py\" target=\"_blank\"><span style=\"color: #7f7f7f; text-decoration-color: #7f7f7f\">whoscored.py</span></a><span style=\"color: #7f7f7f; text-decoration-color: #7f7f7f\">:</span><a href=\"file:///home/morten/.conda/envs/packing-report/lib/python3.10/site-packages/soccerdata/whoscored.py#584\" target=\"_blank\"><span style=\"color: #7f7f7f; text-decoration-color: #7f7f7f\">584</span></a>\n",
       "</pre>\n"
      ],
      "text/plain": [
       "\u001b[2;36m                   \u001b[0m\u001b[2;36m \u001b[0m\u001b[34mINFO    \u001b[0m \u001b[1m[\u001b[0m\u001b[1;36m39\u001b[0m/\u001b[1;36m380\u001b[0m\u001b[1m]\u001b[0m Retrieving game with \u001b[33mid\u001b[0m=\u001b[1;36m1549652\u001b[0m                              \u001b]8;id=168756;file:///home/morten/.conda/envs/packing-report/lib/python3.10/site-packages/soccerdata/whoscored.py\u001b\\\u001b[2mwhoscored.py\u001b[0m\u001b]8;;\u001b\\\u001b[2m:\u001b[0m\u001b]8;id=888752;file:///home/morten/.conda/envs/packing-report/lib/python3.10/site-packages/soccerdata/whoscored.py#584\u001b\\\u001b[2m584\u001b[0m\u001b]8;;\u001b\\\n"
      ]
     },
     "metadata": {},
     "output_type": "display_data"
    },
    {
     "data": {
      "text/html": [
       "<pre style=\"white-space:pre;overflow-x:auto;line-height:normal;font-family:Menlo,'DejaVu Sans Mono',consolas,'Courier New',monospace\"><span style=\"color: #7fbfbf; text-decoration-color: #7fbfbf\">                    </span><span style=\"color: #000080; text-decoration-color: #000080\">INFO    </span> <span style=\"font-weight: bold\">[</span><span style=\"color: #008080; text-decoration-color: #008080; font-weight: bold\">40</span>/<span style=\"color: #008080; text-decoration-color: #008080; font-weight: bold\">380</span><span style=\"font-weight: bold\">]</span> Retrieving game with <span style=\"color: #808000; text-decoration-color: #808000\">id</span>=<span style=\"color: #008080; text-decoration-color: #008080; font-weight: bold\">1549715</span>                              <a href=\"file:///home/morten/.conda/envs/packing-report/lib/python3.10/site-packages/soccerdata/whoscored.py\" target=\"_blank\"><span style=\"color: #7f7f7f; text-decoration-color: #7f7f7f\">whoscored.py</span></a><span style=\"color: #7f7f7f; text-decoration-color: #7f7f7f\">:</span><a href=\"file:///home/morten/.conda/envs/packing-report/lib/python3.10/site-packages/soccerdata/whoscored.py#584\" target=\"_blank\"><span style=\"color: #7f7f7f; text-decoration-color: #7f7f7f\">584</span></a>\n",
       "</pre>\n"
      ],
      "text/plain": [
       "\u001b[2;36m                   \u001b[0m\u001b[2;36m \u001b[0m\u001b[34mINFO    \u001b[0m \u001b[1m[\u001b[0m\u001b[1;36m40\u001b[0m/\u001b[1;36m380\u001b[0m\u001b[1m]\u001b[0m Retrieving game with \u001b[33mid\u001b[0m=\u001b[1;36m1549715\u001b[0m                              \u001b]8;id=911691;file:///home/morten/.conda/envs/packing-report/lib/python3.10/site-packages/soccerdata/whoscored.py\u001b\\\u001b[2mwhoscored.py\u001b[0m\u001b]8;;\u001b\\\u001b[2m:\u001b[0m\u001b]8;id=588979;file:///home/morten/.conda/envs/packing-report/lib/python3.10/site-packages/soccerdata/whoscored.py#584\u001b\\\u001b[2m584\u001b[0m\u001b]8;;\u001b\\\n"
      ]
     },
     "metadata": {},
     "output_type": "display_data"
    },
    {
     "data": {
      "text/html": [
       "<pre style=\"white-space:pre;overflow-x:auto;line-height:normal;font-family:Menlo,'DejaVu Sans Mono',consolas,'Courier New',monospace\"><span style=\"color: #7fbfbf; text-decoration-color: #7fbfbf\">                    </span><span style=\"color: #000080; text-decoration-color: #000080\">INFO    </span> <span style=\"font-weight: bold\">[</span><span style=\"color: #008080; text-decoration-color: #008080; font-weight: bold\">41</span>/<span style=\"color: #008080; text-decoration-color: #008080; font-weight: bold\">380</span><span style=\"font-weight: bold\">]</span> Retrieving game with <span style=\"color: #808000; text-decoration-color: #808000\">id</span>=<span style=\"color: #008080; text-decoration-color: #008080; font-weight: bold\">1549728</span>                              <a href=\"file:///home/morten/.conda/envs/packing-report/lib/python3.10/site-packages/soccerdata/whoscored.py\" target=\"_blank\"><span style=\"color: #7f7f7f; text-decoration-color: #7f7f7f\">whoscored.py</span></a><span style=\"color: #7f7f7f; text-decoration-color: #7f7f7f\">:</span><a href=\"file:///home/morten/.conda/envs/packing-report/lib/python3.10/site-packages/soccerdata/whoscored.py#584\" target=\"_blank\"><span style=\"color: #7f7f7f; text-decoration-color: #7f7f7f\">584</span></a>\n",
       "</pre>\n"
      ],
      "text/plain": [
       "\u001b[2;36m                   \u001b[0m\u001b[2;36m \u001b[0m\u001b[34mINFO    \u001b[0m \u001b[1m[\u001b[0m\u001b[1;36m41\u001b[0m/\u001b[1;36m380\u001b[0m\u001b[1m]\u001b[0m Retrieving game with \u001b[33mid\u001b[0m=\u001b[1;36m1549728\u001b[0m                              \u001b]8;id=243976;file:///home/morten/.conda/envs/packing-report/lib/python3.10/site-packages/soccerdata/whoscored.py\u001b\\\u001b[2mwhoscored.py\u001b[0m\u001b]8;;\u001b\\\u001b[2m:\u001b[0m\u001b]8;id=142608;file:///home/morten/.conda/envs/packing-report/lib/python3.10/site-packages/soccerdata/whoscored.py#584\u001b\\\u001b[2m584\u001b[0m\u001b]8;;\u001b\\\n"
      ]
     },
     "metadata": {},
     "output_type": "display_data"
    },
    {
     "data": {
      "text/html": [
       "<pre style=\"white-space:pre;overflow-x:auto;line-height:normal;font-family:Menlo,'DejaVu Sans Mono',consolas,'Courier New',monospace\"><span style=\"color: #7fbfbf; text-decoration-color: #7fbfbf\">                    </span><span style=\"color: #000080; text-decoration-color: #000080\">INFO    </span> <span style=\"font-weight: bold\">[</span><span style=\"color: #008080; text-decoration-color: #008080; font-weight: bold\">42</span>/<span style=\"color: #008080; text-decoration-color: #008080; font-weight: bold\">380</span><span style=\"font-weight: bold\">]</span> Retrieving game with <span style=\"color: #808000; text-decoration-color: #808000\">id</span>=<span style=\"color: #008080; text-decoration-color: #008080; font-weight: bold\">1549628</span>                              <a href=\"file:///home/morten/.conda/envs/packing-report/lib/python3.10/site-packages/soccerdata/whoscored.py\" target=\"_blank\"><span style=\"color: #7f7f7f; text-decoration-color: #7f7f7f\">whoscored.py</span></a><span style=\"color: #7f7f7f; text-decoration-color: #7f7f7f\">:</span><a href=\"file:///home/morten/.conda/envs/packing-report/lib/python3.10/site-packages/soccerdata/whoscored.py#584\" target=\"_blank\"><span style=\"color: #7f7f7f; text-decoration-color: #7f7f7f\">584</span></a>\n",
       "</pre>\n"
      ],
      "text/plain": [
       "\u001b[2;36m                   \u001b[0m\u001b[2;36m \u001b[0m\u001b[34mINFO    \u001b[0m \u001b[1m[\u001b[0m\u001b[1;36m42\u001b[0m/\u001b[1;36m380\u001b[0m\u001b[1m]\u001b[0m Retrieving game with \u001b[33mid\u001b[0m=\u001b[1;36m1549628\u001b[0m                              \u001b]8;id=135870;file:///home/morten/.conda/envs/packing-report/lib/python3.10/site-packages/soccerdata/whoscored.py\u001b\\\u001b[2mwhoscored.py\u001b[0m\u001b]8;;\u001b\\\u001b[2m:\u001b[0m\u001b]8;id=212959;file:///home/morten/.conda/envs/packing-report/lib/python3.10/site-packages/soccerdata/whoscored.py#584\u001b\\\u001b[2m584\u001b[0m\u001b]8;;\u001b\\\n"
      ]
     },
     "metadata": {},
     "output_type": "display_data"
    },
    {
     "data": {
      "text/html": [
       "<pre style=\"white-space:pre;overflow-x:auto;line-height:normal;font-family:Menlo,'DejaVu Sans Mono',consolas,'Courier New',monospace\"><span style=\"color: #7fbfbf; text-decoration-color: #7fbfbf\">                    </span><span style=\"color: #000080; text-decoration-color: #000080\">INFO    </span> <span style=\"font-weight: bold\">[</span><span style=\"color: #008080; text-decoration-color: #008080; font-weight: bold\">43</span>/<span style=\"color: #008080; text-decoration-color: #008080; font-weight: bold\">380</span><span style=\"font-weight: bold\">]</span> Retrieving game with <span style=\"color: #808000; text-decoration-color: #808000\">id</span>=<span style=\"color: #008080; text-decoration-color: #008080; font-weight: bold\">1549596</span>                              <a href=\"file:///home/morten/.conda/envs/packing-report/lib/python3.10/site-packages/soccerdata/whoscored.py\" target=\"_blank\"><span style=\"color: #7f7f7f; text-decoration-color: #7f7f7f\">whoscored.py</span></a><span style=\"color: #7f7f7f; text-decoration-color: #7f7f7f\">:</span><a href=\"file:///home/morten/.conda/envs/packing-report/lib/python3.10/site-packages/soccerdata/whoscored.py#584\" target=\"_blank\"><span style=\"color: #7f7f7f; text-decoration-color: #7f7f7f\">584</span></a>\n",
       "</pre>\n"
      ],
      "text/plain": [
       "\u001b[2;36m                   \u001b[0m\u001b[2;36m \u001b[0m\u001b[34mINFO    \u001b[0m \u001b[1m[\u001b[0m\u001b[1;36m43\u001b[0m/\u001b[1;36m380\u001b[0m\u001b[1m]\u001b[0m Retrieving game with \u001b[33mid\u001b[0m=\u001b[1;36m1549596\u001b[0m                              \u001b]8;id=81963;file:///home/morten/.conda/envs/packing-report/lib/python3.10/site-packages/soccerdata/whoscored.py\u001b\\\u001b[2mwhoscored.py\u001b[0m\u001b]8;;\u001b\\\u001b[2m:\u001b[0m\u001b]8;id=291346;file:///home/morten/.conda/envs/packing-report/lib/python3.10/site-packages/soccerdata/whoscored.py#584\u001b\\\u001b[2m584\u001b[0m\u001b]8;;\u001b\\\n"
      ]
     },
     "metadata": {},
     "output_type": "display_data"
    },
    {
     "data": {
      "text/html": [
       "<pre style=\"white-space:pre;overflow-x:auto;line-height:normal;font-family:Menlo,'DejaVu Sans Mono',consolas,'Courier New',monospace\"><span style=\"color: #7fbfbf; text-decoration-color: #7fbfbf\">                    </span><span style=\"color: #000080; text-decoration-color: #000080\">INFO    </span> <span style=\"font-weight: bold\">[</span><span style=\"color: #008080; text-decoration-color: #008080; font-weight: bold\">44</span>/<span style=\"color: #008080; text-decoration-color: #008080; font-weight: bold\">380</span><span style=\"font-weight: bold\">]</span> Retrieving game with <span style=\"color: #808000; text-decoration-color: #808000\">id</span>=<span style=\"color: #008080; text-decoration-color: #008080; font-weight: bold\">1549699</span>                              <a href=\"file:///home/morten/.conda/envs/packing-report/lib/python3.10/site-packages/soccerdata/whoscored.py\" target=\"_blank\"><span style=\"color: #7f7f7f; text-decoration-color: #7f7f7f\">whoscored.py</span></a><span style=\"color: #7f7f7f; text-decoration-color: #7f7f7f\">:</span><a href=\"file:///home/morten/.conda/envs/packing-report/lib/python3.10/site-packages/soccerdata/whoscored.py#584\" target=\"_blank\"><span style=\"color: #7f7f7f; text-decoration-color: #7f7f7f\">584</span></a>\n",
       "</pre>\n"
      ],
      "text/plain": [
       "\u001b[2;36m                   \u001b[0m\u001b[2;36m \u001b[0m\u001b[34mINFO    \u001b[0m \u001b[1m[\u001b[0m\u001b[1;36m44\u001b[0m/\u001b[1;36m380\u001b[0m\u001b[1m]\u001b[0m Retrieving game with \u001b[33mid\u001b[0m=\u001b[1;36m1549699\u001b[0m                              \u001b]8;id=421111;file:///home/morten/.conda/envs/packing-report/lib/python3.10/site-packages/soccerdata/whoscored.py\u001b\\\u001b[2mwhoscored.py\u001b[0m\u001b]8;;\u001b\\\u001b[2m:\u001b[0m\u001b]8;id=896765;file:///home/morten/.conda/envs/packing-report/lib/python3.10/site-packages/soccerdata/whoscored.py#584\u001b\\\u001b[2m584\u001b[0m\u001b]8;;\u001b\\\n"
      ]
     },
     "metadata": {},
     "output_type": "display_data"
    },
    {
     "data": {
      "text/html": [
       "<pre style=\"white-space:pre;overflow-x:auto;line-height:normal;font-family:Menlo,'DejaVu Sans Mono',consolas,'Courier New',monospace\"><span style=\"color: #7fbfbf; text-decoration-color: #7fbfbf\">                    </span><span style=\"color: #000080; text-decoration-color: #000080\">INFO    </span> <span style=\"font-weight: bold\">[</span><span style=\"color: #008080; text-decoration-color: #008080; font-weight: bold\">45</span>/<span style=\"color: #008080; text-decoration-color: #008080; font-weight: bold\">380</span><span style=\"font-weight: bold\">]</span> Retrieving game with <span style=\"color: #808000; text-decoration-color: #808000\">id</span>=<span style=\"color: #008080; text-decoration-color: #008080; font-weight: bold\">1549662</span>                              <a href=\"file:///home/morten/.conda/envs/packing-report/lib/python3.10/site-packages/soccerdata/whoscored.py\" target=\"_blank\"><span style=\"color: #7f7f7f; text-decoration-color: #7f7f7f\">whoscored.py</span></a><span style=\"color: #7f7f7f; text-decoration-color: #7f7f7f\">:</span><a href=\"file:///home/morten/.conda/envs/packing-report/lib/python3.10/site-packages/soccerdata/whoscored.py#584\" target=\"_blank\"><span style=\"color: #7f7f7f; text-decoration-color: #7f7f7f\">584</span></a>\n",
       "</pre>\n"
      ],
      "text/plain": [
       "\u001b[2;36m                   \u001b[0m\u001b[2;36m \u001b[0m\u001b[34mINFO    \u001b[0m \u001b[1m[\u001b[0m\u001b[1;36m45\u001b[0m/\u001b[1;36m380\u001b[0m\u001b[1m]\u001b[0m Retrieving game with \u001b[33mid\u001b[0m=\u001b[1;36m1549662\u001b[0m                              \u001b]8;id=151959;file:///home/morten/.conda/envs/packing-report/lib/python3.10/site-packages/soccerdata/whoscored.py\u001b\\\u001b[2mwhoscored.py\u001b[0m\u001b]8;;\u001b\\\u001b[2m:\u001b[0m\u001b]8;id=209190;file:///home/morten/.conda/envs/packing-report/lib/python3.10/site-packages/soccerdata/whoscored.py#584\u001b\\\u001b[2m584\u001b[0m\u001b]8;;\u001b\\\n"
      ]
     },
     "metadata": {},
     "output_type": "display_data"
    },
    {
     "data": {
      "text/html": [
       "<pre style=\"white-space:pre;overflow-x:auto;line-height:normal;font-family:Menlo,'DejaVu Sans Mono',consolas,'Courier New',monospace\"><span style=\"color: #7fbfbf; text-decoration-color: #7fbfbf\">[10/02/22 17:51:56] </span><span style=\"color: #000080; text-decoration-color: #000080\">INFO    </span> <span style=\"font-weight: bold\">[</span><span style=\"color: #008080; text-decoration-color: #008080; font-weight: bold\">46</span>/<span style=\"color: #008080; text-decoration-color: #008080; font-weight: bold\">380</span><span style=\"font-weight: bold\">]</span> Retrieving game with <span style=\"color: #808000; text-decoration-color: #808000\">id</span>=<span style=\"color: #008080; text-decoration-color: #008080; font-weight: bold\">1549780</span>                              <a href=\"file:///home/morten/.conda/envs/packing-report/lib/python3.10/site-packages/soccerdata/whoscored.py\" target=\"_blank\"><span style=\"color: #7f7f7f; text-decoration-color: #7f7f7f\">whoscored.py</span></a><span style=\"color: #7f7f7f; text-decoration-color: #7f7f7f\">:</span><a href=\"file:///home/morten/.conda/envs/packing-report/lib/python3.10/site-packages/soccerdata/whoscored.py#584\" target=\"_blank\"><span style=\"color: #7f7f7f; text-decoration-color: #7f7f7f\">584</span></a>\n",
       "</pre>\n"
      ],
      "text/plain": [
       "\u001b[2;36m[10/02/22 17:51:56]\u001b[0m\u001b[2;36m \u001b[0m\u001b[34mINFO    \u001b[0m \u001b[1m[\u001b[0m\u001b[1;36m46\u001b[0m/\u001b[1;36m380\u001b[0m\u001b[1m]\u001b[0m Retrieving game with \u001b[33mid\u001b[0m=\u001b[1;36m1549780\u001b[0m                              \u001b]8;id=751150;file:///home/morten/.conda/envs/packing-report/lib/python3.10/site-packages/soccerdata/whoscored.py\u001b\\\u001b[2mwhoscored.py\u001b[0m\u001b]8;;\u001b\\\u001b[2m:\u001b[0m\u001b]8;id=77931;file:///home/morten/.conda/envs/packing-report/lib/python3.10/site-packages/soccerdata/whoscored.py#584\u001b\\\u001b[2m584\u001b[0m\u001b]8;;\u001b\\\n"
      ]
     },
     "metadata": {},
     "output_type": "display_data"
    },
    {
     "data": {
      "text/html": [
       "<pre style=\"white-space:pre;overflow-x:auto;line-height:normal;font-family:Menlo,'DejaVu Sans Mono',consolas,'Courier New',monospace\"><span style=\"color: #7fbfbf; text-decoration-color: #7fbfbf\">                    </span><span style=\"color: #000080; text-decoration-color: #000080\">INFO    </span> <span style=\"font-weight: bold\">[</span><span style=\"color: #008080; text-decoration-color: #008080; font-weight: bold\">47</span>/<span style=\"color: #008080; text-decoration-color: #008080; font-weight: bold\">380</span><span style=\"font-weight: bold\">]</span> Retrieving game with <span style=\"color: #808000; text-decoration-color: #808000\">id</span>=<span style=\"color: #008080; text-decoration-color: #008080; font-weight: bold\">1549683</span>                              <a href=\"file:///home/morten/.conda/envs/packing-report/lib/python3.10/site-packages/soccerdata/whoscored.py\" target=\"_blank\"><span style=\"color: #7f7f7f; text-decoration-color: #7f7f7f\">whoscored.py</span></a><span style=\"color: #7f7f7f; text-decoration-color: #7f7f7f\">:</span><a href=\"file:///home/morten/.conda/envs/packing-report/lib/python3.10/site-packages/soccerdata/whoscored.py#584\" target=\"_blank\"><span style=\"color: #7f7f7f; text-decoration-color: #7f7f7f\">584</span></a>\n",
       "</pre>\n"
      ],
      "text/plain": [
       "\u001b[2;36m                   \u001b[0m\u001b[2;36m \u001b[0m\u001b[34mINFO    \u001b[0m \u001b[1m[\u001b[0m\u001b[1;36m47\u001b[0m/\u001b[1;36m380\u001b[0m\u001b[1m]\u001b[0m Retrieving game with \u001b[33mid\u001b[0m=\u001b[1;36m1549683\u001b[0m                              \u001b]8;id=705095;file:///home/morten/.conda/envs/packing-report/lib/python3.10/site-packages/soccerdata/whoscored.py\u001b\\\u001b[2mwhoscored.py\u001b[0m\u001b]8;;\u001b\\\u001b[2m:\u001b[0m\u001b]8;id=610032;file:///home/morten/.conda/envs/packing-report/lib/python3.10/site-packages/soccerdata/whoscored.py#584\u001b\\\u001b[2m584\u001b[0m\u001b]8;;\u001b\\\n"
      ]
     },
     "metadata": {},
     "output_type": "display_data"
    },
    {
     "data": {
      "text/html": [
       "<pre style=\"white-space:pre;overflow-x:auto;line-height:normal;font-family:Menlo,'DejaVu Sans Mono',consolas,'Courier New',monospace\"><span style=\"color: #7fbfbf; text-decoration-color: #7fbfbf\">                    </span><span style=\"color: #000080; text-decoration-color: #000080\">INFO    </span> <span style=\"font-weight: bold\">[</span><span style=\"color: #008080; text-decoration-color: #008080; font-weight: bold\">48</span>/<span style=\"color: #008080; text-decoration-color: #008080; font-weight: bold\">380</span><span style=\"font-weight: bold\">]</span> Retrieving game with <span style=\"color: #808000; text-decoration-color: #808000\">id</span>=<span style=\"color: #008080; text-decoration-color: #008080; font-weight: bold\">1549853</span>                              <a href=\"file:///home/morten/.conda/envs/packing-report/lib/python3.10/site-packages/soccerdata/whoscored.py\" target=\"_blank\"><span style=\"color: #7f7f7f; text-decoration-color: #7f7f7f\">whoscored.py</span></a><span style=\"color: #7f7f7f; text-decoration-color: #7f7f7f\">:</span><a href=\"file:///home/morten/.conda/envs/packing-report/lib/python3.10/site-packages/soccerdata/whoscored.py#584\" target=\"_blank\"><span style=\"color: #7f7f7f; text-decoration-color: #7f7f7f\">584</span></a>\n",
       "</pre>\n"
      ],
      "text/plain": [
       "\u001b[2;36m                   \u001b[0m\u001b[2;36m \u001b[0m\u001b[34mINFO    \u001b[0m \u001b[1m[\u001b[0m\u001b[1;36m48\u001b[0m/\u001b[1;36m380\u001b[0m\u001b[1m]\u001b[0m Retrieving game with \u001b[33mid\u001b[0m=\u001b[1;36m1549853\u001b[0m                              \u001b]8;id=946932;file:///home/morten/.conda/envs/packing-report/lib/python3.10/site-packages/soccerdata/whoscored.py\u001b\\\u001b[2mwhoscored.py\u001b[0m\u001b]8;;\u001b\\\u001b[2m:\u001b[0m\u001b]8;id=936540;file:///home/morten/.conda/envs/packing-report/lib/python3.10/site-packages/soccerdata/whoscored.py#584\u001b\\\u001b[2m584\u001b[0m\u001b]8;;\u001b\\\n"
      ]
     },
     "metadata": {},
     "output_type": "display_data"
    },
    {
     "data": {
      "text/html": [
       "<pre style=\"white-space:pre;overflow-x:auto;line-height:normal;font-family:Menlo,'DejaVu Sans Mono',consolas,'Courier New',monospace\"><span style=\"color: #7fbfbf; text-decoration-color: #7fbfbf\">                    </span><span style=\"color: #000080; text-decoration-color: #000080\">INFO    </span> <span style=\"font-weight: bold\">[</span><span style=\"color: #008080; text-decoration-color: #008080; font-weight: bold\">49</span>/<span style=\"color: #008080; text-decoration-color: #008080; font-weight: bold\">380</span><span style=\"font-weight: bold\">]</span> Retrieving game with <span style=\"color: #808000; text-decoration-color: #808000\">id</span>=<span style=\"color: #008080; text-decoration-color: #008080; font-weight: bold\">1549762</span>                              <a href=\"file:///home/morten/.conda/envs/packing-report/lib/python3.10/site-packages/soccerdata/whoscored.py\" target=\"_blank\"><span style=\"color: #7f7f7f; text-decoration-color: #7f7f7f\">whoscored.py</span></a><span style=\"color: #7f7f7f; text-decoration-color: #7f7f7f\">:</span><a href=\"file:///home/morten/.conda/envs/packing-report/lib/python3.10/site-packages/soccerdata/whoscored.py#584\" target=\"_blank\"><span style=\"color: #7f7f7f; text-decoration-color: #7f7f7f\">584</span></a>\n",
       "</pre>\n"
      ],
      "text/plain": [
       "\u001b[2;36m                   \u001b[0m\u001b[2;36m \u001b[0m\u001b[34mINFO    \u001b[0m \u001b[1m[\u001b[0m\u001b[1;36m49\u001b[0m/\u001b[1;36m380\u001b[0m\u001b[1m]\u001b[0m Retrieving game with \u001b[33mid\u001b[0m=\u001b[1;36m1549762\u001b[0m                              \u001b]8;id=577463;file:///home/morten/.conda/envs/packing-report/lib/python3.10/site-packages/soccerdata/whoscored.py\u001b\\\u001b[2mwhoscored.py\u001b[0m\u001b]8;;\u001b\\\u001b[2m:\u001b[0m\u001b]8;id=418489;file:///home/morten/.conda/envs/packing-report/lib/python3.10/site-packages/soccerdata/whoscored.py#584\u001b\\\u001b[2m584\u001b[0m\u001b]8;;\u001b\\\n"
      ]
     },
     "metadata": {},
     "output_type": "display_data"
    },
    {
     "data": {
      "text/html": [
       "<pre style=\"white-space:pre;overflow-x:auto;line-height:normal;font-family:Menlo,'DejaVu Sans Mono',consolas,'Courier New',monospace\"><span style=\"color: #7fbfbf; text-decoration-color: #7fbfbf\">                    </span><span style=\"color: #000080; text-decoration-color: #000080\">INFO    </span> <span style=\"font-weight: bold\">[</span><span style=\"color: #008080; text-decoration-color: #008080; font-weight: bold\">50</span>/<span style=\"color: #008080; text-decoration-color: #008080; font-weight: bold\">380</span><span style=\"font-weight: bold\">]</span> Retrieving game with <span style=\"color: #808000; text-decoration-color: #808000\">id</span>=<span style=\"color: #008080; text-decoration-color: #008080; font-weight: bold\">1549613</span>                              <a href=\"file:///home/morten/.conda/envs/packing-report/lib/python3.10/site-packages/soccerdata/whoscored.py\" target=\"_blank\"><span style=\"color: #7f7f7f; text-decoration-color: #7f7f7f\">whoscored.py</span></a><span style=\"color: #7f7f7f; text-decoration-color: #7f7f7f\">:</span><a href=\"file:///home/morten/.conda/envs/packing-report/lib/python3.10/site-packages/soccerdata/whoscored.py#584\" target=\"_blank\"><span style=\"color: #7f7f7f; text-decoration-color: #7f7f7f\">584</span></a>\n",
       "</pre>\n"
      ],
      "text/plain": [
       "\u001b[2;36m                   \u001b[0m\u001b[2;36m \u001b[0m\u001b[34mINFO    \u001b[0m \u001b[1m[\u001b[0m\u001b[1;36m50\u001b[0m/\u001b[1;36m380\u001b[0m\u001b[1m]\u001b[0m Retrieving game with \u001b[33mid\u001b[0m=\u001b[1;36m1549613\u001b[0m                              \u001b]8;id=849437;file:///home/morten/.conda/envs/packing-report/lib/python3.10/site-packages/soccerdata/whoscored.py\u001b\\\u001b[2mwhoscored.py\u001b[0m\u001b]8;;\u001b\\\u001b[2m:\u001b[0m\u001b]8;id=543381;file:///home/morten/.conda/envs/packing-report/lib/python3.10/site-packages/soccerdata/whoscored.py#584\u001b\\\u001b[2m584\u001b[0m\u001b]8;;\u001b\\\n"
      ]
     },
     "metadata": {},
     "output_type": "display_data"
    },
    {
     "data": {
      "text/html": [
       "<pre style=\"white-space:pre;overflow-x:auto;line-height:normal;font-family:Menlo,'DejaVu Sans Mono',consolas,'Courier New',monospace\"><span style=\"color: #7fbfbf; text-decoration-color: #7fbfbf\">                    </span><span style=\"color: #000080; text-decoration-color: #000080\">INFO    </span> <span style=\"font-weight: bold\">[</span><span style=\"color: #008080; text-decoration-color: #008080; font-weight: bold\">51</span>/<span style=\"color: #008080; text-decoration-color: #008080; font-weight: bold\">380</span><span style=\"font-weight: bold\">]</span> Retrieving game with <span style=\"color: #808000; text-decoration-color: #808000\">id</span>=<span style=\"color: #008080; text-decoration-color: #008080; font-weight: bold\">1549713</span>                              <a href=\"file:///home/morten/.conda/envs/packing-report/lib/python3.10/site-packages/soccerdata/whoscored.py\" target=\"_blank\"><span style=\"color: #7f7f7f; text-decoration-color: #7f7f7f\">whoscored.py</span></a><span style=\"color: #7f7f7f; text-decoration-color: #7f7f7f\">:</span><a href=\"file:///home/morten/.conda/envs/packing-report/lib/python3.10/site-packages/soccerdata/whoscored.py#584\" target=\"_blank\"><span style=\"color: #7f7f7f; text-decoration-color: #7f7f7f\">584</span></a>\n",
       "</pre>\n"
      ],
      "text/plain": [
       "\u001b[2;36m                   \u001b[0m\u001b[2;36m \u001b[0m\u001b[34mINFO    \u001b[0m \u001b[1m[\u001b[0m\u001b[1;36m51\u001b[0m/\u001b[1;36m380\u001b[0m\u001b[1m]\u001b[0m Retrieving game with \u001b[33mid\u001b[0m=\u001b[1;36m1549713\u001b[0m                              \u001b]8;id=973962;file:///home/morten/.conda/envs/packing-report/lib/python3.10/site-packages/soccerdata/whoscored.py\u001b\\\u001b[2mwhoscored.py\u001b[0m\u001b]8;;\u001b\\\u001b[2m:\u001b[0m\u001b]8;id=476685;file:///home/morten/.conda/envs/packing-report/lib/python3.10/site-packages/soccerdata/whoscored.py#584\u001b\\\u001b[2m584\u001b[0m\u001b]8;;\u001b\\\n"
      ]
     },
     "metadata": {},
     "output_type": "display_data"
    },
    {
     "data": {
      "text/html": [
       "<pre style=\"white-space:pre;overflow-x:auto;line-height:normal;font-family:Menlo,'DejaVu Sans Mono',consolas,'Courier New',monospace\"><span style=\"color: #7fbfbf; text-decoration-color: #7fbfbf\">                    </span><span style=\"color: #000080; text-decoration-color: #000080\">INFO    </span> <span style=\"font-weight: bold\">[</span><span style=\"color: #008080; text-decoration-color: #008080; font-weight: bold\">52</span>/<span style=\"color: #008080; text-decoration-color: #008080; font-weight: bold\">380</span><span style=\"font-weight: bold\">]</span> Retrieving game with <span style=\"color: #808000; text-decoration-color: #808000\">id</span>=<span style=\"color: #008080; text-decoration-color: #008080; font-weight: bold\">1549749</span>                              <a href=\"file:///home/morten/.conda/envs/packing-report/lib/python3.10/site-packages/soccerdata/whoscored.py\" target=\"_blank\"><span style=\"color: #7f7f7f; text-decoration-color: #7f7f7f\">whoscored.py</span></a><span style=\"color: #7f7f7f; text-decoration-color: #7f7f7f\">:</span><a href=\"file:///home/morten/.conda/envs/packing-report/lib/python3.10/site-packages/soccerdata/whoscored.py#584\" target=\"_blank\"><span style=\"color: #7f7f7f; text-decoration-color: #7f7f7f\">584</span></a>\n",
       "</pre>\n"
      ],
      "text/plain": [
       "\u001b[2;36m                   \u001b[0m\u001b[2;36m \u001b[0m\u001b[34mINFO    \u001b[0m \u001b[1m[\u001b[0m\u001b[1;36m52\u001b[0m/\u001b[1;36m380\u001b[0m\u001b[1m]\u001b[0m Retrieving game with \u001b[33mid\u001b[0m=\u001b[1;36m1549749\u001b[0m                              \u001b]8;id=892779;file:///home/morten/.conda/envs/packing-report/lib/python3.10/site-packages/soccerdata/whoscored.py\u001b\\\u001b[2mwhoscored.py\u001b[0m\u001b]8;;\u001b\\\u001b[2m:\u001b[0m\u001b]8;id=780727;file:///home/morten/.conda/envs/packing-report/lib/python3.10/site-packages/soccerdata/whoscored.py#584\u001b\\\u001b[2m584\u001b[0m\u001b]8;;\u001b\\\n"
      ]
     },
     "metadata": {},
     "output_type": "display_data"
    },
    {
     "data": {
      "text/html": [
       "<pre style=\"white-space:pre;overflow-x:auto;line-height:normal;font-family:Menlo,'DejaVu Sans Mono',consolas,'Courier New',monospace\"><span style=\"color: #7fbfbf; text-decoration-color: #7fbfbf\">                    </span><span style=\"color: #000080; text-decoration-color: #000080\">INFO    </span> <span style=\"font-weight: bold\">[</span><span style=\"color: #008080; text-decoration-color: #008080; font-weight: bold\">53</span>/<span style=\"color: #008080; text-decoration-color: #008080; font-weight: bold\">380</span><span style=\"font-weight: bold\">]</span> Retrieving game with <span style=\"color: #808000; text-decoration-color: #808000\">id</span>=<span style=\"color: #008080; text-decoration-color: #008080; font-weight: bold\">1549635</span>                              <a href=\"file:///home/morten/.conda/envs/packing-report/lib/python3.10/site-packages/soccerdata/whoscored.py\" target=\"_blank\"><span style=\"color: #7f7f7f; text-decoration-color: #7f7f7f\">whoscored.py</span></a><span style=\"color: #7f7f7f; text-decoration-color: #7f7f7f\">:</span><a href=\"file:///home/morten/.conda/envs/packing-report/lib/python3.10/site-packages/soccerdata/whoscored.py#584\" target=\"_blank\"><span style=\"color: #7f7f7f; text-decoration-color: #7f7f7f\">584</span></a>\n",
       "</pre>\n"
      ],
      "text/plain": [
       "\u001b[2;36m                   \u001b[0m\u001b[2;36m \u001b[0m\u001b[34mINFO    \u001b[0m \u001b[1m[\u001b[0m\u001b[1;36m53\u001b[0m/\u001b[1;36m380\u001b[0m\u001b[1m]\u001b[0m Retrieving game with \u001b[33mid\u001b[0m=\u001b[1;36m1549635\u001b[0m                              \u001b]8;id=591315;file:///home/morten/.conda/envs/packing-report/lib/python3.10/site-packages/soccerdata/whoscored.py\u001b\\\u001b[2mwhoscored.py\u001b[0m\u001b]8;;\u001b\\\u001b[2m:\u001b[0m\u001b]8;id=441541;file:///home/morten/.conda/envs/packing-report/lib/python3.10/site-packages/soccerdata/whoscored.py#584\u001b\\\u001b[2m584\u001b[0m\u001b]8;;\u001b\\\n"
      ]
     },
     "metadata": {},
     "output_type": "display_data"
    },
    {
     "data": {
      "text/html": [
       "<pre style=\"white-space:pre;overflow-x:auto;line-height:normal;font-family:Menlo,'DejaVu Sans Mono',consolas,'Courier New',monospace\"><span style=\"color: #7fbfbf; text-decoration-color: #7fbfbf\">                    </span><span style=\"color: #000080; text-decoration-color: #000080\">INFO    </span> <span style=\"font-weight: bold\">[</span><span style=\"color: #008080; text-decoration-color: #008080; font-weight: bold\">54</span>/<span style=\"color: #008080; text-decoration-color: #008080; font-weight: bold\">380</span><span style=\"font-weight: bold\">]</span> Retrieving game with <span style=\"color: #808000; text-decoration-color: #808000\">id</span>=<span style=\"color: #008080; text-decoration-color: #008080; font-weight: bold\">1549630</span>                              <a href=\"file:///home/morten/.conda/envs/packing-report/lib/python3.10/site-packages/soccerdata/whoscored.py\" target=\"_blank\"><span style=\"color: #7f7f7f; text-decoration-color: #7f7f7f\">whoscored.py</span></a><span style=\"color: #7f7f7f; text-decoration-color: #7f7f7f\">:</span><a href=\"file:///home/morten/.conda/envs/packing-report/lib/python3.10/site-packages/soccerdata/whoscored.py#584\" target=\"_blank\"><span style=\"color: #7f7f7f; text-decoration-color: #7f7f7f\">584</span></a>\n",
       "</pre>\n"
      ],
      "text/plain": [
       "\u001b[2;36m                   \u001b[0m\u001b[2;36m \u001b[0m\u001b[34mINFO    \u001b[0m \u001b[1m[\u001b[0m\u001b[1;36m54\u001b[0m/\u001b[1;36m380\u001b[0m\u001b[1m]\u001b[0m Retrieving game with \u001b[33mid\u001b[0m=\u001b[1;36m1549630\u001b[0m                              \u001b]8;id=7163;file:///home/morten/.conda/envs/packing-report/lib/python3.10/site-packages/soccerdata/whoscored.py\u001b\\\u001b[2mwhoscored.py\u001b[0m\u001b]8;;\u001b\\\u001b[2m:\u001b[0m\u001b]8;id=782672;file:///home/morten/.conda/envs/packing-report/lib/python3.10/site-packages/soccerdata/whoscored.py#584\u001b\\\u001b[2m584\u001b[0m\u001b]8;;\u001b\\\n"
      ]
     },
     "metadata": {},
     "output_type": "display_data"
    },
    {
     "data": {
      "text/html": [
       "<pre style=\"white-space:pre;overflow-x:auto;line-height:normal;font-family:Menlo,'DejaVu Sans Mono',consolas,'Courier New',monospace\"><span style=\"color: #7fbfbf; text-decoration-color: #7fbfbf\">                    </span><span style=\"color: #000080; text-decoration-color: #000080\">INFO    </span> <span style=\"font-weight: bold\">[</span><span style=\"color: #008080; text-decoration-color: #008080; font-weight: bold\">55</span>/<span style=\"color: #008080; text-decoration-color: #008080; font-weight: bold\">380</span><span style=\"font-weight: bold\">]</span> Retrieving game with <span style=\"color: #808000; text-decoration-color: #808000\">id</span>=<span style=\"color: #008080; text-decoration-color: #008080; font-weight: bold\">1549808</span>                              <a href=\"file:///home/morten/.conda/envs/packing-report/lib/python3.10/site-packages/soccerdata/whoscored.py\" target=\"_blank\"><span style=\"color: #7f7f7f; text-decoration-color: #7f7f7f\">whoscored.py</span></a><span style=\"color: #7f7f7f; text-decoration-color: #7f7f7f\">:</span><a href=\"file:///home/morten/.conda/envs/packing-report/lib/python3.10/site-packages/soccerdata/whoscored.py#584\" target=\"_blank\"><span style=\"color: #7f7f7f; text-decoration-color: #7f7f7f\">584</span></a>\n",
       "</pre>\n"
      ],
      "text/plain": [
       "\u001b[2;36m                   \u001b[0m\u001b[2;36m \u001b[0m\u001b[34mINFO    \u001b[0m \u001b[1m[\u001b[0m\u001b[1;36m55\u001b[0m/\u001b[1;36m380\u001b[0m\u001b[1m]\u001b[0m Retrieving game with \u001b[33mid\u001b[0m=\u001b[1;36m1549808\u001b[0m                              \u001b]8;id=882629;file:///home/morten/.conda/envs/packing-report/lib/python3.10/site-packages/soccerdata/whoscored.py\u001b\\\u001b[2mwhoscored.py\u001b[0m\u001b]8;;\u001b\\\u001b[2m:\u001b[0m\u001b]8;id=222011;file:///home/morten/.conda/envs/packing-report/lib/python3.10/site-packages/soccerdata/whoscored.py#584\u001b\\\u001b[2m584\u001b[0m\u001b]8;;\u001b\\\n"
      ]
     },
     "metadata": {},
     "output_type": "display_data"
    },
    {
     "data": {
      "text/html": [
       "<pre style=\"white-space:pre;overflow-x:auto;line-height:normal;font-family:Menlo,'DejaVu Sans Mono',consolas,'Courier New',monospace\"><span style=\"color: #7fbfbf; text-decoration-color: #7fbfbf\">                    </span><span style=\"color: #000080; text-decoration-color: #000080\">INFO    </span> <span style=\"font-weight: bold\">[</span><span style=\"color: #008080; text-decoration-color: #008080; font-weight: bold\">56</span>/<span style=\"color: #008080; text-decoration-color: #008080; font-weight: bold\">380</span><span style=\"font-weight: bold\">]</span> Retrieving game with <span style=\"color: #808000; text-decoration-color: #808000\">id</span>=<span style=\"color: #008080; text-decoration-color: #008080; font-weight: bold\">1549885</span>                              <a href=\"file:///home/morten/.conda/envs/packing-report/lib/python3.10/site-packages/soccerdata/whoscored.py\" target=\"_blank\"><span style=\"color: #7f7f7f; text-decoration-color: #7f7f7f\">whoscored.py</span></a><span style=\"color: #7f7f7f; text-decoration-color: #7f7f7f\">:</span><a href=\"file:///home/morten/.conda/envs/packing-report/lib/python3.10/site-packages/soccerdata/whoscored.py#584\" target=\"_blank\"><span style=\"color: #7f7f7f; text-decoration-color: #7f7f7f\">584</span></a>\n",
       "</pre>\n"
      ],
      "text/plain": [
       "\u001b[2;36m                   \u001b[0m\u001b[2;36m \u001b[0m\u001b[34mINFO    \u001b[0m \u001b[1m[\u001b[0m\u001b[1;36m56\u001b[0m/\u001b[1;36m380\u001b[0m\u001b[1m]\u001b[0m Retrieving game with \u001b[33mid\u001b[0m=\u001b[1;36m1549885\u001b[0m                              \u001b]8;id=189699;file:///home/morten/.conda/envs/packing-report/lib/python3.10/site-packages/soccerdata/whoscored.py\u001b\\\u001b[2mwhoscored.py\u001b[0m\u001b]8;;\u001b\\\u001b[2m:\u001b[0m\u001b]8;id=336653;file:///home/morten/.conda/envs/packing-report/lib/python3.10/site-packages/soccerdata/whoscored.py#584\u001b\\\u001b[2m584\u001b[0m\u001b]8;;\u001b\\\n"
      ]
     },
     "metadata": {},
     "output_type": "display_data"
    },
    {
     "data": {
      "text/html": [
       "<pre style=\"white-space:pre;overflow-x:auto;line-height:normal;font-family:Menlo,'DejaVu Sans Mono',consolas,'Courier New',monospace\"><span style=\"color: #7fbfbf; text-decoration-color: #7fbfbf\">                    </span><span style=\"color: #000080; text-decoration-color: #000080\">INFO    </span> <span style=\"font-weight: bold\">[</span><span style=\"color: #008080; text-decoration-color: #008080; font-weight: bold\">57</span>/<span style=\"color: #008080; text-decoration-color: #008080; font-weight: bold\">380</span><span style=\"font-weight: bold\">]</span> Retrieving game with <span style=\"color: #808000; text-decoration-color: #808000\">id</span>=<span style=\"color: #008080; text-decoration-color: #008080; font-weight: bold\">1549867</span>                              <a href=\"file:///home/morten/.conda/envs/packing-report/lib/python3.10/site-packages/soccerdata/whoscored.py\" target=\"_blank\"><span style=\"color: #7f7f7f; text-decoration-color: #7f7f7f\">whoscored.py</span></a><span style=\"color: #7f7f7f; text-decoration-color: #7f7f7f\">:</span><a href=\"file:///home/morten/.conda/envs/packing-report/lib/python3.10/site-packages/soccerdata/whoscored.py#584\" target=\"_blank\"><span style=\"color: #7f7f7f; text-decoration-color: #7f7f7f\">584</span></a>\n",
       "</pre>\n"
      ],
      "text/plain": [
       "\u001b[2;36m                   \u001b[0m\u001b[2;36m \u001b[0m\u001b[34mINFO    \u001b[0m \u001b[1m[\u001b[0m\u001b[1;36m57\u001b[0m/\u001b[1;36m380\u001b[0m\u001b[1m]\u001b[0m Retrieving game with \u001b[33mid\u001b[0m=\u001b[1;36m1549867\u001b[0m                              \u001b]8;id=716218;file:///home/morten/.conda/envs/packing-report/lib/python3.10/site-packages/soccerdata/whoscored.py\u001b\\\u001b[2mwhoscored.py\u001b[0m\u001b]8;;\u001b\\\u001b[2m:\u001b[0m\u001b]8;id=404173;file:///home/morten/.conda/envs/packing-report/lib/python3.10/site-packages/soccerdata/whoscored.py#584\u001b\\\u001b[2m584\u001b[0m\u001b]8;;\u001b\\\n"
      ]
     },
     "metadata": {},
     "output_type": "display_data"
    },
    {
     "data": {
      "text/html": [
       "<pre style=\"white-space:pre;overflow-x:auto;line-height:normal;font-family:Menlo,'DejaVu Sans Mono',consolas,'Courier New',monospace\"><span style=\"color: #7fbfbf; text-decoration-color: #7fbfbf\">                    </span><span style=\"color: #000080; text-decoration-color: #000080\">INFO    </span> <span style=\"font-weight: bold\">[</span><span style=\"color: #008080; text-decoration-color: #008080; font-weight: bold\">58</span>/<span style=\"color: #008080; text-decoration-color: #008080; font-weight: bold\">380</span><span style=\"font-weight: bold\">]</span> Retrieving game with <span style=\"color: #808000; text-decoration-color: #808000\">id</span>=<span style=\"color: #008080; text-decoration-color: #008080; font-weight: bold\">1549758</span>                              <a href=\"file:///home/morten/.conda/envs/packing-report/lib/python3.10/site-packages/soccerdata/whoscored.py\" target=\"_blank\"><span style=\"color: #7f7f7f; text-decoration-color: #7f7f7f\">whoscored.py</span></a><span style=\"color: #7f7f7f; text-decoration-color: #7f7f7f\">:</span><a href=\"file:///home/morten/.conda/envs/packing-report/lib/python3.10/site-packages/soccerdata/whoscored.py#584\" target=\"_blank\"><span style=\"color: #7f7f7f; text-decoration-color: #7f7f7f\">584</span></a>\n",
       "</pre>\n"
      ],
      "text/plain": [
       "\u001b[2;36m                   \u001b[0m\u001b[2;36m \u001b[0m\u001b[34mINFO    \u001b[0m \u001b[1m[\u001b[0m\u001b[1;36m58\u001b[0m/\u001b[1;36m380\u001b[0m\u001b[1m]\u001b[0m Retrieving game with \u001b[33mid\u001b[0m=\u001b[1;36m1549758\u001b[0m                              \u001b]8;id=77661;file:///home/morten/.conda/envs/packing-report/lib/python3.10/site-packages/soccerdata/whoscored.py\u001b\\\u001b[2mwhoscored.py\u001b[0m\u001b]8;;\u001b\\\u001b[2m:\u001b[0m\u001b]8;id=654698;file:///home/morten/.conda/envs/packing-report/lib/python3.10/site-packages/soccerdata/whoscored.py#584\u001b\\\u001b[2m584\u001b[0m\u001b]8;;\u001b\\\n"
      ]
     },
     "metadata": {},
     "output_type": "display_data"
    },
    {
     "data": {
      "text/html": [
       "<pre style=\"white-space:pre;overflow-x:auto;line-height:normal;font-family:Menlo,'DejaVu Sans Mono',consolas,'Courier New',monospace\"><span style=\"color: #7fbfbf; text-decoration-color: #7fbfbf\">                    </span><span style=\"color: #000080; text-decoration-color: #000080\">INFO    </span> <span style=\"font-weight: bold\">[</span><span style=\"color: #008080; text-decoration-color: #008080; font-weight: bold\">59</span>/<span style=\"color: #008080; text-decoration-color: #008080; font-weight: bold\">380</span><span style=\"font-weight: bold\">]</span> Retrieving game with <span style=\"color: #808000; text-decoration-color: #808000\">id</span>=<span style=\"color: #008080; text-decoration-color: #008080; font-weight: bold\">1549558</span>                              <a href=\"file:///home/morten/.conda/envs/packing-report/lib/python3.10/site-packages/soccerdata/whoscored.py\" target=\"_blank\"><span style=\"color: #7f7f7f; text-decoration-color: #7f7f7f\">whoscored.py</span></a><span style=\"color: #7f7f7f; text-decoration-color: #7f7f7f\">:</span><a href=\"file:///home/morten/.conda/envs/packing-report/lib/python3.10/site-packages/soccerdata/whoscored.py#584\" target=\"_blank\"><span style=\"color: #7f7f7f; text-decoration-color: #7f7f7f\">584</span></a>\n",
       "</pre>\n"
      ],
      "text/plain": [
       "\u001b[2;36m                   \u001b[0m\u001b[2;36m \u001b[0m\u001b[34mINFO    \u001b[0m \u001b[1m[\u001b[0m\u001b[1;36m59\u001b[0m/\u001b[1;36m380\u001b[0m\u001b[1m]\u001b[0m Retrieving game with \u001b[33mid\u001b[0m=\u001b[1;36m1549558\u001b[0m                              \u001b]8;id=668220;file:///home/morten/.conda/envs/packing-report/lib/python3.10/site-packages/soccerdata/whoscored.py\u001b\\\u001b[2mwhoscored.py\u001b[0m\u001b]8;;\u001b\\\u001b[2m:\u001b[0m\u001b]8;id=558472;file:///home/morten/.conda/envs/packing-report/lib/python3.10/site-packages/soccerdata/whoscored.py#584\u001b\\\u001b[2m584\u001b[0m\u001b]8;;\u001b\\\n"
      ]
     },
     "metadata": {},
     "output_type": "display_data"
    },
    {
     "data": {
      "text/html": [
       "<pre style=\"white-space:pre;overflow-x:auto;line-height:normal;font-family:Menlo,'DejaVu Sans Mono',consolas,'Courier New',monospace\"><span style=\"color: #7fbfbf; text-decoration-color: #7fbfbf\">                    </span><span style=\"color: #000080; text-decoration-color: #000080\">INFO    </span> <span style=\"font-weight: bold\">[</span><span style=\"color: #008080; text-decoration-color: #008080; font-weight: bold\">60</span>/<span style=\"color: #008080; text-decoration-color: #008080; font-weight: bold\">380</span><span style=\"font-weight: bold\">]</span> Retrieving game with <span style=\"color: #808000; text-decoration-color: #808000\">id</span>=<span style=\"color: #008080; text-decoration-color: #008080; font-weight: bold\">1549831</span>                              <a href=\"file:///home/morten/.conda/envs/packing-report/lib/python3.10/site-packages/soccerdata/whoscored.py\" target=\"_blank\"><span style=\"color: #7f7f7f; text-decoration-color: #7f7f7f\">whoscored.py</span></a><span style=\"color: #7f7f7f; text-decoration-color: #7f7f7f\">:</span><a href=\"file:///home/morten/.conda/envs/packing-report/lib/python3.10/site-packages/soccerdata/whoscored.py#584\" target=\"_blank\"><span style=\"color: #7f7f7f; text-decoration-color: #7f7f7f\">584</span></a>\n",
       "</pre>\n"
      ],
      "text/plain": [
       "\u001b[2;36m                   \u001b[0m\u001b[2;36m \u001b[0m\u001b[34mINFO    \u001b[0m \u001b[1m[\u001b[0m\u001b[1;36m60\u001b[0m/\u001b[1;36m380\u001b[0m\u001b[1m]\u001b[0m Retrieving game with \u001b[33mid\u001b[0m=\u001b[1;36m1549831\u001b[0m                              \u001b]8;id=980632;file:///home/morten/.conda/envs/packing-report/lib/python3.10/site-packages/soccerdata/whoscored.py\u001b\\\u001b[2mwhoscored.py\u001b[0m\u001b]8;;\u001b\\\u001b[2m:\u001b[0m\u001b]8;id=626983;file:///home/morten/.conda/envs/packing-report/lib/python3.10/site-packages/soccerdata/whoscored.py#584\u001b\\\u001b[2m584\u001b[0m\u001b]8;;\u001b\\\n"
      ]
     },
     "metadata": {},
     "output_type": "display_data"
    },
    {
     "data": {
      "text/html": [
       "<pre style=\"white-space:pre;overflow-x:auto;line-height:normal;font-family:Menlo,'DejaVu Sans Mono',consolas,'Courier New',monospace\"><span style=\"color: #7fbfbf; text-decoration-color: #7fbfbf\">                    </span><span style=\"color: #000080; text-decoration-color: #000080\">INFO    </span> <span style=\"font-weight: bold\">[</span><span style=\"color: #008080; text-decoration-color: #008080; font-weight: bold\">61</span>/<span style=\"color: #008080; text-decoration-color: #008080; font-weight: bold\">380</span><span style=\"font-weight: bold\">]</span> Retrieving game with <span style=\"color: #808000; text-decoration-color: #808000\">id</span>=<span style=\"color: #008080; text-decoration-color: #008080; font-weight: bold\">1549657</span>                              <a href=\"file:///home/morten/.conda/envs/packing-report/lib/python3.10/site-packages/soccerdata/whoscored.py\" target=\"_blank\"><span style=\"color: #7f7f7f; text-decoration-color: #7f7f7f\">whoscored.py</span></a><span style=\"color: #7f7f7f; text-decoration-color: #7f7f7f\">:</span><a href=\"file:///home/morten/.conda/envs/packing-report/lib/python3.10/site-packages/soccerdata/whoscored.py#584\" target=\"_blank\"><span style=\"color: #7f7f7f; text-decoration-color: #7f7f7f\">584</span></a>\n",
       "</pre>\n"
      ],
      "text/plain": [
       "\u001b[2;36m                   \u001b[0m\u001b[2;36m \u001b[0m\u001b[34mINFO    \u001b[0m \u001b[1m[\u001b[0m\u001b[1;36m61\u001b[0m/\u001b[1;36m380\u001b[0m\u001b[1m]\u001b[0m Retrieving game with \u001b[33mid\u001b[0m=\u001b[1;36m1549657\u001b[0m                              \u001b]8;id=241782;file:///home/morten/.conda/envs/packing-report/lib/python3.10/site-packages/soccerdata/whoscored.py\u001b\\\u001b[2mwhoscored.py\u001b[0m\u001b]8;;\u001b\\\u001b[2m:\u001b[0m\u001b]8;id=725333;file:///home/morten/.conda/envs/packing-report/lib/python3.10/site-packages/soccerdata/whoscored.py#584\u001b\\\u001b[2m584\u001b[0m\u001b]8;;\u001b\\\n"
      ]
     },
     "metadata": {},
     "output_type": "display_data"
    },
    {
     "data": {
      "text/html": [
       "<pre style=\"white-space:pre;overflow-x:auto;line-height:normal;font-family:Menlo,'DejaVu Sans Mono',consolas,'Courier New',monospace\"><span style=\"color: #7fbfbf; text-decoration-color: #7fbfbf\">                    </span><span style=\"color: #000080; text-decoration-color: #000080\">INFO    </span> <span style=\"font-weight: bold\">[</span><span style=\"color: #008080; text-decoration-color: #008080; font-weight: bold\">62</span>/<span style=\"color: #008080; text-decoration-color: #008080; font-weight: bold\">380</span><span style=\"font-weight: bold\">]</span> Retrieving game with <span style=\"color: #808000; text-decoration-color: #808000\">id</span>=<span style=\"color: #008080; text-decoration-color: #008080; font-weight: bold\">1549897</span>                              <a href=\"file:///home/morten/.conda/envs/packing-report/lib/python3.10/site-packages/soccerdata/whoscored.py\" target=\"_blank\"><span style=\"color: #7f7f7f; text-decoration-color: #7f7f7f\">whoscored.py</span></a><span style=\"color: #7f7f7f; text-decoration-color: #7f7f7f\">:</span><a href=\"file:///home/morten/.conda/envs/packing-report/lib/python3.10/site-packages/soccerdata/whoscored.py#584\" target=\"_blank\"><span style=\"color: #7f7f7f; text-decoration-color: #7f7f7f\">584</span></a>\n",
       "</pre>\n"
      ],
      "text/plain": [
       "\u001b[2;36m                   \u001b[0m\u001b[2;36m \u001b[0m\u001b[34mINFO    \u001b[0m \u001b[1m[\u001b[0m\u001b[1;36m62\u001b[0m/\u001b[1;36m380\u001b[0m\u001b[1m]\u001b[0m Retrieving game with \u001b[33mid\u001b[0m=\u001b[1;36m1549897\u001b[0m                              \u001b]8;id=590656;file:///home/morten/.conda/envs/packing-report/lib/python3.10/site-packages/soccerdata/whoscored.py\u001b\\\u001b[2mwhoscored.py\u001b[0m\u001b]8;;\u001b\\\u001b[2m:\u001b[0m\u001b]8;id=628784;file:///home/morten/.conda/envs/packing-report/lib/python3.10/site-packages/soccerdata/whoscored.py#584\u001b\\\u001b[2m584\u001b[0m\u001b]8;;\u001b\\\n"
      ]
     },
     "metadata": {},
     "output_type": "display_data"
    },
    {
     "data": {
      "text/html": [
       "<pre style=\"white-space:pre;overflow-x:auto;line-height:normal;font-family:Menlo,'DejaVu Sans Mono',consolas,'Courier New',monospace\"><span style=\"color: #7fbfbf; text-decoration-color: #7fbfbf\">                    </span><span style=\"color: #000080; text-decoration-color: #000080\">INFO    </span> <span style=\"font-weight: bold\">[</span><span style=\"color: #008080; text-decoration-color: #008080; font-weight: bold\">63</span>/<span style=\"color: #008080; text-decoration-color: #008080; font-weight: bold\">380</span><span style=\"font-weight: bold\">]</span> Retrieving game with <span style=\"color: #808000; text-decoration-color: #808000\">id</span>=<span style=\"color: #008080; text-decoration-color: #008080; font-weight: bold\">1549668</span>                              <a href=\"file:///home/morten/.conda/envs/packing-report/lib/python3.10/site-packages/soccerdata/whoscored.py\" target=\"_blank\"><span style=\"color: #7f7f7f; text-decoration-color: #7f7f7f\">whoscored.py</span></a><span style=\"color: #7f7f7f; text-decoration-color: #7f7f7f\">:</span><a href=\"file:///home/morten/.conda/envs/packing-report/lib/python3.10/site-packages/soccerdata/whoscored.py#584\" target=\"_blank\"><span style=\"color: #7f7f7f; text-decoration-color: #7f7f7f\">584</span></a>\n",
       "</pre>\n"
      ],
      "text/plain": [
       "\u001b[2;36m                   \u001b[0m\u001b[2;36m \u001b[0m\u001b[34mINFO    \u001b[0m \u001b[1m[\u001b[0m\u001b[1;36m63\u001b[0m/\u001b[1;36m380\u001b[0m\u001b[1m]\u001b[0m Retrieving game with \u001b[33mid\u001b[0m=\u001b[1;36m1549668\u001b[0m                              \u001b]8;id=170659;file:///home/morten/.conda/envs/packing-report/lib/python3.10/site-packages/soccerdata/whoscored.py\u001b\\\u001b[2mwhoscored.py\u001b[0m\u001b]8;;\u001b\\\u001b[2m:\u001b[0m\u001b]8;id=632500;file:///home/morten/.conda/envs/packing-report/lib/python3.10/site-packages/soccerdata/whoscored.py#584\u001b\\\u001b[2m584\u001b[0m\u001b]8;;\u001b\\\n"
      ]
     },
     "metadata": {},
     "output_type": "display_data"
    },
    {
     "data": {
      "text/html": [
       "<pre style=\"white-space:pre;overflow-x:auto;line-height:normal;font-family:Menlo,'DejaVu Sans Mono',consolas,'Courier New',monospace\"><span style=\"color: #7fbfbf; text-decoration-color: #7fbfbf\">                    </span><span style=\"color: #000080; text-decoration-color: #000080\">INFO    </span> <span style=\"font-weight: bold\">[</span><span style=\"color: #008080; text-decoration-color: #008080; font-weight: bold\">64</span>/<span style=\"color: #008080; text-decoration-color: #008080; font-weight: bold\">380</span><span style=\"font-weight: bold\">]</span> Retrieving game with <span style=\"color: #808000; text-decoration-color: #808000\">id</span>=<span style=\"color: #008080; text-decoration-color: #008080; font-weight: bold\">1549744</span>                              <a href=\"file:///home/morten/.conda/envs/packing-report/lib/python3.10/site-packages/soccerdata/whoscored.py\" target=\"_blank\"><span style=\"color: #7f7f7f; text-decoration-color: #7f7f7f\">whoscored.py</span></a><span style=\"color: #7f7f7f; text-decoration-color: #7f7f7f\">:</span><a href=\"file:///home/morten/.conda/envs/packing-report/lib/python3.10/site-packages/soccerdata/whoscored.py#584\" target=\"_blank\"><span style=\"color: #7f7f7f; text-decoration-color: #7f7f7f\">584</span></a>\n",
       "</pre>\n"
      ],
      "text/plain": [
       "\u001b[2;36m                   \u001b[0m\u001b[2;36m \u001b[0m\u001b[34mINFO    \u001b[0m \u001b[1m[\u001b[0m\u001b[1;36m64\u001b[0m/\u001b[1;36m380\u001b[0m\u001b[1m]\u001b[0m Retrieving game with \u001b[33mid\u001b[0m=\u001b[1;36m1549744\u001b[0m                              \u001b]8;id=124999;file:///home/morten/.conda/envs/packing-report/lib/python3.10/site-packages/soccerdata/whoscored.py\u001b\\\u001b[2mwhoscored.py\u001b[0m\u001b]8;;\u001b\\\u001b[2m:\u001b[0m\u001b]8;id=648693;file:///home/morten/.conda/envs/packing-report/lib/python3.10/site-packages/soccerdata/whoscored.py#584\u001b\\\u001b[2m584\u001b[0m\u001b]8;;\u001b\\\n"
      ]
     },
     "metadata": {},
     "output_type": "display_data"
    },
    {
     "data": {
      "text/html": [
       "<pre style=\"white-space:pre;overflow-x:auto;line-height:normal;font-family:Menlo,'DejaVu Sans Mono',consolas,'Courier New',monospace\"><span style=\"color: #7fbfbf; text-decoration-color: #7fbfbf\">[10/02/22 17:51:57] </span><span style=\"color: #000080; text-decoration-color: #000080\">INFO    </span> <span style=\"font-weight: bold\">[</span><span style=\"color: #008080; text-decoration-color: #008080; font-weight: bold\">65</span>/<span style=\"color: #008080; text-decoration-color: #008080; font-weight: bold\">380</span><span style=\"font-weight: bold\">]</span> Retrieving game with <span style=\"color: #808000; text-decoration-color: #808000\">id</span>=<span style=\"color: #008080; text-decoration-color: #008080; font-weight: bold\">1549687</span>                              <a href=\"file:///home/morten/.conda/envs/packing-report/lib/python3.10/site-packages/soccerdata/whoscored.py\" target=\"_blank\"><span style=\"color: #7f7f7f; text-decoration-color: #7f7f7f\">whoscored.py</span></a><span style=\"color: #7f7f7f; text-decoration-color: #7f7f7f\">:</span><a href=\"file:///home/morten/.conda/envs/packing-report/lib/python3.10/site-packages/soccerdata/whoscored.py#584\" target=\"_blank\"><span style=\"color: #7f7f7f; text-decoration-color: #7f7f7f\">584</span></a>\n",
       "</pre>\n"
      ],
      "text/plain": [
       "\u001b[2;36m[10/02/22 17:51:57]\u001b[0m\u001b[2;36m \u001b[0m\u001b[34mINFO    \u001b[0m \u001b[1m[\u001b[0m\u001b[1;36m65\u001b[0m/\u001b[1;36m380\u001b[0m\u001b[1m]\u001b[0m Retrieving game with \u001b[33mid\u001b[0m=\u001b[1;36m1549687\u001b[0m                              \u001b]8;id=205596;file:///home/morten/.conda/envs/packing-report/lib/python3.10/site-packages/soccerdata/whoscored.py\u001b\\\u001b[2mwhoscored.py\u001b[0m\u001b]8;;\u001b\\\u001b[2m:\u001b[0m\u001b]8;id=789078;file:///home/morten/.conda/envs/packing-report/lib/python3.10/site-packages/soccerdata/whoscored.py#584\u001b\\\u001b[2m584\u001b[0m\u001b]8;;\u001b\\\n"
      ]
     },
     "metadata": {},
     "output_type": "display_data"
    },
    {
     "data": {
      "text/html": [
       "<pre style=\"white-space:pre;overflow-x:auto;line-height:normal;font-family:Menlo,'DejaVu Sans Mono',consolas,'Courier New',monospace\"><span style=\"color: #7fbfbf; text-decoration-color: #7fbfbf\">                    </span><span style=\"color: #000080; text-decoration-color: #000080\">INFO    </span> <span style=\"font-weight: bold\">[</span><span style=\"color: #008080; text-decoration-color: #008080; font-weight: bold\">66</span>/<span style=\"color: #008080; text-decoration-color: #008080; font-weight: bold\">380</span><span style=\"font-weight: bold\">]</span> Retrieving game with <span style=\"color: #808000; text-decoration-color: #808000\">id</span>=<span style=\"color: #008080; text-decoration-color: #008080; font-weight: bold\">1549880</span>                              <a href=\"file:///home/morten/.conda/envs/packing-report/lib/python3.10/site-packages/soccerdata/whoscored.py\" target=\"_blank\"><span style=\"color: #7f7f7f; text-decoration-color: #7f7f7f\">whoscored.py</span></a><span style=\"color: #7f7f7f; text-decoration-color: #7f7f7f\">:</span><a href=\"file:///home/morten/.conda/envs/packing-report/lib/python3.10/site-packages/soccerdata/whoscored.py#584\" target=\"_blank\"><span style=\"color: #7f7f7f; text-decoration-color: #7f7f7f\">584</span></a>\n",
       "</pre>\n"
      ],
      "text/plain": [
       "\u001b[2;36m                   \u001b[0m\u001b[2;36m \u001b[0m\u001b[34mINFO    \u001b[0m \u001b[1m[\u001b[0m\u001b[1;36m66\u001b[0m/\u001b[1;36m380\u001b[0m\u001b[1m]\u001b[0m Retrieving game with \u001b[33mid\u001b[0m=\u001b[1;36m1549880\u001b[0m                              \u001b]8;id=72964;file:///home/morten/.conda/envs/packing-report/lib/python3.10/site-packages/soccerdata/whoscored.py\u001b\\\u001b[2mwhoscored.py\u001b[0m\u001b]8;;\u001b\\\u001b[2m:\u001b[0m\u001b]8;id=839370;file:///home/morten/.conda/envs/packing-report/lib/python3.10/site-packages/soccerdata/whoscored.py#584\u001b\\\u001b[2m584\u001b[0m\u001b]8;;\u001b\\\n"
      ]
     },
     "metadata": {},
     "output_type": "display_data"
    },
    {
     "data": {
      "text/html": [
       "<pre style=\"white-space:pre;overflow-x:auto;line-height:normal;font-family:Menlo,'DejaVu Sans Mono',consolas,'Courier New',monospace\"><span style=\"color: #7fbfbf; text-decoration-color: #7fbfbf\">                    </span><span style=\"color: #000080; text-decoration-color: #000080\">INFO    </span> <span style=\"font-weight: bold\">[</span><span style=\"color: #008080; text-decoration-color: #008080; font-weight: bold\">67</span>/<span style=\"color: #008080; text-decoration-color: #008080; font-weight: bold\">380</span><span style=\"font-weight: bold\">]</span> Retrieving game with <span style=\"color: #808000; text-decoration-color: #808000\">id</span>=<span style=\"color: #008080; text-decoration-color: #008080; font-weight: bold\">1549755</span>                              <a href=\"file:///home/morten/.conda/envs/packing-report/lib/python3.10/site-packages/soccerdata/whoscored.py\" target=\"_blank\"><span style=\"color: #7f7f7f; text-decoration-color: #7f7f7f\">whoscored.py</span></a><span style=\"color: #7f7f7f; text-decoration-color: #7f7f7f\">:</span><a href=\"file:///home/morten/.conda/envs/packing-report/lib/python3.10/site-packages/soccerdata/whoscored.py#584\" target=\"_blank\"><span style=\"color: #7f7f7f; text-decoration-color: #7f7f7f\">584</span></a>\n",
       "</pre>\n"
      ],
      "text/plain": [
       "\u001b[2;36m                   \u001b[0m\u001b[2;36m \u001b[0m\u001b[34mINFO    \u001b[0m \u001b[1m[\u001b[0m\u001b[1;36m67\u001b[0m/\u001b[1;36m380\u001b[0m\u001b[1m]\u001b[0m Retrieving game with \u001b[33mid\u001b[0m=\u001b[1;36m1549755\u001b[0m                              \u001b]8;id=445110;file:///home/morten/.conda/envs/packing-report/lib/python3.10/site-packages/soccerdata/whoscored.py\u001b\\\u001b[2mwhoscored.py\u001b[0m\u001b]8;;\u001b\\\u001b[2m:\u001b[0m\u001b]8;id=793283;file:///home/morten/.conda/envs/packing-report/lib/python3.10/site-packages/soccerdata/whoscored.py#584\u001b\\\u001b[2m584\u001b[0m\u001b]8;;\u001b\\\n"
      ]
     },
     "metadata": {},
     "output_type": "display_data"
    },
    {
     "data": {
      "text/html": [
       "<pre style=\"white-space:pre;overflow-x:auto;line-height:normal;font-family:Menlo,'DejaVu Sans Mono',consolas,'Courier New',monospace\"><span style=\"color: #7fbfbf; text-decoration-color: #7fbfbf\">                    </span><span style=\"color: #000080; text-decoration-color: #000080\">INFO    </span> <span style=\"font-weight: bold\">[</span><span style=\"color: #008080; text-decoration-color: #008080; font-weight: bold\">68</span>/<span style=\"color: #008080; text-decoration-color: #008080; font-weight: bold\">380</span><span style=\"font-weight: bold\">]</span> Retrieving game with <span style=\"color: #808000; text-decoration-color: #808000\">id</span>=<span style=\"color: #008080; text-decoration-color: #008080; font-weight: bold\">1549569</span>                              <a href=\"file:///home/morten/.conda/envs/packing-report/lib/python3.10/site-packages/soccerdata/whoscored.py\" target=\"_blank\"><span style=\"color: #7f7f7f; text-decoration-color: #7f7f7f\">whoscored.py</span></a><span style=\"color: #7f7f7f; text-decoration-color: #7f7f7f\">:</span><a href=\"file:///home/morten/.conda/envs/packing-report/lib/python3.10/site-packages/soccerdata/whoscored.py#584\" target=\"_blank\"><span style=\"color: #7f7f7f; text-decoration-color: #7f7f7f\">584</span></a>\n",
       "</pre>\n"
      ],
      "text/plain": [
       "\u001b[2;36m                   \u001b[0m\u001b[2;36m \u001b[0m\u001b[34mINFO    \u001b[0m \u001b[1m[\u001b[0m\u001b[1;36m68\u001b[0m/\u001b[1;36m380\u001b[0m\u001b[1m]\u001b[0m Retrieving game with \u001b[33mid\u001b[0m=\u001b[1;36m1549569\u001b[0m                              \u001b]8;id=43033;file:///home/morten/.conda/envs/packing-report/lib/python3.10/site-packages/soccerdata/whoscored.py\u001b\\\u001b[2mwhoscored.py\u001b[0m\u001b]8;;\u001b\\\u001b[2m:\u001b[0m\u001b]8;id=586730;file:///home/morten/.conda/envs/packing-report/lib/python3.10/site-packages/soccerdata/whoscored.py#584\u001b\\\u001b[2m584\u001b[0m\u001b]8;;\u001b\\\n"
      ]
     },
     "metadata": {},
     "output_type": "display_data"
    },
    {
     "data": {
      "text/html": [
       "<pre style=\"white-space:pre;overflow-x:auto;line-height:normal;font-family:Menlo,'DejaVu Sans Mono',consolas,'Courier New',monospace\"><span style=\"color: #7fbfbf; text-decoration-color: #7fbfbf\">                    </span><span style=\"color: #000080; text-decoration-color: #000080\">INFO    </span> <span style=\"font-weight: bold\">[</span><span style=\"color: #008080; text-decoration-color: #008080; font-weight: bold\">69</span>/<span style=\"color: #008080; text-decoration-color: #008080; font-weight: bold\">380</span><span style=\"font-weight: bold\">]</span> Retrieving game with <span style=\"color: #808000; text-decoration-color: #808000\">id</span>=<span style=\"color: #008080; text-decoration-color: #008080; font-weight: bold\">1549675</span>                              <a href=\"file:///home/morten/.conda/envs/packing-report/lib/python3.10/site-packages/soccerdata/whoscored.py\" target=\"_blank\"><span style=\"color: #7f7f7f; text-decoration-color: #7f7f7f\">whoscored.py</span></a><span style=\"color: #7f7f7f; text-decoration-color: #7f7f7f\">:</span><a href=\"file:///home/morten/.conda/envs/packing-report/lib/python3.10/site-packages/soccerdata/whoscored.py#584\" target=\"_blank\"><span style=\"color: #7f7f7f; text-decoration-color: #7f7f7f\">584</span></a>\n",
       "</pre>\n"
      ],
      "text/plain": [
       "\u001b[2;36m                   \u001b[0m\u001b[2;36m \u001b[0m\u001b[34mINFO    \u001b[0m \u001b[1m[\u001b[0m\u001b[1;36m69\u001b[0m/\u001b[1;36m380\u001b[0m\u001b[1m]\u001b[0m Retrieving game with \u001b[33mid\u001b[0m=\u001b[1;36m1549675\u001b[0m                              \u001b]8;id=92568;file:///home/morten/.conda/envs/packing-report/lib/python3.10/site-packages/soccerdata/whoscored.py\u001b\\\u001b[2mwhoscored.py\u001b[0m\u001b]8;;\u001b\\\u001b[2m:\u001b[0m\u001b]8;id=825437;file:///home/morten/.conda/envs/packing-report/lib/python3.10/site-packages/soccerdata/whoscored.py#584\u001b\\\u001b[2m584\u001b[0m\u001b]8;;\u001b\\\n"
      ]
     },
     "metadata": {},
     "output_type": "display_data"
    },
    {
     "data": {
      "text/html": [
       "<pre style=\"white-space:pre;overflow-x:auto;line-height:normal;font-family:Menlo,'DejaVu Sans Mono',consolas,'Courier New',monospace\"><span style=\"color: #7fbfbf; text-decoration-color: #7fbfbf\">                    </span><span style=\"color: #000080; text-decoration-color: #000080\">INFO    </span> <span style=\"font-weight: bold\">[</span><span style=\"color: #008080; text-decoration-color: #008080; font-weight: bold\">70</span>/<span style=\"color: #008080; text-decoration-color: #008080; font-weight: bold\">380</span><span style=\"font-weight: bold\">]</span> Retrieving game with <span style=\"color: #808000; text-decoration-color: #808000\">id</span>=<span style=\"color: #008080; text-decoration-color: #008080; font-weight: bold\">1549804</span>                              <a href=\"file:///home/morten/.conda/envs/packing-report/lib/python3.10/site-packages/soccerdata/whoscored.py\" target=\"_blank\"><span style=\"color: #7f7f7f; text-decoration-color: #7f7f7f\">whoscored.py</span></a><span style=\"color: #7f7f7f; text-decoration-color: #7f7f7f\">:</span><a href=\"file:///home/morten/.conda/envs/packing-report/lib/python3.10/site-packages/soccerdata/whoscored.py#584\" target=\"_blank\"><span style=\"color: #7f7f7f; text-decoration-color: #7f7f7f\">584</span></a>\n",
       "</pre>\n"
      ],
      "text/plain": [
       "\u001b[2;36m                   \u001b[0m\u001b[2;36m \u001b[0m\u001b[34mINFO    \u001b[0m \u001b[1m[\u001b[0m\u001b[1;36m70\u001b[0m/\u001b[1;36m380\u001b[0m\u001b[1m]\u001b[0m Retrieving game with \u001b[33mid\u001b[0m=\u001b[1;36m1549804\u001b[0m                              \u001b]8;id=456112;file:///home/morten/.conda/envs/packing-report/lib/python3.10/site-packages/soccerdata/whoscored.py\u001b\\\u001b[2mwhoscored.py\u001b[0m\u001b]8;;\u001b\\\u001b[2m:\u001b[0m\u001b]8;id=249185;file:///home/morten/.conda/envs/packing-report/lib/python3.10/site-packages/soccerdata/whoscored.py#584\u001b\\\u001b[2m584\u001b[0m\u001b]8;;\u001b\\\n"
      ]
     },
     "metadata": {},
     "output_type": "display_data"
    },
    {
     "data": {
      "text/html": [
       "<pre style=\"white-space:pre;overflow-x:auto;line-height:normal;font-family:Menlo,'DejaVu Sans Mono',consolas,'Courier New',monospace\"><span style=\"color: #7fbfbf; text-decoration-color: #7fbfbf\">                    </span><span style=\"color: #000080; text-decoration-color: #000080\">INFO    </span> <span style=\"font-weight: bold\">[</span><span style=\"color: #008080; text-decoration-color: #008080; font-weight: bold\">71</span>/<span style=\"color: #008080; text-decoration-color: #008080; font-weight: bold\">380</span><span style=\"font-weight: bold\">]</span> Retrieving game with <span style=\"color: #808000; text-decoration-color: #808000\">id</span>=<span style=\"color: #008080; text-decoration-color: #008080; font-weight: bold\">1549807</span>                              <a href=\"file:///home/morten/.conda/envs/packing-report/lib/python3.10/site-packages/soccerdata/whoscored.py\" target=\"_blank\"><span style=\"color: #7f7f7f; text-decoration-color: #7f7f7f\">whoscored.py</span></a><span style=\"color: #7f7f7f; text-decoration-color: #7f7f7f\">:</span><a href=\"file:///home/morten/.conda/envs/packing-report/lib/python3.10/site-packages/soccerdata/whoscored.py#584\" target=\"_blank\"><span style=\"color: #7f7f7f; text-decoration-color: #7f7f7f\">584</span></a>\n",
       "</pre>\n"
      ],
      "text/plain": [
       "\u001b[2;36m                   \u001b[0m\u001b[2;36m \u001b[0m\u001b[34mINFO    \u001b[0m \u001b[1m[\u001b[0m\u001b[1;36m71\u001b[0m/\u001b[1;36m380\u001b[0m\u001b[1m]\u001b[0m Retrieving game with \u001b[33mid\u001b[0m=\u001b[1;36m1549807\u001b[0m                              \u001b]8;id=794840;file:///home/morten/.conda/envs/packing-report/lib/python3.10/site-packages/soccerdata/whoscored.py\u001b\\\u001b[2mwhoscored.py\u001b[0m\u001b]8;;\u001b\\\u001b[2m:\u001b[0m\u001b]8;id=50424;file:///home/morten/.conda/envs/packing-report/lib/python3.10/site-packages/soccerdata/whoscored.py#584\u001b\\\u001b[2m584\u001b[0m\u001b]8;;\u001b\\\n"
      ]
     },
     "metadata": {},
     "output_type": "display_data"
    },
    {
     "data": {
      "text/html": [
       "<pre style=\"white-space:pre;overflow-x:auto;line-height:normal;font-family:Menlo,'DejaVu Sans Mono',consolas,'Courier New',monospace\"><span style=\"color: #7fbfbf; text-decoration-color: #7fbfbf\">                    </span><span style=\"color: #000080; text-decoration-color: #000080\">INFO    </span> <span style=\"font-weight: bold\">[</span><span style=\"color: #008080; text-decoration-color: #008080; font-weight: bold\">72</span>/<span style=\"color: #008080; text-decoration-color: #008080; font-weight: bold\">380</span><span style=\"font-weight: bold\">]</span> Retrieving game with <span style=\"color: #808000; text-decoration-color: #808000\">id</span>=<span style=\"color: #008080; text-decoration-color: #008080; font-weight: bold\">1549747</span>                              <a href=\"file:///home/morten/.conda/envs/packing-report/lib/python3.10/site-packages/soccerdata/whoscored.py\" target=\"_blank\"><span style=\"color: #7f7f7f; text-decoration-color: #7f7f7f\">whoscored.py</span></a><span style=\"color: #7f7f7f; text-decoration-color: #7f7f7f\">:</span><a href=\"file:///home/morten/.conda/envs/packing-report/lib/python3.10/site-packages/soccerdata/whoscored.py#584\" target=\"_blank\"><span style=\"color: #7f7f7f; text-decoration-color: #7f7f7f\">584</span></a>\n",
       "</pre>\n"
      ],
      "text/plain": [
       "\u001b[2;36m                   \u001b[0m\u001b[2;36m \u001b[0m\u001b[34mINFO    \u001b[0m \u001b[1m[\u001b[0m\u001b[1;36m72\u001b[0m/\u001b[1;36m380\u001b[0m\u001b[1m]\u001b[0m Retrieving game with \u001b[33mid\u001b[0m=\u001b[1;36m1549747\u001b[0m                              \u001b]8;id=297068;file:///home/morten/.conda/envs/packing-report/lib/python3.10/site-packages/soccerdata/whoscored.py\u001b\\\u001b[2mwhoscored.py\u001b[0m\u001b]8;;\u001b\\\u001b[2m:\u001b[0m\u001b]8;id=765734;file:///home/morten/.conda/envs/packing-report/lib/python3.10/site-packages/soccerdata/whoscored.py#584\u001b\\\u001b[2m584\u001b[0m\u001b]8;;\u001b\\\n"
      ]
     },
     "metadata": {},
     "output_type": "display_data"
    },
    {
     "data": {
      "text/html": [
       "<pre style=\"white-space:pre;overflow-x:auto;line-height:normal;font-family:Menlo,'DejaVu Sans Mono',consolas,'Courier New',monospace\"><span style=\"color: #7fbfbf; text-decoration-color: #7fbfbf\">                    </span><span style=\"color: #000080; text-decoration-color: #000080\">INFO    </span> <span style=\"font-weight: bold\">[</span><span style=\"color: #008080; text-decoration-color: #008080; font-weight: bold\">73</span>/<span style=\"color: #008080; text-decoration-color: #008080; font-weight: bold\">380</span><span style=\"font-weight: bold\">]</span> Retrieving game with <span style=\"color: #808000; text-decoration-color: #808000\">id</span>=<span style=\"color: #008080; text-decoration-color: #008080; font-weight: bold\">1549559</span>                              <a href=\"file:///home/morten/.conda/envs/packing-report/lib/python3.10/site-packages/soccerdata/whoscored.py\" target=\"_blank\"><span style=\"color: #7f7f7f; text-decoration-color: #7f7f7f\">whoscored.py</span></a><span style=\"color: #7f7f7f; text-decoration-color: #7f7f7f\">:</span><a href=\"file:///home/morten/.conda/envs/packing-report/lib/python3.10/site-packages/soccerdata/whoscored.py#584\" target=\"_blank\"><span style=\"color: #7f7f7f; text-decoration-color: #7f7f7f\">584</span></a>\n",
       "</pre>\n"
      ],
      "text/plain": [
       "\u001b[2;36m                   \u001b[0m\u001b[2;36m \u001b[0m\u001b[34mINFO    \u001b[0m \u001b[1m[\u001b[0m\u001b[1;36m73\u001b[0m/\u001b[1;36m380\u001b[0m\u001b[1m]\u001b[0m Retrieving game with \u001b[33mid\u001b[0m=\u001b[1;36m1549559\u001b[0m                              \u001b]8;id=574006;file:///home/morten/.conda/envs/packing-report/lib/python3.10/site-packages/soccerdata/whoscored.py\u001b\\\u001b[2mwhoscored.py\u001b[0m\u001b]8;;\u001b\\\u001b[2m:\u001b[0m\u001b]8;id=16749;file:///home/morten/.conda/envs/packing-report/lib/python3.10/site-packages/soccerdata/whoscored.py#584\u001b\\\u001b[2m584\u001b[0m\u001b]8;;\u001b\\\n"
      ]
     },
     "metadata": {},
     "output_type": "display_data"
    },
    {
     "data": {
      "text/html": [
       "<pre style=\"white-space:pre;overflow-x:auto;line-height:normal;font-family:Menlo,'DejaVu Sans Mono',consolas,'Courier New',monospace\"><span style=\"color: #7fbfbf; text-decoration-color: #7fbfbf\">                    </span><span style=\"color: #000080; text-decoration-color: #000080\">INFO    </span> <span style=\"font-weight: bold\">[</span><span style=\"color: #008080; text-decoration-color: #008080; font-weight: bold\">74</span>/<span style=\"color: #008080; text-decoration-color: #008080; font-weight: bold\">380</span><span style=\"font-weight: bold\">]</span> Retrieving game with <span style=\"color: #808000; text-decoration-color: #808000\">id</span>=<span style=\"color: #008080; text-decoration-color: #008080; font-weight: bold\">1549625</span>                              <a href=\"file:///home/morten/.conda/envs/packing-report/lib/python3.10/site-packages/soccerdata/whoscored.py\" target=\"_blank\"><span style=\"color: #7f7f7f; text-decoration-color: #7f7f7f\">whoscored.py</span></a><span style=\"color: #7f7f7f; text-decoration-color: #7f7f7f\">:</span><a href=\"file:///home/morten/.conda/envs/packing-report/lib/python3.10/site-packages/soccerdata/whoscored.py#584\" target=\"_blank\"><span style=\"color: #7f7f7f; text-decoration-color: #7f7f7f\">584</span></a>\n",
       "</pre>\n"
      ],
      "text/plain": [
       "\u001b[2;36m                   \u001b[0m\u001b[2;36m \u001b[0m\u001b[34mINFO    \u001b[0m \u001b[1m[\u001b[0m\u001b[1;36m74\u001b[0m/\u001b[1;36m380\u001b[0m\u001b[1m]\u001b[0m Retrieving game with \u001b[33mid\u001b[0m=\u001b[1;36m1549625\u001b[0m                              \u001b]8;id=911779;file:///home/morten/.conda/envs/packing-report/lib/python3.10/site-packages/soccerdata/whoscored.py\u001b\\\u001b[2mwhoscored.py\u001b[0m\u001b]8;;\u001b\\\u001b[2m:\u001b[0m\u001b]8;id=237003;file:///home/morten/.conda/envs/packing-report/lib/python3.10/site-packages/soccerdata/whoscored.py#584\u001b\\\u001b[2m584\u001b[0m\u001b]8;;\u001b\\\n"
      ]
     },
     "metadata": {},
     "output_type": "display_data"
    },
    {
     "data": {
      "text/html": [
       "<pre style=\"white-space:pre;overflow-x:auto;line-height:normal;font-family:Menlo,'DejaVu Sans Mono',consolas,'Courier New',monospace\"><span style=\"color: #7fbfbf; text-decoration-color: #7fbfbf\">                    </span><span style=\"color: #000080; text-decoration-color: #000080\">INFO    </span> <span style=\"font-weight: bold\">[</span><span style=\"color: #008080; text-decoration-color: #008080; font-weight: bold\">75</span>/<span style=\"color: #008080; text-decoration-color: #008080; font-weight: bold\">380</span><span style=\"font-weight: bold\">]</span> Retrieving game with <span style=\"color: #808000; text-decoration-color: #808000\">id</span>=<span style=\"color: #008080; text-decoration-color: #008080; font-weight: bold\">1549678</span>                              <a href=\"file:///home/morten/.conda/envs/packing-report/lib/python3.10/site-packages/soccerdata/whoscored.py\" target=\"_blank\"><span style=\"color: #7f7f7f; text-decoration-color: #7f7f7f\">whoscored.py</span></a><span style=\"color: #7f7f7f; text-decoration-color: #7f7f7f\">:</span><a href=\"file:///home/morten/.conda/envs/packing-report/lib/python3.10/site-packages/soccerdata/whoscored.py#584\" target=\"_blank\"><span style=\"color: #7f7f7f; text-decoration-color: #7f7f7f\">584</span></a>\n",
       "</pre>\n"
      ],
      "text/plain": [
       "\u001b[2;36m                   \u001b[0m\u001b[2;36m \u001b[0m\u001b[34mINFO    \u001b[0m \u001b[1m[\u001b[0m\u001b[1;36m75\u001b[0m/\u001b[1;36m380\u001b[0m\u001b[1m]\u001b[0m Retrieving game with \u001b[33mid\u001b[0m=\u001b[1;36m1549678\u001b[0m                              \u001b]8;id=734257;file:///home/morten/.conda/envs/packing-report/lib/python3.10/site-packages/soccerdata/whoscored.py\u001b\\\u001b[2mwhoscored.py\u001b[0m\u001b]8;;\u001b\\\u001b[2m:\u001b[0m\u001b]8;id=787049;file:///home/morten/.conda/envs/packing-report/lib/python3.10/site-packages/soccerdata/whoscored.py#584\u001b\\\u001b[2m584\u001b[0m\u001b]8;;\u001b\\\n"
      ]
     },
     "metadata": {},
     "output_type": "display_data"
    },
    {
     "data": {
      "text/html": [
       "<pre style=\"white-space:pre;overflow-x:auto;line-height:normal;font-family:Menlo,'DejaVu Sans Mono',consolas,'Courier New',monospace\"><span style=\"color: #7fbfbf; text-decoration-color: #7fbfbf\">                    </span><span style=\"color: #000080; text-decoration-color: #000080\">INFO    </span> <span style=\"font-weight: bold\">[</span><span style=\"color: #008080; text-decoration-color: #008080; font-weight: bold\">76</span>/<span style=\"color: #008080; text-decoration-color: #008080; font-weight: bold\">380</span><span style=\"font-weight: bold\">]</span> Retrieving game with <span style=\"color: #808000; text-decoration-color: #808000\">id</span>=<span style=\"color: #008080; text-decoration-color: #008080; font-weight: bold\">1549587</span>                              <a href=\"file:///home/morten/.conda/envs/packing-report/lib/python3.10/site-packages/soccerdata/whoscored.py\" target=\"_blank\"><span style=\"color: #7f7f7f; text-decoration-color: #7f7f7f\">whoscored.py</span></a><span style=\"color: #7f7f7f; text-decoration-color: #7f7f7f\">:</span><a href=\"file:///home/morten/.conda/envs/packing-report/lib/python3.10/site-packages/soccerdata/whoscored.py#584\" target=\"_blank\"><span style=\"color: #7f7f7f; text-decoration-color: #7f7f7f\">584</span></a>\n",
       "</pre>\n"
      ],
      "text/plain": [
       "\u001b[2;36m                   \u001b[0m\u001b[2;36m \u001b[0m\u001b[34mINFO    \u001b[0m \u001b[1m[\u001b[0m\u001b[1;36m76\u001b[0m/\u001b[1;36m380\u001b[0m\u001b[1m]\u001b[0m Retrieving game with \u001b[33mid\u001b[0m=\u001b[1;36m1549587\u001b[0m                              \u001b]8;id=869997;file:///home/morten/.conda/envs/packing-report/lib/python3.10/site-packages/soccerdata/whoscored.py\u001b\\\u001b[2mwhoscored.py\u001b[0m\u001b]8;;\u001b\\\u001b[2m:\u001b[0m\u001b]8;id=691526;file:///home/morten/.conda/envs/packing-report/lib/python3.10/site-packages/soccerdata/whoscored.py#584\u001b\\\u001b[2m584\u001b[0m\u001b]8;;\u001b\\\n"
      ]
     },
     "metadata": {},
     "output_type": "display_data"
    },
    {
     "data": {
      "text/html": [
       "<pre style=\"white-space:pre;overflow-x:auto;line-height:normal;font-family:Menlo,'DejaVu Sans Mono',consolas,'Courier New',monospace\"><span style=\"color: #7fbfbf; text-decoration-color: #7fbfbf\">                    </span><span style=\"color: #000080; text-decoration-color: #000080\">INFO    </span> <span style=\"font-weight: bold\">[</span><span style=\"color: #008080; text-decoration-color: #008080; font-weight: bold\">77</span>/<span style=\"color: #008080; text-decoration-color: #008080; font-weight: bold\">380</span><span style=\"font-weight: bold\">]</span> Retrieving game with <span style=\"color: #808000; text-decoration-color: #808000\">id</span>=<span style=\"color: #008080; text-decoration-color: #008080; font-weight: bold\">1549871</span>                              <a href=\"file:///home/morten/.conda/envs/packing-report/lib/python3.10/site-packages/soccerdata/whoscored.py\" target=\"_blank\"><span style=\"color: #7f7f7f; text-decoration-color: #7f7f7f\">whoscored.py</span></a><span style=\"color: #7f7f7f; text-decoration-color: #7f7f7f\">:</span><a href=\"file:///home/morten/.conda/envs/packing-report/lib/python3.10/site-packages/soccerdata/whoscored.py#584\" target=\"_blank\"><span style=\"color: #7f7f7f; text-decoration-color: #7f7f7f\">584</span></a>\n",
       "</pre>\n"
      ],
      "text/plain": [
       "\u001b[2;36m                   \u001b[0m\u001b[2;36m \u001b[0m\u001b[34mINFO    \u001b[0m \u001b[1m[\u001b[0m\u001b[1;36m77\u001b[0m/\u001b[1;36m380\u001b[0m\u001b[1m]\u001b[0m Retrieving game with \u001b[33mid\u001b[0m=\u001b[1;36m1549871\u001b[0m                              \u001b]8;id=881375;file:///home/morten/.conda/envs/packing-report/lib/python3.10/site-packages/soccerdata/whoscored.py\u001b\\\u001b[2mwhoscored.py\u001b[0m\u001b]8;;\u001b\\\u001b[2m:\u001b[0m\u001b]8;id=720951;file:///home/morten/.conda/envs/packing-report/lib/python3.10/site-packages/soccerdata/whoscored.py#584\u001b\\\u001b[2m584\u001b[0m\u001b]8;;\u001b\\\n"
      ]
     },
     "metadata": {},
     "output_type": "display_data"
    },
    {
     "data": {
      "text/html": [
       "<pre style=\"white-space:pre;overflow-x:auto;line-height:normal;font-family:Menlo,'DejaVu Sans Mono',consolas,'Courier New',monospace\"><span style=\"color: #7fbfbf; text-decoration-color: #7fbfbf\">                    </span><span style=\"color: #000080; text-decoration-color: #000080\">INFO    </span> <span style=\"font-weight: bold\">[</span><span style=\"color: #008080; text-decoration-color: #008080; font-weight: bold\">78</span>/<span style=\"color: #008080; text-decoration-color: #008080; font-weight: bold\">380</span><span style=\"font-weight: bold\">]</span> Retrieving game with <span style=\"color: #808000; text-decoration-color: #808000\">id</span>=<span style=\"color: #008080; text-decoration-color: #008080; font-weight: bold\">1549691</span>                              <a href=\"file:///home/morten/.conda/envs/packing-report/lib/python3.10/site-packages/soccerdata/whoscored.py\" target=\"_blank\"><span style=\"color: #7f7f7f; text-decoration-color: #7f7f7f\">whoscored.py</span></a><span style=\"color: #7f7f7f; text-decoration-color: #7f7f7f\">:</span><a href=\"file:///home/morten/.conda/envs/packing-report/lib/python3.10/site-packages/soccerdata/whoscored.py#584\" target=\"_blank\"><span style=\"color: #7f7f7f; text-decoration-color: #7f7f7f\">584</span></a>\n",
       "</pre>\n"
      ],
      "text/plain": [
       "\u001b[2;36m                   \u001b[0m\u001b[2;36m \u001b[0m\u001b[34mINFO    \u001b[0m \u001b[1m[\u001b[0m\u001b[1;36m78\u001b[0m/\u001b[1;36m380\u001b[0m\u001b[1m]\u001b[0m Retrieving game with \u001b[33mid\u001b[0m=\u001b[1;36m1549691\u001b[0m                              \u001b]8;id=470955;file:///home/morten/.conda/envs/packing-report/lib/python3.10/site-packages/soccerdata/whoscored.py\u001b\\\u001b[2mwhoscored.py\u001b[0m\u001b]8;;\u001b\\\u001b[2m:\u001b[0m\u001b]8;id=185903;file:///home/morten/.conda/envs/packing-report/lib/python3.10/site-packages/soccerdata/whoscored.py#584\u001b\\\u001b[2m584\u001b[0m\u001b]8;;\u001b\\\n"
      ]
     },
     "metadata": {},
     "output_type": "display_data"
    },
    {
     "data": {
      "text/html": [
       "<pre style=\"white-space:pre;overflow-x:auto;line-height:normal;font-family:Menlo,'DejaVu Sans Mono',consolas,'Courier New',monospace\"><span style=\"color: #7fbfbf; text-decoration-color: #7fbfbf\">                    </span><span style=\"color: #000080; text-decoration-color: #000080\">INFO    </span> <span style=\"font-weight: bold\">[</span><span style=\"color: #008080; text-decoration-color: #008080; font-weight: bold\">79</span>/<span style=\"color: #008080; text-decoration-color: #008080; font-weight: bold\">380</span><span style=\"font-weight: bold\">]</span> Retrieving game with <span style=\"color: #808000; text-decoration-color: #808000\">id</span>=<span style=\"color: #008080; text-decoration-color: #008080; font-weight: bold\">1549614</span>                              <a href=\"file:///home/morten/.conda/envs/packing-report/lib/python3.10/site-packages/soccerdata/whoscored.py\" target=\"_blank\"><span style=\"color: #7f7f7f; text-decoration-color: #7f7f7f\">whoscored.py</span></a><span style=\"color: #7f7f7f; text-decoration-color: #7f7f7f\">:</span><a href=\"file:///home/morten/.conda/envs/packing-report/lib/python3.10/site-packages/soccerdata/whoscored.py#584\" target=\"_blank\"><span style=\"color: #7f7f7f; text-decoration-color: #7f7f7f\">584</span></a>\n",
       "</pre>\n"
      ],
      "text/plain": [
       "\u001b[2;36m                   \u001b[0m\u001b[2;36m \u001b[0m\u001b[34mINFO    \u001b[0m \u001b[1m[\u001b[0m\u001b[1;36m79\u001b[0m/\u001b[1;36m380\u001b[0m\u001b[1m]\u001b[0m Retrieving game with \u001b[33mid\u001b[0m=\u001b[1;36m1549614\u001b[0m                              \u001b]8;id=388884;file:///home/morten/.conda/envs/packing-report/lib/python3.10/site-packages/soccerdata/whoscored.py\u001b\\\u001b[2mwhoscored.py\u001b[0m\u001b]8;;\u001b\\\u001b[2m:\u001b[0m\u001b]8;id=129896;file:///home/morten/.conda/envs/packing-report/lib/python3.10/site-packages/soccerdata/whoscored.py#584\u001b\\\u001b[2m584\u001b[0m\u001b]8;;\u001b\\\n"
      ]
     },
     "metadata": {},
     "output_type": "display_data"
    },
    {
     "data": {
      "text/html": [
       "<pre style=\"white-space:pre;overflow-x:auto;line-height:normal;font-family:Menlo,'DejaVu Sans Mono',consolas,'Courier New',monospace\"><span style=\"color: #7fbfbf; text-decoration-color: #7fbfbf\">                    </span><span style=\"color: #000080; text-decoration-color: #000080\">INFO    </span> <span style=\"font-weight: bold\">[</span><span style=\"color: #008080; text-decoration-color: #008080; font-weight: bold\">80</span>/<span style=\"color: #008080; text-decoration-color: #008080; font-weight: bold\">380</span><span style=\"font-weight: bold\">]</span> Retrieving game with <span style=\"color: #808000; text-decoration-color: #808000\">id</span>=<span style=\"color: #008080; text-decoration-color: #008080; font-weight: bold\">1549742</span>                              <a href=\"file:///home/morten/.conda/envs/packing-report/lib/python3.10/site-packages/soccerdata/whoscored.py\" target=\"_blank\"><span style=\"color: #7f7f7f; text-decoration-color: #7f7f7f\">whoscored.py</span></a><span style=\"color: #7f7f7f; text-decoration-color: #7f7f7f\">:</span><a href=\"file:///home/morten/.conda/envs/packing-report/lib/python3.10/site-packages/soccerdata/whoscored.py#584\" target=\"_blank\"><span style=\"color: #7f7f7f; text-decoration-color: #7f7f7f\">584</span></a>\n",
       "</pre>\n"
      ],
      "text/plain": [
       "\u001b[2;36m                   \u001b[0m\u001b[2;36m \u001b[0m\u001b[34mINFO    \u001b[0m \u001b[1m[\u001b[0m\u001b[1;36m80\u001b[0m/\u001b[1;36m380\u001b[0m\u001b[1m]\u001b[0m Retrieving game with \u001b[33mid\u001b[0m=\u001b[1;36m1549742\u001b[0m                              \u001b]8;id=530862;file:///home/morten/.conda/envs/packing-report/lib/python3.10/site-packages/soccerdata/whoscored.py\u001b\\\u001b[2mwhoscored.py\u001b[0m\u001b]8;;\u001b\\\u001b[2m:\u001b[0m\u001b]8;id=512273;file:///home/morten/.conda/envs/packing-report/lib/python3.10/site-packages/soccerdata/whoscored.py#584\u001b\\\u001b[2m584\u001b[0m\u001b]8;;\u001b\\\n"
      ]
     },
     "metadata": {},
     "output_type": "display_data"
    },
    {
     "data": {
      "text/html": [
       "<pre style=\"white-space:pre;overflow-x:auto;line-height:normal;font-family:Menlo,'DejaVu Sans Mono',consolas,'Courier New',monospace\"><span style=\"color: #7fbfbf; text-decoration-color: #7fbfbf\">                    </span><span style=\"color: #000080; text-decoration-color: #000080\">INFO    </span> <span style=\"font-weight: bold\">[</span><span style=\"color: #008080; text-decoration-color: #008080; font-weight: bold\">81</span>/<span style=\"color: #008080; text-decoration-color: #008080; font-weight: bold\">380</span><span style=\"font-weight: bold\">]</span> Retrieving game with <span style=\"color: #808000; text-decoration-color: #808000\">id</span>=<span style=\"color: #008080; text-decoration-color: #008080; font-weight: bold\">1549753</span>                              <a href=\"file:///home/morten/.conda/envs/packing-report/lib/python3.10/site-packages/soccerdata/whoscored.py\" target=\"_blank\"><span style=\"color: #7f7f7f; text-decoration-color: #7f7f7f\">whoscored.py</span></a><span style=\"color: #7f7f7f; text-decoration-color: #7f7f7f\">:</span><a href=\"file:///home/morten/.conda/envs/packing-report/lib/python3.10/site-packages/soccerdata/whoscored.py#584\" target=\"_blank\"><span style=\"color: #7f7f7f; text-decoration-color: #7f7f7f\">584</span></a>\n",
       "</pre>\n"
      ],
      "text/plain": [
       "\u001b[2;36m                   \u001b[0m\u001b[2;36m \u001b[0m\u001b[34mINFO    \u001b[0m \u001b[1m[\u001b[0m\u001b[1;36m81\u001b[0m/\u001b[1;36m380\u001b[0m\u001b[1m]\u001b[0m Retrieving game with \u001b[33mid\u001b[0m=\u001b[1;36m1549753\u001b[0m                              \u001b]8;id=675794;file:///home/morten/.conda/envs/packing-report/lib/python3.10/site-packages/soccerdata/whoscored.py\u001b\\\u001b[2mwhoscored.py\u001b[0m\u001b]8;;\u001b\\\u001b[2m:\u001b[0m\u001b]8;id=143474;file:///home/morten/.conda/envs/packing-report/lib/python3.10/site-packages/soccerdata/whoscored.py#584\u001b\\\u001b[2m584\u001b[0m\u001b]8;;\u001b\\\n"
      ]
     },
     "metadata": {},
     "output_type": "display_data"
    },
    {
     "data": {
      "text/html": [
       "<pre style=\"white-space:pre;overflow-x:auto;line-height:normal;font-family:Menlo,'DejaVu Sans Mono',consolas,'Courier New',monospace\"><span style=\"color: #7fbfbf; text-decoration-color: #7fbfbf\">                    </span><span style=\"color: #000080; text-decoration-color: #000080\">INFO    </span> <span style=\"font-weight: bold\">[</span><span style=\"color: #008080; text-decoration-color: #008080; font-weight: bold\">82</span>/<span style=\"color: #008080; text-decoration-color: #008080; font-weight: bold\">380</span><span style=\"font-weight: bold\">]</span> Retrieving game with <span style=\"color: #808000; text-decoration-color: #808000\">id</span>=<span style=\"color: #008080; text-decoration-color: #008080; font-weight: bold\">1549801</span>                              <a href=\"file:///home/morten/.conda/envs/packing-report/lib/python3.10/site-packages/soccerdata/whoscored.py\" target=\"_blank\"><span style=\"color: #7f7f7f; text-decoration-color: #7f7f7f\">whoscored.py</span></a><span style=\"color: #7f7f7f; text-decoration-color: #7f7f7f\">:</span><a href=\"file:///home/morten/.conda/envs/packing-report/lib/python3.10/site-packages/soccerdata/whoscored.py#584\" target=\"_blank\"><span style=\"color: #7f7f7f; text-decoration-color: #7f7f7f\">584</span></a>\n",
       "</pre>\n"
      ],
      "text/plain": [
       "\u001b[2;36m                   \u001b[0m\u001b[2;36m \u001b[0m\u001b[34mINFO    \u001b[0m \u001b[1m[\u001b[0m\u001b[1;36m82\u001b[0m/\u001b[1;36m380\u001b[0m\u001b[1m]\u001b[0m Retrieving game with \u001b[33mid\u001b[0m=\u001b[1;36m1549801\u001b[0m                              \u001b]8;id=246682;file:///home/morten/.conda/envs/packing-report/lib/python3.10/site-packages/soccerdata/whoscored.py\u001b\\\u001b[2mwhoscored.py\u001b[0m\u001b]8;;\u001b\\\u001b[2m:\u001b[0m\u001b]8;id=525358;file:///home/morten/.conda/envs/packing-report/lib/python3.10/site-packages/soccerdata/whoscored.py#584\u001b\\\u001b[2m584\u001b[0m\u001b]8;;\u001b\\\n"
      ]
     },
     "metadata": {},
     "output_type": "display_data"
    },
    {
     "data": {
      "text/html": [
       "<pre style=\"white-space:pre;overflow-x:auto;line-height:normal;font-family:Menlo,'DejaVu Sans Mono',consolas,'Courier New',monospace\"><span style=\"color: #7fbfbf; text-decoration-color: #7fbfbf\">                    </span><span style=\"color: #000080; text-decoration-color: #000080\">INFO    </span> <span style=\"font-weight: bold\">[</span><span style=\"color: #008080; text-decoration-color: #008080; font-weight: bold\">83</span>/<span style=\"color: #008080; text-decoration-color: #008080; font-weight: bold\">380</span><span style=\"font-weight: bold\">]</span> Retrieving game with <span style=\"color: #808000; text-decoration-color: #808000\">id</span>=<span style=\"color: #008080; text-decoration-color: #008080; font-weight: bold\">1549738</span>                              <a href=\"file:///home/morten/.conda/envs/packing-report/lib/python3.10/site-packages/soccerdata/whoscored.py\" target=\"_blank\"><span style=\"color: #7f7f7f; text-decoration-color: #7f7f7f\">whoscored.py</span></a><span style=\"color: #7f7f7f; text-decoration-color: #7f7f7f\">:</span><a href=\"file:///home/morten/.conda/envs/packing-report/lib/python3.10/site-packages/soccerdata/whoscored.py#584\" target=\"_blank\"><span style=\"color: #7f7f7f; text-decoration-color: #7f7f7f\">584</span></a>\n",
       "</pre>\n"
      ],
      "text/plain": [
       "\u001b[2;36m                   \u001b[0m\u001b[2;36m \u001b[0m\u001b[34mINFO    \u001b[0m \u001b[1m[\u001b[0m\u001b[1;36m83\u001b[0m/\u001b[1;36m380\u001b[0m\u001b[1m]\u001b[0m Retrieving game with \u001b[33mid\u001b[0m=\u001b[1;36m1549738\u001b[0m                              \u001b]8;id=338923;file:///home/morten/.conda/envs/packing-report/lib/python3.10/site-packages/soccerdata/whoscored.py\u001b\\\u001b[2mwhoscored.py\u001b[0m\u001b]8;;\u001b\\\u001b[2m:\u001b[0m\u001b]8;id=24741;file:///home/morten/.conda/envs/packing-report/lib/python3.10/site-packages/soccerdata/whoscored.py#584\u001b\\\u001b[2m584\u001b[0m\u001b]8;;\u001b\\\n"
      ]
     },
     "metadata": {},
     "output_type": "display_data"
    },
    {
     "data": {
      "text/html": [
       "<pre style=\"white-space:pre;overflow-x:auto;line-height:normal;font-family:Menlo,'DejaVu Sans Mono',consolas,'Courier New',monospace\"><span style=\"color: #7fbfbf; text-decoration-color: #7fbfbf\">                    </span><span style=\"color: #000080; text-decoration-color: #000080\">INFO    </span> <span style=\"font-weight: bold\">[</span><span style=\"color: #008080; text-decoration-color: #008080; font-weight: bold\">84</span>/<span style=\"color: #008080; text-decoration-color: #008080; font-weight: bold\">380</span><span style=\"font-weight: bold\">]</span> Retrieving game with <span style=\"color: #808000; text-decoration-color: #808000\">id</span>=<span style=\"color: #008080; text-decoration-color: #008080; font-weight: bold\">1549642</span>                              <a href=\"file:///home/morten/.conda/envs/packing-report/lib/python3.10/site-packages/soccerdata/whoscored.py\" target=\"_blank\"><span style=\"color: #7f7f7f; text-decoration-color: #7f7f7f\">whoscored.py</span></a><span style=\"color: #7f7f7f; text-decoration-color: #7f7f7f\">:</span><a href=\"file:///home/morten/.conda/envs/packing-report/lib/python3.10/site-packages/soccerdata/whoscored.py#584\" target=\"_blank\"><span style=\"color: #7f7f7f; text-decoration-color: #7f7f7f\">584</span></a>\n",
       "</pre>\n"
      ],
      "text/plain": [
       "\u001b[2;36m                   \u001b[0m\u001b[2;36m \u001b[0m\u001b[34mINFO    \u001b[0m \u001b[1m[\u001b[0m\u001b[1;36m84\u001b[0m/\u001b[1;36m380\u001b[0m\u001b[1m]\u001b[0m Retrieving game with \u001b[33mid\u001b[0m=\u001b[1;36m1549642\u001b[0m                              \u001b]8;id=856308;file:///home/morten/.conda/envs/packing-report/lib/python3.10/site-packages/soccerdata/whoscored.py\u001b\\\u001b[2mwhoscored.py\u001b[0m\u001b]8;;\u001b\\\u001b[2m:\u001b[0m\u001b]8;id=446410;file:///home/morten/.conda/envs/packing-report/lib/python3.10/site-packages/soccerdata/whoscored.py#584\u001b\\\u001b[2m584\u001b[0m\u001b]8;;\u001b\\\n"
      ]
     },
     "metadata": {},
     "output_type": "display_data"
    },
    {
     "data": {
      "text/html": [
       "<pre style=\"white-space:pre;overflow-x:auto;line-height:normal;font-family:Menlo,'DejaVu Sans Mono',consolas,'Courier New',monospace\"><span style=\"color: #7fbfbf; text-decoration-color: #7fbfbf\">[10/02/22 17:51:58] </span><span style=\"color: #000080; text-decoration-color: #000080\">INFO    </span> <span style=\"font-weight: bold\">[</span><span style=\"color: #008080; text-decoration-color: #008080; font-weight: bold\">85</span>/<span style=\"color: #008080; text-decoration-color: #008080; font-weight: bold\">380</span><span style=\"font-weight: bold\">]</span> Retrieving game with <span style=\"color: #808000; text-decoration-color: #808000\">id</span>=<span style=\"color: #008080; text-decoration-color: #008080; font-weight: bold\">1549784</span>                              <a href=\"file:///home/morten/.conda/envs/packing-report/lib/python3.10/site-packages/soccerdata/whoscored.py\" target=\"_blank\"><span style=\"color: #7f7f7f; text-decoration-color: #7f7f7f\">whoscored.py</span></a><span style=\"color: #7f7f7f; text-decoration-color: #7f7f7f\">:</span><a href=\"file:///home/morten/.conda/envs/packing-report/lib/python3.10/site-packages/soccerdata/whoscored.py#584\" target=\"_blank\"><span style=\"color: #7f7f7f; text-decoration-color: #7f7f7f\">584</span></a>\n",
       "</pre>\n"
      ],
      "text/plain": [
       "\u001b[2;36m[10/02/22 17:51:58]\u001b[0m\u001b[2;36m \u001b[0m\u001b[34mINFO    \u001b[0m \u001b[1m[\u001b[0m\u001b[1;36m85\u001b[0m/\u001b[1;36m380\u001b[0m\u001b[1m]\u001b[0m Retrieving game with \u001b[33mid\u001b[0m=\u001b[1;36m1549784\u001b[0m                              \u001b]8;id=848115;file:///home/morten/.conda/envs/packing-report/lib/python3.10/site-packages/soccerdata/whoscored.py\u001b\\\u001b[2mwhoscored.py\u001b[0m\u001b]8;;\u001b\\\u001b[2m:\u001b[0m\u001b]8;id=328647;file:///home/morten/.conda/envs/packing-report/lib/python3.10/site-packages/soccerdata/whoscored.py#584\u001b\\\u001b[2m584\u001b[0m\u001b]8;;\u001b\\\n"
      ]
     },
     "metadata": {},
     "output_type": "display_data"
    },
    {
     "data": {
      "text/html": [
       "<pre style=\"white-space:pre;overflow-x:auto;line-height:normal;font-family:Menlo,'DejaVu Sans Mono',consolas,'Courier New',monospace\"><span style=\"color: #7fbfbf; text-decoration-color: #7fbfbf\">                    </span><span style=\"color: #000080; text-decoration-color: #000080\">INFO    </span> <span style=\"font-weight: bold\">[</span><span style=\"color: #008080; text-decoration-color: #008080; font-weight: bold\">86</span>/<span style=\"color: #008080; text-decoration-color: #008080; font-weight: bold\">380</span><span style=\"font-weight: bold\">]</span> Retrieving game with <span style=\"color: #808000; text-decoration-color: #808000\">id</span>=<span style=\"color: #008080; text-decoration-color: #008080; font-weight: bold\">1549676</span>                              <a href=\"file:///home/morten/.conda/envs/packing-report/lib/python3.10/site-packages/soccerdata/whoscored.py\" target=\"_blank\"><span style=\"color: #7f7f7f; text-decoration-color: #7f7f7f\">whoscored.py</span></a><span style=\"color: #7f7f7f; text-decoration-color: #7f7f7f\">:</span><a href=\"file:///home/morten/.conda/envs/packing-report/lib/python3.10/site-packages/soccerdata/whoscored.py#584\" target=\"_blank\"><span style=\"color: #7f7f7f; text-decoration-color: #7f7f7f\">584</span></a>\n",
       "</pre>\n"
      ],
      "text/plain": [
       "\u001b[2;36m                   \u001b[0m\u001b[2;36m \u001b[0m\u001b[34mINFO    \u001b[0m \u001b[1m[\u001b[0m\u001b[1;36m86\u001b[0m/\u001b[1;36m380\u001b[0m\u001b[1m]\u001b[0m Retrieving game with \u001b[33mid\u001b[0m=\u001b[1;36m1549676\u001b[0m                              \u001b]8;id=604104;file:///home/morten/.conda/envs/packing-report/lib/python3.10/site-packages/soccerdata/whoscored.py\u001b\\\u001b[2mwhoscored.py\u001b[0m\u001b]8;;\u001b\\\u001b[2m:\u001b[0m\u001b]8;id=833684;file:///home/morten/.conda/envs/packing-report/lib/python3.10/site-packages/soccerdata/whoscored.py#584\u001b\\\u001b[2m584\u001b[0m\u001b]8;;\u001b\\\n"
      ]
     },
     "metadata": {},
     "output_type": "display_data"
    },
    {
     "data": {
      "text/html": [
       "<pre style=\"white-space:pre;overflow-x:auto;line-height:normal;font-family:Menlo,'DejaVu Sans Mono',consolas,'Courier New',monospace\"><span style=\"color: #7fbfbf; text-decoration-color: #7fbfbf\">                    </span><span style=\"color: #000080; text-decoration-color: #000080\">INFO    </span> <span style=\"font-weight: bold\">[</span><span style=\"color: #008080; text-decoration-color: #008080; font-weight: bold\">87</span>/<span style=\"color: #008080; text-decoration-color: #008080; font-weight: bold\">380</span><span style=\"font-weight: bold\">]</span> Retrieving game with <span style=\"color: #808000; text-decoration-color: #808000\">id</span>=<span style=\"color: #008080; text-decoration-color: #008080; font-weight: bold\">1549860</span>                              <a href=\"file:///home/morten/.conda/envs/packing-report/lib/python3.10/site-packages/soccerdata/whoscored.py\" target=\"_blank\"><span style=\"color: #7f7f7f; text-decoration-color: #7f7f7f\">whoscored.py</span></a><span style=\"color: #7f7f7f; text-decoration-color: #7f7f7f\">:</span><a href=\"file:///home/morten/.conda/envs/packing-report/lib/python3.10/site-packages/soccerdata/whoscored.py#584\" target=\"_blank\"><span style=\"color: #7f7f7f; text-decoration-color: #7f7f7f\">584</span></a>\n",
       "</pre>\n"
      ],
      "text/plain": [
       "\u001b[2;36m                   \u001b[0m\u001b[2;36m \u001b[0m\u001b[34mINFO    \u001b[0m \u001b[1m[\u001b[0m\u001b[1;36m87\u001b[0m/\u001b[1;36m380\u001b[0m\u001b[1m]\u001b[0m Retrieving game with \u001b[33mid\u001b[0m=\u001b[1;36m1549860\u001b[0m                              \u001b]8;id=656654;file:///home/morten/.conda/envs/packing-report/lib/python3.10/site-packages/soccerdata/whoscored.py\u001b\\\u001b[2mwhoscored.py\u001b[0m\u001b]8;;\u001b\\\u001b[2m:\u001b[0m\u001b]8;id=722046;file:///home/morten/.conda/envs/packing-report/lib/python3.10/site-packages/soccerdata/whoscored.py#584\u001b\\\u001b[2m584\u001b[0m\u001b]8;;\u001b\\\n"
      ]
     },
     "metadata": {},
     "output_type": "display_data"
    },
    {
     "data": {
      "text/html": [
       "<pre style=\"white-space:pre;overflow-x:auto;line-height:normal;font-family:Menlo,'DejaVu Sans Mono',consolas,'Courier New',monospace\"><span style=\"color: #7fbfbf; text-decoration-color: #7fbfbf\">                    </span><span style=\"color: #000080; text-decoration-color: #000080\">INFO    </span> <span style=\"font-weight: bold\">[</span><span style=\"color: #008080; text-decoration-color: #008080; font-weight: bold\">88</span>/<span style=\"color: #008080; text-decoration-color: #008080; font-weight: bold\">380</span><span style=\"font-weight: bold\">]</span> Retrieving game with <span style=\"color: #808000; text-decoration-color: #808000\">id</span>=<span style=\"color: #008080; text-decoration-color: #008080; font-weight: bold\">1549607</span>                              <a href=\"file:///home/morten/.conda/envs/packing-report/lib/python3.10/site-packages/soccerdata/whoscored.py\" target=\"_blank\"><span style=\"color: #7f7f7f; text-decoration-color: #7f7f7f\">whoscored.py</span></a><span style=\"color: #7f7f7f; text-decoration-color: #7f7f7f\">:</span><a href=\"file:///home/morten/.conda/envs/packing-report/lib/python3.10/site-packages/soccerdata/whoscored.py#584\" target=\"_blank\"><span style=\"color: #7f7f7f; text-decoration-color: #7f7f7f\">584</span></a>\n",
       "</pre>\n"
      ],
      "text/plain": [
       "\u001b[2;36m                   \u001b[0m\u001b[2;36m \u001b[0m\u001b[34mINFO    \u001b[0m \u001b[1m[\u001b[0m\u001b[1;36m88\u001b[0m/\u001b[1;36m380\u001b[0m\u001b[1m]\u001b[0m Retrieving game with \u001b[33mid\u001b[0m=\u001b[1;36m1549607\u001b[0m                              \u001b]8;id=784924;file:///home/morten/.conda/envs/packing-report/lib/python3.10/site-packages/soccerdata/whoscored.py\u001b\\\u001b[2mwhoscored.py\u001b[0m\u001b]8;;\u001b\\\u001b[2m:\u001b[0m\u001b]8;id=727865;file:///home/morten/.conda/envs/packing-report/lib/python3.10/site-packages/soccerdata/whoscored.py#584\u001b\\\u001b[2m584\u001b[0m\u001b]8;;\u001b\\\n"
      ]
     },
     "metadata": {},
     "output_type": "display_data"
    },
    {
     "data": {
      "text/html": [
       "<pre style=\"white-space:pre;overflow-x:auto;line-height:normal;font-family:Menlo,'DejaVu Sans Mono',consolas,'Courier New',monospace\"><span style=\"color: #7fbfbf; text-decoration-color: #7fbfbf\">                    </span><span style=\"color: #000080; text-decoration-color: #000080\">INFO    </span> <span style=\"font-weight: bold\">[</span><span style=\"color: #008080; text-decoration-color: #008080; font-weight: bold\">89</span>/<span style=\"color: #008080; text-decoration-color: #008080; font-weight: bold\">380</span><span style=\"font-weight: bold\">]</span> Retrieving game with <span style=\"color: #808000; text-decoration-color: #808000\">id</span>=<span style=\"color: #008080; text-decoration-color: #008080; font-weight: bold\">1549672</span>                              <a href=\"file:///home/morten/.conda/envs/packing-report/lib/python3.10/site-packages/soccerdata/whoscored.py\" target=\"_blank\"><span style=\"color: #7f7f7f; text-decoration-color: #7f7f7f\">whoscored.py</span></a><span style=\"color: #7f7f7f; text-decoration-color: #7f7f7f\">:</span><a href=\"file:///home/morten/.conda/envs/packing-report/lib/python3.10/site-packages/soccerdata/whoscored.py#584\" target=\"_blank\"><span style=\"color: #7f7f7f; text-decoration-color: #7f7f7f\">584</span></a>\n",
       "</pre>\n"
      ],
      "text/plain": [
       "\u001b[2;36m                   \u001b[0m\u001b[2;36m \u001b[0m\u001b[34mINFO    \u001b[0m \u001b[1m[\u001b[0m\u001b[1;36m89\u001b[0m/\u001b[1;36m380\u001b[0m\u001b[1m]\u001b[0m Retrieving game with \u001b[33mid\u001b[0m=\u001b[1;36m1549672\u001b[0m                              \u001b]8;id=531243;file:///home/morten/.conda/envs/packing-report/lib/python3.10/site-packages/soccerdata/whoscored.py\u001b\\\u001b[2mwhoscored.py\u001b[0m\u001b]8;;\u001b\\\u001b[2m:\u001b[0m\u001b]8;id=475125;file:///home/morten/.conda/envs/packing-report/lib/python3.10/site-packages/soccerdata/whoscored.py#584\u001b\\\u001b[2m584\u001b[0m\u001b]8;;\u001b\\\n"
      ]
     },
     "metadata": {},
     "output_type": "display_data"
    },
    {
     "data": {
      "text/html": [
       "<pre style=\"white-space:pre;overflow-x:auto;line-height:normal;font-family:Menlo,'DejaVu Sans Mono',consolas,'Courier New',monospace\"><span style=\"color: #7fbfbf; text-decoration-color: #7fbfbf\">                    </span><span style=\"color: #000080; text-decoration-color: #000080\">INFO    </span> <span style=\"font-weight: bold\">[</span><span style=\"color: #008080; text-decoration-color: #008080; font-weight: bold\">90</span>/<span style=\"color: #008080; text-decoration-color: #008080; font-weight: bold\">380</span><span style=\"font-weight: bold\">]</span> Retrieving game with <span style=\"color: #808000; text-decoration-color: #808000\">id</span>=<span style=\"color: #008080; text-decoration-color: #008080; font-weight: bold\">1549815</span>                              <a href=\"file:///home/morten/.conda/envs/packing-report/lib/python3.10/site-packages/soccerdata/whoscored.py\" target=\"_blank\"><span style=\"color: #7f7f7f; text-decoration-color: #7f7f7f\">whoscored.py</span></a><span style=\"color: #7f7f7f; text-decoration-color: #7f7f7f\">:</span><a href=\"file:///home/morten/.conda/envs/packing-report/lib/python3.10/site-packages/soccerdata/whoscored.py#584\" target=\"_blank\"><span style=\"color: #7f7f7f; text-decoration-color: #7f7f7f\">584</span></a>\n",
       "</pre>\n"
      ],
      "text/plain": [
       "\u001b[2;36m                   \u001b[0m\u001b[2;36m \u001b[0m\u001b[34mINFO    \u001b[0m \u001b[1m[\u001b[0m\u001b[1;36m90\u001b[0m/\u001b[1;36m380\u001b[0m\u001b[1m]\u001b[0m Retrieving game with \u001b[33mid\u001b[0m=\u001b[1;36m1549815\u001b[0m                              \u001b]8;id=974895;file:///home/morten/.conda/envs/packing-report/lib/python3.10/site-packages/soccerdata/whoscored.py\u001b\\\u001b[2mwhoscored.py\u001b[0m\u001b]8;;\u001b\\\u001b[2m:\u001b[0m\u001b]8;id=514440;file:///home/morten/.conda/envs/packing-report/lib/python3.10/site-packages/soccerdata/whoscored.py#584\u001b\\\u001b[2m584\u001b[0m\u001b]8;;\u001b\\\n"
      ]
     },
     "metadata": {},
     "output_type": "display_data"
    },
    {
     "data": {
      "text/html": [
       "<pre style=\"white-space:pre;overflow-x:auto;line-height:normal;font-family:Menlo,'DejaVu Sans Mono',consolas,'Courier New',monospace\"><span style=\"color: #7fbfbf; text-decoration-color: #7fbfbf\">                    </span><span style=\"color: #000080; text-decoration-color: #000080\">INFO    </span> <span style=\"font-weight: bold\">[</span><span style=\"color: #008080; text-decoration-color: #008080; font-weight: bold\">91</span>/<span style=\"color: #008080; text-decoration-color: #008080; font-weight: bold\">380</span><span style=\"font-weight: bold\">]</span> Retrieving game with <span style=\"color: #808000; text-decoration-color: #808000\">id</span>=<span style=\"color: #008080; text-decoration-color: #008080; font-weight: bold\">1549838</span>                              <a href=\"file:///home/morten/.conda/envs/packing-report/lib/python3.10/site-packages/soccerdata/whoscored.py\" target=\"_blank\"><span style=\"color: #7f7f7f; text-decoration-color: #7f7f7f\">whoscored.py</span></a><span style=\"color: #7f7f7f; text-decoration-color: #7f7f7f\">:</span><a href=\"file:///home/morten/.conda/envs/packing-report/lib/python3.10/site-packages/soccerdata/whoscored.py#584\" target=\"_blank\"><span style=\"color: #7f7f7f; text-decoration-color: #7f7f7f\">584</span></a>\n",
       "</pre>\n"
      ],
      "text/plain": [
       "\u001b[2;36m                   \u001b[0m\u001b[2;36m \u001b[0m\u001b[34mINFO    \u001b[0m \u001b[1m[\u001b[0m\u001b[1;36m91\u001b[0m/\u001b[1;36m380\u001b[0m\u001b[1m]\u001b[0m Retrieving game with \u001b[33mid\u001b[0m=\u001b[1;36m1549838\u001b[0m                              \u001b]8;id=801320;file:///home/morten/.conda/envs/packing-report/lib/python3.10/site-packages/soccerdata/whoscored.py\u001b\\\u001b[2mwhoscored.py\u001b[0m\u001b]8;;\u001b\\\u001b[2m:\u001b[0m\u001b]8;id=1284;file:///home/morten/.conda/envs/packing-report/lib/python3.10/site-packages/soccerdata/whoscored.py#584\u001b\\\u001b[2m584\u001b[0m\u001b]8;;\u001b\\\n"
      ]
     },
     "metadata": {},
     "output_type": "display_data"
    },
    {
     "data": {
      "text/html": [
       "<pre style=\"white-space:pre;overflow-x:auto;line-height:normal;font-family:Menlo,'DejaVu Sans Mono',consolas,'Courier New',monospace\"><span style=\"color: #7fbfbf; text-decoration-color: #7fbfbf\">                    </span><span style=\"color: #000080; text-decoration-color: #000080\">INFO    </span> <span style=\"font-weight: bold\">[</span><span style=\"color: #008080; text-decoration-color: #008080; font-weight: bold\">92</span>/<span style=\"color: #008080; text-decoration-color: #008080; font-weight: bold\">380</span><span style=\"font-weight: bold\">]</span> Retrieving game with <span style=\"color: #808000; text-decoration-color: #808000\">id</span>=<span style=\"color: #008080; text-decoration-color: #008080; font-weight: bold\">1549878</span>                              <a href=\"file:///home/morten/.conda/envs/packing-report/lib/python3.10/site-packages/soccerdata/whoscored.py\" target=\"_blank\"><span style=\"color: #7f7f7f; text-decoration-color: #7f7f7f\">whoscored.py</span></a><span style=\"color: #7f7f7f; text-decoration-color: #7f7f7f\">:</span><a href=\"file:///home/morten/.conda/envs/packing-report/lib/python3.10/site-packages/soccerdata/whoscored.py#584\" target=\"_blank\"><span style=\"color: #7f7f7f; text-decoration-color: #7f7f7f\">584</span></a>\n",
       "</pre>\n"
      ],
      "text/plain": [
       "\u001b[2;36m                   \u001b[0m\u001b[2;36m \u001b[0m\u001b[34mINFO    \u001b[0m \u001b[1m[\u001b[0m\u001b[1;36m92\u001b[0m/\u001b[1;36m380\u001b[0m\u001b[1m]\u001b[0m Retrieving game with \u001b[33mid\u001b[0m=\u001b[1;36m1549878\u001b[0m                              \u001b]8;id=25803;file:///home/morten/.conda/envs/packing-report/lib/python3.10/site-packages/soccerdata/whoscored.py\u001b\\\u001b[2mwhoscored.py\u001b[0m\u001b]8;;\u001b\\\u001b[2m:\u001b[0m\u001b]8;id=2523;file:///home/morten/.conda/envs/packing-report/lib/python3.10/site-packages/soccerdata/whoscored.py#584\u001b\\\u001b[2m584\u001b[0m\u001b]8;;\u001b\\\n"
      ]
     },
     "metadata": {},
     "output_type": "display_data"
    },
    {
     "data": {
      "text/html": [
       "<pre style=\"white-space:pre;overflow-x:auto;line-height:normal;font-family:Menlo,'DejaVu Sans Mono',consolas,'Courier New',monospace\"><span style=\"color: #7fbfbf; text-decoration-color: #7fbfbf\">                    </span><span style=\"color: #000080; text-decoration-color: #000080\">INFO    </span> <span style=\"font-weight: bold\">[</span><span style=\"color: #008080; text-decoration-color: #008080; font-weight: bold\">93</span>/<span style=\"color: #008080; text-decoration-color: #008080; font-weight: bold\">380</span><span style=\"font-weight: bold\">]</span> Retrieving game with <span style=\"color: #808000; text-decoration-color: #808000\">id</span>=<span style=\"color: #008080; text-decoration-color: #008080; font-weight: bold\">1549669</span>                              <a href=\"file:///home/morten/.conda/envs/packing-report/lib/python3.10/site-packages/soccerdata/whoscored.py\" target=\"_blank\"><span style=\"color: #7f7f7f; text-decoration-color: #7f7f7f\">whoscored.py</span></a><span style=\"color: #7f7f7f; text-decoration-color: #7f7f7f\">:</span><a href=\"file:///home/morten/.conda/envs/packing-report/lib/python3.10/site-packages/soccerdata/whoscored.py#584\" target=\"_blank\"><span style=\"color: #7f7f7f; text-decoration-color: #7f7f7f\">584</span></a>\n",
       "</pre>\n"
      ],
      "text/plain": [
       "\u001b[2;36m                   \u001b[0m\u001b[2;36m \u001b[0m\u001b[34mINFO    \u001b[0m \u001b[1m[\u001b[0m\u001b[1;36m93\u001b[0m/\u001b[1;36m380\u001b[0m\u001b[1m]\u001b[0m Retrieving game with \u001b[33mid\u001b[0m=\u001b[1;36m1549669\u001b[0m                              \u001b]8;id=721367;file:///home/morten/.conda/envs/packing-report/lib/python3.10/site-packages/soccerdata/whoscored.py\u001b\\\u001b[2mwhoscored.py\u001b[0m\u001b]8;;\u001b\\\u001b[2m:\u001b[0m\u001b]8;id=115251;file:///home/morten/.conda/envs/packing-report/lib/python3.10/site-packages/soccerdata/whoscored.py#584\u001b\\\u001b[2m584\u001b[0m\u001b]8;;\u001b\\\n"
      ]
     },
     "metadata": {},
     "output_type": "display_data"
    },
    {
     "data": {
      "text/html": [
       "<pre style=\"white-space:pre;overflow-x:auto;line-height:normal;font-family:Menlo,'DejaVu Sans Mono',consolas,'Courier New',monospace\"><span style=\"color: #7fbfbf; text-decoration-color: #7fbfbf\">                    </span><span style=\"color: #000080; text-decoration-color: #000080\">INFO    </span> <span style=\"font-weight: bold\">[</span><span style=\"color: #008080; text-decoration-color: #008080; font-weight: bold\">94</span>/<span style=\"color: #008080; text-decoration-color: #008080; font-weight: bold\">380</span><span style=\"font-weight: bold\">]</span> Retrieving game with <span style=\"color: #808000; text-decoration-color: #808000\">id</span>=<span style=\"color: #008080; text-decoration-color: #008080; font-weight: bold\">1549659</span>                              <a href=\"file:///home/morten/.conda/envs/packing-report/lib/python3.10/site-packages/soccerdata/whoscored.py\" target=\"_blank\"><span style=\"color: #7f7f7f; text-decoration-color: #7f7f7f\">whoscored.py</span></a><span style=\"color: #7f7f7f; text-decoration-color: #7f7f7f\">:</span><a href=\"file:///home/morten/.conda/envs/packing-report/lib/python3.10/site-packages/soccerdata/whoscored.py#584\" target=\"_blank\"><span style=\"color: #7f7f7f; text-decoration-color: #7f7f7f\">584</span></a>\n",
       "</pre>\n"
      ],
      "text/plain": [
       "\u001b[2;36m                   \u001b[0m\u001b[2;36m \u001b[0m\u001b[34mINFO    \u001b[0m \u001b[1m[\u001b[0m\u001b[1;36m94\u001b[0m/\u001b[1;36m380\u001b[0m\u001b[1m]\u001b[0m Retrieving game with \u001b[33mid\u001b[0m=\u001b[1;36m1549659\u001b[0m                              \u001b]8;id=953848;file:///home/morten/.conda/envs/packing-report/lib/python3.10/site-packages/soccerdata/whoscored.py\u001b\\\u001b[2mwhoscored.py\u001b[0m\u001b]8;;\u001b\\\u001b[2m:\u001b[0m\u001b]8;id=747347;file:///home/morten/.conda/envs/packing-report/lib/python3.10/site-packages/soccerdata/whoscored.py#584\u001b\\\u001b[2m584\u001b[0m\u001b]8;;\u001b\\\n"
      ]
     },
     "metadata": {},
     "output_type": "display_data"
    },
    {
     "data": {
      "text/html": [
       "<pre style=\"white-space:pre;overflow-x:auto;line-height:normal;font-family:Menlo,'DejaVu Sans Mono',consolas,'Courier New',monospace\"><span style=\"color: #7fbfbf; text-decoration-color: #7fbfbf\">                    </span><span style=\"color: #000080; text-decoration-color: #000080\">INFO    </span> <span style=\"font-weight: bold\">[</span><span style=\"color: #008080; text-decoration-color: #008080; font-weight: bold\">95</span>/<span style=\"color: #008080; text-decoration-color: #008080; font-weight: bold\">380</span><span style=\"font-weight: bold\">]</span> Retrieving game with <span style=\"color: #808000; text-decoration-color: #808000\">id</span>=<span style=\"color: #008080; text-decoration-color: #008080; font-weight: bold\">1549889</span>                              <a href=\"file:///home/morten/.conda/envs/packing-report/lib/python3.10/site-packages/soccerdata/whoscored.py\" target=\"_blank\"><span style=\"color: #7f7f7f; text-decoration-color: #7f7f7f\">whoscored.py</span></a><span style=\"color: #7f7f7f; text-decoration-color: #7f7f7f\">:</span><a href=\"file:///home/morten/.conda/envs/packing-report/lib/python3.10/site-packages/soccerdata/whoscored.py#584\" target=\"_blank\"><span style=\"color: #7f7f7f; text-decoration-color: #7f7f7f\">584</span></a>\n",
       "</pre>\n"
      ],
      "text/plain": [
       "\u001b[2;36m                   \u001b[0m\u001b[2;36m \u001b[0m\u001b[34mINFO    \u001b[0m \u001b[1m[\u001b[0m\u001b[1;36m95\u001b[0m/\u001b[1;36m380\u001b[0m\u001b[1m]\u001b[0m Retrieving game with \u001b[33mid\u001b[0m=\u001b[1;36m1549889\u001b[0m                              \u001b]8;id=122477;file:///home/morten/.conda/envs/packing-report/lib/python3.10/site-packages/soccerdata/whoscored.py\u001b\\\u001b[2mwhoscored.py\u001b[0m\u001b]8;;\u001b\\\u001b[2m:\u001b[0m\u001b]8;id=611920;file:///home/morten/.conda/envs/packing-report/lib/python3.10/site-packages/soccerdata/whoscored.py#584\u001b\\\u001b[2m584\u001b[0m\u001b]8;;\u001b\\\n"
      ]
     },
     "metadata": {},
     "output_type": "display_data"
    },
    {
     "data": {
      "text/html": [
       "<pre style=\"white-space:pre;overflow-x:auto;line-height:normal;font-family:Menlo,'DejaVu Sans Mono',consolas,'Courier New',monospace\"><span style=\"color: #7fbfbf; text-decoration-color: #7fbfbf\">                    </span><span style=\"color: #000080; text-decoration-color: #000080\">INFO    </span> <span style=\"font-weight: bold\">[</span><span style=\"color: #008080; text-decoration-color: #008080; font-weight: bold\">96</span>/<span style=\"color: #008080; text-decoration-color: #008080; font-weight: bold\">380</span><span style=\"font-weight: bold\">]</span> Retrieving game with <span style=\"color: #808000; text-decoration-color: #808000\">id</span>=<span style=\"color: #008080; text-decoration-color: #008080; font-weight: bold\">1549736</span>                              <a href=\"file:///home/morten/.conda/envs/packing-report/lib/python3.10/site-packages/soccerdata/whoscored.py\" target=\"_blank\"><span style=\"color: #7f7f7f; text-decoration-color: #7f7f7f\">whoscored.py</span></a><span style=\"color: #7f7f7f; text-decoration-color: #7f7f7f\">:</span><a href=\"file:///home/morten/.conda/envs/packing-report/lib/python3.10/site-packages/soccerdata/whoscored.py#584\" target=\"_blank\"><span style=\"color: #7f7f7f; text-decoration-color: #7f7f7f\">584</span></a>\n",
       "</pre>\n"
      ],
      "text/plain": [
       "\u001b[2;36m                   \u001b[0m\u001b[2;36m \u001b[0m\u001b[34mINFO    \u001b[0m \u001b[1m[\u001b[0m\u001b[1;36m96\u001b[0m/\u001b[1;36m380\u001b[0m\u001b[1m]\u001b[0m Retrieving game with \u001b[33mid\u001b[0m=\u001b[1;36m1549736\u001b[0m                              \u001b]8;id=737610;file:///home/morten/.conda/envs/packing-report/lib/python3.10/site-packages/soccerdata/whoscored.py\u001b\\\u001b[2mwhoscored.py\u001b[0m\u001b]8;;\u001b\\\u001b[2m:\u001b[0m\u001b]8;id=760802;file:///home/morten/.conda/envs/packing-report/lib/python3.10/site-packages/soccerdata/whoscored.py#584\u001b\\\u001b[2m584\u001b[0m\u001b]8;;\u001b\\\n"
      ]
     },
     "metadata": {},
     "output_type": "display_data"
    },
    {
     "data": {
      "text/html": [
       "<pre style=\"white-space:pre;overflow-x:auto;line-height:normal;font-family:Menlo,'DejaVu Sans Mono',consolas,'Courier New',monospace\"><span style=\"color: #7fbfbf; text-decoration-color: #7fbfbf\">                    </span><span style=\"color: #000080; text-decoration-color: #000080\">INFO    </span> <span style=\"font-weight: bold\">[</span><span style=\"color: #008080; text-decoration-color: #008080; font-weight: bold\">97</span>/<span style=\"color: #008080; text-decoration-color: #008080; font-weight: bold\">380</span><span style=\"font-weight: bold\">]</span> Retrieving game with <span style=\"color: #808000; text-decoration-color: #808000\">id</span>=<span style=\"color: #008080; text-decoration-color: #008080; font-weight: bold\">1549701</span>                              <a href=\"file:///home/morten/.conda/envs/packing-report/lib/python3.10/site-packages/soccerdata/whoscored.py\" target=\"_blank\"><span style=\"color: #7f7f7f; text-decoration-color: #7f7f7f\">whoscored.py</span></a><span style=\"color: #7f7f7f; text-decoration-color: #7f7f7f\">:</span><a href=\"file:///home/morten/.conda/envs/packing-report/lib/python3.10/site-packages/soccerdata/whoscored.py#584\" target=\"_blank\"><span style=\"color: #7f7f7f; text-decoration-color: #7f7f7f\">584</span></a>\n",
       "</pre>\n"
      ],
      "text/plain": [
       "\u001b[2;36m                   \u001b[0m\u001b[2;36m \u001b[0m\u001b[34mINFO    \u001b[0m \u001b[1m[\u001b[0m\u001b[1;36m97\u001b[0m/\u001b[1;36m380\u001b[0m\u001b[1m]\u001b[0m Retrieving game with \u001b[33mid\u001b[0m=\u001b[1;36m1549701\u001b[0m                              \u001b]8;id=888244;file:///home/morten/.conda/envs/packing-report/lib/python3.10/site-packages/soccerdata/whoscored.py\u001b\\\u001b[2mwhoscored.py\u001b[0m\u001b]8;;\u001b\\\u001b[2m:\u001b[0m\u001b]8;id=439149;file:///home/morten/.conda/envs/packing-report/lib/python3.10/site-packages/soccerdata/whoscored.py#584\u001b\\\u001b[2m584\u001b[0m\u001b]8;;\u001b\\\n"
      ]
     },
     "metadata": {},
     "output_type": "display_data"
    },
    {
     "data": {
      "text/html": [
       "<pre style=\"white-space:pre;overflow-x:auto;line-height:normal;font-family:Menlo,'DejaVu Sans Mono',consolas,'Courier New',monospace\"><span style=\"color: #7fbfbf; text-decoration-color: #7fbfbf\">                    </span><span style=\"color: #000080; text-decoration-color: #000080\">INFO    </span> <span style=\"font-weight: bold\">[</span><span style=\"color: #008080; text-decoration-color: #008080; font-weight: bold\">98</span>/<span style=\"color: #008080; text-decoration-color: #008080; font-weight: bold\">380</span><span style=\"font-weight: bold\">]</span> Retrieving game with <span style=\"color: #808000; text-decoration-color: #808000\">id</span>=<span style=\"color: #008080; text-decoration-color: #008080; font-weight: bold\">1549866</span>                              <a href=\"file:///home/morten/.conda/envs/packing-report/lib/python3.10/site-packages/soccerdata/whoscored.py\" target=\"_blank\"><span style=\"color: #7f7f7f; text-decoration-color: #7f7f7f\">whoscored.py</span></a><span style=\"color: #7f7f7f; text-decoration-color: #7f7f7f\">:</span><a href=\"file:///home/morten/.conda/envs/packing-report/lib/python3.10/site-packages/soccerdata/whoscored.py#584\" target=\"_blank\"><span style=\"color: #7f7f7f; text-decoration-color: #7f7f7f\">584</span></a>\n",
       "</pre>\n"
      ],
      "text/plain": [
       "\u001b[2;36m                   \u001b[0m\u001b[2;36m \u001b[0m\u001b[34mINFO    \u001b[0m \u001b[1m[\u001b[0m\u001b[1;36m98\u001b[0m/\u001b[1;36m380\u001b[0m\u001b[1m]\u001b[0m Retrieving game with \u001b[33mid\u001b[0m=\u001b[1;36m1549866\u001b[0m                              \u001b]8;id=209322;file:///home/morten/.conda/envs/packing-report/lib/python3.10/site-packages/soccerdata/whoscored.py\u001b\\\u001b[2mwhoscored.py\u001b[0m\u001b]8;;\u001b\\\u001b[2m:\u001b[0m\u001b]8;id=125237;file:///home/morten/.conda/envs/packing-report/lib/python3.10/site-packages/soccerdata/whoscored.py#584\u001b\\\u001b[2m584\u001b[0m\u001b]8;;\u001b\\\n"
      ]
     },
     "metadata": {},
     "output_type": "display_data"
    },
    {
     "data": {
      "text/html": [
       "<pre style=\"white-space:pre;overflow-x:auto;line-height:normal;font-family:Menlo,'DejaVu Sans Mono',consolas,'Courier New',monospace\"><span style=\"color: #7fbfbf; text-decoration-color: #7fbfbf\">                    </span><span style=\"color: #000080; text-decoration-color: #000080\">INFO    </span> <span style=\"font-weight: bold\">[</span><span style=\"color: #008080; text-decoration-color: #008080; font-weight: bold\">99</span>/<span style=\"color: #008080; text-decoration-color: #008080; font-weight: bold\">380</span><span style=\"font-weight: bold\">]</span> Retrieving game with <span style=\"color: #808000; text-decoration-color: #808000\">id</span>=<span style=\"color: #008080; text-decoration-color: #008080; font-weight: bold\">1549606</span>                              <a href=\"file:///home/morten/.conda/envs/packing-report/lib/python3.10/site-packages/soccerdata/whoscored.py\" target=\"_blank\"><span style=\"color: #7f7f7f; text-decoration-color: #7f7f7f\">whoscored.py</span></a><span style=\"color: #7f7f7f; text-decoration-color: #7f7f7f\">:</span><a href=\"file:///home/morten/.conda/envs/packing-report/lib/python3.10/site-packages/soccerdata/whoscored.py#584\" target=\"_blank\"><span style=\"color: #7f7f7f; text-decoration-color: #7f7f7f\">584</span></a>\n",
       "</pre>\n"
      ],
      "text/plain": [
       "\u001b[2;36m                   \u001b[0m\u001b[2;36m \u001b[0m\u001b[34mINFO    \u001b[0m \u001b[1m[\u001b[0m\u001b[1;36m99\u001b[0m/\u001b[1;36m380\u001b[0m\u001b[1m]\u001b[0m Retrieving game with \u001b[33mid\u001b[0m=\u001b[1;36m1549606\u001b[0m                              \u001b]8;id=334451;file:///home/morten/.conda/envs/packing-report/lib/python3.10/site-packages/soccerdata/whoscored.py\u001b\\\u001b[2mwhoscored.py\u001b[0m\u001b]8;;\u001b\\\u001b[2m:\u001b[0m\u001b]8;id=84728;file:///home/morten/.conda/envs/packing-report/lib/python3.10/site-packages/soccerdata/whoscored.py#584\u001b\\\u001b[2m584\u001b[0m\u001b]8;;\u001b\\\n"
      ]
     },
     "metadata": {},
     "output_type": "display_data"
    },
    {
     "data": {
      "text/html": [
       "<pre style=\"white-space:pre;overflow-x:auto;line-height:normal;font-family:Menlo,'DejaVu Sans Mono',consolas,'Courier New',monospace\"><span style=\"color: #7fbfbf; text-decoration-color: #7fbfbf\">                    </span><span style=\"color: #000080; text-decoration-color: #000080\">INFO    </span> <span style=\"font-weight: bold\">[</span><span style=\"color: #008080; text-decoration-color: #008080; font-weight: bold\">100</span>/<span style=\"color: #008080; text-decoration-color: #008080; font-weight: bold\">380</span><span style=\"font-weight: bold\">]</span> Retrieving game with <span style=\"color: #808000; text-decoration-color: #808000\">id</span>=<span style=\"color: #008080; text-decoration-color: #008080; font-weight: bold\">1549908</span>                             <a href=\"file:///home/morten/.conda/envs/packing-report/lib/python3.10/site-packages/soccerdata/whoscored.py\" target=\"_blank\"><span style=\"color: #7f7f7f; text-decoration-color: #7f7f7f\">whoscored.py</span></a><span style=\"color: #7f7f7f; text-decoration-color: #7f7f7f\">:</span><a href=\"file:///home/morten/.conda/envs/packing-report/lib/python3.10/site-packages/soccerdata/whoscored.py#584\" target=\"_blank\"><span style=\"color: #7f7f7f; text-decoration-color: #7f7f7f\">584</span></a>\n",
       "</pre>\n"
      ],
      "text/plain": [
       "\u001b[2;36m                   \u001b[0m\u001b[2;36m \u001b[0m\u001b[34mINFO    \u001b[0m \u001b[1m[\u001b[0m\u001b[1;36m100\u001b[0m/\u001b[1;36m380\u001b[0m\u001b[1m]\u001b[0m Retrieving game with \u001b[33mid\u001b[0m=\u001b[1;36m1549908\u001b[0m                             \u001b]8;id=44395;file:///home/morten/.conda/envs/packing-report/lib/python3.10/site-packages/soccerdata/whoscored.py\u001b\\\u001b[2mwhoscored.py\u001b[0m\u001b]8;;\u001b\\\u001b[2m:\u001b[0m\u001b]8;id=31415;file:///home/morten/.conda/envs/packing-report/lib/python3.10/site-packages/soccerdata/whoscored.py#584\u001b\\\u001b[2m584\u001b[0m\u001b]8;;\u001b\\\n"
      ]
     },
     "metadata": {},
     "output_type": "display_data"
    },
    {
     "data": {
      "text/html": [
       "<pre style=\"white-space:pre;overflow-x:auto;line-height:normal;font-family:Menlo,'DejaVu Sans Mono',consolas,'Courier New',monospace\"><span style=\"color: #7fbfbf; text-decoration-color: #7fbfbf\">                    </span><span style=\"color: #000080; text-decoration-color: #000080\">INFO    </span> <span style=\"font-weight: bold\">[</span><span style=\"color: #008080; text-decoration-color: #008080; font-weight: bold\">101</span>/<span style=\"color: #008080; text-decoration-color: #008080; font-weight: bold\">380</span><span style=\"font-weight: bold\">]</span> Retrieving game with <span style=\"color: #808000; text-decoration-color: #808000\">id</span>=<span style=\"color: #008080; text-decoration-color: #008080; font-weight: bold\">1549797</span>                             <a href=\"file:///home/morten/.conda/envs/packing-report/lib/python3.10/site-packages/soccerdata/whoscored.py\" target=\"_blank\"><span style=\"color: #7f7f7f; text-decoration-color: #7f7f7f\">whoscored.py</span></a><span style=\"color: #7f7f7f; text-decoration-color: #7f7f7f\">:</span><a href=\"file:///home/morten/.conda/envs/packing-report/lib/python3.10/site-packages/soccerdata/whoscored.py#584\" target=\"_blank\"><span style=\"color: #7f7f7f; text-decoration-color: #7f7f7f\">584</span></a>\n",
       "</pre>\n"
      ],
      "text/plain": [
       "\u001b[2;36m                   \u001b[0m\u001b[2;36m \u001b[0m\u001b[34mINFO    \u001b[0m \u001b[1m[\u001b[0m\u001b[1;36m101\u001b[0m/\u001b[1;36m380\u001b[0m\u001b[1m]\u001b[0m Retrieving game with \u001b[33mid\u001b[0m=\u001b[1;36m1549797\u001b[0m                             \u001b]8;id=421860;file:///home/morten/.conda/envs/packing-report/lib/python3.10/site-packages/soccerdata/whoscored.py\u001b\\\u001b[2mwhoscored.py\u001b[0m\u001b]8;;\u001b\\\u001b[2m:\u001b[0m\u001b]8;id=228974;file:///home/morten/.conda/envs/packing-report/lib/python3.10/site-packages/soccerdata/whoscored.py#584\u001b\\\u001b[2m584\u001b[0m\u001b]8;;\u001b\\\n"
      ]
     },
     "metadata": {},
     "output_type": "display_data"
    },
    {
     "data": {
      "text/html": [
       "<pre style=\"white-space:pre;overflow-x:auto;line-height:normal;font-family:Menlo,'DejaVu Sans Mono',consolas,'Courier New',monospace\"><span style=\"color: #7fbfbf; text-decoration-color: #7fbfbf\">                    </span><span style=\"color: #000080; text-decoration-color: #000080\">INFO    </span> <span style=\"font-weight: bold\">[</span><span style=\"color: #008080; text-decoration-color: #008080; font-weight: bold\">102</span>/<span style=\"color: #008080; text-decoration-color: #008080; font-weight: bold\">380</span><span style=\"font-weight: bold\">]</span> Retrieving game with <span style=\"color: #808000; text-decoration-color: #808000\">id</span>=<span style=\"color: #008080; text-decoration-color: #008080; font-weight: bold\">1549544</span>                             <a href=\"file:///home/morten/.conda/envs/packing-report/lib/python3.10/site-packages/soccerdata/whoscored.py\" target=\"_blank\"><span style=\"color: #7f7f7f; text-decoration-color: #7f7f7f\">whoscored.py</span></a><span style=\"color: #7f7f7f; text-decoration-color: #7f7f7f\">:</span><a href=\"file:///home/morten/.conda/envs/packing-report/lib/python3.10/site-packages/soccerdata/whoscored.py#584\" target=\"_blank\"><span style=\"color: #7f7f7f; text-decoration-color: #7f7f7f\">584</span></a>\n",
       "</pre>\n"
      ],
      "text/plain": [
       "\u001b[2;36m                   \u001b[0m\u001b[2;36m \u001b[0m\u001b[34mINFO    \u001b[0m \u001b[1m[\u001b[0m\u001b[1;36m102\u001b[0m/\u001b[1;36m380\u001b[0m\u001b[1m]\u001b[0m Retrieving game with \u001b[33mid\u001b[0m=\u001b[1;36m1549544\u001b[0m                             \u001b]8;id=932774;file:///home/morten/.conda/envs/packing-report/lib/python3.10/site-packages/soccerdata/whoscored.py\u001b\\\u001b[2mwhoscored.py\u001b[0m\u001b]8;;\u001b\\\u001b[2m:\u001b[0m\u001b]8;id=481912;file:///home/morten/.conda/envs/packing-report/lib/python3.10/site-packages/soccerdata/whoscored.py#584\u001b\\\u001b[2m584\u001b[0m\u001b]8;;\u001b\\\n"
      ]
     },
     "metadata": {},
     "output_type": "display_data"
    },
    {
     "data": {
      "text/html": [
       "<pre style=\"white-space:pre;overflow-x:auto;line-height:normal;font-family:Menlo,'DejaVu Sans Mono',consolas,'Courier New',monospace\"><span style=\"color: #7fbfbf; text-decoration-color: #7fbfbf\">[10/02/22 17:51:59] </span><span style=\"color: #000080; text-decoration-color: #000080\">INFO    </span> <span style=\"font-weight: bold\">[</span><span style=\"color: #008080; text-decoration-color: #008080; font-weight: bold\">103</span>/<span style=\"color: #008080; text-decoration-color: #008080; font-weight: bold\">380</span><span style=\"font-weight: bold\">]</span> Retrieving game with <span style=\"color: #808000; text-decoration-color: #808000\">id</span>=<span style=\"color: #008080; text-decoration-color: #008080; font-weight: bold\">1549855</span>                             <a href=\"file:///home/morten/.conda/envs/packing-report/lib/python3.10/site-packages/soccerdata/whoscored.py\" target=\"_blank\"><span style=\"color: #7f7f7f; text-decoration-color: #7f7f7f\">whoscored.py</span></a><span style=\"color: #7f7f7f; text-decoration-color: #7f7f7f\">:</span><a href=\"file:///home/morten/.conda/envs/packing-report/lib/python3.10/site-packages/soccerdata/whoscored.py#584\" target=\"_blank\"><span style=\"color: #7f7f7f; text-decoration-color: #7f7f7f\">584</span></a>\n",
       "</pre>\n"
      ],
      "text/plain": [
       "\u001b[2;36m[10/02/22 17:51:59]\u001b[0m\u001b[2;36m \u001b[0m\u001b[34mINFO    \u001b[0m \u001b[1m[\u001b[0m\u001b[1;36m103\u001b[0m/\u001b[1;36m380\u001b[0m\u001b[1m]\u001b[0m Retrieving game with \u001b[33mid\u001b[0m=\u001b[1;36m1549855\u001b[0m                             \u001b]8;id=266077;file:///home/morten/.conda/envs/packing-report/lib/python3.10/site-packages/soccerdata/whoscored.py\u001b\\\u001b[2mwhoscored.py\u001b[0m\u001b]8;;\u001b\\\u001b[2m:\u001b[0m\u001b]8;id=375326;file:///home/morten/.conda/envs/packing-report/lib/python3.10/site-packages/soccerdata/whoscored.py#584\u001b\\\u001b[2m584\u001b[0m\u001b]8;;\u001b\\\n"
      ]
     },
     "metadata": {},
     "output_type": "display_data"
    },
    {
     "data": {
      "text/html": [
       "<pre style=\"white-space:pre;overflow-x:auto;line-height:normal;font-family:Menlo,'DejaVu Sans Mono',consolas,'Courier New',monospace\"><span style=\"color: #7fbfbf; text-decoration-color: #7fbfbf\">                    </span><span style=\"color: #000080; text-decoration-color: #000080\">INFO    </span> <span style=\"font-weight: bold\">[</span><span style=\"color: #008080; text-decoration-color: #008080; font-weight: bold\">104</span>/<span style=\"color: #008080; text-decoration-color: #008080; font-weight: bold\">380</span><span style=\"font-weight: bold\">]</span> Retrieving game with <span style=\"color: #808000; text-decoration-color: #808000\">id</span>=<span style=\"color: #008080; text-decoration-color: #008080; font-weight: bold\">1549649</span>                             <a href=\"file:///home/morten/.conda/envs/packing-report/lib/python3.10/site-packages/soccerdata/whoscored.py\" target=\"_blank\"><span style=\"color: #7f7f7f; text-decoration-color: #7f7f7f\">whoscored.py</span></a><span style=\"color: #7f7f7f; text-decoration-color: #7f7f7f\">:</span><a href=\"file:///home/morten/.conda/envs/packing-report/lib/python3.10/site-packages/soccerdata/whoscored.py#584\" target=\"_blank\"><span style=\"color: #7f7f7f; text-decoration-color: #7f7f7f\">584</span></a>\n",
       "</pre>\n"
      ],
      "text/plain": [
       "\u001b[2;36m                   \u001b[0m\u001b[2;36m \u001b[0m\u001b[34mINFO    \u001b[0m \u001b[1m[\u001b[0m\u001b[1;36m104\u001b[0m/\u001b[1;36m380\u001b[0m\u001b[1m]\u001b[0m Retrieving game with \u001b[33mid\u001b[0m=\u001b[1;36m1549649\u001b[0m                             \u001b]8;id=843063;file:///home/morten/.conda/envs/packing-report/lib/python3.10/site-packages/soccerdata/whoscored.py\u001b\\\u001b[2mwhoscored.py\u001b[0m\u001b]8;;\u001b\\\u001b[2m:\u001b[0m\u001b]8;id=122786;file:///home/morten/.conda/envs/packing-report/lib/python3.10/site-packages/soccerdata/whoscored.py#584\u001b\\\u001b[2m584\u001b[0m\u001b]8;;\u001b\\\n"
      ]
     },
     "metadata": {},
     "output_type": "display_data"
    },
    {
     "data": {
      "text/html": [
       "<pre style=\"white-space:pre;overflow-x:auto;line-height:normal;font-family:Menlo,'DejaVu Sans Mono',consolas,'Courier New',monospace\"><span style=\"color: #7fbfbf; text-decoration-color: #7fbfbf\">                    </span><span style=\"color: #000080; text-decoration-color: #000080\">INFO    </span> <span style=\"font-weight: bold\">[</span><span style=\"color: #008080; text-decoration-color: #008080; font-weight: bold\">105</span>/<span style=\"color: #008080; text-decoration-color: #008080; font-weight: bold\">380</span><span style=\"font-weight: bold\">]</span> Retrieving game with <span style=\"color: #808000; text-decoration-color: #808000\">id</span>=<span style=\"color: #008080; text-decoration-color: #008080; font-weight: bold\">1549692</span>                             <a href=\"file:///home/morten/.conda/envs/packing-report/lib/python3.10/site-packages/soccerdata/whoscored.py\" target=\"_blank\"><span style=\"color: #7f7f7f; text-decoration-color: #7f7f7f\">whoscored.py</span></a><span style=\"color: #7f7f7f; text-decoration-color: #7f7f7f\">:</span><a href=\"file:///home/morten/.conda/envs/packing-report/lib/python3.10/site-packages/soccerdata/whoscored.py#584\" target=\"_blank\"><span style=\"color: #7f7f7f; text-decoration-color: #7f7f7f\">584</span></a>\n",
       "</pre>\n"
      ],
      "text/plain": [
       "\u001b[2;36m                   \u001b[0m\u001b[2;36m \u001b[0m\u001b[34mINFO    \u001b[0m \u001b[1m[\u001b[0m\u001b[1;36m105\u001b[0m/\u001b[1;36m380\u001b[0m\u001b[1m]\u001b[0m Retrieving game with \u001b[33mid\u001b[0m=\u001b[1;36m1549692\u001b[0m                             \u001b]8;id=400584;file:///home/morten/.conda/envs/packing-report/lib/python3.10/site-packages/soccerdata/whoscored.py\u001b\\\u001b[2mwhoscored.py\u001b[0m\u001b]8;;\u001b\\\u001b[2m:\u001b[0m\u001b]8;id=407907;file:///home/morten/.conda/envs/packing-report/lib/python3.10/site-packages/soccerdata/whoscored.py#584\u001b\\\u001b[2m584\u001b[0m\u001b]8;;\u001b\\\n"
      ]
     },
     "metadata": {},
     "output_type": "display_data"
    },
    {
     "data": {
      "text/html": [
       "<pre style=\"white-space:pre;overflow-x:auto;line-height:normal;font-family:Menlo,'DejaVu Sans Mono',consolas,'Courier New',monospace\"><span style=\"color: #7fbfbf; text-decoration-color: #7fbfbf\">                    </span><span style=\"color: #000080; text-decoration-color: #000080\">INFO    </span> <span style=\"font-weight: bold\">[</span><span style=\"color: #008080; text-decoration-color: #008080; font-weight: bold\">106</span>/<span style=\"color: #008080; text-decoration-color: #008080; font-weight: bold\">380</span><span style=\"font-weight: bold\">]</span> Retrieving game with <span style=\"color: #808000; text-decoration-color: #808000\">id</span>=<span style=\"color: #008080; text-decoration-color: #008080; font-weight: bold\">1549795</span>                             <a href=\"file:///home/morten/.conda/envs/packing-report/lib/python3.10/site-packages/soccerdata/whoscored.py\" target=\"_blank\"><span style=\"color: #7f7f7f; text-decoration-color: #7f7f7f\">whoscored.py</span></a><span style=\"color: #7f7f7f; text-decoration-color: #7f7f7f\">:</span><a href=\"file:///home/morten/.conda/envs/packing-report/lib/python3.10/site-packages/soccerdata/whoscored.py#584\" target=\"_blank\"><span style=\"color: #7f7f7f; text-decoration-color: #7f7f7f\">584</span></a>\n",
       "</pre>\n"
      ],
      "text/plain": [
       "\u001b[2;36m                   \u001b[0m\u001b[2;36m \u001b[0m\u001b[34mINFO    \u001b[0m \u001b[1m[\u001b[0m\u001b[1;36m106\u001b[0m/\u001b[1;36m380\u001b[0m\u001b[1m]\u001b[0m Retrieving game with \u001b[33mid\u001b[0m=\u001b[1;36m1549795\u001b[0m                             \u001b]8;id=98236;file:///home/morten/.conda/envs/packing-report/lib/python3.10/site-packages/soccerdata/whoscored.py\u001b\\\u001b[2mwhoscored.py\u001b[0m\u001b]8;;\u001b\\\u001b[2m:\u001b[0m\u001b]8;id=639381;file:///home/morten/.conda/envs/packing-report/lib/python3.10/site-packages/soccerdata/whoscored.py#584\u001b\\\u001b[2m584\u001b[0m\u001b]8;;\u001b\\\n"
      ]
     },
     "metadata": {},
     "output_type": "display_data"
    },
    {
     "data": {
      "text/html": [
       "<pre style=\"white-space:pre;overflow-x:auto;line-height:normal;font-family:Menlo,'DejaVu Sans Mono',consolas,'Courier New',monospace\"><span style=\"color: #7fbfbf; text-decoration-color: #7fbfbf\">                    </span><span style=\"color: #000080; text-decoration-color: #000080\">INFO    </span> <span style=\"font-weight: bold\">[</span><span style=\"color: #008080; text-decoration-color: #008080; font-weight: bold\">107</span>/<span style=\"color: #008080; text-decoration-color: #008080; font-weight: bold\">380</span><span style=\"font-weight: bold\">]</span> Retrieving game with <span style=\"color: #808000; text-decoration-color: #808000\">id</span>=<span style=\"color: #008080; text-decoration-color: #008080; font-weight: bold\">1549842</span>                             <a href=\"file:///home/morten/.conda/envs/packing-report/lib/python3.10/site-packages/soccerdata/whoscored.py\" target=\"_blank\"><span style=\"color: #7f7f7f; text-decoration-color: #7f7f7f\">whoscored.py</span></a><span style=\"color: #7f7f7f; text-decoration-color: #7f7f7f\">:</span><a href=\"file:///home/morten/.conda/envs/packing-report/lib/python3.10/site-packages/soccerdata/whoscored.py#584\" target=\"_blank\"><span style=\"color: #7f7f7f; text-decoration-color: #7f7f7f\">584</span></a>\n",
       "</pre>\n"
      ],
      "text/plain": [
       "\u001b[2;36m                   \u001b[0m\u001b[2;36m \u001b[0m\u001b[34mINFO    \u001b[0m \u001b[1m[\u001b[0m\u001b[1;36m107\u001b[0m/\u001b[1;36m380\u001b[0m\u001b[1m]\u001b[0m Retrieving game with \u001b[33mid\u001b[0m=\u001b[1;36m1549842\u001b[0m                             \u001b]8;id=632606;file:///home/morten/.conda/envs/packing-report/lib/python3.10/site-packages/soccerdata/whoscored.py\u001b\\\u001b[2mwhoscored.py\u001b[0m\u001b]8;;\u001b\\\u001b[2m:\u001b[0m\u001b]8;id=417032;file:///home/morten/.conda/envs/packing-report/lib/python3.10/site-packages/soccerdata/whoscored.py#584\u001b\\\u001b[2m584\u001b[0m\u001b]8;;\u001b\\\n"
      ]
     },
     "metadata": {},
     "output_type": "display_data"
    },
    {
     "data": {
      "text/html": [
       "<pre style=\"white-space:pre;overflow-x:auto;line-height:normal;font-family:Menlo,'DejaVu Sans Mono',consolas,'Courier New',monospace\"><span style=\"color: #7fbfbf; text-decoration-color: #7fbfbf\">                    </span><span style=\"color: #000080; text-decoration-color: #000080\">INFO    </span> <span style=\"font-weight: bold\">[</span><span style=\"color: #008080; text-decoration-color: #008080; font-weight: bold\">108</span>/<span style=\"color: #008080; text-decoration-color: #008080; font-weight: bold\">380</span><span style=\"font-weight: bold\">]</span> Retrieving game with <span style=\"color: #808000; text-decoration-color: #808000\">id</span>=<span style=\"color: #008080; text-decoration-color: #008080; font-weight: bold\">1549841</span>                             <a href=\"file:///home/morten/.conda/envs/packing-report/lib/python3.10/site-packages/soccerdata/whoscored.py\" target=\"_blank\"><span style=\"color: #7f7f7f; text-decoration-color: #7f7f7f\">whoscored.py</span></a><span style=\"color: #7f7f7f; text-decoration-color: #7f7f7f\">:</span><a href=\"file:///home/morten/.conda/envs/packing-report/lib/python3.10/site-packages/soccerdata/whoscored.py#584\" target=\"_blank\"><span style=\"color: #7f7f7f; text-decoration-color: #7f7f7f\">584</span></a>\n",
       "</pre>\n"
      ],
      "text/plain": [
       "\u001b[2;36m                   \u001b[0m\u001b[2;36m \u001b[0m\u001b[34mINFO    \u001b[0m \u001b[1m[\u001b[0m\u001b[1;36m108\u001b[0m/\u001b[1;36m380\u001b[0m\u001b[1m]\u001b[0m Retrieving game with \u001b[33mid\u001b[0m=\u001b[1;36m1549841\u001b[0m                             \u001b]8;id=932552;file:///home/morten/.conda/envs/packing-report/lib/python3.10/site-packages/soccerdata/whoscored.py\u001b\\\u001b[2mwhoscored.py\u001b[0m\u001b]8;;\u001b\\\u001b[2m:\u001b[0m\u001b]8;id=763716;file:///home/morten/.conda/envs/packing-report/lib/python3.10/site-packages/soccerdata/whoscored.py#584\u001b\\\u001b[2m584\u001b[0m\u001b]8;;\u001b\\\n"
      ]
     },
     "metadata": {},
     "output_type": "display_data"
    },
    {
     "data": {
      "text/html": [
       "<pre style=\"white-space:pre;overflow-x:auto;line-height:normal;font-family:Menlo,'DejaVu Sans Mono',consolas,'Courier New',monospace\"><span style=\"color: #7fbfbf; text-decoration-color: #7fbfbf\">                    </span><span style=\"color: #000080; text-decoration-color: #000080\">INFO    </span> <span style=\"font-weight: bold\">[</span><span style=\"color: #008080; text-decoration-color: #008080; font-weight: bold\">109</span>/<span style=\"color: #008080; text-decoration-color: #008080; font-weight: bold\">380</span><span style=\"font-weight: bold\">]</span> Retrieving game with <span style=\"color: #808000; text-decoration-color: #808000\">id</span>=<span style=\"color: #008080; text-decoration-color: #008080; font-weight: bold\">1549592</span>                             <a href=\"file:///home/morten/.conda/envs/packing-report/lib/python3.10/site-packages/soccerdata/whoscored.py\" target=\"_blank\"><span style=\"color: #7f7f7f; text-decoration-color: #7f7f7f\">whoscored.py</span></a><span style=\"color: #7f7f7f; text-decoration-color: #7f7f7f\">:</span><a href=\"file:///home/morten/.conda/envs/packing-report/lib/python3.10/site-packages/soccerdata/whoscored.py#584\" target=\"_blank\"><span style=\"color: #7f7f7f; text-decoration-color: #7f7f7f\">584</span></a>\n",
       "</pre>\n"
      ],
      "text/plain": [
       "\u001b[2;36m                   \u001b[0m\u001b[2;36m \u001b[0m\u001b[34mINFO    \u001b[0m \u001b[1m[\u001b[0m\u001b[1;36m109\u001b[0m/\u001b[1;36m380\u001b[0m\u001b[1m]\u001b[0m Retrieving game with \u001b[33mid\u001b[0m=\u001b[1;36m1549592\u001b[0m                             \u001b]8;id=410277;file:///home/morten/.conda/envs/packing-report/lib/python3.10/site-packages/soccerdata/whoscored.py\u001b\\\u001b[2mwhoscored.py\u001b[0m\u001b]8;;\u001b\\\u001b[2m:\u001b[0m\u001b]8;id=596422;file:///home/morten/.conda/envs/packing-report/lib/python3.10/site-packages/soccerdata/whoscored.py#584\u001b\\\u001b[2m584\u001b[0m\u001b]8;;\u001b\\\n"
      ]
     },
     "metadata": {},
     "output_type": "display_data"
    },
    {
     "data": {
      "text/html": [
       "<pre style=\"white-space:pre;overflow-x:auto;line-height:normal;font-family:Menlo,'DejaVu Sans Mono',consolas,'Courier New',monospace\"><span style=\"color: #7fbfbf; text-decoration-color: #7fbfbf\">                    </span><span style=\"color: #000080; text-decoration-color: #000080\">INFO    </span> <span style=\"font-weight: bold\">[</span><span style=\"color: #008080; text-decoration-color: #008080; font-weight: bold\">110</span>/<span style=\"color: #008080; text-decoration-color: #008080; font-weight: bold\">380</span><span style=\"font-weight: bold\">]</span> Retrieving game with <span style=\"color: #808000; text-decoration-color: #808000\">id</span>=<span style=\"color: #008080; text-decoration-color: #008080; font-weight: bold\">1549852</span>                             <a href=\"file:///home/morten/.conda/envs/packing-report/lib/python3.10/site-packages/soccerdata/whoscored.py\" target=\"_blank\"><span style=\"color: #7f7f7f; text-decoration-color: #7f7f7f\">whoscored.py</span></a><span style=\"color: #7f7f7f; text-decoration-color: #7f7f7f\">:</span><a href=\"file:///home/morten/.conda/envs/packing-report/lib/python3.10/site-packages/soccerdata/whoscored.py#584\" target=\"_blank\"><span style=\"color: #7f7f7f; text-decoration-color: #7f7f7f\">584</span></a>\n",
       "</pre>\n"
      ],
      "text/plain": [
       "\u001b[2;36m                   \u001b[0m\u001b[2;36m \u001b[0m\u001b[34mINFO    \u001b[0m \u001b[1m[\u001b[0m\u001b[1;36m110\u001b[0m/\u001b[1;36m380\u001b[0m\u001b[1m]\u001b[0m Retrieving game with \u001b[33mid\u001b[0m=\u001b[1;36m1549852\u001b[0m                             \u001b]8;id=567520;file:///home/morten/.conda/envs/packing-report/lib/python3.10/site-packages/soccerdata/whoscored.py\u001b\\\u001b[2mwhoscored.py\u001b[0m\u001b]8;;\u001b\\\u001b[2m:\u001b[0m\u001b]8;id=340533;file:///home/morten/.conda/envs/packing-report/lib/python3.10/site-packages/soccerdata/whoscored.py#584\u001b\\\u001b[2m584\u001b[0m\u001b]8;;\u001b\\\n"
      ]
     },
     "metadata": {},
     "output_type": "display_data"
    },
    {
     "data": {
      "text/html": [
       "<pre style=\"white-space:pre;overflow-x:auto;line-height:normal;font-family:Menlo,'DejaVu Sans Mono',consolas,'Courier New',monospace\"><span style=\"color: #7fbfbf; text-decoration-color: #7fbfbf\">                    </span><span style=\"color: #000080; text-decoration-color: #000080\">INFO    </span> <span style=\"font-weight: bold\">[</span><span style=\"color: #008080; text-decoration-color: #008080; font-weight: bold\">111</span>/<span style=\"color: #008080; text-decoration-color: #008080; font-weight: bold\">380</span><span style=\"font-weight: bold\">]</span> Retrieving game with <span style=\"color: #808000; text-decoration-color: #808000\">id</span>=<span style=\"color: #008080; text-decoration-color: #008080; font-weight: bold\">1549818</span>                             <a href=\"file:///home/morten/.conda/envs/packing-report/lib/python3.10/site-packages/soccerdata/whoscored.py\" target=\"_blank\"><span style=\"color: #7f7f7f; text-decoration-color: #7f7f7f\">whoscored.py</span></a><span style=\"color: #7f7f7f; text-decoration-color: #7f7f7f\">:</span><a href=\"file:///home/morten/.conda/envs/packing-report/lib/python3.10/site-packages/soccerdata/whoscored.py#584\" target=\"_blank\"><span style=\"color: #7f7f7f; text-decoration-color: #7f7f7f\">584</span></a>\n",
       "</pre>\n"
      ],
      "text/plain": [
       "\u001b[2;36m                   \u001b[0m\u001b[2;36m \u001b[0m\u001b[34mINFO    \u001b[0m \u001b[1m[\u001b[0m\u001b[1;36m111\u001b[0m/\u001b[1;36m380\u001b[0m\u001b[1m]\u001b[0m Retrieving game with \u001b[33mid\u001b[0m=\u001b[1;36m1549818\u001b[0m                             \u001b]8;id=727572;file:///home/morten/.conda/envs/packing-report/lib/python3.10/site-packages/soccerdata/whoscored.py\u001b\\\u001b[2mwhoscored.py\u001b[0m\u001b]8;;\u001b\\\u001b[2m:\u001b[0m\u001b]8;id=860971;file:///home/morten/.conda/envs/packing-report/lib/python3.10/site-packages/soccerdata/whoscored.py#584\u001b\\\u001b[2m584\u001b[0m\u001b]8;;\u001b\\\n"
      ]
     },
     "metadata": {},
     "output_type": "display_data"
    },
    {
     "data": {
      "text/html": [
       "<pre style=\"white-space:pre;overflow-x:auto;line-height:normal;font-family:Menlo,'DejaVu Sans Mono',consolas,'Courier New',monospace\"><span style=\"color: #7fbfbf; text-decoration-color: #7fbfbf\">                    </span><span style=\"color: #000080; text-decoration-color: #000080\">INFO    </span> <span style=\"font-weight: bold\">[</span><span style=\"color: #008080; text-decoration-color: #008080; font-weight: bold\">112</span>/<span style=\"color: #008080; text-decoration-color: #008080; font-weight: bold\">380</span><span style=\"font-weight: bold\">]</span> Retrieving game with <span style=\"color: #808000; text-decoration-color: #808000\">id</span>=<span style=\"color: #008080; text-decoration-color: #008080; font-weight: bold\">1549567</span>                             <a href=\"file:///home/morten/.conda/envs/packing-report/lib/python3.10/site-packages/soccerdata/whoscored.py\" target=\"_blank\"><span style=\"color: #7f7f7f; text-decoration-color: #7f7f7f\">whoscored.py</span></a><span style=\"color: #7f7f7f; text-decoration-color: #7f7f7f\">:</span><a href=\"file:///home/morten/.conda/envs/packing-report/lib/python3.10/site-packages/soccerdata/whoscored.py#584\" target=\"_blank\"><span style=\"color: #7f7f7f; text-decoration-color: #7f7f7f\">584</span></a>\n",
       "</pre>\n"
      ],
      "text/plain": [
       "\u001b[2;36m                   \u001b[0m\u001b[2;36m \u001b[0m\u001b[34mINFO    \u001b[0m \u001b[1m[\u001b[0m\u001b[1;36m112\u001b[0m/\u001b[1;36m380\u001b[0m\u001b[1m]\u001b[0m Retrieving game with \u001b[33mid\u001b[0m=\u001b[1;36m1549567\u001b[0m                             \u001b]8;id=511108;file:///home/morten/.conda/envs/packing-report/lib/python3.10/site-packages/soccerdata/whoscored.py\u001b\\\u001b[2mwhoscored.py\u001b[0m\u001b]8;;\u001b\\\u001b[2m:\u001b[0m\u001b]8;id=735618;file:///home/morten/.conda/envs/packing-report/lib/python3.10/site-packages/soccerdata/whoscored.py#584\u001b\\\u001b[2m584\u001b[0m\u001b]8;;\u001b\\\n"
      ]
     },
     "metadata": {},
     "output_type": "display_data"
    },
    {
     "data": {
      "text/html": [
       "<pre style=\"white-space:pre;overflow-x:auto;line-height:normal;font-family:Menlo,'DejaVu Sans Mono',consolas,'Courier New',monospace\"><span style=\"color: #7fbfbf; text-decoration-color: #7fbfbf\">                    </span><span style=\"color: #000080; text-decoration-color: #000080\">INFO    </span> <span style=\"font-weight: bold\">[</span><span style=\"color: #008080; text-decoration-color: #008080; font-weight: bold\">113</span>/<span style=\"color: #008080; text-decoration-color: #008080; font-weight: bold\">380</span><span style=\"font-weight: bold\">]</span> Retrieving game with <span style=\"color: #808000; text-decoration-color: #808000\">id</span>=<span style=\"color: #008080; text-decoration-color: #008080; font-weight: bold\">1549734</span>                             <a href=\"file:///home/morten/.conda/envs/packing-report/lib/python3.10/site-packages/soccerdata/whoscored.py\" target=\"_blank\"><span style=\"color: #7f7f7f; text-decoration-color: #7f7f7f\">whoscored.py</span></a><span style=\"color: #7f7f7f; text-decoration-color: #7f7f7f\">:</span><a href=\"file:///home/morten/.conda/envs/packing-report/lib/python3.10/site-packages/soccerdata/whoscored.py#584\" target=\"_blank\"><span style=\"color: #7f7f7f; text-decoration-color: #7f7f7f\">584</span></a>\n",
       "</pre>\n"
      ],
      "text/plain": [
       "\u001b[2;36m                   \u001b[0m\u001b[2;36m \u001b[0m\u001b[34mINFO    \u001b[0m \u001b[1m[\u001b[0m\u001b[1;36m113\u001b[0m/\u001b[1;36m380\u001b[0m\u001b[1m]\u001b[0m Retrieving game with \u001b[33mid\u001b[0m=\u001b[1;36m1549734\u001b[0m                             \u001b]8;id=293038;file:///home/morten/.conda/envs/packing-report/lib/python3.10/site-packages/soccerdata/whoscored.py\u001b\\\u001b[2mwhoscored.py\u001b[0m\u001b]8;;\u001b\\\u001b[2m:\u001b[0m\u001b]8;id=36358;file:///home/morten/.conda/envs/packing-report/lib/python3.10/site-packages/soccerdata/whoscored.py#584\u001b\\\u001b[2m584\u001b[0m\u001b]8;;\u001b\\\n"
      ]
     },
     "metadata": {},
     "output_type": "display_data"
    },
    {
     "data": {
      "text/html": [
       "<pre style=\"white-space:pre;overflow-x:auto;line-height:normal;font-family:Menlo,'DejaVu Sans Mono',consolas,'Courier New',monospace\"><span style=\"color: #7fbfbf; text-decoration-color: #7fbfbf\">                    </span><span style=\"color: #000080; text-decoration-color: #000080\">INFO    </span> <span style=\"font-weight: bold\">[</span><span style=\"color: #008080; text-decoration-color: #008080; font-weight: bold\">114</span>/<span style=\"color: #008080; text-decoration-color: #008080; font-weight: bold\">380</span><span style=\"font-weight: bold\">]</span> Retrieving game with <span style=\"color: #808000; text-decoration-color: #808000\">id</span>=<span style=\"color: #008080; text-decoration-color: #008080; font-weight: bold\">1549829</span>                             <a href=\"file:///home/morten/.conda/envs/packing-report/lib/python3.10/site-packages/soccerdata/whoscored.py\" target=\"_blank\"><span style=\"color: #7f7f7f; text-decoration-color: #7f7f7f\">whoscored.py</span></a><span style=\"color: #7f7f7f; text-decoration-color: #7f7f7f\">:</span><a href=\"file:///home/morten/.conda/envs/packing-report/lib/python3.10/site-packages/soccerdata/whoscored.py#584\" target=\"_blank\"><span style=\"color: #7f7f7f; text-decoration-color: #7f7f7f\">584</span></a>\n",
       "</pre>\n"
      ],
      "text/plain": [
       "\u001b[2;36m                   \u001b[0m\u001b[2;36m \u001b[0m\u001b[34mINFO    \u001b[0m \u001b[1m[\u001b[0m\u001b[1;36m114\u001b[0m/\u001b[1;36m380\u001b[0m\u001b[1m]\u001b[0m Retrieving game with \u001b[33mid\u001b[0m=\u001b[1;36m1549829\u001b[0m                             \u001b]8;id=646378;file:///home/morten/.conda/envs/packing-report/lib/python3.10/site-packages/soccerdata/whoscored.py\u001b\\\u001b[2mwhoscored.py\u001b[0m\u001b]8;;\u001b\\\u001b[2m:\u001b[0m\u001b]8;id=140644;file:///home/morten/.conda/envs/packing-report/lib/python3.10/site-packages/soccerdata/whoscored.py#584\u001b\\\u001b[2m584\u001b[0m\u001b]8;;\u001b\\\n"
      ]
     },
     "metadata": {},
     "output_type": "display_data"
    },
    {
     "data": {
      "text/html": [
       "<pre style=\"white-space:pre;overflow-x:auto;line-height:normal;font-family:Menlo,'DejaVu Sans Mono',consolas,'Courier New',monospace\"><span style=\"color: #7fbfbf; text-decoration-color: #7fbfbf\">                    </span><span style=\"color: #000080; text-decoration-color: #000080\">INFO    </span> <span style=\"font-weight: bold\">[</span><span style=\"color: #008080; text-decoration-color: #008080; font-weight: bold\">115</span>/<span style=\"color: #008080; text-decoration-color: #008080; font-weight: bold\">380</span><span style=\"font-weight: bold\">]</span> Retrieving game with <span style=\"color: #808000; text-decoration-color: #808000\">id</span>=<span style=\"color: #008080; text-decoration-color: #008080; font-weight: bold\">1549743</span>                             <a href=\"file:///home/morten/.conda/envs/packing-report/lib/python3.10/site-packages/soccerdata/whoscored.py\" target=\"_blank\"><span style=\"color: #7f7f7f; text-decoration-color: #7f7f7f\">whoscored.py</span></a><span style=\"color: #7f7f7f; text-decoration-color: #7f7f7f\">:</span><a href=\"file:///home/morten/.conda/envs/packing-report/lib/python3.10/site-packages/soccerdata/whoscored.py#584\" target=\"_blank\"><span style=\"color: #7f7f7f; text-decoration-color: #7f7f7f\">584</span></a>\n",
       "</pre>\n"
      ],
      "text/plain": [
       "\u001b[2;36m                   \u001b[0m\u001b[2;36m \u001b[0m\u001b[34mINFO    \u001b[0m \u001b[1m[\u001b[0m\u001b[1;36m115\u001b[0m/\u001b[1;36m380\u001b[0m\u001b[1m]\u001b[0m Retrieving game with \u001b[33mid\u001b[0m=\u001b[1;36m1549743\u001b[0m                             \u001b]8;id=286328;file:///home/morten/.conda/envs/packing-report/lib/python3.10/site-packages/soccerdata/whoscored.py\u001b\\\u001b[2mwhoscored.py\u001b[0m\u001b]8;;\u001b\\\u001b[2m:\u001b[0m\u001b]8;id=304497;file:///home/morten/.conda/envs/packing-report/lib/python3.10/site-packages/soccerdata/whoscored.py#584\u001b\\\u001b[2m584\u001b[0m\u001b]8;;\u001b\\\n"
      ]
     },
     "metadata": {},
     "output_type": "display_data"
    },
    {
     "data": {
      "text/html": [
       "<pre style=\"white-space:pre;overflow-x:auto;line-height:normal;font-family:Menlo,'DejaVu Sans Mono',consolas,'Courier New',monospace\"><span style=\"color: #7fbfbf; text-decoration-color: #7fbfbf\">                    </span><span style=\"color: #000080; text-decoration-color: #000080\">INFO    </span> <span style=\"font-weight: bold\">[</span><span style=\"color: #008080; text-decoration-color: #008080; font-weight: bold\">116</span>/<span style=\"color: #008080; text-decoration-color: #008080; font-weight: bold\">380</span><span style=\"font-weight: bold\">]</span> Retrieving game with <span style=\"color: #808000; text-decoration-color: #808000\">id</span>=<span style=\"color: #008080; text-decoration-color: #008080; font-weight: bold\">1549813</span>                             <a href=\"file:///home/morten/.conda/envs/packing-report/lib/python3.10/site-packages/soccerdata/whoscored.py\" target=\"_blank\"><span style=\"color: #7f7f7f; text-decoration-color: #7f7f7f\">whoscored.py</span></a><span style=\"color: #7f7f7f; text-decoration-color: #7f7f7f\">:</span><a href=\"file:///home/morten/.conda/envs/packing-report/lib/python3.10/site-packages/soccerdata/whoscored.py#584\" target=\"_blank\"><span style=\"color: #7f7f7f; text-decoration-color: #7f7f7f\">584</span></a>\n",
       "</pre>\n"
      ],
      "text/plain": [
       "\u001b[2;36m                   \u001b[0m\u001b[2;36m \u001b[0m\u001b[34mINFO    \u001b[0m \u001b[1m[\u001b[0m\u001b[1;36m116\u001b[0m/\u001b[1;36m380\u001b[0m\u001b[1m]\u001b[0m Retrieving game with \u001b[33mid\u001b[0m=\u001b[1;36m1549813\u001b[0m                             \u001b]8;id=294658;file:///home/morten/.conda/envs/packing-report/lib/python3.10/site-packages/soccerdata/whoscored.py\u001b\\\u001b[2mwhoscored.py\u001b[0m\u001b]8;;\u001b\\\u001b[2m:\u001b[0m\u001b]8;id=595672;file:///home/morten/.conda/envs/packing-report/lib/python3.10/site-packages/soccerdata/whoscored.py#584\u001b\\\u001b[2m584\u001b[0m\u001b]8;;\u001b\\\n"
      ]
     },
     "metadata": {},
     "output_type": "display_data"
    },
    {
     "data": {
      "text/html": [
       "<pre style=\"white-space:pre;overflow-x:auto;line-height:normal;font-family:Menlo,'DejaVu Sans Mono',consolas,'Courier New',monospace\"><span style=\"color: #7fbfbf; text-decoration-color: #7fbfbf\">                    </span><span style=\"color: #000080; text-decoration-color: #000080\">INFO    </span> <span style=\"font-weight: bold\">[</span><span style=\"color: #008080; text-decoration-color: #008080; font-weight: bold\">117</span>/<span style=\"color: #008080; text-decoration-color: #008080; font-weight: bold\">380</span><span style=\"font-weight: bold\">]</span> Retrieving game with <span style=\"color: #808000; text-decoration-color: #808000\">id</span>=<span style=\"color: #008080; text-decoration-color: #008080; font-weight: bold\">1549661</span>                             <a href=\"file:///home/morten/.conda/envs/packing-report/lib/python3.10/site-packages/soccerdata/whoscored.py\" target=\"_blank\"><span style=\"color: #7f7f7f; text-decoration-color: #7f7f7f\">whoscored.py</span></a><span style=\"color: #7f7f7f; text-decoration-color: #7f7f7f\">:</span><a href=\"file:///home/morten/.conda/envs/packing-report/lib/python3.10/site-packages/soccerdata/whoscored.py#584\" target=\"_blank\"><span style=\"color: #7f7f7f; text-decoration-color: #7f7f7f\">584</span></a>\n",
       "</pre>\n"
      ],
      "text/plain": [
       "\u001b[2;36m                   \u001b[0m\u001b[2;36m \u001b[0m\u001b[34mINFO    \u001b[0m \u001b[1m[\u001b[0m\u001b[1;36m117\u001b[0m/\u001b[1;36m380\u001b[0m\u001b[1m]\u001b[0m Retrieving game with \u001b[33mid\u001b[0m=\u001b[1;36m1549661\u001b[0m                             \u001b]8;id=39276;file:///home/morten/.conda/envs/packing-report/lib/python3.10/site-packages/soccerdata/whoscored.py\u001b\\\u001b[2mwhoscored.py\u001b[0m\u001b]8;;\u001b\\\u001b[2m:\u001b[0m\u001b]8;id=804092;file:///home/morten/.conda/envs/packing-report/lib/python3.10/site-packages/soccerdata/whoscored.py#584\u001b\\\u001b[2m584\u001b[0m\u001b]8;;\u001b\\\n"
      ]
     },
     "metadata": {},
     "output_type": "display_data"
    },
    {
     "data": {
      "text/html": [
       "<pre style=\"white-space:pre;overflow-x:auto;line-height:normal;font-family:Menlo,'DejaVu Sans Mono',consolas,'Courier New',monospace\"><span style=\"color: #7fbfbf; text-decoration-color: #7fbfbf\">                    </span><span style=\"color: #000080; text-decoration-color: #000080\">INFO    </span> <span style=\"font-weight: bold\">[</span><span style=\"color: #008080; text-decoration-color: #008080; font-weight: bold\">118</span>/<span style=\"color: #008080; text-decoration-color: #008080; font-weight: bold\">380</span><span style=\"font-weight: bold\">]</span> Retrieving game with <span style=\"color: #808000; text-decoration-color: #808000\">id</span>=<span style=\"color: #008080; text-decoration-color: #008080; font-weight: bold\">1549545</span>                             <a href=\"file:///home/morten/.conda/envs/packing-report/lib/python3.10/site-packages/soccerdata/whoscored.py\" target=\"_blank\"><span style=\"color: #7f7f7f; text-decoration-color: #7f7f7f\">whoscored.py</span></a><span style=\"color: #7f7f7f; text-decoration-color: #7f7f7f\">:</span><a href=\"file:///home/morten/.conda/envs/packing-report/lib/python3.10/site-packages/soccerdata/whoscored.py#584\" target=\"_blank\"><span style=\"color: #7f7f7f; text-decoration-color: #7f7f7f\">584</span></a>\n",
       "</pre>\n"
      ],
      "text/plain": [
       "\u001b[2;36m                   \u001b[0m\u001b[2;36m \u001b[0m\u001b[34mINFO    \u001b[0m \u001b[1m[\u001b[0m\u001b[1;36m118\u001b[0m/\u001b[1;36m380\u001b[0m\u001b[1m]\u001b[0m Retrieving game with \u001b[33mid\u001b[0m=\u001b[1;36m1549545\u001b[0m                             \u001b]8;id=809275;file:///home/morten/.conda/envs/packing-report/lib/python3.10/site-packages/soccerdata/whoscored.py\u001b\\\u001b[2mwhoscored.py\u001b[0m\u001b]8;;\u001b\\\u001b[2m:\u001b[0m\u001b]8;id=487075;file:///home/morten/.conda/envs/packing-report/lib/python3.10/site-packages/soccerdata/whoscored.py#584\u001b\\\u001b[2m584\u001b[0m\u001b]8;;\u001b\\\n"
      ]
     },
     "metadata": {},
     "output_type": "display_data"
    },
    {
     "data": {
      "text/html": [
       "<pre style=\"white-space:pre;overflow-x:auto;line-height:normal;font-family:Menlo,'DejaVu Sans Mono',consolas,'Courier New',monospace\"><span style=\"color: #7fbfbf; text-decoration-color: #7fbfbf\">                    </span><span style=\"color: #000080; text-decoration-color: #000080\">INFO    </span> <span style=\"font-weight: bold\">[</span><span style=\"color: #008080; text-decoration-color: #008080; font-weight: bold\">119</span>/<span style=\"color: #008080; text-decoration-color: #008080; font-weight: bold\">380</span><span style=\"font-weight: bold\">]</span> Retrieving game with <span style=\"color: #808000; text-decoration-color: #808000\">id</span>=<span style=\"color: #008080; text-decoration-color: #008080; font-weight: bold\">1549906</span>                             <a href=\"file:///home/morten/.conda/envs/packing-report/lib/python3.10/site-packages/soccerdata/whoscored.py\" target=\"_blank\"><span style=\"color: #7f7f7f; text-decoration-color: #7f7f7f\">whoscored.py</span></a><span style=\"color: #7f7f7f; text-decoration-color: #7f7f7f\">:</span><a href=\"file:///home/morten/.conda/envs/packing-report/lib/python3.10/site-packages/soccerdata/whoscored.py#584\" target=\"_blank\"><span style=\"color: #7f7f7f; text-decoration-color: #7f7f7f\">584</span></a>\n",
       "</pre>\n"
      ],
      "text/plain": [
       "\u001b[2;36m                   \u001b[0m\u001b[2;36m \u001b[0m\u001b[34mINFO    \u001b[0m \u001b[1m[\u001b[0m\u001b[1;36m119\u001b[0m/\u001b[1;36m380\u001b[0m\u001b[1m]\u001b[0m Retrieving game with \u001b[33mid\u001b[0m=\u001b[1;36m1549906\u001b[0m                             \u001b]8;id=425539;file:///home/morten/.conda/envs/packing-report/lib/python3.10/site-packages/soccerdata/whoscored.py\u001b\\\u001b[2mwhoscored.py\u001b[0m\u001b]8;;\u001b\\\u001b[2m:\u001b[0m\u001b]8;id=870824;file:///home/morten/.conda/envs/packing-report/lib/python3.10/site-packages/soccerdata/whoscored.py#584\u001b\\\u001b[2m584\u001b[0m\u001b]8;;\u001b\\\n"
      ]
     },
     "metadata": {},
     "output_type": "display_data"
    },
    {
     "data": {
      "text/html": [
       "<pre style=\"white-space:pre;overflow-x:auto;line-height:normal;font-family:Menlo,'DejaVu Sans Mono',consolas,'Courier New',monospace\"><span style=\"color: #7fbfbf; text-decoration-color: #7fbfbf\">[10/02/22 17:52:00] </span><span style=\"color: #000080; text-decoration-color: #000080\">INFO    </span> <span style=\"font-weight: bold\">[</span><span style=\"color: #008080; text-decoration-color: #008080; font-weight: bold\">120</span>/<span style=\"color: #008080; text-decoration-color: #008080; font-weight: bold\">380</span><span style=\"font-weight: bold\">]</span> Retrieving game with <span style=\"color: #808000; text-decoration-color: #808000\">id</span>=<span style=\"color: #008080; text-decoration-color: #008080; font-weight: bold\">1549757</span>                             <a href=\"file:///home/morten/.conda/envs/packing-report/lib/python3.10/site-packages/soccerdata/whoscored.py\" target=\"_blank\"><span style=\"color: #7f7f7f; text-decoration-color: #7f7f7f\">whoscored.py</span></a><span style=\"color: #7f7f7f; text-decoration-color: #7f7f7f\">:</span><a href=\"file:///home/morten/.conda/envs/packing-report/lib/python3.10/site-packages/soccerdata/whoscored.py#584\" target=\"_blank\"><span style=\"color: #7f7f7f; text-decoration-color: #7f7f7f\">584</span></a>\n",
       "</pre>\n"
      ],
      "text/plain": [
       "\u001b[2;36m[10/02/22 17:52:00]\u001b[0m\u001b[2;36m \u001b[0m\u001b[34mINFO    \u001b[0m \u001b[1m[\u001b[0m\u001b[1;36m120\u001b[0m/\u001b[1;36m380\u001b[0m\u001b[1m]\u001b[0m Retrieving game with \u001b[33mid\u001b[0m=\u001b[1;36m1549757\u001b[0m                             \u001b]8;id=175802;file:///home/morten/.conda/envs/packing-report/lib/python3.10/site-packages/soccerdata/whoscored.py\u001b\\\u001b[2mwhoscored.py\u001b[0m\u001b]8;;\u001b\\\u001b[2m:\u001b[0m\u001b]8;id=230780;file:///home/morten/.conda/envs/packing-report/lib/python3.10/site-packages/soccerdata/whoscored.py#584\u001b\\\u001b[2m584\u001b[0m\u001b]8;;\u001b\\\n"
      ]
     },
     "metadata": {},
     "output_type": "display_data"
    },
    {
     "data": {
      "text/html": [
       "<pre style=\"white-space:pre;overflow-x:auto;line-height:normal;font-family:Menlo,'DejaVu Sans Mono',consolas,'Courier New',monospace\"><span style=\"color: #7fbfbf; text-decoration-color: #7fbfbf\">                    </span><span style=\"color: #000080; text-decoration-color: #000080\">INFO    </span> <span style=\"font-weight: bold\">[</span><span style=\"color: #008080; text-decoration-color: #008080; font-weight: bold\">121</span>/<span style=\"color: #008080; text-decoration-color: #008080; font-weight: bold\">380</span><span style=\"font-weight: bold\">]</span> Retrieving game with <span style=\"color: #808000; text-decoration-color: #808000\">id</span>=<span style=\"color: #008080; text-decoration-color: #008080; font-weight: bold\">1549877</span>                             <a href=\"file:///home/morten/.conda/envs/packing-report/lib/python3.10/site-packages/soccerdata/whoscored.py\" target=\"_blank\"><span style=\"color: #7f7f7f; text-decoration-color: #7f7f7f\">whoscored.py</span></a><span style=\"color: #7f7f7f; text-decoration-color: #7f7f7f\">:</span><a href=\"file:///home/morten/.conda/envs/packing-report/lib/python3.10/site-packages/soccerdata/whoscored.py#584\" target=\"_blank\"><span style=\"color: #7f7f7f; text-decoration-color: #7f7f7f\">584</span></a>\n",
       "</pre>\n"
      ],
      "text/plain": [
       "\u001b[2;36m                   \u001b[0m\u001b[2;36m \u001b[0m\u001b[34mINFO    \u001b[0m \u001b[1m[\u001b[0m\u001b[1;36m121\u001b[0m/\u001b[1;36m380\u001b[0m\u001b[1m]\u001b[0m Retrieving game with \u001b[33mid\u001b[0m=\u001b[1;36m1549877\u001b[0m                             \u001b]8;id=561251;file:///home/morten/.conda/envs/packing-report/lib/python3.10/site-packages/soccerdata/whoscored.py\u001b\\\u001b[2mwhoscored.py\u001b[0m\u001b]8;;\u001b\\\u001b[2m:\u001b[0m\u001b]8;id=273707;file:///home/morten/.conda/envs/packing-report/lib/python3.10/site-packages/soccerdata/whoscored.py#584\u001b\\\u001b[2m584\u001b[0m\u001b]8;;\u001b\\\n"
      ]
     },
     "metadata": {},
     "output_type": "display_data"
    },
    {
     "data": {
      "text/html": [
       "<pre style=\"white-space:pre;overflow-x:auto;line-height:normal;font-family:Menlo,'DejaVu Sans Mono',consolas,'Courier New',monospace\"><span style=\"color: #7fbfbf; text-decoration-color: #7fbfbf\">                    </span><span style=\"color: #000080; text-decoration-color: #000080\">INFO    </span> <span style=\"font-weight: bold\">[</span><span style=\"color: #008080; text-decoration-color: #008080; font-weight: bold\">122</span>/<span style=\"color: #008080; text-decoration-color: #008080; font-weight: bold\">380</span><span style=\"font-weight: bold\">]</span> Retrieving game with <span style=\"color: #808000; text-decoration-color: #808000\">id</span>=<span style=\"color: #008080; text-decoration-color: #008080; font-weight: bold\">1549575</span>                             <a href=\"file:///home/morten/.conda/envs/packing-report/lib/python3.10/site-packages/soccerdata/whoscored.py\" target=\"_blank\"><span style=\"color: #7f7f7f; text-decoration-color: #7f7f7f\">whoscored.py</span></a><span style=\"color: #7f7f7f; text-decoration-color: #7f7f7f\">:</span><a href=\"file:///home/morten/.conda/envs/packing-report/lib/python3.10/site-packages/soccerdata/whoscored.py#584\" target=\"_blank\"><span style=\"color: #7f7f7f; text-decoration-color: #7f7f7f\">584</span></a>\n",
       "</pre>\n"
      ],
      "text/plain": [
       "\u001b[2;36m                   \u001b[0m\u001b[2;36m \u001b[0m\u001b[34mINFO    \u001b[0m \u001b[1m[\u001b[0m\u001b[1;36m122\u001b[0m/\u001b[1;36m380\u001b[0m\u001b[1m]\u001b[0m Retrieving game with \u001b[33mid\u001b[0m=\u001b[1;36m1549575\u001b[0m                             \u001b]8;id=526641;file:///home/morten/.conda/envs/packing-report/lib/python3.10/site-packages/soccerdata/whoscored.py\u001b\\\u001b[2mwhoscored.py\u001b[0m\u001b]8;;\u001b\\\u001b[2m:\u001b[0m\u001b]8;id=456051;file:///home/morten/.conda/envs/packing-report/lib/python3.10/site-packages/soccerdata/whoscored.py#584\u001b\\\u001b[2m584\u001b[0m\u001b]8;;\u001b\\\n"
      ]
     },
     "metadata": {},
     "output_type": "display_data"
    },
    {
     "data": {
      "text/html": [
       "<pre style=\"white-space:pre;overflow-x:auto;line-height:normal;font-family:Menlo,'DejaVu Sans Mono',consolas,'Courier New',monospace\"><span style=\"color: #7fbfbf; text-decoration-color: #7fbfbf\">                    </span><span style=\"color: #000080; text-decoration-color: #000080\">INFO    </span> <span style=\"font-weight: bold\">[</span><span style=\"color: #008080; text-decoration-color: #008080; font-weight: bold\">123</span>/<span style=\"color: #008080; text-decoration-color: #008080; font-weight: bold\">380</span><span style=\"font-weight: bold\">]</span> Retrieving game with <span style=\"color: #808000; text-decoration-color: #808000\">id</span>=<span style=\"color: #008080; text-decoration-color: #008080; font-weight: bold\">1549904</span>                             <a href=\"file:///home/morten/.conda/envs/packing-report/lib/python3.10/site-packages/soccerdata/whoscored.py\" target=\"_blank\"><span style=\"color: #7f7f7f; text-decoration-color: #7f7f7f\">whoscored.py</span></a><span style=\"color: #7f7f7f; text-decoration-color: #7f7f7f\">:</span><a href=\"file:///home/morten/.conda/envs/packing-report/lib/python3.10/site-packages/soccerdata/whoscored.py#584\" target=\"_blank\"><span style=\"color: #7f7f7f; text-decoration-color: #7f7f7f\">584</span></a>\n",
       "</pre>\n"
      ],
      "text/plain": [
       "\u001b[2;36m                   \u001b[0m\u001b[2;36m \u001b[0m\u001b[34mINFO    \u001b[0m \u001b[1m[\u001b[0m\u001b[1;36m123\u001b[0m/\u001b[1;36m380\u001b[0m\u001b[1m]\u001b[0m Retrieving game with \u001b[33mid\u001b[0m=\u001b[1;36m1549904\u001b[0m                             \u001b]8;id=333910;file:///home/morten/.conda/envs/packing-report/lib/python3.10/site-packages/soccerdata/whoscored.py\u001b\\\u001b[2mwhoscored.py\u001b[0m\u001b]8;;\u001b\\\u001b[2m:\u001b[0m\u001b]8;id=912118;file:///home/morten/.conda/envs/packing-report/lib/python3.10/site-packages/soccerdata/whoscored.py#584\u001b\\\u001b[2m584\u001b[0m\u001b]8;;\u001b\\\n"
      ]
     },
     "metadata": {},
     "output_type": "display_data"
    },
    {
     "data": {
      "text/html": [
       "<pre style=\"white-space:pre;overflow-x:auto;line-height:normal;font-family:Menlo,'DejaVu Sans Mono',consolas,'Courier New',monospace\"><span style=\"color: #7fbfbf; text-decoration-color: #7fbfbf\">                    </span><span style=\"color: #000080; text-decoration-color: #000080\">INFO    </span> <span style=\"font-weight: bold\">[</span><span style=\"color: #008080; text-decoration-color: #008080; font-weight: bold\">124</span>/<span style=\"color: #008080; text-decoration-color: #008080; font-weight: bold\">380</span><span style=\"font-weight: bold\">]</span> Retrieving game with <span style=\"color: #808000; text-decoration-color: #808000\">id</span>=<span style=\"color: #008080; text-decoration-color: #008080; font-weight: bold\">1549636</span>                             <a href=\"file:///home/morten/.conda/envs/packing-report/lib/python3.10/site-packages/soccerdata/whoscored.py\" target=\"_blank\"><span style=\"color: #7f7f7f; text-decoration-color: #7f7f7f\">whoscored.py</span></a><span style=\"color: #7f7f7f; text-decoration-color: #7f7f7f\">:</span><a href=\"file:///home/morten/.conda/envs/packing-report/lib/python3.10/site-packages/soccerdata/whoscored.py#584\" target=\"_blank\"><span style=\"color: #7f7f7f; text-decoration-color: #7f7f7f\">584</span></a>\n",
       "</pre>\n"
      ],
      "text/plain": [
       "\u001b[2;36m                   \u001b[0m\u001b[2;36m \u001b[0m\u001b[34mINFO    \u001b[0m \u001b[1m[\u001b[0m\u001b[1;36m124\u001b[0m/\u001b[1;36m380\u001b[0m\u001b[1m]\u001b[0m Retrieving game with \u001b[33mid\u001b[0m=\u001b[1;36m1549636\u001b[0m                             \u001b]8;id=172876;file:///home/morten/.conda/envs/packing-report/lib/python3.10/site-packages/soccerdata/whoscored.py\u001b\\\u001b[2mwhoscored.py\u001b[0m\u001b]8;;\u001b\\\u001b[2m:\u001b[0m\u001b]8;id=600297;file:///home/morten/.conda/envs/packing-report/lib/python3.10/site-packages/soccerdata/whoscored.py#584\u001b\\\u001b[2m584\u001b[0m\u001b]8;;\u001b\\\n"
      ]
     },
     "metadata": {},
     "output_type": "display_data"
    },
    {
     "data": {
      "text/html": [
       "<pre style=\"white-space:pre;overflow-x:auto;line-height:normal;font-family:Menlo,'DejaVu Sans Mono',consolas,'Courier New',monospace\"><span style=\"color: #7fbfbf; text-decoration-color: #7fbfbf\">                    </span><span style=\"color: #000080; text-decoration-color: #000080\">INFO    </span> <span style=\"font-weight: bold\">[</span><span style=\"color: #008080; text-decoration-color: #008080; font-weight: bold\">125</span>/<span style=\"color: #008080; text-decoration-color: #008080; font-weight: bold\">380</span><span style=\"font-weight: bold\">]</span> Retrieving game with <span style=\"color: #808000; text-decoration-color: #808000\">id</span>=<span style=\"color: #008080; text-decoration-color: #008080; font-weight: bold\">1549846</span>                             <a href=\"file:///home/morten/.conda/envs/packing-report/lib/python3.10/site-packages/soccerdata/whoscored.py\" target=\"_blank\"><span style=\"color: #7f7f7f; text-decoration-color: #7f7f7f\">whoscored.py</span></a><span style=\"color: #7f7f7f; text-decoration-color: #7f7f7f\">:</span><a href=\"file:///home/morten/.conda/envs/packing-report/lib/python3.10/site-packages/soccerdata/whoscored.py#584\" target=\"_blank\"><span style=\"color: #7f7f7f; text-decoration-color: #7f7f7f\">584</span></a>\n",
       "</pre>\n"
      ],
      "text/plain": [
       "\u001b[2;36m                   \u001b[0m\u001b[2;36m \u001b[0m\u001b[34mINFO    \u001b[0m \u001b[1m[\u001b[0m\u001b[1;36m125\u001b[0m/\u001b[1;36m380\u001b[0m\u001b[1m]\u001b[0m Retrieving game with \u001b[33mid\u001b[0m=\u001b[1;36m1549846\u001b[0m                             \u001b]8;id=802746;file:///home/morten/.conda/envs/packing-report/lib/python3.10/site-packages/soccerdata/whoscored.py\u001b\\\u001b[2mwhoscored.py\u001b[0m\u001b]8;;\u001b\\\u001b[2m:\u001b[0m\u001b]8;id=391834;file:///home/morten/.conda/envs/packing-report/lib/python3.10/site-packages/soccerdata/whoscored.py#584\u001b\\\u001b[2m584\u001b[0m\u001b]8;;\u001b\\\n"
      ]
     },
     "metadata": {},
     "output_type": "display_data"
    },
    {
     "data": {
      "text/html": [
       "<pre style=\"white-space:pre;overflow-x:auto;line-height:normal;font-family:Menlo,'DejaVu Sans Mono',consolas,'Courier New',monospace\"><span style=\"color: #7fbfbf; text-decoration-color: #7fbfbf\">                    </span><span style=\"color: #000080; text-decoration-color: #000080\">INFO    </span> <span style=\"font-weight: bold\">[</span><span style=\"color: #008080; text-decoration-color: #008080; font-weight: bold\">126</span>/<span style=\"color: #008080; text-decoration-color: #008080; font-weight: bold\">380</span><span style=\"font-weight: bold\">]</span> Retrieving game with <span style=\"color: #808000; text-decoration-color: #808000\">id</span>=<span style=\"color: #008080; text-decoration-color: #008080; font-weight: bold\">1549591</span>                             <a href=\"file:///home/morten/.conda/envs/packing-report/lib/python3.10/site-packages/soccerdata/whoscored.py\" target=\"_blank\"><span style=\"color: #7f7f7f; text-decoration-color: #7f7f7f\">whoscored.py</span></a><span style=\"color: #7f7f7f; text-decoration-color: #7f7f7f\">:</span><a href=\"file:///home/morten/.conda/envs/packing-report/lib/python3.10/site-packages/soccerdata/whoscored.py#584\" target=\"_blank\"><span style=\"color: #7f7f7f; text-decoration-color: #7f7f7f\">584</span></a>\n",
       "</pre>\n"
      ],
      "text/plain": [
       "\u001b[2;36m                   \u001b[0m\u001b[2;36m \u001b[0m\u001b[34mINFO    \u001b[0m \u001b[1m[\u001b[0m\u001b[1;36m126\u001b[0m/\u001b[1;36m380\u001b[0m\u001b[1m]\u001b[0m Retrieving game with \u001b[33mid\u001b[0m=\u001b[1;36m1549591\u001b[0m                             \u001b]8;id=398588;file:///home/morten/.conda/envs/packing-report/lib/python3.10/site-packages/soccerdata/whoscored.py\u001b\\\u001b[2mwhoscored.py\u001b[0m\u001b]8;;\u001b\\\u001b[2m:\u001b[0m\u001b]8;id=304830;file:///home/morten/.conda/envs/packing-report/lib/python3.10/site-packages/soccerdata/whoscored.py#584\u001b\\\u001b[2m584\u001b[0m\u001b]8;;\u001b\\\n"
      ]
     },
     "metadata": {},
     "output_type": "display_data"
    },
    {
     "data": {
      "text/html": [
       "<pre style=\"white-space:pre;overflow-x:auto;line-height:normal;font-family:Menlo,'DejaVu Sans Mono',consolas,'Courier New',monospace\"><span style=\"color: #7fbfbf; text-decoration-color: #7fbfbf\">                    </span><span style=\"color: #000080; text-decoration-color: #000080\">INFO    </span> <span style=\"font-weight: bold\">[</span><span style=\"color: #008080; text-decoration-color: #008080; font-weight: bold\">127</span>/<span style=\"color: #008080; text-decoration-color: #008080; font-weight: bold\">380</span><span style=\"font-weight: bold\">]</span> Retrieving game with <span style=\"color: #808000; text-decoration-color: #808000\">id</span>=<span style=\"color: #008080; text-decoration-color: #008080; font-weight: bold\">1549602</span>                             <a href=\"file:///home/morten/.conda/envs/packing-report/lib/python3.10/site-packages/soccerdata/whoscored.py\" target=\"_blank\"><span style=\"color: #7f7f7f; text-decoration-color: #7f7f7f\">whoscored.py</span></a><span style=\"color: #7f7f7f; text-decoration-color: #7f7f7f\">:</span><a href=\"file:///home/morten/.conda/envs/packing-report/lib/python3.10/site-packages/soccerdata/whoscored.py#584\" target=\"_blank\"><span style=\"color: #7f7f7f; text-decoration-color: #7f7f7f\">584</span></a>\n",
       "</pre>\n"
      ],
      "text/plain": [
       "\u001b[2;36m                   \u001b[0m\u001b[2;36m \u001b[0m\u001b[34mINFO    \u001b[0m \u001b[1m[\u001b[0m\u001b[1;36m127\u001b[0m/\u001b[1;36m380\u001b[0m\u001b[1m]\u001b[0m Retrieving game with \u001b[33mid\u001b[0m=\u001b[1;36m1549602\u001b[0m                             \u001b]8;id=763699;file:///home/morten/.conda/envs/packing-report/lib/python3.10/site-packages/soccerdata/whoscored.py\u001b\\\u001b[2mwhoscored.py\u001b[0m\u001b]8;;\u001b\\\u001b[2m:\u001b[0m\u001b]8;id=172281;file:///home/morten/.conda/envs/packing-report/lib/python3.10/site-packages/soccerdata/whoscored.py#584\u001b\\\u001b[2m584\u001b[0m\u001b]8;;\u001b\\\n"
      ]
     },
     "metadata": {},
     "output_type": "display_data"
    },
    {
     "data": {
      "text/html": [
       "<pre style=\"white-space:pre;overflow-x:auto;line-height:normal;font-family:Menlo,'DejaVu Sans Mono',consolas,'Courier New',monospace\"><span style=\"color: #7fbfbf; text-decoration-color: #7fbfbf\">                    </span><span style=\"color: #000080; text-decoration-color: #000080\">INFO    </span> <span style=\"font-weight: bold\">[</span><span style=\"color: #008080; text-decoration-color: #008080; font-weight: bold\">128</span>/<span style=\"color: #008080; text-decoration-color: #008080; font-weight: bold\">380</span><span style=\"font-weight: bold\">]</span> Retrieving game with <span style=\"color: #808000; text-decoration-color: #808000\">id</span>=<span style=\"color: #008080; text-decoration-color: #008080; font-weight: bold\">1549774</span>                             <a href=\"file:///home/morten/.conda/envs/packing-report/lib/python3.10/site-packages/soccerdata/whoscored.py\" target=\"_blank\"><span style=\"color: #7f7f7f; text-decoration-color: #7f7f7f\">whoscored.py</span></a><span style=\"color: #7f7f7f; text-decoration-color: #7f7f7f\">:</span><a href=\"file:///home/morten/.conda/envs/packing-report/lib/python3.10/site-packages/soccerdata/whoscored.py#584\" target=\"_blank\"><span style=\"color: #7f7f7f; text-decoration-color: #7f7f7f\">584</span></a>\n",
       "</pre>\n"
      ],
      "text/plain": [
       "\u001b[2;36m                   \u001b[0m\u001b[2;36m \u001b[0m\u001b[34mINFO    \u001b[0m \u001b[1m[\u001b[0m\u001b[1;36m128\u001b[0m/\u001b[1;36m380\u001b[0m\u001b[1m]\u001b[0m Retrieving game with \u001b[33mid\u001b[0m=\u001b[1;36m1549774\u001b[0m                             \u001b]8;id=758342;file:///home/morten/.conda/envs/packing-report/lib/python3.10/site-packages/soccerdata/whoscored.py\u001b\\\u001b[2mwhoscored.py\u001b[0m\u001b]8;;\u001b\\\u001b[2m:\u001b[0m\u001b]8;id=969321;file:///home/morten/.conda/envs/packing-report/lib/python3.10/site-packages/soccerdata/whoscored.py#584\u001b\\\u001b[2m584\u001b[0m\u001b]8;;\u001b\\\n"
      ]
     },
     "metadata": {},
     "output_type": "display_data"
    },
    {
     "data": {
      "text/html": [
       "<pre style=\"white-space:pre;overflow-x:auto;line-height:normal;font-family:Menlo,'DejaVu Sans Mono',consolas,'Courier New',monospace\"><span style=\"color: #7fbfbf; text-decoration-color: #7fbfbf\">                    </span><span style=\"color: #000080; text-decoration-color: #000080\">INFO    </span> <span style=\"font-weight: bold\">[</span><span style=\"color: #008080; text-decoration-color: #008080; font-weight: bold\">129</span>/<span style=\"color: #008080; text-decoration-color: #008080; font-weight: bold\">380</span><span style=\"font-weight: bold\">]</span> Retrieving game with <span style=\"color: #808000; text-decoration-color: #808000\">id</span>=<span style=\"color: #008080; text-decoration-color: #008080; font-weight: bold\">1549832</span>                             <a href=\"file:///home/morten/.conda/envs/packing-report/lib/python3.10/site-packages/soccerdata/whoscored.py\" target=\"_blank\"><span style=\"color: #7f7f7f; text-decoration-color: #7f7f7f\">whoscored.py</span></a><span style=\"color: #7f7f7f; text-decoration-color: #7f7f7f\">:</span><a href=\"file:///home/morten/.conda/envs/packing-report/lib/python3.10/site-packages/soccerdata/whoscored.py#584\" target=\"_blank\"><span style=\"color: #7f7f7f; text-decoration-color: #7f7f7f\">584</span></a>\n",
       "</pre>\n"
      ],
      "text/plain": [
       "\u001b[2;36m                   \u001b[0m\u001b[2;36m \u001b[0m\u001b[34mINFO    \u001b[0m \u001b[1m[\u001b[0m\u001b[1;36m129\u001b[0m/\u001b[1;36m380\u001b[0m\u001b[1m]\u001b[0m Retrieving game with \u001b[33mid\u001b[0m=\u001b[1;36m1549832\u001b[0m                             \u001b]8;id=564533;file:///home/morten/.conda/envs/packing-report/lib/python3.10/site-packages/soccerdata/whoscored.py\u001b\\\u001b[2mwhoscored.py\u001b[0m\u001b]8;;\u001b\\\u001b[2m:\u001b[0m\u001b]8;id=539933;file:///home/morten/.conda/envs/packing-report/lib/python3.10/site-packages/soccerdata/whoscored.py#584\u001b\\\u001b[2m584\u001b[0m\u001b]8;;\u001b\\\n"
      ]
     },
     "metadata": {},
     "output_type": "display_data"
    },
    {
     "data": {
      "text/html": [
       "<pre style=\"white-space:pre;overflow-x:auto;line-height:normal;font-family:Menlo,'DejaVu Sans Mono',consolas,'Courier New',monospace\"><span style=\"color: #7fbfbf; text-decoration-color: #7fbfbf\">                    </span><span style=\"color: #000080; text-decoration-color: #000080\">INFO    </span> <span style=\"font-weight: bold\">[</span><span style=\"color: #008080; text-decoration-color: #008080; font-weight: bold\">130</span>/<span style=\"color: #008080; text-decoration-color: #008080; font-weight: bold\">380</span><span style=\"font-weight: bold\">]</span> Retrieving game with <span style=\"color: #808000; text-decoration-color: #808000\">id</span>=<span style=\"color: #008080; text-decoration-color: #008080; font-weight: bold\">1549627</span>                             <a href=\"file:///home/morten/.conda/envs/packing-report/lib/python3.10/site-packages/soccerdata/whoscored.py\" target=\"_blank\"><span style=\"color: #7f7f7f; text-decoration-color: #7f7f7f\">whoscored.py</span></a><span style=\"color: #7f7f7f; text-decoration-color: #7f7f7f\">:</span><a href=\"file:///home/morten/.conda/envs/packing-report/lib/python3.10/site-packages/soccerdata/whoscored.py#584\" target=\"_blank\"><span style=\"color: #7f7f7f; text-decoration-color: #7f7f7f\">584</span></a>\n",
       "</pre>\n"
      ],
      "text/plain": [
       "\u001b[2;36m                   \u001b[0m\u001b[2;36m \u001b[0m\u001b[34mINFO    \u001b[0m \u001b[1m[\u001b[0m\u001b[1;36m130\u001b[0m/\u001b[1;36m380\u001b[0m\u001b[1m]\u001b[0m Retrieving game with \u001b[33mid\u001b[0m=\u001b[1;36m1549627\u001b[0m                             \u001b]8;id=458079;file:///home/morten/.conda/envs/packing-report/lib/python3.10/site-packages/soccerdata/whoscored.py\u001b\\\u001b[2mwhoscored.py\u001b[0m\u001b]8;;\u001b\\\u001b[2m:\u001b[0m\u001b]8;id=208947;file:///home/morten/.conda/envs/packing-report/lib/python3.10/site-packages/soccerdata/whoscored.py#584\u001b\\\u001b[2m584\u001b[0m\u001b]8;;\u001b\\\n"
      ]
     },
     "metadata": {},
     "output_type": "display_data"
    },
    {
     "data": {
      "text/html": [
       "<pre style=\"white-space:pre;overflow-x:auto;line-height:normal;font-family:Menlo,'DejaVu Sans Mono',consolas,'Courier New',monospace\"><span style=\"color: #7fbfbf; text-decoration-color: #7fbfbf\">                    </span><span style=\"color: #000080; text-decoration-color: #000080\">INFO    </span> <span style=\"font-weight: bold\">[</span><span style=\"color: #008080; text-decoration-color: #008080; font-weight: bold\">131</span>/<span style=\"color: #008080; text-decoration-color: #008080; font-weight: bold\">380</span><span style=\"font-weight: bold\">]</span> Retrieving game with <span style=\"color: #808000; text-decoration-color: #808000\">id</span>=<span style=\"color: #008080; text-decoration-color: #008080; font-weight: bold\">1549689</span>                             <a href=\"file:///home/morten/.conda/envs/packing-report/lib/python3.10/site-packages/soccerdata/whoscored.py\" target=\"_blank\"><span style=\"color: #7f7f7f; text-decoration-color: #7f7f7f\">whoscored.py</span></a><span style=\"color: #7f7f7f; text-decoration-color: #7f7f7f\">:</span><a href=\"file:///home/morten/.conda/envs/packing-report/lib/python3.10/site-packages/soccerdata/whoscored.py#584\" target=\"_blank\"><span style=\"color: #7f7f7f; text-decoration-color: #7f7f7f\">584</span></a>\n",
       "</pre>\n"
      ],
      "text/plain": [
       "\u001b[2;36m                   \u001b[0m\u001b[2;36m \u001b[0m\u001b[34mINFO    \u001b[0m \u001b[1m[\u001b[0m\u001b[1;36m131\u001b[0m/\u001b[1;36m380\u001b[0m\u001b[1m]\u001b[0m Retrieving game with \u001b[33mid\u001b[0m=\u001b[1;36m1549689\u001b[0m                             \u001b]8;id=642666;file:///home/morten/.conda/envs/packing-report/lib/python3.10/site-packages/soccerdata/whoscored.py\u001b\\\u001b[2mwhoscored.py\u001b[0m\u001b]8;;\u001b\\\u001b[2m:\u001b[0m\u001b]8;id=727336;file:///home/morten/.conda/envs/packing-report/lib/python3.10/site-packages/soccerdata/whoscored.py#584\u001b\\\u001b[2m584\u001b[0m\u001b]8;;\u001b\\\n"
      ]
     },
     "metadata": {},
     "output_type": "display_data"
    },
    {
     "data": {
      "text/html": [
       "<pre style=\"white-space:pre;overflow-x:auto;line-height:normal;font-family:Menlo,'DejaVu Sans Mono',consolas,'Courier New',monospace\"><span style=\"color: #7fbfbf; text-decoration-color: #7fbfbf\">                    </span><span style=\"color: #000080; text-decoration-color: #000080\">INFO    </span> <span style=\"font-weight: bold\">[</span><span style=\"color: #008080; text-decoration-color: #008080; font-weight: bold\">132</span>/<span style=\"color: #008080; text-decoration-color: #008080; font-weight: bold\">380</span><span style=\"font-weight: bold\">]</span> Retrieving game with <span style=\"color: #808000; text-decoration-color: #808000\">id</span>=<span style=\"color: #008080; text-decoration-color: #008080; font-weight: bold\">1549553</span>                             <a href=\"file:///home/morten/.conda/envs/packing-report/lib/python3.10/site-packages/soccerdata/whoscored.py\" target=\"_blank\"><span style=\"color: #7f7f7f; text-decoration-color: #7f7f7f\">whoscored.py</span></a><span style=\"color: #7f7f7f; text-decoration-color: #7f7f7f\">:</span><a href=\"file:///home/morten/.conda/envs/packing-report/lib/python3.10/site-packages/soccerdata/whoscored.py#584\" target=\"_blank\"><span style=\"color: #7f7f7f; text-decoration-color: #7f7f7f\">584</span></a>\n",
       "</pre>\n"
      ],
      "text/plain": [
       "\u001b[2;36m                   \u001b[0m\u001b[2;36m \u001b[0m\u001b[34mINFO    \u001b[0m \u001b[1m[\u001b[0m\u001b[1;36m132\u001b[0m/\u001b[1;36m380\u001b[0m\u001b[1m]\u001b[0m Retrieving game with \u001b[33mid\u001b[0m=\u001b[1;36m1549553\u001b[0m                             \u001b]8;id=353019;file:///home/morten/.conda/envs/packing-report/lib/python3.10/site-packages/soccerdata/whoscored.py\u001b\\\u001b[2mwhoscored.py\u001b[0m\u001b]8;;\u001b\\\u001b[2m:\u001b[0m\u001b]8;id=209994;file:///home/morten/.conda/envs/packing-report/lib/python3.10/site-packages/soccerdata/whoscored.py#584\u001b\\\u001b[2m584\u001b[0m\u001b]8;;\u001b\\\n"
      ]
     },
     "metadata": {},
     "output_type": "display_data"
    },
    {
     "data": {
      "text/html": [
       "<pre style=\"white-space:pre;overflow-x:auto;line-height:normal;font-family:Menlo,'DejaVu Sans Mono',consolas,'Courier New',monospace\"><span style=\"color: #7fbfbf; text-decoration-color: #7fbfbf\">                    </span><span style=\"color: #000080; text-decoration-color: #000080\">INFO    </span> <span style=\"font-weight: bold\">[</span><span style=\"color: #008080; text-decoration-color: #008080; font-weight: bold\">133</span>/<span style=\"color: #008080; text-decoration-color: #008080; font-weight: bold\">380</span><span style=\"font-weight: bold\">]</span> Retrieving game with <span style=\"color: #808000; text-decoration-color: #808000\">id</span>=<span style=\"color: #008080; text-decoration-color: #008080; font-weight: bold\">1549658</span>                             <a href=\"file:///home/morten/.conda/envs/packing-report/lib/python3.10/site-packages/soccerdata/whoscored.py\" target=\"_blank\"><span style=\"color: #7f7f7f; text-decoration-color: #7f7f7f\">whoscored.py</span></a><span style=\"color: #7f7f7f; text-decoration-color: #7f7f7f\">:</span><a href=\"file:///home/morten/.conda/envs/packing-report/lib/python3.10/site-packages/soccerdata/whoscored.py#584\" target=\"_blank\"><span style=\"color: #7f7f7f; text-decoration-color: #7f7f7f\">584</span></a>\n",
       "</pre>\n"
      ],
      "text/plain": [
       "\u001b[2;36m                   \u001b[0m\u001b[2;36m \u001b[0m\u001b[34mINFO    \u001b[0m \u001b[1m[\u001b[0m\u001b[1;36m133\u001b[0m/\u001b[1;36m380\u001b[0m\u001b[1m]\u001b[0m Retrieving game with \u001b[33mid\u001b[0m=\u001b[1;36m1549658\u001b[0m                             \u001b]8;id=931165;file:///home/morten/.conda/envs/packing-report/lib/python3.10/site-packages/soccerdata/whoscored.py\u001b\\\u001b[2mwhoscored.py\u001b[0m\u001b]8;;\u001b\\\u001b[2m:\u001b[0m\u001b]8;id=465210;file:///home/morten/.conda/envs/packing-report/lib/python3.10/site-packages/soccerdata/whoscored.py#584\u001b\\\u001b[2m584\u001b[0m\u001b]8;;\u001b\\\n"
      ]
     },
     "metadata": {},
     "output_type": "display_data"
    },
    {
     "data": {
      "text/html": [
       "<pre style=\"white-space:pre;overflow-x:auto;line-height:normal;font-family:Menlo,'DejaVu Sans Mono',consolas,'Courier New',monospace\"><span style=\"color: #7fbfbf; text-decoration-color: #7fbfbf\">                    </span><span style=\"color: #000080; text-decoration-color: #000080\">INFO    </span> <span style=\"font-weight: bold\">[</span><span style=\"color: #008080; text-decoration-color: #008080; font-weight: bold\">134</span>/<span style=\"color: #008080; text-decoration-color: #008080; font-weight: bold\">380</span><span style=\"font-weight: bold\">]</span> Retrieving game with <span style=\"color: #808000; text-decoration-color: #808000\">id</span>=<span style=\"color: #008080; text-decoration-color: #008080; font-weight: bold\">1549663</span>                             <a href=\"file:///home/morten/.conda/envs/packing-report/lib/python3.10/site-packages/soccerdata/whoscored.py\" target=\"_blank\"><span style=\"color: #7f7f7f; text-decoration-color: #7f7f7f\">whoscored.py</span></a><span style=\"color: #7f7f7f; text-decoration-color: #7f7f7f\">:</span><a href=\"file:///home/morten/.conda/envs/packing-report/lib/python3.10/site-packages/soccerdata/whoscored.py#584\" target=\"_blank\"><span style=\"color: #7f7f7f; text-decoration-color: #7f7f7f\">584</span></a>\n",
       "</pre>\n"
      ],
      "text/plain": [
       "\u001b[2;36m                   \u001b[0m\u001b[2;36m \u001b[0m\u001b[34mINFO    \u001b[0m \u001b[1m[\u001b[0m\u001b[1;36m134\u001b[0m/\u001b[1;36m380\u001b[0m\u001b[1m]\u001b[0m Retrieving game with \u001b[33mid\u001b[0m=\u001b[1;36m1549663\u001b[0m                             \u001b]8;id=736083;file:///home/morten/.conda/envs/packing-report/lib/python3.10/site-packages/soccerdata/whoscored.py\u001b\\\u001b[2mwhoscored.py\u001b[0m\u001b]8;;\u001b\\\u001b[2m:\u001b[0m\u001b]8;id=394703;file:///home/morten/.conda/envs/packing-report/lib/python3.10/site-packages/soccerdata/whoscored.py#584\u001b\\\u001b[2m584\u001b[0m\u001b]8;;\u001b\\\n"
      ]
     },
     "metadata": {},
     "output_type": "display_data"
    },
    {
     "data": {
      "text/html": [
       "<pre style=\"white-space:pre;overflow-x:auto;line-height:normal;font-family:Menlo,'DejaVu Sans Mono',consolas,'Courier New',monospace\"><span style=\"color: #7fbfbf; text-decoration-color: #7fbfbf\">                    </span><span style=\"color: #000080; text-decoration-color: #000080\">INFO    </span> <span style=\"font-weight: bold\">[</span><span style=\"color: #008080; text-decoration-color: #008080; font-weight: bold\">135</span>/<span style=\"color: #008080; text-decoration-color: #008080; font-weight: bold\">380</span><span style=\"font-weight: bold\">]</span> Retrieving game with <span style=\"color: #808000; text-decoration-color: #808000\">id</span>=<span style=\"color: #008080; text-decoration-color: #008080; font-weight: bold\">1549834</span>                             <a href=\"file:///home/morten/.conda/envs/packing-report/lib/python3.10/site-packages/soccerdata/whoscored.py\" target=\"_blank\"><span style=\"color: #7f7f7f; text-decoration-color: #7f7f7f\">whoscored.py</span></a><span style=\"color: #7f7f7f; text-decoration-color: #7f7f7f\">:</span><a href=\"file:///home/morten/.conda/envs/packing-report/lib/python3.10/site-packages/soccerdata/whoscored.py#584\" target=\"_blank\"><span style=\"color: #7f7f7f; text-decoration-color: #7f7f7f\">584</span></a>\n",
       "</pre>\n"
      ],
      "text/plain": [
       "\u001b[2;36m                   \u001b[0m\u001b[2;36m \u001b[0m\u001b[34mINFO    \u001b[0m \u001b[1m[\u001b[0m\u001b[1;36m135\u001b[0m/\u001b[1;36m380\u001b[0m\u001b[1m]\u001b[0m Retrieving game with \u001b[33mid\u001b[0m=\u001b[1;36m1549834\u001b[0m                             \u001b]8;id=152464;file:///home/morten/.conda/envs/packing-report/lib/python3.10/site-packages/soccerdata/whoscored.py\u001b\\\u001b[2mwhoscored.py\u001b[0m\u001b]8;;\u001b\\\u001b[2m:\u001b[0m\u001b]8;id=241683;file:///home/morten/.conda/envs/packing-report/lib/python3.10/site-packages/soccerdata/whoscored.py#584\u001b\\\u001b[2m584\u001b[0m\u001b]8;;\u001b\\\n"
      ]
     },
     "metadata": {},
     "output_type": "display_data"
    },
    {
     "data": {
      "text/html": [
       "<pre style=\"white-space:pre;overflow-x:auto;line-height:normal;font-family:Menlo,'DejaVu Sans Mono',consolas,'Courier New',monospace\"><span style=\"color: #7fbfbf; text-decoration-color: #7fbfbf\">                    </span><span style=\"color: #000080; text-decoration-color: #000080\">INFO    </span> <span style=\"font-weight: bold\">[</span><span style=\"color: #008080; text-decoration-color: #008080; font-weight: bold\">136</span>/<span style=\"color: #008080; text-decoration-color: #008080; font-weight: bold\">380</span><span style=\"font-weight: bold\">]</span> Retrieving game with <span style=\"color: #808000; text-decoration-color: #808000\">id</span>=<span style=\"color: #008080; text-decoration-color: #008080; font-weight: bold\">1549859</span>                             <a href=\"file:///home/morten/.conda/envs/packing-report/lib/python3.10/site-packages/soccerdata/whoscored.py\" target=\"_blank\"><span style=\"color: #7f7f7f; text-decoration-color: #7f7f7f\">whoscored.py</span></a><span style=\"color: #7f7f7f; text-decoration-color: #7f7f7f\">:</span><a href=\"file:///home/morten/.conda/envs/packing-report/lib/python3.10/site-packages/soccerdata/whoscored.py#584\" target=\"_blank\"><span style=\"color: #7f7f7f; text-decoration-color: #7f7f7f\">584</span></a>\n",
       "</pre>\n"
      ],
      "text/plain": [
       "\u001b[2;36m                   \u001b[0m\u001b[2;36m \u001b[0m\u001b[34mINFO    \u001b[0m \u001b[1m[\u001b[0m\u001b[1;36m136\u001b[0m/\u001b[1;36m380\u001b[0m\u001b[1m]\u001b[0m Retrieving game with \u001b[33mid\u001b[0m=\u001b[1;36m1549859\u001b[0m                             \u001b]8;id=792422;file:///home/morten/.conda/envs/packing-report/lib/python3.10/site-packages/soccerdata/whoscored.py\u001b\\\u001b[2mwhoscored.py\u001b[0m\u001b]8;;\u001b\\\u001b[2m:\u001b[0m\u001b]8;id=382942;file:///home/morten/.conda/envs/packing-report/lib/python3.10/site-packages/soccerdata/whoscored.py#584\u001b\\\u001b[2m584\u001b[0m\u001b]8;;\u001b\\\n"
      ]
     },
     "metadata": {},
     "output_type": "display_data"
    },
    {
     "data": {
      "text/html": [
       "<pre style=\"white-space:pre;overflow-x:auto;line-height:normal;font-family:Menlo,'DejaVu Sans Mono',consolas,'Courier New',monospace\"><span style=\"color: #7fbfbf; text-decoration-color: #7fbfbf\">                    </span><span style=\"color: #000080; text-decoration-color: #000080\">INFO    </span> <span style=\"font-weight: bold\">[</span><span style=\"color: #008080; text-decoration-color: #008080; font-weight: bold\">137</span>/<span style=\"color: #008080; text-decoration-color: #008080; font-weight: bold\">380</span><span style=\"font-weight: bold\">]</span> Retrieving game with <span style=\"color: #808000; text-decoration-color: #808000\">id</span>=<span style=\"color: #008080; text-decoration-color: #008080; font-weight: bold\">1549817</span>                             <a href=\"file:///home/morten/.conda/envs/packing-report/lib/python3.10/site-packages/soccerdata/whoscored.py\" target=\"_blank\"><span style=\"color: #7f7f7f; text-decoration-color: #7f7f7f\">whoscored.py</span></a><span style=\"color: #7f7f7f; text-decoration-color: #7f7f7f\">:</span><a href=\"file:///home/morten/.conda/envs/packing-report/lib/python3.10/site-packages/soccerdata/whoscored.py#584\" target=\"_blank\"><span style=\"color: #7f7f7f; text-decoration-color: #7f7f7f\">584</span></a>\n",
       "</pre>\n"
      ],
      "text/plain": [
       "\u001b[2;36m                   \u001b[0m\u001b[2;36m \u001b[0m\u001b[34mINFO    \u001b[0m \u001b[1m[\u001b[0m\u001b[1;36m137\u001b[0m/\u001b[1;36m380\u001b[0m\u001b[1m]\u001b[0m Retrieving game with \u001b[33mid\u001b[0m=\u001b[1;36m1549817\u001b[0m                             \u001b]8;id=69834;file:///home/morten/.conda/envs/packing-report/lib/python3.10/site-packages/soccerdata/whoscored.py\u001b\\\u001b[2mwhoscored.py\u001b[0m\u001b]8;;\u001b\\\u001b[2m:\u001b[0m\u001b]8;id=372779;file:///home/morten/.conda/envs/packing-report/lib/python3.10/site-packages/soccerdata/whoscored.py#584\u001b\\\u001b[2m584\u001b[0m\u001b]8;;\u001b\\\n"
      ]
     },
     "metadata": {},
     "output_type": "display_data"
    },
    {
     "data": {
      "text/html": [
       "<pre style=\"white-space:pre;overflow-x:auto;line-height:normal;font-family:Menlo,'DejaVu Sans Mono',consolas,'Courier New',monospace\"><span style=\"color: #7fbfbf; text-decoration-color: #7fbfbf\">[10/02/22 17:52:01] </span><span style=\"color: #000080; text-decoration-color: #000080\">INFO    </span> <span style=\"font-weight: bold\">[</span><span style=\"color: #008080; text-decoration-color: #008080; font-weight: bold\">138</span>/<span style=\"color: #008080; text-decoration-color: #008080; font-weight: bold\">380</span><span style=\"font-weight: bold\">]</span> Retrieving game with <span style=\"color: #808000; text-decoration-color: #808000\">id</span>=<span style=\"color: #008080; text-decoration-color: #008080; font-weight: bold\">1549760</span>                             <a href=\"file:///home/morten/.conda/envs/packing-report/lib/python3.10/site-packages/soccerdata/whoscored.py\" target=\"_blank\"><span style=\"color: #7f7f7f; text-decoration-color: #7f7f7f\">whoscored.py</span></a><span style=\"color: #7f7f7f; text-decoration-color: #7f7f7f\">:</span><a href=\"file:///home/morten/.conda/envs/packing-report/lib/python3.10/site-packages/soccerdata/whoscored.py#584\" target=\"_blank\"><span style=\"color: #7f7f7f; text-decoration-color: #7f7f7f\">584</span></a>\n",
       "</pre>\n"
      ],
      "text/plain": [
       "\u001b[2;36m[10/02/22 17:52:01]\u001b[0m\u001b[2;36m \u001b[0m\u001b[34mINFO    \u001b[0m \u001b[1m[\u001b[0m\u001b[1;36m138\u001b[0m/\u001b[1;36m380\u001b[0m\u001b[1m]\u001b[0m Retrieving game with \u001b[33mid\u001b[0m=\u001b[1;36m1549760\u001b[0m                             \u001b]8;id=44263;file:///home/morten/.conda/envs/packing-report/lib/python3.10/site-packages/soccerdata/whoscored.py\u001b\\\u001b[2mwhoscored.py\u001b[0m\u001b]8;;\u001b\\\u001b[2m:\u001b[0m\u001b]8;id=628363;file:///home/morten/.conda/envs/packing-report/lib/python3.10/site-packages/soccerdata/whoscored.py#584\u001b\\\u001b[2m584\u001b[0m\u001b]8;;\u001b\\\n"
      ]
     },
     "metadata": {},
     "output_type": "display_data"
    },
    {
     "data": {
      "text/html": [
       "<pre style=\"white-space:pre;overflow-x:auto;line-height:normal;font-family:Menlo,'DejaVu Sans Mono',consolas,'Courier New',monospace\"><span style=\"color: #7fbfbf; text-decoration-color: #7fbfbf\">                    </span><span style=\"color: #000080; text-decoration-color: #000080\">INFO    </span> <span style=\"font-weight: bold\">[</span><span style=\"color: #008080; text-decoration-color: #008080; font-weight: bold\">139</span>/<span style=\"color: #008080; text-decoration-color: #008080; font-weight: bold\">380</span><span style=\"font-weight: bold\">]</span> Retrieving game with <span style=\"color: #808000; text-decoration-color: #808000\">id</span>=<span style=\"color: #008080; text-decoration-color: #008080; font-weight: bold\">1549849</span>                             <a href=\"file:///home/morten/.conda/envs/packing-report/lib/python3.10/site-packages/soccerdata/whoscored.py\" target=\"_blank\"><span style=\"color: #7f7f7f; text-decoration-color: #7f7f7f\">whoscored.py</span></a><span style=\"color: #7f7f7f; text-decoration-color: #7f7f7f\">:</span><a href=\"file:///home/morten/.conda/envs/packing-report/lib/python3.10/site-packages/soccerdata/whoscored.py#584\" target=\"_blank\"><span style=\"color: #7f7f7f; text-decoration-color: #7f7f7f\">584</span></a>\n",
       "</pre>\n"
      ],
      "text/plain": [
       "\u001b[2;36m                   \u001b[0m\u001b[2;36m \u001b[0m\u001b[34mINFO    \u001b[0m \u001b[1m[\u001b[0m\u001b[1;36m139\u001b[0m/\u001b[1;36m380\u001b[0m\u001b[1m]\u001b[0m Retrieving game with \u001b[33mid\u001b[0m=\u001b[1;36m1549849\u001b[0m                             \u001b]8;id=858533;file:///home/morten/.conda/envs/packing-report/lib/python3.10/site-packages/soccerdata/whoscored.py\u001b\\\u001b[2mwhoscored.py\u001b[0m\u001b]8;;\u001b\\\u001b[2m:\u001b[0m\u001b]8;id=350604;file:///home/morten/.conda/envs/packing-report/lib/python3.10/site-packages/soccerdata/whoscored.py#584\u001b\\\u001b[2m584\u001b[0m\u001b]8;;\u001b\\\n"
      ]
     },
     "metadata": {},
     "output_type": "display_data"
    },
    {
     "data": {
      "text/html": [
       "<pre style=\"white-space:pre;overflow-x:auto;line-height:normal;font-family:Menlo,'DejaVu Sans Mono',consolas,'Courier New',monospace\"><span style=\"color: #7fbfbf; text-decoration-color: #7fbfbf\">                    </span><span style=\"color: #000080; text-decoration-color: #000080\">INFO    </span> <span style=\"font-weight: bold\">[</span><span style=\"color: #008080; text-decoration-color: #008080; font-weight: bold\">140</span>/<span style=\"color: #008080; text-decoration-color: #008080; font-weight: bold\">380</span><span style=\"font-weight: bold\">]</span> Retrieving game with <span style=\"color: #808000; text-decoration-color: #808000\">id</span>=<span style=\"color: #008080; text-decoration-color: #008080; font-weight: bold\">1549775</span>                             <a href=\"file:///home/morten/.conda/envs/packing-report/lib/python3.10/site-packages/soccerdata/whoscored.py\" target=\"_blank\"><span style=\"color: #7f7f7f; text-decoration-color: #7f7f7f\">whoscored.py</span></a><span style=\"color: #7f7f7f; text-decoration-color: #7f7f7f\">:</span><a href=\"file:///home/morten/.conda/envs/packing-report/lib/python3.10/site-packages/soccerdata/whoscored.py#584\" target=\"_blank\"><span style=\"color: #7f7f7f; text-decoration-color: #7f7f7f\">584</span></a>\n",
       "</pre>\n"
      ],
      "text/plain": [
       "\u001b[2;36m                   \u001b[0m\u001b[2;36m \u001b[0m\u001b[34mINFO    \u001b[0m \u001b[1m[\u001b[0m\u001b[1;36m140\u001b[0m/\u001b[1;36m380\u001b[0m\u001b[1m]\u001b[0m Retrieving game with \u001b[33mid\u001b[0m=\u001b[1;36m1549775\u001b[0m                             \u001b]8;id=472085;file:///home/morten/.conda/envs/packing-report/lib/python3.10/site-packages/soccerdata/whoscored.py\u001b\\\u001b[2mwhoscored.py\u001b[0m\u001b]8;;\u001b\\\u001b[2m:\u001b[0m\u001b]8;id=231817;file:///home/morten/.conda/envs/packing-report/lib/python3.10/site-packages/soccerdata/whoscored.py#584\u001b\\\u001b[2m584\u001b[0m\u001b]8;;\u001b\\\n"
      ]
     },
     "metadata": {},
     "output_type": "display_data"
    },
    {
     "data": {
      "text/html": [
       "<pre style=\"white-space:pre;overflow-x:auto;line-height:normal;font-family:Menlo,'DejaVu Sans Mono',consolas,'Courier New',monospace\"><span style=\"color: #7fbfbf; text-decoration-color: #7fbfbf\">                    </span><span style=\"color: #000080; text-decoration-color: #000080\">INFO    </span> <span style=\"font-weight: bold\">[</span><span style=\"color: #008080; text-decoration-color: #008080; font-weight: bold\">141</span>/<span style=\"color: #008080; text-decoration-color: #008080; font-weight: bold\">380</span><span style=\"font-weight: bold\">]</span> Retrieving game with <span style=\"color: #808000; text-decoration-color: #808000\">id</span>=<span style=\"color: #008080; text-decoration-color: #008080; font-weight: bold\">1549790</span>                             <a href=\"file:///home/morten/.conda/envs/packing-report/lib/python3.10/site-packages/soccerdata/whoscored.py\" target=\"_blank\"><span style=\"color: #7f7f7f; text-decoration-color: #7f7f7f\">whoscored.py</span></a><span style=\"color: #7f7f7f; text-decoration-color: #7f7f7f\">:</span><a href=\"file:///home/morten/.conda/envs/packing-report/lib/python3.10/site-packages/soccerdata/whoscored.py#584\" target=\"_blank\"><span style=\"color: #7f7f7f; text-decoration-color: #7f7f7f\">584</span></a>\n",
       "</pre>\n"
      ],
      "text/plain": [
       "\u001b[2;36m                   \u001b[0m\u001b[2;36m \u001b[0m\u001b[34mINFO    \u001b[0m \u001b[1m[\u001b[0m\u001b[1;36m141\u001b[0m/\u001b[1;36m380\u001b[0m\u001b[1m]\u001b[0m Retrieving game with \u001b[33mid\u001b[0m=\u001b[1;36m1549790\u001b[0m                             \u001b]8;id=889600;file:///home/morten/.conda/envs/packing-report/lib/python3.10/site-packages/soccerdata/whoscored.py\u001b\\\u001b[2mwhoscored.py\u001b[0m\u001b]8;;\u001b\\\u001b[2m:\u001b[0m\u001b]8;id=86727;file:///home/morten/.conda/envs/packing-report/lib/python3.10/site-packages/soccerdata/whoscored.py#584\u001b\\\u001b[2m584\u001b[0m\u001b]8;;\u001b\\\n"
      ]
     },
     "metadata": {},
     "output_type": "display_data"
    },
    {
     "data": {
      "text/html": [
       "<pre style=\"white-space:pre;overflow-x:auto;line-height:normal;font-family:Menlo,'DejaVu Sans Mono',consolas,'Courier New',monospace\"><span style=\"color: #7fbfbf; text-decoration-color: #7fbfbf\">                    </span><span style=\"color: #000080; text-decoration-color: #000080\">INFO    </span> <span style=\"font-weight: bold\">[</span><span style=\"color: #008080; text-decoration-color: #008080; font-weight: bold\">142</span>/<span style=\"color: #008080; text-decoration-color: #008080; font-weight: bold\">380</span><span style=\"font-weight: bold\">]</span> Retrieving game with <span style=\"color: #808000; text-decoration-color: #808000\">id</span>=<span style=\"color: #008080; text-decoration-color: #008080; font-weight: bold\">1549671</span>                             <a href=\"file:///home/morten/.conda/envs/packing-report/lib/python3.10/site-packages/soccerdata/whoscored.py\" target=\"_blank\"><span style=\"color: #7f7f7f; text-decoration-color: #7f7f7f\">whoscored.py</span></a><span style=\"color: #7f7f7f; text-decoration-color: #7f7f7f\">:</span><a href=\"file:///home/morten/.conda/envs/packing-report/lib/python3.10/site-packages/soccerdata/whoscored.py#584\" target=\"_blank\"><span style=\"color: #7f7f7f; text-decoration-color: #7f7f7f\">584</span></a>\n",
       "</pre>\n"
      ],
      "text/plain": [
       "\u001b[2;36m                   \u001b[0m\u001b[2;36m \u001b[0m\u001b[34mINFO    \u001b[0m \u001b[1m[\u001b[0m\u001b[1;36m142\u001b[0m/\u001b[1;36m380\u001b[0m\u001b[1m]\u001b[0m Retrieving game with \u001b[33mid\u001b[0m=\u001b[1;36m1549671\u001b[0m                             \u001b]8;id=763384;file:///home/morten/.conda/envs/packing-report/lib/python3.10/site-packages/soccerdata/whoscored.py\u001b\\\u001b[2mwhoscored.py\u001b[0m\u001b]8;;\u001b\\\u001b[2m:\u001b[0m\u001b]8;id=857983;file:///home/morten/.conda/envs/packing-report/lib/python3.10/site-packages/soccerdata/whoscored.py#584\u001b\\\u001b[2m584\u001b[0m\u001b]8;;\u001b\\\n"
      ]
     },
     "metadata": {},
     "output_type": "display_data"
    },
    {
     "data": {
      "text/html": [
       "<pre style=\"white-space:pre;overflow-x:auto;line-height:normal;font-family:Menlo,'DejaVu Sans Mono',consolas,'Courier New',monospace\"><span style=\"color: #7fbfbf; text-decoration-color: #7fbfbf\">                    </span><span style=\"color: #000080; text-decoration-color: #000080\">INFO    </span> <span style=\"font-weight: bold\">[</span><span style=\"color: #008080; text-decoration-color: #008080; font-weight: bold\">143</span>/<span style=\"color: #008080; text-decoration-color: #008080; font-weight: bold\">380</span><span style=\"font-weight: bold\">]</span> Retrieving game with <span style=\"color: #808000; text-decoration-color: #808000\">id</span>=<span style=\"color: #008080; text-decoration-color: #008080; font-weight: bold\">1549588</span>                             <a href=\"file:///home/morten/.conda/envs/packing-report/lib/python3.10/site-packages/soccerdata/whoscored.py\" target=\"_blank\"><span style=\"color: #7f7f7f; text-decoration-color: #7f7f7f\">whoscored.py</span></a><span style=\"color: #7f7f7f; text-decoration-color: #7f7f7f\">:</span><a href=\"file:///home/morten/.conda/envs/packing-report/lib/python3.10/site-packages/soccerdata/whoscored.py#584\" target=\"_blank\"><span style=\"color: #7f7f7f; text-decoration-color: #7f7f7f\">584</span></a>\n",
       "</pre>\n"
      ],
      "text/plain": [
       "\u001b[2;36m                   \u001b[0m\u001b[2;36m \u001b[0m\u001b[34mINFO    \u001b[0m \u001b[1m[\u001b[0m\u001b[1;36m143\u001b[0m/\u001b[1;36m380\u001b[0m\u001b[1m]\u001b[0m Retrieving game with \u001b[33mid\u001b[0m=\u001b[1;36m1549588\u001b[0m                             \u001b]8;id=441205;file:///home/morten/.conda/envs/packing-report/lib/python3.10/site-packages/soccerdata/whoscored.py\u001b\\\u001b[2mwhoscored.py\u001b[0m\u001b]8;;\u001b\\\u001b[2m:\u001b[0m\u001b]8;id=120649;file:///home/morten/.conda/envs/packing-report/lib/python3.10/site-packages/soccerdata/whoscored.py#584\u001b\\\u001b[2m584\u001b[0m\u001b]8;;\u001b\\\n"
      ]
     },
     "metadata": {},
     "output_type": "display_data"
    },
    {
     "data": {
      "text/html": [
       "<pre style=\"white-space:pre;overflow-x:auto;line-height:normal;font-family:Menlo,'DejaVu Sans Mono',consolas,'Courier New',monospace\"><span style=\"color: #7fbfbf; text-decoration-color: #7fbfbf\">                    </span><span style=\"color: #000080; text-decoration-color: #000080\">INFO    </span> <span style=\"font-weight: bold\">[</span><span style=\"color: #008080; text-decoration-color: #008080; font-weight: bold\">144</span>/<span style=\"color: #008080; text-decoration-color: #008080; font-weight: bold\">380</span><span style=\"font-weight: bold\">]</span> Retrieving game with <span style=\"color: #808000; text-decoration-color: #808000\">id</span>=<span style=\"color: #008080; text-decoration-color: #008080; font-weight: bold\">1549748</span>                             <a href=\"file:///home/morten/.conda/envs/packing-report/lib/python3.10/site-packages/soccerdata/whoscored.py\" target=\"_blank\"><span style=\"color: #7f7f7f; text-decoration-color: #7f7f7f\">whoscored.py</span></a><span style=\"color: #7f7f7f; text-decoration-color: #7f7f7f\">:</span><a href=\"file:///home/morten/.conda/envs/packing-report/lib/python3.10/site-packages/soccerdata/whoscored.py#584\" target=\"_blank\"><span style=\"color: #7f7f7f; text-decoration-color: #7f7f7f\">584</span></a>\n",
       "</pre>\n"
      ],
      "text/plain": [
       "\u001b[2;36m                   \u001b[0m\u001b[2;36m \u001b[0m\u001b[34mINFO    \u001b[0m \u001b[1m[\u001b[0m\u001b[1;36m144\u001b[0m/\u001b[1;36m380\u001b[0m\u001b[1m]\u001b[0m Retrieving game with \u001b[33mid\u001b[0m=\u001b[1;36m1549748\u001b[0m                             \u001b]8;id=58794;file:///home/morten/.conda/envs/packing-report/lib/python3.10/site-packages/soccerdata/whoscored.py\u001b\\\u001b[2mwhoscored.py\u001b[0m\u001b]8;;\u001b\\\u001b[2m:\u001b[0m\u001b]8;id=643556;file:///home/morten/.conda/envs/packing-report/lib/python3.10/site-packages/soccerdata/whoscored.py#584\u001b\\\u001b[2m584\u001b[0m\u001b]8;;\u001b\\\n"
      ]
     },
     "metadata": {},
     "output_type": "display_data"
    },
    {
     "data": {
      "text/html": [
       "<pre style=\"white-space:pre;overflow-x:auto;line-height:normal;font-family:Menlo,'DejaVu Sans Mono',consolas,'Courier New',monospace\"><span style=\"color: #7fbfbf; text-decoration-color: #7fbfbf\">                    </span><span style=\"color: #000080; text-decoration-color: #000080\">INFO    </span> <span style=\"font-weight: bold\">[</span><span style=\"color: #008080; text-decoration-color: #008080; font-weight: bold\">145</span>/<span style=\"color: #008080; text-decoration-color: #008080; font-weight: bold\">380</span><span style=\"font-weight: bold\">]</span> Retrieving game with <span style=\"color: #808000; text-decoration-color: #808000\">id</span>=<span style=\"color: #008080; text-decoration-color: #008080; font-weight: bold\">1549579</span>                             <a href=\"file:///home/morten/.conda/envs/packing-report/lib/python3.10/site-packages/soccerdata/whoscored.py\" target=\"_blank\"><span style=\"color: #7f7f7f; text-decoration-color: #7f7f7f\">whoscored.py</span></a><span style=\"color: #7f7f7f; text-decoration-color: #7f7f7f\">:</span><a href=\"file:///home/morten/.conda/envs/packing-report/lib/python3.10/site-packages/soccerdata/whoscored.py#584\" target=\"_blank\"><span style=\"color: #7f7f7f; text-decoration-color: #7f7f7f\">584</span></a>\n",
       "</pre>\n"
      ],
      "text/plain": [
       "\u001b[2;36m                   \u001b[0m\u001b[2;36m \u001b[0m\u001b[34mINFO    \u001b[0m \u001b[1m[\u001b[0m\u001b[1;36m145\u001b[0m/\u001b[1;36m380\u001b[0m\u001b[1m]\u001b[0m Retrieving game with \u001b[33mid\u001b[0m=\u001b[1;36m1549579\u001b[0m                             \u001b]8;id=464410;file:///home/morten/.conda/envs/packing-report/lib/python3.10/site-packages/soccerdata/whoscored.py\u001b\\\u001b[2mwhoscored.py\u001b[0m\u001b]8;;\u001b\\\u001b[2m:\u001b[0m\u001b]8;id=796517;file:///home/morten/.conda/envs/packing-report/lib/python3.10/site-packages/soccerdata/whoscored.py#584\u001b\\\u001b[2m584\u001b[0m\u001b]8;;\u001b\\\n"
      ]
     },
     "metadata": {},
     "output_type": "display_data"
    },
    {
     "data": {
      "text/html": [
       "<pre style=\"white-space:pre;overflow-x:auto;line-height:normal;font-family:Menlo,'DejaVu Sans Mono',consolas,'Courier New',monospace\"><span style=\"color: #7fbfbf; text-decoration-color: #7fbfbf\">                    </span><span style=\"color: #000080; text-decoration-color: #000080\">INFO    </span> <span style=\"font-weight: bold\">[</span><span style=\"color: #008080; text-decoration-color: #008080; font-weight: bold\">146</span>/<span style=\"color: #008080; text-decoration-color: #008080; font-weight: bold\">380</span><span style=\"font-weight: bold\">]</span> Retrieving game with <span style=\"color: #808000; text-decoration-color: #808000\">id</span>=<span style=\"color: #008080; text-decoration-color: #008080; font-weight: bold\">1549679</span>                             <a href=\"file:///home/morten/.conda/envs/packing-report/lib/python3.10/site-packages/soccerdata/whoscored.py\" target=\"_blank\"><span style=\"color: #7f7f7f; text-decoration-color: #7f7f7f\">whoscored.py</span></a><span style=\"color: #7f7f7f; text-decoration-color: #7f7f7f\">:</span><a href=\"file:///home/morten/.conda/envs/packing-report/lib/python3.10/site-packages/soccerdata/whoscored.py#584\" target=\"_blank\"><span style=\"color: #7f7f7f; text-decoration-color: #7f7f7f\">584</span></a>\n",
       "</pre>\n"
      ],
      "text/plain": [
       "\u001b[2;36m                   \u001b[0m\u001b[2;36m \u001b[0m\u001b[34mINFO    \u001b[0m \u001b[1m[\u001b[0m\u001b[1;36m146\u001b[0m/\u001b[1;36m380\u001b[0m\u001b[1m]\u001b[0m Retrieving game with \u001b[33mid\u001b[0m=\u001b[1;36m1549679\u001b[0m                             \u001b]8;id=298763;file:///home/morten/.conda/envs/packing-report/lib/python3.10/site-packages/soccerdata/whoscored.py\u001b\\\u001b[2mwhoscored.py\u001b[0m\u001b]8;;\u001b\\\u001b[2m:\u001b[0m\u001b]8;id=49071;file:///home/morten/.conda/envs/packing-report/lib/python3.10/site-packages/soccerdata/whoscored.py#584\u001b\\\u001b[2m584\u001b[0m\u001b]8;;\u001b\\\n"
      ]
     },
     "metadata": {},
     "output_type": "display_data"
    },
    {
     "data": {
      "text/html": [
       "<pre style=\"white-space:pre;overflow-x:auto;line-height:normal;font-family:Menlo,'DejaVu Sans Mono',consolas,'Courier New',monospace\"><span style=\"color: #7fbfbf; text-decoration-color: #7fbfbf\">                    </span><span style=\"color: #000080; text-decoration-color: #000080\">INFO    </span> <span style=\"font-weight: bold\">[</span><span style=\"color: #008080; text-decoration-color: #008080; font-weight: bold\">147</span>/<span style=\"color: #008080; text-decoration-color: #008080; font-weight: bold\">380</span><span style=\"font-weight: bold\">]</span> Retrieving game with <span style=\"color: #808000; text-decoration-color: #808000\">id</span>=<span style=\"color: #008080; text-decoration-color: #008080; font-weight: bold\">1549764</span>                             <a href=\"file:///home/morten/.conda/envs/packing-report/lib/python3.10/site-packages/soccerdata/whoscored.py\" target=\"_blank\"><span style=\"color: #7f7f7f; text-decoration-color: #7f7f7f\">whoscored.py</span></a><span style=\"color: #7f7f7f; text-decoration-color: #7f7f7f\">:</span><a href=\"file:///home/morten/.conda/envs/packing-report/lib/python3.10/site-packages/soccerdata/whoscored.py#584\" target=\"_blank\"><span style=\"color: #7f7f7f; text-decoration-color: #7f7f7f\">584</span></a>\n",
       "</pre>\n"
      ],
      "text/plain": [
       "\u001b[2;36m                   \u001b[0m\u001b[2;36m \u001b[0m\u001b[34mINFO    \u001b[0m \u001b[1m[\u001b[0m\u001b[1;36m147\u001b[0m/\u001b[1;36m380\u001b[0m\u001b[1m]\u001b[0m Retrieving game with \u001b[33mid\u001b[0m=\u001b[1;36m1549764\u001b[0m                             \u001b]8;id=639845;file:///home/morten/.conda/envs/packing-report/lib/python3.10/site-packages/soccerdata/whoscored.py\u001b\\\u001b[2mwhoscored.py\u001b[0m\u001b]8;;\u001b\\\u001b[2m:\u001b[0m\u001b]8;id=929719;file:///home/morten/.conda/envs/packing-report/lib/python3.10/site-packages/soccerdata/whoscored.py#584\u001b\\\u001b[2m584\u001b[0m\u001b]8;;\u001b\\\n"
      ]
     },
     "metadata": {},
     "output_type": "display_data"
    },
    {
     "data": {
      "text/html": [
       "<pre style=\"white-space:pre;overflow-x:auto;line-height:normal;font-family:Menlo,'DejaVu Sans Mono',consolas,'Courier New',monospace\"><span style=\"color: #7fbfbf; text-decoration-color: #7fbfbf\">                    </span><span style=\"color: #000080; text-decoration-color: #000080\">INFO    </span> <span style=\"font-weight: bold\">[</span><span style=\"color: #008080; text-decoration-color: #008080; font-weight: bold\">148</span>/<span style=\"color: #008080; text-decoration-color: #008080; font-weight: bold\">380</span><span style=\"font-weight: bold\">]</span> Retrieving game with <span style=\"color: #808000; text-decoration-color: #808000\">id</span>=<span style=\"color: #008080; text-decoration-color: #008080; font-weight: bold\">1549673</span>                             <a href=\"file:///home/morten/.conda/envs/packing-report/lib/python3.10/site-packages/soccerdata/whoscored.py\" target=\"_blank\"><span style=\"color: #7f7f7f; text-decoration-color: #7f7f7f\">whoscored.py</span></a><span style=\"color: #7f7f7f; text-decoration-color: #7f7f7f\">:</span><a href=\"file:///home/morten/.conda/envs/packing-report/lib/python3.10/site-packages/soccerdata/whoscored.py#584\" target=\"_blank\"><span style=\"color: #7f7f7f; text-decoration-color: #7f7f7f\">584</span></a>\n",
       "</pre>\n"
      ],
      "text/plain": [
       "\u001b[2;36m                   \u001b[0m\u001b[2;36m \u001b[0m\u001b[34mINFO    \u001b[0m \u001b[1m[\u001b[0m\u001b[1;36m148\u001b[0m/\u001b[1;36m380\u001b[0m\u001b[1m]\u001b[0m Retrieving game with \u001b[33mid\u001b[0m=\u001b[1;36m1549673\u001b[0m                             \u001b]8;id=86162;file:///home/morten/.conda/envs/packing-report/lib/python3.10/site-packages/soccerdata/whoscored.py\u001b\\\u001b[2mwhoscored.py\u001b[0m\u001b]8;;\u001b\\\u001b[2m:\u001b[0m\u001b]8;id=731940;file:///home/morten/.conda/envs/packing-report/lib/python3.10/site-packages/soccerdata/whoscored.py#584\u001b\\\u001b[2m584\u001b[0m\u001b]8;;\u001b\\\n"
      ]
     },
     "metadata": {},
     "output_type": "display_data"
    },
    {
     "data": {
      "text/html": [
       "<pre style=\"white-space:pre;overflow-x:auto;line-height:normal;font-family:Menlo,'DejaVu Sans Mono',consolas,'Courier New',monospace\"><span style=\"color: #7fbfbf; text-decoration-color: #7fbfbf\">                    </span><span style=\"color: #000080; text-decoration-color: #000080\">INFO    </span> <span style=\"font-weight: bold\">[</span><span style=\"color: #008080; text-decoration-color: #008080; font-weight: bold\">149</span>/<span style=\"color: #008080; text-decoration-color: #008080; font-weight: bold\">380</span><span style=\"font-weight: bold\">]</span> Retrieving game with <span style=\"color: #808000; text-decoration-color: #808000\">id</span>=<span style=\"color: #008080; text-decoration-color: #008080; font-weight: bold\">1549766</span>                             <a href=\"file:///home/morten/.conda/envs/packing-report/lib/python3.10/site-packages/soccerdata/whoscored.py\" target=\"_blank\"><span style=\"color: #7f7f7f; text-decoration-color: #7f7f7f\">whoscored.py</span></a><span style=\"color: #7f7f7f; text-decoration-color: #7f7f7f\">:</span><a href=\"file:///home/morten/.conda/envs/packing-report/lib/python3.10/site-packages/soccerdata/whoscored.py#584\" target=\"_blank\"><span style=\"color: #7f7f7f; text-decoration-color: #7f7f7f\">584</span></a>\n",
       "</pre>\n"
      ],
      "text/plain": [
       "\u001b[2;36m                   \u001b[0m\u001b[2;36m \u001b[0m\u001b[34mINFO    \u001b[0m \u001b[1m[\u001b[0m\u001b[1;36m149\u001b[0m/\u001b[1;36m380\u001b[0m\u001b[1m]\u001b[0m Retrieving game with \u001b[33mid\u001b[0m=\u001b[1;36m1549766\u001b[0m                             \u001b]8;id=992536;file:///home/morten/.conda/envs/packing-report/lib/python3.10/site-packages/soccerdata/whoscored.py\u001b\\\u001b[2mwhoscored.py\u001b[0m\u001b]8;;\u001b\\\u001b[2m:\u001b[0m\u001b]8;id=812332;file:///home/morten/.conda/envs/packing-report/lib/python3.10/site-packages/soccerdata/whoscored.py#584\u001b\\\u001b[2m584\u001b[0m\u001b]8;;\u001b\\\n"
      ]
     },
     "metadata": {},
     "output_type": "display_data"
    },
    {
     "data": {
      "text/html": [
       "<pre style=\"white-space:pre;overflow-x:auto;line-height:normal;font-family:Menlo,'DejaVu Sans Mono',consolas,'Courier New',monospace\"><span style=\"color: #7fbfbf; text-decoration-color: #7fbfbf\">                    </span><span style=\"color: #000080; text-decoration-color: #000080\">INFO    </span> <span style=\"font-weight: bold\">[</span><span style=\"color: #008080; text-decoration-color: #008080; font-weight: bold\">150</span>/<span style=\"color: #008080; text-decoration-color: #008080; font-weight: bold\">380</span><span style=\"font-weight: bold\">]</span> Retrieving game with <span style=\"color: #808000; text-decoration-color: #808000\">id</span>=<span style=\"color: #008080; text-decoration-color: #008080; font-weight: bold\">1549712</span>                             <a href=\"file:///home/morten/.conda/envs/packing-report/lib/python3.10/site-packages/soccerdata/whoscored.py\" target=\"_blank\"><span style=\"color: #7f7f7f; text-decoration-color: #7f7f7f\">whoscored.py</span></a><span style=\"color: #7f7f7f; text-decoration-color: #7f7f7f\">:</span><a href=\"file:///home/morten/.conda/envs/packing-report/lib/python3.10/site-packages/soccerdata/whoscored.py#584\" target=\"_blank\"><span style=\"color: #7f7f7f; text-decoration-color: #7f7f7f\">584</span></a>\n",
       "</pre>\n"
      ],
      "text/plain": [
       "\u001b[2;36m                   \u001b[0m\u001b[2;36m \u001b[0m\u001b[34mINFO    \u001b[0m \u001b[1m[\u001b[0m\u001b[1;36m150\u001b[0m/\u001b[1;36m380\u001b[0m\u001b[1m]\u001b[0m Retrieving game with \u001b[33mid\u001b[0m=\u001b[1;36m1549712\u001b[0m                             \u001b]8;id=42875;file:///home/morten/.conda/envs/packing-report/lib/python3.10/site-packages/soccerdata/whoscored.py\u001b\\\u001b[2mwhoscored.py\u001b[0m\u001b]8;;\u001b\\\u001b[2m:\u001b[0m\u001b]8;id=377906;file:///home/morten/.conda/envs/packing-report/lib/python3.10/site-packages/soccerdata/whoscored.py#584\u001b\\\u001b[2m584\u001b[0m\u001b]8;;\u001b\\\n"
      ]
     },
     "metadata": {},
     "output_type": "display_data"
    },
    {
     "data": {
      "text/html": [
       "<pre style=\"white-space:pre;overflow-x:auto;line-height:normal;font-family:Menlo,'DejaVu Sans Mono',consolas,'Courier New',monospace\"><span style=\"color: #7fbfbf; text-decoration-color: #7fbfbf\">                    </span><span style=\"color: #000080; text-decoration-color: #000080\">INFO    </span> <span style=\"font-weight: bold\">[</span><span style=\"color: #008080; text-decoration-color: #008080; font-weight: bold\">151</span>/<span style=\"color: #008080; text-decoration-color: #008080; font-weight: bold\">380</span><span style=\"font-weight: bold\">]</span> Retrieving game with <span style=\"color: #808000; text-decoration-color: #808000\">id</span>=<span style=\"color: #008080; text-decoration-color: #008080; font-weight: bold\">1549577</span>                             <a href=\"file:///home/morten/.conda/envs/packing-report/lib/python3.10/site-packages/soccerdata/whoscored.py\" target=\"_blank\"><span style=\"color: #7f7f7f; text-decoration-color: #7f7f7f\">whoscored.py</span></a><span style=\"color: #7f7f7f; text-decoration-color: #7f7f7f\">:</span><a href=\"file:///home/morten/.conda/envs/packing-report/lib/python3.10/site-packages/soccerdata/whoscored.py#584\" target=\"_blank\"><span style=\"color: #7f7f7f; text-decoration-color: #7f7f7f\">584</span></a>\n",
       "</pre>\n"
      ],
      "text/plain": [
       "\u001b[2;36m                   \u001b[0m\u001b[2;36m \u001b[0m\u001b[34mINFO    \u001b[0m \u001b[1m[\u001b[0m\u001b[1;36m151\u001b[0m/\u001b[1;36m380\u001b[0m\u001b[1m]\u001b[0m Retrieving game with \u001b[33mid\u001b[0m=\u001b[1;36m1549577\u001b[0m                             \u001b]8;id=314842;file:///home/morten/.conda/envs/packing-report/lib/python3.10/site-packages/soccerdata/whoscored.py\u001b\\\u001b[2mwhoscored.py\u001b[0m\u001b]8;;\u001b\\\u001b[2m:\u001b[0m\u001b]8;id=85487;file:///home/morten/.conda/envs/packing-report/lib/python3.10/site-packages/soccerdata/whoscored.py#584\u001b\\\u001b[2m584\u001b[0m\u001b]8;;\u001b\\\n"
      ]
     },
     "metadata": {},
     "output_type": "display_data"
    },
    {
     "data": {
      "text/html": [
       "<pre style=\"white-space:pre;overflow-x:auto;line-height:normal;font-family:Menlo,'DejaVu Sans Mono',consolas,'Courier New',monospace\"><span style=\"color: #7fbfbf; text-decoration-color: #7fbfbf\">                    </span><span style=\"color: #000080; text-decoration-color: #000080\">INFO    </span> <span style=\"font-weight: bold\">[</span><span style=\"color: #008080; text-decoration-color: #008080; font-weight: bold\">152</span>/<span style=\"color: #008080; text-decoration-color: #008080; font-weight: bold\">380</span><span style=\"font-weight: bold\">]</span> Retrieving game with <span style=\"color: #808000; text-decoration-color: #808000\">id</span>=<span style=\"color: #008080; text-decoration-color: #008080; font-weight: bold\">1549870</span>                             <a href=\"file:///home/morten/.conda/envs/packing-report/lib/python3.10/site-packages/soccerdata/whoscored.py\" target=\"_blank\"><span style=\"color: #7f7f7f; text-decoration-color: #7f7f7f\">whoscored.py</span></a><span style=\"color: #7f7f7f; text-decoration-color: #7f7f7f\">:</span><a href=\"file:///home/morten/.conda/envs/packing-report/lib/python3.10/site-packages/soccerdata/whoscored.py#584\" target=\"_blank\"><span style=\"color: #7f7f7f; text-decoration-color: #7f7f7f\">584</span></a>\n",
       "</pre>\n"
      ],
      "text/plain": [
       "\u001b[2;36m                   \u001b[0m\u001b[2;36m \u001b[0m\u001b[34mINFO    \u001b[0m \u001b[1m[\u001b[0m\u001b[1;36m152\u001b[0m/\u001b[1;36m380\u001b[0m\u001b[1m]\u001b[0m Retrieving game with \u001b[33mid\u001b[0m=\u001b[1;36m1549870\u001b[0m                             \u001b]8;id=264745;file:///home/morten/.conda/envs/packing-report/lib/python3.10/site-packages/soccerdata/whoscored.py\u001b\\\u001b[2mwhoscored.py\u001b[0m\u001b]8;;\u001b\\\u001b[2m:\u001b[0m\u001b]8;id=617374;file:///home/morten/.conda/envs/packing-report/lib/python3.10/site-packages/soccerdata/whoscored.py#584\u001b\\\u001b[2m584\u001b[0m\u001b]8;;\u001b\\\n"
      ]
     },
     "metadata": {},
     "output_type": "display_data"
    },
    {
     "data": {
      "text/html": [
       "<pre style=\"white-space:pre;overflow-x:auto;line-height:normal;font-family:Menlo,'DejaVu Sans Mono',consolas,'Courier New',monospace\"><span style=\"color: #7fbfbf; text-decoration-color: #7fbfbf\">                    </span><span style=\"color: #000080; text-decoration-color: #000080\">INFO    </span> <span style=\"font-weight: bold\">[</span><span style=\"color: #008080; text-decoration-color: #008080; font-weight: bold\">153</span>/<span style=\"color: #008080; text-decoration-color: #008080; font-weight: bold\">380</span><span style=\"font-weight: bold\">]</span> Retrieving game with <span style=\"color: #808000; text-decoration-color: #808000\">id</span>=<span style=\"color: #008080; text-decoration-color: #008080; font-weight: bold\">1549646</span>                             <a href=\"file:///home/morten/.conda/envs/packing-report/lib/python3.10/site-packages/soccerdata/whoscored.py\" target=\"_blank\"><span style=\"color: #7f7f7f; text-decoration-color: #7f7f7f\">whoscored.py</span></a><span style=\"color: #7f7f7f; text-decoration-color: #7f7f7f\">:</span><a href=\"file:///home/morten/.conda/envs/packing-report/lib/python3.10/site-packages/soccerdata/whoscored.py#584\" target=\"_blank\"><span style=\"color: #7f7f7f; text-decoration-color: #7f7f7f\">584</span></a>\n",
       "</pre>\n"
      ],
      "text/plain": [
       "\u001b[2;36m                   \u001b[0m\u001b[2;36m \u001b[0m\u001b[34mINFO    \u001b[0m \u001b[1m[\u001b[0m\u001b[1;36m153\u001b[0m/\u001b[1;36m380\u001b[0m\u001b[1m]\u001b[0m Retrieving game with \u001b[33mid\u001b[0m=\u001b[1;36m1549646\u001b[0m                             \u001b]8;id=818237;file:///home/morten/.conda/envs/packing-report/lib/python3.10/site-packages/soccerdata/whoscored.py\u001b\\\u001b[2mwhoscored.py\u001b[0m\u001b]8;;\u001b\\\u001b[2m:\u001b[0m\u001b]8;id=695372;file:///home/morten/.conda/envs/packing-report/lib/python3.10/site-packages/soccerdata/whoscored.py#584\u001b\\\u001b[2m584\u001b[0m\u001b]8;;\u001b\\\n"
      ]
     },
     "metadata": {},
     "output_type": "display_data"
    },
    {
     "data": {
      "text/html": [
       "<pre style=\"white-space:pre;overflow-x:auto;line-height:normal;font-family:Menlo,'DejaVu Sans Mono',consolas,'Courier New',monospace\"><span style=\"color: #7fbfbf; text-decoration-color: #7fbfbf\">[10/02/22 17:52:02] </span><span style=\"color: #000080; text-decoration-color: #000080\">INFO    </span> <span style=\"font-weight: bold\">[</span><span style=\"color: #008080; text-decoration-color: #008080; font-weight: bold\">154</span>/<span style=\"color: #008080; text-decoration-color: #008080; font-weight: bold\">380</span><span style=\"font-weight: bold\">]</span> Retrieving game with <span style=\"color: #808000; text-decoration-color: #808000\">id</span>=<span style=\"color: #008080; text-decoration-color: #008080; font-weight: bold\">1549612</span>                             <a href=\"file:///home/morten/.conda/envs/packing-report/lib/python3.10/site-packages/soccerdata/whoscored.py\" target=\"_blank\"><span style=\"color: #7f7f7f; text-decoration-color: #7f7f7f\">whoscored.py</span></a><span style=\"color: #7f7f7f; text-decoration-color: #7f7f7f\">:</span><a href=\"file:///home/morten/.conda/envs/packing-report/lib/python3.10/site-packages/soccerdata/whoscored.py#584\" target=\"_blank\"><span style=\"color: #7f7f7f; text-decoration-color: #7f7f7f\">584</span></a>\n",
       "</pre>\n"
      ],
      "text/plain": [
       "\u001b[2;36m[10/02/22 17:52:02]\u001b[0m\u001b[2;36m \u001b[0m\u001b[34mINFO    \u001b[0m \u001b[1m[\u001b[0m\u001b[1;36m154\u001b[0m/\u001b[1;36m380\u001b[0m\u001b[1m]\u001b[0m Retrieving game with \u001b[33mid\u001b[0m=\u001b[1;36m1549612\u001b[0m                             \u001b]8;id=597231;file:///home/morten/.conda/envs/packing-report/lib/python3.10/site-packages/soccerdata/whoscored.py\u001b\\\u001b[2mwhoscored.py\u001b[0m\u001b]8;;\u001b\\\u001b[2m:\u001b[0m\u001b]8;id=305355;file:///home/morten/.conda/envs/packing-report/lib/python3.10/site-packages/soccerdata/whoscored.py#584\u001b\\\u001b[2m584\u001b[0m\u001b]8;;\u001b\\\n"
      ]
     },
     "metadata": {},
     "output_type": "display_data"
    },
    {
     "data": {
      "text/html": [
       "<pre style=\"white-space:pre;overflow-x:auto;line-height:normal;font-family:Menlo,'DejaVu Sans Mono',consolas,'Courier New',monospace\"><span style=\"color: #7fbfbf; text-decoration-color: #7fbfbf\">                    </span><span style=\"color: #000080; text-decoration-color: #000080\">INFO    </span> <span style=\"font-weight: bold\">[</span><span style=\"color: #008080; text-decoration-color: #008080; font-weight: bold\">155</span>/<span style=\"color: #008080; text-decoration-color: #008080; font-weight: bold\">380</span><span style=\"font-weight: bold\">]</span> Retrieving game with <span style=\"color: #808000; text-decoration-color: #808000\">id</span>=<span style=\"color: #008080; text-decoration-color: #008080; font-weight: bold\">1549788</span>                             <a href=\"file:///home/morten/.conda/envs/packing-report/lib/python3.10/site-packages/soccerdata/whoscored.py\" target=\"_blank\"><span style=\"color: #7f7f7f; text-decoration-color: #7f7f7f\">whoscored.py</span></a><span style=\"color: #7f7f7f; text-decoration-color: #7f7f7f\">:</span><a href=\"file:///home/morten/.conda/envs/packing-report/lib/python3.10/site-packages/soccerdata/whoscored.py#584\" target=\"_blank\"><span style=\"color: #7f7f7f; text-decoration-color: #7f7f7f\">584</span></a>\n",
       "</pre>\n"
      ],
      "text/plain": [
       "\u001b[2;36m                   \u001b[0m\u001b[2;36m \u001b[0m\u001b[34mINFO    \u001b[0m \u001b[1m[\u001b[0m\u001b[1;36m155\u001b[0m/\u001b[1;36m380\u001b[0m\u001b[1m]\u001b[0m Retrieving game with \u001b[33mid\u001b[0m=\u001b[1;36m1549788\u001b[0m                             \u001b]8;id=5858;file:///home/morten/.conda/envs/packing-report/lib/python3.10/site-packages/soccerdata/whoscored.py\u001b\\\u001b[2mwhoscored.py\u001b[0m\u001b]8;;\u001b\\\u001b[2m:\u001b[0m\u001b]8;id=30403;file:///home/morten/.conda/envs/packing-report/lib/python3.10/site-packages/soccerdata/whoscored.py#584\u001b\\\u001b[2m584\u001b[0m\u001b]8;;\u001b\\\n"
      ]
     },
     "metadata": {},
     "output_type": "display_data"
    },
    {
     "data": {
      "text/html": [
       "<pre style=\"white-space:pre;overflow-x:auto;line-height:normal;font-family:Menlo,'DejaVu Sans Mono',consolas,'Courier New',monospace\"><span style=\"color: #7fbfbf; text-decoration-color: #7fbfbf\">                    </span><span style=\"color: #000080; text-decoration-color: #000080\">INFO    </span> <span style=\"font-weight: bold\">[</span><span style=\"color: #008080; text-decoration-color: #008080; font-weight: bold\">156</span>/<span style=\"color: #008080; text-decoration-color: #008080; font-weight: bold\">380</span><span style=\"font-weight: bold\">]</span> Retrieving game with <span style=\"color: #808000; text-decoration-color: #808000\">id</span>=<span style=\"color: #008080; text-decoration-color: #008080; font-weight: bold\">1549694</span>                             <a href=\"file:///home/morten/.conda/envs/packing-report/lib/python3.10/site-packages/soccerdata/whoscored.py\" target=\"_blank\"><span style=\"color: #7f7f7f; text-decoration-color: #7f7f7f\">whoscored.py</span></a><span style=\"color: #7f7f7f; text-decoration-color: #7f7f7f\">:</span><a href=\"file:///home/morten/.conda/envs/packing-report/lib/python3.10/site-packages/soccerdata/whoscored.py#584\" target=\"_blank\"><span style=\"color: #7f7f7f; text-decoration-color: #7f7f7f\">584</span></a>\n",
       "</pre>\n"
      ],
      "text/plain": [
       "\u001b[2;36m                   \u001b[0m\u001b[2;36m \u001b[0m\u001b[34mINFO    \u001b[0m \u001b[1m[\u001b[0m\u001b[1;36m156\u001b[0m/\u001b[1;36m380\u001b[0m\u001b[1m]\u001b[0m Retrieving game with \u001b[33mid\u001b[0m=\u001b[1;36m1549694\u001b[0m                             \u001b]8;id=789728;file:///home/morten/.conda/envs/packing-report/lib/python3.10/site-packages/soccerdata/whoscored.py\u001b\\\u001b[2mwhoscored.py\u001b[0m\u001b]8;;\u001b\\\u001b[2m:\u001b[0m\u001b]8;id=48964;file:///home/morten/.conda/envs/packing-report/lib/python3.10/site-packages/soccerdata/whoscored.py#584\u001b\\\u001b[2m584\u001b[0m\u001b]8;;\u001b\\\n"
      ]
     },
     "metadata": {},
     "output_type": "display_data"
    },
    {
     "data": {
      "text/html": [
       "<pre style=\"white-space:pre;overflow-x:auto;line-height:normal;font-family:Menlo,'DejaVu Sans Mono',consolas,'Courier New',monospace\"><span style=\"color: #7fbfbf; text-decoration-color: #7fbfbf\">                    </span><span style=\"color: #000080; text-decoration-color: #000080\">INFO    </span> <span style=\"font-weight: bold\">[</span><span style=\"color: #008080; text-decoration-color: #008080; font-weight: bold\">157</span>/<span style=\"color: #008080; text-decoration-color: #008080; font-weight: bold\">380</span><span style=\"font-weight: bold\">]</span> Retrieving game with <span style=\"color: #808000; text-decoration-color: #808000\">id</span>=<span style=\"color: #008080; text-decoration-color: #008080; font-weight: bold\">1549800</span>                             <a href=\"file:///home/morten/.conda/envs/packing-report/lib/python3.10/site-packages/soccerdata/whoscored.py\" target=\"_blank\"><span style=\"color: #7f7f7f; text-decoration-color: #7f7f7f\">whoscored.py</span></a><span style=\"color: #7f7f7f; text-decoration-color: #7f7f7f\">:</span><a href=\"file:///home/morten/.conda/envs/packing-report/lib/python3.10/site-packages/soccerdata/whoscored.py#584\" target=\"_blank\"><span style=\"color: #7f7f7f; text-decoration-color: #7f7f7f\">584</span></a>\n",
       "</pre>\n"
      ],
      "text/plain": [
       "\u001b[2;36m                   \u001b[0m\u001b[2;36m \u001b[0m\u001b[34mINFO    \u001b[0m \u001b[1m[\u001b[0m\u001b[1;36m157\u001b[0m/\u001b[1;36m380\u001b[0m\u001b[1m]\u001b[0m Retrieving game with \u001b[33mid\u001b[0m=\u001b[1;36m1549800\u001b[0m                             \u001b]8;id=916981;file:///home/morten/.conda/envs/packing-report/lib/python3.10/site-packages/soccerdata/whoscored.py\u001b\\\u001b[2mwhoscored.py\u001b[0m\u001b]8;;\u001b\\\u001b[2m:\u001b[0m\u001b]8;id=354196;file:///home/morten/.conda/envs/packing-report/lib/python3.10/site-packages/soccerdata/whoscored.py#584\u001b\\\u001b[2m584\u001b[0m\u001b]8;;\u001b\\\n"
      ]
     },
     "metadata": {},
     "output_type": "display_data"
    },
    {
     "data": {
      "text/html": [
       "<pre style=\"white-space:pre;overflow-x:auto;line-height:normal;font-family:Menlo,'DejaVu Sans Mono',consolas,'Courier New',monospace\"><span style=\"color: #7fbfbf; text-decoration-color: #7fbfbf\">                    </span><span style=\"color: #000080; text-decoration-color: #000080\">INFO    </span> <span style=\"font-weight: bold\">[</span><span style=\"color: #008080; text-decoration-color: #008080; font-weight: bold\">158</span>/<span style=\"color: #008080; text-decoration-color: #008080; font-weight: bold\">380</span><span style=\"font-weight: bold\">]</span> Retrieving game with <span style=\"color: #808000; text-decoration-color: #808000\">id</span>=<span style=\"color: #008080; text-decoration-color: #008080; font-weight: bold\">1549580</span>                             <a href=\"file:///home/morten/.conda/envs/packing-report/lib/python3.10/site-packages/soccerdata/whoscored.py\" target=\"_blank\"><span style=\"color: #7f7f7f; text-decoration-color: #7f7f7f\">whoscored.py</span></a><span style=\"color: #7f7f7f; text-decoration-color: #7f7f7f\">:</span><a href=\"file:///home/morten/.conda/envs/packing-report/lib/python3.10/site-packages/soccerdata/whoscored.py#584\" target=\"_blank\"><span style=\"color: #7f7f7f; text-decoration-color: #7f7f7f\">584</span></a>\n",
       "</pre>\n"
      ],
      "text/plain": [
       "\u001b[2;36m                   \u001b[0m\u001b[2;36m \u001b[0m\u001b[34mINFO    \u001b[0m \u001b[1m[\u001b[0m\u001b[1;36m158\u001b[0m/\u001b[1;36m380\u001b[0m\u001b[1m]\u001b[0m Retrieving game with \u001b[33mid\u001b[0m=\u001b[1;36m1549580\u001b[0m                             \u001b]8;id=144805;file:///home/morten/.conda/envs/packing-report/lib/python3.10/site-packages/soccerdata/whoscored.py\u001b\\\u001b[2mwhoscored.py\u001b[0m\u001b]8;;\u001b\\\u001b[2m:\u001b[0m\u001b]8;id=775874;file:///home/morten/.conda/envs/packing-report/lib/python3.10/site-packages/soccerdata/whoscored.py#584\u001b\\\u001b[2m584\u001b[0m\u001b]8;;\u001b\\\n"
      ]
     },
     "metadata": {},
     "output_type": "display_data"
    },
    {
     "data": {
      "text/html": [
       "<pre style=\"white-space:pre;overflow-x:auto;line-height:normal;font-family:Menlo,'DejaVu Sans Mono',consolas,'Courier New',monospace\"><span style=\"color: #7fbfbf; text-decoration-color: #7fbfbf\">                    </span><span style=\"color: #000080; text-decoration-color: #000080\">INFO    </span> <span style=\"font-weight: bold\">[</span><span style=\"color: #008080; text-decoration-color: #008080; font-weight: bold\">159</span>/<span style=\"color: #008080; text-decoration-color: #008080; font-weight: bold\">380</span><span style=\"font-weight: bold\">]</span> Retrieving game with <span style=\"color: #808000; text-decoration-color: #808000\">id</span>=<span style=\"color: #008080; text-decoration-color: #008080; font-weight: bold\">1549752</span>                             <a href=\"file:///home/morten/.conda/envs/packing-report/lib/python3.10/site-packages/soccerdata/whoscored.py\" target=\"_blank\"><span style=\"color: #7f7f7f; text-decoration-color: #7f7f7f\">whoscored.py</span></a><span style=\"color: #7f7f7f; text-decoration-color: #7f7f7f\">:</span><a href=\"file:///home/morten/.conda/envs/packing-report/lib/python3.10/site-packages/soccerdata/whoscored.py#584\" target=\"_blank\"><span style=\"color: #7f7f7f; text-decoration-color: #7f7f7f\">584</span></a>\n",
       "</pre>\n"
      ],
      "text/plain": [
       "\u001b[2;36m                   \u001b[0m\u001b[2;36m \u001b[0m\u001b[34mINFO    \u001b[0m \u001b[1m[\u001b[0m\u001b[1;36m159\u001b[0m/\u001b[1;36m380\u001b[0m\u001b[1m]\u001b[0m Retrieving game with \u001b[33mid\u001b[0m=\u001b[1;36m1549752\u001b[0m                             \u001b]8;id=950902;file:///home/morten/.conda/envs/packing-report/lib/python3.10/site-packages/soccerdata/whoscored.py\u001b\\\u001b[2mwhoscored.py\u001b[0m\u001b]8;;\u001b\\\u001b[2m:\u001b[0m\u001b]8;id=907;file:///home/morten/.conda/envs/packing-report/lib/python3.10/site-packages/soccerdata/whoscored.py#584\u001b\\\u001b[2m584\u001b[0m\u001b]8;;\u001b\\\n"
      ]
     },
     "metadata": {},
     "output_type": "display_data"
    },
    {
     "data": {
      "text/html": [
       "<pre style=\"white-space:pre;overflow-x:auto;line-height:normal;font-family:Menlo,'DejaVu Sans Mono',consolas,'Courier New',monospace\"><span style=\"color: #7fbfbf; text-decoration-color: #7fbfbf\">                    </span><span style=\"color: #000080; text-decoration-color: #000080\">INFO    </span> <span style=\"font-weight: bold\">[</span><span style=\"color: #008080; text-decoration-color: #008080; font-weight: bold\">160</span>/<span style=\"color: #008080; text-decoration-color: #008080; font-weight: bold\">380</span><span style=\"font-weight: bold\">]</span> Retrieving game with <span style=\"color: #808000; text-decoration-color: #808000\">id</span>=<span style=\"color: #008080; text-decoration-color: #008080; font-weight: bold\">1549778</span>                             <a href=\"file:///home/morten/.conda/envs/packing-report/lib/python3.10/site-packages/soccerdata/whoscored.py\" target=\"_blank\"><span style=\"color: #7f7f7f; text-decoration-color: #7f7f7f\">whoscored.py</span></a><span style=\"color: #7f7f7f; text-decoration-color: #7f7f7f\">:</span><a href=\"file:///home/morten/.conda/envs/packing-report/lib/python3.10/site-packages/soccerdata/whoscored.py#584\" target=\"_blank\"><span style=\"color: #7f7f7f; text-decoration-color: #7f7f7f\">584</span></a>\n",
       "</pre>\n"
      ],
      "text/plain": [
       "\u001b[2;36m                   \u001b[0m\u001b[2;36m \u001b[0m\u001b[34mINFO    \u001b[0m \u001b[1m[\u001b[0m\u001b[1;36m160\u001b[0m/\u001b[1;36m380\u001b[0m\u001b[1m]\u001b[0m Retrieving game with \u001b[33mid\u001b[0m=\u001b[1;36m1549778\u001b[0m                             \u001b]8;id=380031;file:///home/morten/.conda/envs/packing-report/lib/python3.10/site-packages/soccerdata/whoscored.py\u001b\\\u001b[2mwhoscored.py\u001b[0m\u001b]8;;\u001b\\\u001b[2m:\u001b[0m\u001b]8;id=48835;file:///home/morten/.conda/envs/packing-report/lib/python3.10/site-packages/soccerdata/whoscored.py#584\u001b\\\u001b[2m584\u001b[0m\u001b]8;;\u001b\\\n"
      ]
     },
     "metadata": {},
     "output_type": "display_data"
    },
    {
     "data": {
      "text/html": [
       "<pre style=\"white-space:pre;overflow-x:auto;line-height:normal;font-family:Menlo,'DejaVu Sans Mono',consolas,'Courier New',monospace\"><span style=\"color: #7fbfbf; text-decoration-color: #7fbfbf\">                    </span><span style=\"color: #000080; text-decoration-color: #000080\">INFO    </span> <span style=\"font-weight: bold\">[</span><span style=\"color: #008080; text-decoration-color: #008080; font-weight: bold\">161</span>/<span style=\"color: #008080; text-decoration-color: #008080; font-weight: bold\">380</span><span style=\"font-weight: bold\">]</span> Retrieving game with <span style=\"color: #808000; text-decoration-color: #808000\">id</span>=<span style=\"color: #008080; text-decoration-color: #008080; font-weight: bold\">1549638</span>                             <a href=\"file:///home/morten/.conda/envs/packing-report/lib/python3.10/site-packages/soccerdata/whoscored.py\" target=\"_blank\"><span style=\"color: #7f7f7f; text-decoration-color: #7f7f7f\">whoscored.py</span></a><span style=\"color: #7f7f7f; text-decoration-color: #7f7f7f\">:</span><a href=\"file:///home/morten/.conda/envs/packing-report/lib/python3.10/site-packages/soccerdata/whoscored.py#584\" target=\"_blank\"><span style=\"color: #7f7f7f; text-decoration-color: #7f7f7f\">584</span></a>\n",
       "</pre>\n"
      ],
      "text/plain": [
       "\u001b[2;36m                   \u001b[0m\u001b[2;36m \u001b[0m\u001b[34mINFO    \u001b[0m \u001b[1m[\u001b[0m\u001b[1;36m161\u001b[0m/\u001b[1;36m380\u001b[0m\u001b[1m]\u001b[0m Retrieving game with \u001b[33mid\u001b[0m=\u001b[1;36m1549638\u001b[0m                             \u001b]8;id=224735;file:///home/morten/.conda/envs/packing-report/lib/python3.10/site-packages/soccerdata/whoscored.py\u001b\\\u001b[2mwhoscored.py\u001b[0m\u001b]8;;\u001b\\\u001b[2m:\u001b[0m\u001b]8;id=779035;file:///home/morten/.conda/envs/packing-report/lib/python3.10/site-packages/soccerdata/whoscored.py#584\u001b\\\u001b[2m584\u001b[0m\u001b]8;;\u001b\\\n"
      ]
     },
     "metadata": {},
     "output_type": "display_data"
    },
    {
     "data": {
      "text/html": [
       "<pre style=\"white-space:pre;overflow-x:auto;line-height:normal;font-family:Menlo,'DejaVu Sans Mono',consolas,'Courier New',monospace\"><span style=\"color: #7fbfbf; text-decoration-color: #7fbfbf\">                    </span><span style=\"color: #000080; text-decoration-color: #000080\">INFO    </span> <span style=\"font-weight: bold\">[</span><span style=\"color: #008080; text-decoration-color: #008080; font-weight: bold\">162</span>/<span style=\"color: #008080; text-decoration-color: #008080; font-weight: bold\">380</span><span style=\"font-weight: bold\">]</span> Retrieving game with <span style=\"color: #808000; text-decoration-color: #808000\">id</span>=<span style=\"color: #008080; text-decoration-color: #008080; font-weight: bold\">1549719</span>                             <a href=\"file:///home/morten/.conda/envs/packing-report/lib/python3.10/site-packages/soccerdata/whoscored.py\" target=\"_blank\"><span style=\"color: #7f7f7f; text-decoration-color: #7f7f7f\">whoscored.py</span></a><span style=\"color: #7f7f7f; text-decoration-color: #7f7f7f\">:</span><a href=\"file:///home/morten/.conda/envs/packing-report/lib/python3.10/site-packages/soccerdata/whoscored.py#584\" target=\"_blank\"><span style=\"color: #7f7f7f; text-decoration-color: #7f7f7f\">584</span></a>\n",
       "</pre>\n"
      ],
      "text/plain": [
       "\u001b[2;36m                   \u001b[0m\u001b[2;36m \u001b[0m\u001b[34mINFO    \u001b[0m \u001b[1m[\u001b[0m\u001b[1;36m162\u001b[0m/\u001b[1;36m380\u001b[0m\u001b[1m]\u001b[0m Retrieving game with \u001b[33mid\u001b[0m=\u001b[1;36m1549719\u001b[0m                             \u001b]8;id=312189;file:///home/morten/.conda/envs/packing-report/lib/python3.10/site-packages/soccerdata/whoscored.py\u001b\\\u001b[2mwhoscored.py\u001b[0m\u001b]8;;\u001b\\\u001b[2m:\u001b[0m\u001b]8;id=194877;file:///home/morten/.conda/envs/packing-report/lib/python3.10/site-packages/soccerdata/whoscored.py#584\u001b\\\u001b[2m584\u001b[0m\u001b]8;;\u001b\\\n"
      ]
     },
     "metadata": {},
     "output_type": "display_data"
    },
    {
     "data": {
      "text/html": [
       "<pre style=\"white-space:pre;overflow-x:auto;line-height:normal;font-family:Menlo,'DejaVu Sans Mono',consolas,'Courier New',monospace\"><span style=\"color: #7fbfbf; text-decoration-color: #7fbfbf\">                    </span><span style=\"color: #000080; text-decoration-color: #000080\">INFO    </span> <span style=\"font-weight: bold\">[</span><span style=\"color: #008080; text-decoration-color: #008080; font-weight: bold\">163</span>/<span style=\"color: #008080; text-decoration-color: #008080; font-weight: bold\">380</span><span style=\"font-weight: bold\">]</span> Retrieving game with <span style=\"color: #808000; text-decoration-color: #808000\">id</span>=<span style=\"color: #008080; text-decoration-color: #008080; font-weight: bold\">1549727</span>                             <a href=\"file:///home/morten/.conda/envs/packing-report/lib/python3.10/site-packages/soccerdata/whoscored.py\" target=\"_blank\"><span style=\"color: #7f7f7f; text-decoration-color: #7f7f7f\">whoscored.py</span></a><span style=\"color: #7f7f7f; text-decoration-color: #7f7f7f\">:</span><a href=\"file:///home/morten/.conda/envs/packing-report/lib/python3.10/site-packages/soccerdata/whoscored.py#584\" target=\"_blank\"><span style=\"color: #7f7f7f; text-decoration-color: #7f7f7f\">584</span></a>\n",
       "</pre>\n"
      ],
      "text/plain": [
       "\u001b[2;36m                   \u001b[0m\u001b[2;36m \u001b[0m\u001b[34mINFO    \u001b[0m \u001b[1m[\u001b[0m\u001b[1;36m163\u001b[0m/\u001b[1;36m380\u001b[0m\u001b[1m]\u001b[0m Retrieving game with \u001b[33mid\u001b[0m=\u001b[1;36m1549727\u001b[0m                             \u001b]8;id=296993;file:///home/morten/.conda/envs/packing-report/lib/python3.10/site-packages/soccerdata/whoscored.py\u001b\\\u001b[2mwhoscored.py\u001b[0m\u001b]8;;\u001b\\\u001b[2m:\u001b[0m\u001b]8;id=706727;file:///home/morten/.conda/envs/packing-report/lib/python3.10/site-packages/soccerdata/whoscored.py#584\u001b\\\u001b[2m584\u001b[0m\u001b]8;;\u001b\\\n"
      ]
     },
     "metadata": {},
     "output_type": "display_data"
    },
    {
     "data": {
      "text/html": [
       "<pre style=\"white-space:pre;overflow-x:auto;line-height:normal;font-family:Menlo,'DejaVu Sans Mono',consolas,'Courier New',monospace\"><span style=\"color: #7fbfbf; text-decoration-color: #7fbfbf\">                    </span><span style=\"color: #000080; text-decoration-color: #000080\">INFO    </span> <span style=\"font-weight: bold\">[</span><span style=\"color: #008080; text-decoration-color: #008080; font-weight: bold\">164</span>/<span style=\"color: #008080; text-decoration-color: #008080; font-weight: bold\">380</span><span style=\"font-weight: bold\">]</span> Retrieving game with <span style=\"color: #808000; text-decoration-color: #808000\">id</span>=<span style=\"color: #008080; text-decoration-color: #008080; font-weight: bold\">1549895</span>                             <a href=\"file:///home/morten/.conda/envs/packing-report/lib/python3.10/site-packages/soccerdata/whoscored.py\" target=\"_blank\"><span style=\"color: #7f7f7f; text-decoration-color: #7f7f7f\">whoscored.py</span></a><span style=\"color: #7f7f7f; text-decoration-color: #7f7f7f\">:</span><a href=\"file:///home/morten/.conda/envs/packing-report/lib/python3.10/site-packages/soccerdata/whoscored.py#584\" target=\"_blank\"><span style=\"color: #7f7f7f; text-decoration-color: #7f7f7f\">584</span></a>\n",
       "</pre>\n"
      ],
      "text/plain": [
       "\u001b[2;36m                   \u001b[0m\u001b[2;36m \u001b[0m\u001b[34mINFO    \u001b[0m \u001b[1m[\u001b[0m\u001b[1;36m164\u001b[0m/\u001b[1;36m380\u001b[0m\u001b[1m]\u001b[0m Retrieving game with \u001b[33mid\u001b[0m=\u001b[1;36m1549895\u001b[0m                             \u001b]8;id=169321;file:///home/morten/.conda/envs/packing-report/lib/python3.10/site-packages/soccerdata/whoscored.py\u001b\\\u001b[2mwhoscored.py\u001b[0m\u001b]8;;\u001b\\\u001b[2m:\u001b[0m\u001b]8;id=886204;file:///home/morten/.conda/envs/packing-report/lib/python3.10/site-packages/soccerdata/whoscored.py#584\u001b\\\u001b[2m584\u001b[0m\u001b]8;;\u001b\\\n"
      ]
     },
     "metadata": {},
     "output_type": "display_data"
    },
    {
     "data": {
      "text/html": [
       "<pre style=\"white-space:pre;overflow-x:auto;line-height:normal;font-family:Menlo,'DejaVu Sans Mono',consolas,'Courier New',monospace\"><span style=\"color: #7fbfbf; text-decoration-color: #7fbfbf\">                    </span><span style=\"color: #000080; text-decoration-color: #000080\">INFO    </span> <span style=\"font-weight: bold\">[</span><span style=\"color: #008080; text-decoration-color: #008080; font-weight: bold\">165</span>/<span style=\"color: #008080; text-decoration-color: #008080; font-weight: bold\">380</span><span style=\"font-weight: bold\">]</span> Retrieving game with <span style=\"color: #808000; text-decoration-color: #808000\">id</span>=<span style=\"color: #008080; text-decoration-color: #008080; font-weight: bold\">1549754</span>                             <a href=\"file:///home/morten/.conda/envs/packing-report/lib/python3.10/site-packages/soccerdata/whoscored.py\" target=\"_blank\"><span style=\"color: #7f7f7f; text-decoration-color: #7f7f7f\">whoscored.py</span></a><span style=\"color: #7f7f7f; text-decoration-color: #7f7f7f\">:</span><a href=\"file:///home/morten/.conda/envs/packing-report/lib/python3.10/site-packages/soccerdata/whoscored.py#584\" target=\"_blank\"><span style=\"color: #7f7f7f; text-decoration-color: #7f7f7f\">584</span></a>\n",
       "</pre>\n"
      ],
      "text/plain": [
       "\u001b[2;36m                   \u001b[0m\u001b[2;36m \u001b[0m\u001b[34mINFO    \u001b[0m \u001b[1m[\u001b[0m\u001b[1;36m165\u001b[0m/\u001b[1;36m380\u001b[0m\u001b[1m]\u001b[0m Retrieving game with \u001b[33mid\u001b[0m=\u001b[1;36m1549754\u001b[0m                             \u001b]8;id=823413;file:///home/morten/.conda/envs/packing-report/lib/python3.10/site-packages/soccerdata/whoscored.py\u001b\\\u001b[2mwhoscored.py\u001b[0m\u001b]8;;\u001b\\\u001b[2m:\u001b[0m\u001b]8;id=643348;file:///home/morten/.conda/envs/packing-report/lib/python3.10/site-packages/soccerdata/whoscored.py#584\u001b\\\u001b[2m584\u001b[0m\u001b]8;;\u001b\\\n"
      ]
     },
     "metadata": {},
     "output_type": "display_data"
    },
    {
     "data": {
      "text/html": [
       "<pre style=\"white-space:pre;overflow-x:auto;line-height:normal;font-family:Menlo,'DejaVu Sans Mono',consolas,'Courier New',monospace\"><span style=\"color: #7fbfbf; text-decoration-color: #7fbfbf\">                    </span><span style=\"color: #000080; text-decoration-color: #000080\">INFO    </span> <span style=\"font-weight: bold\">[</span><span style=\"color: #008080; text-decoration-color: #008080; font-weight: bold\">166</span>/<span style=\"color: #008080; text-decoration-color: #008080; font-weight: bold\">380</span><span style=\"font-weight: bold\">]</span> Retrieving game with <span style=\"color: #808000; text-decoration-color: #808000\">id</span>=<span style=\"color: #008080; text-decoration-color: #008080; font-weight: bold\">1549887</span>                             <a href=\"file:///home/morten/.conda/envs/packing-report/lib/python3.10/site-packages/soccerdata/whoscored.py\" target=\"_blank\"><span style=\"color: #7f7f7f; text-decoration-color: #7f7f7f\">whoscored.py</span></a><span style=\"color: #7f7f7f; text-decoration-color: #7f7f7f\">:</span><a href=\"file:///home/morten/.conda/envs/packing-report/lib/python3.10/site-packages/soccerdata/whoscored.py#584\" target=\"_blank\"><span style=\"color: #7f7f7f; text-decoration-color: #7f7f7f\">584</span></a>\n",
       "</pre>\n"
      ],
      "text/plain": [
       "\u001b[2;36m                   \u001b[0m\u001b[2;36m \u001b[0m\u001b[34mINFO    \u001b[0m \u001b[1m[\u001b[0m\u001b[1;36m166\u001b[0m/\u001b[1;36m380\u001b[0m\u001b[1m]\u001b[0m Retrieving game with \u001b[33mid\u001b[0m=\u001b[1;36m1549887\u001b[0m                             \u001b]8;id=411577;file:///home/morten/.conda/envs/packing-report/lib/python3.10/site-packages/soccerdata/whoscored.py\u001b\\\u001b[2mwhoscored.py\u001b[0m\u001b]8;;\u001b\\\u001b[2m:\u001b[0m\u001b]8;id=151989;file:///home/morten/.conda/envs/packing-report/lib/python3.10/site-packages/soccerdata/whoscored.py#584\u001b\\\u001b[2m584\u001b[0m\u001b]8;;\u001b\\\n"
      ]
     },
     "metadata": {},
     "output_type": "display_data"
    },
    {
     "data": {
      "text/html": [
       "<pre style=\"white-space:pre;overflow-x:auto;line-height:normal;font-family:Menlo,'DejaVu Sans Mono',consolas,'Courier New',monospace\"><span style=\"color: #7fbfbf; text-decoration-color: #7fbfbf\">                    </span><span style=\"color: #000080; text-decoration-color: #000080\">INFO    </span> <span style=\"font-weight: bold\">[</span><span style=\"color: #008080; text-decoration-color: #008080; font-weight: bold\">167</span>/<span style=\"color: #008080; text-decoration-color: #008080; font-weight: bold\">380</span><span style=\"font-weight: bold\">]</span> Retrieving game with <span style=\"color: #808000; text-decoration-color: #808000\">id</span>=<span style=\"color: #008080; text-decoration-color: #008080; font-weight: bold\">1549816</span>                             <a href=\"file:///home/morten/.conda/envs/packing-report/lib/python3.10/site-packages/soccerdata/whoscored.py\" target=\"_blank\"><span style=\"color: #7f7f7f; text-decoration-color: #7f7f7f\">whoscored.py</span></a><span style=\"color: #7f7f7f; text-decoration-color: #7f7f7f\">:</span><a href=\"file:///home/morten/.conda/envs/packing-report/lib/python3.10/site-packages/soccerdata/whoscored.py#584\" target=\"_blank\"><span style=\"color: #7f7f7f; text-decoration-color: #7f7f7f\">584</span></a>\n",
       "</pre>\n"
      ],
      "text/plain": [
       "\u001b[2;36m                   \u001b[0m\u001b[2;36m \u001b[0m\u001b[34mINFO    \u001b[0m \u001b[1m[\u001b[0m\u001b[1;36m167\u001b[0m/\u001b[1;36m380\u001b[0m\u001b[1m]\u001b[0m Retrieving game with \u001b[33mid\u001b[0m=\u001b[1;36m1549816\u001b[0m                             \u001b]8;id=619367;file:///home/morten/.conda/envs/packing-report/lib/python3.10/site-packages/soccerdata/whoscored.py\u001b\\\u001b[2mwhoscored.py\u001b[0m\u001b]8;;\u001b\\\u001b[2m:\u001b[0m\u001b]8;id=591178;file:///home/morten/.conda/envs/packing-report/lib/python3.10/site-packages/soccerdata/whoscored.py#584\u001b\\\u001b[2m584\u001b[0m\u001b]8;;\u001b\\\n"
      ]
     },
     "metadata": {},
     "output_type": "display_data"
    },
    {
     "data": {
      "text/html": [
       "<pre style=\"white-space:pre;overflow-x:auto;line-height:normal;font-family:Menlo,'DejaVu Sans Mono',consolas,'Courier New',monospace\"><span style=\"color: #7fbfbf; text-decoration-color: #7fbfbf\">                    </span><span style=\"color: #000080; text-decoration-color: #000080\">INFO    </span> <span style=\"font-weight: bold\">[</span><span style=\"color: #008080; text-decoration-color: #008080; font-weight: bold\">168</span>/<span style=\"color: #008080; text-decoration-color: #008080; font-weight: bold\">380</span><span style=\"font-weight: bold\">]</span> Retrieving game with <span style=\"color: #808000; text-decoration-color: #808000\">id</span>=<span style=\"color: #008080; text-decoration-color: #008080; font-weight: bold\">1549767</span>                             <a href=\"file:///home/morten/.conda/envs/packing-report/lib/python3.10/site-packages/soccerdata/whoscored.py\" target=\"_blank\"><span style=\"color: #7f7f7f; text-decoration-color: #7f7f7f\">whoscored.py</span></a><span style=\"color: #7f7f7f; text-decoration-color: #7f7f7f\">:</span><a href=\"file:///home/morten/.conda/envs/packing-report/lib/python3.10/site-packages/soccerdata/whoscored.py#584\" target=\"_blank\"><span style=\"color: #7f7f7f; text-decoration-color: #7f7f7f\">584</span></a>\n",
       "</pre>\n"
      ],
      "text/plain": [
       "\u001b[2;36m                   \u001b[0m\u001b[2;36m \u001b[0m\u001b[34mINFO    \u001b[0m \u001b[1m[\u001b[0m\u001b[1;36m168\u001b[0m/\u001b[1;36m380\u001b[0m\u001b[1m]\u001b[0m Retrieving game with \u001b[33mid\u001b[0m=\u001b[1;36m1549767\u001b[0m                             \u001b]8;id=829178;file:///home/morten/.conda/envs/packing-report/lib/python3.10/site-packages/soccerdata/whoscored.py\u001b\\\u001b[2mwhoscored.py\u001b[0m\u001b]8;;\u001b\\\u001b[2m:\u001b[0m\u001b]8;id=942582;file:///home/morten/.conda/envs/packing-report/lib/python3.10/site-packages/soccerdata/whoscored.py#584\u001b\\\u001b[2m584\u001b[0m\u001b]8;;\u001b\\\n"
      ]
     },
     "metadata": {},
     "output_type": "display_data"
    },
    {
     "data": {
      "text/html": [
       "<pre style=\"white-space:pre;overflow-x:auto;line-height:normal;font-family:Menlo,'DejaVu Sans Mono',consolas,'Courier New',monospace\"><span style=\"color: #7fbfbf; text-decoration-color: #7fbfbf\">                    </span><span style=\"color: #000080; text-decoration-color: #000080\">INFO    </span> <span style=\"font-weight: bold\">[</span><span style=\"color: #008080; text-decoration-color: #008080; font-weight: bold\">169</span>/<span style=\"color: #008080; text-decoration-color: #008080; font-weight: bold\">380</span><span style=\"font-weight: bold\">]</span> Retrieving game with <span style=\"color: #808000; text-decoration-color: #808000\">id</span>=<span style=\"color: #008080; text-decoration-color: #008080; font-weight: bold\">1549809</span>                             <a href=\"file:///home/morten/.conda/envs/packing-report/lib/python3.10/site-packages/soccerdata/whoscored.py\" target=\"_blank\"><span style=\"color: #7f7f7f; text-decoration-color: #7f7f7f\">whoscored.py</span></a><span style=\"color: #7f7f7f; text-decoration-color: #7f7f7f\">:</span><a href=\"file:///home/morten/.conda/envs/packing-report/lib/python3.10/site-packages/soccerdata/whoscored.py#584\" target=\"_blank\"><span style=\"color: #7f7f7f; text-decoration-color: #7f7f7f\">584</span></a>\n",
       "</pre>\n"
      ],
      "text/plain": [
       "\u001b[2;36m                   \u001b[0m\u001b[2;36m \u001b[0m\u001b[34mINFO    \u001b[0m \u001b[1m[\u001b[0m\u001b[1;36m169\u001b[0m/\u001b[1;36m380\u001b[0m\u001b[1m]\u001b[0m Retrieving game with \u001b[33mid\u001b[0m=\u001b[1;36m1549809\u001b[0m                             \u001b]8;id=740023;file:///home/morten/.conda/envs/packing-report/lib/python3.10/site-packages/soccerdata/whoscored.py\u001b\\\u001b[2mwhoscored.py\u001b[0m\u001b]8;;\u001b\\\u001b[2m:\u001b[0m\u001b]8;id=658495;file:///home/morten/.conda/envs/packing-report/lib/python3.10/site-packages/soccerdata/whoscored.py#584\u001b\\\u001b[2m584\u001b[0m\u001b]8;;\u001b\\\n"
      ]
     },
     "metadata": {},
     "output_type": "display_data"
    },
    {
     "data": {
      "text/html": [
       "<pre style=\"white-space:pre;overflow-x:auto;line-height:normal;font-family:Menlo,'DejaVu Sans Mono',consolas,'Courier New',monospace\"><span style=\"color: #7fbfbf; text-decoration-color: #7fbfbf\">                    </span><span style=\"color: #000080; text-decoration-color: #000080\">INFO    </span> <span style=\"font-weight: bold\">[</span><span style=\"color: #008080; text-decoration-color: #008080; font-weight: bold\">170</span>/<span style=\"color: #008080; text-decoration-color: #008080; font-weight: bold\">380</span><span style=\"font-weight: bold\">]</span> Retrieving game with <span style=\"color: #808000; text-decoration-color: #808000\">id</span>=<span style=\"color: #008080; text-decoration-color: #008080; font-weight: bold\">1549779</span>                             <a href=\"file:///home/morten/.conda/envs/packing-report/lib/python3.10/site-packages/soccerdata/whoscored.py\" target=\"_blank\"><span style=\"color: #7f7f7f; text-decoration-color: #7f7f7f\">whoscored.py</span></a><span style=\"color: #7f7f7f; text-decoration-color: #7f7f7f\">:</span><a href=\"file:///home/morten/.conda/envs/packing-report/lib/python3.10/site-packages/soccerdata/whoscored.py#584\" target=\"_blank\"><span style=\"color: #7f7f7f; text-decoration-color: #7f7f7f\">584</span></a>\n",
       "</pre>\n"
      ],
      "text/plain": [
       "\u001b[2;36m                   \u001b[0m\u001b[2;36m \u001b[0m\u001b[34mINFO    \u001b[0m \u001b[1m[\u001b[0m\u001b[1;36m170\u001b[0m/\u001b[1;36m380\u001b[0m\u001b[1m]\u001b[0m Retrieving game with \u001b[33mid\u001b[0m=\u001b[1;36m1549779\u001b[0m                             \u001b]8;id=292928;file:///home/morten/.conda/envs/packing-report/lib/python3.10/site-packages/soccerdata/whoscored.py\u001b\\\u001b[2mwhoscored.py\u001b[0m\u001b]8;;\u001b\\\u001b[2m:\u001b[0m\u001b]8;id=540271;file:///home/morten/.conda/envs/packing-report/lib/python3.10/site-packages/soccerdata/whoscored.py#584\u001b\\\u001b[2m584\u001b[0m\u001b]8;;\u001b\\\n"
      ]
     },
     "metadata": {},
     "output_type": "display_data"
    },
    {
     "data": {
      "text/html": [
       "<pre style=\"white-space:pre;overflow-x:auto;line-height:normal;font-family:Menlo,'DejaVu Sans Mono',consolas,'Courier New',monospace\"><span style=\"color: #7fbfbf; text-decoration-color: #7fbfbf\">                    </span><span style=\"color: #000080; text-decoration-color: #000080\">INFO    </span> <span style=\"font-weight: bold\">[</span><span style=\"color: #008080; text-decoration-color: #008080; font-weight: bold\">171</span>/<span style=\"color: #008080; text-decoration-color: #008080; font-weight: bold\">380</span><span style=\"font-weight: bold\">]</span> Retrieving game with <span style=\"color: #808000; text-decoration-color: #808000\">id</span>=<span style=\"color: #008080; text-decoration-color: #008080; font-weight: bold\">1549723</span>                             <a href=\"file:///home/morten/.conda/envs/packing-report/lib/python3.10/site-packages/soccerdata/whoscored.py\" target=\"_blank\"><span style=\"color: #7f7f7f; text-decoration-color: #7f7f7f\">whoscored.py</span></a><span style=\"color: #7f7f7f; text-decoration-color: #7f7f7f\">:</span><a href=\"file:///home/morten/.conda/envs/packing-report/lib/python3.10/site-packages/soccerdata/whoscored.py#584\" target=\"_blank\"><span style=\"color: #7f7f7f; text-decoration-color: #7f7f7f\">584</span></a>\n",
       "</pre>\n"
      ],
      "text/plain": [
       "\u001b[2;36m                   \u001b[0m\u001b[2;36m \u001b[0m\u001b[34mINFO    \u001b[0m \u001b[1m[\u001b[0m\u001b[1;36m171\u001b[0m/\u001b[1;36m380\u001b[0m\u001b[1m]\u001b[0m Retrieving game with \u001b[33mid\u001b[0m=\u001b[1;36m1549723\u001b[0m                             \u001b]8;id=648491;file:///home/morten/.conda/envs/packing-report/lib/python3.10/site-packages/soccerdata/whoscored.py\u001b\\\u001b[2mwhoscored.py\u001b[0m\u001b]8;;\u001b\\\u001b[2m:\u001b[0m\u001b]8;id=555128;file:///home/morten/.conda/envs/packing-report/lib/python3.10/site-packages/soccerdata/whoscored.py#584\u001b\\\u001b[2m584\u001b[0m\u001b]8;;\u001b\\\n"
      ]
     },
     "metadata": {},
     "output_type": "display_data"
    },
    {
     "data": {
      "text/html": [
       "<pre style=\"white-space:pre;overflow-x:auto;line-height:normal;font-family:Menlo,'DejaVu Sans Mono',consolas,'Courier New',monospace\"><span style=\"color: #7fbfbf; text-decoration-color: #7fbfbf\">[10/02/22 17:52:03] </span><span style=\"color: #000080; text-decoration-color: #000080\">INFO    </span> <span style=\"font-weight: bold\">[</span><span style=\"color: #008080; text-decoration-color: #008080; font-weight: bold\">172</span>/<span style=\"color: #008080; text-decoration-color: #008080; font-weight: bold\">380</span><span style=\"font-weight: bold\">]</span> Retrieving game with <span style=\"color: #808000; text-decoration-color: #808000\">id</span>=<span style=\"color: #008080; text-decoration-color: #008080; font-weight: bold\">1549685</span>                             <a href=\"file:///home/morten/.conda/envs/packing-report/lib/python3.10/site-packages/soccerdata/whoscored.py\" target=\"_blank\"><span style=\"color: #7f7f7f; text-decoration-color: #7f7f7f\">whoscored.py</span></a><span style=\"color: #7f7f7f; text-decoration-color: #7f7f7f\">:</span><a href=\"file:///home/morten/.conda/envs/packing-report/lib/python3.10/site-packages/soccerdata/whoscored.py#584\" target=\"_blank\"><span style=\"color: #7f7f7f; text-decoration-color: #7f7f7f\">584</span></a>\n",
       "</pre>\n"
      ],
      "text/plain": [
       "\u001b[2;36m[10/02/22 17:52:03]\u001b[0m\u001b[2;36m \u001b[0m\u001b[34mINFO    \u001b[0m \u001b[1m[\u001b[0m\u001b[1;36m172\u001b[0m/\u001b[1;36m380\u001b[0m\u001b[1m]\u001b[0m Retrieving game with \u001b[33mid\u001b[0m=\u001b[1;36m1549685\u001b[0m                             \u001b]8;id=754624;file:///home/morten/.conda/envs/packing-report/lib/python3.10/site-packages/soccerdata/whoscored.py\u001b\\\u001b[2mwhoscored.py\u001b[0m\u001b]8;;\u001b\\\u001b[2m:\u001b[0m\u001b]8;id=206965;file:///home/morten/.conda/envs/packing-report/lib/python3.10/site-packages/soccerdata/whoscored.py#584\u001b\\\u001b[2m584\u001b[0m\u001b]8;;\u001b\\\n"
      ]
     },
     "metadata": {},
     "output_type": "display_data"
    },
    {
     "data": {
      "text/html": [
       "<pre style=\"white-space:pre;overflow-x:auto;line-height:normal;font-family:Menlo,'DejaVu Sans Mono',consolas,'Courier New',monospace\"><span style=\"color: #7fbfbf; text-decoration-color: #7fbfbf\">                    </span><span style=\"color: #000080; text-decoration-color: #000080\">INFO    </span> <span style=\"font-weight: bold\">[</span><span style=\"color: #008080; text-decoration-color: #008080; font-weight: bold\">173</span>/<span style=\"color: #008080; text-decoration-color: #008080; font-weight: bold\">380</span><span style=\"font-weight: bold\">]</span> Retrieving game with <span style=\"color: #808000; text-decoration-color: #808000\">id</span>=<span style=\"color: #008080; text-decoration-color: #008080; font-weight: bold\">1549730</span>                             <a href=\"file:///home/morten/.conda/envs/packing-report/lib/python3.10/site-packages/soccerdata/whoscored.py\" target=\"_blank\"><span style=\"color: #7f7f7f; text-decoration-color: #7f7f7f\">whoscored.py</span></a><span style=\"color: #7f7f7f; text-decoration-color: #7f7f7f\">:</span><a href=\"file:///home/morten/.conda/envs/packing-report/lib/python3.10/site-packages/soccerdata/whoscored.py#584\" target=\"_blank\"><span style=\"color: #7f7f7f; text-decoration-color: #7f7f7f\">584</span></a>\n",
       "</pre>\n"
      ],
      "text/plain": [
       "\u001b[2;36m                   \u001b[0m\u001b[2;36m \u001b[0m\u001b[34mINFO    \u001b[0m \u001b[1m[\u001b[0m\u001b[1;36m173\u001b[0m/\u001b[1;36m380\u001b[0m\u001b[1m]\u001b[0m Retrieving game with \u001b[33mid\u001b[0m=\u001b[1;36m1549730\u001b[0m                             \u001b]8;id=392961;file:///home/morten/.conda/envs/packing-report/lib/python3.10/site-packages/soccerdata/whoscored.py\u001b\\\u001b[2mwhoscored.py\u001b[0m\u001b]8;;\u001b\\\u001b[2m:\u001b[0m\u001b]8;id=804213;file:///home/morten/.conda/envs/packing-report/lib/python3.10/site-packages/soccerdata/whoscored.py#584\u001b\\\u001b[2m584\u001b[0m\u001b]8;;\u001b\\\n"
      ]
     },
     "metadata": {},
     "output_type": "display_data"
    },
    {
     "data": {
      "text/html": [
       "<pre style=\"white-space:pre;overflow-x:auto;line-height:normal;font-family:Menlo,'DejaVu Sans Mono',consolas,'Courier New',monospace\"><span style=\"color: #7fbfbf; text-decoration-color: #7fbfbf\">                    </span><span style=\"color: #000080; text-decoration-color: #000080\">INFO    </span> <span style=\"font-weight: bold\">[</span><span style=\"color: #008080; text-decoration-color: #008080; font-weight: bold\">174</span>/<span style=\"color: #008080; text-decoration-color: #008080; font-weight: bold\">380</span><span style=\"font-weight: bold\">]</span> Retrieving game with <span style=\"color: #808000; text-decoration-color: #808000\">id</span>=<span style=\"color: #008080; text-decoration-color: #008080; font-weight: bold\">1549857</span>                             <a href=\"file:///home/morten/.conda/envs/packing-report/lib/python3.10/site-packages/soccerdata/whoscored.py\" target=\"_blank\"><span style=\"color: #7f7f7f; text-decoration-color: #7f7f7f\">whoscored.py</span></a><span style=\"color: #7f7f7f; text-decoration-color: #7f7f7f\">:</span><a href=\"file:///home/morten/.conda/envs/packing-report/lib/python3.10/site-packages/soccerdata/whoscored.py#584\" target=\"_blank\"><span style=\"color: #7f7f7f; text-decoration-color: #7f7f7f\">584</span></a>\n",
       "</pre>\n"
      ],
      "text/plain": [
       "\u001b[2;36m                   \u001b[0m\u001b[2;36m \u001b[0m\u001b[34mINFO    \u001b[0m \u001b[1m[\u001b[0m\u001b[1;36m174\u001b[0m/\u001b[1;36m380\u001b[0m\u001b[1m]\u001b[0m Retrieving game with \u001b[33mid\u001b[0m=\u001b[1;36m1549857\u001b[0m                             \u001b]8;id=591860;file:///home/morten/.conda/envs/packing-report/lib/python3.10/site-packages/soccerdata/whoscored.py\u001b\\\u001b[2mwhoscored.py\u001b[0m\u001b]8;;\u001b\\\u001b[2m:\u001b[0m\u001b]8;id=258192;file:///home/morten/.conda/envs/packing-report/lib/python3.10/site-packages/soccerdata/whoscored.py#584\u001b\\\u001b[2m584\u001b[0m\u001b]8;;\u001b\\\n"
      ]
     },
     "metadata": {},
     "output_type": "display_data"
    },
    {
     "data": {
      "text/html": [
       "<pre style=\"white-space:pre;overflow-x:auto;line-height:normal;font-family:Menlo,'DejaVu Sans Mono',consolas,'Courier New',monospace\"><span style=\"color: #7fbfbf; text-decoration-color: #7fbfbf\">                    </span><span style=\"color: #000080; text-decoration-color: #000080\">INFO    </span> <span style=\"font-weight: bold\">[</span><span style=\"color: #008080; text-decoration-color: #008080; font-weight: bold\">175</span>/<span style=\"color: #008080; text-decoration-color: #008080; font-weight: bold\">380</span><span style=\"font-weight: bold\">]</span> Retrieving game with <span style=\"color: #808000; text-decoration-color: #808000\">id</span>=<span style=\"color: #008080; text-decoration-color: #008080; font-weight: bold\">1549570</span>                             <a href=\"file:///home/morten/.conda/envs/packing-report/lib/python3.10/site-packages/soccerdata/whoscored.py\" target=\"_blank\"><span style=\"color: #7f7f7f; text-decoration-color: #7f7f7f\">whoscored.py</span></a><span style=\"color: #7f7f7f; text-decoration-color: #7f7f7f\">:</span><a href=\"file:///home/morten/.conda/envs/packing-report/lib/python3.10/site-packages/soccerdata/whoscored.py#584\" target=\"_blank\"><span style=\"color: #7f7f7f; text-decoration-color: #7f7f7f\">584</span></a>\n",
       "</pre>\n"
      ],
      "text/plain": [
       "\u001b[2;36m                   \u001b[0m\u001b[2;36m \u001b[0m\u001b[34mINFO    \u001b[0m \u001b[1m[\u001b[0m\u001b[1;36m175\u001b[0m/\u001b[1;36m380\u001b[0m\u001b[1m]\u001b[0m Retrieving game with \u001b[33mid\u001b[0m=\u001b[1;36m1549570\u001b[0m                             \u001b]8;id=691806;file:///home/morten/.conda/envs/packing-report/lib/python3.10/site-packages/soccerdata/whoscored.py\u001b\\\u001b[2mwhoscored.py\u001b[0m\u001b]8;;\u001b\\\u001b[2m:\u001b[0m\u001b]8;id=353045;file:///home/morten/.conda/envs/packing-report/lib/python3.10/site-packages/soccerdata/whoscored.py#584\u001b\\\u001b[2m584\u001b[0m\u001b]8;;\u001b\\\n"
      ]
     },
     "metadata": {},
     "output_type": "display_data"
    },
    {
     "data": {
      "text/html": [
       "<pre style=\"white-space:pre;overflow-x:auto;line-height:normal;font-family:Menlo,'DejaVu Sans Mono',consolas,'Courier New',monospace\"><span style=\"color: #7fbfbf; text-decoration-color: #7fbfbf\">                    </span><span style=\"color: #000080; text-decoration-color: #000080\">INFO    </span> <span style=\"font-weight: bold\">[</span><span style=\"color: #008080; text-decoration-color: #008080; font-weight: bold\">176</span>/<span style=\"color: #008080; text-decoration-color: #008080; font-weight: bold\">380</span><span style=\"font-weight: bold\">]</span> Retrieving game with <span style=\"color: #808000; text-decoration-color: #808000\">id</span>=<span style=\"color: #008080; text-decoration-color: #008080; font-weight: bold\">1549875</span>                             <a href=\"file:///home/morten/.conda/envs/packing-report/lib/python3.10/site-packages/soccerdata/whoscored.py\" target=\"_blank\"><span style=\"color: #7f7f7f; text-decoration-color: #7f7f7f\">whoscored.py</span></a><span style=\"color: #7f7f7f; text-decoration-color: #7f7f7f\">:</span><a href=\"file:///home/morten/.conda/envs/packing-report/lib/python3.10/site-packages/soccerdata/whoscored.py#584\" target=\"_blank\"><span style=\"color: #7f7f7f; text-decoration-color: #7f7f7f\">584</span></a>\n",
       "</pre>\n"
      ],
      "text/plain": [
       "\u001b[2;36m                   \u001b[0m\u001b[2;36m \u001b[0m\u001b[34mINFO    \u001b[0m \u001b[1m[\u001b[0m\u001b[1;36m176\u001b[0m/\u001b[1;36m380\u001b[0m\u001b[1m]\u001b[0m Retrieving game with \u001b[33mid\u001b[0m=\u001b[1;36m1549875\u001b[0m                             \u001b]8;id=873146;file:///home/morten/.conda/envs/packing-report/lib/python3.10/site-packages/soccerdata/whoscored.py\u001b\\\u001b[2mwhoscored.py\u001b[0m\u001b]8;;\u001b\\\u001b[2m:\u001b[0m\u001b]8;id=74817;file:///home/morten/.conda/envs/packing-report/lib/python3.10/site-packages/soccerdata/whoscored.py#584\u001b\\\u001b[2m584\u001b[0m\u001b]8;;\u001b\\\n"
      ]
     },
     "metadata": {},
     "output_type": "display_data"
    },
    {
     "data": {
      "text/html": [
       "<pre style=\"white-space:pre;overflow-x:auto;line-height:normal;font-family:Menlo,'DejaVu Sans Mono',consolas,'Courier New',monospace\"><span style=\"color: #7fbfbf; text-decoration-color: #7fbfbf\">                    </span><span style=\"color: #000080; text-decoration-color: #000080\">INFO    </span> <span style=\"font-weight: bold\">[</span><span style=\"color: #008080; text-decoration-color: #008080; font-weight: bold\">177</span>/<span style=\"color: #008080; text-decoration-color: #008080; font-weight: bold\">380</span><span style=\"font-weight: bold\">]</span> Retrieving game with <span style=\"color: #808000; text-decoration-color: #808000\">id</span>=<span style=\"color: #008080; text-decoration-color: #008080; font-weight: bold\">1549900</span>                             <a href=\"file:///home/morten/.conda/envs/packing-report/lib/python3.10/site-packages/soccerdata/whoscored.py\" target=\"_blank\"><span style=\"color: #7f7f7f; text-decoration-color: #7f7f7f\">whoscored.py</span></a><span style=\"color: #7f7f7f; text-decoration-color: #7f7f7f\">:</span><a href=\"file:///home/morten/.conda/envs/packing-report/lib/python3.10/site-packages/soccerdata/whoscored.py#584\" target=\"_blank\"><span style=\"color: #7f7f7f; text-decoration-color: #7f7f7f\">584</span></a>\n",
       "</pre>\n"
      ],
      "text/plain": [
       "\u001b[2;36m                   \u001b[0m\u001b[2;36m \u001b[0m\u001b[34mINFO    \u001b[0m \u001b[1m[\u001b[0m\u001b[1;36m177\u001b[0m/\u001b[1;36m380\u001b[0m\u001b[1m]\u001b[0m Retrieving game with \u001b[33mid\u001b[0m=\u001b[1;36m1549900\u001b[0m                             \u001b]8;id=212258;file:///home/morten/.conda/envs/packing-report/lib/python3.10/site-packages/soccerdata/whoscored.py\u001b\\\u001b[2mwhoscored.py\u001b[0m\u001b]8;;\u001b\\\u001b[2m:\u001b[0m\u001b]8;id=739171;file:///home/morten/.conda/envs/packing-report/lib/python3.10/site-packages/soccerdata/whoscored.py#584\u001b\\\u001b[2m584\u001b[0m\u001b]8;;\u001b\\\n"
      ]
     },
     "metadata": {},
     "output_type": "display_data"
    },
    {
     "data": {
      "text/html": [
       "<pre style=\"white-space:pre;overflow-x:auto;line-height:normal;font-family:Menlo,'DejaVu Sans Mono',consolas,'Courier New',monospace\"><span style=\"color: #7fbfbf; text-decoration-color: #7fbfbf\">                    </span><span style=\"color: #000080; text-decoration-color: #000080\">INFO    </span> <span style=\"font-weight: bold\">[</span><span style=\"color: #008080; text-decoration-color: #008080; font-weight: bold\">178</span>/<span style=\"color: #008080; text-decoration-color: #008080; font-weight: bold\">380</span><span style=\"font-weight: bold\">]</span> Retrieving game with <span style=\"color: #808000; text-decoration-color: #808000\">id</span>=<span style=\"color: #008080; text-decoration-color: #008080; font-weight: bold\">1549599</span>                             <a href=\"file:///home/morten/.conda/envs/packing-report/lib/python3.10/site-packages/soccerdata/whoscored.py\" target=\"_blank\"><span style=\"color: #7f7f7f; text-decoration-color: #7f7f7f\">whoscored.py</span></a><span style=\"color: #7f7f7f; text-decoration-color: #7f7f7f\">:</span><a href=\"file:///home/morten/.conda/envs/packing-report/lib/python3.10/site-packages/soccerdata/whoscored.py#584\" target=\"_blank\"><span style=\"color: #7f7f7f; text-decoration-color: #7f7f7f\">584</span></a>\n",
       "</pre>\n"
      ],
      "text/plain": [
       "\u001b[2;36m                   \u001b[0m\u001b[2;36m \u001b[0m\u001b[34mINFO    \u001b[0m \u001b[1m[\u001b[0m\u001b[1;36m178\u001b[0m/\u001b[1;36m380\u001b[0m\u001b[1m]\u001b[0m Retrieving game with \u001b[33mid\u001b[0m=\u001b[1;36m1549599\u001b[0m                             \u001b]8;id=895370;file:///home/morten/.conda/envs/packing-report/lib/python3.10/site-packages/soccerdata/whoscored.py\u001b\\\u001b[2mwhoscored.py\u001b[0m\u001b]8;;\u001b\\\u001b[2m:\u001b[0m\u001b]8;id=851157;file:///home/morten/.conda/envs/packing-report/lib/python3.10/site-packages/soccerdata/whoscored.py#584\u001b\\\u001b[2m584\u001b[0m\u001b]8;;\u001b\\\n"
      ]
     },
     "metadata": {},
     "output_type": "display_data"
    },
    {
     "data": {
      "text/html": [
       "<pre style=\"white-space:pre;overflow-x:auto;line-height:normal;font-family:Menlo,'DejaVu Sans Mono',consolas,'Courier New',monospace\"><span style=\"color: #7fbfbf; text-decoration-color: #7fbfbf\">                    </span><span style=\"color: #000080; text-decoration-color: #000080\">INFO    </span> <span style=\"font-weight: bold\">[</span><span style=\"color: #008080; text-decoration-color: #008080; font-weight: bold\">179</span>/<span style=\"color: #008080; text-decoration-color: #008080; font-weight: bold\">380</span><span style=\"font-weight: bold\">]</span> Retrieving game with <span style=\"color: #808000; text-decoration-color: #808000\">id</span>=<span style=\"color: #008080; text-decoration-color: #008080; font-weight: bold\">1549806</span>                             <a href=\"file:///home/morten/.conda/envs/packing-report/lib/python3.10/site-packages/soccerdata/whoscored.py\" target=\"_blank\"><span style=\"color: #7f7f7f; text-decoration-color: #7f7f7f\">whoscored.py</span></a><span style=\"color: #7f7f7f; text-decoration-color: #7f7f7f\">:</span><a href=\"file:///home/morten/.conda/envs/packing-report/lib/python3.10/site-packages/soccerdata/whoscored.py#584\" target=\"_blank\"><span style=\"color: #7f7f7f; text-decoration-color: #7f7f7f\">584</span></a>\n",
       "</pre>\n"
      ],
      "text/plain": [
       "\u001b[2;36m                   \u001b[0m\u001b[2;36m \u001b[0m\u001b[34mINFO    \u001b[0m \u001b[1m[\u001b[0m\u001b[1;36m179\u001b[0m/\u001b[1;36m380\u001b[0m\u001b[1m]\u001b[0m Retrieving game with \u001b[33mid\u001b[0m=\u001b[1;36m1549806\u001b[0m                             \u001b]8;id=195612;file:///home/morten/.conda/envs/packing-report/lib/python3.10/site-packages/soccerdata/whoscored.py\u001b\\\u001b[2mwhoscored.py\u001b[0m\u001b]8;;\u001b\\\u001b[2m:\u001b[0m\u001b]8;id=350561;file:///home/morten/.conda/envs/packing-report/lib/python3.10/site-packages/soccerdata/whoscored.py#584\u001b\\\u001b[2m584\u001b[0m\u001b]8;;\u001b\\\n"
      ]
     },
     "metadata": {},
     "output_type": "display_data"
    },
    {
     "data": {
      "text/html": [
       "<pre style=\"white-space:pre;overflow-x:auto;line-height:normal;font-family:Menlo,'DejaVu Sans Mono',consolas,'Courier New',monospace\"><span style=\"color: #7fbfbf; text-decoration-color: #7fbfbf\">                    </span><span style=\"color: #000080; text-decoration-color: #000080\">INFO    </span> <span style=\"font-weight: bold\">[</span><span style=\"color: #008080; text-decoration-color: #008080; font-weight: bold\">180</span>/<span style=\"color: #008080; text-decoration-color: #008080; font-weight: bold\">380</span><span style=\"font-weight: bold\">]</span> Retrieving game with <span style=\"color: #808000; text-decoration-color: #808000\">id</span>=<span style=\"color: #008080; text-decoration-color: #008080; font-weight: bold\">1549616</span>                             <a href=\"file:///home/morten/.conda/envs/packing-report/lib/python3.10/site-packages/soccerdata/whoscored.py\" target=\"_blank\"><span style=\"color: #7f7f7f; text-decoration-color: #7f7f7f\">whoscored.py</span></a><span style=\"color: #7f7f7f; text-decoration-color: #7f7f7f\">:</span><a href=\"file:///home/morten/.conda/envs/packing-report/lib/python3.10/site-packages/soccerdata/whoscored.py#584\" target=\"_blank\"><span style=\"color: #7f7f7f; text-decoration-color: #7f7f7f\">584</span></a>\n",
       "</pre>\n"
      ],
      "text/plain": [
       "\u001b[2;36m                   \u001b[0m\u001b[2;36m \u001b[0m\u001b[34mINFO    \u001b[0m \u001b[1m[\u001b[0m\u001b[1;36m180\u001b[0m/\u001b[1;36m380\u001b[0m\u001b[1m]\u001b[0m Retrieving game with \u001b[33mid\u001b[0m=\u001b[1;36m1549616\u001b[0m                             \u001b]8;id=310076;file:///home/morten/.conda/envs/packing-report/lib/python3.10/site-packages/soccerdata/whoscored.py\u001b\\\u001b[2mwhoscored.py\u001b[0m\u001b]8;;\u001b\\\u001b[2m:\u001b[0m\u001b]8;id=367717;file:///home/morten/.conda/envs/packing-report/lib/python3.10/site-packages/soccerdata/whoscored.py#584\u001b\\\u001b[2m584\u001b[0m\u001b]8;;\u001b\\\n"
      ]
     },
     "metadata": {},
     "output_type": "display_data"
    },
    {
     "data": {
      "text/html": [
       "<pre style=\"white-space:pre;overflow-x:auto;line-height:normal;font-family:Menlo,'DejaVu Sans Mono',consolas,'Courier New',monospace\"><span style=\"color: #7fbfbf; text-decoration-color: #7fbfbf\">                    </span><span style=\"color: #000080; text-decoration-color: #000080\">INFO    </span> <span style=\"font-weight: bold\">[</span><span style=\"color: #008080; text-decoration-color: #008080; font-weight: bold\">181</span>/<span style=\"color: #008080; text-decoration-color: #008080; font-weight: bold\">380</span><span style=\"font-weight: bold\">]</span> Retrieving game with <span style=\"color: #808000; text-decoration-color: #808000\">id</span>=<span style=\"color: #008080; text-decoration-color: #008080; font-weight: bold\">1549621</span>                             <a href=\"file:///home/morten/.conda/envs/packing-report/lib/python3.10/site-packages/soccerdata/whoscored.py\" target=\"_blank\"><span style=\"color: #7f7f7f; text-decoration-color: #7f7f7f\">whoscored.py</span></a><span style=\"color: #7f7f7f; text-decoration-color: #7f7f7f\">:</span><a href=\"file:///home/morten/.conda/envs/packing-report/lib/python3.10/site-packages/soccerdata/whoscored.py#584\" target=\"_blank\"><span style=\"color: #7f7f7f; text-decoration-color: #7f7f7f\">584</span></a>\n",
       "</pre>\n"
      ],
      "text/plain": [
       "\u001b[2;36m                   \u001b[0m\u001b[2;36m \u001b[0m\u001b[34mINFO    \u001b[0m \u001b[1m[\u001b[0m\u001b[1;36m181\u001b[0m/\u001b[1;36m380\u001b[0m\u001b[1m]\u001b[0m Retrieving game with \u001b[33mid\u001b[0m=\u001b[1;36m1549621\u001b[0m                             \u001b]8;id=730198;file:///home/morten/.conda/envs/packing-report/lib/python3.10/site-packages/soccerdata/whoscored.py\u001b\\\u001b[2mwhoscored.py\u001b[0m\u001b]8;;\u001b\\\u001b[2m:\u001b[0m\u001b]8;id=763473;file:///home/morten/.conda/envs/packing-report/lib/python3.10/site-packages/soccerdata/whoscored.py#584\u001b\\\u001b[2m584\u001b[0m\u001b]8;;\u001b\\\n"
      ]
     },
     "metadata": {},
     "output_type": "display_data"
    },
    {
     "data": {
      "text/html": [
       "<pre style=\"white-space:pre;overflow-x:auto;line-height:normal;font-family:Menlo,'DejaVu Sans Mono',consolas,'Courier New',monospace\"><span style=\"color: #7fbfbf; text-decoration-color: #7fbfbf\">                    </span><span style=\"color: #000080; text-decoration-color: #000080\">INFO    </span> <span style=\"font-weight: bold\">[</span><span style=\"color: #008080; text-decoration-color: #008080; font-weight: bold\">182</span>/<span style=\"color: #008080; text-decoration-color: #008080; font-weight: bold\">380</span><span style=\"font-weight: bold\">]</span> Retrieving game with <span style=\"color: #808000; text-decoration-color: #808000\">id</span>=<span style=\"color: #008080; text-decoration-color: #008080; font-weight: bold\">1549615</span>                             <a href=\"file:///home/morten/.conda/envs/packing-report/lib/python3.10/site-packages/soccerdata/whoscored.py\" target=\"_blank\"><span style=\"color: #7f7f7f; text-decoration-color: #7f7f7f\">whoscored.py</span></a><span style=\"color: #7f7f7f; text-decoration-color: #7f7f7f\">:</span><a href=\"file:///home/morten/.conda/envs/packing-report/lib/python3.10/site-packages/soccerdata/whoscored.py#584\" target=\"_blank\"><span style=\"color: #7f7f7f; text-decoration-color: #7f7f7f\">584</span></a>\n",
       "</pre>\n"
      ],
      "text/plain": [
       "\u001b[2;36m                   \u001b[0m\u001b[2;36m \u001b[0m\u001b[34mINFO    \u001b[0m \u001b[1m[\u001b[0m\u001b[1;36m182\u001b[0m/\u001b[1;36m380\u001b[0m\u001b[1m]\u001b[0m Retrieving game with \u001b[33mid\u001b[0m=\u001b[1;36m1549615\u001b[0m                             \u001b]8;id=380439;file:///home/morten/.conda/envs/packing-report/lib/python3.10/site-packages/soccerdata/whoscored.py\u001b\\\u001b[2mwhoscored.py\u001b[0m\u001b]8;;\u001b\\\u001b[2m:\u001b[0m\u001b]8;id=474865;file:///home/morten/.conda/envs/packing-report/lib/python3.10/site-packages/soccerdata/whoscored.py#584\u001b\\\u001b[2m584\u001b[0m\u001b]8;;\u001b\\\n"
      ]
     },
     "metadata": {},
     "output_type": "display_data"
    },
    {
     "data": {
      "text/html": [
       "<pre style=\"white-space:pre;overflow-x:auto;line-height:normal;font-family:Menlo,'DejaVu Sans Mono',consolas,'Courier New',monospace\"><span style=\"color: #7fbfbf; text-decoration-color: #7fbfbf\">                    </span><span style=\"color: #000080; text-decoration-color: #000080\">INFO    </span> <span style=\"font-weight: bold\">[</span><span style=\"color: #008080; text-decoration-color: #008080; font-weight: bold\">183</span>/<span style=\"color: #008080; text-decoration-color: #008080; font-weight: bold\">380</span><span style=\"font-weight: bold\">]</span> Retrieving game with <span style=\"color: #808000; text-decoration-color: #808000\">id</span>=<span style=\"color: #008080; text-decoration-color: #008080; font-weight: bold\">1549563</span>                             <a href=\"file:///home/morten/.conda/envs/packing-report/lib/python3.10/site-packages/soccerdata/whoscored.py\" target=\"_blank\"><span style=\"color: #7f7f7f; text-decoration-color: #7f7f7f\">whoscored.py</span></a><span style=\"color: #7f7f7f; text-decoration-color: #7f7f7f\">:</span><a href=\"file:///home/morten/.conda/envs/packing-report/lib/python3.10/site-packages/soccerdata/whoscored.py#584\" target=\"_blank\"><span style=\"color: #7f7f7f; text-decoration-color: #7f7f7f\">584</span></a>\n",
       "</pre>\n"
      ],
      "text/plain": [
       "\u001b[2;36m                   \u001b[0m\u001b[2;36m \u001b[0m\u001b[34mINFO    \u001b[0m \u001b[1m[\u001b[0m\u001b[1;36m183\u001b[0m/\u001b[1;36m380\u001b[0m\u001b[1m]\u001b[0m Retrieving game with \u001b[33mid\u001b[0m=\u001b[1;36m1549563\u001b[0m                             \u001b]8;id=324261;file:///home/morten/.conda/envs/packing-report/lib/python3.10/site-packages/soccerdata/whoscored.py\u001b\\\u001b[2mwhoscored.py\u001b[0m\u001b]8;;\u001b\\\u001b[2m:\u001b[0m\u001b]8;id=668578;file:///home/morten/.conda/envs/packing-report/lib/python3.10/site-packages/soccerdata/whoscored.py#584\u001b\\\u001b[2m584\u001b[0m\u001b]8;;\u001b\\\n"
      ]
     },
     "metadata": {},
     "output_type": "display_data"
    },
    {
     "data": {
      "text/html": [
       "<pre style=\"white-space:pre;overflow-x:auto;line-height:normal;font-family:Menlo,'DejaVu Sans Mono',consolas,'Courier New',monospace\"><span style=\"color: #7fbfbf; text-decoration-color: #7fbfbf\">                    </span><span style=\"color: #000080; text-decoration-color: #000080\">INFO    </span> <span style=\"font-weight: bold\">[</span><span style=\"color: #008080; text-decoration-color: #008080; font-weight: bold\">184</span>/<span style=\"color: #008080; text-decoration-color: #008080; font-weight: bold\">380</span><span style=\"font-weight: bold\">]</span> Retrieving game with <span style=\"color: #808000; text-decoration-color: #808000\">id</span>=<span style=\"color: #008080; text-decoration-color: #008080; font-weight: bold\">1549619</span>                             <a href=\"file:///home/morten/.conda/envs/packing-report/lib/python3.10/site-packages/soccerdata/whoscored.py\" target=\"_blank\"><span style=\"color: #7f7f7f; text-decoration-color: #7f7f7f\">whoscored.py</span></a><span style=\"color: #7f7f7f; text-decoration-color: #7f7f7f\">:</span><a href=\"file:///home/morten/.conda/envs/packing-report/lib/python3.10/site-packages/soccerdata/whoscored.py#584\" target=\"_blank\"><span style=\"color: #7f7f7f; text-decoration-color: #7f7f7f\">584</span></a>\n",
       "</pre>\n"
      ],
      "text/plain": [
       "\u001b[2;36m                   \u001b[0m\u001b[2;36m \u001b[0m\u001b[34mINFO    \u001b[0m \u001b[1m[\u001b[0m\u001b[1;36m184\u001b[0m/\u001b[1;36m380\u001b[0m\u001b[1m]\u001b[0m Retrieving game with \u001b[33mid\u001b[0m=\u001b[1;36m1549619\u001b[0m                             \u001b]8;id=698557;file:///home/morten/.conda/envs/packing-report/lib/python3.10/site-packages/soccerdata/whoscored.py\u001b\\\u001b[2mwhoscored.py\u001b[0m\u001b]8;;\u001b\\\u001b[2m:\u001b[0m\u001b]8;id=978302;file:///home/morten/.conda/envs/packing-report/lib/python3.10/site-packages/soccerdata/whoscored.py#584\u001b\\\u001b[2m584\u001b[0m\u001b]8;;\u001b\\\n"
      ]
     },
     "metadata": {},
     "output_type": "display_data"
    },
    {
     "data": {
      "text/html": [
       "<pre style=\"white-space:pre;overflow-x:auto;line-height:normal;font-family:Menlo,'DejaVu Sans Mono',consolas,'Courier New',monospace\"><span style=\"color: #7fbfbf; text-decoration-color: #7fbfbf\">                    </span><span style=\"color: #000080; text-decoration-color: #000080\">INFO    </span> <span style=\"font-weight: bold\">[</span><span style=\"color: #008080; text-decoration-color: #008080; font-weight: bold\">185</span>/<span style=\"color: #008080; text-decoration-color: #008080; font-weight: bold\">380</span><span style=\"font-weight: bold\">]</span> Retrieving game with <span style=\"color: #808000; text-decoration-color: #808000\">id</span>=<span style=\"color: #008080; text-decoration-color: #008080; font-weight: bold\">1549886</span>                             <a href=\"file:///home/morten/.conda/envs/packing-report/lib/python3.10/site-packages/soccerdata/whoscored.py\" target=\"_blank\"><span style=\"color: #7f7f7f; text-decoration-color: #7f7f7f\">whoscored.py</span></a><span style=\"color: #7f7f7f; text-decoration-color: #7f7f7f\">:</span><a href=\"file:///home/morten/.conda/envs/packing-report/lib/python3.10/site-packages/soccerdata/whoscored.py#584\" target=\"_blank\"><span style=\"color: #7f7f7f; text-decoration-color: #7f7f7f\">584</span></a>\n",
       "</pre>\n"
      ],
      "text/plain": [
       "\u001b[2;36m                   \u001b[0m\u001b[2;36m \u001b[0m\u001b[34mINFO    \u001b[0m \u001b[1m[\u001b[0m\u001b[1;36m185\u001b[0m/\u001b[1;36m380\u001b[0m\u001b[1m]\u001b[0m Retrieving game with \u001b[33mid\u001b[0m=\u001b[1;36m1549886\u001b[0m                             \u001b]8;id=72021;file:///home/morten/.conda/envs/packing-report/lib/python3.10/site-packages/soccerdata/whoscored.py\u001b\\\u001b[2mwhoscored.py\u001b[0m\u001b]8;;\u001b\\\u001b[2m:\u001b[0m\u001b]8;id=319918;file:///home/morten/.conda/envs/packing-report/lib/python3.10/site-packages/soccerdata/whoscored.py#584\u001b\\\u001b[2m584\u001b[0m\u001b]8;;\u001b\\\n"
      ]
     },
     "metadata": {},
     "output_type": "display_data"
    },
    {
     "data": {
      "text/html": [
       "<pre style=\"white-space:pre;overflow-x:auto;line-height:normal;font-family:Menlo,'DejaVu Sans Mono',consolas,'Courier New',monospace\"><span style=\"color: #7fbfbf; text-decoration-color: #7fbfbf\">                    </span><span style=\"color: #000080; text-decoration-color: #000080\">INFO    </span> <span style=\"font-weight: bold\">[</span><span style=\"color: #008080; text-decoration-color: #008080; font-weight: bold\">186</span>/<span style=\"color: #008080; text-decoration-color: #008080; font-weight: bold\">380</span><span style=\"font-weight: bold\">]</span> Retrieving game with <span style=\"color: #808000; text-decoration-color: #808000\">id</span>=<span style=\"color: #008080; text-decoration-color: #008080; font-weight: bold\">1549611</span>                             <a href=\"file:///home/morten/.conda/envs/packing-report/lib/python3.10/site-packages/soccerdata/whoscored.py\" target=\"_blank\"><span style=\"color: #7f7f7f; text-decoration-color: #7f7f7f\">whoscored.py</span></a><span style=\"color: #7f7f7f; text-decoration-color: #7f7f7f\">:</span><a href=\"file:///home/morten/.conda/envs/packing-report/lib/python3.10/site-packages/soccerdata/whoscored.py#584\" target=\"_blank\"><span style=\"color: #7f7f7f; text-decoration-color: #7f7f7f\">584</span></a>\n",
       "</pre>\n"
      ],
      "text/plain": [
       "\u001b[2;36m                   \u001b[0m\u001b[2;36m \u001b[0m\u001b[34mINFO    \u001b[0m \u001b[1m[\u001b[0m\u001b[1;36m186\u001b[0m/\u001b[1;36m380\u001b[0m\u001b[1m]\u001b[0m Retrieving game with \u001b[33mid\u001b[0m=\u001b[1;36m1549611\u001b[0m                             \u001b]8;id=715098;file:///home/morten/.conda/envs/packing-report/lib/python3.10/site-packages/soccerdata/whoscored.py\u001b\\\u001b[2mwhoscored.py\u001b[0m\u001b]8;;\u001b\\\u001b[2m:\u001b[0m\u001b]8;id=440717;file:///home/morten/.conda/envs/packing-report/lib/python3.10/site-packages/soccerdata/whoscored.py#584\u001b\\\u001b[2m584\u001b[0m\u001b]8;;\u001b\\\n"
      ]
     },
     "metadata": {},
     "output_type": "display_data"
    },
    {
     "data": {
      "text/html": [
       "<pre style=\"white-space:pre;overflow-x:auto;line-height:normal;font-family:Menlo,'DejaVu Sans Mono',consolas,'Courier New',monospace\"><span style=\"color: #7fbfbf; text-decoration-color: #7fbfbf\">                    </span><span style=\"color: #000080; text-decoration-color: #000080\">INFO    </span> <span style=\"font-weight: bold\">[</span><span style=\"color: #008080; text-decoration-color: #008080; font-weight: bold\">187</span>/<span style=\"color: #008080; text-decoration-color: #008080; font-weight: bold\">380</span><span style=\"font-weight: bold\">]</span> Retrieving game with <span style=\"color: #808000; text-decoration-color: #808000\">id</span>=<span style=\"color: #008080; text-decoration-color: #008080; font-weight: bold\">1549851</span>                             <a href=\"file:///home/morten/.conda/envs/packing-report/lib/python3.10/site-packages/soccerdata/whoscored.py\" target=\"_blank\"><span style=\"color: #7f7f7f; text-decoration-color: #7f7f7f\">whoscored.py</span></a><span style=\"color: #7f7f7f; text-decoration-color: #7f7f7f\">:</span><a href=\"file:///home/morten/.conda/envs/packing-report/lib/python3.10/site-packages/soccerdata/whoscored.py#584\" target=\"_blank\"><span style=\"color: #7f7f7f; text-decoration-color: #7f7f7f\">584</span></a>\n",
       "</pre>\n"
      ],
      "text/plain": [
       "\u001b[2;36m                   \u001b[0m\u001b[2;36m \u001b[0m\u001b[34mINFO    \u001b[0m \u001b[1m[\u001b[0m\u001b[1;36m187\u001b[0m/\u001b[1;36m380\u001b[0m\u001b[1m]\u001b[0m Retrieving game with \u001b[33mid\u001b[0m=\u001b[1;36m1549851\u001b[0m                             \u001b]8;id=271355;file:///home/morten/.conda/envs/packing-report/lib/python3.10/site-packages/soccerdata/whoscored.py\u001b\\\u001b[2mwhoscored.py\u001b[0m\u001b]8;;\u001b\\\u001b[2m:\u001b[0m\u001b]8;id=334006;file:///home/morten/.conda/envs/packing-report/lib/python3.10/site-packages/soccerdata/whoscored.py#584\u001b\\\u001b[2m584\u001b[0m\u001b]8;;\u001b\\\n"
      ]
     },
     "metadata": {},
     "output_type": "display_data"
    },
    {
     "data": {
      "text/html": [
       "<pre style=\"white-space:pre;overflow-x:auto;line-height:normal;font-family:Menlo,'DejaVu Sans Mono',consolas,'Courier New',monospace\"><span style=\"color: #7fbfbf; text-decoration-color: #7fbfbf\">                    </span><span style=\"color: #000080; text-decoration-color: #000080\">INFO    </span> <span style=\"font-weight: bold\">[</span><span style=\"color: #008080; text-decoration-color: #008080; font-weight: bold\">188</span>/<span style=\"color: #008080; text-decoration-color: #008080; font-weight: bold\">380</span><span style=\"font-weight: bold\">]</span> Retrieving game with <span style=\"color: #808000; text-decoration-color: #808000\">id</span>=<span style=\"color: #008080; text-decoration-color: #008080; font-weight: bold\">1549826</span>                             <a href=\"file:///home/morten/.conda/envs/packing-report/lib/python3.10/site-packages/soccerdata/whoscored.py\" target=\"_blank\"><span style=\"color: #7f7f7f; text-decoration-color: #7f7f7f\">whoscored.py</span></a><span style=\"color: #7f7f7f; text-decoration-color: #7f7f7f\">:</span><a href=\"file:///home/morten/.conda/envs/packing-report/lib/python3.10/site-packages/soccerdata/whoscored.py#584\" target=\"_blank\"><span style=\"color: #7f7f7f; text-decoration-color: #7f7f7f\">584</span></a>\n",
       "</pre>\n"
      ],
      "text/plain": [
       "\u001b[2;36m                   \u001b[0m\u001b[2;36m \u001b[0m\u001b[34mINFO    \u001b[0m \u001b[1m[\u001b[0m\u001b[1;36m188\u001b[0m/\u001b[1;36m380\u001b[0m\u001b[1m]\u001b[0m Retrieving game with \u001b[33mid\u001b[0m=\u001b[1;36m1549826\u001b[0m                             \u001b]8;id=140009;file:///home/morten/.conda/envs/packing-report/lib/python3.10/site-packages/soccerdata/whoscored.py\u001b\\\u001b[2mwhoscored.py\u001b[0m\u001b]8;;\u001b\\\u001b[2m:\u001b[0m\u001b]8;id=473394;file:///home/morten/.conda/envs/packing-report/lib/python3.10/site-packages/soccerdata/whoscored.py#584\u001b\\\u001b[2m584\u001b[0m\u001b]8;;\u001b\\\n"
      ]
     },
     "metadata": {},
     "output_type": "display_data"
    },
    {
     "data": {
      "text/html": [
       "<pre style=\"white-space:pre;overflow-x:auto;line-height:normal;font-family:Menlo,'DejaVu Sans Mono',consolas,'Courier New',monospace\"><span style=\"color: #7fbfbf; text-decoration-color: #7fbfbf\">[10/02/22 17:52:04] </span><span style=\"color: #000080; text-decoration-color: #000080\">INFO    </span> <span style=\"font-weight: bold\">[</span><span style=\"color: #008080; text-decoration-color: #008080; font-weight: bold\">189</span>/<span style=\"color: #008080; text-decoration-color: #008080; font-weight: bold\">380</span><span style=\"font-weight: bold\">]</span> Retrieving game with <span style=\"color: #808000; text-decoration-color: #808000\">id</span>=<span style=\"color: #008080; text-decoration-color: #008080; font-weight: bold\">1549892</span>                             <a href=\"file:///home/morten/.conda/envs/packing-report/lib/python3.10/site-packages/soccerdata/whoscored.py\" target=\"_blank\"><span style=\"color: #7f7f7f; text-decoration-color: #7f7f7f\">whoscored.py</span></a><span style=\"color: #7f7f7f; text-decoration-color: #7f7f7f\">:</span><a href=\"file:///home/morten/.conda/envs/packing-report/lib/python3.10/site-packages/soccerdata/whoscored.py#584\" target=\"_blank\"><span style=\"color: #7f7f7f; text-decoration-color: #7f7f7f\">584</span></a>\n",
       "</pre>\n"
      ],
      "text/plain": [
       "\u001b[2;36m[10/02/22 17:52:04]\u001b[0m\u001b[2;36m \u001b[0m\u001b[34mINFO    \u001b[0m \u001b[1m[\u001b[0m\u001b[1;36m189\u001b[0m/\u001b[1;36m380\u001b[0m\u001b[1m]\u001b[0m Retrieving game with \u001b[33mid\u001b[0m=\u001b[1;36m1549892\u001b[0m                             \u001b]8;id=172419;file:///home/morten/.conda/envs/packing-report/lib/python3.10/site-packages/soccerdata/whoscored.py\u001b\\\u001b[2mwhoscored.py\u001b[0m\u001b]8;;\u001b\\\u001b[2m:\u001b[0m\u001b]8;id=655038;file:///home/morten/.conda/envs/packing-report/lib/python3.10/site-packages/soccerdata/whoscored.py#584\u001b\\\u001b[2m584\u001b[0m\u001b]8;;\u001b\\\n"
      ]
     },
     "metadata": {},
     "output_type": "display_data"
    },
    {
     "data": {
      "text/html": [
       "<pre style=\"white-space:pre;overflow-x:auto;line-height:normal;font-family:Menlo,'DejaVu Sans Mono',consolas,'Courier New',monospace\"><span style=\"color: #7fbfbf; text-decoration-color: #7fbfbf\">                    </span><span style=\"color: #000080; text-decoration-color: #000080\">INFO    </span> <span style=\"font-weight: bold\">[</span><span style=\"color: #008080; text-decoration-color: #008080; font-weight: bold\">190</span>/<span style=\"color: #008080; text-decoration-color: #008080; font-weight: bold\">380</span><span style=\"font-weight: bold\">]</span> Retrieving game with <span style=\"color: #808000; text-decoration-color: #808000\">id</span>=<span style=\"color: #008080; text-decoration-color: #008080; font-weight: bold\">1549631</span>                             <a href=\"file:///home/morten/.conda/envs/packing-report/lib/python3.10/site-packages/soccerdata/whoscored.py\" target=\"_blank\"><span style=\"color: #7f7f7f; text-decoration-color: #7f7f7f\">whoscored.py</span></a><span style=\"color: #7f7f7f; text-decoration-color: #7f7f7f\">:</span><a href=\"file:///home/morten/.conda/envs/packing-report/lib/python3.10/site-packages/soccerdata/whoscored.py#584\" target=\"_blank\"><span style=\"color: #7f7f7f; text-decoration-color: #7f7f7f\">584</span></a>\n",
       "</pre>\n"
      ],
      "text/plain": [
       "\u001b[2;36m                   \u001b[0m\u001b[2;36m \u001b[0m\u001b[34mINFO    \u001b[0m \u001b[1m[\u001b[0m\u001b[1;36m190\u001b[0m/\u001b[1;36m380\u001b[0m\u001b[1m]\u001b[0m Retrieving game with \u001b[33mid\u001b[0m=\u001b[1;36m1549631\u001b[0m                             \u001b]8;id=256878;file:///home/morten/.conda/envs/packing-report/lib/python3.10/site-packages/soccerdata/whoscored.py\u001b\\\u001b[2mwhoscored.py\u001b[0m\u001b]8;;\u001b\\\u001b[2m:\u001b[0m\u001b]8;id=569549;file:///home/morten/.conda/envs/packing-report/lib/python3.10/site-packages/soccerdata/whoscored.py#584\u001b\\\u001b[2m584\u001b[0m\u001b]8;;\u001b\\\n"
      ]
     },
     "metadata": {},
     "output_type": "display_data"
    },
    {
     "data": {
      "text/html": [
       "<pre style=\"white-space:pre;overflow-x:auto;line-height:normal;font-family:Menlo,'DejaVu Sans Mono',consolas,'Courier New',monospace\"><span style=\"color: #7fbfbf; text-decoration-color: #7fbfbf\">                    </span><span style=\"color: #000080; text-decoration-color: #000080\">INFO    </span> <span style=\"font-weight: bold\">[</span><span style=\"color: #008080; text-decoration-color: #008080; font-weight: bold\">191</span>/<span style=\"color: #008080; text-decoration-color: #008080; font-weight: bold\">380</span><span style=\"font-weight: bold\">]</span> Retrieving game with <span style=\"color: #808000; text-decoration-color: #808000\">id</span>=<span style=\"color: #008080; text-decoration-color: #008080; font-weight: bold\">1549622</span>                             <a href=\"file:///home/morten/.conda/envs/packing-report/lib/python3.10/site-packages/soccerdata/whoscored.py\" target=\"_blank\"><span style=\"color: #7f7f7f; text-decoration-color: #7f7f7f\">whoscored.py</span></a><span style=\"color: #7f7f7f; text-decoration-color: #7f7f7f\">:</span><a href=\"file:///home/morten/.conda/envs/packing-report/lib/python3.10/site-packages/soccerdata/whoscored.py#584\" target=\"_blank\"><span style=\"color: #7f7f7f; text-decoration-color: #7f7f7f\">584</span></a>\n",
       "</pre>\n"
      ],
      "text/plain": [
       "\u001b[2;36m                   \u001b[0m\u001b[2;36m \u001b[0m\u001b[34mINFO    \u001b[0m \u001b[1m[\u001b[0m\u001b[1;36m191\u001b[0m/\u001b[1;36m380\u001b[0m\u001b[1m]\u001b[0m Retrieving game with \u001b[33mid\u001b[0m=\u001b[1;36m1549622\u001b[0m                             \u001b]8;id=20224;file:///home/morten/.conda/envs/packing-report/lib/python3.10/site-packages/soccerdata/whoscored.py\u001b\\\u001b[2mwhoscored.py\u001b[0m\u001b]8;;\u001b\\\u001b[2m:\u001b[0m\u001b]8;id=949012;file:///home/morten/.conda/envs/packing-report/lib/python3.10/site-packages/soccerdata/whoscored.py#584\u001b\\\u001b[2m584\u001b[0m\u001b]8;;\u001b\\\n"
      ]
     },
     "metadata": {},
     "output_type": "display_data"
    },
    {
     "data": {
      "text/html": [
       "<pre style=\"white-space:pre;overflow-x:auto;line-height:normal;font-family:Menlo,'DejaVu Sans Mono',consolas,'Courier New',monospace\"><span style=\"color: #7fbfbf; text-decoration-color: #7fbfbf\">                    </span><span style=\"color: #000080; text-decoration-color: #000080\">INFO    </span> <span style=\"font-weight: bold\">[</span><span style=\"color: #008080; text-decoration-color: #008080; font-weight: bold\">192</span>/<span style=\"color: #008080; text-decoration-color: #008080; font-weight: bold\">380</span><span style=\"font-weight: bold\">]</span> Retrieving game with <span style=\"color: #808000; text-decoration-color: #808000\">id</span>=<span style=\"color: #008080; text-decoration-color: #008080; font-weight: bold\">1549824</span>                             <a href=\"file:///home/morten/.conda/envs/packing-report/lib/python3.10/site-packages/soccerdata/whoscored.py\" target=\"_blank\"><span style=\"color: #7f7f7f; text-decoration-color: #7f7f7f\">whoscored.py</span></a><span style=\"color: #7f7f7f; text-decoration-color: #7f7f7f\">:</span><a href=\"file:///home/morten/.conda/envs/packing-report/lib/python3.10/site-packages/soccerdata/whoscored.py#584\" target=\"_blank\"><span style=\"color: #7f7f7f; text-decoration-color: #7f7f7f\">584</span></a>\n",
       "</pre>\n"
      ],
      "text/plain": [
       "\u001b[2;36m                   \u001b[0m\u001b[2;36m \u001b[0m\u001b[34mINFO    \u001b[0m \u001b[1m[\u001b[0m\u001b[1;36m192\u001b[0m/\u001b[1;36m380\u001b[0m\u001b[1m]\u001b[0m Retrieving game with \u001b[33mid\u001b[0m=\u001b[1;36m1549824\u001b[0m                             \u001b]8;id=841798;file:///home/morten/.conda/envs/packing-report/lib/python3.10/site-packages/soccerdata/whoscored.py\u001b\\\u001b[2mwhoscored.py\u001b[0m\u001b]8;;\u001b\\\u001b[2m:\u001b[0m\u001b]8;id=460075;file:///home/morten/.conda/envs/packing-report/lib/python3.10/site-packages/soccerdata/whoscored.py#584\u001b\\\u001b[2m584\u001b[0m\u001b]8;;\u001b\\\n"
      ]
     },
     "metadata": {},
     "output_type": "display_data"
    },
    {
     "data": {
      "text/html": [
       "<pre style=\"white-space:pre;overflow-x:auto;line-height:normal;font-family:Menlo,'DejaVu Sans Mono',consolas,'Courier New',monospace\"><span style=\"color: #7fbfbf; text-decoration-color: #7fbfbf\">                    </span><span style=\"color: #000080; text-decoration-color: #000080\">INFO    </span> <span style=\"font-weight: bold\">[</span><span style=\"color: #008080; text-decoration-color: #008080; font-weight: bold\">193</span>/<span style=\"color: #008080; text-decoration-color: #008080; font-weight: bold\">380</span><span style=\"font-weight: bold\">]</span> Retrieving game with <span style=\"color: #808000; text-decoration-color: #808000\">id</span>=<span style=\"color: #008080; text-decoration-color: #008080; font-weight: bold\">1549902</span>                             <a href=\"file:///home/morten/.conda/envs/packing-report/lib/python3.10/site-packages/soccerdata/whoscored.py\" target=\"_blank\"><span style=\"color: #7f7f7f; text-decoration-color: #7f7f7f\">whoscored.py</span></a><span style=\"color: #7f7f7f; text-decoration-color: #7f7f7f\">:</span><a href=\"file:///home/morten/.conda/envs/packing-report/lib/python3.10/site-packages/soccerdata/whoscored.py#584\" target=\"_blank\"><span style=\"color: #7f7f7f; text-decoration-color: #7f7f7f\">584</span></a>\n",
       "</pre>\n"
      ],
      "text/plain": [
       "\u001b[2;36m                   \u001b[0m\u001b[2;36m \u001b[0m\u001b[34mINFO    \u001b[0m \u001b[1m[\u001b[0m\u001b[1;36m193\u001b[0m/\u001b[1;36m380\u001b[0m\u001b[1m]\u001b[0m Retrieving game with \u001b[33mid\u001b[0m=\u001b[1;36m1549902\u001b[0m                             \u001b]8;id=123525;file:///home/morten/.conda/envs/packing-report/lib/python3.10/site-packages/soccerdata/whoscored.py\u001b\\\u001b[2mwhoscored.py\u001b[0m\u001b]8;;\u001b\\\u001b[2m:\u001b[0m\u001b]8;id=567205;file:///home/morten/.conda/envs/packing-report/lib/python3.10/site-packages/soccerdata/whoscored.py#584\u001b\\\u001b[2m584\u001b[0m\u001b]8;;\u001b\\\n"
      ]
     },
     "metadata": {},
     "output_type": "display_data"
    },
    {
     "data": {
      "text/html": [
       "<pre style=\"white-space:pre;overflow-x:auto;line-height:normal;font-family:Menlo,'DejaVu Sans Mono',consolas,'Courier New',monospace\"><span style=\"color: #7fbfbf; text-decoration-color: #7fbfbf\">                    </span><span style=\"color: #000080; text-decoration-color: #000080\">INFO    </span> <span style=\"font-weight: bold\">[</span><span style=\"color: #008080; text-decoration-color: #008080; font-weight: bold\">194</span>/<span style=\"color: #008080; text-decoration-color: #008080; font-weight: bold\">380</span><span style=\"font-weight: bold\">]</span> Retrieving game with <span style=\"color: #808000; text-decoration-color: #808000\">id</span>=<span style=\"color: #008080; text-decoration-color: #008080; font-weight: bold\">1549696</span>                             <a href=\"file:///home/morten/.conda/envs/packing-report/lib/python3.10/site-packages/soccerdata/whoscored.py\" target=\"_blank\"><span style=\"color: #7f7f7f; text-decoration-color: #7f7f7f\">whoscored.py</span></a><span style=\"color: #7f7f7f; text-decoration-color: #7f7f7f\">:</span><a href=\"file:///home/morten/.conda/envs/packing-report/lib/python3.10/site-packages/soccerdata/whoscored.py#584\" target=\"_blank\"><span style=\"color: #7f7f7f; text-decoration-color: #7f7f7f\">584</span></a>\n",
       "</pre>\n"
      ],
      "text/plain": [
       "\u001b[2;36m                   \u001b[0m\u001b[2;36m \u001b[0m\u001b[34mINFO    \u001b[0m \u001b[1m[\u001b[0m\u001b[1;36m194\u001b[0m/\u001b[1;36m380\u001b[0m\u001b[1m]\u001b[0m Retrieving game with \u001b[33mid\u001b[0m=\u001b[1;36m1549696\u001b[0m                             \u001b]8;id=102468;file:///home/morten/.conda/envs/packing-report/lib/python3.10/site-packages/soccerdata/whoscored.py\u001b\\\u001b[2mwhoscored.py\u001b[0m\u001b]8;;\u001b\\\u001b[2m:\u001b[0m\u001b]8;id=977606;file:///home/morten/.conda/envs/packing-report/lib/python3.10/site-packages/soccerdata/whoscored.py#584\u001b\\\u001b[2m584\u001b[0m\u001b]8;;\u001b\\\n"
      ]
     },
     "metadata": {},
     "output_type": "display_data"
    },
    {
     "data": {
      "text/html": [
       "<pre style=\"white-space:pre;overflow-x:auto;line-height:normal;font-family:Menlo,'DejaVu Sans Mono',consolas,'Courier New',monospace\"><span style=\"color: #7fbfbf; text-decoration-color: #7fbfbf\">                    </span><span style=\"color: #000080; text-decoration-color: #000080\">INFO    </span> <span style=\"font-weight: bold\">[</span><span style=\"color: #008080; text-decoration-color: #008080; font-weight: bold\">195</span>/<span style=\"color: #008080; text-decoration-color: #008080; font-weight: bold\">380</span><span style=\"font-weight: bold\">]</span> Retrieving game with <span style=\"color: #808000; text-decoration-color: #808000\">id</span>=<span style=\"color: #008080; text-decoration-color: #008080; font-weight: bold\">1549546</span>                             <a href=\"file:///home/morten/.conda/envs/packing-report/lib/python3.10/site-packages/soccerdata/whoscored.py\" target=\"_blank\"><span style=\"color: #7f7f7f; text-decoration-color: #7f7f7f\">whoscored.py</span></a><span style=\"color: #7f7f7f; text-decoration-color: #7f7f7f\">:</span><a href=\"file:///home/morten/.conda/envs/packing-report/lib/python3.10/site-packages/soccerdata/whoscored.py#584\" target=\"_blank\"><span style=\"color: #7f7f7f; text-decoration-color: #7f7f7f\">584</span></a>\n",
       "</pre>\n"
      ],
      "text/plain": [
       "\u001b[2;36m                   \u001b[0m\u001b[2;36m \u001b[0m\u001b[34mINFO    \u001b[0m \u001b[1m[\u001b[0m\u001b[1;36m195\u001b[0m/\u001b[1;36m380\u001b[0m\u001b[1m]\u001b[0m Retrieving game with \u001b[33mid\u001b[0m=\u001b[1;36m1549546\u001b[0m                             \u001b]8;id=905888;file:///home/morten/.conda/envs/packing-report/lib/python3.10/site-packages/soccerdata/whoscored.py\u001b\\\u001b[2mwhoscored.py\u001b[0m\u001b]8;;\u001b\\\u001b[2m:\u001b[0m\u001b]8;id=348299;file:///home/morten/.conda/envs/packing-report/lib/python3.10/site-packages/soccerdata/whoscored.py#584\u001b\\\u001b[2m584\u001b[0m\u001b]8;;\u001b\\\n"
      ]
     },
     "metadata": {},
     "output_type": "display_data"
    },
    {
     "data": {
      "text/html": [
       "<pre style=\"white-space:pre;overflow-x:auto;line-height:normal;font-family:Menlo,'DejaVu Sans Mono',consolas,'Courier New',monospace\"><span style=\"color: #7fbfbf; text-decoration-color: #7fbfbf\">                    </span><span style=\"color: #000080; text-decoration-color: #000080\">INFO    </span> <span style=\"font-weight: bold\">[</span><span style=\"color: #008080; text-decoration-color: #008080; font-weight: bold\">196</span>/<span style=\"color: #008080; text-decoration-color: #008080; font-weight: bold\">380</span><span style=\"font-weight: bold\">]</span> Retrieving game with <span style=\"color: #808000; text-decoration-color: #808000\">id</span>=<span style=\"color: #008080; text-decoration-color: #008080; font-weight: bold\">1549725</span>                             <a href=\"file:///home/morten/.conda/envs/packing-report/lib/python3.10/site-packages/soccerdata/whoscored.py\" target=\"_blank\"><span style=\"color: #7f7f7f; text-decoration-color: #7f7f7f\">whoscored.py</span></a><span style=\"color: #7f7f7f; text-decoration-color: #7f7f7f\">:</span><a href=\"file:///home/morten/.conda/envs/packing-report/lib/python3.10/site-packages/soccerdata/whoscored.py#584\" target=\"_blank\"><span style=\"color: #7f7f7f; text-decoration-color: #7f7f7f\">584</span></a>\n",
       "</pre>\n"
      ],
      "text/plain": [
       "\u001b[2;36m                   \u001b[0m\u001b[2;36m \u001b[0m\u001b[34mINFO    \u001b[0m \u001b[1m[\u001b[0m\u001b[1;36m196\u001b[0m/\u001b[1;36m380\u001b[0m\u001b[1m]\u001b[0m Retrieving game with \u001b[33mid\u001b[0m=\u001b[1;36m1549725\u001b[0m                             \u001b]8;id=231883;file:///home/morten/.conda/envs/packing-report/lib/python3.10/site-packages/soccerdata/whoscored.py\u001b\\\u001b[2mwhoscored.py\u001b[0m\u001b]8;;\u001b\\\u001b[2m:\u001b[0m\u001b]8;id=49438;file:///home/morten/.conda/envs/packing-report/lib/python3.10/site-packages/soccerdata/whoscored.py#584\u001b\\\u001b[2m584\u001b[0m\u001b]8;;\u001b\\\n"
      ]
     },
     "metadata": {},
     "output_type": "display_data"
    },
    {
     "data": {
      "text/html": [
       "<pre style=\"white-space:pre;overflow-x:auto;line-height:normal;font-family:Menlo,'DejaVu Sans Mono',consolas,'Courier New',monospace\"><span style=\"color: #7fbfbf; text-decoration-color: #7fbfbf\">                    </span><span style=\"color: #000080; text-decoration-color: #000080\">INFO    </span> <span style=\"font-weight: bold\">[</span><span style=\"color: #008080; text-decoration-color: #008080; font-weight: bold\">197</span>/<span style=\"color: #008080; text-decoration-color: #008080; font-weight: bold\">380</span><span style=\"font-weight: bold\">]</span> Retrieving game with <span style=\"color: #808000; text-decoration-color: #808000\">id</span>=<span style=\"color: #008080; text-decoration-color: #008080; font-weight: bold\">1549803</span>                             <a href=\"file:///home/morten/.conda/envs/packing-report/lib/python3.10/site-packages/soccerdata/whoscored.py\" target=\"_blank\"><span style=\"color: #7f7f7f; text-decoration-color: #7f7f7f\">whoscored.py</span></a><span style=\"color: #7f7f7f; text-decoration-color: #7f7f7f\">:</span><a href=\"file:///home/morten/.conda/envs/packing-report/lib/python3.10/site-packages/soccerdata/whoscored.py#584\" target=\"_blank\"><span style=\"color: #7f7f7f; text-decoration-color: #7f7f7f\">584</span></a>\n",
       "</pre>\n"
      ],
      "text/plain": [
       "\u001b[2;36m                   \u001b[0m\u001b[2;36m \u001b[0m\u001b[34mINFO    \u001b[0m \u001b[1m[\u001b[0m\u001b[1;36m197\u001b[0m/\u001b[1;36m380\u001b[0m\u001b[1m]\u001b[0m Retrieving game with \u001b[33mid\u001b[0m=\u001b[1;36m1549803\u001b[0m                             \u001b]8;id=402949;file:///home/morten/.conda/envs/packing-report/lib/python3.10/site-packages/soccerdata/whoscored.py\u001b\\\u001b[2mwhoscored.py\u001b[0m\u001b]8;;\u001b\\\u001b[2m:\u001b[0m\u001b]8;id=752169;file:///home/morten/.conda/envs/packing-report/lib/python3.10/site-packages/soccerdata/whoscored.py#584\u001b\\\u001b[2m584\u001b[0m\u001b]8;;\u001b\\\n"
      ]
     },
     "metadata": {},
     "output_type": "display_data"
    },
    {
     "data": {
      "text/html": [
       "<pre style=\"white-space:pre;overflow-x:auto;line-height:normal;font-family:Menlo,'DejaVu Sans Mono',consolas,'Courier New',monospace\"><span style=\"color: #7fbfbf; text-decoration-color: #7fbfbf\">                    </span><span style=\"color: #000080; text-decoration-color: #000080\">INFO    </span> <span style=\"font-weight: bold\">[</span><span style=\"color: #008080; text-decoration-color: #008080; font-weight: bold\">198</span>/<span style=\"color: #008080; text-decoration-color: #008080; font-weight: bold\">380</span><span style=\"font-weight: bold\">]</span> Retrieving game with <span style=\"color: #808000; text-decoration-color: #808000\">id</span>=<span style=\"color: #008080; text-decoration-color: #008080; font-weight: bold\">1549729</span>                             <a href=\"file:///home/morten/.conda/envs/packing-report/lib/python3.10/site-packages/soccerdata/whoscored.py\" target=\"_blank\"><span style=\"color: #7f7f7f; text-decoration-color: #7f7f7f\">whoscored.py</span></a><span style=\"color: #7f7f7f; text-decoration-color: #7f7f7f\">:</span><a href=\"file:///home/morten/.conda/envs/packing-report/lib/python3.10/site-packages/soccerdata/whoscored.py#584\" target=\"_blank\"><span style=\"color: #7f7f7f; text-decoration-color: #7f7f7f\">584</span></a>\n",
       "</pre>\n"
      ],
      "text/plain": [
       "\u001b[2;36m                   \u001b[0m\u001b[2;36m \u001b[0m\u001b[34mINFO    \u001b[0m \u001b[1m[\u001b[0m\u001b[1;36m198\u001b[0m/\u001b[1;36m380\u001b[0m\u001b[1m]\u001b[0m Retrieving game with \u001b[33mid\u001b[0m=\u001b[1;36m1549729\u001b[0m                             \u001b]8;id=860785;file:///home/morten/.conda/envs/packing-report/lib/python3.10/site-packages/soccerdata/whoscored.py\u001b\\\u001b[2mwhoscored.py\u001b[0m\u001b]8;;\u001b\\\u001b[2m:\u001b[0m\u001b]8;id=467105;file:///home/morten/.conda/envs/packing-report/lib/python3.10/site-packages/soccerdata/whoscored.py#584\u001b\\\u001b[2m584\u001b[0m\u001b]8;;\u001b\\\n"
      ]
     },
     "metadata": {},
     "output_type": "display_data"
    },
    {
     "data": {
      "text/html": [
       "<pre style=\"white-space:pre;overflow-x:auto;line-height:normal;font-family:Menlo,'DejaVu Sans Mono',consolas,'Courier New',monospace\"><span style=\"color: #7fbfbf; text-decoration-color: #7fbfbf\">                    </span><span style=\"color: #000080; text-decoration-color: #000080\">INFO    </span> <span style=\"font-weight: bold\">[</span><span style=\"color: #008080; text-decoration-color: #008080; font-weight: bold\">199</span>/<span style=\"color: #008080; text-decoration-color: #008080; font-weight: bold\">380</span><span style=\"font-weight: bold\">]</span> Retrieving game with <span style=\"color: #808000; text-decoration-color: #808000\">id</span>=<span style=\"color: #008080; text-decoration-color: #008080; font-weight: bold\">1549891</span>                             <a href=\"file:///home/morten/.conda/envs/packing-report/lib/python3.10/site-packages/soccerdata/whoscored.py\" target=\"_blank\"><span style=\"color: #7f7f7f; text-decoration-color: #7f7f7f\">whoscored.py</span></a><span style=\"color: #7f7f7f; text-decoration-color: #7f7f7f\">:</span><a href=\"file:///home/morten/.conda/envs/packing-report/lib/python3.10/site-packages/soccerdata/whoscored.py#584\" target=\"_blank\"><span style=\"color: #7f7f7f; text-decoration-color: #7f7f7f\">584</span></a>\n",
       "</pre>\n"
      ],
      "text/plain": [
       "\u001b[2;36m                   \u001b[0m\u001b[2;36m \u001b[0m\u001b[34mINFO    \u001b[0m \u001b[1m[\u001b[0m\u001b[1;36m199\u001b[0m/\u001b[1;36m380\u001b[0m\u001b[1m]\u001b[0m Retrieving game with \u001b[33mid\u001b[0m=\u001b[1;36m1549891\u001b[0m                             \u001b]8;id=882045;file:///home/morten/.conda/envs/packing-report/lib/python3.10/site-packages/soccerdata/whoscored.py\u001b\\\u001b[2mwhoscored.py\u001b[0m\u001b]8;;\u001b\\\u001b[2m:\u001b[0m\u001b]8;id=645547;file:///home/morten/.conda/envs/packing-report/lib/python3.10/site-packages/soccerdata/whoscored.py#584\u001b\\\u001b[2m584\u001b[0m\u001b]8;;\u001b\\\n"
      ]
     },
     "metadata": {},
     "output_type": "display_data"
    },
    {
     "data": {
      "text/html": [
       "<pre style=\"white-space:pre;overflow-x:auto;line-height:normal;font-family:Menlo,'DejaVu Sans Mono',consolas,'Courier New',monospace\"><span style=\"color: #7fbfbf; text-decoration-color: #7fbfbf\">                    </span><span style=\"color: #000080; text-decoration-color: #000080\">INFO    </span> <span style=\"font-weight: bold\">[</span><span style=\"color: #008080; text-decoration-color: #008080; font-weight: bold\">200</span>/<span style=\"color: #008080; text-decoration-color: #008080; font-weight: bold\">380</span><span style=\"font-weight: bold\">]</span> Retrieving game with <span style=\"color: #808000; text-decoration-color: #808000\">id</span>=<span style=\"color: #008080; text-decoration-color: #008080; font-weight: bold\">1549600</span>                             <a href=\"file:///home/morten/.conda/envs/packing-report/lib/python3.10/site-packages/soccerdata/whoscored.py\" target=\"_blank\"><span style=\"color: #7f7f7f; text-decoration-color: #7f7f7f\">whoscored.py</span></a><span style=\"color: #7f7f7f; text-decoration-color: #7f7f7f\">:</span><a href=\"file:///home/morten/.conda/envs/packing-report/lib/python3.10/site-packages/soccerdata/whoscored.py#584\" target=\"_blank\"><span style=\"color: #7f7f7f; text-decoration-color: #7f7f7f\">584</span></a>\n",
       "</pre>\n"
      ],
      "text/plain": [
       "\u001b[2;36m                   \u001b[0m\u001b[2;36m \u001b[0m\u001b[34mINFO    \u001b[0m \u001b[1m[\u001b[0m\u001b[1;36m200\u001b[0m/\u001b[1;36m380\u001b[0m\u001b[1m]\u001b[0m Retrieving game with \u001b[33mid\u001b[0m=\u001b[1;36m1549600\u001b[0m                             \u001b]8;id=693286;file:///home/morten/.conda/envs/packing-report/lib/python3.10/site-packages/soccerdata/whoscored.py\u001b\\\u001b[2mwhoscored.py\u001b[0m\u001b]8;;\u001b\\\u001b[2m:\u001b[0m\u001b]8;id=235820;file:///home/morten/.conda/envs/packing-report/lib/python3.10/site-packages/soccerdata/whoscored.py#584\u001b\\\u001b[2m584\u001b[0m\u001b]8;;\u001b\\\n"
      ]
     },
     "metadata": {},
     "output_type": "display_data"
    },
    {
     "data": {
      "text/html": [
       "<pre style=\"white-space:pre;overflow-x:auto;line-height:normal;font-family:Menlo,'DejaVu Sans Mono',consolas,'Courier New',monospace\"><span style=\"color: #7fbfbf; text-decoration-color: #7fbfbf\">                    </span><span style=\"color: #000080; text-decoration-color: #000080\">INFO    </span> <span style=\"font-weight: bold\">[</span><span style=\"color: #008080; text-decoration-color: #008080; font-weight: bold\">201</span>/<span style=\"color: #008080; text-decoration-color: #008080; font-weight: bold\">380</span><span style=\"font-weight: bold\">]</span> Retrieving game with <span style=\"color: #808000; text-decoration-color: #808000\">id</span>=<span style=\"color: #008080; text-decoration-color: #008080; font-weight: bold\">1549641</span>                             <a href=\"file:///home/morten/.conda/envs/packing-report/lib/python3.10/site-packages/soccerdata/whoscored.py\" target=\"_blank\"><span style=\"color: #7f7f7f; text-decoration-color: #7f7f7f\">whoscored.py</span></a><span style=\"color: #7f7f7f; text-decoration-color: #7f7f7f\">:</span><a href=\"file:///home/morten/.conda/envs/packing-report/lib/python3.10/site-packages/soccerdata/whoscored.py#584\" target=\"_blank\"><span style=\"color: #7f7f7f; text-decoration-color: #7f7f7f\">584</span></a>\n",
       "</pre>\n"
      ],
      "text/plain": [
       "\u001b[2;36m                   \u001b[0m\u001b[2;36m \u001b[0m\u001b[34mINFO    \u001b[0m \u001b[1m[\u001b[0m\u001b[1;36m201\u001b[0m/\u001b[1;36m380\u001b[0m\u001b[1m]\u001b[0m Retrieving game with \u001b[33mid\u001b[0m=\u001b[1;36m1549641\u001b[0m                             \u001b]8;id=671114;file:///home/morten/.conda/envs/packing-report/lib/python3.10/site-packages/soccerdata/whoscored.py\u001b\\\u001b[2mwhoscored.py\u001b[0m\u001b]8;;\u001b\\\u001b[2m:\u001b[0m\u001b]8;id=595238;file:///home/morten/.conda/envs/packing-report/lib/python3.10/site-packages/soccerdata/whoscored.py#584\u001b\\\u001b[2m584\u001b[0m\u001b]8;;\u001b\\\n"
      ]
     },
     "metadata": {},
     "output_type": "display_data"
    },
    {
     "data": {
      "text/html": [
       "<pre style=\"white-space:pre;overflow-x:auto;line-height:normal;font-family:Menlo,'DejaVu Sans Mono',consolas,'Courier New',monospace\"><span style=\"color: #7fbfbf; text-decoration-color: #7fbfbf\">                    </span><span style=\"color: #000080; text-decoration-color: #000080\">INFO    </span> <span style=\"font-weight: bold\">[</span><span style=\"color: #008080; text-decoration-color: #008080; font-weight: bold\">202</span>/<span style=\"color: #008080; text-decoration-color: #008080; font-weight: bold\">380</span><span style=\"font-weight: bold\">]</span> Retrieving game with <span style=\"color: #808000; text-decoration-color: #808000\">id</span>=<span style=\"color: #008080; text-decoration-color: #008080; font-weight: bold\">1549609</span>                             <a href=\"file:///home/morten/.conda/envs/packing-report/lib/python3.10/site-packages/soccerdata/whoscored.py\" target=\"_blank\"><span style=\"color: #7f7f7f; text-decoration-color: #7f7f7f\">whoscored.py</span></a><span style=\"color: #7f7f7f; text-decoration-color: #7f7f7f\">:</span><a href=\"file:///home/morten/.conda/envs/packing-report/lib/python3.10/site-packages/soccerdata/whoscored.py#584\" target=\"_blank\"><span style=\"color: #7f7f7f; text-decoration-color: #7f7f7f\">584</span></a>\n",
       "</pre>\n"
      ],
      "text/plain": [
       "\u001b[2;36m                   \u001b[0m\u001b[2;36m \u001b[0m\u001b[34mINFO    \u001b[0m \u001b[1m[\u001b[0m\u001b[1;36m202\u001b[0m/\u001b[1;36m380\u001b[0m\u001b[1m]\u001b[0m Retrieving game with \u001b[33mid\u001b[0m=\u001b[1;36m1549609\u001b[0m                             \u001b]8;id=956391;file:///home/morten/.conda/envs/packing-report/lib/python3.10/site-packages/soccerdata/whoscored.py\u001b\\\u001b[2mwhoscored.py\u001b[0m\u001b]8;;\u001b\\\u001b[2m:\u001b[0m\u001b]8;id=500514;file:///home/morten/.conda/envs/packing-report/lib/python3.10/site-packages/soccerdata/whoscored.py#584\u001b\\\u001b[2m584\u001b[0m\u001b]8;;\u001b\\\n"
      ]
     },
     "metadata": {},
     "output_type": "display_data"
    },
    {
     "data": {
      "text/html": [
       "<pre style=\"white-space:pre;overflow-x:auto;line-height:normal;font-family:Menlo,'DejaVu Sans Mono',consolas,'Courier New',monospace\"><span style=\"color: #7fbfbf; text-decoration-color: #7fbfbf\">                    </span><span style=\"color: #000080; text-decoration-color: #000080\">INFO    </span> <span style=\"font-weight: bold\">[</span><span style=\"color: #008080; text-decoration-color: #008080; font-weight: bold\">203</span>/<span style=\"color: #008080; text-decoration-color: #008080; font-weight: bold\">380</span><span style=\"font-weight: bold\">]</span> Retrieving game with <span style=\"color: #808000; text-decoration-color: #808000\">id</span>=<span style=\"color: #008080; text-decoration-color: #008080; font-weight: bold\">1549703</span>                             <a href=\"file:///home/morten/.conda/envs/packing-report/lib/python3.10/site-packages/soccerdata/whoscored.py\" target=\"_blank\"><span style=\"color: #7f7f7f; text-decoration-color: #7f7f7f\">whoscored.py</span></a><span style=\"color: #7f7f7f; text-decoration-color: #7f7f7f\">:</span><a href=\"file:///home/morten/.conda/envs/packing-report/lib/python3.10/site-packages/soccerdata/whoscored.py#584\" target=\"_blank\"><span style=\"color: #7f7f7f; text-decoration-color: #7f7f7f\">584</span></a>\n",
       "</pre>\n"
      ],
      "text/plain": [
       "\u001b[2;36m                   \u001b[0m\u001b[2;36m \u001b[0m\u001b[34mINFO    \u001b[0m \u001b[1m[\u001b[0m\u001b[1;36m203\u001b[0m/\u001b[1;36m380\u001b[0m\u001b[1m]\u001b[0m Retrieving game with \u001b[33mid\u001b[0m=\u001b[1;36m1549703\u001b[0m                             \u001b]8;id=92256;file:///home/morten/.conda/envs/packing-report/lib/python3.10/site-packages/soccerdata/whoscored.py\u001b\\\u001b[2mwhoscored.py\u001b[0m\u001b]8;;\u001b\\\u001b[2m:\u001b[0m\u001b]8;id=671328;file:///home/morten/.conda/envs/packing-report/lib/python3.10/site-packages/soccerdata/whoscored.py#584\u001b\\\u001b[2m584\u001b[0m\u001b]8;;\u001b\\\n"
      ]
     },
     "metadata": {},
     "output_type": "display_data"
    },
    {
     "data": {
      "text/html": [
       "<pre style=\"white-space:pre;overflow-x:auto;line-height:normal;font-family:Menlo,'DejaVu Sans Mono',consolas,'Courier New',monospace\"><span style=\"color: #7fbfbf; text-decoration-color: #7fbfbf\">                    </span><span style=\"color: #000080; text-decoration-color: #000080\">INFO    </span> <span style=\"font-weight: bold\">[</span><span style=\"color: #008080; text-decoration-color: #008080; font-weight: bold\">204</span>/<span style=\"color: #008080; text-decoration-color: #008080; font-weight: bold\">380</span><span style=\"font-weight: bold\">]</span> Retrieving game with <span style=\"color: #808000; text-decoration-color: #808000\">id</span>=<span style=\"color: #008080; text-decoration-color: #008080; font-weight: bold\">1549644</span>                             <a href=\"file:///home/morten/.conda/envs/packing-report/lib/python3.10/site-packages/soccerdata/whoscored.py\" target=\"_blank\"><span style=\"color: #7f7f7f; text-decoration-color: #7f7f7f\">whoscored.py</span></a><span style=\"color: #7f7f7f; text-decoration-color: #7f7f7f\">:</span><a href=\"file:///home/morten/.conda/envs/packing-report/lib/python3.10/site-packages/soccerdata/whoscored.py#584\" target=\"_blank\"><span style=\"color: #7f7f7f; text-decoration-color: #7f7f7f\">584</span></a>\n",
       "</pre>\n"
      ],
      "text/plain": [
       "\u001b[2;36m                   \u001b[0m\u001b[2;36m \u001b[0m\u001b[34mINFO    \u001b[0m \u001b[1m[\u001b[0m\u001b[1;36m204\u001b[0m/\u001b[1;36m380\u001b[0m\u001b[1m]\u001b[0m Retrieving game with \u001b[33mid\u001b[0m=\u001b[1;36m1549644\u001b[0m                             \u001b]8;id=776379;file:///home/morten/.conda/envs/packing-report/lib/python3.10/site-packages/soccerdata/whoscored.py\u001b\\\u001b[2mwhoscored.py\u001b[0m\u001b]8;;\u001b\\\u001b[2m:\u001b[0m\u001b]8;id=695828;file:///home/morten/.conda/envs/packing-report/lib/python3.10/site-packages/soccerdata/whoscored.py#584\u001b\\\u001b[2m584\u001b[0m\u001b]8;;\u001b\\\n"
      ]
     },
     "metadata": {},
     "output_type": "display_data"
    },
    {
     "data": {
      "text/html": [
       "<pre style=\"white-space:pre;overflow-x:auto;line-height:normal;font-family:Menlo,'DejaVu Sans Mono',consolas,'Courier New',monospace\"><span style=\"color: #7fbfbf; text-decoration-color: #7fbfbf\">[10/02/22 17:52:05] </span><span style=\"color: #000080; text-decoration-color: #000080\">INFO    </span> <span style=\"font-weight: bold\">[</span><span style=\"color: #008080; text-decoration-color: #008080; font-weight: bold\">205</span>/<span style=\"color: #008080; text-decoration-color: #008080; font-weight: bold\">380</span><span style=\"font-weight: bold\">]</span> Retrieving game with <span style=\"color: #808000; text-decoration-color: #808000\">id</span>=<span style=\"color: #008080; text-decoration-color: #008080; font-weight: bold\">1549667</span>                             <a href=\"file:///home/morten/.conda/envs/packing-report/lib/python3.10/site-packages/soccerdata/whoscored.py\" target=\"_blank\"><span style=\"color: #7f7f7f; text-decoration-color: #7f7f7f\">whoscored.py</span></a><span style=\"color: #7f7f7f; text-decoration-color: #7f7f7f\">:</span><a href=\"file:///home/morten/.conda/envs/packing-report/lib/python3.10/site-packages/soccerdata/whoscored.py#584\" target=\"_blank\"><span style=\"color: #7f7f7f; text-decoration-color: #7f7f7f\">584</span></a>\n",
       "</pre>\n"
      ],
      "text/plain": [
       "\u001b[2;36m[10/02/22 17:52:05]\u001b[0m\u001b[2;36m \u001b[0m\u001b[34mINFO    \u001b[0m \u001b[1m[\u001b[0m\u001b[1;36m205\u001b[0m/\u001b[1;36m380\u001b[0m\u001b[1m]\u001b[0m Retrieving game with \u001b[33mid\u001b[0m=\u001b[1;36m1549667\u001b[0m                             \u001b]8;id=534431;file:///home/morten/.conda/envs/packing-report/lib/python3.10/site-packages/soccerdata/whoscored.py\u001b\\\u001b[2mwhoscored.py\u001b[0m\u001b]8;;\u001b\\\u001b[2m:\u001b[0m\u001b]8;id=321889;file:///home/morten/.conda/envs/packing-report/lib/python3.10/site-packages/soccerdata/whoscored.py#584\u001b\\\u001b[2m584\u001b[0m\u001b]8;;\u001b\\\n"
      ]
     },
     "metadata": {},
     "output_type": "display_data"
    },
    {
     "data": {
      "text/html": [
       "<pre style=\"white-space:pre;overflow-x:auto;line-height:normal;font-family:Menlo,'DejaVu Sans Mono',consolas,'Courier New',monospace\"><span style=\"color: #7fbfbf; text-decoration-color: #7fbfbf\">                    </span><span style=\"color: #000080; text-decoration-color: #000080\">INFO    </span> <span style=\"font-weight: bold\">[</span><span style=\"color: #008080; text-decoration-color: #008080; font-weight: bold\">206</span>/<span style=\"color: #008080; text-decoration-color: #008080; font-weight: bold\">380</span><span style=\"font-weight: bold\">]</span> Retrieving game with <span style=\"color: #808000; text-decoration-color: #808000\">id</span>=<span style=\"color: #008080; text-decoration-color: #008080; font-weight: bold\">1549541</span>                             <a href=\"file:///home/morten/.conda/envs/packing-report/lib/python3.10/site-packages/soccerdata/whoscored.py\" target=\"_blank\"><span style=\"color: #7f7f7f; text-decoration-color: #7f7f7f\">whoscored.py</span></a><span style=\"color: #7f7f7f; text-decoration-color: #7f7f7f\">:</span><a href=\"file:///home/morten/.conda/envs/packing-report/lib/python3.10/site-packages/soccerdata/whoscored.py#584\" target=\"_blank\"><span style=\"color: #7f7f7f; text-decoration-color: #7f7f7f\">584</span></a>\n",
       "</pre>\n"
      ],
      "text/plain": [
       "\u001b[2;36m                   \u001b[0m\u001b[2;36m \u001b[0m\u001b[34mINFO    \u001b[0m \u001b[1m[\u001b[0m\u001b[1;36m206\u001b[0m/\u001b[1;36m380\u001b[0m\u001b[1m]\u001b[0m Retrieving game with \u001b[33mid\u001b[0m=\u001b[1;36m1549541\u001b[0m                             \u001b]8;id=882209;file:///home/morten/.conda/envs/packing-report/lib/python3.10/site-packages/soccerdata/whoscored.py\u001b\\\u001b[2mwhoscored.py\u001b[0m\u001b]8;;\u001b\\\u001b[2m:\u001b[0m\u001b]8;id=334742;file:///home/morten/.conda/envs/packing-report/lib/python3.10/site-packages/soccerdata/whoscored.py#584\u001b\\\u001b[2m584\u001b[0m\u001b]8;;\u001b\\\n"
      ]
     },
     "metadata": {},
     "output_type": "display_data"
    },
    {
     "data": {
      "text/html": [
       "<pre style=\"white-space:pre;overflow-x:auto;line-height:normal;font-family:Menlo,'DejaVu Sans Mono',consolas,'Courier New',monospace\"><span style=\"color: #7fbfbf; text-decoration-color: #7fbfbf\">                    </span><span style=\"color: #000080; text-decoration-color: #000080\">INFO    </span> <span style=\"font-weight: bold\">[</span><span style=\"color: #008080; text-decoration-color: #008080; font-weight: bold\">207</span>/<span style=\"color: #008080; text-decoration-color: #008080; font-weight: bold\">380</span><span style=\"font-weight: bold\">]</span> Retrieving game with <span style=\"color: #808000; text-decoration-color: #808000\">id</span>=<span style=\"color: #008080; text-decoration-color: #008080; font-weight: bold\">1549844</span>                             <a href=\"file:///home/morten/.conda/envs/packing-report/lib/python3.10/site-packages/soccerdata/whoscored.py\" target=\"_blank\"><span style=\"color: #7f7f7f; text-decoration-color: #7f7f7f\">whoscored.py</span></a><span style=\"color: #7f7f7f; text-decoration-color: #7f7f7f\">:</span><a href=\"file:///home/morten/.conda/envs/packing-report/lib/python3.10/site-packages/soccerdata/whoscored.py#584\" target=\"_blank\"><span style=\"color: #7f7f7f; text-decoration-color: #7f7f7f\">584</span></a>\n",
       "</pre>\n"
      ],
      "text/plain": [
       "\u001b[2;36m                   \u001b[0m\u001b[2;36m \u001b[0m\u001b[34mINFO    \u001b[0m \u001b[1m[\u001b[0m\u001b[1;36m207\u001b[0m/\u001b[1;36m380\u001b[0m\u001b[1m]\u001b[0m Retrieving game with \u001b[33mid\u001b[0m=\u001b[1;36m1549844\u001b[0m                             \u001b]8;id=845782;file:///home/morten/.conda/envs/packing-report/lib/python3.10/site-packages/soccerdata/whoscored.py\u001b\\\u001b[2mwhoscored.py\u001b[0m\u001b]8;;\u001b\\\u001b[2m:\u001b[0m\u001b]8;id=469497;file:///home/morten/.conda/envs/packing-report/lib/python3.10/site-packages/soccerdata/whoscored.py#584\u001b\\\u001b[2m584\u001b[0m\u001b]8;;\u001b\\\n"
      ]
     },
     "metadata": {},
     "output_type": "display_data"
    },
    {
     "data": {
      "text/html": [
       "<pre style=\"white-space:pre;overflow-x:auto;line-height:normal;font-family:Menlo,'DejaVu Sans Mono',consolas,'Courier New',monospace\"><span style=\"color: #7fbfbf; text-decoration-color: #7fbfbf\">                    </span><span style=\"color: #000080; text-decoration-color: #000080\">INFO    </span> <span style=\"font-weight: bold\">[</span><span style=\"color: #008080; text-decoration-color: #008080; font-weight: bold\">208</span>/<span style=\"color: #008080; text-decoration-color: #008080; font-weight: bold\">380</span><span style=\"font-weight: bold\">]</span> Retrieving game with <span style=\"color: #808000; text-decoration-color: #808000\">id</span>=<span style=\"color: #008080; text-decoration-color: #008080; font-weight: bold\">1549810</span>                             <a href=\"file:///home/morten/.conda/envs/packing-report/lib/python3.10/site-packages/soccerdata/whoscored.py\" target=\"_blank\"><span style=\"color: #7f7f7f; text-decoration-color: #7f7f7f\">whoscored.py</span></a><span style=\"color: #7f7f7f; text-decoration-color: #7f7f7f\">:</span><a href=\"file:///home/morten/.conda/envs/packing-report/lib/python3.10/site-packages/soccerdata/whoscored.py#584\" target=\"_blank\"><span style=\"color: #7f7f7f; text-decoration-color: #7f7f7f\">584</span></a>\n",
       "</pre>\n"
      ],
      "text/plain": [
       "\u001b[2;36m                   \u001b[0m\u001b[2;36m \u001b[0m\u001b[34mINFO    \u001b[0m \u001b[1m[\u001b[0m\u001b[1;36m208\u001b[0m/\u001b[1;36m380\u001b[0m\u001b[1m]\u001b[0m Retrieving game with \u001b[33mid\u001b[0m=\u001b[1;36m1549810\u001b[0m                             \u001b]8;id=387270;file:///home/morten/.conda/envs/packing-report/lib/python3.10/site-packages/soccerdata/whoscored.py\u001b\\\u001b[2mwhoscored.py\u001b[0m\u001b]8;;\u001b\\\u001b[2m:\u001b[0m\u001b]8;id=883797;file:///home/morten/.conda/envs/packing-report/lib/python3.10/site-packages/soccerdata/whoscored.py#584\u001b\\\u001b[2m584\u001b[0m\u001b]8;;\u001b\\\n"
      ]
     },
     "metadata": {},
     "output_type": "display_data"
    },
    {
     "data": {
      "text/html": [
       "<pre style=\"white-space:pre;overflow-x:auto;line-height:normal;font-family:Menlo,'DejaVu Sans Mono',consolas,'Courier New',monospace\"><span style=\"color: #7fbfbf; text-decoration-color: #7fbfbf\">                    </span><span style=\"color: #000080; text-decoration-color: #000080\">INFO    </span> <span style=\"font-weight: bold\">[</span><span style=\"color: #008080; text-decoration-color: #008080; font-weight: bold\">209</span>/<span style=\"color: #008080; text-decoration-color: #008080; font-weight: bold\">380</span><span style=\"font-weight: bold\">]</span> Retrieving game with <span style=\"color: #808000; text-decoration-color: #808000\">id</span>=<span style=\"color: #008080; text-decoration-color: #008080; font-weight: bold\">1549623</span>                             <a href=\"file:///home/morten/.conda/envs/packing-report/lib/python3.10/site-packages/soccerdata/whoscored.py\" target=\"_blank\"><span style=\"color: #7f7f7f; text-decoration-color: #7f7f7f\">whoscored.py</span></a><span style=\"color: #7f7f7f; text-decoration-color: #7f7f7f\">:</span><a href=\"file:///home/morten/.conda/envs/packing-report/lib/python3.10/site-packages/soccerdata/whoscored.py#584\" target=\"_blank\"><span style=\"color: #7f7f7f; text-decoration-color: #7f7f7f\">584</span></a>\n",
       "</pre>\n"
      ],
      "text/plain": [
       "\u001b[2;36m                   \u001b[0m\u001b[2;36m \u001b[0m\u001b[34mINFO    \u001b[0m \u001b[1m[\u001b[0m\u001b[1;36m209\u001b[0m/\u001b[1;36m380\u001b[0m\u001b[1m]\u001b[0m Retrieving game with \u001b[33mid\u001b[0m=\u001b[1;36m1549623\u001b[0m                             \u001b]8;id=499221;file:///home/morten/.conda/envs/packing-report/lib/python3.10/site-packages/soccerdata/whoscored.py\u001b\\\u001b[2mwhoscored.py\u001b[0m\u001b]8;;\u001b\\\u001b[2m:\u001b[0m\u001b]8;id=511898;file:///home/morten/.conda/envs/packing-report/lib/python3.10/site-packages/soccerdata/whoscored.py#584\u001b\\\u001b[2m584\u001b[0m\u001b]8;;\u001b\\\n"
      ]
     },
     "metadata": {},
     "output_type": "display_data"
    },
    {
     "data": {
      "text/html": [
       "<pre style=\"white-space:pre;overflow-x:auto;line-height:normal;font-family:Menlo,'DejaVu Sans Mono',consolas,'Courier New',monospace\"><span style=\"color: #7fbfbf; text-decoration-color: #7fbfbf\">                    </span><span style=\"color: #000080; text-decoration-color: #000080\">INFO    </span> <span style=\"font-weight: bold\">[</span><span style=\"color: #008080; text-decoration-color: #008080; font-weight: bold\">210</span>/<span style=\"color: #008080; text-decoration-color: #008080; font-weight: bold\">380</span><span style=\"font-weight: bold\">]</span> Retrieving game with <span style=\"color: #808000; text-decoration-color: #808000\">id</span>=<span style=\"color: #008080; text-decoration-color: #008080; font-weight: bold\">1549783</span>                             <a href=\"file:///home/morten/.conda/envs/packing-report/lib/python3.10/site-packages/soccerdata/whoscored.py\" target=\"_blank\"><span style=\"color: #7f7f7f; text-decoration-color: #7f7f7f\">whoscored.py</span></a><span style=\"color: #7f7f7f; text-decoration-color: #7f7f7f\">:</span><a href=\"file:///home/morten/.conda/envs/packing-report/lib/python3.10/site-packages/soccerdata/whoscored.py#584\" target=\"_blank\"><span style=\"color: #7f7f7f; text-decoration-color: #7f7f7f\">584</span></a>\n",
       "</pre>\n"
      ],
      "text/plain": [
       "\u001b[2;36m                   \u001b[0m\u001b[2;36m \u001b[0m\u001b[34mINFO    \u001b[0m \u001b[1m[\u001b[0m\u001b[1;36m210\u001b[0m/\u001b[1;36m380\u001b[0m\u001b[1m]\u001b[0m Retrieving game with \u001b[33mid\u001b[0m=\u001b[1;36m1549783\u001b[0m                             \u001b]8;id=652298;file:///home/morten/.conda/envs/packing-report/lib/python3.10/site-packages/soccerdata/whoscored.py\u001b\\\u001b[2mwhoscored.py\u001b[0m\u001b]8;;\u001b\\\u001b[2m:\u001b[0m\u001b]8;id=678894;file:///home/morten/.conda/envs/packing-report/lib/python3.10/site-packages/soccerdata/whoscored.py#584\u001b\\\u001b[2m584\u001b[0m\u001b]8;;\u001b\\\n"
      ]
     },
     "metadata": {},
     "output_type": "display_data"
    },
    {
     "data": {
      "text/html": [
       "<pre style=\"white-space:pre;overflow-x:auto;line-height:normal;font-family:Menlo,'DejaVu Sans Mono',consolas,'Courier New',monospace\"><span style=\"color: #7fbfbf; text-decoration-color: #7fbfbf\">                    </span><span style=\"color: #000080; text-decoration-color: #000080\">INFO    </span> <span style=\"font-weight: bold\">[</span><span style=\"color: #008080; text-decoration-color: #008080; font-weight: bold\">211</span>/<span style=\"color: #008080; text-decoration-color: #008080; font-weight: bold\">380</span><span style=\"font-weight: bold\">]</span> Retrieving game with <span style=\"color: #808000; text-decoration-color: #808000\">id</span>=<span style=\"color: #008080; text-decoration-color: #008080; font-weight: bold\">1549651</span>                             <a href=\"file:///home/morten/.conda/envs/packing-report/lib/python3.10/site-packages/soccerdata/whoscored.py\" target=\"_blank\"><span style=\"color: #7f7f7f; text-decoration-color: #7f7f7f\">whoscored.py</span></a><span style=\"color: #7f7f7f; text-decoration-color: #7f7f7f\">:</span><a href=\"file:///home/morten/.conda/envs/packing-report/lib/python3.10/site-packages/soccerdata/whoscored.py#584\" target=\"_blank\"><span style=\"color: #7f7f7f; text-decoration-color: #7f7f7f\">584</span></a>\n",
       "</pre>\n"
      ],
      "text/plain": [
       "\u001b[2;36m                   \u001b[0m\u001b[2;36m \u001b[0m\u001b[34mINFO    \u001b[0m \u001b[1m[\u001b[0m\u001b[1;36m211\u001b[0m/\u001b[1;36m380\u001b[0m\u001b[1m]\u001b[0m Retrieving game with \u001b[33mid\u001b[0m=\u001b[1;36m1549651\u001b[0m                             \u001b]8;id=639996;file:///home/morten/.conda/envs/packing-report/lib/python3.10/site-packages/soccerdata/whoscored.py\u001b\\\u001b[2mwhoscored.py\u001b[0m\u001b]8;;\u001b\\\u001b[2m:\u001b[0m\u001b]8;id=418673;file:///home/morten/.conda/envs/packing-report/lib/python3.10/site-packages/soccerdata/whoscored.py#584\u001b\\\u001b[2m584\u001b[0m\u001b]8;;\u001b\\\n"
      ]
     },
     "metadata": {},
     "output_type": "display_data"
    },
    {
     "data": {
      "text/html": [
       "<pre style=\"white-space:pre;overflow-x:auto;line-height:normal;font-family:Menlo,'DejaVu Sans Mono',consolas,'Courier New',monospace\"><span style=\"color: #7fbfbf; text-decoration-color: #7fbfbf\">                    </span><span style=\"color: #000080; text-decoration-color: #000080\">INFO    </span> <span style=\"font-weight: bold\">[</span><span style=\"color: #008080; text-decoration-color: #008080; font-weight: bold\">212</span>/<span style=\"color: #008080; text-decoration-color: #008080; font-weight: bold\">380</span><span style=\"font-weight: bold\">]</span> Retrieving game with <span style=\"color: #808000; text-decoration-color: #808000\">id</span>=<span style=\"color: #008080; text-decoration-color: #008080; font-weight: bold\">1549670</span>                             <a href=\"file:///home/morten/.conda/envs/packing-report/lib/python3.10/site-packages/soccerdata/whoscored.py\" target=\"_blank\"><span style=\"color: #7f7f7f; text-decoration-color: #7f7f7f\">whoscored.py</span></a><span style=\"color: #7f7f7f; text-decoration-color: #7f7f7f\">:</span><a href=\"file:///home/morten/.conda/envs/packing-report/lib/python3.10/site-packages/soccerdata/whoscored.py#584\" target=\"_blank\"><span style=\"color: #7f7f7f; text-decoration-color: #7f7f7f\">584</span></a>\n",
       "</pre>\n"
      ],
      "text/plain": [
       "\u001b[2;36m                   \u001b[0m\u001b[2;36m \u001b[0m\u001b[34mINFO    \u001b[0m \u001b[1m[\u001b[0m\u001b[1;36m212\u001b[0m/\u001b[1;36m380\u001b[0m\u001b[1m]\u001b[0m Retrieving game with \u001b[33mid\u001b[0m=\u001b[1;36m1549670\u001b[0m                             \u001b]8;id=203590;file:///home/morten/.conda/envs/packing-report/lib/python3.10/site-packages/soccerdata/whoscored.py\u001b\\\u001b[2mwhoscored.py\u001b[0m\u001b]8;;\u001b\\\u001b[2m:\u001b[0m\u001b]8;id=783956;file:///home/morten/.conda/envs/packing-report/lib/python3.10/site-packages/soccerdata/whoscored.py#584\u001b\\\u001b[2m584\u001b[0m\u001b]8;;\u001b\\\n"
      ]
     },
     "metadata": {},
     "output_type": "display_data"
    },
    {
     "data": {
      "text/html": [
       "<pre style=\"white-space:pre;overflow-x:auto;line-height:normal;font-family:Menlo,'DejaVu Sans Mono',consolas,'Courier New',monospace\"><span style=\"color: #7fbfbf; text-decoration-color: #7fbfbf\">                    </span><span style=\"color: #000080; text-decoration-color: #000080\">INFO    </span> <span style=\"font-weight: bold\">[</span><span style=\"color: #008080; text-decoration-color: #008080; font-weight: bold\">213</span>/<span style=\"color: #008080; text-decoration-color: #008080; font-weight: bold\">380</span><span style=\"font-weight: bold\">]</span> Retrieving game with <span style=\"color: #808000; text-decoration-color: #808000\">id</span>=<span style=\"color: #008080; text-decoration-color: #008080; font-weight: bold\">1549794</span>                             <a href=\"file:///home/morten/.conda/envs/packing-report/lib/python3.10/site-packages/soccerdata/whoscored.py\" target=\"_blank\"><span style=\"color: #7f7f7f; text-decoration-color: #7f7f7f\">whoscored.py</span></a><span style=\"color: #7f7f7f; text-decoration-color: #7f7f7f\">:</span><a href=\"file:///home/morten/.conda/envs/packing-report/lib/python3.10/site-packages/soccerdata/whoscored.py#584\" target=\"_blank\"><span style=\"color: #7f7f7f; text-decoration-color: #7f7f7f\">584</span></a>\n",
       "</pre>\n"
      ],
      "text/plain": [
       "\u001b[2;36m                   \u001b[0m\u001b[2;36m \u001b[0m\u001b[34mINFO    \u001b[0m \u001b[1m[\u001b[0m\u001b[1;36m213\u001b[0m/\u001b[1;36m380\u001b[0m\u001b[1m]\u001b[0m Retrieving game with \u001b[33mid\u001b[0m=\u001b[1;36m1549794\u001b[0m                             \u001b]8;id=843919;file:///home/morten/.conda/envs/packing-report/lib/python3.10/site-packages/soccerdata/whoscored.py\u001b\\\u001b[2mwhoscored.py\u001b[0m\u001b]8;;\u001b\\\u001b[2m:\u001b[0m\u001b]8;id=504466;file:///home/morten/.conda/envs/packing-report/lib/python3.10/site-packages/soccerdata/whoscored.py#584\u001b\\\u001b[2m584\u001b[0m\u001b]8;;\u001b\\\n"
      ]
     },
     "metadata": {},
     "output_type": "display_data"
    },
    {
     "data": {
      "text/html": [
       "<pre style=\"white-space:pre;overflow-x:auto;line-height:normal;font-family:Menlo,'DejaVu Sans Mono',consolas,'Courier New',monospace\"><span style=\"color: #7fbfbf; text-decoration-color: #7fbfbf\">                    </span><span style=\"color: #000080; text-decoration-color: #000080\">INFO    </span> <span style=\"font-weight: bold\">[</span><span style=\"color: #008080; text-decoration-color: #008080; font-weight: bold\">214</span>/<span style=\"color: #008080; text-decoration-color: #008080; font-weight: bold\">380</span><span style=\"font-weight: bold\">]</span> Retrieving game with <span style=\"color: #808000; text-decoration-color: #808000\">id</span>=<span style=\"color: #008080; text-decoration-color: #008080; font-weight: bold\">1549697</span>                             <a href=\"file:///home/morten/.conda/envs/packing-report/lib/python3.10/site-packages/soccerdata/whoscored.py\" target=\"_blank\"><span style=\"color: #7f7f7f; text-decoration-color: #7f7f7f\">whoscored.py</span></a><span style=\"color: #7f7f7f; text-decoration-color: #7f7f7f\">:</span><a href=\"file:///home/morten/.conda/envs/packing-report/lib/python3.10/site-packages/soccerdata/whoscored.py#584\" target=\"_blank\"><span style=\"color: #7f7f7f; text-decoration-color: #7f7f7f\">584</span></a>\n",
       "</pre>\n"
      ],
      "text/plain": [
       "\u001b[2;36m                   \u001b[0m\u001b[2;36m \u001b[0m\u001b[34mINFO    \u001b[0m \u001b[1m[\u001b[0m\u001b[1;36m214\u001b[0m/\u001b[1;36m380\u001b[0m\u001b[1m]\u001b[0m Retrieving game with \u001b[33mid\u001b[0m=\u001b[1;36m1549697\u001b[0m                             \u001b]8;id=891864;file:///home/morten/.conda/envs/packing-report/lib/python3.10/site-packages/soccerdata/whoscored.py\u001b\\\u001b[2mwhoscored.py\u001b[0m\u001b]8;;\u001b\\\u001b[2m:\u001b[0m\u001b]8;id=829570;file:///home/morten/.conda/envs/packing-report/lib/python3.10/site-packages/soccerdata/whoscored.py#584\u001b\\\u001b[2m584\u001b[0m\u001b]8;;\u001b\\\n"
      ]
     },
     "metadata": {},
     "output_type": "display_data"
    },
    {
     "data": {
      "text/html": [
       "<pre style=\"white-space:pre;overflow-x:auto;line-height:normal;font-family:Menlo,'DejaVu Sans Mono',consolas,'Courier New',monospace\"><span style=\"color: #7fbfbf; text-decoration-color: #7fbfbf\">                    </span><span style=\"color: #000080; text-decoration-color: #000080\">INFO    </span> <span style=\"font-weight: bold\">[</span><span style=\"color: #008080; text-decoration-color: #008080; font-weight: bold\">215</span>/<span style=\"color: #008080; text-decoration-color: #008080; font-weight: bold\">380</span><span style=\"font-weight: bold\">]</span> Retrieving game with <span style=\"color: #808000; text-decoration-color: #808000\">id</span>=<span style=\"color: #008080; text-decoration-color: #008080; font-weight: bold\">1549759</span>                             <a href=\"file:///home/morten/.conda/envs/packing-report/lib/python3.10/site-packages/soccerdata/whoscored.py\" target=\"_blank\"><span style=\"color: #7f7f7f; text-decoration-color: #7f7f7f\">whoscored.py</span></a><span style=\"color: #7f7f7f; text-decoration-color: #7f7f7f\">:</span><a href=\"file:///home/morten/.conda/envs/packing-report/lib/python3.10/site-packages/soccerdata/whoscored.py#584\" target=\"_blank\"><span style=\"color: #7f7f7f; text-decoration-color: #7f7f7f\">584</span></a>\n",
       "</pre>\n"
      ],
      "text/plain": [
       "\u001b[2;36m                   \u001b[0m\u001b[2;36m \u001b[0m\u001b[34mINFO    \u001b[0m \u001b[1m[\u001b[0m\u001b[1;36m215\u001b[0m/\u001b[1;36m380\u001b[0m\u001b[1m]\u001b[0m Retrieving game with \u001b[33mid\u001b[0m=\u001b[1;36m1549759\u001b[0m                             \u001b]8;id=547588;file:///home/morten/.conda/envs/packing-report/lib/python3.10/site-packages/soccerdata/whoscored.py\u001b\\\u001b[2mwhoscored.py\u001b[0m\u001b]8;;\u001b\\\u001b[2m:\u001b[0m\u001b]8;id=301769;file:///home/morten/.conda/envs/packing-report/lib/python3.10/site-packages/soccerdata/whoscored.py#584\u001b\\\u001b[2m584\u001b[0m\u001b]8;;\u001b\\\n"
      ]
     },
     "metadata": {},
     "output_type": "display_data"
    },
    {
     "data": {
      "text/html": [
       "<pre style=\"white-space:pre;overflow-x:auto;line-height:normal;font-family:Menlo,'DejaVu Sans Mono',consolas,'Courier New',monospace\"><span style=\"color: #7fbfbf; text-decoration-color: #7fbfbf\">                    </span><span style=\"color: #000080; text-decoration-color: #000080\">INFO    </span> <span style=\"font-weight: bold\">[</span><span style=\"color: #008080; text-decoration-color: #008080; font-weight: bold\">216</span>/<span style=\"color: #008080; text-decoration-color: #008080; font-weight: bold\">380</span><span style=\"font-weight: bold\">]</span> Retrieving game with <span style=\"color: #808000; text-decoration-color: #808000\">id</span>=<span style=\"color: #008080; text-decoration-color: #008080; font-weight: bold\">1549551</span>                             <a href=\"file:///home/morten/.conda/envs/packing-report/lib/python3.10/site-packages/soccerdata/whoscored.py\" target=\"_blank\"><span style=\"color: #7f7f7f; text-decoration-color: #7f7f7f\">whoscored.py</span></a><span style=\"color: #7f7f7f; text-decoration-color: #7f7f7f\">:</span><a href=\"file:///home/morten/.conda/envs/packing-report/lib/python3.10/site-packages/soccerdata/whoscored.py#584\" target=\"_blank\"><span style=\"color: #7f7f7f; text-decoration-color: #7f7f7f\">584</span></a>\n",
       "</pre>\n"
      ],
      "text/plain": [
       "\u001b[2;36m                   \u001b[0m\u001b[2;36m \u001b[0m\u001b[34mINFO    \u001b[0m \u001b[1m[\u001b[0m\u001b[1;36m216\u001b[0m/\u001b[1;36m380\u001b[0m\u001b[1m]\u001b[0m Retrieving game with \u001b[33mid\u001b[0m=\u001b[1;36m1549551\u001b[0m                             \u001b]8;id=98937;file:///home/morten/.conda/envs/packing-report/lib/python3.10/site-packages/soccerdata/whoscored.py\u001b\\\u001b[2mwhoscored.py\u001b[0m\u001b]8;;\u001b\\\u001b[2m:\u001b[0m\u001b]8;id=540588;file:///home/morten/.conda/envs/packing-report/lib/python3.10/site-packages/soccerdata/whoscored.py#584\u001b\\\u001b[2m584\u001b[0m\u001b]8;;\u001b\\\n"
      ]
     },
     "metadata": {},
     "output_type": "display_data"
    },
    {
     "data": {
      "text/html": [
       "<pre style=\"white-space:pre;overflow-x:auto;line-height:normal;font-family:Menlo,'DejaVu Sans Mono',consolas,'Courier New',monospace\"><span style=\"color: #7fbfbf; text-decoration-color: #7fbfbf\">                    </span><span style=\"color: #000080; text-decoration-color: #000080\">INFO    </span> <span style=\"font-weight: bold\">[</span><span style=\"color: #008080; text-decoration-color: #008080; font-weight: bold\">217</span>/<span style=\"color: #008080; text-decoration-color: #008080; font-weight: bold\">380</span><span style=\"font-weight: bold\">]</span> Retrieving game with <span style=\"color: #808000; text-decoration-color: #808000\">id</span>=<span style=\"color: #008080; text-decoration-color: #008080; font-weight: bold\">1549710</span>                             <a href=\"file:///home/morten/.conda/envs/packing-report/lib/python3.10/site-packages/soccerdata/whoscored.py\" target=\"_blank\"><span style=\"color: #7f7f7f; text-decoration-color: #7f7f7f\">whoscored.py</span></a><span style=\"color: #7f7f7f; text-decoration-color: #7f7f7f\">:</span><a href=\"file:///home/morten/.conda/envs/packing-report/lib/python3.10/site-packages/soccerdata/whoscored.py#584\" target=\"_blank\"><span style=\"color: #7f7f7f; text-decoration-color: #7f7f7f\">584</span></a>\n",
       "</pre>\n"
      ],
      "text/plain": [
       "\u001b[2;36m                   \u001b[0m\u001b[2;36m \u001b[0m\u001b[34mINFO    \u001b[0m \u001b[1m[\u001b[0m\u001b[1;36m217\u001b[0m/\u001b[1;36m380\u001b[0m\u001b[1m]\u001b[0m Retrieving game with \u001b[33mid\u001b[0m=\u001b[1;36m1549710\u001b[0m                             \u001b]8;id=150599;file:///home/morten/.conda/envs/packing-report/lib/python3.10/site-packages/soccerdata/whoscored.py\u001b\\\u001b[2mwhoscored.py\u001b[0m\u001b]8;;\u001b\\\u001b[2m:\u001b[0m\u001b]8;id=24187;file:///home/morten/.conda/envs/packing-report/lib/python3.10/site-packages/soccerdata/whoscored.py#584\u001b\\\u001b[2m584\u001b[0m\u001b]8;;\u001b\\\n"
      ]
     },
     "metadata": {},
     "output_type": "display_data"
    },
    {
     "data": {
      "text/html": [
       "<pre style=\"white-space:pre;overflow-x:auto;line-height:normal;font-family:Menlo,'DejaVu Sans Mono',consolas,'Courier New',monospace\"><span style=\"color: #7fbfbf; text-decoration-color: #7fbfbf\">                    </span><span style=\"color: #000080; text-decoration-color: #000080\">INFO    </span> <span style=\"font-weight: bold\">[</span><span style=\"color: #008080; text-decoration-color: #008080; font-weight: bold\">218</span>/<span style=\"color: #008080; text-decoration-color: #008080; font-weight: bold\">380</span><span style=\"font-weight: bold\">]</span> Retrieving game with <span style=\"color: #808000; text-decoration-color: #808000\">id</span>=<span style=\"color: #008080; text-decoration-color: #008080; font-weight: bold\">1549648</span>                             <a href=\"file:///home/morten/.conda/envs/packing-report/lib/python3.10/site-packages/soccerdata/whoscored.py\" target=\"_blank\"><span style=\"color: #7f7f7f; text-decoration-color: #7f7f7f\">whoscored.py</span></a><span style=\"color: #7f7f7f; text-decoration-color: #7f7f7f\">:</span><a href=\"file:///home/morten/.conda/envs/packing-report/lib/python3.10/site-packages/soccerdata/whoscored.py#584\" target=\"_blank\"><span style=\"color: #7f7f7f; text-decoration-color: #7f7f7f\">584</span></a>\n",
       "</pre>\n"
      ],
      "text/plain": [
       "\u001b[2;36m                   \u001b[0m\u001b[2;36m \u001b[0m\u001b[34mINFO    \u001b[0m \u001b[1m[\u001b[0m\u001b[1;36m218\u001b[0m/\u001b[1;36m380\u001b[0m\u001b[1m]\u001b[0m Retrieving game with \u001b[33mid\u001b[0m=\u001b[1;36m1549648\u001b[0m                             \u001b]8;id=363616;file:///home/morten/.conda/envs/packing-report/lib/python3.10/site-packages/soccerdata/whoscored.py\u001b\\\u001b[2mwhoscored.py\u001b[0m\u001b]8;;\u001b\\\u001b[2m:\u001b[0m\u001b]8;id=114608;file:///home/morten/.conda/envs/packing-report/lib/python3.10/site-packages/soccerdata/whoscored.py#584\u001b\\\u001b[2m584\u001b[0m\u001b]8;;\u001b\\\n"
      ]
     },
     "metadata": {},
     "output_type": "display_data"
    },
    {
     "data": {
      "text/html": [
       "<pre style=\"white-space:pre;overflow-x:auto;line-height:normal;font-family:Menlo,'DejaVu Sans Mono',consolas,'Courier New',monospace\"><span style=\"color: #7fbfbf; text-decoration-color: #7fbfbf\">                    </span><span style=\"color: #000080; text-decoration-color: #000080\">INFO    </span> <span style=\"font-weight: bold\">[</span><span style=\"color: #008080; text-decoration-color: #008080; font-weight: bold\">219</span>/<span style=\"color: #008080; text-decoration-color: #008080; font-weight: bold\">380</span><span style=\"font-weight: bold\">]</span> Retrieving game with <span style=\"color: #808000; text-decoration-color: #808000\">id</span>=<span style=\"color: #008080; text-decoration-color: #008080; font-weight: bold\">1549769</span>                             <a href=\"file:///home/morten/.conda/envs/packing-report/lib/python3.10/site-packages/soccerdata/whoscored.py\" target=\"_blank\"><span style=\"color: #7f7f7f; text-decoration-color: #7f7f7f\">whoscored.py</span></a><span style=\"color: #7f7f7f; text-decoration-color: #7f7f7f\">:</span><a href=\"file:///home/morten/.conda/envs/packing-report/lib/python3.10/site-packages/soccerdata/whoscored.py#584\" target=\"_blank\"><span style=\"color: #7f7f7f; text-decoration-color: #7f7f7f\">584</span></a>\n",
       "</pre>\n"
      ],
      "text/plain": [
       "\u001b[2;36m                   \u001b[0m\u001b[2;36m \u001b[0m\u001b[34mINFO    \u001b[0m \u001b[1m[\u001b[0m\u001b[1;36m219\u001b[0m/\u001b[1;36m380\u001b[0m\u001b[1m]\u001b[0m Retrieving game with \u001b[33mid\u001b[0m=\u001b[1;36m1549769\u001b[0m                             \u001b]8;id=758154;file:///home/morten/.conda/envs/packing-report/lib/python3.10/site-packages/soccerdata/whoscored.py\u001b\\\u001b[2mwhoscored.py\u001b[0m\u001b]8;;\u001b\\\u001b[2m:\u001b[0m\u001b]8;id=776309;file:///home/morten/.conda/envs/packing-report/lib/python3.10/site-packages/soccerdata/whoscored.py#584\u001b\\\u001b[2m584\u001b[0m\u001b]8;;\u001b\\\n"
      ]
     },
     "metadata": {},
     "output_type": "display_data"
    },
    {
     "data": {
      "text/html": [
       "<pre style=\"white-space:pre;overflow-x:auto;line-height:normal;font-family:Menlo,'DejaVu Sans Mono',consolas,'Courier New',monospace\"><span style=\"color: #7fbfbf; text-decoration-color: #7fbfbf\">                    </span><span style=\"color: #000080; text-decoration-color: #000080\">INFO    </span> <span style=\"font-weight: bold\">[</span><span style=\"color: #008080; text-decoration-color: #008080; font-weight: bold\">220</span>/<span style=\"color: #008080; text-decoration-color: #008080; font-weight: bold\">380</span><span style=\"font-weight: bold\">]</span> Retrieving game with <span style=\"color: #808000; text-decoration-color: #808000\">id</span>=<span style=\"color: #008080; text-decoration-color: #008080; font-weight: bold\">1549707</span>                             <a href=\"file:///home/morten/.conda/envs/packing-report/lib/python3.10/site-packages/soccerdata/whoscored.py\" target=\"_blank\"><span style=\"color: #7f7f7f; text-decoration-color: #7f7f7f\">whoscored.py</span></a><span style=\"color: #7f7f7f; text-decoration-color: #7f7f7f\">:</span><a href=\"file:///home/morten/.conda/envs/packing-report/lib/python3.10/site-packages/soccerdata/whoscored.py#584\" target=\"_blank\"><span style=\"color: #7f7f7f; text-decoration-color: #7f7f7f\">584</span></a>\n",
       "</pre>\n"
      ],
      "text/plain": [
       "\u001b[2;36m                   \u001b[0m\u001b[2;36m \u001b[0m\u001b[34mINFO    \u001b[0m \u001b[1m[\u001b[0m\u001b[1;36m220\u001b[0m/\u001b[1;36m380\u001b[0m\u001b[1m]\u001b[0m Retrieving game with \u001b[33mid\u001b[0m=\u001b[1;36m1549707\u001b[0m                             \u001b]8;id=492532;file:///home/morten/.conda/envs/packing-report/lib/python3.10/site-packages/soccerdata/whoscored.py\u001b\\\u001b[2mwhoscored.py\u001b[0m\u001b]8;;\u001b\\\u001b[2m:\u001b[0m\u001b]8;id=913293;file:///home/morten/.conda/envs/packing-report/lib/python3.10/site-packages/soccerdata/whoscored.py#584\u001b\\\u001b[2m584\u001b[0m\u001b]8;;\u001b\\\n"
      ]
     },
     "metadata": {},
     "output_type": "display_data"
    },
    {
     "data": {
      "text/html": [
       "<pre style=\"white-space:pre;overflow-x:auto;line-height:normal;font-family:Menlo,'DejaVu Sans Mono',consolas,'Courier New',monospace\"><span style=\"color: #7fbfbf; text-decoration-color: #7fbfbf\">                    </span><span style=\"color: #000080; text-decoration-color: #000080\">INFO    </span> <span style=\"font-weight: bold\">[</span><span style=\"color: #008080; text-decoration-color: #008080; font-weight: bold\">221</span>/<span style=\"color: #008080; text-decoration-color: #008080; font-weight: bold\">380</span><span style=\"font-weight: bold\">]</span> Retrieving game with <span style=\"color: #808000; text-decoration-color: #808000\">id</span>=<span style=\"color: #008080; text-decoration-color: #008080; font-weight: bold\">1549768</span>                             <a href=\"file:///home/morten/.conda/envs/packing-report/lib/python3.10/site-packages/soccerdata/whoscored.py\" target=\"_blank\"><span style=\"color: #7f7f7f; text-decoration-color: #7f7f7f\">whoscored.py</span></a><span style=\"color: #7f7f7f; text-decoration-color: #7f7f7f\">:</span><a href=\"file:///home/morten/.conda/envs/packing-report/lib/python3.10/site-packages/soccerdata/whoscored.py#584\" target=\"_blank\"><span style=\"color: #7f7f7f; text-decoration-color: #7f7f7f\">584</span></a>\n",
       "</pre>\n"
      ],
      "text/plain": [
       "\u001b[2;36m                   \u001b[0m\u001b[2;36m \u001b[0m\u001b[34mINFO    \u001b[0m \u001b[1m[\u001b[0m\u001b[1;36m221\u001b[0m/\u001b[1;36m380\u001b[0m\u001b[1m]\u001b[0m Retrieving game with \u001b[33mid\u001b[0m=\u001b[1;36m1549768\u001b[0m                             \u001b]8;id=623144;file:///home/morten/.conda/envs/packing-report/lib/python3.10/site-packages/soccerdata/whoscored.py\u001b\\\u001b[2mwhoscored.py\u001b[0m\u001b]8;;\u001b\\\u001b[2m:\u001b[0m\u001b]8;id=203628;file:///home/morten/.conda/envs/packing-report/lib/python3.10/site-packages/soccerdata/whoscored.py#584\u001b\\\u001b[2m584\u001b[0m\u001b]8;;\u001b\\\n"
      ]
     },
     "metadata": {},
     "output_type": "display_data"
    },
    {
     "data": {
      "text/html": [
       "<pre style=\"white-space:pre;overflow-x:auto;line-height:normal;font-family:Menlo,'DejaVu Sans Mono',consolas,'Courier New',monospace\"><span style=\"color: #7fbfbf; text-decoration-color: #7fbfbf\">[10/02/22 17:52:06] </span><span style=\"color: #000080; text-decoration-color: #000080\">INFO    </span> <span style=\"font-weight: bold\">[</span><span style=\"color: #008080; text-decoration-color: #008080; font-weight: bold\">222</span>/<span style=\"color: #008080; text-decoration-color: #008080; font-weight: bold\">380</span><span style=\"font-weight: bold\">]</span> Retrieving game with <span style=\"color: #808000; text-decoration-color: #808000\">id</span>=<span style=\"color: #008080; text-decoration-color: #008080; font-weight: bold\">1549792</span>                             <a href=\"file:///home/morten/.conda/envs/packing-report/lib/python3.10/site-packages/soccerdata/whoscored.py\" target=\"_blank\"><span style=\"color: #7f7f7f; text-decoration-color: #7f7f7f\">whoscored.py</span></a><span style=\"color: #7f7f7f; text-decoration-color: #7f7f7f\">:</span><a href=\"file:///home/morten/.conda/envs/packing-report/lib/python3.10/site-packages/soccerdata/whoscored.py#584\" target=\"_blank\"><span style=\"color: #7f7f7f; text-decoration-color: #7f7f7f\">584</span></a>\n",
       "</pre>\n"
      ],
      "text/plain": [
       "\u001b[2;36m[10/02/22 17:52:06]\u001b[0m\u001b[2;36m \u001b[0m\u001b[34mINFO    \u001b[0m \u001b[1m[\u001b[0m\u001b[1;36m222\u001b[0m/\u001b[1;36m380\u001b[0m\u001b[1m]\u001b[0m Retrieving game with \u001b[33mid\u001b[0m=\u001b[1;36m1549792\u001b[0m                             \u001b]8;id=506283;file:///home/morten/.conda/envs/packing-report/lib/python3.10/site-packages/soccerdata/whoscored.py\u001b\\\u001b[2mwhoscored.py\u001b[0m\u001b]8;;\u001b\\\u001b[2m:\u001b[0m\u001b]8;id=491574;file:///home/morten/.conda/envs/packing-report/lib/python3.10/site-packages/soccerdata/whoscored.py#584\u001b\\\u001b[2m584\u001b[0m\u001b]8;;\u001b\\\n"
      ]
     },
     "metadata": {},
     "output_type": "display_data"
    },
    {
     "data": {
      "text/html": [
       "<pre style=\"white-space:pre;overflow-x:auto;line-height:normal;font-family:Menlo,'DejaVu Sans Mono',consolas,'Courier New',monospace\"><span style=\"color: #7fbfbf; text-decoration-color: #7fbfbf\">                    </span><span style=\"color: #000080; text-decoration-color: #000080\">INFO    </span> <span style=\"font-weight: bold\">[</span><span style=\"color: #008080; text-decoration-color: #008080; font-weight: bold\">223</span>/<span style=\"color: #008080; text-decoration-color: #008080; font-weight: bold\">380</span><span style=\"font-weight: bold\">]</span> Retrieving game with <span style=\"color: #808000; text-decoration-color: #808000\">id</span>=<span style=\"color: #008080; text-decoration-color: #008080; font-weight: bold\">1549637</span>                             <a href=\"file:///home/morten/.conda/envs/packing-report/lib/python3.10/site-packages/soccerdata/whoscored.py\" target=\"_blank\"><span style=\"color: #7f7f7f; text-decoration-color: #7f7f7f\">whoscored.py</span></a><span style=\"color: #7f7f7f; text-decoration-color: #7f7f7f\">:</span><a href=\"file:///home/morten/.conda/envs/packing-report/lib/python3.10/site-packages/soccerdata/whoscored.py#584\" target=\"_blank\"><span style=\"color: #7f7f7f; text-decoration-color: #7f7f7f\">584</span></a>\n",
       "</pre>\n"
      ],
      "text/plain": [
       "\u001b[2;36m                   \u001b[0m\u001b[2;36m \u001b[0m\u001b[34mINFO    \u001b[0m \u001b[1m[\u001b[0m\u001b[1;36m223\u001b[0m/\u001b[1;36m380\u001b[0m\u001b[1m]\u001b[0m Retrieving game with \u001b[33mid\u001b[0m=\u001b[1;36m1549637\u001b[0m                             \u001b]8;id=283928;file:///home/morten/.conda/envs/packing-report/lib/python3.10/site-packages/soccerdata/whoscored.py\u001b\\\u001b[2mwhoscored.py\u001b[0m\u001b]8;;\u001b\\\u001b[2m:\u001b[0m\u001b]8;id=147058;file:///home/morten/.conda/envs/packing-report/lib/python3.10/site-packages/soccerdata/whoscored.py#584\u001b\\\u001b[2m584\u001b[0m\u001b]8;;\u001b\\\n"
      ]
     },
     "metadata": {},
     "output_type": "display_data"
    },
    {
     "data": {
      "text/html": [
       "<pre style=\"white-space:pre;overflow-x:auto;line-height:normal;font-family:Menlo,'DejaVu Sans Mono',consolas,'Courier New',monospace\"><span style=\"color: #7fbfbf; text-decoration-color: #7fbfbf\">                    </span><span style=\"color: #000080; text-decoration-color: #000080\">INFO    </span> <span style=\"font-weight: bold\">[</span><span style=\"color: #008080; text-decoration-color: #008080; font-weight: bold\">224</span>/<span style=\"color: #008080; text-decoration-color: #008080; font-weight: bold\">380</span><span style=\"font-weight: bold\">]</span> Retrieving game with <span style=\"color: #808000; text-decoration-color: #808000\">id</span>=<span style=\"color: #008080; text-decoration-color: #008080; font-weight: bold\">1549624</span>                             <a href=\"file:///home/morten/.conda/envs/packing-report/lib/python3.10/site-packages/soccerdata/whoscored.py\" target=\"_blank\"><span style=\"color: #7f7f7f; text-decoration-color: #7f7f7f\">whoscored.py</span></a><span style=\"color: #7f7f7f; text-decoration-color: #7f7f7f\">:</span><a href=\"file:///home/morten/.conda/envs/packing-report/lib/python3.10/site-packages/soccerdata/whoscored.py#584\" target=\"_blank\"><span style=\"color: #7f7f7f; text-decoration-color: #7f7f7f\">584</span></a>\n",
       "</pre>\n"
      ],
      "text/plain": [
       "\u001b[2;36m                   \u001b[0m\u001b[2;36m \u001b[0m\u001b[34mINFO    \u001b[0m \u001b[1m[\u001b[0m\u001b[1;36m224\u001b[0m/\u001b[1;36m380\u001b[0m\u001b[1m]\u001b[0m Retrieving game with \u001b[33mid\u001b[0m=\u001b[1;36m1549624\u001b[0m                             \u001b]8;id=155857;file:///home/morten/.conda/envs/packing-report/lib/python3.10/site-packages/soccerdata/whoscored.py\u001b\\\u001b[2mwhoscored.py\u001b[0m\u001b]8;;\u001b\\\u001b[2m:\u001b[0m\u001b]8;id=509099;file:///home/morten/.conda/envs/packing-report/lib/python3.10/site-packages/soccerdata/whoscored.py#584\u001b\\\u001b[2m584\u001b[0m\u001b]8;;\u001b\\\n"
      ]
     },
     "metadata": {},
     "output_type": "display_data"
    },
    {
     "data": {
      "text/html": [
       "<pre style=\"white-space:pre;overflow-x:auto;line-height:normal;font-family:Menlo,'DejaVu Sans Mono',consolas,'Courier New',monospace\"><span style=\"color: #7fbfbf; text-decoration-color: #7fbfbf\">                    </span><span style=\"color: #000080; text-decoration-color: #000080\">INFO    </span> <span style=\"font-weight: bold\">[</span><span style=\"color: #008080; text-decoration-color: #008080; font-weight: bold\">225</span>/<span style=\"color: #008080; text-decoration-color: #008080; font-weight: bold\">380</span><span style=\"font-weight: bold\">]</span> Retrieving game with <span style=\"color: #808000; text-decoration-color: #808000\">id</span>=<span style=\"color: #008080; text-decoration-color: #008080; font-weight: bold\">1549888</span>                             <a href=\"file:///home/morten/.conda/envs/packing-report/lib/python3.10/site-packages/soccerdata/whoscored.py\" target=\"_blank\"><span style=\"color: #7f7f7f; text-decoration-color: #7f7f7f\">whoscored.py</span></a><span style=\"color: #7f7f7f; text-decoration-color: #7f7f7f\">:</span><a href=\"file:///home/morten/.conda/envs/packing-report/lib/python3.10/site-packages/soccerdata/whoscored.py#584\" target=\"_blank\"><span style=\"color: #7f7f7f; text-decoration-color: #7f7f7f\">584</span></a>\n",
       "</pre>\n"
      ],
      "text/plain": [
       "\u001b[2;36m                   \u001b[0m\u001b[2;36m \u001b[0m\u001b[34mINFO    \u001b[0m \u001b[1m[\u001b[0m\u001b[1;36m225\u001b[0m/\u001b[1;36m380\u001b[0m\u001b[1m]\u001b[0m Retrieving game with \u001b[33mid\u001b[0m=\u001b[1;36m1549888\u001b[0m                             \u001b]8;id=150577;file:///home/morten/.conda/envs/packing-report/lib/python3.10/site-packages/soccerdata/whoscored.py\u001b\\\u001b[2mwhoscored.py\u001b[0m\u001b]8;;\u001b\\\u001b[2m:\u001b[0m\u001b]8;id=353853;file:///home/morten/.conda/envs/packing-report/lib/python3.10/site-packages/soccerdata/whoscored.py#584\u001b\\\u001b[2m584\u001b[0m\u001b]8;;\u001b\\\n"
      ]
     },
     "metadata": {},
     "output_type": "display_data"
    },
    {
     "data": {
      "text/html": [
       "<pre style=\"white-space:pre;overflow-x:auto;line-height:normal;font-family:Menlo,'DejaVu Sans Mono',consolas,'Courier New',monospace\"><span style=\"color: #7fbfbf; text-decoration-color: #7fbfbf\">                    </span><span style=\"color: #000080; text-decoration-color: #000080\">INFO    </span> <span style=\"font-weight: bold\">[</span><span style=\"color: #008080; text-decoration-color: #008080; font-weight: bold\">226</span>/<span style=\"color: #008080; text-decoration-color: #008080; font-weight: bold\">380</span><span style=\"font-weight: bold\">]</span> Retrieving game with <span style=\"color: #808000; text-decoration-color: #808000\">id</span>=<span style=\"color: #008080; text-decoration-color: #008080; font-weight: bold\">1549798</span>                             <a href=\"file:///home/morten/.conda/envs/packing-report/lib/python3.10/site-packages/soccerdata/whoscored.py\" target=\"_blank\"><span style=\"color: #7f7f7f; text-decoration-color: #7f7f7f\">whoscored.py</span></a><span style=\"color: #7f7f7f; text-decoration-color: #7f7f7f\">:</span><a href=\"file:///home/morten/.conda/envs/packing-report/lib/python3.10/site-packages/soccerdata/whoscored.py#584\" target=\"_blank\"><span style=\"color: #7f7f7f; text-decoration-color: #7f7f7f\">584</span></a>\n",
       "</pre>\n"
      ],
      "text/plain": [
       "\u001b[2;36m                   \u001b[0m\u001b[2;36m \u001b[0m\u001b[34mINFO    \u001b[0m \u001b[1m[\u001b[0m\u001b[1;36m226\u001b[0m/\u001b[1;36m380\u001b[0m\u001b[1m]\u001b[0m Retrieving game with \u001b[33mid\u001b[0m=\u001b[1;36m1549798\u001b[0m                             \u001b]8;id=820996;file:///home/morten/.conda/envs/packing-report/lib/python3.10/site-packages/soccerdata/whoscored.py\u001b\\\u001b[2mwhoscored.py\u001b[0m\u001b]8;;\u001b\\\u001b[2m:\u001b[0m\u001b]8;id=625557;file:///home/morten/.conda/envs/packing-report/lib/python3.10/site-packages/soccerdata/whoscored.py#584\u001b\\\u001b[2m584\u001b[0m\u001b]8;;\u001b\\\n"
      ]
     },
     "metadata": {},
     "output_type": "display_data"
    },
    {
     "data": {
      "text/html": [
       "<pre style=\"white-space:pre;overflow-x:auto;line-height:normal;font-family:Menlo,'DejaVu Sans Mono',consolas,'Courier New',monospace\"><span style=\"color: #7fbfbf; text-decoration-color: #7fbfbf\">                    </span><span style=\"color: #000080; text-decoration-color: #000080\">INFO    </span> <span style=\"font-weight: bold\">[</span><span style=\"color: #008080; text-decoration-color: #008080; font-weight: bold\">227</span>/<span style=\"color: #008080; text-decoration-color: #008080; font-weight: bold\">380</span><span style=\"font-weight: bold\">]</span> Retrieving game with <span style=\"color: #808000; text-decoration-color: #808000\">id</span>=<span style=\"color: #008080; text-decoration-color: #008080; font-weight: bold\">1549601</span>                             <a href=\"file:///home/morten/.conda/envs/packing-report/lib/python3.10/site-packages/soccerdata/whoscored.py\" target=\"_blank\"><span style=\"color: #7f7f7f; text-decoration-color: #7f7f7f\">whoscored.py</span></a><span style=\"color: #7f7f7f; text-decoration-color: #7f7f7f\">:</span><a href=\"file:///home/morten/.conda/envs/packing-report/lib/python3.10/site-packages/soccerdata/whoscored.py#584\" target=\"_blank\"><span style=\"color: #7f7f7f; text-decoration-color: #7f7f7f\">584</span></a>\n",
       "</pre>\n"
      ],
      "text/plain": [
       "\u001b[2;36m                   \u001b[0m\u001b[2;36m \u001b[0m\u001b[34mINFO    \u001b[0m \u001b[1m[\u001b[0m\u001b[1;36m227\u001b[0m/\u001b[1;36m380\u001b[0m\u001b[1m]\u001b[0m Retrieving game with \u001b[33mid\u001b[0m=\u001b[1;36m1549601\u001b[0m                             \u001b]8;id=225385;file:///home/morten/.conda/envs/packing-report/lib/python3.10/site-packages/soccerdata/whoscored.py\u001b\\\u001b[2mwhoscored.py\u001b[0m\u001b]8;;\u001b\\\u001b[2m:\u001b[0m\u001b]8;id=775212;file:///home/morten/.conda/envs/packing-report/lib/python3.10/site-packages/soccerdata/whoscored.py#584\u001b\\\u001b[2m584\u001b[0m\u001b]8;;\u001b\\\n"
      ]
     },
     "metadata": {},
     "output_type": "display_data"
    },
    {
     "data": {
      "text/html": [
       "<pre style=\"white-space:pre;overflow-x:auto;line-height:normal;font-family:Menlo,'DejaVu Sans Mono',consolas,'Courier New',monospace\"><span style=\"color: #7fbfbf; text-decoration-color: #7fbfbf\">                    </span><span style=\"color: #000080; text-decoration-color: #000080\">INFO    </span> <span style=\"font-weight: bold\">[</span><span style=\"color: #008080; text-decoration-color: #008080; font-weight: bold\">228</span>/<span style=\"color: #008080; text-decoration-color: #008080; font-weight: bold\">380</span><span style=\"font-weight: bold\">]</span> Retrieving game with <span style=\"color: #808000; text-decoration-color: #808000\">id</span>=<span style=\"color: #008080; text-decoration-color: #008080; font-weight: bold\">1549568</span>                             <a href=\"file:///home/morten/.conda/envs/packing-report/lib/python3.10/site-packages/soccerdata/whoscored.py\" target=\"_blank\"><span style=\"color: #7f7f7f; text-decoration-color: #7f7f7f\">whoscored.py</span></a><span style=\"color: #7f7f7f; text-decoration-color: #7f7f7f\">:</span><a href=\"file:///home/morten/.conda/envs/packing-report/lib/python3.10/site-packages/soccerdata/whoscored.py#584\" target=\"_blank\"><span style=\"color: #7f7f7f; text-decoration-color: #7f7f7f\">584</span></a>\n",
       "</pre>\n"
      ],
      "text/plain": [
       "\u001b[2;36m                   \u001b[0m\u001b[2;36m \u001b[0m\u001b[34mINFO    \u001b[0m \u001b[1m[\u001b[0m\u001b[1;36m228\u001b[0m/\u001b[1;36m380\u001b[0m\u001b[1m]\u001b[0m Retrieving game with \u001b[33mid\u001b[0m=\u001b[1;36m1549568\u001b[0m                             \u001b]8;id=675769;file:///home/morten/.conda/envs/packing-report/lib/python3.10/site-packages/soccerdata/whoscored.py\u001b\\\u001b[2mwhoscored.py\u001b[0m\u001b]8;;\u001b\\\u001b[2m:\u001b[0m\u001b]8;id=795882;file:///home/morten/.conda/envs/packing-report/lib/python3.10/site-packages/soccerdata/whoscored.py#584\u001b\\\u001b[2m584\u001b[0m\u001b]8;;\u001b\\\n"
      ]
     },
     "metadata": {},
     "output_type": "display_data"
    },
    {
     "data": {
      "text/html": [
       "<pre style=\"white-space:pre;overflow-x:auto;line-height:normal;font-family:Menlo,'DejaVu Sans Mono',consolas,'Courier New',monospace\"><span style=\"color: #7fbfbf; text-decoration-color: #7fbfbf\">                    </span><span style=\"color: #000080; text-decoration-color: #000080\">INFO    </span> <span style=\"font-weight: bold\">[</span><span style=\"color: #008080; text-decoration-color: #008080; font-weight: bold\">229</span>/<span style=\"color: #008080; text-decoration-color: #008080; font-weight: bold\">380</span><span style=\"font-weight: bold\">]</span> Retrieving game with <span style=\"color: #808000; text-decoration-color: #808000\">id</span>=<span style=\"color: #008080; text-decoration-color: #008080; font-weight: bold\">1549617</span>                             <a href=\"file:///home/morten/.conda/envs/packing-report/lib/python3.10/site-packages/soccerdata/whoscored.py\" target=\"_blank\"><span style=\"color: #7f7f7f; text-decoration-color: #7f7f7f\">whoscored.py</span></a><span style=\"color: #7f7f7f; text-decoration-color: #7f7f7f\">:</span><a href=\"file:///home/morten/.conda/envs/packing-report/lib/python3.10/site-packages/soccerdata/whoscored.py#584\" target=\"_blank\"><span style=\"color: #7f7f7f; text-decoration-color: #7f7f7f\">584</span></a>\n",
       "</pre>\n"
      ],
      "text/plain": [
       "\u001b[2;36m                   \u001b[0m\u001b[2;36m \u001b[0m\u001b[34mINFO    \u001b[0m \u001b[1m[\u001b[0m\u001b[1;36m229\u001b[0m/\u001b[1;36m380\u001b[0m\u001b[1m]\u001b[0m Retrieving game with \u001b[33mid\u001b[0m=\u001b[1;36m1549617\u001b[0m                             \u001b]8;id=463492;file:///home/morten/.conda/envs/packing-report/lib/python3.10/site-packages/soccerdata/whoscored.py\u001b\\\u001b[2mwhoscored.py\u001b[0m\u001b]8;;\u001b\\\u001b[2m:\u001b[0m\u001b]8;id=468899;file:///home/morten/.conda/envs/packing-report/lib/python3.10/site-packages/soccerdata/whoscored.py#584\u001b\\\u001b[2m584\u001b[0m\u001b]8;;\u001b\\\n"
      ]
     },
     "metadata": {},
     "output_type": "display_data"
    },
    {
     "data": {
      "text/html": [
       "<pre style=\"white-space:pre;overflow-x:auto;line-height:normal;font-family:Menlo,'DejaVu Sans Mono',consolas,'Courier New',monospace\"><span style=\"color: #7fbfbf; text-decoration-color: #7fbfbf\">                    </span><span style=\"color: #000080; text-decoration-color: #000080\">INFO    </span> <span style=\"font-weight: bold\">[</span><span style=\"color: #008080; text-decoration-color: #008080; font-weight: bold\">230</span>/<span style=\"color: #008080; text-decoration-color: #008080; font-weight: bold\">380</span><span style=\"font-weight: bold\">]</span> Retrieving game with <span style=\"color: #808000; text-decoration-color: #808000\">id</span>=<span style=\"color: #008080; text-decoration-color: #008080; font-weight: bold\">1549868</span>                             <a href=\"file:///home/morten/.conda/envs/packing-report/lib/python3.10/site-packages/soccerdata/whoscored.py\" target=\"_blank\"><span style=\"color: #7f7f7f; text-decoration-color: #7f7f7f\">whoscored.py</span></a><span style=\"color: #7f7f7f; text-decoration-color: #7f7f7f\">:</span><a href=\"file:///home/morten/.conda/envs/packing-report/lib/python3.10/site-packages/soccerdata/whoscored.py#584\" target=\"_blank\"><span style=\"color: #7f7f7f; text-decoration-color: #7f7f7f\">584</span></a>\n",
       "</pre>\n"
      ],
      "text/plain": [
       "\u001b[2;36m                   \u001b[0m\u001b[2;36m \u001b[0m\u001b[34mINFO    \u001b[0m \u001b[1m[\u001b[0m\u001b[1;36m230\u001b[0m/\u001b[1;36m380\u001b[0m\u001b[1m]\u001b[0m Retrieving game with \u001b[33mid\u001b[0m=\u001b[1;36m1549868\u001b[0m                             \u001b]8;id=504574;file:///home/morten/.conda/envs/packing-report/lib/python3.10/site-packages/soccerdata/whoscored.py\u001b\\\u001b[2mwhoscored.py\u001b[0m\u001b]8;;\u001b\\\u001b[2m:\u001b[0m\u001b]8;id=53022;file:///home/morten/.conda/envs/packing-report/lib/python3.10/site-packages/soccerdata/whoscored.py#584\u001b\\\u001b[2m584\u001b[0m\u001b]8;;\u001b\\\n"
      ]
     },
     "metadata": {},
     "output_type": "display_data"
    },
    {
     "data": {
      "text/html": [
       "<pre style=\"white-space:pre;overflow-x:auto;line-height:normal;font-family:Menlo,'DejaVu Sans Mono',consolas,'Courier New',monospace\"><span style=\"color: #7fbfbf; text-decoration-color: #7fbfbf\">                    </span><span style=\"color: #000080; text-decoration-color: #000080\">INFO    </span> <span style=\"font-weight: bold\">[</span><span style=\"color: #008080; text-decoration-color: #008080; font-weight: bold\">231</span>/<span style=\"color: #008080; text-decoration-color: #008080; font-weight: bold\">380</span><span style=\"font-weight: bold\">]</span> Retrieving game with <span style=\"color: #808000; text-decoration-color: #808000\">id</span>=<span style=\"color: #008080; text-decoration-color: #008080; font-weight: bold\">1549554</span>                             <a href=\"file:///home/morten/.conda/envs/packing-report/lib/python3.10/site-packages/soccerdata/whoscored.py\" target=\"_blank\"><span style=\"color: #7f7f7f; text-decoration-color: #7f7f7f\">whoscored.py</span></a><span style=\"color: #7f7f7f; text-decoration-color: #7f7f7f\">:</span><a href=\"file:///home/morten/.conda/envs/packing-report/lib/python3.10/site-packages/soccerdata/whoscored.py#584\" target=\"_blank\"><span style=\"color: #7f7f7f; text-decoration-color: #7f7f7f\">584</span></a>\n",
       "</pre>\n"
      ],
      "text/plain": [
       "\u001b[2;36m                   \u001b[0m\u001b[2;36m \u001b[0m\u001b[34mINFO    \u001b[0m \u001b[1m[\u001b[0m\u001b[1;36m231\u001b[0m/\u001b[1;36m380\u001b[0m\u001b[1m]\u001b[0m Retrieving game with \u001b[33mid\u001b[0m=\u001b[1;36m1549554\u001b[0m                             \u001b]8;id=463486;file:///home/morten/.conda/envs/packing-report/lib/python3.10/site-packages/soccerdata/whoscored.py\u001b\\\u001b[2mwhoscored.py\u001b[0m\u001b]8;;\u001b\\\u001b[2m:\u001b[0m\u001b]8;id=623300;file:///home/morten/.conda/envs/packing-report/lib/python3.10/site-packages/soccerdata/whoscored.py#584\u001b\\\u001b[2m584\u001b[0m\u001b]8;;\u001b\\\n"
      ]
     },
     "metadata": {},
     "output_type": "display_data"
    },
    {
     "data": {
      "text/html": [
       "<pre style=\"white-space:pre;overflow-x:auto;line-height:normal;font-family:Menlo,'DejaVu Sans Mono',consolas,'Courier New',monospace\"><span style=\"color: #7fbfbf; text-decoration-color: #7fbfbf\">                    </span><span style=\"color: #000080; text-decoration-color: #000080\">INFO    </span> <span style=\"font-weight: bold\">[</span><span style=\"color: #008080; text-decoration-color: #008080; font-weight: bold\">232</span>/<span style=\"color: #008080; text-decoration-color: #008080; font-weight: bold\">380</span><span style=\"font-weight: bold\">]</span> Retrieving game with <span style=\"color: #808000; text-decoration-color: #808000\">id</span>=<span style=\"color: #008080; text-decoration-color: #008080; font-weight: bold\">1549718</span>                             <a href=\"file:///home/morten/.conda/envs/packing-report/lib/python3.10/site-packages/soccerdata/whoscored.py\" target=\"_blank\"><span style=\"color: #7f7f7f; text-decoration-color: #7f7f7f\">whoscored.py</span></a><span style=\"color: #7f7f7f; text-decoration-color: #7f7f7f\">:</span><a href=\"file:///home/morten/.conda/envs/packing-report/lib/python3.10/site-packages/soccerdata/whoscored.py#584\" target=\"_blank\"><span style=\"color: #7f7f7f; text-decoration-color: #7f7f7f\">584</span></a>\n",
       "</pre>\n"
      ],
      "text/plain": [
       "\u001b[2;36m                   \u001b[0m\u001b[2;36m \u001b[0m\u001b[34mINFO    \u001b[0m \u001b[1m[\u001b[0m\u001b[1;36m232\u001b[0m/\u001b[1;36m380\u001b[0m\u001b[1m]\u001b[0m Retrieving game with \u001b[33mid\u001b[0m=\u001b[1;36m1549718\u001b[0m                             \u001b]8;id=339173;file:///home/morten/.conda/envs/packing-report/lib/python3.10/site-packages/soccerdata/whoscored.py\u001b\\\u001b[2mwhoscored.py\u001b[0m\u001b]8;;\u001b\\\u001b[2m:\u001b[0m\u001b]8;id=764494;file:///home/morten/.conda/envs/packing-report/lib/python3.10/site-packages/soccerdata/whoscored.py#584\u001b\\\u001b[2m584\u001b[0m\u001b]8;;\u001b\\\n"
      ]
     },
     "metadata": {},
     "output_type": "display_data"
    },
    {
     "data": {
      "text/html": [
       "<pre style=\"white-space:pre;overflow-x:auto;line-height:normal;font-family:Menlo,'DejaVu Sans Mono',consolas,'Courier New',monospace\"><span style=\"color: #7fbfbf; text-decoration-color: #7fbfbf\">                    </span><span style=\"color: #000080; text-decoration-color: #000080\">INFO    </span> <span style=\"font-weight: bold\">[</span><span style=\"color: #008080; text-decoration-color: #008080; font-weight: bold\">233</span>/<span style=\"color: #008080; text-decoration-color: #008080; font-weight: bold\">380</span><span style=\"font-weight: bold\">]</span> Retrieving game with <span style=\"color: #808000; text-decoration-color: #808000\">id</span>=<span style=\"color: #008080; text-decoration-color: #008080; font-weight: bold\">1549787</span>                             <a href=\"file:///home/morten/.conda/envs/packing-report/lib/python3.10/site-packages/soccerdata/whoscored.py\" target=\"_blank\"><span style=\"color: #7f7f7f; text-decoration-color: #7f7f7f\">whoscored.py</span></a><span style=\"color: #7f7f7f; text-decoration-color: #7f7f7f\">:</span><a href=\"file:///home/morten/.conda/envs/packing-report/lib/python3.10/site-packages/soccerdata/whoscored.py#584\" target=\"_blank\"><span style=\"color: #7f7f7f; text-decoration-color: #7f7f7f\">584</span></a>\n",
       "</pre>\n"
      ],
      "text/plain": [
       "\u001b[2;36m                   \u001b[0m\u001b[2;36m \u001b[0m\u001b[34mINFO    \u001b[0m \u001b[1m[\u001b[0m\u001b[1;36m233\u001b[0m/\u001b[1;36m380\u001b[0m\u001b[1m]\u001b[0m Retrieving game with \u001b[33mid\u001b[0m=\u001b[1;36m1549787\u001b[0m                             \u001b]8;id=490196;file:///home/morten/.conda/envs/packing-report/lib/python3.10/site-packages/soccerdata/whoscored.py\u001b\\\u001b[2mwhoscored.py\u001b[0m\u001b]8;;\u001b\\\u001b[2m:\u001b[0m\u001b]8;id=659982;file:///home/morten/.conda/envs/packing-report/lib/python3.10/site-packages/soccerdata/whoscored.py#584\u001b\\\u001b[2m584\u001b[0m\u001b]8;;\u001b\\\n"
      ]
     },
     "metadata": {},
     "output_type": "display_data"
    },
    {
     "data": {
      "text/html": [
       "<pre style=\"white-space:pre;overflow-x:auto;line-height:normal;font-family:Menlo,'DejaVu Sans Mono',consolas,'Courier New',monospace\"><span style=\"color: #7fbfbf; text-decoration-color: #7fbfbf\">                    </span><span style=\"color: #000080; text-decoration-color: #000080\">INFO    </span> <span style=\"font-weight: bold\">[</span><span style=\"color: #008080; text-decoration-color: #008080; font-weight: bold\">234</span>/<span style=\"color: #008080; text-decoration-color: #008080; font-weight: bold\">380</span><span style=\"font-weight: bold\">]</span> Retrieving game with <span style=\"color: #808000; text-decoration-color: #808000\">id</span>=<span style=\"color: #008080; text-decoration-color: #008080; font-weight: bold\">1549674</span>                             <a href=\"file:///home/morten/.conda/envs/packing-report/lib/python3.10/site-packages/soccerdata/whoscored.py\" target=\"_blank\"><span style=\"color: #7f7f7f; text-decoration-color: #7f7f7f\">whoscored.py</span></a><span style=\"color: #7f7f7f; text-decoration-color: #7f7f7f\">:</span><a href=\"file:///home/morten/.conda/envs/packing-report/lib/python3.10/site-packages/soccerdata/whoscored.py#584\" target=\"_blank\"><span style=\"color: #7f7f7f; text-decoration-color: #7f7f7f\">584</span></a>\n",
       "</pre>\n"
      ],
      "text/plain": [
       "\u001b[2;36m                   \u001b[0m\u001b[2;36m \u001b[0m\u001b[34mINFO    \u001b[0m \u001b[1m[\u001b[0m\u001b[1;36m234\u001b[0m/\u001b[1;36m380\u001b[0m\u001b[1m]\u001b[0m Retrieving game with \u001b[33mid\u001b[0m=\u001b[1;36m1549674\u001b[0m                             \u001b]8;id=67775;file:///home/morten/.conda/envs/packing-report/lib/python3.10/site-packages/soccerdata/whoscored.py\u001b\\\u001b[2mwhoscored.py\u001b[0m\u001b]8;;\u001b\\\u001b[2m:\u001b[0m\u001b]8;id=451895;file:///home/morten/.conda/envs/packing-report/lib/python3.10/site-packages/soccerdata/whoscored.py#584\u001b\\\u001b[2m584\u001b[0m\u001b]8;;\u001b\\\n"
      ]
     },
     "metadata": {},
     "output_type": "display_data"
    },
    {
     "data": {
      "text/html": [
       "<pre style=\"white-space:pre;overflow-x:auto;line-height:normal;font-family:Menlo,'DejaVu Sans Mono',consolas,'Courier New',monospace\"><span style=\"color: #7fbfbf; text-decoration-color: #7fbfbf\">                    </span><span style=\"color: #000080; text-decoration-color: #000080\">INFO    </span> <span style=\"font-weight: bold\">[</span><span style=\"color: #008080; text-decoration-color: #008080; font-weight: bold\">235</span>/<span style=\"color: #008080; text-decoration-color: #008080; font-weight: bold\">380</span><span style=\"font-weight: bold\">]</span> Retrieving game with <span style=\"color: #808000; text-decoration-color: #808000\">id</span>=<span style=\"color: #008080; text-decoration-color: #008080; font-weight: bold\">1549733</span>                             <a href=\"file:///home/morten/.conda/envs/packing-report/lib/python3.10/site-packages/soccerdata/whoscored.py\" target=\"_blank\"><span style=\"color: #7f7f7f; text-decoration-color: #7f7f7f\">whoscored.py</span></a><span style=\"color: #7f7f7f; text-decoration-color: #7f7f7f\">:</span><a href=\"file:///home/morten/.conda/envs/packing-report/lib/python3.10/site-packages/soccerdata/whoscored.py#584\" target=\"_blank\"><span style=\"color: #7f7f7f; text-decoration-color: #7f7f7f\">584</span></a>\n",
       "</pre>\n"
      ],
      "text/plain": [
       "\u001b[2;36m                   \u001b[0m\u001b[2;36m \u001b[0m\u001b[34mINFO    \u001b[0m \u001b[1m[\u001b[0m\u001b[1;36m235\u001b[0m/\u001b[1;36m380\u001b[0m\u001b[1m]\u001b[0m Retrieving game with \u001b[33mid\u001b[0m=\u001b[1;36m1549733\u001b[0m                             \u001b]8;id=193124;file:///home/morten/.conda/envs/packing-report/lib/python3.10/site-packages/soccerdata/whoscored.py\u001b\\\u001b[2mwhoscored.py\u001b[0m\u001b]8;;\u001b\\\u001b[2m:\u001b[0m\u001b]8;id=845182;file:///home/morten/.conda/envs/packing-report/lib/python3.10/site-packages/soccerdata/whoscored.py#584\u001b\\\u001b[2m584\u001b[0m\u001b]8;;\u001b\\\n"
      ]
     },
     "metadata": {},
     "output_type": "display_data"
    },
    {
     "data": {
      "text/html": [
       "<pre style=\"white-space:pre;overflow-x:auto;line-height:normal;font-family:Menlo,'DejaVu Sans Mono',consolas,'Courier New',monospace\"><span style=\"color: #7fbfbf; text-decoration-color: #7fbfbf\">                    </span><span style=\"color: #000080; text-decoration-color: #000080\">INFO    </span> <span style=\"font-weight: bold\">[</span><span style=\"color: #008080; text-decoration-color: #008080; font-weight: bold\">236</span>/<span style=\"color: #008080; text-decoration-color: #008080; font-weight: bold\">380</span><span style=\"font-weight: bold\">]</span> Retrieving game with <span style=\"color: #808000; text-decoration-color: #808000\">id</span>=<span style=\"color: #008080; text-decoration-color: #008080; font-weight: bold\">1549879</span>                             <a href=\"file:///home/morten/.conda/envs/packing-report/lib/python3.10/site-packages/soccerdata/whoscored.py\" target=\"_blank\"><span style=\"color: #7f7f7f; text-decoration-color: #7f7f7f\">whoscored.py</span></a><span style=\"color: #7f7f7f; text-decoration-color: #7f7f7f\">:</span><a href=\"file:///home/morten/.conda/envs/packing-report/lib/python3.10/site-packages/soccerdata/whoscored.py#584\" target=\"_blank\"><span style=\"color: #7f7f7f; text-decoration-color: #7f7f7f\">584</span></a>\n",
       "</pre>\n"
      ],
      "text/plain": [
       "\u001b[2;36m                   \u001b[0m\u001b[2;36m \u001b[0m\u001b[34mINFO    \u001b[0m \u001b[1m[\u001b[0m\u001b[1;36m236\u001b[0m/\u001b[1;36m380\u001b[0m\u001b[1m]\u001b[0m Retrieving game with \u001b[33mid\u001b[0m=\u001b[1;36m1549879\u001b[0m                             \u001b]8;id=873119;file:///home/morten/.conda/envs/packing-report/lib/python3.10/site-packages/soccerdata/whoscored.py\u001b\\\u001b[2mwhoscored.py\u001b[0m\u001b]8;;\u001b\\\u001b[2m:\u001b[0m\u001b]8;id=171355;file:///home/morten/.conda/envs/packing-report/lib/python3.10/site-packages/soccerdata/whoscored.py#584\u001b\\\u001b[2m584\u001b[0m\u001b]8;;\u001b\\\n"
      ]
     },
     "metadata": {},
     "output_type": "display_data"
    },
    {
     "data": {
      "text/html": [
       "<pre style=\"white-space:pre;overflow-x:auto;line-height:normal;font-family:Menlo,'DejaVu Sans Mono',consolas,'Courier New',monospace\"><span style=\"color: #7fbfbf; text-decoration-color: #7fbfbf\">                    </span><span style=\"color: #000080; text-decoration-color: #000080\">INFO    </span> <span style=\"font-weight: bold\">[</span><span style=\"color: #008080; text-decoration-color: #008080; font-weight: bold\">237</span>/<span style=\"color: #008080; text-decoration-color: #008080; font-weight: bold\">380</span><span style=\"font-weight: bold\">]</span> Retrieving game with <span style=\"color: #808000; text-decoration-color: #808000\">id</span>=<span style=\"color: #008080; text-decoration-color: #008080; font-weight: bold\">1549869</span>                             <a href=\"file:///home/morten/.conda/envs/packing-report/lib/python3.10/site-packages/soccerdata/whoscored.py\" target=\"_blank\"><span style=\"color: #7f7f7f; text-decoration-color: #7f7f7f\">whoscored.py</span></a><span style=\"color: #7f7f7f; text-decoration-color: #7f7f7f\">:</span><a href=\"file:///home/morten/.conda/envs/packing-report/lib/python3.10/site-packages/soccerdata/whoscored.py#584\" target=\"_blank\"><span style=\"color: #7f7f7f; text-decoration-color: #7f7f7f\">584</span></a>\n",
       "</pre>\n"
      ],
      "text/plain": [
       "\u001b[2;36m                   \u001b[0m\u001b[2;36m \u001b[0m\u001b[34mINFO    \u001b[0m \u001b[1m[\u001b[0m\u001b[1;36m237\u001b[0m/\u001b[1;36m380\u001b[0m\u001b[1m]\u001b[0m Retrieving game with \u001b[33mid\u001b[0m=\u001b[1;36m1549869\u001b[0m                             \u001b]8;id=656889;file:///home/morten/.conda/envs/packing-report/lib/python3.10/site-packages/soccerdata/whoscored.py\u001b\\\u001b[2mwhoscored.py\u001b[0m\u001b]8;;\u001b\\\u001b[2m:\u001b[0m\u001b]8;id=977151;file:///home/morten/.conda/envs/packing-report/lib/python3.10/site-packages/soccerdata/whoscored.py#584\u001b\\\u001b[2m584\u001b[0m\u001b]8;;\u001b\\\n"
      ]
     },
     "metadata": {},
     "output_type": "display_data"
    },
    {
     "data": {
      "text/html": [
       "<pre style=\"white-space:pre;overflow-x:auto;line-height:normal;font-family:Menlo,'DejaVu Sans Mono',consolas,'Courier New',monospace\"><span style=\"color: #7fbfbf; text-decoration-color: #7fbfbf\">[10/02/22 17:52:07] </span><span style=\"color: #000080; text-decoration-color: #000080\">INFO    </span> <span style=\"font-weight: bold\">[</span><span style=\"color: #008080; text-decoration-color: #008080; font-weight: bold\">238</span>/<span style=\"color: #008080; text-decoration-color: #008080; font-weight: bold\">380</span><span style=\"font-weight: bold\">]</span> Retrieving game with <span style=\"color: #808000; text-decoration-color: #808000\">id</span>=<span style=\"color: #008080; text-decoration-color: #008080; font-weight: bold\">1549862</span>                             <a href=\"file:///home/morten/.conda/envs/packing-report/lib/python3.10/site-packages/soccerdata/whoscored.py\" target=\"_blank\"><span style=\"color: #7f7f7f; text-decoration-color: #7f7f7f\">whoscored.py</span></a><span style=\"color: #7f7f7f; text-decoration-color: #7f7f7f\">:</span><a href=\"file:///home/morten/.conda/envs/packing-report/lib/python3.10/site-packages/soccerdata/whoscored.py#584\" target=\"_blank\"><span style=\"color: #7f7f7f; text-decoration-color: #7f7f7f\">584</span></a>\n",
       "</pre>\n"
      ],
      "text/plain": [
       "\u001b[2;36m[10/02/22 17:52:07]\u001b[0m\u001b[2;36m \u001b[0m\u001b[34mINFO    \u001b[0m \u001b[1m[\u001b[0m\u001b[1;36m238\u001b[0m/\u001b[1;36m380\u001b[0m\u001b[1m]\u001b[0m Retrieving game with \u001b[33mid\u001b[0m=\u001b[1;36m1549862\u001b[0m                             \u001b]8;id=391155;file:///home/morten/.conda/envs/packing-report/lib/python3.10/site-packages/soccerdata/whoscored.py\u001b\\\u001b[2mwhoscored.py\u001b[0m\u001b]8;;\u001b\\\u001b[2m:\u001b[0m\u001b]8;id=519596;file:///home/morten/.conda/envs/packing-report/lib/python3.10/site-packages/soccerdata/whoscored.py#584\u001b\\\u001b[2m584\u001b[0m\u001b]8;;\u001b\\\n"
      ]
     },
     "metadata": {},
     "output_type": "display_data"
    },
    {
     "data": {
      "text/html": [
       "<pre style=\"white-space:pre;overflow-x:auto;line-height:normal;font-family:Menlo,'DejaVu Sans Mono',consolas,'Courier New',monospace\"><span style=\"color: #7fbfbf; text-decoration-color: #7fbfbf\">                    </span><span style=\"color: #000080; text-decoration-color: #000080\">INFO    </span> <span style=\"font-weight: bold\">[</span><span style=\"color: #008080; text-decoration-color: #008080; font-weight: bold\">239</span>/<span style=\"color: #008080; text-decoration-color: #008080; font-weight: bold\">380</span><span style=\"font-weight: bold\">]</span> Retrieving game with <span style=\"color: #808000; text-decoration-color: #808000\">id</span>=<span style=\"color: #008080; text-decoration-color: #008080; font-weight: bold\">1549899</span>                             <a href=\"file:///home/morten/.conda/envs/packing-report/lib/python3.10/site-packages/soccerdata/whoscored.py\" target=\"_blank\"><span style=\"color: #7f7f7f; text-decoration-color: #7f7f7f\">whoscored.py</span></a><span style=\"color: #7f7f7f; text-decoration-color: #7f7f7f\">:</span><a href=\"file:///home/morten/.conda/envs/packing-report/lib/python3.10/site-packages/soccerdata/whoscored.py#584\" target=\"_blank\"><span style=\"color: #7f7f7f; text-decoration-color: #7f7f7f\">584</span></a>\n",
       "</pre>\n"
      ],
      "text/plain": [
       "\u001b[2;36m                   \u001b[0m\u001b[2;36m \u001b[0m\u001b[34mINFO    \u001b[0m \u001b[1m[\u001b[0m\u001b[1;36m239\u001b[0m/\u001b[1;36m380\u001b[0m\u001b[1m]\u001b[0m Retrieving game with \u001b[33mid\u001b[0m=\u001b[1;36m1549899\u001b[0m                             \u001b]8;id=33586;file:///home/morten/.conda/envs/packing-report/lib/python3.10/site-packages/soccerdata/whoscored.py\u001b\\\u001b[2mwhoscored.py\u001b[0m\u001b]8;;\u001b\\\u001b[2m:\u001b[0m\u001b]8;id=136947;file:///home/morten/.conda/envs/packing-report/lib/python3.10/site-packages/soccerdata/whoscored.py#584\u001b\\\u001b[2m584\u001b[0m\u001b]8;;\u001b\\\n"
      ]
     },
     "metadata": {},
     "output_type": "display_data"
    },
    {
     "data": {
      "text/html": [
       "<pre style=\"white-space:pre;overflow-x:auto;line-height:normal;font-family:Menlo,'DejaVu Sans Mono',consolas,'Courier New',monospace\"><span style=\"color: #7fbfbf; text-decoration-color: #7fbfbf\">                    </span><span style=\"color: #000080; text-decoration-color: #000080\">INFO    </span> <span style=\"font-weight: bold\">[</span><span style=\"color: #008080; text-decoration-color: #008080; font-weight: bold\">240</span>/<span style=\"color: #008080; text-decoration-color: #008080; font-weight: bold\">380</span><span style=\"font-weight: bold\">]</span> Retrieving game with <span style=\"color: #808000; text-decoration-color: #808000\">id</span>=<span style=\"color: #008080; text-decoration-color: #008080; font-weight: bold\">1549540</span>                             <a href=\"file:///home/morten/.conda/envs/packing-report/lib/python3.10/site-packages/soccerdata/whoscored.py\" target=\"_blank\"><span style=\"color: #7f7f7f; text-decoration-color: #7f7f7f\">whoscored.py</span></a><span style=\"color: #7f7f7f; text-decoration-color: #7f7f7f\">:</span><a href=\"file:///home/morten/.conda/envs/packing-report/lib/python3.10/site-packages/soccerdata/whoscored.py#584\" target=\"_blank\"><span style=\"color: #7f7f7f; text-decoration-color: #7f7f7f\">584</span></a>\n",
       "</pre>\n"
      ],
      "text/plain": [
       "\u001b[2;36m                   \u001b[0m\u001b[2;36m \u001b[0m\u001b[34mINFO    \u001b[0m \u001b[1m[\u001b[0m\u001b[1;36m240\u001b[0m/\u001b[1;36m380\u001b[0m\u001b[1m]\u001b[0m Retrieving game with \u001b[33mid\u001b[0m=\u001b[1;36m1549540\u001b[0m                             \u001b]8;id=526537;file:///home/morten/.conda/envs/packing-report/lib/python3.10/site-packages/soccerdata/whoscored.py\u001b\\\u001b[2mwhoscored.py\u001b[0m\u001b]8;;\u001b\\\u001b[2m:\u001b[0m\u001b]8;id=544944;file:///home/morten/.conda/envs/packing-report/lib/python3.10/site-packages/soccerdata/whoscored.py#584\u001b\\\u001b[2m584\u001b[0m\u001b]8;;\u001b\\\n"
      ]
     },
     "metadata": {},
     "output_type": "display_data"
    },
    {
     "data": {
      "text/html": [
       "<pre style=\"white-space:pre;overflow-x:auto;line-height:normal;font-family:Menlo,'DejaVu Sans Mono',consolas,'Courier New',monospace\"><span style=\"color: #7fbfbf; text-decoration-color: #7fbfbf\">                    </span><span style=\"color: #000080; text-decoration-color: #000080\">INFO    </span> <span style=\"font-weight: bold\">[</span><span style=\"color: #008080; text-decoration-color: #008080; font-weight: bold\">241</span>/<span style=\"color: #008080; text-decoration-color: #008080; font-weight: bold\">380</span><span style=\"font-weight: bold\">]</span> Retrieving game with <span style=\"color: #808000; text-decoration-color: #808000\">id</span>=<span style=\"color: #008080; text-decoration-color: #008080; font-weight: bold\">1549695</span>                             <a href=\"file:///home/morten/.conda/envs/packing-report/lib/python3.10/site-packages/soccerdata/whoscored.py\" target=\"_blank\"><span style=\"color: #7f7f7f; text-decoration-color: #7f7f7f\">whoscored.py</span></a><span style=\"color: #7f7f7f; text-decoration-color: #7f7f7f\">:</span><a href=\"file:///home/morten/.conda/envs/packing-report/lib/python3.10/site-packages/soccerdata/whoscored.py#584\" target=\"_blank\"><span style=\"color: #7f7f7f; text-decoration-color: #7f7f7f\">584</span></a>\n",
       "</pre>\n"
      ],
      "text/plain": [
       "\u001b[2;36m                   \u001b[0m\u001b[2;36m \u001b[0m\u001b[34mINFO    \u001b[0m \u001b[1m[\u001b[0m\u001b[1;36m241\u001b[0m/\u001b[1;36m380\u001b[0m\u001b[1m]\u001b[0m Retrieving game with \u001b[33mid\u001b[0m=\u001b[1;36m1549695\u001b[0m                             \u001b]8;id=835585;file:///home/morten/.conda/envs/packing-report/lib/python3.10/site-packages/soccerdata/whoscored.py\u001b\\\u001b[2mwhoscored.py\u001b[0m\u001b]8;;\u001b\\\u001b[2m:\u001b[0m\u001b]8;id=755079;file:///home/morten/.conda/envs/packing-report/lib/python3.10/site-packages/soccerdata/whoscored.py#584\u001b\\\u001b[2m584\u001b[0m\u001b]8;;\u001b\\\n"
      ]
     },
     "metadata": {},
     "output_type": "display_data"
    },
    {
     "data": {
      "text/html": [
       "<pre style=\"white-space:pre;overflow-x:auto;line-height:normal;font-family:Menlo,'DejaVu Sans Mono',consolas,'Courier New',monospace\"><span style=\"color: #7fbfbf; text-decoration-color: #7fbfbf\">                    </span><span style=\"color: #000080; text-decoration-color: #000080\">INFO    </span> <span style=\"font-weight: bold\">[</span><span style=\"color: #008080; text-decoration-color: #008080; font-weight: bold\">242</span>/<span style=\"color: #008080; text-decoration-color: #008080; font-weight: bold\">380</span><span style=\"font-weight: bold\">]</span> Retrieving game with <span style=\"color: #808000; text-decoration-color: #808000\">id</span>=<span style=\"color: #008080; text-decoration-color: #008080; font-weight: bold\">1549650</span>                             <a href=\"file:///home/morten/.conda/envs/packing-report/lib/python3.10/site-packages/soccerdata/whoscored.py\" target=\"_blank\"><span style=\"color: #7f7f7f; text-decoration-color: #7f7f7f\">whoscored.py</span></a><span style=\"color: #7f7f7f; text-decoration-color: #7f7f7f\">:</span><a href=\"file:///home/morten/.conda/envs/packing-report/lib/python3.10/site-packages/soccerdata/whoscored.py#584\" target=\"_blank\"><span style=\"color: #7f7f7f; text-decoration-color: #7f7f7f\">584</span></a>\n",
       "</pre>\n"
      ],
      "text/plain": [
       "\u001b[2;36m                   \u001b[0m\u001b[2;36m \u001b[0m\u001b[34mINFO    \u001b[0m \u001b[1m[\u001b[0m\u001b[1;36m242\u001b[0m/\u001b[1;36m380\u001b[0m\u001b[1m]\u001b[0m Retrieving game with \u001b[33mid\u001b[0m=\u001b[1;36m1549650\u001b[0m                             \u001b]8;id=582165;file:///home/morten/.conda/envs/packing-report/lib/python3.10/site-packages/soccerdata/whoscored.py\u001b\\\u001b[2mwhoscored.py\u001b[0m\u001b]8;;\u001b\\\u001b[2m:\u001b[0m\u001b]8;id=863224;file:///home/morten/.conda/envs/packing-report/lib/python3.10/site-packages/soccerdata/whoscored.py#584\u001b\\\u001b[2m584\u001b[0m\u001b]8;;\u001b\\\n"
      ]
     },
     "metadata": {},
     "output_type": "display_data"
    },
    {
     "data": {
      "text/html": [
       "<pre style=\"white-space:pre;overflow-x:auto;line-height:normal;font-family:Menlo,'DejaVu Sans Mono',consolas,'Courier New',monospace\"><span style=\"color: #7fbfbf; text-decoration-color: #7fbfbf\">                    </span><span style=\"color: #000080; text-decoration-color: #000080\">INFO    </span> <span style=\"font-weight: bold\">[</span><span style=\"color: #008080; text-decoration-color: #008080; font-weight: bold\">243</span>/<span style=\"color: #008080; text-decoration-color: #008080; font-weight: bold\">380</span><span style=\"font-weight: bold\">]</span> Retrieving game with <span style=\"color: #808000; text-decoration-color: #808000\">id</span>=<span style=\"color: #008080; text-decoration-color: #008080; font-weight: bold\">1549812</span>                             <a href=\"file:///home/morten/.conda/envs/packing-report/lib/python3.10/site-packages/soccerdata/whoscored.py\" target=\"_blank\"><span style=\"color: #7f7f7f; text-decoration-color: #7f7f7f\">whoscored.py</span></a><span style=\"color: #7f7f7f; text-decoration-color: #7f7f7f\">:</span><a href=\"file:///home/morten/.conda/envs/packing-report/lib/python3.10/site-packages/soccerdata/whoscored.py#584\" target=\"_blank\"><span style=\"color: #7f7f7f; text-decoration-color: #7f7f7f\">584</span></a>\n",
       "</pre>\n"
      ],
      "text/plain": [
       "\u001b[2;36m                   \u001b[0m\u001b[2;36m \u001b[0m\u001b[34mINFO    \u001b[0m \u001b[1m[\u001b[0m\u001b[1;36m243\u001b[0m/\u001b[1;36m380\u001b[0m\u001b[1m]\u001b[0m Retrieving game with \u001b[33mid\u001b[0m=\u001b[1;36m1549812\u001b[0m                             \u001b]8;id=183727;file:///home/morten/.conda/envs/packing-report/lib/python3.10/site-packages/soccerdata/whoscored.py\u001b\\\u001b[2mwhoscored.py\u001b[0m\u001b]8;;\u001b\\\u001b[2m:\u001b[0m\u001b]8;id=423252;file:///home/morten/.conda/envs/packing-report/lib/python3.10/site-packages/soccerdata/whoscored.py#584\u001b\\\u001b[2m584\u001b[0m\u001b]8;;\u001b\\\n"
      ]
     },
     "metadata": {},
     "output_type": "display_data"
    },
    {
     "data": {
      "text/html": [
       "<pre style=\"white-space:pre;overflow-x:auto;line-height:normal;font-family:Menlo,'DejaVu Sans Mono',consolas,'Courier New',monospace\"><span style=\"color: #7fbfbf; text-decoration-color: #7fbfbf\">                    </span><span style=\"color: #000080; text-decoration-color: #000080\">INFO    </span> <span style=\"font-weight: bold\">[</span><span style=\"color: #008080; text-decoration-color: #008080; font-weight: bold\">244</span>/<span style=\"color: #008080; text-decoration-color: #008080; font-weight: bold\">380</span><span style=\"font-weight: bold\">]</span> Retrieving game with <span style=\"color: #808000; text-decoration-color: #808000\">id</span>=<span style=\"color: #008080; text-decoration-color: #008080; font-weight: bold\">1549840</span>                             <a href=\"file:///home/morten/.conda/envs/packing-report/lib/python3.10/site-packages/soccerdata/whoscored.py\" target=\"_blank\"><span style=\"color: #7f7f7f; text-decoration-color: #7f7f7f\">whoscored.py</span></a><span style=\"color: #7f7f7f; text-decoration-color: #7f7f7f\">:</span><a href=\"file:///home/morten/.conda/envs/packing-report/lib/python3.10/site-packages/soccerdata/whoscored.py#584\" target=\"_blank\"><span style=\"color: #7f7f7f; text-decoration-color: #7f7f7f\">584</span></a>\n",
       "</pre>\n"
      ],
      "text/plain": [
       "\u001b[2;36m                   \u001b[0m\u001b[2;36m \u001b[0m\u001b[34mINFO    \u001b[0m \u001b[1m[\u001b[0m\u001b[1;36m244\u001b[0m/\u001b[1;36m380\u001b[0m\u001b[1m]\u001b[0m Retrieving game with \u001b[33mid\u001b[0m=\u001b[1;36m1549840\u001b[0m                             \u001b]8;id=703211;file:///home/morten/.conda/envs/packing-report/lib/python3.10/site-packages/soccerdata/whoscored.py\u001b\\\u001b[2mwhoscored.py\u001b[0m\u001b]8;;\u001b\\\u001b[2m:\u001b[0m\u001b]8;id=337705;file:///home/morten/.conda/envs/packing-report/lib/python3.10/site-packages/soccerdata/whoscored.py#584\u001b\\\u001b[2m584\u001b[0m\u001b]8;;\u001b\\\n"
      ]
     },
     "metadata": {},
     "output_type": "display_data"
    },
    {
     "data": {
      "text/html": [
       "<pre style=\"white-space:pre;overflow-x:auto;line-height:normal;font-family:Menlo,'DejaVu Sans Mono',consolas,'Courier New',monospace\"><span style=\"color: #7fbfbf; text-decoration-color: #7fbfbf\">                    </span><span style=\"color: #000080; text-decoration-color: #000080\">INFO    </span> <span style=\"font-weight: bold\">[</span><span style=\"color: #008080; text-decoration-color: #008080; font-weight: bold\">245</span>/<span style=\"color: #008080; text-decoration-color: #008080; font-weight: bold\">380</span><span style=\"font-weight: bold\">]</span> Retrieving game with <span style=\"color: #808000; text-decoration-color: #808000\">id</span>=<span style=\"color: #008080; text-decoration-color: #008080; font-weight: bold\">1549634</span>                             <a href=\"file:///home/morten/.conda/envs/packing-report/lib/python3.10/site-packages/soccerdata/whoscored.py\" target=\"_blank\"><span style=\"color: #7f7f7f; text-decoration-color: #7f7f7f\">whoscored.py</span></a><span style=\"color: #7f7f7f; text-decoration-color: #7f7f7f\">:</span><a href=\"file:///home/morten/.conda/envs/packing-report/lib/python3.10/site-packages/soccerdata/whoscored.py#584\" target=\"_blank\"><span style=\"color: #7f7f7f; text-decoration-color: #7f7f7f\">584</span></a>\n",
       "</pre>\n"
      ],
      "text/plain": [
       "\u001b[2;36m                   \u001b[0m\u001b[2;36m \u001b[0m\u001b[34mINFO    \u001b[0m \u001b[1m[\u001b[0m\u001b[1;36m245\u001b[0m/\u001b[1;36m380\u001b[0m\u001b[1m]\u001b[0m Retrieving game with \u001b[33mid\u001b[0m=\u001b[1;36m1549634\u001b[0m                             \u001b]8;id=921994;file:///home/morten/.conda/envs/packing-report/lib/python3.10/site-packages/soccerdata/whoscored.py\u001b\\\u001b[2mwhoscored.py\u001b[0m\u001b]8;;\u001b\\\u001b[2m:\u001b[0m\u001b]8;id=820227;file:///home/morten/.conda/envs/packing-report/lib/python3.10/site-packages/soccerdata/whoscored.py#584\u001b\\\u001b[2m584\u001b[0m\u001b]8;;\u001b\\\n"
      ]
     },
     "metadata": {},
     "output_type": "display_data"
    },
    {
     "data": {
      "text/html": [
       "<pre style=\"white-space:pre;overflow-x:auto;line-height:normal;font-family:Menlo,'DejaVu Sans Mono',consolas,'Courier New',monospace\"><span style=\"color: #7fbfbf; text-decoration-color: #7fbfbf\">                    </span><span style=\"color: #000080; text-decoration-color: #000080\">INFO    </span> <span style=\"font-weight: bold\">[</span><span style=\"color: #008080; text-decoration-color: #008080; font-weight: bold\">246</span>/<span style=\"color: #008080; text-decoration-color: #008080; font-weight: bold\">380</span><span style=\"font-weight: bold\">]</span> Retrieving game with <span style=\"color: #808000; text-decoration-color: #808000\">id</span>=<span style=\"color: #008080; text-decoration-color: #008080; font-weight: bold\">1549665</span>                             <a href=\"file:///home/morten/.conda/envs/packing-report/lib/python3.10/site-packages/soccerdata/whoscored.py\" target=\"_blank\"><span style=\"color: #7f7f7f; text-decoration-color: #7f7f7f\">whoscored.py</span></a><span style=\"color: #7f7f7f; text-decoration-color: #7f7f7f\">:</span><a href=\"file:///home/morten/.conda/envs/packing-report/lib/python3.10/site-packages/soccerdata/whoscored.py#584\" target=\"_blank\"><span style=\"color: #7f7f7f; text-decoration-color: #7f7f7f\">584</span></a>\n",
       "</pre>\n"
      ],
      "text/plain": [
       "\u001b[2;36m                   \u001b[0m\u001b[2;36m \u001b[0m\u001b[34mINFO    \u001b[0m \u001b[1m[\u001b[0m\u001b[1;36m246\u001b[0m/\u001b[1;36m380\u001b[0m\u001b[1m]\u001b[0m Retrieving game with \u001b[33mid\u001b[0m=\u001b[1;36m1549665\u001b[0m                             \u001b]8;id=293673;file:///home/morten/.conda/envs/packing-report/lib/python3.10/site-packages/soccerdata/whoscored.py\u001b\\\u001b[2mwhoscored.py\u001b[0m\u001b]8;;\u001b\\\u001b[2m:\u001b[0m\u001b]8;id=717411;file:///home/morten/.conda/envs/packing-report/lib/python3.10/site-packages/soccerdata/whoscored.py#584\u001b\\\u001b[2m584\u001b[0m\u001b]8;;\u001b\\\n"
      ]
     },
     "metadata": {},
     "output_type": "display_data"
    },
    {
     "data": {
      "text/html": [
       "<pre style=\"white-space:pre;overflow-x:auto;line-height:normal;font-family:Menlo,'DejaVu Sans Mono',consolas,'Courier New',monospace\"><span style=\"color: #7fbfbf; text-decoration-color: #7fbfbf\">                    </span><span style=\"color: #000080; text-decoration-color: #000080\">INFO    </span> <span style=\"font-weight: bold\">[</span><span style=\"color: #008080; text-decoration-color: #008080; font-weight: bold\">247</span>/<span style=\"color: #008080; text-decoration-color: #008080; font-weight: bold\">380</span><span style=\"font-weight: bold\">]</span> Retrieving game with <span style=\"color: #808000; text-decoration-color: #808000\">id</span>=<span style=\"color: #008080; text-decoration-color: #008080; font-weight: bold\">1549910</span>                             <a href=\"file:///home/morten/.conda/envs/packing-report/lib/python3.10/site-packages/soccerdata/whoscored.py\" target=\"_blank\"><span style=\"color: #7f7f7f; text-decoration-color: #7f7f7f\">whoscored.py</span></a><span style=\"color: #7f7f7f; text-decoration-color: #7f7f7f\">:</span><a href=\"file:///home/morten/.conda/envs/packing-report/lib/python3.10/site-packages/soccerdata/whoscored.py#584\" target=\"_blank\"><span style=\"color: #7f7f7f; text-decoration-color: #7f7f7f\">584</span></a>\n",
       "</pre>\n"
      ],
      "text/plain": [
       "\u001b[2;36m                   \u001b[0m\u001b[2;36m \u001b[0m\u001b[34mINFO    \u001b[0m \u001b[1m[\u001b[0m\u001b[1;36m247\u001b[0m/\u001b[1;36m380\u001b[0m\u001b[1m]\u001b[0m Retrieving game with \u001b[33mid\u001b[0m=\u001b[1;36m1549910\u001b[0m                             \u001b]8;id=595531;file:///home/morten/.conda/envs/packing-report/lib/python3.10/site-packages/soccerdata/whoscored.py\u001b\\\u001b[2mwhoscored.py\u001b[0m\u001b]8;;\u001b\\\u001b[2m:\u001b[0m\u001b]8;id=564604;file:///home/morten/.conda/envs/packing-report/lib/python3.10/site-packages/soccerdata/whoscored.py#584\u001b\\\u001b[2m584\u001b[0m\u001b]8;;\u001b\\\n"
      ]
     },
     "metadata": {},
     "output_type": "display_data"
    },
    {
     "data": {
      "text/html": [
       "<pre style=\"white-space:pre;overflow-x:auto;line-height:normal;font-family:Menlo,'DejaVu Sans Mono',consolas,'Courier New',monospace\"><span style=\"color: #7fbfbf; text-decoration-color: #7fbfbf\">                    </span><span style=\"color: #000080; text-decoration-color: #000080\">INFO    </span> <span style=\"font-weight: bold\">[</span><span style=\"color: #008080; text-decoration-color: #008080; font-weight: bold\">248</span>/<span style=\"color: #008080; text-decoration-color: #008080; font-weight: bold\">380</span><span style=\"font-weight: bold\">]</span> Retrieving game with <span style=\"color: #808000; text-decoration-color: #808000\">id</span>=<span style=\"color: #008080; text-decoration-color: #008080; font-weight: bold\">1549645</span>                             <a href=\"file:///home/morten/.conda/envs/packing-report/lib/python3.10/site-packages/soccerdata/whoscored.py\" target=\"_blank\"><span style=\"color: #7f7f7f; text-decoration-color: #7f7f7f\">whoscored.py</span></a><span style=\"color: #7f7f7f; text-decoration-color: #7f7f7f\">:</span><a href=\"file:///home/morten/.conda/envs/packing-report/lib/python3.10/site-packages/soccerdata/whoscored.py#584\" target=\"_blank\"><span style=\"color: #7f7f7f; text-decoration-color: #7f7f7f\">584</span></a>\n",
       "</pre>\n"
      ],
      "text/plain": [
       "\u001b[2;36m                   \u001b[0m\u001b[2;36m \u001b[0m\u001b[34mINFO    \u001b[0m \u001b[1m[\u001b[0m\u001b[1;36m248\u001b[0m/\u001b[1;36m380\u001b[0m\u001b[1m]\u001b[0m Retrieving game with \u001b[33mid\u001b[0m=\u001b[1;36m1549645\u001b[0m                             \u001b]8;id=405378;file:///home/morten/.conda/envs/packing-report/lib/python3.10/site-packages/soccerdata/whoscored.py\u001b\\\u001b[2mwhoscored.py\u001b[0m\u001b]8;;\u001b\\\u001b[2m:\u001b[0m\u001b]8;id=484952;file:///home/morten/.conda/envs/packing-report/lib/python3.10/site-packages/soccerdata/whoscored.py#584\u001b\\\u001b[2m584\u001b[0m\u001b]8;;\u001b\\\n"
      ]
     },
     "metadata": {},
     "output_type": "display_data"
    },
    {
     "data": {
      "text/html": [
       "<pre style=\"white-space:pre;overflow-x:auto;line-height:normal;font-family:Menlo,'DejaVu Sans Mono',consolas,'Courier New',monospace\"><span style=\"color: #7fbfbf; text-decoration-color: #7fbfbf\">                    </span><span style=\"color: #000080; text-decoration-color: #000080\">INFO    </span> <span style=\"font-weight: bold\">[</span><span style=\"color: #008080; text-decoration-color: #008080; font-weight: bold\">249</span>/<span style=\"color: #008080; text-decoration-color: #008080; font-weight: bold\">380</span><span style=\"font-weight: bold\">]</span> Retrieving game with <span style=\"color: #808000; text-decoration-color: #808000\">id</span>=<span style=\"color: #008080; text-decoration-color: #008080; font-weight: bold\">1549913</span>                             <a href=\"file:///home/morten/.conda/envs/packing-report/lib/python3.10/site-packages/soccerdata/whoscored.py\" target=\"_blank\"><span style=\"color: #7f7f7f; text-decoration-color: #7f7f7f\">whoscored.py</span></a><span style=\"color: #7f7f7f; text-decoration-color: #7f7f7f\">:</span><a href=\"file:///home/morten/.conda/envs/packing-report/lib/python3.10/site-packages/soccerdata/whoscored.py#584\" target=\"_blank\"><span style=\"color: #7f7f7f; text-decoration-color: #7f7f7f\">584</span></a>\n",
       "</pre>\n"
      ],
      "text/plain": [
       "\u001b[2;36m                   \u001b[0m\u001b[2;36m \u001b[0m\u001b[34mINFO    \u001b[0m \u001b[1m[\u001b[0m\u001b[1;36m249\u001b[0m/\u001b[1;36m380\u001b[0m\u001b[1m]\u001b[0m Retrieving game with \u001b[33mid\u001b[0m=\u001b[1;36m1549913\u001b[0m                             \u001b]8;id=540548;file:///home/morten/.conda/envs/packing-report/lib/python3.10/site-packages/soccerdata/whoscored.py\u001b\\\u001b[2mwhoscored.py\u001b[0m\u001b]8;;\u001b\\\u001b[2m:\u001b[0m\u001b]8;id=533362;file:///home/morten/.conda/envs/packing-report/lib/python3.10/site-packages/soccerdata/whoscored.py#584\u001b\\\u001b[2m584\u001b[0m\u001b]8;;\u001b\\\n"
      ]
     },
     "metadata": {},
     "output_type": "display_data"
    },
    {
     "data": {
      "text/html": [
       "<pre style=\"white-space:pre;overflow-x:auto;line-height:normal;font-family:Menlo,'DejaVu Sans Mono',consolas,'Courier New',monospace\"><span style=\"color: #7fbfbf; text-decoration-color: #7fbfbf\">                    </span><span style=\"color: #000080; text-decoration-color: #000080\">INFO    </span> <span style=\"font-weight: bold\">[</span><span style=\"color: #008080; text-decoration-color: #008080; font-weight: bold\">250</span>/<span style=\"color: #008080; text-decoration-color: #008080; font-weight: bold\">380</span><span style=\"font-weight: bold\">]</span> Retrieving game with <span style=\"color: #808000; text-decoration-color: #808000\">id</span>=<span style=\"color: #008080; text-decoration-color: #008080; font-weight: bold\">1549745</span>                             <a href=\"file:///home/morten/.conda/envs/packing-report/lib/python3.10/site-packages/soccerdata/whoscored.py\" target=\"_blank\"><span style=\"color: #7f7f7f; text-decoration-color: #7f7f7f\">whoscored.py</span></a><span style=\"color: #7f7f7f; text-decoration-color: #7f7f7f\">:</span><a href=\"file:///home/morten/.conda/envs/packing-report/lib/python3.10/site-packages/soccerdata/whoscored.py#584\" target=\"_blank\"><span style=\"color: #7f7f7f; text-decoration-color: #7f7f7f\">584</span></a>\n",
       "</pre>\n"
      ],
      "text/plain": [
       "\u001b[2;36m                   \u001b[0m\u001b[2;36m \u001b[0m\u001b[34mINFO    \u001b[0m \u001b[1m[\u001b[0m\u001b[1;36m250\u001b[0m/\u001b[1;36m380\u001b[0m\u001b[1m]\u001b[0m Retrieving game with \u001b[33mid\u001b[0m=\u001b[1;36m1549745\u001b[0m                             \u001b]8;id=298723;file:///home/morten/.conda/envs/packing-report/lib/python3.10/site-packages/soccerdata/whoscored.py\u001b\\\u001b[2mwhoscored.py\u001b[0m\u001b]8;;\u001b\\\u001b[2m:\u001b[0m\u001b]8;id=416099;file:///home/morten/.conda/envs/packing-report/lib/python3.10/site-packages/soccerdata/whoscored.py#584\u001b\\\u001b[2m584\u001b[0m\u001b]8;;\u001b\\\n"
      ]
     },
     "metadata": {},
     "output_type": "display_data"
    },
    {
     "data": {
      "text/html": [
       "<pre style=\"white-space:pre;overflow-x:auto;line-height:normal;font-family:Menlo,'DejaVu Sans Mono',consolas,'Courier New',monospace\"><span style=\"color: #7fbfbf; text-decoration-color: #7fbfbf\">                    </span><span style=\"color: #000080; text-decoration-color: #000080\">INFO    </span> <span style=\"font-weight: bold\">[</span><span style=\"color: #008080; text-decoration-color: #008080; font-weight: bold\">251</span>/<span style=\"color: #008080; text-decoration-color: #008080; font-weight: bold\">380</span><span style=\"font-weight: bold\">]</span> Retrieving game with <span style=\"color: #808000; text-decoration-color: #808000\">id</span>=<span style=\"color: #008080; text-decoration-color: #008080; font-weight: bold\">1549890</span>                             <a href=\"file:///home/morten/.conda/envs/packing-report/lib/python3.10/site-packages/soccerdata/whoscored.py\" target=\"_blank\"><span style=\"color: #7f7f7f; text-decoration-color: #7f7f7f\">whoscored.py</span></a><span style=\"color: #7f7f7f; text-decoration-color: #7f7f7f\">:</span><a href=\"file:///home/morten/.conda/envs/packing-report/lib/python3.10/site-packages/soccerdata/whoscored.py#584\" target=\"_blank\"><span style=\"color: #7f7f7f; text-decoration-color: #7f7f7f\">584</span></a>\n",
       "</pre>\n"
      ],
      "text/plain": [
       "\u001b[2;36m                   \u001b[0m\u001b[2;36m \u001b[0m\u001b[34mINFO    \u001b[0m \u001b[1m[\u001b[0m\u001b[1;36m251\u001b[0m/\u001b[1;36m380\u001b[0m\u001b[1m]\u001b[0m Retrieving game with \u001b[33mid\u001b[0m=\u001b[1;36m1549890\u001b[0m                             \u001b]8;id=356462;file:///home/morten/.conda/envs/packing-report/lib/python3.10/site-packages/soccerdata/whoscored.py\u001b\\\u001b[2mwhoscored.py\u001b[0m\u001b]8;;\u001b\\\u001b[2m:\u001b[0m\u001b]8;id=525076;file:///home/morten/.conda/envs/packing-report/lib/python3.10/site-packages/soccerdata/whoscored.py#584\u001b\\\u001b[2m584\u001b[0m\u001b]8;;\u001b\\\n"
      ]
     },
     "metadata": {},
     "output_type": "display_data"
    },
    {
     "data": {
      "text/html": [
       "<pre style=\"white-space:pre;overflow-x:auto;line-height:normal;font-family:Menlo,'DejaVu Sans Mono',consolas,'Courier New',monospace\"><span style=\"color: #7fbfbf; text-decoration-color: #7fbfbf\">                    </span><span style=\"color: #000080; text-decoration-color: #000080\">INFO    </span> <span style=\"font-weight: bold\">[</span><span style=\"color: #008080; text-decoration-color: #008080; font-weight: bold\">252</span>/<span style=\"color: #008080; text-decoration-color: #008080; font-weight: bold\">380</span><span style=\"font-weight: bold\">]</span> Retrieving game with <span style=\"color: #808000; text-decoration-color: #808000\">id</span>=<span style=\"color: #008080; text-decoration-color: #008080; font-weight: bold\">1549833</span>                             <a href=\"file:///home/morten/.conda/envs/packing-report/lib/python3.10/site-packages/soccerdata/whoscored.py\" target=\"_blank\"><span style=\"color: #7f7f7f; text-decoration-color: #7f7f7f\">whoscored.py</span></a><span style=\"color: #7f7f7f; text-decoration-color: #7f7f7f\">:</span><a href=\"file:///home/morten/.conda/envs/packing-report/lib/python3.10/site-packages/soccerdata/whoscored.py#584\" target=\"_blank\"><span style=\"color: #7f7f7f; text-decoration-color: #7f7f7f\">584</span></a>\n",
       "</pre>\n"
      ],
      "text/plain": [
       "\u001b[2;36m                   \u001b[0m\u001b[2;36m \u001b[0m\u001b[34mINFO    \u001b[0m \u001b[1m[\u001b[0m\u001b[1;36m252\u001b[0m/\u001b[1;36m380\u001b[0m\u001b[1m]\u001b[0m Retrieving game with \u001b[33mid\u001b[0m=\u001b[1;36m1549833\u001b[0m                             \u001b]8;id=647258;file:///home/morten/.conda/envs/packing-report/lib/python3.10/site-packages/soccerdata/whoscored.py\u001b\\\u001b[2mwhoscored.py\u001b[0m\u001b]8;;\u001b\\\u001b[2m:\u001b[0m\u001b]8;id=182461;file:///home/morten/.conda/envs/packing-report/lib/python3.10/site-packages/soccerdata/whoscored.py#584\u001b\\\u001b[2m584\u001b[0m\u001b]8;;\u001b\\\n"
      ]
     },
     "metadata": {},
     "output_type": "display_data"
    },
    {
     "data": {
      "text/html": [
       "<pre style=\"white-space:pre;overflow-x:auto;line-height:normal;font-family:Menlo,'DejaVu Sans Mono',consolas,'Courier New',monospace\"><span style=\"color: #7fbfbf; text-decoration-color: #7fbfbf\">                    </span><span style=\"color: #000080; text-decoration-color: #000080\">INFO    </span> <span style=\"font-weight: bold\">[</span><span style=\"color: #008080; text-decoration-color: #008080; font-weight: bold\">253</span>/<span style=\"color: #008080; text-decoration-color: #008080; font-weight: bold\">380</span><span style=\"font-weight: bold\">]</span> Retrieving game with <span style=\"color: #808000; text-decoration-color: #808000\">id</span>=<span style=\"color: #008080; text-decoration-color: #008080; font-weight: bold\">1549854</span>                             <a href=\"file:///home/morten/.conda/envs/packing-report/lib/python3.10/site-packages/soccerdata/whoscored.py\" target=\"_blank\"><span style=\"color: #7f7f7f; text-decoration-color: #7f7f7f\">whoscored.py</span></a><span style=\"color: #7f7f7f; text-decoration-color: #7f7f7f\">:</span><a href=\"file:///home/morten/.conda/envs/packing-report/lib/python3.10/site-packages/soccerdata/whoscored.py#584\" target=\"_blank\"><span style=\"color: #7f7f7f; text-decoration-color: #7f7f7f\">584</span></a>\n",
       "</pre>\n"
      ],
      "text/plain": [
       "\u001b[2;36m                   \u001b[0m\u001b[2;36m \u001b[0m\u001b[34mINFO    \u001b[0m \u001b[1m[\u001b[0m\u001b[1;36m253\u001b[0m/\u001b[1;36m380\u001b[0m\u001b[1m]\u001b[0m Retrieving game with \u001b[33mid\u001b[0m=\u001b[1;36m1549854\u001b[0m                             \u001b]8;id=216101;file:///home/morten/.conda/envs/packing-report/lib/python3.10/site-packages/soccerdata/whoscored.py\u001b\\\u001b[2mwhoscored.py\u001b[0m\u001b]8;;\u001b\\\u001b[2m:\u001b[0m\u001b]8;id=156997;file:///home/morten/.conda/envs/packing-report/lib/python3.10/site-packages/soccerdata/whoscored.py#584\u001b\\\u001b[2m584\u001b[0m\u001b]8;;\u001b\\\n"
      ]
     },
     "metadata": {},
     "output_type": "display_data"
    },
    {
     "data": {
      "text/html": [
       "<pre style=\"white-space:pre;overflow-x:auto;line-height:normal;font-family:Menlo,'DejaVu Sans Mono',consolas,'Courier New',monospace\"><span style=\"color: #7fbfbf; text-decoration-color: #7fbfbf\">[10/02/22 17:52:08] </span><span style=\"color: #000080; text-decoration-color: #000080\">INFO    </span> <span style=\"font-weight: bold\">[</span><span style=\"color: #008080; text-decoration-color: #008080; font-weight: bold\">254</span>/<span style=\"color: #008080; text-decoration-color: #008080; font-weight: bold\">380</span><span style=\"font-weight: bold\">]</span> Retrieving game with <span style=\"color: #808000; text-decoration-color: #808000\">id</span>=<span style=\"color: #008080; text-decoration-color: #008080; font-weight: bold\">1549709</span>                             <a href=\"file:///home/morten/.conda/envs/packing-report/lib/python3.10/site-packages/soccerdata/whoscored.py\" target=\"_blank\"><span style=\"color: #7f7f7f; text-decoration-color: #7f7f7f\">whoscored.py</span></a><span style=\"color: #7f7f7f; text-decoration-color: #7f7f7f\">:</span><a href=\"file:///home/morten/.conda/envs/packing-report/lib/python3.10/site-packages/soccerdata/whoscored.py#584\" target=\"_blank\"><span style=\"color: #7f7f7f; text-decoration-color: #7f7f7f\">584</span></a>\n",
       "</pre>\n"
      ],
      "text/plain": [
       "\u001b[2;36m[10/02/22 17:52:08]\u001b[0m\u001b[2;36m \u001b[0m\u001b[34mINFO    \u001b[0m \u001b[1m[\u001b[0m\u001b[1;36m254\u001b[0m/\u001b[1;36m380\u001b[0m\u001b[1m]\u001b[0m Retrieving game with \u001b[33mid\u001b[0m=\u001b[1;36m1549709\u001b[0m                             \u001b]8;id=123361;file:///home/morten/.conda/envs/packing-report/lib/python3.10/site-packages/soccerdata/whoscored.py\u001b\\\u001b[2mwhoscored.py\u001b[0m\u001b]8;;\u001b\\\u001b[2m:\u001b[0m\u001b]8;id=89951;file:///home/morten/.conda/envs/packing-report/lib/python3.10/site-packages/soccerdata/whoscored.py#584\u001b\\\u001b[2m584\u001b[0m\u001b]8;;\u001b\\\n"
      ]
     },
     "metadata": {},
     "output_type": "display_data"
    },
    {
     "data": {
      "text/html": [
       "<pre style=\"white-space:pre;overflow-x:auto;line-height:normal;font-family:Menlo,'DejaVu Sans Mono',consolas,'Courier New',monospace\"><span style=\"color: #7fbfbf; text-decoration-color: #7fbfbf\">                    </span><span style=\"color: #000080; text-decoration-color: #000080\">INFO    </span> <span style=\"font-weight: bold\">[</span><span style=\"color: #008080; text-decoration-color: #008080; font-weight: bold\">255</span>/<span style=\"color: #008080; text-decoration-color: #008080; font-weight: bold\">380</span><span style=\"font-weight: bold\">]</span> Retrieving game with <span style=\"color: #808000; text-decoration-color: #808000\">id</span>=<span style=\"color: #008080; text-decoration-color: #008080; font-weight: bold\">1549916</span>                             <a href=\"file:///home/morten/.conda/envs/packing-report/lib/python3.10/site-packages/soccerdata/whoscored.py\" target=\"_blank\"><span style=\"color: #7f7f7f; text-decoration-color: #7f7f7f\">whoscored.py</span></a><span style=\"color: #7f7f7f; text-decoration-color: #7f7f7f\">:</span><a href=\"file:///home/morten/.conda/envs/packing-report/lib/python3.10/site-packages/soccerdata/whoscored.py#584\" target=\"_blank\"><span style=\"color: #7f7f7f; text-decoration-color: #7f7f7f\">584</span></a>\n",
       "</pre>\n"
      ],
      "text/plain": [
       "\u001b[2;36m                   \u001b[0m\u001b[2;36m \u001b[0m\u001b[34mINFO    \u001b[0m \u001b[1m[\u001b[0m\u001b[1;36m255\u001b[0m/\u001b[1;36m380\u001b[0m\u001b[1m]\u001b[0m Retrieving game with \u001b[33mid\u001b[0m=\u001b[1;36m1549916\u001b[0m                             \u001b]8;id=422406;file:///home/morten/.conda/envs/packing-report/lib/python3.10/site-packages/soccerdata/whoscored.py\u001b\\\u001b[2mwhoscored.py\u001b[0m\u001b]8;;\u001b\\\u001b[2m:\u001b[0m\u001b]8;id=370;file:///home/morten/.conda/envs/packing-report/lib/python3.10/site-packages/soccerdata/whoscored.py#584\u001b\\\u001b[2m584\u001b[0m\u001b]8;;\u001b\\\n"
      ]
     },
     "metadata": {},
     "output_type": "display_data"
    },
    {
     "data": {
      "text/html": [
       "<pre style=\"white-space:pre;overflow-x:auto;line-height:normal;font-family:Menlo,'DejaVu Sans Mono',consolas,'Courier New',monospace\"><span style=\"color: #7fbfbf; text-decoration-color: #7fbfbf\">                    </span><span style=\"color: #000080; text-decoration-color: #000080\">INFO    </span> <span style=\"font-weight: bold\">[</span><span style=\"color: #008080; text-decoration-color: #008080; font-weight: bold\">256</span>/<span style=\"color: #008080; text-decoration-color: #008080; font-weight: bold\">380</span><span style=\"font-weight: bold\">]</span> Retrieving game with <span style=\"color: #808000; text-decoration-color: #808000\">id</span>=<span style=\"color: #008080; text-decoration-color: #008080; font-weight: bold\">1549584</span>                             <a href=\"file:///home/morten/.conda/envs/packing-report/lib/python3.10/site-packages/soccerdata/whoscored.py\" target=\"_blank\"><span style=\"color: #7f7f7f; text-decoration-color: #7f7f7f\">whoscored.py</span></a><span style=\"color: #7f7f7f; text-decoration-color: #7f7f7f\">:</span><a href=\"file:///home/morten/.conda/envs/packing-report/lib/python3.10/site-packages/soccerdata/whoscored.py#584\" target=\"_blank\"><span style=\"color: #7f7f7f; text-decoration-color: #7f7f7f\">584</span></a>\n",
       "</pre>\n"
      ],
      "text/plain": [
       "\u001b[2;36m                   \u001b[0m\u001b[2;36m \u001b[0m\u001b[34mINFO    \u001b[0m \u001b[1m[\u001b[0m\u001b[1;36m256\u001b[0m/\u001b[1;36m380\u001b[0m\u001b[1m]\u001b[0m Retrieving game with \u001b[33mid\u001b[0m=\u001b[1;36m1549584\u001b[0m                             \u001b]8;id=381631;file:///home/morten/.conda/envs/packing-report/lib/python3.10/site-packages/soccerdata/whoscored.py\u001b\\\u001b[2mwhoscored.py\u001b[0m\u001b]8;;\u001b\\\u001b[2m:\u001b[0m\u001b]8;id=665798;file:///home/morten/.conda/envs/packing-report/lib/python3.10/site-packages/soccerdata/whoscored.py#584\u001b\\\u001b[2m584\u001b[0m\u001b]8;;\u001b\\\n"
      ]
     },
     "metadata": {},
     "output_type": "display_data"
    },
    {
     "data": {
      "text/html": [
       "<pre style=\"white-space:pre;overflow-x:auto;line-height:normal;font-family:Menlo,'DejaVu Sans Mono',consolas,'Courier New',monospace\"><span style=\"color: #7fbfbf; text-decoration-color: #7fbfbf\">                    </span><span style=\"color: #000080; text-decoration-color: #000080\">INFO    </span> <span style=\"font-weight: bold\">[</span><span style=\"color: #008080; text-decoration-color: #008080; font-weight: bold\">257</span>/<span style=\"color: #008080; text-decoration-color: #008080; font-weight: bold\">380</span><span style=\"font-weight: bold\">]</span> Retrieving game with <span style=\"color: #808000; text-decoration-color: #808000\">id</span>=<span style=\"color: #008080; text-decoration-color: #008080; font-weight: bold\">1549552</span>                             <a href=\"file:///home/morten/.conda/envs/packing-report/lib/python3.10/site-packages/soccerdata/whoscored.py\" target=\"_blank\"><span style=\"color: #7f7f7f; text-decoration-color: #7f7f7f\">whoscored.py</span></a><span style=\"color: #7f7f7f; text-decoration-color: #7f7f7f\">:</span><a href=\"file:///home/morten/.conda/envs/packing-report/lib/python3.10/site-packages/soccerdata/whoscored.py#584\" target=\"_blank\"><span style=\"color: #7f7f7f; text-decoration-color: #7f7f7f\">584</span></a>\n",
       "</pre>\n"
      ],
      "text/plain": [
       "\u001b[2;36m                   \u001b[0m\u001b[2;36m \u001b[0m\u001b[34mINFO    \u001b[0m \u001b[1m[\u001b[0m\u001b[1;36m257\u001b[0m/\u001b[1;36m380\u001b[0m\u001b[1m]\u001b[0m Retrieving game with \u001b[33mid\u001b[0m=\u001b[1;36m1549552\u001b[0m                             \u001b]8;id=803798;file:///home/morten/.conda/envs/packing-report/lib/python3.10/site-packages/soccerdata/whoscored.py\u001b\\\u001b[2mwhoscored.py\u001b[0m\u001b]8;;\u001b\\\u001b[2m:\u001b[0m\u001b]8;id=269963;file:///home/morten/.conda/envs/packing-report/lib/python3.10/site-packages/soccerdata/whoscored.py#584\u001b\\\u001b[2m584\u001b[0m\u001b]8;;\u001b\\\n"
      ]
     },
     "metadata": {},
     "output_type": "display_data"
    },
    {
     "data": {
      "text/html": [
       "<pre style=\"white-space:pre;overflow-x:auto;line-height:normal;font-family:Menlo,'DejaVu Sans Mono',consolas,'Courier New',monospace\"><span style=\"color: #7fbfbf; text-decoration-color: #7fbfbf\">                    </span><span style=\"color: #000080; text-decoration-color: #000080\">INFO    </span> <span style=\"font-weight: bold\">[</span><span style=\"color: #008080; text-decoration-color: #008080; font-weight: bold\">258</span>/<span style=\"color: #008080; text-decoration-color: #008080; font-weight: bold\">380</span><span style=\"font-weight: bold\">]</span> Retrieving game with <span style=\"color: #808000; text-decoration-color: #808000\">id</span>=<span style=\"color: #008080; text-decoration-color: #008080; font-weight: bold\">1549706</span>                             <a href=\"file:///home/morten/.conda/envs/packing-report/lib/python3.10/site-packages/soccerdata/whoscored.py\" target=\"_blank\"><span style=\"color: #7f7f7f; text-decoration-color: #7f7f7f\">whoscored.py</span></a><span style=\"color: #7f7f7f; text-decoration-color: #7f7f7f\">:</span><a href=\"file:///home/morten/.conda/envs/packing-report/lib/python3.10/site-packages/soccerdata/whoscored.py#584\" target=\"_blank\"><span style=\"color: #7f7f7f; text-decoration-color: #7f7f7f\">584</span></a>\n",
       "</pre>\n"
      ],
      "text/plain": [
       "\u001b[2;36m                   \u001b[0m\u001b[2;36m \u001b[0m\u001b[34mINFO    \u001b[0m \u001b[1m[\u001b[0m\u001b[1;36m258\u001b[0m/\u001b[1;36m380\u001b[0m\u001b[1m]\u001b[0m Retrieving game with \u001b[33mid\u001b[0m=\u001b[1;36m1549706\u001b[0m                             \u001b]8;id=393460;file:///home/morten/.conda/envs/packing-report/lib/python3.10/site-packages/soccerdata/whoscored.py\u001b\\\u001b[2mwhoscored.py\u001b[0m\u001b]8;;\u001b\\\u001b[2m:\u001b[0m\u001b]8;id=755847;file:///home/morten/.conda/envs/packing-report/lib/python3.10/site-packages/soccerdata/whoscored.py#584\u001b\\\u001b[2m584\u001b[0m\u001b]8;;\u001b\\\n"
      ]
     },
     "metadata": {},
     "output_type": "display_data"
    },
    {
     "data": {
      "text/html": [
       "<pre style=\"white-space:pre;overflow-x:auto;line-height:normal;font-family:Menlo,'DejaVu Sans Mono',consolas,'Courier New',monospace\"><span style=\"color: #7fbfbf; text-decoration-color: #7fbfbf\">                    </span><span style=\"color: #000080; text-decoration-color: #000080\">INFO    </span> <span style=\"font-weight: bold\">[</span><span style=\"color: #008080; text-decoration-color: #008080; font-weight: bold\">259</span>/<span style=\"color: #008080; text-decoration-color: #008080; font-weight: bold\">380</span><span style=\"font-weight: bold\">]</span> Retrieving game with <span style=\"color: #808000; text-decoration-color: #808000\">id</span>=<span style=\"color: #008080; text-decoration-color: #008080; font-weight: bold\">1549680</span>                             <a href=\"file:///home/morten/.conda/envs/packing-report/lib/python3.10/site-packages/soccerdata/whoscored.py\" target=\"_blank\"><span style=\"color: #7f7f7f; text-decoration-color: #7f7f7f\">whoscored.py</span></a><span style=\"color: #7f7f7f; text-decoration-color: #7f7f7f\">:</span><a href=\"file:///home/morten/.conda/envs/packing-report/lib/python3.10/site-packages/soccerdata/whoscored.py#584\" target=\"_blank\"><span style=\"color: #7f7f7f; text-decoration-color: #7f7f7f\">584</span></a>\n",
       "</pre>\n"
      ],
      "text/plain": [
       "\u001b[2;36m                   \u001b[0m\u001b[2;36m \u001b[0m\u001b[34mINFO    \u001b[0m \u001b[1m[\u001b[0m\u001b[1;36m259\u001b[0m/\u001b[1;36m380\u001b[0m\u001b[1m]\u001b[0m Retrieving game with \u001b[33mid\u001b[0m=\u001b[1;36m1549680\u001b[0m                             \u001b]8;id=765110;file:///home/morten/.conda/envs/packing-report/lib/python3.10/site-packages/soccerdata/whoscored.py\u001b\\\u001b[2mwhoscored.py\u001b[0m\u001b]8;;\u001b\\\u001b[2m:\u001b[0m\u001b]8;id=15034;file:///home/morten/.conda/envs/packing-report/lib/python3.10/site-packages/soccerdata/whoscored.py#584\u001b\\\u001b[2m584\u001b[0m\u001b]8;;\u001b\\\n"
      ]
     },
     "metadata": {},
     "output_type": "display_data"
    },
    {
     "data": {
      "text/html": [
       "<pre style=\"white-space:pre;overflow-x:auto;line-height:normal;font-family:Menlo,'DejaVu Sans Mono',consolas,'Courier New',monospace\"><span style=\"color: #7fbfbf; text-decoration-color: #7fbfbf\">                    </span><span style=\"color: #000080; text-decoration-color: #000080\">INFO    </span> <span style=\"font-weight: bold\">[</span><span style=\"color: #008080; text-decoration-color: #008080; font-weight: bold\">260</span>/<span style=\"color: #008080; text-decoration-color: #008080; font-weight: bold\">380</span><span style=\"font-weight: bold\">]</span> Retrieving game with <span style=\"color: #808000; text-decoration-color: #808000\">id</span>=<span style=\"color: #008080; text-decoration-color: #008080; font-weight: bold\">1549836</span>                             <a href=\"file:///home/morten/.conda/envs/packing-report/lib/python3.10/site-packages/soccerdata/whoscored.py\" target=\"_blank\"><span style=\"color: #7f7f7f; text-decoration-color: #7f7f7f\">whoscored.py</span></a><span style=\"color: #7f7f7f; text-decoration-color: #7f7f7f\">:</span><a href=\"file:///home/morten/.conda/envs/packing-report/lib/python3.10/site-packages/soccerdata/whoscored.py#584\" target=\"_blank\"><span style=\"color: #7f7f7f; text-decoration-color: #7f7f7f\">584</span></a>\n",
       "</pre>\n"
      ],
      "text/plain": [
       "\u001b[2;36m                   \u001b[0m\u001b[2;36m \u001b[0m\u001b[34mINFO    \u001b[0m \u001b[1m[\u001b[0m\u001b[1;36m260\u001b[0m/\u001b[1;36m380\u001b[0m\u001b[1m]\u001b[0m Retrieving game with \u001b[33mid\u001b[0m=\u001b[1;36m1549836\u001b[0m                             \u001b]8;id=696085;file:///home/morten/.conda/envs/packing-report/lib/python3.10/site-packages/soccerdata/whoscored.py\u001b\\\u001b[2mwhoscored.py\u001b[0m\u001b]8;;\u001b\\\u001b[2m:\u001b[0m\u001b]8;id=229800;file:///home/morten/.conda/envs/packing-report/lib/python3.10/site-packages/soccerdata/whoscored.py#584\u001b\\\u001b[2m584\u001b[0m\u001b]8;;\u001b\\\n"
      ]
     },
     "metadata": {},
     "output_type": "display_data"
    },
    {
     "data": {
      "text/html": [
       "<pre style=\"white-space:pre;overflow-x:auto;line-height:normal;font-family:Menlo,'DejaVu Sans Mono',consolas,'Courier New',monospace\"><span style=\"color: #7fbfbf; text-decoration-color: #7fbfbf\">                    </span><span style=\"color: #000080; text-decoration-color: #000080\">INFO    </span> <span style=\"font-weight: bold\">[</span><span style=\"color: #008080; text-decoration-color: #008080; font-weight: bold\">261</span>/<span style=\"color: #008080; text-decoration-color: #008080; font-weight: bold\">380</span><span style=\"font-weight: bold\">]</span> Retrieving game with <span style=\"color: #808000; text-decoration-color: #808000\">id</span>=<span style=\"color: #008080; text-decoration-color: #008080; font-weight: bold\">1549805</span>                             <a href=\"file:///home/morten/.conda/envs/packing-report/lib/python3.10/site-packages/soccerdata/whoscored.py\" target=\"_blank\"><span style=\"color: #7f7f7f; text-decoration-color: #7f7f7f\">whoscored.py</span></a><span style=\"color: #7f7f7f; text-decoration-color: #7f7f7f\">:</span><a href=\"file:///home/morten/.conda/envs/packing-report/lib/python3.10/site-packages/soccerdata/whoscored.py#584\" target=\"_blank\"><span style=\"color: #7f7f7f; text-decoration-color: #7f7f7f\">584</span></a>\n",
       "</pre>\n"
      ],
      "text/plain": [
       "\u001b[2;36m                   \u001b[0m\u001b[2;36m \u001b[0m\u001b[34mINFO    \u001b[0m \u001b[1m[\u001b[0m\u001b[1;36m261\u001b[0m/\u001b[1;36m380\u001b[0m\u001b[1m]\u001b[0m Retrieving game with \u001b[33mid\u001b[0m=\u001b[1;36m1549805\u001b[0m                             \u001b]8;id=289545;file:///home/morten/.conda/envs/packing-report/lib/python3.10/site-packages/soccerdata/whoscored.py\u001b\\\u001b[2mwhoscored.py\u001b[0m\u001b]8;;\u001b\\\u001b[2m:\u001b[0m\u001b]8;id=250044;file:///home/morten/.conda/envs/packing-report/lib/python3.10/site-packages/soccerdata/whoscored.py#584\u001b\\\u001b[2m584\u001b[0m\u001b]8;;\u001b\\\n"
      ]
     },
     "metadata": {},
     "output_type": "display_data"
    },
    {
     "data": {
      "text/html": [
       "<pre style=\"white-space:pre;overflow-x:auto;line-height:normal;font-family:Menlo,'DejaVu Sans Mono',consolas,'Courier New',monospace\"><span style=\"color: #7fbfbf; text-decoration-color: #7fbfbf\">                    </span><span style=\"color: #000080; text-decoration-color: #000080\">INFO    </span> <span style=\"font-weight: bold\">[</span><span style=\"color: #008080; text-decoration-color: #008080; font-weight: bold\">262</span>/<span style=\"color: #008080; text-decoration-color: #008080; font-weight: bold\">380</span><span style=\"font-weight: bold\">]</span> Retrieving game with <span style=\"color: #808000; text-decoration-color: #808000\">id</span>=<span style=\"color: #008080; text-decoration-color: #008080; font-weight: bold\">1549647</span>                             <a href=\"file:///home/morten/.conda/envs/packing-report/lib/python3.10/site-packages/soccerdata/whoscored.py\" target=\"_blank\"><span style=\"color: #7f7f7f; text-decoration-color: #7f7f7f\">whoscored.py</span></a><span style=\"color: #7f7f7f; text-decoration-color: #7f7f7f\">:</span><a href=\"file:///home/morten/.conda/envs/packing-report/lib/python3.10/site-packages/soccerdata/whoscored.py#584\" target=\"_blank\"><span style=\"color: #7f7f7f; text-decoration-color: #7f7f7f\">584</span></a>\n",
       "</pre>\n"
      ],
      "text/plain": [
       "\u001b[2;36m                   \u001b[0m\u001b[2;36m \u001b[0m\u001b[34mINFO    \u001b[0m \u001b[1m[\u001b[0m\u001b[1;36m262\u001b[0m/\u001b[1;36m380\u001b[0m\u001b[1m]\u001b[0m Retrieving game with \u001b[33mid\u001b[0m=\u001b[1;36m1549647\u001b[0m                             \u001b]8;id=303155;file:///home/morten/.conda/envs/packing-report/lib/python3.10/site-packages/soccerdata/whoscored.py\u001b\\\u001b[2mwhoscored.py\u001b[0m\u001b]8;;\u001b\\\u001b[2m:\u001b[0m\u001b]8;id=284820;file:///home/morten/.conda/envs/packing-report/lib/python3.10/site-packages/soccerdata/whoscored.py#584\u001b\\\u001b[2m584\u001b[0m\u001b]8;;\u001b\\\n"
      ]
     },
     "metadata": {},
     "output_type": "display_data"
    },
    {
     "data": {
      "text/html": [
       "<pre style=\"white-space:pre;overflow-x:auto;line-height:normal;font-family:Menlo,'DejaVu Sans Mono',consolas,'Courier New',monospace\"><span style=\"color: #7fbfbf; text-decoration-color: #7fbfbf\">                    </span><span style=\"color: #000080; text-decoration-color: #000080\">INFO    </span> <span style=\"font-weight: bold\">[</span><span style=\"color: #008080; text-decoration-color: #008080; font-weight: bold\">263</span>/<span style=\"color: #008080; text-decoration-color: #008080; font-weight: bold\">380</span><span style=\"font-weight: bold\">]</span> Retrieving game with <span style=\"color: #808000; text-decoration-color: #808000\">id</span>=<span style=\"color: #008080; text-decoration-color: #008080; font-weight: bold\">1549716</span>                             <a href=\"file:///home/morten/.conda/envs/packing-report/lib/python3.10/site-packages/soccerdata/whoscored.py\" target=\"_blank\"><span style=\"color: #7f7f7f; text-decoration-color: #7f7f7f\">whoscored.py</span></a><span style=\"color: #7f7f7f; text-decoration-color: #7f7f7f\">:</span><a href=\"file:///home/morten/.conda/envs/packing-report/lib/python3.10/site-packages/soccerdata/whoscored.py#584\" target=\"_blank\"><span style=\"color: #7f7f7f; text-decoration-color: #7f7f7f\">584</span></a>\n",
       "</pre>\n"
      ],
      "text/plain": [
       "\u001b[2;36m                   \u001b[0m\u001b[2;36m \u001b[0m\u001b[34mINFO    \u001b[0m \u001b[1m[\u001b[0m\u001b[1;36m263\u001b[0m/\u001b[1;36m380\u001b[0m\u001b[1m]\u001b[0m Retrieving game with \u001b[33mid\u001b[0m=\u001b[1;36m1549716\u001b[0m                             \u001b]8;id=310927;file:///home/morten/.conda/envs/packing-report/lib/python3.10/site-packages/soccerdata/whoscored.py\u001b\\\u001b[2mwhoscored.py\u001b[0m\u001b]8;;\u001b\\\u001b[2m:\u001b[0m\u001b]8;id=66305;file:///home/morten/.conda/envs/packing-report/lib/python3.10/site-packages/soccerdata/whoscored.py#584\u001b\\\u001b[2m584\u001b[0m\u001b]8;;\u001b\\\n"
      ]
     },
     "metadata": {},
     "output_type": "display_data"
    },
    {
     "data": {
      "text/html": [
       "<pre style=\"white-space:pre;overflow-x:auto;line-height:normal;font-family:Menlo,'DejaVu Sans Mono',consolas,'Courier New',monospace\"><span style=\"color: #7fbfbf; text-decoration-color: #7fbfbf\">                    </span><span style=\"color: #000080; text-decoration-color: #000080\">INFO    </span> <span style=\"font-weight: bold\">[</span><span style=\"color: #008080; text-decoration-color: #008080; font-weight: bold\">264</span>/<span style=\"color: #008080; text-decoration-color: #008080; font-weight: bold\">380</span><span style=\"font-weight: bold\">]</span> Retrieving game with <span style=\"color: #808000; text-decoration-color: #808000\">id</span>=<span style=\"color: #008080; text-decoration-color: #008080; font-weight: bold\">1549835</span>                             <a href=\"file:///home/morten/.conda/envs/packing-report/lib/python3.10/site-packages/soccerdata/whoscored.py\" target=\"_blank\"><span style=\"color: #7f7f7f; text-decoration-color: #7f7f7f\">whoscored.py</span></a><span style=\"color: #7f7f7f; text-decoration-color: #7f7f7f\">:</span><a href=\"file:///home/morten/.conda/envs/packing-report/lib/python3.10/site-packages/soccerdata/whoscored.py#584\" target=\"_blank\"><span style=\"color: #7f7f7f; text-decoration-color: #7f7f7f\">584</span></a>\n",
       "</pre>\n"
      ],
      "text/plain": [
       "\u001b[2;36m                   \u001b[0m\u001b[2;36m \u001b[0m\u001b[34mINFO    \u001b[0m \u001b[1m[\u001b[0m\u001b[1;36m264\u001b[0m/\u001b[1;36m380\u001b[0m\u001b[1m]\u001b[0m Retrieving game with \u001b[33mid\u001b[0m=\u001b[1;36m1549835\u001b[0m                             \u001b]8;id=119724;file:///home/morten/.conda/envs/packing-report/lib/python3.10/site-packages/soccerdata/whoscored.py\u001b\\\u001b[2mwhoscored.py\u001b[0m\u001b]8;;\u001b\\\u001b[2m:\u001b[0m\u001b]8;id=545565;file:///home/morten/.conda/envs/packing-report/lib/python3.10/site-packages/soccerdata/whoscored.py#584\u001b\\\u001b[2m584\u001b[0m\u001b]8;;\u001b\\\n"
      ]
     },
     "metadata": {},
     "output_type": "display_data"
    },
    {
     "data": {
      "text/html": [
       "<pre style=\"white-space:pre;overflow-x:auto;line-height:normal;font-family:Menlo,'DejaVu Sans Mono',consolas,'Courier New',monospace\"><span style=\"color: #7fbfbf; text-decoration-color: #7fbfbf\">                    </span><span style=\"color: #000080; text-decoration-color: #000080\">INFO    </span> <span style=\"font-weight: bold\">[</span><span style=\"color: #008080; text-decoration-color: #008080; font-weight: bold\">265</span>/<span style=\"color: #008080; text-decoration-color: #008080; font-weight: bold\">380</span><span style=\"font-weight: bold\">]</span> Retrieving game with <span style=\"color: #808000; text-decoration-color: #808000\">id</span>=<span style=\"color: #008080; text-decoration-color: #008080; font-weight: bold\">1549653</span>                             <a href=\"file:///home/morten/.conda/envs/packing-report/lib/python3.10/site-packages/soccerdata/whoscored.py\" target=\"_blank\"><span style=\"color: #7f7f7f; text-decoration-color: #7f7f7f\">whoscored.py</span></a><span style=\"color: #7f7f7f; text-decoration-color: #7f7f7f\">:</span><a href=\"file:///home/morten/.conda/envs/packing-report/lib/python3.10/site-packages/soccerdata/whoscored.py#584\" target=\"_blank\"><span style=\"color: #7f7f7f; text-decoration-color: #7f7f7f\">584</span></a>\n",
       "</pre>\n"
      ],
      "text/plain": [
       "\u001b[2;36m                   \u001b[0m\u001b[2;36m \u001b[0m\u001b[34mINFO    \u001b[0m \u001b[1m[\u001b[0m\u001b[1;36m265\u001b[0m/\u001b[1;36m380\u001b[0m\u001b[1m]\u001b[0m Retrieving game with \u001b[33mid\u001b[0m=\u001b[1;36m1549653\u001b[0m                             \u001b]8;id=964840;file:///home/morten/.conda/envs/packing-report/lib/python3.10/site-packages/soccerdata/whoscored.py\u001b\\\u001b[2mwhoscored.py\u001b[0m\u001b]8;;\u001b\\\u001b[2m:\u001b[0m\u001b]8;id=531150;file:///home/morten/.conda/envs/packing-report/lib/python3.10/site-packages/soccerdata/whoscored.py#584\u001b\\\u001b[2m584\u001b[0m\u001b]8;;\u001b\\\n"
      ]
     },
     "metadata": {},
     "output_type": "display_data"
    },
    {
     "data": {
      "text/html": [
       "<pre style=\"white-space:pre;overflow-x:auto;line-height:normal;font-family:Menlo,'DejaVu Sans Mono',consolas,'Courier New',monospace\"><span style=\"color: #7fbfbf; text-decoration-color: #7fbfbf\">                    </span><span style=\"color: #000080; text-decoration-color: #000080\">INFO    </span> <span style=\"font-weight: bold\">[</span><span style=\"color: #008080; text-decoration-color: #008080; font-weight: bold\">266</span>/<span style=\"color: #008080; text-decoration-color: #008080; font-weight: bold\">380</span><span style=\"font-weight: bold\">]</span> Retrieving game with <span style=\"color: #808000; text-decoration-color: #808000\">id</span>=<span style=\"color: #008080; text-decoration-color: #008080; font-weight: bold\">1549594</span>                             <a href=\"file:///home/morten/.conda/envs/packing-report/lib/python3.10/site-packages/soccerdata/whoscored.py\" target=\"_blank\"><span style=\"color: #7f7f7f; text-decoration-color: #7f7f7f\">whoscored.py</span></a><span style=\"color: #7f7f7f; text-decoration-color: #7f7f7f\">:</span><a href=\"file:///home/morten/.conda/envs/packing-report/lib/python3.10/site-packages/soccerdata/whoscored.py#584\" target=\"_blank\"><span style=\"color: #7f7f7f; text-decoration-color: #7f7f7f\">584</span></a>\n",
       "</pre>\n"
      ],
      "text/plain": [
       "\u001b[2;36m                   \u001b[0m\u001b[2;36m \u001b[0m\u001b[34mINFO    \u001b[0m \u001b[1m[\u001b[0m\u001b[1;36m266\u001b[0m/\u001b[1;36m380\u001b[0m\u001b[1m]\u001b[0m Retrieving game with \u001b[33mid\u001b[0m=\u001b[1;36m1549594\u001b[0m                             \u001b]8;id=79342;file:///home/morten/.conda/envs/packing-report/lib/python3.10/site-packages/soccerdata/whoscored.py\u001b\\\u001b[2mwhoscored.py\u001b[0m\u001b]8;;\u001b\\\u001b[2m:\u001b[0m\u001b]8;id=296115;file:///home/morten/.conda/envs/packing-report/lib/python3.10/site-packages/soccerdata/whoscored.py#584\u001b\\\u001b[2m584\u001b[0m\u001b]8;;\u001b\\\n"
      ]
     },
     "metadata": {},
     "output_type": "display_data"
    },
    {
     "data": {
      "text/html": [
       "<pre style=\"white-space:pre;overflow-x:auto;line-height:normal;font-family:Menlo,'DejaVu Sans Mono',consolas,'Courier New',monospace\"><span style=\"color: #7fbfbf; text-decoration-color: #7fbfbf\">                    </span><span style=\"color: #000080; text-decoration-color: #000080\">INFO    </span> <span style=\"font-weight: bold\">[</span><span style=\"color: #008080; text-decoration-color: #008080; font-weight: bold\">267</span>/<span style=\"color: #008080; text-decoration-color: #008080; font-weight: bold\">380</span><span style=\"font-weight: bold\">]</span> Retrieving game with <span style=\"color: #808000; text-decoration-color: #808000\">id</span>=<span style=\"color: #008080; text-decoration-color: #008080; font-weight: bold\">1549585</span>                             <a href=\"file:///home/morten/.conda/envs/packing-report/lib/python3.10/site-packages/soccerdata/whoscored.py\" target=\"_blank\"><span style=\"color: #7f7f7f; text-decoration-color: #7f7f7f\">whoscored.py</span></a><span style=\"color: #7f7f7f; text-decoration-color: #7f7f7f\">:</span><a href=\"file:///home/morten/.conda/envs/packing-report/lib/python3.10/site-packages/soccerdata/whoscored.py#584\" target=\"_blank\"><span style=\"color: #7f7f7f; text-decoration-color: #7f7f7f\">584</span></a>\n",
       "</pre>\n"
      ],
      "text/plain": [
       "\u001b[2;36m                   \u001b[0m\u001b[2;36m \u001b[0m\u001b[34mINFO    \u001b[0m \u001b[1m[\u001b[0m\u001b[1;36m267\u001b[0m/\u001b[1;36m380\u001b[0m\u001b[1m]\u001b[0m Retrieving game with \u001b[33mid\u001b[0m=\u001b[1;36m1549585\u001b[0m                             \u001b]8;id=106307;file:///home/morten/.conda/envs/packing-report/lib/python3.10/site-packages/soccerdata/whoscored.py\u001b\\\u001b[2mwhoscored.py\u001b[0m\u001b]8;;\u001b\\\u001b[2m:\u001b[0m\u001b]8;id=726981;file:///home/morten/.conda/envs/packing-report/lib/python3.10/site-packages/soccerdata/whoscored.py#584\u001b\\\u001b[2m584\u001b[0m\u001b]8;;\u001b\\\n"
      ]
     },
     "metadata": {},
     "output_type": "display_data"
    },
    {
     "data": {
      "text/html": [
       "<pre style=\"white-space:pre;overflow-x:auto;line-height:normal;font-family:Menlo,'DejaVu Sans Mono',consolas,'Courier New',monospace\"><span style=\"color: #7fbfbf; text-decoration-color: #7fbfbf\">                    </span><span style=\"color: #000080; text-decoration-color: #000080\">INFO    </span> <span style=\"font-weight: bold\">[</span><span style=\"color: #008080; text-decoration-color: #008080; font-weight: bold\">268</span>/<span style=\"color: #008080; text-decoration-color: #008080; font-weight: bold\">380</span><span style=\"font-weight: bold\">]</span> Retrieving game with <span style=\"color: #808000; text-decoration-color: #808000\">id</span>=<span style=\"color: #008080; text-decoration-color: #008080; font-weight: bold\">1549555</span>                             <a href=\"file:///home/morten/.conda/envs/packing-report/lib/python3.10/site-packages/soccerdata/whoscored.py\" target=\"_blank\"><span style=\"color: #7f7f7f; text-decoration-color: #7f7f7f\">whoscored.py</span></a><span style=\"color: #7f7f7f; text-decoration-color: #7f7f7f\">:</span><a href=\"file:///home/morten/.conda/envs/packing-report/lib/python3.10/site-packages/soccerdata/whoscored.py#584\" target=\"_blank\"><span style=\"color: #7f7f7f; text-decoration-color: #7f7f7f\">584</span></a>\n",
       "</pre>\n"
      ],
      "text/plain": [
       "\u001b[2;36m                   \u001b[0m\u001b[2;36m \u001b[0m\u001b[34mINFO    \u001b[0m \u001b[1m[\u001b[0m\u001b[1;36m268\u001b[0m/\u001b[1;36m380\u001b[0m\u001b[1m]\u001b[0m Retrieving game with \u001b[33mid\u001b[0m=\u001b[1;36m1549555\u001b[0m                             \u001b]8;id=517476;file:///home/morten/.conda/envs/packing-report/lib/python3.10/site-packages/soccerdata/whoscored.py\u001b\\\u001b[2mwhoscored.py\u001b[0m\u001b]8;;\u001b\\\u001b[2m:\u001b[0m\u001b]8;id=249237;file:///home/morten/.conda/envs/packing-report/lib/python3.10/site-packages/soccerdata/whoscored.py#584\u001b\\\u001b[2m584\u001b[0m\u001b]8;;\u001b\\\n"
      ]
     },
     "metadata": {},
     "output_type": "display_data"
    },
    {
     "data": {
      "text/html": [
       "<pre style=\"white-space:pre;overflow-x:auto;line-height:normal;font-family:Menlo,'DejaVu Sans Mono',consolas,'Courier New',monospace\"><span style=\"color: #7fbfbf; text-decoration-color: #7fbfbf\">                    </span><span style=\"color: #000080; text-decoration-color: #000080\">INFO    </span> <span style=\"font-weight: bold\">[</span><span style=\"color: #008080; text-decoration-color: #008080; font-weight: bold\">269</span>/<span style=\"color: #008080; text-decoration-color: #008080; font-weight: bold\">380</span><span style=\"font-weight: bold\">]</span> Retrieving game with <span style=\"color: #808000; text-decoration-color: #808000\">id</span>=<span style=\"color: #008080; text-decoration-color: #008080; font-weight: bold\">1549756</span>                             <a href=\"file:///home/morten/.conda/envs/packing-report/lib/python3.10/site-packages/soccerdata/whoscored.py\" target=\"_blank\"><span style=\"color: #7f7f7f; text-decoration-color: #7f7f7f\">whoscored.py</span></a><span style=\"color: #7f7f7f; text-decoration-color: #7f7f7f\">:</span><a href=\"file:///home/morten/.conda/envs/packing-report/lib/python3.10/site-packages/soccerdata/whoscored.py#584\" target=\"_blank\"><span style=\"color: #7f7f7f; text-decoration-color: #7f7f7f\">584</span></a>\n",
       "</pre>\n"
      ],
      "text/plain": [
       "\u001b[2;36m                   \u001b[0m\u001b[2;36m \u001b[0m\u001b[34mINFO    \u001b[0m \u001b[1m[\u001b[0m\u001b[1;36m269\u001b[0m/\u001b[1;36m380\u001b[0m\u001b[1m]\u001b[0m Retrieving game with \u001b[33mid\u001b[0m=\u001b[1;36m1549756\u001b[0m                             \u001b]8;id=468077;file:///home/morten/.conda/envs/packing-report/lib/python3.10/site-packages/soccerdata/whoscored.py\u001b\\\u001b[2mwhoscored.py\u001b[0m\u001b]8;;\u001b\\\u001b[2m:\u001b[0m\u001b]8;id=489828;file:///home/morten/.conda/envs/packing-report/lib/python3.10/site-packages/soccerdata/whoscored.py#584\u001b\\\u001b[2m584\u001b[0m\u001b]8;;\u001b\\\n"
      ]
     },
     "metadata": {},
     "output_type": "display_data"
    },
    {
     "data": {
      "text/html": [
       "<pre style=\"white-space:pre;overflow-x:auto;line-height:normal;font-family:Menlo,'DejaVu Sans Mono',consolas,'Courier New',monospace\"><span style=\"color: #7fbfbf; text-decoration-color: #7fbfbf\">                    </span><span style=\"color: #000080; text-decoration-color: #000080\">INFO    </span> <span style=\"font-weight: bold\">[</span><span style=\"color: #008080; text-decoration-color: #008080; font-weight: bold\">270</span>/<span style=\"color: #008080; text-decoration-color: #008080; font-weight: bold\">380</span><span style=\"font-weight: bold\">]</span> Retrieving game with <span style=\"color: #808000; text-decoration-color: #808000\">id</span>=<span style=\"color: #008080; text-decoration-color: #008080; font-weight: bold\">1549918</span>                             <a href=\"file:///home/morten/.conda/envs/packing-report/lib/python3.10/site-packages/soccerdata/whoscored.py\" target=\"_blank\"><span style=\"color: #7f7f7f; text-decoration-color: #7f7f7f\">whoscored.py</span></a><span style=\"color: #7f7f7f; text-decoration-color: #7f7f7f\">:</span><a href=\"file:///home/morten/.conda/envs/packing-report/lib/python3.10/site-packages/soccerdata/whoscored.py#584\" target=\"_blank\"><span style=\"color: #7f7f7f; text-decoration-color: #7f7f7f\">584</span></a>\n",
       "</pre>\n"
      ],
      "text/plain": [
       "\u001b[2;36m                   \u001b[0m\u001b[2;36m \u001b[0m\u001b[34mINFO    \u001b[0m \u001b[1m[\u001b[0m\u001b[1;36m270\u001b[0m/\u001b[1;36m380\u001b[0m\u001b[1m]\u001b[0m Retrieving game with \u001b[33mid\u001b[0m=\u001b[1;36m1549918\u001b[0m                             \u001b]8;id=703890;file:///home/morten/.conda/envs/packing-report/lib/python3.10/site-packages/soccerdata/whoscored.py\u001b\\\u001b[2mwhoscored.py\u001b[0m\u001b]8;;\u001b\\\u001b[2m:\u001b[0m\u001b]8;id=884991;file:///home/morten/.conda/envs/packing-report/lib/python3.10/site-packages/soccerdata/whoscored.py#584\u001b\\\u001b[2m584\u001b[0m\u001b]8;;\u001b\\\n"
      ]
     },
     "metadata": {},
     "output_type": "display_data"
    },
    {
     "data": {
      "text/html": [
       "<pre style=\"white-space:pre;overflow-x:auto;line-height:normal;font-family:Menlo,'DejaVu Sans Mono',consolas,'Courier New',monospace\"><span style=\"color: #7fbfbf; text-decoration-color: #7fbfbf\">                    </span><span style=\"color: #000080; text-decoration-color: #000080\">INFO    </span> <span style=\"font-weight: bold\">[</span><span style=\"color: #008080; text-decoration-color: #008080; font-weight: bold\">271</span>/<span style=\"color: #008080; text-decoration-color: #008080; font-weight: bold\">380</span><span style=\"font-weight: bold\">]</span> Retrieving game with <span style=\"color: #808000; text-decoration-color: #808000\">id</span>=<span style=\"color: #008080; text-decoration-color: #008080; font-weight: bold\">1549863</span>                             <a href=\"file:///home/morten/.conda/envs/packing-report/lib/python3.10/site-packages/soccerdata/whoscored.py\" target=\"_blank\"><span style=\"color: #7f7f7f; text-decoration-color: #7f7f7f\">whoscored.py</span></a><span style=\"color: #7f7f7f; text-decoration-color: #7f7f7f\">:</span><a href=\"file:///home/morten/.conda/envs/packing-report/lib/python3.10/site-packages/soccerdata/whoscored.py#584\" target=\"_blank\"><span style=\"color: #7f7f7f; text-decoration-color: #7f7f7f\">584</span></a>\n",
       "</pre>\n"
      ],
      "text/plain": [
       "\u001b[2;36m                   \u001b[0m\u001b[2;36m \u001b[0m\u001b[34mINFO    \u001b[0m \u001b[1m[\u001b[0m\u001b[1;36m271\u001b[0m/\u001b[1;36m380\u001b[0m\u001b[1m]\u001b[0m Retrieving game with \u001b[33mid\u001b[0m=\u001b[1;36m1549863\u001b[0m                             \u001b]8;id=670774;file:///home/morten/.conda/envs/packing-report/lib/python3.10/site-packages/soccerdata/whoscored.py\u001b\\\u001b[2mwhoscored.py\u001b[0m\u001b]8;;\u001b\\\u001b[2m:\u001b[0m\u001b]8;id=180020;file:///home/morten/.conda/envs/packing-report/lib/python3.10/site-packages/soccerdata/whoscored.py#584\u001b\\\u001b[2m584\u001b[0m\u001b]8;;\u001b\\\n"
      ]
     },
     "metadata": {},
     "output_type": "display_data"
    },
    {
     "data": {
      "text/html": [
       "<pre style=\"white-space:pre;overflow-x:auto;line-height:normal;font-family:Menlo,'DejaVu Sans Mono',consolas,'Courier New',monospace\"><span style=\"color: #7fbfbf; text-decoration-color: #7fbfbf\">                    </span><span style=\"color: #000080; text-decoration-color: #000080\">INFO    </span> <span style=\"font-weight: bold\">[</span><span style=\"color: #008080; text-decoration-color: #008080; font-weight: bold\">272</span>/<span style=\"color: #008080; text-decoration-color: #008080; font-weight: bold\">380</span><span style=\"font-weight: bold\">]</span> Retrieving game with <span style=\"color: #808000; text-decoration-color: #808000\">id</span>=<span style=\"color: #008080; text-decoration-color: #008080; font-weight: bold\">1549772</span>                             <a href=\"file:///home/morten/.conda/envs/packing-report/lib/python3.10/site-packages/soccerdata/whoscored.py\" target=\"_blank\"><span style=\"color: #7f7f7f; text-decoration-color: #7f7f7f\">whoscored.py</span></a><span style=\"color: #7f7f7f; text-decoration-color: #7f7f7f\">:</span><a href=\"file:///home/morten/.conda/envs/packing-report/lib/python3.10/site-packages/soccerdata/whoscored.py#584\" target=\"_blank\"><span style=\"color: #7f7f7f; text-decoration-color: #7f7f7f\">584</span></a>\n",
       "</pre>\n"
      ],
      "text/plain": [
       "\u001b[2;36m                   \u001b[0m\u001b[2;36m \u001b[0m\u001b[34mINFO    \u001b[0m \u001b[1m[\u001b[0m\u001b[1;36m272\u001b[0m/\u001b[1;36m380\u001b[0m\u001b[1m]\u001b[0m Retrieving game with \u001b[33mid\u001b[0m=\u001b[1;36m1549772\u001b[0m                             \u001b]8;id=941888;file:///home/morten/.conda/envs/packing-report/lib/python3.10/site-packages/soccerdata/whoscored.py\u001b\\\u001b[2mwhoscored.py\u001b[0m\u001b]8;;\u001b\\\u001b[2m:\u001b[0m\u001b]8;id=476699;file:///home/morten/.conda/envs/packing-report/lib/python3.10/site-packages/soccerdata/whoscored.py#584\u001b\\\u001b[2m584\u001b[0m\u001b]8;;\u001b\\\n"
      ]
     },
     "metadata": {},
     "output_type": "display_data"
    },
    {
     "data": {
      "text/html": [
       "<pre style=\"white-space:pre;overflow-x:auto;line-height:normal;font-family:Menlo,'DejaVu Sans Mono',consolas,'Courier New',monospace\"><span style=\"color: #7fbfbf; text-decoration-color: #7fbfbf\">[10/02/22 17:52:09] </span><span style=\"color: #000080; text-decoration-color: #000080\">INFO    </span> <span style=\"font-weight: bold\">[</span><span style=\"color: #008080; text-decoration-color: #008080; font-weight: bold\">273</span>/<span style=\"color: #008080; text-decoration-color: #008080; font-weight: bold\">380</span><span style=\"font-weight: bold\">]</span> Retrieving game with <span style=\"color: #808000; text-decoration-color: #808000\">id</span>=<span style=\"color: #008080; text-decoration-color: #008080; font-weight: bold\">1549746</span>                             <a href=\"file:///home/morten/.conda/envs/packing-report/lib/python3.10/site-packages/soccerdata/whoscored.py\" target=\"_blank\"><span style=\"color: #7f7f7f; text-decoration-color: #7f7f7f\">whoscored.py</span></a><span style=\"color: #7f7f7f; text-decoration-color: #7f7f7f\">:</span><a href=\"file:///home/morten/.conda/envs/packing-report/lib/python3.10/site-packages/soccerdata/whoscored.py#584\" target=\"_blank\"><span style=\"color: #7f7f7f; text-decoration-color: #7f7f7f\">584</span></a>\n",
       "</pre>\n"
      ],
      "text/plain": [
       "\u001b[2;36m[10/02/22 17:52:09]\u001b[0m\u001b[2;36m \u001b[0m\u001b[34mINFO    \u001b[0m \u001b[1m[\u001b[0m\u001b[1;36m273\u001b[0m/\u001b[1;36m380\u001b[0m\u001b[1m]\u001b[0m Retrieving game with \u001b[33mid\u001b[0m=\u001b[1;36m1549746\u001b[0m                             \u001b]8;id=117061;file:///home/morten/.conda/envs/packing-report/lib/python3.10/site-packages/soccerdata/whoscored.py\u001b\\\u001b[2mwhoscored.py\u001b[0m\u001b]8;;\u001b\\\u001b[2m:\u001b[0m\u001b]8;id=10500;file:///home/morten/.conda/envs/packing-report/lib/python3.10/site-packages/soccerdata/whoscored.py#584\u001b\\\u001b[2m584\u001b[0m\u001b]8;;\u001b\\\n"
      ]
     },
     "metadata": {},
     "output_type": "display_data"
    },
    {
     "data": {
      "text/html": [
       "<pre style=\"white-space:pre;overflow-x:auto;line-height:normal;font-family:Menlo,'DejaVu Sans Mono',consolas,'Courier New',monospace\"><span style=\"color: #7fbfbf; text-decoration-color: #7fbfbf\">                    </span><span style=\"color: #000080; text-decoration-color: #000080\">INFO    </span> <span style=\"font-weight: bold\">[</span><span style=\"color: #008080; text-decoration-color: #008080; font-weight: bold\">274</span>/<span style=\"color: #008080; text-decoration-color: #008080; font-weight: bold\">380</span><span style=\"font-weight: bold\">]</span> Retrieving game with <span style=\"color: #808000; text-decoration-color: #808000\">id</span>=<span style=\"color: #008080; text-decoration-color: #008080; font-weight: bold\">1549726</span>                             <a href=\"file:///home/morten/.conda/envs/packing-report/lib/python3.10/site-packages/soccerdata/whoscored.py\" target=\"_blank\"><span style=\"color: #7f7f7f; text-decoration-color: #7f7f7f\">whoscored.py</span></a><span style=\"color: #7f7f7f; text-decoration-color: #7f7f7f\">:</span><a href=\"file:///home/morten/.conda/envs/packing-report/lib/python3.10/site-packages/soccerdata/whoscored.py#584\" target=\"_blank\"><span style=\"color: #7f7f7f; text-decoration-color: #7f7f7f\">584</span></a>\n",
       "</pre>\n"
      ],
      "text/plain": [
       "\u001b[2;36m                   \u001b[0m\u001b[2;36m \u001b[0m\u001b[34mINFO    \u001b[0m \u001b[1m[\u001b[0m\u001b[1;36m274\u001b[0m/\u001b[1;36m380\u001b[0m\u001b[1m]\u001b[0m Retrieving game with \u001b[33mid\u001b[0m=\u001b[1;36m1549726\u001b[0m                             \u001b]8;id=915433;file:///home/morten/.conda/envs/packing-report/lib/python3.10/site-packages/soccerdata/whoscored.py\u001b\\\u001b[2mwhoscored.py\u001b[0m\u001b]8;;\u001b\\\u001b[2m:\u001b[0m\u001b]8;id=399414;file:///home/morten/.conda/envs/packing-report/lib/python3.10/site-packages/soccerdata/whoscored.py#584\u001b\\\u001b[2m584\u001b[0m\u001b]8;;\u001b\\\n"
      ]
     },
     "metadata": {},
     "output_type": "display_data"
    },
    {
     "data": {
      "text/html": [
       "<pre style=\"white-space:pre;overflow-x:auto;line-height:normal;font-family:Menlo,'DejaVu Sans Mono',consolas,'Courier New',monospace\"><span style=\"color: #7fbfbf; text-decoration-color: #7fbfbf\">                    </span><span style=\"color: #000080; text-decoration-color: #000080\">INFO    </span> <span style=\"font-weight: bold\">[</span><span style=\"color: #008080; text-decoration-color: #008080; font-weight: bold\">275</span>/<span style=\"color: #008080; text-decoration-color: #008080; font-weight: bold\">380</span><span style=\"font-weight: bold\">]</span> Retrieving game with <span style=\"color: #808000; text-decoration-color: #808000\">id</span>=<span style=\"color: #008080; text-decoration-color: #008080; font-weight: bold\">1549782</span>                             <a href=\"file:///home/morten/.conda/envs/packing-report/lib/python3.10/site-packages/soccerdata/whoscored.py\" target=\"_blank\"><span style=\"color: #7f7f7f; text-decoration-color: #7f7f7f\">whoscored.py</span></a><span style=\"color: #7f7f7f; text-decoration-color: #7f7f7f\">:</span><a href=\"file:///home/morten/.conda/envs/packing-report/lib/python3.10/site-packages/soccerdata/whoscored.py#584\" target=\"_blank\"><span style=\"color: #7f7f7f; text-decoration-color: #7f7f7f\">584</span></a>\n",
       "</pre>\n"
      ],
      "text/plain": [
       "\u001b[2;36m                   \u001b[0m\u001b[2;36m \u001b[0m\u001b[34mINFO    \u001b[0m \u001b[1m[\u001b[0m\u001b[1;36m275\u001b[0m/\u001b[1;36m380\u001b[0m\u001b[1m]\u001b[0m Retrieving game with \u001b[33mid\u001b[0m=\u001b[1;36m1549782\u001b[0m                             \u001b]8;id=10101;file:///home/morten/.conda/envs/packing-report/lib/python3.10/site-packages/soccerdata/whoscored.py\u001b\\\u001b[2mwhoscored.py\u001b[0m\u001b]8;;\u001b\\\u001b[2m:\u001b[0m\u001b]8;id=273466;file:///home/morten/.conda/envs/packing-report/lib/python3.10/site-packages/soccerdata/whoscored.py#584\u001b\\\u001b[2m584\u001b[0m\u001b]8;;\u001b\\\n"
      ]
     },
     "metadata": {},
     "output_type": "display_data"
    },
    {
     "data": {
      "text/html": [
       "<pre style=\"white-space:pre;overflow-x:auto;line-height:normal;font-family:Menlo,'DejaVu Sans Mono',consolas,'Courier New',monospace\"><span style=\"color: #7fbfbf; text-decoration-color: #7fbfbf\">                    </span><span style=\"color: #000080; text-decoration-color: #000080\">INFO    </span> <span style=\"font-weight: bold\">[</span><span style=\"color: #008080; text-decoration-color: #008080; font-weight: bold\">276</span>/<span style=\"color: #008080; text-decoration-color: #008080; font-weight: bold\">380</span><span style=\"font-weight: bold\">]</span> Retrieving game with <span style=\"color: #808000; text-decoration-color: #808000\">id</span>=<span style=\"color: #008080; text-decoration-color: #008080; font-weight: bold\">1549565</span>                             <a href=\"file:///home/morten/.conda/envs/packing-report/lib/python3.10/site-packages/soccerdata/whoscored.py\" target=\"_blank\"><span style=\"color: #7f7f7f; text-decoration-color: #7f7f7f\">whoscored.py</span></a><span style=\"color: #7f7f7f; text-decoration-color: #7f7f7f\">:</span><a href=\"file:///home/morten/.conda/envs/packing-report/lib/python3.10/site-packages/soccerdata/whoscored.py#584\" target=\"_blank\"><span style=\"color: #7f7f7f; text-decoration-color: #7f7f7f\">584</span></a>\n",
       "</pre>\n"
      ],
      "text/plain": [
       "\u001b[2;36m                   \u001b[0m\u001b[2;36m \u001b[0m\u001b[34mINFO    \u001b[0m \u001b[1m[\u001b[0m\u001b[1;36m276\u001b[0m/\u001b[1;36m380\u001b[0m\u001b[1m]\u001b[0m Retrieving game with \u001b[33mid\u001b[0m=\u001b[1;36m1549565\u001b[0m                             \u001b]8;id=925247;file:///home/morten/.conda/envs/packing-report/lib/python3.10/site-packages/soccerdata/whoscored.py\u001b\\\u001b[2mwhoscored.py\u001b[0m\u001b]8;;\u001b\\\u001b[2m:\u001b[0m\u001b]8;id=793047;file:///home/morten/.conda/envs/packing-report/lib/python3.10/site-packages/soccerdata/whoscored.py#584\u001b\\\u001b[2m584\u001b[0m\u001b]8;;\u001b\\\n"
      ]
     },
     "metadata": {},
     "output_type": "display_data"
    },
    {
     "data": {
      "text/html": [
       "<pre style=\"white-space:pre;overflow-x:auto;line-height:normal;font-family:Menlo,'DejaVu Sans Mono',consolas,'Courier New',monospace\"><span style=\"color: #7fbfbf; text-decoration-color: #7fbfbf\">                    </span><span style=\"color: #000080; text-decoration-color: #000080\">INFO    </span> <span style=\"font-weight: bold\">[</span><span style=\"color: #008080; text-decoration-color: #008080; font-weight: bold\">277</span>/<span style=\"color: #008080; text-decoration-color: #008080; font-weight: bold\">380</span><span style=\"font-weight: bold\">]</span> Retrieving game with <span style=\"color: #808000; text-decoration-color: #808000\">id</span>=<span style=\"color: #008080; text-decoration-color: #008080; font-weight: bold\">1549632</span>                             <a href=\"file:///home/morten/.conda/envs/packing-report/lib/python3.10/site-packages/soccerdata/whoscored.py\" target=\"_blank\"><span style=\"color: #7f7f7f; text-decoration-color: #7f7f7f\">whoscored.py</span></a><span style=\"color: #7f7f7f; text-decoration-color: #7f7f7f\">:</span><a href=\"file:///home/morten/.conda/envs/packing-report/lib/python3.10/site-packages/soccerdata/whoscored.py#584\" target=\"_blank\"><span style=\"color: #7f7f7f; text-decoration-color: #7f7f7f\">584</span></a>\n",
       "</pre>\n"
      ],
      "text/plain": [
       "\u001b[2;36m                   \u001b[0m\u001b[2;36m \u001b[0m\u001b[34mINFO    \u001b[0m \u001b[1m[\u001b[0m\u001b[1;36m277\u001b[0m/\u001b[1;36m380\u001b[0m\u001b[1m]\u001b[0m Retrieving game with \u001b[33mid\u001b[0m=\u001b[1;36m1549632\u001b[0m                             \u001b]8;id=210608;file:///home/morten/.conda/envs/packing-report/lib/python3.10/site-packages/soccerdata/whoscored.py\u001b\\\u001b[2mwhoscored.py\u001b[0m\u001b]8;;\u001b\\\u001b[2m:\u001b[0m\u001b]8;id=346902;file:///home/morten/.conda/envs/packing-report/lib/python3.10/site-packages/soccerdata/whoscored.py#584\u001b\\\u001b[2m584\u001b[0m\u001b]8;;\u001b\\\n"
      ]
     },
     "metadata": {},
     "output_type": "display_data"
    },
    {
     "data": {
      "text/html": [
       "<pre style=\"white-space:pre;overflow-x:auto;line-height:normal;font-family:Menlo,'DejaVu Sans Mono',consolas,'Courier New',monospace\"><span style=\"color: #7fbfbf; text-decoration-color: #7fbfbf\">                    </span><span style=\"color: #000080; text-decoration-color: #000080\">INFO    </span> <span style=\"font-weight: bold\">[</span><span style=\"color: #008080; text-decoration-color: #008080; font-weight: bold\">278</span>/<span style=\"color: #008080; text-decoration-color: #008080; font-weight: bold\">380</span><span style=\"font-weight: bold\">]</span> Retrieving game with <span style=\"color: #808000; text-decoration-color: #808000\">id</span>=<span style=\"color: #008080; text-decoration-color: #008080; font-weight: bold\">1549582</span>                             <a href=\"file:///home/morten/.conda/envs/packing-report/lib/python3.10/site-packages/soccerdata/whoscored.py\" target=\"_blank\"><span style=\"color: #7f7f7f; text-decoration-color: #7f7f7f\">whoscored.py</span></a><span style=\"color: #7f7f7f; text-decoration-color: #7f7f7f\">:</span><a href=\"file:///home/morten/.conda/envs/packing-report/lib/python3.10/site-packages/soccerdata/whoscored.py#584\" target=\"_blank\"><span style=\"color: #7f7f7f; text-decoration-color: #7f7f7f\">584</span></a>\n",
       "</pre>\n"
      ],
      "text/plain": [
       "\u001b[2;36m                   \u001b[0m\u001b[2;36m \u001b[0m\u001b[34mINFO    \u001b[0m \u001b[1m[\u001b[0m\u001b[1;36m278\u001b[0m/\u001b[1;36m380\u001b[0m\u001b[1m]\u001b[0m Retrieving game with \u001b[33mid\u001b[0m=\u001b[1;36m1549582\u001b[0m                             \u001b]8;id=385365;file:///home/morten/.conda/envs/packing-report/lib/python3.10/site-packages/soccerdata/whoscored.py\u001b\\\u001b[2mwhoscored.py\u001b[0m\u001b]8;;\u001b\\\u001b[2m:\u001b[0m\u001b]8;id=163247;file:///home/morten/.conda/envs/packing-report/lib/python3.10/site-packages/soccerdata/whoscored.py#584\u001b\\\u001b[2m584\u001b[0m\u001b]8;;\u001b\\\n"
      ]
     },
     "metadata": {},
     "output_type": "display_data"
    },
    {
     "data": {
      "text/html": [
       "<pre style=\"white-space:pre;overflow-x:auto;line-height:normal;font-family:Menlo,'DejaVu Sans Mono',consolas,'Courier New',monospace\"><span style=\"color: #7fbfbf; text-decoration-color: #7fbfbf\">                    </span><span style=\"color: #000080; text-decoration-color: #000080\">INFO    </span> <span style=\"font-weight: bold\">[</span><span style=\"color: #008080; text-decoration-color: #008080; font-weight: bold\">279</span>/<span style=\"color: #008080; text-decoration-color: #008080; font-weight: bold\">380</span><span style=\"font-weight: bold\">]</span> Retrieving game with <span style=\"color: #808000; text-decoration-color: #808000\">id</span>=<span style=\"color: #008080; text-decoration-color: #008080; font-weight: bold\">1549561</span>                             <a href=\"file:///home/morten/.conda/envs/packing-report/lib/python3.10/site-packages/soccerdata/whoscored.py\" target=\"_blank\"><span style=\"color: #7f7f7f; text-decoration-color: #7f7f7f\">whoscored.py</span></a><span style=\"color: #7f7f7f; text-decoration-color: #7f7f7f\">:</span><a href=\"file:///home/morten/.conda/envs/packing-report/lib/python3.10/site-packages/soccerdata/whoscored.py#584\" target=\"_blank\"><span style=\"color: #7f7f7f; text-decoration-color: #7f7f7f\">584</span></a>\n",
       "</pre>\n"
      ],
      "text/plain": [
       "\u001b[2;36m                   \u001b[0m\u001b[2;36m \u001b[0m\u001b[34mINFO    \u001b[0m \u001b[1m[\u001b[0m\u001b[1;36m279\u001b[0m/\u001b[1;36m380\u001b[0m\u001b[1m]\u001b[0m Retrieving game with \u001b[33mid\u001b[0m=\u001b[1;36m1549561\u001b[0m                             \u001b]8;id=613618;file:///home/morten/.conda/envs/packing-report/lib/python3.10/site-packages/soccerdata/whoscored.py\u001b\\\u001b[2mwhoscored.py\u001b[0m\u001b]8;;\u001b\\\u001b[2m:\u001b[0m\u001b]8;id=746501;file:///home/morten/.conda/envs/packing-report/lib/python3.10/site-packages/soccerdata/whoscored.py#584\u001b\\\u001b[2m584\u001b[0m\u001b]8;;\u001b\\\n"
      ]
     },
     "metadata": {},
     "output_type": "display_data"
    },
    {
     "data": {
      "text/html": [
       "<pre style=\"white-space:pre;overflow-x:auto;line-height:normal;font-family:Menlo,'DejaVu Sans Mono',consolas,'Courier New',monospace\"><span style=\"color: #7fbfbf; text-decoration-color: #7fbfbf\">                    </span><span style=\"color: #000080; text-decoration-color: #000080\">INFO    </span> <span style=\"font-weight: bold\">[</span><span style=\"color: #008080; text-decoration-color: #008080; font-weight: bold\">280</span>/<span style=\"color: #008080; text-decoration-color: #008080; font-weight: bold\">380</span><span style=\"font-weight: bold\">]</span> Retrieving game with <span style=\"color: #808000; text-decoration-color: #808000\">id</span>=<span style=\"color: #008080; text-decoration-color: #008080; font-weight: bold\">1549781</span>                             <a href=\"file:///home/morten/.conda/envs/packing-report/lib/python3.10/site-packages/soccerdata/whoscored.py\" target=\"_blank\"><span style=\"color: #7f7f7f; text-decoration-color: #7f7f7f\">whoscored.py</span></a><span style=\"color: #7f7f7f; text-decoration-color: #7f7f7f\">:</span><a href=\"file:///home/morten/.conda/envs/packing-report/lib/python3.10/site-packages/soccerdata/whoscored.py#584\" target=\"_blank\"><span style=\"color: #7f7f7f; text-decoration-color: #7f7f7f\">584</span></a>\n",
       "</pre>\n"
      ],
      "text/plain": [
       "\u001b[2;36m                   \u001b[0m\u001b[2;36m \u001b[0m\u001b[34mINFO    \u001b[0m \u001b[1m[\u001b[0m\u001b[1;36m280\u001b[0m/\u001b[1;36m380\u001b[0m\u001b[1m]\u001b[0m Retrieving game with \u001b[33mid\u001b[0m=\u001b[1;36m1549781\u001b[0m                             \u001b]8;id=324768;file:///home/morten/.conda/envs/packing-report/lib/python3.10/site-packages/soccerdata/whoscored.py\u001b\\\u001b[2mwhoscored.py\u001b[0m\u001b]8;;\u001b\\\u001b[2m:\u001b[0m\u001b]8;id=705458;file:///home/morten/.conda/envs/packing-report/lib/python3.10/site-packages/soccerdata/whoscored.py#584\u001b\\\u001b[2m584\u001b[0m\u001b]8;;\u001b\\\n"
      ]
     },
     "metadata": {},
     "output_type": "display_data"
    },
    {
     "data": {
      "text/html": [
       "<pre style=\"white-space:pre;overflow-x:auto;line-height:normal;font-family:Menlo,'DejaVu Sans Mono',consolas,'Courier New',monospace\"><span style=\"color: #7fbfbf; text-decoration-color: #7fbfbf\">                    </span><span style=\"color: #000080; text-decoration-color: #000080\">INFO    </span> <span style=\"font-weight: bold\">[</span><span style=\"color: #008080; text-decoration-color: #008080; font-weight: bold\">281</span>/<span style=\"color: #008080; text-decoration-color: #008080; font-weight: bold\">380</span><span style=\"font-weight: bold\">]</span> Retrieving game with <span style=\"color: #808000; text-decoration-color: #808000\">id</span>=<span style=\"color: #008080; text-decoration-color: #008080; font-weight: bold\">1549548</span>                             <a href=\"file:///home/morten/.conda/envs/packing-report/lib/python3.10/site-packages/soccerdata/whoscored.py\" target=\"_blank\"><span style=\"color: #7f7f7f; text-decoration-color: #7f7f7f\">whoscored.py</span></a><span style=\"color: #7f7f7f; text-decoration-color: #7f7f7f\">:</span><a href=\"file:///home/morten/.conda/envs/packing-report/lib/python3.10/site-packages/soccerdata/whoscored.py#584\" target=\"_blank\"><span style=\"color: #7f7f7f; text-decoration-color: #7f7f7f\">584</span></a>\n",
       "</pre>\n"
      ],
      "text/plain": [
       "\u001b[2;36m                   \u001b[0m\u001b[2;36m \u001b[0m\u001b[34mINFO    \u001b[0m \u001b[1m[\u001b[0m\u001b[1;36m281\u001b[0m/\u001b[1;36m380\u001b[0m\u001b[1m]\u001b[0m Retrieving game with \u001b[33mid\u001b[0m=\u001b[1;36m1549548\u001b[0m                             \u001b]8;id=130015;file:///home/morten/.conda/envs/packing-report/lib/python3.10/site-packages/soccerdata/whoscored.py\u001b\\\u001b[2mwhoscored.py\u001b[0m\u001b]8;;\u001b\\\u001b[2m:\u001b[0m\u001b]8;id=215049;file:///home/morten/.conda/envs/packing-report/lib/python3.10/site-packages/soccerdata/whoscored.py#584\u001b\\\u001b[2m584\u001b[0m\u001b]8;;\u001b\\\n"
      ]
     },
     "metadata": {},
     "output_type": "display_data"
    },
    {
     "data": {
      "text/html": [
       "<pre style=\"white-space:pre;overflow-x:auto;line-height:normal;font-family:Menlo,'DejaVu Sans Mono',consolas,'Courier New',monospace\"><span style=\"color: #7fbfbf; text-decoration-color: #7fbfbf\">                    </span><span style=\"color: #000080; text-decoration-color: #000080\">INFO    </span> <span style=\"font-weight: bold\">[</span><span style=\"color: #008080; text-decoration-color: #008080; font-weight: bold\">282</span>/<span style=\"color: #008080; text-decoration-color: #008080; font-weight: bold\">380</span><span style=\"font-weight: bold\">]</span> Retrieving game with <span style=\"color: #808000; text-decoration-color: #808000\">id</span>=<span style=\"color: #008080; text-decoration-color: #008080; font-weight: bold\">1549821</span>                             <a href=\"file:///home/morten/.conda/envs/packing-report/lib/python3.10/site-packages/soccerdata/whoscored.py\" target=\"_blank\"><span style=\"color: #7f7f7f; text-decoration-color: #7f7f7f\">whoscored.py</span></a><span style=\"color: #7f7f7f; text-decoration-color: #7f7f7f\">:</span><a href=\"file:///home/morten/.conda/envs/packing-report/lib/python3.10/site-packages/soccerdata/whoscored.py#584\" target=\"_blank\"><span style=\"color: #7f7f7f; text-decoration-color: #7f7f7f\">584</span></a>\n",
       "</pre>\n"
      ],
      "text/plain": [
       "\u001b[2;36m                   \u001b[0m\u001b[2;36m \u001b[0m\u001b[34mINFO    \u001b[0m \u001b[1m[\u001b[0m\u001b[1;36m282\u001b[0m/\u001b[1;36m380\u001b[0m\u001b[1m]\u001b[0m Retrieving game with \u001b[33mid\u001b[0m=\u001b[1;36m1549821\u001b[0m                             \u001b]8;id=45349;file:///home/morten/.conda/envs/packing-report/lib/python3.10/site-packages/soccerdata/whoscored.py\u001b\\\u001b[2mwhoscored.py\u001b[0m\u001b]8;;\u001b\\\u001b[2m:\u001b[0m\u001b]8;id=816954;file:///home/morten/.conda/envs/packing-report/lib/python3.10/site-packages/soccerdata/whoscored.py#584\u001b\\\u001b[2m584\u001b[0m\u001b]8;;\u001b\\\n"
      ]
     },
     "metadata": {},
     "output_type": "display_data"
    },
    {
     "data": {
      "text/html": [
       "<pre style=\"white-space:pre;overflow-x:auto;line-height:normal;font-family:Menlo,'DejaVu Sans Mono',consolas,'Courier New',monospace\"><span style=\"color: #7fbfbf; text-decoration-color: #7fbfbf\">                    </span><span style=\"color: #000080; text-decoration-color: #000080\">INFO    </span> <span style=\"font-weight: bold\">[</span><span style=\"color: #008080; text-decoration-color: #008080; font-weight: bold\">283</span>/<span style=\"color: #008080; text-decoration-color: #008080; font-weight: bold\">380</span><span style=\"font-weight: bold\">]</span> Retrieving game with <span style=\"color: #808000; text-decoration-color: #808000\">id</span>=<span style=\"color: #008080; text-decoration-color: #008080; font-weight: bold\">1549763</span>                             <a href=\"file:///home/morten/.conda/envs/packing-report/lib/python3.10/site-packages/soccerdata/whoscored.py\" target=\"_blank\"><span style=\"color: #7f7f7f; text-decoration-color: #7f7f7f\">whoscored.py</span></a><span style=\"color: #7f7f7f; text-decoration-color: #7f7f7f\">:</span><a href=\"file:///home/morten/.conda/envs/packing-report/lib/python3.10/site-packages/soccerdata/whoscored.py#584\" target=\"_blank\"><span style=\"color: #7f7f7f; text-decoration-color: #7f7f7f\">584</span></a>\n",
       "</pre>\n"
      ],
      "text/plain": [
       "\u001b[2;36m                   \u001b[0m\u001b[2;36m \u001b[0m\u001b[34mINFO    \u001b[0m \u001b[1m[\u001b[0m\u001b[1;36m283\u001b[0m/\u001b[1;36m380\u001b[0m\u001b[1m]\u001b[0m Retrieving game with \u001b[33mid\u001b[0m=\u001b[1;36m1549763\u001b[0m                             \u001b]8;id=598361;file:///home/morten/.conda/envs/packing-report/lib/python3.10/site-packages/soccerdata/whoscored.py\u001b\\\u001b[2mwhoscored.py\u001b[0m\u001b]8;;\u001b\\\u001b[2m:\u001b[0m\u001b]8;id=922926;file:///home/morten/.conda/envs/packing-report/lib/python3.10/site-packages/soccerdata/whoscored.py#584\u001b\\\u001b[2m584\u001b[0m\u001b]8;;\u001b\\\n"
      ]
     },
     "metadata": {},
     "output_type": "display_data"
    },
    {
     "data": {
      "text/html": [
       "<pre style=\"white-space:pre;overflow-x:auto;line-height:normal;font-family:Menlo,'DejaVu Sans Mono',consolas,'Courier New',monospace\"><span style=\"color: #7fbfbf; text-decoration-color: #7fbfbf\">                    </span><span style=\"color: #000080; text-decoration-color: #000080\">INFO    </span> <span style=\"font-weight: bold\">[</span><span style=\"color: #008080; text-decoration-color: #008080; font-weight: bold\">284</span>/<span style=\"color: #008080; text-decoration-color: #008080; font-weight: bold\">380</span><span style=\"font-weight: bold\">]</span> Retrieving game with <span style=\"color: #808000; text-decoration-color: #808000\">id</span>=<span style=\"color: #008080; text-decoration-color: #008080; font-weight: bold\">1549864</span>                             <a href=\"file:///home/morten/.conda/envs/packing-report/lib/python3.10/site-packages/soccerdata/whoscored.py\" target=\"_blank\"><span style=\"color: #7f7f7f; text-decoration-color: #7f7f7f\">whoscored.py</span></a><span style=\"color: #7f7f7f; text-decoration-color: #7f7f7f\">:</span><a href=\"file:///home/morten/.conda/envs/packing-report/lib/python3.10/site-packages/soccerdata/whoscored.py#584\" target=\"_blank\"><span style=\"color: #7f7f7f; text-decoration-color: #7f7f7f\">584</span></a>\n",
       "</pre>\n"
      ],
      "text/plain": [
       "\u001b[2;36m                   \u001b[0m\u001b[2;36m \u001b[0m\u001b[34mINFO    \u001b[0m \u001b[1m[\u001b[0m\u001b[1;36m284\u001b[0m/\u001b[1;36m380\u001b[0m\u001b[1m]\u001b[0m Retrieving game with \u001b[33mid\u001b[0m=\u001b[1;36m1549864\u001b[0m                             \u001b]8;id=241459;file:///home/morten/.conda/envs/packing-report/lib/python3.10/site-packages/soccerdata/whoscored.py\u001b\\\u001b[2mwhoscored.py\u001b[0m\u001b]8;;\u001b\\\u001b[2m:\u001b[0m\u001b]8;id=317125;file:///home/morten/.conda/envs/packing-report/lib/python3.10/site-packages/soccerdata/whoscored.py#584\u001b\\\u001b[2m584\u001b[0m\u001b]8;;\u001b\\\n"
      ]
     },
     "metadata": {},
     "output_type": "display_data"
    },
    {
     "data": {
      "text/html": [
       "<pre style=\"white-space:pre;overflow-x:auto;line-height:normal;font-family:Menlo,'DejaVu Sans Mono',consolas,'Courier New',monospace\"><span style=\"color: #7fbfbf; text-decoration-color: #7fbfbf\">                    </span><span style=\"color: #000080; text-decoration-color: #000080\">INFO    </span> <span style=\"font-weight: bold\">[</span><span style=\"color: #008080; text-decoration-color: #008080; font-weight: bold\">285</span>/<span style=\"color: #008080; text-decoration-color: #008080; font-weight: bold\">380</span><span style=\"font-weight: bold\">]</span> Retrieving game with <span style=\"color: #808000; text-decoration-color: #808000\">id</span>=<span style=\"color: #008080; text-decoration-color: #008080; font-weight: bold\">1549666</span>                             <a href=\"file:///home/morten/.conda/envs/packing-report/lib/python3.10/site-packages/soccerdata/whoscored.py\" target=\"_blank\"><span style=\"color: #7f7f7f; text-decoration-color: #7f7f7f\">whoscored.py</span></a><span style=\"color: #7f7f7f; text-decoration-color: #7f7f7f\">:</span><a href=\"file:///home/morten/.conda/envs/packing-report/lib/python3.10/site-packages/soccerdata/whoscored.py#584\" target=\"_blank\"><span style=\"color: #7f7f7f; text-decoration-color: #7f7f7f\">584</span></a>\n",
       "</pre>\n"
      ],
      "text/plain": [
       "\u001b[2;36m                   \u001b[0m\u001b[2;36m \u001b[0m\u001b[34mINFO    \u001b[0m \u001b[1m[\u001b[0m\u001b[1;36m285\u001b[0m/\u001b[1;36m380\u001b[0m\u001b[1m]\u001b[0m Retrieving game with \u001b[33mid\u001b[0m=\u001b[1;36m1549666\u001b[0m                             \u001b]8;id=299012;file:///home/morten/.conda/envs/packing-report/lib/python3.10/site-packages/soccerdata/whoscored.py\u001b\\\u001b[2mwhoscored.py\u001b[0m\u001b]8;;\u001b\\\u001b[2m:\u001b[0m\u001b]8;id=900395;file:///home/morten/.conda/envs/packing-report/lib/python3.10/site-packages/soccerdata/whoscored.py#584\u001b\\\u001b[2m584\u001b[0m\u001b]8;;\u001b\\\n"
      ]
     },
     "metadata": {},
     "output_type": "display_data"
    },
    {
     "data": {
      "text/html": [
       "<pre style=\"white-space:pre;overflow-x:auto;line-height:normal;font-family:Menlo,'DejaVu Sans Mono',consolas,'Courier New',monospace\"><span style=\"color: #7fbfbf; text-decoration-color: #7fbfbf\">                    </span><span style=\"color: #000080; text-decoration-color: #000080\">INFO    </span> <span style=\"font-weight: bold\">[</span><span style=\"color: #008080; text-decoration-color: #008080; font-weight: bold\">286</span>/<span style=\"color: #008080; text-decoration-color: #008080; font-weight: bold\">380</span><span style=\"font-weight: bold\">]</span> Retrieving game with <span style=\"color: #808000; text-decoration-color: #808000\">id</span>=<span style=\"color: #008080; text-decoration-color: #008080; font-weight: bold\">1549912</span>                             <a href=\"file:///home/morten/.conda/envs/packing-report/lib/python3.10/site-packages/soccerdata/whoscored.py\" target=\"_blank\"><span style=\"color: #7f7f7f; text-decoration-color: #7f7f7f\">whoscored.py</span></a><span style=\"color: #7f7f7f; text-decoration-color: #7f7f7f\">:</span><a href=\"file:///home/morten/.conda/envs/packing-report/lib/python3.10/site-packages/soccerdata/whoscored.py#584\" target=\"_blank\"><span style=\"color: #7f7f7f; text-decoration-color: #7f7f7f\">584</span></a>\n",
       "</pre>\n"
      ],
      "text/plain": [
       "\u001b[2;36m                   \u001b[0m\u001b[2;36m \u001b[0m\u001b[34mINFO    \u001b[0m \u001b[1m[\u001b[0m\u001b[1;36m286\u001b[0m/\u001b[1;36m380\u001b[0m\u001b[1m]\u001b[0m Retrieving game with \u001b[33mid\u001b[0m=\u001b[1;36m1549912\u001b[0m                             \u001b]8;id=134664;file:///home/morten/.conda/envs/packing-report/lib/python3.10/site-packages/soccerdata/whoscored.py\u001b\\\u001b[2mwhoscored.py\u001b[0m\u001b]8;;\u001b\\\u001b[2m:\u001b[0m\u001b]8;id=657031;file:///home/morten/.conda/envs/packing-report/lib/python3.10/site-packages/soccerdata/whoscored.py#584\u001b\\\u001b[2m584\u001b[0m\u001b]8;;\u001b\\\n"
      ]
     },
     "metadata": {},
     "output_type": "display_data"
    },
    {
     "data": {
      "text/html": [
       "<pre style=\"white-space:pre;overflow-x:auto;line-height:normal;font-family:Menlo,'DejaVu Sans Mono',consolas,'Courier New',monospace\"><span style=\"color: #7fbfbf; text-decoration-color: #7fbfbf\">                    </span><span style=\"color: #000080; text-decoration-color: #000080\">INFO    </span> <span style=\"font-weight: bold\">[</span><span style=\"color: #008080; text-decoration-color: #008080; font-weight: bold\">287</span>/<span style=\"color: #008080; text-decoration-color: #008080; font-weight: bold\">380</span><span style=\"font-weight: bold\">]</span> Retrieving game with <span style=\"color: #808000; text-decoration-color: #808000\">id</span>=<span style=\"color: #008080; text-decoration-color: #008080; font-weight: bold\">1549865</span>                             <a href=\"file:///home/morten/.conda/envs/packing-report/lib/python3.10/site-packages/soccerdata/whoscored.py\" target=\"_blank\"><span style=\"color: #7f7f7f; text-decoration-color: #7f7f7f\">whoscored.py</span></a><span style=\"color: #7f7f7f; text-decoration-color: #7f7f7f\">:</span><a href=\"file:///home/morten/.conda/envs/packing-report/lib/python3.10/site-packages/soccerdata/whoscored.py#584\" target=\"_blank\"><span style=\"color: #7f7f7f; text-decoration-color: #7f7f7f\">584</span></a>\n",
       "</pre>\n"
      ],
      "text/plain": [
       "\u001b[2;36m                   \u001b[0m\u001b[2;36m \u001b[0m\u001b[34mINFO    \u001b[0m \u001b[1m[\u001b[0m\u001b[1;36m287\u001b[0m/\u001b[1;36m380\u001b[0m\u001b[1m]\u001b[0m Retrieving game with \u001b[33mid\u001b[0m=\u001b[1;36m1549865\u001b[0m                             \u001b]8;id=576612;file:///home/morten/.conda/envs/packing-report/lib/python3.10/site-packages/soccerdata/whoscored.py\u001b\\\u001b[2mwhoscored.py\u001b[0m\u001b]8;;\u001b\\\u001b[2m:\u001b[0m\u001b]8;id=187199;file:///home/morten/.conda/envs/packing-report/lib/python3.10/site-packages/soccerdata/whoscored.py#584\u001b\\\u001b[2m584\u001b[0m\u001b]8;;\u001b\\\n"
      ]
     },
     "metadata": {},
     "output_type": "display_data"
    },
    {
     "data": {
      "text/html": [
       "<pre style=\"white-space:pre;overflow-x:auto;line-height:normal;font-family:Menlo,'DejaVu Sans Mono',consolas,'Courier New',monospace\"><span style=\"color: #7fbfbf; text-decoration-color: #7fbfbf\">                    </span><span style=\"color: #000080; text-decoration-color: #000080\">INFO    </span> <span style=\"font-weight: bold\">[</span><span style=\"color: #008080; text-decoration-color: #008080; font-weight: bold\">288</span>/<span style=\"color: #008080; text-decoration-color: #008080; font-weight: bold\">380</span><span style=\"font-weight: bold\">]</span> Retrieving game with <span style=\"color: #808000; text-decoration-color: #808000\">id</span>=<span style=\"color: #008080; text-decoration-color: #008080; font-weight: bold\">1549629</span>                             <a href=\"file:///home/morten/.conda/envs/packing-report/lib/python3.10/site-packages/soccerdata/whoscored.py\" target=\"_blank\"><span style=\"color: #7f7f7f; text-decoration-color: #7f7f7f\">whoscored.py</span></a><span style=\"color: #7f7f7f; text-decoration-color: #7f7f7f\">:</span><a href=\"file:///home/morten/.conda/envs/packing-report/lib/python3.10/site-packages/soccerdata/whoscored.py#584\" target=\"_blank\"><span style=\"color: #7f7f7f; text-decoration-color: #7f7f7f\">584</span></a>\n",
       "</pre>\n"
      ],
      "text/plain": [
       "\u001b[2;36m                   \u001b[0m\u001b[2;36m \u001b[0m\u001b[34mINFO    \u001b[0m \u001b[1m[\u001b[0m\u001b[1;36m288\u001b[0m/\u001b[1;36m380\u001b[0m\u001b[1m]\u001b[0m Retrieving game with \u001b[33mid\u001b[0m=\u001b[1;36m1549629\u001b[0m                             \u001b]8;id=661394;file:///home/morten/.conda/envs/packing-report/lib/python3.10/site-packages/soccerdata/whoscored.py\u001b\\\u001b[2mwhoscored.py\u001b[0m\u001b]8;;\u001b\\\u001b[2m:\u001b[0m\u001b]8;id=968000;file:///home/morten/.conda/envs/packing-report/lib/python3.10/site-packages/soccerdata/whoscored.py#584\u001b\\\u001b[2m584\u001b[0m\u001b]8;;\u001b\\\n"
      ]
     },
     "metadata": {},
     "output_type": "display_data"
    },
    {
     "data": {
      "text/html": [
       "<pre style=\"white-space:pre;overflow-x:auto;line-height:normal;font-family:Menlo,'DejaVu Sans Mono',consolas,'Courier New',monospace\"><span style=\"color: #7fbfbf; text-decoration-color: #7fbfbf\">[10/02/22 17:52:10] </span><span style=\"color: #000080; text-decoration-color: #000080\">INFO    </span> <span style=\"font-weight: bold\">[</span><span style=\"color: #008080; text-decoration-color: #008080; font-weight: bold\">289</span>/<span style=\"color: #008080; text-decoration-color: #008080; font-weight: bold\">380</span><span style=\"font-weight: bold\">]</span> Retrieving game with <span style=\"color: #808000; text-decoration-color: #808000\">id</span>=<span style=\"color: #008080; text-decoration-color: #008080; font-weight: bold\">1549643</span>                             <a href=\"file:///home/morten/.conda/envs/packing-report/lib/python3.10/site-packages/soccerdata/whoscored.py\" target=\"_blank\"><span style=\"color: #7f7f7f; text-decoration-color: #7f7f7f\">whoscored.py</span></a><span style=\"color: #7f7f7f; text-decoration-color: #7f7f7f\">:</span><a href=\"file:///home/morten/.conda/envs/packing-report/lib/python3.10/site-packages/soccerdata/whoscored.py#584\" target=\"_blank\"><span style=\"color: #7f7f7f; text-decoration-color: #7f7f7f\">584</span></a>\n",
       "</pre>\n"
      ],
      "text/plain": [
       "\u001b[2;36m[10/02/22 17:52:10]\u001b[0m\u001b[2;36m \u001b[0m\u001b[34mINFO    \u001b[0m \u001b[1m[\u001b[0m\u001b[1;36m289\u001b[0m/\u001b[1;36m380\u001b[0m\u001b[1m]\u001b[0m Retrieving game with \u001b[33mid\u001b[0m=\u001b[1;36m1549643\u001b[0m                             \u001b]8;id=359356;file:///home/morten/.conda/envs/packing-report/lib/python3.10/site-packages/soccerdata/whoscored.py\u001b\\\u001b[2mwhoscored.py\u001b[0m\u001b]8;;\u001b\\\u001b[2m:\u001b[0m\u001b]8;id=954217;file:///home/morten/.conda/envs/packing-report/lib/python3.10/site-packages/soccerdata/whoscored.py#584\u001b\\\u001b[2m584\u001b[0m\u001b]8;;\u001b\\\n"
      ]
     },
     "metadata": {},
     "output_type": "display_data"
    },
    {
     "data": {
      "text/html": [
       "<pre style=\"white-space:pre;overflow-x:auto;line-height:normal;font-family:Menlo,'DejaVu Sans Mono',consolas,'Courier New',monospace\"><span style=\"color: #7fbfbf; text-decoration-color: #7fbfbf\">                    </span><span style=\"color: #000080; text-decoration-color: #000080\">INFO    </span> <span style=\"font-weight: bold\">[</span><span style=\"color: #008080; text-decoration-color: #008080; font-weight: bold\">290</span>/<span style=\"color: #008080; text-decoration-color: #008080; font-weight: bold\">380</span><span style=\"font-weight: bold\">]</span> Retrieving game with <span style=\"color: #808000; text-decoration-color: #808000\">id</span>=<span style=\"color: #008080; text-decoration-color: #008080; font-weight: bold\">1549626</span>                             <a href=\"file:///home/morten/.conda/envs/packing-report/lib/python3.10/site-packages/soccerdata/whoscored.py\" target=\"_blank\"><span style=\"color: #7f7f7f; text-decoration-color: #7f7f7f\">whoscored.py</span></a><span style=\"color: #7f7f7f; text-decoration-color: #7f7f7f\">:</span><a href=\"file:///home/morten/.conda/envs/packing-report/lib/python3.10/site-packages/soccerdata/whoscored.py#584\" target=\"_blank\"><span style=\"color: #7f7f7f; text-decoration-color: #7f7f7f\">584</span></a>\n",
       "</pre>\n"
      ],
      "text/plain": [
       "\u001b[2;36m                   \u001b[0m\u001b[2;36m \u001b[0m\u001b[34mINFO    \u001b[0m \u001b[1m[\u001b[0m\u001b[1;36m290\u001b[0m/\u001b[1;36m380\u001b[0m\u001b[1m]\u001b[0m Retrieving game with \u001b[33mid\u001b[0m=\u001b[1;36m1549626\u001b[0m                             \u001b]8;id=885638;file:///home/morten/.conda/envs/packing-report/lib/python3.10/site-packages/soccerdata/whoscored.py\u001b\\\u001b[2mwhoscored.py\u001b[0m\u001b]8;;\u001b\\\u001b[2m:\u001b[0m\u001b]8;id=218582;file:///home/morten/.conda/envs/packing-report/lib/python3.10/site-packages/soccerdata/whoscored.py#584\u001b\\\u001b[2m584\u001b[0m\u001b]8;;\u001b\\\n"
      ]
     },
     "metadata": {},
     "output_type": "display_data"
    },
    {
     "data": {
      "text/html": [
       "<pre style=\"white-space:pre;overflow-x:auto;line-height:normal;font-family:Menlo,'DejaVu Sans Mono',consolas,'Courier New',monospace\"><span style=\"color: #7fbfbf; text-decoration-color: #7fbfbf\">                    </span><span style=\"color: #000080; text-decoration-color: #000080\">INFO    </span> <span style=\"font-weight: bold\">[</span><span style=\"color: #008080; text-decoration-color: #008080; font-weight: bold\">291</span>/<span style=\"color: #008080; text-decoration-color: #008080; font-weight: bold\">380</span><span style=\"font-weight: bold\">]</span> Retrieving game with <span style=\"color: #808000; text-decoration-color: #808000\">id</span>=<span style=\"color: #008080; text-decoration-color: #008080; font-weight: bold\">1549765</span>                             <a href=\"file:///home/morten/.conda/envs/packing-report/lib/python3.10/site-packages/soccerdata/whoscored.py\" target=\"_blank\"><span style=\"color: #7f7f7f; text-decoration-color: #7f7f7f\">whoscored.py</span></a><span style=\"color: #7f7f7f; text-decoration-color: #7f7f7f\">:</span><a href=\"file:///home/morten/.conda/envs/packing-report/lib/python3.10/site-packages/soccerdata/whoscored.py#584\" target=\"_blank\"><span style=\"color: #7f7f7f; text-decoration-color: #7f7f7f\">584</span></a>\n",
       "</pre>\n"
      ],
      "text/plain": [
       "\u001b[2;36m                   \u001b[0m\u001b[2;36m \u001b[0m\u001b[34mINFO    \u001b[0m \u001b[1m[\u001b[0m\u001b[1;36m291\u001b[0m/\u001b[1;36m380\u001b[0m\u001b[1m]\u001b[0m Retrieving game with \u001b[33mid\u001b[0m=\u001b[1;36m1549765\u001b[0m                             \u001b]8;id=551233;file:///home/morten/.conda/envs/packing-report/lib/python3.10/site-packages/soccerdata/whoscored.py\u001b\\\u001b[2mwhoscored.py\u001b[0m\u001b]8;;\u001b\\\u001b[2m:\u001b[0m\u001b]8;id=542922;file:///home/morten/.conda/envs/packing-report/lib/python3.10/site-packages/soccerdata/whoscored.py#584\u001b\\\u001b[2m584\u001b[0m\u001b]8;;\u001b\\\n"
      ]
     },
     "metadata": {},
     "output_type": "display_data"
    },
    {
     "data": {
      "text/html": [
       "<pre style=\"white-space:pre;overflow-x:auto;line-height:normal;font-family:Menlo,'DejaVu Sans Mono',consolas,'Courier New',monospace\"><span style=\"color: #7fbfbf; text-decoration-color: #7fbfbf\">                    </span><span style=\"color: #000080; text-decoration-color: #000080\">INFO    </span> <span style=\"font-weight: bold\">[</span><span style=\"color: #008080; text-decoration-color: #008080; font-weight: bold\">292</span>/<span style=\"color: #008080; text-decoration-color: #008080; font-weight: bold\">380</span><span style=\"font-weight: bold\">]</span> Retrieving game with <span style=\"color: #808000; text-decoration-color: #808000\">id</span>=<span style=\"color: #008080; text-decoration-color: #008080; font-weight: bold\">1549681</span>                             <a href=\"file:///home/morten/.conda/envs/packing-report/lib/python3.10/site-packages/soccerdata/whoscored.py\" target=\"_blank\"><span style=\"color: #7f7f7f; text-decoration-color: #7f7f7f\">whoscored.py</span></a><span style=\"color: #7f7f7f; text-decoration-color: #7f7f7f\">:</span><a href=\"file:///home/morten/.conda/envs/packing-report/lib/python3.10/site-packages/soccerdata/whoscored.py#584\" target=\"_blank\"><span style=\"color: #7f7f7f; text-decoration-color: #7f7f7f\">584</span></a>\n",
       "</pre>\n"
      ],
      "text/plain": [
       "\u001b[2;36m                   \u001b[0m\u001b[2;36m \u001b[0m\u001b[34mINFO    \u001b[0m \u001b[1m[\u001b[0m\u001b[1;36m292\u001b[0m/\u001b[1;36m380\u001b[0m\u001b[1m]\u001b[0m Retrieving game with \u001b[33mid\u001b[0m=\u001b[1;36m1549681\u001b[0m                             \u001b]8;id=865539;file:///home/morten/.conda/envs/packing-report/lib/python3.10/site-packages/soccerdata/whoscored.py\u001b\\\u001b[2mwhoscored.py\u001b[0m\u001b]8;;\u001b\\\u001b[2m:\u001b[0m\u001b]8;id=664675;file:///home/morten/.conda/envs/packing-report/lib/python3.10/site-packages/soccerdata/whoscored.py#584\u001b\\\u001b[2m584\u001b[0m\u001b]8;;\u001b\\\n"
      ]
     },
     "metadata": {},
     "output_type": "display_data"
    },
    {
     "data": {
      "text/html": [
       "<pre style=\"white-space:pre;overflow-x:auto;line-height:normal;font-family:Menlo,'DejaVu Sans Mono',consolas,'Courier New',monospace\"><span style=\"color: #7fbfbf; text-decoration-color: #7fbfbf\">                    </span><span style=\"color: #000080; text-decoration-color: #000080\">INFO    </span> <span style=\"font-weight: bold\">[</span><span style=\"color: #008080; text-decoration-color: #008080; font-weight: bold\">293</span>/<span style=\"color: #008080; text-decoration-color: #008080; font-weight: bold\">380</span><span style=\"font-weight: bold\">]</span> Retrieving game with <span style=\"color: #808000; text-decoration-color: #808000\">id</span>=<span style=\"color: #008080; text-decoration-color: #008080; font-weight: bold\">1549819</span>                             <a href=\"file:///home/morten/.conda/envs/packing-report/lib/python3.10/site-packages/soccerdata/whoscored.py\" target=\"_blank\"><span style=\"color: #7f7f7f; text-decoration-color: #7f7f7f\">whoscored.py</span></a><span style=\"color: #7f7f7f; text-decoration-color: #7f7f7f\">:</span><a href=\"file:///home/morten/.conda/envs/packing-report/lib/python3.10/site-packages/soccerdata/whoscored.py#584\" target=\"_blank\"><span style=\"color: #7f7f7f; text-decoration-color: #7f7f7f\">584</span></a>\n",
       "</pre>\n"
      ],
      "text/plain": [
       "\u001b[2;36m                   \u001b[0m\u001b[2;36m \u001b[0m\u001b[34mINFO    \u001b[0m \u001b[1m[\u001b[0m\u001b[1;36m293\u001b[0m/\u001b[1;36m380\u001b[0m\u001b[1m]\u001b[0m Retrieving game with \u001b[33mid\u001b[0m=\u001b[1;36m1549819\u001b[0m                             \u001b]8;id=528516;file:///home/morten/.conda/envs/packing-report/lib/python3.10/site-packages/soccerdata/whoscored.py\u001b\\\u001b[2mwhoscored.py\u001b[0m\u001b]8;;\u001b\\\u001b[2m:\u001b[0m\u001b]8;id=846878;file:///home/morten/.conda/envs/packing-report/lib/python3.10/site-packages/soccerdata/whoscored.py#584\u001b\\\u001b[2m584\u001b[0m\u001b]8;;\u001b\\\n"
      ]
     },
     "metadata": {},
     "output_type": "display_data"
    },
    {
     "data": {
      "text/html": [
       "<pre style=\"white-space:pre;overflow-x:auto;line-height:normal;font-family:Menlo,'DejaVu Sans Mono',consolas,'Courier New',monospace\"><span style=\"color: #7fbfbf; text-decoration-color: #7fbfbf\">                    </span><span style=\"color: #000080; text-decoration-color: #000080\">INFO    </span> <span style=\"font-weight: bold\">[</span><span style=\"color: #008080; text-decoration-color: #008080; font-weight: bold\">294</span>/<span style=\"color: #008080; text-decoration-color: #008080; font-weight: bold\">380</span><span style=\"font-weight: bold\">]</span> Retrieving game with <span style=\"color: #808000; text-decoration-color: #808000\">id</span>=<span style=\"color: #008080; text-decoration-color: #008080; font-weight: bold\">1549572</span>                             <a href=\"file:///home/morten/.conda/envs/packing-report/lib/python3.10/site-packages/soccerdata/whoscored.py\" target=\"_blank\"><span style=\"color: #7f7f7f; text-decoration-color: #7f7f7f\">whoscored.py</span></a><span style=\"color: #7f7f7f; text-decoration-color: #7f7f7f\">:</span><a href=\"file:///home/morten/.conda/envs/packing-report/lib/python3.10/site-packages/soccerdata/whoscored.py#584\" target=\"_blank\"><span style=\"color: #7f7f7f; text-decoration-color: #7f7f7f\">584</span></a>\n",
       "</pre>\n"
      ],
      "text/plain": [
       "\u001b[2;36m                   \u001b[0m\u001b[2;36m \u001b[0m\u001b[34mINFO    \u001b[0m \u001b[1m[\u001b[0m\u001b[1;36m294\u001b[0m/\u001b[1;36m380\u001b[0m\u001b[1m]\u001b[0m Retrieving game with \u001b[33mid\u001b[0m=\u001b[1;36m1549572\u001b[0m                             \u001b]8;id=820593;file:///home/morten/.conda/envs/packing-report/lib/python3.10/site-packages/soccerdata/whoscored.py\u001b\\\u001b[2mwhoscored.py\u001b[0m\u001b]8;;\u001b\\\u001b[2m:\u001b[0m\u001b]8;id=86555;file:///home/morten/.conda/envs/packing-report/lib/python3.10/site-packages/soccerdata/whoscored.py#584\u001b\\\u001b[2m584\u001b[0m\u001b]8;;\u001b\\\n"
      ]
     },
     "metadata": {},
     "output_type": "display_data"
    },
    {
     "data": {
      "text/html": [
       "<pre style=\"white-space:pre;overflow-x:auto;line-height:normal;font-family:Menlo,'DejaVu Sans Mono',consolas,'Courier New',monospace\"><span style=\"color: #7fbfbf; text-decoration-color: #7fbfbf\">                    </span><span style=\"color: #000080; text-decoration-color: #000080\">INFO    </span> <span style=\"font-weight: bold\">[</span><span style=\"color: #008080; text-decoration-color: #008080; font-weight: bold\">295</span>/<span style=\"color: #008080; text-decoration-color: #008080; font-weight: bold\">380</span><span style=\"font-weight: bold\">]</span> Retrieving game with <span style=\"color: #808000; text-decoration-color: #808000\">id</span>=<span style=\"color: #008080; text-decoration-color: #008080; font-weight: bold\">1549827</span>                             <a href=\"file:///home/morten/.conda/envs/packing-report/lib/python3.10/site-packages/soccerdata/whoscored.py\" target=\"_blank\"><span style=\"color: #7f7f7f; text-decoration-color: #7f7f7f\">whoscored.py</span></a><span style=\"color: #7f7f7f; text-decoration-color: #7f7f7f\">:</span><a href=\"file:///home/morten/.conda/envs/packing-report/lib/python3.10/site-packages/soccerdata/whoscored.py#584\" target=\"_blank\"><span style=\"color: #7f7f7f; text-decoration-color: #7f7f7f\">584</span></a>\n",
       "</pre>\n"
      ],
      "text/plain": [
       "\u001b[2;36m                   \u001b[0m\u001b[2;36m \u001b[0m\u001b[34mINFO    \u001b[0m \u001b[1m[\u001b[0m\u001b[1;36m295\u001b[0m/\u001b[1;36m380\u001b[0m\u001b[1m]\u001b[0m Retrieving game with \u001b[33mid\u001b[0m=\u001b[1;36m1549827\u001b[0m                             \u001b]8;id=623977;file:///home/morten/.conda/envs/packing-report/lib/python3.10/site-packages/soccerdata/whoscored.py\u001b\\\u001b[2mwhoscored.py\u001b[0m\u001b]8;;\u001b\\\u001b[2m:\u001b[0m\u001b]8;id=456963;file:///home/morten/.conda/envs/packing-report/lib/python3.10/site-packages/soccerdata/whoscored.py#584\u001b\\\u001b[2m584\u001b[0m\u001b]8;;\u001b\\\n"
      ]
     },
     "metadata": {},
     "output_type": "display_data"
    },
    {
     "data": {
      "text/html": [
       "<pre style=\"white-space:pre;overflow-x:auto;line-height:normal;font-family:Menlo,'DejaVu Sans Mono',consolas,'Courier New',monospace\"><span style=\"color: #7fbfbf; text-decoration-color: #7fbfbf\">                    </span><span style=\"color: #000080; text-decoration-color: #000080\">INFO    </span> <span style=\"font-weight: bold\">[</span><span style=\"color: #008080; text-decoration-color: #008080; font-weight: bold\">296</span>/<span style=\"color: #008080; text-decoration-color: #008080; font-weight: bold\">380</span><span style=\"font-weight: bold\">]</span> Retrieving game with <span style=\"color: #808000; text-decoration-color: #808000\">id</span>=<span style=\"color: #008080; text-decoration-color: #008080; font-weight: bold\">1549722</span>                             <a href=\"file:///home/morten/.conda/envs/packing-report/lib/python3.10/site-packages/soccerdata/whoscored.py\" target=\"_blank\"><span style=\"color: #7f7f7f; text-decoration-color: #7f7f7f\">whoscored.py</span></a><span style=\"color: #7f7f7f; text-decoration-color: #7f7f7f\">:</span><a href=\"file:///home/morten/.conda/envs/packing-report/lib/python3.10/site-packages/soccerdata/whoscored.py#584\" target=\"_blank\"><span style=\"color: #7f7f7f; text-decoration-color: #7f7f7f\">584</span></a>\n",
       "</pre>\n"
      ],
      "text/plain": [
       "\u001b[2;36m                   \u001b[0m\u001b[2;36m \u001b[0m\u001b[34mINFO    \u001b[0m \u001b[1m[\u001b[0m\u001b[1;36m296\u001b[0m/\u001b[1;36m380\u001b[0m\u001b[1m]\u001b[0m Retrieving game with \u001b[33mid\u001b[0m=\u001b[1;36m1549722\u001b[0m                             \u001b]8;id=780593;file:///home/morten/.conda/envs/packing-report/lib/python3.10/site-packages/soccerdata/whoscored.py\u001b\\\u001b[2mwhoscored.py\u001b[0m\u001b]8;;\u001b\\\u001b[2m:\u001b[0m\u001b]8;id=540638;file:///home/morten/.conda/envs/packing-report/lib/python3.10/site-packages/soccerdata/whoscored.py#584\u001b\\\u001b[2m584\u001b[0m\u001b]8;;\u001b\\\n"
      ]
     },
     "metadata": {},
     "output_type": "display_data"
    },
    {
     "data": {
      "text/html": [
       "<pre style=\"white-space:pre;overflow-x:auto;line-height:normal;font-family:Menlo,'DejaVu Sans Mono',consolas,'Courier New',monospace\"><span style=\"color: #7fbfbf; text-decoration-color: #7fbfbf\">                    </span><span style=\"color: #000080; text-decoration-color: #000080\">INFO    </span> <span style=\"font-weight: bold\">[</span><span style=\"color: #008080; text-decoration-color: #008080; font-weight: bold\">297</span>/<span style=\"color: #008080; text-decoration-color: #008080; font-weight: bold\">380</span><span style=\"font-weight: bold\">]</span> Retrieving game with <span style=\"color: #808000; text-decoration-color: #808000\">id</span>=<span style=\"color: #008080; text-decoration-color: #008080; font-weight: bold\">1549564</span>                             <a href=\"file:///home/morten/.conda/envs/packing-report/lib/python3.10/site-packages/soccerdata/whoscored.py\" target=\"_blank\"><span style=\"color: #7f7f7f; text-decoration-color: #7f7f7f\">whoscored.py</span></a><span style=\"color: #7f7f7f; text-decoration-color: #7f7f7f\">:</span><a href=\"file:///home/morten/.conda/envs/packing-report/lib/python3.10/site-packages/soccerdata/whoscored.py#584\" target=\"_blank\"><span style=\"color: #7f7f7f; text-decoration-color: #7f7f7f\">584</span></a>\n",
       "</pre>\n"
      ],
      "text/plain": [
       "\u001b[2;36m                   \u001b[0m\u001b[2;36m \u001b[0m\u001b[34mINFO    \u001b[0m \u001b[1m[\u001b[0m\u001b[1;36m297\u001b[0m/\u001b[1;36m380\u001b[0m\u001b[1m]\u001b[0m Retrieving game with \u001b[33mid\u001b[0m=\u001b[1;36m1549564\u001b[0m                             \u001b]8;id=664049;file:///home/morten/.conda/envs/packing-report/lib/python3.10/site-packages/soccerdata/whoscored.py\u001b\\\u001b[2mwhoscored.py\u001b[0m\u001b]8;;\u001b\\\u001b[2m:\u001b[0m\u001b]8;id=865950;file:///home/morten/.conda/envs/packing-report/lib/python3.10/site-packages/soccerdata/whoscored.py#584\u001b\\\u001b[2m584\u001b[0m\u001b]8;;\u001b\\\n"
      ]
     },
     "metadata": {},
     "output_type": "display_data"
    },
    {
     "data": {
      "text/html": [
       "<pre style=\"white-space:pre;overflow-x:auto;line-height:normal;font-family:Menlo,'DejaVu Sans Mono',consolas,'Courier New',monospace\"><span style=\"color: #7fbfbf; text-decoration-color: #7fbfbf\">                    </span><span style=\"color: #000080; text-decoration-color: #000080\">INFO    </span> <span style=\"font-weight: bold\">[</span><span style=\"color: #008080; text-decoration-color: #008080; font-weight: bold\">298</span>/<span style=\"color: #008080; text-decoration-color: #008080; font-weight: bold\">380</span><span style=\"font-weight: bold\">]</span> Retrieving game with <span style=\"color: #808000; text-decoration-color: #808000\">id</span>=<span style=\"color: #008080; text-decoration-color: #008080; font-weight: bold\">1549850</span>                             <a href=\"file:///home/morten/.conda/envs/packing-report/lib/python3.10/site-packages/soccerdata/whoscored.py\" target=\"_blank\"><span style=\"color: #7f7f7f; text-decoration-color: #7f7f7f\">whoscored.py</span></a><span style=\"color: #7f7f7f; text-decoration-color: #7f7f7f\">:</span><a href=\"file:///home/morten/.conda/envs/packing-report/lib/python3.10/site-packages/soccerdata/whoscored.py#584\" target=\"_blank\"><span style=\"color: #7f7f7f; text-decoration-color: #7f7f7f\">584</span></a>\n",
       "</pre>\n"
      ],
      "text/plain": [
       "\u001b[2;36m                   \u001b[0m\u001b[2;36m \u001b[0m\u001b[34mINFO    \u001b[0m \u001b[1m[\u001b[0m\u001b[1;36m298\u001b[0m/\u001b[1;36m380\u001b[0m\u001b[1m]\u001b[0m Retrieving game with \u001b[33mid\u001b[0m=\u001b[1;36m1549850\u001b[0m                             \u001b]8;id=337752;file:///home/morten/.conda/envs/packing-report/lib/python3.10/site-packages/soccerdata/whoscored.py\u001b\\\u001b[2mwhoscored.py\u001b[0m\u001b]8;;\u001b\\\u001b[2m:\u001b[0m\u001b]8;id=107882;file:///home/morten/.conda/envs/packing-report/lib/python3.10/site-packages/soccerdata/whoscored.py#584\u001b\\\u001b[2m584\u001b[0m\u001b]8;;\u001b\\\n"
      ]
     },
     "metadata": {},
     "output_type": "display_data"
    },
    {
     "data": {
      "text/html": [
       "<pre style=\"white-space:pre;overflow-x:auto;line-height:normal;font-family:Menlo,'DejaVu Sans Mono',consolas,'Courier New',monospace\"><span style=\"color: #7fbfbf; text-decoration-color: #7fbfbf\">                    </span><span style=\"color: #000080; text-decoration-color: #000080\">INFO    </span> <span style=\"font-weight: bold\">[</span><span style=\"color: #008080; text-decoration-color: #008080; font-weight: bold\">299</span>/<span style=\"color: #008080; text-decoration-color: #008080; font-weight: bold\">380</span><span style=\"font-weight: bold\">]</span> Retrieving game with <span style=\"color: #808000; text-decoration-color: #808000\">id</span>=<span style=\"color: #008080; text-decoration-color: #008080; font-weight: bold\">1549825</span>                             <a href=\"file:///home/morten/.conda/envs/packing-report/lib/python3.10/site-packages/soccerdata/whoscored.py\" target=\"_blank\"><span style=\"color: #7f7f7f; text-decoration-color: #7f7f7f\">whoscored.py</span></a><span style=\"color: #7f7f7f; text-decoration-color: #7f7f7f\">:</span><a href=\"file:///home/morten/.conda/envs/packing-report/lib/python3.10/site-packages/soccerdata/whoscored.py#584\" target=\"_blank\"><span style=\"color: #7f7f7f; text-decoration-color: #7f7f7f\">584</span></a>\n",
       "</pre>\n"
      ],
      "text/plain": [
       "\u001b[2;36m                   \u001b[0m\u001b[2;36m \u001b[0m\u001b[34mINFO    \u001b[0m \u001b[1m[\u001b[0m\u001b[1;36m299\u001b[0m/\u001b[1;36m380\u001b[0m\u001b[1m]\u001b[0m Retrieving game with \u001b[33mid\u001b[0m=\u001b[1;36m1549825\u001b[0m                             \u001b]8;id=944403;file:///home/morten/.conda/envs/packing-report/lib/python3.10/site-packages/soccerdata/whoscored.py\u001b\\\u001b[2mwhoscored.py\u001b[0m\u001b]8;;\u001b\\\u001b[2m:\u001b[0m\u001b]8;id=462719;file:///home/morten/.conda/envs/packing-report/lib/python3.10/site-packages/soccerdata/whoscored.py#584\u001b\\\u001b[2m584\u001b[0m\u001b]8;;\u001b\\\n"
      ]
     },
     "metadata": {},
     "output_type": "display_data"
    },
    {
     "data": {
      "text/html": [
       "<pre style=\"white-space:pre;overflow-x:auto;line-height:normal;font-family:Menlo,'DejaVu Sans Mono',consolas,'Courier New',monospace\"><span style=\"color: #7fbfbf; text-decoration-color: #7fbfbf\">                    </span><span style=\"color: #000080; text-decoration-color: #000080\">INFO    </span> <span style=\"font-weight: bold\">[</span><span style=\"color: #008080; text-decoration-color: #008080; font-weight: bold\">300</span>/<span style=\"color: #008080; text-decoration-color: #008080; font-weight: bold\">380</span><span style=\"font-weight: bold\">]</span> Retrieving game with <span style=\"color: #808000; text-decoration-color: #808000\">id</span>=<span style=\"color: #008080; text-decoration-color: #008080; font-weight: bold\">1549595</span>                             <a href=\"file:///home/morten/.conda/envs/packing-report/lib/python3.10/site-packages/soccerdata/whoscored.py\" target=\"_blank\"><span style=\"color: #7f7f7f; text-decoration-color: #7f7f7f\">whoscored.py</span></a><span style=\"color: #7f7f7f; text-decoration-color: #7f7f7f\">:</span><a href=\"file:///home/morten/.conda/envs/packing-report/lib/python3.10/site-packages/soccerdata/whoscored.py#584\" target=\"_blank\"><span style=\"color: #7f7f7f; text-decoration-color: #7f7f7f\">584</span></a>\n",
       "</pre>\n"
      ],
      "text/plain": [
       "\u001b[2;36m                   \u001b[0m\u001b[2;36m \u001b[0m\u001b[34mINFO    \u001b[0m \u001b[1m[\u001b[0m\u001b[1;36m300\u001b[0m/\u001b[1;36m380\u001b[0m\u001b[1m]\u001b[0m Retrieving game with \u001b[33mid\u001b[0m=\u001b[1;36m1549595\u001b[0m                             \u001b]8;id=417833;file:///home/morten/.conda/envs/packing-report/lib/python3.10/site-packages/soccerdata/whoscored.py\u001b\\\u001b[2mwhoscored.py\u001b[0m\u001b]8;;\u001b\\\u001b[2m:\u001b[0m\u001b]8;id=58442;file:///home/morten/.conda/envs/packing-report/lib/python3.10/site-packages/soccerdata/whoscored.py#584\u001b\\\u001b[2m584\u001b[0m\u001b]8;;\u001b\\\n"
      ]
     },
     "metadata": {},
     "output_type": "display_data"
    },
    {
     "data": {
      "text/html": [
       "<pre style=\"white-space:pre;overflow-x:auto;line-height:normal;font-family:Menlo,'DejaVu Sans Mono',consolas,'Courier New',monospace\"><span style=\"color: #7fbfbf; text-decoration-color: #7fbfbf\">                    </span><span style=\"color: #000080; text-decoration-color: #000080\">INFO    </span> <span style=\"font-weight: bold\">[</span><span style=\"color: #008080; text-decoration-color: #008080; font-weight: bold\">301</span>/<span style=\"color: #008080; text-decoration-color: #008080; font-weight: bold\">380</span><span style=\"font-weight: bold\">]</span> Retrieving game with <span style=\"color: #808000; text-decoration-color: #808000\">id</span>=<span style=\"color: #008080; text-decoration-color: #008080; font-weight: bold\">1549737</span>                             <a href=\"file:///home/morten/.conda/envs/packing-report/lib/python3.10/site-packages/soccerdata/whoscored.py\" target=\"_blank\"><span style=\"color: #7f7f7f; text-decoration-color: #7f7f7f\">whoscored.py</span></a><span style=\"color: #7f7f7f; text-decoration-color: #7f7f7f\">:</span><a href=\"file:///home/morten/.conda/envs/packing-report/lib/python3.10/site-packages/soccerdata/whoscored.py#584\" target=\"_blank\"><span style=\"color: #7f7f7f; text-decoration-color: #7f7f7f\">584</span></a>\n",
       "</pre>\n"
      ],
      "text/plain": [
       "\u001b[2;36m                   \u001b[0m\u001b[2;36m \u001b[0m\u001b[34mINFO    \u001b[0m \u001b[1m[\u001b[0m\u001b[1;36m301\u001b[0m/\u001b[1;36m380\u001b[0m\u001b[1m]\u001b[0m Retrieving game with \u001b[33mid\u001b[0m=\u001b[1;36m1549737\u001b[0m                             \u001b]8;id=202911;file:///home/morten/.conda/envs/packing-report/lib/python3.10/site-packages/soccerdata/whoscored.py\u001b\\\u001b[2mwhoscored.py\u001b[0m\u001b]8;;\u001b\\\u001b[2m:\u001b[0m\u001b]8;id=748649;file:///home/morten/.conda/envs/packing-report/lib/python3.10/site-packages/soccerdata/whoscored.py#584\u001b\\\u001b[2m584\u001b[0m\u001b]8;;\u001b\\\n"
      ]
     },
     "metadata": {},
     "output_type": "display_data"
    },
    {
     "data": {
      "text/html": [
       "<pre style=\"white-space:pre;overflow-x:auto;line-height:normal;font-family:Menlo,'DejaVu Sans Mono',consolas,'Courier New',monospace\"><span style=\"color: #7fbfbf; text-decoration-color: #7fbfbf\">                    </span><span style=\"color: #000080; text-decoration-color: #000080\">INFO    </span> <span style=\"font-weight: bold\">[</span><span style=\"color: #008080; text-decoration-color: #008080; font-weight: bold\">302</span>/<span style=\"color: #008080; text-decoration-color: #008080; font-weight: bold\">380</span><span style=\"font-weight: bold\">]</span> Retrieving game with <span style=\"color: #808000; text-decoration-color: #808000\">id</span>=<span style=\"color: #008080; text-decoration-color: #008080; font-weight: bold\">1549539</span>                             <a href=\"file:///home/morten/.conda/envs/packing-report/lib/python3.10/site-packages/soccerdata/whoscored.py\" target=\"_blank\"><span style=\"color: #7f7f7f; text-decoration-color: #7f7f7f\">whoscored.py</span></a><span style=\"color: #7f7f7f; text-decoration-color: #7f7f7f\">:</span><a href=\"file:///home/morten/.conda/envs/packing-report/lib/python3.10/site-packages/soccerdata/whoscored.py#584\" target=\"_blank\"><span style=\"color: #7f7f7f; text-decoration-color: #7f7f7f\">584</span></a>\n",
       "</pre>\n"
      ],
      "text/plain": [
       "\u001b[2;36m                   \u001b[0m\u001b[2;36m \u001b[0m\u001b[34mINFO    \u001b[0m \u001b[1m[\u001b[0m\u001b[1;36m302\u001b[0m/\u001b[1;36m380\u001b[0m\u001b[1m]\u001b[0m Retrieving game with \u001b[33mid\u001b[0m=\u001b[1;36m1549539\u001b[0m                             \u001b]8;id=985236;file:///home/morten/.conda/envs/packing-report/lib/python3.10/site-packages/soccerdata/whoscored.py\u001b\\\u001b[2mwhoscored.py\u001b[0m\u001b]8;;\u001b\\\u001b[2m:\u001b[0m\u001b]8;id=393053;file:///home/morten/.conda/envs/packing-report/lib/python3.10/site-packages/soccerdata/whoscored.py#584\u001b\\\u001b[2m584\u001b[0m\u001b]8;;\u001b\\\n"
      ]
     },
     "metadata": {},
     "output_type": "display_data"
    },
    {
     "data": {
      "text/html": [
       "<pre style=\"white-space:pre;overflow-x:auto;line-height:normal;font-family:Menlo,'DejaVu Sans Mono',consolas,'Courier New',monospace\"><span style=\"color: #7fbfbf; text-decoration-color: #7fbfbf\">                    </span><span style=\"color: #000080; text-decoration-color: #000080\">INFO    </span> <span style=\"font-weight: bold\">[</span><span style=\"color: #008080; text-decoration-color: #008080; font-weight: bold\">303</span>/<span style=\"color: #008080; text-decoration-color: #008080; font-weight: bold\">380</span><span style=\"font-weight: bold\">]</span> Retrieving game with <span style=\"color: #808000; text-decoration-color: #808000\">id</span>=<span style=\"color: #008080; text-decoration-color: #008080; font-weight: bold\">1549845</span>                             <a href=\"file:///home/morten/.conda/envs/packing-report/lib/python3.10/site-packages/soccerdata/whoscored.py\" target=\"_blank\"><span style=\"color: #7f7f7f; text-decoration-color: #7f7f7f\">whoscored.py</span></a><span style=\"color: #7f7f7f; text-decoration-color: #7f7f7f\">:</span><a href=\"file:///home/morten/.conda/envs/packing-report/lib/python3.10/site-packages/soccerdata/whoscored.py#584\" target=\"_blank\"><span style=\"color: #7f7f7f; text-decoration-color: #7f7f7f\">584</span></a>\n",
       "</pre>\n"
      ],
      "text/plain": [
       "\u001b[2;36m                   \u001b[0m\u001b[2;36m \u001b[0m\u001b[34mINFO    \u001b[0m \u001b[1m[\u001b[0m\u001b[1;36m303\u001b[0m/\u001b[1;36m380\u001b[0m\u001b[1m]\u001b[0m Retrieving game with \u001b[33mid\u001b[0m=\u001b[1;36m1549845\u001b[0m                             \u001b]8;id=242405;file:///home/morten/.conda/envs/packing-report/lib/python3.10/site-packages/soccerdata/whoscored.py\u001b\\\u001b[2mwhoscored.py\u001b[0m\u001b]8;;\u001b\\\u001b[2m:\u001b[0m\u001b]8;id=359681;file:///home/morten/.conda/envs/packing-report/lib/python3.10/site-packages/soccerdata/whoscored.py#584\u001b\\\u001b[2m584\u001b[0m\u001b]8;;\u001b\\\n"
      ]
     },
     "metadata": {},
     "output_type": "display_data"
    },
    {
     "data": {
      "text/html": [
       "<pre style=\"white-space:pre;overflow-x:auto;line-height:normal;font-family:Menlo,'DejaVu Sans Mono',consolas,'Courier New',monospace\"><span style=\"color: #7fbfbf; text-decoration-color: #7fbfbf\">                    </span><span style=\"color: #000080; text-decoration-color: #000080\">INFO    </span> <span style=\"font-weight: bold\">[</span><span style=\"color: #008080; text-decoration-color: #008080; font-weight: bold\">304</span>/<span style=\"color: #008080; text-decoration-color: #008080; font-weight: bold\">380</span><span style=\"font-weight: bold\">]</span> Retrieving game with <span style=\"color: #808000; text-decoration-color: #808000\">id</span>=<span style=\"color: #008080; text-decoration-color: #008080; font-weight: bold\">1549717</span>                             <a href=\"file:///home/morten/.conda/envs/packing-report/lib/python3.10/site-packages/soccerdata/whoscored.py\" target=\"_blank\"><span style=\"color: #7f7f7f; text-decoration-color: #7f7f7f\">whoscored.py</span></a><span style=\"color: #7f7f7f; text-decoration-color: #7f7f7f\">:</span><a href=\"file:///home/morten/.conda/envs/packing-report/lib/python3.10/site-packages/soccerdata/whoscored.py#584\" target=\"_blank\"><span style=\"color: #7f7f7f; text-decoration-color: #7f7f7f\">584</span></a>\n",
       "</pre>\n"
      ],
      "text/plain": [
       "\u001b[2;36m                   \u001b[0m\u001b[2;36m \u001b[0m\u001b[34mINFO    \u001b[0m \u001b[1m[\u001b[0m\u001b[1;36m304\u001b[0m/\u001b[1;36m380\u001b[0m\u001b[1m]\u001b[0m Retrieving game with \u001b[33mid\u001b[0m=\u001b[1;36m1549717\u001b[0m                             \u001b]8;id=348735;file:///home/morten/.conda/envs/packing-report/lib/python3.10/site-packages/soccerdata/whoscored.py\u001b\\\u001b[2mwhoscored.py\u001b[0m\u001b]8;;\u001b\\\u001b[2m:\u001b[0m\u001b]8;id=169601;file:///home/morten/.conda/envs/packing-report/lib/python3.10/site-packages/soccerdata/whoscored.py#584\u001b\\\u001b[2m584\u001b[0m\u001b]8;;\u001b\\\n"
      ]
     },
     "metadata": {},
     "output_type": "display_data"
    },
    {
     "data": {
      "text/html": [
       "<pre style=\"white-space:pre;overflow-x:auto;line-height:normal;font-family:Menlo,'DejaVu Sans Mono',consolas,'Courier New',monospace\"><span style=\"color: #7fbfbf; text-decoration-color: #7fbfbf\">                    </span><span style=\"color: #000080; text-decoration-color: #000080\">INFO    </span> <span style=\"font-weight: bold\">[</span><span style=\"color: #008080; text-decoration-color: #008080; font-weight: bold\">305</span>/<span style=\"color: #008080; text-decoration-color: #008080; font-weight: bold\">380</span><span style=\"font-weight: bold\">]</span> Retrieving game with <span style=\"color: #808000; text-decoration-color: #808000\">id</span>=<span style=\"color: #008080; text-decoration-color: #008080; font-weight: bold\">1549893</span>                             <a href=\"file:///home/morten/.conda/envs/packing-report/lib/python3.10/site-packages/soccerdata/whoscored.py\" target=\"_blank\"><span style=\"color: #7f7f7f; text-decoration-color: #7f7f7f\">whoscored.py</span></a><span style=\"color: #7f7f7f; text-decoration-color: #7f7f7f\">:</span><a href=\"file:///home/morten/.conda/envs/packing-report/lib/python3.10/site-packages/soccerdata/whoscored.py#584\" target=\"_blank\"><span style=\"color: #7f7f7f; text-decoration-color: #7f7f7f\">584</span></a>\n",
       "</pre>\n"
      ],
      "text/plain": [
       "\u001b[2;36m                   \u001b[0m\u001b[2;36m \u001b[0m\u001b[34mINFO    \u001b[0m \u001b[1m[\u001b[0m\u001b[1;36m305\u001b[0m/\u001b[1;36m380\u001b[0m\u001b[1m]\u001b[0m Retrieving game with \u001b[33mid\u001b[0m=\u001b[1;36m1549893\u001b[0m                             \u001b]8;id=652643;file:///home/morten/.conda/envs/packing-report/lib/python3.10/site-packages/soccerdata/whoscored.py\u001b\\\u001b[2mwhoscored.py\u001b[0m\u001b]8;;\u001b\\\u001b[2m:\u001b[0m\u001b]8;id=789519;file:///home/morten/.conda/envs/packing-report/lib/python3.10/site-packages/soccerdata/whoscored.py#584\u001b\\\u001b[2m584\u001b[0m\u001b]8;;\u001b\\\n"
      ]
     },
     "metadata": {},
     "output_type": "display_data"
    },
    {
     "data": {
      "text/html": [
       "<pre style=\"white-space:pre;overflow-x:auto;line-height:normal;font-family:Menlo,'DejaVu Sans Mono',consolas,'Courier New',monospace\"><span style=\"color: #7fbfbf; text-decoration-color: #7fbfbf\">[10/02/22 17:52:11] </span><span style=\"color: #000080; text-decoration-color: #000080\">INFO    </span> <span style=\"font-weight: bold\">[</span><span style=\"color: #008080; text-decoration-color: #008080; font-weight: bold\">306</span>/<span style=\"color: #008080; text-decoration-color: #008080; font-weight: bold\">380</span><span style=\"font-weight: bold\">]</span> Retrieving game with <span style=\"color: #808000; text-decoration-color: #808000\">id</span>=<span style=\"color: #008080; text-decoration-color: #008080; font-weight: bold\">1549881</span>                             <a href=\"file:///home/morten/.conda/envs/packing-report/lib/python3.10/site-packages/soccerdata/whoscored.py\" target=\"_blank\"><span style=\"color: #7f7f7f; text-decoration-color: #7f7f7f\">whoscored.py</span></a><span style=\"color: #7f7f7f; text-decoration-color: #7f7f7f\">:</span><a href=\"file:///home/morten/.conda/envs/packing-report/lib/python3.10/site-packages/soccerdata/whoscored.py#584\" target=\"_blank\"><span style=\"color: #7f7f7f; text-decoration-color: #7f7f7f\">584</span></a>\n",
       "</pre>\n"
      ],
      "text/plain": [
       "\u001b[2;36m[10/02/22 17:52:11]\u001b[0m\u001b[2;36m \u001b[0m\u001b[34mINFO    \u001b[0m \u001b[1m[\u001b[0m\u001b[1;36m306\u001b[0m/\u001b[1;36m380\u001b[0m\u001b[1m]\u001b[0m Retrieving game with \u001b[33mid\u001b[0m=\u001b[1;36m1549881\u001b[0m                             \u001b]8;id=211150;file:///home/morten/.conda/envs/packing-report/lib/python3.10/site-packages/soccerdata/whoscored.py\u001b\\\u001b[2mwhoscored.py\u001b[0m\u001b]8;;\u001b\\\u001b[2m:\u001b[0m\u001b]8;id=248673;file:///home/morten/.conda/envs/packing-report/lib/python3.10/site-packages/soccerdata/whoscored.py#584\u001b\\\u001b[2m584\u001b[0m\u001b]8;;\u001b\\\n"
      ]
     },
     "metadata": {},
     "output_type": "display_data"
    },
    {
     "data": {
      "text/html": [
       "<pre style=\"white-space:pre;overflow-x:auto;line-height:normal;font-family:Menlo,'DejaVu Sans Mono',consolas,'Courier New',monospace\"><span style=\"color: #7fbfbf; text-decoration-color: #7fbfbf\">                    </span><span style=\"color: #000080; text-decoration-color: #000080\">INFO    </span> <span style=\"font-weight: bold\">[</span><span style=\"color: #008080; text-decoration-color: #008080; font-weight: bold\">307</span>/<span style=\"color: #008080; text-decoration-color: #008080; font-weight: bold\">380</span><span style=\"font-weight: bold\">]</span> Retrieving game with <span style=\"color: #808000; text-decoration-color: #808000\">id</span>=<span style=\"color: #008080; text-decoration-color: #008080; font-weight: bold\">1549914</span>                             <a href=\"file:///home/morten/.conda/envs/packing-report/lib/python3.10/site-packages/soccerdata/whoscored.py\" target=\"_blank\"><span style=\"color: #7f7f7f; text-decoration-color: #7f7f7f\">whoscored.py</span></a><span style=\"color: #7f7f7f; text-decoration-color: #7f7f7f\">:</span><a href=\"file:///home/morten/.conda/envs/packing-report/lib/python3.10/site-packages/soccerdata/whoscored.py#584\" target=\"_blank\"><span style=\"color: #7f7f7f; text-decoration-color: #7f7f7f\">584</span></a>\n",
       "</pre>\n"
      ],
      "text/plain": [
       "\u001b[2;36m                   \u001b[0m\u001b[2;36m \u001b[0m\u001b[34mINFO    \u001b[0m \u001b[1m[\u001b[0m\u001b[1;36m307\u001b[0m/\u001b[1;36m380\u001b[0m\u001b[1m]\u001b[0m Retrieving game with \u001b[33mid\u001b[0m=\u001b[1;36m1549914\u001b[0m                             \u001b]8;id=34366;file:///home/morten/.conda/envs/packing-report/lib/python3.10/site-packages/soccerdata/whoscored.py\u001b\\\u001b[2mwhoscored.py\u001b[0m\u001b]8;;\u001b\\\u001b[2m:\u001b[0m\u001b]8;id=56088;file:///home/morten/.conda/envs/packing-report/lib/python3.10/site-packages/soccerdata/whoscored.py#584\u001b\\\u001b[2m584\u001b[0m\u001b]8;;\u001b\\\n"
      ]
     },
     "metadata": {},
     "output_type": "display_data"
    },
    {
     "data": {
      "text/html": [
       "<pre style=\"white-space:pre;overflow-x:auto;line-height:normal;font-family:Menlo,'DejaVu Sans Mono',consolas,'Courier New',monospace\"><span style=\"color: #7fbfbf; text-decoration-color: #7fbfbf\">                    </span><span style=\"color: #000080; text-decoration-color: #000080\">INFO    </span> <span style=\"font-weight: bold\">[</span><span style=\"color: #008080; text-decoration-color: #008080; font-weight: bold\">308</span>/<span style=\"color: #008080; text-decoration-color: #008080; font-weight: bold\">380</span><span style=\"font-weight: bold\">]</span> Retrieving game with <span style=\"color: #808000; text-decoration-color: #808000\">id</span>=<span style=\"color: #008080; text-decoration-color: #008080; font-weight: bold\">1549761</span>                             <a href=\"file:///home/morten/.conda/envs/packing-report/lib/python3.10/site-packages/soccerdata/whoscored.py\" target=\"_blank\"><span style=\"color: #7f7f7f; text-decoration-color: #7f7f7f\">whoscored.py</span></a><span style=\"color: #7f7f7f; text-decoration-color: #7f7f7f\">:</span><a href=\"file:///home/morten/.conda/envs/packing-report/lib/python3.10/site-packages/soccerdata/whoscored.py#584\" target=\"_blank\"><span style=\"color: #7f7f7f; text-decoration-color: #7f7f7f\">584</span></a>\n",
       "</pre>\n"
      ],
      "text/plain": [
       "\u001b[2;36m                   \u001b[0m\u001b[2;36m \u001b[0m\u001b[34mINFO    \u001b[0m \u001b[1m[\u001b[0m\u001b[1;36m308\u001b[0m/\u001b[1;36m380\u001b[0m\u001b[1m]\u001b[0m Retrieving game with \u001b[33mid\u001b[0m=\u001b[1;36m1549761\u001b[0m                             \u001b]8;id=277468;file:///home/morten/.conda/envs/packing-report/lib/python3.10/site-packages/soccerdata/whoscored.py\u001b\\\u001b[2mwhoscored.py\u001b[0m\u001b]8;;\u001b\\\u001b[2m:\u001b[0m\u001b]8;id=546517;file:///home/morten/.conda/envs/packing-report/lib/python3.10/site-packages/soccerdata/whoscored.py#584\u001b\\\u001b[2m584\u001b[0m\u001b]8;;\u001b\\\n"
      ]
     },
     "metadata": {},
     "output_type": "display_data"
    },
    {
     "data": {
      "text/html": [
       "<pre style=\"white-space:pre;overflow-x:auto;line-height:normal;font-family:Menlo,'DejaVu Sans Mono',consolas,'Courier New',monospace\"><span style=\"color: #7fbfbf; text-decoration-color: #7fbfbf\">                    </span><span style=\"color: #000080; text-decoration-color: #000080\">INFO    </span> <span style=\"font-weight: bold\">[</span><span style=\"color: #008080; text-decoration-color: #008080; font-weight: bold\">309</span>/<span style=\"color: #008080; text-decoration-color: #008080; font-weight: bold\">380</span><span style=\"font-weight: bold\">]</span> Retrieving game with <span style=\"color: #808000; text-decoration-color: #808000\">id</span>=<span style=\"color: #008080; text-decoration-color: #008080; font-weight: bold\">1549693</span>                             <a href=\"file:///home/morten/.conda/envs/packing-report/lib/python3.10/site-packages/soccerdata/whoscored.py\" target=\"_blank\"><span style=\"color: #7f7f7f; text-decoration-color: #7f7f7f\">whoscored.py</span></a><span style=\"color: #7f7f7f; text-decoration-color: #7f7f7f\">:</span><a href=\"file:///home/morten/.conda/envs/packing-report/lib/python3.10/site-packages/soccerdata/whoscored.py#584\" target=\"_blank\"><span style=\"color: #7f7f7f; text-decoration-color: #7f7f7f\">584</span></a>\n",
       "</pre>\n"
      ],
      "text/plain": [
       "\u001b[2;36m                   \u001b[0m\u001b[2;36m \u001b[0m\u001b[34mINFO    \u001b[0m \u001b[1m[\u001b[0m\u001b[1;36m309\u001b[0m/\u001b[1;36m380\u001b[0m\u001b[1m]\u001b[0m Retrieving game with \u001b[33mid\u001b[0m=\u001b[1;36m1549693\u001b[0m                             \u001b]8;id=355631;file:///home/morten/.conda/envs/packing-report/lib/python3.10/site-packages/soccerdata/whoscored.py\u001b\\\u001b[2mwhoscored.py\u001b[0m\u001b]8;;\u001b\\\u001b[2m:\u001b[0m\u001b]8;id=531773;file:///home/morten/.conda/envs/packing-report/lib/python3.10/site-packages/soccerdata/whoscored.py#584\u001b\\\u001b[2m584\u001b[0m\u001b]8;;\u001b\\\n"
      ]
     },
     "metadata": {},
     "output_type": "display_data"
    },
    {
     "data": {
      "text/html": [
       "<pre style=\"white-space:pre;overflow-x:auto;line-height:normal;font-family:Menlo,'DejaVu Sans Mono',consolas,'Courier New',monospace\"><span style=\"color: #7fbfbf; text-decoration-color: #7fbfbf\">                    </span><span style=\"color: #000080; text-decoration-color: #000080\">INFO    </span> <span style=\"font-weight: bold\">[</span><span style=\"color: #008080; text-decoration-color: #008080; font-weight: bold\">310</span>/<span style=\"color: #008080; text-decoration-color: #008080; font-weight: bold\">380</span><span style=\"font-weight: bold\">]</span> Retrieving game with <span style=\"color: #808000; text-decoration-color: #808000\">id</span>=<span style=\"color: #008080; text-decoration-color: #008080; font-weight: bold\">1549639</span>                             <a href=\"file:///home/morten/.conda/envs/packing-report/lib/python3.10/site-packages/soccerdata/whoscored.py\" target=\"_blank\"><span style=\"color: #7f7f7f; text-decoration-color: #7f7f7f\">whoscored.py</span></a><span style=\"color: #7f7f7f; text-decoration-color: #7f7f7f\">:</span><a href=\"file:///home/morten/.conda/envs/packing-report/lib/python3.10/site-packages/soccerdata/whoscored.py#584\" target=\"_blank\"><span style=\"color: #7f7f7f; text-decoration-color: #7f7f7f\">584</span></a>\n",
       "</pre>\n"
      ],
      "text/plain": [
       "\u001b[2;36m                   \u001b[0m\u001b[2;36m \u001b[0m\u001b[34mINFO    \u001b[0m \u001b[1m[\u001b[0m\u001b[1;36m310\u001b[0m/\u001b[1;36m380\u001b[0m\u001b[1m]\u001b[0m Retrieving game with \u001b[33mid\u001b[0m=\u001b[1;36m1549639\u001b[0m                             \u001b]8;id=947013;file:///home/morten/.conda/envs/packing-report/lib/python3.10/site-packages/soccerdata/whoscored.py\u001b\\\u001b[2mwhoscored.py\u001b[0m\u001b]8;;\u001b\\\u001b[2m:\u001b[0m\u001b]8;id=489287;file:///home/morten/.conda/envs/packing-report/lib/python3.10/site-packages/soccerdata/whoscored.py#584\u001b\\\u001b[2m584\u001b[0m\u001b]8;;\u001b\\\n"
      ]
     },
     "metadata": {},
     "output_type": "display_data"
    },
    {
     "data": {
      "text/html": [
       "<pre style=\"white-space:pre;overflow-x:auto;line-height:normal;font-family:Menlo,'DejaVu Sans Mono',consolas,'Courier New',monospace\"><span style=\"color: #7fbfbf; text-decoration-color: #7fbfbf\">                    </span><span style=\"color: #000080; text-decoration-color: #000080\">INFO    </span> <span style=\"font-weight: bold\">[</span><span style=\"color: #008080; text-decoration-color: #008080; font-weight: bold\">311</span>/<span style=\"color: #008080; text-decoration-color: #008080; font-weight: bold\">380</span><span style=\"font-weight: bold\">]</span> Retrieving game with <span style=\"color: #808000; text-decoration-color: #808000\">id</span>=<span style=\"color: #008080; text-decoration-color: #008080; font-weight: bold\">1549603</span>                             <a href=\"file:///home/morten/.conda/envs/packing-report/lib/python3.10/site-packages/soccerdata/whoscored.py\" target=\"_blank\"><span style=\"color: #7f7f7f; text-decoration-color: #7f7f7f\">whoscored.py</span></a><span style=\"color: #7f7f7f; text-decoration-color: #7f7f7f\">:</span><a href=\"file:///home/morten/.conda/envs/packing-report/lib/python3.10/site-packages/soccerdata/whoscored.py#584\" target=\"_blank\"><span style=\"color: #7f7f7f; text-decoration-color: #7f7f7f\">584</span></a>\n",
       "</pre>\n"
      ],
      "text/plain": [
       "\u001b[2;36m                   \u001b[0m\u001b[2;36m \u001b[0m\u001b[34mINFO    \u001b[0m \u001b[1m[\u001b[0m\u001b[1;36m311\u001b[0m/\u001b[1;36m380\u001b[0m\u001b[1m]\u001b[0m Retrieving game with \u001b[33mid\u001b[0m=\u001b[1;36m1549603\u001b[0m                             \u001b]8;id=432072;file:///home/morten/.conda/envs/packing-report/lib/python3.10/site-packages/soccerdata/whoscored.py\u001b\\\u001b[2mwhoscored.py\u001b[0m\u001b]8;;\u001b\\\u001b[2m:\u001b[0m\u001b]8;id=29990;file:///home/morten/.conda/envs/packing-report/lib/python3.10/site-packages/soccerdata/whoscored.py#584\u001b\\\u001b[2m584\u001b[0m\u001b]8;;\u001b\\\n"
      ]
     },
     "metadata": {},
     "output_type": "display_data"
    },
    {
     "data": {
      "text/html": [
       "<pre style=\"white-space:pre;overflow-x:auto;line-height:normal;font-family:Menlo,'DejaVu Sans Mono',consolas,'Courier New',monospace\"><span style=\"color: #7fbfbf; text-decoration-color: #7fbfbf\">                    </span><span style=\"color: #000080; text-decoration-color: #000080\">INFO    </span> <span style=\"font-weight: bold\">[</span><span style=\"color: #008080; text-decoration-color: #008080; font-weight: bold\">312</span>/<span style=\"color: #008080; text-decoration-color: #008080; font-weight: bold\">380</span><span style=\"font-weight: bold\">]</span> Retrieving game with <span style=\"color: #808000; text-decoration-color: #808000\">id</span>=<span style=\"color: #008080; text-decoration-color: #008080; font-weight: bold\">1549566</span>                             <a href=\"file:///home/morten/.conda/envs/packing-report/lib/python3.10/site-packages/soccerdata/whoscored.py\" target=\"_blank\"><span style=\"color: #7f7f7f; text-decoration-color: #7f7f7f\">whoscored.py</span></a><span style=\"color: #7f7f7f; text-decoration-color: #7f7f7f\">:</span><a href=\"file:///home/morten/.conda/envs/packing-report/lib/python3.10/site-packages/soccerdata/whoscored.py#584\" target=\"_blank\"><span style=\"color: #7f7f7f; text-decoration-color: #7f7f7f\">584</span></a>\n",
       "</pre>\n"
      ],
      "text/plain": [
       "\u001b[2;36m                   \u001b[0m\u001b[2;36m \u001b[0m\u001b[34mINFO    \u001b[0m \u001b[1m[\u001b[0m\u001b[1;36m312\u001b[0m/\u001b[1;36m380\u001b[0m\u001b[1m]\u001b[0m Retrieving game with \u001b[33mid\u001b[0m=\u001b[1;36m1549566\u001b[0m                             \u001b]8;id=738370;file:///home/morten/.conda/envs/packing-report/lib/python3.10/site-packages/soccerdata/whoscored.py\u001b\\\u001b[2mwhoscored.py\u001b[0m\u001b]8;;\u001b\\\u001b[2m:\u001b[0m\u001b]8;id=548365;file:///home/morten/.conda/envs/packing-report/lib/python3.10/site-packages/soccerdata/whoscored.py#584\u001b\\\u001b[2m584\u001b[0m\u001b]8;;\u001b\\\n"
      ]
     },
     "metadata": {},
     "output_type": "display_data"
    },
    {
     "data": {
      "text/html": [
       "<pre style=\"white-space:pre;overflow-x:auto;line-height:normal;font-family:Menlo,'DejaVu Sans Mono',consolas,'Courier New',monospace\"><span style=\"color: #7fbfbf; text-decoration-color: #7fbfbf\">                    </span><span style=\"color: #000080; text-decoration-color: #000080\">INFO    </span> <span style=\"font-weight: bold\">[</span><span style=\"color: #008080; text-decoration-color: #008080; font-weight: bold\">313</span>/<span style=\"color: #008080; text-decoration-color: #008080; font-weight: bold\">380</span><span style=\"font-weight: bold\">]</span> Retrieving game with <span style=\"color: #808000; text-decoration-color: #808000\">id</span>=<span style=\"color: #008080; text-decoration-color: #008080; font-weight: bold\">1549598</span>                             <a href=\"file:///home/morten/.conda/envs/packing-report/lib/python3.10/site-packages/soccerdata/whoscored.py\" target=\"_blank\"><span style=\"color: #7f7f7f; text-decoration-color: #7f7f7f\">whoscored.py</span></a><span style=\"color: #7f7f7f; text-decoration-color: #7f7f7f\">:</span><a href=\"file:///home/morten/.conda/envs/packing-report/lib/python3.10/site-packages/soccerdata/whoscored.py#584\" target=\"_blank\"><span style=\"color: #7f7f7f; text-decoration-color: #7f7f7f\">584</span></a>\n",
       "</pre>\n"
      ],
      "text/plain": [
       "\u001b[2;36m                   \u001b[0m\u001b[2;36m \u001b[0m\u001b[34mINFO    \u001b[0m \u001b[1m[\u001b[0m\u001b[1;36m313\u001b[0m/\u001b[1;36m380\u001b[0m\u001b[1m]\u001b[0m Retrieving game with \u001b[33mid\u001b[0m=\u001b[1;36m1549598\u001b[0m                             \u001b]8;id=238065;file:///home/morten/.conda/envs/packing-report/lib/python3.10/site-packages/soccerdata/whoscored.py\u001b\\\u001b[2mwhoscored.py\u001b[0m\u001b]8;;\u001b\\\u001b[2m:\u001b[0m\u001b]8;id=230060;file:///home/morten/.conda/envs/packing-report/lib/python3.10/site-packages/soccerdata/whoscored.py#584\u001b\\\u001b[2m584\u001b[0m\u001b]8;;\u001b\\\n"
      ]
     },
     "metadata": {},
     "output_type": "display_data"
    },
    {
     "data": {
      "text/html": [
       "<pre style=\"white-space:pre;overflow-x:auto;line-height:normal;font-family:Menlo,'DejaVu Sans Mono',consolas,'Courier New',monospace\"><span style=\"color: #7fbfbf; text-decoration-color: #7fbfbf\">                    </span><span style=\"color: #000080; text-decoration-color: #000080\">INFO    </span> <span style=\"font-weight: bold\">[</span><span style=\"color: #008080; text-decoration-color: #008080; font-weight: bold\">314</span>/<span style=\"color: #008080; text-decoration-color: #008080; font-weight: bold\">380</span><span style=\"font-weight: bold\">]</span> Retrieving game with <span style=\"color: #808000; text-decoration-color: #808000\">id</span>=<span style=\"color: #008080; text-decoration-color: #008080; font-weight: bold\">1549574</span>                             <a href=\"file:///home/morten/.conda/envs/packing-report/lib/python3.10/site-packages/soccerdata/whoscored.py\" target=\"_blank\"><span style=\"color: #7f7f7f; text-decoration-color: #7f7f7f\">whoscored.py</span></a><span style=\"color: #7f7f7f; text-decoration-color: #7f7f7f\">:</span><a href=\"file:///home/morten/.conda/envs/packing-report/lib/python3.10/site-packages/soccerdata/whoscored.py#584\" target=\"_blank\"><span style=\"color: #7f7f7f; text-decoration-color: #7f7f7f\">584</span></a>\n",
       "</pre>\n"
      ],
      "text/plain": [
       "\u001b[2;36m                   \u001b[0m\u001b[2;36m \u001b[0m\u001b[34mINFO    \u001b[0m \u001b[1m[\u001b[0m\u001b[1;36m314\u001b[0m/\u001b[1;36m380\u001b[0m\u001b[1m]\u001b[0m Retrieving game with \u001b[33mid\u001b[0m=\u001b[1;36m1549574\u001b[0m                             \u001b]8;id=191991;file:///home/morten/.conda/envs/packing-report/lib/python3.10/site-packages/soccerdata/whoscored.py\u001b\\\u001b[2mwhoscored.py\u001b[0m\u001b]8;;\u001b\\\u001b[2m:\u001b[0m\u001b]8;id=427065;file:///home/morten/.conda/envs/packing-report/lib/python3.10/site-packages/soccerdata/whoscored.py#584\u001b\\\u001b[2m584\u001b[0m\u001b]8;;\u001b\\\n"
      ]
     },
     "metadata": {},
     "output_type": "display_data"
    },
    {
     "data": {
      "text/html": [
       "<pre style=\"white-space:pre;overflow-x:auto;line-height:normal;font-family:Menlo,'DejaVu Sans Mono',consolas,'Courier New',monospace\"><span style=\"color: #7fbfbf; text-decoration-color: #7fbfbf\">                    </span><span style=\"color: #000080; text-decoration-color: #000080\">INFO    </span> <span style=\"font-weight: bold\">[</span><span style=\"color: #008080; text-decoration-color: #008080; font-weight: bold\">315</span>/<span style=\"color: #008080; text-decoration-color: #008080; font-weight: bold\">380</span><span style=\"font-weight: bold\">]</span> Retrieving game with <span style=\"color: #808000; text-decoration-color: #808000\">id</span>=<span style=\"color: #008080; text-decoration-color: #008080; font-weight: bold\">1549608</span>                             <a href=\"file:///home/morten/.conda/envs/packing-report/lib/python3.10/site-packages/soccerdata/whoscored.py\" target=\"_blank\"><span style=\"color: #7f7f7f; text-decoration-color: #7f7f7f\">whoscored.py</span></a><span style=\"color: #7f7f7f; text-decoration-color: #7f7f7f\">:</span><a href=\"file:///home/morten/.conda/envs/packing-report/lib/python3.10/site-packages/soccerdata/whoscored.py#584\" target=\"_blank\"><span style=\"color: #7f7f7f; text-decoration-color: #7f7f7f\">584</span></a>\n",
       "</pre>\n"
      ],
      "text/plain": [
       "\u001b[2;36m                   \u001b[0m\u001b[2;36m \u001b[0m\u001b[34mINFO    \u001b[0m \u001b[1m[\u001b[0m\u001b[1;36m315\u001b[0m/\u001b[1;36m380\u001b[0m\u001b[1m]\u001b[0m Retrieving game with \u001b[33mid\u001b[0m=\u001b[1;36m1549608\u001b[0m                             \u001b]8;id=710834;file:///home/morten/.conda/envs/packing-report/lib/python3.10/site-packages/soccerdata/whoscored.py\u001b\\\u001b[2mwhoscored.py\u001b[0m\u001b]8;;\u001b\\\u001b[2m:\u001b[0m\u001b]8;id=438531;file:///home/morten/.conda/envs/packing-report/lib/python3.10/site-packages/soccerdata/whoscored.py#584\u001b\\\u001b[2m584\u001b[0m\u001b]8;;\u001b\\\n"
      ]
     },
     "metadata": {},
     "output_type": "display_data"
    },
    {
     "data": {
      "text/html": [
       "<pre style=\"white-space:pre;overflow-x:auto;line-height:normal;font-family:Menlo,'DejaVu Sans Mono',consolas,'Courier New',monospace\"><span style=\"color: #7fbfbf; text-decoration-color: #7fbfbf\">                    </span><span style=\"color: #000080; text-decoration-color: #000080\">INFO    </span> <span style=\"font-weight: bold\">[</span><span style=\"color: #008080; text-decoration-color: #008080; font-weight: bold\">316</span>/<span style=\"color: #008080; text-decoration-color: #008080; font-weight: bold\">380</span><span style=\"font-weight: bold\">]</span> Retrieving game with <span style=\"color: #808000; text-decoration-color: #808000\">id</span>=<span style=\"color: #008080; text-decoration-color: #008080; font-weight: bold\">1549633</span>                             <a href=\"file:///home/morten/.conda/envs/packing-report/lib/python3.10/site-packages/soccerdata/whoscored.py\" target=\"_blank\"><span style=\"color: #7f7f7f; text-decoration-color: #7f7f7f\">whoscored.py</span></a><span style=\"color: #7f7f7f; text-decoration-color: #7f7f7f\">:</span><a href=\"file:///home/morten/.conda/envs/packing-report/lib/python3.10/site-packages/soccerdata/whoscored.py#584\" target=\"_blank\"><span style=\"color: #7f7f7f; text-decoration-color: #7f7f7f\">584</span></a>\n",
       "</pre>\n"
      ],
      "text/plain": [
       "\u001b[2;36m                   \u001b[0m\u001b[2;36m \u001b[0m\u001b[34mINFO    \u001b[0m \u001b[1m[\u001b[0m\u001b[1;36m316\u001b[0m/\u001b[1;36m380\u001b[0m\u001b[1m]\u001b[0m Retrieving game with \u001b[33mid\u001b[0m=\u001b[1;36m1549633\u001b[0m                             \u001b]8;id=106731;file:///home/morten/.conda/envs/packing-report/lib/python3.10/site-packages/soccerdata/whoscored.py\u001b\\\u001b[2mwhoscored.py\u001b[0m\u001b]8;;\u001b\\\u001b[2m:\u001b[0m\u001b]8;id=176443;file:///home/morten/.conda/envs/packing-report/lib/python3.10/site-packages/soccerdata/whoscored.py#584\u001b\\\u001b[2m584\u001b[0m\u001b]8;;\u001b\\\n"
      ]
     },
     "metadata": {},
     "output_type": "display_data"
    },
    {
     "data": {
      "text/html": [
       "<pre style=\"white-space:pre;overflow-x:auto;line-height:normal;font-family:Menlo,'DejaVu Sans Mono',consolas,'Courier New',monospace\"><span style=\"color: #7fbfbf; text-decoration-color: #7fbfbf\">                    </span><span style=\"color: #000080; text-decoration-color: #000080\">INFO    </span> <span style=\"font-weight: bold\">[</span><span style=\"color: #008080; text-decoration-color: #008080; font-weight: bold\">317</span>/<span style=\"color: #008080; text-decoration-color: #008080; font-weight: bold\">380</span><span style=\"font-weight: bold\">]</span> Retrieving game with <span style=\"color: #808000; text-decoration-color: #808000\">id</span>=<span style=\"color: #008080; text-decoration-color: #008080; font-weight: bold\">1549837</span>                             <a href=\"file:///home/morten/.conda/envs/packing-report/lib/python3.10/site-packages/soccerdata/whoscored.py\" target=\"_blank\"><span style=\"color: #7f7f7f; text-decoration-color: #7f7f7f\">whoscored.py</span></a><span style=\"color: #7f7f7f; text-decoration-color: #7f7f7f\">:</span><a href=\"file:///home/morten/.conda/envs/packing-report/lib/python3.10/site-packages/soccerdata/whoscored.py#584\" target=\"_blank\"><span style=\"color: #7f7f7f; text-decoration-color: #7f7f7f\">584</span></a>\n",
       "</pre>\n"
      ],
      "text/plain": [
       "\u001b[2;36m                   \u001b[0m\u001b[2;36m \u001b[0m\u001b[34mINFO    \u001b[0m \u001b[1m[\u001b[0m\u001b[1;36m317\u001b[0m/\u001b[1;36m380\u001b[0m\u001b[1m]\u001b[0m Retrieving game with \u001b[33mid\u001b[0m=\u001b[1;36m1549837\u001b[0m                             \u001b]8;id=738996;file:///home/morten/.conda/envs/packing-report/lib/python3.10/site-packages/soccerdata/whoscored.py\u001b\\\u001b[2mwhoscored.py\u001b[0m\u001b]8;;\u001b\\\u001b[2m:\u001b[0m\u001b]8;id=941523;file:///home/morten/.conda/envs/packing-report/lib/python3.10/site-packages/soccerdata/whoscored.py#584\u001b\\\u001b[2m584\u001b[0m\u001b]8;;\u001b\\\n"
      ]
     },
     "metadata": {},
     "output_type": "display_data"
    },
    {
     "data": {
      "text/html": [
       "<pre style=\"white-space:pre;overflow-x:auto;line-height:normal;font-family:Menlo,'DejaVu Sans Mono',consolas,'Courier New',monospace\"><span style=\"color: #7fbfbf; text-decoration-color: #7fbfbf\">                    </span><span style=\"color: #000080; text-decoration-color: #000080\">INFO    </span> <span style=\"font-weight: bold\">[</span><span style=\"color: #008080; text-decoration-color: #008080; font-weight: bold\">318</span>/<span style=\"color: #008080; text-decoration-color: #008080; font-weight: bold\">380</span><span style=\"font-weight: bold\">]</span> Retrieving game with <span style=\"color: #808000; text-decoration-color: #808000\">id</span>=<span style=\"color: #008080; text-decoration-color: #008080; font-weight: bold\">1549771</span>                             <a href=\"file:///home/morten/.conda/envs/packing-report/lib/python3.10/site-packages/soccerdata/whoscored.py\" target=\"_blank\"><span style=\"color: #7f7f7f; text-decoration-color: #7f7f7f\">whoscored.py</span></a><span style=\"color: #7f7f7f; text-decoration-color: #7f7f7f\">:</span><a href=\"file:///home/morten/.conda/envs/packing-report/lib/python3.10/site-packages/soccerdata/whoscored.py#584\" target=\"_blank\"><span style=\"color: #7f7f7f; text-decoration-color: #7f7f7f\">584</span></a>\n",
       "</pre>\n"
      ],
      "text/plain": [
       "\u001b[2;36m                   \u001b[0m\u001b[2;36m \u001b[0m\u001b[34mINFO    \u001b[0m \u001b[1m[\u001b[0m\u001b[1;36m318\u001b[0m/\u001b[1;36m380\u001b[0m\u001b[1m]\u001b[0m Retrieving game with \u001b[33mid\u001b[0m=\u001b[1;36m1549771\u001b[0m                             \u001b]8;id=990971;file:///home/morten/.conda/envs/packing-report/lib/python3.10/site-packages/soccerdata/whoscored.py\u001b\\\u001b[2mwhoscored.py\u001b[0m\u001b]8;;\u001b\\\u001b[2m:\u001b[0m\u001b]8;id=962456;file:///home/morten/.conda/envs/packing-report/lib/python3.10/site-packages/soccerdata/whoscored.py#584\u001b\\\u001b[2m584\u001b[0m\u001b]8;;\u001b\\\n"
      ]
     },
     "metadata": {},
     "output_type": "display_data"
    },
    {
     "data": {
      "text/html": [
       "<pre style=\"white-space:pre;overflow-x:auto;line-height:normal;font-family:Menlo,'DejaVu Sans Mono',consolas,'Courier New',monospace\"><span style=\"color: #7fbfbf; text-decoration-color: #7fbfbf\">                    </span><span style=\"color: #000080; text-decoration-color: #000080\">INFO    </span> <span style=\"font-weight: bold\">[</span><span style=\"color: #008080; text-decoration-color: #008080; font-weight: bold\">319</span>/<span style=\"color: #008080; text-decoration-color: #008080; font-weight: bold\">380</span><span style=\"font-weight: bold\">]</span> Retrieving game with <span style=\"color: #808000; text-decoration-color: #808000\">id</span>=<span style=\"color: #008080; text-decoration-color: #008080; font-weight: bold\">1549705</span>                             <a href=\"file:///home/morten/.conda/envs/packing-report/lib/python3.10/site-packages/soccerdata/whoscored.py\" target=\"_blank\"><span style=\"color: #7f7f7f; text-decoration-color: #7f7f7f\">whoscored.py</span></a><span style=\"color: #7f7f7f; text-decoration-color: #7f7f7f\">:</span><a href=\"file:///home/morten/.conda/envs/packing-report/lib/python3.10/site-packages/soccerdata/whoscored.py#584\" target=\"_blank\"><span style=\"color: #7f7f7f; text-decoration-color: #7f7f7f\">584</span></a>\n",
       "</pre>\n"
      ],
      "text/plain": [
       "\u001b[2;36m                   \u001b[0m\u001b[2;36m \u001b[0m\u001b[34mINFO    \u001b[0m \u001b[1m[\u001b[0m\u001b[1;36m319\u001b[0m/\u001b[1;36m380\u001b[0m\u001b[1m]\u001b[0m Retrieving game with \u001b[33mid\u001b[0m=\u001b[1;36m1549705\u001b[0m                             \u001b]8;id=949044;file:///home/morten/.conda/envs/packing-report/lib/python3.10/site-packages/soccerdata/whoscored.py\u001b\\\u001b[2mwhoscored.py\u001b[0m\u001b]8;;\u001b\\\u001b[2m:\u001b[0m\u001b]8;id=563983;file:///home/morten/.conda/envs/packing-report/lib/python3.10/site-packages/soccerdata/whoscored.py#584\u001b\\\u001b[2m584\u001b[0m\u001b]8;;\u001b\\\n"
      ]
     },
     "metadata": {},
     "output_type": "display_data"
    },
    {
     "data": {
      "text/html": [
       "<pre style=\"white-space:pre;overflow-x:auto;line-height:normal;font-family:Menlo,'DejaVu Sans Mono',consolas,'Courier New',monospace\"><span style=\"color: #7fbfbf; text-decoration-color: #7fbfbf\">                    </span><span style=\"color: #000080; text-decoration-color: #000080\">INFO    </span> <span style=\"font-weight: bold\">[</span><span style=\"color: #008080; text-decoration-color: #008080; font-weight: bold\">320</span>/<span style=\"color: #008080; text-decoration-color: #008080; font-weight: bold\">380</span><span style=\"font-weight: bold\">]</span> Retrieving game with <span style=\"color: #808000; text-decoration-color: #808000\">id</span>=<span style=\"color: #008080; text-decoration-color: #008080; font-weight: bold\">1549704</span>                             <a href=\"file:///home/morten/.conda/envs/packing-report/lib/python3.10/site-packages/soccerdata/whoscored.py\" target=\"_blank\"><span style=\"color: #7f7f7f; text-decoration-color: #7f7f7f\">whoscored.py</span></a><span style=\"color: #7f7f7f; text-decoration-color: #7f7f7f\">:</span><a href=\"file:///home/morten/.conda/envs/packing-report/lib/python3.10/site-packages/soccerdata/whoscored.py#584\" target=\"_blank\"><span style=\"color: #7f7f7f; text-decoration-color: #7f7f7f\">584</span></a>\n",
       "</pre>\n"
      ],
      "text/plain": [
       "\u001b[2;36m                   \u001b[0m\u001b[2;36m \u001b[0m\u001b[34mINFO    \u001b[0m \u001b[1m[\u001b[0m\u001b[1;36m320\u001b[0m/\u001b[1;36m380\u001b[0m\u001b[1m]\u001b[0m Retrieving game with \u001b[33mid\u001b[0m=\u001b[1;36m1549704\u001b[0m                             \u001b]8;id=614679;file:///home/morten/.conda/envs/packing-report/lib/python3.10/site-packages/soccerdata/whoscored.py\u001b\\\u001b[2mwhoscored.py\u001b[0m\u001b]8;;\u001b\\\u001b[2m:\u001b[0m\u001b]8;id=716983;file:///home/morten/.conda/envs/packing-report/lib/python3.10/site-packages/soccerdata/whoscored.py#584\u001b\\\u001b[2m584\u001b[0m\u001b]8;;\u001b\\\n"
      ]
     },
     "metadata": {},
     "output_type": "display_data"
    },
    {
     "data": {
      "text/html": [
       "<pre style=\"white-space:pre;overflow-x:auto;line-height:normal;font-family:Menlo,'DejaVu Sans Mono',consolas,'Courier New',monospace\"><span style=\"color: #7fbfbf; text-decoration-color: #7fbfbf\">                    </span><span style=\"color: #000080; text-decoration-color: #000080\">INFO    </span> <span style=\"font-weight: bold\">[</span><span style=\"color: #008080; text-decoration-color: #008080; font-weight: bold\">321</span>/<span style=\"color: #008080; text-decoration-color: #008080; font-weight: bold\">380</span><span style=\"font-weight: bold\">]</span> Retrieving game with <span style=\"color: #808000; text-decoration-color: #808000\">id</span>=<span style=\"color: #008080; text-decoration-color: #008080; font-weight: bold\">1549684</span>                             <a href=\"file:///home/morten/.conda/envs/packing-report/lib/python3.10/site-packages/soccerdata/whoscored.py\" target=\"_blank\"><span style=\"color: #7f7f7f; text-decoration-color: #7f7f7f\">whoscored.py</span></a><span style=\"color: #7f7f7f; text-decoration-color: #7f7f7f\">:</span><a href=\"file:///home/morten/.conda/envs/packing-report/lib/python3.10/site-packages/soccerdata/whoscored.py#584\" target=\"_blank\"><span style=\"color: #7f7f7f; text-decoration-color: #7f7f7f\">584</span></a>\n",
       "</pre>\n"
      ],
      "text/plain": [
       "\u001b[2;36m                   \u001b[0m\u001b[2;36m \u001b[0m\u001b[34mINFO    \u001b[0m \u001b[1m[\u001b[0m\u001b[1;36m321\u001b[0m/\u001b[1;36m380\u001b[0m\u001b[1m]\u001b[0m Retrieving game with \u001b[33mid\u001b[0m=\u001b[1;36m1549684\u001b[0m                             \u001b]8;id=800272;file:///home/morten/.conda/envs/packing-report/lib/python3.10/site-packages/soccerdata/whoscored.py\u001b\\\u001b[2mwhoscored.py\u001b[0m\u001b]8;;\u001b\\\u001b[2m:\u001b[0m\u001b]8;id=41666;file:///home/morten/.conda/envs/packing-report/lib/python3.10/site-packages/soccerdata/whoscored.py#584\u001b\\\u001b[2m584\u001b[0m\u001b]8;;\u001b\\\n"
      ]
     },
     "metadata": {},
     "output_type": "display_data"
    },
    {
     "data": {
      "text/html": [
       "<pre style=\"white-space:pre;overflow-x:auto;line-height:normal;font-family:Menlo,'DejaVu Sans Mono',consolas,'Courier New',monospace\"><span style=\"color: #7fbfbf; text-decoration-color: #7fbfbf\">                    </span><span style=\"color: #000080; text-decoration-color: #000080\">INFO    </span> <span style=\"font-weight: bold\">[</span><span style=\"color: #008080; text-decoration-color: #008080; font-weight: bold\">322</span>/<span style=\"color: #008080; text-decoration-color: #008080; font-weight: bold\">380</span><span style=\"font-weight: bold\">]</span> Retrieving game with <span style=\"color: #808000; text-decoration-color: #808000\">id</span>=<span style=\"color: #008080; text-decoration-color: #008080; font-weight: bold\">1549770</span>                             <a href=\"file:///home/morten/.conda/envs/packing-report/lib/python3.10/site-packages/soccerdata/whoscored.py\" target=\"_blank\"><span style=\"color: #7f7f7f; text-decoration-color: #7f7f7f\">whoscored.py</span></a><span style=\"color: #7f7f7f; text-decoration-color: #7f7f7f\">:</span><a href=\"file:///home/morten/.conda/envs/packing-report/lib/python3.10/site-packages/soccerdata/whoscored.py#584\" target=\"_blank\"><span style=\"color: #7f7f7f; text-decoration-color: #7f7f7f\">584</span></a>\n",
       "</pre>\n"
      ],
      "text/plain": [
       "\u001b[2;36m                   \u001b[0m\u001b[2;36m \u001b[0m\u001b[34mINFO    \u001b[0m \u001b[1m[\u001b[0m\u001b[1;36m322\u001b[0m/\u001b[1;36m380\u001b[0m\u001b[1m]\u001b[0m Retrieving game with \u001b[33mid\u001b[0m=\u001b[1;36m1549770\u001b[0m                             \u001b]8;id=581203;file:///home/morten/.conda/envs/packing-report/lib/python3.10/site-packages/soccerdata/whoscored.py\u001b\\\u001b[2mwhoscored.py\u001b[0m\u001b]8;;\u001b\\\u001b[2m:\u001b[0m\u001b]8;id=421880;file:///home/morten/.conda/envs/packing-report/lib/python3.10/site-packages/soccerdata/whoscored.py#584\u001b\\\u001b[2m584\u001b[0m\u001b]8;;\u001b\\\n"
      ]
     },
     "metadata": {},
     "output_type": "display_data"
    },
    {
     "data": {
      "text/html": [
       "<pre style=\"white-space:pre;overflow-x:auto;line-height:normal;font-family:Menlo,'DejaVu Sans Mono',consolas,'Courier New',monospace\"><span style=\"color: #7fbfbf; text-decoration-color: #7fbfbf\">                    </span><span style=\"color: #000080; text-decoration-color: #000080\">INFO    </span> <span style=\"font-weight: bold\">[</span><span style=\"color: #008080; text-decoration-color: #008080; font-weight: bold\">323</span>/<span style=\"color: #008080; text-decoration-color: #008080; font-weight: bold\">380</span><span style=\"font-weight: bold\">]</span> Retrieving game with <span style=\"color: #808000; text-decoration-color: #808000\">id</span>=<span style=\"color: #008080; text-decoration-color: #008080; font-weight: bold\">1549843</span>                             <a href=\"file:///home/morten/.conda/envs/packing-report/lib/python3.10/site-packages/soccerdata/whoscored.py\" target=\"_blank\"><span style=\"color: #7f7f7f; text-decoration-color: #7f7f7f\">whoscored.py</span></a><span style=\"color: #7f7f7f; text-decoration-color: #7f7f7f\">:</span><a href=\"file:///home/morten/.conda/envs/packing-report/lib/python3.10/site-packages/soccerdata/whoscored.py#584\" target=\"_blank\"><span style=\"color: #7f7f7f; text-decoration-color: #7f7f7f\">584</span></a>\n",
       "</pre>\n"
      ],
      "text/plain": [
       "\u001b[2;36m                   \u001b[0m\u001b[2;36m \u001b[0m\u001b[34mINFO    \u001b[0m \u001b[1m[\u001b[0m\u001b[1;36m323\u001b[0m/\u001b[1;36m380\u001b[0m\u001b[1m]\u001b[0m Retrieving game with \u001b[33mid\u001b[0m=\u001b[1;36m1549843\u001b[0m                             \u001b]8;id=345597;file:///home/morten/.conda/envs/packing-report/lib/python3.10/site-packages/soccerdata/whoscored.py\u001b\\\u001b[2mwhoscored.py\u001b[0m\u001b]8;;\u001b\\\u001b[2m:\u001b[0m\u001b]8;id=295592;file:///home/morten/.conda/envs/packing-report/lib/python3.10/site-packages/soccerdata/whoscored.py#584\u001b\\\u001b[2m584\u001b[0m\u001b]8;;\u001b\\\n"
      ]
     },
     "metadata": {},
     "output_type": "display_data"
    },
    {
     "data": {
      "text/html": [
       "<pre style=\"white-space:pre;overflow-x:auto;line-height:normal;font-family:Menlo,'DejaVu Sans Mono',consolas,'Courier New',monospace\"><span style=\"color: #7fbfbf; text-decoration-color: #7fbfbf\">[10/02/22 17:52:12] </span><span style=\"color: #000080; text-decoration-color: #000080\">INFO    </span> <span style=\"font-weight: bold\">[</span><span style=\"color: #008080; text-decoration-color: #008080; font-weight: bold\">324</span>/<span style=\"color: #008080; text-decoration-color: #008080; font-weight: bold\">380</span><span style=\"font-weight: bold\">]</span> Retrieving game with <span style=\"color: #808000; text-decoration-color: #808000\">id</span>=<span style=\"color: #008080; text-decoration-color: #008080; font-weight: bold\">1549876</span>                             <a href=\"file:///home/morten/.conda/envs/packing-report/lib/python3.10/site-packages/soccerdata/whoscored.py\" target=\"_blank\"><span style=\"color: #7f7f7f; text-decoration-color: #7f7f7f\">whoscored.py</span></a><span style=\"color: #7f7f7f; text-decoration-color: #7f7f7f\">:</span><a href=\"file:///home/morten/.conda/envs/packing-report/lib/python3.10/site-packages/soccerdata/whoscored.py#584\" target=\"_blank\"><span style=\"color: #7f7f7f; text-decoration-color: #7f7f7f\">584</span></a>\n",
       "</pre>\n"
      ],
      "text/plain": [
       "\u001b[2;36m[10/02/22 17:52:12]\u001b[0m\u001b[2;36m \u001b[0m\u001b[34mINFO    \u001b[0m \u001b[1m[\u001b[0m\u001b[1;36m324\u001b[0m/\u001b[1;36m380\u001b[0m\u001b[1m]\u001b[0m Retrieving game with \u001b[33mid\u001b[0m=\u001b[1;36m1549876\u001b[0m                             \u001b]8;id=460742;file:///home/morten/.conda/envs/packing-report/lib/python3.10/site-packages/soccerdata/whoscored.py\u001b\\\u001b[2mwhoscored.py\u001b[0m\u001b]8;;\u001b\\\u001b[2m:\u001b[0m\u001b]8;id=577218;file:///home/morten/.conda/envs/packing-report/lib/python3.10/site-packages/soccerdata/whoscored.py#584\u001b\\\u001b[2m584\u001b[0m\u001b]8;;\u001b\\\n"
      ]
     },
     "metadata": {},
     "output_type": "display_data"
    },
    {
     "data": {
      "text/html": [
       "<pre style=\"white-space:pre;overflow-x:auto;line-height:normal;font-family:Menlo,'DejaVu Sans Mono',consolas,'Courier New',monospace\"><span style=\"color: #7fbfbf; text-decoration-color: #7fbfbf\">                    </span><span style=\"color: #000080; text-decoration-color: #000080\">INFO    </span> <span style=\"font-weight: bold\">[</span><span style=\"color: #008080; text-decoration-color: #008080; font-weight: bold\">325</span>/<span style=\"color: #008080; text-decoration-color: #008080; font-weight: bold\">380</span><span style=\"font-weight: bold\">]</span> Retrieving game with <span style=\"color: #808000; text-decoration-color: #808000\">id</span>=<span style=\"color: #008080; text-decoration-color: #008080; font-weight: bold\">1549811</span>                             <a href=\"file:///home/morten/.conda/envs/packing-report/lib/python3.10/site-packages/soccerdata/whoscored.py\" target=\"_blank\"><span style=\"color: #7f7f7f; text-decoration-color: #7f7f7f\">whoscored.py</span></a><span style=\"color: #7f7f7f; text-decoration-color: #7f7f7f\">:</span><a href=\"file:///home/morten/.conda/envs/packing-report/lib/python3.10/site-packages/soccerdata/whoscored.py#584\" target=\"_blank\"><span style=\"color: #7f7f7f; text-decoration-color: #7f7f7f\">584</span></a>\n",
       "</pre>\n"
      ],
      "text/plain": [
       "\u001b[2;36m                   \u001b[0m\u001b[2;36m \u001b[0m\u001b[34mINFO    \u001b[0m \u001b[1m[\u001b[0m\u001b[1;36m325\u001b[0m/\u001b[1;36m380\u001b[0m\u001b[1m]\u001b[0m Retrieving game with \u001b[33mid\u001b[0m=\u001b[1;36m1549811\u001b[0m                             \u001b]8;id=611258;file:///home/morten/.conda/envs/packing-report/lib/python3.10/site-packages/soccerdata/whoscored.py\u001b\\\u001b[2mwhoscored.py\u001b[0m\u001b]8;;\u001b\\\u001b[2m:\u001b[0m\u001b]8;id=438510;file:///home/morten/.conda/envs/packing-report/lib/python3.10/site-packages/soccerdata/whoscored.py#584\u001b\\\u001b[2m584\u001b[0m\u001b]8;;\u001b\\\n"
      ]
     },
     "metadata": {},
     "output_type": "display_data"
    },
    {
     "data": {
      "text/html": [
       "<pre style=\"white-space:pre;overflow-x:auto;line-height:normal;font-family:Menlo,'DejaVu Sans Mono',consolas,'Courier New',monospace\"><span style=\"color: #7fbfbf; text-decoration-color: #7fbfbf\">                    </span><span style=\"color: #000080; text-decoration-color: #000080\">INFO    </span> <span style=\"font-weight: bold\">[</span><span style=\"color: #008080; text-decoration-color: #008080; font-weight: bold\">326</span>/<span style=\"color: #008080; text-decoration-color: #008080; font-weight: bold\">380</span><span style=\"font-weight: bold\">]</span> Retrieving game with <span style=\"color: #808000; text-decoration-color: #808000\">id</span>=<span style=\"color: #008080; text-decoration-color: #008080; font-weight: bold\">1549750</span>                             <a href=\"file:///home/morten/.conda/envs/packing-report/lib/python3.10/site-packages/soccerdata/whoscored.py\" target=\"_blank\"><span style=\"color: #7f7f7f; text-decoration-color: #7f7f7f\">whoscored.py</span></a><span style=\"color: #7f7f7f; text-decoration-color: #7f7f7f\">:</span><a href=\"file:///home/morten/.conda/envs/packing-report/lib/python3.10/site-packages/soccerdata/whoscored.py#584\" target=\"_blank\"><span style=\"color: #7f7f7f; text-decoration-color: #7f7f7f\">584</span></a>\n",
       "</pre>\n"
      ],
      "text/plain": [
       "\u001b[2;36m                   \u001b[0m\u001b[2;36m \u001b[0m\u001b[34mINFO    \u001b[0m \u001b[1m[\u001b[0m\u001b[1;36m326\u001b[0m/\u001b[1;36m380\u001b[0m\u001b[1m]\u001b[0m Retrieving game with \u001b[33mid\u001b[0m=\u001b[1;36m1549750\u001b[0m                             \u001b]8;id=625662;file:///home/morten/.conda/envs/packing-report/lib/python3.10/site-packages/soccerdata/whoscored.py\u001b\\\u001b[2mwhoscored.py\u001b[0m\u001b]8;;\u001b\\\u001b[2m:\u001b[0m\u001b]8;id=214670;file:///home/morten/.conda/envs/packing-report/lib/python3.10/site-packages/soccerdata/whoscored.py#584\u001b\\\u001b[2m584\u001b[0m\u001b]8;;\u001b\\\n"
      ]
     },
     "metadata": {},
     "output_type": "display_data"
    },
    {
     "data": {
      "text/html": [
       "<pre style=\"white-space:pre;overflow-x:auto;line-height:normal;font-family:Menlo,'DejaVu Sans Mono',consolas,'Courier New',monospace\"><span style=\"color: #7fbfbf; text-decoration-color: #7fbfbf\">                    </span><span style=\"color: #000080; text-decoration-color: #000080\">INFO    </span> <span style=\"font-weight: bold\">[</span><span style=\"color: #008080; text-decoration-color: #008080; font-weight: bold\">327</span>/<span style=\"color: #008080; text-decoration-color: #008080; font-weight: bold\">380</span><span style=\"font-weight: bold\">]</span> Retrieving game with <span style=\"color: #808000; text-decoration-color: #808000\">id</span>=<span style=\"color: #008080; text-decoration-color: #008080; font-weight: bold\">1549791</span>                             <a href=\"file:///home/morten/.conda/envs/packing-report/lib/python3.10/site-packages/soccerdata/whoscored.py\" target=\"_blank\"><span style=\"color: #7f7f7f; text-decoration-color: #7f7f7f\">whoscored.py</span></a><span style=\"color: #7f7f7f; text-decoration-color: #7f7f7f\">:</span><a href=\"file:///home/morten/.conda/envs/packing-report/lib/python3.10/site-packages/soccerdata/whoscored.py#584\" target=\"_blank\"><span style=\"color: #7f7f7f; text-decoration-color: #7f7f7f\">584</span></a>\n",
       "</pre>\n"
      ],
      "text/plain": [
       "\u001b[2;36m                   \u001b[0m\u001b[2;36m \u001b[0m\u001b[34mINFO    \u001b[0m \u001b[1m[\u001b[0m\u001b[1;36m327\u001b[0m/\u001b[1;36m380\u001b[0m\u001b[1m]\u001b[0m Retrieving game with \u001b[33mid\u001b[0m=\u001b[1;36m1549791\u001b[0m                             \u001b]8;id=344549;file:///home/morten/.conda/envs/packing-report/lib/python3.10/site-packages/soccerdata/whoscored.py\u001b\\\u001b[2mwhoscored.py\u001b[0m\u001b]8;;\u001b\\\u001b[2m:\u001b[0m\u001b]8;id=458701;file:///home/morten/.conda/envs/packing-report/lib/python3.10/site-packages/soccerdata/whoscored.py#584\u001b\\\u001b[2m584\u001b[0m\u001b]8;;\u001b\\\n"
      ]
     },
     "metadata": {},
     "output_type": "display_data"
    },
    {
     "data": {
      "text/html": [
       "<pre style=\"white-space:pre;overflow-x:auto;line-height:normal;font-family:Menlo,'DejaVu Sans Mono',consolas,'Courier New',monospace\"><span style=\"color: #7fbfbf; text-decoration-color: #7fbfbf\">                    </span><span style=\"color: #000080; text-decoration-color: #000080\">INFO    </span> <span style=\"font-weight: bold\">[</span><span style=\"color: #008080; text-decoration-color: #008080; font-weight: bold\">328</span>/<span style=\"color: #008080; text-decoration-color: #008080; font-weight: bold\">380</span><span style=\"font-weight: bold\">]</span> Retrieving game with <span style=\"color: #808000; text-decoration-color: #808000\">id</span>=<span style=\"color: #008080; text-decoration-color: #008080; font-weight: bold\">1549597</span>                             <a href=\"file:///home/morten/.conda/envs/packing-report/lib/python3.10/site-packages/soccerdata/whoscored.py\" target=\"_blank\"><span style=\"color: #7f7f7f; text-decoration-color: #7f7f7f\">whoscored.py</span></a><span style=\"color: #7f7f7f; text-decoration-color: #7f7f7f\">:</span><a href=\"file:///home/morten/.conda/envs/packing-report/lib/python3.10/site-packages/soccerdata/whoscored.py#584\" target=\"_blank\"><span style=\"color: #7f7f7f; text-decoration-color: #7f7f7f\">584</span></a>\n",
       "</pre>\n"
      ],
      "text/plain": [
       "\u001b[2;36m                   \u001b[0m\u001b[2;36m \u001b[0m\u001b[34mINFO    \u001b[0m \u001b[1m[\u001b[0m\u001b[1;36m328\u001b[0m/\u001b[1;36m380\u001b[0m\u001b[1m]\u001b[0m Retrieving game with \u001b[33mid\u001b[0m=\u001b[1;36m1549597\u001b[0m                             \u001b]8;id=772600;file:///home/morten/.conda/envs/packing-report/lib/python3.10/site-packages/soccerdata/whoscored.py\u001b\\\u001b[2mwhoscored.py\u001b[0m\u001b]8;;\u001b\\\u001b[2m:\u001b[0m\u001b]8;id=193951;file:///home/morten/.conda/envs/packing-report/lib/python3.10/site-packages/soccerdata/whoscored.py#584\u001b\\\u001b[2m584\u001b[0m\u001b]8;;\u001b\\\n"
      ]
     },
     "metadata": {},
     "output_type": "display_data"
    },
    {
     "data": {
      "text/html": [
       "<pre style=\"white-space:pre;overflow-x:auto;line-height:normal;font-family:Menlo,'DejaVu Sans Mono',consolas,'Courier New',monospace\"><span style=\"color: #7fbfbf; text-decoration-color: #7fbfbf\">                    </span><span style=\"color: #000080; text-decoration-color: #000080\">INFO    </span> <span style=\"font-weight: bold\">[</span><span style=\"color: #008080; text-decoration-color: #008080; font-weight: bold\">329</span>/<span style=\"color: #008080; text-decoration-color: #008080; font-weight: bold\">380</span><span style=\"font-weight: bold\">]</span> Retrieving game with <span style=\"color: #808000; text-decoration-color: #808000\">id</span>=<span style=\"color: #008080; text-decoration-color: #008080; font-weight: bold\">1549909</span>                             <a href=\"file:///home/morten/.conda/envs/packing-report/lib/python3.10/site-packages/soccerdata/whoscored.py\" target=\"_blank\"><span style=\"color: #7f7f7f; text-decoration-color: #7f7f7f\">whoscored.py</span></a><span style=\"color: #7f7f7f; text-decoration-color: #7f7f7f\">:</span><a href=\"file:///home/morten/.conda/envs/packing-report/lib/python3.10/site-packages/soccerdata/whoscored.py#584\" target=\"_blank\"><span style=\"color: #7f7f7f; text-decoration-color: #7f7f7f\">584</span></a>\n",
       "</pre>\n"
      ],
      "text/plain": [
       "\u001b[2;36m                   \u001b[0m\u001b[2;36m \u001b[0m\u001b[34mINFO    \u001b[0m \u001b[1m[\u001b[0m\u001b[1;36m329\u001b[0m/\u001b[1;36m380\u001b[0m\u001b[1m]\u001b[0m Retrieving game with \u001b[33mid\u001b[0m=\u001b[1;36m1549909\u001b[0m                             \u001b]8;id=238869;file:///home/morten/.conda/envs/packing-report/lib/python3.10/site-packages/soccerdata/whoscored.py\u001b\\\u001b[2mwhoscored.py\u001b[0m\u001b]8;;\u001b\\\u001b[2m:\u001b[0m\u001b]8;id=45625;file:///home/morten/.conda/envs/packing-report/lib/python3.10/site-packages/soccerdata/whoscored.py#584\u001b\\\u001b[2m584\u001b[0m\u001b]8;;\u001b\\\n"
      ]
     },
     "metadata": {},
     "output_type": "display_data"
    },
    {
     "data": {
      "text/html": [
       "<pre style=\"white-space:pre;overflow-x:auto;line-height:normal;font-family:Menlo,'DejaVu Sans Mono',consolas,'Courier New',monospace\"><span style=\"color: #7fbfbf; text-decoration-color: #7fbfbf\">                    </span><span style=\"color: #000080; text-decoration-color: #000080\">INFO    </span> <span style=\"font-weight: bold\">[</span><span style=\"color: #008080; text-decoration-color: #008080; font-weight: bold\">330</span>/<span style=\"color: #008080; text-decoration-color: #008080; font-weight: bold\">380</span><span style=\"font-weight: bold\">]</span> Retrieving game with <span style=\"color: #808000; text-decoration-color: #808000\">id</span>=<span style=\"color: #008080; text-decoration-color: #008080; font-weight: bold\">1549590</span>                             <a href=\"file:///home/morten/.conda/envs/packing-report/lib/python3.10/site-packages/soccerdata/whoscored.py\" target=\"_blank\"><span style=\"color: #7f7f7f; text-decoration-color: #7f7f7f\">whoscored.py</span></a><span style=\"color: #7f7f7f; text-decoration-color: #7f7f7f\">:</span><a href=\"file:///home/morten/.conda/envs/packing-report/lib/python3.10/site-packages/soccerdata/whoscored.py#584\" target=\"_blank\"><span style=\"color: #7f7f7f; text-decoration-color: #7f7f7f\">584</span></a>\n",
       "</pre>\n"
      ],
      "text/plain": [
       "\u001b[2;36m                   \u001b[0m\u001b[2;36m \u001b[0m\u001b[34mINFO    \u001b[0m \u001b[1m[\u001b[0m\u001b[1;36m330\u001b[0m/\u001b[1;36m380\u001b[0m\u001b[1m]\u001b[0m Retrieving game with \u001b[33mid\u001b[0m=\u001b[1;36m1549590\u001b[0m                             \u001b]8;id=909393;file:///home/morten/.conda/envs/packing-report/lib/python3.10/site-packages/soccerdata/whoscored.py\u001b\\\u001b[2mwhoscored.py\u001b[0m\u001b]8;;\u001b\\\u001b[2m:\u001b[0m\u001b]8;id=228974;file:///home/morten/.conda/envs/packing-report/lib/python3.10/site-packages/soccerdata/whoscored.py#584\u001b\\\u001b[2m584\u001b[0m\u001b]8;;\u001b\\\n"
      ]
     },
     "metadata": {},
     "output_type": "display_data"
    },
    {
     "data": {
      "text/html": [
       "<pre style=\"white-space:pre;overflow-x:auto;line-height:normal;font-family:Menlo,'DejaVu Sans Mono',consolas,'Courier New',monospace\"><span style=\"color: #7fbfbf; text-decoration-color: #7fbfbf\">                    </span><span style=\"color: #000080; text-decoration-color: #000080\">INFO    </span> <span style=\"font-weight: bold\">[</span><span style=\"color: #008080; text-decoration-color: #008080; font-weight: bold\">331</span>/<span style=\"color: #008080; text-decoration-color: #008080; font-weight: bold\">380</span><span style=\"font-weight: bold\">]</span> Retrieving game with <span style=\"color: #808000; text-decoration-color: #808000\">id</span>=<span style=\"color: #008080; text-decoration-color: #008080; font-weight: bold\">1549740</span>                             <a href=\"file:///home/morten/.conda/envs/packing-report/lib/python3.10/site-packages/soccerdata/whoscored.py\" target=\"_blank\"><span style=\"color: #7f7f7f; text-decoration-color: #7f7f7f\">whoscored.py</span></a><span style=\"color: #7f7f7f; text-decoration-color: #7f7f7f\">:</span><a href=\"file:///home/morten/.conda/envs/packing-report/lib/python3.10/site-packages/soccerdata/whoscored.py#584\" target=\"_blank\"><span style=\"color: #7f7f7f; text-decoration-color: #7f7f7f\">584</span></a>\n",
       "</pre>\n"
      ],
      "text/plain": [
       "\u001b[2;36m                   \u001b[0m\u001b[2;36m \u001b[0m\u001b[34mINFO    \u001b[0m \u001b[1m[\u001b[0m\u001b[1;36m331\u001b[0m/\u001b[1;36m380\u001b[0m\u001b[1m]\u001b[0m Retrieving game with \u001b[33mid\u001b[0m=\u001b[1;36m1549740\u001b[0m                             \u001b]8;id=531732;file:///home/morten/.conda/envs/packing-report/lib/python3.10/site-packages/soccerdata/whoscored.py\u001b\\\u001b[2mwhoscored.py\u001b[0m\u001b]8;;\u001b\\\u001b[2m:\u001b[0m\u001b]8;id=654432;file:///home/morten/.conda/envs/packing-report/lib/python3.10/site-packages/soccerdata/whoscored.py#584\u001b\\\u001b[2m584\u001b[0m\u001b]8;;\u001b\\\n"
      ]
     },
     "metadata": {},
     "output_type": "display_data"
    },
    {
     "data": {
      "text/html": [
       "<pre style=\"white-space:pre;overflow-x:auto;line-height:normal;font-family:Menlo,'DejaVu Sans Mono',consolas,'Courier New',monospace\"><span style=\"color: #7fbfbf; text-decoration-color: #7fbfbf\">                    </span><span style=\"color: #000080; text-decoration-color: #000080\">INFO    </span> <span style=\"font-weight: bold\">[</span><span style=\"color: #008080; text-decoration-color: #008080; font-weight: bold\">332</span>/<span style=\"color: #008080; text-decoration-color: #008080; font-weight: bold\">380</span><span style=\"font-weight: bold\">]</span> Retrieving game with <span style=\"color: #808000; text-decoration-color: #808000\">id</span>=<span style=\"color: #008080; text-decoration-color: #008080; font-weight: bold\">1549905</span>                             <a href=\"file:///home/morten/.conda/envs/packing-report/lib/python3.10/site-packages/soccerdata/whoscored.py\" target=\"_blank\"><span style=\"color: #7f7f7f; text-decoration-color: #7f7f7f\">whoscored.py</span></a><span style=\"color: #7f7f7f; text-decoration-color: #7f7f7f\">:</span><a href=\"file:///home/morten/.conda/envs/packing-report/lib/python3.10/site-packages/soccerdata/whoscored.py#584\" target=\"_blank\"><span style=\"color: #7f7f7f; text-decoration-color: #7f7f7f\">584</span></a>\n",
       "</pre>\n"
      ],
      "text/plain": [
       "\u001b[2;36m                   \u001b[0m\u001b[2;36m \u001b[0m\u001b[34mINFO    \u001b[0m \u001b[1m[\u001b[0m\u001b[1;36m332\u001b[0m/\u001b[1;36m380\u001b[0m\u001b[1m]\u001b[0m Retrieving game with \u001b[33mid\u001b[0m=\u001b[1;36m1549905\u001b[0m                             \u001b]8;id=83536;file:///home/morten/.conda/envs/packing-report/lib/python3.10/site-packages/soccerdata/whoscored.py\u001b\\\u001b[2mwhoscored.py\u001b[0m\u001b]8;;\u001b\\\u001b[2m:\u001b[0m\u001b]8;id=32822;file:///home/morten/.conda/envs/packing-report/lib/python3.10/site-packages/soccerdata/whoscored.py#584\u001b\\\u001b[2m584\u001b[0m\u001b]8;;\u001b\\\n"
      ]
     },
     "metadata": {},
     "output_type": "display_data"
    },
    {
     "data": {
      "text/html": [
       "<pre style=\"white-space:pre;overflow-x:auto;line-height:normal;font-family:Menlo,'DejaVu Sans Mono',consolas,'Courier New',monospace\"><span style=\"color: #7fbfbf; text-decoration-color: #7fbfbf\">                    </span><span style=\"color: #000080; text-decoration-color: #000080\">INFO    </span> <span style=\"font-weight: bold\">[</span><span style=\"color: #008080; text-decoration-color: #008080; font-weight: bold\">333</span>/<span style=\"color: #008080; text-decoration-color: #008080; font-weight: bold\">380</span><span style=\"font-weight: bold\">]</span> Retrieving game with <span style=\"color: #808000; text-decoration-color: #808000\">id</span>=<span style=\"color: #008080; text-decoration-color: #008080; font-weight: bold\">1549903</span>                             <a href=\"file:///home/morten/.conda/envs/packing-report/lib/python3.10/site-packages/soccerdata/whoscored.py\" target=\"_blank\"><span style=\"color: #7f7f7f; text-decoration-color: #7f7f7f\">whoscored.py</span></a><span style=\"color: #7f7f7f; text-decoration-color: #7f7f7f\">:</span><a href=\"file:///home/morten/.conda/envs/packing-report/lib/python3.10/site-packages/soccerdata/whoscored.py#584\" target=\"_blank\"><span style=\"color: #7f7f7f; text-decoration-color: #7f7f7f\">584</span></a>\n",
       "</pre>\n"
      ],
      "text/plain": [
       "\u001b[2;36m                   \u001b[0m\u001b[2;36m \u001b[0m\u001b[34mINFO    \u001b[0m \u001b[1m[\u001b[0m\u001b[1;36m333\u001b[0m/\u001b[1;36m380\u001b[0m\u001b[1m]\u001b[0m Retrieving game with \u001b[33mid\u001b[0m=\u001b[1;36m1549903\u001b[0m                             \u001b]8;id=350832;file:///home/morten/.conda/envs/packing-report/lib/python3.10/site-packages/soccerdata/whoscored.py\u001b\\\u001b[2mwhoscored.py\u001b[0m\u001b]8;;\u001b\\\u001b[2m:\u001b[0m\u001b]8;id=1508;file:///home/morten/.conda/envs/packing-report/lib/python3.10/site-packages/soccerdata/whoscored.py#584\u001b\\\u001b[2m584\u001b[0m\u001b]8;;\u001b\\\n"
      ]
     },
     "metadata": {},
     "output_type": "display_data"
    },
    {
     "data": {
      "text/html": [
       "<pre style=\"white-space:pre;overflow-x:auto;line-height:normal;font-family:Menlo,'DejaVu Sans Mono',consolas,'Courier New',monospace\"><span style=\"color: #7fbfbf; text-decoration-color: #7fbfbf\">                    </span><span style=\"color: #000080; text-decoration-color: #000080\">INFO    </span> <span style=\"font-weight: bold\">[</span><span style=\"color: #008080; text-decoration-color: #008080; font-weight: bold\">334</span>/<span style=\"color: #008080; text-decoration-color: #008080; font-weight: bold\">380</span><span style=\"font-weight: bold\">]</span> Retrieving game with <span style=\"color: #808000; text-decoration-color: #808000\">id</span>=<span style=\"color: #008080; text-decoration-color: #008080; font-weight: bold\">1549557</span>                             <a href=\"file:///home/morten/.conda/envs/packing-report/lib/python3.10/site-packages/soccerdata/whoscored.py\" target=\"_blank\"><span style=\"color: #7f7f7f; text-decoration-color: #7f7f7f\">whoscored.py</span></a><span style=\"color: #7f7f7f; text-decoration-color: #7f7f7f\">:</span><a href=\"file:///home/morten/.conda/envs/packing-report/lib/python3.10/site-packages/soccerdata/whoscored.py#584\" target=\"_blank\"><span style=\"color: #7f7f7f; text-decoration-color: #7f7f7f\">584</span></a>\n",
       "</pre>\n"
      ],
      "text/plain": [
       "\u001b[2;36m                   \u001b[0m\u001b[2;36m \u001b[0m\u001b[34mINFO    \u001b[0m \u001b[1m[\u001b[0m\u001b[1;36m334\u001b[0m/\u001b[1;36m380\u001b[0m\u001b[1m]\u001b[0m Retrieving game with \u001b[33mid\u001b[0m=\u001b[1;36m1549557\u001b[0m                             \u001b]8;id=577194;file:///home/morten/.conda/envs/packing-report/lib/python3.10/site-packages/soccerdata/whoscored.py\u001b\\\u001b[2mwhoscored.py\u001b[0m\u001b]8;;\u001b\\\u001b[2m:\u001b[0m\u001b]8;id=848842;file:///home/morten/.conda/envs/packing-report/lib/python3.10/site-packages/soccerdata/whoscored.py#584\u001b\\\u001b[2m584\u001b[0m\u001b]8;;\u001b\\\n"
      ]
     },
     "metadata": {},
     "output_type": "display_data"
    },
    {
     "data": {
      "text/html": [
       "<pre style=\"white-space:pre;overflow-x:auto;line-height:normal;font-family:Menlo,'DejaVu Sans Mono',consolas,'Courier New',monospace\"><span style=\"color: #7fbfbf; text-decoration-color: #7fbfbf\">                    </span><span style=\"color: #000080; text-decoration-color: #000080\">INFO    </span> <span style=\"font-weight: bold\">[</span><span style=\"color: #008080; text-decoration-color: #008080; font-weight: bold\">335</span>/<span style=\"color: #008080; text-decoration-color: #008080; font-weight: bold\">380</span><span style=\"font-weight: bold\">]</span> Retrieving game with <span style=\"color: #808000; text-decoration-color: #808000\">id</span>=<span style=\"color: #008080; text-decoration-color: #008080; font-weight: bold\">1549593</span>                             <a href=\"file:///home/morten/.conda/envs/packing-report/lib/python3.10/site-packages/soccerdata/whoscored.py\" target=\"_blank\"><span style=\"color: #7f7f7f; text-decoration-color: #7f7f7f\">whoscored.py</span></a><span style=\"color: #7f7f7f; text-decoration-color: #7f7f7f\">:</span><a href=\"file:///home/morten/.conda/envs/packing-report/lib/python3.10/site-packages/soccerdata/whoscored.py#584\" target=\"_blank\"><span style=\"color: #7f7f7f; text-decoration-color: #7f7f7f\">584</span></a>\n",
       "</pre>\n"
      ],
      "text/plain": [
       "\u001b[2;36m                   \u001b[0m\u001b[2;36m \u001b[0m\u001b[34mINFO    \u001b[0m \u001b[1m[\u001b[0m\u001b[1;36m335\u001b[0m/\u001b[1;36m380\u001b[0m\u001b[1m]\u001b[0m Retrieving game with \u001b[33mid\u001b[0m=\u001b[1;36m1549593\u001b[0m                             \u001b]8;id=930570;file:///home/morten/.conda/envs/packing-report/lib/python3.10/site-packages/soccerdata/whoscored.py\u001b\\\u001b[2mwhoscored.py\u001b[0m\u001b]8;;\u001b\\\u001b[2m:\u001b[0m\u001b]8;id=905193;file:///home/morten/.conda/envs/packing-report/lib/python3.10/site-packages/soccerdata/whoscored.py#584\u001b\\\u001b[2m584\u001b[0m\u001b]8;;\u001b\\\n"
      ]
     },
     "metadata": {},
     "output_type": "display_data"
    },
    {
     "data": {
      "text/html": [
       "<pre style=\"white-space:pre;overflow-x:auto;line-height:normal;font-family:Menlo,'DejaVu Sans Mono',consolas,'Courier New',monospace\"><span style=\"color: #7fbfbf; text-decoration-color: #7fbfbf\">                    </span><span style=\"color: #000080; text-decoration-color: #000080\">INFO    </span> <span style=\"font-weight: bold\">[</span><span style=\"color: #008080; text-decoration-color: #008080; font-weight: bold\">336</span>/<span style=\"color: #008080; text-decoration-color: #008080; font-weight: bold\">380</span><span style=\"font-weight: bold\">]</span> Retrieving game with <span style=\"color: #808000; text-decoration-color: #808000\">id</span>=<span style=\"color: #008080; text-decoration-color: #008080; font-weight: bold\">1549682</span>                             <a href=\"file:///home/morten/.conda/envs/packing-report/lib/python3.10/site-packages/soccerdata/whoscored.py\" target=\"_blank\"><span style=\"color: #7f7f7f; text-decoration-color: #7f7f7f\">whoscored.py</span></a><span style=\"color: #7f7f7f; text-decoration-color: #7f7f7f\">:</span><a href=\"file:///home/morten/.conda/envs/packing-report/lib/python3.10/site-packages/soccerdata/whoscored.py#584\" target=\"_blank\"><span style=\"color: #7f7f7f; text-decoration-color: #7f7f7f\">584</span></a>\n",
       "</pre>\n"
      ],
      "text/plain": [
       "\u001b[2;36m                   \u001b[0m\u001b[2;36m \u001b[0m\u001b[34mINFO    \u001b[0m \u001b[1m[\u001b[0m\u001b[1;36m336\u001b[0m/\u001b[1;36m380\u001b[0m\u001b[1m]\u001b[0m Retrieving game with \u001b[33mid\u001b[0m=\u001b[1;36m1549682\u001b[0m                             \u001b]8;id=988666;file:///home/morten/.conda/envs/packing-report/lib/python3.10/site-packages/soccerdata/whoscored.py\u001b\\\u001b[2mwhoscored.py\u001b[0m\u001b]8;;\u001b\\\u001b[2m:\u001b[0m\u001b]8;id=273716;file:///home/morten/.conda/envs/packing-report/lib/python3.10/site-packages/soccerdata/whoscored.py#584\u001b\\\u001b[2m584\u001b[0m\u001b]8;;\u001b\\\n"
      ]
     },
     "metadata": {},
     "output_type": "display_data"
    },
    {
     "data": {
      "text/html": [
       "<pre style=\"white-space:pre;overflow-x:auto;line-height:normal;font-family:Menlo,'DejaVu Sans Mono',consolas,'Courier New',monospace\"><span style=\"color: #7fbfbf; text-decoration-color: #7fbfbf\">                    </span><span style=\"color: #000080; text-decoration-color: #000080\">INFO    </span> <span style=\"font-weight: bold\">[</span><span style=\"color: #008080; text-decoration-color: #008080; font-weight: bold\">337</span>/<span style=\"color: #008080; text-decoration-color: #008080; font-weight: bold\">380</span><span style=\"font-weight: bold\">]</span> Retrieving game with <span style=\"color: #808000; text-decoration-color: #808000\">id</span>=<span style=\"color: #008080; text-decoration-color: #008080; font-weight: bold\">1549578</span>                             <a href=\"file:///home/morten/.conda/envs/packing-report/lib/python3.10/site-packages/soccerdata/whoscored.py\" target=\"_blank\"><span style=\"color: #7f7f7f; text-decoration-color: #7f7f7f\">whoscored.py</span></a><span style=\"color: #7f7f7f; text-decoration-color: #7f7f7f\">:</span><a href=\"file:///home/morten/.conda/envs/packing-report/lib/python3.10/site-packages/soccerdata/whoscored.py#584\" target=\"_blank\"><span style=\"color: #7f7f7f; text-decoration-color: #7f7f7f\">584</span></a>\n",
       "</pre>\n"
      ],
      "text/plain": [
       "\u001b[2;36m                   \u001b[0m\u001b[2;36m \u001b[0m\u001b[34mINFO    \u001b[0m \u001b[1m[\u001b[0m\u001b[1;36m337\u001b[0m/\u001b[1;36m380\u001b[0m\u001b[1m]\u001b[0m Retrieving game with \u001b[33mid\u001b[0m=\u001b[1;36m1549578\u001b[0m                             \u001b]8;id=341847;file:///home/morten/.conda/envs/packing-report/lib/python3.10/site-packages/soccerdata/whoscored.py\u001b\\\u001b[2mwhoscored.py\u001b[0m\u001b]8;;\u001b\\\u001b[2m:\u001b[0m\u001b]8;id=767106;file:///home/morten/.conda/envs/packing-report/lib/python3.10/site-packages/soccerdata/whoscored.py#584\u001b\\\u001b[2m584\u001b[0m\u001b]8;;\u001b\\\n"
      ]
     },
     "metadata": {},
     "output_type": "display_data"
    },
    {
     "data": {
      "text/html": [
       "<pre style=\"white-space:pre;overflow-x:auto;line-height:normal;font-family:Menlo,'DejaVu Sans Mono',consolas,'Courier New',monospace\"><span style=\"color: #7fbfbf; text-decoration-color: #7fbfbf\">                    </span><span style=\"color: #000080; text-decoration-color: #000080\">INFO    </span> <span style=\"font-weight: bold\">[</span><span style=\"color: #008080; text-decoration-color: #008080; font-weight: bold\">338</span>/<span style=\"color: #008080; text-decoration-color: #008080; font-weight: bold\">380</span><span style=\"font-weight: bold\">]</span> Retrieving game with <span style=\"color: #808000; text-decoration-color: #808000\">id</span>=<span style=\"color: #008080; text-decoration-color: #008080; font-weight: bold\">1549820</span>                             <a href=\"file:///home/morten/.conda/envs/packing-report/lib/python3.10/site-packages/soccerdata/whoscored.py\" target=\"_blank\"><span style=\"color: #7f7f7f; text-decoration-color: #7f7f7f\">whoscored.py</span></a><span style=\"color: #7f7f7f; text-decoration-color: #7f7f7f\">:</span><a href=\"file:///home/morten/.conda/envs/packing-report/lib/python3.10/site-packages/soccerdata/whoscored.py#584\" target=\"_blank\"><span style=\"color: #7f7f7f; text-decoration-color: #7f7f7f\">584</span></a>\n",
       "</pre>\n"
      ],
      "text/plain": [
       "\u001b[2;36m                   \u001b[0m\u001b[2;36m \u001b[0m\u001b[34mINFO    \u001b[0m \u001b[1m[\u001b[0m\u001b[1;36m338\u001b[0m/\u001b[1;36m380\u001b[0m\u001b[1m]\u001b[0m Retrieving game with \u001b[33mid\u001b[0m=\u001b[1;36m1549820\u001b[0m                             \u001b]8;id=612458;file:///home/morten/.conda/envs/packing-report/lib/python3.10/site-packages/soccerdata/whoscored.py\u001b\\\u001b[2mwhoscored.py\u001b[0m\u001b]8;;\u001b\\\u001b[2m:\u001b[0m\u001b]8;id=49913;file:///home/morten/.conda/envs/packing-report/lib/python3.10/site-packages/soccerdata/whoscored.py#584\u001b\\\u001b[2m584\u001b[0m\u001b]8;;\u001b\\\n"
      ]
     },
     "metadata": {},
     "output_type": "display_data"
    },
    {
     "data": {
      "text/html": [
       "<pre style=\"white-space:pre;overflow-x:auto;line-height:normal;font-family:Menlo,'DejaVu Sans Mono',consolas,'Courier New',monospace\"><span style=\"color: #7fbfbf; text-decoration-color: #7fbfbf\">                    </span><span style=\"color: #000080; text-decoration-color: #000080\">INFO    </span> <span style=\"font-weight: bold\">[</span><span style=\"color: #008080; text-decoration-color: #008080; font-weight: bold\">339</span>/<span style=\"color: #008080; text-decoration-color: #008080; font-weight: bold\">380</span><span style=\"font-weight: bold\">]</span> Retrieving game with <span style=\"color: #808000; text-decoration-color: #808000\">id</span>=<span style=\"color: #008080; text-decoration-color: #008080; font-weight: bold\">1549882</span>                             <a href=\"file:///home/morten/.conda/envs/packing-report/lib/python3.10/site-packages/soccerdata/whoscored.py\" target=\"_blank\"><span style=\"color: #7f7f7f; text-decoration-color: #7f7f7f\">whoscored.py</span></a><span style=\"color: #7f7f7f; text-decoration-color: #7f7f7f\">:</span><a href=\"file:///home/morten/.conda/envs/packing-report/lib/python3.10/site-packages/soccerdata/whoscored.py#584\" target=\"_blank\"><span style=\"color: #7f7f7f; text-decoration-color: #7f7f7f\">584</span></a>\n",
       "</pre>\n"
      ],
      "text/plain": [
       "\u001b[2;36m                   \u001b[0m\u001b[2;36m \u001b[0m\u001b[34mINFO    \u001b[0m \u001b[1m[\u001b[0m\u001b[1;36m339\u001b[0m/\u001b[1;36m380\u001b[0m\u001b[1m]\u001b[0m Retrieving game with \u001b[33mid\u001b[0m=\u001b[1;36m1549882\u001b[0m                             \u001b]8;id=432391;file:///home/morten/.conda/envs/packing-report/lib/python3.10/site-packages/soccerdata/whoscored.py\u001b\\\u001b[2mwhoscored.py\u001b[0m\u001b]8;;\u001b\\\u001b[2m:\u001b[0m\u001b]8;id=412572;file:///home/morten/.conda/envs/packing-report/lib/python3.10/site-packages/soccerdata/whoscored.py#584\u001b\\\u001b[2m584\u001b[0m\u001b]8;;\u001b\\\n"
      ]
     },
     "metadata": {},
     "output_type": "display_data"
    },
    {
     "data": {
      "text/html": [
       "<pre style=\"white-space:pre;overflow-x:auto;line-height:normal;font-family:Menlo,'DejaVu Sans Mono',consolas,'Courier New',monospace\"><span style=\"color: #7fbfbf; text-decoration-color: #7fbfbf\">[10/02/22 17:52:13] </span><span style=\"color: #000080; text-decoration-color: #000080\">INFO    </span> <span style=\"font-weight: bold\">[</span><span style=\"color: #008080; text-decoration-color: #008080; font-weight: bold\">340</span>/<span style=\"color: #008080; text-decoration-color: #008080; font-weight: bold\">380</span><span style=\"font-weight: bold\">]</span> Retrieving game with <span style=\"color: #808000; text-decoration-color: #808000\">id</span>=<span style=\"color: #008080; text-decoration-color: #008080; font-weight: bold\">1549917</span>                             <a href=\"file:///home/morten/.conda/envs/packing-report/lib/python3.10/site-packages/soccerdata/whoscored.py\" target=\"_blank\"><span style=\"color: #7f7f7f; text-decoration-color: #7f7f7f\">whoscored.py</span></a><span style=\"color: #7f7f7f; text-decoration-color: #7f7f7f\">:</span><a href=\"file:///home/morten/.conda/envs/packing-report/lib/python3.10/site-packages/soccerdata/whoscored.py#584\" target=\"_blank\"><span style=\"color: #7f7f7f; text-decoration-color: #7f7f7f\">584</span></a>\n",
       "</pre>\n"
      ],
      "text/plain": [
       "\u001b[2;36m[10/02/22 17:52:13]\u001b[0m\u001b[2;36m \u001b[0m\u001b[34mINFO    \u001b[0m \u001b[1m[\u001b[0m\u001b[1;36m340\u001b[0m/\u001b[1;36m380\u001b[0m\u001b[1m]\u001b[0m Retrieving game with \u001b[33mid\u001b[0m=\u001b[1;36m1549917\u001b[0m                             \u001b]8;id=607222;file:///home/morten/.conda/envs/packing-report/lib/python3.10/site-packages/soccerdata/whoscored.py\u001b\\\u001b[2mwhoscored.py\u001b[0m\u001b]8;;\u001b\\\u001b[2m:\u001b[0m\u001b]8;id=155581;file:///home/morten/.conda/envs/packing-report/lib/python3.10/site-packages/soccerdata/whoscored.py#584\u001b\\\u001b[2m584\u001b[0m\u001b]8;;\u001b\\\n"
      ]
     },
     "metadata": {},
     "output_type": "display_data"
    },
    {
     "data": {
      "text/html": [
       "<pre style=\"white-space:pre;overflow-x:auto;line-height:normal;font-family:Menlo,'DejaVu Sans Mono',consolas,'Courier New',monospace\"><span style=\"color: #7fbfbf; text-decoration-color: #7fbfbf\">                    </span><span style=\"color: #000080; text-decoration-color: #000080\">INFO    </span> <span style=\"font-weight: bold\">[</span><span style=\"color: #008080; text-decoration-color: #008080; font-weight: bold\">341</span>/<span style=\"color: #008080; text-decoration-color: #008080; font-weight: bold\">380</span><span style=\"font-weight: bold\">]</span> Retrieving game with <span style=\"color: #808000; text-decoration-color: #808000\">id</span>=<span style=\"color: #008080; text-decoration-color: #008080; font-weight: bold\">1549873</span>                             <a href=\"file:///home/morten/.conda/envs/packing-report/lib/python3.10/site-packages/soccerdata/whoscored.py\" target=\"_blank\"><span style=\"color: #7f7f7f; text-decoration-color: #7f7f7f\">whoscored.py</span></a><span style=\"color: #7f7f7f; text-decoration-color: #7f7f7f\">:</span><a href=\"file:///home/morten/.conda/envs/packing-report/lib/python3.10/site-packages/soccerdata/whoscored.py#584\" target=\"_blank\"><span style=\"color: #7f7f7f; text-decoration-color: #7f7f7f\">584</span></a>\n",
       "</pre>\n"
      ],
      "text/plain": [
       "\u001b[2;36m                   \u001b[0m\u001b[2;36m \u001b[0m\u001b[34mINFO    \u001b[0m \u001b[1m[\u001b[0m\u001b[1;36m341\u001b[0m/\u001b[1;36m380\u001b[0m\u001b[1m]\u001b[0m Retrieving game with \u001b[33mid\u001b[0m=\u001b[1;36m1549873\u001b[0m                             \u001b]8;id=34180;file:///home/morten/.conda/envs/packing-report/lib/python3.10/site-packages/soccerdata/whoscored.py\u001b\\\u001b[2mwhoscored.py\u001b[0m\u001b]8;;\u001b\\\u001b[2m:\u001b[0m\u001b]8;id=1911;file:///home/morten/.conda/envs/packing-report/lib/python3.10/site-packages/soccerdata/whoscored.py#584\u001b\\\u001b[2m584\u001b[0m\u001b]8;;\u001b\\\n"
      ]
     },
     "metadata": {},
     "output_type": "display_data"
    },
    {
     "data": {
      "text/html": [
       "<pre style=\"white-space:pre;overflow-x:auto;line-height:normal;font-family:Menlo,'DejaVu Sans Mono',consolas,'Courier New',monospace\"><span style=\"color: #7fbfbf; text-decoration-color: #7fbfbf\">                    </span><span style=\"color: #000080; text-decoration-color: #000080\">INFO    </span> <span style=\"font-weight: bold\">[</span><span style=\"color: #008080; text-decoration-color: #008080; font-weight: bold\">342</span>/<span style=\"color: #008080; text-decoration-color: #008080; font-weight: bold\">380</span><span style=\"font-weight: bold\">]</span> Retrieving game with <span style=\"color: #808000; text-decoration-color: #808000\">id</span>=<span style=\"color: #008080; text-decoration-color: #008080; font-weight: bold\">1549708</span>                             <a href=\"file:///home/morten/.conda/envs/packing-report/lib/python3.10/site-packages/soccerdata/whoscored.py\" target=\"_blank\"><span style=\"color: #7f7f7f; text-decoration-color: #7f7f7f\">whoscored.py</span></a><span style=\"color: #7f7f7f; text-decoration-color: #7f7f7f\">:</span><a href=\"file:///home/morten/.conda/envs/packing-report/lib/python3.10/site-packages/soccerdata/whoscored.py#584\" target=\"_blank\"><span style=\"color: #7f7f7f; text-decoration-color: #7f7f7f\">584</span></a>\n",
       "</pre>\n"
      ],
      "text/plain": [
       "\u001b[2;36m                   \u001b[0m\u001b[2;36m \u001b[0m\u001b[34mINFO    \u001b[0m \u001b[1m[\u001b[0m\u001b[1;36m342\u001b[0m/\u001b[1;36m380\u001b[0m\u001b[1m]\u001b[0m Retrieving game with \u001b[33mid\u001b[0m=\u001b[1;36m1549708\u001b[0m                             \u001b]8;id=700644;file:///home/morten/.conda/envs/packing-report/lib/python3.10/site-packages/soccerdata/whoscored.py\u001b\\\u001b[2mwhoscored.py\u001b[0m\u001b]8;;\u001b\\\u001b[2m:\u001b[0m\u001b]8;id=619252;file:///home/morten/.conda/envs/packing-report/lib/python3.10/site-packages/soccerdata/whoscored.py#584\u001b\\\u001b[2m584\u001b[0m\u001b]8;;\u001b\\\n"
      ]
     },
     "metadata": {},
     "output_type": "display_data"
    },
    {
     "data": {
      "text/html": [
       "<pre style=\"white-space:pre;overflow-x:auto;line-height:normal;font-family:Menlo,'DejaVu Sans Mono',consolas,'Courier New',monospace\"><span style=\"color: #7fbfbf; text-decoration-color: #7fbfbf\">                    </span><span style=\"color: #000080; text-decoration-color: #000080\">INFO    </span> <span style=\"font-weight: bold\">[</span><span style=\"color: #008080; text-decoration-color: #008080; font-weight: bold\">343</span>/<span style=\"color: #008080; text-decoration-color: #008080; font-weight: bold\">380</span><span style=\"font-weight: bold\">]</span> Retrieving game with <span style=\"color: #808000; text-decoration-color: #808000\">id</span>=<span style=\"color: #008080; text-decoration-color: #008080; font-weight: bold\">1549822</span>                             <a href=\"file:///home/morten/.conda/envs/packing-report/lib/python3.10/site-packages/soccerdata/whoscored.py\" target=\"_blank\"><span style=\"color: #7f7f7f; text-decoration-color: #7f7f7f\">whoscored.py</span></a><span style=\"color: #7f7f7f; text-decoration-color: #7f7f7f\">:</span><a href=\"file:///home/morten/.conda/envs/packing-report/lib/python3.10/site-packages/soccerdata/whoscored.py#584\" target=\"_blank\"><span style=\"color: #7f7f7f; text-decoration-color: #7f7f7f\">584</span></a>\n",
       "</pre>\n"
      ],
      "text/plain": [
       "\u001b[2;36m                   \u001b[0m\u001b[2;36m \u001b[0m\u001b[34mINFO    \u001b[0m \u001b[1m[\u001b[0m\u001b[1;36m343\u001b[0m/\u001b[1;36m380\u001b[0m\u001b[1m]\u001b[0m Retrieving game with \u001b[33mid\u001b[0m=\u001b[1;36m1549822\u001b[0m                             \u001b]8;id=41386;file:///home/morten/.conda/envs/packing-report/lib/python3.10/site-packages/soccerdata/whoscored.py\u001b\\\u001b[2mwhoscored.py\u001b[0m\u001b]8;;\u001b\\\u001b[2m:\u001b[0m\u001b]8;id=993309;file:///home/morten/.conda/envs/packing-report/lib/python3.10/site-packages/soccerdata/whoscored.py#584\u001b\\\u001b[2m584\u001b[0m\u001b]8;;\u001b\\\n"
      ]
     },
     "metadata": {},
     "output_type": "display_data"
    },
    {
     "data": {
      "text/html": [
       "<pre style=\"white-space:pre;overflow-x:auto;line-height:normal;font-family:Menlo,'DejaVu Sans Mono',consolas,'Courier New',monospace\"><span style=\"color: #7fbfbf; text-decoration-color: #7fbfbf\">                    </span><span style=\"color: #000080; text-decoration-color: #000080\">INFO    </span> <span style=\"font-weight: bold\">[</span><span style=\"color: #008080; text-decoration-color: #008080; font-weight: bold\">344</span>/<span style=\"color: #008080; text-decoration-color: #008080; font-weight: bold\">380</span><span style=\"font-weight: bold\">]</span> Retrieving game with <span style=\"color: #808000; text-decoration-color: #808000\">id</span>=<span style=\"color: #008080; text-decoration-color: #008080; font-weight: bold\">1549739</span>                             <a href=\"file:///home/morten/.conda/envs/packing-report/lib/python3.10/site-packages/soccerdata/whoscored.py\" target=\"_blank\"><span style=\"color: #7f7f7f; text-decoration-color: #7f7f7f\">whoscored.py</span></a><span style=\"color: #7f7f7f; text-decoration-color: #7f7f7f\">:</span><a href=\"file:///home/morten/.conda/envs/packing-report/lib/python3.10/site-packages/soccerdata/whoscored.py#584\" target=\"_blank\"><span style=\"color: #7f7f7f; text-decoration-color: #7f7f7f\">584</span></a>\n",
       "</pre>\n"
      ],
      "text/plain": [
       "\u001b[2;36m                   \u001b[0m\u001b[2;36m \u001b[0m\u001b[34mINFO    \u001b[0m \u001b[1m[\u001b[0m\u001b[1;36m344\u001b[0m/\u001b[1;36m380\u001b[0m\u001b[1m]\u001b[0m Retrieving game with \u001b[33mid\u001b[0m=\u001b[1;36m1549739\u001b[0m                             \u001b]8;id=387685;file:///home/morten/.conda/envs/packing-report/lib/python3.10/site-packages/soccerdata/whoscored.py\u001b\\\u001b[2mwhoscored.py\u001b[0m\u001b]8;;\u001b\\\u001b[2m:\u001b[0m\u001b]8;id=986030;file:///home/morten/.conda/envs/packing-report/lib/python3.10/site-packages/soccerdata/whoscored.py#584\u001b\\\u001b[2m584\u001b[0m\u001b]8;;\u001b\\\n"
      ]
     },
     "metadata": {},
     "output_type": "display_data"
    },
    {
     "data": {
      "text/html": [
       "<pre style=\"white-space:pre;overflow-x:auto;line-height:normal;font-family:Menlo,'DejaVu Sans Mono',consolas,'Courier New',monospace\"><span style=\"color: #7fbfbf; text-decoration-color: #7fbfbf\">                    </span><span style=\"color: #000080; text-decoration-color: #000080\">INFO    </span> <span style=\"font-weight: bold\">[</span><span style=\"color: #008080; text-decoration-color: #008080; font-weight: bold\">345</span>/<span style=\"color: #008080; text-decoration-color: #008080; font-weight: bold\">380</span><span style=\"font-weight: bold\">]</span> Retrieving game with <span style=\"color: #808000; text-decoration-color: #808000\">id</span>=<span style=\"color: #008080; text-decoration-color: #008080; font-weight: bold\">1549896</span>                             <a href=\"file:///home/morten/.conda/envs/packing-report/lib/python3.10/site-packages/soccerdata/whoscored.py\" target=\"_blank\"><span style=\"color: #7f7f7f; text-decoration-color: #7f7f7f\">whoscored.py</span></a><span style=\"color: #7f7f7f; text-decoration-color: #7f7f7f\">:</span><a href=\"file:///home/morten/.conda/envs/packing-report/lib/python3.10/site-packages/soccerdata/whoscored.py#584\" target=\"_blank\"><span style=\"color: #7f7f7f; text-decoration-color: #7f7f7f\">584</span></a>\n",
       "</pre>\n"
      ],
      "text/plain": [
       "\u001b[2;36m                   \u001b[0m\u001b[2;36m \u001b[0m\u001b[34mINFO    \u001b[0m \u001b[1m[\u001b[0m\u001b[1;36m345\u001b[0m/\u001b[1;36m380\u001b[0m\u001b[1m]\u001b[0m Retrieving game with \u001b[33mid\u001b[0m=\u001b[1;36m1549896\u001b[0m                             \u001b]8;id=913226;file:///home/morten/.conda/envs/packing-report/lib/python3.10/site-packages/soccerdata/whoscored.py\u001b\\\u001b[2mwhoscored.py\u001b[0m\u001b]8;;\u001b\\\u001b[2m:\u001b[0m\u001b]8;id=110209;file:///home/morten/.conda/envs/packing-report/lib/python3.10/site-packages/soccerdata/whoscored.py#584\u001b\\\u001b[2m584\u001b[0m\u001b]8;;\u001b\\\n"
      ]
     },
     "metadata": {},
     "output_type": "display_data"
    },
    {
     "data": {
      "text/html": [
       "<pre style=\"white-space:pre;overflow-x:auto;line-height:normal;font-family:Menlo,'DejaVu Sans Mono',consolas,'Courier New',monospace\"><span style=\"color: #7fbfbf; text-decoration-color: #7fbfbf\">                    </span><span style=\"color: #000080; text-decoration-color: #000080\">INFO    </span> <span style=\"font-weight: bold\">[</span><span style=\"color: #008080; text-decoration-color: #008080; font-weight: bold\">346</span>/<span style=\"color: #008080; text-decoration-color: #008080; font-weight: bold\">380</span><span style=\"font-weight: bold\">]</span> Retrieving game with <span style=\"color: #808000; text-decoration-color: #808000\">id</span>=<span style=\"color: #008080; text-decoration-color: #008080; font-weight: bold\">1549543</span>                             <a href=\"file:///home/morten/.conda/envs/packing-report/lib/python3.10/site-packages/soccerdata/whoscored.py\" target=\"_blank\"><span style=\"color: #7f7f7f; text-decoration-color: #7f7f7f\">whoscored.py</span></a><span style=\"color: #7f7f7f; text-decoration-color: #7f7f7f\">:</span><a href=\"file:///home/morten/.conda/envs/packing-report/lib/python3.10/site-packages/soccerdata/whoscored.py#584\" target=\"_blank\"><span style=\"color: #7f7f7f; text-decoration-color: #7f7f7f\">584</span></a>\n",
       "</pre>\n"
      ],
      "text/plain": [
       "\u001b[2;36m                   \u001b[0m\u001b[2;36m \u001b[0m\u001b[34mINFO    \u001b[0m \u001b[1m[\u001b[0m\u001b[1;36m346\u001b[0m/\u001b[1;36m380\u001b[0m\u001b[1m]\u001b[0m Retrieving game with \u001b[33mid\u001b[0m=\u001b[1;36m1549543\u001b[0m                             \u001b]8;id=582241;file:///home/morten/.conda/envs/packing-report/lib/python3.10/site-packages/soccerdata/whoscored.py\u001b\\\u001b[2mwhoscored.py\u001b[0m\u001b]8;;\u001b\\\u001b[2m:\u001b[0m\u001b]8;id=783585;file:///home/morten/.conda/envs/packing-report/lib/python3.10/site-packages/soccerdata/whoscored.py#584\u001b\\\u001b[2m584\u001b[0m\u001b]8;;\u001b\\\n"
      ]
     },
     "metadata": {},
     "output_type": "display_data"
    },
    {
     "data": {
      "text/html": [
       "<pre style=\"white-space:pre;overflow-x:auto;line-height:normal;font-family:Menlo,'DejaVu Sans Mono',consolas,'Courier New',monospace\"><span style=\"color: #7fbfbf; text-decoration-color: #7fbfbf\">                    </span><span style=\"color: #000080; text-decoration-color: #000080\">INFO    </span> <span style=\"font-weight: bold\">[</span><span style=\"color: #008080; text-decoration-color: #008080; font-weight: bold\">347</span>/<span style=\"color: #008080; text-decoration-color: #008080; font-weight: bold\">380</span><span style=\"font-weight: bold\">]</span> Retrieving game with <span style=\"color: #808000; text-decoration-color: #808000\">id</span>=<span style=\"color: #008080; text-decoration-color: #008080; font-weight: bold\">1549690</span>                             <a href=\"file:///home/morten/.conda/envs/packing-report/lib/python3.10/site-packages/soccerdata/whoscored.py\" target=\"_blank\"><span style=\"color: #7f7f7f; text-decoration-color: #7f7f7f\">whoscored.py</span></a><span style=\"color: #7f7f7f; text-decoration-color: #7f7f7f\">:</span><a href=\"file:///home/morten/.conda/envs/packing-report/lib/python3.10/site-packages/soccerdata/whoscored.py#584\" target=\"_blank\"><span style=\"color: #7f7f7f; text-decoration-color: #7f7f7f\">584</span></a>\n",
       "</pre>\n"
      ],
      "text/plain": [
       "\u001b[2;36m                   \u001b[0m\u001b[2;36m \u001b[0m\u001b[34mINFO    \u001b[0m \u001b[1m[\u001b[0m\u001b[1;36m347\u001b[0m/\u001b[1;36m380\u001b[0m\u001b[1m]\u001b[0m Retrieving game with \u001b[33mid\u001b[0m=\u001b[1;36m1549690\u001b[0m                             \u001b]8;id=308783;file:///home/morten/.conda/envs/packing-report/lib/python3.10/site-packages/soccerdata/whoscored.py\u001b\\\u001b[2mwhoscored.py\u001b[0m\u001b]8;;\u001b\\\u001b[2m:\u001b[0m\u001b]8;id=613613;file:///home/morten/.conda/envs/packing-report/lib/python3.10/site-packages/soccerdata/whoscored.py#584\u001b\\\u001b[2m584\u001b[0m\u001b]8;;\u001b\\\n"
      ]
     },
     "metadata": {},
     "output_type": "display_data"
    },
    {
     "data": {
      "text/html": [
       "<pre style=\"white-space:pre;overflow-x:auto;line-height:normal;font-family:Menlo,'DejaVu Sans Mono',consolas,'Courier New',monospace\"><span style=\"color: #7fbfbf; text-decoration-color: #7fbfbf\">                    </span><span style=\"color: #000080; text-decoration-color: #000080\">INFO    </span> <span style=\"font-weight: bold\">[</span><span style=\"color: #008080; text-decoration-color: #008080; font-weight: bold\">348</span>/<span style=\"color: #008080; text-decoration-color: #008080; font-weight: bold\">380</span><span style=\"font-weight: bold\">]</span> Retrieving game with <span style=\"color: #808000; text-decoration-color: #808000\">id</span>=<span style=\"color: #008080; text-decoration-color: #008080; font-weight: bold\">1549776</span>                             <a href=\"file:///home/morten/.conda/envs/packing-report/lib/python3.10/site-packages/soccerdata/whoscored.py\" target=\"_blank\"><span style=\"color: #7f7f7f; text-decoration-color: #7f7f7f\">whoscored.py</span></a><span style=\"color: #7f7f7f; text-decoration-color: #7f7f7f\">:</span><a href=\"file:///home/morten/.conda/envs/packing-report/lib/python3.10/site-packages/soccerdata/whoscored.py#584\" target=\"_blank\"><span style=\"color: #7f7f7f; text-decoration-color: #7f7f7f\">584</span></a>\n",
       "</pre>\n"
      ],
      "text/plain": [
       "\u001b[2;36m                   \u001b[0m\u001b[2;36m \u001b[0m\u001b[34mINFO    \u001b[0m \u001b[1m[\u001b[0m\u001b[1;36m348\u001b[0m/\u001b[1;36m380\u001b[0m\u001b[1m]\u001b[0m Retrieving game with \u001b[33mid\u001b[0m=\u001b[1;36m1549776\u001b[0m                             \u001b]8;id=739834;file:///home/morten/.conda/envs/packing-report/lib/python3.10/site-packages/soccerdata/whoscored.py\u001b\\\u001b[2mwhoscored.py\u001b[0m\u001b]8;;\u001b\\\u001b[2m:\u001b[0m\u001b]8;id=644330;file:///home/morten/.conda/envs/packing-report/lib/python3.10/site-packages/soccerdata/whoscored.py#584\u001b\\\u001b[2m584\u001b[0m\u001b]8;;\u001b\\\n"
      ]
     },
     "metadata": {},
     "output_type": "display_data"
    },
    {
     "data": {
      "text/html": [
       "<pre style=\"white-space:pre;overflow-x:auto;line-height:normal;font-family:Menlo,'DejaVu Sans Mono',consolas,'Courier New',monospace\"><span style=\"color: #7fbfbf; text-decoration-color: #7fbfbf\">                    </span><span style=\"color: #000080; text-decoration-color: #000080\">INFO    </span> <span style=\"font-weight: bold\">[</span><span style=\"color: #008080; text-decoration-color: #008080; font-weight: bold\">349</span>/<span style=\"color: #008080; text-decoration-color: #008080; font-weight: bold\">380</span><span style=\"font-weight: bold\">]</span> Retrieving game with <span style=\"color: #808000; text-decoration-color: #808000\">id</span>=<span style=\"color: #008080; text-decoration-color: #008080; font-weight: bold\">1549732</span>                             <a href=\"file:///home/morten/.conda/envs/packing-report/lib/python3.10/site-packages/soccerdata/whoscored.py\" target=\"_blank\"><span style=\"color: #7f7f7f; text-decoration-color: #7f7f7f\">whoscored.py</span></a><span style=\"color: #7f7f7f; text-decoration-color: #7f7f7f\">:</span><a href=\"file:///home/morten/.conda/envs/packing-report/lib/python3.10/site-packages/soccerdata/whoscored.py#584\" target=\"_blank\"><span style=\"color: #7f7f7f; text-decoration-color: #7f7f7f\">584</span></a>\n",
       "</pre>\n"
      ],
      "text/plain": [
       "\u001b[2;36m                   \u001b[0m\u001b[2;36m \u001b[0m\u001b[34mINFO    \u001b[0m \u001b[1m[\u001b[0m\u001b[1;36m349\u001b[0m/\u001b[1;36m380\u001b[0m\u001b[1m]\u001b[0m Retrieving game with \u001b[33mid\u001b[0m=\u001b[1;36m1549732\u001b[0m                             \u001b]8;id=959418;file:///home/morten/.conda/envs/packing-report/lib/python3.10/site-packages/soccerdata/whoscored.py\u001b\\\u001b[2mwhoscored.py\u001b[0m\u001b]8;;\u001b\\\u001b[2m:\u001b[0m\u001b]8;id=93330;file:///home/morten/.conda/envs/packing-report/lib/python3.10/site-packages/soccerdata/whoscored.py#584\u001b\\\u001b[2m584\u001b[0m\u001b]8;;\u001b\\\n"
      ]
     },
     "metadata": {},
     "output_type": "display_data"
    },
    {
     "data": {
      "text/html": [
       "<pre style=\"white-space:pre;overflow-x:auto;line-height:normal;font-family:Menlo,'DejaVu Sans Mono',consolas,'Courier New',monospace\"><span style=\"color: #7fbfbf; text-decoration-color: #7fbfbf\">                    </span><span style=\"color: #000080; text-decoration-color: #000080\">INFO    </span> <span style=\"font-weight: bold\">[</span><span style=\"color: #008080; text-decoration-color: #008080; font-weight: bold\">350</span>/<span style=\"color: #008080; text-decoration-color: #008080; font-weight: bold\">380</span><span style=\"font-weight: bold\">]</span> Retrieving game with <span style=\"color: #808000; text-decoration-color: #808000\">id</span>=<span style=\"color: #008080; text-decoration-color: #008080; font-weight: bold\">1549915</span>                             <a href=\"file:///home/morten/.conda/envs/packing-report/lib/python3.10/site-packages/soccerdata/whoscored.py\" target=\"_blank\"><span style=\"color: #7f7f7f; text-decoration-color: #7f7f7f\">whoscored.py</span></a><span style=\"color: #7f7f7f; text-decoration-color: #7f7f7f\">:</span><a href=\"file:///home/morten/.conda/envs/packing-report/lib/python3.10/site-packages/soccerdata/whoscored.py#584\" target=\"_blank\"><span style=\"color: #7f7f7f; text-decoration-color: #7f7f7f\">584</span></a>\n",
       "</pre>\n"
      ],
      "text/plain": [
       "\u001b[2;36m                   \u001b[0m\u001b[2;36m \u001b[0m\u001b[34mINFO    \u001b[0m \u001b[1m[\u001b[0m\u001b[1;36m350\u001b[0m/\u001b[1;36m380\u001b[0m\u001b[1m]\u001b[0m Retrieving game with \u001b[33mid\u001b[0m=\u001b[1;36m1549915\u001b[0m                             \u001b]8;id=193125;file:///home/morten/.conda/envs/packing-report/lib/python3.10/site-packages/soccerdata/whoscored.py\u001b\\\u001b[2mwhoscored.py\u001b[0m\u001b]8;;\u001b\\\u001b[2m:\u001b[0m\u001b]8;id=457675;file:///home/morten/.conda/envs/packing-report/lib/python3.10/site-packages/soccerdata/whoscored.py#584\u001b\\\u001b[2m584\u001b[0m\u001b]8;;\u001b\\\n"
      ]
     },
     "metadata": {},
     "output_type": "display_data"
    },
    {
     "data": {
      "text/html": [
       "<pre style=\"white-space:pre;overflow-x:auto;line-height:normal;font-family:Menlo,'DejaVu Sans Mono',consolas,'Courier New',monospace\"><span style=\"color: #7fbfbf; text-decoration-color: #7fbfbf\">                    </span><span style=\"color: #000080; text-decoration-color: #000080\">INFO    </span> <span style=\"font-weight: bold\">[</span><span style=\"color: #008080; text-decoration-color: #008080; font-weight: bold\">351</span>/<span style=\"color: #008080; text-decoration-color: #008080; font-weight: bold\">380</span><span style=\"font-weight: bold\">]</span> Retrieving game with <span style=\"color: #808000; text-decoration-color: #808000\">id</span>=<span style=\"color: #008080; text-decoration-color: #008080; font-weight: bold\">1549720</span>                             <a href=\"file:///home/morten/.conda/envs/packing-report/lib/python3.10/site-packages/soccerdata/whoscored.py\" target=\"_blank\"><span style=\"color: #7f7f7f; text-decoration-color: #7f7f7f\">whoscored.py</span></a><span style=\"color: #7f7f7f; text-decoration-color: #7f7f7f\">:</span><a href=\"file:///home/morten/.conda/envs/packing-report/lib/python3.10/site-packages/soccerdata/whoscored.py#584\" target=\"_blank\"><span style=\"color: #7f7f7f; text-decoration-color: #7f7f7f\">584</span></a>\n",
       "</pre>\n"
      ],
      "text/plain": [
       "\u001b[2;36m                   \u001b[0m\u001b[2;36m \u001b[0m\u001b[34mINFO    \u001b[0m \u001b[1m[\u001b[0m\u001b[1;36m351\u001b[0m/\u001b[1;36m380\u001b[0m\u001b[1m]\u001b[0m Retrieving game with \u001b[33mid\u001b[0m=\u001b[1;36m1549720\u001b[0m                             \u001b]8;id=402599;file:///home/morten/.conda/envs/packing-report/lib/python3.10/site-packages/soccerdata/whoscored.py\u001b\\\u001b[2mwhoscored.py\u001b[0m\u001b]8;;\u001b\\\u001b[2m:\u001b[0m\u001b]8;id=946107;file:///home/morten/.conda/envs/packing-report/lib/python3.10/site-packages/soccerdata/whoscored.py#584\u001b\\\u001b[2m584\u001b[0m\u001b]8;;\u001b\\\n"
      ]
     },
     "metadata": {},
     "output_type": "display_data"
    },
    {
     "data": {
      "text/html": [
       "<pre style=\"white-space:pre;overflow-x:auto;line-height:normal;font-family:Menlo,'DejaVu Sans Mono',consolas,'Courier New',monospace\"><span style=\"color: #7fbfbf; text-decoration-color: #7fbfbf\">                    </span><span style=\"color: #000080; text-decoration-color: #000080\">INFO    </span> <span style=\"font-weight: bold\">[</span><span style=\"color: #008080; text-decoration-color: #008080; font-weight: bold\">352</span>/<span style=\"color: #008080; text-decoration-color: #008080; font-weight: bold\">380</span><span style=\"font-weight: bold\">]</span> Retrieving game with <span style=\"color: #808000; text-decoration-color: #808000\">id</span>=<span style=\"color: #008080; text-decoration-color: #008080; font-weight: bold\">1549605</span>                             <a href=\"file:///home/morten/.conda/envs/packing-report/lib/python3.10/site-packages/soccerdata/whoscored.py\" target=\"_blank\"><span style=\"color: #7f7f7f; text-decoration-color: #7f7f7f\">whoscored.py</span></a><span style=\"color: #7f7f7f; text-decoration-color: #7f7f7f\">:</span><a href=\"file:///home/morten/.conda/envs/packing-report/lib/python3.10/site-packages/soccerdata/whoscored.py#584\" target=\"_blank\"><span style=\"color: #7f7f7f; text-decoration-color: #7f7f7f\">584</span></a>\n",
       "</pre>\n"
      ],
      "text/plain": [
       "\u001b[2;36m                   \u001b[0m\u001b[2;36m \u001b[0m\u001b[34mINFO    \u001b[0m \u001b[1m[\u001b[0m\u001b[1;36m352\u001b[0m/\u001b[1;36m380\u001b[0m\u001b[1m]\u001b[0m Retrieving game with \u001b[33mid\u001b[0m=\u001b[1;36m1549605\u001b[0m                             \u001b]8;id=444126;file:///home/morten/.conda/envs/packing-report/lib/python3.10/site-packages/soccerdata/whoscored.py\u001b\\\u001b[2mwhoscored.py\u001b[0m\u001b]8;;\u001b\\\u001b[2m:\u001b[0m\u001b]8;id=278659;file:///home/morten/.conda/envs/packing-report/lib/python3.10/site-packages/soccerdata/whoscored.py#584\u001b\\\u001b[2m584\u001b[0m\u001b]8;;\u001b\\\n"
      ]
     },
     "metadata": {},
     "output_type": "display_data"
    },
    {
     "data": {
      "text/html": [
       "<pre style=\"white-space:pre;overflow-x:auto;line-height:normal;font-family:Menlo,'DejaVu Sans Mono',consolas,'Courier New',monospace\"><span style=\"color: #7fbfbf; text-decoration-color: #7fbfbf\">                    </span><span style=\"color: #000080; text-decoration-color: #000080\">INFO    </span> <span style=\"font-weight: bold\">[</span><span style=\"color: #008080; text-decoration-color: #008080; font-weight: bold\">353</span>/<span style=\"color: #008080; text-decoration-color: #008080; font-weight: bold\">380</span><span style=\"font-weight: bold\">]</span> Retrieving game with <span style=\"color: #808000; text-decoration-color: #808000\">id</span>=<span style=\"color: #008080; text-decoration-color: #008080; font-weight: bold\">1549735</span>                             <a href=\"file:///home/morten/.conda/envs/packing-report/lib/python3.10/site-packages/soccerdata/whoscored.py\" target=\"_blank\"><span style=\"color: #7f7f7f; text-decoration-color: #7f7f7f\">whoscored.py</span></a><span style=\"color: #7f7f7f; text-decoration-color: #7f7f7f\">:</span><a href=\"file:///home/morten/.conda/envs/packing-report/lib/python3.10/site-packages/soccerdata/whoscored.py#584\" target=\"_blank\"><span style=\"color: #7f7f7f; text-decoration-color: #7f7f7f\">584</span></a>\n",
       "</pre>\n"
      ],
      "text/plain": [
       "\u001b[2;36m                   \u001b[0m\u001b[2;36m \u001b[0m\u001b[34mINFO    \u001b[0m \u001b[1m[\u001b[0m\u001b[1;36m353\u001b[0m/\u001b[1;36m380\u001b[0m\u001b[1m]\u001b[0m Retrieving game with \u001b[33mid\u001b[0m=\u001b[1;36m1549735\u001b[0m                             \u001b]8;id=401232;file:///home/morten/.conda/envs/packing-report/lib/python3.10/site-packages/soccerdata/whoscored.py\u001b\\\u001b[2mwhoscored.py\u001b[0m\u001b]8;;\u001b\\\u001b[2m:\u001b[0m\u001b]8;id=328417;file:///home/morten/.conda/envs/packing-report/lib/python3.10/site-packages/soccerdata/whoscored.py#584\u001b\\\u001b[2m584\u001b[0m\u001b]8;;\u001b\\\n"
      ]
     },
     "metadata": {},
     "output_type": "display_data"
    },
    {
     "data": {
      "text/html": [
       "<pre style=\"white-space:pre;overflow-x:auto;line-height:normal;font-family:Menlo,'DejaVu Sans Mono',consolas,'Courier New',monospace\"><span style=\"color: #7fbfbf; text-decoration-color: #7fbfbf\">                    </span><span style=\"color: #000080; text-decoration-color: #000080\">INFO    </span> <span style=\"font-weight: bold\">[</span><span style=\"color: #008080; text-decoration-color: #008080; font-weight: bold\">354</span>/<span style=\"color: #008080; text-decoration-color: #008080; font-weight: bold\">380</span><span style=\"font-weight: bold\">]</span> Retrieving game with <span style=\"color: #808000; text-decoration-color: #808000\">id</span>=<span style=\"color: #008080; text-decoration-color: #008080; font-weight: bold\">1549898</span>                             <a href=\"file:///home/morten/.conda/envs/packing-report/lib/python3.10/site-packages/soccerdata/whoscored.py\" target=\"_blank\"><span style=\"color: #7f7f7f; text-decoration-color: #7f7f7f\">whoscored.py</span></a><span style=\"color: #7f7f7f; text-decoration-color: #7f7f7f\">:</span><a href=\"file:///home/morten/.conda/envs/packing-report/lib/python3.10/site-packages/soccerdata/whoscored.py#584\" target=\"_blank\"><span style=\"color: #7f7f7f; text-decoration-color: #7f7f7f\">584</span></a>\n",
       "</pre>\n"
      ],
      "text/plain": [
       "\u001b[2;36m                   \u001b[0m\u001b[2;36m \u001b[0m\u001b[34mINFO    \u001b[0m \u001b[1m[\u001b[0m\u001b[1;36m354\u001b[0m/\u001b[1;36m380\u001b[0m\u001b[1m]\u001b[0m Retrieving game with \u001b[33mid\u001b[0m=\u001b[1;36m1549898\u001b[0m                             \u001b]8;id=245535;file:///home/morten/.conda/envs/packing-report/lib/python3.10/site-packages/soccerdata/whoscored.py\u001b\\\u001b[2mwhoscored.py\u001b[0m\u001b]8;;\u001b\\\u001b[2m:\u001b[0m\u001b]8;id=364863;file:///home/morten/.conda/envs/packing-report/lib/python3.10/site-packages/soccerdata/whoscored.py#584\u001b\\\u001b[2m584\u001b[0m\u001b]8;;\u001b\\\n"
      ]
     },
     "metadata": {},
     "output_type": "display_data"
    },
    {
     "data": {
      "text/html": [
       "<pre style=\"white-space:pre;overflow-x:auto;line-height:normal;font-family:Menlo,'DejaVu Sans Mono',consolas,'Courier New',monospace\"><span style=\"color: #7fbfbf; text-decoration-color: #7fbfbf\">                    </span><span style=\"color: #000080; text-decoration-color: #000080\">INFO    </span> <span style=\"font-weight: bold\">[</span><span style=\"color: #008080; text-decoration-color: #008080; font-weight: bold\">355</span>/<span style=\"color: #008080; text-decoration-color: #008080; font-weight: bold\">380</span><span style=\"font-weight: bold\">]</span> Retrieving game with <span style=\"color: #808000; text-decoration-color: #808000\">id</span>=<span style=\"color: #008080; text-decoration-color: #008080; font-weight: bold\">1549789</span>                             <a href=\"file:///home/morten/.conda/envs/packing-report/lib/python3.10/site-packages/soccerdata/whoscored.py\" target=\"_blank\"><span style=\"color: #7f7f7f; text-decoration-color: #7f7f7f\">whoscored.py</span></a><span style=\"color: #7f7f7f; text-decoration-color: #7f7f7f\">:</span><a href=\"file:///home/morten/.conda/envs/packing-report/lib/python3.10/site-packages/soccerdata/whoscored.py#584\" target=\"_blank\"><span style=\"color: #7f7f7f; text-decoration-color: #7f7f7f\">584</span></a>\n",
       "</pre>\n"
      ],
      "text/plain": [
       "\u001b[2;36m                   \u001b[0m\u001b[2;36m \u001b[0m\u001b[34mINFO    \u001b[0m \u001b[1m[\u001b[0m\u001b[1;36m355\u001b[0m/\u001b[1;36m380\u001b[0m\u001b[1m]\u001b[0m Retrieving game with \u001b[33mid\u001b[0m=\u001b[1;36m1549789\u001b[0m                             \u001b]8;id=664432;file:///home/morten/.conda/envs/packing-report/lib/python3.10/site-packages/soccerdata/whoscored.py\u001b\\\u001b[2mwhoscored.py\u001b[0m\u001b]8;;\u001b\\\u001b[2m:\u001b[0m\u001b]8;id=41910;file:///home/morten/.conda/envs/packing-report/lib/python3.10/site-packages/soccerdata/whoscored.py#584\u001b\\\u001b[2m584\u001b[0m\u001b]8;;\u001b\\\n"
      ]
     },
     "metadata": {},
     "output_type": "display_data"
    },
    {
     "data": {
      "text/html": [
       "<pre style=\"white-space:pre;overflow-x:auto;line-height:normal;font-family:Menlo,'DejaVu Sans Mono',consolas,'Courier New',monospace\"><span style=\"color: #7fbfbf; text-decoration-color: #7fbfbf\">                    </span><span style=\"color: #000080; text-decoration-color: #000080\">INFO    </span> <span style=\"font-weight: bold\">[</span><span style=\"color: #008080; text-decoration-color: #008080; font-weight: bold\">356</span>/<span style=\"color: #008080; text-decoration-color: #008080; font-weight: bold\">380</span><span style=\"font-weight: bold\">]</span> Retrieving game with <span style=\"color: #808000; text-decoration-color: #808000\">id</span>=<span style=\"color: #008080; text-decoration-color: #008080; font-weight: bold\">1549901</span>                             <a href=\"file:///home/morten/.conda/envs/packing-report/lib/python3.10/site-packages/soccerdata/whoscored.py\" target=\"_blank\"><span style=\"color: #7f7f7f; text-decoration-color: #7f7f7f\">whoscored.py</span></a><span style=\"color: #7f7f7f; text-decoration-color: #7f7f7f\">:</span><a href=\"file:///home/morten/.conda/envs/packing-report/lib/python3.10/site-packages/soccerdata/whoscored.py#584\" target=\"_blank\"><span style=\"color: #7f7f7f; text-decoration-color: #7f7f7f\">584</span></a>\n",
       "</pre>\n"
      ],
      "text/plain": [
       "\u001b[2;36m                   \u001b[0m\u001b[2;36m \u001b[0m\u001b[34mINFO    \u001b[0m \u001b[1m[\u001b[0m\u001b[1;36m356\u001b[0m/\u001b[1;36m380\u001b[0m\u001b[1m]\u001b[0m Retrieving game with \u001b[33mid\u001b[0m=\u001b[1;36m1549901\u001b[0m                             \u001b]8;id=847885;file:///home/morten/.conda/envs/packing-report/lib/python3.10/site-packages/soccerdata/whoscored.py\u001b\\\u001b[2mwhoscored.py\u001b[0m\u001b]8;;\u001b\\\u001b[2m:\u001b[0m\u001b]8;id=135671;file:///home/morten/.conda/envs/packing-report/lib/python3.10/site-packages/soccerdata/whoscored.py#584\u001b\\\u001b[2m584\u001b[0m\u001b]8;;\u001b\\\n"
      ]
     },
     "metadata": {},
     "output_type": "display_data"
    },
    {
     "data": {
      "text/html": [
       "<pre style=\"white-space:pre;overflow-x:auto;line-height:normal;font-family:Menlo,'DejaVu Sans Mono',consolas,'Courier New',monospace\"><span style=\"color: #7fbfbf; text-decoration-color: #7fbfbf\">                    </span><span style=\"color: #000080; text-decoration-color: #000080\">INFO    </span> <span style=\"font-weight: bold\">[</span><span style=\"color: #008080; text-decoration-color: #008080; font-weight: bold\">357</span>/<span style=\"color: #008080; text-decoration-color: #008080; font-weight: bold\">380</span><span style=\"font-weight: bold\">]</span> Retrieving game with <span style=\"color: #808000; text-decoration-color: #808000\">id</span>=<span style=\"color: #008080; text-decoration-color: #008080; font-weight: bold\">1549814</span>                             <a href=\"file:///home/morten/.conda/envs/packing-report/lib/python3.10/site-packages/soccerdata/whoscored.py\" target=\"_blank\"><span style=\"color: #7f7f7f; text-decoration-color: #7f7f7f\">whoscored.py</span></a><span style=\"color: #7f7f7f; text-decoration-color: #7f7f7f\">:</span><a href=\"file:///home/morten/.conda/envs/packing-report/lib/python3.10/site-packages/soccerdata/whoscored.py#584\" target=\"_blank\"><span style=\"color: #7f7f7f; text-decoration-color: #7f7f7f\">584</span></a>\n",
       "</pre>\n"
      ],
      "text/plain": [
       "\u001b[2;36m                   \u001b[0m\u001b[2;36m \u001b[0m\u001b[34mINFO    \u001b[0m \u001b[1m[\u001b[0m\u001b[1;36m357\u001b[0m/\u001b[1;36m380\u001b[0m\u001b[1m]\u001b[0m Retrieving game with \u001b[33mid\u001b[0m=\u001b[1;36m1549814\u001b[0m                             \u001b]8;id=215469;file:///home/morten/.conda/envs/packing-report/lib/python3.10/site-packages/soccerdata/whoscored.py\u001b\\\u001b[2mwhoscored.py\u001b[0m\u001b]8;;\u001b\\\u001b[2m:\u001b[0m\u001b]8;id=849539;file:///home/morten/.conda/envs/packing-report/lib/python3.10/site-packages/soccerdata/whoscored.py#584\u001b\\\u001b[2m584\u001b[0m\u001b]8;;\u001b\\\n"
      ]
     },
     "metadata": {},
     "output_type": "display_data"
    },
    {
     "data": {
      "text/html": [
       "<pre style=\"white-space:pre;overflow-x:auto;line-height:normal;font-family:Menlo,'DejaVu Sans Mono',consolas,'Courier New',monospace\"><span style=\"color: #7fbfbf; text-decoration-color: #7fbfbf\">[10/02/22 17:52:14] </span><span style=\"color: #000080; text-decoration-color: #000080\">INFO    </span> <span style=\"font-weight: bold\">[</span><span style=\"color: #008080; text-decoration-color: #008080; font-weight: bold\">358</span>/<span style=\"color: #008080; text-decoration-color: #008080; font-weight: bold\">380</span><span style=\"font-weight: bold\">]</span> Retrieving game with <span style=\"color: #808000; text-decoration-color: #808000\">id</span>=<span style=\"color: #008080; text-decoration-color: #008080; font-weight: bold\">1549714</span>                             <a href=\"file:///home/morten/.conda/envs/packing-report/lib/python3.10/site-packages/soccerdata/whoscored.py\" target=\"_blank\"><span style=\"color: #7f7f7f; text-decoration-color: #7f7f7f\">whoscored.py</span></a><span style=\"color: #7f7f7f; text-decoration-color: #7f7f7f\">:</span><a href=\"file:///home/morten/.conda/envs/packing-report/lib/python3.10/site-packages/soccerdata/whoscored.py#584\" target=\"_blank\"><span style=\"color: #7f7f7f; text-decoration-color: #7f7f7f\">584</span></a>\n",
       "</pre>\n"
      ],
      "text/plain": [
       "\u001b[2;36m[10/02/22 17:52:14]\u001b[0m\u001b[2;36m \u001b[0m\u001b[34mINFO    \u001b[0m \u001b[1m[\u001b[0m\u001b[1;36m358\u001b[0m/\u001b[1;36m380\u001b[0m\u001b[1m]\u001b[0m Retrieving game with \u001b[33mid\u001b[0m=\u001b[1;36m1549714\u001b[0m                             \u001b]8;id=147837;file:///home/morten/.conda/envs/packing-report/lib/python3.10/site-packages/soccerdata/whoscored.py\u001b\\\u001b[2mwhoscored.py\u001b[0m\u001b]8;;\u001b\\\u001b[2m:\u001b[0m\u001b]8;id=100748;file:///home/morten/.conda/envs/packing-report/lib/python3.10/site-packages/soccerdata/whoscored.py#584\u001b\\\u001b[2m584\u001b[0m\u001b]8;;\u001b\\\n"
      ]
     },
     "metadata": {},
     "output_type": "display_data"
    },
    {
     "data": {
      "text/html": [
       "<pre style=\"white-space:pre;overflow-x:auto;line-height:normal;font-family:Menlo,'DejaVu Sans Mono',consolas,'Courier New',monospace\"><span style=\"color: #7fbfbf; text-decoration-color: #7fbfbf\">                    </span><span style=\"color: #000080; text-decoration-color: #000080\">INFO    </span> <span style=\"font-weight: bold\">[</span><span style=\"color: #008080; text-decoration-color: #008080; font-weight: bold\">359</span>/<span style=\"color: #008080; text-decoration-color: #008080; font-weight: bold\">380</span><span style=\"font-weight: bold\">]</span> Retrieving game with <span style=\"color: #808000; text-decoration-color: #808000\">id</span>=<span style=\"color: #008080; text-decoration-color: #008080; font-weight: bold\">1549848</span>                             <a href=\"file:///home/morten/.conda/envs/packing-report/lib/python3.10/site-packages/soccerdata/whoscored.py\" target=\"_blank\"><span style=\"color: #7f7f7f; text-decoration-color: #7f7f7f\">whoscored.py</span></a><span style=\"color: #7f7f7f; text-decoration-color: #7f7f7f\">:</span><a href=\"file:///home/morten/.conda/envs/packing-report/lib/python3.10/site-packages/soccerdata/whoscored.py#584\" target=\"_blank\"><span style=\"color: #7f7f7f; text-decoration-color: #7f7f7f\">584</span></a>\n",
       "</pre>\n"
      ],
      "text/plain": [
       "\u001b[2;36m                   \u001b[0m\u001b[2;36m \u001b[0m\u001b[34mINFO    \u001b[0m \u001b[1m[\u001b[0m\u001b[1;36m359\u001b[0m/\u001b[1;36m380\u001b[0m\u001b[1m]\u001b[0m Retrieving game with \u001b[33mid\u001b[0m=\u001b[1;36m1549848\u001b[0m                             \u001b]8;id=812930;file:///home/morten/.conda/envs/packing-report/lib/python3.10/site-packages/soccerdata/whoscored.py\u001b\\\u001b[2mwhoscored.py\u001b[0m\u001b]8;;\u001b\\\u001b[2m:\u001b[0m\u001b]8;id=594072;file:///home/morten/.conda/envs/packing-report/lib/python3.10/site-packages/soccerdata/whoscored.py#584\u001b\\\u001b[2m584\u001b[0m\u001b]8;;\u001b\\\n"
      ]
     },
     "metadata": {},
     "output_type": "display_data"
    },
    {
     "data": {
      "text/html": [
       "<pre style=\"white-space:pre;overflow-x:auto;line-height:normal;font-family:Menlo,'DejaVu Sans Mono',consolas,'Courier New',monospace\"><span style=\"color: #7fbfbf; text-decoration-color: #7fbfbf\">                    </span><span style=\"color: #000080; text-decoration-color: #000080\">INFO    </span> <span style=\"font-weight: bold\">[</span><span style=\"color: #008080; text-decoration-color: #008080; font-weight: bold\">360</span>/<span style=\"color: #008080; text-decoration-color: #008080; font-weight: bold\">380</span><span style=\"font-weight: bold\">]</span> Retrieving game with <span style=\"color: #808000; text-decoration-color: #808000\">id</span>=<span style=\"color: #008080; text-decoration-color: #008080; font-weight: bold\">1549562</span>                             <a href=\"file:///home/morten/.conda/envs/packing-report/lib/python3.10/site-packages/soccerdata/whoscored.py\" target=\"_blank\"><span style=\"color: #7f7f7f; text-decoration-color: #7f7f7f\">whoscored.py</span></a><span style=\"color: #7f7f7f; text-decoration-color: #7f7f7f\">:</span><a href=\"file:///home/morten/.conda/envs/packing-report/lib/python3.10/site-packages/soccerdata/whoscored.py#584\" target=\"_blank\"><span style=\"color: #7f7f7f; text-decoration-color: #7f7f7f\">584</span></a>\n",
       "</pre>\n"
      ],
      "text/plain": [
       "\u001b[2;36m                   \u001b[0m\u001b[2;36m \u001b[0m\u001b[34mINFO    \u001b[0m \u001b[1m[\u001b[0m\u001b[1;36m360\u001b[0m/\u001b[1;36m380\u001b[0m\u001b[1m]\u001b[0m Retrieving game with \u001b[33mid\u001b[0m=\u001b[1;36m1549562\u001b[0m                             \u001b]8;id=656299;file:///home/morten/.conda/envs/packing-report/lib/python3.10/site-packages/soccerdata/whoscored.py\u001b\\\u001b[2mwhoscored.py\u001b[0m\u001b]8;;\u001b\\\u001b[2m:\u001b[0m\u001b]8;id=689023;file:///home/morten/.conda/envs/packing-report/lib/python3.10/site-packages/soccerdata/whoscored.py#584\u001b\\\u001b[2m584\u001b[0m\u001b]8;;\u001b\\\n"
      ]
     },
     "metadata": {},
     "output_type": "display_data"
    },
    {
     "data": {
      "text/html": [
       "<pre style=\"white-space:pre;overflow-x:auto;line-height:normal;font-family:Menlo,'DejaVu Sans Mono',consolas,'Courier New',monospace\"><span style=\"color: #7fbfbf; text-decoration-color: #7fbfbf\">                    </span><span style=\"color: #000080; text-decoration-color: #000080\">INFO    </span> <span style=\"font-weight: bold\">[</span><span style=\"color: #008080; text-decoration-color: #008080; font-weight: bold\">361</span>/<span style=\"color: #008080; text-decoration-color: #008080; font-weight: bold\">380</span><span style=\"font-weight: bold\">]</span> Retrieving game with <span style=\"color: #808000; text-decoration-color: #808000\">id</span>=<span style=\"color: #008080; text-decoration-color: #008080; font-weight: bold\">1549858</span>                             <a href=\"file:///home/morten/.conda/envs/packing-report/lib/python3.10/site-packages/soccerdata/whoscored.py\" target=\"_blank\"><span style=\"color: #7f7f7f; text-decoration-color: #7f7f7f\">whoscored.py</span></a><span style=\"color: #7f7f7f; text-decoration-color: #7f7f7f\">:</span><a href=\"file:///home/morten/.conda/envs/packing-report/lib/python3.10/site-packages/soccerdata/whoscored.py#584\" target=\"_blank\"><span style=\"color: #7f7f7f; text-decoration-color: #7f7f7f\">584</span></a>\n",
       "</pre>\n"
      ],
      "text/plain": [
       "\u001b[2;36m                   \u001b[0m\u001b[2;36m \u001b[0m\u001b[34mINFO    \u001b[0m \u001b[1m[\u001b[0m\u001b[1;36m361\u001b[0m/\u001b[1;36m380\u001b[0m\u001b[1m]\u001b[0m Retrieving game with \u001b[33mid\u001b[0m=\u001b[1;36m1549858\u001b[0m                             \u001b]8;id=411912;file:///home/morten/.conda/envs/packing-report/lib/python3.10/site-packages/soccerdata/whoscored.py\u001b\\\u001b[2mwhoscored.py\u001b[0m\u001b]8;;\u001b\\\u001b[2m:\u001b[0m\u001b]8;id=815793;file:///home/morten/.conda/envs/packing-report/lib/python3.10/site-packages/soccerdata/whoscored.py#584\u001b\\\u001b[2m584\u001b[0m\u001b]8;;\u001b\\\n"
      ]
     },
     "metadata": {},
     "output_type": "display_data"
    },
    {
     "data": {
      "text/html": [
       "<pre style=\"white-space:pre;overflow-x:auto;line-height:normal;font-family:Menlo,'DejaVu Sans Mono',consolas,'Courier New',monospace\"><span style=\"color: #7fbfbf; text-decoration-color: #7fbfbf\">                    </span><span style=\"color: #000080; text-decoration-color: #000080\">INFO    </span> <span style=\"font-weight: bold\">[</span><span style=\"color: #008080; text-decoration-color: #008080; font-weight: bold\">362</span>/<span style=\"color: #008080; text-decoration-color: #008080; font-weight: bold\">380</span><span style=\"font-weight: bold\">]</span> Retrieving game with <span style=\"color: #808000; text-decoration-color: #808000\">id</span>=<span style=\"color: #008080; text-decoration-color: #008080; font-weight: bold\">1549618</span>                             <a href=\"file:///home/morten/.conda/envs/packing-report/lib/python3.10/site-packages/soccerdata/whoscored.py\" target=\"_blank\"><span style=\"color: #7f7f7f; text-decoration-color: #7f7f7f\">whoscored.py</span></a><span style=\"color: #7f7f7f; text-decoration-color: #7f7f7f\">:</span><a href=\"file:///home/morten/.conda/envs/packing-report/lib/python3.10/site-packages/soccerdata/whoscored.py#584\" target=\"_blank\"><span style=\"color: #7f7f7f; text-decoration-color: #7f7f7f\">584</span></a>\n",
       "</pre>\n"
      ],
      "text/plain": [
       "\u001b[2;36m                   \u001b[0m\u001b[2;36m \u001b[0m\u001b[34mINFO    \u001b[0m \u001b[1m[\u001b[0m\u001b[1;36m362\u001b[0m/\u001b[1;36m380\u001b[0m\u001b[1m]\u001b[0m Retrieving game with \u001b[33mid\u001b[0m=\u001b[1;36m1549618\u001b[0m                             \u001b]8;id=201406;file:///home/morten/.conda/envs/packing-report/lib/python3.10/site-packages/soccerdata/whoscored.py\u001b\\\u001b[2mwhoscored.py\u001b[0m\u001b]8;;\u001b\\\u001b[2m:\u001b[0m\u001b]8;id=956149;file:///home/morten/.conda/envs/packing-report/lib/python3.10/site-packages/soccerdata/whoscored.py#584\u001b\\\u001b[2m584\u001b[0m\u001b]8;;\u001b\\\n"
      ]
     },
     "metadata": {},
     "output_type": "display_data"
    },
    {
     "data": {
      "text/html": [
       "<pre style=\"white-space:pre;overflow-x:auto;line-height:normal;font-family:Menlo,'DejaVu Sans Mono',consolas,'Courier New',monospace\"><span style=\"color: #7fbfbf; text-decoration-color: #7fbfbf\">                    </span><span style=\"color: #000080; text-decoration-color: #000080\">INFO    </span> <span style=\"font-weight: bold\">[</span><span style=\"color: #008080; text-decoration-color: #008080; font-weight: bold\">363</span>/<span style=\"color: #008080; text-decoration-color: #008080; font-weight: bold\">380</span><span style=\"font-weight: bold\">]</span> Retrieving game with <span style=\"color: #808000; text-decoration-color: #808000\">id</span>=<span style=\"color: #008080; text-decoration-color: #008080; font-weight: bold\">1549556</span>                             <a href=\"file:///home/morten/.conda/envs/packing-report/lib/python3.10/site-packages/soccerdata/whoscored.py\" target=\"_blank\"><span style=\"color: #7f7f7f; text-decoration-color: #7f7f7f\">whoscored.py</span></a><span style=\"color: #7f7f7f; text-decoration-color: #7f7f7f\">:</span><a href=\"file:///home/morten/.conda/envs/packing-report/lib/python3.10/site-packages/soccerdata/whoscored.py#584\" target=\"_blank\"><span style=\"color: #7f7f7f; text-decoration-color: #7f7f7f\">584</span></a>\n",
       "</pre>\n"
      ],
      "text/plain": [
       "\u001b[2;36m                   \u001b[0m\u001b[2;36m \u001b[0m\u001b[34mINFO    \u001b[0m \u001b[1m[\u001b[0m\u001b[1;36m363\u001b[0m/\u001b[1;36m380\u001b[0m\u001b[1m]\u001b[0m Retrieving game with \u001b[33mid\u001b[0m=\u001b[1;36m1549556\u001b[0m                             \u001b]8;id=153118;file:///home/morten/.conda/envs/packing-report/lib/python3.10/site-packages/soccerdata/whoscored.py\u001b\\\u001b[2mwhoscored.py\u001b[0m\u001b]8;;\u001b\\\u001b[2m:\u001b[0m\u001b]8;id=143173;file:///home/morten/.conda/envs/packing-report/lib/python3.10/site-packages/soccerdata/whoscored.py#584\u001b\\\u001b[2m584\u001b[0m\u001b]8;;\u001b\\\n"
      ]
     },
     "metadata": {},
     "output_type": "display_data"
    },
    {
     "data": {
      "text/html": [
       "<pre style=\"white-space:pre;overflow-x:auto;line-height:normal;font-family:Menlo,'DejaVu Sans Mono',consolas,'Courier New',monospace\"><span style=\"color: #7fbfbf; text-decoration-color: #7fbfbf\">                    </span><span style=\"color: #000080; text-decoration-color: #000080\">INFO    </span> <span style=\"font-weight: bold\">[</span><span style=\"color: #008080; text-decoration-color: #008080; font-weight: bold\">364</span>/<span style=\"color: #008080; text-decoration-color: #008080; font-weight: bold\">380</span><span style=\"font-weight: bold\">]</span> Retrieving game with <span style=\"color: #808000; text-decoration-color: #808000\">id</span>=<span style=\"color: #008080; text-decoration-color: #008080; font-weight: bold\">1549581</span>                             <a href=\"file:///home/morten/.conda/envs/packing-report/lib/python3.10/site-packages/soccerdata/whoscored.py\" target=\"_blank\"><span style=\"color: #7f7f7f; text-decoration-color: #7f7f7f\">whoscored.py</span></a><span style=\"color: #7f7f7f; text-decoration-color: #7f7f7f\">:</span><a href=\"file:///home/morten/.conda/envs/packing-report/lib/python3.10/site-packages/soccerdata/whoscored.py#584\" target=\"_blank\"><span style=\"color: #7f7f7f; text-decoration-color: #7f7f7f\">584</span></a>\n",
       "</pre>\n"
      ],
      "text/plain": [
       "\u001b[2;36m                   \u001b[0m\u001b[2;36m \u001b[0m\u001b[34mINFO    \u001b[0m \u001b[1m[\u001b[0m\u001b[1;36m364\u001b[0m/\u001b[1;36m380\u001b[0m\u001b[1m]\u001b[0m Retrieving game with \u001b[33mid\u001b[0m=\u001b[1;36m1549581\u001b[0m                             \u001b]8;id=672467;file:///home/morten/.conda/envs/packing-report/lib/python3.10/site-packages/soccerdata/whoscored.py\u001b\\\u001b[2mwhoscored.py\u001b[0m\u001b]8;;\u001b\\\u001b[2m:\u001b[0m\u001b]8;id=140641;file:///home/morten/.conda/envs/packing-report/lib/python3.10/site-packages/soccerdata/whoscored.py#584\u001b\\\u001b[2m584\u001b[0m\u001b]8;;\u001b\\\n"
      ]
     },
     "metadata": {},
     "output_type": "display_data"
    },
    {
     "data": {
      "text/html": [
       "<pre style=\"white-space:pre;overflow-x:auto;line-height:normal;font-family:Menlo,'DejaVu Sans Mono',consolas,'Courier New',monospace\"><span style=\"color: #7fbfbf; text-decoration-color: #7fbfbf\">                    </span><span style=\"color: #000080; text-decoration-color: #000080\">INFO    </span> <span style=\"font-weight: bold\">[</span><span style=\"color: #008080; text-decoration-color: #008080; font-weight: bold\">365</span>/<span style=\"color: #008080; text-decoration-color: #008080; font-weight: bold\">380</span><span style=\"font-weight: bold\">]</span> Retrieving game with <span style=\"color: #808000; text-decoration-color: #808000\">id</span>=<span style=\"color: #008080; text-decoration-color: #008080; font-weight: bold\">1549724</span>                             <a href=\"file:///home/morten/.conda/envs/packing-report/lib/python3.10/site-packages/soccerdata/whoscored.py\" target=\"_blank\"><span style=\"color: #7f7f7f; text-decoration-color: #7f7f7f\">whoscored.py</span></a><span style=\"color: #7f7f7f; text-decoration-color: #7f7f7f\">:</span><a href=\"file:///home/morten/.conda/envs/packing-report/lib/python3.10/site-packages/soccerdata/whoscored.py#584\" target=\"_blank\"><span style=\"color: #7f7f7f; text-decoration-color: #7f7f7f\">584</span></a>\n",
       "</pre>\n"
      ],
      "text/plain": [
       "\u001b[2;36m                   \u001b[0m\u001b[2;36m \u001b[0m\u001b[34mINFO    \u001b[0m \u001b[1m[\u001b[0m\u001b[1;36m365\u001b[0m/\u001b[1;36m380\u001b[0m\u001b[1m]\u001b[0m Retrieving game with \u001b[33mid\u001b[0m=\u001b[1;36m1549724\u001b[0m                             \u001b]8;id=763684;file:///home/morten/.conda/envs/packing-report/lib/python3.10/site-packages/soccerdata/whoscored.py\u001b\\\u001b[2mwhoscored.py\u001b[0m\u001b]8;;\u001b\\\u001b[2m:\u001b[0m\u001b]8;id=203517;file:///home/morten/.conda/envs/packing-report/lib/python3.10/site-packages/soccerdata/whoscored.py#584\u001b\\\u001b[2m584\u001b[0m\u001b]8;;\u001b\\\n"
      ]
     },
     "metadata": {},
     "output_type": "display_data"
    },
    {
     "data": {
      "text/html": [
       "<pre style=\"white-space:pre;overflow-x:auto;line-height:normal;font-family:Menlo,'DejaVu Sans Mono',consolas,'Courier New',monospace\"><span style=\"color: #7fbfbf; text-decoration-color: #7fbfbf\">                    </span><span style=\"color: #000080; text-decoration-color: #000080\">INFO    </span> <span style=\"font-weight: bold\">[</span><span style=\"color: #008080; text-decoration-color: #008080; font-weight: bold\">366</span>/<span style=\"color: #008080; text-decoration-color: #008080; font-weight: bold\">380</span><span style=\"font-weight: bold\">]</span> Retrieving game with <span style=\"color: #808000; text-decoration-color: #808000\">id</span>=<span style=\"color: #008080; text-decoration-color: #008080; font-weight: bold\">1549660</span>                             <a href=\"file:///home/morten/.conda/envs/packing-report/lib/python3.10/site-packages/soccerdata/whoscored.py\" target=\"_blank\"><span style=\"color: #7f7f7f; text-decoration-color: #7f7f7f\">whoscored.py</span></a><span style=\"color: #7f7f7f; text-decoration-color: #7f7f7f\">:</span><a href=\"file:///home/morten/.conda/envs/packing-report/lib/python3.10/site-packages/soccerdata/whoscored.py#584\" target=\"_blank\"><span style=\"color: #7f7f7f; text-decoration-color: #7f7f7f\">584</span></a>\n",
       "</pre>\n"
      ],
      "text/plain": [
       "\u001b[2;36m                   \u001b[0m\u001b[2;36m \u001b[0m\u001b[34mINFO    \u001b[0m \u001b[1m[\u001b[0m\u001b[1;36m366\u001b[0m/\u001b[1;36m380\u001b[0m\u001b[1m]\u001b[0m Retrieving game with \u001b[33mid\u001b[0m=\u001b[1;36m1549660\u001b[0m                             \u001b]8;id=743451;file:///home/morten/.conda/envs/packing-report/lib/python3.10/site-packages/soccerdata/whoscored.py\u001b\\\u001b[2mwhoscored.py\u001b[0m\u001b]8;;\u001b\\\u001b[2m:\u001b[0m\u001b]8;id=106532;file:///home/morten/.conda/envs/packing-report/lib/python3.10/site-packages/soccerdata/whoscored.py#584\u001b\\\u001b[2m584\u001b[0m\u001b]8;;\u001b\\\n"
      ]
     },
     "metadata": {},
     "output_type": "display_data"
    },
    {
     "data": {
      "text/html": [
       "<pre style=\"white-space:pre;overflow-x:auto;line-height:normal;font-family:Menlo,'DejaVu Sans Mono',consolas,'Courier New',monospace\"><span style=\"color: #7fbfbf; text-decoration-color: #7fbfbf\">                    </span><span style=\"color: #000080; text-decoration-color: #000080\">INFO    </span> <span style=\"font-weight: bold\">[</span><span style=\"color: #008080; text-decoration-color: #008080; font-weight: bold\">367</span>/<span style=\"color: #008080; text-decoration-color: #008080; font-weight: bold\">380</span><span style=\"font-weight: bold\">]</span> Retrieving game with <span style=\"color: #808000; text-decoration-color: #808000\">id</span>=<span style=\"color: #008080; text-decoration-color: #008080; font-weight: bold\">1549872</span>                             <a href=\"file:///home/morten/.conda/envs/packing-report/lib/python3.10/site-packages/soccerdata/whoscored.py\" target=\"_blank\"><span style=\"color: #7f7f7f; text-decoration-color: #7f7f7f\">whoscored.py</span></a><span style=\"color: #7f7f7f; text-decoration-color: #7f7f7f\">:</span><a href=\"file:///home/morten/.conda/envs/packing-report/lib/python3.10/site-packages/soccerdata/whoscored.py#584\" target=\"_blank\"><span style=\"color: #7f7f7f; text-decoration-color: #7f7f7f\">584</span></a>\n",
       "</pre>\n"
      ],
      "text/plain": [
       "\u001b[2;36m                   \u001b[0m\u001b[2;36m \u001b[0m\u001b[34mINFO    \u001b[0m \u001b[1m[\u001b[0m\u001b[1;36m367\u001b[0m/\u001b[1;36m380\u001b[0m\u001b[1m]\u001b[0m Retrieving game with \u001b[33mid\u001b[0m=\u001b[1;36m1549872\u001b[0m                             \u001b]8;id=433748;file:///home/morten/.conda/envs/packing-report/lib/python3.10/site-packages/soccerdata/whoscored.py\u001b\\\u001b[2mwhoscored.py\u001b[0m\u001b]8;;\u001b\\\u001b[2m:\u001b[0m\u001b]8;id=171683;file:///home/morten/.conda/envs/packing-report/lib/python3.10/site-packages/soccerdata/whoscored.py#584\u001b\\\u001b[2m584\u001b[0m\u001b]8;;\u001b\\\n"
      ]
     },
     "metadata": {},
     "output_type": "display_data"
    },
    {
     "data": {
      "text/html": [
       "<pre style=\"white-space:pre;overflow-x:auto;line-height:normal;font-family:Menlo,'DejaVu Sans Mono',consolas,'Courier New',monospace\"><span style=\"color: #7fbfbf; text-decoration-color: #7fbfbf\">                    </span><span style=\"color: #000080; text-decoration-color: #000080\">INFO    </span> <span style=\"font-weight: bold\">[</span><span style=\"color: #008080; text-decoration-color: #008080; font-weight: bold\">368</span>/<span style=\"color: #008080; text-decoration-color: #008080; font-weight: bold\">380</span><span style=\"font-weight: bold\">]</span> Retrieving game with <span style=\"color: #808000; text-decoration-color: #808000\">id</span>=<span style=\"color: #008080; text-decoration-color: #008080; font-weight: bold\">1549799</span>                             <a href=\"file:///home/morten/.conda/envs/packing-report/lib/python3.10/site-packages/soccerdata/whoscored.py\" target=\"_blank\"><span style=\"color: #7f7f7f; text-decoration-color: #7f7f7f\">whoscored.py</span></a><span style=\"color: #7f7f7f; text-decoration-color: #7f7f7f\">:</span><a href=\"file:///home/morten/.conda/envs/packing-report/lib/python3.10/site-packages/soccerdata/whoscored.py#584\" target=\"_blank\"><span style=\"color: #7f7f7f; text-decoration-color: #7f7f7f\">584</span></a>\n",
       "</pre>\n"
      ],
      "text/plain": [
       "\u001b[2;36m                   \u001b[0m\u001b[2;36m \u001b[0m\u001b[34mINFO    \u001b[0m \u001b[1m[\u001b[0m\u001b[1;36m368\u001b[0m/\u001b[1;36m380\u001b[0m\u001b[1m]\u001b[0m Retrieving game with \u001b[33mid\u001b[0m=\u001b[1;36m1549799\u001b[0m                             \u001b]8;id=281690;file:///home/morten/.conda/envs/packing-report/lib/python3.10/site-packages/soccerdata/whoscored.py\u001b\\\u001b[2mwhoscored.py\u001b[0m\u001b]8;;\u001b\\\u001b[2m:\u001b[0m\u001b]8;id=883025;file:///home/morten/.conda/envs/packing-report/lib/python3.10/site-packages/soccerdata/whoscored.py#584\u001b\\\u001b[2m584\u001b[0m\u001b]8;;\u001b\\\n"
      ]
     },
     "metadata": {},
     "output_type": "display_data"
    },
    {
     "data": {
      "text/html": [
       "<pre style=\"white-space:pre;overflow-x:auto;line-height:normal;font-family:Menlo,'DejaVu Sans Mono',consolas,'Courier New',monospace\"><span style=\"color: #7fbfbf; text-decoration-color: #7fbfbf\">                    </span><span style=\"color: #000080; text-decoration-color: #000080\">INFO    </span> <span style=\"font-weight: bold\">[</span><span style=\"color: #008080; text-decoration-color: #008080; font-weight: bold\">369</span>/<span style=\"color: #008080; text-decoration-color: #008080; font-weight: bold\">380</span><span style=\"font-weight: bold\">]</span> Retrieving game with <span style=\"color: #808000; text-decoration-color: #808000\">id</span>=<span style=\"color: #008080; text-decoration-color: #008080; font-weight: bold\">1549583</span>                             <a href=\"file:///home/morten/.conda/envs/packing-report/lib/python3.10/site-packages/soccerdata/whoscored.py\" target=\"_blank\"><span style=\"color: #7f7f7f; text-decoration-color: #7f7f7f\">whoscored.py</span></a><span style=\"color: #7f7f7f; text-decoration-color: #7f7f7f\">:</span><a href=\"file:///home/morten/.conda/envs/packing-report/lib/python3.10/site-packages/soccerdata/whoscored.py#584\" target=\"_blank\"><span style=\"color: #7f7f7f; text-decoration-color: #7f7f7f\">584</span></a>\n",
       "</pre>\n"
      ],
      "text/plain": [
       "\u001b[2;36m                   \u001b[0m\u001b[2;36m \u001b[0m\u001b[34mINFO    \u001b[0m \u001b[1m[\u001b[0m\u001b[1;36m369\u001b[0m/\u001b[1;36m380\u001b[0m\u001b[1m]\u001b[0m Retrieving game with \u001b[33mid\u001b[0m=\u001b[1;36m1549583\u001b[0m                             \u001b]8;id=545564;file:///home/morten/.conda/envs/packing-report/lib/python3.10/site-packages/soccerdata/whoscored.py\u001b\\\u001b[2mwhoscored.py\u001b[0m\u001b]8;;\u001b\\\u001b[2m:\u001b[0m\u001b]8;id=543190;file:///home/morten/.conda/envs/packing-report/lib/python3.10/site-packages/soccerdata/whoscored.py#584\u001b\\\u001b[2m584\u001b[0m\u001b]8;;\u001b\\\n"
      ]
     },
     "metadata": {},
     "output_type": "display_data"
    },
    {
     "data": {
      "text/html": [
       "<pre style=\"white-space:pre;overflow-x:auto;line-height:normal;font-family:Menlo,'DejaVu Sans Mono',consolas,'Courier New',monospace\"><span style=\"color: #7fbfbf; text-decoration-color: #7fbfbf\">                    </span><span style=\"color: #000080; text-decoration-color: #000080\">INFO    </span> <span style=\"font-weight: bold\">[</span><span style=\"color: #008080; text-decoration-color: #008080; font-weight: bold\">370</span>/<span style=\"color: #008080; text-decoration-color: #008080; font-weight: bold\">380</span><span style=\"font-weight: bold\">]</span> Retrieving game with <span style=\"color: #808000; text-decoration-color: #808000\">id</span>=<span style=\"color: #008080; text-decoration-color: #008080; font-weight: bold\">1549589</span>                             <a href=\"file:///home/morten/.conda/envs/packing-report/lib/python3.10/site-packages/soccerdata/whoscored.py\" target=\"_blank\"><span style=\"color: #7f7f7f; text-decoration-color: #7f7f7f\">whoscored.py</span></a><span style=\"color: #7f7f7f; text-decoration-color: #7f7f7f\">:</span><a href=\"file:///home/morten/.conda/envs/packing-report/lib/python3.10/site-packages/soccerdata/whoscored.py#584\" target=\"_blank\"><span style=\"color: #7f7f7f; text-decoration-color: #7f7f7f\">584</span></a>\n",
       "</pre>\n"
      ],
      "text/plain": [
       "\u001b[2;36m                   \u001b[0m\u001b[2;36m \u001b[0m\u001b[34mINFO    \u001b[0m \u001b[1m[\u001b[0m\u001b[1;36m370\u001b[0m/\u001b[1;36m380\u001b[0m\u001b[1m]\u001b[0m Retrieving game with \u001b[33mid\u001b[0m=\u001b[1;36m1549589\u001b[0m                             \u001b]8;id=980148;file:///home/morten/.conda/envs/packing-report/lib/python3.10/site-packages/soccerdata/whoscored.py\u001b\\\u001b[2mwhoscored.py\u001b[0m\u001b]8;;\u001b\\\u001b[2m:\u001b[0m\u001b]8;id=77800;file:///home/morten/.conda/envs/packing-report/lib/python3.10/site-packages/soccerdata/whoscored.py#584\u001b\\\u001b[2m584\u001b[0m\u001b]8;;\u001b\\\n"
      ]
     },
     "metadata": {},
     "output_type": "display_data"
    },
    {
     "data": {
      "text/html": [
       "<pre style=\"white-space:pre;overflow-x:auto;line-height:normal;font-family:Menlo,'DejaVu Sans Mono',consolas,'Courier New',monospace\"><span style=\"color: #7fbfbf; text-decoration-color: #7fbfbf\">                    </span><span style=\"color: #000080; text-decoration-color: #000080\">INFO    </span> <span style=\"font-weight: bold\">[</span><span style=\"color: #008080; text-decoration-color: #008080; font-weight: bold\">371</span>/<span style=\"color: #008080; text-decoration-color: #008080; font-weight: bold\">380</span><span style=\"font-weight: bold\">]</span> Retrieving game with <span style=\"color: #808000; text-decoration-color: #808000\">id</span>=<span style=\"color: #008080; text-decoration-color: #008080; font-weight: bold\">1549731</span>                             <a href=\"file:///home/morten/.conda/envs/packing-report/lib/python3.10/site-packages/soccerdata/whoscored.py\" target=\"_blank\"><span style=\"color: #7f7f7f; text-decoration-color: #7f7f7f\">whoscored.py</span></a><span style=\"color: #7f7f7f; text-decoration-color: #7f7f7f\">:</span><a href=\"file:///home/morten/.conda/envs/packing-report/lib/python3.10/site-packages/soccerdata/whoscored.py#584\" target=\"_blank\"><span style=\"color: #7f7f7f; text-decoration-color: #7f7f7f\">584</span></a>\n",
       "</pre>\n"
      ],
      "text/plain": [
       "\u001b[2;36m                   \u001b[0m\u001b[2;36m \u001b[0m\u001b[34mINFO    \u001b[0m \u001b[1m[\u001b[0m\u001b[1;36m371\u001b[0m/\u001b[1;36m380\u001b[0m\u001b[1m]\u001b[0m Retrieving game with \u001b[33mid\u001b[0m=\u001b[1;36m1549731\u001b[0m                             \u001b]8;id=488923;file:///home/morten/.conda/envs/packing-report/lib/python3.10/site-packages/soccerdata/whoscored.py\u001b\\\u001b[2mwhoscored.py\u001b[0m\u001b]8;;\u001b\\\u001b[2m:\u001b[0m\u001b]8;id=973494;file:///home/morten/.conda/envs/packing-report/lib/python3.10/site-packages/soccerdata/whoscored.py#584\u001b\\\u001b[2m584\u001b[0m\u001b]8;;\u001b\\\n"
      ]
     },
     "metadata": {},
     "output_type": "display_data"
    },
    {
     "data": {
      "text/html": [
       "<pre style=\"white-space:pre;overflow-x:auto;line-height:normal;font-family:Menlo,'DejaVu Sans Mono',consolas,'Courier New',monospace\"><span style=\"color: #7fbfbf; text-decoration-color: #7fbfbf\">                    </span><span style=\"color: #000080; text-decoration-color: #000080\">INFO    </span> <span style=\"font-weight: bold\">[</span><span style=\"color: #008080; text-decoration-color: #008080; font-weight: bold\">372</span>/<span style=\"color: #008080; text-decoration-color: #008080; font-weight: bold\">380</span><span style=\"font-weight: bold\">]</span> Retrieving game with <span style=\"color: #808000; text-decoration-color: #808000\">id</span>=<span style=\"color: #008080; text-decoration-color: #008080; font-weight: bold\">1549702</span>                             <a href=\"file:///home/morten/.conda/envs/packing-report/lib/python3.10/site-packages/soccerdata/whoscored.py\" target=\"_blank\"><span style=\"color: #7f7f7f; text-decoration-color: #7f7f7f\">whoscored.py</span></a><span style=\"color: #7f7f7f; text-decoration-color: #7f7f7f\">:</span><a href=\"file:///home/morten/.conda/envs/packing-report/lib/python3.10/site-packages/soccerdata/whoscored.py#584\" target=\"_blank\"><span style=\"color: #7f7f7f; text-decoration-color: #7f7f7f\">584</span></a>\n",
       "</pre>\n"
      ],
      "text/plain": [
       "\u001b[2;36m                   \u001b[0m\u001b[2;36m \u001b[0m\u001b[34mINFO    \u001b[0m \u001b[1m[\u001b[0m\u001b[1;36m372\u001b[0m/\u001b[1;36m380\u001b[0m\u001b[1m]\u001b[0m Retrieving game with \u001b[33mid\u001b[0m=\u001b[1;36m1549702\u001b[0m                             \u001b]8;id=509240;file:///home/morten/.conda/envs/packing-report/lib/python3.10/site-packages/soccerdata/whoscored.py\u001b\\\u001b[2mwhoscored.py\u001b[0m\u001b]8;;\u001b\\\u001b[2m:\u001b[0m\u001b]8;id=927320;file:///home/morten/.conda/envs/packing-report/lib/python3.10/site-packages/soccerdata/whoscored.py#584\u001b\\\u001b[2m584\u001b[0m\u001b]8;;\u001b\\\n"
      ]
     },
     "metadata": {},
     "output_type": "display_data"
    },
    {
     "data": {
      "text/html": [
       "<pre style=\"white-space:pre;overflow-x:auto;line-height:normal;font-family:Menlo,'DejaVu Sans Mono',consolas,'Courier New',monospace\"><span style=\"color: #7fbfbf; text-decoration-color: #7fbfbf\">                    </span><span style=\"color: #000080; text-decoration-color: #000080\">INFO    </span> <span style=\"font-weight: bold\">[</span><span style=\"color: #008080; text-decoration-color: #008080; font-weight: bold\">373</span>/<span style=\"color: #008080; text-decoration-color: #008080; font-weight: bold\">380</span><span style=\"font-weight: bold\">]</span> Retrieving game with <span style=\"color: #808000; text-decoration-color: #808000\">id</span>=<span style=\"color: #008080; text-decoration-color: #008080; font-weight: bold\">1549688</span>                             <a href=\"file:///home/morten/.conda/envs/packing-report/lib/python3.10/site-packages/soccerdata/whoscored.py\" target=\"_blank\"><span style=\"color: #7f7f7f; text-decoration-color: #7f7f7f\">whoscored.py</span></a><span style=\"color: #7f7f7f; text-decoration-color: #7f7f7f\">:</span><a href=\"file:///home/morten/.conda/envs/packing-report/lib/python3.10/site-packages/soccerdata/whoscored.py#584\" target=\"_blank\"><span style=\"color: #7f7f7f; text-decoration-color: #7f7f7f\">584</span></a>\n",
       "</pre>\n"
      ],
      "text/plain": [
       "\u001b[2;36m                   \u001b[0m\u001b[2;36m \u001b[0m\u001b[34mINFO    \u001b[0m \u001b[1m[\u001b[0m\u001b[1;36m373\u001b[0m/\u001b[1;36m380\u001b[0m\u001b[1m]\u001b[0m Retrieving game with \u001b[33mid\u001b[0m=\u001b[1;36m1549688\u001b[0m                             \u001b]8;id=778520;file:///home/morten/.conda/envs/packing-report/lib/python3.10/site-packages/soccerdata/whoscored.py\u001b\\\u001b[2mwhoscored.py\u001b[0m\u001b]8;;\u001b\\\u001b[2m:\u001b[0m\u001b]8;id=990476;file:///home/morten/.conda/envs/packing-report/lib/python3.10/site-packages/soccerdata/whoscored.py#584\u001b\\\u001b[2m584\u001b[0m\u001b]8;;\u001b\\\n"
      ]
     },
     "metadata": {},
     "output_type": "display_data"
    },
    {
     "data": {
      "text/html": [
       "<pre style=\"white-space:pre;overflow-x:auto;line-height:normal;font-family:Menlo,'DejaVu Sans Mono',consolas,'Courier New',monospace\"><span style=\"color: #7fbfbf; text-decoration-color: #7fbfbf\">[10/02/22 17:52:15] </span><span style=\"color: #000080; text-decoration-color: #000080\">INFO    </span> <span style=\"font-weight: bold\">[</span><span style=\"color: #008080; text-decoration-color: #008080; font-weight: bold\">374</span>/<span style=\"color: #008080; text-decoration-color: #008080; font-weight: bold\">380</span><span style=\"font-weight: bold\">]</span> Retrieving game with <span style=\"color: #808000; text-decoration-color: #808000\">id</span>=<span style=\"color: #008080; text-decoration-color: #008080; font-weight: bold\">1549802</span>                             <a href=\"file:///home/morten/.conda/envs/packing-report/lib/python3.10/site-packages/soccerdata/whoscored.py\" target=\"_blank\"><span style=\"color: #7f7f7f; text-decoration-color: #7f7f7f\">whoscored.py</span></a><span style=\"color: #7f7f7f; text-decoration-color: #7f7f7f\">:</span><a href=\"file:///home/morten/.conda/envs/packing-report/lib/python3.10/site-packages/soccerdata/whoscored.py#584\" target=\"_blank\"><span style=\"color: #7f7f7f; text-decoration-color: #7f7f7f\">584</span></a>\n",
       "</pre>\n"
      ],
      "text/plain": [
       "\u001b[2;36m[10/02/22 17:52:15]\u001b[0m\u001b[2;36m \u001b[0m\u001b[34mINFO    \u001b[0m \u001b[1m[\u001b[0m\u001b[1;36m374\u001b[0m/\u001b[1;36m380\u001b[0m\u001b[1m]\u001b[0m Retrieving game with \u001b[33mid\u001b[0m=\u001b[1;36m1549802\u001b[0m                             \u001b]8;id=896359;file:///home/morten/.conda/envs/packing-report/lib/python3.10/site-packages/soccerdata/whoscored.py\u001b\\\u001b[2mwhoscored.py\u001b[0m\u001b]8;;\u001b\\\u001b[2m:\u001b[0m\u001b]8;id=742051;file:///home/morten/.conda/envs/packing-report/lib/python3.10/site-packages/soccerdata/whoscored.py#584\u001b\\\u001b[2m584\u001b[0m\u001b]8;;\u001b\\\n"
      ]
     },
     "metadata": {},
     "output_type": "display_data"
    },
    {
     "data": {
      "text/html": [
       "<pre style=\"white-space:pre;overflow-x:auto;line-height:normal;font-family:Menlo,'DejaVu Sans Mono',consolas,'Courier New',monospace\"><span style=\"color: #7fbfbf; text-decoration-color: #7fbfbf\">                    </span><span style=\"color: #000080; text-decoration-color: #000080\">INFO    </span> <span style=\"font-weight: bold\">[</span><span style=\"color: #008080; text-decoration-color: #008080; font-weight: bold\">375</span>/<span style=\"color: #008080; text-decoration-color: #008080; font-weight: bold\">380</span><span style=\"font-weight: bold\">]</span> Retrieving game with <span style=\"color: #808000; text-decoration-color: #808000\">id</span>=<span style=\"color: #008080; text-decoration-color: #008080; font-weight: bold\">1549686</span>                             <a href=\"file:///home/morten/.conda/envs/packing-report/lib/python3.10/site-packages/soccerdata/whoscored.py\" target=\"_blank\"><span style=\"color: #7f7f7f; text-decoration-color: #7f7f7f\">whoscored.py</span></a><span style=\"color: #7f7f7f; text-decoration-color: #7f7f7f\">:</span><a href=\"file:///home/morten/.conda/envs/packing-report/lib/python3.10/site-packages/soccerdata/whoscored.py#584\" target=\"_blank\"><span style=\"color: #7f7f7f; text-decoration-color: #7f7f7f\">584</span></a>\n",
       "</pre>\n"
      ],
      "text/plain": [
       "\u001b[2;36m                   \u001b[0m\u001b[2;36m \u001b[0m\u001b[34mINFO    \u001b[0m \u001b[1m[\u001b[0m\u001b[1;36m375\u001b[0m/\u001b[1;36m380\u001b[0m\u001b[1m]\u001b[0m Retrieving game with \u001b[33mid\u001b[0m=\u001b[1;36m1549686\u001b[0m                             \u001b]8;id=277434;file:///home/morten/.conda/envs/packing-report/lib/python3.10/site-packages/soccerdata/whoscored.py\u001b\\\u001b[2mwhoscored.py\u001b[0m\u001b]8;;\u001b\\\u001b[2m:\u001b[0m\u001b]8;id=592224;file:///home/morten/.conda/envs/packing-report/lib/python3.10/site-packages/soccerdata/whoscored.py#584\u001b\\\u001b[2m584\u001b[0m\u001b]8;;\u001b\\\n"
      ]
     },
     "metadata": {},
     "output_type": "display_data"
    },
    {
     "data": {
      "text/html": [
       "<pre style=\"white-space:pre;overflow-x:auto;line-height:normal;font-family:Menlo,'DejaVu Sans Mono',consolas,'Courier New',monospace\"><span style=\"color: #7fbfbf; text-decoration-color: #7fbfbf\">                    </span><span style=\"color: #000080; text-decoration-color: #000080\">INFO    </span> <span style=\"font-weight: bold\">[</span><span style=\"color: #008080; text-decoration-color: #008080; font-weight: bold\">376</span>/<span style=\"color: #008080; text-decoration-color: #008080; font-weight: bold\">380</span><span style=\"font-weight: bold\">]</span> Retrieving game with <span style=\"color: #808000; text-decoration-color: #808000\">id</span>=<span style=\"color: #008080; text-decoration-color: #008080; font-weight: bold\">1549576</span>                             <a href=\"file:///home/morten/.conda/envs/packing-report/lib/python3.10/site-packages/soccerdata/whoscored.py\" target=\"_blank\"><span style=\"color: #7f7f7f; text-decoration-color: #7f7f7f\">whoscored.py</span></a><span style=\"color: #7f7f7f; text-decoration-color: #7f7f7f\">:</span><a href=\"file:///home/morten/.conda/envs/packing-report/lib/python3.10/site-packages/soccerdata/whoscored.py#584\" target=\"_blank\"><span style=\"color: #7f7f7f; text-decoration-color: #7f7f7f\">584</span></a>\n",
       "</pre>\n"
      ],
      "text/plain": [
       "\u001b[2;36m                   \u001b[0m\u001b[2;36m \u001b[0m\u001b[34mINFO    \u001b[0m \u001b[1m[\u001b[0m\u001b[1;36m376\u001b[0m/\u001b[1;36m380\u001b[0m\u001b[1m]\u001b[0m Retrieving game with \u001b[33mid\u001b[0m=\u001b[1;36m1549576\u001b[0m                             \u001b]8;id=516541;file:///home/morten/.conda/envs/packing-report/lib/python3.10/site-packages/soccerdata/whoscored.py\u001b\\\u001b[2mwhoscored.py\u001b[0m\u001b]8;;\u001b\\\u001b[2m:\u001b[0m\u001b]8;id=406486;file:///home/morten/.conda/envs/packing-report/lib/python3.10/site-packages/soccerdata/whoscored.py#584\u001b\\\u001b[2m584\u001b[0m\u001b]8;;\u001b\\\n"
      ]
     },
     "metadata": {},
     "output_type": "display_data"
    },
    {
     "data": {
      "text/html": [
       "<pre style=\"white-space:pre;overflow-x:auto;line-height:normal;font-family:Menlo,'DejaVu Sans Mono',consolas,'Courier New',monospace\"><span style=\"color: #7fbfbf; text-decoration-color: #7fbfbf\">                    </span><span style=\"color: #000080; text-decoration-color: #000080\">INFO    </span> <span style=\"font-weight: bold\">[</span><span style=\"color: #008080; text-decoration-color: #008080; font-weight: bold\">377</span>/<span style=\"color: #008080; text-decoration-color: #008080; font-weight: bold\">380</span><span style=\"font-weight: bold\">]</span> Retrieving game with <span style=\"color: #808000; text-decoration-color: #808000\">id</span>=<span style=\"color: #008080; text-decoration-color: #008080; font-weight: bold\">1549823</span>                             <a href=\"file:///home/morten/.conda/envs/packing-report/lib/python3.10/site-packages/soccerdata/whoscored.py\" target=\"_blank\"><span style=\"color: #7f7f7f; text-decoration-color: #7f7f7f\">whoscored.py</span></a><span style=\"color: #7f7f7f; text-decoration-color: #7f7f7f\">:</span><a href=\"file:///home/morten/.conda/envs/packing-report/lib/python3.10/site-packages/soccerdata/whoscored.py#584\" target=\"_blank\"><span style=\"color: #7f7f7f; text-decoration-color: #7f7f7f\">584</span></a>\n",
       "</pre>\n"
      ],
      "text/plain": [
       "\u001b[2;36m                   \u001b[0m\u001b[2;36m \u001b[0m\u001b[34mINFO    \u001b[0m \u001b[1m[\u001b[0m\u001b[1;36m377\u001b[0m/\u001b[1;36m380\u001b[0m\u001b[1m]\u001b[0m Retrieving game with \u001b[33mid\u001b[0m=\u001b[1;36m1549823\u001b[0m                             \u001b]8;id=377957;file:///home/morten/.conda/envs/packing-report/lib/python3.10/site-packages/soccerdata/whoscored.py\u001b\\\u001b[2mwhoscored.py\u001b[0m\u001b]8;;\u001b\\\u001b[2m:\u001b[0m\u001b]8;id=621631;file:///home/morten/.conda/envs/packing-report/lib/python3.10/site-packages/soccerdata/whoscored.py#584\u001b\\\u001b[2m584\u001b[0m\u001b]8;;\u001b\\\n"
      ]
     },
     "metadata": {},
     "output_type": "display_data"
    },
    {
     "data": {
      "text/html": [
       "<pre style=\"white-space:pre;overflow-x:auto;line-height:normal;font-family:Menlo,'DejaVu Sans Mono',consolas,'Courier New',monospace\"><span style=\"color: #7fbfbf; text-decoration-color: #7fbfbf\">                    </span><span style=\"color: #000080; text-decoration-color: #000080\">INFO    </span> <span style=\"font-weight: bold\">[</span><span style=\"color: #008080; text-decoration-color: #008080; font-weight: bold\">378</span>/<span style=\"color: #008080; text-decoration-color: #008080; font-weight: bold\">380</span><span style=\"font-weight: bold\">]</span> Retrieving game with <span style=\"color: #808000; text-decoration-color: #808000\">id</span>=<span style=\"color: #008080; text-decoration-color: #008080; font-weight: bold\">1549856</span>                             <a href=\"file:///home/morten/.conda/envs/packing-report/lib/python3.10/site-packages/soccerdata/whoscored.py\" target=\"_blank\"><span style=\"color: #7f7f7f; text-decoration-color: #7f7f7f\">whoscored.py</span></a><span style=\"color: #7f7f7f; text-decoration-color: #7f7f7f\">:</span><a href=\"file:///home/morten/.conda/envs/packing-report/lib/python3.10/site-packages/soccerdata/whoscored.py#584\" target=\"_blank\"><span style=\"color: #7f7f7f; text-decoration-color: #7f7f7f\">584</span></a>\n",
       "</pre>\n"
      ],
      "text/plain": [
       "\u001b[2;36m                   \u001b[0m\u001b[2;36m \u001b[0m\u001b[34mINFO    \u001b[0m \u001b[1m[\u001b[0m\u001b[1;36m378\u001b[0m/\u001b[1;36m380\u001b[0m\u001b[1m]\u001b[0m Retrieving game with \u001b[33mid\u001b[0m=\u001b[1;36m1549856\u001b[0m                             \u001b]8;id=718706;file:///home/morten/.conda/envs/packing-report/lib/python3.10/site-packages/soccerdata/whoscored.py\u001b\\\u001b[2mwhoscored.py\u001b[0m\u001b]8;;\u001b\\\u001b[2m:\u001b[0m\u001b]8;id=100148;file:///home/morten/.conda/envs/packing-report/lib/python3.10/site-packages/soccerdata/whoscored.py#584\u001b\\\u001b[2m584\u001b[0m\u001b]8;;\u001b\\\n"
      ]
     },
     "metadata": {},
     "output_type": "display_data"
    },
    {
     "data": {
      "text/html": [
       "<pre style=\"white-space:pre;overflow-x:auto;line-height:normal;font-family:Menlo,'DejaVu Sans Mono',consolas,'Courier New',monospace\"><span style=\"color: #7fbfbf; text-decoration-color: #7fbfbf\">                    </span><span style=\"color: #000080; text-decoration-color: #000080\">INFO    </span> <span style=\"font-weight: bold\">[</span><span style=\"color: #008080; text-decoration-color: #008080; font-weight: bold\">379</span>/<span style=\"color: #008080; text-decoration-color: #008080; font-weight: bold\">380</span><span style=\"font-weight: bold\">]</span> Retrieving game with <span style=\"color: #808000; text-decoration-color: #808000\">id</span>=<span style=\"color: #008080; text-decoration-color: #008080; font-weight: bold\">1549698</span>                             <a href=\"file:///home/morten/.conda/envs/packing-report/lib/python3.10/site-packages/soccerdata/whoscored.py\" target=\"_blank\"><span style=\"color: #7f7f7f; text-decoration-color: #7f7f7f\">whoscored.py</span></a><span style=\"color: #7f7f7f; text-decoration-color: #7f7f7f\">:</span><a href=\"file:///home/morten/.conda/envs/packing-report/lib/python3.10/site-packages/soccerdata/whoscored.py#584\" target=\"_blank\"><span style=\"color: #7f7f7f; text-decoration-color: #7f7f7f\">584</span></a>\n",
       "</pre>\n"
      ],
      "text/plain": [
       "\u001b[2;36m                   \u001b[0m\u001b[2;36m \u001b[0m\u001b[34mINFO    \u001b[0m \u001b[1m[\u001b[0m\u001b[1;36m379\u001b[0m/\u001b[1;36m380\u001b[0m\u001b[1m]\u001b[0m Retrieving game with \u001b[33mid\u001b[0m=\u001b[1;36m1549698\u001b[0m                             \u001b]8;id=926341;file:///home/morten/.conda/envs/packing-report/lib/python3.10/site-packages/soccerdata/whoscored.py\u001b\\\u001b[2mwhoscored.py\u001b[0m\u001b]8;;\u001b\\\u001b[2m:\u001b[0m\u001b]8;id=323286;file:///home/morten/.conda/envs/packing-report/lib/python3.10/site-packages/soccerdata/whoscored.py#584\u001b\\\u001b[2m584\u001b[0m\u001b]8;;\u001b\\\n"
      ]
     },
     "metadata": {},
     "output_type": "display_data"
    },
    {
     "data": {
      "text/html": [
       "<pre style=\"white-space:pre;overflow-x:auto;line-height:normal;font-family:Menlo,'DejaVu Sans Mono',consolas,'Courier New',monospace\"><span style=\"color: #7fbfbf; text-decoration-color: #7fbfbf\">                    </span><span style=\"color: #000080; text-decoration-color: #000080\">INFO    </span> <span style=\"font-weight: bold\">[</span><span style=\"color: #008080; text-decoration-color: #008080; font-weight: bold\">380</span>/<span style=\"color: #008080; text-decoration-color: #008080; font-weight: bold\">380</span><span style=\"font-weight: bold\">]</span> Retrieving game with <span style=\"color: #808000; text-decoration-color: #808000\">id</span>=<span style=\"color: #008080; text-decoration-color: #008080; font-weight: bold\">1549721</span>                             <a href=\"file:///home/morten/.conda/envs/packing-report/lib/python3.10/site-packages/soccerdata/whoscored.py\" target=\"_blank\"><span style=\"color: #7f7f7f; text-decoration-color: #7f7f7f\">whoscored.py</span></a><span style=\"color: #7f7f7f; text-decoration-color: #7f7f7f\">:</span><a href=\"file:///home/morten/.conda/envs/packing-report/lib/python3.10/site-packages/soccerdata/whoscored.py#584\" target=\"_blank\"><span style=\"color: #7f7f7f; text-decoration-color: #7f7f7f\">584</span></a>\n",
       "</pre>\n"
      ],
      "text/plain": [
       "\u001b[2;36m                   \u001b[0m\u001b[2;36m \u001b[0m\u001b[34mINFO    \u001b[0m \u001b[1m[\u001b[0m\u001b[1;36m380\u001b[0m/\u001b[1;36m380\u001b[0m\u001b[1m]\u001b[0m Retrieving game with \u001b[33mid\u001b[0m=\u001b[1;36m1549721\u001b[0m                             \u001b]8;id=281214;file:///home/morten/.conda/envs/packing-report/lib/python3.10/site-packages/soccerdata/whoscored.py\u001b\\\u001b[2mwhoscored.py\u001b[0m\u001b]8;;\u001b\\\u001b[2m:\u001b[0m\u001b]8;id=865176;file:///home/morten/.conda/envs/packing-report/lib/python3.10/site-packages/soccerdata/whoscored.py#584\u001b\\\u001b[2m584\u001b[0m\u001b]8;;\u001b\\\n"
      ]
     },
     "metadata": {},
     "output_type": "display_data"
    }
   ],
   "source": [
    "loader = ws.read_events(output_fmt='loader')"
   ]
  },
  {
   "cell_type": "code",
   "execution_count": 6,
   "metadata": {},
   "outputs": [
    {
     "name": "stdout",
     "output_type": "stream",
     "text": [
      "Games:\n"
     ]
    },
    {
     "data": {
      "text/html": [
       "<div>\n",
       "<style scoped>\n",
       "    .dataframe tbody tr th:only-of-type {\n",
       "        vertical-align: middle;\n",
       "    }\n",
       "\n",
       "    .dataframe tbody tr th {\n",
       "        vertical-align: top;\n",
       "    }\n",
       "\n",
       "    .dataframe thead th {\n",
       "        text-align: right;\n",
       "    }\n",
       "</style>\n",
       "<table border=\"1\" class=\"dataframe\">\n",
       "  <thead>\n",
       "    <tr style=\"text-align: right;\">\n",
       "      <th></th>\n",
       "      <th>game_id</th>\n",
       "      <th>season_id</th>\n",
       "      <th>competition_id</th>\n",
       "      <th>game_day</th>\n",
       "      <th>game_date</th>\n",
       "      <th>home_team_id</th>\n",
       "      <th>away_team_id</th>\n",
       "      <th>home_score</th>\n",
       "      <th>away_score</th>\n",
       "      <th>duration</th>\n",
       "      <th>referee</th>\n",
       "      <th>venue</th>\n",
       "      <th>attendance</th>\n",
       "      <th>home_manager</th>\n",
       "      <th>away_manager</th>\n",
       "    </tr>\n",
       "  </thead>\n",
       "  <tbody>\n",
       "    <tr>\n",
       "      <th>0</th>\n",
       "      <td>1549840</td>\n",
       "      <td>2122</td>\n",
       "      <td>ENG-Premier League</td>\n",
       "      <td>None</td>\n",
       "      <td>2022-04-03 14:00:00</td>\n",
       "      <td>29</td>\n",
       "      <td>31</td>\n",
       "      <td>2</td>\n",
       "      <td>1</td>\n",
       "      <td>97</td>\n",
       "      <td>Michael Oliver</td>\n",
       "      <td>London Stadium</td>\n",
       "      <td>59953</td>\n",
       "      <td>David Moyes</td>\n",
       "      <td>Frank Lampard</td>\n",
       "    </tr>\n",
       "    <tr>\n",
       "      <th>1</th>\n",
       "      <td>1549553</td>\n",
       "      <td>2122</td>\n",
       "      <td>ENG-Premier League</td>\n",
       "      <td>None</td>\n",
       "      <td>2021-08-21 15:00:00</td>\n",
       "      <td>19</td>\n",
       "      <td>31</td>\n",
       "      <td>2</td>\n",
       "      <td>2</td>\n",
       "      <td>100</td>\n",
       "      <td>Darren England</td>\n",
       "      <td>Elland Road</td>\n",
       "      <td>36293</td>\n",
       "      <td>Marcelo Bielsa</td>\n",
       "      <td>Rafael Benítez</td>\n",
       "    </tr>\n",
       "    <tr>\n",
       "      <th>2</th>\n",
       "      <td>1549609</td>\n",
       "      <td>2122</td>\n",
       "      <td>ENG-Premier League</td>\n",
       "      <td>None</td>\n",
       "      <td>2021-10-18 20:00:00</td>\n",
       "      <td>13</td>\n",
       "      <td>162</td>\n",
       "      <td>2</td>\n",
       "      <td>2</td>\n",
       "      <td>99</td>\n",
       "      <td>Mike Dean</td>\n",
       "      <td>Emirates Stadium</td>\n",
       "      <td>59475</td>\n",
       "      <td>Mikel Arteta</td>\n",
       "      <td>Patrick Vieira</td>\n",
       "    </tr>\n",
       "    <tr>\n",
       "      <th>3</th>\n",
       "      <td>1549619</td>\n",
       "      <td>2122</td>\n",
       "      <td>ENG-Premier League</td>\n",
       "      <td>None</td>\n",
       "      <td>2021-10-22 20:00:00</td>\n",
       "      <td>13</td>\n",
       "      <td>24</td>\n",
       "      <td>3</td>\n",
       "      <td>1</td>\n",
       "      <td>102</td>\n",
       "      <td>Craig Pawson</td>\n",
       "      <td>Emirates Stadium</td>\n",
       "      <td>59496</td>\n",
       "      <td>Mikel Arteta</td>\n",
       "      <td>Dean Smith</td>\n",
       "    </tr>\n",
       "    <tr>\n",
       "      <th>4</th>\n",
       "      <td>1549692</td>\n",
       "      <td>2122</td>\n",
       "      <td>ENG-Premier League</td>\n",
       "      <td>None</td>\n",
       "      <td>2021-12-12 14:00:00</td>\n",
       "      <td>184</td>\n",
       "      <td>29</td>\n",
       "      <td>0</td>\n",
       "      <td>0</td>\n",
       "      <td>97</td>\n",
       "      <td>Graham Scott</td>\n",
       "      <td>Turf Moor</td>\n",
       "      <td>18065</td>\n",
       "      <td>Sean Dyche</td>\n",
       "      <td>David Moyes</td>\n",
       "    </tr>\n",
       "  </tbody>\n",
       "</table>\n",
       "</div>"
      ],
      "text/plain": [
       "   game_id  season_id      competition_id game_day           game_date  \\\n",
       "0  1549840       2122  ENG-Premier League     None 2022-04-03 14:00:00   \n",
       "1  1549553       2122  ENG-Premier League     None 2021-08-21 15:00:00   \n",
       "2  1549609       2122  ENG-Premier League     None 2021-10-18 20:00:00   \n",
       "3  1549619       2122  ENG-Premier League     None 2021-10-22 20:00:00   \n",
       "4  1549692       2122  ENG-Premier League     None 2021-12-12 14:00:00   \n",
       "\n",
       "   home_team_id  away_team_id  home_score  away_score  duration  \\\n",
       "0            29            31           2           1        97   \n",
       "1            19            31           2           2       100   \n",
       "2            13           162           2           2        99   \n",
       "3            13            24           3           1       102   \n",
       "4           184            29           0           0        97   \n",
       "\n",
       "          referee             venue  attendance    home_manager  \\\n",
       "0  Michael Oliver    London Stadium       59953     David Moyes   \n",
       "1  Darren England       Elland Road       36293  Marcelo Bielsa   \n",
       "2       Mike Dean  Emirates Stadium       59475    Mikel Arteta   \n",
       "3    Craig Pawson  Emirates Stadium       59496    Mikel Arteta   \n",
       "4    Graham Scott         Turf Moor       18065      Sean Dyche   \n",
       "\n",
       "     away_manager  \n",
       "0   Frank Lampard  \n",
       "1  Rafael Benítez  \n",
       "2  Patrick Vieira  \n",
       "3      Dean Smith  \n",
       "4     David Moyes  "
      ]
     },
     "metadata": {},
     "output_type": "display_data"
    },
    {
     "name": "stdout",
     "output_type": "stream",
     "text": [
      "Teams:\n"
     ]
    },
    {
     "data": {
      "text/html": [
       "<div>\n",
       "<style scoped>\n",
       "    .dataframe tbody tr th:only-of-type {\n",
       "        vertical-align: middle;\n",
       "    }\n",
       "\n",
       "    .dataframe tbody tr th {\n",
       "        vertical-align: top;\n",
       "    }\n",
       "\n",
       "    .dataframe thead th {\n",
       "        text-align: right;\n",
       "    }\n",
       "</style>\n",
       "<table border=\"1\" class=\"dataframe\">\n",
       "  <thead>\n",
       "    <tr style=\"text-align: right;\">\n",
       "      <th></th>\n",
       "      <th>team_id</th>\n",
       "      <th>team_name</th>\n",
       "    </tr>\n",
       "  </thead>\n",
       "  <tbody>\n",
       "    <tr>\n",
       "      <th>0</th>\n",
       "      <td>29</td>\n",
       "      <td>West Ham</td>\n",
       "    </tr>\n",
       "    <tr>\n",
       "      <th>1</th>\n",
       "      <td>31</td>\n",
       "      <td>Everton</td>\n",
       "    </tr>\n",
       "  </tbody>\n",
       "</table>\n",
       "</div>"
      ],
      "text/plain": [
       "   team_id team_name\n",
       "0       29  West Ham\n",
       "1       31   Everton"
      ]
     },
     "metadata": {},
     "output_type": "display_data"
    },
    {
     "name": "stdout",
     "output_type": "stream",
     "text": [
      "Players:\n"
     ]
    },
    {
     "data": {
      "text/html": [
       "<div>\n",
       "<style scoped>\n",
       "    .dataframe tbody tr th:only-of-type {\n",
       "        vertical-align: middle;\n",
       "    }\n",
       "\n",
       "    .dataframe tbody tr th {\n",
       "        vertical-align: top;\n",
       "    }\n",
       "\n",
       "    .dataframe thead th {\n",
       "        text-align: right;\n",
       "    }\n",
       "</style>\n",
       "<table border=\"1\" class=\"dataframe\">\n",
       "  <thead>\n",
       "    <tr style=\"text-align: right;\">\n",
       "      <th></th>\n",
       "      <th>game_id</th>\n",
       "      <th>team_id</th>\n",
       "      <th>player_id</th>\n",
       "      <th>player_name</th>\n",
       "      <th>is_starter</th>\n",
       "      <th>minutes_played</th>\n",
       "      <th>jersey_number</th>\n",
       "      <th>starting_position</th>\n",
       "    </tr>\n",
       "  </thead>\n",
       "  <tbody>\n",
       "    <tr>\n",
       "      <th>0</th>\n",
       "      <td>1549840</td>\n",
       "      <td>29</td>\n",
       "      <td>20973</td>\n",
       "      <td>Lukasz Fabianski</td>\n",
       "      <td>True</td>\n",
       "      <td>97</td>\n",
       "      <td>1</td>\n",
       "      <td>GK</td>\n",
       "    </tr>\n",
       "    <tr>\n",
       "      <th>1</th>\n",
       "      <td>1549840</td>\n",
       "      <td>29</td>\n",
       "      <td>83554</td>\n",
       "      <td>Ryan Fredericks</td>\n",
       "      <td>True</td>\n",
       "      <td>97</td>\n",
       "      <td>24</td>\n",
       "      <td>DR</td>\n",
       "    </tr>\n",
       "    <tr>\n",
       "      <th>2</th>\n",
       "      <td>1549840</td>\n",
       "      <td>29</td>\n",
       "      <td>106086</td>\n",
       "      <td>Kurt Zouma</td>\n",
       "      <td>True</td>\n",
       "      <td>97</td>\n",
       "      <td>4</td>\n",
       "      <td>DC</td>\n",
       "    </tr>\n",
       "    <tr>\n",
       "      <th>3</th>\n",
       "      <td>1549840</td>\n",
       "      <td>29</td>\n",
       "      <td>73063</td>\n",
       "      <td>Craig Dawson</td>\n",
       "      <td>True</td>\n",
       "      <td>97</td>\n",
       "      <td>15</td>\n",
       "      <td>DC</td>\n",
       "    </tr>\n",
       "    <tr>\n",
       "      <th>4</th>\n",
       "      <td>1549840</td>\n",
       "      <td>29</td>\n",
       "      <td>68049</td>\n",
       "      <td>Aaron Cresswell</td>\n",
       "      <td>True</td>\n",
       "      <td>97</td>\n",
       "      <td>3</td>\n",
       "      <td>DL</td>\n",
       "    </tr>\n",
       "  </tbody>\n",
       "</table>\n",
       "</div>"
      ],
      "text/plain": [
       "   game_id  team_id  player_id       player_name  is_starter  minutes_played  \\\n",
       "0  1549840       29      20973  Lukasz Fabianski        True              97   \n",
       "1  1549840       29      83554   Ryan Fredericks        True              97   \n",
       "2  1549840       29     106086        Kurt Zouma        True              97   \n",
       "3  1549840       29      73063      Craig Dawson        True              97   \n",
       "4  1549840       29      68049   Aaron Cresswell        True              97   \n",
       "\n",
       "   jersey_number starting_position  \n",
       "0              1                GK  \n",
       "1             24                DR  \n",
       "2              4                DC  \n",
       "3             15                DC  \n",
       "4              3                DL  "
      ]
     },
     "metadata": {},
     "output_type": "display_data"
    },
    {
     "name": "stdout",
     "output_type": "stream",
     "text": [
      "Events:\n"
     ]
    },
    {
     "data": {
      "text/html": [
       "<div>\n",
       "<style scoped>\n",
       "    .dataframe tbody tr th:only-of-type {\n",
       "        vertical-align: middle;\n",
       "    }\n",
       "\n",
       "    .dataframe tbody tr th {\n",
       "        vertical-align: top;\n",
       "    }\n",
       "\n",
       "    .dataframe thead th {\n",
       "        text-align: right;\n",
       "    }\n",
       "</style>\n",
       "<table border=\"1\" class=\"dataframe\">\n",
       "  <thead>\n",
       "    <tr style=\"text-align: right;\">\n",
       "      <th></th>\n",
       "      <th>game_id</th>\n",
       "      <th>event_id</th>\n",
       "      <th>period_id</th>\n",
       "      <th>team_id</th>\n",
       "      <th>player_id</th>\n",
       "      <th>type_id</th>\n",
       "      <th>timestamp</th>\n",
       "      <th>minute</th>\n",
       "      <th>second</th>\n",
       "      <th>outcome</th>\n",
       "      <th>start_x</th>\n",
       "      <th>start_y</th>\n",
       "      <th>end_x</th>\n",
       "      <th>end_y</th>\n",
       "      <th>qualifiers</th>\n",
       "      <th>related_player_id</th>\n",
       "      <th>touch</th>\n",
       "      <th>shot</th>\n",
       "      <th>goal</th>\n",
       "      <th>type_name</th>\n",
       "    </tr>\n",
       "  </thead>\n",
       "  <tbody>\n",
       "    <tr>\n",
       "      <th>0</th>\n",
       "      <td>1549840</td>\n",
       "      <td>2401262077</td>\n",
       "      <td>1</td>\n",
       "      <td>29</td>\n",
       "      <td>NaN</td>\n",
       "      <td>32</td>\n",
       "      <td>2022-04-03 14:00:00</td>\n",
       "      <td>0</td>\n",
       "      <td>0</td>\n",
       "      <td>True</td>\n",
       "      <td>0.0</td>\n",
       "      <td>0.0</td>\n",
       "      <td>0.0</td>\n",
       "      <td>0.0</td>\n",
       "      <td>{}</td>\n",
       "      <td>NaN</td>\n",
       "      <td>False</td>\n",
       "      <td>False</td>\n",
       "      <td>False</td>\n",
       "      <td>start</td>\n",
       "    </tr>\n",
       "    <tr>\n",
       "      <th>1</th>\n",
       "      <td>1549840</td>\n",
       "      <td>2401262067</td>\n",
       "      <td>1</td>\n",
       "      <td>31</td>\n",
       "      <td>NaN</td>\n",
       "      <td>32</td>\n",
       "      <td>2022-04-03 14:00:00</td>\n",
       "      <td>0</td>\n",
       "      <td>0</td>\n",
       "      <td>True</td>\n",
       "      <td>0.0</td>\n",
       "      <td>0.0</td>\n",
       "      <td>0.0</td>\n",
       "      <td>0.0</td>\n",
       "      <td>{}</td>\n",
       "      <td>NaN</td>\n",
       "      <td>False</td>\n",
       "      <td>False</td>\n",
       "      <td>False</td>\n",
       "      <td>start</td>\n",
       "    </tr>\n",
       "    <tr>\n",
       "      <th>2</th>\n",
       "      <td>1549840</td>\n",
       "      <td>2401262147</td>\n",
       "      <td>1</td>\n",
       "      <td>31</td>\n",
       "      <td>136945.0</td>\n",
       "      <td>1</td>\n",
       "      <td>2022-04-03 14:00:00</td>\n",
       "      <td>0</td>\n",
       "      <td>0</td>\n",
       "      <td>True</td>\n",
       "      <td>50.0</td>\n",
       "      <td>50.0</td>\n",
       "      <td>32.6</td>\n",
       "      <td>37.7</td>\n",
       "      <td>{141: '37.7', 212: '20.1', 56: 'Back', 140: '3...</td>\n",
       "      <td>NaN</td>\n",
       "      <td>True</td>\n",
       "      <td>False</td>\n",
       "      <td>False</td>\n",
       "      <td>pass</td>\n",
       "    </tr>\n",
       "    <tr>\n",
       "      <th>3</th>\n",
       "      <td>1549840</td>\n",
       "      <td>2401262199</td>\n",
       "      <td>1</td>\n",
       "      <td>31</td>\n",
       "      <td>107941.0</td>\n",
       "      <td>1</td>\n",
       "      <td>2022-04-03 14:00:02</td>\n",
       "      <td>0</td>\n",
       "      <td>2</td>\n",
       "      <td>False</td>\n",
       "      <td>36.7</td>\n",
       "      <td>40.9</td>\n",
       "      <td>67.9</td>\n",
       "      <td>82.8</td>\n",
       "      <td>{141: '82.8', 178: True, 1: True, 56: 'Left', ...</td>\n",
       "      <td>NaN</td>\n",
       "      <td>True</td>\n",
       "      <td>False</td>\n",
       "      <td>False</td>\n",
       "      <td>pass</td>\n",
       "    </tr>\n",
       "    <tr>\n",
       "      <th>4</th>\n",
       "      <td>1549840</td>\n",
       "      <td>2401262195</td>\n",
       "      <td>1</td>\n",
       "      <td>29</td>\n",
       "      <td>143595.0</td>\n",
       "      <td>44</td>\n",
       "      <td>2022-04-03 14:00:05</td>\n",
       "      <td>0</td>\n",
       "      <td>5</td>\n",
       "      <td>True</td>\n",
       "      <td>28.0</td>\n",
       "      <td>12.0</td>\n",
       "      <td>28.0</td>\n",
       "      <td>12.0</td>\n",
       "      <td>{233: '5', 56: 'Back', 285: True}</td>\n",
       "      <td>NaN</td>\n",
       "      <td>False</td>\n",
       "      <td>False</td>\n",
       "      <td>False</td>\n",
       "      <td>aerial</td>\n",
       "    </tr>\n",
       "  </tbody>\n",
       "</table>\n",
       "</div>"
      ],
      "text/plain": [
       "   game_id    event_id  period_id  team_id  player_id  type_id  \\\n",
       "0  1549840  2401262077          1       29        NaN       32   \n",
       "1  1549840  2401262067          1       31        NaN       32   \n",
       "2  1549840  2401262147          1       31   136945.0        1   \n",
       "3  1549840  2401262199          1       31   107941.0        1   \n",
       "4  1549840  2401262195          1       29   143595.0       44   \n",
       "\n",
       "            timestamp  minute  second  outcome  start_x  start_y  end_x  \\\n",
       "0 2022-04-03 14:00:00       0       0     True      0.0      0.0    0.0   \n",
       "1 2022-04-03 14:00:00       0       0     True      0.0      0.0    0.0   \n",
       "2 2022-04-03 14:00:00       0       0     True     50.0     50.0   32.6   \n",
       "3 2022-04-03 14:00:02       0       2    False     36.7     40.9   67.9   \n",
       "4 2022-04-03 14:00:05       0       5     True     28.0     12.0   28.0   \n",
       "\n",
       "   end_y                                         qualifiers  \\\n",
       "0    0.0                                                 {}   \n",
       "1    0.0                                                 {}   \n",
       "2   37.7  {141: '37.7', 212: '20.1', 56: 'Back', 140: '3...   \n",
       "3   82.8  {141: '82.8', 178: True, 1: True, 56: 'Left', ...   \n",
       "4   12.0                  {233: '5', 56: 'Back', 285: True}   \n",
       "\n",
       "   related_player_id  touch   shot   goal type_name  \n",
       "0                NaN  False  False  False     start  \n",
       "1                NaN  False  False  False     start  \n",
       "2                NaN   True  False  False      pass  \n",
       "3                NaN   True  False  False      pass  \n",
       "4                NaN  False  False  False    aerial  "
      ]
     },
     "metadata": {},
     "output_type": "display_data"
    }
   ],
   "source": [
    "# Now use this loader to load the data\n",
    "print(\"Games:\")\n",
    "df_games = loader.games(competition_id=\"ENG-Premier League\", season_id=\"2122\")\n",
    "display(df_games.head())\n",
    "\n",
    "print(\"Teams:\")\n",
    "df_teams = loader.teams(game_id=1549840)\n",
    "display(df_teams.head())\n",
    "\n",
    "print(\"Players:\")\n",
    "df_players = loader.players(game_id=1549840)\n",
    "display(df_players.head())\n",
    "\n",
    "print(\"Events:\")\n",
    "df_events = loader.events(game_id=1549840)\n",
    "display(df_events.head())"
   ]
  },
  {
   "cell_type": "code",
   "execution_count": 7,
   "metadata": {},
   "outputs": [],
   "source": [
    "import pandas as pd\n",
    "import socceraction.spadl as spadl\n",
    "import socceraction.xthreat as xthreat"
   ]
  },
  {
   "cell_type": "code",
   "execution_count": 8,
   "metadata": {},
   "outputs": [],
   "source": [
    "actions = {}\n",
    "for game in df_games.iterrows():\n",
    "    actions[game[1]['game_id']] = spadl.opta.convert_to_actions(loader.events(game[1]['game_id']), game[1]['home_team_id'])"
   ]
  },
  {
   "cell_type": "code",
   "execution_count": 9,
   "metadata": {},
   "outputs": [],
   "source": [
    "# 2. Convert direction of play\n",
    "actions_ltr = pd.concat([\n",
    "  spadl.play_left_to_right(actions[game[1]['game_id']], game[1]['home_team_id'])\n",
    "  for game in df_games.iterrows()\n",
    "])"
   ]
  },
  {
   "cell_type": "code",
   "execution_count": 10,
   "metadata": {},
   "outputs": [
    {
     "data": {
      "text/html": [
       "<div>\n",
       "<style scoped>\n",
       "    .dataframe tbody tr th:only-of-type {\n",
       "        vertical-align: middle;\n",
       "    }\n",
       "\n",
       "    .dataframe tbody tr th {\n",
       "        vertical-align: top;\n",
       "    }\n",
       "\n",
       "    .dataframe thead th {\n",
       "        text-align: right;\n",
       "    }\n",
       "</style>\n",
       "<table border=\"1\" class=\"dataframe\">\n",
       "  <thead>\n",
       "    <tr style=\"text-align: right;\">\n",
       "      <th></th>\n",
       "      <th>game_id</th>\n",
       "      <th>original_event_id</th>\n",
       "      <th>period_id</th>\n",
       "      <th>time_seconds</th>\n",
       "      <th>team_id</th>\n",
       "      <th>player_id</th>\n",
       "      <th>start_x</th>\n",
       "      <th>end_x</th>\n",
       "      <th>start_y</th>\n",
       "      <th>end_y</th>\n",
       "      <th>type_id</th>\n",
       "      <th>result_id</th>\n",
       "      <th>bodypart_id</th>\n",
       "      <th>action_id</th>\n",
       "    </tr>\n",
       "  </thead>\n",
       "  <tbody>\n",
       "    <tr>\n",
       "      <th>0</th>\n",
       "      <td>1549840</td>\n",
       "      <td>2401262147</td>\n",
       "      <td>1</td>\n",
       "      <td>0.0</td>\n",
       "      <td>31</td>\n",
       "      <td>136945.0</td>\n",
       "      <td>52.500</td>\n",
       "      <td>34.230</td>\n",
       "      <td>34.000</td>\n",
       "      <td>25.636</td>\n",
       "      <td>0</td>\n",
       "      <td>1</td>\n",
       "      <td>0</td>\n",
       "      <td>0</td>\n",
       "    </tr>\n",
       "    <tr>\n",
       "      <th>1</th>\n",
       "      <td>1549840</td>\n",
       "      <td>NaN</td>\n",
       "      <td>1</td>\n",
       "      <td>1.0</td>\n",
       "      <td>31</td>\n",
       "      <td>107941.0</td>\n",
       "      <td>34.230</td>\n",
       "      <td>38.535</td>\n",
       "      <td>25.636</td>\n",
       "      <td>27.812</td>\n",
       "      <td>21</td>\n",
       "      <td>1</td>\n",
       "      <td>0</td>\n",
       "      <td>1</td>\n",
       "    </tr>\n",
       "    <tr>\n",
       "      <th>2</th>\n",
       "      <td>1549840</td>\n",
       "      <td>2401262199</td>\n",
       "      <td>1</td>\n",
       "      <td>2.0</td>\n",
       "      <td>31</td>\n",
       "      <td>107941.0</td>\n",
       "      <td>38.535</td>\n",
       "      <td>71.295</td>\n",
       "      <td>27.812</td>\n",
       "      <td>56.304</td>\n",
       "      <td>0</td>\n",
       "      <td>0</td>\n",
       "      <td>0</td>\n",
       "      <td>2</td>\n",
       "    </tr>\n",
       "    <tr>\n",
       "      <th>3</th>\n",
       "      <td>1549840</td>\n",
       "      <td>2401262227</td>\n",
       "      <td>1</td>\n",
       "      <td>5.0</td>\n",
       "      <td>29</td>\n",
       "      <td>143595.0</td>\n",
       "      <td>32.445</td>\n",
       "      <td>38.010</td>\n",
       "      <td>7.888</td>\n",
       "      <td>19.108</td>\n",
       "      <td>0</td>\n",
       "      <td>0</td>\n",
       "      <td>0</td>\n",
       "      <td>3</td>\n",
       "    </tr>\n",
       "    <tr>\n",
       "      <th>4</th>\n",
       "      <td>1549840</td>\n",
       "      <td>2401262251</td>\n",
       "      <td>1</td>\n",
       "      <td>7.0</td>\n",
       "      <td>31</td>\n",
       "      <td>136824.0</td>\n",
       "      <td>65.205</td>\n",
       "      <td>72.870</td>\n",
       "      <td>47.940</td>\n",
       "      <td>44.200</td>\n",
       "      <td>0</td>\n",
       "      <td>1</td>\n",
       "      <td>0</td>\n",
       "      <td>4</td>\n",
       "    </tr>\n",
       "    <tr>\n",
       "      <th>...</th>\n",
       "      <td>...</td>\n",
       "      <td>...</td>\n",
       "      <td>...</td>\n",
       "      <td>...</td>\n",
       "      <td>...</td>\n",
       "      <td>...</td>\n",
       "      <td>...</td>\n",
       "      <td>...</td>\n",
       "      <td>...</td>\n",
       "      <td>...</td>\n",
       "      <td>...</td>\n",
       "      <td>...</td>\n",
       "      <td>...</td>\n",
       "      <td>...</td>\n",
       "    </tr>\n",
       "    <tr>\n",
       "      <th>1555</th>\n",
       "      <td>1549582</td>\n",
       "      <td>2331559677</td>\n",
       "      <td>2</td>\n",
       "      <td>2991.0</td>\n",
       "      <td>26</td>\n",
       "      <td>345957.0</td>\n",
       "      <td>23.205</td>\n",
       "      <td>57.435</td>\n",
       "      <td>20.808</td>\n",
       "      <td>7.276</td>\n",
       "      <td>0</td>\n",
       "      <td>1</td>\n",
       "      <td>0</td>\n",
       "      <td>1555</td>\n",
       "    </tr>\n",
       "    <tr>\n",
       "      <th>1556</th>\n",
       "      <td>1549582</td>\n",
       "      <td>2331559715</td>\n",
       "      <td>2</td>\n",
       "      <td>2993.0</td>\n",
       "      <td>26</td>\n",
       "      <td>108226.0</td>\n",
       "      <td>57.750</td>\n",
       "      <td>64.365</td>\n",
       "      <td>7.072</td>\n",
       "      <td>14.688</td>\n",
       "      <td>0</td>\n",
       "      <td>1</td>\n",
       "      <td>0</td>\n",
       "      <td>1556</td>\n",
       "    </tr>\n",
       "    <tr>\n",
       "      <th>1557</th>\n",
       "      <td>1549582</td>\n",
       "      <td>2331559769</td>\n",
       "      <td>2</td>\n",
       "      <td>2995.0</td>\n",
       "      <td>162</td>\n",
       "      <td>371281.0</td>\n",
       "      <td>41.265</td>\n",
       "      <td>41.265</td>\n",
       "      <td>53.584</td>\n",
       "      <td>53.584</td>\n",
       "      <td>9</td>\n",
       "      <td>1</td>\n",
       "      <td>0</td>\n",
       "      <td>1557</td>\n",
       "    </tr>\n",
       "    <tr>\n",
       "      <th>1558</th>\n",
       "      <td>1549582</td>\n",
       "      <td>NaN</td>\n",
       "      <td>2</td>\n",
       "      <td>2996.5</td>\n",
       "      <td>162</td>\n",
       "      <td>374631.0</td>\n",
       "      <td>41.265</td>\n",
       "      <td>27.510</td>\n",
       "      <td>53.584</td>\n",
       "      <td>57.460</td>\n",
       "      <td>21</td>\n",
       "      <td>1</td>\n",
       "      <td>0</td>\n",
       "      <td>1558</td>\n",
       "    </tr>\n",
       "    <tr>\n",
       "      <th>1559</th>\n",
       "      <td>1549582</td>\n",
       "      <td>2331559883</td>\n",
       "      <td>2</td>\n",
       "      <td>2998.0</td>\n",
       "      <td>162</td>\n",
       "      <td>374631.0</td>\n",
       "      <td>27.510</td>\n",
       "      <td>31.395</td>\n",
       "      <td>57.460</td>\n",
       "      <td>64.260</td>\n",
       "      <td>0</td>\n",
       "      <td>1</td>\n",
       "      <td>0</td>\n",
       "      <td>1559</td>\n",
       "    </tr>\n",
       "  </tbody>\n",
       "</table>\n",
       "<p>602717 rows × 14 columns</p>\n",
       "</div>"
      ],
      "text/plain": [
       "      game_id original_event_id  period_id  time_seconds  team_id  player_id  \\\n",
       "0     1549840        2401262147          1           0.0       31   136945.0   \n",
       "1     1549840               NaN          1           1.0       31   107941.0   \n",
       "2     1549840        2401262199          1           2.0       31   107941.0   \n",
       "3     1549840        2401262227          1           5.0       29   143595.0   \n",
       "4     1549840        2401262251          1           7.0       31   136824.0   \n",
       "...       ...               ...        ...           ...      ...        ...   \n",
       "1555  1549582        2331559677          2        2991.0       26   345957.0   \n",
       "1556  1549582        2331559715          2        2993.0       26   108226.0   \n",
       "1557  1549582        2331559769          2        2995.0      162   371281.0   \n",
       "1558  1549582               NaN          2        2996.5      162   374631.0   \n",
       "1559  1549582        2331559883          2        2998.0      162   374631.0   \n",
       "\n",
       "      start_x   end_x  start_y   end_y  type_id  result_id  bodypart_id  \\\n",
       "0      52.500  34.230   34.000  25.636        0          1            0   \n",
       "1      34.230  38.535   25.636  27.812       21          1            0   \n",
       "2      38.535  71.295   27.812  56.304        0          0            0   \n",
       "3      32.445  38.010    7.888  19.108        0          0            0   \n",
       "4      65.205  72.870   47.940  44.200        0          1            0   \n",
       "...       ...     ...      ...     ...      ...        ...          ...   \n",
       "1555   23.205  57.435   20.808   7.276        0          1            0   \n",
       "1556   57.750  64.365    7.072  14.688        0          1            0   \n",
       "1557   41.265  41.265   53.584  53.584        9          1            0   \n",
       "1558   41.265  27.510   53.584  57.460       21          1            0   \n",
       "1559   27.510  31.395   57.460  64.260        0          1            0   \n",
       "\n",
       "      action_id  \n",
       "0             0  \n",
       "1             1  \n",
       "2             2  \n",
       "3             3  \n",
       "4             4  \n",
       "...         ...  \n",
       "1555       1555  \n",
       "1556       1556  \n",
       "1557       1557  \n",
       "1558       1558  \n",
       "1559       1559  \n",
       "\n",
       "[602717 rows x 14 columns]"
      ]
     },
     "execution_count": 10,
     "metadata": {},
     "output_type": "execute_result"
    }
   ],
   "source": [
    "actions_ltr"
   ]
  },
  {
   "cell_type": "code",
   "execution_count": 15,
   "metadata": {},
   "outputs": [
    {
     "name": "stdout",
     "output_type": "stream",
     "text": [
      "# iterations:  33\n"
     ]
    },
    {
     "data": {
      "text/plain": [
       "<socceraction.xthreat.ExpectedThreat at 0x7f0b82204d90>"
      ]
     },
     "execution_count": 15,
     "metadata": {},
     "output_type": "execute_result"
    }
   ],
   "source": [
    "# 3. Train xT model\n",
    "xTModel = xthreat.ExpectedThreat(l=32, w=24)\n",
    "xTModel.fit(actions_ltr)"
   ]
  },
  {
   "cell_type": "code",
   "execution_count": 16,
   "metadata": {},
   "outputs": [
    {
     "data": {
      "image/png": "[encoded data removed]",
      "text/plain": [
       "<Figure size 640x480 with 2 Axes>"
      ]
     },
     "metadata": {},
     "output_type": "display_data"
    },
    {
     "data": {
      "image/png": "[encoded data removed]",
      "text/plain": [
       "<Figure size 640x480 with 2 Axes>"
      ]
     },
     "metadata": {},
     "output_type": "display_data"
    },
    {
     "data": {
      "text/plain": [
       "<AxesSubplot:>"
      ]
     },
     "execution_count": 16,
     "metadata": {},
     "output_type": "execute_result"
    }
   ],
   "source": [
    "import matplotsoccer as mps\n",
    "\n",
    "# Inspect the learned heatmap\n",
    "mps.heatmap(xTModel.xT, cmap=\"hot\", linecolor=\"white\", cbar=\"True\")\n",
    "\n",
    "# Inspect the interpolated heatmap used for predictions\n",
    "interp = xTModel.interpolator()\n",
    "x = np.linspace(0, 105, 1050)\n",
    "y = np.linspace(0, 68, 680)\n",
    "mps.heatmap(interp(x,y), cmap=\"hot\", linecolor=\"white\", cbar=\"True\")"
   ]
  },
  {
   "cell_type": "code",
   "execution_count": 23,
   "metadata": {},
   "outputs": [],
   "source": [
    "xTModel.save_model(\"/home/morten/Develop/packing-report/xT-impact/models/xT_test\")"
   ]
  },
  {
   "cell_type": "code",
   "execution_count": null,
   "metadata": {},
   "outputs": [],
   "source": []
  }
 ],
 "metadata": {
  "kernelspec": {
   "display_name": "Python 3.10.4 ('packing-report')",
   "language": "python",
   "name": "python3"
  },
  "language_info": {
   "codemirror_mode": {
    "name": "ipython",
    "version": 3
   },
   "file_extension": ".py",
   "mimetype": "text/x-python",
   "name": "python",
   "nbconvert_exporter": "python",
   "pygments_lexer": "ipython3",
   "version": "3.10.4"
  },
  "orig_nbformat": 4,
  "vscode": {
   "interpreter": {
    "hash": "712082fa5832080cfbc451c8f4e95f25cd39c626d7d8aebf8310513402cfb031"
   }
  }
 },
 "nbformat": 4,
 "nbformat_minor": 2
}
