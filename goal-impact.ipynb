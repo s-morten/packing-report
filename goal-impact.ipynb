{
 "cells": [
  {
   "cell_type": "markdown",
   "metadata": {},
   "source": [
    "Example / Test Main"
   ]
  },
  {
   "cell_type": "code",
   "execution_count": 2,
   "metadata": {},
   "outputs": [],
   "source": [
    "%reload_ext autoreload\n",
    "%autoreload 2"
   ]
  },
  {
   "cell_type": "code",
   "execution_count": 3,
   "metadata": {},
   "outputs": [],
   "source": [
    "import soccerdata as sd\n",
    "from pathlib import PosixPath\n",
    "import pandas as pd\n",
    "import numpy as np\n",
    "\n",
    "import os\n",
    "import cProfile\n",
    "from tqdm import tqdm"
   ]
  },
  {
   "cell_type": "code",
   "execution_count": 4,
   "metadata": {},
   "outputs": [],
   "source": [
    "import toml\n",
    "\n",
    "\n",
    "conf = toml.load(\"gde/config.toml\")"
   ]
  },
  {
   "cell_type": "code",
   "execution_count": 5,
   "metadata": {},
   "outputs": [
    {
     "data": {
      "text/plain": [
       "{'whoscored': {'leagues': ['GER-Bundesliga2',\n",
       "   'GER-Bundesliga',\n",
       "   'ENG-Premier League'],\n",
       "  'seasons': [16, 17, 18, 19, 20, 21, 22]},\n",
       " 'training': {'version': 0.09}}"
      ]
     },
     "execution_count": 5,
     "metadata": {},
     "output_type": "execute_result"
    }
   ],
   "source": [
    "conf"
   ]
  },
  {
   "cell_type": "code",
   "execution_count": 6,
   "metadata": {},
   "outputs": [
    {
     "data": {
      "text/html": [
       "<pre style=\"white-space:pre;overflow-x:auto;line-height:normal;font-family:Menlo,'DejaVu Sans Mono',consolas,'Courier New',monospace\"><span style=\"color: #7fbfbf; text-decoration-color: #7fbfbf\">[05/05/24 10:25:27] </span><span style=\"color: #000080; text-decoration-color: #000080\">INFO    </span> patching driver executable                                              <a href=\"file:///home/morten/.conda/envs/packing-report/lib/python3.10/site-packages/undetected_chromedriver/patcher.py\" target=\"_blank\"><span style=\"color: #7f7f7f; text-decoration-color: #7f7f7f\">patcher.py</span></a><span style=\"color: #7f7f7f; text-decoration-color: #7f7f7f\">:</span><a href=\"file:///home/morten/.conda/envs/packing-report/lib/python3.10/site-packages/undetected_chromedriver/patcher.py#346\" target=\"_blank\"><span style=\"color: #7f7f7f; text-decoration-color: #7f7f7f\">346</span></a>\n",
       "<span style=\"color: #7fbfbf; text-decoration-color: #7fbfbf\">                    </span>         <span style=\"color: #800080; text-decoration-color: #800080\">/home/morten/.local/share/undetected_chromedriver/</span><span style=\"color: #ff00ff; text-decoration-color: #ff00ff\">undetected_chromedriv</span> <span style=\"color: #7f7f7f; text-decoration-color: #7f7f7f\">              </span>\n",
       "<span style=\"color: #7fbfbf; text-decoration-color: #7fbfbf\">                    </span>         <span style=\"color: #ff00ff; text-decoration-color: #ff00ff\">er</span>                                                                      <span style=\"color: #7f7f7f; text-decoration-color: #7f7f7f\">              </span>\n",
       "</pre>\n"
      ],
      "text/plain": [
       "\u001b[2;36m[05/05/24 10:25:27]\u001b[0m\u001b[2;36m \u001b[0m\u001b[34mINFO    \u001b[0m patching driver executable                                              \u001b]8;id=885443;file:///home/morten/.conda/envs/packing-report/lib/python3.10/site-packages/undetected_chromedriver/patcher.py\u001b\\\u001b[2mpatcher.py\u001b[0m\u001b]8;;\u001b\\\u001b[2m:\u001b[0m\u001b]8;id=19850;file:///home/morten/.conda/envs/packing-report/lib/python3.10/site-packages/undetected_chromedriver/patcher.py#346\u001b\\\u001b[2m346\u001b[0m\u001b]8;;\u001b\\\n",
       "\u001b[2;36m                    \u001b[0m         \u001b[35m/home/morten/.local/share/undetected_chromedriver/\u001b[0m\u001b[95mundetected_chromedriv\u001b[0m \u001b[2m              \u001b[0m\n",
       "\u001b[2;36m                    \u001b[0m         \u001b[95mer\u001b[0m                                                                      \u001b[2m              \u001b[0m\n"
      ]
     },
     "metadata": {},
     "output_type": "display_data"
    }
   ],
   "source": [
    "ws = sd.WhoScored(\n",
    "    #  \n",
    "    leagues=[\"GER-Bundesliga\", \"GER-Bundesliga2\", \"ENG-Premier League\"],\n",
    "    seasons=[16, 17, 18, 19, 20, 21],\n",
    "    # leagues=[\"GER-Bundesliga\"],\n",
    "    # seasons=[21],\n",
    "    no_cache=False,\n",
    "    no_store=False,\n",
    "    data_dir=PosixPath(\"/home/morten/Develop/Open-Data/soccerdata\"),\n",
    "    path_to_browser=\"/usr/bin/chromium\",\n",
    "    headless=False,\n",
    ")"
   ]
  },
  {
   "cell_type": "code",
   "execution_count": 7,
   "metadata": {},
   "outputs": [],
   "source": [
    "schedule = ws.read_schedule().reset_index()\n",
    "test_game = schedule[\"game_id\"].values[0]\n",
    "test_date = schedule[schedule[\"game_id\"] == test_game][\"date\"].values[0]"
   ]
  },
  {
   "cell_type": "code",
   "execution_count": 8,
   "metadata": {},
   "outputs": [],
   "source": [
    "schedule = schedule.sort_values(\"date\")"
   ]
  },
  {
   "cell_type": "code",
   "execution_count": 9,
   "metadata": {},
   "outputs": [
    {
     "data": {
      "text/html": [
       "<div>\n",
       "<style scoped>\n",
       "    .dataframe tbody tr th:only-of-type {\n",
       "        vertical-align: middle;\n",
       "    }\n",
       "\n",
       "    .dataframe tbody tr th {\n",
       "        vertical-align: top;\n",
       "    }\n",
       "\n",
       "    .dataframe thead th {\n",
       "        text-align: right;\n",
       "    }\n",
       "</style>\n",
       "<table border=\"1\" class=\"dataframe\">\n",
       "  <thead>\n",
       "    <tr style=\"text-align: right;\">\n",
       "      <th></th>\n",
       "      <th>league</th>\n",
       "      <th>season</th>\n",
       "      <th>game</th>\n",
       "      <th>date</th>\n",
       "      <th>home_team</th>\n",
       "      <th>away_team</th>\n",
       "      <th>game_id</th>\n",
       "      <th>url</th>\n",
       "      <th>stage</th>\n",
       "    </tr>\n",
       "  </thead>\n",
       "  <tbody>\n",
       "    <tr>\n",
       "      <th>4116</th>\n",
       "      <td>GER-Bundesliga2</td>\n",
       "      <td>1617</td>\n",
       "      <td>2016-08-05 Kaiserslautern-Hannover</td>\n",
       "      <td>2016-08-05 19:30:00</td>\n",
       "      <td>Kaiserslautern</td>\n",
       "      <td>Hannover</td>\n",
       "      <td>1090815</td>\n",
       "      <td>https://www.whoscored.com/Matches/1090815/Live...</td>\n",
       "      <td>NaN</td>\n",
       "    </tr>\n",
       "    <tr>\n",
       "      <th>4117</th>\n",
       "      <td>GER-Bundesliga2</td>\n",
       "      <td>1617</td>\n",
       "      <td>2016-08-06 Bochum-Union Berlin</td>\n",
       "      <td>2016-08-06 12:00:00</td>\n",
       "      <td>Bochum</td>\n",
       "      <td>Union Berlin</td>\n",
       "      <td>1090817</td>\n",
       "      <td>https://www.whoscored.com/Matches/1090817/Live...</td>\n",
       "      <td>NaN</td>\n",
       "    </tr>\n",
       "    <tr>\n",
       "      <th>4119</th>\n",
       "      <td>GER-Bundesliga2</td>\n",
       "      <td>1617</td>\n",
       "      <td>2016-08-06 Sandhausen-Fortuna Duesseldorf</td>\n",
       "      <td>2016-08-06 14:30:00</td>\n",
       "      <td>Sandhausen</td>\n",
       "      <td>Fortuna Duesseldorf</td>\n",
       "      <td>1090822</td>\n",
       "      <td>https://www.whoscored.com/Matches/1090822/Live...</td>\n",
       "      <td>NaN</td>\n",
       "    </tr>\n",
       "    <tr>\n",
       "      <th>4118</th>\n",
       "      <td>GER-Bundesliga2</td>\n",
       "      <td>1617</td>\n",
       "      <td>2016-08-06 Dynamo Dresden-Nuernberg</td>\n",
       "      <td>2016-08-06 14:30:00</td>\n",
       "      <td>Dynamo Dresden</td>\n",
       "      <td>Nuernberg</td>\n",
       "      <td>1090823</td>\n",
       "      <td>https://www.whoscored.com/Matches/1090823/Live...</td>\n",
       "      <td>NaN</td>\n",
       "    </tr>\n",
       "    <tr>\n",
       "      <th>4123</th>\n",
       "      <td>GER-Bundesliga2</td>\n",
       "      <td>1617</td>\n",
       "      <td>2016-08-07 Greuther Fuerth-1860 Munich</td>\n",
       "      <td>2016-08-07 12:30:00</td>\n",
       "      <td>Greuther Fuerth</td>\n",
       "      <td>1860 Munich</td>\n",
       "      <td>1090819</td>\n",
       "      <td>https://www.whoscored.com/Matches/1090819/Live...</td>\n",
       "      <td>NaN</td>\n",
       "    </tr>\n",
       "    <tr>\n",
       "      <th>...</th>\n",
       "      <td>...</td>\n",
       "      <td>...</td>\n",
       "      <td>...</td>\n",
       "      <td>...</td>\n",
       "      <td>...</td>\n",
       "      <td>...</td>\n",
       "      <td>...</td>\n",
       "      <td>...</td>\n",
       "      <td>...</td>\n",
       "    </tr>\n",
       "    <tr>\n",
       "      <th>2272</th>\n",
       "      <td>ENG-Premier League</td>\n",
       "      <td>2122</td>\n",
       "      <td>2022-05-22 Brighton-West Ham</td>\n",
       "      <td>2022-05-22 16:00:00</td>\n",
       "      <td>Brighton</td>\n",
       "      <td>West Ham</td>\n",
       "      <td>1549911</td>\n",
       "      <td>https://www.whoscored.com/Matches/1549911/Live...</td>\n",
       "      <td>NaN</td>\n",
       "    </tr>\n",
       "    <tr>\n",
       "      <th>2275</th>\n",
       "      <td>ENG-Premier League</td>\n",
       "      <td>2122</td>\n",
       "      <td>2022-05-22 Crystal Palace-Man Utd</td>\n",
       "      <td>2022-05-22 16:00:00</td>\n",
       "      <td>Crystal Palace</td>\n",
       "      <td>Man Utd</td>\n",
       "      <td>1549914</td>\n",
       "      <td>https://www.whoscored.com/Matches/1549914/Live...</td>\n",
       "      <td>NaN</td>\n",
       "    </tr>\n",
       "    <tr>\n",
       "      <th>2270</th>\n",
       "      <td>ENG-Premier League</td>\n",
       "      <td>2122</td>\n",
       "      <td>2022-05-22 Arsenal-Everton</td>\n",
       "      <td>2022-05-22 16:00:00</td>\n",
       "      <td>Arsenal</td>\n",
       "      <td>Everton</td>\n",
       "      <td>1549909</td>\n",
       "      <td>https://www.whoscored.com/Matches/1549909/Live...</td>\n",
       "      <td>NaN</td>\n",
       "    </tr>\n",
       "    <tr>\n",
       "      <th>2273</th>\n",
       "      <td>ENG-Premier League</td>\n",
       "      <td>2122</td>\n",
       "      <td>2022-05-22 Burnley-Newcastle</td>\n",
       "      <td>2022-05-22 16:00:00</td>\n",
       "      <td>Burnley</td>\n",
       "      <td>Newcastle</td>\n",
       "      <td>1549912</td>\n",
       "      <td>https://www.whoscored.com/Matches/1549912/Live...</td>\n",
       "      <td>NaN</td>\n",
       "    </tr>\n",
       "    <tr>\n",
       "      <th>2276</th>\n",
       "      <td>ENG-Premier League</td>\n",
       "      <td>2122</td>\n",
       "      <td>2022-05-22 Leicester-Southampton</td>\n",
       "      <td>2022-05-22 16:00:00</td>\n",
       "      <td>Leicester</td>\n",
       "      <td>Southampton</td>\n",
       "      <td>1549915</td>\n",
       "      <td>https://www.whoscored.com/Matches/1549915/Live...</td>\n",
       "      <td>NaN</td>\n",
       "    </tr>\n",
       "  </tbody>\n",
       "</table>\n",
       "<p>5952 rows × 9 columns</p>\n",
       "</div>"
      ],
      "text/plain": [
       "                  league  season                                       game  \\\n",
       "4116     GER-Bundesliga2    1617         2016-08-05 Kaiserslautern-Hannover   \n",
       "4117     GER-Bundesliga2    1617             2016-08-06 Bochum-Union Berlin   \n",
       "4119     GER-Bundesliga2    1617  2016-08-06 Sandhausen-Fortuna Duesseldorf   \n",
       "4118     GER-Bundesliga2    1617        2016-08-06 Dynamo Dresden-Nuernberg   \n",
       "4123     GER-Bundesliga2    1617     2016-08-07 Greuther Fuerth-1860 Munich   \n",
       "...                  ...     ...                                        ...   \n",
       "2272  ENG-Premier League    2122               2022-05-22 Brighton-West Ham   \n",
       "2275  ENG-Premier League    2122          2022-05-22 Crystal Palace-Man Utd   \n",
       "2270  ENG-Premier League    2122                 2022-05-22 Arsenal-Everton   \n",
       "2273  ENG-Premier League    2122               2022-05-22 Burnley-Newcastle   \n",
       "2276  ENG-Premier League    2122           2022-05-22 Leicester-Southampton   \n",
       "\n",
       "                    date        home_team            away_team  game_id  \\\n",
       "4116 2016-08-05 19:30:00   Kaiserslautern             Hannover  1090815   \n",
       "4117 2016-08-06 12:00:00           Bochum         Union Berlin  1090817   \n",
       "4119 2016-08-06 14:30:00       Sandhausen  Fortuna Duesseldorf  1090822   \n",
       "4118 2016-08-06 14:30:00   Dynamo Dresden            Nuernberg  1090823   \n",
       "4123 2016-08-07 12:30:00  Greuther Fuerth          1860 Munich  1090819   \n",
       "...                  ...              ...                  ...      ...   \n",
       "2272 2022-05-22 16:00:00         Brighton             West Ham  1549911   \n",
       "2275 2022-05-22 16:00:00   Crystal Palace              Man Utd  1549914   \n",
       "2270 2022-05-22 16:00:00          Arsenal              Everton  1549909   \n",
       "2273 2022-05-22 16:00:00          Burnley            Newcastle  1549912   \n",
       "2276 2022-05-22 16:00:00        Leicester          Southampton  1549915   \n",
       "\n",
       "                                                    url  stage  \n",
       "4116  https://www.whoscored.com/Matches/1090815/Live...    NaN  \n",
       "4117  https://www.whoscored.com/Matches/1090817/Live...    NaN  \n",
       "4119  https://www.whoscored.com/Matches/1090822/Live...    NaN  \n",
       "4118  https://www.whoscored.com/Matches/1090823/Live...    NaN  \n",
       "4123  https://www.whoscored.com/Matches/1090819/Live...    NaN  \n",
       "...                                                 ...    ...  \n",
       "2272  https://www.whoscored.com/Matches/1549911/Live...    NaN  \n",
       "2275  https://www.whoscored.com/Matches/1549914/Live...    NaN  \n",
       "2270  https://www.whoscored.com/Matches/1549909/Live...    NaN  \n",
       "2273  https://www.whoscored.com/Matches/1549912/Live...    NaN  \n",
       "2276  https://www.whoscored.com/Matches/1549915/Live...    NaN  \n",
       "\n",
       "[5952 rows x 9 columns]"
      ]
     },
     "execution_count": 9,
     "metadata": {},
     "output_type": "execute_result"
    }
   ],
   "source": [
    "schedule"
   ]
  },
  {
   "cell_type": "code",
   "execution_count": 10,
   "metadata": {},
   "outputs": [],
   "source": [
    "from gde_utils.date_utils import to_datetime\n",
    "from gde.database_io.db_handler import DB_handler\n",
    "from game.game_timeline import GameTimeline"
   ]
  },
  {
   "cell_type": "code",
   "execution_count": 12,
   "metadata": {},
   "outputs": [],
   "source": [
    "import logging\n",
    "logger = logging.getLogger()\n",
    "logger.disabled = True\n",
    "dbh = DB_handler(\"/home/morten/Develop/packing-report/gde/GDE.db\")\n",
    "schedule = ws.read_schedule().reset_index()\n",
    "schedule = schedule.sort_values(\"date\")\n",
    "for league, game, date, home in zip(schedule[\"league\"].values, schedule[\"game_id\"].values, schedule[\"date\"].values, schedule[\"home_team\"].values):\n",
    "    date = to_datetime(date)\n",
    "    game_timeline = GameTimeline(ws, game, date, league, dbh, 0.2, home)\n",
    "    game_timeline.handle()"
   ]
  },
  {
   "cell_type": "markdown",
   "metadata": {},
   "source": [
    "___"
   ]
  },
  {
   "cell_type": "code",
   "execution_count": null,
   "metadata": {},
   "outputs": [],
   "source": []
  }
 ],
 "metadata": {
  "kernelspec": {
   "display_name": "packing-report",
   "language": "python",
   "name": "python3"
  },
  "language_info": {
   "codemirror_mode": {
    "name": "ipython",
    "version": 3
   },
   "file_extension": ".py",
   "mimetype": "text/x-python",
   "name": "python",
   "nbconvert_exporter": "python",
   "pygments_lexer": "ipython3",
   "version": "3.10.4"
  },
  "orig_nbformat": 4
 },
 "nbformat": 4,
 "nbformat_minor": 2
}
