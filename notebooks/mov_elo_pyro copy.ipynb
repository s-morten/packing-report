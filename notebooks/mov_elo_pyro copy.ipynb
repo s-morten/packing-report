{
 "cells": [
  {
   "cell_type": "code",
   "execution_count": null,
   "metadata": {},
   "outputs": [],
   "source": [
    "%reload_ext autoreload\n",
    "%autoreload 2"
   ]
  },
  {
   "cell_type": "code",
   "execution_count": null,
   "metadata": {},
   "outputs": [],
   "source": [
    "from database_io.db_handler import DB_handler\n",
    "import pymc as pm\n",
    "import numpy as np\n",
    "import pandas as pd\n",
    "\n",
    "import plotly.express as px"
   ]
  },
  {
   "cell_type": "code",
   "execution_count": null,
   "metadata": {},
   "outputs": [],
   "source": [
    "db = DB_handler()"
   ]
  },
  {
   "cell_type": "code",
   "execution_count": null,
   "metadata": {},
   "outputs": [],
   "source": [
    "games = db.games.get_all_games(0.1)"
   ]
  },
  {
   "cell_type": "code",
   "execution_count": null,
   "metadata": {},
   "outputs": [],
   "source": [
    "# games[\"minutes_missed\"] = (90 - games[\"minutes\"]).clip(lower=0)\n",
    "games[\"elo_diff\"] = games[\"elo\"] - games[\"opposition_elo\"]\n",
    "games[\"goal_diff\"] = games[\"result\"].apply(lambda x: int(x.split(\"-\")[0]) - int(x.split(\"-\")[1]))\n",
    "games[\"goal_home\"] = games[\"result\"].apply(lambda x: int(x.split(\"-\")[0]))\n",
    "games[\"goal_away\"] = games[\"result\"].apply(lambda x: int(x.split(\"-\")[1]))\n"
   ]
  },
  {
   "cell_type": "code",
   "execution_count": null,
   "metadata": {},
   "outputs": [],
   "source": [
    "games"
   ]
  },
  {
   "cell_type": "code",
   "execution_count": null,
   "metadata": {},
   "outputs": [],
   "source": [
    "# games[\"elo_diff\"] = games[\"elo_diff\"] / (elo_std:=max(games[\"elo_diff\"].max(), abs(games[\"elo_diff\"].min())))\n",
    "# games[\"goal_diff\"] = games[\"goal_diff\"] / (goal_std:=max(games[\"goal_diff\"].max(), abs(games[\"goal_diff\"].min())))\n",
    "games[\"minutes_missed\"] = (games[\"game_minutes\"] - games[\"minutes\"]).clip(lower=0)\n",
    "\n",
    "# games[\"minutes_missed\"] = games[\"minutes_missed\"] / (min_std:=games[\"minutes_missed\"].max())"
   ]
  },
  {
   "cell_type": "code",
   "execution_count": null,
   "metadata": {},
   "outputs": [],
   "source": [
    "games_all = games.copy()"
   ]
  },
  {
   "cell_type": "code",
   "execution_count": null,
   "metadata": {},
   "outputs": [],
   "source": [
    "games = games.tail(30_000)"
   ]
  },
  {
   "cell_type": "code",
   "execution_count": null,
   "metadata": {},
   "outputs": [],
   "source": [
    "from ngboost import NGBRegressor\n",
    "from sklearn.model_selection import train_test_split\n",
    "from sklearn.metrics import mean_squared_error\n",
    "\n",
    "\n",
    "X_train, X_test, Y_train, Y_test = train_test_split(games[[\"home\", \"elo_diff\", \"minutes_missed\"]], games[\"goal_diff\"].values, test_size=0.2)\n",
    "\n",
    "ngb = NGBRegressor().fit(X_train, Y_train, X_test, Y_test)\n",
    "Y_preds = ngb.predict(X_test)\n",
    "Y_dists = ngb.pred_dist(X_test)\n",
    "\n",
    "test_MSE = mean_squared_error(Y_preds, Y_test)\n",
    "print('Test MSE', test_MSE)\n",
    "\n",
    "# test Negative Log Likelihood\n",
    "test_NLL = -Y_dists.logpdf(Y_test).mean()\n",
    "print('Test NLL', test_NLL)"
   ]
  },
  {
   "cell_type": "code",
   "execution_count": null,
   "metadata": {},
   "outputs": [],
   "source": [
    "dist = ngb.pred_dist([[0, 300, 10]])"
   ]
  },
  {
   "cell_type": "code",
   "execution_count": null,
   "metadata": {},
   "outputs": [],
   "source": [
    "dist.params"
   ]
  },
  {
   "cell_type": "code",
   "execution_count": null,
   "metadata": {},
   "outputs": [],
   "source": [
    "print(dist.ppf(0.25))\n",
    "print(dist.ppf(0.75))"
   ]
  },
  {
   "cell_type": "code",
   "execution_count": null,
   "metadata": {},
   "outputs": [],
   "source": [
    "import pickle\n",
    "from pathlib import Path\n",
    "\n",
    "file_path = '/home/morten/Develop/packing-report/metrics/mov_elo/ngb.pckl'\n",
    "\n",
    "with open(file_path, \"wb\") as f:\n",
    "    pickle.dump(ngb, f)\n"
   ]
  },
  {
   "cell_type": "code",
   "execution_count": null,
   "metadata": {},
   "outputs": [],
   "source": []
  }
 ],
 "metadata": {
  "kernelspec": {
   "display_name": "most_pymc",
   "language": "python",
   "name": "python3"
  },
  "language_info": {
   "codemirror_mode": {
    "name": "ipython",
    "version": 3
   },
   "file_extension": ".py",
   "mimetype": "text/x-python",
   "name": "python",
   "nbconvert_exporter": "python",
   "pygments_lexer": "ipython3",
   "version": "3.12.6"
  }
 },
 "nbformat": 4,
 "nbformat_minor": 2
}
