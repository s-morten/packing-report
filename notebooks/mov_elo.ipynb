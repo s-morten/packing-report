{
 "cells": [
  {
   "cell_type": "code",
   "execution_count": null,
   "metadata": {},
   "outputs": [],
   "source": [
    "%reload_ext autoreload\n",
    "%autoreload 2"
   ]
  },
  {
   "cell_type": "code",
   "execution_count": null,
   "metadata": {},
   "outputs": [],
   "source": [
    "from database_io.db_handler import DB_handler\n",
    "import pymc as pm\n",
    "import numpy as np\n",
    "import pandas as pd\n",
    "\n",
    "import plotly.express as px"
   ]
  },
  {
   "cell_type": "code",
   "execution_count": null,
   "metadata": {},
   "outputs": [],
   "source": [
    "db = DB_handler()"
   ]
  },
  {
   "cell_type": "code",
   "execution_count": null,
   "metadata": {},
   "outputs": [],
   "source": [
    "games = db.games.get_all_games(0.1)"
   ]
  },
  {
   "cell_type": "code",
   "execution_count": null,
   "metadata": {},
   "outputs": [],
   "source": [
    "# games[\"minutes_missed\"] = (90 - games[\"minutes\"]).clip(lower=0)\n",
    "games[\"elo_diff\"] = games[\"elo\"] - games[\"opposition_elo\"]\n",
    "games[\"goal_diff\"] = games[\"result\"].apply(lambda x: int(x.split(\"-\")[0]) - int(x.split(\"-\")[1]))"
   ]
  },
  {
   "cell_type": "code",
   "execution_count": null,
   "metadata": {},
   "outputs": [],
   "source": [
    "games[\"elo_diff\"] = games[\"elo_diff\"] / (elo_std:=max(games[\"elo_diff\"].max(), abs(games[\"elo_diff\"].min())))\n",
    "# games[\"goal_diff\"] = games[\"goal_diff\"] / (goal_std:=max(games[\"goal_diff\"].max(), abs(games[\"goal_diff\"].min())))\n",
    "games[\"minutes_missed\"] = (games[\"game_minutes\"] - games[\"minutes\"]).clip(lower=0)\n",
    "\n",
    "# games[\"minutes_missed\"] = games[\"minutes_missed\"] / (min_std:=games[\"minutes_missed\"].max())"
   ]
  },
  {
   "cell_type": "code",
   "execution_count": null,
   "metadata": {},
   "outputs": [],
   "source": [
    "games[\"minutes_missed\"] = (games[\"minutes_missed\"] / (minutes_missed_std:=max(games[\"minutes_missed\"].max(), abs(games[\"minutes_missed\"].min()))))\n"
   ]
  },
  {
   "cell_type": "code",
   "execution_count": null,
   "metadata": {},
   "outputs": [],
   "source": [
    "games[\"minutes_missed_abs\"] = games[\"minutes_missed\"].abs()\n",
    "games[\"goal_diff_abs\"] = games[\"goal_diff\"].abs()"
   ]
  },
  {
   "cell_type": "code",
   "execution_count": null,
   "metadata": {},
   "outputs": [],
   "source": [
    "px.scatter(games, \"goal_diff_abs\", \"minutes_missed_abs\")"
   ]
  },
  {
   "cell_type": "code",
   "execution_count": null,
   "metadata": {},
   "outputs": [],
   "source": [
    "print(elo_std, minutes_missed_std)"
   ]
  },
  {
   "cell_type": "code",
   "execution_count": null,
   "metadata": {},
   "outputs": [],
   "source": [
    "games"
   ]
  },
  {
   "cell_type": "code",
   "execution_count": null,
   "metadata": {},
   "outputs": [],
   "source": [
    "with pm.Model() as MoV:\n",
    "    # mutable data\n",
    "    is_home = games[\"home\"].values\n",
    "    elo_diff = games[\"elo_diff\"].values\n",
    "    minutes_missed = games[\"minutes_missed\"].values\n",
    "    goal_diff = games[\"goal_diff\"].values\n",
    "\n",
    "    # pymc vars\n",
    "    home_advantage = pm.Normal(\"home_advantage\", mu = 0.3, sigma = 1)\n",
    "    elo_diff_coeff = pm.Normal(\"elo_diff_coeff\", mu = 1, sigma = 1)\n",
    "    minutes_missed_coeff = pm.Normal(\"minutes_missed_coeff\", mu = 1, sigma = 1)\n",
    "    mean_ = pm.Deterministic(\"mean_\", ((is_home * home_advantage) + (elo_diff * elo_diff_coeff)) * pm.math.abs(1 - (minutes_missed * minutes_missed_coeff))) # instead of abs -> if < 0 then 0 ?\n",
    "    var_ = pm.HalfNormal(\"var_\")\n",
    "    goal_diff = pm.Normal(\"goal_diff\", mean_, var_, observed=goal_diff)"
   ]
  },
  {
   "cell_type": "code",
   "execution_count": null,
   "metadata": {},
   "outputs": [],
   "source": [
    "with MoV:\n",
    "    trace = pm.sample(10000)"
   ]
  },
  {
   "cell_type": "code",
   "execution_count": null,
   "metadata": {},
   "outputs": [],
   "source": [
    "# (is_home * home_advantage) + (elo_diff * elo_diff_coeff) - (minutes_missed * minutes_missed_coeff))\n",
    "home_test = 0\n",
    "elo_diff_test = 70 / elo_std\n",
    "minutes_missed_test = 45 / minutes_missed_std\n",
    "\n",
    "(home_test * trace.posterior.home_advantage.values[0][0] + elo_diff_test * trace.posterior.elo_diff_coeff.values[0][0]) * abs(1 -  minutes_missed_test * trace.posterior.minutes_missed_coeff.values[0][0])"
   ]
  },
  {
   "cell_type": "code",
   "execution_count": null,
   "metadata": {},
   "outputs": [],
   "source": [
    "trace.to_netcdf(\"/home/morten/Develop/packing-report/metrics/mov_elo/mov_elo.nc\")"
   ]
  },
  {
   "cell_type": "code",
   "execution_count": null,
   "metadata": {},
   "outputs": [],
   "source": []
  }
 ],
 "metadata": {
  "kernelspec": {
   "display_name": "most_pymc",
   "language": "python",
   "name": "python3"
  },
  "language_info": {
   "codemirror_mode": {
    "name": "ipython",
    "version": 3
   },
   "file_extension": ".py",
   "mimetype": "text/x-python",
   "name": "python",
   "nbconvert_exporter": "python",
   "pygments_lexer": "ipython3",
   "version": "3.12.6"
  }
 },
 "nbformat": 4,
 "nbformat_minor": 2
}
