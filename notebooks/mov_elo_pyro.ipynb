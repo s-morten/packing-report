{
 "cells": [
  {
   "cell_type": "code",
   "execution_count": null,
   "metadata": {},
   "outputs": [],
   "source": [
    "%reload_ext autoreload\n",
    "%autoreload 2"
   ]
  },
  {
   "cell_type": "code",
   "execution_count": null,
   "metadata": {},
   "outputs": [],
   "source": [
    "from database_io.db_handler import DB_handler\n",
    "import pymc as pm\n",
    "import numpy as np\n",
    "import pandas as pd\n",
    "\n",
    "import plotly.express as px"
   ]
  },
  {
   "cell_type": "code",
   "execution_count": null,
   "metadata": {},
   "outputs": [],
   "source": [
    "db = DB_handler()"
   ]
  },
  {
   "cell_type": "code",
   "execution_count": null,
   "metadata": {},
   "outputs": [],
   "source": [
    "games = db.games.get_all_games(0.1)"
   ]
  },
  {
   "cell_type": "code",
   "execution_count": null,
   "metadata": {},
   "outputs": [],
   "source": [
    "# games[\"minutes_missed\"] = (90 - games[\"minutes\"]).clip(lower=0)\n",
    "games[\"elo_diff\"] = games[\"elo\"] - games[\"opposition_elo\"]\n",
    "games[\"goal_diff\"] = games[\"result\"].apply(lambda x: int(x.split(\"-\")[0]) - int(x.split(\"-\")[1]))\n",
    "games[\"goal_home\"] = games[\"result\"].apply(lambda x: int(x.split(\"-\")[0]))\n",
    "games[\"goal_away\"] = games[\"result\"].apply(lambda x: int(x.split(\"-\")[1]))\n"
   ]
  },
  {
   "cell_type": "code",
   "execution_count": null,
   "metadata": {},
   "outputs": [],
   "source": [
    "games[\"elo_diff\"] = games[\"elo_diff\"] / (elo_std:=max(games[\"elo_diff\"].max(), abs(games[\"elo_diff\"].min())))\n",
    "# games[\"goal_diff\"] = games[\"goal_diff\"] / (goal_std:=max(games[\"goal_diff\"].max(), abs(games[\"goal_diff\"].min())))\n",
    "games[\"minutes_missed\"] = (games[\"game_minutes\"] - games[\"minutes\"]).clip(lower=0)\n",
    "\n",
    "# games[\"minutes_missed\"] = games[\"minutes_missed\"] / (min_std:=games[\"minutes_missed\"].max())"
   ]
  },
  {
   "cell_type": "code",
   "execution_count": null,
   "metadata": {},
   "outputs": [],
   "source": [
    "games[\"minutes_missed\"] = (games[\"minutes_missed\"] / (minutes_missed_std:=max(games[\"minutes_missed\"].max(), abs(games[\"minutes_missed\"].min()))))\n"
   ]
  },
  {
   "cell_type": "code",
   "execution_count": null,
   "metadata": {},
   "outputs": [],
   "source": [
    "games[\"minutes_missed_abs\"] = games[\"minutes_missed\"].abs()\n",
    "games[\"goal_diff_abs\"] = games[\"goal_diff\"].abs()"
   ]
  },
  {
   "cell_type": "code",
   "execution_count": null,
   "metadata": {},
   "outputs": [],
   "source": [
    "print(elo_std, minutes_missed_std)"
   ]
  },
  {
   "cell_type": "code",
   "execution_count": null,
   "metadata": {},
   "outputs": [],
   "source": [
    "games"
   ]
  },
  {
   "cell_type": "code",
   "execution_count": null,
   "metadata": {},
   "outputs": [],
   "source": [
    "import pyro\n",
    "import pyro.distributions as dist\n",
    "import pyro.infer as infer\n",
    "import pyro.optim as optim\n",
    "import torch"
   ]
  },
  {
   "cell_type": "code",
   "execution_count": null,
   "metadata": {},
   "outputs": [],
   "source": [
    "df = games[[\"home\", \"elo_diff\", \"minutes_missed\", \"goal_diff\", \"goal_home\", \"goal_away\"]]\n",
    "train = torch.tensor(df.values, dtype=torch.float)\n",
    "home, elo_diff, minutes_missed, goal_diff, goal_home, goal_away = train[:, 0], train[:, 1], train[:, 2], train[:, 3], train[:, 4], train[:, 5]"
   ]
  },
  {
   "cell_type": "code",
   "execution_count": null,
   "metadata": {},
   "outputs": [],
   "source": [
    "import math\n",
    "\n",
    "def model(is_home, elo_diff, minutes_missed, goal_home = None, goal_away = None):\n",
    "    home_advantage = pyro.sample(\"home_advantage\", dist.Normal(0.3, 1.))\n",
    "    elo_diff_coeff_home = pyro.sample(\"elo_diff_coeff_home\", dist.Normal(1., 1.))\n",
    "    elo_diff_coeff_away = pyro.sample(\"elo_diff_coeff_away\", dist.Normal(1., 1.))\n",
    "    minutes_missed_coeff = pyro.sample(\"minutes_missed_coeff\", dist.Normal(1., 1.))\n",
    "    #b_ar = pyro.sample(\"bAR\", dist.Normal(0., 1.))\n",
    "    sigma = pyro.sample(\"sigma\", dist.HalfNormal(0.1))\n",
    "\n",
    "    mean_home = ((is_home * home_advantage) + (elo_diff * elo_diff_coeff_home)) * torch.abs(1 - (minutes_missed * minutes_missed_coeff))\n",
    "    mean_away = (((-1 * elo_diff) * elo_diff_coeff_away)) * torch.abs(1 - (minutes_missed * minutes_missed_coeff))\n",
    "\n",
    "    mean_home = torch.exp(mean_home)\n",
    "    mean_away = torch.exp(mean_away)\n",
    "\n",
    "    with pyro.plate(\"data\", len(mean_home)):\n",
    "        home = pyro.sample(\"home\", dist.Poisson(mean_home), obs=goal_home)\n",
    "#with pyro.plate(\"data\", len(mean_away)):\n",
    "        away = pyro.sample(\"away\", dist.Poisson(mean_away), obs=goal_away)\n",
    "\n",
    "    # with pyro.plate(\"data\", len(home)):\n",
    "    #     return pyro.sample(\"obs\", dist.Delta(home - away))\n",
    "        return pyro.sample(\"obs\", dist.Delta(home - away))\n",
    "\n",
    "pyro.render_model(model, model_args=(home,\n",
    "                                     elo_diff, \n",
    "                                     minutes_missed, \n",
    "                                     goal_home, \n",
    "                                     goal_away), render_distributions=True)"
   ]
  },
  {
   "cell_type": "code",
   "execution_count": null,
   "metadata": {},
   "outputs": [],
   "source": [
    "auto_guide = pyro.infer.autoguide.AutoNormal(model)\n",
    "adam = pyro.optim.Adam({\"lr\": 0.02})\n",
    "elbo = pyro.infer.Trace_ELBO()\n",
    "svi = pyro.infer.SVI(model, auto_guide, adam, elbo)"
   ]
  },
  {
   "cell_type": "code",
   "execution_count": null,
   "metadata": {},
   "outputs": [],
   "source": [
    "import matplotlib.pyplot as plt"
   ]
  },
  {
   "cell_type": "code",
   "execution_count": null,
   "metadata": {},
   "outputs": [],
   "source": [
    "%%time\n",
    "pyro.clear_param_store()\n",
    "\n",
    "# These should be reset each training loop.\n",
    "auto_guide = pyro.infer.autoguide.AutoNormal(model)\n",
    "adam = pyro.optim.Adam({\"lr\": 0.02})  # Consider decreasing learning rate.\n",
    "elbo = pyro.infer.Trace_ELBO()\n",
    "svi = pyro.infer.SVI(model, auto_guide, adam, elbo)\n",
    "\n",
    "losses = []\n",
    "for step in range(1000):  # Consider running for more steps.\n",
    "    loss = svi.step(home, elo_diff, minutes_missed, goal_home, goal_away)\n",
    "    losses.append(loss)\n",
    "    if step % 100 == 0:\n",
    "        print(\"Elbo loss: {}\".format(loss))\n",
    "\n",
    "plt.figure(figsize=(5, 2))\n",
    "plt.plot(losses)\n",
    "plt.xlabel(\"SVI step\")\n",
    "plt.ylabel(\"ELBO loss\");"
   ]
  },
  {
   "cell_type": "code",
   "execution_count": null,
   "metadata": {},
   "outputs": [],
   "source": [
    "predictive = pyro.infer.Predictive(model, guide=auto_guide, num_samples=800)\n",
    "svi_samples = predictive(home, elo_diff, minutes_missed,  goal_diff=None)\n",
    "svi_goal_diff = svi_samples[\"obs\"]"
   ]
  },
  {
   "cell_type": "code",
   "execution_count": null,
   "metadata": {},
   "outputs": [],
   "source": [
    "predictions = pd.DataFrame({\n",
    "    \"home\": home,\n",
    "    \"elo_diff\": elo_diff,\n",
    "    \"minutes_missed\": minutes_missed, \n",
    "    \"y_mean\": svi_goal_diff.mean(0).detach().cpu().numpy(),\n",
    "    \"y_perc_5\": svi_goal_diff.kthvalue(int(len(svi_goal_diff) * 0.2), dim=0)[0].detach().cpu().numpy(),\n",
    "    \"y_perc_95\": svi_goal_diff.kthvalue(int(len(svi_goal_diff) * 0.8), dim=0)[0].detach().cpu().numpy(),\n",
    "    \"goal_diff\": goal_diff,\n",
    "})\n",
    "\n",
    "predictions = predictions.sample(100)\n",
    "\n",
    "home_teams = predictions[predictions[\"home\"] == 1].sort_values(by=[\"elo_diff\"])\n",
    "away_teams = predictions[predictions[\"home\"] == 0].sort_values(by=[\"elo_diff\"])\n",
    "\n",
    "fig, ax = plt.subplots(nrows=1, ncols=2, figsize=(12, 6), sharey=True)\n",
    "fig.suptitle(\"Posterior predictive distribution with 80% CI\", fontsize=16)\n",
    "\n",
    "ax[0].plot(away_teams[\"elo_diff\"], away_teams[\"y_mean\"])\n",
    "ax[0].fill_between(away_teams[\"elo_diff\"], away_teams[\"y_perc_5\"], away_teams[\"y_perc_95\"], alpha=0.5)\n",
    "ax[0].plot(away_teams[\"elo_diff\"], away_teams[\"goal_diff\"], \"o\")\n",
    "ax[0].set(xlabel=\"Elo Diff\", ylabel=\"Goal Diff\", title=\"Away\")\n",
    "\n",
    "ax[1].plot(home_teams[\"elo_diff\"], home_teams[\"y_mean\"])\n",
    "ax[1].fill_between(home_teams[\"elo_diff\"], home_teams[\"y_perc_5\"], home_teams[\"y_perc_95\"], alpha=0.5)\n",
    "ax[1].plot(home_teams[\"elo_diff\"], home_teams[\"goal_diff\"], \"o\")\n",
    "ax[1].set(xlabel=\"Elo Diff\", ylabel=\"Goal Diff\", title=\"Home\");"
   ]
  },
  {
   "cell_type": "code",
   "execution_count": null,
   "metadata": {},
   "outputs": [],
   "source": []
  },
  {
   "cell_type": "code",
   "execution_count": null,
   "metadata": {},
   "outputs": [],
   "source": [
    "# (is_home * home_advantage) + (elo_diff * elo_diff_coeff) - (minutes_missed * minutes_missed_coeff))\n",
    "home_test = 0\n",
    "elo_diff_test = 70 / elo_std\n",
    "minutes_missed_test = 45 / minutes_missed_std\n",
    "\n",
    "(home_test * trace.posterior.home_advantage.values[0][0] + elo_diff_test * trace.posterior.elo_diff_coeff.values[0][0]) * abs(1 -  minutes_missed_test * trace.posterior.minutes_missed_coeff.values[0][0])"
   ]
  },
  {
   "cell_type": "code",
   "execution_count": null,
   "metadata": {},
   "outputs": [],
   "source": [
    "trace.to_netcdf(\"/home/morten/Develop/packing-report/metrics/mov_elo/mov_elo.nc\")"
   ]
  },
  {
   "cell_type": "code",
   "execution_count": null,
   "metadata": {},
   "outputs": [],
   "source": []
  }
 ],
 "metadata": {
  "kernelspec": {
   "display_name": "most_pymc",
   "language": "python",
   "name": "python3"
  },
  "language_info": {
   "codemirror_mode": {
    "name": "ipython",
    "version": 3
   },
   "file_extension": ".py",
   "mimetype": "text/x-python",
   "name": "python",
   "nbconvert_exporter": "python",
   "pygments_lexer": "ipython3",
   "version": "3.12.6"
  }
 },
 "nbformat": 4,
 "nbformat_minor": 2
}
