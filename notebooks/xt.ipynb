{
 "cells": [
  {
   "cell_type": "code",
   "execution_count": null,
   "id": "379bd333",
   "metadata": {},
   "outputs": [],
   "source": [
    "import socceraction as sa\n",
    "import soccerdata as sd\n",
    "from scraper.whoscored_chromeless import WhoScored\n",
    "from pathlib import PosixPath"
   ]
  },
  {
   "cell_type": "code",
   "execution_count": null,
   "id": "8bebf3f9",
   "metadata": {},
   "outputs": [],
   "source": [
    "# Setup a scraper for the 2021/2022 Premier League season\n",
    "ws = WhoScored(\n",
    "    leagues=[\"GER-Bundesliga\"], # \"GER-Bundesliga2\", \"ENG-Premier League\", \"ESP-La Liga\", \n",
    "    seasons=[18, 19, 20, 21, 22], # 15, 16, 17, 18, 19, 20, 21, 22, 23\n",
    "    #no_cache=False,\n",
    "    #no_store=False,\n",
    "    data_dir=PosixPath(\"/home/morten/Develop/Open-Data/soccerdata\"),\n",
    "    # path_to_browser=\"/usr/bin/chromium\",\n",
    "    #headless=True,\n",
    ")\n",
    "api = ws.read_events(output_fmt='loader')"
   ]
  },
  {
   "cell_type": "code",
   "execution_count": null,
   "id": "7a18d5c3",
   "metadata": {},
   "outputs": [],
   "source": [
    "import pandas as pd\n",
    "import numpy as np\n",
    "import matplotlib.pyplot as plt\n",
    "from soccerdata import WhoScored\n",
    "from socceraction import loader, spadl, xthreat\n",
    "\n",
    "\n",
    "# Step 2: Initialize Loader for SPADL conversion\n",
    "ldr = loader.Loader(api, provider=\"whoscored\")  # Use the unified Loader\n",
    "games = ldr.get_games()\n",
    "actions = ldr.get_actions()\n",
    "\n",
    "# Optional: filter to the relevant season\n",
    "# games = games[games.season_id == 2021]\n",
    "# actions = actions[actions.game_id.isin(games.game_id)]\n",
    "\n",
    "# Step 3: Train xT model\n",
    "filtered = actions[actions[\"type_name\"].isin([\"pass\", \"carry\", \"dribble\"])]\n",
    "xt_model = xthreat.train(filtered)\n",
    "\n",
    "# Step 4: Apply xT\n",
    "filtered[\"start_xT\"], filtered[\"end_xT\"], filtered[\"xT\"] = xthreat.predict(filtered, xt_model)\n",
    "\n",
    "# Step 5: Plot xT matrix\n",
    "xt_matrix = xt_model[\"xT\"]\n",
    "fig, ax = plt.subplots(figsize=(12, 8))\n",
    "im = ax.imshow(xt_matrix, cmap=\"plasma\", origin=\"lower\",\n",
    "               extent=[0,120,0,80], aspect=\"auto\")\n",
    "ax.set_title(\"Expected Threat (xT) Matrix – 2021/22 Premier League\", fontsize=16)\n",
    "ax.set_xlabel(\"Pitch X\"); ax.set_ylabel(\"Pitch Y\")\n",
    "cbar = plt.colorbar(im, ax=ax); cbar.set_label(\"xT value\")\n",
    "plt.show()\n"
   ]
  },
  {
   "cell_type": "code",
   "execution_count": null,
   "id": "caed2f23",
   "metadata": {},
   "outputs": [],
   "source": []
  }
 ],
 "metadata": {
  "kernelspec": {
   "display_name": "most_pymc",
   "language": "python",
   "name": "python3"
  },
  "language_info": {
   "codemirror_mode": {
    "name": "ipython",
    "version": 3
   },
   "file_extension": ".py",
   "mimetype": "text/x-python",
   "name": "python",
   "nbconvert_exporter": "python",
   "pygments_lexer": "ipython3",
   "version": "3.12.6"
  }
 },
 "nbformat": 4,
 "nbformat_minor": 5
}
