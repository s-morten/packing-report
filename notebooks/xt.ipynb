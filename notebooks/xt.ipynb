{
 "cells": [
  {
   "cell_type": "code",
   "execution_count": null,
   "id": "379bd333",
   "metadata": {},
   "outputs": [],
   "source": [
    "import socceraction as sa\n",
    "import soccerdata as sd\n",
    "from scraper.whoscored_chromeless import WhoScored\n",
    "from pathlib import PosixPath"
   ]
  },
  {
   "cell_type": "code",
   "execution_count": null,
   "id": "8bebf3f9",
   "metadata": {},
   "outputs": [],
   "source": [
    "# Setup a scraper for the 2021/2022 Premier League season\n",
    "ws = WhoScored(\n",
    "    leagues=[\"GER-Bundesliga\"], # \"GER-Bundesliga2\", \"ENG-Premier League\", \"ESP-La Liga\", \n",
    "    seasons=[21], # 15, 16, 17, 18, 19, 20, 21, 22, 23\n",
    "    #no_cache=False,\n",
    "    #no_store=False,\n",
    "    data_dir=PosixPath(\"/home/morten/Develop/Open-Data/soccerdata\"),\n",
    "    # path_to_browser=\"/usr/bin/chromium\",\n",
    "    #headless=True,\n",
    ")\n",
    "api = ws.read_events(output_fmt='spadl')"
   ]
  },
  {
   "cell_type": "code",
   "execution_count": null,
   "id": "cba6561b",
   "metadata": {},
   "outputs": [],
   "source": [
    "api"
   ]
  },
  {
   "cell_type": "code",
   "execution_count": null,
   "id": "d819b5c9",
   "metadata": {},
   "outputs": [],
   "source": [
    "games = ws.read_schedule()"
   ]
  },
  {
   "cell_type": "code",
   "execution_count": null,
   "id": "b7c9104d",
   "metadata": {},
   "outputs": [],
   "source": [
    "import pandas as pd\n",
    "import numpy as np\n",
    "import matplotlib.pyplot as plt\n",
    "from socceraction import spadl, xthreat\n",
    "events = []\n",
    "for g, h in zip(games.game_id, games.home_team_id):\n",
    "    e = api[api[\"game_id\"] == g]\n",
    "    e = spadl.add_names(e)\n",
    "    e = spadl.play_left_to_right(e, h)\n",
    "    events.append(e)\n"
   ]
  },
  {
   "cell_type": "code",
   "execution_count": null,
   "id": "aeae658e",
   "metadata": {},
   "outputs": [],
   "source": [
    "events_df = pd.concat(events)\n",
    "events_df"
   ]
  },
  {
   "cell_type": "code",
   "execution_count": null,
   "id": "35436545",
   "metadata": {},
   "outputs": [],
   "source": [
    "# Step 3: Train xT model\n",
    "filtered = events_df[events_df[\"type_name\"].isin([\"pass\", \"carry\", \"dribble\", \"shot\"])]"
   ]
  },
  {
   "cell_type": "code",
   "execution_count": null,
   "id": "1e8a8dfb",
   "metadata": {},
   "outputs": [],
   "source": [
    "filtered"
   ]
  },
  {
   "cell_type": "code",
   "execution_count": null,
   "id": "e066ca74",
   "metadata": {},
   "outputs": [],
   "source": [
    "filtered = filtered[filtered[\"end_x\"].notna() & filtered[\"end_y\"].notna()]"
   ]
  },
  {
   "cell_type": "code",
   "execution_count": null,
   "id": "0fde7610",
   "metadata": {},
   "outputs": [],
   "source": [
    "filtered"
   ]
  },
  {
   "cell_type": "code",
   "execution_count": null,
   "id": "0d7b8276",
   "metadata": {},
   "outputs": [],
   "source": [
    "from socceraction import spadl, xthreat\n",
    "\n",
    "xTModel = xthreat.ExpectedThreat(l=16, w=12)\n",
    "xT = xTModel.fit(filtered)"
   ]
  },
  {
   "cell_type": "code",
   "execution_count": null,
   "id": "036ebf1d",
   "metadata": {},
   "outputs": [],
   "source": [
    "import seaborn as sns\n",
    "sns.heatmap(xT.scoring_prob_matrix)"
   ]
  },
  {
   "cell_type": "code",
   "execution_count": null,
   "id": "495bda62",
   "metadata": {},
   "outputs": [],
   "source": [
    "sns.heatmap(xT.shot_prob_matrix)"
   ]
  },
  {
   "cell_type": "code",
   "execution_count": null,
   "id": "3e330b1f",
   "metadata": {},
   "outputs": [],
   "source": [
    "filtered"
   ]
  },
  {
   "cell_type": "code",
   "execution_count": null,
   "id": "d5cf948b",
   "metadata": {},
   "outputs": [],
   "source": [
    "xT.rate(filtered)"
   ]
  },
  {
   "cell_type": "code",
   "execution_count": null,
   "id": "31d54016",
   "metadata": {},
   "outputs": [],
   "source": []
  }
 ],
 "metadata": {
  "kernelspec": {
   "display_name": "packing-report",
   "language": "python",
   "name": "python3"
  },
  "language_info": {
   "codemirror_mode": {
    "name": "ipython",
    "version": 3
   },
   "file_extension": ".py",
   "mimetype": "text/x-python",
   "name": "python",
   "nbconvert_exporter": "python",
   "pygments_lexer": "ipython3",
   "version": "3.12.11"
  }
 },
 "nbformat": 4,
 "nbformat_minor": 5
}
