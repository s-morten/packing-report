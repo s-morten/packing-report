{
 "cells": [
  {
   "cell_type": "code",
   "execution_count": 1,
   "metadata": {},
   "outputs": [
    {
     "data": {
      "text/html": [
       "<pre style=\"white-space:pre;overflow-x:auto;line-height:normal;font-family:Menlo,'DejaVu Sans Mono',consolas,'Courier New',monospace\"><span style=\"color: #7fbfbf; text-decoration-color: #7fbfbf\">[05/03/23 12:03:12] </span><span style=\"color: #000080; text-decoration-color: #000080\">INFO    </span> Custom team name replacements loaded from                                <a href=\"file:///home/morten/.conda/envs/packing-report/lib/python3.10/site-packages/soccerdata/_config.py\" target=\"_blank\"><span style=\"color: #7f7f7f; text-decoration-color: #7f7f7f\">_config.py</span></a><span style=\"color: #7f7f7f; text-decoration-color: #7f7f7f\">:</span><a href=\"file:///home/morten/.conda/envs/packing-report/lib/python3.10/site-packages/soccerdata/_config.py#83\" target=\"_blank\"><span style=\"color: #7f7f7f; text-decoration-color: #7f7f7f\">83</span></a>\n",
       "<span style=\"color: #7fbfbf; text-decoration-color: #7fbfbf\">                    </span>         <span style=\"color: #800080; text-decoration-color: #800080\">/home/morten/soccerdata/config/</span><span style=\"color: #ff00ff; text-decoration-color: #ff00ff\">teamname_replacements.json.</span>               <span style=\"color: #7f7f7f; text-decoration-color: #7f7f7f\">             </span>\n",
       "</pre>\n"
      ],
      "text/plain": [
       "\u001b[2;36m[05/03/23 12:03:12]\u001b[0m\u001b[2;36m \u001b[0m\u001b[34mINFO    \u001b[0m Custom team name replacements loaded from                                \u001b]8;id=825535;file:///home/morten/.conda/envs/packing-report/lib/python3.10/site-packages/soccerdata/_config.py\u001b\\\u001b[2m_config.py\u001b[0m\u001b]8;;\u001b\\\u001b[2m:\u001b[0m\u001b]8;id=60123;file:///home/morten/.conda/envs/packing-report/lib/python3.10/site-packages/soccerdata/_config.py#83\u001b\\\u001b[2m83\u001b[0m\u001b]8;;\u001b\\\n",
       "\u001b[2;36m                    \u001b[0m         \u001b[35m/home/morten/soccerdata/config/\u001b[0m\u001b[95mteamname_replacements.json.\u001b[0m               \u001b[2m             \u001b[0m\n"
      ]
     },
     "metadata": {},
     "output_type": "display_data"
    },
    {
     "data": {
      "text/html": [
       "<pre style=\"white-space:pre;overflow-x:auto;line-height:normal;font-family:Menlo,'DejaVu Sans Mono',consolas,'Courier New',monospace\"><span style=\"color: #7fbfbf; text-decoration-color: #7fbfbf\">                    </span><span style=\"color: #000080; text-decoration-color: #000080\">INFO    </span> Custom league dict loaded from                                          <a href=\"file:///home/morten/.conda/envs/packing-report/lib/python3.10/site-packages/soccerdata/_config.py\" target=\"_blank\"><span style=\"color: #7f7f7f; text-decoration-color: #7f7f7f\">_config.py</span></a><span style=\"color: #7f7f7f; text-decoration-color: #7f7f7f\">:</span><a href=\"file:///home/morten/.conda/envs/packing-report/lib/python3.10/site-packages/soccerdata/_config.py#157\" target=\"_blank\"><span style=\"color: #7f7f7f; text-decoration-color: #7f7f7f\">157</span></a>\n",
       "<span style=\"color: #7fbfbf; text-decoration-color: #7fbfbf\">                    </span>         <span style=\"color: #800080; text-decoration-color: #800080\">/home/morten/soccerdata/config/</span><span style=\"color: #ff00ff; text-decoration-color: #ff00ff\">league_dict.json.</span>                        <span style=\"color: #7f7f7f; text-decoration-color: #7f7f7f\">              </span>\n",
       "</pre>\n"
      ],
      "text/plain": [
       "\u001b[2;36m                   \u001b[0m\u001b[2;36m \u001b[0m\u001b[34mINFO    \u001b[0m Custom league dict loaded from                                          \u001b]8;id=2358;file:///home/morten/.conda/envs/packing-report/lib/python3.10/site-packages/soccerdata/_config.py\u001b\\\u001b[2m_config.py\u001b[0m\u001b]8;;\u001b\\\u001b[2m:\u001b[0m\u001b]8;id=164706;file:///home/morten/.conda/envs/packing-report/lib/python3.10/site-packages/soccerdata/_config.py#157\u001b\\\u001b[2m157\u001b[0m\u001b]8;;\u001b\\\n",
       "\u001b[2;36m                    \u001b[0m         \u001b[35m/home/morten/soccerdata/config/\u001b[0m\u001b[95mleague_dict.json.\u001b[0m                        \u001b[2m              \u001b[0m\n"
      ]
     },
     "metadata": {},
     "output_type": "display_data"
    }
   ],
   "source": [
    "import soccerdata as sd\n",
    "from pathlib import PosixPath\n",
    "import pandas as pd\n",
    "import numpy as np"
   ]
  },
  {
   "cell_type": "code",
   "execution_count": 2,
   "metadata": {},
   "outputs": [],
   "source": [
    "def get_corner_dict(event_dataframe):\n",
    "    event_dataframe = event_dataframe[event_dataframe[\"type\"] == \"CornerAwarded\"]\n",
    "    event_dataframe = event_dataframe[event_dataframe[\"outcome_type\"] == \"Successful\"]\n",
    "    event_dataframe[\"time_in_seconds\"] = (event_dataframe[\"minute\"] * 60) + event_dataframe[\"second\"]\n",
    "    corner_dict = {\"time\": event_dataframe[\"time_in_seconds\"].values, \"team\": event_dataframe[\"team_id\"].values}\n",
    "    return corner_dict"
   ]
  },
  {
   "cell_type": "code",
   "execution_count": 3,
   "metadata": {},
   "outputs": [
    {
     "data": {
      "text/html": [
       "<pre style=\"white-space:pre;overflow-x:auto;line-height:normal;font-family:Menlo,'DejaVu Sans Mono',consolas,'Courier New',monospace\"><span style=\"color: #7fbfbf; text-decoration-color: #7fbfbf\">                    </span><span style=\"color: #000080; text-decoration-color: #000080\">INFO    </span> Saving cached data to <span style=\"color: #800080; text-decoration-color: #800080\">/home/morten/Develop/Open-Data/</span><span style=\"color: #ff00ff; text-decoration-color: #ff00ff\">soccerdata</span>          <a href=\"file:///home/morten/.conda/envs/packing-report/lib/python3.10/site-packages/soccerdata/_common.py\" target=\"_blank\"><span style=\"color: #7f7f7f; text-decoration-color: #7f7f7f\">_common.py</span></a><span style=\"color: #7f7f7f; text-decoration-color: #7f7f7f\">:</span><a href=\"file:///home/morten/.conda/envs/packing-report/lib/python3.10/site-packages/soccerdata/_common.py#89\" target=\"_blank\"><span style=\"color: #7f7f7f; text-decoration-color: #7f7f7f\">89</span></a>\n",
       "</pre>\n"
      ],
      "text/plain": [
       "\u001b[2;36m                   \u001b[0m\u001b[2;36m \u001b[0m\u001b[34mINFO    \u001b[0m Saving cached data to \u001b[35m/home/morten/Develop/Open-Data/\u001b[0m\u001b[95msoccerdata\u001b[0m          \u001b]8;id=163199;file:///home/morten/.conda/envs/packing-report/lib/python3.10/site-packages/soccerdata/_common.py\u001b\\\u001b[2m_common.py\u001b[0m\u001b]8;;\u001b\\\u001b[2m:\u001b[0m\u001b]8;id=74347;file:///home/morten/.conda/envs/packing-report/lib/python3.10/site-packages/soccerdata/_common.py#89\u001b\\\u001b[2m89\u001b[0m\u001b]8;;\u001b\\\n"
      ]
     },
     "metadata": {},
     "output_type": "display_data"
    },
    {
     "data": {
      "text/html": [
       "<pre style=\"white-space:pre;overflow-x:auto;line-height:normal;font-family:Menlo,'DejaVu Sans Mono',consolas,'Courier New',monospace\"><span style=\"color: #7fbfbf; text-decoration-color: #7fbfbf\">[05/03/23 12:03:13] </span><span style=\"color: #000080; text-decoration-color: #000080\">INFO    </span> patching driver executable                                              <a href=\"file:///home/morten/.conda/envs/packing-report/lib/python3.10/site-packages/undetected_chromedriver/patcher.py\" target=\"_blank\"><span style=\"color: #7f7f7f; text-decoration-color: #7f7f7f\">patcher.py</span></a><span style=\"color: #7f7f7f; text-decoration-color: #7f7f7f\">:</span><a href=\"file:///home/morten/.conda/envs/packing-report/lib/python3.10/site-packages/undetected_chromedriver/patcher.py#231\" target=\"_blank\"><span style=\"color: #7f7f7f; text-decoration-color: #7f7f7f\">231</span></a>\n",
       "<span style=\"color: #7fbfbf; text-decoration-color: #7fbfbf\">                    </span>         <span style=\"color: #800080; text-decoration-color: #800080\">/home/morten/.local/share/undetected_chromedriver/</span><span style=\"color: #ff00ff; text-decoration-color: #ff00ff\">5725f873c6c597df_chro</span> <span style=\"color: #7f7f7f; text-decoration-color: #7f7f7f\">              </span>\n",
       "<span style=\"color: #7fbfbf; text-decoration-color: #7fbfbf\">                    </span>         <span style=\"color: #ff00ff; text-decoration-color: #ff00ff\">medriver</span>                                                                <span style=\"color: #7f7f7f; text-decoration-color: #7f7f7f\">              </span>\n",
       "</pre>\n"
      ],
      "text/plain": [
       "\u001b[2;36m[05/03/23 12:03:13]\u001b[0m\u001b[2;36m \u001b[0m\u001b[34mINFO    \u001b[0m patching driver executable                                              \u001b]8;id=769782;file:///home/morten/.conda/envs/packing-report/lib/python3.10/site-packages/undetected_chromedriver/patcher.py\u001b\\\u001b[2mpatcher.py\u001b[0m\u001b]8;;\u001b\\\u001b[2m:\u001b[0m\u001b]8;id=150981;file:///home/morten/.conda/envs/packing-report/lib/python3.10/site-packages/undetected_chromedriver/patcher.py#231\u001b\\\u001b[2m231\u001b[0m\u001b]8;;\u001b\\\n",
       "\u001b[2;36m                    \u001b[0m         \u001b[35m/home/morten/.local/share/undetected_chromedriver/\u001b[0m\u001b[95m5725f873c6c597df_chro\u001b[0m \u001b[2m              \u001b[0m\n",
       "\u001b[2;36m                    \u001b[0m         \u001b[95mmedriver\u001b[0m                                                                \u001b[2m              \u001b[0m\n"
      ]
     },
     "metadata": {},
     "output_type": "display_data"
    }
   ],
   "source": [
    "ws = sd.WhoScored(\n",
    "    #  \"GER-Bundesliga\", \"GER-Bundesliga2\", \"ENG-Premier League\", \"ESP-La Liga\", \"FRA-Ligue 1\", \"ITA-Serie A\"\n",
    "    leagues=[\"GER-Bundesliga2\"],\n",
    "    seasons=[21],\n",
    "    no_cache=False,\n",
    "    no_store=False,\n",
    "    data_dir=PosixPath(\"/home/morten/Develop/Open-Data/soccerdata\"),\n",
    "    path_to_browser=\"/usr/bin/chromium\",\n",
    "    headless=False,\n",
    ")"
   ]
  },
  {
   "cell_type": "code",
   "execution_count": 4,
   "metadata": {},
   "outputs": [
    {
     "data": {
      "text/html": [
       "<pre style=\"white-space:pre;overflow-x:auto;line-height:normal;font-family:Menlo,'DejaVu Sans Mono',consolas,'Courier New',monospace\"><span style=\"color: #7fbfbf; text-decoration-color: #7fbfbf\">[05/03/23 12:03:14] </span><span style=\"color: #000080; text-decoration-color: #000080\">INFO    </span> Retrieving game schedule of GER-Bundesliga2 - <span style=\"color: #008080; text-decoration-color: #008080; font-weight: bold\">2122</span> from the cache     <a href=\"file:///home/morten/.conda/envs/packing-report/lib/python3.10/site-packages/soccerdata/whoscored.py\" target=\"_blank\"><span style=\"color: #7f7f7f; text-decoration-color: #7f7f7f\">whoscored.py</span></a><span style=\"color: #7f7f7f; text-decoration-color: #7f7f7f\">:</span><a href=\"file:///home/morten/.conda/envs/packing-report/lib/python3.10/site-packages/soccerdata/whoscored.py#391\" target=\"_blank\"><span style=\"color: #7f7f7f; text-decoration-color: #7f7f7f\">391</span></a>\n",
       "</pre>\n"
      ],
      "text/plain": [
       "\u001b[2;36m[05/03/23 12:03:14]\u001b[0m\u001b[2;36m \u001b[0m\u001b[34mINFO    \u001b[0m Retrieving game schedule of GER-Bundesliga2 - \u001b[1;36m2122\u001b[0m from the cache     \u001b]8;id=404078;file:///home/morten/.conda/envs/packing-report/lib/python3.10/site-packages/soccerdata/whoscored.py\u001b\\\u001b[2mwhoscored.py\u001b[0m\u001b]8;;\u001b\\\u001b[2m:\u001b[0m\u001b]8;id=265596;file:///home/morten/.conda/envs/packing-report/lib/python3.10/site-packages/soccerdata/whoscored.py#391\u001b\\\u001b[2m391\u001b[0m\u001b]8;;\u001b\\\n"
      ]
     },
     "metadata": {},
     "output_type": "display_data"
    },
    {
     "data": {
      "text/html": [
       "<div>\n",
       "<style scoped>\n",
       "    .dataframe tbody tr th:only-of-type {\n",
       "        vertical-align: middle;\n",
       "    }\n",
       "\n",
       "    .dataframe tbody tr th {\n",
       "        vertical-align: top;\n",
       "    }\n",
       "\n",
       "    .dataframe thead th {\n",
       "        text-align: right;\n",
       "    }\n",
       "</style>\n",
       "<table border=\"1\" class=\"dataframe\">\n",
       "  <thead>\n",
       "    <tr style=\"text-align: right;\">\n",
       "      <th></th>\n",
       "      <th></th>\n",
       "      <th></th>\n",
       "      <th>date</th>\n",
       "      <th>home_team</th>\n",
       "      <th>away_team</th>\n",
       "      <th>game_id</th>\n",
       "      <th>url</th>\n",
       "      <th>stage</th>\n",
       "    </tr>\n",
       "    <tr>\n",
       "      <th>league</th>\n",
       "      <th>season</th>\n",
       "      <th>game</th>\n",
       "      <th></th>\n",
       "      <th></th>\n",
       "      <th></th>\n",
       "      <th></th>\n",
       "      <th></th>\n",
       "      <th></th>\n",
       "    </tr>\n",
       "  </thead>\n",
       "  <tbody>\n",
       "    <tr>\n",
       "      <th rowspan=\"5\" valign=\"top\">GER-Bundesliga2</th>\n",
       "      <th rowspan=\"5\" valign=\"top\">2122</th>\n",
       "      <th>2021-07-23 Schalke-Hamburg</th>\n",
       "      <td>2021-07-23 19:30:00</td>\n",
       "      <td>Schalke</td>\n",
       "      <td>Hamburg</td>\n",
       "      <td>1557679</td>\n",
       "      <td>https://www.whoscored.com/Matches/1557679/Live...</td>\n",
       "      <td>NaN</td>\n",
       "    </tr>\n",
       "    <tr>\n",
       "      <th>2021-07-24 Darmstadt-Jahn Regensburg</th>\n",
       "      <td>2021-07-24 12:30:00</td>\n",
       "      <td>Darmstadt</td>\n",
       "      <td>Jahn Regensburg</td>\n",
       "      <td>1557630</td>\n",
       "      <td>https://www.whoscored.com/Matches/1557630/Live...</td>\n",
       "      <td>NaN</td>\n",
       "    </tr>\n",
       "    <tr>\n",
       "      <th>2021-07-24 Dynamo Dresden-Ingolstadt</th>\n",
       "      <td>2021-07-24 12:30:00</td>\n",
       "      <td>Dynamo Dresden</td>\n",
       "      <td>Ingolstadt</td>\n",
       "      <td>1557636</td>\n",
       "      <td>https://www.whoscored.com/Matches/1557636/Live...</td>\n",
       "      <td>NaN</td>\n",
       "    </tr>\n",
       "    <tr>\n",
       "      <th>2021-07-24 FC Heidenheim-Paderborn</th>\n",
       "      <td>2021-07-24 12:30:00</td>\n",
       "      <td>FC Heidenheim</td>\n",
       "      <td>Paderborn</td>\n",
       "      <td>1557631</td>\n",
       "      <td>https://www.whoscored.com/Matches/1557631/Live...</td>\n",
       "      <td>NaN</td>\n",
       "    </tr>\n",
       "    <tr>\n",
       "      <th>2021-07-24 Hansa Rostock-Karlsruher SC</th>\n",
       "      <td>2021-07-24 12:30:00</td>\n",
       "      <td>Hansa Rostock</td>\n",
       "      <td>Karlsruher SC</td>\n",
       "      <td>1557635</td>\n",
       "      <td>https://www.whoscored.com/Matches/1557635/Live...</td>\n",
       "      <td>NaN</td>\n",
       "    </tr>\n",
       "  </tbody>\n",
       "</table>\n",
       "</div>"
      ],
      "text/plain": [
       "                                                                             date  \\\n",
       "league          season game                                                         \n",
       "GER-Bundesliga2 2122   2021-07-23 Schalke-Hamburg             2021-07-23 19:30:00   \n",
       "                       2021-07-24 Darmstadt-Jahn Regensburg   2021-07-24 12:30:00   \n",
       "                       2021-07-24 Dynamo Dresden-Ingolstadt   2021-07-24 12:30:00   \n",
       "                       2021-07-24 FC Heidenheim-Paderborn     2021-07-24 12:30:00   \n",
       "                       2021-07-24 Hansa Rostock-Karlsruher SC 2021-07-24 12:30:00   \n",
       "\n",
       "                                                                    home_team  \\\n",
       "league          season game                                                     \n",
       "GER-Bundesliga2 2122   2021-07-23 Schalke-Hamburg                     Schalke   \n",
       "                       2021-07-24 Darmstadt-Jahn Regensburg         Darmstadt   \n",
       "                       2021-07-24 Dynamo Dresden-Ingolstadt    Dynamo Dresden   \n",
       "                       2021-07-24 FC Heidenheim-Paderborn       FC Heidenheim   \n",
       "                       2021-07-24 Hansa Rostock-Karlsruher SC   Hansa Rostock   \n",
       "\n",
       "                                                                     away_team  \\\n",
       "league          season game                                                      \n",
       "GER-Bundesliga2 2122   2021-07-23 Schalke-Hamburg                      Hamburg   \n",
       "                       2021-07-24 Darmstadt-Jahn Regensburg    Jahn Regensburg   \n",
       "                       2021-07-24 Dynamo Dresden-Ingolstadt         Ingolstadt   \n",
       "                       2021-07-24 FC Heidenheim-Paderborn            Paderborn   \n",
       "                       2021-07-24 Hansa Rostock-Karlsruher SC    Karlsruher SC   \n",
       "\n",
       "                                                               game_id  \\\n",
       "league          season game                                              \n",
       "GER-Bundesliga2 2122   2021-07-23 Schalke-Hamburg              1557679   \n",
       "                       2021-07-24 Darmstadt-Jahn Regensburg    1557630   \n",
       "                       2021-07-24 Dynamo Dresden-Ingolstadt    1557636   \n",
       "                       2021-07-24 FC Heidenheim-Paderborn      1557631   \n",
       "                       2021-07-24 Hansa Rostock-Karlsruher SC  1557635   \n",
       "\n",
       "                                                                                                             url  \\\n",
       "league          season game                                                                                        \n",
       "GER-Bundesliga2 2122   2021-07-23 Schalke-Hamburg              https://www.whoscored.com/Matches/1557679/Live...   \n",
       "                       2021-07-24 Darmstadt-Jahn Regensburg    https://www.whoscored.com/Matches/1557630/Live...   \n",
       "                       2021-07-24 Dynamo Dresden-Ingolstadt    https://www.whoscored.com/Matches/1557636/Live...   \n",
       "                       2021-07-24 FC Heidenheim-Paderborn      https://www.whoscored.com/Matches/1557631/Live...   \n",
       "                       2021-07-24 Hansa Rostock-Karlsruher SC  https://www.whoscored.com/Matches/1557635/Live...   \n",
       "\n",
       "                                                               stage  \n",
       "league          season game                                           \n",
       "GER-Bundesliga2 2122   2021-07-23 Schalke-Hamburg                NaN  \n",
       "                       2021-07-24 Darmstadt-Jahn Regensburg      NaN  \n",
       "                       2021-07-24 Dynamo Dresden-Ingolstadt      NaN  \n",
       "                       2021-07-24 FC Heidenheim-Paderborn        NaN  \n",
       "                       2021-07-24 Hansa Rostock-Karlsruher SC    NaN  "
      ]
     },
     "execution_count": 4,
     "metadata": {},
     "output_type": "execute_result"
    }
   ],
   "source": [
    "schedule = ws.read_schedule()\n",
    "schedule.head()"
   ]
  },
  {
   "cell_type": "code",
   "execution_count": 5,
   "metadata": {},
   "outputs": [
    {
     "data": {
      "text/html": [
       "<pre style=\"white-space:pre;overflow-x:auto;line-height:normal;font-family:Menlo,'DejaVu Sans Mono',consolas,'Courier New',monospace\"><span style=\"color: #7fbfbf; text-decoration-color: #7fbfbf\">[05/03/23 12:03:15] </span><span style=\"color: #000080; text-decoration-color: #000080\">INFO    </span> Retrieving game schedule of GER-Bundesliga2 - <span style=\"color: #008080; text-decoration-color: #008080; font-weight: bold\">2122</span> from the cache     <a href=\"file:///home/morten/.conda/envs/packing-report/lib/python3.10/site-packages/soccerdata/whoscored.py\" target=\"_blank\"><span style=\"color: #7f7f7f; text-decoration-color: #7f7f7f\">whoscored.py</span></a><span style=\"color: #7f7f7f; text-decoration-color: #7f7f7f\">:</span><a href=\"file:///home/morten/.conda/envs/packing-report/lib/python3.10/site-packages/soccerdata/whoscored.py#391\" target=\"_blank\"><span style=\"color: #7f7f7f; text-decoration-color: #7f7f7f\">391</span></a>\n",
       "</pre>\n"
      ],
      "text/plain": [
       "\u001b[2;36m[05/03/23 12:03:15]\u001b[0m\u001b[2;36m \u001b[0m\u001b[34mINFO    \u001b[0m Retrieving game schedule of GER-Bundesliga2 - \u001b[1;36m2122\u001b[0m from the cache     \u001b]8;id=855148;file:///home/morten/.conda/envs/packing-report/lib/python3.10/site-packages/soccerdata/whoscored.py\u001b\\\u001b[2mwhoscored.py\u001b[0m\u001b]8;;\u001b\\\u001b[2m:\u001b[0m\u001b]8;id=782722;file:///home/morten/.conda/envs/packing-report/lib/python3.10/site-packages/soccerdata/whoscored.py#391\u001b\\\u001b[2m391\u001b[0m\u001b]8;;\u001b\\\n"
      ]
     },
     "metadata": {},
     "output_type": "display_data"
    },
    {
     "data": {
      "text/html": [
       "<pre style=\"white-space:pre;overflow-x:auto;line-height:normal;font-family:Menlo,'DejaVu Sans Mono',consolas,'Courier New',monospace\"><span style=\"color: #7fbfbf; text-decoration-color: #7fbfbf\">                    </span><span style=\"color: #000080; text-decoration-color: #000080\">INFO    </span> <span style=\"font-weight: bold\">[</span><span style=\"color: #008080; text-decoration-color: #008080; font-weight: bold\">1</span>/<span style=\"color: #008080; text-decoration-color: #008080; font-weight: bold\">1</span><span style=\"font-weight: bold\">]</span> Retrieving game with <span style=\"color: #808000; text-decoration-color: #808000\">id</span>=<span style=\"color: #008080; text-decoration-color: #008080; font-weight: bold\">1557679</span>                                 <a href=\"file:///home/morten/.conda/envs/packing-report/lib/python3.10/site-packages/soccerdata/whoscored.py\" target=\"_blank\"><span style=\"color: #7f7f7f; text-decoration-color: #7f7f7f\">whoscored.py</span></a><span style=\"color: #7f7f7f; text-decoration-color: #7f7f7f\">:</span><a href=\"file:///home/morten/.conda/envs/packing-report/lib/python3.10/site-packages/soccerdata/whoscored.py#640\" target=\"_blank\"><span style=\"color: #7f7f7f; text-decoration-color: #7f7f7f\">640</span></a>\n",
       "</pre>\n"
      ],
      "text/plain": [
       "\u001b[2;36m                   \u001b[0m\u001b[2;36m \u001b[0m\u001b[34mINFO    \u001b[0m \u001b[1m[\u001b[0m\u001b[1;36m1\u001b[0m/\u001b[1;36m1\u001b[0m\u001b[1m]\u001b[0m Retrieving game with \u001b[33mid\u001b[0m=\u001b[1;36m1557679\u001b[0m                                 \u001b]8;id=452783;file:///home/morten/.conda/envs/packing-report/lib/python3.10/site-packages/soccerdata/whoscored.py\u001b\\\u001b[2mwhoscored.py\u001b[0m\u001b]8;;\u001b\\\u001b[2m:\u001b[0m\u001b]8;id=958606;file:///home/morten/.conda/envs/packing-report/lib/python3.10/site-packages/soccerdata/whoscored.py#640\u001b\\\u001b[2m640\u001b[0m\u001b]8;;\u001b\\\n"
      ]
     },
     "metadata": {},
     "output_type": "display_data"
    }
   ],
   "source": [
    "events = ws.read_events(match_id=1557679)"
   ]
  },
  {
   "cell_type": "code",
   "execution_count": 6,
   "metadata": {},
   "outputs": [
    {
     "data": {
      "text/plain": [
       "array(['FormationSet', 'Start', 'Pass', 'Interception', 'BallRecovery',\n",
       "       'BlockedPass', 'Clearance', 'BallTouch', 'Dispossessed', 'Tackle',\n",
       "       'Aerial', 'KeeperPickup', 'Foul', 'Challenge', 'TakeOn',\n",
       "       'MissedShots', 'Goal', 'CornerAwarded', 'Save', 'SavedShot',\n",
       "       'PenaltyFaced', 'SubstitutionOff', 'SubstitutionOn', 'Card',\n",
       "       'ShieldBallOpp', 'FormationChange', 'End'], dtype=object)"
      ]
     },
     "execution_count": 6,
     "metadata": {},
     "output_type": "execute_result"
    }
   ],
   "source": [
    "events[\"type\"].unique()"
   ]
  },
  {
   "cell_type": "code",
   "execution_count": 8,
   "metadata": {},
   "outputs": [
    {
     "data": {
      "text/html": [
       "<div>\n",
       "<style scoped>\n",
       "    .dataframe tbody tr th:only-of-type {\n",
       "        vertical-align: middle;\n",
       "    }\n",
       "\n",
       "    .dataframe tbody tr th {\n",
       "        vertical-align: top;\n",
       "    }\n",
       "\n",
       "    .dataframe thead th {\n",
       "        text-align: right;\n",
       "    }\n",
       "</style>\n",
       "<table border=\"1\" class=\"dataframe\">\n",
       "  <thead>\n",
       "    <tr style=\"text-align: right;\">\n",
       "      <th></th>\n",
       "      <th></th>\n",
       "      <th></th>\n",
       "      <th></th>\n",
       "      <th>game_id</th>\n",
       "      <th>period</th>\n",
       "      <th>minute</th>\n",
       "      <th>second</th>\n",
       "      <th>expanded_minute</th>\n",
       "      <th>type</th>\n",
       "      <th>outcome_type</th>\n",
       "      <th>team_id</th>\n",
       "      <th>team</th>\n",
       "      <th>player_id</th>\n",
       "      <th>...</th>\n",
       "      <th>goal_mouth_z</th>\n",
       "      <th>blocked_x</th>\n",
       "      <th>blocked_y</th>\n",
       "      <th>qualifiers</th>\n",
       "      <th>is_touch</th>\n",
       "      <th>is_shot</th>\n",
       "      <th>is_goal</th>\n",
       "      <th>card_type</th>\n",
       "      <th>related_event_id</th>\n",
       "      <th>related_player_id</th>\n",
       "    </tr>\n",
       "    <tr>\n",
       "      <th>league</th>\n",
       "      <th>season</th>\n",
       "      <th>game</th>\n",
       "      <th>id</th>\n",
       "      <th></th>\n",
       "      <th></th>\n",
       "      <th></th>\n",
       "      <th></th>\n",
       "      <th></th>\n",
       "      <th></th>\n",
       "      <th></th>\n",
       "      <th></th>\n",
       "      <th></th>\n",
       "      <th></th>\n",
       "      <th></th>\n",
       "      <th></th>\n",
       "      <th></th>\n",
       "      <th></th>\n",
       "      <th></th>\n",
       "      <th></th>\n",
       "      <th></th>\n",
       "      <th></th>\n",
       "      <th></th>\n",
       "      <th></th>\n",
       "      <th></th>\n",
       "    </tr>\n",
       "  </thead>\n",
       "  <tbody>\n",
       "    <tr>\n",
       "      <th rowspan=\"7\" valign=\"top\">GER-Bundesliga2</th>\n",
       "      <th rowspan=\"7\" valign=\"top\">2122</th>\n",
       "      <th rowspan=\"7\" valign=\"top\">2021-07-23 Schalke-Hamburg</th>\n",
       "      <th>2312470673</th>\n",
       "      <td>1557679</td>\n",
       "      <td>FirstHalf</td>\n",
       "      <td>31</td>\n",
       "      <td>8</td>\n",
       "      <td>31</td>\n",
       "      <td>SubstitutionOff</td>\n",
       "      <td>Successful</td>\n",
       "      <td>39</td>\n",
       "      <td>Schalke</td>\n",
       "      <td>70227.0</td>\n",
       "      <td>...</td>\n",
       "      <td>NaN</td>\n",
       "      <td>NaN</td>\n",
       "      <td>NaN</td>\n",
       "      <td>[{'type': {'displayName': 'PlayerPosition', 'v...</td>\n",
       "      <td>False</td>\n",
       "      <td>NaN</td>\n",
       "      <td>NaN</td>\n",
       "      <td>NaN</td>\n",
       "      <td>177.0</td>\n",
       "      <td>415639.0</td>\n",
       "    </tr>\n",
       "    <tr>\n",
       "      <th>2312481537</th>\n",
       "      <td>1557679</td>\n",
       "      <td>SecondHalf</td>\n",
       "      <td>55</td>\n",
       "      <td>44</td>\n",
       "      <td>59</td>\n",
       "      <td>SubstitutionOff</td>\n",
       "      <td>Successful</td>\n",
       "      <td>39</td>\n",
       "      <td>Schalke</td>\n",
       "      <td>411279.0</td>\n",
       "      <td>...</td>\n",
       "      <td>NaN</td>\n",
       "      <td>NaN</td>\n",
       "      <td>NaN</td>\n",
       "      <td>[{'type': {'displayName': 'PlayerPosition', 'v...</td>\n",
       "      <td>False</td>\n",
       "      <td>NaN</td>\n",
       "      <td>NaN</td>\n",
       "      <td>NaN</td>\n",
       "      <td>380.0</td>\n",
       "      <td>323169.0</td>\n",
       "    </tr>\n",
       "    <tr>\n",
       "      <th>2312483985</th>\n",
       "      <td>1557679</td>\n",
       "      <td>SecondHalf</td>\n",
       "      <td>66</td>\n",
       "      <td>25</td>\n",
       "      <td>70</td>\n",
       "      <td>SubstitutionOff</td>\n",
       "      <td>Successful</td>\n",
       "      <td>38</td>\n",
       "      <td>Hamburg</td>\n",
       "      <td>343436.0</td>\n",
       "      <td>...</td>\n",
       "      <td>NaN</td>\n",
       "      <td>NaN</td>\n",
       "      <td>NaN</td>\n",
       "      <td>[{'type': {'displayName': 'JerseyNumber', 'val...</td>\n",
       "      <td>False</td>\n",
       "      <td>NaN</td>\n",
       "      <td>NaN</td>\n",
       "      <td>NaN</td>\n",
       "      <td>760.0</td>\n",
       "      <td>280720.0</td>\n",
       "    </tr>\n",
       "    <tr>\n",
       "      <th>2312484961</th>\n",
       "      <td>1557679</td>\n",
       "      <td>SecondHalf</td>\n",
       "      <td>70</td>\n",
       "      <td>48</td>\n",
       "      <td>74</td>\n",
       "      <td>SubstitutionOff</td>\n",
       "      <td>Successful</td>\n",
       "      <td>38</td>\n",
       "      <td>Hamburg</td>\n",
       "      <td>243758.0</td>\n",
       "      <td>...</td>\n",
       "      <td>NaN</td>\n",
       "      <td>NaN</td>\n",
       "      <td>NaN</td>\n",
       "      <td>[{'type': {'displayName': 'PlayerPosition', 'v...</td>\n",
       "      <td>False</td>\n",
       "      <td>NaN</td>\n",
       "      <td>NaN</td>\n",
       "      <td>NaN</td>\n",
       "      <td>823.0</td>\n",
       "      <td>419916.0</td>\n",
       "    </tr>\n",
       "    <tr>\n",
       "      <th>2312485407</th>\n",
       "      <td>1557679</td>\n",
       "      <td>SecondHalf</td>\n",
       "      <td>72</td>\n",
       "      <td>38</td>\n",
       "      <td>76</td>\n",
       "      <td>SubstitutionOff</td>\n",
       "      <td>Successful</td>\n",
       "      <td>39</td>\n",
       "      <td>Schalke</td>\n",
       "      <td>83804.0</td>\n",
       "      <td>...</td>\n",
       "      <td>NaN</td>\n",
       "      <td>NaN</td>\n",
       "      <td>NaN</td>\n",
       "      <td>[{'type': {'displayName': 'PlayerPosition', 'v...</td>\n",
       "      <td>False</td>\n",
       "      <td>NaN</td>\n",
       "      <td>NaN</td>\n",
       "      <td>NaN</td>\n",
       "      <td>502.0</td>\n",
       "      <td>419915.0</td>\n",
       "    </tr>\n",
       "    <tr>\n",
       "      <th>2312486423</th>\n",
       "      <td>1557679</td>\n",
       "      <td>SecondHalf</td>\n",
       "      <td>77</td>\n",
       "      <td>12</td>\n",
       "      <td>81</td>\n",
       "      <td>SubstitutionOff</td>\n",
       "      <td>Successful</td>\n",
       "      <td>38</td>\n",
       "      <td>Hamburg</td>\n",
       "      <td>136707.0</td>\n",
       "      <td>...</td>\n",
       "      <td>NaN</td>\n",
       "      <td>NaN</td>\n",
       "      <td>NaN</td>\n",
       "      <td>[{'type': {'displayName': 'RelatedEventId', 'v...</td>\n",
       "      <td>False</td>\n",
       "      <td>NaN</td>\n",
       "      <td>NaN</td>\n",
       "      <td>NaN</td>\n",
       "      <td>893.0</td>\n",
       "      <td>392643.0</td>\n",
       "    </tr>\n",
       "    <tr>\n",
       "      <th>2312486461</th>\n",
       "      <td>1557679</td>\n",
       "      <td>SecondHalf</td>\n",
       "      <td>77</td>\n",
       "      <td>13</td>\n",
       "      <td>81</td>\n",
       "      <td>SubstitutionOff</td>\n",
       "      <td>Successful</td>\n",
       "      <td>38</td>\n",
       "      <td>Hamburg</td>\n",
       "      <td>347773.0</td>\n",
       "      <td>...</td>\n",
       "      <td>NaN</td>\n",
       "      <td>NaN</td>\n",
       "      <td>NaN</td>\n",
       "      <td>[{'type': {'displayName': 'RelatedEventId', 'v...</td>\n",
       "      <td>False</td>\n",
       "      <td>NaN</td>\n",
       "      <td>NaN</td>\n",
       "      <td>NaN</td>\n",
       "      <td>895.0</td>\n",
       "      <td>90966.0</td>\n",
       "    </tr>\n",
       "  </tbody>\n",
       "</table>\n",
       "<p>7 rows × 26 columns</p>\n",
       "</div>"
      ],
      "text/plain": [
       "                                                              game_id  \\\n",
       "league          season game                       id                    \n",
       "GER-Bundesliga2 2122   2021-07-23 Schalke-Hamburg 2312470673  1557679   \n",
       "                                                  2312481537  1557679   \n",
       "                                                  2312483985  1557679   \n",
       "                                                  2312484961  1557679   \n",
       "                                                  2312485407  1557679   \n",
       "                                                  2312486423  1557679   \n",
       "                                                  2312486461  1557679   \n",
       "\n",
       "                                                                  period  \\\n",
       "league          season game                       id                       \n",
       "GER-Bundesliga2 2122   2021-07-23 Schalke-Hamburg 2312470673   FirstHalf   \n",
       "                                                  2312481537  SecondHalf   \n",
       "                                                  2312483985  SecondHalf   \n",
       "                                                  2312484961  SecondHalf   \n",
       "                                                  2312485407  SecondHalf   \n",
       "                                                  2312486423  SecondHalf   \n",
       "                                                  2312486461  SecondHalf   \n",
       "\n",
       "                                                              minute  second  \\\n",
       "league          season game                       id                           \n",
       "GER-Bundesliga2 2122   2021-07-23 Schalke-Hamburg 2312470673      31       8   \n",
       "                                                  2312481537      55      44   \n",
       "                                                  2312483985      66      25   \n",
       "                                                  2312484961      70      48   \n",
       "                                                  2312485407      72      38   \n",
       "                                                  2312486423      77      12   \n",
       "                                                  2312486461      77      13   \n",
       "\n",
       "                                                              expanded_minute  \\\n",
       "league          season game                       id                            \n",
       "GER-Bundesliga2 2122   2021-07-23 Schalke-Hamburg 2312470673               31   \n",
       "                                                  2312481537               59   \n",
       "                                                  2312483985               70   \n",
       "                                                  2312484961               74   \n",
       "                                                  2312485407               76   \n",
       "                                                  2312486423               81   \n",
       "                                                  2312486461               81   \n",
       "\n",
       "                                                                         type  \\\n",
       "league          season game                       id                            \n",
       "GER-Bundesliga2 2122   2021-07-23 Schalke-Hamburg 2312470673  SubstitutionOff   \n",
       "                                                  2312481537  SubstitutionOff   \n",
       "                                                  2312483985  SubstitutionOff   \n",
       "                                                  2312484961  SubstitutionOff   \n",
       "                                                  2312485407  SubstitutionOff   \n",
       "                                                  2312486423  SubstitutionOff   \n",
       "                                                  2312486461  SubstitutionOff   \n",
       "\n",
       "                                                             outcome_type  \\\n",
       "league          season game                       id                        \n",
       "GER-Bundesliga2 2122   2021-07-23 Schalke-Hamburg 2312470673   Successful   \n",
       "                                                  2312481537   Successful   \n",
       "                                                  2312483985   Successful   \n",
       "                                                  2312484961   Successful   \n",
       "                                                  2312485407   Successful   \n",
       "                                                  2312486423   Successful   \n",
       "                                                  2312486461   Successful   \n",
       "\n",
       "                                                              team_id  \\\n",
       "league          season game                       id                    \n",
       "GER-Bundesliga2 2122   2021-07-23 Schalke-Hamburg 2312470673       39   \n",
       "                                                  2312481537       39   \n",
       "                                                  2312483985       38   \n",
       "                                                  2312484961       38   \n",
       "                                                  2312485407       39   \n",
       "                                                  2312486423       38   \n",
       "                                                  2312486461       38   \n",
       "\n",
       "                                                                 team  \\\n",
       "league          season game                       id                    \n",
       "GER-Bundesliga2 2122   2021-07-23 Schalke-Hamburg 2312470673  Schalke   \n",
       "                                                  2312481537  Schalke   \n",
       "                                                  2312483985  Hamburg   \n",
       "                                                  2312484961  Hamburg   \n",
       "                                                  2312485407  Schalke   \n",
       "                                                  2312486423  Hamburg   \n",
       "                                                  2312486461  Hamburg   \n",
       "\n",
       "                                                              player_id  ...  \\\n",
       "league          season game                       id                     ...   \n",
       "GER-Bundesliga2 2122   2021-07-23 Schalke-Hamburg 2312470673    70227.0  ...   \n",
       "                                                  2312481537   411279.0  ...   \n",
       "                                                  2312483985   343436.0  ...   \n",
       "                                                  2312484961   243758.0  ...   \n",
       "                                                  2312485407    83804.0  ...   \n",
       "                                                  2312486423   136707.0  ...   \n",
       "                                                  2312486461   347773.0  ...   \n",
       "\n",
       "                                                             goal_mouth_z  \\\n",
       "league          season game                       id                        \n",
       "GER-Bundesliga2 2122   2021-07-23 Schalke-Hamburg 2312470673          NaN   \n",
       "                                                  2312481537          NaN   \n",
       "                                                  2312483985          NaN   \n",
       "                                                  2312484961          NaN   \n",
       "                                                  2312485407          NaN   \n",
       "                                                  2312486423          NaN   \n",
       "                                                  2312486461          NaN   \n",
       "\n",
       "                                                              blocked_x  \\\n",
       "league          season game                       id                      \n",
       "GER-Bundesliga2 2122   2021-07-23 Schalke-Hamburg 2312470673        NaN   \n",
       "                                                  2312481537        NaN   \n",
       "                                                  2312483985        NaN   \n",
       "                                                  2312484961        NaN   \n",
       "                                                  2312485407        NaN   \n",
       "                                                  2312486423        NaN   \n",
       "                                                  2312486461        NaN   \n",
       "\n",
       "                                                              blocked_y  \\\n",
       "league          season game                       id                      \n",
       "GER-Bundesliga2 2122   2021-07-23 Schalke-Hamburg 2312470673        NaN   \n",
       "                                                  2312481537        NaN   \n",
       "                                                  2312483985        NaN   \n",
       "                                                  2312484961        NaN   \n",
       "                                                  2312485407        NaN   \n",
       "                                                  2312486423        NaN   \n",
       "                                                  2312486461        NaN   \n",
       "\n",
       "                                                                                                     qualifiers  \\\n",
       "league          season game                       id                                                              \n",
       "GER-Bundesliga2 2122   2021-07-23 Schalke-Hamburg 2312470673  [{'type': {'displayName': 'PlayerPosition', 'v...   \n",
       "                                                  2312481537  [{'type': {'displayName': 'PlayerPosition', 'v...   \n",
       "                                                  2312483985  [{'type': {'displayName': 'JerseyNumber', 'val...   \n",
       "                                                  2312484961  [{'type': {'displayName': 'PlayerPosition', 'v...   \n",
       "                                                  2312485407  [{'type': {'displayName': 'PlayerPosition', 'v...   \n",
       "                                                  2312486423  [{'type': {'displayName': 'RelatedEventId', 'v...   \n",
       "                                                  2312486461  [{'type': {'displayName': 'RelatedEventId', 'v...   \n",
       "\n",
       "                                                              is_touch  \\\n",
       "league          season game                       id                     \n",
       "GER-Bundesliga2 2122   2021-07-23 Schalke-Hamburg 2312470673     False   \n",
       "                                                  2312481537     False   \n",
       "                                                  2312483985     False   \n",
       "                                                  2312484961     False   \n",
       "                                                  2312485407     False   \n",
       "                                                  2312486423     False   \n",
       "                                                  2312486461     False   \n",
       "\n",
       "                                                              is_shot  \\\n",
       "league          season game                       id                    \n",
       "GER-Bundesliga2 2122   2021-07-23 Schalke-Hamburg 2312470673      NaN   \n",
       "                                                  2312481537      NaN   \n",
       "                                                  2312483985      NaN   \n",
       "                                                  2312484961      NaN   \n",
       "                                                  2312485407      NaN   \n",
       "                                                  2312486423      NaN   \n",
       "                                                  2312486461      NaN   \n",
       "\n",
       "                                                              is_goal  \\\n",
       "league          season game                       id                    \n",
       "GER-Bundesliga2 2122   2021-07-23 Schalke-Hamburg 2312470673      NaN   \n",
       "                                                  2312481537      NaN   \n",
       "                                                  2312483985      NaN   \n",
       "                                                  2312484961      NaN   \n",
       "                                                  2312485407      NaN   \n",
       "                                                  2312486423      NaN   \n",
       "                                                  2312486461      NaN   \n",
       "\n",
       "                                                              card_type  \\\n",
       "league          season game                       id                      \n",
       "GER-Bundesliga2 2122   2021-07-23 Schalke-Hamburg 2312470673        NaN   \n",
       "                                                  2312481537        NaN   \n",
       "                                                  2312483985        NaN   \n",
       "                                                  2312484961        NaN   \n",
       "                                                  2312485407        NaN   \n",
       "                                                  2312486423        NaN   \n",
       "                                                  2312486461        NaN   \n",
       "\n",
       "                                                              related_event_id  \\\n",
       "league          season game                       id                             \n",
       "GER-Bundesliga2 2122   2021-07-23 Schalke-Hamburg 2312470673             177.0   \n",
       "                                                  2312481537             380.0   \n",
       "                                                  2312483985             760.0   \n",
       "                                                  2312484961             823.0   \n",
       "                                                  2312485407             502.0   \n",
       "                                                  2312486423             893.0   \n",
       "                                                  2312486461             895.0   \n",
       "\n",
       "                                                             related_player_id  \n",
       "league          season game                       id                            \n",
       "GER-Bundesliga2 2122   2021-07-23 Schalke-Hamburg 2312470673          415639.0  \n",
       "                                                  2312481537          323169.0  \n",
       "                                                  2312483985          280720.0  \n",
       "                                                  2312484961          419916.0  \n",
       "                                                  2312485407          419915.0  \n",
       "                                                  2312486423          392643.0  \n",
       "                                                  2312486461           90966.0  \n",
       "\n",
       "[7 rows x 26 columns]"
      ]
     },
     "execution_count": 8,
     "metadata": {},
     "output_type": "execute_result"
    }
   ],
   "source": [
    "event_dataframe = events.loc[(events[\"type\"] == \"SubstitutionOff\")]\n",
    "event_dataframe"
   ]
  },
  {
   "cell_type": "code",
   "execution_count": 9,
   "metadata": {},
   "outputs": [
    {
     "data": {
      "text/html": [
       "<pre style=\"white-space:pre;overflow-x:auto;line-height:normal;font-family:Menlo,'DejaVu Sans Mono',consolas,'Courier New',monospace\"><span style=\"color: #7fbfbf; text-decoration-color: #7fbfbf\">[05/03/23 12:04:28] </span><span style=\"color: #000080; text-decoration-color: #000080\">INFO    </span> Retrieving game schedule of GER-Bundesliga2 - <span style=\"color: #008080; text-decoration-color: #008080; font-weight: bold\">2122</span> from the cache     <a href=\"file:///home/morten/.conda/envs/packing-report/lib/python3.10/site-packages/soccerdata/whoscored.py\" target=\"_blank\"><span style=\"color: #7f7f7f; text-decoration-color: #7f7f7f\">whoscored.py</span></a><span style=\"color: #7f7f7f; text-decoration-color: #7f7f7f\">:</span><a href=\"file:///home/morten/.conda/envs/packing-report/lib/python3.10/site-packages/soccerdata/whoscored.py#391\" target=\"_blank\"><span style=\"color: #7f7f7f; text-decoration-color: #7f7f7f\">391</span></a>\n",
       "</pre>\n"
      ],
      "text/plain": [
       "\u001b[2;36m[05/03/23 12:04:28]\u001b[0m\u001b[2;36m \u001b[0m\u001b[34mINFO    \u001b[0m Retrieving game schedule of GER-Bundesliga2 - \u001b[1;36m2122\u001b[0m from the cache     \u001b]8;id=7367;file:///home/morten/.conda/envs/packing-report/lib/python3.10/site-packages/soccerdata/whoscored.py\u001b\\\u001b[2mwhoscored.py\u001b[0m\u001b]8;;\u001b\\\u001b[2m:\u001b[0m\u001b]8;id=252150;file:///home/morten/.conda/envs/packing-report/lib/python3.10/site-packages/soccerdata/whoscored.py#391\u001b\\\u001b[2m391\u001b[0m\u001b]8;;\u001b\\\n"
      ]
     },
     "metadata": {},
     "output_type": "display_data"
    },
    {
     "data": {
      "text/html": [
       "<pre style=\"white-space:pre;overflow-x:auto;line-height:normal;font-family:Menlo,'DejaVu Sans Mono',consolas,'Courier New',monospace\"><span style=\"color: #7fbfbf; text-decoration-color: #7fbfbf\">                    </span><span style=\"color: #000080; text-decoration-color: #000080\">INFO    </span> <span style=\"font-weight: bold\">[</span><span style=\"color: #008080; text-decoration-color: #008080; font-weight: bold\">1</span>/<span style=\"color: #008080; text-decoration-color: #008080; font-weight: bold\">1</span><span style=\"font-weight: bold\">]</span> Retrieving game with <span style=\"color: #808000; text-decoration-color: #808000\">id</span>=<span style=\"color: #008080; text-decoration-color: #008080; font-weight: bold\">1557679</span>                                 <a href=\"file:///home/morten/.conda/envs/packing-report/lib/python3.10/site-packages/soccerdata/whoscored.py\" target=\"_blank\"><span style=\"color: #7f7f7f; text-decoration-color: #7f7f7f\">whoscored.py</span></a><span style=\"color: #7f7f7f; text-decoration-color: #7f7f7f\">:</span><a href=\"file:///home/morten/.conda/envs/packing-report/lib/python3.10/site-packages/soccerdata/whoscored.py#640\" target=\"_blank\"><span style=\"color: #7f7f7f; text-decoration-color: #7f7f7f\">640</span></a>\n",
       "</pre>\n"
      ],
      "text/plain": [
       "\u001b[2;36m                   \u001b[0m\u001b[2;36m \u001b[0m\u001b[34mINFO    \u001b[0m \u001b[1m[\u001b[0m\u001b[1;36m1\u001b[0m/\u001b[1;36m1\u001b[0m\u001b[1m]\u001b[0m Retrieving game with \u001b[33mid\u001b[0m=\u001b[1;36m1557679\u001b[0m                                 \u001b]8;id=396956;file:///home/morten/.conda/envs/packing-report/lib/python3.10/site-packages/soccerdata/whoscored.py\u001b\\\u001b[2mwhoscored.py\u001b[0m\u001b]8;;\u001b\\\u001b[2m:\u001b[0m\u001b]8;id=981429;file:///home/morten/.conda/envs/packing-report/lib/python3.10/site-packages/soccerdata/whoscored.py#640\u001b\\\u001b[2m640\u001b[0m\u001b]8;;\u001b\\\n"
      ]
     },
     "metadata": {},
     "output_type": "display_data"
    }
   ],
   "source": [
    "loader = ws.read_events(match_id=1557679, output_fmt='loader')"
   ]
  },
  {
   "cell_type": "code",
   "execution_count": 11,
   "metadata": {},
   "outputs": [],
   "source": [
    "def get_player_minutes_dict(loader_players_df, events):\n",
    "    loader_players_df = loader_players_df[loader_players_df[\"is_starter\"] == True]\n",
    "    players = np.swapaxes([loader_players_df[\"player_id\"].values, loader_players_df[\"team_id\"].values,\n",
    "               [0 for _ in range(len(loader_players_df[\"player_id\"].values))], [-1 for _ in range(len(loader_players_df[\"player_id\"].values))]], 0, 1)\n",
    "    sub_dataframe = events.loc[(events[\"type\"] == \"SubstitutionOn\") | (events[\"type\"] == \"SubstitutionOff\")]\n",
    "    on_dataframe = sub_dataframe.loc[(sub_dataframe[\"type\"] == \"SubstitutionOn\")].copy()\n",
    "    on_dataframe[\"time_in_seconds\"] = (on_dataframe[\"minute\"] * 60) + on_dataframe[\"second\"]\n",
    "    on_players = np.swapaxes([on_dataframe[\"player_id\"].values.astype(int), on_dataframe[\"team_id\"].values,\n",
    "               on_dataframe[\"time_in_seconds\"].values, [-1 for _ in range(len(on_dataframe[\"player_id\"].values))]], 0, 1)\n",
    "    players_dict = {}\n",
    "    for starter in [*players,*on_players]:\n",
    "        players_dict[starter[0]] = {}\n",
    "        players_dict[starter[0]][\"team_id\"] = starter[1]\n",
    "        players_dict[starter[0]][\"on\"] = starter[2]\n",
    "        players_dict[starter[0]][\"off\"] = starter[3]\n",
    "\n",
    "    off_dataframe = sub_dataframe.loc[(sub_dataframe[\"type\"] == \"SubstitutionOff\")].copy()\n",
    "    off_dataframe[\"time_in_seconds\"] = (off_dataframe[\"minute\"] * 60) + off_dataframe[\"second\"]\n",
    "    off_players = np.swapaxes([off_dataframe[\"player_id\"].values.astype(int), off_dataframe[\"time_in_seconds\"].values], 0, 1)\n",
    "    for sub_off in off_players:\n",
    "        players_dict[sub_off[0]][\"off\"] = sub_off[1]\n",
    "\n",
    "    return players_dict"
   ]
  },
  {
   "cell_type": "code",
   "execution_count": 12,
   "metadata": {},
   "outputs": [],
   "source": [
    "loader_players_df = loader.players(1557679)"
   ]
  },
  {
   "cell_type": "code",
   "execution_count": 13,
   "metadata": {},
   "outputs": [
    {
     "data": {
      "text/plain": [
       "{'time': array([1012, 1251, 1463, 2826, 3562, 3702, 5271, 5299]),\n",
       " 'team': array([38, 38, 38, 38, 39, 38, 39, 39])}"
      ]
     },
     "execution_count": 13,
     "metadata": {},
     "output_type": "execute_result"
    }
   ],
   "source": [
    "get_corner_dict(events)"
   ]
  },
  {
   "cell_type": "code",
   "execution_count": 14,
   "metadata": {},
   "outputs": [
    {
     "data": {
      "text/plain": [
       "{13765: {'team_id': 39, 'on': 0, 'off': -1},\n",
       " 393355: {'team_id': 39, 'on': 0, 'off': -1},\n",
       " 411279: {'team_id': 39, 'on': 0, 'off': 3344},\n",
       " 82628: {'team_id': 39, 'on': 0, 'off': -1},\n",
       " 383806: {'team_id': 39, 'on': 0, 'off': -1},\n",
       " 301027: {'team_id': 39, 'on': 0, 'off': -1},\n",
       " 70227: {'team_id': 39, 'on': 0, 'off': 1868},\n",
       " 83804: {'team_id': 39, 'on': 0, 'off': 4358},\n",
       " 70162: {'team_id': 39, 'on': 0, 'off': -1},\n",
       " 361419: {'team_id': 39, 'on': 0, 'off': -1},\n",
       " 30464: {'team_id': 39, 'on': 0, 'off': -1},\n",
       " 132896: {'team_id': 38, 'on': 0, 'off': -1},\n",
       " 132011: {'team_id': 38, 'on': 0, 'off': -1},\n",
       " 361253: {'team_id': 38, 'on': 0, 'off': -1},\n",
       " 129751: {'team_id': 38, 'on': 0, 'off': -1},\n",
       " 140849: {'team_id': 38, 'on': 0, 'off': -1},\n",
       " 243758: {'team_id': 38, 'on': 0, 'off': 4248},\n",
       " 121975: {'team_id': 38, 'on': 0, 'off': -1},\n",
       " 343436: {'team_id': 38, 'on': 0, 'off': 3985},\n",
       " 329689: {'team_id': 38, 'on': 0, 'off': -1},\n",
       " 347773: {'team_id': 38, 'on': 0, 'off': 4633},\n",
       " 136707: {'team_id': 38, 'on': 0, 'off': 4632},\n",
       " 415639: {'team_id': 39, 'on': 1868, 'off': -1},\n",
       " 323169: {'team_id': 39, 'on': 3344, 'off': -1},\n",
       " 280720: {'team_id': 38, 'on': 3985, 'off': -1},\n",
       " 419916: {'team_id': 38, 'on': 4248, 'off': -1},\n",
       " 419915: {'team_id': 39, 'on': 4358, 'off': -1},\n",
       " 392643: {'team_id': 38, 'on': 4632, 'off': -1},\n",
       " 90966: {'team_id': 38, 'on': 4633, 'off': -1}}"
      ]
     },
     "execution_count": 14,
     "metadata": {},
     "output_type": "execute_result"
    }
   ],
   "source": [
    "get_player_minutes_dict(loader_players_df, events)"
   ]
  },
  {
   "cell_type": "code",
   "execution_count": 24,
   "metadata": {},
   "outputs": [],
   "source": [
    "def get_corners_per_player(corner_dict, player_dict):\n",
    "    player_corner = {}\n",
    "    for player_id in player_dict:\n",
    "        minutes = 90 if ((player_dict[player_id][\"off\"] == -1) and (player_dict[player_id][\"on\"] == 0)) else (int(90 - (player_dict[player_id][\"on\"] / 60))) if (player_dict[player_id][\"off\"] == -1) and (player_dict[player_id][\"on\"] != 0 ) else (int((player_dict[player_id][\"off\"] - player_dict[player_id][\"on\"]) / 60))\n",
    "        player_corner[player_id] = {\"team_id\": player_dict[player_id][\"team_id\"], \"for\" : 0, \"against\": 0, \"minutes\": minutes}\n",
    "        index_on = next(x[0] for x in enumerate(corner_dict[\"time\"]) if x[1] > player_dict[player_id][\"on\"])\n",
    "        index_off = len(corner_dict[\"time\"]) if (player_dict[player_id][\"off\"] == -1) else next(x[0] for x in enumerate(corner_dict[\"time\"]) if x[1] > player_dict[player_id][\"off\"]) \n",
    "        for index in range(index_on, index_off):\n",
    "            if corner_dict[\"team\"][index] == player_corner[player_id][\"team_id\"]:\n",
    "                player_corner[player_id][\"for\"] += 1\n",
    "            else:\n",
    "                player_corner[player_id][\"against\"] += 1\n",
    "\n",
    "    return player_corner"
   ]
  },
  {
   "cell_type": "code",
   "execution_count": 26,
   "metadata": {},
   "outputs": [],
   "source": [
    "cpp = get_corners_per_player(get_corner_dict(events), get_player_minutes_dict(loader_players_df, events))"
   ]
  },
  {
   "cell_type": "code",
   "execution_count": 31,
   "metadata": {},
   "outputs": [],
   "source": [
    "elo_player = {}\n",
    "for player in cpp:\n",
    "    # create test elo dict\n",
    "    elo_player[player] = 1000"
   ]
  },
  {
   "cell_type": "code",
   "execution_count": 35,
   "metadata": {},
   "outputs": [],
   "source": [
    "average_corners_home = [4, 6]\n",
    "average_corners_away = [3, 6]"
   ]
  },
  {
   "cell_type": "code",
   "execution_count": 37,
   "metadata": {},
   "outputs": [
    {
     "data": {
      "text/plain": [
       "{13765: {'team_id': 39, 'for': 3, 'against': 5, 'minutes': 90},\n",
       " 393355: {'team_id': 39, 'for': 3, 'against': 5, 'minutes': 90},\n",
       " 411279: {'team_id': 39, 'for': 0, 'against': 4, 'minutes': 55},\n",
       " 82628: {'team_id': 39, 'for': 3, 'against': 5, 'minutes': 90},\n",
       " 383806: {'team_id': 39, 'for': 3, 'against': 5, 'minutes': 90},\n",
       " 301027: {'team_id': 39, 'for': 3, 'against': 5, 'minutes': 90},\n",
       " 70227: {'team_id': 39, 'for': 0, 'against': 3, 'minutes': 31},\n",
       " 83804: {'team_id': 39, 'for': 1, 'against': 5, 'minutes': 72},\n",
       " 70162: {'team_id': 39, 'for': 3, 'against': 5, 'minutes': 90},\n",
       " 361419: {'team_id': 39, 'for': 3, 'against': 5, 'minutes': 90},\n",
       " 30464: {'team_id': 39, 'for': 3, 'against': 5, 'minutes': 90},\n",
       " 132896: {'team_id': 38, 'for': 5, 'against': 3, 'minutes': 90},\n",
       " 132011: {'team_id': 38, 'for': 5, 'against': 3, 'minutes': 90},\n",
       " 361253: {'team_id': 38, 'for': 5, 'against': 3, 'minutes': 90},\n",
       " 129751: {'team_id': 38, 'for': 5, 'against': 3, 'minutes': 90},\n",
       " 140849: {'team_id': 38, 'for': 5, 'against': 3, 'minutes': 90},\n",
       " 243758: {'team_id': 38, 'for': 5, 'against': 1, 'minutes': 70},\n",
       " 121975: {'team_id': 38, 'for': 5, 'against': 3, 'minutes': 90},\n",
       " 343436: {'team_id': 38, 'for': 5, 'against': 1, 'minutes': 66},\n",
       " 329689: {'team_id': 38, 'for': 5, 'against': 3, 'minutes': 90},\n",
       " 347773: {'team_id': 38, 'for': 5, 'against': 1, 'minutes': 77},\n",
       " 136707: {'team_id': 38, 'for': 5, 'against': 1, 'minutes': 77},\n",
       " 415639: {'team_id': 39, 'for': 3, 'against': 2, 'minutes': 58},\n",
       " 323169: {'team_id': 39, 'for': 3, 'against': 1, 'minutes': 34},\n",
       " 280720: {'team_id': 38, 'for': 0, 'against': 2, 'minutes': 23},\n",
       " 419916: {'team_id': 38, 'for': 0, 'against': 2, 'minutes': 19},\n",
       " 419915: {'team_id': 39, 'for': 2, 'against': 0, 'minutes': 17},\n",
       " 392643: {'team_id': 38, 'for': 0, 'against': 2, 'minutes': 12},\n",
       " 90966: {'team_id': 38, 'for': 0, 'against': 2, 'minutes': 12}}"
      ]
     },
     "execution_count": 37,
     "metadata": {},
     "output_type": "execute_result"
    }
   ],
   "source": [
    "cpp"
   ]
  },
  {
   "cell_type": "code",
   "execution_count": 38,
   "metadata": {},
   "outputs": [],
   "source": [
    "def corner_game_off(cpp, p_id, home):\n",
    "    max_average_corner = max(average_corners_home) if home else max(average_corners_away)\n",
    "    min_average_corner = min(average_corners_home) if home else min(average_corners_away)\n",
    "    corners_per_90 = (cpp[p_id][\"for\"] / cpp[p_id][\"minutes\"]) * 90\n",
    "    if corners_per_90 < min_average_corner:\n",
    "        return 0\n",
    "    elif corners_per_90 > max_average_corner:\n",
    "        return 1\n",
    "    else:\n",
    "        return 0.5\n",
    "\n",
    "def corner_game_def(cpp, p_id, home):\n",
    "    max_average_corner = max(average_corners_home) if home else max(average_corners_away)\n",
    "    min_average_corner = min(average_corners_home) if home else min(average_corners_away)\n",
    "    corners_per_90 = (cpp[p_id][\"for\"] / cpp[p_id][\"minutes\"]) * 90\n",
    "    if corners_per_90 > min_average_corner:\n",
    "        return 0\n",
    "    elif corners_per_90 < max_average_corner:\n",
    "        return 1\n",
    "    else:\n",
    "        return 0.5"
   ]
  },
  {
   "cell_type": "code",
   "execution_count": 32,
   "metadata": {},
   "outputs": [],
   "source": [
    "def update_elo(r_a, r_b, corner_game, K=35):\n",
    "    R_a = pow(10, (r_a / 400))\n",
    "    R_b = pow(10, (r_b / 400))\n",
    "    E_a = R_a / (R_a + R_b)\n",
    "    E_b = R_b / (R_a + R_b)\n",
    "    S_a = corner_game # define result\n",
    "    S_b = 1 - S_a\n",
    "    r_strich_a = r_a + K * (S_a - E_a)\n",
    "    r_strich_b = r_b + K * (S_b - E_b)\n",
    "\n",
    "    print(r_strich_a, r_strich_b)"
   ]
  },
  {
   "cell_type": "code",
   "execution_count": 48,
   "metadata": {},
   "outputs": [
    {
     "name": "stdout",
     "output_type": "stream",
     "text": [
      "1501.8634075320708 998.1365924679292\n"
     ]
    }
   ],
   "source": [
    "update_elo(1500, 1000)"
   ]
  },
  {
   "cell_type": "code",
   "execution_count": null,
   "metadata": {},
   "outputs": [],
   "source": []
  }
 ],
 "metadata": {
  "kernelspec": {
   "display_name": "packing-report",
   "language": "python",
   "name": "python3"
  },
  "language_info": {
   "codemirror_mode": {
    "name": "ipython",
    "version": 3
   },
   "file_extension": ".py",
   "mimetype": "text/x-python",
   "name": "python",
   "nbconvert_exporter": "python",
   "pygments_lexer": "ipython3",
   "version": "3.10.4"
  },
  "orig_nbformat": 4
 },
 "nbformat": 4,
 "nbformat_minor": 2
}
