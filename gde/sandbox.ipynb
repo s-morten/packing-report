{
 "cells": [
  {
   "cell_type": "code",
   "execution_count": null,
   "metadata": {},
   "outputs": [],
   "source": [
    "import sqlite3\n",
    "import pandas as pd\n",
    "import soccerdata as sd\n",
    "from pathlib import PosixPath\n",
    "import plotly.express as px"
   ]
  },
  {
   "cell_type": "code",
   "execution_count": null,
   "metadata": {},
   "outputs": [],
   "source": [
    "from database_io.db_handler import DB_handler"
   ]
  },
  {
   "cell_type": "code",
   "execution_count": null,
   "metadata": {},
   "outputs": [],
   "source": [
    "db_handler = DB_handler(\"/home/morten/Develop/packing-report/gde/GDE.db\")"
   ]
  },
  {
   "cell_type": "code",
   "execution_count": null,
   "metadata": {},
   "outputs": [],
   "source": [
    "import sqlite3\n",
    "import pandas as pd\n",
    "\n",
    "# Connect to the database\n",
    "conn = sqlite3.connect(\"/home/morten/Develop/packing-report/Goal-Difference-Elo-GDE/GDE.db\")\n",
    "\n",
    "# Execute SQL query and load results into a DataFrame\n",
    "df = pd.read_sql_query(\"SELECT * FROM games\", conn)"
   ]
  },
  {
   "cell_type": "code",
   "execution_count": null,
   "metadata": {},
   "outputs": [],
   "source": [
    "ws = sd.WhoScored(\n",
    "    #  \"GER-Bundesliga\", \"GER-Bundesliga2\", \"ENG-Premier League\", \"ESP-La Liga\", \"FRA-Ligue 1\", \"ITA-Serie A\"\n",
    "    leagues=[\"ENG-Premier League\"],\n",
    "    seasons=[16],\n",
    "    no_cache=False,\n",
    "    no_store=False,\n",
    "    data_dir=PosixPath(\"/home/morten/Develop/Open-Data/soccerdata\"),\n",
    "    path_to_browser=\"/usr/bin/chromium\",\n",
    "    headless=True,\n",
    ")"
   ]
  },
  {
   "cell_type": "code",
   "execution_count": null,
   "metadata": {},
   "outputs": [],
   "source": [
    "events = ws.read_events(match_id=[1080506])\n",
    "loader = ws.read_events(match_id=[1080506], output_fmt='loader')\n",
    "loader_players_df = loader.players(1080506)\n",
    "df_teams = loader.teams(game_id=1080506)"
   ]
  },
  {
   "cell_type": "code",
   "execution_count": null,
   "metadata": {},
   "outputs": [],
   "source": [
    "events"
   ]
  },
  {
   "cell_type": "code",
   "execution_count": null,
   "metadata": {},
   "outputs": [],
   "source": [
    "def is_own_goal(qualifiers):\n",
    "    return [max([(True if x[\"type\"][\"displayName\"] == \"OwnGoal\" else False) for x in events], default=False) for events in qualifiers]\n",
    "\n",
    "def get_opposition_team(df_goals: pd.DataFrame, df_teams: pd.DataFrame):\n",
    "    switched_teams = df_goals.copy()\n",
    "    team_id_one = df_teams[\"team_id\"].unique()[0]\n",
    "    team_id_two = df_teams[\"team_id\"].unique()[1]\n",
    "    switched_teams.replace({team_id_one : team_id_two,\n",
    "                            team_id_two : team_id_one}, inplace = True)\n",
    "    return switched_teams\n",
    "\n",
    "def get_score(events_df: pd.DataFrame, df_teams: pd.DataFrame):\n",
    "    goals = events_df.loc[(events_df[\"is_goal\"] == True)].copy()\n",
    "    goals[\"own_goal\"] = is_own_goal(goals[\"qualifiers\"])\n",
    "    goals.loc[~goals[\"own_goal\"], \"goal_team_id\"] = goals.loc[~goals[\"own_goal\"],\"team_id\"]\n",
    "    goals.loc[goals[\"own_goal\"], \"goal_team_id\"] = get_opposition_team(goals[\"team_id\"], df_teams)[goals[\"own_goal\"]]\n",
    "    goals.reset_index(inplace=True)\n",
    "    return goals[[\"expanded_minute\", \"goal_team_id\"]]"
   ]
  },
  {
   "cell_type": "code",
   "execution_count": null,
   "metadata": {},
   "outputs": [],
   "source": [
    "get_score(events, df_teams).sort_values(by=\"expanded_minute\")"
   ]
  },
  {
   "cell_type": "code",
   "execution_count": null,
   "metadata": {},
   "outputs": [],
   "source": [
    "from gde_utils.date_utils import to_datetime\n",
    "from datetime import date\n",
    "from game.game_timeline import GameTimeline"
   ]
  },
  {
   "cell_type": "code",
   "execution_count": null,
   "metadata": {},
   "outputs": [],
   "source": [
    "date = date(2016, 8, 14)\n",
    "game_timeline = GameTimeline(ws, 1080506, date, \"ENG-Premier League\", db_handler)\n",
    "game_timeline.handle()"
   ]
  },
  {
   "cell_type": "code",
   "execution_count": null,
   "metadata": {},
   "outputs": [],
   "source": [
    "df"
   ]
  },
  {
   "cell_type": "code",
   "execution_count": null,
   "metadata": {},
   "outputs": [],
   "source": [
    "px.scatter(df.groupby(\"game_date\").aggregate({\"elo\": \"mean\", \"opposition_elo\": \"mean\"}).reset_index(), x=\"game_date\", y=\"elo\")"
   ]
  },
  {
   "cell_type": "code",
   "execution_count": null,
   "metadata": {},
   "outputs": [],
   "source": [
    "df[df[\"starter\"] == 1].roundend_expected_game_result.hist()"
   ]
  },
  {
   "cell_type": "code",
   "execution_count": null,
   "metadata": {},
   "outputs": [],
   "source": [
    "df"
   ]
  },
  {
   "cell_type": "code",
   "execution_count": null,
   "metadata": {},
   "outputs": [],
   "source": [
    "df[df[\"starter\"] == 1].roundend_expected_game_result.hist()"
   ]
  }
 ],
 "metadata": {
  "kernelspec": {
   "display_name": "packing-report",
   "language": "python",
   "name": "python3"
  },
  "language_info": {
   "codemirror_mode": {
    "name": "ipython",
    "version": 3
   },
   "file_extension": ".py",
   "mimetype": "text/x-python",
   "name": "python",
   "nbconvert_exporter": "python",
   "pygments_lexer": "ipython3",
   "version": "3.10.4"
  }
 },
 "nbformat": 4,
 "nbformat_minor": 2
}
