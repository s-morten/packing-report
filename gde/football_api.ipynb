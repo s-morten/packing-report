{
 "cells": [
  {
   "cell_type": "code",
   "execution_count": null,
   "metadata": {},
   "outputs": [],
   "source": [
    "# GER-Bundesliga / 78 | 2015, 2016, 2018, 2019, 2020, 2021\n",
    "# GER-Bundesliga2 / 79 | 2018, 2019, 2020, 2021"
   ]
  },
  {
   "cell_type": "code",
   "execution_count": null,
   "metadata": {},
   "outputs": [],
   "source": [
    "import itertools\n",
    "import numpy as np\n",
    "import matplotlib.pyplot as plt\n",
    "import pandas as pd\n",
    "import json\n",
    "import http.client\n",
    "from time import sleep"
   ]
  },
  {
   "cell_type": "code",
   "execution_count": null,
   "metadata": {},
   "outputs": [],
   "source": [
    "api_key = json.load(open(\"../../.secrets.json\"))[\"soccerapi\"]"
   ]
  },
  {
   "cell_type": "code",
   "execution_count": null,
   "metadata": {},
   "outputs": [],
   "source": [
    "def call_api(league, season, page):\n",
    "    \n",
    "    conn = http.client.HTTPSConnection(\"v3.football.api-sports.io\")\n",
    "\n",
    "    headers = {\n",
    "        'x-rapidapi-host': \"v3.football.api-sports.io\",\n",
    "        'x-rapidapi-key': api_key\n",
    "        }\n",
    "\n",
    "    conn.request(\"GET\", f\"/players?league={league}&season={season}&page={page}\", headers=headers)\n",
    "\n",
    "    res = conn.getresponse()\n",
    "    data = res.read()\n",
    "\n",
    "    return json.loads(data.decode(\"utf-8\"))\n",
    "\n",
    "def get_player_data(league, season, page = 1, players_data = []):\n",
    "    players = call_api(league, season, page)\n",
    "    players_data.append(players)\n",
    "    return players_data\n",
    "    if players[\"paging\"][\"current\"] < players[\"paging\"][\"total\"]:\n",
    "        page = players[\"paging\"][\"current\"] + 1\n",
    "        if (page % 9) == 0:\n",
    "            sleep(60)\n",
    "\n",
    "        players_data = get_player_data(league, season, page, players_data)\n",
    "    return players_data\n"
   ]
  },
  {
   "cell_type": "code",
   "execution_count": null,
   "metadata": {},
   "outputs": [],
   "source": [
    "year = 2017\n",
    "league = \"GER-Bundesliga\"\n",
    "league_id = 78\n",
    "player_data = get_player_data(league_id, year)"
   ]
  },
  {
   "cell_type": "code",
   "execution_count": null,
   "metadata": {},
   "outputs": [],
   "source": [
    "player_data"
   ]
  },
  {
   "cell_type": "code",
   "execution_count": null,
   "metadata": {},
   "outputs": [],
   "source": [
    "player_names = []\n",
    "birthdates = []\n",
    "club1 = []\n",
    "club2 = []\n",
    "club3 = []\n",
    "for resp in player_data:\n",
    "    for pl in resp[\"response\"]:\n",
    "        player_names.append(f'{pl[\"player\"][\"firstname\"]} {pl[\"player\"][\"lastname\"]}')\n",
    "        birthdates.append(pl[\"player\"][\"birth\"][\"date\"])\n",
    "        club1.append(pl[\"statistics\"][0][\"team\"][\"name\"])\n",
    "        if len(pl[\"statistics\"]) > 1:\n",
    "            club2.append(pl[\"statistics\"][1][\"team\"][\"name\"])\n",
    "        else:\n",
    "            club2.append(None)\n",
    "        if len(pl[\"statistics\"]) > 2:\n",
    "            club3.append(pl[\"statistics\"][2][\"team\"][\"name\"])\n",
    "        else:\n",
    "            club3.append(None)"
   ]
  },
  {
   "cell_type": "code",
   "execution_count": null,
   "metadata": {},
   "outputs": [],
   "source": [
    "player_df = pd.DataFrame({\"Name\": player_names, \"Birthday\": birthdates, \"Club\": club1, \"Club2\": club2, \"Club3\": club3})\n",
    "player_df[\"Year\"] = year\n",
    "player_df[\"League\"] = league"
   ]
  },
  {
   "cell_type": "code",
   "execution_count": null,
   "metadata": {},
   "outputs": [],
   "source": [
    "name_substitutes = json.load(\n",
    "    open(\"/home/morten/soccerdata/config/teamname_replacements.json\")\n",
    ")\n",
    "for replace in name_substitutes:\n",
    "    for name in name_substitutes[replace]:\n",
    "        player_df.replace(name, replace, inplace=True)"
   ]
  },
  {
   "cell_type": "code",
   "execution_count": null,
   "metadata": {},
   "outputs": [],
   "source": [
    "player_df[\"Club\"].unique()"
   ]
  },
  {
   "cell_type": "code",
   "execution_count": null,
   "metadata": {},
   "outputs": [],
   "source": [
    "player_birthday_db = pd.read_csv(f\"player_birthday_db.csv\", sep=\";\")\n",
    "player_birthday_db = pd.concat([player_df, player_birthday_db], ignore_index=True)\n",
    "player_birthday_db.to_csv(\"player_birthday_db.csv\", index=False, sep=\";\")"
   ]
  },
  {
   "cell_type": "code",
   "execution_count": null,
   "metadata": {},
   "outputs": [],
   "source": [
    "player_birthday_db = pd.read_csv(f\"player_birthday_db.csv\", sep=\";\")\n",
    "print(player_birthday_db.shape)\n",
    "player_birthday_db = player_birthday_db.drop_duplicates()\n",
    "print(player_birthday_db.shape)\n",
    "player_birthday_db.to_csv(\"player_birthday_db.csv\", index=False, sep=\";\")"
   ]
  },
  {
   "cell_type": "code",
   "execution_count": null,
   "metadata": {},
   "outputs": [],
   "source": [
    "### \n",
    "# teamname replacement\n",
    "player_birthday_db = pd.read_csv(f\"player_birthday_db.csv\", sep=\";\")\n",
    "player_birthday_db[player_birthday_db[\"League\"] == \"GER-Bundesliga2\"][\"Club\"].unique()"
   ]
  },
  {
   "cell_type": "code",
   "execution_count": null,
   "metadata": {},
   "outputs": [],
   "source": [
    "name_substitutes = json.load(\n",
    "    open(\"/home/morten/soccerdata/config/teamname_replacements.json\")\n",
    ")\n",
    "for replace in name_substitutes:\n",
    "    for name in name_substitutes[replace]:\n",
    "        player_birthday_db.replace(name, replace, inplace=True)\n",
    "player_birthday_db.to_csv(\"player_birthday_db.csv\", index=False, sep=\";\")"
   ]
  },
  {
   "cell_type": "code",
   "execution_count": null,
   "metadata": {},
   "outputs": [],
   "source": []
  }
 ],
 "metadata": {
  "kernelspec": {
   "display_name": "packing-report",
   "language": "python",
   "name": "python3"
  },
  "language_info": {
   "codemirror_mode": {
    "name": "ipython",
    "version": 3
   },
   "file_extension": ".py",
   "mimetype": "text/x-python",
   "name": "python",
   "nbconvert_exporter": "python",
   "pygments_lexer": "ipython3",
   "version": "3.10.4"
  },
  "orig_nbformat": 4
 },
 "nbformat": 4,
 "nbformat_minor": 2
}
