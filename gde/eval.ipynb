{
 "cells": [
  {
   "cell_type": "code",
   "execution_count": null,
   "metadata": {},
   "outputs": [],
   "source": [
    "%reload_ext autoreload\n",
    "%autoreload 2"
   ]
  },
  {
   "cell_type": "code",
   "execution_count": null,
   "metadata": {},
   "outputs": [],
   "source": [
    "import soccerdata as sd\n",
    "from pathlib import PosixPath\n",
    "import pandas as pd\n",
    "import numpy as np\n",
    "\n",
    "import os\n",
    "import cProfile\n",
    "from tqdm import tqdm"
   ]
  },
  {
   "cell_type": "code",
   "execution_count": null,
   "metadata": {},
   "outputs": [],
   "source": [
    "ws = sd.WhoScored(\n",
    "    #  \"GER-Bundesliga\", \"GER-Bundesliga2\", \"ENG-Premier League\", \"ESP-La Liga\", \"FRA-Ligue 1\", \"ITA-Serie A\"\n",
    "    leagues=[\"GER-Bundesliga2\", \"GER-Bundesliga\", \"ENG-Premier League\"],\n",
    "    seasons=[21],\n",
    "    no_cache=False,\n",
    "    no_store=False,\n",
    "    data_dir=PosixPath(\"/home/morten/Develop/Open-Data/soccerdata\"),\n",
    "    path_to_browser=\"/usr/bin/chromium\",\n",
    "    headless=True,\n",
    ")"
   ]
  },
  {
   "cell_type": "code",
   "execution_count": null,
   "metadata": {},
   "outputs": [],
   "source": [
    "schedule = ws.read_schedule().reset_index()\n",
    "test_game = schedule[\"game_id\"].values[0]\n",
    "test_date = schedule[schedule[\"game_id\"] == test_game][\"date\"].values[0]"
   ]
  },
  {
   "cell_type": "code",
   "execution_count": null,
   "metadata": {},
   "outputs": [],
   "source": [
    "schedule"
   ]
  },
  {
   "cell_type": "markdown",
   "metadata": {},
   "source": [
    "---"
   ]
  },
  {
   "cell_type": "code",
   "execution_count": null,
   "metadata": {},
   "outputs": [],
   "source": [
    "# get dataset\n",
    "import gde.database_io.dims\n",
    "import gde.database_io.faks\n",
    "\n",
    "from sqlalchemy import create_engine\n",
    "from sqlalchemy.orm import Session\n",
    "\n",
    "test_game = 1557933\n",
    "db_path = \"/home/morten/Develop/packing-report/gde/GDE.db\"\n",
    "\n",
    "engine = create_engine(f'sqlite:///{db_path}', echo=False)\n",
    "session = Session(engine)\n",
    "\n",
    "\n",
    "from sqlalchemy import func\n",
    "\n",
    "from sqlalchemy import func\n",
    "from sqlalchemy.orm import aliased\n",
    "\n",
    "# Subquery for result_table\n",
    "ranked_subquery = (\n",
    "    session.query(\n",
    "        gde.database_io.dims.Games.game_id,\n",
    "        gde.database_io.dims.Games.team_id,\n",
    "        gde.database_io.dims.Games.result,\n",
    "        func.row_number().over(\n",
    "            partition_by=(gde.database_io.dims.Games.game_id, gde.database_io.dims.Games.team_id),\n",
    "            order_by=func.count().desc()\n",
    "        ).label('rank')\n",
    "    )\n",
    "    .filter(gde.database_io.dims.Games.game_date > '2018-06-01')\n",
    "    .group_by(gde.database_io.dims.Games.game_id, gde.database_io.dims.Games.team_id, gde.database_io.dims.Games.result)\n",
    "    .subquery()\n",
    ")\n",
    "\n",
    "result_table = (\n",
    "    session.query(ranked_subquery.c.game_id, ranked_subquery.c.team_id, ranked_subquery.c.result)\n",
    "    .filter(ranked_subquery.c.rank == 1)\n",
    "    .subquery()\n",
    ")\n",
    "\n",
    "# Subquery for elo_table\n",
    "elo_table = (\n",
    "    session.query(\n",
    "        func.avg(gde.database_io.dims.Games.elo).label('avg_elo'),\n",
    "        gde.database_io.dims.Games.team_id,\n",
    "        gde.database_io.dims.Games.game_id\n",
    "    )\n",
    "    .filter(gde.database_io.dims.Games.game_date > '2018-06-01')\n",
    "    .group_by(gde.database_io.dims.Games.game_id, gde.database_io.dims.Games.team_id)\n",
    "    .subquery()\n",
    ")\n",
    "\n",
    "# Joining the subqueries\n",
    "query = (\n",
    "    session.query(\n",
    "        result_table.c.game_id,\n",
    "        result_table.c.team_id,\n",
    "        result_table.c.result,\n",
    "        elo_table.c.avg_elo\n",
    "    )\n",
    "    .join(elo_table, \n",
    "          (result_table.c.game_id == elo_table.c.game_id) & \n",
    "          (result_table.c.team_id == elo_table.c.team_id))\n",
    ")\n",
    "\n",
    "results = query.all()"
   ]
  },
  {
   "cell_type": "code",
   "execution_count": null,
   "metadata": {},
   "outputs": [],
   "source": []
  },
  {
   "cell_type": "code",
   "execution_count": null,
   "metadata": {},
   "outputs": [],
   "source": [
    "# get dataset\n",
    "import gde.database_io.dims\n",
    "import gde.database_io.faks\n",
    "\n",
    "from sqlalchemy import create_engine\n",
    "from sqlalchemy.orm import Session\n",
    "\n",
    "test_game = 1557933\n",
    "db_path = \"/home/morten/Develop/packing-report/gde/GDE.db\"\n",
    "\n",
    "engine = create_engine(f'sqlite:///{db_path}', echo=False)\n",
    "session = Session(engine)\n",
    "\n",
    "\n",
    "from sqlalchemy import func\n",
    "\n",
    "from sqlalchemy import func\n",
    "from sqlalchemy.orm import aliased\n",
    "\n",
    "# Subquery for result_table\n",
    "ranked_subquery = (\n",
    "    session.query(\n",
    "        gde.database_io.dims.Games.game_id,\n",
    "        gde.database_io.dims.Games.team_id,\n",
    "        gde.database_io.dims.Games.result,\n",
    "        func.row_number().over(\n",
    "            partition_by=(gde.database_io.dims.Games.game_id, gde.database_io.dims.Games.team_id),\n",
    "            order_by=func.count().desc()\n",
    "        ).label('rank')\n",
    "    )\n",
    "    .filter(gde.database_io.dims.Games.game_date > '2018-06-01')\n",
    "    .group_by(gde.database_io.dims.Games.game_id, gde.database_io.dims.Games.team_id, gde.database_io.dims.Games.result)\n",
    "    .subquery()\n",
    ")\n",
    "\n",
    "result_table = (\n",
    "    session.query(ranked_subquery.c.game_id, ranked_subquery.c.team_id, ranked_subquery.c.result)\n",
    "    .filter(ranked_subquery.c.rank == 1)\n",
    "    .subquery()\n",
    ")\n",
    "\n",
    "# Subquery for elo_table\n",
    "elo_table = (\n",
    "    session.query(\n",
    "        func.avg(gde.database_io.dims.Games.elo).label('avg_elo'),\n",
    "        gde.database_io.dims.Games.team_id,\n",
    "        gde.database_io.dims.Games.game_id\n",
    "    )\n",
    "    .filter(gde.database_io.dims.Games.game_date > '2018-06-01')\n",
    "    .group_by(gde.database_io.dims.Games.game_id, gde.database_io.dims.Games.team_id)\n",
    "    .subquery()\n",
    ")\n",
    "\n",
    "# Joining the subqueries\n",
    "query = (\n",
    "    session.query(\n",
    "        result_table.c.game_id,\n",
    "        result_table.c.team_id,\n",
    "        result_table.c.result,\n",
    "        elo_table.c.avg_elo\n",
    "    )\n",
    "    .join(elo_table, \n",
    "          (result_table.c.game_id == elo_table.c.game_id) & \n",
    "          (result_table.c.team_id == elo_table.c.team_id))\n",
    ")\n",
    "\n",
    "results = query.all()"
   ]
  },
  {
   "cell_type": "code",
   "execution_count": null,
   "metadata": {},
   "outputs": [],
   "source": [
    "pred_data = pd.DataFrame(np.array(results), columns=[\"game_id\", \"team_id\", \"result\", \"avg_elo\"])"
   ]
  },
  {
   "cell_type": "code",
   "execution_count": null,
   "metadata": {},
   "outputs": [],
   "source": [
    "pred_data = pd.merge(pred_data, pred_data, how=\"outer\", on=\"game_id\")\n",
    "pred_data = pred_data.loc[pred_data[\"team_id_x\"] != pred_data[\"team_id_y\"]]"
   ]
  },
  {
   "cell_type": "code",
   "execution_count": null,
   "metadata": {},
   "outputs": [],
   "source": [
    "pred_data"
   ]
  },
  {
   "cell_type": "code",
   "execution_count": null,
   "metadata": {},
   "outputs": [],
   "source": [
    "pred_data[\"elo_diff\"] = pred_data[\"avg_elo_x\"].astype(float) - pred_data[\"avg_elo_y\"].astype(float)\n",
    "pred_data[\"result_diff\"] = pred_data[\"result_x\"].apply(lambda x: int(x.split(\"-\")[0]) - int(x.split(\"-\")[1]))"
   ]
  },
  {
   "cell_type": "code",
   "execution_count": null,
   "metadata": {},
   "outputs": [],
   "source": [
    "import seaborn as sns\n",
    "import matplotlib.pyplot as plt\n",
    "from scipy import stats"
   ]
  },
  {
   "cell_type": "code",
   "execution_count": null,
   "metadata": {},
   "outputs": [],
   "source": [
    "#sns.distplot(pred_data[\"result_diff\"])\n",
    "stats.probplot(pred_data[\"result_diff\"], plot=plt)"
   ]
  },
  {
   "cell_type": "code",
   "execution_count": null,
   "metadata": {},
   "outputs": [],
   "source": [
    "import plotly.express as px\n",
    "\n",
    "# feat = np.log1p(pred_data[\"result_diff\"])\n",
    "\n",
    "px.scatter(pred_data, x=\"result_diff\", y=\"elo_diff\")"
   ]
  },
  {
   "cell_type": "code",
   "execution_count": null,
   "metadata": {},
   "outputs": [],
   "source": [
    "from sklearn.linear_model import LinearRegression\n",
    "lr = LinearRegression()"
   ]
  },
  {
   "cell_type": "code",
   "execution_count": null,
   "metadata": {},
   "outputs": [],
   "source": [
    "lr.fit(X=pred_data[\"elo_diff\"].values.reshape(-1, 1), y=pred_data[\"result_diff\"])"
   ]
  },
  {
   "cell_type": "code",
   "execution_count": null,
   "metadata": {},
   "outputs": [],
   "source": [
    "lr.coef_"
   ]
  },
  {
   "cell_type": "code",
   "execution_count": null,
   "metadata": {},
   "outputs": [],
   "source": [
    "lr.intercept_"
   ]
  },
  {
   "cell_type": "code",
   "execution_count": null,
   "metadata": {},
   "outputs": [],
   "source": [
    "lr.predict([[1676.1701826960673 - 1780.7405858122504]])"
   ]
  },
  {
   "cell_type": "code",
   "execution_count": null,
   "metadata": {},
   "outputs": [],
   "source": [
    "pred_data = pred_data.groupby('game_id').first().reset_index()"
   ]
  },
  {
   "cell_type": "code",
   "execution_count": null,
   "metadata": {},
   "outputs": [],
   "source": [
    "pred_data"
   ]
  },
  {
   "cell_type": "code",
   "execution_count": null,
   "metadata": {},
   "outputs": [],
   "source": [
    "pred_data[\"prediction\"] = pred_data.apply(lambda x: lr.predict([[x[\"elo_diff\"]]])[0], axis=1)"
   ]
  },
  {
   "cell_type": "code",
   "execution_count": null,
   "metadata": {},
   "outputs": [],
   "source": [
    "pred_data"
   ]
  },
  {
   "cell_type": "code",
   "execution_count": null,
   "metadata": {},
   "outputs": [],
   "source": [
    "#sns.distplot(pred_data[\"result_diff\"])\n",
    "stats.probplot(pred_data[\"result_diff\"], plot=plt)"
   ]
  },
  {
   "cell_type": "code",
   "execution_count": null,
   "metadata": {},
   "outputs": [],
   "source": [
    "np.mean((pred_data[\"result_diff\"] - pred_data[\"prediction\"])**2)"
   ]
  },
  {
   "cell_type": "code",
   "execution_count": null,
   "metadata": {},
   "outputs": [],
   "source": []
  }
 ],
 "metadata": {
  "kernelspec": {
   "display_name": "packing-report",
   "language": "python",
   "name": "python3"
  },
  "language_info": {
   "codemirror_mode": {
    "name": "ipython",
    "version": 3
   },
   "file_extension": ".py",
   "mimetype": "text/x-python",
   "name": "python",
   "nbconvert_exporter": "python",
   "pygments_lexer": "ipython3",
   "version": "3.10.4"
  }
 },
 "nbformat": 4,
 "nbformat_minor": 2
}
