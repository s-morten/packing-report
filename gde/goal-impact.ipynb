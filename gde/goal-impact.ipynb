{
 "cells": [
  {
   "cell_type": "markdown",
   "metadata": {},
   "source": [
    "Example / Test Main"
   ]
  },
  {
   "cell_type": "code",
   "execution_count": 1,
   "metadata": {},
   "outputs": [],
   "source": [
    "%reload_ext autoreload\n",
    "%autoreload 2"
   ]
  },
  {
   "cell_type": "code",
   "execution_count": 2,
   "metadata": {},
   "outputs": [
    {
     "data": {
      "text/html": [
       "<pre style=\"white-space:pre;overflow-x:auto;line-height:normal;font-family:Menlo,'DejaVu Sans Mono',consolas,'Courier New',monospace\"><span style=\"color: #7fbfbf; text-decoration-color: #7fbfbf\">[03/16/24 09:28:18] </span><span style=\"color: #000080; text-decoration-color: #000080\">INFO    </span> Custom team name replacements loaded from                                <a href=\"file:///home/morten/.conda/envs/packing-report/lib/python3.10/site-packages/soccerdata/_config.py\" target=\"_blank\"><span style=\"color: #7f7f7f; text-decoration-color: #7f7f7f\">_config.py</span></a><span style=\"color: #7f7f7f; text-decoration-color: #7f7f7f\">:</span><a href=\"file:///home/morten/.conda/envs/packing-report/lib/python3.10/site-packages/soccerdata/_config.py#85\" target=\"_blank\"><span style=\"color: #7f7f7f; text-decoration-color: #7f7f7f\">85</span></a>\n",
       "<span style=\"color: #7fbfbf; text-decoration-color: #7fbfbf\">                    </span>         <span style=\"color: #800080; text-decoration-color: #800080\">/home/morten/soccerdata/config/</span><span style=\"color: #ff00ff; text-decoration-color: #ff00ff\">teamname_replacements.json.</span>               <span style=\"color: #7f7f7f; text-decoration-color: #7f7f7f\">             </span>\n",
       "</pre>\n"
      ],
      "text/plain": [
       "\u001b[2;36m[03/16/24 09:28:18]\u001b[0m\u001b[2;36m \u001b[0m\u001b[34mINFO    \u001b[0m Custom team name replacements loaded from                                \u001b]8;id=969659;file:///home/morten/.conda/envs/packing-report/lib/python3.10/site-packages/soccerdata/_config.py\u001b\\\u001b[2m_config.py\u001b[0m\u001b]8;;\u001b\\\u001b[2m:\u001b[0m\u001b]8;id=45445;file:///home/morten/.conda/envs/packing-report/lib/python3.10/site-packages/soccerdata/_config.py#85\u001b\\\u001b[2m85\u001b[0m\u001b]8;;\u001b\\\n",
       "\u001b[2;36m                    \u001b[0m         \u001b[35m/home/morten/soccerdata/config/\u001b[0m\u001b[95mteamname_replacements.json.\u001b[0m               \u001b[2m             \u001b[0m\n"
      ]
     },
     "metadata": {},
     "output_type": "display_data"
    },
    {
     "data": {
      "text/html": [
       "<pre style=\"white-space:pre;overflow-x:auto;line-height:normal;font-family:Menlo,'DejaVu Sans Mono',consolas,'Courier New',monospace\"><span style=\"color: #7fbfbf; text-decoration-color: #7fbfbf\">                    </span><span style=\"color: #000080; text-decoration-color: #000080\">INFO    </span> Custom league dict loaded from                                          <a href=\"file:///home/morten/.conda/envs/packing-report/lib/python3.10/site-packages/soccerdata/_config.py\" target=\"_blank\"><span style=\"color: #7f7f7f; text-decoration-color: #7f7f7f\">_config.py</span></a><span style=\"color: #7f7f7f; text-decoration-color: #7f7f7f\">:</span><a href=\"file:///home/morten/.conda/envs/packing-report/lib/python3.10/site-packages/soccerdata/_config.py#163\" target=\"_blank\"><span style=\"color: #7f7f7f; text-decoration-color: #7f7f7f\">163</span></a>\n",
       "<span style=\"color: #7fbfbf; text-decoration-color: #7fbfbf\">                    </span>         <span style=\"color: #800080; text-decoration-color: #800080\">/home/morten/soccerdata/config/</span><span style=\"color: #ff00ff; text-decoration-color: #ff00ff\">league_dict.json.</span>                        <span style=\"color: #7f7f7f; text-decoration-color: #7f7f7f\">              </span>\n",
       "</pre>\n"
      ],
      "text/plain": [
       "\u001b[2;36m                   \u001b[0m\u001b[2;36m \u001b[0m\u001b[34mINFO    \u001b[0m Custom league dict loaded from                                          \u001b]8;id=876306;file:///home/morten/.conda/envs/packing-report/lib/python3.10/site-packages/soccerdata/_config.py\u001b\\\u001b[2m_config.py\u001b[0m\u001b]8;;\u001b\\\u001b[2m:\u001b[0m\u001b]8;id=690427;file:///home/morten/.conda/envs/packing-report/lib/python3.10/site-packages/soccerdata/_config.py#163\u001b\\\u001b[2m163\u001b[0m\u001b]8;;\u001b\\\n",
       "\u001b[2;36m                    \u001b[0m         \u001b[35m/home/morten/soccerdata/config/\u001b[0m\u001b[95mleague_dict.json.\u001b[0m                        \u001b[2m              \u001b[0m\n"
      ]
     },
     "metadata": {},
     "output_type": "display_data"
    }
   ],
   "source": [
    "import soccerdata as sd\n",
    "from pathlib import PosixPath\n",
    "import pandas as pd\n",
    "import numpy as np\n",
    "\n",
    "import os\n",
    "import cProfile\n",
    "from tqdm import tqdm"
   ]
  },
  {
   "cell_type": "code",
   "execution_count": 4,
   "metadata": {},
   "outputs": [],
   "source": [
    "# from gde_utils.date_utils import to_datetime\n",
    "# from gde.database_io.db_handler import DB_handler\n",
    "# from game.game_timeline import GameTimeline"
   ]
  },
  {
   "cell_type": "code",
   "execution_count": 2,
   "metadata": {},
   "outputs": [],
   "source": [
    "import toml\n",
    "\n",
    "\n",
    "conf = toml.load(\"gde/config.toml\")"
   ]
  },
  {
   "cell_type": "code",
   "execution_count": 3,
   "metadata": {},
   "outputs": [
    {
     "data": {
      "text/plain": [
       "{'whoscored': {'leagues': ['GER-Bundesliga2', 'GER-Bundesliga'],\n",
       "  'seasons': [17, 18, 19, 20, 21, 22]}}"
      ]
     },
     "execution_count": 3,
     "metadata": {},
     "output_type": "execute_result"
    }
   ],
   "source": [
    "conf"
   ]
  },
  {
   "cell_type": "code",
   "execution_count": 22,
   "metadata": {},
   "outputs": [
    {
     "name": "stdout",
     "output_type": "stream",
     "text": [
      "Starting ChromeDriver in headless mode. 4.11.2\n"
     ]
    },
    {
     "data": {
      "text/html": [
       "<pre style=\"white-space:pre;overflow-x:auto;line-height:normal;font-family:Menlo,'DejaVu Sans Mono',consolas,'Courier New',monospace\"><span style=\"color: #7fbfbf; text-decoration-color: #7fbfbf\">[03/07/24 11:40:30] </span><span style=\"color: #000080; text-decoration-color: #000080\">INFO    </span> patching driver executable                                              <a href=\"file:///home/morten/.conda/envs/packing-report/lib/python3.10/site-packages/undetected_chromedriver/patcher.py\" target=\"_blank\"><span style=\"color: #7f7f7f; text-decoration-color: #7f7f7f\">patcher.py</span></a><span style=\"color: #7f7f7f; text-decoration-color: #7f7f7f\">:</span><a href=\"file:///home/morten/.conda/envs/packing-report/lib/python3.10/site-packages/undetected_chromedriver/patcher.py#346\" target=\"_blank\"><span style=\"color: #7f7f7f; text-decoration-color: #7f7f7f\">346</span></a>\n",
       "<span style=\"color: #7fbfbf; text-decoration-color: #7fbfbf\">                    </span>         <span style=\"color: #800080; text-decoration-color: #800080\">/home/morten/.local/share/undetected_chromedriver/</span><span style=\"color: #ff00ff; text-decoration-color: #ff00ff\">undetected_chromedriv</span> <span style=\"color: #7f7f7f; text-decoration-color: #7f7f7f\">              </span>\n",
       "<span style=\"color: #7fbfbf; text-decoration-color: #7fbfbf\">                    </span>         <span style=\"color: #ff00ff; text-decoration-color: #ff00ff\">er</span>                                                                      <span style=\"color: #7f7f7f; text-decoration-color: #7f7f7f\">              </span>\n",
       "</pre>\n"
      ],
      "text/plain": [
       "\u001b[2;36m[03/07/24 11:40:30]\u001b[0m\u001b[2;36m \u001b[0m\u001b[34mINFO    \u001b[0m patching driver executable                                              \u001b]8;id=858432;file:///home/morten/.conda/envs/packing-report/lib/python3.10/site-packages/undetected_chromedriver/patcher.py\u001b\\\u001b[2mpatcher.py\u001b[0m\u001b]8;;\u001b\\\u001b[2m:\u001b[0m\u001b]8;id=772830;file:///home/morten/.conda/envs/packing-report/lib/python3.10/site-packages/undetected_chromedriver/patcher.py#346\u001b\\\u001b[2m346\u001b[0m\u001b]8;;\u001b\\\n",
       "\u001b[2;36m                    \u001b[0m         \u001b[35m/home/morten/.local/share/undetected_chromedriver/\u001b[0m\u001b[95mundetected_chromedriv\u001b[0m \u001b[2m              \u001b[0m\n",
       "\u001b[2;36m                    \u001b[0m         \u001b[95mer\u001b[0m                                                                      \u001b[2m              \u001b[0m\n"
      ]
     },
     "metadata": {},
     "output_type": "display_data"
    }
   ],
   "source": [
    "ws = sd.WhoScored(\n",
    "    #  \"GER-Bundesliga\", \"GER-Bundesliga2\", \"ENG-Premier League\", \"ESP-La Liga\", \"FRA-Ligue 1\", \"ITA-Serie A\"\n",
    "    leagues=[\"GER-Bundesliga2\", \"GER-Bundesliga\"],\n",
    "    #seasons=[17, 18, 19, 20, 21],\n",
    "    seasons=[22],\n",
    "    # leagues=[\"GER-Bundesliga\"],\n",
    "    # seasons=[21],\n",
    "    no_cache=False,\n",
    "    no_store=False,\n",
    "    data_dir=PosixPath(\"/home/morten/Develop/Open-Data/soccerdata\"),\n",
    "    path_to_browser=\"/usr/bin/chromium\",\n",
    "    headless=True,\n",
    ")"
   ]
  },
  {
   "cell_type": "code",
   "execution_count": 23,
   "metadata": {},
   "outputs": [],
   "source": [
    "schedule = ws.read_schedule().reset_index()\n",
    "test_game = schedule[\"game_id\"].values[0]\n",
    "test_date = schedule[schedule[\"game_id\"] == test_game][\"date\"].values[0]"
   ]
  },
  {
   "cell_type": "code",
   "execution_count": 24,
   "metadata": {},
   "outputs": [],
   "source": [
    "schedule = schedule.sort_values(\"date\")"
   ]
  },
  {
   "cell_type": "code",
   "execution_count": 25,
   "metadata": {},
   "outputs": [
    {
     "data": {
      "text/html": [
       "<div>\n",
       "<style scoped>\n",
       "    .dataframe tbody tr th:only-of-type {\n",
       "        vertical-align: middle;\n",
       "    }\n",
       "\n",
       "    .dataframe tbody tr th {\n",
       "        vertical-align: top;\n",
       "    }\n",
       "\n",
       "    .dataframe thead th {\n",
       "        text-align: right;\n",
       "    }\n",
       "</style>\n",
       "<table border=\"1\" class=\"dataframe\">\n",
       "  <thead>\n",
       "    <tr style=\"text-align: right;\">\n",
       "      <th></th>\n",
       "      <th>league</th>\n",
       "      <th>season</th>\n",
       "      <th>game</th>\n",
       "      <th>date</th>\n",
       "      <th>home_team</th>\n",
       "      <th>away_team</th>\n",
       "      <th>game_id</th>\n",
       "      <th>url</th>\n",
       "      <th>stage</th>\n",
       "    </tr>\n",
       "  </thead>\n",
       "  <tbody>\n",
       "    <tr>\n",
       "      <th>226</th>\n",
       "      <td>GER-Bundesliga2</td>\n",
       "      <td>2223</td>\n",
       "      <td>2022-07-15 Kaiserslautern-Hannover</td>\n",
       "      <td>2022-07-15 19:30:00</td>\n",
       "      <td>Kaiserslautern</td>\n",
       "      <td>Hannover</td>\n",
       "      <td>1643360</td>\n",
       "      <td>https://www.whoscored.com/Matches/1643360/Live...</td>\n",
       "      <td>NaN</td>\n",
       "    </tr>\n",
       "    <tr>\n",
       "      <th>230</th>\n",
       "      <td>GER-Bundesliga2</td>\n",
       "      <td>2223</td>\n",
       "      <td>2022-07-16 Sandhausen-Arminia Bielefeld</td>\n",
       "      <td>2022-07-16 12:00:00</td>\n",
       "      <td>Sandhausen</td>\n",
       "      <td>Arminia Bielefeld</td>\n",
       "      <td>1643365</td>\n",
       "      <td>https://www.whoscored.com/Matches/1643365/Live...</td>\n",
       "      <td>NaN</td>\n",
       "    </tr>\n",
       "    <tr>\n",
       "      <th>231</th>\n",
       "      <td>GER-Bundesliga2</td>\n",
       "      <td>2223</td>\n",
       "      <td>2022-07-16 St. Pauli-Nuernberg</td>\n",
       "      <td>2022-07-16 12:00:00</td>\n",
       "      <td>St. Pauli</td>\n",
       "      <td>Nuernberg</td>\n",
       "      <td>1643362</td>\n",
       "      <td>https://www.whoscored.com/Matches/1643362/Live...</td>\n",
       "      <td>NaN</td>\n",
       "    </tr>\n",
       "    <tr>\n",
       "      <th>228</th>\n",
       "      <td>GER-Bundesliga2</td>\n",
       "      <td>2223</td>\n",
       "      <td>2022-07-16 Jahn Regensburg-Darmstadt</td>\n",
       "      <td>2022-07-16 12:00:00</td>\n",
       "      <td>Jahn Regensburg</td>\n",
       "      <td>Darmstadt</td>\n",
       "      <td>1643366</td>\n",
       "      <td>https://www.whoscored.com/Matches/1643366/Live...</td>\n",
       "      <td>NaN</td>\n",
       "    </tr>\n",
       "    <tr>\n",
       "      <th>227</th>\n",
       "      <td>GER-Bundesliga2</td>\n",
       "      <td>2223</td>\n",
       "      <td>2022-07-16 Greuther Fuerth-Holstein Kiel</td>\n",
       "      <td>2022-07-16 12:00:00</td>\n",
       "      <td>Greuther Fuerth</td>\n",
       "      <td>Holstein Kiel</td>\n",
       "      <td>1643361</td>\n",
       "      <td>https://www.whoscored.com/Matches/1643361/Live...</td>\n",
       "      <td>NaN</td>\n",
       "    </tr>\n",
       "    <tr>\n",
       "      <th>...</th>\n",
       "      <td>...</td>\n",
       "      <td>...</td>\n",
       "      <td>...</td>\n",
       "      <td>...</td>\n",
       "      <td>...</td>\n",
       "      <td>...</td>\n",
       "      <td>...</td>\n",
       "      <td>...</td>\n",
       "      <td>...</td>\n",
       "    </tr>\n",
       "    <tr>\n",
       "      <th>222</th>\n",
       "      <td>GER-Bundesliga</td>\n",
       "      <td>2223</td>\n",
       "      <td>2023-03-19 Leverkusen-Bayern</td>\n",
       "      <td>2023-03-19 16:30:00</td>\n",
       "      <td>Leverkusen</td>\n",
       "      <td>Bayern</td>\n",
       "      <td>1643320</td>\n",
       "      <td>https://www.whoscored.com/Matches/1643320/Live...</td>\n",
       "      <td>NaN</td>\n",
       "    </tr>\n",
       "    <tr>\n",
       "      <th>223</th>\n",
       "      <td>GER-Bundesliga</td>\n",
       "      <td>2223</td>\n",
       "      <td>2023-03-19 Mainz-Freiburg</td>\n",
       "      <td>2023-03-19 18:30:00</td>\n",
       "      <td>Mainz</td>\n",
       "      <td>Freiburg</td>\n",
       "      <td>1643324</td>\n",
       "      <td>https://www.whoscored.com/Matches/1643324/Live...</td>\n",
       "      <td>NaN</td>\n",
       "    </tr>\n",
       "    <tr>\n",
       "      <th>451</th>\n",
       "      <td>GER-Bundesliga2</td>\n",
       "      <td>2223</td>\n",
       "      <td>2023-03-31 Fortuna Duesseldorf-Hamburg</td>\n",
       "      <td>2023-03-31 17:30:00</td>\n",
       "      <td>Fortuna Duesseldorf</td>\n",
       "      <td>Hamburg</td>\n",
       "      <td>1643660</td>\n",
       "      <td>https://www.whoscored.com/Matches/1643660/Live...</td>\n",
       "      <td>NaN</td>\n",
       "    </tr>\n",
       "    <tr>\n",
       "      <th>452</th>\n",
       "      <td>GER-Bundesliga2</td>\n",
       "      <td>2223</td>\n",
       "      <td>2023-03-31 Nuernberg-Darmstadt</td>\n",
       "      <td>2023-03-31 17:30:00</td>\n",
       "      <td>Nuernberg</td>\n",
       "      <td>Darmstadt</td>\n",
       "      <td>1643658</td>\n",
       "      <td>https://www.whoscored.com/Matches/1643658/Live...</td>\n",
       "      <td>NaN</td>\n",
       "    </tr>\n",
       "    <tr>\n",
       "      <th>225</th>\n",
       "      <td>GER-Bundesliga</td>\n",
       "      <td>2223</td>\n",
       "      <td>2023-03-31 Eintracht Frankfurt-Bochum</td>\n",
       "      <td>2023-03-31 19:30:00</td>\n",
       "      <td>Eintracht Frankfurt</td>\n",
       "      <td>Bochum</td>\n",
       "      <td>1643222</td>\n",
       "      <td>https://www.whoscored.com/Matches/1643222/Live...</td>\n",
       "      <td>NaN</td>\n",
       "    </tr>\n",
       "  </tbody>\n",
       "</table>\n",
       "<p>453 rows × 9 columns</p>\n",
       "</div>"
      ],
      "text/plain": [
       "              league  season                                      game  \\\n",
       "226  GER-Bundesliga2    2223        2022-07-15 Kaiserslautern-Hannover   \n",
       "230  GER-Bundesliga2    2223   2022-07-16 Sandhausen-Arminia Bielefeld   \n",
       "231  GER-Bundesliga2    2223            2022-07-16 St. Pauli-Nuernberg   \n",
       "228  GER-Bundesliga2    2223      2022-07-16 Jahn Regensburg-Darmstadt   \n",
       "227  GER-Bundesliga2    2223  2022-07-16 Greuther Fuerth-Holstein Kiel   \n",
       "..               ...     ...                                       ...   \n",
       "222   GER-Bundesliga    2223              2023-03-19 Leverkusen-Bayern   \n",
       "223   GER-Bundesliga    2223                 2023-03-19 Mainz-Freiburg   \n",
       "451  GER-Bundesliga2    2223    2023-03-31 Fortuna Duesseldorf-Hamburg   \n",
       "452  GER-Bundesliga2    2223            2023-03-31 Nuernberg-Darmstadt   \n",
       "225   GER-Bundesliga    2223     2023-03-31 Eintracht Frankfurt-Bochum   \n",
       "\n",
       "                   date            home_team          away_team  game_id  \\\n",
       "226 2022-07-15 19:30:00       Kaiserslautern           Hannover  1643360   \n",
       "230 2022-07-16 12:00:00           Sandhausen  Arminia Bielefeld  1643365   \n",
       "231 2022-07-16 12:00:00            St. Pauli          Nuernberg  1643362   \n",
       "228 2022-07-16 12:00:00      Jahn Regensburg          Darmstadt  1643366   \n",
       "227 2022-07-16 12:00:00      Greuther Fuerth      Holstein Kiel  1643361   \n",
       "..                  ...                  ...                ...      ...   \n",
       "222 2023-03-19 16:30:00           Leverkusen             Bayern  1643320   \n",
       "223 2023-03-19 18:30:00                Mainz           Freiburg  1643324   \n",
       "451 2023-03-31 17:30:00  Fortuna Duesseldorf            Hamburg  1643660   \n",
       "452 2023-03-31 17:30:00            Nuernberg          Darmstadt  1643658   \n",
       "225 2023-03-31 19:30:00  Eintracht Frankfurt             Bochum  1643222   \n",
       "\n",
       "                                                   url  stage  \n",
       "226  https://www.whoscored.com/Matches/1643360/Live...    NaN  \n",
       "230  https://www.whoscored.com/Matches/1643365/Live...    NaN  \n",
       "231  https://www.whoscored.com/Matches/1643362/Live...    NaN  \n",
       "228  https://www.whoscored.com/Matches/1643366/Live...    NaN  \n",
       "227  https://www.whoscored.com/Matches/1643361/Live...    NaN  \n",
       "..                                                 ...    ...  \n",
       "222  https://www.whoscored.com/Matches/1643320/Live...    NaN  \n",
       "223  https://www.whoscored.com/Matches/1643324/Live...    NaN  \n",
       "451  https://www.whoscored.com/Matches/1643660/Live...    NaN  \n",
       "452  https://www.whoscored.com/Matches/1643658/Live...    NaN  \n",
       "225  https://www.whoscored.com/Matches/1643222/Live...    NaN  \n",
       "\n",
       "[453 rows x 9 columns]"
      ]
     },
     "execution_count": 25,
     "metadata": {},
     "output_type": "execute_result"
    }
   ],
   "source": [
    "schedule"
   ]
  },
  {
   "cell_type": "code",
   "execution_count": 26,
   "metadata": {},
   "outputs": [
    {
     "name": "stdout",
     "output_type": "stream",
     "text": [
      "Updated regressor parameters:  {'intercept': 0.008244001923021538, 'coefficient_elo_diff': 0.0033018467356396805, 'coefficient_min': 0.0009872308265998998, 'version': 11}\n"
     ]
    }
   ],
   "source": [
    "import logging\n",
    "logger = logging.getLogger()\n",
    "logger.disabled = True\n",
    "dbh = DB_handler(\"/home/morten/Develop/packing-report/Goal-Difference-Elo-GDE/GDE.db\")\n",
    "#dbh_player = DB_player(\"/home/morten/Develop/packing-report/Goal-Difference-Elo-GDE/GDE.db\")\n",
    "#dbh_player_age = DB_player_age(\"/home/morten/Develop/packing-report/Goal-Difference-Elo-GDE/GDE.db\")\n",
    "schedule = ws.read_schedule().reset_index()\n",
    "schedule = schedule.sort_values(\"date\")\n",
    "for league, game, date in zip(schedule[\"league\"].values, schedule[\"game_id\"].values, schedule[\"date\"].values):\n",
    "    date = to_datetime(date)\n",
    "    game_timeline = GameTimeline(ws, game, date, league, dbh)\n",
    "    game_timeline.handle()"
   ]
  },
  {
   "cell_type": "markdown",
   "metadata": {},
   "source": [
    "___"
   ]
  }
 ],
 "metadata": {
  "kernelspec": {
   "display_name": "packing-report",
   "language": "python",
   "name": "python3"
  },
  "language_info": {
   "codemirror_mode": {
    "name": "ipython",
    "version": 3
   },
   "file_extension": ".py",
   "mimetype": "text/x-python",
   "name": "python",
   "nbconvert_exporter": "python",
   "pygments_lexer": "ipython3",
   "version": "3.10.4"
  },
  "orig_nbformat": 4
 },
 "nbformat": 4,
 "nbformat_minor": 2
}
