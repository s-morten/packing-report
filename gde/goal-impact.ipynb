{
 "cells": [
  {
   "cell_type": "markdown",
   "metadata": {},
   "source": [
    "Example / Test Main"
   ]
  },
  {
   "cell_type": "code",
   "execution_count": 1,
   "metadata": {},
   "outputs": [],
   "source": [
    "%reload_ext autoreload\n",
    "%autoreload 2"
   ]
  },
  {
   "cell_type": "code",
   "execution_count": 2,
   "metadata": {},
   "outputs": [
    {
     "data": {
      "text/html": [
       "<pre style=\"white-space:pre;overflow-x:auto;line-height:normal;font-family:Menlo,'DejaVu Sans Mono',consolas,'Courier New',monospace\"><span style=\"color: #7fbfbf; text-decoration-color: #7fbfbf\">[04/15/24 10:05:43] </span><span style=\"color: #000080; text-decoration-color: #000080\">INFO    </span> Custom team name replacements loaded from                                <a href=\"file:///home/morten/.conda/envs/packing-report/lib/python3.10/site-packages/soccerdata/_config.py\" target=\"_blank\"><span style=\"color: #7f7f7f; text-decoration-color: #7f7f7f\">_config.py</span></a><span style=\"color: #7f7f7f; text-decoration-color: #7f7f7f\">:</span><a href=\"file:///home/morten/.conda/envs/packing-report/lib/python3.10/site-packages/soccerdata/_config.py#85\" target=\"_blank\"><span style=\"color: #7f7f7f; text-decoration-color: #7f7f7f\">85</span></a>\n",
       "<span style=\"color: #7fbfbf; text-decoration-color: #7fbfbf\">                    </span>         <span style=\"color: #800080; text-decoration-color: #800080\">/home/morten/soccerdata/config/</span><span style=\"color: #ff00ff; text-decoration-color: #ff00ff\">teamname_replacements.json.</span>               <span style=\"color: #7f7f7f; text-decoration-color: #7f7f7f\">             </span>\n",
       "</pre>\n"
      ],
      "text/plain": [
       "\u001b[2;36m[04/15/24 10:05:43]\u001b[0m\u001b[2;36m \u001b[0m\u001b[34mINFO    \u001b[0m Custom team name replacements loaded from                                \u001b]8;id=300086;file:///home/morten/.conda/envs/packing-report/lib/python3.10/site-packages/soccerdata/_config.py\u001b\\\u001b[2m_config.py\u001b[0m\u001b]8;;\u001b\\\u001b[2m:\u001b[0m\u001b]8;id=604395;file:///home/morten/.conda/envs/packing-report/lib/python3.10/site-packages/soccerdata/_config.py#85\u001b\\\u001b[2m85\u001b[0m\u001b]8;;\u001b\\\n",
       "\u001b[2;36m                    \u001b[0m         \u001b[35m/home/morten/soccerdata/config/\u001b[0m\u001b[95mteamname_replacements.json.\u001b[0m               \u001b[2m             \u001b[0m\n"
      ]
     },
     "metadata": {},
     "output_type": "display_data"
    },
    {
     "data": {
      "text/html": [
       "<pre style=\"white-space:pre;overflow-x:auto;line-height:normal;font-family:Menlo,'DejaVu Sans Mono',consolas,'Courier New',monospace\"><span style=\"color: #7fbfbf; text-decoration-color: #7fbfbf\">                    </span><span style=\"color: #000080; text-decoration-color: #000080\">INFO    </span> Custom league dict loaded from                                          <a href=\"file:///home/morten/.conda/envs/packing-report/lib/python3.10/site-packages/soccerdata/_config.py\" target=\"_blank\"><span style=\"color: #7f7f7f; text-decoration-color: #7f7f7f\">_config.py</span></a><span style=\"color: #7f7f7f; text-decoration-color: #7f7f7f\">:</span><a href=\"file:///home/morten/.conda/envs/packing-report/lib/python3.10/site-packages/soccerdata/_config.py#163\" target=\"_blank\"><span style=\"color: #7f7f7f; text-decoration-color: #7f7f7f\">163</span></a>\n",
       "<span style=\"color: #7fbfbf; text-decoration-color: #7fbfbf\">                    </span>         <span style=\"color: #800080; text-decoration-color: #800080\">/home/morten/soccerdata/config/</span><span style=\"color: #ff00ff; text-decoration-color: #ff00ff\">league_dict.json.</span>                        <span style=\"color: #7f7f7f; text-decoration-color: #7f7f7f\">              </span>\n",
       "</pre>\n"
      ],
      "text/plain": [
       "\u001b[2;36m                   \u001b[0m\u001b[2;36m \u001b[0m\u001b[34mINFO    \u001b[0m Custom league dict loaded from                                          \u001b]8;id=313545;file:///home/morten/.conda/envs/packing-report/lib/python3.10/site-packages/soccerdata/_config.py\u001b\\\u001b[2m_config.py\u001b[0m\u001b]8;;\u001b\\\u001b[2m:\u001b[0m\u001b]8;id=669827;file:///home/morten/.conda/envs/packing-report/lib/python3.10/site-packages/soccerdata/_config.py#163\u001b\\\u001b[2m163\u001b[0m\u001b]8;;\u001b\\\n",
       "\u001b[2;36m                    \u001b[0m         \u001b[35m/home/morten/soccerdata/config/\u001b[0m\u001b[95mleague_dict.json.\u001b[0m                        \u001b[2m              \u001b[0m\n"
      ]
     },
     "metadata": {},
     "output_type": "display_data"
    }
   ],
   "source": [
    "import soccerdata as sd\n",
    "from pathlib import PosixPath\n",
    "import pandas as pd\n",
    "import numpy as np\n",
    "\n",
    "import os\n",
    "import cProfile\n",
    "from tqdm import tqdm"
   ]
  },
  {
   "cell_type": "code",
   "execution_count": 3,
   "metadata": {},
   "outputs": [],
   "source": [
    "import toml\n",
    "\n",
    "\n",
    "conf = toml.load(\"gde/config.toml\")"
   ]
  },
  {
   "cell_type": "code",
   "execution_count": 4,
   "metadata": {},
   "outputs": [
    {
     "data": {
      "text/plain": [
       "{'whoscored': {'leagues': ['GER-Bundesliga2',\n",
       "   'GER-Bundesliga',\n",
       "   'ENG-Premier League'],\n",
       "  'seasons': [16, 17, 18, 19, 20, 21, 22]},\n",
       " 'training': {'version': 0.09}}"
      ]
     },
     "execution_count": 4,
     "metadata": {},
     "output_type": "execute_result"
    }
   ],
   "source": [
    "conf"
   ]
  },
  {
   "cell_type": "code",
   "execution_count": 7,
   "metadata": {},
   "outputs": [
    {
     "data": {
      "text/html": [
       "<pre style=\"white-space:pre;overflow-x:auto;line-height:normal;font-family:Menlo,'DejaVu Sans Mono',consolas,'Courier New',monospace\"><span style=\"color: #7fbfbf; text-decoration-color: #7fbfbf\">[04/15/24 10:06:08] </span><span style=\"color: #000080; text-decoration-color: #000080\">INFO    </span> Saving cached data to <span style=\"color: #800080; text-decoration-color: #800080\">/home/morten/Develop/Open-Data/</span><span style=\"color: #ff00ff; text-decoration-color: #ff00ff\">soccerdata</span>          <a href=\"file:///home/morten/.conda/envs/packing-report/lib/python3.10/site-packages/soccerdata/_common.py\" target=\"_blank\"><span style=\"color: #7f7f7f; text-decoration-color: #7f7f7f\">_common.py</span></a><span style=\"color: #7f7f7f; text-decoration-color: #7f7f7f\">:</span><a href=\"file:///home/morten/.conda/envs/packing-report/lib/python3.10/site-packages/soccerdata/_common.py#91\" target=\"_blank\"><span style=\"color: #7f7f7f; text-decoration-color: #7f7f7f\">91</span></a>\n",
       "</pre>\n"
      ],
      "text/plain": [
       "\u001b[2;36m[04/15/24 10:06:08]\u001b[0m\u001b[2;36m \u001b[0m\u001b[34mINFO    \u001b[0m Saving cached data to \u001b[35m/home/morten/Develop/Open-Data/\u001b[0m\u001b[95msoccerdata\u001b[0m          \u001b]8;id=448736;file:///home/morten/.conda/envs/packing-report/lib/python3.10/site-packages/soccerdata/_common.py\u001b\\\u001b[2m_common.py\u001b[0m\u001b]8;;\u001b\\\u001b[2m:\u001b[0m\u001b]8;id=414190;file:///home/morten/.conda/envs/packing-report/lib/python3.10/site-packages/soccerdata/_common.py#91\u001b\\\u001b[2m91\u001b[0m\u001b]8;;\u001b\\\n"
      ]
     },
     "metadata": {},
     "output_type": "display_data"
    },
    {
     "data": {
      "text/html": [
       "<pre style=\"white-space:pre;overflow-x:auto;line-height:normal;font-family:Menlo,'DejaVu Sans Mono',consolas,'Courier New',monospace\"><span style=\"color: #7fbfbf; text-decoration-color: #7fbfbf\">[04/15/24 10:06:10] </span><span style=\"color: #000080; text-decoration-color: #000080\">INFO    </span> patching driver executable                                              <a href=\"file:///home/morten/.conda/envs/packing-report/lib/python3.10/site-packages/undetected_chromedriver/patcher.py\" target=\"_blank\"><span style=\"color: #7f7f7f; text-decoration-color: #7f7f7f\">patcher.py</span></a><span style=\"color: #7f7f7f; text-decoration-color: #7f7f7f\">:</span><a href=\"file:///home/morten/.conda/envs/packing-report/lib/python3.10/site-packages/undetected_chromedriver/patcher.py#346\" target=\"_blank\"><span style=\"color: #7f7f7f; text-decoration-color: #7f7f7f\">346</span></a>\n",
       "<span style=\"color: #7fbfbf; text-decoration-color: #7fbfbf\">                    </span>         <span style=\"color: #800080; text-decoration-color: #800080\">/home/morten/.local/share/undetected_chromedriver/</span><span style=\"color: #ff00ff; text-decoration-color: #ff00ff\">undetected_chromedriv</span> <span style=\"color: #7f7f7f; text-decoration-color: #7f7f7f\">              </span>\n",
       "<span style=\"color: #7fbfbf; text-decoration-color: #7fbfbf\">                    </span>         <span style=\"color: #ff00ff; text-decoration-color: #ff00ff\">er</span>                                                                      <span style=\"color: #7f7f7f; text-decoration-color: #7f7f7f\">              </span>\n",
       "</pre>\n"
      ],
      "text/plain": [
       "\u001b[2;36m[04/15/24 10:06:10]\u001b[0m\u001b[2;36m \u001b[0m\u001b[34mINFO    \u001b[0m patching driver executable                                              \u001b]8;id=836864;file:///home/morten/.conda/envs/packing-report/lib/python3.10/site-packages/undetected_chromedriver/patcher.py\u001b\\\u001b[2mpatcher.py\u001b[0m\u001b]8;;\u001b\\\u001b[2m:\u001b[0m\u001b]8;id=538660;file:///home/morten/.conda/envs/packing-report/lib/python3.10/site-packages/undetected_chromedriver/patcher.py#346\u001b\\\u001b[2m346\u001b[0m\u001b]8;;\u001b\\\n",
       "\u001b[2;36m                    \u001b[0m         \u001b[35m/home/morten/.local/share/undetected_chromedriver/\u001b[0m\u001b[95mundetected_chromedriv\u001b[0m \u001b[2m              \u001b[0m\n",
       "\u001b[2;36m                    \u001b[0m         \u001b[95mer\u001b[0m                                                                      \u001b[2m              \u001b[0m\n"
      ]
     },
     "metadata": {},
     "output_type": "display_data"
    }
   ],
   "source": [
    "ws = sd.WhoScored(\n",
    "    #  \n",
    "    leagues=[\"GER-Bundesliga\", \"GER-Bundesliga2\", \"ENG-Premier League\"],\n",
    "    seasons=[16, 17, 18, 19, 20, 21],\n",
    "    # leagues=[\"GER-Bundesliga\"],\n",
    "    # seasons=[21],\n",
    "    no_cache=False,\n",
    "    no_store=False,\n",
    "    data_dir=PosixPath(\"/home/morten/Develop/Open-Data/soccerdata\"),\n",
    "    path_to_browser=\"/usr/bin/chromium\",\n",
    "    headless=False,\n",
    ")"
   ]
  },
  {
   "cell_type": "code",
   "execution_count": 8,
   "metadata": {},
   "outputs": [
    {
     "data": {
      "text/html": [
       "<pre style=\"white-space:pre;overflow-x:auto;line-height:normal;font-family:Menlo,'DejaVu Sans Mono',consolas,'Courier New',monospace\"><span style=\"color: #7fbfbf; text-decoration-color: #7fbfbf\">[04/15/24 10:06:14] </span><span style=\"color: #000080; text-decoration-color: #000080\">INFO    </span> Retrieving game schedule of GER-Bundesliga - <span style=\"color: #008080; text-decoration-color: #008080; font-weight: bold\">1617</span> from the cache      <a href=\"file:///home/morten/.conda/envs/packing-report/lib/python3.10/site-packages/soccerdata/whoscored.py\" target=\"_blank\"><span style=\"color: #7f7f7f; text-decoration-color: #7f7f7f\">whoscored.py</span></a><span style=\"color: #7f7f7f; text-decoration-color: #7f7f7f\">:</span><a href=\"file:///home/morten/.conda/envs/packing-report/lib/python3.10/site-packages/soccerdata/whoscored.py#437\" target=\"_blank\"><span style=\"color: #7f7f7f; text-decoration-color: #7f7f7f\">437</span></a>\n",
       "</pre>\n"
      ],
      "text/plain": [
       "\u001b[2;36m[04/15/24 10:06:14]\u001b[0m\u001b[2;36m \u001b[0m\u001b[34mINFO    \u001b[0m Retrieving game schedule of GER-Bundesliga - \u001b[1;36m1617\u001b[0m from the cache      \u001b]8;id=972000;file:///home/morten/.conda/envs/packing-report/lib/python3.10/site-packages/soccerdata/whoscored.py\u001b\\\u001b[2mwhoscored.py\u001b[0m\u001b]8;;\u001b\\\u001b[2m:\u001b[0m\u001b]8;id=86214;file:///home/morten/.conda/envs/packing-report/lib/python3.10/site-packages/soccerdata/whoscored.py#437\u001b\\\u001b[2m437\u001b[0m\u001b]8;;\u001b\\\n"
      ]
     },
     "metadata": {},
     "output_type": "display_data"
    },
    {
     "data": {
      "text/html": [
       "<pre style=\"white-space:pre;overflow-x:auto;line-height:normal;font-family:Menlo,'DejaVu Sans Mono',consolas,'Courier New',monospace\"><span style=\"color: #7fbfbf; text-decoration-color: #7fbfbf\">                    </span><span style=\"color: #000080; text-decoration-color: #000080\">INFO    </span> Retrieving game schedule of GER-Bundesliga - <span style=\"color: #008080; text-decoration-color: #008080; font-weight: bold\">1718</span> from the cache      <a href=\"file:///home/morten/.conda/envs/packing-report/lib/python3.10/site-packages/soccerdata/whoscored.py\" target=\"_blank\"><span style=\"color: #7f7f7f; text-decoration-color: #7f7f7f\">whoscored.py</span></a><span style=\"color: #7f7f7f; text-decoration-color: #7f7f7f\">:</span><a href=\"file:///home/morten/.conda/envs/packing-report/lib/python3.10/site-packages/soccerdata/whoscored.py#437\" target=\"_blank\"><span style=\"color: #7f7f7f; text-decoration-color: #7f7f7f\">437</span></a>\n",
       "</pre>\n"
      ],
      "text/plain": [
       "\u001b[2;36m                   \u001b[0m\u001b[2;36m \u001b[0m\u001b[34mINFO    \u001b[0m Retrieving game schedule of GER-Bundesliga - \u001b[1;36m1718\u001b[0m from the cache      \u001b]8;id=950505;file:///home/morten/.conda/envs/packing-report/lib/python3.10/site-packages/soccerdata/whoscored.py\u001b\\\u001b[2mwhoscored.py\u001b[0m\u001b]8;;\u001b\\\u001b[2m:\u001b[0m\u001b]8;id=289941;file:///home/morten/.conda/envs/packing-report/lib/python3.10/site-packages/soccerdata/whoscored.py#437\u001b\\\u001b[2m437\u001b[0m\u001b]8;;\u001b\\\n"
      ]
     },
     "metadata": {},
     "output_type": "display_data"
    },
    {
     "data": {
      "text/html": [
       "<pre style=\"white-space:pre;overflow-x:auto;line-height:normal;font-family:Menlo,'DejaVu Sans Mono',consolas,'Courier New',monospace\"><span style=\"color: #7fbfbf; text-decoration-color: #7fbfbf\">                    </span><span style=\"color: #000080; text-decoration-color: #000080\">INFO    </span> Retrieving game schedule of GER-Bundesliga - <span style=\"color: #008080; text-decoration-color: #008080; font-weight: bold\">1819</span> from the cache      <a href=\"file:///home/morten/.conda/envs/packing-report/lib/python3.10/site-packages/soccerdata/whoscored.py\" target=\"_blank\"><span style=\"color: #7f7f7f; text-decoration-color: #7f7f7f\">whoscored.py</span></a><span style=\"color: #7f7f7f; text-decoration-color: #7f7f7f\">:</span><a href=\"file:///home/morten/.conda/envs/packing-report/lib/python3.10/site-packages/soccerdata/whoscored.py#437\" target=\"_blank\"><span style=\"color: #7f7f7f; text-decoration-color: #7f7f7f\">437</span></a>\n",
       "</pre>\n"
      ],
      "text/plain": [
       "\u001b[2;36m                   \u001b[0m\u001b[2;36m \u001b[0m\u001b[34mINFO    \u001b[0m Retrieving game schedule of GER-Bundesliga - \u001b[1;36m1819\u001b[0m from the cache      \u001b]8;id=708730;file:///home/morten/.conda/envs/packing-report/lib/python3.10/site-packages/soccerdata/whoscored.py\u001b\\\u001b[2mwhoscored.py\u001b[0m\u001b]8;;\u001b\\\u001b[2m:\u001b[0m\u001b]8;id=397588;file:///home/morten/.conda/envs/packing-report/lib/python3.10/site-packages/soccerdata/whoscored.py#437\u001b\\\u001b[2m437\u001b[0m\u001b]8;;\u001b\\\n"
      ]
     },
     "metadata": {},
     "output_type": "display_data"
    },
    {
     "data": {
      "text/html": [
       "<pre style=\"white-space:pre;overflow-x:auto;line-height:normal;font-family:Menlo,'DejaVu Sans Mono',consolas,'Courier New',monospace\"><span style=\"color: #7fbfbf; text-decoration-color: #7fbfbf\">                    </span><span style=\"color: #000080; text-decoration-color: #000080\">INFO    </span> Retrieving game schedule of GER-Bundesliga - <span style=\"color: #008080; text-decoration-color: #008080; font-weight: bold\">1920</span> from the cache      <a href=\"file:///home/morten/.conda/envs/packing-report/lib/python3.10/site-packages/soccerdata/whoscored.py\" target=\"_blank\"><span style=\"color: #7f7f7f; text-decoration-color: #7f7f7f\">whoscored.py</span></a><span style=\"color: #7f7f7f; text-decoration-color: #7f7f7f\">:</span><a href=\"file:///home/morten/.conda/envs/packing-report/lib/python3.10/site-packages/soccerdata/whoscored.py#437\" target=\"_blank\"><span style=\"color: #7f7f7f; text-decoration-color: #7f7f7f\">437</span></a>\n",
       "</pre>\n"
      ],
      "text/plain": [
       "\u001b[2;36m                   \u001b[0m\u001b[2;36m \u001b[0m\u001b[34mINFO    \u001b[0m Retrieving game schedule of GER-Bundesliga - \u001b[1;36m1920\u001b[0m from the cache      \u001b]8;id=205567;file:///home/morten/.conda/envs/packing-report/lib/python3.10/site-packages/soccerdata/whoscored.py\u001b\\\u001b[2mwhoscored.py\u001b[0m\u001b]8;;\u001b\\\u001b[2m:\u001b[0m\u001b]8;id=4993;file:///home/morten/.conda/envs/packing-report/lib/python3.10/site-packages/soccerdata/whoscored.py#437\u001b\\\u001b[2m437\u001b[0m\u001b]8;;\u001b\\\n"
      ]
     },
     "metadata": {},
     "output_type": "display_data"
    },
    {
     "data": {
      "text/html": [
       "<pre style=\"white-space:pre;overflow-x:auto;line-height:normal;font-family:Menlo,'DejaVu Sans Mono',consolas,'Courier New',monospace\"><span style=\"color: #7fbfbf; text-decoration-color: #7fbfbf\">                    </span><span style=\"color: #000080; text-decoration-color: #000080\">INFO    </span> Retrieving game schedule of GER-Bundesliga - <span style=\"color: #008080; text-decoration-color: #008080; font-weight: bold\">2021</span> from the cache      <a href=\"file:///home/morten/.conda/envs/packing-report/lib/python3.10/site-packages/soccerdata/whoscored.py\" target=\"_blank\"><span style=\"color: #7f7f7f; text-decoration-color: #7f7f7f\">whoscored.py</span></a><span style=\"color: #7f7f7f; text-decoration-color: #7f7f7f\">:</span><a href=\"file:///home/morten/.conda/envs/packing-report/lib/python3.10/site-packages/soccerdata/whoscored.py#437\" target=\"_blank\"><span style=\"color: #7f7f7f; text-decoration-color: #7f7f7f\">437</span></a>\n",
       "</pre>\n"
      ],
      "text/plain": [
       "\u001b[2;36m                   \u001b[0m\u001b[2;36m \u001b[0m\u001b[34mINFO    \u001b[0m Retrieving game schedule of GER-Bundesliga - \u001b[1;36m2021\u001b[0m from the cache      \u001b]8;id=876289;file:///home/morten/.conda/envs/packing-report/lib/python3.10/site-packages/soccerdata/whoscored.py\u001b\\\u001b[2mwhoscored.py\u001b[0m\u001b]8;;\u001b\\\u001b[2m:\u001b[0m\u001b]8;id=672777;file:///home/morten/.conda/envs/packing-report/lib/python3.10/site-packages/soccerdata/whoscored.py#437\u001b\\\u001b[2m437\u001b[0m\u001b]8;;\u001b\\\n"
      ]
     },
     "metadata": {},
     "output_type": "display_data"
    },
    {
     "data": {
      "text/html": [
       "<pre style=\"white-space:pre;overflow-x:auto;line-height:normal;font-family:Menlo,'DejaVu Sans Mono',consolas,'Courier New',monospace\"><span style=\"color: #7fbfbf; text-decoration-color: #7fbfbf\">                    </span><span style=\"color: #000080; text-decoration-color: #000080\">INFO    </span> Retrieving game schedule of GER-Bundesliga - <span style=\"color: #008080; text-decoration-color: #008080; font-weight: bold\">2122</span> from the cache      <a href=\"file:///home/morten/.conda/envs/packing-report/lib/python3.10/site-packages/soccerdata/whoscored.py\" target=\"_blank\"><span style=\"color: #7f7f7f; text-decoration-color: #7f7f7f\">whoscored.py</span></a><span style=\"color: #7f7f7f; text-decoration-color: #7f7f7f\">:</span><a href=\"file:///home/morten/.conda/envs/packing-report/lib/python3.10/site-packages/soccerdata/whoscored.py#437\" target=\"_blank\"><span style=\"color: #7f7f7f; text-decoration-color: #7f7f7f\">437</span></a>\n",
       "</pre>\n"
      ],
      "text/plain": [
       "\u001b[2;36m                   \u001b[0m\u001b[2;36m \u001b[0m\u001b[34mINFO    \u001b[0m Retrieving game schedule of GER-Bundesliga - \u001b[1;36m2122\u001b[0m from the cache      \u001b]8;id=427998;file:///home/morten/.conda/envs/packing-report/lib/python3.10/site-packages/soccerdata/whoscored.py\u001b\\\u001b[2mwhoscored.py\u001b[0m\u001b]8;;\u001b\\\u001b[2m:\u001b[0m\u001b]8;id=241675;file:///home/morten/.conda/envs/packing-report/lib/python3.10/site-packages/soccerdata/whoscored.py#437\u001b\\\u001b[2m437\u001b[0m\u001b]8;;\u001b\\\n"
      ]
     },
     "metadata": {},
     "output_type": "display_data"
    },
    {
     "data": {
      "text/html": [
       "<pre style=\"white-space:pre;overflow-x:auto;line-height:normal;font-family:Menlo,'DejaVu Sans Mono',consolas,'Courier New',monospace\"><span style=\"color: #7fbfbf; text-decoration-color: #7fbfbf\">                    </span><span style=\"color: #000080; text-decoration-color: #000080\">INFO    </span> Retrieving game schedule of GER-Bundesliga2 - <span style=\"color: #008080; text-decoration-color: #008080; font-weight: bold\">1617</span> from the cache     <a href=\"file:///home/morten/.conda/envs/packing-report/lib/python3.10/site-packages/soccerdata/whoscored.py\" target=\"_blank\"><span style=\"color: #7f7f7f; text-decoration-color: #7f7f7f\">whoscored.py</span></a><span style=\"color: #7f7f7f; text-decoration-color: #7f7f7f\">:</span><a href=\"file:///home/morten/.conda/envs/packing-report/lib/python3.10/site-packages/soccerdata/whoscored.py#437\" target=\"_blank\"><span style=\"color: #7f7f7f; text-decoration-color: #7f7f7f\">437</span></a>\n",
       "</pre>\n"
      ],
      "text/plain": [
       "\u001b[2;36m                   \u001b[0m\u001b[2;36m \u001b[0m\u001b[34mINFO    \u001b[0m Retrieving game schedule of GER-Bundesliga2 - \u001b[1;36m1617\u001b[0m from the cache     \u001b]8;id=696645;file:///home/morten/.conda/envs/packing-report/lib/python3.10/site-packages/soccerdata/whoscored.py\u001b\\\u001b[2mwhoscored.py\u001b[0m\u001b]8;;\u001b\\\u001b[2m:\u001b[0m\u001b]8;id=418671;file:///home/morten/.conda/envs/packing-report/lib/python3.10/site-packages/soccerdata/whoscored.py#437\u001b\\\u001b[2m437\u001b[0m\u001b]8;;\u001b\\\n"
      ]
     },
     "metadata": {},
     "output_type": "display_data"
    },
    {
     "data": {
      "text/html": [
       "<pre style=\"white-space:pre;overflow-x:auto;line-height:normal;font-family:Menlo,'DejaVu Sans Mono',consolas,'Courier New',monospace\"><span style=\"color: #7fbfbf; text-decoration-color: #7fbfbf\">                    </span><span style=\"color: #000080; text-decoration-color: #000080\">INFO    </span> Retrieving game schedule of GER-Bundesliga2 - <span style=\"color: #008080; text-decoration-color: #008080; font-weight: bold\">1718</span> from the cache     <a href=\"file:///home/morten/.conda/envs/packing-report/lib/python3.10/site-packages/soccerdata/whoscored.py\" target=\"_blank\"><span style=\"color: #7f7f7f; text-decoration-color: #7f7f7f\">whoscored.py</span></a><span style=\"color: #7f7f7f; text-decoration-color: #7f7f7f\">:</span><a href=\"file:///home/morten/.conda/envs/packing-report/lib/python3.10/site-packages/soccerdata/whoscored.py#437\" target=\"_blank\"><span style=\"color: #7f7f7f; text-decoration-color: #7f7f7f\">437</span></a>\n",
       "</pre>\n"
      ],
      "text/plain": [
       "\u001b[2;36m                   \u001b[0m\u001b[2;36m \u001b[0m\u001b[34mINFO    \u001b[0m Retrieving game schedule of GER-Bundesliga2 - \u001b[1;36m1718\u001b[0m from the cache     \u001b]8;id=15283;file:///home/morten/.conda/envs/packing-report/lib/python3.10/site-packages/soccerdata/whoscored.py\u001b\\\u001b[2mwhoscored.py\u001b[0m\u001b]8;;\u001b\\\u001b[2m:\u001b[0m\u001b]8;id=470050;file:///home/morten/.conda/envs/packing-report/lib/python3.10/site-packages/soccerdata/whoscored.py#437\u001b\\\u001b[2m437\u001b[0m\u001b]8;;\u001b\\\n"
      ]
     },
     "metadata": {},
     "output_type": "display_data"
    },
    {
     "data": {
      "text/html": [
       "<pre style=\"white-space:pre;overflow-x:auto;line-height:normal;font-family:Menlo,'DejaVu Sans Mono',consolas,'Courier New',monospace\"><span style=\"color: #7fbfbf; text-decoration-color: #7fbfbf\">                    </span><span style=\"color: #000080; text-decoration-color: #000080\">INFO    </span> Retrieving game schedule of GER-Bundesliga2 - <span style=\"color: #008080; text-decoration-color: #008080; font-weight: bold\">1819</span> from the cache     <a href=\"file:///home/morten/.conda/envs/packing-report/lib/python3.10/site-packages/soccerdata/whoscored.py\" target=\"_blank\"><span style=\"color: #7f7f7f; text-decoration-color: #7f7f7f\">whoscored.py</span></a><span style=\"color: #7f7f7f; text-decoration-color: #7f7f7f\">:</span><a href=\"file:///home/morten/.conda/envs/packing-report/lib/python3.10/site-packages/soccerdata/whoscored.py#437\" target=\"_blank\"><span style=\"color: #7f7f7f; text-decoration-color: #7f7f7f\">437</span></a>\n",
       "</pre>\n"
      ],
      "text/plain": [
       "\u001b[2;36m                   \u001b[0m\u001b[2;36m \u001b[0m\u001b[34mINFO    \u001b[0m Retrieving game schedule of GER-Bundesliga2 - \u001b[1;36m1819\u001b[0m from the cache     \u001b]8;id=737767;file:///home/morten/.conda/envs/packing-report/lib/python3.10/site-packages/soccerdata/whoscored.py\u001b\\\u001b[2mwhoscored.py\u001b[0m\u001b]8;;\u001b\\\u001b[2m:\u001b[0m\u001b]8;id=225390;file:///home/morten/.conda/envs/packing-report/lib/python3.10/site-packages/soccerdata/whoscored.py#437\u001b\\\u001b[2m437\u001b[0m\u001b]8;;\u001b\\\n"
      ]
     },
     "metadata": {},
     "output_type": "display_data"
    },
    {
     "data": {
      "text/html": [
       "<pre style=\"white-space:pre;overflow-x:auto;line-height:normal;font-family:Menlo,'DejaVu Sans Mono',consolas,'Courier New',monospace\"><span style=\"color: #7fbfbf; text-decoration-color: #7fbfbf\">                    </span><span style=\"color: #000080; text-decoration-color: #000080\">INFO    </span> Retrieving game schedule of GER-Bundesliga2 - <span style=\"color: #008080; text-decoration-color: #008080; font-weight: bold\">1920</span> from the cache     <a href=\"file:///home/morten/.conda/envs/packing-report/lib/python3.10/site-packages/soccerdata/whoscored.py\" target=\"_blank\"><span style=\"color: #7f7f7f; text-decoration-color: #7f7f7f\">whoscored.py</span></a><span style=\"color: #7f7f7f; text-decoration-color: #7f7f7f\">:</span><a href=\"file:///home/morten/.conda/envs/packing-report/lib/python3.10/site-packages/soccerdata/whoscored.py#437\" target=\"_blank\"><span style=\"color: #7f7f7f; text-decoration-color: #7f7f7f\">437</span></a>\n",
       "</pre>\n"
      ],
      "text/plain": [
       "\u001b[2;36m                   \u001b[0m\u001b[2;36m \u001b[0m\u001b[34mINFO    \u001b[0m Retrieving game schedule of GER-Bundesliga2 - \u001b[1;36m1920\u001b[0m from the cache     \u001b]8;id=541095;file:///home/morten/.conda/envs/packing-report/lib/python3.10/site-packages/soccerdata/whoscored.py\u001b\\\u001b[2mwhoscored.py\u001b[0m\u001b]8;;\u001b\\\u001b[2m:\u001b[0m\u001b]8;id=573485;file:///home/morten/.conda/envs/packing-report/lib/python3.10/site-packages/soccerdata/whoscored.py#437\u001b\\\u001b[2m437\u001b[0m\u001b]8;;\u001b\\\n"
      ]
     },
     "metadata": {},
     "output_type": "display_data"
    },
    {
     "data": {
      "text/html": [
       "<pre style=\"white-space:pre;overflow-x:auto;line-height:normal;font-family:Menlo,'DejaVu Sans Mono',consolas,'Courier New',monospace\"><span style=\"color: #7fbfbf; text-decoration-color: #7fbfbf\">                    </span><span style=\"color: #000080; text-decoration-color: #000080\">INFO    </span> Retrieving game schedule of GER-Bundesliga2 - <span style=\"color: #008080; text-decoration-color: #008080; font-weight: bold\">2021</span> from the cache     <a href=\"file:///home/morten/.conda/envs/packing-report/lib/python3.10/site-packages/soccerdata/whoscored.py\" target=\"_blank\"><span style=\"color: #7f7f7f; text-decoration-color: #7f7f7f\">whoscored.py</span></a><span style=\"color: #7f7f7f; text-decoration-color: #7f7f7f\">:</span><a href=\"file:///home/morten/.conda/envs/packing-report/lib/python3.10/site-packages/soccerdata/whoscored.py#437\" target=\"_blank\"><span style=\"color: #7f7f7f; text-decoration-color: #7f7f7f\">437</span></a>\n",
       "</pre>\n"
      ],
      "text/plain": [
       "\u001b[2;36m                   \u001b[0m\u001b[2;36m \u001b[0m\u001b[34mINFO    \u001b[0m Retrieving game schedule of GER-Bundesliga2 - \u001b[1;36m2021\u001b[0m from the cache     \u001b]8;id=237955;file:///home/morten/.conda/envs/packing-report/lib/python3.10/site-packages/soccerdata/whoscored.py\u001b\\\u001b[2mwhoscored.py\u001b[0m\u001b]8;;\u001b\\\u001b[2m:\u001b[0m\u001b]8;id=126799;file:///home/morten/.conda/envs/packing-report/lib/python3.10/site-packages/soccerdata/whoscored.py#437\u001b\\\u001b[2m437\u001b[0m\u001b]8;;\u001b\\\n"
      ]
     },
     "metadata": {},
     "output_type": "display_data"
    },
    {
     "data": {
      "text/html": [
       "<pre style=\"white-space:pre;overflow-x:auto;line-height:normal;font-family:Menlo,'DejaVu Sans Mono',consolas,'Courier New',monospace\"><span style=\"color: #7fbfbf; text-decoration-color: #7fbfbf\">                    </span><span style=\"color: #000080; text-decoration-color: #000080\">INFO    </span> Retrieving game schedule of GER-Bundesliga2 - <span style=\"color: #008080; text-decoration-color: #008080; font-weight: bold\">2122</span> from the cache     <a href=\"file:///home/morten/.conda/envs/packing-report/lib/python3.10/site-packages/soccerdata/whoscored.py\" target=\"_blank\"><span style=\"color: #7f7f7f; text-decoration-color: #7f7f7f\">whoscored.py</span></a><span style=\"color: #7f7f7f; text-decoration-color: #7f7f7f\">:</span><a href=\"file:///home/morten/.conda/envs/packing-report/lib/python3.10/site-packages/soccerdata/whoscored.py#437\" target=\"_blank\"><span style=\"color: #7f7f7f; text-decoration-color: #7f7f7f\">437</span></a>\n",
       "</pre>\n"
      ],
      "text/plain": [
       "\u001b[2;36m                   \u001b[0m\u001b[2;36m \u001b[0m\u001b[34mINFO    \u001b[0m Retrieving game schedule of GER-Bundesliga2 - \u001b[1;36m2122\u001b[0m from the cache     \u001b]8;id=186395;file:///home/morten/.conda/envs/packing-report/lib/python3.10/site-packages/soccerdata/whoscored.py\u001b\\\u001b[2mwhoscored.py\u001b[0m\u001b]8;;\u001b\\\u001b[2m:\u001b[0m\u001b]8;id=583592;file:///home/morten/.conda/envs/packing-report/lib/python3.10/site-packages/soccerdata/whoscored.py#437\u001b\\\u001b[2m437\u001b[0m\u001b]8;;\u001b\\\n"
      ]
     },
     "metadata": {},
     "output_type": "display_data"
    },
    {
     "data": {
      "text/html": [
       "<pre style=\"white-space:pre;overflow-x:auto;line-height:normal;font-family:Menlo,'DejaVu Sans Mono',consolas,'Courier New',monospace\"><span style=\"color: #7fbfbf; text-decoration-color: #7fbfbf\">                    </span><span style=\"color: #000080; text-decoration-color: #000080\">INFO    </span> Retrieving game schedule of ENG-Premier League - <span style=\"color: #008080; text-decoration-color: #008080; font-weight: bold\">1617</span> from the cache  <a href=\"file:///home/morten/.conda/envs/packing-report/lib/python3.10/site-packages/soccerdata/whoscored.py\" target=\"_blank\"><span style=\"color: #7f7f7f; text-decoration-color: #7f7f7f\">whoscored.py</span></a><span style=\"color: #7f7f7f; text-decoration-color: #7f7f7f\">:</span><a href=\"file:///home/morten/.conda/envs/packing-report/lib/python3.10/site-packages/soccerdata/whoscored.py#437\" target=\"_blank\"><span style=\"color: #7f7f7f; text-decoration-color: #7f7f7f\">437</span></a>\n",
       "</pre>\n"
      ],
      "text/plain": [
       "\u001b[2;36m                   \u001b[0m\u001b[2;36m \u001b[0m\u001b[34mINFO    \u001b[0m Retrieving game schedule of ENG-Premier League - \u001b[1;36m1617\u001b[0m from the cache  \u001b]8;id=75663;file:///home/morten/.conda/envs/packing-report/lib/python3.10/site-packages/soccerdata/whoscored.py\u001b\\\u001b[2mwhoscored.py\u001b[0m\u001b]8;;\u001b\\\u001b[2m:\u001b[0m\u001b]8;id=44735;file:///home/morten/.conda/envs/packing-report/lib/python3.10/site-packages/soccerdata/whoscored.py#437\u001b\\\u001b[2m437\u001b[0m\u001b]8;;\u001b\\\n"
      ]
     },
     "metadata": {},
     "output_type": "display_data"
    },
    {
     "data": {
      "text/html": [
       "<pre style=\"white-space:pre;overflow-x:auto;line-height:normal;font-family:Menlo,'DejaVu Sans Mono',consolas,'Courier New',monospace\"><span style=\"color: #7fbfbf; text-decoration-color: #7fbfbf\">                    </span><span style=\"color: #000080; text-decoration-color: #000080\">INFO    </span> Retrieving game schedule of ENG-Premier League - <span style=\"color: #008080; text-decoration-color: #008080; font-weight: bold\">1718</span> from the cache  <a href=\"file:///home/morten/.conda/envs/packing-report/lib/python3.10/site-packages/soccerdata/whoscored.py\" target=\"_blank\"><span style=\"color: #7f7f7f; text-decoration-color: #7f7f7f\">whoscored.py</span></a><span style=\"color: #7f7f7f; text-decoration-color: #7f7f7f\">:</span><a href=\"file:///home/morten/.conda/envs/packing-report/lib/python3.10/site-packages/soccerdata/whoscored.py#437\" target=\"_blank\"><span style=\"color: #7f7f7f; text-decoration-color: #7f7f7f\">437</span></a>\n",
       "</pre>\n"
      ],
      "text/plain": [
       "\u001b[2;36m                   \u001b[0m\u001b[2;36m \u001b[0m\u001b[34mINFO    \u001b[0m Retrieving game schedule of ENG-Premier League - \u001b[1;36m1718\u001b[0m from the cache  \u001b]8;id=802074;file:///home/morten/.conda/envs/packing-report/lib/python3.10/site-packages/soccerdata/whoscored.py\u001b\\\u001b[2mwhoscored.py\u001b[0m\u001b]8;;\u001b\\\u001b[2m:\u001b[0m\u001b]8;id=609777;file:///home/morten/.conda/envs/packing-report/lib/python3.10/site-packages/soccerdata/whoscored.py#437\u001b\\\u001b[2m437\u001b[0m\u001b]8;;\u001b\\\n"
      ]
     },
     "metadata": {},
     "output_type": "display_data"
    },
    {
     "data": {
      "text/html": [
       "<pre style=\"white-space:pre;overflow-x:auto;line-height:normal;font-family:Menlo,'DejaVu Sans Mono',consolas,'Courier New',monospace\"><span style=\"color: #7fbfbf; text-decoration-color: #7fbfbf\">                    </span><span style=\"color: #000080; text-decoration-color: #000080\">INFO    </span> Retrieving game schedule of ENG-Premier League - <span style=\"color: #008080; text-decoration-color: #008080; font-weight: bold\">1819</span> from the cache  <a href=\"file:///home/morten/.conda/envs/packing-report/lib/python3.10/site-packages/soccerdata/whoscored.py\" target=\"_blank\"><span style=\"color: #7f7f7f; text-decoration-color: #7f7f7f\">whoscored.py</span></a><span style=\"color: #7f7f7f; text-decoration-color: #7f7f7f\">:</span><a href=\"file:///home/morten/.conda/envs/packing-report/lib/python3.10/site-packages/soccerdata/whoscored.py#437\" target=\"_blank\"><span style=\"color: #7f7f7f; text-decoration-color: #7f7f7f\">437</span></a>\n",
       "</pre>\n"
      ],
      "text/plain": [
       "\u001b[2;36m                   \u001b[0m\u001b[2;36m \u001b[0m\u001b[34mINFO    \u001b[0m Retrieving game schedule of ENG-Premier League - \u001b[1;36m1819\u001b[0m from the cache  \u001b]8;id=117897;file:///home/morten/.conda/envs/packing-report/lib/python3.10/site-packages/soccerdata/whoscored.py\u001b\\\u001b[2mwhoscored.py\u001b[0m\u001b]8;;\u001b\\\u001b[2m:\u001b[0m\u001b]8;id=46469;file:///home/morten/.conda/envs/packing-report/lib/python3.10/site-packages/soccerdata/whoscored.py#437\u001b\\\u001b[2m437\u001b[0m\u001b]8;;\u001b\\\n"
      ]
     },
     "metadata": {},
     "output_type": "display_data"
    },
    {
     "data": {
      "text/html": [
       "<pre style=\"white-space:pre;overflow-x:auto;line-height:normal;font-family:Menlo,'DejaVu Sans Mono',consolas,'Courier New',monospace\"><span style=\"color: #7fbfbf; text-decoration-color: #7fbfbf\">                    </span><span style=\"color: #000080; text-decoration-color: #000080\">INFO    </span> Retrieving game schedule of ENG-Premier League - <span style=\"color: #008080; text-decoration-color: #008080; font-weight: bold\">1920</span> from the cache  <a href=\"file:///home/morten/.conda/envs/packing-report/lib/python3.10/site-packages/soccerdata/whoscored.py\" target=\"_blank\"><span style=\"color: #7f7f7f; text-decoration-color: #7f7f7f\">whoscored.py</span></a><span style=\"color: #7f7f7f; text-decoration-color: #7f7f7f\">:</span><a href=\"file:///home/morten/.conda/envs/packing-report/lib/python3.10/site-packages/soccerdata/whoscored.py#437\" target=\"_blank\"><span style=\"color: #7f7f7f; text-decoration-color: #7f7f7f\">437</span></a>\n",
       "</pre>\n"
      ],
      "text/plain": [
       "\u001b[2;36m                   \u001b[0m\u001b[2;36m \u001b[0m\u001b[34mINFO    \u001b[0m Retrieving game schedule of ENG-Premier League - \u001b[1;36m1920\u001b[0m from the cache  \u001b]8;id=791941;file:///home/morten/.conda/envs/packing-report/lib/python3.10/site-packages/soccerdata/whoscored.py\u001b\\\u001b[2mwhoscored.py\u001b[0m\u001b]8;;\u001b\\\u001b[2m:\u001b[0m\u001b]8;id=653628;file:///home/morten/.conda/envs/packing-report/lib/python3.10/site-packages/soccerdata/whoscored.py#437\u001b\\\u001b[2m437\u001b[0m\u001b]8;;\u001b\\\n"
      ]
     },
     "metadata": {},
     "output_type": "display_data"
    },
    {
     "data": {
      "text/html": [
       "<pre style=\"white-space:pre;overflow-x:auto;line-height:normal;font-family:Menlo,'DejaVu Sans Mono',consolas,'Courier New',monospace\"><span style=\"color: #7fbfbf; text-decoration-color: #7fbfbf\">                    </span><span style=\"color: #000080; text-decoration-color: #000080\">INFO    </span> Retrieving game schedule of ENG-Premier League - <span style=\"color: #008080; text-decoration-color: #008080; font-weight: bold\">2021</span> from the cache  <a href=\"file:///home/morten/.conda/envs/packing-report/lib/python3.10/site-packages/soccerdata/whoscored.py\" target=\"_blank\"><span style=\"color: #7f7f7f; text-decoration-color: #7f7f7f\">whoscored.py</span></a><span style=\"color: #7f7f7f; text-decoration-color: #7f7f7f\">:</span><a href=\"file:///home/morten/.conda/envs/packing-report/lib/python3.10/site-packages/soccerdata/whoscored.py#437\" target=\"_blank\"><span style=\"color: #7f7f7f; text-decoration-color: #7f7f7f\">437</span></a>\n",
       "</pre>\n"
      ],
      "text/plain": [
       "\u001b[2;36m                   \u001b[0m\u001b[2;36m \u001b[0m\u001b[34mINFO    \u001b[0m Retrieving game schedule of ENG-Premier League - \u001b[1;36m2021\u001b[0m from the cache  \u001b]8;id=803104;file:///home/morten/.conda/envs/packing-report/lib/python3.10/site-packages/soccerdata/whoscored.py\u001b\\\u001b[2mwhoscored.py\u001b[0m\u001b]8;;\u001b\\\u001b[2m:\u001b[0m\u001b]8;id=385516;file:///home/morten/.conda/envs/packing-report/lib/python3.10/site-packages/soccerdata/whoscored.py#437\u001b\\\u001b[2m437\u001b[0m\u001b]8;;\u001b\\\n"
      ]
     },
     "metadata": {},
     "output_type": "display_data"
    },
    {
     "data": {
      "text/html": [
       "<pre style=\"white-space:pre;overflow-x:auto;line-height:normal;font-family:Menlo,'DejaVu Sans Mono',consolas,'Courier New',monospace\"><span style=\"color: #7fbfbf; text-decoration-color: #7fbfbf\">                    </span><span style=\"color: #000080; text-decoration-color: #000080\">INFO    </span> Retrieving game schedule of ENG-Premier League - <span style=\"color: #008080; text-decoration-color: #008080; font-weight: bold\">2122</span> from the cache  <a href=\"file:///home/morten/.conda/envs/packing-report/lib/python3.10/site-packages/soccerdata/whoscored.py\" target=\"_blank\"><span style=\"color: #7f7f7f; text-decoration-color: #7f7f7f\">whoscored.py</span></a><span style=\"color: #7f7f7f; text-decoration-color: #7f7f7f\">:</span><a href=\"file:///home/morten/.conda/envs/packing-report/lib/python3.10/site-packages/soccerdata/whoscored.py#437\" target=\"_blank\"><span style=\"color: #7f7f7f; text-decoration-color: #7f7f7f\">437</span></a>\n",
       "</pre>\n"
      ],
      "text/plain": [
       "\u001b[2;36m                   \u001b[0m\u001b[2;36m \u001b[0m\u001b[34mINFO    \u001b[0m Retrieving game schedule of ENG-Premier League - \u001b[1;36m2122\u001b[0m from the cache  \u001b]8;id=146492;file:///home/morten/.conda/envs/packing-report/lib/python3.10/site-packages/soccerdata/whoscored.py\u001b\\\u001b[2mwhoscored.py\u001b[0m\u001b]8;;\u001b\\\u001b[2m:\u001b[0m\u001b]8;id=757559;file:///home/morten/.conda/envs/packing-report/lib/python3.10/site-packages/soccerdata/whoscored.py#437\u001b\\\u001b[2m437\u001b[0m\u001b]8;;\u001b\\\n"
      ]
     },
     "metadata": {},
     "output_type": "display_data"
    }
   ],
   "source": [
    "schedule = ws.read_schedule().reset_index()\n",
    "test_game = schedule[\"game_id\"].values[0]\n",
    "test_date = schedule[schedule[\"game_id\"] == test_game][\"date\"].values[0]"
   ]
  },
  {
   "cell_type": "code",
   "execution_count": 9,
   "metadata": {},
   "outputs": [],
   "source": [
    "schedule = schedule.sort_values(\"date\")"
   ]
  },
  {
   "cell_type": "code",
   "execution_count": 10,
   "metadata": {},
   "outputs": [
    {
     "data": {
      "text/html": [
       "<div>\n",
       "<style scoped>\n",
       "    .dataframe tbody tr th:only-of-type {\n",
       "        vertical-align: middle;\n",
       "    }\n",
       "\n",
       "    .dataframe tbody tr th {\n",
       "        vertical-align: top;\n",
       "    }\n",
       "\n",
       "    .dataframe thead th {\n",
       "        text-align: right;\n",
       "    }\n",
       "</style>\n",
       "<table border=\"1\" class=\"dataframe\">\n",
       "  <thead>\n",
       "    <tr style=\"text-align: right;\">\n",
       "      <th></th>\n",
       "      <th>league</th>\n",
       "      <th>season</th>\n",
       "      <th>game</th>\n",
       "      <th>date</th>\n",
       "      <th>home_team</th>\n",
       "      <th>away_team</th>\n",
       "      <th>game_id</th>\n",
       "      <th>url</th>\n",
       "      <th>stage</th>\n",
       "    </tr>\n",
       "  </thead>\n",
       "  <tbody>\n",
       "    <tr>\n",
       "      <th>4116</th>\n",
       "      <td>GER-Bundesliga2</td>\n",
       "      <td>1617</td>\n",
       "      <td>2016-08-05 Kaiserslautern-Hannover</td>\n",
       "      <td>2016-08-05 19:30:00</td>\n",
       "      <td>Kaiserslautern</td>\n",
       "      <td>Hannover</td>\n",
       "      <td>1090815</td>\n",
       "      <td>https://www.whoscored.com/Matches/1090815/Live...</td>\n",
       "      <td>NaN</td>\n",
       "    </tr>\n",
       "    <tr>\n",
       "      <th>4117</th>\n",
       "      <td>GER-Bundesliga2</td>\n",
       "      <td>1617</td>\n",
       "      <td>2016-08-06 Bochum-Union Berlin</td>\n",
       "      <td>2016-08-06 12:00:00</td>\n",
       "      <td>Bochum</td>\n",
       "      <td>Union Berlin</td>\n",
       "      <td>1090817</td>\n",
       "      <td>https://www.whoscored.com/Matches/1090817/Live...</td>\n",
       "      <td>NaN</td>\n",
       "    </tr>\n",
       "    <tr>\n",
       "      <th>4119</th>\n",
       "      <td>GER-Bundesliga2</td>\n",
       "      <td>1617</td>\n",
       "      <td>2016-08-06 Sandhausen-Fortuna Duesseldorf</td>\n",
       "      <td>2016-08-06 14:30:00</td>\n",
       "      <td>Sandhausen</td>\n",
       "      <td>Fortuna Duesseldorf</td>\n",
       "      <td>1090822</td>\n",
       "      <td>https://www.whoscored.com/Matches/1090822/Live...</td>\n",
       "      <td>NaN</td>\n",
       "    </tr>\n",
       "    <tr>\n",
       "      <th>4118</th>\n",
       "      <td>GER-Bundesliga2</td>\n",
       "      <td>1617</td>\n",
       "      <td>2016-08-06 Dynamo Dresden-Nuernberg</td>\n",
       "      <td>2016-08-06 14:30:00</td>\n",
       "      <td>Dynamo Dresden</td>\n",
       "      <td>Nuernberg</td>\n",
       "      <td>1090823</td>\n",
       "      <td>https://www.whoscored.com/Matches/1090823/Live...</td>\n",
       "      <td>NaN</td>\n",
       "    </tr>\n",
       "    <tr>\n",
       "      <th>4123</th>\n",
       "      <td>GER-Bundesliga2</td>\n",
       "      <td>1617</td>\n",
       "      <td>2016-08-07 Greuther Fuerth-1860 Munich</td>\n",
       "      <td>2016-08-07 12:30:00</td>\n",
       "      <td>Greuther Fuerth</td>\n",
       "      <td>1860 Munich</td>\n",
       "      <td>1090819</td>\n",
       "      <td>https://www.whoscored.com/Matches/1090819/Live...</td>\n",
       "      <td>NaN</td>\n",
       "    </tr>\n",
       "    <tr>\n",
       "      <th>...</th>\n",
       "      <td>...</td>\n",
       "      <td>...</td>\n",
       "      <td>...</td>\n",
       "      <td>...</td>\n",
       "      <td>...</td>\n",
       "      <td>...</td>\n",
       "      <td>...</td>\n",
       "      <td>...</td>\n",
       "      <td>...</td>\n",
       "    </tr>\n",
       "    <tr>\n",
       "      <th>2272</th>\n",
       "      <td>ENG-Premier League</td>\n",
       "      <td>2122</td>\n",
       "      <td>2022-05-22 Brighton-West Ham</td>\n",
       "      <td>2022-05-22 16:00:00</td>\n",
       "      <td>Brighton</td>\n",
       "      <td>West Ham</td>\n",
       "      <td>1549911</td>\n",
       "      <td>https://www.whoscored.com/Matches/1549911/Live...</td>\n",
       "      <td>NaN</td>\n",
       "    </tr>\n",
       "    <tr>\n",
       "      <th>2275</th>\n",
       "      <td>ENG-Premier League</td>\n",
       "      <td>2122</td>\n",
       "      <td>2022-05-22 Crystal Palace-Man Utd</td>\n",
       "      <td>2022-05-22 16:00:00</td>\n",
       "      <td>Crystal Palace</td>\n",
       "      <td>Man Utd</td>\n",
       "      <td>1549914</td>\n",
       "      <td>https://www.whoscored.com/Matches/1549914/Live...</td>\n",
       "      <td>NaN</td>\n",
       "    </tr>\n",
       "    <tr>\n",
       "      <th>2270</th>\n",
       "      <td>ENG-Premier League</td>\n",
       "      <td>2122</td>\n",
       "      <td>2022-05-22 Arsenal-Everton</td>\n",
       "      <td>2022-05-22 16:00:00</td>\n",
       "      <td>Arsenal</td>\n",
       "      <td>Everton</td>\n",
       "      <td>1549909</td>\n",
       "      <td>https://www.whoscored.com/Matches/1549909/Live...</td>\n",
       "      <td>NaN</td>\n",
       "    </tr>\n",
       "    <tr>\n",
       "      <th>2273</th>\n",
       "      <td>ENG-Premier League</td>\n",
       "      <td>2122</td>\n",
       "      <td>2022-05-22 Burnley-Newcastle</td>\n",
       "      <td>2022-05-22 16:00:00</td>\n",
       "      <td>Burnley</td>\n",
       "      <td>Newcastle</td>\n",
       "      <td>1549912</td>\n",
       "      <td>https://www.whoscored.com/Matches/1549912/Live...</td>\n",
       "      <td>NaN</td>\n",
       "    </tr>\n",
       "    <tr>\n",
       "      <th>2276</th>\n",
       "      <td>ENG-Premier League</td>\n",
       "      <td>2122</td>\n",
       "      <td>2022-05-22 Leicester-Southampton</td>\n",
       "      <td>2022-05-22 16:00:00</td>\n",
       "      <td>Leicester</td>\n",
       "      <td>Southampton</td>\n",
       "      <td>1549915</td>\n",
       "      <td>https://www.whoscored.com/Matches/1549915/Live...</td>\n",
       "      <td>NaN</td>\n",
       "    </tr>\n",
       "  </tbody>\n",
       "</table>\n",
       "<p>5952 rows × 9 columns</p>\n",
       "</div>"
      ],
      "text/plain": [
       "                  league  season                                       game  \\\n",
       "4116     GER-Bundesliga2    1617         2016-08-05 Kaiserslautern-Hannover   \n",
       "4117     GER-Bundesliga2    1617             2016-08-06 Bochum-Union Berlin   \n",
       "4119     GER-Bundesliga2    1617  2016-08-06 Sandhausen-Fortuna Duesseldorf   \n",
       "4118     GER-Bundesliga2    1617        2016-08-06 Dynamo Dresden-Nuernberg   \n",
       "4123     GER-Bundesliga2    1617     2016-08-07 Greuther Fuerth-1860 Munich   \n",
       "...                  ...     ...                                        ...   \n",
       "2272  ENG-Premier League    2122               2022-05-22 Brighton-West Ham   \n",
       "2275  ENG-Premier League    2122          2022-05-22 Crystal Palace-Man Utd   \n",
       "2270  ENG-Premier League    2122                 2022-05-22 Arsenal-Everton   \n",
       "2273  ENG-Premier League    2122               2022-05-22 Burnley-Newcastle   \n",
       "2276  ENG-Premier League    2122           2022-05-22 Leicester-Southampton   \n",
       "\n",
       "                    date        home_team            away_team  game_id  \\\n",
       "4116 2016-08-05 19:30:00   Kaiserslautern             Hannover  1090815   \n",
       "4117 2016-08-06 12:00:00           Bochum         Union Berlin  1090817   \n",
       "4119 2016-08-06 14:30:00       Sandhausen  Fortuna Duesseldorf  1090822   \n",
       "4118 2016-08-06 14:30:00   Dynamo Dresden            Nuernberg  1090823   \n",
       "4123 2016-08-07 12:30:00  Greuther Fuerth          1860 Munich  1090819   \n",
       "...                  ...              ...                  ...      ...   \n",
       "2272 2022-05-22 16:00:00         Brighton             West Ham  1549911   \n",
       "2275 2022-05-22 16:00:00   Crystal Palace              Man Utd  1549914   \n",
       "2270 2022-05-22 16:00:00          Arsenal              Everton  1549909   \n",
       "2273 2022-05-22 16:00:00          Burnley            Newcastle  1549912   \n",
       "2276 2022-05-22 16:00:00        Leicester          Southampton  1549915   \n",
       "\n",
       "                                                    url  stage  \n",
       "4116  https://www.whoscored.com/Matches/1090815/Live...    NaN  \n",
       "4117  https://www.whoscored.com/Matches/1090817/Live...    NaN  \n",
       "4119  https://www.whoscored.com/Matches/1090822/Live...    NaN  \n",
       "4118  https://www.whoscored.com/Matches/1090823/Live...    NaN  \n",
       "4123  https://www.whoscored.com/Matches/1090819/Live...    NaN  \n",
       "...                                                 ...    ...  \n",
       "2272  https://www.whoscored.com/Matches/1549911/Live...    NaN  \n",
       "2275  https://www.whoscored.com/Matches/1549914/Live...    NaN  \n",
       "2270  https://www.whoscored.com/Matches/1549909/Live...    NaN  \n",
       "2273  https://www.whoscored.com/Matches/1549912/Live...    NaN  \n",
       "2276  https://www.whoscored.com/Matches/1549915/Live...    NaN  \n",
       "\n",
       "[5952 rows x 9 columns]"
      ]
     },
     "execution_count": 10,
     "metadata": {},
     "output_type": "execute_result"
    }
   ],
   "source": [
    "schedule"
   ]
  },
  {
   "cell_type": "code",
   "execution_count": 11,
   "metadata": {},
   "outputs": [],
   "source": [
    "from gde_utils.date_utils import to_datetime\n",
    "from gde.database_io.db_handler import DB_handler\n",
    "from game.game_timeline import GameTimeline"
   ]
  },
  {
   "cell_type": "code",
   "execution_count": 12,
   "metadata": {},
   "outputs": [
    {
     "name": "stdout",
     "output_type": "stream",
     "text": [
      "Updated regressor parameters:  {'intercept': -0.018225033049707687, 'coefficient_elo_diff1': 0.005180926566437932, 'coefficient_elo_diff2': 3.520812111781191e-06, 'coefficient_elo_diff3': -4.164008496225895e-08, 'coefficient_min': 0.0006471418119379575, 'version': 2}\n",
      "Updated regressor parameters:  {'intercept': -0.024725992131489266, 'coefficient_elo_diff1': 0.005064949166991364, 'coefficient_elo_diff2': 4.8219147337149055e-06, 'coefficient_elo_diff3': -3.655635703588939e-08, 'coefficient_min': 0.0008157440271384823, 'version': 3}\n",
      "Updated regressor parameters:  {'intercept': -0.027451370739453643, 'coefficient_elo_diff1': 0.004663932065143787, 'coefficient_elo_diff2': 5.390277737811814e-06, 'coefficient_elo_diff3': -6.2147166115506495e-09, 'coefficient_min': 0.0010760535254595522, 'version': 4}\n",
      "Updated regressor parameters:  {'intercept': -0.02299229288356149, 'coefficient_elo_diff1': 0.004269585204696012, 'coefficient_elo_diff2': 4.067616230272347e-06, 'coefficient_elo_diff3': -3.7125736181200047e-09, 'coefficient_min': 0.0011688233614210366, 'version': 5}\n",
      "Updated regressor parameters:  {'intercept': -0.020472887736063886, 'coefficient_elo_diff1': 0.00413271634475212, 'coefficient_elo_diff2': 3.367449585797271e-06, 'coefficient_elo_diff3': 2.864978017859497e-09, 'coefficient_min': 0.0011401619352450257, 'version': 6}\n",
      "Updated regressor parameters:  {'intercept': -0.016642464693568185, 'coefficient_elo_diff1': 0.004051573559120866, 'coefficient_elo_diff2': 2.6445831360116707e-06, 'coefficient_elo_diff3': 5.397654593412802e-10, 'coefficient_min': 0.001024136962330375, 'version': 7}\n",
      "Updated regressor parameters:  {'intercept': -0.01433899719471798, 'coefficient_elo_diff1': 0.003960116783095789, 'coefficient_elo_diff2': 2.187482965091986e-06, 'coefficient_elo_diff3': 8.24078310121494e-09, 'coefficient_min': 0.0010779322770118876, 'version': 8}\n",
      "Updated regressor parameters:  {'intercept': -0.01217965163526671, 'coefficient_elo_diff1': 0.004051963869768931, 'coefficient_elo_diff2': 1.766050793730725e-06, 'coefficient_elo_diff3': 5.250487161909968e-09, 'coefficient_min': 0.001155743980168745, 'version': 9}\n",
      "Updated regressor parameters:  {'intercept': -0.011005102562853716, 'coefficient_elo_diff1': 0.0038454840434582554, 'coefficient_elo_diff2': 1.5369840842740121e-06, 'coefficient_elo_diff3': 9.127853068767399e-09, 'coefficient_min': 0.0012194948127621382, 'version': 10}\n",
      "Updated regressor parameters:  {'intercept': -0.01023758670912517, 'coefficient_elo_diff1': 0.0037923850754231717, 'coefficient_elo_diff2': 1.4352611797118185e-06, 'coefficient_elo_diff3': 1.0282773728818287e-08, 'coefficient_min': 0.0011917386778766644, 'version': 11}\n",
      "Updated regressor parameters:  {'intercept': -0.010681069928278898, 'coefficient_elo_diff1': 0.003644358014776645, 'coefficient_elo_diff2': 1.475351377041258e-06, 'coefficient_elo_diff3': 1.4864134617414362e-08, 'coefficient_min': 0.0012475608124458235, 'version': 12}\n",
      "Updated regressor parameters:  {'intercept': -0.010151160418533155, 'coefficient_elo_diff1': 0.0036012214224807456, 'coefficient_elo_diff2': 1.3944085275086169e-06, 'coefficient_elo_diff3': 1.371397140167778e-08, 'coefficient_min': 0.0013338106193460692, 'version': 13}\n",
      "Updated regressor parameters:  {'intercept': -0.009987464194703722, 'coefficient_elo_diff1': 0.00340957750279583, 'coefficient_elo_diff2': 1.3976914055578223e-06, 'coefficient_elo_diff3': 1.9127560204486435e-08, 'coefficient_min': 0.001389281489945853, 'version': 14}\n",
      "Updated regressor parameters:  {'intercept': -0.010366575590334791, 'coefficient_elo_diff1': 0.003381546783516128, 'coefficient_elo_diff2': 1.4443067304918883e-06, 'coefficient_elo_diff3': 1.8771024283352913e-08, 'coefficient_min': 0.0014684677664556917, 'version': 15}\n",
      "Updated regressor parameters:  {'intercept': -0.010680149535730873, 'coefficient_elo_diff1': 0.003342676353758763, 'coefficient_elo_diff2': 1.5259748645802436e-06, 'coefficient_elo_diff3': 1.962691715082852e-08, 'coefficient_min': 0.0014708820278117017, 'version': 16}\n",
      "Updated regressor parameters:  {'intercept': -0.010748227831391923, 'coefficient_elo_diff1': 0.0033163010196359285, 'coefficient_elo_diff2': 1.5401502944381399e-06, 'coefficient_elo_diff3': 2.1221613831058173e-08, 'coefficient_min': 0.0014808829636745965, 'version': 17}\n",
      "Updated regressor parameters:  {'intercept': -0.010457543741738136, 'coefficient_elo_diff1': 0.0032976091383502557, 'coefficient_elo_diff2': 1.5000375841210018e-06, 'coefficient_elo_diff3': 2.149512686570624e-08, 'coefficient_min': 0.0014915584826919917, 'version': 18}\n",
      "Updated regressor parameters:  {'intercept': -0.01011339758260328, 'coefficient_elo_diff1': 0.0032915751201116283, 'coefficient_elo_diff2': 1.4677104185082895e-06, 'coefficient_elo_diff3': 2.2961459811375282e-08, 'coefficient_min': 0.001490269335159539, 'version': 19}\n"
     ]
    }
   ],
   "source": [
    "import logging\n",
    "logger = logging.getLogger()\n",
    "logger.disabled = True\n",
    "dbh = DB_handler(\"/home/morten/Develop/packing-report/gde/GDE.db\")\n",
    "schedule = ws.read_schedule().reset_index()\n",
    "schedule = schedule.sort_values(\"date\")\n",
    "for league, game, date in zip(schedule[\"league\"].values, schedule[\"game_id\"].values, schedule[\"date\"].values):\n",
    "    date = to_datetime(date)\n",
    "    game_timeline = GameTimeline(ws, game, date, league, dbh, 0.1)\n",
    "    game_timeline.handle()"
   ]
  },
  {
   "cell_type": "markdown",
   "metadata": {},
   "source": [
    "___"
   ]
  }
 ],
 "metadata": {
  "kernelspec": {
   "display_name": "packing-report",
   "language": "python",
   "name": "python3"
  },
  "language_info": {
   "codemirror_mode": {
    "name": "ipython",
    "version": 3
   },
   "file_extension": ".py",
   "mimetype": "text/x-python",
   "name": "python",
   "nbconvert_exporter": "python",
   "pygments_lexer": "ipython3",
   "version": "3.10.4"
  },
  "orig_nbformat": 4
 },
 "nbformat": 4,
 "nbformat_minor": 2
}
