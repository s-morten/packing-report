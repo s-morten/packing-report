{
 "cells": [
  {
   "cell_type": "code",
   "execution_count": null,
   "metadata": {},
   "outputs": [],
   "source": [
    "import soccerdata as sd\n",
    "from pathlib import PosixPath\n",
    "import pandas as pd\n",
    "import numpy as np"
   ]
  },
  {
   "cell_type": "code",
   "execution_count": null,
   "metadata": {},
   "outputs": [],
   "source": [
    "def get_corner_dict(event_dataframe):\n",
    "    event_dataframe = event_dataframe[event_dataframe[\"type\"] == \"CornerAwarded\"]\n",
    "    event_dataframe = event_dataframe[event_dataframe[\"outcome_type\"] == \"Successful\"]\n",
    "    # event_dataframe[\"time_in_seconds\"] = (event_dataframe[\"minute\"] * 60) + event_dataframe[\"second\"]\n",
    "    corner_dict = {\"time\": event_dataframe[\"expanded_minute\"].values, \"team\": event_dataframe[\"team_id\"].values}\n",
    "    return corner_dict"
   ]
  },
  {
   "cell_type": "code",
   "execution_count": null,
   "metadata": {},
   "outputs": [],
   "source": [
    "ws = sd.WhoScored(\n",
    "    #  \"GER-Bundesliga\", \"GER-Bundesliga2\", \"ENG-Premier League\", \"ESP-La Liga\", \"FRA-Ligue 1\", \"ITA-Serie A\"\n",
    "    leagues=[\"GER-Bundesliga2\"],\n",
    "    seasons=[21],\n",
    "    no_cache=False,\n",
    "    no_store=False,\n",
    "    data_dir=PosixPath(\"/home/morten/Develop/Open-Data/soccerdata\"),\n",
    "    path_to_browser=\"/usr/bin/chromium\",\n",
    "    headless=False,\n",
    ")"
   ]
  },
  {
   "cell_type": "code",
   "execution_count": null,
   "metadata": {},
   "outputs": [],
   "source": [
    "schedule = ws.read_schedule()\n",
    "schedule.head()"
   ]
  },
  {
   "cell_type": "code",
   "execution_count": null,
   "metadata": {},
   "outputs": [],
   "source": [
    "events = ws.read_events(match_id=1557679)"
   ]
  },
  {
   "cell_type": "code",
   "execution_count": null,
   "metadata": {},
   "outputs": [],
   "source": [
    "events[\"type\"].unique()"
   ]
  },
  {
   "cell_type": "code",
   "execution_count": null,
   "metadata": {},
   "outputs": [],
   "source": [
    "event_end = events.loc[(events[\"type\"] == \"End\")]\n",
    "END_OF_GAME = event_end[(event_end[\"period\"] == \"SecondHalf\") &  (event_end[\"team_id\"] == 39)][\"expanded_minute\"].values[0]\n",
    "event_end"
   ]
  },
  {
   "cell_type": "code",
   "execution_count": null,
   "metadata": {},
   "outputs": [],
   "source": [
    "event_dataframe = events.loc[(events[\"type\"] == \"SubstitutionOff\")]\n",
    "event_dataframe"
   ]
  },
  {
   "cell_type": "code",
   "execution_count": null,
   "metadata": {},
   "outputs": [],
   "source": [
    "loader = ws.read_events(match_id=1557679, output_fmt='loader')"
   ]
  },
  {
   "cell_type": "code",
   "execution_count": null,
   "metadata": {},
   "outputs": [],
   "source": [
    "def get_player_minutes_dict(loader_players_df, events):\n",
    "    loader_players_df = loader_players_df[loader_players_df[\"is_starter\"] == True]\n",
    "    players = np.swapaxes([loader_players_df[\"player_id\"].values, loader_players_df[\"team_id\"].values,\n",
    "               [0 for _ in range(len(loader_players_df[\"player_id\"].values))], [-1 for _ in range(len(loader_players_df[\"player_id\"].values))]], 0, 1)\n",
    "    sub_dataframe = events.loc[(events[\"type\"] == \"SubstitutionOn\") | (events[\"type\"] == \"SubstitutionOff\")]\n",
    "    on_dataframe = sub_dataframe.loc[(sub_dataframe[\"type\"] == \"SubstitutionOn\")].copy()\n",
    "    # on_dataframe[\"time_in_seconds\"] = (on_dataframe[\"minute\"] * 60) + on_dataframe[\"second\"]\n",
    "    on_players = np.swapaxes([on_dataframe[\"player_id\"].values.astype(int), on_dataframe[\"team_id\"].values,\n",
    "               on_dataframe[\"expanded_minute\"].values, [-1 for _ in range(len(on_dataframe[\"player_id\"].values))]], 0, 1)\n",
    "    players_dict = {}\n",
    "    for starter in [*players,*on_players]:\n",
    "        players_dict[starter[0]] = {}\n",
    "        players_dict[starter[0]][\"team_id\"] = starter[1]\n",
    "        players_dict[starter[0]][\"on\"] = starter[2]\n",
    "        players_dict[starter[0]][\"off\"] = starter[3]\n",
    "\n",
    "    off_dataframe = sub_dataframe.loc[(sub_dataframe[\"type\"] == \"SubstitutionOff\")].copy()\n",
    "    # off_dataframe[\"time_in_seconds\"] = (off_dataframe[\"minute\"] * 60) + off_dataframe[\"second\"]\n",
    "    off_players = np.swapaxes([off_dataframe[\"player_id\"].values.astype(int), off_dataframe[\"expanded_minute\"].values], 0, 1)\n",
    "    for sub_off in off_players:\n",
    "        players_dict[sub_off[0]][\"off\"] = sub_off[1]\n",
    "\n",
    "    return players_dict"
   ]
  },
  {
   "cell_type": "code",
   "execution_count": null,
   "metadata": {},
   "outputs": [],
   "source": [
    "loader_players_df = loader.players(1557679)"
   ]
  },
  {
   "cell_type": "code",
   "execution_count": null,
   "metadata": {},
   "outputs": [],
   "source": [
    "get_corner_dict(events)"
   ]
  },
  {
   "cell_type": "code",
   "execution_count": null,
   "metadata": {},
   "outputs": [],
   "source": [
    "get_player_minutes_dict(loader_players_df, events)"
   ]
  },
  {
   "cell_type": "code",
   "execution_count": null,
   "metadata": {},
   "outputs": [],
   "source": [
    "def get_corners_per_player(corner_dict, player_dict):\n",
    "    player_corner = {}\n",
    "    for player_id in player_dict:\n",
    "        minutes = END_OF_GAME if ((player_dict[player_id][\"off\"] == -1) and (player_dict[player_id][\"on\"] == 0)) else (int(END_OF_GAME - (player_dict[player_id][\"on\"]))) if (player_dict[player_id][\"off\"] == -1) and (player_dict[player_id][\"on\"] != 0 ) else (int((player_dict[player_id][\"off\"] - player_dict[player_id][\"on\"])))\n",
    "        player_corner[player_id] = {\"team_id\": player_dict[player_id][\"team_id\"], \"for\" : 0, \"against\": 0, \"minutes\": minutes}\n",
    "        index_on = next(x[0] for x in enumerate(corner_dict[\"time\"]) if x[1] > player_dict[player_id][\"on\"])\n",
    "        index_off = len(corner_dict[\"time\"]) if (player_dict[player_id][\"off\"] == -1) else next(x[0] for x in enumerate(corner_dict[\"time\"]) if x[1] > player_dict[player_id][\"off\"]) \n",
    "        for index in range(index_on, index_off):\n",
    "            if corner_dict[\"team\"][index] == player_corner[player_id][\"team_id\"]:\n",
    "                player_corner[player_id][\"for\"] += 1\n",
    "            else:\n",
    "                player_corner[player_id][\"against\"] += 1\n",
    "\n",
    "    return player_corner"
   ]
  },
  {
   "cell_type": "code",
   "execution_count": null,
   "metadata": {},
   "outputs": [],
   "source": [
    "cpp = get_corners_per_player(get_corner_dict(events), get_player_minutes_dict(loader_players_df, events))"
   ]
  },
  {
   "cell_type": "code",
   "execution_count": null,
   "metadata": {},
   "outputs": [],
   "source": [
    "elo_player = {}\n",
    "for player in cpp:\n",
    "    # create test elo dict\n",
    "    elo_player[player] = 1000"
   ]
  },
  {
   "cell_type": "code",
   "execution_count": null,
   "metadata": {},
   "outputs": [],
   "source": [
    "average_corners_home = [4, 6]\n",
    "average_corners_away = [3, 6]"
   ]
  },
  {
   "cell_type": "code",
   "execution_count": null,
   "metadata": {},
   "outputs": [],
   "source": [
    "cpp"
   ]
  },
  {
   "cell_type": "code",
   "execution_count": null,
   "metadata": {},
   "outputs": [],
   "source": [
    "def corner_game_off(cpp, p_id, home):\n",
    "    max_average_corner = max(average_corners_home) if home else max(average_corners_away)\n",
    "    min_average_corner = min(average_corners_home) if home else min(average_corners_away)\n",
    "    corners_per_90 = (cpp[p_id][\"for\"] / cpp[p_id][\"minutes\"]) * 90\n",
    "    if corners_per_90 < min_average_corner:\n",
    "        return 0\n",
    "    elif corners_per_90 > max_average_corner:\n",
    "        return 1\n",
    "    else:\n",
    "        return 0.5\n",
    "\n",
    "def corner_game_def(cpp, p_id, home):\n",
    "    max_average_corner = max(average_corners_home) if home else max(average_corners_away)\n",
    "    min_average_corner = min(average_corners_home) if home else min(average_corners_away)\n",
    "    corners_per_90 = (cpp[p_id][\"for\"] / cpp[p_id][\"minutes\"]) * 90\n",
    "    if corners_per_90 > min_average_corner:\n",
    "        return 0\n",
    "    elif corners_per_90 < max_average_corner:\n",
    "        return 1\n",
    "    else:\n",
    "        return 0.5"
   ]
  },
  {
   "cell_type": "code",
   "execution_count": null,
   "metadata": {},
   "outputs": [],
   "source": [
    "def update_elo(r_a, r_b, corner_game, K=35):\n",
    "    R_a = pow(10, (r_a / 400))\n",
    "    R_b = pow(10, (r_b / 400))\n",
    "    E_a = R_a / (R_a + R_b)\n",
    "    E_b = R_b / (R_a + R_b)\n",
    "    S_a = corner_game # define result\n",
    "    S_b = 1 - S_a\n",
    "    r_strich_a = r_a + K * (S_a - E_a)\n",
    "    r_strich_b = r_b + K * (S_b - E_b)\n",
    "\n",
    "    print(r_strich_a, r_strich_b)"
   ]
  },
  {
   "cell_type": "code",
   "execution_count": null,
   "metadata": {},
   "outputs": [],
   "source": [
    "update_elo(1500, 1000, 0)"
   ]
  },
  {
   "cell_type": "code",
   "execution_count": null,
   "metadata": {},
   "outputs": [],
   "source": [
    "# create dataframe \n",
    "class GameTimeline:\n",
    "    def __init__(self, player_min_dict) -> None:\n",
    "        timelines = []\n",
    "        for player in player_min_dict:\n",
    "            # get player elo\n",
    "            player_elo = np.random.randint(600, 1500) # fill with real elo value\n",
    "            \n",
    "            player_timeline = np.empty(END_OF_GAME + 3) # + 2 for id and team id, +1 for index of last minute\n",
    "            player_timeline[:] = np.nan\n",
    "            player_timeline[0] = player\n",
    "            player_timeline[1] = player_min_dict[player][\"team_id\"]\n",
    "            player_on = player_min_dict[player][\"on\"] + 2\n",
    "            player_off = (player_min_dict[player][\"off\"] + 2) if player_min_dict[player][\"off\"] != -1 else END_OF_GAME + 3\n",
    "            player_timeline[player_on : player_off] = player_elo\n",
    "            timelines.append(player_timeline)\n",
    "        \n",
    "        self.game_timeline = pd.DataFrame(timelines, columns=[\"id\", \"team_id\", *np.arange(END_OF_GAME + 1).astype(str)])\n",
    "\n",
    "    def get_timeline(self):\n",
    "        return self.game_timeline\n",
    "\n",
    "# {13765: {'team_id': 39, 'on': 0, 'off': -1},\n",
    "#  393355: {'team_id': 39, 'on': 0, 'off': -1},\n",
    "#  411279: {'team_id': 39, 'on': 0, 'off': 59},\n",
    "#  82628: {'team_id': 39, 'on': 0, 'off': -1},\n",
    "#  383806: {'team_id': 39, 'on': 0, 'off': -1},\n",
    "#  301027: {'team_id': 39, 'on': 0, 'off': -1},\n",
    "#  70227: {'team_id': 39, 'on': 0, 'off': 31},\n",
    "#  83804: {'team_id': 39, 'on': 0, 'off': 76},\n",
    "#  70162: {'team_id': 39, 'on': 0, 'off': -1},\n",
    "#  361419: {'team_id': 39, 'on': 0, 'off': -1},\n",
    "#  30464: {'team_id': 39, 'on': 0, 'off': -1},\n",
    "#  132896: {'team_id': 38, 'on': 0, 'off': -1},\n",
    "#  132011: {'team_id': 38, 'on': 0, 'off': -1},\n",
    "#  361253: {'team_id': 38, 'on': 0, 'off': -1},\n",
    "#  129751: {'team_id': 38, 'on': 0, 'off': -1},\n",
    "#  140849: {'team_id': 38, 'on': 0, 'off': -1},\n",
    "#  243758: {'team_id': 38, 'on': 0, 'off': 74},\n",
    "#  121975: {'team_id': 38, 'on': 0, 'off': -1},\n",
    "#  343436: {'team_id': 38, 'on': 0, 'off': 70},\n",
    "#  329689: {'team_id': 38, 'on': 0, 'off': -1},\n",
    "#  347773: {'team_id': 38, 'on': 0, 'off': 81},\n",
    "#  136707: {'team_id': 38, 'on': 0, 'off': 81},\n",
    "#  415639: {'team_id': 39, 'on': 31, 'off': -1},\n",
    "#  323169: {'team_id': 39, 'on': 59, 'off': -1},\n",
    "#  280720: {'team_id': 38, 'on': 70, 'off': -1},\n",
    "#  419916: {'team_id': 38, 'on': 74, 'off': -1},\n",
    "#  419915: {'team_id': 39, 'on': 76, 'off': -1},\n",
    "#  392643: {'team_id': 38, 'on': 81, 'off': -1},\n",
    "#  90966: {'team_id': 38, 'on': 81, 'off': -1}}"
   ]
  },
  {
   "cell_type": "code",
   "execution_count": null,
   "metadata": {},
   "outputs": [],
   "source": [
    "gt = GameTimeline(get_player_minutes_dict(loader_players_df, events))"
   ]
  },
  {
   "cell_type": "code",
   "execution_count": null,
   "metadata": {},
   "outputs": [],
   "source": [
    "timeline = gt.get_timeline()\n",
    "timeline"
   ]
  },
  {
   "cell_type": "code",
   "execution_count": null,
   "metadata": {},
   "outputs": [],
   "source": [
    "timeline[[\"29\",\"30\", \"31\", \"32\"]]"
   ]
  },
  {
   "cell_type": "code",
   "execution_count": null,
   "metadata": {},
   "outputs": [],
   "source": []
  }
 ],
 "metadata": {
  "kernelspec": {
   "display_name": "packing-report",
   "language": "python",
   "name": "python3"
  },
  "language_info": {
   "codemirror_mode": {
    "name": "ipython",
    "version": 3
   },
   "file_extension": ".py",
   "mimetype": "text/x-python",
   "name": "python",
   "nbconvert_exporter": "python",
   "pygments_lexer": "ipython3",
   "version": "3.10.4"
  },
  "orig_nbformat": 4
 },
 "nbformat": 4,
 "nbformat_minor": 2
}
