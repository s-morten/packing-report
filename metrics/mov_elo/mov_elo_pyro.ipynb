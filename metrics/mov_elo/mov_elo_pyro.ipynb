{
 "cells": [
  {
   "cell_type": "code",
   "execution_count": 29,
   "metadata": {},
   "outputs": [],
   "source": [
    "%reload_ext autoreload\n",
    "%autoreload 2"
   ]
  },
  {
   "cell_type": "code",
   "execution_count": 30,
   "metadata": {},
   "outputs": [],
   "source": [
    "from database_io.db_handler import DB_handler\n",
    "import pymc as pm\n",
    "import numpy as np\n",
    "import pandas as pd\n",
    "\n",
    "import plotly.express as px"
   ]
  },
  {
   "cell_type": "code",
   "execution_count": 31,
   "metadata": {},
   "outputs": [],
   "source": [
    "db = DB_handler()"
   ]
  },
  {
   "cell_type": "code",
   "execution_count": 32,
   "metadata": {},
   "outputs": [],
   "source": [
    "games = db.games.get_all_games(0.1)"
   ]
  },
  {
   "cell_type": "code",
   "execution_count": 46,
   "metadata": {},
   "outputs": [],
   "source": [
    "# games[\"minutes_missed\"] = (90 - games[\"minutes\"]).clip(lower=0)\n",
    "games[\"elo_diff\"] = games[\"elo\"] - games[\"opposition_elo\"]\n",
    "games[\"goal_diff\"] = games[\"result\"].apply(lambda x: int(x.split(\"-\")[0]) - int(x.split(\"-\")[1]))\n",
    "games[\"goal_home\"] = games[\"result\"].apply(lambda x: int(x.split(\"-\")[0]))\n",
    "games[\"goal_away\"] = games[\"result\"].apply(lambda x: int(x.split(\"-\")[1]))\n"
   ]
  },
  {
   "cell_type": "code",
   "execution_count": 34,
   "metadata": {},
   "outputs": [],
   "source": [
    "games[\"elo_diff\"] = games[\"elo_diff\"] / (elo_std:=max(games[\"elo_diff\"].max(), abs(games[\"elo_diff\"].min())))\n",
    "# games[\"goal_diff\"] = games[\"goal_diff\"] / (goal_std:=max(games[\"goal_diff\"].max(), abs(games[\"goal_diff\"].min())))\n",
    "games[\"minutes_missed\"] = (games[\"game_minutes\"] - games[\"minutes\"]).clip(lower=0)\n",
    "\n",
    "# games[\"minutes_missed\"] = games[\"minutes_missed\"] / (min_std:=games[\"minutes_missed\"].max())"
   ]
  },
  {
   "cell_type": "code",
   "execution_count": 35,
   "metadata": {},
   "outputs": [],
   "source": [
    "games[\"minutes_missed\"] = (games[\"minutes_missed\"] / (minutes_missed_std:=max(games[\"minutes_missed\"].max(), abs(games[\"minutes_missed\"].min()))))\n"
   ]
  },
  {
   "cell_type": "code",
   "execution_count": 36,
   "metadata": {},
   "outputs": [],
   "source": [
    "games[\"minutes_missed_abs\"] = games[\"minutes_missed\"].abs()\n",
    "games[\"goal_diff_abs\"] = games[\"goal_diff\"].abs()"
   ]
  },
  {
   "cell_type": "code",
   "execution_count": 37,
   "metadata": {},
   "outputs": [
    {
     "name": "stdout",
     "output_type": "stream",
     "text": [
      "310.4568814848583 103\n"
     ]
    }
   ],
   "source": [
    "print(elo_std, minutes_missed_std)"
   ]
  },
  {
   "cell_type": "code",
   "execution_count": 38,
   "metadata": {},
   "outputs": [
    {
     "data": {
      "text/html": [
       "<div>\n",
       "<style scoped>\n",
       "    .dataframe tbody tr th:only-of-type {\n",
       "        vertical-align: middle;\n",
       "    }\n",
       "\n",
       "    .dataframe tbody tr th {\n",
       "        vertical-align: top;\n",
       "    }\n",
       "\n",
       "    .dataframe thead th {\n",
       "        text-align: right;\n",
       "    }\n",
       "</style>\n",
       "<table border=\"1\" class=\"dataframe\">\n",
       "  <thead>\n",
       "    <tr style=\"text-align: right;\">\n",
       "      <th></th>\n",
       "      <th>id</th>\n",
       "      <th>minutes</th>\n",
       "      <th>elo</th>\n",
       "      <th>opposition_elo</th>\n",
       "      <th>result</th>\n",
       "      <th>home</th>\n",
       "      <th>game_minutes</th>\n",
       "      <th>elo_diff</th>\n",
       "      <th>goal_diff</th>\n",
       "      <th>minutes_missed</th>\n",
       "      <th>minutes_missed_abs</th>\n",
       "      <th>goal_diff_abs</th>\n",
       "    </tr>\n",
       "  </thead>\n",
       "  <tbody>\n",
       "    <tr>\n",
       "      <th>0</th>\n",
       "      <td>1643586</td>\n",
       "      <td>10</td>\n",
       "      <td>1350.989041</td>\n",
       "      <td>1411.457147</td>\n",
       "      <td>0-0</td>\n",
       "      <td>0</td>\n",
       "      <td>97</td>\n",
       "      <td>-0.194771</td>\n",
       "      <td>0</td>\n",
       "      <td>0.844660</td>\n",
       "      <td>0.844660</td>\n",
       "      <td>0</td>\n",
       "    </tr>\n",
       "    <tr>\n",
       "      <th>1</th>\n",
       "      <td>1643586</td>\n",
       "      <td>10</td>\n",
       "      <td>1387.795954</td>\n",
       "      <td>1411.457147</td>\n",
       "      <td>0-0</td>\n",
       "      <td>0</td>\n",
       "      <td>97</td>\n",
       "      <td>-0.076214</td>\n",
       "      <td>0</td>\n",
       "      <td>0.844660</td>\n",
       "      <td>0.844660</td>\n",
       "      <td>0</td>\n",
       "    </tr>\n",
       "    <tr>\n",
       "      <th>2</th>\n",
       "      <td>1643586</td>\n",
       "      <td>10</td>\n",
       "      <td>1359.833623</td>\n",
       "      <td>1411.457147</td>\n",
       "      <td>0-0</td>\n",
       "      <td>0</td>\n",
       "      <td>97</td>\n",
       "      <td>-0.166282</td>\n",
       "      <td>0</td>\n",
       "      <td>0.844660</td>\n",
       "      <td>0.844660</td>\n",
       "      <td>0</td>\n",
       "    </tr>\n",
       "    <tr>\n",
       "      <th>3</th>\n",
       "      <td>1643297</td>\n",
       "      <td>25</td>\n",
       "      <td>1481.762428</td>\n",
       "      <td>1467.373481</td>\n",
       "      <td>0-0</td>\n",
       "      <td>0</td>\n",
       "      <td>98</td>\n",
       "      <td>0.046348</td>\n",
       "      <td>0</td>\n",
       "      <td>0.708738</td>\n",
       "      <td>0.708738</td>\n",
       "      <td>0</td>\n",
       "    </tr>\n",
       "    <tr>\n",
       "      <th>4</th>\n",
       "      <td>1643297</td>\n",
       "      <td>24</td>\n",
       "      <td>1492.921067</td>\n",
       "      <td>1467.523141</td>\n",
       "      <td>0-0</td>\n",
       "      <td>0</td>\n",
       "      <td>98</td>\n",
       "      <td>0.081808</td>\n",
       "      <td>0</td>\n",
       "      <td>0.718447</td>\n",
       "      <td>0.718447</td>\n",
       "      <td>0</td>\n",
       "    </tr>\n",
       "    <tr>\n",
       "      <th>...</th>\n",
       "      <td>...</td>\n",
       "      <td>...</td>\n",
       "      <td>...</td>\n",
       "      <td>...</td>\n",
       "      <td>...</td>\n",
       "      <td>...</td>\n",
       "      <td>...</td>\n",
       "      <td>...</td>\n",
       "      <td>...</td>\n",
       "      <td>...</td>\n",
       "      <td>...</td>\n",
       "      <td>...</td>\n",
       "    </tr>\n",
       "    <tr>\n",
       "      <th>69351</th>\n",
       "      <td>1388613</td>\n",
       "      <td>35</td>\n",
       "      <td>1351.351537</td>\n",
       "      <td>1388.682000</td>\n",
       "      <td>2-0</td>\n",
       "      <td>1</td>\n",
       "      <td>94</td>\n",
       "      <td>-0.120244</td>\n",
       "      <td>2</td>\n",
       "      <td>0.572816</td>\n",
       "      <td>0.572816</td>\n",
       "      <td>2</td>\n",
       "    </tr>\n",
       "    <tr>\n",
       "      <th>69352</th>\n",
       "      <td>1388613</td>\n",
       "      <td>24</td>\n",
       "      <td>1385.301427</td>\n",
       "      <td>1387.035839</td>\n",
       "      <td>2-0</td>\n",
       "      <td>1</td>\n",
       "      <td>94</td>\n",
       "      <td>-0.005587</td>\n",
       "      <td>2</td>\n",
       "      <td>0.679612</td>\n",
       "      <td>0.679612</td>\n",
       "      <td>2</td>\n",
       "    </tr>\n",
       "    <tr>\n",
       "      <th>69353</th>\n",
       "      <td>1388613</td>\n",
       "      <td>24</td>\n",
       "      <td>1348.313831</td>\n",
       "      <td>1387.035839</td>\n",
       "      <td>2-0</td>\n",
       "      <td>1</td>\n",
       "      <td>94</td>\n",
       "      <td>-0.124726</td>\n",
       "      <td>2</td>\n",
       "      <td>0.679612</td>\n",
       "      <td>0.679612</td>\n",
       "      <td>2</td>\n",
       "    </tr>\n",
       "    <tr>\n",
       "      <th>69354</th>\n",
       "      <td>1388613</td>\n",
       "      <td>21</td>\n",
       "      <td>1341.184189</td>\n",
       "      <td>1372.855581</td>\n",
       "      <td>0-2</td>\n",
       "      <td>0</td>\n",
       "      <td>94</td>\n",
       "      <td>-0.102015</td>\n",
       "      <td>-2</td>\n",
       "      <td>0.708738</td>\n",
       "      <td>0.708738</td>\n",
       "      <td>2</td>\n",
       "    </tr>\n",
       "    <tr>\n",
       "      <th>69355</th>\n",
       "      <td>1388613</td>\n",
       "      <td>13</td>\n",
       "      <td>1345.461302</td>\n",
       "      <td>1373.261258</td>\n",
       "      <td>0-1</td>\n",
       "      <td>0</td>\n",
       "      <td>94</td>\n",
       "      <td>-0.089545</td>\n",
       "      <td>-1</td>\n",
       "      <td>0.786408</td>\n",
       "      <td>0.786408</td>\n",
       "      <td>1</td>\n",
       "    </tr>\n",
       "  </tbody>\n",
       "</table>\n",
       "<p>69356 rows × 12 columns</p>\n",
       "</div>"
      ],
      "text/plain": [
       "            id  minutes          elo  opposition_elo result  home  \\\n",
       "0      1643586       10  1350.989041     1411.457147    0-0     0   \n",
       "1      1643586       10  1387.795954     1411.457147    0-0     0   \n",
       "2      1643586       10  1359.833623     1411.457147    0-0     0   \n",
       "3      1643297       25  1481.762428     1467.373481    0-0     0   \n",
       "4      1643297       24  1492.921067     1467.523141    0-0     0   \n",
       "...        ...      ...          ...             ...    ...   ...   \n",
       "69351  1388613       35  1351.351537     1388.682000    2-0     1   \n",
       "69352  1388613       24  1385.301427     1387.035839    2-0     1   \n",
       "69353  1388613       24  1348.313831     1387.035839    2-0     1   \n",
       "69354  1388613       21  1341.184189     1372.855581    0-2     0   \n",
       "69355  1388613       13  1345.461302     1373.261258    0-1     0   \n",
       "\n",
       "       game_minutes  elo_diff  goal_diff  minutes_missed  minutes_missed_abs  \\\n",
       "0                97 -0.194771          0        0.844660            0.844660   \n",
       "1                97 -0.076214          0        0.844660            0.844660   \n",
       "2                97 -0.166282          0        0.844660            0.844660   \n",
       "3                98  0.046348          0        0.708738            0.708738   \n",
       "4                98  0.081808          0        0.718447            0.718447   \n",
       "...             ...       ...        ...             ...                 ...   \n",
       "69351            94 -0.120244          2        0.572816            0.572816   \n",
       "69352            94 -0.005587          2        0.679612            0.679612   \n",
       "69353            94 -0.124726          2        0.679612            0.679612   \n",
       "69354            94 -0.102015         -2        0.708738            0.708738   \n",
       "69355            94 -0.089545         -1        0.786408            0.786408   \n",
       "\n",
       "       goal_diff_abs  \n",
       "0                  0  \n",
       "1                  0  \n",
       "2                  0  \n",
       "3                  0  \n",
       "4                  0  \n",
       "...              ...  \n",
       "69351              2  \n",
       "69352              2  \n",
       "69353              2  \n",
       "69354              2  \n",
       "69355              1  \n",
       "\n",
       "[69356 rows x 12 columns]"
      ]
     },
     "execution_count": 38,
     "metadata": {},
     "output_type": "execute_result"
    }
   ],
   "source": [
    "games"
   ]
  },
  {
   "cell_type": "code",
   "execution_count": 39,
   "metadata": {},
   "outputs": [],
   "source": [
    "import pyro\n",
    "import pyro.distributions as dist\n",
    "import pyro.infer as infer\n",
    "import pyro.optim as optim\n",
    "import torch"
   ]
  },
  {
   "cell_type": "code",
   "execution_count": 47,
   "metadata": {},
   "outputs": [],
   "source": [
    "df = games[[\"home\", \"elo_diff\", \"minutes_missed\", \"goal_diff\", \"goal_home\", \"goal_away\"]]\n",
    "train = torch.tensor(df.values, dtype=torch.float)\n",
    "home, elo_diff, minutes_missed, goal_diff, goal_home, goal_away = train[:, 0], train[:, 1], train[:, 2], train[:, 3], train[:, 4], train[:, 5]"
   ]
  },
  {
   "cell_type": "code",
   "execution_count": 70,
   "metadata": {},
   "outputs": [
    {
     "data": {
      "image/svg+xml": [
       "<?xml version=\"1.0\" encoding=\"UTF-8\" standalone=\"no\"?>\n",
       "<!DOCTYPE svg PUBLIC \"-//W3C//DTD SVG 1.1//EN\"\n",
       " \"http://www.w3.org/Graphics/SVG/1.1/DTD/svg11.dtd\">\n",
       "<!-- Generated by graphviz version 12.0.0 (20240803.0821)\n",
       " -->\n",
       "<!-- Pages: 1 -->\n",
       "<svg width=\"1290pt\" height=\"339pt\"\n",
       " viewBox=\"0.00 0.00 1289.53 339.25\" xmlns=\"http://www.w3.org/2000/svg\" xmlns:xlink=\"http://www.w3.org/1999/xlink\">\n",
       "<g id=\"graph0\" class=\"graph\" transform=\"scale(1 1) rotate(0) translate(4 335.25)\">\n",
       "<polygon fill=\"white\" stroke=\"none\" points=\"-4,4 -4,-335.25 1285.53,-335.25 1285.53,4 -4,4\"/>\n",
       "<g id=\"clust1\" class=\"cluster\">\n",
       "<title>cluster_data</title>\n",
       "<polygon fill=\"none\" stroke=\"black\" points=\"423.4,-8 423.4,-157.25 609.4,-157.25 609.4,-8 423.4,-8\"/>\n",
       "<text text-anchor=\"middle\" x=\"585.65\" y=\"-15.95\" font-family=\"Times,serif\" font-size=\"14.00\">data</text>\n",
       "</g>\n",
       "<!-- home_advantage -->\n",
       "<g id=\"node1\" class=\"node\">\n",
       "<title>home_advantage</title>\n",
       "<ellipse fill=\"white\" stroke=\"black\" cx=\"95.4\" cy=\"-258.25\" rx=\"95.4\" ry=\"18\"/>\n",
       "<text text-anchor=\"middle\" x=\"95.4\" y=\"-253.57\" font-family=\"Times,serif\" font-size=\"14.00\">home_advantage</text>\n",
       "</g>\n",
       "<!-- home -->\n",
       "<g id=\"node6\" class=\"node\">\n",
       "<title>home</title>\n",
       "<ellipse fill=\"gray\" stroke=\"black\" cx=\"470.4\" cy=\"-131.25\" rx=\"38.58\" ry=\"18\"/>\n",
       "<text text-anchor=\"middle\" x=\"470.4\" y=\"-126.58\" font-family=\"Times,serif\" font-size=\"14.00\">home</text>\n",
       "</g>\n",
       "<!-- home_advantage&#45;&gt;home -->\n",
       "<g id=\"edge1\" class=\"edge\">\n",
       "<title>home_advantage&#45;&gt;home</title>\n",
       "<path fill=\"none\" stroke=\"black\" d=\"M114.65,-240.23C134.5,-223.62 167.03,-198.91 199.4,-185.25 272.8,-154.27 365.1,-141.18 420.84,-135.81\"/>\n",
       "<polygon fill=\"black\" stroke=\"black\" points=\"421.01,-139.3 430.65,-134.91 420.37,-132.33 421.01,-139.3\"/>\n",
       "</g>\n",
       "<!-- elo_diff_coeff_home -->\n",
       "<g id=\"node2\" class=\"node\">\n",
       "<title>elo_diff_coeff_home</title>\n",
       "<ellipse fill=\"white\" stroke=\"black\" cx=\"317.4\" cy=\"-258.25\" rx=\"108.55\" ry=\"18\"/>\n",
       "<text text-anchor=\"middle\" x=\"317.4\" y=\"-253.57\" font-family=\"Times,serif\" font-size=\"14.00\">elo_diff_coeff_home</text>\n",
       "</g>\n",
       "<!-- elo_diff_coeff_home&#45;&gt;home -->\n",
       "<g id=\"edge2\" class=\"edge\">\n",
       "<title>elo_diff_coeff_home&#45;&gt;home</title>\n",
       "<path fill=\"none\" stroke=\"black\" d=\"M338.35,-240.13C365.65,-217.83 413.41,-178.81 443.4,-154.31\"/>\n",
       "<polygon fill=\"black\" stroke=\"black\" points=\"445.39,-157.21 450.92,-148.17 440.96,-151.79 445.39,-157.21\"/>\n",
       "</g>\n",
       "<!-- elo_diff_coeff_away -->\n",
       "<g id=\"node3\" class=\"node\">\n",
       "<title>elo_diff_coeff_away</title>\n",
       "<ellipse fill=\"white\" stroke=\"black\" cx=\"810.4\" cy=\"-258.25\" rx=\"106.98\" ry=\"18\"/>\n",
       "<text text-anchor=\"middle\" x=\"810.4\" y=\"-253.57\" font-family=\"Times,serif\" font-size=\"14.00\">elo_diff_coeff_away</text>\n",
       "</g>\n",
       "<!-- away -->\n",
       "<g id=\"node7\" class=\"node\">\n",
       "<title>away</title>\n",
       "<ellipse fill=\"gray\" stroke=\"black\" cx=\"564.4\" cy=\"-131.25\" rx=\"37\" ry=\"18\"/>\n",
       "<text text-anchor=\"middle\" x=\"564.4\" y=\"-126.58\" font-family=\"Times,serif\" font-size=\"14.00\">away</text>\n",
       "</g>\n",
       "<!-- elo_diff_coeff_away&#45;&gt;away -->\n",
       "<g id=\"edge4\" class=\"edge\">\n",
       "<title>elo_diff_coeff_away&#45;&gt;away</title>\n",
       "<path fill=\"none\" stroke=\"black\" d=\"M785.77,-240.26C762.76,-224.81 727.14,-201.93 694.4,-185.25 665.04,-170.29 630.44,-156.35 604.32,-146.52\"/>\n",
       "<polygon fill=\"black\" stroke=\"black\" points=\"605.69,-143.3 595.1,-143.1 603.26,-149.86 605.69,-143.3\"/>\n",
       "</g>\n",
       "<!-- minutes_missed_coeff -->\n",
       "<g id=\"node4\" class=\"node\">\n",
       "<title>minutes_missed_coeff</title>\n",
       "<ellipse fill=\"white\" stroke=\"black\" cx=\"564.4\" cy=\"-258.25\" rx=\"120.65\" ry=\"18\"/>\n",
       "<text text-anchor=\"middle\" x=\"564.4\" y=\"-253.57\" font-family=\"Times,serif\" font-size=\"14.00\">minutes_missed_coeff</text>\n",
       "</g>\n",
       "<!-- minutes_missed_coeff&#45;&gt;home -->\n",
       "<g id=\"edge3\" class=\"edge\">\n",
       "<title>minutes_missed_coeff&#45;&gt;home</title>\n",
       "<path fill=\"none\" stroke=\"black\" d=\"M551.33,-239.87C535.3,-218.55 507.99,-182.23 489.58,-157.75\"/>\n",
       "<polygon fill=\"black\" stroke=\"black\" points=\"492.48,-155.79 483.67,-149.9 486.89,-159.99 492.48,-155.79\"/>\n",
       "</g>\n",
       "<!-- minutes_missed_coeff&#45;&gt;away -->\n",
       "<g id=\"edge5\" class=\"edge\">\n",
       "<title>minutes_missed_coeff&#45;&gt;away</title>\n",
       "<path fill=\"none\" stroke=\"black\" d=\"M564.4,-239.87C564.4,-219.44 564.4,-185.24 564.4,-160.87\"/>\n",
       "<polygon fill=\"black\" stroke=\"black\" points=\"567.9,-161 564.4,-151 560.9,-161 567.9,-161\"/>\n",
       "</g>\n",
       "<!-- sigma -->\n",
       "<g id=\"node5\" class=\"node\">\n",
       "<title>sigma</title>\n",
       "<ellipse fill=\"white\" stroke=\"black\" cx=\"976.4\" cy=\"-258.25\" rx=\"41.21\" ry=\"18\"/>\n",
       "<text text-anchor=\"middle\" x=\"976.4\" y=\"-253.57\" font-family=\"Times,serif\" font-size=\"14.00\">sigma</text>\n",
       "</g>\n",
       "<!-- obs -->\n",
       "<g id=\"node8\" class=\"node\">\n",
       "<title>obs</title>\n",
       "<ellipse fill=\"white\" stroke=\"black\" cx=\"517.4\" cy=\"-59.25\" rx=\"28.59\" ry=\"18\"/>\n",
       "<text text-anchor=\"middle\" x=\"517.4\" y=\"-54.58\" font-family=\"Times,serif\" font-size=\"14.00\">obs</text>\n",
       "</g>\n",
       "<!-- home&#45;&gt;obs -->\n",
       "<g id=\"edge6\" class=\"edge\">\n",
       "<title>home&#45;&gt;obs</title>\n",
       "<path fill=\"none\" stroke=\"black\" d=\"M481.54,-113.66C487.18,-105.26 494.15,-94.88 500.44,-85.51\"/>\n",
       "<polygon fill=\"black\" stroke=\"black\" points=\"503.15,-87.75 505.82,-77.49 497.34,-83.85 503.15,-87.75\"/>\n",
       "</g>\n",
       "<!-- away&#45;&gt;obs -->\n",
       "<g id=\"edge7\" class=\"edge\">\n",
       "<title>away&#45;&gt;obs</title>\n",
       "<path fill=\"none\" stroke=\"black\" d=\"M553.26,-113.66C547.62,-105.26 540.65,-94.88 534.36,-85.51\"/>\n",
       "<polygon fill=\"black\" stroke=\"black\" points=\"537.46,-83.85 528.98,-77.49 531.65,-87.75 537.46,-83.85\"/>\n",
       "</g>\n",
       "<!-- distribution_description_node -->\n",
       "<g id=\"node9\" class=\"node\">\n",
       "<title>distribution_description_node</title>\n",
       "<text text-anchor=\"start\" x=\"1043.28\" y=\"-313.95\" font-family=\"Times,serif\" font-size=\"14.00\">home_advantage ~ Normal</text>\n",
       "<text text-anchor=\"start\" x=\"1043.28\" y=\"-296.7\" font-family=\"Times,serif\" font-size=\"14.00\">elo_diff_coeff_home ~ Normal</text>\n",
       "<text text-anchor=\"start\" x=\"1043.28\" y=\"-279.45\" font-family=\"Times,serif\" font-size=\"14.00\">elo_diff_coeff_away ~ Normal</text>\n",
       "<text text-anchor=\"start\" x=\"1043.28\" y=\"-262.2\" font-family=\"Times,serif\" font-size=\"14.00\">minutes_missed_coeff ~ Normal</text>\n",
       "<text text-anchor=\"start\" x=\"1043.28\" y=\"-244.95\" font-family=\"Times,serif\" font-size=\"14.00\">sigma ~ HalfNormal</text>\n",
       "<text text-anchor=\"start\" x=\"1043.28\" y=\"-227.7\" font-family=\"Times,serif\" font-size=\"14.00\">home ~ Poisson</text>\n",
       "<text text-anchor=\"start\" x=\"1043.28\" y=\"-210.45\" font-family=\"Times,serif\" font-size=\"14.00\">away ~ Poisson</text>\n",
       "<text text-anchor=\"start\" x=\"1043.28\" y=\"-193.2\" font-family=\"Times,serif\" font-size=\"14.00\">obs ~ Delta</text>\n",
       "</g>\n",
       "</g>\n",
       "</svg>\n"
      ],
      "text/plain": [
       "<graphviz.graphs.Digraph at 0x79802f520590>"
      ]
     },
     "execution_count": 70,
     "metadata": {},
     "output_type": "execute_result"
    }
   ],
   "source": [
    "import math\n",
    "\n",
    "def model(is_home, elo_diff, minutes_missed, goal_home = None, goal_away = None):\n",
    "    home_advantage = pyro.sample(\"home_advantage\", dist.Normal(0.3, 1.))\n",
    "    elo_diff_coeff_home = pyro.sample(\"elo_diff_coeff_home\", dist.Normal(1., 1.))\n",
    "    elo_diff_coeff_away = pyro.sample(\"elo_diff_coeff_away\", dist.Normal(1., 1.))\n",
    "    minutes_missed_coeff = pyro.sample(\"minutes_missed_coeff\", dist.Normal(1., 1.))\n",
    "    #b_ar = pyro.sample(\"bAR\", dist.Normal(0., 1.))\n",
    "    sigma = pyro.sample(\"sigma\", dist.HalfNormal(0.1))\n",
    "\n",
    "    mean_home = ((is_home * home_advantage) + (elo_diff * elo_diff_coeff_home)) * torch.abs(1 - (minutes_missed * minutes_missed_coeff))\n",
    "    mean_away = (((-1 * elo_diff) * elo_diff_coeff_away)) * torch.abs(1 - (minutes_missed * minutes_missed_coeff))\n",
    "\n",
    "    mean_home = torch.exp(mean_home)\n",
    "    mean_away = torch.exp(mean_away)\n",
    "\n",
    "    with pyro.plate(\"data\", len(mean_home)):\n",
    "        home = pyro.sample(\"home\", dist.Poisson(mean_home), obs=goal_home)\n",
    "#with pyro.plate(\"data\", len(mean_away)):\n",
    "        away = pyro.sample(\"away\", dist.Poisson(mean_away), obs=goal_away)\n",
    "\n",
    "    # with pyro.plate(\"data\", len(home)):\n",
    "    #     return pyro.sample(\"obs\", dist.Delta(home - away))\n",
    "        return pyro.sample(\"obs\", dist.Delta(home - away))\n",
    "\n",
    "pyro.render_model(model, model_args=(home,\n",
    "                                     elo_diff, \n",
    "                                     minutes_missed, \n",
    "                                     goal_home, \n",
    "                                     goal_away), render_distributions=True)"
   ]
  },
  {
   "cell_type": "code",
   "execution_count": 71,
   "metadata": {},
   "outputs": [],
   "source": [
    "auto_guide = pyro.infer.autoguide.AutoNormal(model)\n",
    "adam = pyro.optim.Adam({\"lr\": 0.02})\n",
    "elbo = pyro.infer.Trace_ELBO()\n",
    "svi = pyro.infer.SVI(model, auto_guide, adam, elbo)"
   ]
  },
  {
   "cell_type": "code",
   "execution_count": 72,
   "metadata": {},
   "outputs": [],
   "source": [
    "import matplotlib.pyplot as plt"
   ]
  },
  {
   "cell_type": "code",
   "execution_count": 73,
   "metadata": {},
   "outputs": [
    {
     "name": "stdout",
     "output_type": "stream",
     "text": [
      "Elbo loss: inf\n"
     ]
    },
    {
     "name": "stderr",
     "output_type": "stream",
     "text": [
      "/home/morten/.conda/envs/most_pymc/lib/python3.12/site-packages/pyro/poutine/trace_struct.py:280: UserWarning: Encountered NaN: log_prob_sum at site 'home'\n",
      "  warn_if_nan(\n",
      "/home/morten/.conda/envs/most_pymc/lib/python3.12/site-packages/pyro/infer/trace_elbo.py:158: UserWarning: Encountered NaN: loss\n",
      "  warn_if_nan(loss, \"loss\")\n"
     ]
    },
    {
     "ename": "ValueError",
     "evalue": "Expected parameter loc (Parameter of shape ()) of distribution Normal(loc: Parameter containing:\ntensor(nan, requires_grad=True), scale: nan) to satisfy the constraint Real(), but found invalid values:\nParameter containing:\ntensor(nan, requires_grad=True)\n                   Trace Shapes:        \n                    Param Sites:        \n  AutoNormal.locs.home_advantage        \nAutoNormal.scales.home_advantage        \n                   Sample Sites:        \n                       data dist       |\n                           value 69356 |",
     "output_type": "error",
     "traceback": [
      "\u001b[0;31m---------------------------------------------------------------------------\u001b[0m",
      "\u001b[0;31mValueError\u001b[0m                                Traceback (most recent call last)",
      "File \u001b[0;32m~/.conda/envs/most_pymc/lib/python3.12/site-packages/pyro/poutine/trace_messenger.py:191\u001b[0m, in \u001b[0;36mTraceHandler.__call__\u001b[0;34m(self, *args, **kwargs)\u001b[0m\n\u001b[1;32m    190\u001b[0m \u001b[38;5;28;01mtry\u001b[39;00m:\n\u001b[0;32m--> 191\u001b[0m     ret \u001b[38;5;241m=\u001b[39m \u001b[38;5;28;43mself\u001b[39;49m\u001b[38;5;241;43m.\u001b[39;49m\u001b[43mfn\u001b[49m\u001b[43m(\u001b[49m\u001b[38;5;241;43m*\u001b[39;49m\u001b[43margs\u001b[49m\u001b[43m,\u001b[49m\u001b[43m \u001b[49m\u001b[38;5;241;43m*\u001b[39;49m\u001b[38;5;241;43m*\u001b[39;49m\u001b[43mkwargs\u001b[49m\u001b[43m)\u001b[49m\n\u001b[1;32m    192\u001b[0m \u001b[38;5;28;01mexcept\u001b[39;00m (\u001b[38;5;167;01mValueError\u001b[39;00m, \u001b[38;5;167;01mRuntimeError\u001b[39;00m) \u001b[38;5;28;01mas\u001b[39;00m e:\n",
      "File \u001b[0;32m~/.conda/envs/most_pymc/lib/python3.12/site-packages/pyro/nn/module.py:520\u001b[0m, in \u001b[0;36mPyroModule.__call__\u001b[0;34m(self, *args, **kwargs)\u001b[0m\n\u001b[1;32m    519\u001b[0m \u001b[38;5;28;01mwith\u001b[39;00m \u001b[38;5;28mself\u001b[39m\u001b[38;5;241m.\u001b[39m_pyro_context:\n\u001b[0;32m--> 520\u001b[0m     result \u001b[38;5;241m=\u001b[39m \u001b[38;5;28;43msuper\u001b[39;49m\u001b[43m(\u001b[49m\u001b[43m)\u001b[49m\u001b[38;5;241;43m.\u001b[39;49m\u001b[38;5;21;43m__call__\u001b[39;49m\u001b[43m(\u001b[49m\u001b[38;5;241;43m*\u001b[39;49m\u001b[43margs\u001b[49m\u001b[43m,\u001b[49m\u001b[43m \u001b[49m\u001b[38;5;241;43m*\u001b[39;49m\u001b[38;5;241;43m*\u001b[39;49m\u001b[43mkwargs\u001b[49m\u001b[43m)\u001b[49m\n\u001b[1;32m    521\u001b[0m \u001b[38;5;28;01mif\u001b[39;00m (\n\u001b[1;32m    522\u001b[0m     pyro\u001b[38;5;241m.\u001b[39msettings\u001b[38;5;241m.\u001b[39mget(\u001b[38;5;124m\"\u001b[39m\u001b[38;5;124mvalidate_poutine\u001b[39m\u001b[38;5;124m\"\u001b[39m)\n\u001b[1;32m    523\u001b[0m     \u001b[38;5;129;01mand\u001b[39;00m \u001b[38;5;129;01mnot\u001b[39;00m \u001b[38;5;28mself\u001b[39m\u001b[38;5;241m.\u001b[39m_pyro_context\u001b[38;5;241m.\u001b[39mactive\n\u001b[1;32m    524\u001b[0m     \u001b[38;5;129;01mand\u001b[39;00m _is_module_local_param_enabled()\n\u001b[1;32m    525\u001b[0m ):\n",
      "File \u001b[0;32m~/.conda/envs/most_pymc/lib/python3.12/site-packages/torch/nn/modules/module.py:1736\u001b[0m, in \u001b[0;36mModule._wrapped_call_impl\u001b[0;34m(self, *args, **kwargs)\u001b[0m\n\u001b[1;32m   1735\u001b[0m \u001b[38;5;28;01melse\u001b[39;00m:\n\u001b[0;32m-> 1736\u001b[0m     \u001b[38;5;28;01mreturn\u001b[39;00m \u001b[38;5;28;43mself\u001b[39;49m\u001b[38;5;241;43m.\u001b[39;49m\u001b[43m_call_impl\u001b[49m\u001b[43m(\u001b[49m\u001b[38;5;241;43m*\u001b[39;49m\u001b[43margs\u001b[49m\u001b[43m,\u001b[49m\u001b[43m \u001b[49m\u001b[38;5;241;43m*\u001b[39;49m\u001b[38;5;241;43m*\u001b[39;49m\u001b[43mkwargs\u001b[49m\u001b[43m)\u001b[49m\n",
      "File \u001b[0;32m~/.conda/envs/most_pymc/lib/python3.12/site-packages/torch/nn/modules/module.py:1747\u001b[0m, in \u001b[0;36mModule._call_impl\u001b[0;34m(self, *args, **kwargs)\u001b[0m\n\u001b[1;32m   1744\u001b[0m \u001b[38;5;28;01mif\u001b[39;00m \u001b[38;5;129;01mnot\u001b[39;00m (\u001b[38;5;28mself\u001b[39m\u001b[38;5;241m.\u001b[39m_backward_hooks \u001b[38;5;129;01mor\u001b[39;00m \u001b[38;5;28mself\u001b[39m\u001b[38;5;241m.\u001b[39m_backward_pre_hooks \u001b[38;5;129;01mor\u001b[39;00m \u001b[38;5;28mself\u001b[39m\u001b[38;5;241m.\u001b[39m_forward_hooks \u001b[38;5;129;01mor\u001b[39;00m \u001b[38;5;28mself\u001b[39m\u001b[38;5;241m.\u001b[39m_forward_pre_hooks\n\u001b[1;32m   1745\u001b[0m         \u001b[38;5;129;01mor\u001b[39;00m _global_backward_pre_hooks \u001b[38;5;129;01mor\u001b[39;00m _global_backward_hooks\n\u001b[1;32m   1746\u001b[0m         \u001b[38;5;129;01mor\u001b[39;00m _global_forward_hooks \u001b[38;5;129;01mor\u001b[39;00m _global_forward_pre_hooks):\n\u001b[0;32m-> 1747\u001b[0m     \u001b[38;5;28;01mreturn\u001b[39;00m \u001b[43mforward_call\u001b[49m\u001b[43m(\u001b[49m\u001b[38;5;241;43m*\u001b[39;49m\u001b[43margs\u001b[49m\u001b[43m,\u001b[49m\u001b[43m \u001b[49m\u001b[38;5;241;43m*\u001b[39;49m\u001b[38;5;241;43m*\u001b[39;49m\u001b[43mkwargs\u001b[49m\u001b[43m)\u001b[49m\n\u001b[1;32m   1749\u001b[0m result \u001b[38;5;241m=\u001b[39m \u001b[38;5;28;01mNone\u001b[39;00m\n",
      "File \u001b[0;32m~/.conda/envs/most_pymc/lib/python3.12/site-packages/pyro/infer/autoguide/guides.py:525\u001b[0m, in \u001b[0;36mAutoNormal.forward\u001b[0;34m(self, *args, **kwargs)\u001b[0m\n\u001b[1;32m    522\u001b[0m site_loc, site_scale \u001b[38;5;241m=\u001b[39m \u001b[38;5;28mself\u001b[39m\u001b[38;5;241m.\u001b[39m_get_loc_and_scale(name)\n\u001b[1;32m    523\u001b[0m unconstrained_latent \u001b[38;5;241m=\u001b[39m pyro\u001b[38;5;241m.\u001b[39msample(\n\u001b[1;32m    524\u001b[0m     name \u001b[38;5;241m+\u001b[39m \u001b[38;5;124m\"\u001b[39m\u001b[38;5;124m_unconstrained\u001b[39m\u001b[38;5;124m\"\u001b[39m,\n\u001b[0;32m--> 525\u001b[0m     \u001b[43mdist\u001b[49m\u001b[38;5;241;43m.\u001b[39;49m\u001b[43mNormal\u001b[49m\u001b[43m(\u001b[49m\n\u001b[1;32m    526\u001b[0m \u001b[43m        \u001b[49m\u001b[43msite_loc\u001b[49m\u001b[43m,\u001b[49m\n\u001b[1;32m    527\u001b[0m \u001b[43m        \u001b[49m\u001b[43msite_scale\u001b[49m\u001b[43m,\u001b[49m\n\u001b[1;32m    528\u001b[0m \u001b[43m    \u001b[49m\u001b[43m)\u001b[49m\u001b[38;5;241m.\u001b[39mto_event(\u001b[38;5;28mself\u001b[39m\u001b[38;5;241m.\u001b[39m_event_dims[name]),\n\u001b[1;32m    529\u001b[0m     infer\u001b[38;5;241m=\u001b[39m{\u001b[38;5;124m\"\u001b[39m\u001b[38;5;124mis_auxiliary\u001b[39m\u001b[38;5;124m\"\u001b[39m: \u001b[38;5;28;01mTrue\u001b[39;00m},\n\u001b[1;32m    530\u001b[0m )\n\u001b[1;32m    532\u001b[0m value \u001b[38;5;241m=\u001b[39m transform(unconstrained_latent)\n",
      "File \u001b[0;32m~/.conda/envs/most_pymc/lib/python3.12/site-packages/pyro/distributions/distribution.py:26\u001b[0m, in \u001b[0;36mDistributionMeta.__call__\u001b[0;34m(cls, *args, **kwargs)\u001b[0m\n\u001b[1;32m     25\u001b[0m         \u001b[38;5;28;01mreturn\u001b[39;00m result\n\u001b[0;32m---> 26\u001b[0m \u001b[38;5;28;01mreturn\u001b[39;00m \u001b[38;5;28;43msuper\u001b[39;49m\u001b[43m(\u001b[49m\u001b[43m)\u001b[49m\u001b[38;5;241;43m.\u001b[39;49m\u001b[38;5;21;43m__call__\u001b[39;49m\u001b[43m(\u001b[49m\u001b[38;5;241;43m*\u001b[39;49m\u001b[43margs\u001b[49m\u001b[43m,\u001b[49m\u001b[43m \u001b[49m\u001b[38;5;241;43m*\u001b[39;49m\u001b[38;5;241;43m*\u001b[39;49m\u001b[43mkwargs\u001b[49m\u001b[43m)\u001b[49m\n",
      "File \u001b[0;32m~/.conda/envs/most_pymc/lib/python3.12/site-packages/torch/distributions/normal.py:59\u001b[0m, in \u001b[0;36mNormal.__init__\u001b[0;34m(self, loc, scale, validate_args)\u001b[0m\n\u001b[1;32m     58\u001b[0m     batch_shape \u001b[38;5;241m=\u001b[39m \u001b[38;5;28mself\u001b[39m\u001b[38;5;241m.\u001b[39mloc\u001b[38;5;241m.\u001b[39msize()\n\u001b[0;32m---> 59\u001b[0m \u001b[38;5;28;43msuper\u001b[39;49m\u001b[43m(\u001b[49m\u001b[43m)\u001b[49m\u001b[38;5;241;43m.\u001b[39;49m\u001b[38;5;21;43m__init__\u001b[39;49m\u001b[43m(\u001b[49m\u001b[43mbatch_shape\u001b[49m\u001b[43m,\u001b[49m\u001b[43m \u001b[49m\u001b[43mvalidate_args\u001b[49m\u001b[38;5;241;43m=\u001b[39;49m\u001b[43mvalidate_args\u001b[49m\u001b[43m)\u001b[49m\n",
      "File \u001b[0;32m~/.conda/envs/most_pymc/lib/python3.12/site-packages/torch/distributions/distribution.py:71\u001b[0m, in \u001b[0;36mDistribution.__init__\u001b[0;34m(self, batch_shape, event_shape, validate_args)\u001b[0m\n\u001b[1;32m     70\u001b[0m         \u001b[38;5;28;01mif\u001b[39;00m \u001b[38;5;129;01mnot\u001b[39;00m valid\u001b[38;5;241m.\u001b[39mall():\n\u001b[0;32m---> 71\u001b[0m             \u001b[38;5;28;01mraise\u001b[39;00m \u001b[38;5;167;01mValueError\u001b[39;00m(\n\u001b[1;32m     72\u001b[0m                 \u001b[38;5;124mf\u001b[39m\u001b[38;5;124m\"\u001b[39m\u001b[38;5;124mExpected parameter \u001b[39m\u001b[38;5;132;01m{\u001b[39;00mparam\u001b[38;5;132;01m}\u001b[39;00m\u001b[38;5;124m \u001b[39m\u001b[38;5;124m\"\u001b[39m\n\u001b[1;32m     73\u001b[0m                 \u001b[38;5;124mf\u001b[39m\u001b[38;5;124m\"\u001b[39m\u001b[38;5;124m(\u001b[39m\u001b[38;5;132;01m{\u001b[39;00m\u001b[38;5;28mtype\u001b[39m(value)\u001b[38;5;241m.\u001b[39m\u001b[38;5;18m__name__\u001b[39m\u001b[38;5;132;01m}\u001b[39;00m\u001b[38;5;124m of shape \u001b[39m\u001b[38;5;132;01m{\u001b[39;00m\u001b[38;5;28mtuple\u001b[39m(value\u001b[38;5;241m.\u001b[39mshape)\u001b[38;5;132;01m}\u001b[39;00m\u001b[38;5;124m) \u001b[39m\u001b[38;5;124m\"\u001b[39m\n\u001b[1;32m     74\u001b[0m                 \u001b[38;5;124mf\u001b[39m\u001b[38;5;124m\"\u001b[39m\u001b[38;5;124mof distribution \u001b[39m\u001b[38;5;132;01m{\u001b[39;00m\u001b[38;5;28mrepr\u001b[39m(\u001b[38;5;28mself\u001b[39m)\u001b[38;5;132;01m}\u001b[39;00m\u001b[38;5;124m \u001b[39m\u001b[38;5;124m\"\u001b[39m\n\u001b[1;32m     75\u001b[0m                 \u001b[38;5;124mf\u001b[39m\u001b[38;5;124m\"\u001b[39m\u001b[38;5;124mto satisfy the constraint \u001b[39m\u001b[38;5;132;01m{\u001b[39;00m\u001b[38;5;28mrepr\u001b[39m(constraint)\u001b[38;5;132;01m}\u001b[39;00m\u001b[38;5;124m, \u001b[39m\u001b[38;5;124m\"\u001b[39m\n\u001b[1;32m     76\u001b[0m                 \u001b[38;5;124mf\u001b[39m\u001b[38;5;124m\"\u001b[39m\u001b[38;5;124mbut found invalid values:\u001b[39m\u001b[38;5;130;01m\\n\u001b[39;00m\u001b[38;5;132;01m{\u001b[39;00mvalue\u001b[38;5;132;01m}\u001b[39;00m\u001b[38;5;124m\"\u001b[39m\n\u001b[1;32m     77\u001b[0m             )\n\u001b[1;32m     78\u001b[0m \u001b[38;5;28msuper\u001b[39m()\u001b[38;5;241m.\u001b[39m\u001b[38;5;21m__init__\u001b[39m()\n",
      "\u001b[0;31mValueError\u001b[0m: Expected parameter loc (Parameter of shape ()) of distribution Normal(loc: Parameter containing:\ntensor(nan, requires_grad=True), scale: nan) to satisfy the constraint Real(), but found invalid values:\nParameter containing:\ntensor(nan, requires_grad=True)",
      "\nThe above exception was the direct cause of the following exception:\n",
      "\u001b[0;31mValueError\u001b[0m                                Traceback (most recent call last)",
      "File \u001b[0;32m<timed exec>:11\u001b[0m\n",
      "File \u001b[0;32m~/.conda/envs/most_pymc/lib/python3.12/site-packages/pyro/infer/svi.py:145\u001b[0m, in \u001b[0;36mSVI.step\u001b[0;34m(self, *args, **kwargs)\u001b[0m\n\u001b[1;32m    143\u001b[0m \u001b[38;5;66;03m# get loss and compute gradients\u001b[39;00m\n\u001b[1;32m    144\u001b[0m \u001b[38;5;28;01mwith\u001b[39;00m poutine\u001b[38;5;241m.\u001b[39mtrace(param_only\u001b[38;5;241m=\u001b[39m\u001b[38;5;28;01mTrue\u001b[39;00m) \u001b[38;5;28;01mas\u001b[39;00m param_capture:\n\u001b[0;32m--> 145\u001b[0m     loss \u001b[38;5;241m=\u001b[39m \u001b[38;5;28;43mself\u001b[39;49m\u001b[38;5;241;43m.\u001b[39;49m\u001b[43mloss_and_grads\u001b[49m\u001b[43m(\u001b[49m\u001b[38;5;28;43mself\u001b[39;49m\u001b[38;5;241;43m.\u001b[39;49m\u001b[43mmodel\u001b[49m\u001b[43m,\u001b[49m\u001b[43m \u001b[49m\u001b[38;5;28;43mself\u001b[39;49m\u001b[38;5;241;43m.\u001b[39;49m\u001b[43mguide\u001b[49m\u001b[43m,\u001b[49m\u001b[43m \u001b[49m\u001b[38;5;241;43m*\u001b[39;49m\u001b[43margs\u001b[49m\u001b[43m,\u001b[49m\u001b[43m \u001b[49m\u001b[38;5;241;43m*\u001b[39;49m\u001b[38;5;241;43m*\u001b[39;49m\u001b[43mkwargs\u001b[49m\u001b[43m)\u001b[49m\n\u001b[1;32m    147\u001b[0m params \u001b[38;5;241m=\u001b[39m \u001b[38;5;28mset\u001b[39m(\n\u001b[1;32m    148\u001b[0m     site[\u001b[38;5;124m\"\u001b[39m\u001b[38;5;124mvalue\u001b[39m\u001b[38;5;124m\"\u001b[39m]\u001b[38;5;241m.\u001b[39munconstrained() \u001b[38;5;28;01mfor\u001b[39;00m site \u001b[38;5;129;01min\u001b[39;00m param_capture\u001b[38;5;241m.\u001b[39mtrace\u001b[38;5;241m.\u001b[39mnodes\u001b[38;5;241m.\u001b[39mvalues()\n\u001b[1;32m    149\u001b[0m )\n\u001b[1;32m    151\u001b[0m \u001b[38;5;66;03m# actually perform gradient steps\u001b[39;00m\n\u001b[1;32m    152\u001b[0m \u001b[38;5;66;03m# torch.optim objects gets instantiated for any params that haven't been seen yet\u001b[39;00m\n",
      "File \u001b[0;32m~/.conda/envs/most_pymc/lib/python3.12/site-packages/pyro/infer/trace_elbo.py:140\u001b[0m, in \u001b[0;36mTrace_ELBO.loss_and_grads\u001b[0;34m(self, model, guide, *args, **kwargs)\u001b[0m\n\u001b[1;32m    138\u001b[0m loss \u001b[38;5;241m=\u001b[39m \u001b[38;5;241m0.0\u001b[39m\n\u001b[1;32m    139\u001b[0m \u001b[38;5;66;03m# grab a trace from the generator\u001b[39;00m\n\u001b[0;32m--> 140\u001b[0m \u001b[43m\u001b[49m\u001b[38;5;28;43;01mfor\u001b[39;49;00m\u001b[43m \u001b[49m\u001b[43mmodel_trace\u001b[49m\u001b[43m,\u001b[49m\u001b[43m \u001b[49m\u001b[43mguide_trace\u001b[49m\u001b[43m \u001b[49m\u001b[38;5;129;43;01min\u001b[39;49;00m\u001b[43m \u001b[49m\u001b[38;5;28;43mself\u001b[39;49m\u001b[38;5;241;43m.\u001b[39;49m\u001b[43m_get_traces\u001b[49m\u001b[43m(\u001b[49m\u001b[43mmodel\u001b[49m\u001b[43m,\u001b[49m\u001b[43m \u001b[49m\u001b[43mguide\u001b[49m\u001b[43m,\u001b[49m\u001b[43m \u001b[49m\u001b[43margs\u001b[49m\u001b[43m,\u001b[49m\u001b[43m \u001b[49m\u001b[43mkwargs\u001b[49m\u001b[43m)\u001b[49m\u001b[43m:\u001b[49m\n\u001b[1;32m    141\u001b[0m \u001b[43m    \u001b[49m\u001b[43mloss_particle\u001b[49m\u001b[43m,\u001b[49m\u001b[43m \u001b[49m\u001b[43msurrogate_loss_particle\u001b[49m\u001b[43m \u001b[49m\u001b[38;5;241;43m=\u001b[39;49m\u001b[43m \u001b[49m\u001b[38;5;28;43mself\u001b[39;49m\u001b[38;5;241;43m.\u001b[39;49m\u001b[43m_differentiable_loss_particle\u001b[49m\u001b[43m(\u001b[49m\n\u001b[1;32m    142\u001b[0m \u001b[43m        \u001b[49m\u001b[43mmodel_trace\u001b[49m\u001b[43m,\u001b[49m\u001b[43m \u001b[49m\u001b[43mguide_trace\u001b[49m\n\u001b[1;32m    143\u001b[0m \u001b[43m    \u001b[49m\u001b[43m)\u001b[49m\n\u001b[1;32m    144\u001b[0m \u001b[43m    \u001b[49m\u001b[43mloss\u001b[49m\u001b[43m \u001b[49m\u001b[38;5;241;43m+\u001b[39;49m\u001b[38;5;241;43m=\u001b[39;49m\u001b[43m \u001b[49m\u001b[43mloss_particle\u001b[49m\u001b[43m \u001b[49m\u001b[38;5;241;43m/\u001b[39;49m\u001b[43m \u001b[49m\u001b[38;5;28;43mself\u001b[39;49m\u001b[38;5;241;43m.\u001b[39;49m\u001b[43mnum_particles\u001b[49m\n",
      "File \u001b[0;32m~/.conda/envs/most_pymc/lib/python3.12/site-packages/pyro/infer/elbo.py:237\u001b[0m, in \u001b[0;36mELBO._get_traces\u001b[0;34m(self, model, guide, args, kwargs)\u001b[0m\n\u001b[1;32m    235\u001b[0m \u001b[38;5;28;01melse\u001b[39;00m:\n\u001b[1;32m    236\u001b[0m     \u001b[38;5;28;01mfor\u001b[39;00m i \u001b[38;5;129;01min\u001b[39;00m \u001b[38;5;28mrange\u001b[39m(\u001b[38;5;28mself\u001b[39m\u001b[38;5;241m.\u001b[39mnum_particles):\n\u001b[0;32m--> 237\u001b[0m         \u001b[38;5;28;01myield\u001b[39;00m \u001b[38;5;28;43mself\u001b[39;49m\u001b[38;5;241;43m.\u001b[39;49m\u001b[43m_get_trace\u001b[49m\u001b[43m(\u001b[49m\u001b[43mmodel\u001b[49m\u001b[43m,\u001b[49m\u001b[43m \u001b[49m\u001b[43mguide\u001b[49m\u001b[43m,\u001b[49m\u001b[43m \u001b[49m\u001b[43margs\u001b[49m\u001b[43m,\u001b[49m\u001b[43m \u001b[49m\u001b[43mkwargs\u001b[49m\u001b[43m)\u001b[49m\n",
      "File \u001b[0;32m~/.conda/envs/most_pymc/lib/python3.12/site-packages/pyro/infer/trace_elbo.py:57\u001b[0m, in \u001b[0;36mTrace_ELBO._get_trace\u001b[0;34m(self, model, guide, args, kwargs)\u001b[0m\n\u001b[1;32m     52\u001b[0m \u001b[38;5;28;01mdef\u001b[39;00m \u001b[38;5;21m_get_trace\u001b[39m(\u001b[38;5;28mself\u001b[39m, model, guide, args, kwargs):\n\u001b[1;32m     53\u001b[0m \u001b[38;5;250m    \u001b[39m\u001b[38;5;124;03m\"\"\"\u001b[39;00m\n\u001b[1;32m     54\u001b[0m \u001b[38;5;124;03m    Returns a single trace from the guide, and the model that is run\u001b[39;00m\n\u001b[1;32m     55\u001b[0m \u001b[38;5;124;03m    against it.\u001b[39;00m\n\u001b[1;32m     56\u001b[0m \u001b[38;5;124;03m    \"\"\"\u001b[39;00m\n\u001b[0;32m---> 57\u001b[0m     model_trace, guide_trace \u001b[38;5;241m=\u001b[39m \u001b[43mget_importance_trace\u001b[49m\u001b[43m(\u001b[49m\n\u001b[1;32m     58\u001b[0m \u001b[43m        \u001b[49m\u001b[38;5;124;43m\"\u001b[39;49m\u001b[38;5;124;43mflat\u001b[39;49m\u001b[38;5;124;43m\"\u001b[39;49m\u001b[43m,\u001b[49m\u001b[43m \u001b[49m\u001b[38;5;28;43mself\u001b[39;49m\u001b[38;5;241;43m.\u001b[39;49m\u001b[43mmax_plate_nesting\u001b[49m\u001b[43m,\u001b[49m\u001b[43m \u001b[49m\u001b[43mmodel\u001b[49m\u001b[43m,\u001b[49m\u001b[43m \u001b[49m\u001b[43mguide\u001b[49m\u001b[43m,\u001b[49m\u001b[43m \u001b[49m\u001b[43margs\u001b[49m\u001b[43m,\u001b[49m\u001b[43m \u001b[49m\u001b[43mkwargs\u001b[49m\n\u001b[1;32m     59\u001b[0m \u001b[43m    \u001b[49m\u001b[43m)\u001b[49m\n\u001b[1;32m     60\u001b[0m     \u001b[38;5;28;01mif\u001b[39;00m is_validation_enabled():\n\u001b[1;32m     61\u001b[0m         check_if_enumerated(guide_trace)\n",
      "File \u001b[0;32m~/.conda/envs/most_pymc/lib/python3.12/site-packages/pyro/infer/enum.py:60\u001b[0m, in \u001b[0;36mget_importance_trace\u001b[0;34m(graph_type, max_plate_nesting, model, guide, args, kwargs, detach)\u001b[0m\n\u001b[1;32m     58\u001b[0m     model_trace, guide_trace \u001b[38;5;241m=\u001b[39m unwrapped_guide\u001b[38;5;241m.\u001b[39mget_traces()\n\u001b[1;32m     59\u001b[0m \u001b[38;5;28;01melse\u001b[39;00m:\n\u001b[0;32m---> 60\u001b[0m     guide_trace \u001b[38;5;241m=\u001b[39m \u001b[43mpoutine\u001b[49m\u001b[38;5;241;43m.\u001b[39;49m\u001b[43mtrace\u001b[49m\u001b[43m(\u001b[49m\u001b[43mguide\u001b[49m\u001b[43m,\u001b[49m\u001b[43m \u001b[49m\u001b[43mgraph_type\u001b[49m\u001b[38;5;241;43m=\u001b[39;49m\u001b[43mgraph_type\u001b[49m\u001b[43m)\u001b[49m\u001b[38;5;241;43m.\u001b[39;49m\u001b[43mget_trace\u001b[49m\u001b[43m(\u001b[49m\n\u001b[1;32m     61\u001b[0m \u001b[43m        \u001b[49m\u001b[38;5;241;43m*\u001b[39;49m\u001b[43margs\u001b[49m\u001b[43m,\u001b[49m\u001b[43m \u001b[49m\u001b[38;5;241;43m*\u001b[39;49m\u001b[38;5;241;43m*\u001b[39;49m\u001b[43mkwargs\u001b[49m\n\u001b[1;32m     62\u001b[0m \u001b[43m    \u001b[49m\u001b[43m)\u001b[49m\n\u001b[1;32m     63\u001b[0m     \u001b[38;5;28;01mif\u001b[39;00m detach:\n\u001b[1;32m     64\u001b[0m         guide_trace\u001b[38;5;241m.\u001b[39mdetach_()\n",
      "File \u001b[0;32m~/.conda/envs/most_pymc/lib/python3.12/site-packages/pyro/poutine/trace_messenger.py:216\u001b[0m, in \u001b[0;36mTraceHandler.get_trace\u001b[0;34m(self, *args, **kwargs)\u001b[0m\n\u001b[1;32m    208\u001b[0m \u001b[38;5;28;01mdef\u001b[39;00m \u001b[38;5;21mget_trace\u001b[39m(\u001b[38;5;28mself\u001b[39m, \u001b[38;5;241m*\u001b[39margs, \u001b[38;5;241m*\u001b[39m\u001b[38;5;241m*\u001b[39mkwargs) \u001b[38;5;241m-\u001b[39m\u001b[38;5;241m>\u001b[39m Trace:\n\u001b[1;32m    209\u001b[0m \u001b[38;5;250m    \u001b[39m\u001b[38;5;124;03m\"\"\"\u001b[39;00m\n\u001b[1;32m    210\u001b[0m \u001b[38;5;124;03m    :returns: data structure\u001b[39;00m\n\u001b[1;32m    211\u001b[0m \u001b[38;5;124;03m    :rtype: pyro.poutine.Trace\u001b[39;00m\n\u001b[0;32m   (...)\u001b[0m\n\u001b[1;32m    214\u001b[0m \u001b[38;5;124;03m    Calls this poutine and returns its trace instead of the function's return value.\u001b[39;00m\n\u001b[1;32m    215\u001b[0m \u001b[38;5;124;03m    \"\"\"\u001b[39;00m\n\u001b[0;32m--> 216\u001b[0m     \u001b[38;5;28;43mself\u001b[39;49m\u001b[43m(\u001b[49m\u001b[38;5;241;43m*\u001b[39;49m\u001b[43margs\u001b[49m\u001b[43m,\u001b[49m\u001b[43m \u001b[49m\u001b[38;5;241;43m*\u001b[39;49m\u001b[38;5;241;43m*\u001b[39;49m\u001b[43mkwargs\u001b[49m\u001b[43m)\u001b[49m\n\u001b[1;32m    217\u001b[0m     \u001b[38;5;28;01mreturn\u001b[39;00m \u001b[38;5;28mself\u001b[39m\u001b[38;5;241m.\u001b[39mmsngr\u001b[38;5;241m.\u001b[39mget_trace()\n",
      "File \u001b[0;32m~/.conda/envs/most_pymc/lib/python3.12/site-packages/pyro/poutine/trace_messenger.py:198\u001b[0m, in \u001b[0;36mTraceHandler.__call__\u001b[0;34m(self, *args, **kwargs)\u001b[0m\n\u001b[1;32m    196\u001b[0m         exc \u001b[38;5;241m=\u001b[39m exc_type(\u001b[38;5;124m\"\u001b[39m\u001b[38;5;132;01m{}\u001b[39;00m\u001b[38;5;130;01m\\n\u001b[39;00m\u001b[38;5;132;01m{}\u001b[39;00m\u001b[38;5;124m\"\u001b[39m\u001b[38;5;241m.\u001b[39mformat(exc_value, shapes))\n\u001b[1;32m    197\u001b[0m         exc \u001b[38;5;241m=\u001b[39m exc\u001b[38;5;241m.\u001b[39mwith_traceback(traceback)\n\u001b[0;32m--> 198\u001b[0m         \u001b[38;5;28;01mraise\u001b[39;00m exc \u001b[38;5;28;01mfrom\u001b[39;00m \u001b[38;5;21;01me\u001b[39;00m\n\u001b[1;32m    199\u001b[0m     \u001b[38;5;28mself\u001b[39m\u001b[38;5;241m.\u001b[39mmsngr\u001b[38;5;241m.\u001b[39mtrace\u001b[38;5;241m.\u001b[39madd_node(\n\u001b[1;32m    200\u001b[0m         \u001b[38;5;124m\"\u001b[39m\u001b[38;5;124m_RETURN\u001b[39m\u001b[38;5;124m\"\u001b[39m, name\u001b[38;5;241m=\u001b[39m\u001b[38;5;124m\"\u001b[39m\u001b[38;5;124m_RETURN\u001b[39m\u001b[38;5;124m\"\u001b[39m, \u001b[38;5;28mtype\u001b[39m\u001b[38;5;241m=\u001b[39m\u001b[38;5;124m\"\u001b[39m\u001b[38;5;124mreturn\u001b[39m\u001b[38;5;124m\"\u001b[39m, value\u001b[38;5;241m=\u001b[39mret\n\u001b[1;32m    201\u001b[0m     )\n\u001b[1;32m    202\u001b[0m \u001b[38;5;28;01mreturn\u001b[39;00m ret\n",
      "File \u001b[0;32m~/.conda/envs/most_pymc/lib/python3.12/site-packages/pyro/poutine/trace_messenger.py:191\u001b[0m, in \u001b[0;36mTraceHandler.__call__\u001b[0;34m(self, *args, **kwargs)\u001b[0m\n\u001b[1;32m    187\u001b[0m \u001b[38;5;28mself\u001b[39m\u001b[38;5;241m.\u001b[39mmsngr\u001b[38;5;241m.\u001b[39mtrace\u001b[38;5;241m.\u001b[39madd_node(\n\u001b[1;32m    188\u001b[0m     \u001b[38;5;124m\"\u001b[39m\u001b[38;5;124m_INPUT\u001b[39m\u001b[38;5;124m\"\u001b[39m, name\u001b[38;5;241m=\u001b[39m\u001b[38;5;124m\"\u001b[39m\u001b[38;5;124m_INPUT\u001b[39m\u001b[38;5;124m\"\u001b[39m, \u001b[38;5;28mtype\u001b[39m\u001b[38;5;241m=\u001b[39m\u001b[38;5;124m\"\u001b[39m\u001b[38;5;124margs\u001b[39m\u001b[38;5;124m\"\u001b[39m, args\u001b[38;5;241m=\u001b[39margs, kwargs\u001b[38;5;241m=\u001b[39mkwargs\n\u001b[1;32m    189\u001b[0m )\n\u001b[1;32m    190\u001b[0m \u001b[38;5;28;01mtry\u001b[39;00m:\n\u001b[0;32m--> 191\u001b[0m     ret \u001b[38;5;241m=\u001b[39m \u001b[38;5;28;43mself\u001b[39;49m\u001b[38;5;241;43m.\u001b[39;49m\u001b[43mfn\u001b[49m\u001b[43m(\u001b[49m\u001b[38;5;241;43m*\u001b[39;49m\u001b[43margs\u001b[49m\u001b[43m,\u001b[49m\u001b[43m \u001b[49m\u001b[38;5;241;43m*\u001b[39;49m\u001b[38;5;241;43m*\u001b[39;49m\u001b[43mkwargs\u001b[49m\u001b[43m)\u001b[49m\n\u001b[1;32m    192\u001b[0m \u001b[38;5;28;01mexcept\u001b[39;00m (\u001b[38;5;167;01mValueError\u001b[39;00m, \u001b[38;5;167;01mRuntimeError\u001b[39;00m) \u001b[38;5;28;01mas\u001b[39;00m e:\n\u001b[1;32m    193\u001b[0m     exc_type, exc_value, traceback \u001b[38;5;241m=\u001b[39m sys\u001b[38;5;241m.\u001b[39mexc_info()\n",
      "File \u001b[0;32m~/.conda/envs/most_pymc/lib/python3.12/site-packages/pyro/nn/module.py:520\u001b[0m, in \u001b[0;36mPyroModule.__call__\u001b[0;34m(self, *args, **kwargs)\u001b[0m\n\u001b[1;32m    518\u001b[0m \u001b[38;5;28;01mdef\u001b[39;00m \u001b[38;5;21m__call__\u001b[39m(\u001b[38;5;28mself\u001b[39m, \u001b[38;5;241m*\u001b[39margs: Any, \u001b[38;5;241m*\u001b[39m\u001b[38;5;241m*\u001b[39mkwargs: Any) \u001b[38;5;241m-\u001b[39m\u001b[38;5;241m>\u001b[39m Any:\n\u001b[1;32m    519\u001b[0m     \u001b[38;5;28;01mwith\u001b[39;00m \u001b[38;5;28mself\u001b[39m\u001b[38;5;241m.\u001b[39m_pyro_context:\n\u001b[0;32m--> 520\u001b[0m         result \u001b[38;5;241m=\u001b[39m \u001b[38;5;28;43msuper\u001b[39;49m\u001b[43m(\u001b[49m\u001b[43m)\u001b[49m\u001b[38;5;241;43m.\u001b[39;49m\u001b[38;5;21;43m__call__\u001b[39;49m\u001b[43m(\u001b[49m\u001b[38;5;241;43m*\u001b[39;49m\u001b[43margs\u001b[49m\u001b[43m,\u001b[49m\u001b[43m \u001b[49m\u001b[38;5;241;43m*\u001b[39;49m\u001b[38;5;241;43m*\u001b[39;49m\u001b[43mkwargs\u001b[49m\u001b[43m)\u001b[49m\n\u001b[1;32m    521\u001b[0m     \u001b[38;5;28;01mif\u001b[39;00m (\n\u001b[1;32m    522\u001b[0m         pyro\u001b[38;5;241m.\u001b[39msettings\u001b[38;5;241m.\u001b[39mget(\u001b[38;5;124m\"\u001b[39m\u001b[38;5;124mvalidate_poutine\u001b[39m\u001b[38;5;124m\"\u001b[39m)\n\u001b[1;32m    523\u001b[0m         \u001b[38;5;129;01mand\u001b[39;00m \u001b[38;5;129;01mnot\u001b[39;00m \u001b[38;5;28mself\u001b[39m\u001b[38;5;241m.\u001b[39m_pyro_context\u001b[38;5;241m.\u001b[39mactive\n\u001b[1;32m    524\u001b[0m         \u001b[38;5;129;01mand\u001b[39;00m _is_module_local_param_enabled()\n\u001b[1;32m    525\u001b[0m     ):\n\u001b[1;32m    526\u001b[0m         \u001b[38;5;28mself\u001b[39m\u001b[38;5;241m.\u001b[39m_check_module_local_param_usage()\n",
      "File \u001b[0;32m~/.conda/envs/most_pymc/lib/python3.12/site-packages/torch/nn/modules/module.py:1736\u001b[0m, in \u001b[0;36mModule._wrapped_call_impl\u001b[0;34m(self, *args, **kwargs)\u001b[0m\n\u001b[1;32m   1734\u001b[0m     \u001b[38;5;28;01mreturn\u001b[39;00m \u001b[38;5;28mself\u001b[39m\u001b[38;5;241m.\u001b[39m_compiled_call_impl(\u001b[38;5;241m*\u001b[39margs, \u001b[38;5;241m*\u001b[39m\u001b[38;5;241m*\u001b[39mkwargs)  \u001b[38;5;66;03m# type: ignore[misc]\u001b[39;00m\n\u001b[1;32m   1735\u001b[0m \u001b[38;5;28;01melse\u001b[39;00m:\n\u001b[0;32m-> 1736\u001b[0m     \u001b[38;5;28;01mreturn\u001b[39;00m \u001b[38;5;28;43mself\u001b[39;49m\u001b[38;5;241;43m.\u001b[39;49m\u001b[43m_call_impl\u001b[49m\u001b[43m(\u001b[49m\u001b[38;5;241;43m*\u001b[39;49m\u001b[43margs\u001b[49m\u001b[43m,\u001b[49m\u001b[43m \u001b[49m\u001b[38;5;241;43m*\u001b[39;49m\u001b[38;5;241;43m*\u001b[39;49m\u001b[43mkwargs\u001b[49m\u001b[43m)\u001b[49m\n",
      "File \u001b[0;32m~/.conda/envs/most_pymc/lib/python3.12/site-packages/torch/nn/modules/module.py:1747\u001b[0m, in \u001b[0;36mModule._call_impl\u001b[0;34m(self, *args, **kwargs)\u001b[0m\n\u001b[1;32m   1742\u001b[0m \u001b[38;5;66;03m# If we don't have any hooks, we want to skip the rest of the logic in\u001b[39;00m\n\u001b[1;32m   1743\u001b[0m \u001b[38;5;66;03m# this function, and just call forward.\u001b[39;00m\n\u001b[1;32m   1744\u001b[0m \u001b[38;5;28;01mif\u001b[39;00m \u001b[38;5;129;01mnot\u001b[39;00m (\u001b[38;5;28mself\u001b[39m\u001b[38;5;241m.\u001b[39m_backward_hooks \u001b[38;5;129;01mor\u001b[39;00m \u001b[38;5;28mself\u001b[39m\u001b[38;5;241m.\u001b[39m_backward_pre_hooks \u001b[38;5;129;01mor\u001b[39;00m \u001b[38;5;28mself\u001b[39m\u001b[38;5;241m.\u001b[39m_forward_hooks \u001b[38;5;129;01mor\u001b[39;00m \u001b[38;5;28mself\u001b[39m\u001b[38;5;241m.\u001b[39m_forward_pre_hooks\n\u001b[1;32m   1745\u001b[0m         \u001b[38;5;129;01mor\u001b[39;00m _global_backward_pre_hooks \u001b[38;5;129;01mor\u001b[39;00m _global_backward_hooks\n\u001b[1;32m   1746\u001b[0m         \u001b[38;5;129;01mor\u001b[39;00m _global_forward_hooks \u001b[38;5;129;01mor\u001b[39;00m _global_forward_pre_hooks):\n\u001b[0;32m-> 1747\u001b[0m     \u001b[38;5;28;01mreturn\u001b[39;00m \u001b[43mforward_call\u001b[49m\u001b[43m(\u001b[49m\u001b[38;5;241;43m*\u001b[39;49m\u001b[43margs\u001b[49m\u001b[43m,\u001b[49m\u001b[43m \u001b[49m\u001b[38;5;241;43m*\u001b[39;49m\u001b[38;5;241;43m*\u001b[39;49m\u001b[43mkwargs\u001b[49m\u001b[43m)\u001b[49m\n\u001b[1;32m   1749\u001b[0m result \u001b[38;5;241m=\u001b[39m \u001b[38;5;28;01mNone\u001b[39;00m\n\u001b[1;32m   1750\u001b[0m called_always_called_hooks \u001b[38;5;241m=\u001b[39m \u001b[38;5;28mset\u001b[39m()\n",
      "File \u001b[0;32m~/.conda/envs/most_pymc/lib/python3.12/site-packages/pyro/infer/autoguide/guides.py:525\u001b[0m, in \u001b[0;36mAutoNormal.forward\u001b[0;34m(self, *args, **kwargs)\u001b[0m\n\u001b[1;32m    520\u001b[0m         stack\u001b[38;5;241m.\u001b[39menter_context(plates[frame\u001b[38;5;241m.\u001b[39mname])\n\u001b[1;32m    522\u001b[0m site_loc, site_scale \u001b[38;5;241m=\u001b[39m \u001b[38;5;28mself\u001b[39m\u001b[38;5;241m.\u001b[39m_get_loc_and_scale(name)\n\u001b[1;32m    523\u001b[0m unconstrained_latent \u001b[38;5;241m=\u001b[39m pyro\u001b[38;5;241m.\u001b[39msample(\n\u001b[1;32m    524\u001b[0m     name \u001b[38;5;241m+\u001b[39m \u001b[38;5;124m\"\u001b[39m\u001b[38;5;124m_unconstrained\u001b[39m\u001b[38;5;124m\"\u001b[39m,\n\u001b[0;32m--> 525\u001b[0m     \u001b[43mdist\u001b[49m\u001b[38;5;241;43m.\u001b[39;49m\u001b[43mNormal\u001b[49m\u001b[43m(\u001b[49m\n\u001b[1;32m    526\u001b[0m \u001b[43m        \u001b[49m\u001b[43msite_loc\u001b[49m\u001b[43m,\u001b[49m\n\u001b[1;32m    527\u001b[0m \u001b[43m        \u001b[49m\u001b[43msite_scale\u001b[49m\u001b[43m,\u001b[49m\n\u001b[1;32m    528\u001b[0m \u001b[43m    \u001b[49m\u001b[43m)\u001b[49m\u001b[38;5;241m.\u001b[39mto_event(\u001b[38;5;28mself\u001b[39m\u001b[38;5;241m.\u001b[39m_event_dims[name]),\n\u001b[1;32m    529\u001b[0m     infer\u001b[38;5;241m=\u001b[39m{\u001b[38;5;124m\"\u001b[39m\u001b[38;5;124mis_auxiliary\u001b[39m\u001b[38;5;124m\"\u001b[39m: \u001b[38;5;28;01mTrue\u001b[39;00m},\n\u001b[1;32m    530\u001b[0m )\n\u001b[1;32m    532\u001b[0m value \u001b[38;5;241m=\u001b[39m transform(unconstrained_latent)\n\u001b[1;32m    533\u001b[0m \u001b[38;5;28;01mif\u001b[39;00m poutine\u001b[38;5;241m.\u001b[39mget_mask() \u001b[38;5;129;01mis\u001b[39;00m \u001b[38;5;28;01mFalse\u001b[39;00m:\n",
      "File \u001b[0;32m~/.conda/envs/most_pymc/lib/python3.12/site-packages/pyro/distributions/distribution.py:26\u001b[0m, in \u001b[0;36mDistributionMeta.__call__\u001b[0;34m(cls, *args, **kwargs)\u001b[0m\n\u001b[1;32m     24\u001b[0m     \u001b[38;5;28;01mif\u001b[39;00m result \u001b[38;5;129;01mis\u001b[39;00m \u001b[38;5;129;01mnot\u001b[39;00m \u001b[38;5;28;01mNone\u001b[39;00m:\n\u001b[1;32m     25\u001b[0m         \u001b[38;5;28;01mreturn\u001b[39;00m result\n\u001b[0;32m---> 26\u001b[0m \u001b[38;5;28;01mreturn\u001b[39;00m \u001b[38;5;28;43msuper\u001b[39;49m\u001b[43m(\u001b[49m\u001b[43m)\u001b[49m\u001b[38;5;241;43m.\u001b[39;49m\u001b[38;5;21;43m__call__\u001b[39;49m\u001b[43m(\u001b[49m\u001b[38;5;241;43m*\u001b[39;49m\u001b[43margs\u001b[49m\u001b[43m,\u001b[49m\u001b[43m \u001b[49m\u001b[38;5;241;43m*\u001b[39;49m\u001b[38;5;241;43m*\u001b[39;49m\u001b[43mkwargs\u001b[49m\u001b[43m)\u001b[49m\n",
      "File \u001b[0;32m~/.conda/envs/most_pymc/lib/python3.12/site-packages/torch/distributions/normal.py:59\u001b[0m, in \u001b[0;36mNormal.__init__\u001b[0;34m(self, loc, scale, validate_args)\u001b[0m\n\u001b[1;32m     57\u001b[0m \u001b[38;5;28;01melse\u001b[39;00m:\n\u001b[1;32m     58\u001b[0m     batch_shape \u001b[38;5;241m=\u001b[39m \u001b[38;5;28mself\u001b[39m\u001b[38;5;241m.\u001b[39mloc\u001b[38;5;241m.\u001b[39msize()\n\u001b[0;32m---> 59\u001b[0m \u001b[38;5;28;43msuper\u001b[39;49m\u001b[43m(\u001b[49m\u001b[43m)\u001b[49m\u001b[38;5;241;43m.\u001b[39;49m\u001b[38;5;21;43m__init__\u001b[39;49m\u001b[43m(\u001b[49m\u001b[43mbatch_shape\u001b[49m\u001b[43m,\u001b[49m\u001b[43m \u001b[49m\u001b[43mvalidate_args\u001b[49m\u001b[38;5;241;43m=\u001b[39;49m\u001b[43mvalidate_args\u001b[49m\u001b[43m)\u001b[49m\n",
      "File \u001b[0;32m~/.conda/envs/most_pymc/lib/python3.12/site-packages/torch/distributions/distribution.py:71\u001b[0m, in \u001b[0;36mDistribution.__init__\u001b[0;34m(self, batch_shape, event_shape, validate_args)\u001b[0m\n\u001b[1;32m     69\u001b[0m         valid \u001b[38;5;241m=\u001b[39m constraint\u001b[38;5;241m.\u001b[39mcheck(value)\n\u001b[1;32m     70\u001b[0m         \u001b[38;5;28;01mif\u001b[39;00m \u001b[38;5;129;01mnot\u001b[39;00m valid\u001b[38;5;241m.\u001b[39mall():\n\u001b[0;32m---> 71\u001b[0m             \u001b[38;5;28;01mraise\u001b[39;00m \u001b[38;5;167;01mValueError\u001b[39;00m(\n\u001b[1;32m     72\u001b[0m                 \u001b[38;5;124mf\u001b[39m\u001b[38;5;124m\"\u001b[39m\u001b[38;5;124mExpected parameter \u001b[39m\u001b[38;5;132;01m{\u001b[39;00mparam\u001b[38;5;132;01m}\u001b[39;00m\u001b[38;5;124m \u001b[39m\u001b[38;5;124m\"\u001b[39m\n\u001b[1;32m     73\u001b[0m                 \u001b[38;5;124mf\u001b[39m\u001b[38;5;124m\"\u001b[39m\u001b[38;5;124m(\u001b[39m\u001b[38;5;132;01m{\u001b[39;00m\u001b[38;5;28mtype\u001b[39m(value)\u001b[38;5;241m.\u001b[39m\u001b[38;5;18m__name__\u001b[39m\u001b[38;5;132;01m}\u001b[39;00m\u001b[38;5;124m of shape \u001b[39m\u001b[38;5;132;01m{\u001b[39;00m\u001b[38;5;28mtuple\u001b[39m(value\u001b[38;5;241m.\u001b[39mshape)\u001b[38;5;132;01m}\u001b[39;00m\u001b[38;5;124m) \u001b[39m\u001b[38;5;124m\"\u001b[39m\n\u001b[1;32m     74\u001b[0m                 \u001b[38;5;124mf\u001b[39m\u001b[38;5;124m\"\u001b[39m\u001b[38;5;124mof distribution \u001b[39m\u001b[38;5;132;01m{\u001b[39;00m\u001b[38;5;28mrepr\u001b[39m(\u001b[38;5;28mself\u001b[39m)\u001b[38;5;132;01m}\u001b[39;00m\u001b[38;5;124m \u001b[39m\u001b[38;5;124m\"\u001b[39m\n\u001b[1;32m     75\u001b[0m                 \u001b[38;5;124mf\u001b[39m\u001b[38;5;124m\"\u001b[39m\u001b[38;5;124mto satisfy the constraint \u001b[39m\u001b[38;5;132;01m{\u001b[39;00m\u001b[38;5;28mrepr\u001b[39m(constraint)\u001b[38;5;132;01m}\u001b[39;00m\u001b[38;5;124m, \u001b[39m\u001b[38;5;124m\"\u001b[39m\n\u001b[1;32m     76\u001b[0m                 \u001b[38;5;124mf\u001b[39m\u001b[38;5;124m\"\u001b[39m\u001b[38;5;124mbut found invalid values:\u001b[39m\u001b[38;5;130;01m\\n\u001b[39;00m\u001b[38;5;132;01m{\u001b[39;00mvalue\u001b[38;5;132;01m}\u001b[39;00m\u001b[38;5;124m\"\u001b[39m\n\u001b[1;32m     77\u001b[0m             )\n\u001b[1;32m     78\u001b[0m \u001b[38;5;28msuper\u001b[39m()\u001b[38;5;241m.\u001b[39m\u001b[38;5;21m__init__\u001b[39m()\n",
      "\u001b[0;31mValueError\u001b[0m: Expected parameter loc (Parameter of shape ()) of distribution Normal(loc: Parameter containing:\ntensor(nan, requires_grad=True), scale: nan) to satisfy the constraint Real(), but found invalid values:\nParameter containing:\ntensor(nan, requires_grad=True)\n                   Trace Shapes:        \n                    Param Sites:        \n  AutoNormal.locs.home_advantage        \nAutoNormal.scales.home_advantage        \n                   Sample Sites:        \n                       data dist       |\n                           value 69356 |"
     ]
    }
   ],
   "source": [
    "%%time\n",
    "pyro.clear_param_store()\n",
    "\n",
    "# These should be reset each training loop.\n",
    "auto_guide = pyro.infer.autoguide.AutoNormal(model)\n",
    "adam = pyro.optim.Adam({\"lr\": 0.02})  # Consider decreasing learning rate.\n",
    "elbo = pyro.infer.Trace_ELBO()\n",
    "svi = pyro.infer.SVI(model, auto_guide, adam, elbo)\n",
    "\n",
    "losses = []\n",
    "for step in range(1000):  # Consider running for more steps.\n",
    "    loss = svi.step(home, elo_diff, minutes_missed, goal_home, goal_away)\n",
    "    losses.append(loss)\n",
    "    if step % 100 == 0:\n",
    "        print(\"Elbo loss: {}\".format(loss))\n",
    "\n",
    "plt.figure(figsize=(5, 2))\n",
    "plt.plot(losses)\n",
    "plt.xlabel(\"SVI step\")\n",
    "plt.ylabel(\"ELBO loss\");"
   ]
  },
  {
   "cell_type": "code",
   "execution_count": null,
   "metadata": {},
   "outputs": [],
   "source": [
    "predictive = pyro.infer.Predictive(model, guide=auto_guide, num_samples=800)\n",
    "svi_samples = predictive(home, elo_diff, minutes_missed,  goal_diff=None)\n",
    "svi_goal_diff = svi_samples[\"obs\"]"
   ]
  },
  {
   "cell_type": "code",
   "execution_count": 26,
   "metadata": {},
   "outputs": [
    {
     "data": {
      "image/png": "[encoded data removed]",
      "text/plain": [
       "<Figure size 1200x600 with 2 Axes>"
      ]
     },
     "metadata": {},
     "output_type": "display_data"
    }
   ],
   "source": [
    "predictions = pd.DataFrame({\n",
    "    \"home\": home,\n",
    "    \"elo_diff\": elo_diff,\n",
    "    \"minutes_missed\": minutes_missed, \n",
    "    \"y_mean\": svi_goal_diff.mean(0).detach().cpu().numpy(),\n",
    "    \"y_perc_5\": svi_goal_diff.kthvalue(int(len(svi_goal_diff) * 0.2), dim=0)[0].detach().cpu().numpy(),\n",
    "    \"y_perc_95\": svi_goal_diff.kthvalue(int(len(svi_goal_diff) * 0.8), dim=0)[0].detach().cpu().numpy(),\n",
    "    \"goal_diff\": goal_diff,\n",
    "})\n",
    "\n",
    "predictions = predictions.sample(100)\n",
    "\n",
    "home_teams = predictions[predictions[\"home\"] == 1].sort_values(by=[\"elo_diff\"])\n",
    "away_teams = predictions[predictions[\"home\"] == 0].sort_values(by=[\"elo_diff\"])\n",
    "\n",
    "fig, ax = plt.subplots(nrows=1, ncols=2, figsize=(12, 6), sharey=True)\n",
    "fig.suptitle(\"Posterior predictive distribution with 80% CI\", fontsize=16)\n",
    "\n",
    "ax[0].plot(away_teams[\"elo_diff\"], away_teams[\"y_mean\"])\n",
    "ax[0].fill_between(away_teams[\"elo_diff\"], away_teams[\"y_perc_5\"], away_teams[\"y_perc_95\"], alpha=0.5)\n",
    "ax[0].plot(away_teams[\"elo_diff\"], away_teams[\"goal_diff\"], \"o\")\n",
    "ax[0].set(xlabel=\"Elo Diff\", ylabel=\"Goal Diff\", title=\"Away\")\n",
    "\n",
    "ax[1].plot(home_teams[\"elo_diff\"], home_teams[\"y_mean\"])\n",
    "ax[1].fill_between(home_teams[\"elo_diff\"], home_teams[\"y_perc_5\"], home_teams[\"y_perc_95\"], alpha=0.5)\n",
    "ax[1].plot(home_teams[\"elo_diff\"], home_teams[\"goal_diff\"], \"o\")\n",
    "ax[1].set(xlabel=\"Elo Diff\", ylabel=\"Goal Diff\", title=\"Home\");"
   ]
  },
  {
   "cell_type": "code",
   "execution_count": null,
   "metadata": {},
   "outputs": [],
   "source": []
  },
  {
   "cell_type": "code",
   "execution_count": 18,
   "metadata": {},
   "outputs": [
    {
     "data": {
      "text/plain": [
       "0.3811707658117415"
      ]
     },
     "execution_count": 18,
     "metadata": {},
     "output_type": "execute_result"
    }
   ],
   "source": [
    "# (is_home * home_advantage) + (elo_diff * elo_diff_coeff) - (minutes_missed * minutes_missed_coeff))\n",
    "home_test = 0\n",
    "elo_diff_test = 70 / elo_std\n",
    "minutes_missed_test = 45 / minutes_missed_std\n",
    "\n",
    "(home_test * trace.posterior.home_advantage.values[0][0] + elo_diff_test * trace.posterior.elo_diff_coeff.values[0][0]) * abs(1 -  minutes_missed_test * trace.posterior.minutes_missed_coeff.values[0][0])"
   ]
  },
  {
   "cell_type": "code",
   "execution_count": 19,
   "metadata": {},
   "outputs": [
    {
     "data": {
      "text/plain": [
       "'/home/morten/Develop/packing-report/metrics/mov_elo/mov_elo.nc'"
      ]
     },
     "execution_count": 19,
     "metadata": {},
     "output_type": "execute_result"
    }
   ],
   "source": [
    "trace.to_netcdf(\"/home/morten/Develop/packing-report/metrics/mov_elo/mov_elo.nc\")"
   ]
  },
  {
   "cell_type": "code",
   "execution_count": null,
   "metadata": {},
   "outputs": [],
   "source": []
  }
 ],
 "metadata": {
  "kernelspec": {
   "display_name": "most_pymc",
   "language": "python",
   "name": "python3"
  },
  "language_info": {
   "codemirror_mode": {
    "name": "ipython",
    "version": 3
   },
   "file_extension": ".py",
   "mimetype": "text/x-python",
   "name": "python",
   "nbconvert_exporter": "python",
   "pygments_lexer": "ipython3",
   "version": "3.12.6"
  }
 },
 "nbformat": 4,
 "nbformat_minor": 2
}
